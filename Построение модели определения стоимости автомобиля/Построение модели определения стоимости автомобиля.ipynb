{
 "cells": [
  {
   "cell_type": "markdown",
   "metadata": {},
   "source": [
    "# Определение стоимости автомобилей"
   ]
  },
  {
   "cell_type": "markdown",
   "metadata": {},
   "source": [
    "**Задача:**<br>\n",
    "Построить модель для определения рыночной стоимости автомобиля по следующим известным характеристикам:\n",
    "- Марка автомобиля<br>\n",
    "- Модель автомобиля<br>\n",
    "- Год регистрации автомобиля<br>\n",
    "- Тип коробки передач<br>\n",
    "- Мощность (л. с.)<br>\n",
    "- Пробег (км)<br>\n",
    "- Тип топлива<br>\n",
    "- Была машина в ремонте или нет<br>\n",
    "\n",
    "**Дано:**<br>\n",
    "Исторические данные: технические характеристики, комплектации и цены автомобилей.\n",
    "\n",
    "**Ход работы:**<br>\n",
    "1. Провести анализ данных\n",
    "2. Подготовить данные для обучения моделей\n",
    "3. Обучить несколько моделей и сравнить их хаарктеристики:\n",
    "    - Качество предсказания\n",
    "    - Скорость предсказания\n",
    "    - Время обучения"
   ]
  },
  {
   "cell_type": "markdown",
   "metadata": {},
   "source": [
    "## Подготовка данных"
   ]
  },
  {
   "cell_type": "code",
   "execution_count": 3,
   "metadata": {},
   "outputs": [],
   "source": [
    "#Импортируем библиотеки и модули\n",
    "import pandas as pd\n",
    "import numpy as np\n",
    "import matplotlib.pyplot as plt\n",
    "import seaborn as sns\n",
    "\n",
    "from sklearn.model_selection import (\n",
    "    GridSearchCV, \n",
    "    RandomizedSearchCV,\n",
    "    train_test_split,\n",
    "    cross_val_score\n",
    ")\n",
    "\n",
    "from sklearn.preprocessing import (\n",
    "    OneHotEncoder,\n",
    "    OrdinalEncoder,\n",
    "    StandardScaler\n",
    ")\n",
    "\n",
    "from sklearn.linear_model import LinearRegression\n",
    "from sklearn.linear_model import Ridge\n",
    "from sklearn.ensemble import RandomForestRegressor\n",
    "from sklearn.metrics import mean_squared_error\n",
    "\n",
    "from lightgbm import LGBMRegressor\n",
    "from catboost import CatBoostRegressor\n",
    "\n",
    "import warnings\n",
    "warnings.filterwarnings('ignore')"
   ]
  },
  {
   "cell_type": "code",
   "execution_count": 4,
   "metadata": {},
   "outputs": [],
   "source": [
    "#Загружаем датафрейм\n",
    "df = pd.read_csv('/datasets/autos.csv')"
   ]
  },
  {
   "cell_type": "code",
   "execution_count": 5,
   "metadata": {},
   "outputs": [
    {
     "data": {
      "text/html": [
       "<div>\n",
       "<style scoped>\n",
       "    .dataframe tbody tr th:only-of-type {\n",
       "        vertical-align: middle;\n",
       "    }\n",
       "\n",
       "    .dataframe tbody tr th {\n",
       "        vertical-align: top;\n",
       "    }\n",
       "\n",
       "    .dataframe thead th {\n",
       "        text-align: right;\n",
       "    }\n",
       "</style>\n",
       "<table border=\"1\" class=\"dataframe\">\n",
       "  <thead>\n",
       "    <tr style=\"text-align: right;\">\n",
       "      <th></th>\n",
       "      <th>DateCrawled</th>\n",
       "      <th>Price</th>\n",
       "      <th>VehicleType</th>\n",
       "      <th>RegistrationYear</th>\n",
       "      <th>Gearbox</th>\n",
       "      <th>Power</th>\n",
       "      <th>Model</th>\n",
       "      <th>Kilometer</th>\n",
       "      <th>RegistrationMonth</th>\n",
       "      <th>FuelType</th>\n",
       "      <th>Brand</th>\n",
       "      <th>Repaired</th>\n",
       "      <th>DateCreated</th>\n",
       "      <th>NumberOfPictures</th>\n",
       "      <th>PostalCode</th>\n",
       "      <th>LastSeen</th>\n",
       "    </tr>\n",
       "  </thead>\n",
       "  <tbody>\n",
       "    <tr>\n",
       "      <th>0</th>\n",
       "      <td>2016-03-24 11:52:17</td>\n",
       "      <td>480</td>\n",
       "      <td>NaN</td>\n",
       "      <td>1993</td>\n",
       "      <td>manual</td>\n",
       "      <td>0</td>\n",
       "      <td>golf</td>\n",
       "      <td>150000</td>\n",
       "      <td>0</td>\n",
       "      <td>petrol</td>\n",
       "      <td>volkswagen</td>\n",
       "      <td>NaN</td>\n",
       "      <td>2016-03-24 00:00:00</td>\n",
       "      <td>0</td>\n",
       "      <td>70435</td>\n",
       "      <td>2016-04-07 03:16:57</td>\n",
       "    </tr>\n",
       "    <tr>\n",
       "      <th>1</th>\n",
       "      <td>2016-03-24 10:58:45</td>\n",
       "      <td>18300</td>\n",
       "      <td>coupe</td>\n",
       "      <td>2011</td>\n",
       "      <td>manual</td>\n",
       "      <td>190</td>\n",
       "      <td>NaN</td>\n",
       "      <td>125000</td>\n",
       "      <td>5</td>\n",
       "      <td>gasoline</td>\n",
       "      <td>audi</td>\n",
       "      <td>yes</td>\n",
       "      <td>2016-03-24 00:00:00</td>\n",
       "      <td>0</td>\n",
       "      <td>66954</td>\n",
       "      <td>2016-04-07 01:46:50</td>\n",
       "    </tr>\n",
       "    <tr>\n",
       "      <th>2</th>\n",
       "      <td>2016-03-14 12:52:21</td>\n",
       "      <td>9800</td>\n",
       "      <td>suv</td>\n",
       "      <td>2004</td>\n",
       "      <td>auto</td>\n",
       "      <td>163</td>\n",
       "      <td>grand</td>\n",
       "      <td>125000</td>\n",
       "      <td>8</td>\n",
       "      <td>gasoline</td>\n",
       "      <td>jeep</td>\n",
       "      <td>NaN</td>\n",
       "      <td>2016-03-14 00:00:00</td>\n",
       "      <td>0</td>\n",
       "      <td>90480</td>\n",
       "      <td>2016-04-05 12:47:46</td>\n",
       "    </tr>\n",
       "    <tr>\n",
       "      <th>3</th>\n",
       "      <td>2016-03-17 16:54:04</td>\n",
       "      <td>1500</td>\n",
       "      <td>small</td>\n",
       "      <td>2001</td>\n",
       "      <td>manual</td>\n",
       "      <td>75</td>\n",
       "      <td>golf</td>\n",
       "      <td>150000</td>\n",
       "      <td>6</td>\n",
       "      <td>petrol</td>\n",
       "      <td>volkswagen</td>\n",
       "      <td>no</td>\n",
       "      <td>2016-03-17 00:00:00</td>\n",
       "      <td>0</td>\n",
       "      <td>91074</td>\n",
       "      <td>2016-03-17 17:40:17</td>\n",
       "    </tr>\n",
       "    <tr>\n",
       "      <th>4</th>\n",
       "      <td>2016-03-31 17:25:20</td>\n",
       "      <td>3600</td>\n",
       "      <td>small</td>\n",
       "      <td>2008</td>\n",
       "      <td>manual</td>\n",
       "      <td>69</td>\n",
       "      <td>fabia</td>\n",
       "      <td>90000</td>\n",
       "      <td>7</td>\n",
       "      <td>gasoline</td>\n",
       "      <td>skoda</td>\n",
       "      <td>no</td>\n",
       "      <td>2016-03-31 00:00:00</td>\n",
       "      <td>0</td>\n",
       "      <td>60437</td>\n",
       "      <td>2016-04-06 10:17:21</td>\n",
       "    </tr>\n",
       "    <tr>\n",
       "      <th>5</th>\n",
       "      <td>2016-04-04 17:36:23</td>\n",
       "      <td>650</td>\n",
       "      <td>sedan</td>\n",
       "      <td>1995</td>\n",
       "      <td>manual</td>\n",
       "      <td>102</td>\n",
       "      <td>3er</td>\n",
       "      <td>150000</td>\n",
       "      <td>10</td>\n",
       "      <td>petrol</td>\n",
       "      <td>bmw</td>\n",
       "      <td>yes</td>\n",
       "      <td>2016-04-04 00:00:00</td>\n",
       "      <td>0</td>\n",
       "      <td>33775</td>\n",
       "      <td>2016-04-06 19:17:07</td>\n",
       "    </tr>\n",
       "    <tr>\n",
       "      <th>6</th>\n",
       "      <td>2016-04-01 20:48:51</td>\n",
       "      <td>2200</td>\n",
       "      <td>convertible</td>\n",
       "      <td>2004</td>\n",
       "      <td>manual</td>\n",
       "      <td>109</td>\n",
       "      <td>2_reihe</td>\n",
       "      <td>150000</td>\n",
       "      <td>8</td>\n",
       "      <td>petrol</td>\n",
       "      <td>peugeot</td>\n",
       "      <td>no</td>\n",
       "      <td>2016-04-01 00:00:00</td>\n",
       "      <td>0</td>\n",
       "      <td>67112</td>\n",
       "      <td>2016-04-05 18:18:39</td>\n",
       "    </tr>\n",
       "    <tr>\n",
       "      <th>7</th>\n",
       "      <td>2016-03-21 18:54:38</td>\n",
       "      <td>0</td>\n",
       "      <td>sedan</td>\n",
       "      <td>1980</td>\n",
       "      <td>manual</td>\n",
       "      <td>50</td>\n",
       "      <td>other</td>\n",
       "      <td>40000</td>\n",
       "      <td>7</td>\n",
       "      <td>petrol</td>\n",
       "      <td>volkswagen</td>\n",
       "      <td>no</td>\n",
       "      <td>2016-03-21 00:00:00</td>\n",
       "      <td>0</td>\n",
       "      <td>19348</td>\n",
       "      <td>2016-03-25 16:47:58</td>\n",
       "    </tr>\n",
       "    <tr>\n",
       "      <th>8</th>\n",
       "      <td>2016-04-04 23:42:13</td>\n",
       "      <td>14500</td>\n",
       "      <td>bus</td>\n",
       "      <td>2014</td>\n",
       "      <td>manual</td>\n",
       "      <td>125</td>\n",
       "      <td>c_max</td>\n",
       "      <td>30000</td>\n",
       "      <td>8</td>\n",
       "      <td>petrol</td>\n",
       "      <td>ford</td>\n",
       "      <td>NaN</td>\n",
       "      <td>2016-04-04 00:00:00</td>\n",
       "      <td>0</td>\n",
       "      <td>94505</td>\n",
       "      <td>2016-04-04 23:42:13</td>\n",
       "    </tr>\n",
       "    <tr>\n",
       "      <th>9</th>\n",
       "      <td>2016-03-17 10:53:50</td>\n",
       "      <td>999</td>\n",
       "      <td>small</td>\n",
       "      <td>1998</td>\n",
       "      <td>manual</td>\n",
       "      <td>101</td>\n",
       "      <td>golf</td>\n",
       "      <td>150000</td>\n",
       "      <td>0</td>\n",
       "      <td>NaN</td>\n",
       "      <td>volkswagen</td>\n",
       "      <td>NaN</td>\n",
       "      <td>2016-03-17 00:00:00</td>\n",
       "      <td>0</td>\n",
       "      <td>27472</td>\n",
       "      <td>2016-03-31 17:17:06</td>\n",
       "    </tr>\n",
       "  </tbody>\n",
       "</table>\n",
       "</div>"
      ],
      "text/plain": [
       "           DateCrawled  Price  VehicleType  RegistrationYear Gearbox  Power  \\\n",
       "0  2016-03-24 11:52:17    480          NaN              1993  manual      0   \n",
       "1  2016-03-24 10:58:45  18300        coupe              2011  manual    190   \n",
       "2  2016-03-14 12:52:21   9800          suv              2004    auto    163   \n",
       "3  2016-03-17 16:54:04   1500        small              2001  manual     75   \n",
       "4  2016-03-31 17:25:20   3600        small              2008  manual     69   \n",
       "5  2016-04-04 17:36:23    650        sedan              1995  manual    102   \n",
       "6  2016-04-01 20:48:51   2200  convertible              2004  manual    109   \n",
       "7  2016-03-21 18:54:38      0        sedan              1980  manual     50   \n",
       "8  2016-04-04 23:42:13  14500          bus              2014  manual    125   \n",
       "9  2016-03-17 10:53:50    999        small              1998  manual    101   \n",
       "\n",
       "     Model  Kilometer  RegistrationMonth  FuelType       Brand Repaired  \\\n",
       "0     golf     150000                  0    petrol  volkswagen      NaN   \n",
       "1      NaN     125000                  5  gasoline        audi      yes   \n",
       "2    grand     125000                  8  gasoline        jeep      NaN   \n",
       "3     golf     150000                  6    petrol  volkswagen       no   \n",
       "4    fabia      90000                  7  gasoline       skoda       no   \n",
       "5      3er     150000                 10    petrol         bmw      yes   \n",
       "6  2_reihe     150000                  8    petrol     peugeot       no   \n",
       "7    other      40000                  7    petrol  volkswagen       no   \n",
       "8    c_max      30000                  8    petrol        ford      NaN   \n",
       "9     golf     150000                  0       NaN  volkswagen      NaN   \n",
       "\n",
       "           DateCreated  NumberOfPictures  PostalCode             LastSeen  \n",
       "0  2016-03-24 00:00:00                 0       70435  2016-04-07 03:16:57  \n",
       "1  2016-03-24 00:00:00                 0       66954  2016-04-07 01:46:50  \n",
       "2  2016-03-14 00:00:00                 0       90480  2016-04-05 12:47:46  \n",
       "3  2016-03-17 00:00:00                 0       91074  2016-03-17 17:40:17  \n",
       "4  2016-03-31 00:00:00                 0       60437  2016-04-06 10:17:21  \n",
       "5  2016-04-04 00:00:00                 0       33775  2016-04-06 19:17:07  \n",
       "6  2016-04-01 00:00:00                 0       67112  2016-04-05 18:18:39  \n",
       "7  2016-03-21 00:00:00                 0       19348  2016-03-25 16:47:58  \n",
       "8  2016-04-04 00:00:00                 0       94505  2016-04-04 23:42:13  \n",
       "9  2016-03-17 00:00:00                 0       27472  2016-03-31 17:17:06  "
      ]
     },
     "execution_count": 5,
     "metadata": {},
     "output_type": "execute_result"
    }
   ],
   "source": [
    "df.head(10)"
   ]
  },
  {
   "cell_type": "code",
   "execution_count": 6,
   "metadata": {},
   "outputs": [
    {
     "data": {
      "image/png": "[encoded data removed]",
      "text/plain": [
       "<Figure size 720x720 with 9 Axes>"
      ]
     },
     "metadata": {
      "needs_background": "light"
     },
     "output_type": "display_data"
    }
   ],
   "source": [
    "#Строим гистограммы столбцов\n",
    "df.hist(figsize=(10, 10));"
   ]
  },
  {
   "cell_type": "code",
   "execution_count": 7,
   "metadata": {},
   "outputs": [
    {
     "name": "stdout",
     "output_type": "stream",
     "text": [
      "<class 'pandas.core.frame.DataFrame'>\n",
      "RangeIndex: 354369 entries, 0 to 354368\n",
      "Data columns (total 16 columns):\n",
      " #   Column             Non-Null Count   Dtype \n",
      "---  ------             --------------   ----- \n",
      " 0   DateCrawled        354369 non-null  object\n",
      " 1   Price              354369 non-null  int64 \n",
      " 2   VehicleType        316879 non-null  object\n",
      " 3   RegistrationYear   354369 non-null  int64 \n",
      " 4   Gearbox            334536 non-null  object\n",
      " 5   Power              354369 non-null  int64 \n",
      " 6   Model              334664 non-null  object\n",
      " 7   Kilometer          354369 non-null  int64 \n",
      " 8   RegistrationMonth  354369 non-null  int64 \n",
      " 9   FuelType           321474 non-null  object\n",
      " 10  Brand              354369 non-null  object\n",
      " 11  Repaired           283215 non-null  object\n",
      " 12  DateCreated        354369 non-null  object\n",
      " 13  NumberOfPictures   354369 non-null  int64 \n",
      " 14  PostalCode         354369 non-null  int64 \n",
      " 15  LastSeen           354369 non-null  object\n",
      "dtypes: int64(7), object(9)\n",
      "memory usage: 43.3+ MB\n"
     ]
    }
   ],
   "source": [
    "#Выводим информацию о датафрейме\n",
    "df.info()"
   ]
  },
  {
   "cell_type": "markdown",
   "metadata": {},
   "source": [
    "Типы столбцов указаны корректно, за исключением 'DateCrawled', 'DateCreated'. Для данной задачи это не информативные признаки и они не будут использоваться для обучения моделей, поэтому не изменяем тип этих столбцов."
   ]
  },
  {
   "cell_type": "code",
   "execution_count": 8,
   "metadata": {},
   "outputs": [
    {
     "name": "stdout",
     "output_type": "stream",
     "text": [
      "4\n"
     ]
    }
   ],
   "source": [
    "#Проверим на явные дубликаты\n",
    "print(df.duplicated().sum())"
   ]
  },
  {
   "cell_type": "code",
   "execution_count": 9,
   "metadata": {},
   "outputs": [],
   "source": [
    "#Удалим дубликаты\n",
    "df.drop_duplicates(inplace=True)"
   ]
  },
  {
   "cell_type": "code",
   "execution_count": 10,
   "metadata": {
    "scrolled": false
   },
   "outputs": [
    {
     "data": {
      "text/html": [
       "<style  type=\"text/css\" >\n",
       "#T_c89b1_row0_col0{\n",
       "            background-color:  #b40426;\n",
       "            color:  #f1f1f1;\n",
       "        }#T_c89b1_row1_col0{\n",
       "            background-color:  #e3d9d3;\n",
       "            color:  #000000;\n",
       "        }#T_c89b1_row2_col0{\n",
       "            background-color:  #d3dbe7;\n",
       "            color:  #000000;\n",
       "        }#T_c89b1_row3_col0{\n",
       "            background-color:  #97b8ff;\n",
       "            color:  #000000;\n",
       "        }#T_c89b1_row4_col0{\n",
       "            background-color:  #96b7ff;\n",
       "            color:  #000000;\n",
       "        }#T_c89b1_row5_col0,#T_c89b1_row6_col0,#T_c89b1_row7_col0,#T_c89b1_row8_col0,#T_c89b1_row9_col0,#T_c89b1_row10_col0,#T_c89b1_row11_col0,#T_c89b1_row12_col0,#T_c89b1_row13_col0,#T_c89b1_row14_col0,#T_c89b1_row15_col0{\n",
       "            background-color:  #3b4cc0;\n",
       "            color:  #f1f1f1;\n",
       "        }</style><table id=\"T_c89b1_\" ><thead>    <tr>        <th class=\"blank level0\" ></th>        <th class=\"col_heading level0 col0\" >0</th>    </tr></thead><tbody>\n",
       "                <tr>\n",
       "                        <th id=\"T_c89b1_level0_row0\" class=\"row_heading level0 row0\" >Repaired</th>\n",
       "                        <td id=\"T_c89b1_row0_col0\" class=\"data row0 col0\" >0.200793</td>\n",
       "            </tr>\n",
       "            <tr>\n",
       "                        <th id=\"T_c89b1_level0_row1\" class=\"row_heading level0 row1\" >VehicleType</th>\n",
       "                        <td id=\"T_c89b1_row1_col0\" class=\"data row1 col0\" >0.105795</td>\n",
       "            </tr>\n",
       "            <tr>\n",
       "                        <th id=\"T_c89b1_level0_row2\" class=\"row_heading level0 row2\" >FuelType</th>\n",
       "                        <td id=\"T_c89b1_row2_col0\" class=\"data row2 col0\" >0.092828</td>\n",
       "            </tr>\n",
       "            <tr>\n",
       "                        <th id=\"T_c89b1_level0_row3\" class=\"row_heading level0 row3\" >Gearbox</th>\n",
       "                        <td id=\"T_c89b1_row3_col0\" class=\"data row3 col0\" >0.055968</td>\n",
       "            </tr>\n",
       "            <tr>\n",
       "                        <th id=\"T_c89b1_level0_row4\" class=\"row_heading level0 row4\" >Model</th>\n",
       "                        <td id=\"T_c89b1_row4_col0\" class=\"data row4 col0\" >0.055607</td>\n",
       "            </tr>\n",
       "            <tr>\n",
       "                        <th id=\"T_c89b1_level0_row5\" class=\"row_heading level0 row5\" >DateCrawled</th>\n",
       "                        <td id=\"T_c89b1_row5_col0\" class=\"data row5 col0\" >0.000000</td>\n",
       "            </tr>\n",
       "            <tr>\n",
       "                        <th id=\"T_c89b1_level0_row6\" class=\"row_heading level0 row6\" >Price</th>\n",
       "                        <td id=\"T_c89b1_row6_col0\" class=\"data row6 col0\" >0.000000</td>\n",
       "            </tr>\n",
       "            <tr>\n",
       "                        <th id=\"T_c89b1_level0_row7\" class=\"row_heading level0 row7\" >RegistrationYear</th>\n",
       "                        <td id=\"T_c89b1_row7_col0\" class=\"data row7 col0\" >0.000000</td>\n",
       "            </tr>\n",
       "            <tr>\n",
       "                        <th id=\"T_c89b1_level0_row8\" class=\"row_heading level0 row8\" >Power</th>\n",
       "                        <td id=\"T_c89b1_row8_col0\" class=\"data row8 col0\" >0.000000</td>\n",
       "            </tr>\n",
       "            <tr>\n",
       "                        <th id=\"T_c89b1_level0_row9\" class=\"row_heading level0 row9\" >Kilometer</th>\n",
       "                        <td id=\"T_c89b1_row9_col0\" class=\"data row9 col0\" >0.000000</td>\n",
       "            </tr>\n",
       "            <tr>\n",
       "                        <th id=\"T_c89b1_level0_row10\" class=\"row_heading level0 row10\" >RegistrationMonth</th>\n",
       "                        <td id=\"T_c89b1_row10_col0\" class=\"data row10 col0\" >0.000000</td>\n",
       "            </tr>\n",
       "            <tr>\n",
       "                        <th id=\"T_c89b1_level0_row11\" class=\"row_heading level0 row11\" >Brand</th>\n",
       "                        <td id=\"T_c89b1_row11_col0\" class=\"data row11 col0\" >0.000000</td>\n",
       "            </tr>\n",
       "            <tr>\n",
       "                        <th id=\"T_c89b1_level0_row12\" class=\"row_heading level0 row12\" >DateCreated</th>\n",
       "                        <td id=\"T_c89b1_row12_col0\" class=\"data row12 col0\" >0.000000</td>\n",
       "            </tr>\n",
       "            <tr>\n",
       "                        <th id=\"T_c89b1_level0_row13\" class=\"row_heading level0 row13\" >NumberOfPictures</th>\n",
       "                        <td id=\"T_c89b1_row13_col0\" class=\"data row13 col0\" >0.000000</td>\n",
       "            </tr>\n",
       "            <tr>\n",
       "                        <th id=\"T_c89b1_level0_row14\" class=\"row_heading level0 row14\" >PostalCode</th>\n",
       "                        <td id=\"T_c89b1_row14_col0\" class=\"data row14 col0\" >0.000000</td>\n",
       "            </tr>\n",
       "            <tr>\n",
       "                        <th id=\"T_c89b1_level0_row15\" class=\"row_heading level0 row15\" >LastSeen</th>\n",
       "                        <td id=\"T_c89b1_row15_col0\" class=\"data row15 col0\" >0.000000</td>\n",
       "            </tr>\n",
       "    </tbody></table>"
      ],
      "text/plain": [
       "<pandas.io.formats.style.Styler at 0x7f9dd440be50>"
      ]
     },
     "execution_count": 10,
     "metadata": {},
     "output_type": "execute_result"
    }
   ],
   "source": [
    "#Проверим на пропуски\n",
    "pd.DataFrame(df.isna().mean()).sort_values(by=0, ascending=False).style.background_gradient('coolwarm')"
   ]
  },
  {
   "cell_type": "markdown",
   "metadata": {},
   "source": [
    "**Работа с пропусками**"
   ]
  },
  {
   "cell_type": "markdown",
   "metadata": {},
   "source": [
    "**Столбец 'Model'**"
   ]
  },
  {
   "cell_type": "code",
   "execution_count": 11,
   "metadata": {
    "scrolled": true
   },
   "outputs": [
    {
     "data": {
      "text/plain": [
       "array(['golf', nan, 'grand', 'fabia', '3er', '2_reihe', 'other', 'c_max',\n",
       "       '3_reihe', 'passat', 'navara', 'ka', 'polo', 'twingo', 'a_klasse',\n",
       "       'scirocco', '5er', 'meriva', 'arosa', 'c4', 'civic', 'transporter',\n",
       "       'punto', 'e_klasse', 'clio', 'kadett', 'kangoo', 'corsa', 'one',\n",
       "       'fortwo', '1er', 'b_klasse', 'signum', 'astra', 'a8', 'jetta',\n",
       "       'fiesta', 'c_klasse', 'micra', 'vito', 'sprinter', '156', 'escort',\n",
       "       'forester', 'xc_reihe', 'scenic', 'a4', 'a1', 'insignia', 'combo',\n",
       "       'focus', 'tt', 'a6', 'jazz', 'omega', 'slk', '7er', '80', '147',\n",
       "       '100', 'z_reihe', 'sportage', 'sorento', 'v40', 'ibiza', 'mustang',\n",
       "       'eos', 'touran', 'getz', 'a3', 'almera', 'megane', 'lupo', 'r19',\n",
       "       'zafira', 'caddy', 'mondeo', 'cordoba', 'colt', 'impreza',\n",
       "       'vectra', 'berlingo', 'tiguan', 'i_reihe', 'espace', 'sharan',\n",
       "       '6_reihe', 'panda', 'up', 'seicento', 'ceed', '5_reihe', 'yeti',\n",
       "       'octavia', 'mii', 'rx_reihe', '6er', 'modus', 'fox', 'matiz',\n",
       "       'beetle', 'c1', 'rio', 'touareg', 'logan', 'spider', 'cuore',\n",
       "       's_max', 'a2', 'galaxy', 'c3', 'viano', 's_klasse', '1_reihe',\n",
       "       'avensis', 'roomster', 'sl', 'kaefer', 'santa', 'cooper', 'leon',\n",
       "       '4_reihe', 'a5', '500', 'laguna', 'ptcruiser', 'clk', 'primera',\n",
       "       'x_reihe', 'exeo', '159', 'transit', 'juke', 'qashqai', 'carisma',\n",
       "       'accord', 'corolla', 'lanos', 'phaeton', 'verso', 'swift', 'rav',\n",
       "       'picanto', 'boxster', 'kalos', 'superb', 'stilo', 'alhambra',\n",
       "       'mx_reihe', 'roadster', 'ypsilon', 'cayenne', 'galant', 'justy',\n",
       "       '90', 'sirion', 'crossfire', 'agila', 'duster', 'cr_reihe', 'v50',\n",
       "       'c_reihe', 'v_klasse', 'm_klasse', 'yaris', 'c5', 'aygo', 'cc',\n",
       "       'carnival', 'fusion', '911', 'bora', 'forfour', 'm_reihe', 'cl',\n",
       "       'tigra', '300c', 'spark', 'v70', 'kuga', 'x_type', 'ducato',\n",
       "       's_type', 'x_trail', 'toledo', 'altea', 'voyager', 'calibra',\n",
       "       'bravo', 'antara', 'tucson', 'citigo', 'jimny', 'wrangler',\n",
       "       'lybra', 'q7', 'lancer', 'captiva', 'c2', 'discovery',\n",
       "       'freelander', 'sandero', 'note', '900', 'cherokee', 'clubman',\n",
       "       'samara', 'defender', '601', 'cx_reihe', 'legacy', 'pajero',\n",
       "       'auris', 'niva', 's60', 'nubira', 'vivaro', 'g_klasse', 'lodgy',\n",
       "       '850', 'range_rover', 'q3', 'serie_2', 'glk', 'charade', 'croma',\n",
       "       'outlander', 'doblo', 'musa', 'move', '9000', 'v60', '145', 'aveo',\n",
       "       '200', 'b_max', 'range_rover_sport', 'terios', 'rangerover', 'q5',\n",
       "       'range_rover_evoque', 'materia', 'delta', 'gl', 'kalina', 'amarok',\n",
       "       'elefantino', 'i3', 'kappa', 'serie_3', 'serie_1'], dtype=object)"
      ]
     },
     "execution_count": 11,
     "metadata": {},
     "output_type": "execute_result"
    }
   ],
   "source": [
    "#Выведем уникальные значения столбца 'Model'\n",
    "df['Model'].unique()"
   ]
  },
  {
   "cell_type": "markdown",
   "metadata": {},
   "source": [
    "Заполнить пропуски в столбце 'Model' можно либо 'other', либо самой популярной моделью для каждой марки из столбца 'Brand'. Посмотрим, какую долю для каждой марки составляет самая популярная модель и модель 'other'."
   ]
  },
  {
   "cell_type": "code",
   "execution_count": 12,
   "metadata": {},
   "outputs": [
    {
     "name": "stdout",
     "output_type": "stream",
     "text": [
      "Средняя доля самой популярной модели для всех марок:\n"
     ]
    },
    {
     "data": {
      "text/plain": [
       "0.3707779199009421"
      ]
     },
     "execution_count": 12,
     "metadata": {},
     "output_type": "execute_result"
    }
   ],
   "source": [
    "#Какую долю в среднем составляет самая популярная модель для каждой марки\n",
    "brands = []\n",
    "for brand in df['Brand'].unique():\n",
    "    try:\n",
    "        brands.append(df.loc[df['Brand'] == brand, 'Model'].value_counts()[0]/ \\\n",
    "                      df.loc[df['Brand'] == brand, 'Model'].value_counts().sum())\n",
    "    except IndexError:\n",
    "        brands.append(0)\n",
    "    \n",
    "print('Средняя доля самой популярной модели для всех марок:')\n",
    "pd.Series(brands).median()"
   ]
  },
  {
   "cell_type": "code",
   "execution_count": 13,
   "metadata": {},
   "outputs": [
    {
     "name": "stdout",
     "output_type": "stream",
     "text": [
      "Средняя доля модели \"other\" для всех марок:\n"
     ]
    },
    {
     "data": {
      "text/plain": [
       "0.167644802141831"
      ]
     },
     "execution_count": 13,
     "metadata": {},
     "output_type": "execute_result"
    }
   ],
   "source": [
    "#Какую долю составляет модель 'other' для каждой марки\n",
    "brands = []\n",
    "for brand in df['Brand'].unique():\n",
    "    try:\n",
    "        brands.append(df.loc[df['Brand'] == brand, 'Model'].value_counts()['other']/ \\\n",
    "                      df.loc[df['Brand'] == brand, 'Model'].value_counts().sum())\n",
    "    except KeyError:\n",
    "        brands.append(0)\n",
    "    \n",
    "print('Средняя доля модели \"other\" для всех марок:')\n",
    "pd.Series(brands).median()"
   ]
  },
  {
   "cell_type": "markdown",
   "metadata": {},
   "source": [
    "**Вывод**: Заменим пропуски в столбце 'Model' самой популярной моделью для каждой марки, т.к. вероятность того, что пропуск окажется самой популярной моделью выше более чем в 2 раза в сравнении с моделью 'other'"
   ]
  },
  {
   "cell_type": "code",
   "execution_count": 14,
   "metadata": {},
   "outputs": [],
   "source": [
    "#Заполняем пропуски\n",
    "for brand in df['Brand'].unique():\n",
    "    try:\n",
    "        df.loc[(df['Brand'] == brand) & (df['Model'].isna()), 'Model'] = \\\n",
    "        df.loc[df['Brand'] == brand, 'Model'].value_counts().index[0]\n",
    "    except IndexError:\n",
    "        df.loc[(df['Brand'] == brand) & (df['Model'].isna()), 'Model'] = 'other'"
   ]
  },
  {
   "cell_type": "markdown",
   "metadata": {},
   "source": [
    "**Столбец 'Repaired'**"
   ]
  },
  {
   "cell_type": "code",
   "execution_count": 15,
   "metadata": {},
   "outputs": [
    {
     "data": {
      "text/plain": [
       "array([nan, 'yes', 'no'], dtype=object)"
      ]
     },
     "execution_count": 15,
     "metadata": {},
     "output_type": "execute_result"
    }
   ],
   "source": [
    "#Выведем уникальные значения столбца 'Repaired'\n",
    "df['Repaired'].unique()"
   ]
  },
  {
   "cell_type": "markdown",
   "metadata": {},
   "source": [
    "Вероятно, пропуск означает значение 'no'. Заменим пропуски на это значение"
   ]
  },
  {
   "cell_type": "code",
   "execution_count": 16,
   "metadata": {},
   "outputs": [],
   "source": [
    "#Заменим пустые значения на 'no'\n",
    "df['Repaired'] = df['Repaired'].fillna('no')"
   ]
  },
  {
   "cell_type": "markdown",
   "metadata": {},
   "source": [
    "**Столбец 'VehicleType'**"
   ]
  },
  {
   "cell_type": "code",
   "execution_count": 17,
   "metadata": {},
   "outputs": [
    {
     "data": {
      "text/plain": [
       "array([nan, 'coupe', 'suv', 'small', 'sedan', 'convertible', 'bus',\n",
       "       'wagon', 'other'], dtype=object)"
      ]
     },
     "execution_count": 17,
     "metadata": {},
     "output_type": "execute_result"
    }
   ],
   "source": [
    "#Выведем уникальные значения столбца 'VehicleType'\n",
    "df['VehicleType'].unique()"
   ]
  },
  {
   "cell_type": "markdown",
   "metadata": {},
   "source": [
    "Заполнить пропуски в столбце 'VehicleType' можно либо 'other', либо самым популярным типом кузова для каждой модели из столбца 'Model'. Посмотрим, какую долю для каждой модели составляет самый популярный тип кузова и тип кузова 'other'."
   ]
  },
  {
   "cell_type": "code",
   "execution_count": 18,
   "metadata": {},
   "outputs": [
    {
     "name": "stdout",
     "output_type": "stream",
     "text": [
      "Средняя доля самого популярного типа кузова для всех марок:\n"
     ]
    },
    {
     "data": {
      "text/plain": [
       "0.8326569264069263"
      ]
     },
     "execution_count": 18,
     "metadata": {},
     "output_type": "execute_result"
    }
   ],
   "source": [
    "#Какую долю в среднем составляет самый популярный тип кузова для всех моделей\n",
    "vehicle_types = []\n",
    "for model in df['Model'].unique():\n",
    "    vehicle_types.append(df.loc[df['Model'] == model, 'VehicleType'].value_counts()[0]/ \\\n",
    "          df.loc[df['Model'] == model, 'VehicleType'].value_counts().sum())\n",
    "    \n",
    "print('Средняя доля самого популярного типа кузова для всех марок:')\n",
    "pd.Series(vehicle_types).median()"
   ]
  },
  {
   "cell_type": "code",
   "execution_count": 19,
   "metadata": {},
   "outputs": [
    {
     "name": "stdout",
     "output_type": "stream",
     "text": [
      "Средняя доля самого типа кузова \"other\" для всех марок:\n"
     ]
    },
    {
     "data": {
      "text/plain": [
       "0.0029832218796300002"
      ]
     },
     "execution_count": 19,
     "metadata": {},
     "output_type": "execute_result"
    }
   ],
   "source": [
    "#Какую долю в среднем составляет тип кузова 'other' для всех моделей\n",
    "vehicle_types = []\n",
    "for model in df['Model'].unique():\n",
    "    try:\n",
    "        vehicle_types.append(df.loc[df['Model'] == model, 'VehicleType'].value_counts()['other']/ \\\n",
    "          df.loc[df['Model'] == model, 'VehicleType'].value_counts().sum())\n",
    "    except KeyError:\n",
    "        vehicle_types.append(0)\n",
    "    \n",
    "print('Средняя доля самого типа кузова \"other\" для всех марок:')\n",
    "pd.Series(vehicle_types).median()"
   ]
  },
  {
   "cell_type": "markdown",
   "metadata": {},
   "source": [
    "**Вывод**: Заменим пропуски в столбце 'VehicleType' самым популярным типом кузова для каждой модели, т.к. вероятность того, что пропуск окажется самый популярным типом кузова выше в 270 раз в сравнении с типом кузова 'other'"
   ]
  },
  {
   "cell_type": "code",
   "execution_count": 20,
   "metadata": {},
   "outputs": [],
   "source": [
    "#Заполняем пропуски\n",
    "for model in df['Model'].unique():\n",
    "    df.loc[(df['Model'] == model) & (df['VehicleType'].isna()), 'VehicleType'] = \\\n",
    "    df.loc[df['Model'] == model, 'VehicleType'].value_counts().index[0]"
   ]
  },
  {
   "cell_type": "markdown",
   "metadata": {},
   "source": [
    "**Столбец 'Gearbox'**"
   ]
  },
  {
   "cell_type": "code",
   "execution_count": 21,
   "metadata": {},
   "outputs": [
    {
     "data": {
      "text/plain": [
       "array(['manual', 'auto', nan], dtype=object)"
      ]
     },
     "execution_count": 21,
     "metadata": {},
     "output_type": "execute_result"
    }
   ],
   "source": [
    "#Выведем уникальные значения столбца\n",
    "df['Gearbox'].unique()"
   ]
  },
  {
   "cell_type": "code",
   "execution_count": 22,
   "metadata": {},
   "outputs": [
    {
     "data": {
      "text/plain": [
       "manual    268249\n",
       "auto       66283\n",
       "NaN        19833\n",
       "Name: Gearbox, dtype: int64"
      ]
     },
     "execution_count": 22,
     "metadata": {},
     "output_type": "execute_result"
    }
   ],
   "source": [
    "#Выведем количество цникальных значений\n",
    "df['Gearbox'].value_counts(dropna=False)"
   ]
  },
  {
   "cell_type": "markdown",
   "metadata": {},
   "source": [
    "Заполним пропуски значением 'manual', т.к., во-первых, вероятность такого значения на месте пропуска выше по сравнению с 'auto', во-вторых, вероятно, значение 'auto' нужно было специально указать и продавец мог этого не сделать."
   ]
  },
  {
   "cell_type": "code",
   "execution_count": 23,
   "metadata": {},
   "outputs": [],
   "source": [
    "#Заменим пропуски на 'manual'\n",
    "df['Gearbox'] = df['Gearbox'].fillna('manual')"
   ]
  },
  {
   "cell_type": "markdown",
   "metadata": {},
   "source": [
    "**Столбец 'FuelType'**"
   ]
  },
  {
   "cell_type": "code",
   "execution_count": 24,
   "metadata": {},
   "outputs": [
    {
     "data": {
      "text/plain": [
       "array(['petrol', 'gasoline', nan, 'lpg', 'other', 'hybrid', 'cng',\n",
       "       'electric'], dtype=object)"
      ]
     },
     "execution_count": 24,
     "metadata": {},
     "output_type": "execute_result"
    }
   ],
   "source": [
    "#Выведем уникальные значения столбца\n",
    "df['FuelType'].unique()"
   ]
  },
  {
   "cell_type": "code",
   "execution_count": 25,
   "metadata": {
    "scrolled": false
   },
   "outputs": [
    {
     "data": {
      "text/plain": [
       "petrol      216349\n",
       "gasoline     98719\n",
       "NaN          32895\n",
       "lpg           5310\n",
       "cng            565\n",
       "hybrid         233\n",
       "other          204\n",
       "electric        90\n",
       "Name: FuelType, dtype: int64"
      ]
     },
     "execution_count": 25,
     "metadata": {},
     "output_type": "execute_result"
    }
   ],
   "source": [
    "#Выведем количество уникальных значений\n",
    "df['FuelType'].value_counts(dropna=False)"
   ]
  },
  {
   "cell_type": "code",
   "execution_count": 26,
   "metadata": {},
   "outputs": [],
   "source": [
    "#Заменим пропуски на 'petrol'\n",
    "df['FuelType'] = df['FuelType'].fillna('petrol')"
   ]
  },
  {
   "cell_type": "markdown",
   "metadata": {},
   "source": [
    "Категории petrol и gasoline обозначают бензиновый тип двигателя, поэтому объединим их в один тип - petrol"
   ]
  },
  {
   "cell_type": "code",
   "execution_count": 27,
   "metadata": {},
   "outputs": [],
   "source": [
    "df.loc[df['FuelType'] == 'gasoline', 'FuelType'] = 'petrol'"
   ]
  },
  {
   "cell_type": "markdown",
   "metadata": {},
   "source": [
    "**Поиск аномалий в столбцах**"
   ]
  },
  {
   "cell_type": "code",
   "execution_count": 28,
   "metadata": {
    "scrolled": true
   },
   "outputs": [
    {
     "data": {
      "text/html": [
       "<div>\n",
       "<style scoped>\n",
       "    .dataframe tbody tr th:only-of-type {\n",
       "        vertical-align: middle;\n",
       "    }\n",
       "\n",
       "    .dataframe tbody tr th {\n",
       "        vertical-align: top;\n",
       "    }\n",
       "\n",
       "    .dataframe thead th {\n",
       "        text-align: right;\n",
       "    }\n",
       "</style>\n",
       "<table border=\"1\" class=\"dataframe\">\n",
       "  <thead>\n",
       "    <tr style=\"text-align: right;\">\n",
       "      <th></th>\n",
       "      <th>Price</th>\n",
       "      <th>RegistrationYear</th>\n",
       "      <th>Power</th>\n",
       "      <th>Kilometer</th>\n",
       "      <th>RegistrationMonth</th>\n",
       "      <th>NumberOfPictures</th>\n",
       "      <th>PostalCode</th>\n",
       "    </tr>\n",
       "  </thead>\n",
       "  <tbody>\n",
       "    <tr>\n",
       "      <th>count</th>\n",
       "      <td>354365.000000</td>\n",
       "      <td>354365.000000</td>\n",
       "      <td>354365.000000</td>\n",
       "      <td>354365.000000</td>\n",
       "      <td>354365.000000</td>\n",
       "      <td>354365.0</td>\n",
       "      <td>354365.000000</td>\n",
       "    </tr>\n",
       "    <tr>\n",
       "      <th>mean</th>\n",
       "      <td>4416.679830</td>\n",
       "      <td>2004.234481</td>\n",
       "      <td>110.093816</td>\n",
       "      <td>128211.363989</td>\n",
       "      <td>5.714650</td>\n",
       "      <td>0.0</td>\n",
       "      <td>50508.503800</td>\n",
       "    </tr>\n",
       "    <tr>\n",
       "      <th>std</th>\n",
       "      <td>4514.176349</td>\n",
       "      <td>90.228466</td>\n",
       "      <td>189.851330</td>\n",
       "      <td>37905.083858</td>\n",
       "      <td>3.726432</td>\n",
       "      <td>0.0</td>\n",
       "      <td>25783.100078</td>\n",
       "    </tr>\n",
       "    <tr>\n",
       "      <th>min</th>\n",
       "      <td>0.000000</td>\n",
       "      <td>1000.000000</td>\n",
       "      <td>0.000000</td>\n",
       "      <td>5000.000000</td>\n",
       "      <td>0.000000</td>\n",
       "      <td>0.0</td>\n",
       "      <td>1067.000000</td>\n",
       "    </tr>\n",
       "    <tr>\n",
       "      <th>25%</th>\n",
       "      <td>1050.000000</td>\n",
       "      <td>1999.000000</td>\n",
       "      <td>69.000000</td>\n",
       "      <td>125000.000000</td>\n",
       "      <td>3.000000</td>\n",
       "      <td>0.0</td>\n",
       "      <td>30165.000000</td>\n",
       "    </tr>\n",
       "    <tr>\n",
       "      <th>50%</th>\n",
       "      <td>2700.000000</td>\n",
       "      <td>2003.000000</td>\n",
       "      <td>105.000000</td>\n",
       "      <td>150000.000000</td>\n",
       "      <td>6.000000</td>\n",
       "      <td>0.0</td>\n",
       "      <td>49413.000000</td>\n",
       "    </tr>\n",
       "    <tr>\n",
       "      <th>75%</th>\n",
       "      <td>6400.000000</td>\n",
       "      <td>2008.000000</td>\n",
       "      <td>143.000000</td>\n",
       "      <td>150000.000000</td>\n",
       "      <td>9.000000</td>\n",
       "      <td>0.0</td>\n",
       "      <td>71083.000000</td>\n",
       "    </tr>\n",
       "    <tr>\n",
       "      <th>max</th>\n",
       "      <td>20000.000000</td>\n",
       "      <td>9999.000000</td>\n",
       "      <td>20000.000000</td>\n",
       "      <td>150000.000000</td>\n",
       "      <td>12.000000</td>\n",
       "      <td>0.0</td>\n",
       "      <td>99998.000000</td>\n",
       "    </tr>\n",
       "  </tbody>\n",
       "</table>\n",
       "</div>"
      ],
      "text/plain": [
       "               Price  RegistrationYear          Power      Kilometer  \\\n",
       "count  354365.000000     354365.000000  354365.000000  354365.000000   \n",
       "mean     4416.679830       2004.234481     110.093816  128211.363989   \n",
       "std      4514.176349         90.228466     189.851330   37905.083858   \n",
       "min         0.000000       1000.000000       0.000000    5000.000000   \n",
       "25%      1050.000000       1999.000000      69.000000  125000.000000   \n",
       "50%      2700.000000       2003.000000     105.000000  150000.000000   \n",
       "75%      6400.000000       2008.000000     143.000000  150000.000000   \n",
       "max     20000.000000       9999.000000   20000.000000  150000.000000   \n",
       "\n",
       "       RegistrationMonth  NumberOfPictures     PostalCode  \n",
       "count      354365.000000          354365.0  354365.000000  \n",
       "mean            5.714650               0.0   50508.503800  \n",
       "std             3.726432               0.0   25783.100078  \n",
       "min             0.000000               0.0    1067.000000  \n",
       "25%             3.000000               0.0   30165.000000  \n",
       "50%             6.000000               0.0   49413.000000  \n",
       "75%             9.000000               0.0   71083.000000  \n",
       "max            12.000000               0.0   99998.000000  "
      ]
     },
     "execution_count": 28,
     "metadata": {},
     "output_type": "execute_result"
    }
   ],
   "source": [
    "#Вывеедм числовое описание данных\n",
    "df.describe()"
   ]
  },
  {
   "cell_type": "markdown",
   "metadata": {},
   "source": [
    "**Столбец 'Price'**"
   ]
  },
  {
   "cell_type": "code",
   "execution_count": 29,
   "metadata": {
    "scrolled": true
   },
   "outputs": [
    {
     "data": {
      "image/png": "[encoded data removed]",
      "text/plain": [
       "<Figure size 1800x144 with 1 Axes>"
      ]
     },
     "metadata": {
      "needs_background": "light"
     },
     "output_type": "display_data"
    }
   ],
   "source": [
    "#Построим диаграмму \"ящик с усами\"\n",
    "plt.figure(figsize =(25, 2))\n",
    "sns.set(style=\"whitegrid\")\n",
    "sns.boxplot(df['Price']);"
   ]
  },
  {
   "cell_type": "code",
   "execution_count": 30,
   "metadata": {},
   "outputs": [],
   "source": [
    "#Выведем формулы для подсчёта верхней и нижней границы \"усов\"\n",
    "column = 'Price'\n",
    "max = df.describe()[column]['75%'] + (df.describe()[column]['75%'] - df.describe()[column]['25%'])*1.5\n",
    "min = df.describe()[column]['25%'] - (df.describe()[column]['75%'] - df.describe()[column]['25%'])*1.5"
   ]
  },
  {
   "cell_type": "code",
   "execution_count": 31,
   "metadata": {},
   "outputs": [
    {
     "data": {
      "text/plain": [
       "0.030398035923412302"
      ]
     },
     "execution_count": 31,
     "metadata": {},
     "output_type": "execute_result"
    }
   ],
   "source": [
    "#Выведем долю объектов с Price = 0\n",
    "len(df.query('Price == 0'))/len(df)"
   ]
  },
  {
   "cell_type": "code",
   "execution_count": 32,
   "metadata": {},
   "outputs": [],
   "source": [
    "#Заполняем значения Price = 0 медианой для каждой модели\n",
    "for model in df['Model'].unique():\n",
    "    df.loc[(df['Model'] == model) & (df['Price'] == 0), 'Price'] = \\\n",
    "    df.loc[(df['Model'] == model) & (df['Price'] != 0), 'Price'].median()"
   ]
  },
  {
   "cell_type": "code",
   "execution_count": 33,
   "metadata": {},
   "outputs": [
    {
     "data": {
      "text/plain": [
       "500.0     5670\n",
       "1500.0    5573\n",
       "3500.0    4894\n",
       "1000.0    4772\n",
       "1200.0    4757\n",
       "2500.0    4553\n",
       "600.0     3825\n",
       "800.0     3812\n",
       "2800.0    3534\n",
       "2000.0    3447\n",
       "1800.0    3437\n",
       "999.0     3391\n",
       "4500.0    3209\n",
       "750.0     3206\n",
       "650.0     3159\n",
       "900.0     2989\n",
       "950.0     2979\n",
       "850.0     2975\n",
       "2200.0    2936\n",
       "700.0     2936\n",
       "Name: Price, dtype: int64"
      ]
     },
     "execution_count": 33,
     "metadata": {},
     "output_type": "execute_result"
    }
   ],
   "source": [
    "#Выведем количество уникальных значений столбца\n",
    "df['Price'].value_counts().head(20)"
   ]
  },
  {
   "cell_type": "code",
   "execution_count": 34,
   "metadata": {},
   "outputs": [
    {
     "data": {
      "text/plain": [
       "6.9453811747774195"
      ]
     },
     "execution_count": 34,
     "metadata": {},
     "output_type": "execute_result"
    }
   ],
   "source": [
    "#Вывеедм процент объектов с признаком Price меньше 499\n",
    "len(df.query('Price < 499'))/len(df)*100"
   ]
  },
  {
   "cell_type": "code",
   "execution_count": 35,
   "metadata": {},
   "outputs": [
    {
     "data": {
      "text/html": [
       "<div>\n",
       "<style scoped>\n",
       "    .dataframe tbody tr th:only-of-type {\n",
       "        vertical-align: middle;\n",
       "    }\n",
       "\n",
       "    .dataframe tbody tr th {\n",
       "        vertical-align: top;\n",
       "    }\n",
       "\n",
       "    .dataframe thead th {\n",
       "        text-align: right;\n",
       "    }\n",
       "</style>\n",
       "<table border=\"1\" class=\"dataframe\">\n",
       "  <thead>\n",
       "    <tr style=\"text-align: right;\">\n",
       "      <th></th>\n",
       "      <th>DateCrawled</th>\n",
       "      <th>Price</th>\n",
       "      <th>VehicleType</th>\n",
       "      <th>RegistrationYear</th>\n",
       "      <th>Gearbox</th>\n",
       "      <th>Power</th>\n",
       "      <th>Model</th>\n",
       "      <th>Kilometer</th>\n",
       "      <th>RegistrationMonth</th>\n",
       "      <th>FuelType</th>\n",
       "      <th>Brand</th>\n",
       "      <th>Repaired</th>\n",
       "      <th>DateCreated</th>\n",
       "      <th>NumberOfPictures</th>\n",
       "      <th>PostalCode</th>\n",
       "      <th>LastSeen</th>\n",
       "    </tr>\n",
       "  </thead>\n",
       "  <tbody>\n",
       "    <tr>\n",
       "      <th>0</th>\n",
       "      <td>2016-03-24 11:52:17</td>\n",
       "      <td>480.0</td>\n",
       "      <td>sedan</td>\n",
       "      <td>1993</td>\n",
       "      <td>manual</td>\n",
       "      <td>0</td>\n",
       "      <td>golf</td>\n",
       "      <td>150000</td>\n",
       "      <td>0</td>\n",
       "      <td>petrol</td>\n",
       "      <td>volkswagen</td>\n",
       "      <td>no</td>\n",
       "      <td>2016-03-24 00:00:00</td>\n",
       "      <td>0</td>\n",
       "      <td>70435</td>\n",
       "      <td>2016-04-07 03:16:57</td>\n",
       "    </tr>\n",
       "    <tr>\n",
       "      <th>15</th>\n",
       "      <td>2016-03-11 21:39:15</td>\n",
       "      <td>450.0</td>\n",
       "      <td>small</td>\n",
       "      <td>1910</td>\n",
       "      <td>manual</td>\n",
       "      <td>0</td>\n",
       "      <td>ka</td>\n",
       "      <td>5000</td>\n",
       "      <td>0</td>\n",
       "      <td>petrol</td>\n",
       "      <td>ford</td>\n",
       "      <td>no</td>\n",
       "      <td>2016-03-11 00:00:00</td>\n",
       "      <td>0</td>\n",
       "      <td>24148</td>\n",
       "      <td>2016-03-19 08:46:47</td>\n",
       "    </tr>\n",
       "    <tr>\n",
       "      <th>16</th>\n",
       "      <td>2016-04-01 12:46:46</td>\n",
       "      <td>300.0</td>\n",
       "      <td>small</td>\n",
       "      <td>2016</td>\n",
       "      <td>manual</td>\n",
       "      <td>60</td>\n",
       "      <td>polo</td>\n",
       "      <td>150000</td>\n",
       "      <td>0</td>\n",
       "      <td>petrol</td>\n",
       "      <td>volkswagen</td>\n",
       "      <td>no</td>\n",
       "      <td>2016-04-01 00:00:00</td>\n",
       "      <td>0</td>\n",
       "      <td>38871</td>\n",
       "      <td>2016-04-01 12:46:46</td>\n",
       "    </tr>\n",
       "    <tr>\n",
       "      <th>23</th>\n",
       "      <td>2016-03-12 19:43:07</td>\n",
       "      <td>450.0</td>\n",
       "      <td>small</td>\n",
       "      <td>1997</td>\n",
       "      <td>manual</td>\n",
       "      <td>50</td>\n",
       "      <td>arosa</td>\n",
       "      <td>150000</td>\n",
       "      <td>5</td>\n",
       "      <td>petrol</td>\n",
       "      <td>seat</td>\n",
       "      <td>no</td>\n",
       "      <td>2016-03-12 00:00:00</td>\n",
       "      <td>0</td>\n",
       "      <td>9526</td>\n",
       "      <td>2016-03-21 01:46:11</td>\n",
       "    </tr>\n",
       "    <tr>\n",
       "      <th>32</th>\n",
       "      <td>2016-03-15 20:59:01</td>\n",
       "      <td>245.0</td>\n",
       "      <td>sedan</td>\n",
       "      <td>1994</td>\n",
       "      <td>manual</td>\n",
       "      <td>0</td>\n",
       "      <td>golf</td>\n",
       "      <td>150000</td>\n",
       "      <td>2</td>\n",
       "      <td>petrol</td>\n",
       "      <td>volkswagen</td>\n",
       "      <td>no</td>\n",
       "      <td>2016-03-15 00:00:00</td>\n",
       "      <td>0</td>\n",
       "      <td>44145</td>\n",
       "      <td>2016-03-17 18:17:43</td>\n",
       "    </tr>\n",
       "    <tr>\n",
       "      <th>...</th>\n",
       "      <td>...</td>\n",
       "      <td>...</td>\n",
       "      <td>...</td>\n",
       "      <td>...</td>\n",
       "      <td>...</td>\n",
       "      <td>...</td>\n",
       "      <td>...</td>\n",
       "      <td>...</td>\n",
       "      <td>...</td>\n",
       "      <td>...</td>\n",
       "      <td>...</td>\n",
       "      <td>...</td>\n",
       "      <td>...</td>\n",
       "      <td>...</td>\n",
       "      <td>...</td>\n",
       "      <td>...</td>\n",
       "    </tr>\n",
       "    <tr>\n",
       "      <th>354309</th>\n",
       "      <td>2016-03-09 22:37:41</td>\n",
       "      <td>99.0</td>\n",
       "      <td>small</td>\n",
       "      <td>1999</td>\n",
       "      <td>manual</td>\n",
       "      <td>60</td>\n",
       "      <td>arosa</td>\n",
       "      <td>150000</td>\n",
       "      <td>1</td>\n",
       "      <td>petrol</td>\n",
       "      <td>seat</td>\n",
       "      <td>yes</td>\n",
       "      <td>2016-03-09 00:00:00</td>\n",
       "      <td>0</td>\n",
       "      <td>91301</td>\n",
       "      <td>2016-04-06 22:15:32</td>\n",
       "    </tr>\n",
       "    <tr>\n",
       "      <th>354318</th>\n",
       "      <td>2016-03-15 19:57:11</td>\n",
       "      <td>400.0</td>\n",
       "      <td>wagon</td>\n",
       "      <td>1991</td>\n",
       "      <td>manual</td>\n",
       "      <td>0</td>\n",
       "      <td>legacy</td>\n",
       "      <td>150000</td>\n",
       "      <td>0</td>\n",
       "      <td>petrol</td>\n",
       "      <td>subaru</td>\n",
       "      <td>no</td>\n",
       "      <td>2016-03-15 00:00:00</td>\n",
       "      <td>0</td>\n",
       "      <td>24558</td>\n",
       "      <td>2016-03-19 15:49:00</td>\n",
       "    </tr>\n",
       "    <tr>\n",
       "      <th>354329</th>\n",
       "      <td>2016-03-30 20:55:30</td>\n",
       "      <td>350.0</td>\n",
       "      <td>small</td>\n",
       "      <td>1996</td>\n",
       "      <td>manual</td>\n",
       "      <td>65</td>\n",
       "      <td>punto</td>\n",
       "      <td>150000</td>\n",
       "      <td>0</td>\n",
       "      <td>petrol</td>\n",
       "      <td>fiat</td>\n",
       "      <td>no</td>\n",
       "      <td>2016-03-30 00:00:00</td>\n",
       "      <td>0</td>\n",
       "      <td>25436</td>\n",
       "      <td>2016-04-07 13:50:41</td>\n",
       "    </tr>\n",
       "    <tr>\n",
       "      <th>354335</th>\n",
       "      <td>2016-04-04 14:41:28</td>\n",
       "      <td>390.0</td>\n",
       "      <td>small</td>\n",
       "      <td>1997</td>\n",
       "      <td>auto</td>\n",
       "      <td>0</td>\n",
       "      <td>corsa</td>\n",
       "      <td>100000</td>\n",
       "      <td>6</td>\n",
       "      <td>petrol</td>\n",
       "      <td>opel</td>\n",
       "      <td>yes</td>\n",
       "      <td>2016-04-04 00:00:00</td>\n",
       "      <td>0</td>\n",
       "      <td>17509</td>\n",
       "      <td>2016-04-06 15:46:11</td>\n",
       "    </tr>\n",
       "    <tr>\n",
       "      <th>354338</th>\n",
       "      <td>2016-03-31 19:52:33</td>\n",
       "      <td>180.0</td>\n",
       "      <td>small</td>\n",
       "      <td>1995</td>\n",
       "      <td>manual</td>\n",
       "      <td>0</td>\n",
       "      <td>corsa</td>\n",
       "      <td>125000</td>\n",
       "      <td>3</td>\n",
       "      <td>petrol</td>\n",
       "      <td>opel</td>\n",
       "      <td>no</td>\n",
       "      <td>2016-03-31 00:00:00</td>\n",
       "      <td>0</td>\n",
       "      <td>41470</td>\n",
       "      <td>2016-04-06 14:18:04</td>\n",
       "    </tr>\n",
       "  </tbody>\n",
       "</table>\n",
       "<p>24612 rows × 16 columns</p>\n",
       "</div>"
      ],
      "text/plain": [
       "                DateCrawled  Price VehicleType  RegistrationYear Gearbox  \\\n",
       "0       2016-03-24 11:52:17  480.0       sedan              1993  manual   \n",
       "15      2016-03-11 21:39:15  450.0       small              1910  manual   \n",
       "16      2016-04-01 12:46:46  300.0       small              2016  manual   \n",
       "23      2016-03-12 19:43:07  450.0       small              1997  manual   \n",
       "32      2016-03-15 20:59:01  245.0       sedan              1994  manual   \n",
       "...                     ...    ...         ...               ...     ...   \n",
       "354309  2016-03-09 22:37:41   99.0       small              1999  manual   \n",
       "354318  2016-03-15 19:57:11  400.0       wagon              1991  manual   \n",
       "354329  2016-03-30 20:55:30  350.0       small              1996  manual   \n",
       "354335  2016-04-04 14:41:28  390.0       small              1997    auto   \n",
       "354338  2016-03-31 19:52:33  180.0       small              1995  manual   \n",
       "\n",
       "        Power   Model  Kilometer  RegistrationMonth FuelType       Brand  \\\n",
       "0           0    golf     150000                  0   petrol  volkswagen   \n",
       "15          0      ka       5000                  0   petrol        ford   \n",
       "16         60    polo     150000                  0   petrol  volkswagen   \n",
       "23         50   arosa     150000                  5   petrol        seat   \n",
       "32          0    golf     150000                  2   petrol  volkswagen   \n",
       "...       ...     ...        ...                ...      ...         ...   \n",
       "354309     60   arosa     150000                  1   petrol        seat   \n",
       "354318      0  legacy     150000                  0   petrol      subaru   \n",
       "354329     65   punto     150000                  0   petrol        fiat   \n",
       "354335      0   corsa     100000                  6   petrol        opel   \n",
       "354338      0   corsa     125000                  3   petrol        opel   \n",
       "\n",
       "       Repaired          DateCreated  NumberOfPictures  PostalCode  \\\n",
       "0            no  2016-03-24 00:00:00                 0       70435   \n",
       "15           no  2016-03-11 00:00:00                 0       24148   \n",
       "16           no  2016-04-01 00:00:00                 0       38871   \n",
       "23           no  2016-03-12 00:00:00                 0        9526   \n",
       "32           no  2016-03-15 00:00:00                 0       44145   \n",
       "...         ...                  ...               ...         ...   \n",
       "354309      yes  2016-03-09 00:00:00                 0       91301   \n",
       "354318       no  2016-03-15 00:00:00                 0       24558   \n",
       "354329       no  2016-03-30 00:00:00                 0       25436   \n",
       "354335      yes  2016-04-04 00:00:00                 0       17509   \n",
       "354338       no  2016-03-31 00:00:00                 0       41470   \n",
       "\n",
       "                   LastSeen  \n",
       "0       2016-04-07 03:16:57  \n",
       "15      2016-03-19 08:46:47  \n",
       "16      2016-04-01 12:46:46  \n",
       "23      2016-03-21 01:46:11  \n",
       "32      2016-03-17 18:17:43  \n",
       "...                     ...  \n",
       "354309  2016-04-06 22:15:32  \n",
       "354318  2016-03-19 15:49:00  \n",
       "354329  2016-04-07 13:50:41  \n",
       "354335  2016-04-06 15:46:11  \n",
       "354338  2016-04-06 14:18:04  \n",
       "\n",
       "[24612 rows x 16 columns]"
      ]
     },
     "execution_count": 35,
     "metadata": {},
     "output_type": "execute_result"
    }
   ],
   "source": [
    "df.query('Price < 499')"
   ]
  },
  {
   "cell_type": "code",
   "execution_count": 36,
   "metadata": {},
   "outputs": [],
   "source": [
    "#Домножим значение Price у этих объектов на 10\n",
    "df.loc[df['Price'] < 499, 'Price'] = df.loc[df['Price'] < 499, 'Price']*10"
   ]
  },
  {
   "cell_type": "code",
   "execution_count": 37,
   "metadata": {},
   "outputs": [],
   "source": [
    "#Оставшиеся объекты с ценами меньше 499 удаляем\n",
    "df = df.query('Price > 499')"
   ]
  },
  {
   "cell_type": "markdown",
   "metadata": {},
   "source": [
    "Рассмотрим выбросы с Price больше 14000"
   ]
  },
  {
   "cell_type": "code",
   "execution_count": 38,
   "metadata": {},
   "outputs": [
    {
     "data": {
      "text/plain": [
       "5.400760702527816"
      ]
     },
     "execution_count": 38,
     "metadata": {},
     "output_type": "execute_result"
    }
   ],
   "source": [
    "#Доля выбросов\n",
    "len(df.query('Price > @max'))/len(df)*100"
   ]
  },
  {
   "cell_type": "code",
   "execution_count": 39,
   "metadata": {},
   "outputs": [
    {
     "data": {
      "text/html": [
       "<div>\n",
       "<style scoped>\n",
       "    .dataframe tbody tr th:only-of-type {\n",
       "        vertical-align: middle;\n",
       "    }\n",
       "\n",
       "    .dataframe tbody tr th {\n",
       "        vertical-align: top;\n",
       "    }\n",
       "\n",
       "    .dataframe thead th {\n",
       "        text-align: right;\n",
       "    }\n",
       "</style>\n",
       "<table border=\"1\" class=\"dataframe\">\n",
       "  <thead>\n",
       "    <tr style=\"text-align: right;\">\n",
       "      <th></th>\n",
       "      <th>DateCrawled</th>\n",
       "      <th>Price</th>\n",
       "      <th>VehicleType</th>\n",
       "      <th>RegistrationYear</th>\n",
       "      <th>Gearbox</th>\n",
       "      <th>Power</th>\n",
       "      <th>Model</th>\n",
       "      <th>Kilometer</th>\n",
       "      <th>RegistrationMonth</th>\n",
       "      <th>FuelType</th>\n",
       "      <th>Brand</th>\n",
       "      <th>Repaired</th>\n",
       "      <th>DateCreated</th>\n",
       "      <th>NumberOfPictures</th>\n",
       "      <th>PostalCode</th>\n",
       "      <th>LastSeen</th>\n",
       "    </tr>\n",
       "  </thead>\n",
       "  <tbody>\n",
       "    <tr>\n",
       "      <th>1</th>\n",
       "      <td>2016-03-24 10:58:45</td>\n",
       "      <td>18300.0</td>\n",
       "      <td>coupe</td>\n",
       "      <td>2011</td>\n",
       "      <td>manual</td>\n",
       "      <td>190</td>\n",
       "      <td>a4</td>\n",
       "      <td>125000</td>\n",
       "      <td>5</td>\n",
       "      <td>petrol</td>\n",
       "      <td>audi</td>\n",
       "      <td>yes</td>\n",
       "      <td>2016-03-24 00:00:00</td>\n",
       "      <td>0</td>\n",
       "      <td>66954</td>\n",
       "      <td>2016-04-07 01:46:50</td>\n",
       "    </tr>\n",
       "    <tr>\n",
       "      <th>8</th>\n",
       "      <td>2016-04-04 23:42:13</td>\n",
       "      <td>14500.0</td>\n",
       "      <td>bus</td>\n",
       "      <td>2014</td>\n",
       "      <td>manual</td>\n",
       "      <td>125</td>\n",
       "      <td>c_max</td>\n",
       "      <td>30000</td>\n",
       "      <td>8</td>\n",
       "      <td>petrol</td>\n",
       "      <td>ford</td>\n",
       "      <td>no</td>\n",
       "      <td>2016-04-04 00:00:00</td>\n",
       "      <td>0</td>\n",
       "      <td>94505</td>\n",
       "      <td>2016-04-04 23:42:13</td>\n",
       "    </tr>\n",
       "    <tr>\n",
       "      <th>14</th>\n",
       "      <td>2016-03-21 12:57:01</td>\n",
       "      <td>17999.0</td>\n",
       "      <td>suv</td>\n",
       "      <td>2011</td>\n",
       "      <td>manual</td>\n",
       "      <td>190</td>\n",
       "      <td>navara</td>\n",
       "      <td>70000</td>\n",
       "      <td>3</td>\n",
       "      <td>petrol</td>\n",
       "      <td>nissan</td>\n",
       "      <td>no</td>\n",
       "      <td>2016-03-21 00:00:00</td>\n",
       "      <td>0</td>\n",
       "      <td>4177</td>\n",
       "      <td>2016-04-06 07:45:42</td>\n",
       "    </tr>\n",
       "    <tr>\n",
       "      <th>33</th>\n",
       "      <td>2016-03-25 21:48:47</td>\n",
       "      <td>18000.0</td>\n",
       "      <td>sedan</td>\n",
       "      <td>2007</td>\n",
       "      <td>auto</td>\n",
       "      <td>218</td>\n",
       "      <td>3er</td>\n",
       "      <td>20000</td>\n",
       "      <td>5</td>\n",
       "      <td>petrol</td>\n",
       "      <td>bmw</td>\n",
       "      <td>no</td>\n",
       "      <td>2016-03-25 00:00:00</td>\n",
       "      <td>0</td>\n",
       "      <td>39179</td>\n",
       "      <td>2016-04-07 04:45:21</td>\n",
       "    </tr>\n",
       "    <tr>\n",
       "      <th>50</th>\n",
       "      <td>2016-03-30 08:50:37</td>\n",
       "      <td>14800.0</td>\n",
       "      <td>convertible</td>\n",
       "      <td>2008</td>\n",
       "      <td>manual</td>\n",
       "      <td>170</td>\n",
       "      <td>1er</td>\n",
       "      <td>125000</td>\n",
       "      <td>4</td>\n",
       "      <td>petrol</td>\n",
       "      <td>bmw</td>\n",
       "      <td>no</td>\n",
       "      <td>2016-03-30 00:00:00</td>\n",
       "      <td>0</td>\n",
       "      <td>48691</td>\n",
       "      <td>2016-04-07 00:17:23</td>\n",
       "    </tr>\n",
       "    <tr>\n",
       "      <th>...</th>\n",
       "      <td>...</td>\n",
       "      <td>...</td>\n",
       "      <td>...</td>\n",
       "      <td>...</td>\n",
       "      <td>...</td>\n",
       "      <td>...</td>\n",
       "      <td>...</td>\n",
       "      <td>...</td>\n",
       "      <td>...</td>\n",
       "      <td>...</td>\n",
       "      <td>...</td>\n",
       "      <td>...</td>\n",
       "      <td>...</td>\n",
       "      <td>...</td>\n",
       "      <td>...</td>\n",
       "      <td>...</td>\n",
       "    </tr>\n",
       "    <tr>\n",
       "      <th>354259</th>\n",
       "      <td>2016-03-22 15:53:41</td>\n",
       "      <td>15000.0</td>\n",
       "      <td>sedan</td>\n",
       "      <td>2013</td>\n",
       "      <td>auto</td>\n",
       "      <td>115</td>\n",
       "      <td>focus</td>\n",
       "      <td>60000</td>\n",
       "      <td>10</td>\n",
       "      <td>petrol</td>\n",
       "      <td>ford</td>\n",
       "      <td>no</td>\n",
       "      <td>2016-03-22 00:00:00</td>\n",
       "      <td>0</td>\n",
       "      <td>24340</td>\n",
       "      <td>2016-03-31 13:47:54</td>\n",
       "    </tr>\n",
       "    <tr>\n",
       "      <th>354279</th>\n",
       "      <td>2016-03-11 11:59:21</td>\n",
       "      <td>16500.0</td>\n",
       "      <td>suv</td>\n",
       "      <td>2013</td>\n",
       "      <td>manual</td>\n",
       "      <td>116</td>\n",
       "      <td>i_reihe</td>\n",
       "      <td>30000</td>\n",
       "      <td>9</td>\n",
       "      <td>petrol</td>\n",
       "      <td>hyundai</td>\n",
       "      <td>no</td>\n",
       "      <td>2016-03-11 00:00:00</td>\n",
       "      <td>0</td>\n",
       "      <td>76297</td>\n",
       "      <td>2016-04-07 06:16:09</td>\n",
       "    </tr>\n",
       "    <tr>\n",
       "      <th>354286</th>\n",
       "      <td>2016-03-21 20:44:38</td>\n",
       "      <td>16500.0</td>\n",
       "      <td>coupe</td>\n",
       "      <td>1973</td>\n",
       "      <td>manual</td>\n",
       "      <td>200</td>\n",
       "      <td>other</td>\n",
       "      <td>150000</td>\n",
       "      <td>6</td>\n",
       "      <td>petrol</td>\n",
       "      <td>bmw</td>\n",
       "      <td>yes</td>\n",
       "      <td>2016-03-21 00:00:00</td>\n",
       "      <td>0</td>\n",
       "      <td>74722</td>\n",
       "      <td>2016-04-06 19:16:32</td>\n",
       "    </tr>\n",
       "    <tr>\n",
       "      <th>354306</th>\n",
       "      <td>2016-04-02 23:25:40</td>\n",
       "      <td>16999.0</td>\n",
       "      <td>wagon</td>\n",
       "      <td>2008</td>\n",
       "      <td>auto</td>\n",
       "      <td>269</td>\n",
       "      <td>a6</td>\n",
       "      <td>150000</td>\n",
       "      <td>7</td>\n",
       "      <td>petrol</td>\n",
       "      <td>audi</td>\n",
       "      <td>no</td>\n",
       "      <td>2016-04-02 00:00:00</td>\n",
       "      <td>0</td>\n",
       "      <td>61440</td>\n",
       "      <td>2016-04-06 15:17:04</td>\n",
       "    </tr>\n",
       "    <tr>\n",
       "      <th>354319</th>\n",
       "      <td>2016-03-25 17:48:10</td>\n",
       "      <td>19800.0</td>\n",
       "      <td>sedan</td>\n",
       "      <td>2011</td>\n",
       "      <td>manual</td>\n",
       "      <td>170</td>\n",
       "      <td>1er</td>\n",
       "      <td>80000</td>\n",
       "      <td>12</td>\n",
       "      <td>petrol</td>\n",
       "      <td>bmw</td>\n",
       "      <td>no</td>\n",
       "      <td>2016-03-25 00:00:00</td>\n",
       "      <td>0</td>\n",
       "      <td>41460</td>\n",
       "      <td>2016-04-06 22:47:12</td>\n",
       "    </tr>\n",
       "  </tbody>\n",
       "</table>\n",
       "<p>19013 rows × 16 columns</p>\n",
       "</div>"
      ],
      "text/plain": [
       "                DateCrawled    Price  VehicleType  RegistrationYear Gearbox  \\\n",
       "1       2016-03-24 10:58:45  18300.0        coupe              2011  manual   \n",
       "8       2016-04-04 23:42:13  14500.0          bus              2014  manual   \n",
       "14      2016-03-21 12:57:01  17999.0          suv              2011  manual   \n",
       "33      2016-03-25 21:48:47  18000.0        sedan              2007    auto   \n",
       "50      2016-03-30 08:50:37  14800.0  convertible              2008  manual   \n",
       "...                     ...      ...          ...               ...     ...   \n",
       "354259  2016-03-22 15:53:41  15000.0        sedan              2013    auto   \n",
       "354279  2016-03-11 11:59:21  16500.0          suv              2013  manual   \n",
       "354286  2016-03-21 20:44:38  16500.0        coupe              1973  manual   \n",
       "354306  2016-04-02 23:25:40  16999.0        wagon              2008    auto   \n",
       "354319  2016-03-25 17:48:10  19800.0        sedan              2011  manual   \n",
       "\n",
       "        Power    Model  Kilometer  RegistrationMonth FuelType    Brand  \\\n",
       "1         190       a4     125000                  5   petrol     audi   \n",
       "8         125    c_max      30000                  8   petrol     ford   \n",
       "14        190   navara      70000                  3   petrol   nissan   \n",
       "33        218      3er      20000                  5   petrol      bmw   \n",
       "50        170      1er     125000                  4   petrol      bmw   \n",
       "...       ...      ...        ...                ...      ...      ...   \n",
       "354259    115    focus      60000                 10   petrol     ford   \n",
       "354279    116  i_reihe      30000                  9   petrol  hyundai   \n",
       "354286    200    other     150000                  6   petrol      bmw   \n",
       "354306    269       a6     150000                  7   petrol     audi   \n",
       "354319    170      1er      80000                 12   petrol      bmw   \n",
       "\n",
       "       Repaired          DateCreated  NumberOfPictures  PostalCode  \\\n",
       "1           yes  2016-03-24 00:00:00                 0       66954   \n",
       "8            no  2016-04-04 00:00:00                 0       94505   \n",
       "14           no  2016-03-21 00:00:00                 0        4177   \n",
       "33           no  2016-03-25 00:00:00                 0       39179   \n",
       "50           no  2016-03-30 00:00:00                 0       48691   \n",
       "...         ...                  ...               ...         ...   \n",
       "354259       no  2016-03-22 00:00:00                 0       24340   \n",
       "354279       no  2016-03-11 00:00:00                 0       76297   \n",
       "354286      yes  2016-03-21 00:00:00                 0       74722   \n",
       "354306       no  2016-04-02 00:00:00                 0       61440   \n",
       "354319       no  2016-03-25 00:00:00                 0       41460   \n",
       "\n",
       "                   LastSeen  \n",
       "1       2016-04-07 01:46:50  \n",
       "8       2016-04-04 23:42:13  \n",
       "14      2016-04-06 07:45:42  \n",
       "33      2016-04-07 04:45:21  \n",
       "50      2016-04-07 00:17:23  \n",
       "...                     ...  \n",
       "354259  2016-03-31 13:47:54  \n",
       "354279  2016-04-07 06:16:09  \n",
       "354286  2016-04-06 19:16:32  \n",
       "354306  2016-04-06 15:17:04  \n",
       "354319  2016-04-06 22:47:12  \n",
       "\n",
       "[19013 rows x 16 columns]"
      ]
     },
     "execution_count": 39,
     "metadata": {},
     "output_type": "execute_result"
    }
   ],
   "source": [
    "df.query('Price > @max')"
   ]
  },
  {
   "cell_type": "markdown",
   "metadata": {},
   "source": [
    "**Столбец 'RegistrationYear'**"
   ]
  },
  {
   "cell_type": "code",
   "execution_count": 40,
   "metadata": {},
   "outputs": [
    {
     "data": {
      "image/png": "[encoded data removed]",
      "text/plain": [
       "<Figure size 1800x144 with 1 Axes>"
      ]
     },
     "metadata": {},
     "output_type": "display_data"
    }
   ],
   "source": [
    "#Построим boxplot\n",
    "plt.figure(figsize =(25, 2))\n",
    "boxplot = sns.boxplot(df['RegistrationYear']);\n",
    "#boxplot.set_xlim(1900, 2021);"
   ]
  },
  {
   "cell_type": "code",
   "execution_count": 41,
   "metadata": {},
   "outputs": [
    {
     "name": "stdout",
     "output_type": "stream",
     "text": [
      "2021.5\n",
      "1985.5\n"
     ]
    }
   ],
   "source": [
    "#Найдём верхние и нижние границы усов\n",
    "column = 'RegistrationYear'\n",
    "max = df.describe()[column]['75%'] + (df.describe()[column]['75%'] - df.describe()[column]['25%'])*1.5\n",
    "min = df.describe()[column]['25%'] - (df.describe()[column]['75%'] - df.describe()[column]['25%'])*1.5\n",
    "print(max)\n",
    "print(min)"
   ]
  },
  {
   "cell_type": "code",
   "execution_count": 42,
   "metadata": {},
   "outputs": [
    {
     "name": "stdout",
     "output_type": "stream",
     "text": [
      "0.028405620904264538\n"
     ]
    },
    {
     "data": {
      "text/plain": [
       "1.7270617509792838"
      ]
     },
     "execution_count": 42,
     "metadata": {},
     "output_type": "execute_result"
    }
   ],
   "source": [
    "#Выведем процент объектов с RegistrationYear больше верхней и нижней границ усов\n",
    "print(len(df.query('RegistrationYear >@max'))/len(df)*100)\n",
    "len(df.query('RegistrationYear <@min'))/len(df)*100"
   ]
  },
  {
   "cell_type": "markdown",
   "metadata": {},
   "source": [
    "В обоих случаях % < 5, можно удалить объекты"
   ]
  },
  {
   "cell_type": "code",
   "execution_count": 43,
   "metadata": {},
   "outputs": [],
   "source": [
    "#Удаляем объекты с RegistrationYear больше верхней границы\n",
    "df = df.query('RegistrationYear < @max')\n",
    "#Удаляем объекты с RegistrationYear меньше нижней границы\n",
    "df = df.query('RegistrationYear > @min')"
   ]
  },
  {
   "cell_type": "markdown",
   "metadata": {},
   "source": [
    "**Столбец 'Power'**"
   ]
  },
  {
   "cell_type": "code",
   "execution_count": 44,
   "metadata": {
    "scrolled": true
   },
   "outputs": [
    {
     "data": {
      "image/png": "[encoded data removed]",
      "text/plain": [
       "<Figure size 1800x144 with 1 Axes>"
      ]
     },
     "metadata": {},
     "output_type": "display_data"
    }
   ],
   "source": [
    "#Строим \"ящик с усами\"\n",
    "plt.figure(figsize =(25, 2))\n",
    "sns.boxplot(df['Power']);#.set_xlim(-10, 3000);"
   ]
  },
  {
   "cell_type": "code",
   "execution_count": 45,
   "metadata": {},
   "outputs": [
    {
     "name": "stdout",
     "output_type": "stream",
     "text": [
      "-42.0\n",
      "254.0\n"
     ]
    }
   ],
   "source": [
    "#Формулы для подсчёта верхней и нижней границы \"усов\"\n",
    "column = 'Power'\n",
    "max = df.describe()[column]['75%'] + (df.describe()[column]['75%'] - df.describe()[column]['25%'])*1.5\n",
    "min = df.describe()[column]['25%'] - (df.describe()[column]['75%'] - df.describe()[column]['25%'])*1.5\n",
    "print(min)\n",
    "print(max)"
   ]
  },
  {
   "cell_type": "code",
   "execution_count": 46,
   "metadata": {},
   "outputs": [
    {
     "data": {
      "text/plain": [
       "0             0\n",
       "295156        0\n",
       "201491        0\n",
       "295154        0\n",
       "295149        0\n",
       "          ...  \n",
       "63986     17932\n",
       "132485    19208\n",
       "114106    19211\n",
       "299180    19312\n",
       "219584    20000\n",
       "Name: Power, Length: 345863, dtype: int64"
      ]
     },
     "execution_count": 46,
     "metadata": {},
     "output_type": "execute_result"
    }
   ],
   "source": [
    "#Выведем столбец впорядке убывания\n",
    "df['Power'].sort_values()"
   ]
  },
  {
   "cell_type": "code",
   "execution_count": 47,
   "metadata": {},
   "outputs": [
    {
     "data": {
      "text/plain": [
       "69.0"
      ]
     },
     "execution_count": 47,
     "metadata": {},
     "output_type": "execute_result"
    }
   ],
   "source": [
    "#Найдём значение первого квантиля\n",
    "min_25 = df.describe()['Power']['25%']\n",
    "min_25"
   ]
  },
  {
   "cell_type": "code",
   "execution_count": 48,
   "metadata": {},
   "outputs": [
    {
     "data": {
      "text/html": [
       "<div>\n",
       "<style scoped>\n",
       "    .dataframe tbody tr th:only-of-type {\n",
       "        vertical-align: middle;\n",
       "    }\n",
       "\n",
       "    .dataframe tbody tr th {\n",
       "        vertical-align: top;\n",
       "    }\n",
       "\n",
       "    .dataframe thead th {\n",
       "        text-align: right;\n",
       "    }\n",
       "</style>\n",
       "<table border=\"1\" class=\"dataframe\">\n",
       "  <thead>\n",
       "    <tr style=\"text-align: right;\">\n",
       "      <th></th>\n",
       "      <th>DateCrawled</th>\n",
       "      <th>Price</th>\n",
       "      <th>VehicleType</th>\n",
       "      <th>RegistrationYear</th>\n",
       "      <th>Gearbox</th>\n",
       "      <th>Power</th>\n",
       "      <th>Model</th>\n",
       "      <th>Kilometer</th>\n",
       "      <th>RegistrationMonth</th>\n",
       "      <th>FuelType</th>\n",
       "      <th>Brand</th>\n",
       "      <th>Repaired</th>\n",
       "      <th>DateCreated</th>\n",
       "      <th>NumberOfPictures</th>\n",
       "      <th>PostalCode</th>\n",
       "      <th>LastSeen</th>\n",
       "    </tr>\n",
       "  </thead>\n",
       "  <tbody>\n",
       "    <tr>\n",
       "      <th>0</th>\n",
       "      <td>2016-03-24 11:52:17</td>\n",
       "      <td>4800.0</td>\n",
       "      <td>sedan</td>\n",
       "      <td>1993</td>\n",
       "      <td>manual</td>\n",
       "      <td>0</td>\n",
       "      <td>golf</td>\n",
       "      <td>150000</td>\n",
       "      <td>0</td>\n",
       "      <td>petrol</td>\n",
       "      <td>volkswagen</td>\n",
       "      <td>no</td>\n",
       "      <td>2016-03-24 00:00:00</td>\n",
       "      <td>0</td>\n",
       "      <td>70435</td>\n",
       "      <td>2016-04-07 03:16:57</td>\n",
       "    </tr>\n",
       "    <tr>\n",
       "      <th>16</th>\n",
       "      <td>2016-04-01 12:46:46</td>\n",
       "      <td>3000.0</td>\n",
       "      <td>small</td>\n",
       "      <td>2016</td>\n",
       "      <td>manual</td>\n",
       "      <td>60</td>\n",
       "      <td>polo</td>\n",
       "      <td>150000</td>\n",
       "      <td>0</td>\n",
       "      <td>petrol</td>\n",
       "      <td>volkswagen</td>\n",
       "      <td>no</td>\n",
       "      <td>2016-04-01 00:00:00</td>\n",
       "      <td>0</td>\n",
       "      <td>38871</td>\n",
       "      <td>2016-04-01 12:46:46</td>\n",
       "    </tr>\n",
       "    <tr>\n",
       "      <th>23</th>\n",
       "      <td>2016-03-12 19:43:07</td>\n",
       "      <td>4500.0</td>\n",
       "      <td>small</td>\n",
       "      <td>1997</td>\n",
       "      <td>manual</td>\n",
       "      <td>50</td>\n",
       "      <td>arosa</td>\n",
       "      <td>150000</td>\n",
       "      <td>5</td>\n",
       "      <td>petrol</td>\n",
       "      <td>seat</td>\n",
       "      <td>no</td>\n",
       "      <td>2016-03-12 00:00:00</td>\n",
       "      <td>0</td>\n",
       "      <td>9526</td>\n",
       "      <td>2016-03-21 01:46:11</td>\n",
       "    </tr>\n",
       "    <tr>\n",
       "      <th>29</th>\n",
       "      <td>2016-03-08 19:55:19</td>\n",
       "      <td>690.0</td>\n",
       "      <td>small</td>\n",
       "      <td>2003</td>\n",
       "      <td>manual</td>\n",
       "      <td>60</td>\n",
       "      <td>punto</td>\n",
       "      <td>150000</td>\n",
       "      <td>3</td>\n",
       "      <td>petrol</td>\n",
       "      <td>fiat</td>\n",
       "      <td>no</td>\n",
       "      <td>2016-03-08 00:00:00</td>\n",
       "      <td>0</td>\n",
       "      <td>86199</td>\n",
       "      <td>2016-03-09 11:45:28</td>\n",
       "    </tr>\n",
       "    <tr>\n",
       "      <th>31</th>\n",
       "      <td>2016-03-29 16:57:02</td>\n",
       "      <td>899.0</td>\n",
       "      <td>small</td>\n",
       "      <td>2016</td>\n",
       "      <td>manual</td>\n",
       "      <td>60</td>\n",
       "      <td>clio</td>\n",
       "      <td>150000</td>\n",
       "      <td>6</td>\n",
       "      <td>petrol</td>\n",
       "      <td>renault</td>\n",
       "      <td>no</td>\n",
       "      <td>2016-03-29 00:00:00</td>\n",
       "      <td>0</td>\n",
       "      <td>37075</td>\n",
       "      <td>2016-03-29 17:43:07</td>\n",
       "    </tr>\n",
       "    <tr>\n",
       "      <th>...</th>\n",
       "      <td>...</td>\n",
       "      <td>...</td>\n",
       "      <td>...</td>\n",
       "      <td>...</td>\n",
       "      <td>...</td>\n",
       "      <td>...</td>\n",
       "      <td>...</td>\n",
       "      <td>...</td>\n",
       "      <td>...</td>\n",
       "      <td>...</td>\n",
       "      <td>...</td>\n",
       "      <td>...</td>\n",
       "      <td>...</td>\n",
       "      <td>...</td>\n",
       "      <td>...</td>\n",
       "      <td>...</td>\n",
       "    </tr>\n",
       "    <tr>\n",
       "      <th>354358</th>\n",
       "      <td>2016-04-04 09:57:12</td>\n",
       "      <td>1490.0</td>\n",
       "      <td>small</td>\n",
       "      <td>1998</td>\n",
       "      <td>manual</td>\n",
       "      <td>50</td>\n",
       "      <td>lupo</td>\n",
       "      <td>150000</td>\n",
       "      <td>9</td>\n",
       "      <td>petrol</td>\n",
       "      <td>volkswagen</td>\n",
       "      <td>no</td>\n",
       "      <td>2016-04-04 00:00:00</td>\n",
       "      <td>0</td>\n",
       "      <td>48653</td>\n",
       "      <td>2016-04-06 11:17:13</td>\n",
       "    </tr>\n",
       "    <tr>\n",
       "      <th>354360</th>\n",
       "      <td>2016-04-02 20:37:03</td>\n",
       "      <td>3999.0</td>\n",
       "      <td>wagon</td>\n",
       "      <td>2005</td>\n",
       "      <td>manual</td>\n",
       "      <td>3</td>\n",
       "      <td>3er</td>\n",
       "      <td>150000</td>\n",
       "      <td>5</td>\n",
       "      <td>petrol</td>\n",
       "      <td>bmw</td>\n",
       "      <td>no</td>\n",
       "      <td>2016-04-02 00:00:00</td>\n",
       "      <td>0</td>\n",
       "      <td>81825</td>\n",
       "      <td>2016-04-06 20:47:12</td>\n",
       "    </tr>\n",
       "    <tr>\n",
       "      <th>354363</th>\n",
       "      <td>2016-03-27 20:36:20</td>\n",
       "      <td>1150.0</td>\n",
       "      <td>bus</td>\n",
       "      <td>2000</td>\n",
       "      <td>manual</td>\n",
       "      <td>0</td>\n",
       "      <td>zafira</td>\n",
       "      <td>150000</td>\n",
       "      <td>3</td>\n",
       "      <td>petrol</td>\n",
       "      <td>opel</td>\n",
       "      <td>no</td>\n",
       "      <td>2016-03-27 00:00:00</td>\n",
       "      <td>0</td>\n",
       "      <td>26624</td>\n",
       "      <td>2016-03-29 10:17:23</td>\n",
       "    </tr>\n",
       "    <tr>\n",
       "      <th>354364</th>\n",
       "      <td>2016-03-21 09:50:58</td>\n",
       "      <td>1794.5</td>\n",
       "      <td>sedan</td>\n",
       "      <td>2005</td>\n",
       "      <td>manual</td>\n",
       "      <td>0</td>\n",
       "      <td>colt</td>\n",
       "      <td>150000</td>\n",
       "      <td>7</td>\n",
       "      <td>petrol</td>\n",
       "      <td>mitsubishi</td>\n",
       "      <td>yes</td>\n",
       "      <td>2016-03-21 00:00:00</td>\n",
       "      <td>0</td>\n",
       "      <td>2694</td>\n",
       "      <td>2016-03-21 10:42:49</td>\n",
       "    </tr>\n",
       "    <tr>\n",
       "      <th>354365</th>\n",
       "      <td>2016-03-14 17:48:27</td>\n",
       "      <td>2200.0</td>\n",
       "      <td>sedan</td>\n",
       "      <td>2005</td>\n",
       "      <td>manual</td>\n",
       "      <td>0</td>\n",
       "      <td>other</td>\n",
       "      <td>20000</td>\n",
       "      <td>1</td>\n",
       "      <td>petrol</td>\n",
       "      <td>sonstige_autos</td>\n",
       "      <td>no</td>\n",
       "      <td>2016-03-14 00:00:00</td>\n",
       "      <td>0</td>\n",
       "      <td>39576</td>\n",
       "      <td>2016-04-06 00:46:52</td>\n",
       "    </tr>\n",
       "  </tbody>\n",
       "</table>\n",
       "<p>83622 rows × 16 columns</p>\n",
       "</div>"
      ],
      "text/plain": [
       "                DateCrawled   Price VehicleType  RegistrationYear Gearbox  \\\n",
       "0       2016-03-24 11:52:17  4800.0       sedan              1993  manual   \n",
       "16      2016-04-01 12:46:46  3000.0       small              2016  manual   \n",
       "23      2016-03-12 19:43:07  4500.0       small              1997  manual   \n",
       "29      2016-03-08 19:55:19   690.0       small              2003  manual   \n",
       "31      2016-03-29 16:57:02   899.0       small              2016  manual   \n",
       "...                     ...     ...         ...               ...     ...   \n",
       "354358  2016-04-04 09:57:12  1490.0       small              1998  manual   \n",
       "354360  2016-04-02 20:37:03  3999.0       wagon              2005  manual   \n",
       "354363  2016-03-27 20:36:20  1150.0         bus              2000  manual   \n",
       "354364  2016-03-21 09:50:58  1794.5       sedan              2005  manual   \n",
       "354365  2016-03-14 17:48:27  2200.0       sedan              2005  manual   \n",
       "\n",
       "        Power   Model  Kilometer  RegistrationMonth FuelType           Brand  \\\n",
       "0           0    golf     150000                  0   petrol      volkswagen   \n",
       "16         60    polo     150000                  0   petrol      volkswagen   \n",
       "23         50   arosa     150000                  5   petrol            seat   \n",
       "29         60   punto     150000                  3   petrol            fiat   \n",
       "31         60    clio     150000                  6   petrol         renault   \n",
       "...       ...     ...        ...                ...      ...             ...   \n",
       "354358     50    lupo     150000                  9   petrol      volkswagen   \n",
       "354360      3     3er     150000                  5   petrol             bmw   \n",
       "354363      0  zafira     150000                  3   petrol            opel   \n",
       "354364      0    colt     150000                  7   petrol      mitsubishi   \n",
       "354365      0   other      20000                  1   petrol  sonstige_autos   \n",
       "\n",
       "       Repaired          DateCreated  NumberOfPictures  PostalCode  \\\n",
       "0            no  2016-03-24 00:00:00                 0       70435   \n",
       "16           no  2016-04-01 00:00:00                 0       38871   \n",
       "23           no  2016-03-12 00:00:00                 0        9526   \n",
       "29           no  2016-03-08 00:00:00                 0       86199   \n",
       "31           no  2016-03-29 00:00:00                 0       37075   \n",
       "...         ...                  ...               ...         ...   \n",
       "354358       no  2016-04-04 00:00:00                 0       48653   \n",
       "354360       no  2016-04-02 00:00:00                 0       81825   \n",
       "354363       no  2016-03-27 00:00:00                 0       26624   \n",
       "354364      yes  2016-03-21 00:00:00                 0        2694   \n",
       "354365       no  2016-03-14 00:00:00                 0       39576   \n",
       "\n",
       "                   LastSeen  \n",
       "0       2016-04-07 03:16:57  \n",
       "16      2016-04-01 12:46:46  \n",
       "23      2016-03-21 01:46:11  \n",
       "29      2016-03-09 11:45:28  \n",
       "31      2016-03-29 17:43:07  \n",
       "...                     ...  \n",
       "354358  2016-04-06 11:17:13  \n",
       "354360  2016-04-06 20:47:12  \n",
       "354363  2016-03-29 10:17:23  \n",
       "354364  2016-03-21 10:42:49  \n",
       "354365  2016-04-06 00:46:52  \n",
       "\n",
       "[83622 rows x 16 columns]"
      ]
     },
     "execution_count": 48,
     "metadata": {},
     "output_type": "execute_result"
    }
   ],
   "source": [
    "df.loc[df['Power'] < min_25]"
   ]
  },
  {
   "cell_type": "code",
   "execution_count": 49,
   "metadata": {},
   "outputs": [],
   "source": [
    "#Заменим значения меньше 50 на медиану\n",
    "df.loc[df['Power'] < 50, 'Power'] = df['Power'].median()"
   ]
  },
  {
   "cell_type": "code",
   "execution_count": 50,
   "metadata": {},
   "outputs": [],
   "source": [
    "#Разделим значения больше 500 на 10\n",
    "df.loc[df['Power'] > 500, 'Power'] = df.loc[df['Power'] > 500, 'Power']/10"
   ]
  },
  {
   "cell_type": "code",
   "execution_count": 51,
   "metadata": {},
   "outputs": [
    {
     "data": {
      "text/html": [
       "<div>\n",
       "<style scoped>\n",
       "    .dataframe tbody tr th:only-of-type {\n",
       "        vertical-align: middle;\n",
       "    }\n",
       "\n",
       "    .dataframe tbody tr th {\n",
       "        vertical-align: top;\n",
       "    }\n",
       "\n",
       "    .dataframe thead th {\n",
       "        text-align: right;\n",
       "    }\n",
       "</style>\n",
       "<table border=\"1\" class=\"dataframe\">\n",
       "  <thead>\n",
       "    <tr style=\"text-align: right;\">\n",
       "      <th></th>\n",
       "      <th>DateCrawled</th>\n",
       "      <th>Price</th>\n",
       "      <th>VehicleType</th>\n",
       "      <th>RegistrationYear</th>\n",
       "      <th>Gearbox</th>\n",
       "      <th>Power</th>\n",
       "      <th>Model</th>\n",
       "      <th>Kilometer</th>\n",
       "      <th>RegistrationMonth</th>\n",
       "      <th>FuelType</th>\n",
       "      <th>Brand</th>\n",
       "      <th>Repaired</th>\n",
       "      <th>DateCreated</th>\n",
       "      <th>NumberOfPictures</th>\n",
       "      <th>PostalCode</th>\n",
       "      <th>LastSeen</th>\n",
       "    </tr>\n",
       "  </thead>\n",
       "  <tbody>\n",
       "    <tr>\n",
       "      <th>7661</th>\n",
       "      <td>2016-04-02 19:25:25</td>\n",
       "      <td>1499.0</td>\n",
       "      <td>small</td>\n",
       "      <td>1999</td>\n",
       "      <td>manual</td>\n",
       "      <td>751.5</td>\n",
       "      <td>lupo</td>\n",
       "      <td>150000</td>\n",
       "      <td>4</td>\n",
       "      <td>petrol</td>\n",
       "      <td>volkswagen</td>\n",
       "      <td>no</td>\n",
       "      <td>2016-04-02 00:00:00</td>\n",
       "      <td>0</td>\n",
       "      <td>65830</td>\n",
       "      <td>2016-04-06 11:46:49</td>\n",
       "    </tr>\n",
       "    <tr>\n",
       "      <th>11039</th>\n",
       "      <td>2016-03-25 19:55:32</td>\n",
       "      <td>2800.0</td>\n",
       "      <td>sedan</td>\n",
       "      <td>1998</td>\n",
       "      <td>manual</td>\n",
       "      <td>1031.7</td>\n",
       "      <td>other</td>\n",
       "      <td>150000</td>\n",
       "      <td>8</td>\n",
       "      <td>petrol</td>\n",
       "      <td>fiat</td>\n",
       "      <td>no</td>\n",
       "      <td>2016-03-25 00:00:00</td>\n",
       "      <td>0</td>\n",
       "      <td>57520</td>\n",
       "      <td>2016-04-01 19:16:33</td>\n",
       "    </tr>\n",
       "    <tr>\n",
       "      <th>25232</th>\n",
       "      <td>2016-03-28 19:57:39</td>\n",
       "      <td>10900.0</td>\n",
       "      <td>bus</td>\n",
       "      <td>2009</td>\n",
       "      <td>manual</td>\n",
       "      <td>1052.0</td>\n",
       "      <td>caddy</td>\n",
       "      <td>150000</td>\n",
       "      <td>6</td>\n",
       "      <td>petrol</td>\n",
       "      <td>volkswagen</td>\n",
       "      <td>no</td>\n",
       "      <td>2016-03-28 00:00:00</td>\n",
       "      <td>0</td>\n",
       "      <td>36272</td>\n",
       "      <td>2016-04-07 02:47:02</td>\n",
       "    </tr>\n",
       "    <tr>\n",
       "      <th>33952</th>\n",
       "      <td>2016-03-09 11:37:03</td>\n",
       "      <td>3740.0</td>\n",
       "      <td>small</td>\n",
       "      <td>2006</td>\n",
       "      <td>manual</td>\n",
       "      <td>692.0</td>\n",
       "      <td>aygo</td>\n",
       "      <td>90000</td>\n",
       "      <td>10</td>\n",
       "      <td>petrol</td>\n",
       "      <td>toyota</td>\n",
       "      <td>no</td>\n",
       "      <td>2016-03-09 00:00:00</td>\n",
       "      <td>0</td>\n",
       "      <td>94116</td>\n",
       "      <td>2016-03-17 05:16:32</td>\n",
       "    </tr>\n",
       "    <tr>\n",
       "      <th>44520</th>\n",
       "      <td>2016-03-10 22:37:21</td>\n",
       "      <td>2500.0</td>\n",
       "      <td>convertible</td>\n",
       "      <td>1998</td>\n",
       "      <td>manual</td>\n",
       "      <td>751.2</td>\n",
       "      <td>golf</td>\n",
       "      <td>150000</td>\n",
       "      <td>6</td>\n",
       "      <td>petrol</td>\n",
       "      <td>volkswagen</td>\n",
       "      <td>no</td>\n",
       "      <td>2016-03-10 00:00:00</td>\n",
       "      <td>0</td>\n",
       "      <td>68239</td>\n",
       "      <td>2016-04-05 15:17:50</td>\n",
       "    </tr>\n",
       "    <tr>\n",
       "      <th>...</th>\n",
       "      <td>...</td>\n",
       "      <td>...</td>\n",
       "      <td>...</td>\n",
       "      <td>...</td>\n",
       "      <td>...</td>\n",
       "      <td>...</td>\n",
       "      <td>...</td>\n",
       "      <td>...</td>\n",
       "      <td>...</td>\n",
       "      <td>...</td>\n",
       "      <td>...</td>\n",
       "      <td>...</td>\n",
       "      <td>...</td>\n",
       "      <td>...</td>\n",
       "      <td>...</td>\n",
       "      <td>...</td>\n",
       "    </tr>\n",
       "    <tr>\n",
       "      <th>328862</th>\n",
       "      <td>2016-03-20 09:57:28</td>\n",
       "      <td>850.0</td>\n",
       "      <td>small</td>\n",
       "      <td>2000</td>\n",
       "      <td>manual</td>\n",
       "      <td>850.0</td>\n",
       "      <td>corsa</td>\n",
       "      <td>150000</td>\n",
       "      <td>3</td>\n",
       "      <td>petrol</td>\n",
       "      <td>opel</td>\n",
       "      <td>no</td>\n",
       "      <td>2016-03-20 00:00:00</td>\n",
       "      <td>0</td>\n",
       "      <td>26721</td>\n",
       "      <td>2016-04-04 05:50:15</td>\n",
       "    </tr>\n",
       "    <tr>\n",
       "      <th>339642</th>\n",
       "      <td>2016-03-07 16:58:44</td>\n",
       "      <td>600.0</td>\n",
       "      <td>sedan</td>\n",
       "      <td>2000</td>\n",
       "      <td>manual</td>\n",
       "      <td>1011.0</td>\n",
       "      <td>focus</td>\n",
       "      <td>125000</td>\n",
       "      <td>12</td>\n",
       "      <td>petrol</td>\n",
       "      <td>ford</td>\n",
       "      <td>no</td>\n",
       "      <td>2016-03-07 00:00:00</td>\n",
       "      <td>0</td>\n",
       "      <td>35066</td>\n",
       "      <td>2016-03-07 17:41:33</td>\n",
       "    </tr>\n",
       "    <tr>\n",
       "      <th>341320</th>\n",
       "      <td>2016-03-29 21:40:33</td>\n",
       "      <td>1899.0</td>\n",
       "      <td>other</td>\n",
       "      <td>2006</td>\n",
       "      <td>manual</td>\n",
       "      <td>751.8</td>\n",
       "      <td>berlingo</td>\n",
       "      <td>125000</td>\n",
       "      <td>11</td>\n",
       "      <td>petrol</td>\n",
       "      <td>citroen</td>\n",
       "      <td>yes</td>\n",
       "      <td>2016-03-29 00:00:00</td>\n",
       "      <td>0</td>\n",
       "      <td>89428</td>\n",
       "      <td>2016-03-31 15:17:03</td>\n",
       "    </tr>\n",
       "    <tr>\n",
       "      <th>346639</th>\n",
       "      <td>2016-03-25 12:55:36</td>\n",
       "      <td>1300.0</td>\n",
       "      <td>sedan</td>\n",
       "      <td>2000</td>\n",
       "      <td>manual</td>\n",
       "      <td>1251.2</td>\n",
       "      <td>carisma</td>\n",
       "      <td>150000</td>\n",
       "      <td>9</td>\n",
       "      <td>petrol</td>\n",
       "      <td>mitsubishi</td>\n",
       "      <td>no</td>\n",
       "      <td>2016-03-25 00:00:00</td>\n",
       "      <td>0</td>\n",
       "      <td>42105</td>\n",
       "      <td>2016-04-06 14:44:53</td>\n",
       "    </tr>\n",
       "    <tr>\n",
       "      <th>348137</th>\n",
       "      <td>2016-03-16 21:48:39</td>\n",
       "      <td>850.0</td>\n",
       "      <td>sedan</td>\n",
       "      <td>1993</td>\n",
       "      <td>auto</td>\n",
       "      <td>901.2</td>\n",
       "      <td>golf</td>\n",
       "      <td>150000</td>\n",
       "      <td>0</td>\n",
       "      <td>petrol</td>\n",
       "      <td>volkswagen</td>\n",
       "      <td>no</td>\n",
       "      <td>2016-03-16 00:00:00</td>\n",
       "      <td>0</td>\n",
       "      <td>14482</td>\n",
       "      <td>2016-04-03 09:17:43</td>\n",
       "    </tr>\n",
       "  </tbody>\n",
       "</table>\n",
       "<p>81 rows × 16 columns</p>\n",
       "</div>"
      ],
      "text/plain": [
       "                DateCrawled    Price  VehicleType  RegistrationYear Gearbox  \\\n",
       "7661    2016-04-02 19:25:25   1499.0        small              1999  manual   \n",
       "11039   2016-03-25 19:55:32   2800.0        sedan              1998  manual   \n",
       "25232   2016-03-28 19:57:39  10900.0          bus              2009  manual   \n",
       "33952   2016-03-09 11:37:03   3740.0        small              2006  manual   \n",
       "44520   2016-03-10 22:37:21   2500.0  convertible              1998  manual   \n",
       "...                     ...      ...          ...               ...     ...   \n",
       "328862  2016-03-20 09:57:28    850.0        small              2000  manual   \n",
       "339642  2016-03-07 16:58:44    600.0        sedan              2000  manual   \n",
       "341320  2016-03-29 21:40:33   1899.0        other              2006  manual   \n",
       "346639  2016-03-25 12:55:36   1300.0        sedan              2000  manual   \n",
       "348137  2016-03-16 21:48:39    850.0        sedan              1993    auto   \n",
       "\n",
       "         Power     Model  Kilometer  RegistrationMonth FuelType       Brand  \\\n",
       "7661     751.5      lupo     150000                  4   petrol  volkswagen   \n",
       "11039   1031.7     other     150000                  8   petrol        fiat   \n",
       "25232   1052.0     caddy     150000                  6   petrol  volkswagen   \n",
       "33952    692.0      aygo      90000                 10   petrol      toyota   \n",
       "44520    751.2      golf     150000                  6   petrol  volkswagen   \n",
       "...        ...       ...        ...                ...      ...         ...   \n",
       "328862   850.0     corsa     150000                  3   petrol        opel   \n",
       "339642  1011.0     focus     125000                 12   petrol        ford   \n",
       "341320   751.8  berlingo     125000                 11   petrol     citroen   \n",
       "346639  1251.2   carisma     150000                  9   petrol  mitsubishi   \n",
       "348137   901.2      golf     150000                  0   petrol  volkswagen   \n",
       "\n",
       "       Repaired          DateCreated  NumberOfPictures  PostalCode  \\\n",
       "7661         no  2016-04-02 00:00:00                 0       65830   \n",
       "11039        no  2016-03-25 00:00:00                 0       57520   \n",
       "25232        no  2016-03-28 00:00:00                 0       36272   \n",
       "33952        no  2016-03-09 00:00:00                 0       94116   \n",
       "44520        no  2016-03-10 00:00:00                 0       68239   \n",
       "...         ...                  ...               ...         ...   \n",
       "328862       no  2016-03-20 00:00:00                 0       26721   \n",
       "339642       no  2016-03-07 00:00:00                 0       35066   \n",
       "341320      yes  2016-03-29 00:00:00                 0       89428   \n",
       "346639       no  2016-03-25 00:00:00                 0       42105   \n",
       "348137       no  2016-03-16 00:00:00                 0       14482   \n",
       "\n",
       "                   LastSeen  \n",
       "7661    2016-04-06 11:46:49  \n",
       "11039   2016-04-01 19:16:33  \n",
       "25232   2016-04-07 02:47:02  \n",
       "33952   2016-03-17 05:16:32  \n",
       "44520   2016-04-05 15:17:50  \n",
       "...                     ...  \n",
       "328862  2016-04-04 05:50:15  \n",
       "339642  2016-03-07 17:41:33  \n",
       "341320  2016-03-31 15:17:03  \n",
       "346639  2016-04-06 14:44:53  \n",
       "348137  2016-04-03 09:17:43  \n",
       "\n",
       "[81 rows x 16 columns]"
      ]
     },
     "execution_count": 51,
     "metadata": {},
     "output_type": "execute_result"
    }
   ],
   "source": [
    "df.loc[df['Power'] > 500]"
   ]
  },
  {
   "cell_type": "code",
   "execution_count": 52,
   "metadata": {},
   "outputs": [],
   "source": [
    "#Разделим значения больше 500 на 10 ещё раз\n",
    "df.loc[df['Power'] > 500, 'Power'] = df.loc[df['Power'] > 500, 'Power']/10"
   ]
  },
  {
   "cell_type": "markdown",
   "metadata": {},
   "source": [
    "**Столбец 'Kilometer'**"
   ]
  },
  {
   "cell_type": "code",
   "execution_count": 53,
   "metadata": {},
   "outputs": [
    {
     "data": {
      "image/png": "[encoded data removed]",
      "text/plain": [
       "<Figure size 1800x144 with 1 Axes>"
      ]
     },
     "metadata": {},
     "output_type": "display_data"
    }
   ],
   "source": [
    "#Строим ящик с усами\n",
    "plt.figure(figsize =(25, 2))\n",
    "sns.boxplot(df['Kilometer']);"
   ]
  },
  {
   "cell_type": "markdown",
   "metadata": {},
   "source": [
    "Аномалий не обнаружено. Выбросов немного и они выглядят правдоподобно."
   ]
  },
  {
   "cell_type": "markdown",
   "metadata": {},
   "source": [
    "## Обучение моделей"
   ]
  },
  {
   "cell_type": "markdown",
   "metadata": {},
   "source": [
    "Выделим признаки и проведёи кодирование данных"
   ]
  },
  {
   "cell_type": "code",
   "execution_count": 54,
   "metadata": {},
   "outputs": [],
   "source": [
    "#Удалим неинформативные признаки\n",
    "df = df.drop(['DateCrawled', 'RegistrationMonth', 'DateCreated', 'NumberOfPictures', 'PostalCode', 'LastSeen'], axis=1)"
   ]
  },
  {
   "cell_type": "code",
   "execution_count": 55,
   "metadata": {},
   "outputs": [],
   "source": [
    "#Преобразуем значения столбца 'Repaired' в 0 и 1\n",
    "df['Repaired'] = df['Repaired'].map({'yes': 1, 'no': 0})"
   ]
  },
  {
   "cell_type": "code",
   "execution_count": 56,
   "metadata": {
    "scrolled": true
   },
   "outputs": [],
   "source": [
    "#Выделим признаки и целевой признак\n",
    "features = df.drop(['Price'], axis=1)\n",
    "target = df['Price']"
   ]
  },
  {
   "cell_type": "code",
   "execution_count": 57,
   "metadata": {},
   "outputs": [],
   "source": [
    "#Выделим обучающую и тестовую выборки\n",
    "X_train, X_test, y_train, y_test = train_test_split(features, target, test_size=0.25, random_state=12345)"
   ]
  },
  {
   "cell_type": "code",
   "execution_count": 58,
   "metadata": {},
   "outputs": [],
   "source": [
    "#Выделим категориальные признаки для кодирования\n",
    "#Repaired кодировать не нужно\n",
    "cat_features = ['VehicleType', 'Gearbox', 'Model', 'FuelType', 'Brand']"
   ]
  },
  {
   "cell_type": "code",
   "execution_count": 59,
   "metadata": {},
   "outputs": [],
   "source": [
    "#Выделим численные признаки\n",
    "num_features = ['RegistrationYear', 'Power', 'Kilometer']"
   ]
  },
  {
   "cell_type": "markdown",
   "metadata": {},
   "source": [
    "Подготовим выборки для OHE"
   ]
  },
  {
   "cell_type": "code",
   "execution_count": 60,
   "metadata": {},
   "outputs": [],
   "source": [
    "#Создадим выборки для OHE\n",
    "X_train_ohe = X_train.copy()\n",
    "X_test_ohe = X_test.copy()"
   ]
  },
  {
   "cell_type": "code",
   "execution_count": 61,
   "metadata": {},
   "outputs": [],
   "source": [
    "#Создаём коировщики\n",
    "encoder_ohe = OneHotEncoder(drop='first', handle_unknown='ignore', sparse=False, dtype=np.int8)"
   ]
  },
  {
   "cell_type": "code",
   "execution_count": 62,
   "metadata": {},
   "outputs": [
    {
     "name": "stdout",
     "output_type": "stream",
     "text": [
      "CPU times: user 46.5 ms, sys: 7.98 ms, total: 54.5 ms\n",
      "Wall time: 53.7 ms\n"
     ]
    },
    {
     "data": {
      "text/html": [
       "<style>#sk-container-id-1 {color: black;background-color: white;}#sk-container-id-1 pre{padding: 0;}#sk-container-id-1 div.sk-toggleable {background-color: white;}#sk-container-id-1 label.sk-toggleable__label {cursor: pointer;display: block;width: 100%;margin-bottom: 0;padding: 0.3em;box-sizing: border-box;text-align: center;}#sk-container-id-1 label.sk-toggleable__label-arrow:before {content: \"▸\";float: left;margin-right: 0.25em;color: #696969;}#sk-container-id-1 label.sk-toggleable__label-arrow:hover:before {color: black;}#sk-container-id-1 div.sk-estimator:hover label.sk-toggleable__label-arrow:before {color: black;}#sk-container-id-1 div.sk-toggleable__content {max-height: 0;max-width: 0;overflow: hidden;text-align: left;background-color: #f0f8ff;}#sk-container-id-1 div.sk-toggleable__content pre {margin: 0.2em;color: black;border-radius: 0.25em;background-color: #f0f8ff;}#sk-container-id-1 input.sk-toggleable__control:checked~div.sk-toggleable__content {max-height: 200px;max-width: 100%;overflow: auto;}#sk-container-id-1 input.sk-toggleable__control:checked~label.sk-toggleable__label-arrow:before {content: \"▾\";}#sk-container-id-1 div.sk-estimator input.sk-toggleable__control:checked~label.sk-toggleable__label {background-color: #d4ebff;}#sk-container-id-1 div.sk-label input.sk-toggleable__control:checked~label.sk-toggleable__label {background-color: #d4ebff;}#sk-container-id-1 input.sk-hidden--visually {border: 0;clip: rect(1px 1px 1px 1px);clip: rect(1px, 1px, 1px, 1px);height: 1px;margin: -1px;overflow: hidden;padding: 0;position: absolute;width: 1px;}#sk-container-id-1 div.sk-estimator {font-family: monospace;background-color: #f0f8ff;border: 1px dotted black;border-radius: 0.25em;box-sizing: border-box;margin-bottom: 0.5em;}#sk-container-id-1 div.sk-estimator:hover {background-color: #d4ebff;}#sk-container-id-1 div.sk-parallel-item::after {content: \"\";width: 100%;border-bottom: 1px solid gray;flex-grow: 1;}#sk-container-id-1 div.sk-label:hover label.sk-toggleable__label {background-color: #d4ebff;}#sk-container-id-1 div.sk-serial::before {content: \"\";position: absolute;border-left: 1px solid gray;box-sizing: border-box;top: 0;bottom: 0;left: 50%;z-index: 0;}#sk-container-id-1 div.sk-serial {display: flex;flex-direction: column;align-items: center;background-color: white;padding-right: 0.2em;padding-left: 0.2em;position: relative;}#sk-container-id-1 div.sk-item {position: relative;z-index: 1;}#sk-container-id-1 div.sk-parallel {display: flex;align-items: stretch;justify-content: center;background-color: white;position: relative;}#sk-container-id-1 div.sk-item::before, #sk-container-id-1 div.sk-parallel-item::before {content: \"\";position: absolute;border-left: 1px solid gray;box-sizing: border-box;top: 0;bottom: 0;left: 50%;z-index: -1;}#sk-container-id-1 div.sk-parallel-item {display: flex;flex-direction: column;z-index: 1;position: relative;background-color: white;}#sk-container-id-1 div.sk-parallel-item:first-child::after {align-self: flex-end;width: 50%;}#sk-container-id-1 div.sk-parallel-item:last-child::after {align-self: flex-start;width: 50%;}#sk-container-id-1 div.sk-parallel-item:only-child::after {width: 0;}#sk-container-id-1 div.sk-dashed-wrapped {border: 1px dashed gray;margin: 0 0.4em 0.5em 0.4em;box-sizing: border-box;padding-bottom: 0.4em;background-color: white;}#sk-container-id-1 div.sk-label label {font-family: monospace;font-weight: bold;display: inline-block;line-height: 1.2em;}#sk-container-id-1 div.sk-label-container {text-align: center;}#sk-container-id-1 div.sk-container {/* jupyter's `normalize.less` sets `[hidden] { display: none; }` but bootstrap.min.css set `[hidden] { display: none !important; }` so we also need the `!important` here to be able to override the default hidden behavior on the sphinx rendered scikit-learn.org. See: https://github.com/scikit-learn/scikit-learn/issues/21755 */display: inline-block !important;position: relative;}#sk-container-id-1 div.sk-text-repr-fallback {display: none;}</style><div id=\"sk-container-id-1\" class=\"sk-top-container\"><div class=\"sk-text-repr-fallback\"><pre>OneHotEncoder(drop=&#x27;first&#x27;, dtype=&lt;class &#x27;numpy.int8&#x27;&gt;, handle_unknown=&#x27;ignore&#x27;,\n",
       "              sparse=False, sparse_output=False)</pre><b>In a Jupyter environment, please rerun this cell to show the HTML representation or trust the notebook. <br />On GitHub, the HTML representation is unable to render, please try loading this page with nbviewer.org.</b></div><div class=\"sk-container\" hidden><div class=\"sk-item\"><div class=\"sk-estimator sk-toggleable\"><input class=\"sk-toggleable__control sk-hidden--visually\" id=\"sk-estimator-id-1\" type=\"checkbox\" checked><label for=\"sk-estimator-id-1\" class=\"sk-toggleable__label sk-toggleable__label-arrow\">OneHotEncoder</label><div class=\"sk-toggleable__content\"><pre>OneHotEncoder(drop=&#x27;first&#x27;, dtype=&lt;class &#x27;numpy.int8&#x27;&gt;, handle_unknown=&#x27;ignore&#x27;,\n",
       "              sparse=False, sparse_output=False)</pre></div></div></div></div></div>"
      ],
      "text/plain": [
       "OneHotEncoder(drop='first', dtype=<class 'numpy.int8'>, handle_unknown='ignore',\n",
       "              sparse=False, sparse_output=False)"
      ]
     },
     "execution_count": 62,
     "metadata": {},
     "output_type": "execute_result"
    }
   ],
   "source": [
    "%%time\n",
    "\n",
    "# обучаем кодировщики на заданных категориальных признаках тренировочной выборки\n",
    "encoder_ohe.fit(X_train_ohe[cat_features])"
   ]
  },
  {
   "cell_type": "code",
   "execution_count": 63,
   "metadata": {},
   "outputs": [
    {
     "name": "stdout",
     "output_type": "stream",
     "text": [
      "CPU times: user 29.9 s, sys: 16.8 s, total: 46.7 s\n",
      "Wall time: 46.8 s\n"
     ]
    }
   ],
   "source": [
    "%%time\n",
    "\n",
    "# добавляем закодированные признаки\n",
    "X_train_ohe[encoder_ohe.get_feature_names_out()] = encoder_ohe.transform(X_train_ohe[cat_features])"
   ]
  },
  {
   "cell_type": "code",
   "execution_count": 64,
   "metadata": {},
   "outputs": [],
   "source": [
    "# удаляем незакодированные категориальные признаки (изначальные колонки)\n",
    "X_train_ohe = X_train_ohe.drop(cat_features, axis=1)"
   ]
  },
  {
   "cell_type": "code",
   "execution_count": 65,
   "metadata": {},
   "outputs": [],
   "source": [
    "# создаём скелер\n",
    "scaler = StandardScaler()\n",
    "\n",
    "# обучаем его на численных признаках тренировочной выборки и сразу трансформируем её\n",
    "X_train_ohe[num_features] = scaler.fit_transform(X_train_ohe[num_features])"
   ]
  },
  {
   "cell_type": "code",
   "execution_count": 66,
   "metadata": {
    "scrolled": true
   },
   "outputs": [
    {
     "data": {
      "text/html": [
       "<div>\n",
       "<style scoped>\n",
       "    .dataframe tbody tr th:only-of-type {\n",
       "        vertical-align: middle;\n",
       "    }\n",
       "\n",
       "    .dataframe tbody tr th {\n",
       "        vertical-align: top;\n",
       "    }\n",
       "\n",
       "    .dataframe thead th {\n",
       "        text-align: right;\n",
       "    }\n",
       "</style>\n",
       "<table border=\"1\" class=\"dataframe\">\n",
       "  <thead>\n",
       "    <tr style=\"text-align: right;\">\n",
       "      <th></th>\n",
       "      <th>RegistrationYear</th>\n",
       "      <th>Power</th>\n",
       "      <th>Kilometer</th>\n",
       "      <th>Repaired</th>\n",
       "      <th>VehicleType_convertible</th>\n",
       "      <th>VehicleType_coupe</th>\n",
       "      <th>VehicleType_other</th>\n",
       "      <th>VehicleType_sedan</th>\n",
       "      <th>VehicleType_small</th>\n",
       "      <th>VehicleType_suv</th>\n",
       "      <th>...</th>\n",
       "      <th>Brand_seat</th>\n",
       "      <th>Brand_skoda</th>\n",
       "      <th>Brand_smart</th>\n",
       "      <th>Brand_sonstige_autos</th>\n",
       "      <th>Brand_subaru</th>\n",
       "      <th>Brand_suzuki</th>\n",
       "      <th>Brand_toyota</th>\n",
       "      <th>Brand_trabant</th>\n",
       "      <th>Brand_volkswagen</th>\n",
       "      <th>Brand_volvo</th>\n",
       "    </tr>\n",
       "  </thead>\n",
       "  <tbody>\n",
       "    <tr>\n",
       "      <th>323547</th>\n",
       "      <td>0.532233</td>\n",
       "      <td>-0.436586</td>\n",
       "      <td>0.56892</td>\n",
       "      <td>0</td>\n",
       "      <td>0</td>\n",
       "      <td>0</td>\n",
       "      <td>0</td>\n",
       "      <td>0</td>\n",
       "      <td>1</td>\n",
       "      <td>0</td>\n",
       "      <td>...</td>\n",
       "      <td>0</td>\n",
       "      <td>0</td>\n",
       "      <td>0</td>\n",
       "      <td>0</td>\n",
       "      <td>0</td>\n",
       "      <td>0</td>\n",
       "      <td>0</td>\n",
       "      <td>0</td>\n",
       "      <td>0</td>\n",
       "      <td>0</td>\n",
       "    </tr>\n",
       "    <tr>\n",
       "      <th>323373</th>\n",
       "      <td>0.375132</td>\n",
       "      <td>0.409297</td>\n",
       "      <td>0.56892</td>\n",
       "      <td>0</td>\n",
       "      <td>0</td>\n",
       "      <td>0</td>\n",
       "      <td>0</td>\n",
       "      <td>0</td>\n",
       "      <td>0</td>\n",
       "      <td>0</td>\n",
       "      <td>...</td>\n",
       "      <td>0</td>\n",
       "      <td>0</td>\n",
       "      <td>0</td>\n",
       "      <td>0</td>\n",
       "      <td>0</td>\n",
       "      <td>0</td>\n",
       "      <td>0</td>\n",
       "      <td>0</td>\n",
       "      <td>1</td>\n",
       "      <td>0</td>\n",
       "    </tr>\n",
       "    <tr>\n",
       "      <th>282444</th>\n",
       "      <td>-0.567476</td>\n",
       "      <td>-1.403311</td>\n",
       "      <td>0.56892</td>\n",
       "      <td>0</td>\n",
       "      <td>0</td>\n",
       "      <td>0</td>\n",
       "      <td>0</td>\n",
       "      <td>0</td>\n",
       "      <td>1</td>\n",
       "      <td>0</td>\n",
       "      <td>...</td>\n",
       "      <td>0</td>\n",
       "      <td>0</td>\n",
       "      <td>0</td>\n",
       "      <td>0</td>\n",
       "      <td>0</td>\n",
       "      <td>0</td>\n",
       "      <td>0</td>\n",
       "      <td>0</td>\n",
       "      <td>1</td>\n",
       "      <td>0</td>\n",
       "    </tr>\n",
       "    <tr>\n",
       "      <th>250228</th>\n",
       "      <td>-0.881678</td>\n",
       "      <td>-1.242190</td>\n",
       "      <td>0.56892</td>\n",
       "      <td>0</td>\n",
       "      <td>0</td>\n",
       "      <td>0</td>\n",
       "      <td>0</td>\n",
       "      <td>0</td>\n",
       "      <td>1</td>\n",
       "      <td>0</td>\n",
       "      <td>...</td>\n",
       "      <td>0</td>\n",
       "      <td>0</td>\n",
       "      <td>0</td>\n",
       "      <td>0</td>\n",
       "      <td>0</td>\n",
       "      <td>0</td>\n",
       "      <td>0</td>\n",
       "      <td>0</td>\n",
       "      <td>0</td>\n",
       "      <td>0</td>\n",
       "    </tr>\n",
       "    <tr>\n",
       "      <th>235361</th>\n",
       "      <td>-0.410375</td>\n",
       "      <td>0.469717</td>\n",
       "      <td>0.56892</td>\n",
       "      <td>0</td>\n",
       "      <td>0</td>\n",
       "      <td>0</td>\n",
       "      <td>0</td>\n",
       "      <td>1</td>\n",
       "      <td>0</td>\n",
       "      <td>0</td>\n",
       "      <td>...</td>\n",
       "      <td>0</td>\n",
       "      <td>0</td>\n",
       "      <td>0</td>\n",
       "      <td>0</td>\n",
       "      <td>0</td>\n",
       "      <td>0</td>\n",
       "      <td>0</td>\n",
       "      <td>0</td>\n",
       "      <td>0</td>\n",
       "      <td>0</td>\n",
       "    </tr>\n",
       "  </tbody>\n",
       "</table>\n",
       "<p>5 rows × 302 columns</p>\n",
       "</div>"
      ],
      "text/plain": [
       "        RegistrationYear     Power  Kilometer  Repaired  \\\n",
       "323547          0.532233 -0.436586    0.56892         0   \n",
       "323373          0.375132  0.409297    0.56892         0   \n",
       "282444         -0.567476 -1.403311    0.56892         0   \n",
       "250228         -0.881678 -1.242190    0.56892         0   \n",
       "235361         -0.410375  0.469717    0.56892         0   \n",
       "\n",
       "        VehicleType_convertible  VehicleType_coupe  VehicleType_other  \\\n",
       "323547                        0                  0                  0   \n",
       "323373                        0                  0                  0   \n",
       "282444                        0                  0                  0   \n",
       "250228                        0                  0                  0   \n",
       "235361                        0                  0                  0   \n",
       "\n",
       "        VehicleType_sedan  VehicleType_small  VehicleType_suv  ...  \\\n",
       "323547                  0                  1                0  ...   \n",
       "323373                  0                  0                0  ...   \n",
       "282444                  0                  1                0  ...   \n",
       "250228                  0                  1                0  ...   \n",
       "235361                  1                  0                0  ...   \n",
       "\n",
       "        Brand_seat  Brand_skoda  Brand_smart  Brand_sonstige_autos  \\\n",
       "323547           0            0            0                     0   \n",
       "323373           0            0            0                     0   \n",
       "282444           0            0            0                     0   \n",
       "250228           0            0            0                     0   \n",
       "235361           0            0            0                     0   \n",
       "\n",
       "        Brand_subaru  Brand_suzuki  Brand_toyota  Brand_trabant  \\\n",
       "323547             0             0             0              0   \n",
       "323373             0             0             0              0   \n",
       "282444             0             0             0              0   \n",
       "250228             0             0             0              0   \n",
       "235361             0             0             0              0   \n",
       "\n",
       "        Brand_volkswagen  Brand_volvo  \n",
       "323547                 0            0  \n",
       "323373                 1            0  \n",
       "282444                 1            0  \n",
       "250228                 0            0  \n",
       "235361                 0            0  \n",
       "\n",
       "[5 rows x 302 columns]"
      ]
     },
     "execution_count": 66,
     "metadata": {},
     "output_type": "execute_result"
    }
   ],
   "source": [
    "# смотрим на результат\n",
    "X_train_ohe.head()"
   ]
  },
  {
   "cell_type": "code",
   "execution_count": 67,
   "metadata": {},
   "outputs": [],
   "source": [
    "#Аналогично трансформируем тестовую выборку\n",
    "# добавляем закодированные признаки в X_test_model\n",
    "X_test_ohe[encoder_ohe.get_feature_names_out()] = encoder_ohe.transform(X_test_ohe[cat_features])"
   ]
  },
  {
   "cell_type": "code",
   "execution_count": 68,
   "metadata": {},
   "outputs": [],
   "source": [
    "# удаляем незакодированные категориальные признаки (изначальные колонки)\n",
    "X_test_ohe = X_test_ohe.drop(cat_features, axis=1)"
   ]
  },
  {
   "cell_type": "code",
   "execution_count": 69,
   "metadata": {},
   "outputs": [],
   "source": [
    "# скелером, который обучен на ТРЕНИРОВОЧНОЙ ВЫБОРКЕ, масштабируем тестовую\n",
    "X_test_ohe[num_features] = scaler.transform(X_test_ohe[num_features])"
   ]
  },
  {
   "cell_type": "code",
   "execution_count": 70,
   "metadata": {
    "scrolled": true
   },
   "outputs": [
    {
     "data": {
      "text/html": [
       "<div>\n",
       "<style scoped>\n",
       "    .dataframe tbody tr th:only-of-type {\n",
       "        vertical-align: middle;\n",
       "    }\n",
       "\n",
       "    .dataframe tbody tr th {\n",
       "        vertical-align: top;\n",
       "    }\n",
       "\n",
       "    .dataframe thead th {\n",
       "        text-align: right;\n",
       "    }\n",
       "</style>\n",
       "<table border=\"1\" class=\"dataframe\">\n",
       "  <thead>\n",
       "    <tr style=\"text-align: right;\">\n",
       "      <th></th>\n",
       "      <th>RegistrationYear</th>\n",
       "      <th>Power</th>\n",
       "      <th>Kilometer</th>\n",
       "      <th>Repaired</th>\n",
       "      <th>VehicleType_convertible</th>\n",
       "      <th>VehicleType_coupe</th>\n",
       "      <th>VehicleType_other</th>\n",
       "      <th>VehicleType_sedan</th>\n",
       "      <th>VehicleType_small</th>\n",
       "      <th>VehicleType_suv</th>\n",
       "      <th>...</th>\n",
       "      <th>Brand_seat</th>\n",
       "      <th>Brand_skoda</th>\n",
       "      <th>Brand_smart</th>\n",
       "      <th>Brand_sonstige_autos</th>\n",
       "      <th>Brand_subaru</th>\n",
       "      <th>Brand_suzuki</th>\n",
       "      <th>Brand_toyota</th>\n",
       "      <th>Brand_trabant</th>\n",
       "      <th>Brand_volkswagen</th>\n",
       "      <th>Brand_volvo</th>\n",
       "    </tr>\n",
       "  </thead>\n",
       "  <tbody>\n",
       "    <tr>\n",
       "      <th>290772</th>\n",
       "      <td>-0.253273</td>\n",
       "      <td>0.228036</td>\n",
       "      <td>0.568920</td>\n",
       "      <td>0</td>\n",
       "      <td>0</td>\n",
       "      <td>0</td>\n",
       "      <td>0</td>\n",
       "      <td>0</td>\n",
       "      <td>0</td>\n",
       "      <td>0</td>\n",
       "      <td>...</td>\n",
       "      <td>0</td>\n",
       "      <td>0</td>\n",
       "      <td>0</td>\n",
       "      <td>0</td>\n",
       "      <td>0</td>\n",
       "      <td>0</td>\n",
       "      <td>0</td>\n",
       "      <td>0</td>\n",
       "      <td>1</td>\n",
       "      <td>0</td>\n",
       "    </tr>\n",
       "    <tr>\n",
       "      <th>145380</th>\n",
       "      <td>0.375132</td>\n",
       "      <td>0.872519</td>\n",
       "      <td>0.568920</td>\n",
       "      <td>0</td>\n",
       "      <td>0</td>\n",
       "      <td>0</td>\n",
       "      <td>0</td>\n",
       "      <td>1</td>\n",
       "      <td>0</td>\n",
       "      <td>0</td>\n",
       "      <td>...</td>\n",
       "      <td>0</td>\n",
       "      <td>0</td>\n",
       "      <td>0</td>\n",
       "      <td>0</td>\n",
       "      <td>0</td>\n",
       "      <td>0</td>\n",
       "      <td>0</td>\n",
       "      <td>0</td>\n",
       "      <td>0</td>\n",
       "      <td>0</td>\n",
       "    </tr>\n",
       "    <tr>\n",
       "      <th>225385</th>\n",
       "      <td>1.631942</td>\n",
       "      <td>-0.295606</td>\n",
       "      <td>-2.666452</td>\n",
       "      <td>1</td>\n",
       "      <td>0</td>\n",
       "      <td>0</td>\n",
       "      <td>0</td>\n",
       "      <td>1</td>\n",
       "      <td>0</td>\n",
       "      <td>0</td>\n",
       "      <td>...</td>\n",
       "      <td>0</td>\n",
       "      <td>0</td>\n",
       "      <td>0</td>\n",
       "      <td>0</td>\n",
       "      <td>0</td>\n",
       "      <td>0</td>\n",
       "      <td>0</td>\n",
       "      <td>0</td>\n",
       "      <td>1</td>\n",
       "      <td>0</td>\n",
       "    </tr>\n",
       "    <tr>\n",
       "      <th>61354</th>\n",
       "      <td>0.846436</td>\n",
       "      <td>1.557282</td>\n",
       "      <td>-0.105115</td>\n",
       "      <td>0</td>\n",
       "      <td>0</td>\n",
       "      <td>0</td>\n",
       "      <td>0</td>\n",
       "      <td>0</td>\n",
       "      <td>0</td>\n",
       "      <td>0</td>\n",
       "      <td>...</td>\n",
       "      <td>0</td>\n",
       "      <td>0</td>\n",
       "      <td>0</td>\n",
       "      <td>0</td>\n",
       "      <td>0</td>\n",
       "      <td>0</td>\n",
       "      <td>0</td>\n",
       "      <td>0</td>\n",
       "      <td>0</td>\n",
       "      <td>0</td>\n",
       "    </tr>\n",
       "    <tr>\n",
       "      <th>276844</th>\n",
       "      <td>-0.096172</td>\n",
       "      <td>-0.194905</td>\n",
       "      <td>0.568920</td>\n",
       "      <td>0</td>\n",
       "      <td>0</td>\n",
       "      <td>0</td>\n",
       "      <td>0</td>\n",
       "      <td>0</td>\n",
       "      <td>0</td>\n",
       "      <td>0</td>\n",
       "      <td>...</td>\n",
       "      <td>0</td>\n",
       "      <td>0</td>\n",
       "      <td>0</td>\n",
       "      <td>0</td>\n",
       "      <td>0</td>\n",
       "      <td>0</td>\n",
       "      <td>0</td>\n",
       "      <td>0</td>\n",
       "      <td>0</td>\n",
       "      <td>0</td>\n",
       "    </tr>\n",
       "  </tbody>\n",
       "</table>\n",
       "<p>5 rows × 302 columns</p>\n",
       "</div>"
      ],
      "text/plain": [
       "        RegistrationYear     Power  Kilometer  Repaired  \\\n",
       "290772         -0.253273  0.228036   0.568920         0   \n",
       "145380          0.375132  0.872519   0.568920         0   \n",
       "225385          1.631942 -0.295606  -2.666452         1   \n",
       "61354           0.846436  1.557282  -0.105115         0   \n",
       "276844         -0.096172 -0.194905   0.568920         0   \n",
       "\n",
       "        VehicleType_convertible  VehicleType_coupe  VehicleType_other  \\\n",
       "290772                        0                  0                  0   \n",
       "145380                        0                  0                  0   \n",
       "225385                        0                  0                  0   \n",
       "61354                         0                  0                  0   \n",
       "276844                        0                  0                  0   \n",
       "\n",
       "        VehicleType_sedan  VehicleType_small  VehicleType_suv  ...  \\\n",
       "290772                  0                  0                0  ...   \n",
       "145380                  1                  0                0  ...   \n",
       "225385                  1                  0                0  ...   \n",
       "61354                   0                  0                0  ...   \n",
       "276844                  0                  0                0  ...   \n",
       "\n",
       "        Brand_seat  Brand_skoda  Brand_smart  Brand_sonstige_autos  \\\n",
       "290772           0            0            0                     0   \n",
       "145380           0            0            0                     0   \n",
       "225385           0            0            0                     0   \n",
       "61354            0            0            0                     0   \n",
       "276844           0            0            0                     0   \n",
       "\n",
       "        Brand_subaru  Brand_suzuki  Brand_toyota  Brand_trabant  \\\n",
       "290772             0             0             0              0   \n",
       "145380             0             0             0              0   \n",
       "225385             0             0             0              0   \n",
       "61354              0             0             0              0   \n",
       "276844             0             0             0              0   \n",
       "\n",
       "        Brand_volkswagen  Brand_volvo  \n",
       "290772                 1            0  \n",
       "145380                 0            0  \n",
       "225385                 1            0  \n",
       "61354                  0            0  \n",
       "276844                 0            0  \n",
       "\n",
       "[5 rows x 302 columns]"
      ]
     },
     "execution_count": 70,
     "metadata": {},
     "output_type": "execute_result"
    }
   ],
   "source": [
    "# смотрим на результат\n",
    "X_test_ohe.head()"
   ]
  },
  {
   "cell_type": "markdown",
   "metadata": {},
   "source": [
    "Подготовим выборки для OE"
   ]
  },
  {
   "cell_type": "code",
   "execution_count": 71,
   "metadata": {},
   "outputs": [],
   "source": [
    "#Создаём кодировщик\n",
    "encoder = OrdinalEncoder(handle_unknown='use_encoded_value', unknown_value=-1)"
   ]
  },
  {
   "cell_type": "code",
   "execution_count": 72,
   "metadata": {},
   "outputs": [
    {
     "data": {
      "text/html": [
       "<style>#sk-container-id-2 {color: black;background-color: white;}#sk-container-id-2 pre{padding: 0;}#sk-container-id-2 div.sk-toggleable {background-color: white;}#sk-container-id-2 label.sk-toggleable__label {cursor: pointer;display: block;width: 100%;margin-bottom: 0;padding: 0.3em;box-sizing: border-box;text-align: center;}#sk-container-id-2 label.sk-toggleable__label-arrow:before {content: \"▸\";float: left;margin-right: 0.25em;color: #696969;}#sk-container-id-2 label.sk-toggleable__label-arrow:hover:before {color: black;}#sk-container-id-2 div.sk-estimator:hover label.sk-toggleable__label-arrow:before {color: black;}#sk-container-id-2 div.sk-toggleable__content {max-height: 0;max-width: 0;overflow: hidden;text-align: left;background-color: #f0f8ff;}#sk-container-id-2 div.sk-toggleable__content pre {margin: 0.2em;color: black;border-radius: 0.25em;background-color: #f0f8ff;}#sk-container-id-2 input.sk-toggleable__control:checked~div.sk-toggleable__content {max-height: 200px;max-width: 100%;overflow: auto;}#sk-container-id-2 input.sk-toggleable__control:checked~label.sk-toggleable__label-arrow:before {content: \"▾\";}#sk-container-id-2 div.sk-estimator input.sk-toggleable__control:checked~label.sk-toggleable__label {background-color: #d4ebff;}#sk-container-id-2 div.sk-label input.sk-toggleable__control:checked~label.sk-toggleable__label {background-color: #d4ebff;}#sk-container-id-2 input.sk-hidden--visually {border: 0;clip: rect(1px 1px 1px 1px);clip: rect(1px, 1px, 1px, 1px);height: 1px;margin: -1px;overflow: hidden;padding: 0;position: absolute;width: 1px;}#sk-container-id-2 div.sk-estimator {font-family: monospace;background-color: #f0f8ff;border: 1px dotted black;border-radius: 0.25em;box-sizing: border-box;margin-bottom: 0.5em;}#sk-container-id-2 div.sk-estimator:hover {background-color: #d4ebff;}#sk-container-id-2 div.sk-parallel-item::after {content: \"\";width: 100%;border-bottom: 1px solid gray;flex-grow: 1;}#sk-container-id-2 div.sk-label:hover label.sk-toggleable__label {background-color: #d4ebff;}#sk-container-id-2 div.sk-serial::before {content: \"\";position: absolute;border-left: 1px solid gray;box-sizing: border-box;top: 0;bottom: 0;left: 50%;z-index: 0;}#sk-container-id-2 div.sk-serial {display: flex;flex-direction: column;align-items: center;background-color: white;padding-right: 0.2em;padding-left: 0.2em;position: relative;}#sk-container-id-2 div.sk-item {position: relative;z-index: 1;}#sk-container-id-2 div.sk-parallel {display: flex;align-items: stretch;justify-content: center;background-color: white;position: relative;}#sk-container-id-2 div.sk-item::before, #sk-container-id-2 div.sk-parallel-item::before {content: \"\";position: absolute;border-left: 1px solid gray;box-sizing: border-box;top: 0;bottom: 0;left: 50%;z-index: -1;}#sk-container-id-2 div.sk-parallel-item {display: flex;flex-direction: column;z-index: 1;position: relative;background-color: white;}#sk-container-id-2 div.sk-parallel-item:first-child::after {align-self: flex-end;width: 50%;}#sk-container-id-2 div.sk-parallel-item:last-child::after {align-self: flex-start;width: 50%;}#sk-container-id-2 div.sk-parallel-item:only-child::after {width: 0;}#sk-container-id-2 div.sk-dashed-wrapped {border: 1px dashed gray;margin: 0 0.4em 0.5em 0.4em;box-sizing: border-box;padding-bottom: 0.4em;background-color: white;}#sk-container-id-2 div.sk-label label {font-family: monospace;font-weight: bold;display: inline-block;line-height: 1.2em;}#sk-container-id-2 div.sk-label-container {text-align: center;}#sk-container-id-2 div.sk-container {/* jupyter's `normalize.less` sets `[hidden] { display: none; }` but bootstrap.min.css set `[hidden] { display: none !important; }` so we also need the `!important` here to be able to override the default hidden behavior on the sphinx rendered scikit-learn.org. See: https://github.com/scikit-learn/scikit-learn/issues/21755 */display: inline-block !important;position: relative;}#sk-container-id-2 div.sk-text-repr-fallback {display: none;}</style><div id=\"sk-container-id-2\" class=\"sk-top-container\"><div class=\"sk-text-repr-fallback\"><pre>OrdinalEncoder(handle_unknown=&#x27;use_encoded_value&#x27;, unknown_value=-1)</pre><b>In a Jupyter environment, please rerun this cell to show the HTML representation or trust the notebook. <br />On GitHub, the HTML representation is unable to render, please try loading this page with nbviewer.org.</b></div><div class=\"sk-container\" hidden><div class=\"sk-item\"><div class=\"sk-estimator sk-toggleable\"><input class=\"sk-toggleable__control sk-hidden--visually\" id=\"sk-estimator-id-2\" type=\"checkbox\" checked><label for=\"sk-estimator-id-2\" class=\"sk-toggleable__label sk-toggleable__label-arrow\">OrdinalEncoder</label><div class=\"sk-toggleable__content\"><pre>OrdinalEncoder(handle_unknown=&#x27;use_encoded_value&#x27;, unknown_value=-1)</pre></div></div></div></div></div>"
      ],
      "text/plain": [
       "OrdinalEncoder(handle_unknown='use_encoded_value', unknown_value=-1)"
      ]
     },
     "execution_count": 72,
     "metadata": {},
     "output_type": "execute_result"
    }
   ],
   "source": [
    "#Обучаем его на трен. выборке\n",
    "encoder.fit(X_train)"
   ]
  },
  {
   "cell_type": "code",
   "execution_count": 73,
   "metadata": {},
   "outputs": [],
   "source": [
    "#Преобразуем трен.в. \n",
    "X_train_oe = encoder.transform(X_train)"
   ]
  },
  {
   "cell_type": "code",
   "execution_count": 74,
   "metadata": {},
   "outputs": [],
   "source": [
    "#Оформим таблицу\n",
    "X_train_oe = pd.DataFrame(encoder.transform(X_train), columns=X_train.columns)"
   ]
  },
  {
   "cell_type": "code",
   "execution_count": 75,
   "metadata": {},
   "outputs": [],
   "source": [
    "# обучаем scaler на численных признаках тренировочной выборки и сразу трансформируем её\n",
    "X_train_oe[num_features] = scaler.fit_transform(X_train_oe[num_features])"
   ]
  },
  {
   "cell_type": "code",
   "execution_count": 76,
   "metadata": {},
   "outputs": [
    {
     "data": {
      "text/html": [
       "<div>\n",
       "<style scoped>\n",
       "    .dataframe tbody tr th:only-of-type {\n",
       "        vertical-align: middle;\n",
       "    }\n",
       "\n",
       "    .dataframe tbody tr th {\n",
       "        vertical-align: top;\n",
       "    }\n",
       "\n",
       "    .dataframe thead th {\n",
       "        text-align: right;\n",
       "    }\n",
       "</style>\n",
       "<table border=\"1\" class=\"dataframe\">\n",
       "  <thead>\n",
       "    <tr style=\"text-align: right;\">\n",
       "      <th></th>\n",
       "      <th>VehicleType</th>\n",
       "      <th>RegistrationYear</th>\n",
       "      <th>Gearbox</th>\n",
       "      <th>Power</th>\n",
       "      <th>Model</th>\n",
       "      <th>Kilometer</th>\n",
       "      <th>FuelType</th>\n",
       "      <th>Brand</th>\n",
       "      <th>Repaired</th>\n",
       "    </tr>\n",
       "  </thead>\n",
       "  <tbody>\n",
       "    <tr>\n",
       "      <th>0</th>\n",
       "      <td>5.0</td>\n",
       "      <td>0.532233</td>\n",
       "      <td>1.0</td>\n",
       "      <td>-0.479368</td>\n",
       "      <td>149.0</td>\n",
       "      <td>0.493165</td>\n",
       "      <td>5.0</td>\n",
       "      <td>27.0</td>\n",
       "      <td>0.0</td>\n",
       "    </tr>\n",
       "    <tr>\n",
       "      <th>1</th>\n",
       "      <td>0.0</td>\n",
       "      <td>0.375132</td>\n",
       "      <td>1.0</td>\n",
       "      <td>0.563462</td>\n",
       "      <td>201.0</td>\n",
       "      <td>0.493165</td>\n",
       "      <td>5.0</td>\n",
       "      <td>38.0</td>\n",
       "      <td>0.0</td>\n",
       "    </tr>\n",
       "    <tr>\n",
       "      <th>2</th>\n",
       "      <td>5.0</td>\n",
       "      <td>-0.567476</td>\n",
       "      <td>1.0</td>\n",
       "      <td>-1.704961</td>\n",
       "      <td>143.0</td>\n",
       "      <td>0.493165</td>\n",
       "      <td>5.0</td>\n",
       "      <td>38.0</td>\n",
       "      <td>0.0</td>\n",
       "    </tr>\n",
       "    <tr>\n",
       "      <th>3</th>\n",
       "      <td>5.0</td>\n",
       "      <td>-0.881678</td>\n",
       "      <td>1.0</td>\n",
       "      <td>-1.457692</td>\n",
       "      <td>224.0</td>\n",
       "      <td>0.493165</td>\n",
       "      <td>5.0</td>\n",
       "      <td>27.0</td>\n",
       "      <td>0.0</td>\n",
       "    </tr>\n",
       "    <tr>\n",
       "      <th>4</th>\n",
       "      <td>4.0</td>\n",
       "      <td>-0.410375</td>\n",
       "      <td>1.0</td>\n",
       "      <td>0.627967</td>\n",
       "      <td>59.0</td>\n",
       "      <td>0.493165</td>\n",
       "      <td>5.0</td>\n",
       "      <td>20.0</td>\n",
       "      <td>0.0</td>\n",
       "    </tr>\n",
       "    <tr>\n",
       "      <th>...</th>\n",
       "      <td>...</td>\n",
       "      <td>...</td>\n",
       "      <td>...</td>\n",
       "      <td>...</td>\n",
       "      <td>...</td>\n",
       "      <td>...</td>\n",
       "      <td>...</td>\n",
       "      <td>...</td>\n",
       "      <td>...</td>\n",
       "    </tr>\n",
       "    <tr>\n",
       "      <th>259392</th>\n",
       "      <td>5.0</td>\n",
       "      <td>-1.195881</td>\n",
       "      <td>1.0</td>\n",
       "      <td>-0.253600</td>\n",
       "      <td>83.0</td>\n",
       "      <td>-4.040510</td>\n",
       "      <td>5.0</td>\n",
       "      <td>24.0</td>\n",
       "      <td>0.0</td>\n",
       "    </tr>\n",
       "    <tr>\n",
       "      <th>259393</th>\n",
       "      <td>4.0</td>\n",
       "      <td>-1.352982</td>\n",
       "      <td>1.0</td>\n",
       "      <td>-0.253600</td>\n",
       "      <td>116.0</td>\n",
       "      <td>0.493165</td>\n",
       "      <td>5.0</td>\n",
       "      <td>38.0</td>\n",
       "      <td>0.0</td>\n",
       "    </tr>\n",
       "    <tr>\n",
       "      <th>259394</th>\n",
       "      <td>5.0</td>\n",
       "      <td>-2.138488</td>\n",
       "      <td>1.0</td>\n",
       "      <td>-0.253600</td>\n",
       "      <td>173.0</td>\n",
       "      <td>-2.907091</td>\n",
       "      <td>5.0</td>\n",
       "      <td>38.0</td>\n",
       "      <td>0.0</td>\n",
       "    </tr>\n",
       "    <tr>\n",
       "      <th>259395</th>\n",
       "      <td>7.0</td>\n",
       "      <td>-0.253273</td>\n",
       "      <td>1.0</td>\n",
       "      <td>0.627967</td>\n",
       "      <td>11.0</td>\n",
       "      <td>0.493165</td>\n",
       "      <td>5.0</td>\n",
       "      <td>2.0</td>\n",
       "      <td>1.0</td>\n",
       "    </tr>\n",
       "    <tr>\n",
       "      <th>259396</th>\n",
       "      <td>5.0</td>\n",
       "      <td>-1.352982</td>\n",
       "      <td>1.0</td>\n",
       "      <td>-1.511446</td>\n",
       "      <td>224.0</td>\n",
       "      <td>0.493165</td>\n",
       "      <td>5.0</td>\n",
       "      <td>27.0</td>\n",
       "      <td>1.0</td>\n",
       "    </tr>\n",
       "  </tbody>\n",
       "</table>\n",
       "<p>259397 rows × 9 columns</p>\n",
       "</div>"
      ],
      "text/plain": [
       "        VehicleType  RegistrationYear  Gearbox     Power  Model  Kilometer  \\\n",
       "0               5.0          0.532233      1.0 -0.479368  149.0   0.493165   \n",
       "1               0.0          0.375132      1.0  0.563462  201.0   0.493165   \n",
       "2               5.0         -0.567476      1.0 -1.704961  143.0   0.493165   \n",
       "3               5.0         -0.881678      1.0 -1.457692  224.0   0.493165   \n",
       "4               4.0         -0.410375      1.0  0.627967   59.0   0.493165   \n",
       "...             ...               ...      ...       ...    ...        ...   \n",
       "259392          5.0         -1.195881      1.0 -0.253600   83.0  -4.040510   \n",
       "259393          4.0         -1.352982      1.0 -0.253600  116.0   0.493165   \n",
       "259394          5.0         -2.138488      1.0 -0.253600  173.0  -2.907091   \n",
       "259395          7.0         -0.253273      1.0  0.627967   11.0   0.493165   \n",
       "259396          5.0         -1.352982      1.0 -1.511446  224.0   0.493165   \n",
       "\n",
       "        FuelType  Brand  Repaired  \n",
       "0            5.0   27.0       0.0  \n",
       "1            5.0   38.0       0.0  \n",
       "2            5.0   38.0       0.0  \n",
       "3            5.0   27.0       0.0  \n",
       "4            5.0   20.0       0.0  \n",
       "...          ...    ...       ...  \n",
       "259392       5.0   24.0       0.0  \n",
       "259393       5.0   38.0       0.0  \n",
       "259394       5.0   38.0       0.0  \n",
       "259395       5.0    2.0       1.0  \n",
       "259396       5.0   27.0       1.0  \n",
       "\n",
       "[259397 rows x 9 columns]"
      ]
     },
     "execution_count": 76,
     "metadata": {},
     "output_type": "execute_result"
    }
   ],
   "source": [
    "#Смотрим на результат\n",
    "X_train_oe"
   ]
  },
  {
   "cell_type": "code",
   "execution_count": 77,
   "metadata": {},
   "outputs": [],
   "source": [
    "#Преобразуем тест.в.\n",
    "X_test_oe = encoder.transform(X_train)"
   ]
  },
  {
   "cell_type": "code",
   "execution_count": 78,
   "metadata": {},
   "outputs": [],
   "source": [
    "#Оформим таблицу\n",
    "X_test_oe = pd.DataFrame(encoder.transform(X_test), columns=X_test.columns)"
   ]
  },
  {
   "cell_type": "code",
   "execution_count": 79,
   "metadata": {},
   "outputs": [],
   "source": [
    "# скелером, который обучен на трен.в., масштабируем тестовую\n",
    "X_test_oe[num_features] = scaler.transform(X_test_oe[num_features])"
   ]
  },
  {
   "cell_type": "code",
   "execution_count": 80,
   "metadata": {},
   "outputs": [
    {
     "data": {
      "text/html": [
       "<div>\n",
       "<style scoped>\n",
       "    .dataframe tbody tr th:only-of-type {\n",
       "        vertical-align: middle;\n",
       "    }\n",
       "\n",
       "    .dataframe tbody tr th {\n",
       "        vertical-align: top;\n",
       "    }\n",
       "\n",
       "    .dataframe thead th {\n",
       "        text-align: right;\n",
       "    }\n",
       "</style>\n",
       "<table border=\"1\" class=\"dataframe\">\n",
       "  <thead>\n",
       "    <tr style=\"text-align: right;\">\n",
       "      <th></th>\n",
       "      <th>VehicleType</th>\n",
       "      <th>RegistrationYear</th>\n",
       "      <th>Gearbox</th>\n",
       "      <th>Power</th>\n",
       "      <th>Model</th>\n",
       "      <th>Kilometer</th>\n",
       "      <th>FuelType</th>\n",
       "      <th>Brand</th>\n",
       "      <th>Repaired</th>\n",
       "    </tr>\n",
       "  </thead>\n",
       "  <tbody>\n",
       "    <tr>\n",
       "      <th>0</th>\n",
       "      <td>7.0</td>\n",
       "      <td>-0.253273</td>\n",
       "      <td>1.0</td>\n",
       "      <td>0.380698</td>\n",
       "      <td>170.0</td>\n",
       "      <td>0.493165</td>\n",
       "      <td>5.0</td>\n",
       "      <td>38.0</td>\n",
       "      <td>0.0</td>\n",
       "    </tr>\n",
       "    <tr>\n",
       "      <th>1</th>\n",
       "      <td>4.0</td>\n",
       "      <td>0.375132</td>\n",
       "      <td>1.0</td>\n",
       "      <td>1.004245</td>\n",
       "      <td>11.0</td>\n",
       "      <td>0.493165</td>\n",
       "      <td>5.0</td>\n",
       "      <td>2.0</td>\n",
       "      <td>0.0</td>\n",
       "    </tr>\n",
       "    <tr>\n",
       "      <th>2</th>\n",
       "      <td>4.0</td>\n",
       "      <td>1.631942</td>\n",
       "      <td>1.0</td>\n",
       "      <td>-0.253600</td>\n",
       "      <td>116.0</td>\n",
       "      <td>-2.907091</td>\n",
       "      <td>5.0</td>\n",
       "      <td>38.0</td>\n",
       "      <td>1.0</td>\n",
       "    </tr>\n",
       "    <tr>\n",
       "      <th>3</th>\n",
       "      <td>7.0</td>\n",
       "      <td>0.846436</td>\n",
       "      <td>0.0</td>\n",
       "      <td>1.595541</td>\n",
       "      <td>15.0</td>\n",
       "      <td>0.115359</td>\n",
       "      <td>5.0</td>\n",
       "      <td>2.0</td>\n",
       "      <td>0.0</td>\n",
       "    </tr>\n",
       "    <tr>\n",
       "      <th>4</th>\n",
       "      <td>0.0</td>\n",
       "      <td>-0.096172</td>\n",
       "      <td>1.0</td>\n",
       "      <td>-0.113840</td>\n",
       "      <td>112.0</td>\n",
       "      <td>0.493165</td>\n",
       "      <td>5.0</td>\n",
       "      <td>10.0</td>\n",
       "      <td>0.0</td>\n",
       "    </tr>\n",
       "    <tr>\n",
       "      <th>...</th>\n",
       "      <td>...</td>\n",
       "      <td>...</td>\n",
       "      <td>...</td>\n",
       "      <td>...</td>\n",
       "      <td>...</td>\n",
       "      <td>...</td>\n",
       "      <td>...</td>\n",
       "      <td>...</td>\n",
       "      <td>...</td>\n",
       "    </tr>\n",
       "    <tr>\n",
       "      <th>86461</th>\n",
       "      <td>0.0</td>\n",
       "      <td>1.789043</td>\n",
       "      <td>1.0</td>\n",
       "      <td>0.047423</td>\n",
       "      <td>198.0</td>\n",
       "      <td>-3.662704</td>\n",
       "      <td>5.0</td>\n",
       "      <td>27.0</td>\n",
       "      <td>0.0</td>\n",
       "    </tr>\n",
       "    <tr>\n",
       "      <th>86462</th>\n",
       "      <td>4.0</td>\n",
       "      <td>0.846436</td>\n",
       "      <td>0.0</td>\n",
       "      <td>1.477282</td>\n",
       "      <td>31.0</td>\n",
       "      <td>0.493165</td>\n",
       "      <td>5.0</td>\n",
       "      <td>1.0</td>\n",
       "      <td>0.0</td>\n",
       "    </tr>\n",
       "    <tr>\n",
       "      <th>86463</th>\n",
       "      <td>7.0</td>\n",
       "      <td>-0.881678</td>\n",
       "      <td>1.0</td>\n",
       "      <td>-0.253600</td>\n",
       "      <td>119.0</td>\n",
       "      <td>-3.284898</td>\n",
       "      <td>5.0</td>\n",
       "      <td>12.0</td>\n",
       "      <td>0.0</td>\n",
       "    </tr>\n",
       "    <tr>\n",
       "      <th>86464</th>\n",
       "      <td>7.0</td>\n",
       "      <td>-0.724577</td>\n",
       "      <td>1.0</td>\n",
       "      <td>0.047423</td>\n",
       "      <td>103.0</td>\n",
       "      <td>0.493165</td>\n",
       "      <td>5.0</td>\n",
       "      <td>10.0</td>\n",
       "      <td>0.0</td>\n",
       "    </tr>\n",
       "    <tr>\n",
       "      <th>86465</th>\n",
       "      <td>4.0</td>\n",
       "      <td>-1.352982</td>\n",
       "      <td>1.0</td>\n",
       "      <td>-0.683633</td>\n",
       "      <td>10.0</td>\n",
       "      <td>0.493165</td>\n",
       "      <td>5.0</td>\n",
       "      <td>19.0</td>\n",
       "      <td>0.0</td>\n",
       "    </tr>\n",
       "  </tbody>\n",
       "</table>\n",
       "<p>86466 rows × 9 columns</p>\n",
       "</div>"
      ],
      "text/plain": [
       "       VehicleType  RegistrationYear  Gearbox     Power  Model  Kilometer  \\\n",
       "0              7.0         -0.253273      1.0  0.380698  170.0   0.493165   \n",
       "1              4.0          0.375132      1.0  1.004245   11.0   0.493165   \n",
       "2              4.0          1.631942      1.0 -0.253600  116.0  -2.907091   \n",
       "3              7.0          0.846436      0.0  1.595541   15.0   0.115359   \n",
       "4              0.0         -0.096172      1.0 -0.113840  112.0   0.493165   \n",
       "...            ...               ...      ...       ...    ...        ...   \n",
       "86461          0.0          1.789043      1.0  0.047423  198.0  -3.662704   \n",
       "86462          4.0          0.846436      0.0  1.477282   31.0   0.493165   \n",
       "86463          7.0         -0.881678      1.0 -0.253600  119.0  -3.284898   \n",
       "86464          7.0         -0.724577      1.0  0.047423  103.0   0.493165   \n",
       "86465          4.0         -1.352982      1.0 -0.683633   10.0   0.493165   \n",
       "\n",
       "       FuelType  Brand  Repaired  \n",
       "0           5.0   38.0       0.0  \n",
       "1           5.0    2.0       0.0  \n",
       "2           5.0   38.0       1.0  \n",
       "3           5.0    2.0       0.0  \n",
       "4           5.0   10.0       0.0  \n",
       "...         ...    ...       ...  \n",
       "86461       5.0   27.0       0.0  \n",
       "86462       5.0    1.0       0.0  \n",
       "86463       5.0   12.0       0.0  \n",
       "86464       5.0   10.0       0.0  \n",
       "86465       5.0   19.0       0.0  \n",
       "\n",
       "[86466 rows x 9 columns]"
      ]
     },
     "execution_count": 80,
     "metadata": {},
     "output_type": "execute_result"
    }
   ],
   "source": [
    "#Смотрим на результат\n",
    "X_test_oe"
   ]
  },
  {
   "cell_type": "code",
   "execution_count": 81,
   "metadata": {},
   "outputs": [],
   "source": [
    "#Удалим ненужные переменные\n",
    "del df, features, target, brands, vehicle_types"
   ]
  },
  {
   "cell_type": "markdown",
   "metadata": {},
   "source": [
    "Проведём обучение моделей"
   ]
  },
  {
   "cell_type": "markdown",
   "metadata": {},
   "source": [
    "**Линейная регресссия**"
   ]
  },
  {
   "cell_type": "code",
   "execution_count": 82,
   "metadata": {},
   "outputs": [],
   "source": [
    "model_lr = LinearRegression()"
   ]
  },
  {
   "cell_type": "code",
   "execution_count": 83,
   "metadata": {},
   "outputs": [
    {
     "name": "stdout",
     "output_type": "stream",
     "text": [
      "CPU times: user 24.8 s, sys: 40.1 s, total: 1min 4s\n",
      "Wall time: 1min 4s\n"
     ]
    },
    {
     "data": {
      "text/html": [
       "<style>#sk-container-id-3 {color: black;background-color: white;}#sk-container-id-3 pre{padding: 0;}#sk-container-id-3 div.sk-toggleable {background-color: white;}#sk-container-id-3 label.sk-toggleable__label {cursor: pointer;display: block;width: 100%;margin-bottom: 0;padding: 0.3em;box-sizing: border-box;text-align: center;}#sk-container-id-3 label.sk-toggleable__label-arrow:before {content: \"▸\";float: left;margin-right: 0.25em;color: #696969;}#sk-container-id-3 label.sk-toggleable__label-arrow:hover:before {color: black;}#sk-container-id-3 div.sk-estimator:hover label.sk-toggleable__label-arrow:before {color: black;}#sk-container-id-3 div.sk-toggleable__content {max-height: 0;max-width: 0;overflow: hidden;text-align: left;background-color: #f0f8ff;}#sk-container-id-3 div.sk-toggleable__content pre {margin: 0.2em;color: black;border-radius: 0.25em;background-color: #f0f8ff;}#sk-container-id-3 input.sk-toggleable__control:checked~div.sk-toggleable__content {max-height: 200px;max-width: 100%;overflow: auto;}#sk-container-id-3 input.sk-toggleable__control:checked~label.sk-toggleable__label-arrow:before {content: \"▾\";}#sk-container-id-3 div.sk-estimator input.sk-toggleable__control:checked~label.sk-toggleable__label {background-color: #d4ebff;}#sk-container-id-3 div.sk-label input.sk-toggleable__control:checked~label.sk-toggleable__label {background-color: #d4ebff;}#sk-container-id-3 input.sk-hidden--visually {border: 0;clip: rect(1px 1px 1px 1px);clip: rect(1px, 1px, 1px, 1px);height: 1px;margin: -1px;overflow: hidden;padding: 0;position: absolute;width: 1px;}#sk-container-id-3 div.sk-estimator {font-family: monospace;background-color: #f0f8ff;border: 1px dotted black;border-radius: 0.25em;box-sizing: border-box;margin-bottom: 0.5em;}#sk-container-id-3 div.sk-estimator:hover {background-color: #d4ebff;}#sk-container-id-3 div.sk-parallel-item::after {content: \"\";width: 100%;border-bottom: 1px solid gray;flex-grow: 1;}#sk-container-id-3 div.sk-label:hover label.sk-toggleable__label {background-color: #d4ebff;}#sk-container-id-3 div.sk-serial::before {content: \"\";position: absolute;border-left: 1px solid gray;box-sizing: border-box;top: 0;bottom: 0;left: 50%;z-index: 0;}#sk-container-id-3 div.sk-serial {display: flex;flex-direction: column;align-items: center;background-color: white;padding-right: 0.2em;padding-left: 0.2em;position: relative;}#sk-container-id-3 div.sk-item {position: relative;z-index: 1;}#sk-container-id-3 div.sk-parallel {display: flex;align-items: stretch;justify-content: center;background-color: white;position: relative;}#sk-container-id-3 div.sk-item::before, #sk-container-id-3 div.sk-parallel-item::before {content: \"\";position: absolute;border-left: 1px solid gray;box-sizing: border-box;top: 0;bottom: 0;left: 50%;z-index: -1;}#sk-container-id-3 div.sk-parallel-item {display: flex;flex-direction: column;z-index: 1;position: relative;background-color: white;}#sk-container-id-3 div.sk-parallel-item:first-child::after {align-self: flex-end;width: 50%;}#sk-container-id-3 div.sk-parallel-item:last-child::after {align-self: flex-start;width: 50%;}#sk-container-id-3 div.sk-parallel-item:only-child::after {width: 0;}#sk-container-id-3 div.sk-dashed-wrapped {border: 1px dashed gray;margin: 0 0.4em 0.5em 0.4em;box-sizing: border-box;padding-bottom: 0.4em;background-color: white;}#sk-container-id-3 div.sk-label label {font-family: monospace;font-weight: bold;display: inline-block;line-height: 1.2em;}#sk-container-id-3 div.sk-label-container {text-align: center;}#sk-container-id-3 div.sk-container {/* jupyter's `normalize.less` sets `[hidden] { display: none; }` but bootstrap.min.css set `[hidden] { display: none !important; }` so we also need the `!important` here to be able to override the default hidden behavior on the sphinx rendered scikit-learn.org. See: https://github.com/scikit-learn/scikit-learn/issues/21755 */display: inline-block !important;position: relative;}#sk-container-id-3 div.sk-text-repr-fallback {display: none;}</style><div id=\"sk-container-id-3\" class=\"sk-top-container\"><div class=\"sk-text-repr-fallback\"><pre>LinearRegression()</pre><b>In a Jupyter environment, please rerun this cell to show the HTML representation or trust the notebook. <br />On GitHub, the HTML representation is unable to render, please try loading this page with nbviewer.org.</b></div><div class=\"sk-container\" hidden><div class=\"sk-item\"><div class=\"sk-estimator sk-toggleable\"><input class=\"sk-toggleable__control sk-hidden--visually\" id=\"sk-estimator-id-3\" type=\"checkbox\" checked><label for=\"sk-estimator-id-3\" class=\"sk-toggleable__label sk-toggleable__label-arrow\">LinearRegression</label><div class=\"sk-toggleable__content\"><pre>LinearRegression()</pre></div></div></div></div></div>"
      ],
      "text/plain": [
       "LinearRegression()"
      ]
     },
     "execution_count": 83,
     "metadata": {},
     "output_type": "execute_result"
    }
   ],
   "source": [
    "%%time\n",
    "#Найдём время обучения модели\n",
    "\n",
    "model_lr.fit(X_train_ohe, y_train)"
   ]
  },
  {
   "cell_type": "code",
   "execution_count": 84,
   "metadata": {},
   "outputs": [
    {
     "name": "stdout",
     "output_type": "stream",
     "text": [
      "Среднее значение метрики RMSE: 2719.234801465992\n",
      "CPU times: user 1min 25s, sys: 2min 30s, total: 3min 55s\n",
      "Wall time: 3min 56s\n"
     ]
    }
   ],
   "source": [
    "%%time\n",
    "\n",
    "#Найдём значение метрики RMSE с помощью кросс-валидации\n",
    "final_scores = []\n",
    "scores = cross_val_score(model_lr, X_train_ohe, y_train, scoring='neg_root_mean_squared_error', cv=5)\n",
    "final_scores.append(scores.mean())\n",
    "\n",
    "final_rmse = pd.Series(final_scores).mean()*(-1)\n",
    "print('Среднее значение метрики RMSE:', final_rmse)"
   ]
  },
  {
   "cell_type": "code",
   "execution_count": 85,
   "metadata": {},
   "outputs": [
    {
     "name": "stdout",
     "output_type": "stream",
     "text": [
      "CPU times: user 232 ms, sys: 182 ms, total: 414 ms\n",
      "Wall time: 400 ms\n"
     ]
    }
   ],
   "source": [
    "%%time\n",
    "\n",
    "#Найдём время предсказания\n",
    "predicted_lr = model_lr.predict(X_train_ohe)"
   ]
  },
  {
   "cell_type": "markdown",
   "metadata": {},
   "source": [
    "**Ridge**"
   ]
  },
  {
   "cell_type": "markdown",
   "metadata": {},
   "source": [
    "Подберём гиперпараметры модели Ridge с помощью GridSearchCV"
   ]
  },
  {
   "cell_type": "code",
   "execution_count": 86,
   "metadata": {
    "scrolled": true
   },
   "outputs": [
    {
     "name": "stdout",
     "output_type": "stream",
     "text": [
      "best RMSE: 2719.218234435798\n",
      "Гиперпараметры: {'alpha': 0.2}\n",
      "CPU times: user 2min 59s, sys: 2min 27s, total: 5min 27s\n",
      "Wall time: 5min 27s\n"
     ]
    }
   ],
   "source": [
    "%%time\n",
    "\n",
    "# Объявляем модель\n",
    "model_ridge = Ridge(random_state=12345)\n",
    "\n",
    "# словарь с гиперпараметрами и значениями, которые хотим перебрать\n",
    "param_grid_ridge = {'alpha': np.arange(0, 0.21, 0.01)}\n",
    "\n",
    "gs_ridge = GridSearchCV(\n",
    "    model_ridge, \n",
    "    param_grid=param_grid_ridge, \n",
    "    scoring='neg_root_mean_squared_error', \n",
    "    n_jobs=-1\n",
    ")\n",
    "\n",
    "gs_ridge.fit(X_train_ohe, y_train)\n",
    "\n",
    "# лучшее значение RMSE на кросс-валидации\n",
    "print(f'best RMSE: {gs_ridge.best_score_ * -1}')\n",
    "\n",
    "# лучшие гиперпараметры\n",
    "print(f'Гиперпараметры: {gs_ridge.best_params_}')"
   ]
  },
  {
   "cell_type": "markdown",
   "metadata": {},
   "source": [
    "Найдём время обучения модели Ridge"
   ]
  },
  {
   "cell_type": "code",
   "execution_count": 87,
   "metadata": {},
   "outputs": [],
   "source": [
    "model_ridge = Ridge(alpha=0.2, random_state=12345)"
   ]
  },
  {
   "cell_type": "code",
   "execution_count": 88,
   "metadata": {},
   "outputs": [
    {
     "name": "stdout",
     "output_type": "stream",
     "text": [
      "CPU times: user 1.44 s, sys: 635 ms, total: 2.08 s\n",
      "Wall time: 2.1 s\n"
     ]
    },
    {
     "data": {
      "text/html": [
       "<style>#sk-container-id-4 {color: black;background-color: white;}#sk-container-id-4 pre{padding: 0;}#sk-container-id-4 div.sk-toggleable {background-color: white;}#sk-container-id-4 label.sk-toggleable__label {cursor: pointer;display: block;width: 100%;margin-bottom: 0;padding: 0.3em;box-sizing: border-box;text-align: center;}#sk-container-id-4 label.sk-toggleable__label-arrow:before {content: \"▸\";float: left;margin-right: 0.25em;color: #696969;}#sk-container-id-4 label.sk-toggleable__label-arrow:hover:before {color: black;}#sk-container-id-4 div.sk-estimator:hover label.sk-toggleable__label-arrow:before {color: black;}#sk-container-id-4 div.sk-toggleable__content {max-height: 0;max-width: 0;overflow: hidden;text-align: left;background-color: #f0f8ff;}#sk-container-id-4 div.sk-toggleable__content pre {margin: 0.2em;color: black;border-radius: 0.25em;background-color: #f0f8ff;}#sk-container-id-4 input.sk-toggleable__control:checked~div.sk-toggleable__content {max-height: 200px;max-width: 100%;overflow: auto;}#sk-container-id-4 input.sk-toggleable__control:checked~label.sk-toggleable__label-arrow:before {content: \"▾\";}#sk-container-id-4 div.sk-estimator input.sk-toggleable__control:checked~label.sk-toggleable__label {background-color: #d4ebff;}#sk-container-id-4 div.sk-label input.sk-toggleable__control:checked~label.sk-toggleable__label {background-color: #d4ebff;}#sk-container-id-4 input.sk-hidden--visually {border: 0;clip: rect(1px 1px 1px 1px);clip: rect(1px, 1px, 1px, 1px);height: 1px;margin: -1px;overflow: hidden;padding: 0;position: absolute;width: 1px;}#sk-container-id-4 div.sk-estimator {font-family: monospace;background-color: #f0f8ff;border: 1px dotted black;border-radius: 0.25em;box-sizing: border-box;margin-bottom: 0.5em;}#sk-container-id-4 div.sk-estimator:hover {background-color: #d4ebff;}#sk-container-id-4 div.sk-parallel-item::after {content: \"\";width: 100%;border-bottom: 1px solid gray;flex-grow: 1;}#sk-container-id-4 div.sk-label:hover label.sk-toggleable__label {background-color: #d4ebff;}#sk-container-id-4 div.sk-serial::before {content: \"\";position: absolute;border-left: 1px solid gray;box-sizing: border-box;top: 0;bottom: 0;left: 50%;z-index: 0;}#sk-container-id-4 div.sk-serial {display: flex;flex-direction: column;align-items: center;background-color: white;padding-right: 0.2em;padding-left: 0.2em;position: relative;}#sk-container-id-4 div.sk-item {position: relative;z-index: 1;}#sk-container-id-4 div.sk-parallel {display: flex;align-items: stretch;justify-content: center;background-color: white;position: relative;}#sk-container-id-4 div.sk-item::before, #sk-container-id-4 div.sk-parallel-item::before {content: \"\";position: absolute;border-left: 1px solid gray;box-sizing: border-box;top: 0;bottom: 0;left: 50%;z-index: -1;}#sk-container-id-4 div.sk-parallel-item {display: flex;flex-direction: column;z-index: 1;position: relative;background-color: white;}#sk-container-id-4 div.sk-parallel-item:first-child::after {align-self: flex-end;width: 50%;}#sk-container-id-4 div.sk-parallel-item:last-child::after {align-self: flex-start;width: 50%;}#sk-container-id-4 div.sk-parallel-item:only-child::after {width: 0;}#sk-container-id-4 div.sk-dashed-wrapped {border: 1px dashed gray;margin: 0 0.4em 0.5em 0.4em;box-sizing: border-box;padding-bottom: 0.4em;background-color: white;}#sk-container-id-4 div.sk-label label {font-family: monospace;font-weight: bold;display: inline-block;line-height: 1.2em;}#sk-container-id-4 div.sk-label-container {text-align: center;}#sk-container-id-4 div.sk-container {/* jupyter's `normalize.less` sets `[hidden] { display: none; }` but bootstrap.min.css set `[hidden] { display: none !important; }` so we also need the `!important` here to be able to override the default hidden behavior on the sphinx rendered scikit-learn.org. See: https://github.com/scikit-learn/scikit-learn/issues/21755 */display: inline-block !important;position: relative;}#sk-container-id-4 div.sk-text-repr-fallback {display: none;}</style><div id=\"sk-container-id-4\" class=\"sk-top-container\"><div class=\"sk-text-repr-fallback\"><pre>Ridge(alpha=0.2, random_state=12345)</pre><b>In a Jupyter environment, please rerun this cell to show the HTML representation or trust the notebook. <br />On GitHub, the HTML representation is unable to render, please try loading this page with nbviewer.org.</b></div><div class=\"sk-container\" hidden><div class=\"sk-item\"><div class=\"sk-estimator sk-toggleable\"><input class=\"sk-toggleable__control sk-hidden--visually\" id=\"sk-estimator-id-4\" type=\"checkbox\" checked><label for=\"sk-estimator-id-4\" class=\"sk-toggleable__label sk-toggleable__label-arrow\">Ridge</label><div class=\"sk-toggleable__content\"><pre>Ridge(alpha=0.2, random_state=12345)</pre></div></div></div></div></div>"
      ],
      "text/plain": [
       "Ridge(alpha=0.2, random_state=12345)"
      ]
     },
     "execution_count": 88,
     "metadata": {},
     "output_type": "execute_result"
    }
   ],
   "source": [
    "%%time\n",
    "\n",
    "model_ridge.fit(X_train_ohe, y_train)"
   ]
  },
  {
   "cell_type": "code",
   "execution_count": 89,
   "metadata": {},
   "outputs": [
    {
     "name": "stdout",
     "output_type": "stream",
     "text": [
      "CPU times: user 250 ms, sys: 159 ms, total: 409 ms\n",
      "Wall time: 397 ms\n"
     ]
    }
   ],
   "source": [
    "%%time\n",
    "\n",
    "#Найдём время предсказания\n",
    "predicted_ridge = model_ridge.predict(X_train_ohe)"
   ]
  },
  {
   "cell_type": "markdown",
   "metadata": {},
   "source": [
    "**RandomForestRegressor**"
   ]
  },
  {
   "cell_type": "markdown",
   "metadata": {},
   "source": [
    "Подберём гиперпараметры модели RandomForestRegressor с помощью GridSearchCV"
   ]
  },
  {
   "cell_type": "code",
   "execution_count": 90,
   "metadata": {},
   "outputs": [
    {
     "name": "stdout",
     "output_type": "stream",
     "text": [
      "best_score: 1684.2416270337137\n",
      "best_params: {'max_depth': 20, 'n_estimators': 100}\n",
      "CPU times: user 30min 18s, sys: 0 ns, total: 30min 18s\n",
      "Wall time: 30min 19s\n"
     ]
    }
   ],
   "source": [
    "%%time\n",
    "\n",
    "# Объявляем модель\n",
    "model_rf = RandomForestRegressor(random_state=12345)\n",
    "\n",
    "# словарь с гиперпараметрами и значениями, которые хотим перебрать\n",
    "# Указал небольшой диапазон, т.к. модель очень долго обучается\n",
    "param_grid_rf = {'n_estimators': np.arange(20, 101, 20), 'max_depth': np.arange(10, 31, 10),}\n",
    "\n",
    "gs_rf = GridSearchCV(\n",
    "    model_rf, \n",
    "    param_grid=param_grid_rf, \n",
    "    scoring='neg_root_mean_squared_error', \n",
    "    n_jobs=-1\n",
    ")\n",
    "\n",
    "gs_rf.fit(X_train_oe, y_train)\n",
    "\n",
    "# лучшее значение RMSE на кросс-валидации\n",
    "print(f'best_score: {gs_rf.best_score_ * -1}')\n",
    "\n",
    "# лучшие гиперпараметры\n",
    "print(f'best_params: {gs_rf.best_params_}')"
   ]
  },
  {
   "cell_type": "markdown",
   "metadata": {},
   "source": [
    "Найдём скорость обучения RandomForestRegressor"
   ]
  },
  {
   "cell_type": "code",
   "execution_count": 103,
   "metadata": {},
   "outputs": [],
   "source": [
    "model_rf = RandomForestRegressor(n_estimators = 100, max_depth=20, random_state=12345)"
   ]
  },
  {
   "cell_type": "code",
   "execution_count": 104,
   "metadata": {},
   "outputs": [
    {
     "name": "stdout",
     "output_type": "stream",
     "text": [
      "CPU times: user 54.4 s, sys: 0 ns, total: 54.4 s\n",
      "Wall time: 54.7 s\n"
     ]
    },
    {
     "data": {
      "text/html": [
       "<style>#sk-container-id-7 {color: black;background-color: white;}#sk-container-id-7 pre{padding: 0;}#sk-container-id-7 div.sk-toggleable {background-color: white;}#sk-container-id-7 label.sk-toggleable__label {cursor: pointer;display: block;width: 100%;margin-bottom: 0;padding: 0.3em;box-sizing: border-box;text-align: center;}#sk-container-id-7 label.sk-toggleable__label-arrow:before {content: \"▸\";float: left;margin-right: 0.25em;color: #696969;}#sk-container-id-7 label.sk-toggleable__label-arrow:hover:before {color: black;}#sk-container-id-7 div.sk-estimator:hover label.sk-toggleable__label-arrow:before {color: black;}#sk-container-id-7 div.sk-toggleable__content {max-height: 0;max-width: 0;overflow: hidden;text-align: left;background-color: #f0f8ff;}#sk-container-id-7 div.sk-toggleable__content pre {margin: 0.2em;color: black;border-radius: 0.25em;background-color: #f0f8ff;}#sk-container-id-7 input.sk-toggleable__control:checked~div.sk-toggleable__content {max-height: 200px;max-width: 100%;overflow: auto;}#sk-container-id-7 input.sk-toggleable__control:checked~label.sk-toggleable__label-arrow:before {content: \"▾\";}#sk-container-id-7 div.sk-estimator input.sk-toggleable__control:checked~label.sk-toggleable__label {background-color: #d4ebff;}#sk-container-id-7 div.sk-label input.sk-toggleable__control:checked~label.sk-toggleable__label {background-color: #d4ebff;}#sk-container-id-7 input.sk-hidden--visually {border: 0;clip: rect(1px 1px 1px 1px);clip: rect(1px, 1px, 1px, 1px);height: 1px;margin: -1px;overflow: hidden;padding: 0;position: absolute;width: 1px;}#sk-container-id-7 div.sk-estimator {font-family: monospace;background-color: #f0f8ff;border: 1px dotted black;border-radius: 0.25em;box-sizing: border-box;margin-bottom: 0.5em;}#sk-container-id-7 div.sk-estimator:hover {background-color: #d4ebff;}#sk-container-id-7 div.sk-parallel-item::after {content: \"\";width: 100%;border-bottom: 1px solid gray;flex-grow: 1;}#sk-container-id-7 div.sk-label:hover label.sk-toggleable__label {background-color: #d4ebff;}#sk-container-id-7 div.sk-serial::before {content: \"\";position: absolute;border-left: 1px solid gray;box-sizing: border-box;top: 0;bottom: 0;left: 50%;z-index: 0;}#sk-container-id-7 div.sk-serial {display: flex;flex-direction: column;align-items: center;background-color: white;padding-right: 0.2em;padding-left: 0.2em;position: relative;}#sk-container-id-7 div.sk-item {position: relative;z-index: 1;}#sk-container-id-7 div.sk-parallel {display: flex;align-items: stretch;justify-content: center;background-color: white;position: relative;}#sk-container-id-7 div.sk-item::before, #sk-container-id-7 div.sk-parallel-item::before {content: \"\";position: absolute;border-left: 1px solid gray;box-sizing: border-box;top: 0;bottom: 0;left: 50%;z-index: -1;}#sk-container-id-7 div.sk-parallel-item {display: flex;flex-direction: column;z-index: 1;position: relative;background-color: white;}#sk-container-id-7 div.sk-parallel-item:first-child::after {align-self: flex-end;width: 50%;}#sk-container-id-7 div.sk-parallel-item:last-child::after {align-self: flex-start;width: 50%;}#sk-container-id-7 div.sk-parallel-item:only-child::after {width: 0;}#sk-container-id-7 div.sk-dashed-wrapped {border: 1px dashed gray;margin: 0 0.4em 0.5em 0.4em;box-sizing: border-box;padding-bottom: 0.4em;background-color: white;}#sk-container-id-7 div.sk-label label {font-family: monospace;font-weight: bold;display: inline-block;line-height: 1.2em;}#sk-container-id-7 div.sk-label-container {text-align: center;}#sk-container-id-7 div.sk-container {/* jupyter's `normalize.less` sets `[hidden] { display: none; }` but bootstrap.min.css set `[hidden] { display: none !important; }` so we also need the `!important` here to be able to override the default hidden behavior on the sphinx rendered scikit-learn.org. See: https://github.com/scikit-learn/scikit-learn/issues/21755 */display: inline-block !important;position: relative;}#sk-container-id-7 div.sk-text-repr-fallback {display: none;}</style><div id=\"sk-container-id-7\" class=\"sk-top-container\"><div class=\"sk-text-repr-fallback\"><pre>RandomForestRegressor(max_depth=20, random_state=12345)</pre><b>In a Jupyter environment, please rerun this cell to show the HTML representation or trust the notebook. <br />On GitHub, the HTML representation is unable to render, please try loading this page with nbviewer.org.</b></div><div class=\"sk-container\" hidden><div class=\"sk-item\"><div class=\"sk-estimator sk-toggleable\"><input class=\"sk-toggleable__control sk-hidden--visually\" id=\"sk-estimator-id-7\" type=\"checkbox\" checked><label for=\"sk-estimator-id-7\" class=\"sk-toggleable__label sk-toggleable__label-arrow\">RandomForestRegressor</label><div class=\"sk-toggleable__content\"><pre>RandomForestRegressor(max_depth=20, random_state=12345)</pre></div></div></div></div></div>"
      ],
      "text/plain": [
       "RandomForestRegressor(max_depth=20, random_state=12345)"
      ]
     },
     "execution_count": 104,
     "metadata": {},
     "output_type": "execute_result"
    }
   ],
   "source": [
    "%%time\n",
    "\n",
    "model_rf.fit(X_train_oe, y_train)"
   ]
  },
  {
   "cell_type": "code",
   "execution_count": 105,
   "metadata": {},
   "outputs": [
    {
     "name": "stdout",
     "output_type": "stream",
     "text": [
      "CPU times: user 6.76 s, sys: 0 ns, total: 6.76 s\n",
      "Wall time: 6.76 s\n"
     ]
    }
   ],
   "source": [
    "%%time\n",
    "\n",
    "#Найдём скорость предсказаний\n",
    "predicted_rf = model_rf.predict(X_train_oe)"
   ]
  },
  {
   "cell_type": "markdown",
   "metadata": {},
   "source": [
    "**LGBMRegressor**"
   ]
  },
  {
   "cell_type": "markdown",
   "metadata": {},
   "source": [
    "Подберём гиперпараметры модели LGBMRegressor с помощью GridSearchCV"
   ]
  },
  {
   "cell_type": "code",
   "execution_count": 106,
   "metadata": {},
   "outputs": [
    {
     "name": "stdout",
     "output_type": "stream",
     "text": [
      "best RMSE: 1785.006641075723\n",
      "Гиперпараметы: {'max_depth': 20, 'n_estimators': 100}\n",
      "CPU times: user 1h 26min 4s, sys: 0 ns, total: 1h 26min 4s\n",
      "Wall time: 1h 26min 10s\n"
     ]
    }
   ],
   "source": [
    "%%time\n",
    "\n",
    "model_lgb = LGBMRegressor(random_state=12345)\n",
    "\n",
    "# словарь с гиперпараметрами и значениями, которые хотим перебрать\n",
    "# Указал небольшой диапазон, т.к. модель очень долго обучается\n",
    "param_grid_lgb = {'n_estimators': np.arange(20, 101, 20), 'max_depth': np.arange(10, 31, 10),}\n",
    "\n",
    "gs_lgb = GridSearchCV(\n",
    "    model_lgb, \n",
    "    param_grid=param_grid_lgb, \n",
    "    scoring='neg_root_mean_squared_error', \n",
    "    n_jobs=-1\n",
    ")\n",
    "\n",
    "gs_lgb.fit(X_train_oe, y_train)\n",
    "\n",
    "# лучшее значение RMSE на кросс-валидации\n",
    "print(f'best RMSE: {gs_lgb.best_score_ * -1}')\n",
    "\n",
    "# лучшие гиперпараметры\n",
    "print(f'Гиперпараметы: {gs_lgb.best_params_}')"
   ]
  },
  {
   "cell_type": "markdown",
   "metadata": {},
   "source": [
    "Найдём скорость обучения LGBMRegressor"
   ]
  },
  {
   "cell_type": "code",
   "execution_count": 107,
   "metadata": {},
   "outputs": [],
   "source": [
    "model_lgb = LGBMRegressor(n_estimators=100, max_depth=20, random_state=12345)"
   ]
  },
  {
   "cell_type": "code",
   "execution_count": 108,
   "metadata": {},
   "outputs": [
    {
     "name": "stdout",
     "output_type": "stream",
     "text": [
      "CPU times: user 6min 16s, sys: 0 ns, total: 6min 16s\n",
      "Wall time: 6min 16s\n"
     ]
    },
    {
     "data": {
      "text/html": [
       "<style>#sk-container-id-8 {color: black;background-color: white;}#sk-container-id-8 pre{padding: 0;}#sk-container-id-8 div.sk-toggleable {background-color: white;}#sk-container-id-8 label.sk-toggleable__label {cursor: pointer;display: block;width: 100%;margin-bottom: 0;padding: 0.3em;box-sizing: border-box;text-align: center;}#sk-container-id-8 label.sk-toggleable__label-arrow:before {content: \"▸\";float: left;margin-right: 0.25em;color: #696969;}#sk-container-id-8 label.sk-toggleable__label-arrow:hover:before {color: black;}#sk-container-id-8 div.sk-estimator:hover label.sk-toggleable__label-arrow:before {color: black;}#sk-container-id-8 div.sk-toggleable__content {max-height: 0;max-width: 0;overflow: hidden;text-align: left;background-color: #f0f8ff;}#sk-container-id-8 div.sk-toggleable__content pre {margin: 0.2em;color: black;border-radius: 0.25em;background-color: #f0f8ff;}#sk-container-id-8 input.sk-toggleable__control:checked~div.sk-toggleable__content {max-height: 200px;max-width: 100%;overflow: auto;}#sk-container-id-8 input.sk-toggleable__control:checked~label.sk-toggleable__label-arrow:before {content: \"▾\";}#sk-container-id-8 div.sk-estimator input.sk-toggleable__control:checked~label.sk-toggleable__label {background-color: #d4ebff;}#sk-container-id-8 div.sk-label input.sk-toggleable__control:checked~label.sk-toggleable__label {background-color: #d4ebff;}#sk-container-id-8 input.sk-hidden--visually {border: 0;clip: rect(1px 1px 1px 1px);clip: rect(1px, 1px, 1px, 1px);height: 1px;margin: -1px;overflow: hidden;padding: 0;position: absolute;width: 1px;}#sk-container-id-8 div.sk-estimator {font-family: monospace;background-color: #f0f8ff;border: 1px dotted black;border-radius: 0.25em;box-sizing: border-box;margin-bottom: 0.5em;}#sk-container-id-8 div.sk-estimator:hover {background-color: #d4ebff;}#sk-container-id-8 div.sk-parallel-item::after {content: \"\";width: 100%;border-bottom: 1px solid gray;flex-grow: 1;}#sk-container-id-8 div.sk-label:hover label.sk-toggleable__label {background-color: #d4ebff;}#sk-container-id-8 div.sk-serial::before {content: \"\";position: absolute;border-left: 1px solid gray;box-sizing: border-box;top: 0;bottom: 0;left: 50%;z-index: 0;}#sk-container-id-8 div.sk-serial {display: flex;flex-direction: column;align-items: center;background-color: white;padding-right: 0.2em;padding-left: 0.2em;position: relative;}#sk-container-id-8 div.sk-item {position: relative;z-index: 1;}#sk-container-id-8 div.sk-parallel {display: flex;align-items: stretch;justify-content: center;background-color: white;position: relative;}#sk-container-id-8 div.sk-item::before, #sk-container-id-8 div.sk-parallel-item::before {content: \"\";position: absolute;border-left: 1px solid gray;box-sizing: border-box;top: 0;bottom: 0;left: 50%;z-index: -1;}#sk-container-id-8 div.sk-parallel-item {display: flex;flex-direction: column;z-index: 1;position: relative;background-color: white;}#sk-container-id-8 div.sk-parallel-item:first-child::after {align-self: flex-end;width: 50%;}#sk-container-id-8 div.sk-parallel-item:last-child::after {align-self: flex-start;width: 50%;}#sk-container-id-8 div.sk-parallel-item:only-child::after {width: 0;}#sk-container-id-8 div.sk-dashed-wrapped {border: 1px dashed gray;margin: 0 0.4em 0.5em 0.4em;box-sizing: border-box;padding-bottom: 0.4em;background-color: white;}#sk-container-id-8 div.sk-label label {font-family: monospace;font-weight: bold;display: inline-block;line-height: 1.2em;}#sk-container-id-8 div.sk-label-container {text-align: center;}#sk-container-id-8 div.sk-container {/* jupyter's `normalize.less` sets `[hidden] { display: none; }` but bootstrap.min.css set `[hidden] { display: none !important; }` so we also need the `!important` here to be able to override the default hidden behavior on the sphinx rendered scikit-learn.org. See: https://github.com/scikit-learn/scikit-learn/issues/21755 */display: inline-block !important;position: relative;}#sk-container-id-8 div.sk-text-repr-fallback {display: none;}</style><div id=\"sk-container-id-8\" class=\"sk-top-container\"><div class=\"sk-text-repr-fallback\"><pre>LGBMRegressor(max_depth=20, random_state=12345)</pre><b>In a Jupyter environment, please rerun this cell to show the HTML representation or trust the notebook. <br />On GitHub, the HTML representation is unable to render, please try loading this page with nbviewer.org.</b></div><div class=\"sk-container\" hidden><div class=\"sk-item\"><div class=\"sk-estimator sk-toggleable\"><input class=\"sk-toggleable__control sk-hidden--visually\" id=\"sk-estimator-id-8\" type=\"checkbox\" checked><label for=\"sk-estimator-id-8\" class=\"sk-toggleable__label sk-toggleable__label-arrow\">LGBMRegressor</label><div class=\"sk-toggleable__content\"><pre>LGBMRegressor(max_depth=20, random_state=12345)</pre></div></div></div></div></div>"
      ],
      "text/plain": [
       "LGBMRegressor(max_depth=20, random_state=12345)"
      ]
     },
     "execution_count": 108,
     "metadata": {},
     "output_type": "execute_result"
    }
   ],
   "source": [
    "%%time\n",
    "\n",
    "model_lgb.fit(X_train_oe, y_train)"
   ]
  },
  {
   "cell_type": "code",
   "execution_count": 109,
   "metadata": {},
   "outputs": [
    {
     "name": "stdout",
     "output_type": "stream",
     "text": [
      "CPU times: user 1.96 s, sys: 0 ns, total: 1.96 s\n",
      "Wall time: 1.88 s\n"
     ]
    }
   ],
   "source": [
    "%%time\n",
    "\n",
    "#Найдём скорость предсказаний\n",
    "predicted_lgb = model_lgb.predict(X_train_oe)"
   ]
  },
  {
   "cell_type": "markdown",
   "metadata": {},
   "source": [
    "**CatBoostRegressor**"
   ]
  },
  {
   "cell_type": "markdown",
   "metadata": {},
   "source": [
    "Подберём гиперпараметры модели CatBoosterRegressor с помощью GridSearchCV"
   ]
  },
  {
   "cell_type": "code",
   "execution_count": 111,
   "metadata": {
    "scrolled": true
   },
   "outputs": [
    {
     "name": "stderr",
     "output_type": "stream",
     "text": [
      "Custom logger is already specified. Specify more than one logger at same time is not thread safe."
     ]
    },
    {
     "name": "stdout",
     "output_type": "stream",
     "text": [
      "best RMSE: 1659.2932515691468\n",
      "Гиперпараметы: {'max_depth': 10, 'n_estimators': 200}\n",
      "CPU times: user 18min 12s, sys: 0 ns, total: 18min 12s\n",
      "Wall time: 19min 30s\n"
     ]
    }
   ],
   "source": [
    "%%time\n",
    "\n",
    "#Объявим модель со встроенным методом кодирования категориальных признаков\n",
    "model_cb = CatBoostRegressor(verbose=False, cat_features=cat_features, random_state=12345)\n",
    "\n",
    "# словарь с гиперпараметрами и значениями, которые хотим перебрать\n",
    "param_grid_cb = {'n_estimators': np.arange(20, 201, 20), 'max_depth': np.arange(10, 101, 10),}\n",
    "\n",
    "gs_cb = GridSearchCV(\n",
    "    model_cb, \n",
    "    param_grid=param_grid_cb, \n",
    "    scoring='neg_root_mean_squared_error', \n",
    "    n_jobs=-1\n",
    ")\n",
    "\n",
    "gs_cb.fit(X_train, y_train)\n",
    "\n",
    "# лучшее значение RMSE на кросс-валидации\n",
    "print(f'best RMSE: {gs_cb.best_score_ * -1}')\n",
    "\n",
    "# лучшие гиперпараметры\n",
    "print(f'Гиперпараметы: {gs_cb.best_params_}')"
   ]
  },
  {
   "cell_type": "markdown",
   "metadata": {},
   "source": [
    "Найдём скорость обучения CatBoostRegressor"
   ]
  },
  {
   "cell_type": "code",
   "execution_count": 112,
   "metadata": {},
   "outputs": [],
   "source": [
    "model_cb = CatBoostRegressor(n_estimators=200, max_depth=10, verbose=False, cat_features=cat_features, random_state=12345)"
   ]
  },
  {
   "cell_type": "code",
   "execution_count": 113,
   "metadata": {
    "scrolled": true
   },
   "outputs": [
    {
     "name": "stdout",
     "output_type": "stream",
     "text": [
      "CPU times: user 1min 30s, sys: 0 ns, total: 1min 30s\n",
      "Wall time: 1min 31s\n"
     ]
    },
    {
     "data": {
      "text/plain": [
       "<catboost.core.CatBoostRegressor at 0x7f9dd40afe20>"
      ]
     },
     "execution_count": 113,
     "metadata": {},
     "output_type": "execute_result"
    }
   ],
   "source": [
    "%%time\n",
    "\n",
    "model_cb.fit(X_train, y_train)"
   ]
  },
  {
   "cell_type": "code",
   "execution_count": 114,
   "metadata": {},
   "outputs": [
    {
     "name": "stdout",
     "output_type": "stream",
     "text": [
      "CPU times: user 952 ms, sys: 0 ns, total: 952 ms\n",
      "Wall time: 962 ms\n"
     ]
    }
   ],
   "source": [
    "%%time\n",
    "\n",
    "#Найдём скорость предсказаний\n",
    "predicted_cb = model_cb.predict(X_train)"
   ]
  },
  {
   "cell_type": "markdown",
   "metadata": {},
   "source": [
    "Модели \"Линейная регрессия\" и \"Ridge\" показали метрику RMSE больее 2500, что не удовлетворяет условиям задачи. Данные по остальным моделям занесём в таблицу"
   ]
  },
  {
   "cell_type": "code",
   "execution_count": 135,
   "metadata": {},
   "outputs": [],
   "source": [
    "models_data = pd.DataFrame([['RandomForestRegressor','1684','0.54','6.76'],\n",
    "                            ['LGBMRegressor','1785','6.16', '1.88'],\n",
    "                            ['CatBoostRegressor','1659','1.31', '0.962']],\n",
    "                           columns=['Модель', 'RMSE', 'Время обучения, мин.сек', 'Скорость предсказания, сек'])"
   ]
  },
  {
   "cell_type": "code",
   "execution_count": 141,
   "metadata": {
    "scrolled": true
   },
   "outputs": [
    {
     "name": "stdout",
     "output_type": "stream",
     "text": [
      "Модели в порядке убывани метрики RMSE\n"
     ]
    },
    {
     "data": {
      "text/html": [
       "<div>\n",
       "<style scoped>\n",
       "    .dataframe tbody tr th:only-of-type {\n",
       "        vertical-align: middle;\n",
       "    }\n",
       "\n",
       "    .dataframe tbody tr th {\n",
       "        vertical-align: top;\n",
       "    }\n",
       "\n",
       "    .dataframe thead th {\n",
       "        text-align: right;\n",
       "    }\n",
       "</style>\n",
       "<table border=\"1\" class=\"dataframe\">\n",
       "  <thead>\n",
       "    <tr style=\"text-align: right;\">\n",
       "      <th></th>\n",
       "      <th>Модель</th>\n",
       "      <th>RMSE</th>\n",
       "      <th>Время обучения, мин.сек</th>\n",
       "      <th>Скорость предсказания, сек</th>\n",
       "    </tr>\n",
       "  </thead>\n",
       "  <tbody>\n",
       "    <tr>\n",
       "      <th>0</th>\n",
       "      <td>CatBoostRegressor</td>\n",
       "      <td>1659</td>\n",
       "      <td>1.31</td>\n",
       "      <td>0.962</td>\n",
       "    </tr>\n",
       "    <tr>\n",
       "      <th>1</th>\n",
       "      <td>RandomForestRegressor</td>\n",
       "      <td>1684</td>\n",
       "      <td>0.54</td>\n",
       "      <td>6.76</td>\n",
       "    </tr>\n",
       "    <tr>\n",
       "      <th>2</th>\n",
       "      <td>LGBMRegressor</td>\n",
       "      <td>1785</td>\n",
       "      <td>6.16</td>\n",
       "      <td>1.88</td>\n",
       "    </tr>\n",
       "  </tbody>\n",
       "</table>\n",
       "</div>"
      ],
      "text/plain": [
       "                  Модель  RMSE Время обучения, мин.сек  \\\n",
       "0      CatBoostRegressor  1659                    1.31   \n",
       "1  RandomForestRegressor  1684                    0.54   \n",
       "2          LGBMRegressor  1785                    6.16   \n",
       "\n",
       "  Скорость предсказания, сек  \n",
       "0                      0.962  \n",
       "1                       6.76  \n",
       "2                       1.88  "
      ]
     },
     "metadata": {},
     "output_type": "display_data"
    },
    {
     "name": "stdout",
     "output_type": "stream",
     "text": [
      "Модели в порядке возрастания времени обучения\n"
     ]
    },
    {
     "data": {
      "text/html": [
       "<div>\n",
       "<style scoped>\n",
       "    .dataframe tbody tr th:only-of-type {\n",
       "        vertical-align: middle;\n",
       "    }\n",
       "\n",
       "    .dataframe tbody tr th {\n",
       "        vertical-align: top;\n",
       "    }\n",
       "\n",
       "    .dataframe thead th {\n",
       "        text-align: right;\n",
       "    }\n",
       "</style>\n",
       "<table border=\"1\" class=\"dataframe\">\n",
       "  <thead>\n",
       "    <tr style=\"text-align: right;\">\n",
       "      <th></th>\n",
       "      <th>Модель</th>\n",
       "      <th>RMSE</th>\n",
       "      <th>Время обучения, мин.сек</th>\n",
       "      <th>Скорость предсказания, сек</th>\n",
       "    </tr>\n",
       "  </thead>\n",
       "  <tbody>\n",
       "    <tr>\n",
       "      <th>0</th>\n",
       "      <td>RandomForestRegressor</td>\n",
       "      <td>1684</td>\n",
       "      <td>0.54</td>\n",
       "      <td>6.76</td>\n",
       "    </tr>\n",
       "    <tr>\n",
       "      <th>1</th>\n",
       "      <td>CatBoostRegressor</td>\n",
       "      <td>1659</td>\n",
       "      <td>1.31</td>\n",
       "      <td>0.962</td>\n",
       "    </tr>\n",
       "    <tr>\n",
       "      <th>2</th>\n",
       "      <td>LGBMRegressor</td>\n",
       "      <td>1785</td>\n",
       "      <td>6.16</td>\n",
       "      <td>1.88</td>\n",
       "    </tr>\n",
       "  </tbody>\n",
       "</table>\n",
       "</div>"
      ],
      "text/plain": [
       "                  Модель  RMSE Время обучения, мин.сек  \\\n",
       "0  RandomForestRegressor  1684                    0.54   \n",
       "1      CatBoostRegressor  1659                    1.31   \n",
       "2          LGBMRegressor  1785                    6.16   \n",
       "\n",
       "  Скорость предсказания, сек  \n",
       "0                       6.76  \n",
       "1                      0.962  \n",
       "2                       1.88  "
      ]
     },
     "metadata": {},
     "output_type": "display_data"
    }
   ],
   "source": [
    "print('Модели в порядке убывани метрики RMSE')\n",
    "display(models_data.sort_values(by='RMSE').reset_index(drop=True))\n",
    "print('Модели в порядке возрастания времени обучения')\n",
    "display(models_data.sort_values(by='Время обучения, мин.сек').reset_index(drop=True))"
   ]
  },
  {
   "cell_type": "markdown",
   "metadata": {},
   "source": [
    "**Вывод**: Минимальный показатель RMSE = 1659 на валидационной выборке показал модель **CatBoostRegressor**, а минимальное время обучения - 54 сек. показала модель **RandomForestRegressor**. Разница в скорости предсказаний для всех моделей несущественна.<br>"
   ]
  },
  {
   "cell_type": "markdown",
   "metadata": {},
   "source": [
    "## Анализ моделей"
   ]
  },
  {
   "cell_type": "markdown",
   "metadata": {},
   "source": [
    "Протестируем модель **CatBoostRegressor** как модель с мин. RMSE на тестовой выборке"
   ]
  },
  {
   "cell_type": "code",
   "execution_count": 142,
   "metadata": {},
   "outputs": [],
   "source": [
    "predicted_cb = model_cb.predict(X_test)"
   ]
  },
  {
   "cell_type": "code",
   "execution_count": 143,
   "metadata": {},
   "outputs": [
    {
     "name": "stdout",
     "output_type": "stream",
     "text": [
      "RMSE = 1654.982190089888\n"
     ]
    }
   ],
   "source": [
    "print(\"RMSE =\", mean_squared_error(y_test, predicted_cb) ** 0.5)"
   ]
  },
  {
   "cell_type": "markdown",
   "metadata": {},
   "source": [
    "Протестируем модель **RandomForestRegressor** как модель с мин. временем обучения на тестовой выборке"
   ]
  },
  {
   "cell_type": "code",
   "execution_count": 144,
   "metadata": {},
   "outputs": [],
   "source": [
    "predicted_ridge = model_rf.predict(X_test_oe)"
   ]
  },
  {
   "cell_type": "code",
   "execution_count": 145,
   "metadata": {},
   "outputs": [
    {
     "name": "stdout",
     "output_type": "stream",
     "text": [
      "RMSE = 1675.494046182557\n"
     ]
    }
   ],
   "source": [
    "print(\"RMSE =\", mean_squared_error(y_test, predicted_ridge) ** 0.5)"
   ]
  },
  {
   "cell_type": "markdown",
   "metadata": {},
   "source": [
    "**Вывод**: Метрика RMSE моделей на тестовой выборке незначительно отличается от валдиационной, значит, обучение моделей прошло корректно."
   ]
  },
  {
   "cell_type": "markdown",
   "metadata": {},
   "source": [
    "## Общий вывод\n",
    "\n",
    "По условиям задачи необходимо было построить модель для определения рыночной стоимости автомобиля по следующим известным характеристикам:\n",
    "- Марка автомобиля<br>\n",
    "- Модель автомобиля<br>\n",
    "- Год регистрации автомобиля<br>\n",
    "- Тип коробки передач<br>\n",
    "- Мощность (л. с.)<br>\n",
    "- Пробег (км)<br>\n",
    "- Тип топлива<br>\n",
    "- Была машина в ремонте или нет<br>\n",
    "\n",
    "Для обучения модели были доступны исторические данные: технические характеристики, комплектации и цены автомобилей.<br>\n",
    "\n",
    "В ходе работы были проведёны этапы\n",
    "1. Анализ данных\n",
    "2. Подготовка данных для обучения моделей\n",
    "3. Обучиние нескольких моделей и сравнение их характеристик:\n",
    "    - Качества предсказания\n",
    "    - Скорости предсказания\n",
    "    - Времени обучения"
   ]
  },
  {
   "cell_type": "markdown",
   "metadata": {},
   "source": [
    "## Чек-лист проверки"
   ]
  },
  {
   "cell_type": "code",
   "execution_count": null,
   "metadata": {},
   "outputs": [],
   "source": []
  }
 ],
 "metadata": {
  "ExecuteTimeLog": [
   {
    "duration": 474,
    "start_time": "2023-04-05T12:37:44.589Z"
   },
   {
    "duration": 1636,
    "start_time": "2023-04-05T12:38:29.402Z"
   },
   {
    "duration": 225,
    "start_time": "2023-04-05T12:38:40.331Z"
   },
   {
    "duration": 4,
    "start_time": "2023-04-05T12:40:29.334Z"
   },
   {
    "duration": 5,
    "start_time": "2023-04-05T12:41:55.862Z"
   },
   {
    "duration": 1456,
    "start_time": "2023-04-05T12:41:57.802Z"
   },
   {
    "duration": 32,
    "start_time": "2023-04-05T12:42:01.758Z"
   },
   {
    "duration": 1799,
    "start_time": "2023-04-05T12:42:09.374Z"
   },
   {
    "duration": 1066,
    "start_time": "2023-04-05T12:42:11.175Z"
   },
   {
    "duration": 22,
    "start_time": "2023-04-05T12:42:12.242Z"
   },
   {
    "duration": 1153,
    "start_time": "2023-04-05T12:42:12.266Z"
   },
   {
    "duration": 163,
    "start_time": "2023-04-05T12:42:13.425Z"
   },
   {
    "duration": 600,
    "start_time": "2023-04-05T12:42:13.590Z"
   },
   {
    "duration": 695,
    "start_time": "2023-04-05T12:42:14.193Z"
   },
   {
    "duration": 211,
    "start_time": "2023-04-05T12:42:14.890Z"
   },
   {
    "duration": 37,
    "start_time": "2023-04-05T12:42:15.103Z"
   },
   {
    "duration": 25,
    "start_time": "2023-04-05T12:42:15.143Z"
   },
   {
    "duration": 1991,
    "start_time": "2023-04-05T12:42:15.170Z"
   },
   {
    "duration": 2108,
    "start_time": "2023-04-05T12:42:17.163Z"
   },
   {
    "duration": 2798,
    "start_time": "2023-04-05T12:42:19.273Z"
   },
   {
    "duration": 29,
    "start_time": "2023-04-05T12:42:22.073Z"
   },
   {
    "duration": 36,
    "start_time": "2023-04-05T12:42:22.104Z"
   },
   {
    "duration": 35,
    "start_time": "2023-04-05T12:42:22.142Z"
   },
   {
    "duration": 12113,
    "start_time": "2023-04-05T12:42:22.180Z"
   },
   {
    "duration": 10342,
    "start_time": "2023-04-05T12:42:34.299Z"
   },
   {
    "duration": 19102,
    "start_time": "2023-04-05T12:42:44.643Z"
   },
   {
    "duration": 20,
    "start_time": "2023-04-05T12:43:03.748Z"
   },
   {
    "duration": 57,
    "start_time": "2023-04-05T12:43:03.769Z"
   },
   {
    "duration": 27,
    "start_time": "2023-04-05T12:43:03.832Z"
   },
   {
    "duration": 57,
    "start_time": "2023-04-05T12:43:03.861Z"
   },
   {
    "duration": 41,
    "start_time": "2023-04-05T12:43:03.920Z"
   },
   {
    "duration": 49,
    "start_time": "2023-04-05T12:43:03.964Z"
   },
   {
    "duration": 136,
    "start_time": "2023-04-05T12:43:04.023Z"
   },
   {
    "duration": 275,
    "start_time": "2023-04-05T12:43:04.160Z"
   },
   {
    "duration": 744,
    "start_time": "2023-04-05T12:43:04.444Z"
   },
   {
    "duration": 95,
    "start_time": "2023-04-05T12:43:05.190Z"
   },
   {
    "duration": 17,
    "start_time": "2023-04-05T12:43:05.287Z"
   },
   {
    "duration": 41,
    "start_time": "2023-04-05T12:43:05.306Z"
   },
   {
    "duration": 72,
    "start_time": "2023-04-05T12:43:05.349Z"
   },
   {
    "duration": 11,
    "start_time": "2023-04-05T12:43:05.425Z"
   },
   {
    "duration": 88,
    "start_time": "2023-04-05T12:43:05.439Z"
   },
   {
    "duration": 25,
    "start_time": "2023-04-05T12:43:05.529Z"
   },
   {
    "duration": 80,
    "start_time": "2023-04-05T12:43:05.557Z"
   },
   {
    "duration": 29,
    "start_time": "2023-04-05T12:43:05.639Z"
   },
   {
    "duration": 336,
    "start_time": "2023-04-05T12:43:05.671Z"
   },
   {
    "duration": 281,
    "start_time": "2023-04-05T12:43:06.008Z"
   },
   {
    "duration": 22,
    "start_time": "2023-04-05T12:43:06.291Z"
   },
   {
    "duration": 72,
    "start_time": "2023-04-05T12:43:06.318Z"
   },
   {
    "duration": 197,
    "start_time": "2023-04-05T12:43:06.401Z"
   },
   {
    "duration": 582,
    "start_time": "2023-04-05T12:43:06.600Z"
   },
   {
    "duration": 27,
    "start_time": "2023-04-05T12:43:07.189Z"
   },
   {
    "duration": 101,
    "start_time": "2023-04-05T12:43:07.220Z"
   },
   {
    "duration": 238,
    "start_time": "2023-04-05T12:43:07.330Z"
   },
   {
    "duration": 577,
    "start_time": "2023-04-05T12:43:07.571Z"
   },
   {
    "duration": 38,
    "start_time": "2023-04-05T12:43:08.151Z"
   },
   {
    "duration": 111,
    "start_time": "2023-04-05T12:43:08.195Z"
   },
   {
    "duration": 52,
    "start_time": "2023-04-05T12:43:08.312Z"
   },
   {
    "duration": 19,
    "start_time": "2023-04-05T12:43:08.369Z"
   },
   {
    "duration": 9,
    "start_time": "2023-04-05T12:43:08.394Z"
   },
   {
    "duration": 45,
    "start_time": "2023-04-05T12:43:08.407Z"
   },
   {
    "duration": 8,
    "start_time": "2023-04-05T12:43:08.454Z"
   },
   {
    "duration": 280,
    "start_time": "2023-04-05T12:43:08.465Z"
   },
   {
    "duration": 47,
    "start_time": "2023-04-05T12:43:08.748Z"
   },
   {
    "duration": 70,
    "start_time": "2023-04-05T12:43:08.799Z"
   },
   {
    "duration": 26,
    "start_time": "2023-04-05T12:43:08.873Z"
   },
   {
    "duration": 106,
    "start_time": "2023-04-05T12:43:08.901Z"
   },
   {
    "duration": 34,
    "start_time": "2023-04-05T12:43:09.013Z"
   },
   {
    "duration": 6,
    "start_time": "2023-04-05T12:43:09.055Z"
   },
   {
    "duration": 18,
    "start_time": "2023-04-05T12:43:09.067Z"
   },
   {
    "duration": 43,
    "start_time": "2023-04-05T12:43:09.093Z"
   },
   {
    "duration": 26,
    "start_time": "2023-04-05T12:43:09.140Z"
   },
   {
    "duration": 5,
    "start_time": "2023-04-05T12:43:09.168Z"
   },
   {
    "duration": 295,
    "start_time": "2023-04-05T12:43:09.174Z"
   },
   {
    "duration": 175,
    "start_time": "2023-04-05T12:43:09.472Z"
   },
   {
    "duration": 13,
    "start_time": "2023-04-05T12:43:09.649Z"
   },
   {
    "duration": 214,
    "start_time": "2023-04-05T12:43:09.664Z"
   },
   {
    "duration": 10,
    "start_time": "2023-04-05T12:43:09.880Z"
   },
   {
    "duration": 27,
    "start_time": "2023-04-05T12:43:09.892Z"
   },
   {
    "duration": 0,
    "start_time": "2023-04-05T12:43:09.924Z"
   },
   {
    "duration": 0,
    "start_time": "2023-04-05T12:43:09.929Z"
   },
   {
    "duration": 0,
    "start_time": "2023-04-05T12:43:09.934Z"
   },
   {
    "duration": 0,
    "start_time": "2023-04-05T12:43:09.938Z"
   },
   {
    "duration": 0,
    "start_time": "2023-04-05T12:43:09.941Z"
   },
   {
    "duration": 0,
    "start_time": "2023-04-05T12:43:09.942Z"
   },
   {
    "duration": 1,
    "start_time": "2023-04-05T12:43:09.944Z"
   },
   {
    "duration": 0,
    "start_time": "2023-04-05T12:43:09.945Z"
   },
   {
    "duration": 0,
    "start_time": "2023-04-05T12:43:09.946Z"
   },
   {
    "duration": 1,
    "start_time": "2023-04-05T12:43:09.947Z"
   },
   {
    "duration": 0,
    "start_time": "2023-04-05T12:43:09.949Z"
   },
   {
    "duration": 5,
    "start_time": "2023-04-05T13:02:47.175Z"
   },
   {
    "duration": 90,
    "start_time": "2023-04-05T13:02:50.044Z"
   },
   {
    "duration": 5,
    "start_time": "2023-04-05T13:03:01.117Z"
   },
   {
    "duration": 1047,
    "start_time": "2023-04-05T13:03:01.124Z"
   },
   {
    "duration": 18,
    "start_time": "2023-04-05T13:03:02.176Z"
   },
   {
    "duration": 1040,
    "start_time": "2023-04-05T13:03:02.197Z"
   },
   {
    "duration": 138,
    "start_time": "2023-04-05T13:03:03.240Z"
   },
   {
    "duration": 451,
    "start_time": "2023-04-05T13:03:03.385Z"
   },
   {
    "duration": 511,
    "start_time": "2023-04-05T13:03:03.838Z"
   },
   {
    "duration": 144,
    "start_time": "2023-04-05T13:03:04.351Z"
   },
   {
    "duration": 22,
    "start_time": "2023-04-05T13:03:04.497Z"
   },
   {
    "duration": 31,
    "start_time": "2023-04-05T13:03:04.521Z"
   },
   {
    "duration": 1853,
    "start_time": "2023-04-05T13:03:04.576Z"
   },
   {
    "duration": 1687,
    "start_time": "2023-04-05T13:03:06.431Z"
   },
   {
    "duration": 2325,
    "start_time": "2023-04-05T13:03:08.121Z"
   },
   {
    "duration": 51,
    "start_time": "2023-04-05T13:03:10.448Z"
   },
   {
    "duration": 22,
    "start_time": "2023-04-05T13:03:10.501Z"
   },
   {
    "duration": 22,
    "start_time": "2023-04-05T13:03:10.525Z"
   },
   {
    "duration": 9648,
    "start_time": "2023-04-05T13:03:10.549Z"
   },
   {
    "duration": 8100,
    "start_time": "2023-04-05T13:03:20.198Z"
   },
   {
    "duration": 14838,
    "start_time": "2023-04-05T13:03:28.300Z"
   },
   {
    "duration": 38,
    "start_time": "2023-04-05T13:03:43.141Z"
   },
   {
    "duration": 50,
    "start_time": "2023-04-05T13:03:43.182Z"
   },
   {
    "duration": 19,
    "start_time": "2023-04-05T13:03:43.234Z"
   },
   {
    "duration": 37,
    "start_time": "2023-04-05T13:03:43.255Z"
   },
   {
    "duration": 41,
    "start_time": "2023-04-05T13:03:43.297Z"
   },
   {
    "duration": 18,
    "start_time": "2023-04-05T13:03:43.339Z"
   },
   {
    "duration": 136,
    "start_time": "2023-04-05T13:03:43.359Z"
   },
   {
    "duration": 271,
    "start_time": "2023-04-05T13:03:43.502Z"
   },
   {
    "duration": 646,
    "start_time": "2023-04-05T13:03:43.778Z"
   },
   {
    "duration": 67,
    "start_time": "2023-04-05T13:03:44.430Z"
   },
   {
    "duration": 11,
    "start_time": "2023-04-05T13:03:44.499Z"
   },
   {
    "duration": 41,
    "start_time": "2023-04-05T13:03:44.512Z"
   },
   {
    "duration": 82,
    "start_time": "2023-04-05T13:03:44.556Z"
   },
   {
    "duration": 10,
    "start_time": "2023-04-05T13:03:44.640Z"
   },
   {
    "duration": 76,
    "start_time": "2023-04-05T13:03:44.653Z"
   },
   {
    "duration": 26,
    "start_time": "2023-04-05T13:03:44.732Z"
   },
   {
    "duration": 63,
    "start_time": "2023-04-05T13:03:44.760Z"
   },
   {
    "duration": 25,
    "start_time": "2023-04-05T13:03:44.825Z"
   },
   {
    "duration": 307,
    "start_time": "2023-04-05T13:03:44.856Z"
   },
   {
    "duration": 208,
    "start_time": "2023-04-05T13:03:45.164Z"
   },
   {
    "duration": 21,
    "start_time": "2023-04-05T13:03:45.377Z"
   },
   {
    "duration": 55,
    "start_time": "2023-04-05T13:03:45.400Z"
   },
   {
    "duration": 191,
    "start_time": "2023-04-05T13:03:45.458Z"
   },
   {
    "duration": 540,
    "start_time": "2023-04-05T13:03:45.651Z"
   },
   {
    "duration": 25,
    "start_time": "2023-04-05T13:03:46.194Z"
   },
   {
    "duration": 114,
    "start_time": "2023-04-05T13:03:46.222Z"
   },
   {
    "duration": 219,
    "start_time": "2023-04-05T13:03:46.339Z"
   },
   {
    "duration": 539,
    "start_time": "2023-04-05T13:03:46.560Z"
   },
   {
    "duration": 28,
    "start_time": "2023-04-05T13:03:47.103Z"
   },
   {
    "duration": 100,
    "start_time": "2023-04-05T13:03:47.133Z"
   },
   {
    "duration": 45,
    "start_time": "2023-04-05T13:03:47.235Z"
   },
   {
    "duration": 18,
    "start_time": "2023-04-05T13:03:47.282Z"
   },
   {
    "duration": 11,
    "start_time": "2023-04-05T13:03:47.302Z"
   },
   {
    "duration": 53,
    "start_time": "2023-04-05T13:03:47.315Z"
   },
   {
    "duration": 14,
    "start_time": "2023-04-05T13:03:47.370Z"
   },
   {
    "duration": 252,
    "start_time": "2023-04-05T13:03:47.385Z"
   },
   {
    "duration": 24,
    "start_time": "2023-04-05T13:03:47.639Z"
   },
   {
    "duration": 43,
    "start_time": "2023-04-05T13:03:47.675Z"
   },
   {
    "duration": 29,
    "start_time": "2023-04-05T13:03:47.720Z"
   },
   {
    "duration": 78,
    "start_time": "2023-04-05T13:03:47.751Z"
   },
   {
    "duration": 19,
    "start_time": "2023-04-05T13:03:47.830Z"
   },
   {
    "duration": 12,
    "start_time": "2023-04-05T13:03:47.851Z"
   },
   {
    "duration": 14,
    "start_time": "2023-04-05T13:03:47.864Z"
   },
   {
    "duration": 34,
    "start_time": "2023-04-05T13:03:47.880Z"
   },
   {
    "duration": 11,
    "start_time": "2023-04-05T13:03:47.916Z"
   },
   {
    "duration": 12,
    "start_time": "2023-04-05T13:03:47.929Z"
   },
   {
    "duration": 162,
    "start_time": "2023-04-05T13:03:47.946Z"
   },
   {
    "duration": 121,
    "start_time": "2023-04-05T13:03:48.110Z"
   },
   {
    "duration": 8,
    "start_time": "2023-04-05T13:03:48.233Z"
   },
   {
    "duration": 170,
    "start_time": "2023-04-05T13:03:48.243Z"
   },
   {
    "duration": 14,
    "start_time": "2023-04-05T13:03:48.416Z"
   },
   {
    "duration": 51,
    "start_time": "2023-04-05T13:03:48.437Z"
   },
   {
    "duration": 0,
    "start_time": "2023-04-05T13:03:48.489Z"
   },
   {
    "duration": 0,
    "start_time": "2023-04-05T13:03:48.491Z"
   },
   {
    "duration": 0,
    "start_time": "2023-04-05T13:03:48.493Z"
   },
   {
    "duration": 0,
    "start_time": "2023-04-05T13:03:48.494Z"
   },
   {
    "duration": 0,
    "start_time": "2023-04-05T13:03:48.496Z"
   },
   {
    "duration": 0,
    "start_time": "2023-04-05T13:03:48.497Z"
   },
   {
    "duration": 0,
    "start_time": "2023-04-05T13:03:48.498Z"
   },
   {
    "duration": 0,
    "start_time": "2023-04-05T13:03:48.500Z"
   },
   {
    "duration": 0,
    "start_time": "2023-04-05T13:03:48.501Z"
   },
   {
    "duration": 0,
    "start_time": "2023-04-05T13:03:48.502Z"
   },
   {
    "duration": 0,
    "start_time": "2023-04-05T13:03:48.503Z"
   },
   {
    "duration": 4,
    "start_time": "2023-04-05T13:07:53.765Z"
   },
   {
    "duration": 94,
    "start_time": "2023-04-05T13:07:54.672Z"
   },
   {
    "duration": 5,
    "start_time": "2023-04-05T13:08:01.967Z"
   },
   {
    "duration": 952,
    "start_time": "2023-04-05T13:08:01.979Z"
   },
   {
    "duration": 15,
    "start_time": "2023-04-05T13:08:02.934Z"
   },
   {
    "duration": 968,
    "start_time": "2023-04-05T13:08:02.951Z"
   },
   {
    "duration": 132,
    "start_time": "2023-04-05T13:08:03.922Z"
   },
   {
    "duration": 474,
    "start_time": "2023-04-05T13:08:04.056Z"
   },
   {
    "duration": 515,
    "start_time": "2023-04-05T13:08:04.532Z"
   },
   {
    "duration": 147,
    "start_time": "2023-04-05T13:08:05.049Z"
   },
   {
    "duration": 28,
    "start_time": "2023-04-05T13:08:05.198Z"
   },
   {
    "duration": 55,
    "start_time": "2023-04-05T13:08:05.229Z"
   },
   {
    "duration": 1733,
    "start_time": "2023-04-05T13:08:05.292Z"
   },
   {
    "duration": 1639,
    "start_time": "2023-04-05T13:08:07.027Z"
   },
   {
    "duration": 2274,
    "start_time": "2023-04-05T13:08:08.668Z"
   },
   {
    "duration": 21,
    "start_time": "2023-04-05T13:08:10.945Z"
   },
   {
    "duration": 31,
    "start_time": "2023-04-05T13:08:10.974Z"
   },
   {
    "duration": 26,
    "start_time": "2023-04-05T13:08:11.007Z"
   },
   {
    "duration": 9647,
    "start_time": "2023-04-05T13:08:11.034Z"
   },
   {
    "duration": 8000,
    "start_time": "2023-04-05T13:08:20.683Z"
   },
   {
    "duration": 13864,
    "start_time": "2023-04-05T13:08:28.700Z"
   },
   {
    "duration": 34,
    "start_time": "2023-04-05T13:08:42.565Z"
   },
   {
    "duration": 32,
    "start_time": "2023-04-05T13:08:42.601Z"
   },
   {
    "duration": 19,
    "start_time": "2023-04-05T13:08:42.635Z"
   },
   {
    "duration": 29,
    "start_time": "2023-04-05T13:08:42.678Z"
   },
   {
    "duration": 80,
    "start_time": "2023-04-05T13:08:42.709Z"
   },
   {
    "duration": 19,
    "start_time": "2023-04-05T13:08:42.795Z"
   },
   {
    "duration": 116,
    "start_time": "2023-04-05T13:08:42.816Z"
   },
   {
    "duration": 250,
    "start_time": "2023-04-05T13:08:42.934Z"
   },
   {
    "duration": 517,
    "start_time": "2023-04-05T13:08:43.191Z"
   },
   {
    "duration": 65,
    "start_time": "2023-04-05T13:08:43.713Z"
   },
   {
    "duration": 12,
    "start_time": "2023-04-05T13:08:43.780Z"
   },
   {
    "duration": 19,
    "start_time": "2023-04-05T13:08:43.795Z"
   },
   {
    "duration": 33,
    "start_time": "2023-04-05T13:08:43.815Z"
   },
   {
    "duration": 40,
    "start_time": "2023-04-05T13:08:43.849Z"
   },
   {
    "duration": 50,
    "start_time": "2023-04-05T13:08:43.894Z"
   },
   {
    "duration": 45,
    "start_time": "2023-04-05T13:08:43.946Z"
   },
   {
    "duration": 51,
    "start_time": "2023-04-05T13:08:43.993Z"
   },
   {
    "duration": 40,
    "start_time": "2023-04-05T13:08:44.047Z"
   },
   {
    "duration": 293,
    "start_time": "2023-04-05T13:08:44.092Z"
   },
   {
    "duration": 244,
    "start_time": "2023-04-05T13:08:44.386Z"
   },
   {
    "duration": 16,
    "start_time": "2023-04-05T13:08:44.632Z"
   },
   {
    "duration": 68,
    "start_time": "2023-04-05T13:08:44.650Z"
   },
   {
    "duration": 285,
    "start_time": "2023-04-05T13:08:44.720Z"
   },
   {
    "duration": 499,
    "start_time": "2023-04-05T13:08:45.007Z"
   },
   {
    "duration": 14,
    "start_time": "2023-04-05T13:08:45.509Z"
   },
   {
    "duration": 115,
    "start_time": "2023-04-05T13:08:45.525Z"
   },
   {
    "duration": 193,
    "start_time": "2023-04-05T13:08:45.642Z"
   },
   {
    "duration": 529,
    "start_time": "2023-04-05T13:08:45.837Z"
   },
   {
    "duration": 45,
    "start_time": "2023-04-05T13:08:46.369Z"
   },
   {
    "duration": 120,
    "start_time": "2023-04-05T13:08:46.416Z"
   },
   {
    "duration": 53,
    "start_time": "2023-04-05T13:08:46.538Z"
   },
   {
    "duration": 18,
    "start_time": "2023-04-05T13:08:46.592Z"
   },
   {
    "duration": 24,
    "start_time": "2023-04-05T13:08:46.613Z"
   },
   {
    "duration": 51,
    "start_time": "2023-04-05T13:08:46.639Z"
   },
   {
    "duration": 8,
    "start_time": "2023-04-05T13:08:46.692Z"
   },
   {
    "duration": 239,
    "start_time": "2023-04-05T13:08:46.702Z"
   },
   {
    "duration": 37,
    "start_time": "2023-04-05T13:08:46.944Z"
   },
   {
    "duration": 40,
    "start_time": "2023-04-05T13:08:46.985Z"
   },
   {
    "duration": 19,
    "start_time": "2023-04-05T13:08:47.027Z"
   },
   {
    "duration": 85,
    "start_time": "2023-04-05T13:08:47.048Z"
   },
   {
    "duration": 20,
    "start_time": "2023-04-05T13:08:47.135Z"
   },
   {
    "duration": 30,
    "start_time": "2023-04-05T13:08:47.157Z"
   },
   {
    "duration": 12,
    "start_time": "2023-04-05T13:08:47.193Z"
   },
   {
    "duration": 45,
    "start_time": "2023-04-05T13:08:47.208Z"
   },
   {
    "duration": 13,
    "start_time": "2023-04-05T13:08:47.256Z"
   },
   {
    "duration": 11,
    "start_time": "2023-04-05T13:08:47.271Z"
   },
   {
    "duration": 57,
    "start_time": "2023-04-05T13:08:47.284Z"
   },
   {
    "duration": 1174,
    "start_time": "2023-04-05T13:08:47.343Z"
   },
   {
    "duration": 8,
    "start_time": "2023-04-05T13:08:48.519Z"
   },
   {
    "duration": 120,
    "start_time": "2023-04-05T13:08:48.534Z"
   },
   {
    "duration": 10,
    "start_time": "2023-04-05T13:08:48.656Z"
   },
   {
    "duration": 77,
    "start_time": "2023-04-05T13:08:48.668Z"
   },
   {
    "duration": 0,
    "start_time": "2023-04-05T13:08:48.746Z"
   },
   {
    "duration": 0,
    "start_time": "2023-04-05T13:08:48.748Z"
   },
   {
    "duration": 0,
    "start_time": "2023-04-05T13:08:48.749Z"
   },
   {
    "duration": 0,
    "start_time": "2023-04-05T13:08:48.750Z"
   },
   {
    "duration": 0,
    "start_time": "2023-04-05T13:08:48.751Z"
   },
   {
    "duration": 0,
    "start_time": "2023-04-05T13:08:48.753Z"
   },
   {
    "duration": 0,
    "start_time": "2023-04-05T13:08:48.753Z"
   },
   {
    "duration": 0,
    "start_time": "2023-04-05T13:08:48.777Z"
   },
   {
    "duration": 0,
    "start_time": "2023-04-05T13:08:48.777Z"
   },
   {
    "duration": 0,
    "start_time": "2023-04-05T13:08:48.778Z"
   },
   {
    "duration": 0,
    "start_time": "2023-04-05T13:08:48.780Z"
   },
   {
    "duration": 1627,
    "start_time": "2023-04-05T13:11:20.500Z"
   },
   {
    "duration": 955,
    "start_time": "2023-04-05T13:11:22.130Z"
   },
   {
    "duration": 23,
    "start_time": "2023-04-05T13:11:23.089Z"
   },
   {
    "duration": 1040,
    "start_time": "2023-04-05T13:11:23.114Z"
   },
   {
    "duration": 133,
    "start_time": "2023-04-05T13:11:24.157Z"
   },
   {
    "duration": 509,
    "start_time": "2023-04-05T13:11:24.292Z"
   },
   {
    "duration": 497,
    "start_time": "2023-04-05T13:11:24.803Z"
   },
   {
    "duration": 176,
    "start_time": "2023-04-05T13:11:25.302Z"
   },
   {
    "duration": 27,
    "start_time": "2023-04-05T13:11:25.481Z"
   },
   {
    "duration": 50,
    "start_time": "2023-04-05T13:11:25.509Z"
   },
   {
    "duration": 1689,
    "start_time": "2023-04-05T13:11:25.562Z"
   },
   {
    "duration": 1695,
    "start_time": "2023-04-05T13:11:27.253Z"
   },
   {
    "duration": 2315,
    "start_time": "2023-04-05T13:11:28.949Z"
   },
   {
    "duration": 31,
    "start_time": "2023-04-05T13:11:31.268Z"
   },
   {
    "duration": 43,
    "start_time": "2023-04-05T13:11:31.300Z"
   },
   {
    "duration": 77,
    "start_time": "2023-04-05T13:11:31.345Z"
   },
   {
    "duration": 9929,
    "start_time": "2023-04-05T13:11:31.425Z"
   },
   {
    "duration": 8201,
    "start_time": "2023-04-05T13:11:41.356Z"
   },
   {
    "duration": 14032,
    "start_time": "2023-04-05T13:11:49.559Z"
   },
   {
    "duration": 24,
    "start_time": "2023-04-05T13:12:03.592Z"
   },
   {
    "duration": 38,
    "start_time": "2023-04-05T13:12:03.617Z"
   },
   {
    "duration": 24,
    "start_time": "2023-04-05T13:12:03.657Z"
   },
   {
    "duration": 26,
    "start_time": "2023-04-05T13:12:03.688Z"
   },
   {
    "duration": 63,
    "start_time": "2023-04-05T13:12:03.716Z"
   },
   {
    "duration": 23,
    "start_time": "2023-04-05T13:12:03.783Z"
   },
   {
    "duration": 109,
    "start_time": "2023-04-05T13:12:03.808Z"
   },
   {
    "duration": 213,
    "start_time": "2023-04-05T13:12:03.919Z"
   },
   {
    "duration": 524,
    "start_time": "2023-04-05T13:12:04.134Z"
   },
   {
    "duration": 89,
    "start_time": "2023-04-05T13:12:04.660Z"
   },
   {
    "duration": 28,
    "start_time": "2023-04-05T13:12:04.751Z"
   },
   {
    "duration": 22,
    "start_time": "2023-04-05T13:12:04.787Z"
   },
   {
    "duration": 60,
    "start_time": "2023-04-05T13:12:04.811Z"
   },
   {
    "duration": 22,
    "start_time": "2023-04-05T13:12:04.872Z"
   },
   {
    "duration": 67,
    "start_time": "2023-04-05T13:12:04.896Z"
   },
   {
    "duration": 28,
    "start_time": "2023-04-05T13:12:04.965Z"
   },
   {
    "duration": 32,
    "start_time": "2023-04-05T13:12:04.995Z"
   },
   {
    "duration": 26,
    "start_time": "2023-04-05T13:12:05.029Z"
   },
   {
    "duration": 301,
    "start_time": "2023-04-05T13:12:05.057Z"
   },
   {
    "duration": 201,
    "start_time": "2023-04-05T13:12:05.360Z"
   },
   {
    "duration": 32,
    "start_time": "2023-04-05T13:12:05.563Z"
   },
   {
    "duration": 49,
    "start_time": "2023-04-05T13:12:05.600Z"
   },
   {
    "duration": 169,
    "start_time": "2023-04-05T13:12:05.651Z"
   },
   {
    "duration": 500,
    "start_time": "2023-04-05T13:12:05.822Z"
   },
   {
    "duration": 14,
    "start_time": "2023-04-05T13:12:06.324Z"
   },
   {
    "duration": 109,
    "start_time": "2023-04-05T13:12:06.340Z"
   },
   {
    "duration": 194,
    "start_time": "2023-04-05T13:12:06.451Z"
   },
   {
    "duration": 488,
    "start_time": "2023-04-05T13:12:06.647Z"
   },
   {
    "duration": 38,
    "start_time": "2023-04-05T13:12:07.137Z"
   },
   {
    "duration": 90,
    "start_time": "2023-04-05T13:12:07.180Z"
   },
   {
    "duration": 45,
    "start_time": "2023-04-05T13:12:07.271Z"
   },
   {
    "duration": 16,
    "start_time": "2023-04-05T13:12:07.318Z"
   },
   {
    "duration": 8,
    "start_time": "2023-04-05T13:12:07.336Z"
   },
   {
    "duration": 58,
    "start_time": "2023-04-05T13:12:07.346Z"
   },
   {
    "duration": 16,
    "start_time": "2023-04-05T13:12:07.406Z"
   },
   {
    "duration": 254,
    "start_time": "2023-04-05T13:12:07.424Z"
   },
   {
    "duration": 25,
    "start_time": "2023-04-05T13:12:07.686Z"
   },
   {
    "duration": 31,
    "start_time": "2023-04-05T13:12:07.713Z"
   },
   {
    "duration": 34,
    "start_time": "2023-04-05T13:12:07.746Z"
   },
   {
    "duration": 60,
    "start_time": "2023-04-05T13:12:07.790Z"
   },
   {
    "duration": 30,
    "start_time": "2023-04-05T13:12:07.852Z"
   },
   {
    "duration": 3,
    "start_time": "2023-04-05T13:12:07.889Z"
   },
   {
    "duration": 7,
    "start_time": "2023-04-05T13:12:07.894Z"
   },
   {
    "duration": 31,
    "start_time": "2023-04-05T13:12:07.903Z"
   },
   {
    "duration": 43,
    "start_time": "2023-04-05T13:12:07.936Z"
   },
   {
    "duration": 8,
    "start_time": "2023-04-05T13:12:07.985Z"
   },
   {
    "duration": 258,
    "start_time": "2023-04-05T13:12:07.996Z"
   },
   {
    "duration": 132,
    "start_time": "2023-04-05T13:12:08.257Z"
   },
   {
    "duration": 10,
    "start_time": "2023-04-05T13:12:08.391Z"
   },
   {
    "duration": 137,
    "start_time": "2023-04-05T13:12:08.404Z"
   },
   {
    "duration": 9,
    "start_time": "2023-04-05T13:12:08.543Z"
   },
   {
    "duration": 32,
    "start_time": "2023-04-05T13:12:08.554Z"
   },
   {
    "duration": 0,
    "start_time": "2023-04-05T13:12:08.588Z"
   },
   {
    "duration": 0,
    "start_time": "2023-04-05T13:12:08.589Z"
   },
   {
    "duration": 0,
    "start_time": "2023-04-05T13:12:08.590Z"
   },
   {
    "duration": 0,
    "start_time": "2023-04-05T13:12:08.591Z"
   },
   {
    "duration": 1,
    "start_time": "2023-04-05T13:12:08.591Z"
   },
   {
    "duration": 0,
    "start_time": "2023-04-05T13:12:08.592Z"
   },
   {
    "duration": 0,
    "start_time": "2023-04-05T13:12:08.593Z"
   },
   {
    "duration": 0,
    "start_time": "2023-04-05T13:12:08.595Z"
   },
   {
    "duration": 0,
    "start_time": "2023-04-05T13:12:08.596Z"
   },
   {
    "duration": 0,
    "start_time": "2023-04-05T13:12:08.597Z"
   },
   {
    "duration": 0,
    "start_time": "2023-04-05T13:12:08.598Z"
   },
   {
    "duration": 4,
    "start_time": "2023-04-05T13:27:07.642Z"
   },
   {
    "duration": 13,
    "start_time": "2023-04-05T13:27:59.457Z"
   },
   {
    "duration": 94,
    "start_time": "2023-04-05T13:28:00.265Z"
   },
   {
    "duration": 4,
    "start_time": "2023-04-05T13:28:29.913Z"
   },
   {
    "duration": 4,
    "start_time": "2023-04-05T13:28:34.756Z"
   },
   {
    "duration": 111,
    "start_time": "2023-04-05T13:28:45.325Z"
   },
   {
    "duration": 5,
    "start_time": "2023-04-05T13:28:51.785Z"
   },
   {
    "duration": 8,
    "start_time": "2023-04-05T13:28:54.984Z"
   },
   {
    "duration": 4,
    "start_time": "2023-04-05T13:28:58.004Z"
   },
   {
    "duration": 88,
    "start_time": "2023-04-05T13:30:55.042Z"
   },
   {
    "duration": 7931,
    "start_time": "2023-04-05T13:32:55.924Z"
   },
   {
    "duration": 2352,
    "start_time": "2023-04-05T13:33:32.160Z"
   },
   {
    "duration": 1527,
    "start_time": "2023-04-05T13:33:34.515Z"
   },
   {
    "duration": 1076,
    "start_time": "2023-04-05T13:33:36.043Z"
   },
   {
    "duration": 19,
    "start_time": "2023-04-05T13:33:37.122Z"
   },
   {
    "duration": 940,
    "start_time": "2023-04-05T13:33:37.144Z"
   },
   {
    "duration": 140,
    "start_time": "2023-04-05T13:33:38.088Z"
   },
   {
    "duration": 632,
    "start_time": "2023-04-05T13:33:38.230Z"
   },
   {
    "duration": 581,
    "start_time": "2023-04-05T13:33:38.863Z"
   },
   {
    "duration": 175,
    "start_time": "2023-04-05T13:33:39.446Z"
   },
   {
    "duration": 23,
    "start_time": "2023-04-05T13:33:39.624Z"
   },
   {
    "duration": 39,
    "start_time": "2023-04-05T13:33:39.648Z"
   },
   {
    "duration": 1682,
    "start_time": "2023-04-05T13:33:39.688Z"
   },
   {
    "duration": 1669,
    "start_time": "2023-04-05T13:33:41.371Z"
   },
   {
    "duration": 2246,
    "start_time": "2023-04-05T13:33:43.041Z"
   },
   {
    "duration": 25,
    "start_time": "2023-04-05T13:33:45.290Z"
   },
   {
    "duration": 39,
    "start_time": "2023-04-05T13:33:45.317Z"
   },
   {
    "duration": 34,
    "start_time": "2023-04-05T13:33:45.358Z"
   },
   {
    "duration": 9887,
    "start_time": "2023-04-05T13:33:45.394Z"
   },
   {
    "duration": 8177,
    "start_time": "2023-04-05T13:33:55.288Z"
   },
   {
    "duration": 13544,
    "start_time": "2023-04-05T13:34:03.467Z"
   },
   {
    "duration": 21,
    "start_time": "2023-04-05T13:34:17.013Z"
   },
   {
    "duration": 53,
    "start_time": "2023-04-05T13:34:17.036Z"
   },
   {
    "duration": 20,
    "start_time": "2023-04-05T13:34:17.091Z"
   },
   {
    "duration": 23,
    "start_time": "2023-04-05T13:34:17.113Z"
   },
   {
    "duration": 61,
    "start_time": "2023-04-05T13:34:17.138Z"
   },
   {
    "duration": 21,
    "start_time": "2023-04-05T13:34:17.201Z"
   },
   {
    "duration": 126,
    "start_time": "2023-04-05T13:34:17.224Z"
   },
   {
    "duration": 253,
    "start_time": "2023-04-05T13:34:17.355Z"
   },
   {
    "duration": 574,
    "start_time": "2023-04-05T13:34:17.610Z"
   },
   {
    "duration": 60,
    "start_time": "2023-04-05T13:34:18.186Z"
   },
   {
    "duration": 29,
    "start_time": "2023-04-05T13:34:18.248Z"
   },
   {
    "duration": 24,
    "start_time": "2023-04-05T13:34:18.280Z"
   },
   {
    "duration": 33,
    "start_time": "2023-04-05T13:34:18.306Z"
   },
   {
    "duration": 11,
    "start_time": "2023-04-05T13:34:18.341Z"
   },
   {
    "duration": 67,
    "start_time": "2023-04-05T13:34:18.377Z"
   },
   {
    "duration": 32,
    "start_time": "2023-04-05T13:34:18.446Z"
   },
   {
    "duration": 38,
    "start_time": "2023-04-05T13:34:18.480Z"
   },
   {
    "duration": 29,
    "start_time": "2023-04-05T13:34:18.520Z"
   },
   {
    "duration": 320,
    "start_time": "2023-04-05T13:34:18.551Z"
   },
   {
    "duration": 213,
    "start_time": "2023-04-05T13:34:18.875Z"
   },
   {
    "duration": 17,
    "start_time": "2023-04-05T13:34:19.091Z"
   },
   {
    "duration": 50,
    "start_time": "2023-04-05T13:34:19.110Z"
   },
   {
    "duration": 177,
    "start_time": "2023-04-05T13:34:19.162Z"
   },
   {
    "duration": 531,
    "start_time": "2023-04-05T13:34:19.341Z"
   },
   {
    "duration": 20,
    "start_time": "2023-04-05T13:34:19.877Z"
   },
   {
    "duration": 107,
    "start_time": "2023-04-05T13:34:19.899Z"
   },
   {
    "duration": 218,
    "start_time": "2023-04-05T13:34:20.008Z"
   },
   {
    "duration": 560,
    "start_time": "2023-04-05T13:34:20.228Z"
   },
   {
    "duration": 43,
    "start_time": "2023-04-05T13:34:20.790Z"
   },
   {
    "duration": 104,
    "start_time": "2023-04-05T13:34:20.835Z"
   },
   {
    "duration": 56,
    "start_time": "2023-04-05T13:34:20.941Z"
   },
   {
    "duration": 16,
    "start_time": "2023-04-05T13:34:20.998Z"
   },
   {
    "duration": 42,
    "start_time": "2023-04-05T13:34:21.016Z"
   },
   {
    "duration": 57,
    "start_time": "2023-04-05T13:34:21.060Z"
   },
   {
    "duration": 8,
    "start_time": "2023-04-05T13:34:21.119Z"
   },
   {
    "duration": 261,
    "start_time": "2023-04-05T13:34:21.129Z"
   },
   {
    "duration": 25,
    "start_time": "2023-04-05T13:34:21.391Z"
   },
   {
    "duration": 65,
    "start_time": "2023-04-05T13:34:21.418Z"
   },
   {
    "duration": 30,
    "start_time": "2023-04-05T13:34:21.486Z"
   },
   {
    "duration": 110,
    "start_time": "2023-04-05T13:34:21.518Z"
   },
   {
    "duration": 44,
    "start_time": "2023-04-05T13:34:21.631Z"
   },
   {
    "duration": 9,
    "start_time": "2023-04-05T13:34:21.678Z"
   },
   {
    "duration": 14,
    "start_time": "2023-04-05T13:34:21.690Z"
   },
   {
    "duration": 25,
    "start_time": "2023-04-05T13:34:21.706Z"
   },
   {
    "duration": 32,
    "start_time": "2023-04-05T13:34:21.734Z"
   },
   {
    "duration": 14,
    "start_time": "2023-04-05T13:34:21.768Z"
   },
   {
    "duration": 17,
    "start_time": "2023-04-05T13:34:21.784Z"
   },
   {
    "duration": 51,
    "start_time": "2023-04-05T13:34:21.803Z"
   },
   {
    "duration": 142,
    "start_time": "2023-04-05T13:34:52.755Z"
   },
   {
    "duration": 2479,
    "start_time": "2023-04-05T13:34:59.241Z"
   },
   {
    "duration": 2123,
    "start_time": "2023-04-05T13:35:01.724Z"
   },
   {
    "duration": 1265,
    "start_time": "2023-04-05T13:35:03.848Z"
   },
   {
    "duration": 20,
    "start_time": "2023-04-05T13:35:05.115Z"
   },
   {
    "duration": 914,
    "start_time": "2023-04-05T13:35:05.137Z"
   },
   {
    "duration": 144,
    "start_time": "2023-04-05T13:35:06.053Z"
   },
   {
    "duration": 610,
    "start_time": "2023-04-05T13:35:06.198Z"
   },
   {
    "duration": 522,
    "start_time": "2023-04-05T13:35:06.810Z"
   },
   {
    "duration": 173,
    "start_time": "2023-04-05T13:35:07.334Z"
   },
   {
    "duration": 22,
    "start_time": "2023-04-05T13:35:07.509Z"
   },
   {
    "duration": 27,
    "start_time": "2023-04-05T13:35:07.533Z"
   },
   {
    "duration": 1597,
    "start_time": "2023-04-05T13:35:07.575Z"
   },
   {
    "duration": 1655,
    "start_time": "2023-04-05T13:35:09.175Z"
   },
   {
    "duration": 2163,
    "start_time": "2023-04-05T13:35:10.832Z"
   },
   {
    "duration": 26,
    "start_time": "2023-04-05T13:35:12.996Z"
   },
   {
    "duration": 62,
    "start_time": "2023-04-05T13:35:13.025Z"
   },
   {
    "duration": 23,
    "start_time": "2023-04-05T13:35:13.089Z"
   },
   {
    "duration": 9814,
    "start_time": "2023-04-05T13:35:13.113Z"
   },
   {
    "duration": 8001,
    "start_time": "2023-04-05T13:35:22.929Z"
   },
   {
    "duration": 13403,
    "start_time": "2023-04-05T13:35:30.932Z"
   },
   {
    "duration": 22,
    "start_time": "2023-04-05T13:35:44.336Z"
   },
   {
    "duration": 59,
    "start_time": "2023-04-05T13:35:44.360Z"
   },
   {
    "duration": 23,
    "start_time": "2023-04-05T13:35:44.420Z"
   },
   {
    "duration": 46,
    "start_time": "2023-04-05T13:35:44.445Z"
   },
   {
    "duration": 34,
    "start_time": "2023-04-05T13:35:44.493Z"
   },
   {
    "duration": 30,
    "start_time": "2023-04-05T13:35:44.529Z"
   },
   {
    "duration": 107,
    "start_time": "2023-04-05T13:35:44.561Z"
   },
   {
    "duration": 228,
    "start_time": "2023-04-05T13:35:44.677Z"
   },
   {
    "duration": 552,
    "start_time": "2023-04-05T13:35:44.907Z"
   },
   {
    "duration": 66,
    "start_time": "2023-04-05T13:35:45.461Z"
   },
   {
    "duration": 10,
    "start_time": "2023-04-05T13:35:45.529Z"
   },
   {
    "duration": 46,
    "start_time": "2023-04-05T13:35:45.541Z"
   },
   {
    "duration": 33,
    "start_time": "2023-04-05T13:35:45.592Z"
   },
   {
    "duration": 9,
    "start_time": "2023-04-05T13:35:45.627Z"
   },
   {
    "duration": 70,
    "start_time": "2023-04-05T13:35:45.638Z"
   },
   {
    "duration": 19,
    "start_time": "2023-04-05T13:35:45.710Z"
   },
   {
    "duration": 49,
    "start_time": "2023-04-05T13:35:45.730Z"
   },
   {
    "duration": 34,
    "start_time": "2023-04-05T13:35:45.784Z"
   },
   {
    "duration": 306,
    "start_time": "2023-04-05T13:35:45.821Z"
   },
   {
    "duration": 209,
    "start_time": "2023-04-05T13:35:46.129Z"
   },
   {
    "duration": 17,
    "start_time": "2023-04-05T13:35:46.340Z"
   },
   {
    "duration": 66,
    "start_time": "2023-04-05T13:35:46.359Z"
   },
   {
    "duration": 175,
    "start_time": "2023-04-05T13:35:46.426Z"
   },
   {
    "duration": 499,
    "start_time": "2023-04-05T13:35:46.603Z"
   },
   {
    "duration": 15,
    "start_time": "2023-04-05T13:35:47.104Z"
   },
   {
    "duration": 104,
    "start_time": "2023-04-05T13:35:47.121Z"
   },
   {
    "duration": 189,
    "start_time": "2023-04-05T13:35:47.227Z"
   },
   {
    "duration": 515,
    "start_time": "2023-04-05T13:35:47.418Z"
   },
   {
    "duration": 52,
    "start_time": "2023-04-05T13:35:47.935Z"
   },
   {
    "duration": 88,
    "start_time": "2023-04-05T13:35:47.988Z"
   },
   {
    "duration": 38,
    "start_time": "2023-04-05T13:35:48.082Z"
   },
   {
    "duration": 15,
    "start_time": "2023-04-05T13:35:48.122Z"
   },
   {
    "duration": 8,
    "start_time": "2023-04-05T13:35:48.139Z"
   },
   {
    "duration": 62,
    "start_time": "2023-04-05T13:35:48.149Z"
   },
   {
    "duration": 30,
    "start_time": "2023-04-05T13:35:48.213Z"
   },
   {
    "duration": 266,
    "start_time": "2023-04-05T13:35:48.245Z"
   },
   {
    "duration": 23,
    "start_time": "2023-04-05T13:35:48.513Z"
   },
   {
    "duration": 62,
    "start_time": "2023-04-05T13:35:48.538Z"
   },
   {
    "duration": 17,
    "start_time": "2023-04-05T13:35:48.602Z"
   },
   {
    "duration": 76,
    "start_time": "2023-04-05T13:35:48.621Z"
   },
   {
    "duration": 20,
    "start_time": "2023-04-05T13:35:48.700Z"
   },
   {
    "duration": 3,
    "start_time": "2023-04-05T13:35:48.721Z"
   },
   {
    "duration": 16,
    "start_time": "2023-04-05T13:35:48.726Z"
   },
   {
    "duration": 46,
    "start_time": "2023-04-05T13:35:48.744Z"
   },
   {
    "duration": 35,
    "start_time": "2023-04-05T13:35:48.792Z"
   },
   {
    "duration": 4,
    "start_time": "2023-04-05T13:35:48.829Z"
   },
   {
    "duration": 77,
    "start_time": "2023-04-05T13:35:48.835Z"
   },
   {
    "duration": 2444,
    "start_time": "2023-04-05T13:37:45.233Z"
   },
   {
    "duration": 2444,
    "start_time": "2023-04-05T13:37:47.680Z"
   },
   {
    "duration": 1307,
    "start_time": "2023-04-05T13:37:50.126Z"
   },
   {
    "duration": 20,
    "start_time": "2023-04-05T13:37:51.435Z"
   },
   {
    "duration": 902,
    "start_time": "2023-04-05T13:37:51.458Z"
   },
   {
    "duration": 134,
    "start_time": "2023-04-05T13:37:52.361Z"
   },
   {
    "duration": 614,
    "start_time": "2023-04-05T13:37:52.498Z"
   },
   {
    "duration": 571,
    "start_time": "2023-04-05T13:37:53.113Z"
   },
   {
    "duration": 151,
    "start_time": "2023-04-05T13:37:53.689Z"
   },
   {
    "duration": 22,
    "start_time": "2023-04-05T13:37:53.843Z"
   },
   {
    "duration": 42,
    "start_time": "2023-04-05T13:37:53.867Z"
   },
   {
    "duration": 1649,
    "start_time": "2023-04-05T13:37:53.911Z"
   },
   {
    "duration": 1633,
    "start_time": "2023-04-05T13:37:55.561Z"
   },
   {
    "duration": 2189,
    "start_time": "2023-04-05T13:37:57.196Z"
   },
   {
    "duration": 21,
    "start_time": "2023-04-05T13:37:59.391Z"
   },
   {
    "duration": 22,
    "start_time": "2023-04-05T13:37:59.414Z"
   },
   {
    "duration": 20,
    "start_time": "2023-04-05T13:37:59.438Z"
   },
   {
    "duration": 9653,
    "start_time": "2023-04-05T13:37:59.460Z"
   },
   {
    "duration": 8125,
    "start_time": "2023-04-05T13:38:09.115Z"
   },
   {
    "duration": 13919,
    "start_time": "2023-04-05T13:38:17.242Z"
   },
   {
    "duration": 31,
    "start_time": "2023-04-05T13:38:31.163Z"
   },
   {
    "duration": 46,
    "start_time": "2023-04-05T13:38:31.196Z"
   },
   {
    "duration": 67,
    "start_time": "2023-04-05T13:38:31.244Z"
   },
   {
    "duration": 53,
    "start_time": "2023-04-05T13:38:31.313Z"
   },
   {
    "duration": 71,
    "start_time": "2023-04-05T13:38:31.369Z"
   },
   {
    "duration": 110,
    "start_time": "2023-04-05T13:38:31.442Z"
   },
   {
    "duration": 171,
    "start_time": "2023-04-05T13:38:31.554Z"
   },
   {
    "duration": 230,
    "start_time": "2023-04-05T13:38:31.731Z"
   },
   {
    "duration": 570,
    "start_time": "2023-04-05T13:38:31.963Z"
   },
   {
    "duration": 78,
    "start_time": "2023-04-05T13:38:32.535Z"
   },
   {
    "duration": 10,
    "start_time": "2023-04-05T13:38:32.615Z"
   },
   {
    "duration": 20,
    "start_time": "2023-04-05T13:38:32.627Z"
   },
   {
    "duration": 58,
    "start_time": "2023-04-05T13:38:32.649Z"
   },
   {
    "duration": 11,
    "start_time": "2023-04-05T13:38:32.709Z"
   },
   {
    "duration": 87,
    "start_time": "2023-04-05T13:38:32.722Z"
   },
   {
    "duration": 19,
    "start_time": "2023-04-05T13:38:32.811Z"
   },
   {
    "duration": 56,
    "start_time": "2023-04-05T13:38:32.832Z"
   },
   {
    "duration": 30,
    "start_time": "2023-04-05T13:38:32.890Z"
   },
   {
    "duration": 318,
    "start_time": "2023-04-05T13:38:32.922Z"
   },
   {
    "duration": 214,
    "start_time": "2023-04-05T13:38:33.242Z"
   },
   {
    "duration": 35,
    "start_time": "2023-04-05T13:38:33.458Z"
   },
   {
    "duration": 51,
    "start_time": "2023-04-05T13:38:33.496Z"
   },
   {
    "duration": 166,
    "start_time": "2023-04-05T13:38:33.549Z"
   },
   {
    "duration": 533,
    "start_time": "2023-04-05T13:38:33.717Z"
   },
   {
    "duration": 28,
    "start_time": "2023-04-05T13:38:34.251Z"
   },
   {
    "duration": 90,
    "start_time": "2023-04-05T13:38:34.280Z"
   },
   {
    "duration": 200,
    "start_time": "2023-04-05T13:38:34.372Z"
   },
   {
    "duration": 524,
    "start_time": "2023-04-05T13:38:34.576Z"
   },
   {
    "duration": 36,
    "start_time": "2023-04-05T13:38:35.103Z"
   },
   {
    "duration": 114,
    "start_time": "2023-04-05T13:38:35.141Z"
   },
   {
    "duration": 50,
    "start_time": "2023-04-05T13:38:35.256Z"
   },
   {
    "duration": 17,
    "start_time": "2023-04-05T13:38:35.308Z"
   },
   {
    "duration": 7,
    "start_time": "2023-04-05T13:38:35.327Z"
   },
   {
    "duration": 55,
    "start_time": "2023-04-05T13:38:35.336Z"
   },
   {
    "duration": 12,
    "start_time": "2023-04-05T13:38:35.394Z"
   },
   {
    "duration": 275,
    "start_time": "2023-04-05T13:38:35.409Z"
   },
   {
    "duration": 24,
    "start_time": "2023-04-05T13:38:35.689Z"
   },
   {
    "duration": 33,
    "start_time": "2023-04-05T13:38:35.715Z"
   },
   {
    "duration": 45,
    "start_time": "2023-04-05T13:38:35.750Z"
   },
   {
    "duration": 90,
    "start_time": "2023-04-05T13:38:35.797Z"
   },
   {
    "duration": 21,
    "start_time": "2023-04-05T13:38:35.895Z"
   },
   {
    "duration": 5,
    "start_time": "2023-04-05T13:38:35.917Z"
   },
   {
    "duration": 4,
    "start_time": "2023-04-05T13:38:35.924Z"
   },
   {
    "duration": 24,
    "start_time": "2023-04-05T13:38:35.929Z"
   },
   {
    "duration": 26,
    "start_time": "2023-04-05T13:38:35.974Z"
   },
   {
    "duration": 6,
    "start_time": "2023-04-05T13:38:36.002Z"
   },
   {
    "duration": 82,
    "start_time": "2023-04-05T13:38:36.010Z"
   },
   {
    "duration": 2430,
    "start_time": "2023-04-05T14:43:50.404Z"
   },
   {
    "duration": 2361,
    "start_time": "2023-04-05T14:43:52.838Z"
   },
   {
    "duration": 1440,
    "start_time": "2023-04-05T14:43:55.201Z"
   },
   {
    "duration": 23,
    "start_time": "2023-04-05T14:43:56.644Z"
   },
   {
    "duration": 924,
    "start_time": "2023-04-05T14:43:56.669Z"
   },
   {
    "duration": 142,
    "start_time": "2023-04-05T14:43:57.595Z"
   },
   {
    "duration": 588,
    "start_time": "2023-04-05T14:43:57.739Z"
   },
   {
    "duration": 558,
    "start_time": "2023-04-05T14:43:58.329Z"
   },
   {
    "duration": 187,
    "start_time": "2023-04-05T14:43:58.889Z"
   },
   {
    "duration": 26,
    "start_time": "2023-04-05T14:43:59.080Z"
   },
   {
    "duration": 29,
    "start_time": "2023-04-05T14:43:59.108Z"
   },
   {
    "duration": 1643,
    "start_time": "2023-04-05T14:43:59.139Z"
   },
   {
    "duration": 1572,
    "start_time": "2023-04-05T14:44:00.784Z"
   },
   {
    "duration": 2436,
    "start_time": "2023-04-05T14:44:02.359Z"
   },
   {
    "duration": 23,
    "start_time": "2023-04-05T14:44:04.797Z"
   },
   {
    "duration": 47,
    "start_time": "2023-04-05T14:44:04.822Z"
   },
   {
    "duration": 36,
    "start_time": "2023-04-05T14:44:04.871Z"
   },
   {
    "duration": 9327,
    "start_time": "2023-04-05T14:44:04.909Z"
   },
   {
    "duration": 7544,
    "start_time": "2023-04-05T14:44:14.238Z"
   },
   {
    "duration": 14158,
    "start_time": "2023-04-05T14:44:21.784Z"
   },
   {
    "duration": 31,
    "start_time": "2023-04-05T14:44:35.945Z"
   },
   {
    "duration": 98,
    "start_time": "2023-04-05T14:44:35.979Z"
   },
   {
    "duration": 23,
    "start_time": "2023-04-05T14:44:36.079Z"
   },
   {
    "duration": 42,
    "start_time": "2023-04-05T14:44:36.104Z"
   },
   {
    "duration": 62,
    "start_time": "2023-04-05T14:44:36.150Z"
   },
   {
    "duration": 27,
    "start_time": "2023-04-05T14:44:36.214Z"
   },
   {
    "duration": 165,
    "start_time": "2023-04-05T14:44:36.247Z"
   },
   {
    "duration": 305,
    "start_time": "2023-04-05T14:44:36.418Z"
   },
   {
    "duration": 701,
    "start_time": "2023-04-05T14:44:36.725Z"
   },
   {
    "duration": 74,
    "start_time": "2023-04-05T14:44:37.428Z"
   },
   {
    "duration": 13,
    "start_time": "2023-04-05T14:44:37.504Z"
   },
   {
    "duration": 19,
    "start_time": "2023-04-05T14:44:37.519Z"
   },
   {
    "duration": 62,
    "start_time": "2023-04-05T14:44:37.540Z"
   },
   {
    "duration": 11,
    "start_time": "2023-04-05T14:44:37.604Z"
   },
   {
    "duration": 77,
    "start_time": "2023-04-05T14:44:37.616Z"
   },
   {
    "duration": 18,
    "start_time": "2023-04-05T14:44:37.695Z"
   },
   {
    "duration": 36,
    "start_time": "2023-04-05T14:44:37.716Z"
   },
   {
    "duration": 43,
    "start_time": "2023-04-05T14:44:37.755Z"
   },
   {
    "duration": 299,
    "start_time": "2023-04-05T14:44:37.801Z"
   },
   {
    "duration": 199,
    "start_time": "2023-04-05T14:44:38.102Z"
   },
   {
    "duration": 18,
    "start_time": "2023-04-05T14:44:38.304Z"
   },
   {
    "duration": 139,
    "start_time": "2023-04-05T14:44:38.324Z"
   },
   {
    "duration": 239,
    "start_time": "2023-04-05T14:44:38.465Z"
   },
   {
    "duration": 561,
    "start_time": "2023-04-05T14:44:38.707Z"
   },
   {
    "duration": 23,
    "start_time": "2023-04-05T14:44:39.274Z"
   },
   {
    "duration": 114,
    "start_time": "2023-04-05T14:44:39.299Z"
   },
   {
    "duration": 222,
    "start_time": "2023-04-05T14:44:39.416Z"
   },
   {
    "duration": 533,
    "start_time": "2023-04-05T14:44:39.640Z"
   },
   {
    "duration": 36,
    "start_time": "2023-04-05T14:44:40.175Z"
   },
   {
    "duration": 108,
    "start_time": "2023-04-05T14:44:40.213Z"
   },
   {
    "duration": 53,
    "start_time": "2023-04-05T14:44:40.323Z"
   },
   {
    "duration": 21,
    "start_time": "2023-04-05T14:44:40.385Z"
   },
   {
    "duration": 10,
    "start_time": "2023-04-05T14:44:40.408Z"
   },
   {
    "duration": 56,
    "start_time": "2023-04-05T14:44:40.420Z"
   },
   {
    "duration": 10,
    "start_time": "2023-04-05T14:44:40.480Z"
   },
   {
    "duration": 252,
    "start_time": "2023-04-05T14:44:40.495Z"
   },
   {
    "duration": 35,
    "start_time": "2023-04-05T14:44:40.750Z"
   },
   {
    "duration": 53,
    "start_time": "2023-04-05T14:44:40.788Z"
   },
   {
    "duration": 36,
    "start_time": "2023-04-05T14:44:40.845Z"
   },
   {
    "duration": 105,
    "start_time": "2023-04-05T14:44:40.884Z"
   },
   {
    "duration": 26,
    "start_time": "2023-04-05T14:44:40.992Z"
   },
   {
    "duration": 4,
    "start_time": "2023-04-05T14:44:41.020Z"
   },
   {
    "duration": 5,
    "start_time": "2023-04-05T14:44:41.026Z"
   },
   {
    "duration": 54,
    "start_time": "2023-04-05T14:44:41.034Z"
   },
   {
    "duration": 33,
    "start_time": "2023-04-05T14:44:41.090Z"
   },
   {
    "duration": 8,
    "start_time": "2023-04-05T14:44:41.125Z"
   },
   {
    "duration": 107,
    "start_time": "2023-04-05T14:44:41.136Z"
   },
   {
    "duration": 2276,
    "start_time": "2023-04-05T14:45:13.701Z"
   },
   {
    "duration": 1953,
    "start_time": "2023-04-05T14:45:15.979Z"
   },
   {
    "duration": 1213,
    "start_time": "2023-04-05T14:45:17.934Z"
   },
   {
    "duration": 21,
    "start_time": "2023-04-05T14:45:19.148Z"
   },
   {
    "duration": 884,
    "start_time": "2023-04-05T14:45:19.171Z"
   },
   {
    "duration": 119,
    "start_time": "2023-04-05T14:45:20.057Z"
   },
   {
    "duration": 574,
    "start_time": "2023-04-05T14:45:20.178Z"
   },
   {
    "duration": 510,
    "start_time": "2023-04-05T14:45:20.754Z"
   },
   {
    "duration": 159,
    "start_time": "2023-04-05T14:45:21.266Z"
   },
   {
    "duration": 25,
    "start_time": "2023-04-05T14:45:21.427Z"
   },
   {
    "duration": 42,
    "start_time": "2023-04-05T14:45:21.453Z"
   },
   {
    "duration": 1500,
    "start_time": "2023-04-05T14:45:21.496Z"
   },
   {
    "duration": 1555,
    "start_time": "2023-04-05T14:45:22.998Z"
   },
   {
    "duration": 2073,
    "start_time": "2023-04-05T14:45:24.558Z"
   },
   {
    "duration": 22,
    "start_time": "2023-04-05T14:45:26.633Z"
   },
   {
    "duration": 36,
    "start_time": "2023-04-05T14:45:26.657Z"
   },
   {
    "duration": 23,
    "start_time": "2023-04-05T14:45:26.695Z"
   },
   {
    "duration": 8908,
    "start_time": "2023-04-05T14:45:26.720Z"
   },
   {
    "duration": 7308,
    "start_time": "2023-04-05T14:45:35.630Z"
   },
   {
    "duration": 12470,
    "start_time": "2023-04-05T14:45:42.940Z"
   },
   {
    "duration": 21,
    "start_time": "2023-04-05T14:45:55.412Z"
   },
   {
    "duration": 46,
    "start_time": "2023-04-05T14:45:55.435Z"
   },
   {
    "duration": 19,
    "start_time": "2023-04-05T14:45:55.483Z"
   },
   {
    "duration": 47,
    "start_time": "2023-04-05T14:45:55.504Z"
   },
   {
    "duration": 44,
    "start_time": "2023-04-05T14:45:55.552Z"
   },
   {
    "duration": 21,
    "start_time": "2023-04-05T14:45:55.597Z"
   },
   {
    "duration": 113,
    "start_time": "2023-04-05T14:45:55.619Z"
   },
   {
    "duration": 217,
    "start_time": "2023-04-05T14:45:55.733Z"
   },
   {
    "duration": 555,
    "start_time": "2023-04-05T14:45:55.952Z"
   },
   {
    "duration": 67,
    "start_time": "2023-04-05T14:45:56.509Z"
   },
   {
    "duration": 13,
    "start_time": "2023-04-05T14:45:56.578Z"
   },
   {
    "duration": 21,
    "start_time": "2023-04-05T14:45:56.593Z"
   },
   {
    "duration": 60,
    "start_time": "2023-04-05T14:45:56.616Z"
   },
   {
    "duration": 9,
    "start_time": "2023-04-05T14:45:56.678Z"
   },
   {
    "duration": 68,
    "start_time": "2023-04-05T14:45:56.689Z"
   },
   {
    "duration": 30,
    "start_time": "2023-04-05T14:45:56.758Z"
   },
   {
    "duration": 48,
    "start_time": "2023-04-05T14:45:56.790Z"
   },
   {
    "duration": 51,
    "start_time": "2023-04-05T14:45:56.840Z"
   },
   {
    "duration": 309,
    "start_time": "2023-04-05T14:45:56.894Z"
   },
   {
    "duration": 196,
    "start_time": "2023-04-05T14:45:57.205Z"
   },
   {
    "duration": 15,
    "start_time": "2023-04-05T14:45:57.406Z"
   },
   {
    "duration": 64,
    "start_time": "2023-04-05T14:45:57.423Z"
   },
   {
    "duration": 179,
    "start_time": "2023-04-05T14:45:57.489Z"
   },
   {
    "duration": 494,
    "start_time": "2023-04-05T14:45:57.670Z"
   },
   {
    "duration": 24,
    "start_time": "2023-04-05T14:45:58.166Z"
   },
   {
    "duration": 107,
    "start_time": "2023-04-05T14:45:58.192Z"
   },
   {
    "duration": 191,
    "start_time": "2023-04-05T14:45:58.301Z"
   },
   {
    "duration": 475,
    "start_time": "2023-04-05T14:45:58.494Z"
   },
   {
    "duration": 29,
    "start_time": "2023-04-05T14:45:58.971Z"
   },
   {
    "duration": 95,
    "start_time": "2023-04-05T14:45:59.002Z"
   },
   {
    "duration": 35,
    "start_time": "2023-04-05T14:45:59.099Z"
   },
   {
    "duration": 16,
    "start_time": "2023-04-05T14:45:59.137Z"
   },
   {
    "duration": 8,
    "start_time": "2023-04-05T14:45:59.176Z"
   },
   {
    "duration": 28,
    "start_time": "2023-04-05T14:45:59.186Z"
   },
   {
    "duration": 8,
    "start_time": "2023-04-05T14:45:59.216Z"
   },
   {
    "duration": 249,
    "start_time": "2023-04-05T14:45:59.226Z"
   },
   {
    "duration": 22,
    "start_time": "2023-04-05T14:45:59.477Z"
   },
   {
    "duration": 32,
    "start_time": "2023-04-05T14:45:59.501Z"
   },
   {
    "duration": 41,
    "start_time": "2023-04-05T14:45:59.535Z"
   },
   {
    "duration": 67,
    "start_time": "2023-04-05T14:45:59.578Z"
   },
   {
    "duration": 45,
    "start_time": "2023-04-05T14:45:59.647Z"
   },
   {
    "duration": 7,
    "start_time": "2023-04-05T14:45:59.695Z"
   },
   {
    "duration": 6,
    "start_time": "2023-04-05T14:45:59.704Z"
   },
   {
    "duration": 24,
    "start_time": "2023-04-05T14:45:59.711Z"
   },
   {
    "duration": 45,
    "start_time": "2023-04-05T14:45:59.737Z"
   },
   {
    "duration": 4,
    "start_time": "2023-04-05T14:45:59.784Z"
   },
   {
    "duration": 5,
    "start_time": "2023-04-05T14:46:33.228Z"
   },
   {
    "duration": 58,
    "start_time": "2023-04-05T14:46:35.918Z"
   },
   {
    "duration": 53,
    "start_time": "2023-04-05T14:47:00.122Z"
   },
   {
    "duration": 83,
    "start_time": "2023-04-05T14:47:06.025Z"
   },
   {
    "duration": 70,
    "start_time": "2023-04-05T14:47:10.741Z"
   },
   {
    "duration": 2308,
    "start_time": "2023-04-05T14:47:34.004Z"
   },
   {
    "duration": 2006,
    "start_time": "2023-04-05T14:47:36.328Z"
   },
   {
    "duration": 1166,
    "start_time": "2023-04-05T14:47:38.336Z"
   },
   {
    "duration": 20,
    "start_time": "2023-04-05T14:47:39.505Z"
   },
   {
    "duration": 881,
    "start_time": "2023-04-05T14:47:39.527Z"
   },
   {
    "duration": 142,
    "start_time": "2023-04-05T14:47:40.411Z"
   },
   {
    "duration": 587,
    "start_time": "2023-04-05T14:47:40.555Z"
   },
   {
    "duration": 527,
    "start_time": "2023-04-05T14:47:41.145Z"
   },
   {
    "duration": 163,
    "start_time": "2023-04-05T14:47:41.675Z"
   },
   {
    "duration": 22,
    "start_time": "2023-04-05T14:47:41.841Z"
   },
   {
    "duration": 28,
    "start_time": "2023-04-05T14:47:41.876Z"
   },
   {
    "duration": 1545,
    "start_time": "2023-04-05T14:47:41.906Z"
   },
   {
    "duration": 1674,
    "start_time": "2023-04-05T14:47:43.453Z"
   },
   {
    "duration": 2070,
    "start_time": "2023-04-05T14:47:45.129Z"
   },
   {
    "duration": 21,
    "start_time": "2023-04-05T14:47:47.201Z"
   },
   {
    "duration": 33,
    "start_time": "2023-04-05T14:47:47.224Z"
   },
   {
    "duration": 32,
    "start_time": "2023-04-05T14:47:47.258Z"
   },
   {
    "duration": 8903,
    "start_time": "2023-04-05T14:47:47.292Z"
   },
   {
    "duration": 7279,
    "start_time": "2023-04-05T14:47:56.197Z"
   },
   {
    "duration": 12537,
    "start_time": "2023-04-05T14:48:03.477Z"
   },
   {
    "duration": 21,
    "start_time": "2023-04-05T14:48:16.015Z"
   },
   {
    "duration": 50,
    "start_time": "2023-04-05T14:48:16.038Z"
   },
   {
    "duration": 40,
    "start_time": "2023-04-05T14:48:16.090Z"
   },
   {
    "duration": 26,
    "start_time": "2023-04-05T14:48:16.132Z"
   },
   {
    "duration": 54,
    "start_time": "2023-04-05T14:48:16.160Z"
   },
   {
    "duration": 32,
    "start_time": "2023-04-05T14:48:16.217Z"
   },
   {
    "duration": 142,
    "start_time": "2023-04-05T14:48:16.253Z"
   },
   {
    "duration": 228,
    "start_time": "2023-04-05T14:48:16.402Z"
   },
   {
    "duration": 536,
    "start_time": "2023-04-05T14:48:16.632Z"
   },
   {
    "duration": 62,
    "start_time": "2023-04-05T14:48:17.170Z"
   },
   {
    "duration": 9,
    "start_time": "2023-04-05T14:48:17.234Z"
   },
   {
    "duration": 38,
    "start_time": "2023-04-05T14:48:17.245Z"
   },
   {
    "duration": 33,
    "start_time": "2023-04-05T14:48:17.286Z"
   },
   {
    "duration": 10,
    "start_time": "2023-04-05T14:48:17.321Z"
   },
   {
    "duration": 85,
    "start_time": "2023-04-05T14:48:17.333Z"
   },
   {
    "duration": 18,
    "start_time": "2023-04-05T14:48:17.420Z"
   },
   {
    "duration": 47,
    "start_time": "2023-04-05T14:48:17.440Z"
   },
   {
    "duration": 26,
    "start_time": "2023-04-05T14:48:17.489Z"
   },
   {
    "duration": 286,
    "start_time": "2023-04-05T14:48:17.517Z"
   },
   {
    "duration": 212,
    "start_time": "2023-04-05T14:48:17.805Z"
   },
   {
    "duration": 18,
    "start_time": "2023-04-05T14:48:18.019Z"
   },
   {
    "duration": 58,
    "start_time": "2023-04-05T14:48:18.039Z"
   },
   {
    "duration": 169,
    "start_time": "2023-04-05T14:48:18.099Z"
   },
   {
    "duration": 503,
    "start_time": "2023-04-05T14:48:18.275Z"
   },
   {
    "duration": 15,
    "start_time": "2023-04-05T14:48:18.781Z"
   },
   {
    "duration": 120,
    "start_time": "2023-04-05T14:48:18.798Z"
   },
   {
    "duration": 196,
    "start_time": "2023-04-05T14:48:18.920Z"
   },
   {
    "duration": 508,
    "start_time": "2023-04-05T14:48:19.118Z"
   },
   {
    "duration": 36,
    "start_time": "2023-04-05T14:48:19.628Z"
   },
   {
    "duration": 109,
    "start_time": "2023-04-05T14:48:19.676Z"
   },
   {
    "duration": 56,
    "start_time": "2023-04-05T14:48:19.788Z"
   },
   {
    "duration": 35,
    "start_time": "2023-04-05T14:48:19.846Z"
   },
   {
    "duration": 9,
    "start_time": "2023-04-05T14:48:19.883Z"
   },
   {
    "duration": 27,
    "start_time": "2023-04-05T14:48:19.894Z"
   },
   {
    "duration": 13,
    "start_time": "2023-04-05T14:48:19.923Z"
   },
   {
    "duration": 265,
    "start_time": "2023-04-05T14:48:19.938Z"
   },
   {
    "duration": 27,
    "start_time": "2023-04-05T14:48:20.205Z"
   },
   {
    "duration": 65,
    "start_time": "2023-04-05T14:48:20.234Z"
   },
   {
    "duration": 17,
    "start_time": "2023-04-05T14:48:20.301Z"
   },
   {
    "duration": 113,
    "start_time": "2023-04-05T14:48:20.321Z"
   },
   {
    "duration": 24,
    "start_time": "2023-04-05T14:48:20.437Z"
   },
   {
    "duration": 35,
    "start_time": "2023-04-05T14:48:20.464Z"
   },
   {
    "duration": 27,
    "start_time": "2023-04-05T14:48:20.502Z"
   },
   {
    "duration": 4,
    "start_time": "2023-04-05T14:48:33.671Z"
   },
   {
    "duration": 22,
    "start_time": "2023-04-05T14:48:34.439Z"
   },
   {
    "duration": 27,
    "start_time": "2023-04-05T14:48:37.526Z"
   },
   {
    "duration": 5,
    "start_time": "2023-04-05T14:48:39.782Z"
   },
   {
    "duration": 87,
    "start_time": "2023-04-05T14:48:46.144Z"
   },
   {
    "duration": 7,
    "start_time": "2023-04-05T14:48:52.564Z"
   },
   {
    "duration": 6,
    "start_time": "2023-04-05T14:49:43.051Z"
   },
   {
    "duration": 52,
    "start_time": "2023-04-05T14:50:29.201Z"
   },
   {
    "duration": 2276,
    "start_time": "2023-04-05T15:16:04.908Z"
   },
   {
    "duration": 1860,
    "start_time": "2023-04-05T15:16:07.187Z"
   },
   {
    "duration": 1140,
    "start_time": "2023-04-05T15:16:09.049Z"
   },
   {
    "duration": 20,
    "start_time": "2023-04-05T15:16:10.191Z"
   },
   {
    "duration": 868,
    "start_time": "2023-04-05T15:16:10.213Z"
   },
   {
    "duration": 121,
    "start_time": "2023-04-05T15:16:11.083Z"
   },
   {
    "duration": 538,
    "start_time": "2023-04-05T15:16:11.207Z"
   },
   {
    "duration": 480,
    "start_time": "2023-04-05T15:16:11.747Z"
   },
   {
    "duration": 171,
    "start_time": "2023-04-05T15:16:12.229Z"
   },
   {
    "duration": 22,
    "start_time": "2023-04-05T15:16:12.402Z"
   },
   {
    "duration": 24,
    "start_time": "2023-04-05T15:16:12.425Z"
   },
   {
    "duration": 1450,
    "start_time": "2023-04-05T15:16:12.451Z"
   },
   {
    "duration": 1555,
    "start_time": "2023-04-05T15:16:13.903Z"
   },
   {
    "duration": 1999,
    "start_time": "2023-04-05T15:16:15.459Z"
   },
   {
    "duration": 23,
    "start_time": "2023-04-05T15:16:17.460Z"
   },
   {
    "duration": 26,
    "start_time": "2023-04-05T15:16:17.484Z"
   },
   {
    "duration": 20,
    "start_time": "2023-04-05T15:16:17.512Z"
   },
   {
    "duration": 8368,
    "start_time": "2023-04-05T15:16:17.533Z"
   },
   {
    "duration": 6781,
    "start_time": "2023-04-05T15:16:25.903Z"
   },
   {
    "duration": 11599,
    "start_time": "2023-04-05T15:16:32.686Z"
   },
   {
    "duration": 25,
    "start_time": "2023-04-05T15:16:44.288Z"
   },
   {
    "duration": 52,
    "start_time": "2023-04-05T15:16:44.316Z"
   },
   {
    "duration": 29,
    "start_time": "2023-04-05T15:16:44.370Z"
   },
   {
    "duration": 25,
    "start_time": "2023-04-05T15:16:44.401Z"
   },
   {
    "duration": 51,
    "start_time": "2023-04-05T15:16:44.428Z"
   },
   {
    "duration": 22,
    "start_time": "2023-04-05T15:16:44.482Z"
   },
   {
    "duration": 118,
    "start_time": "2023-04-05T15:16:44.506Z"
   },
   {
    "duration": 192,
    "start_time": "2023-04-05T15:16:44.627Z"
   },
   {
    "duration": 491,
    "start_time": "2023-04-05T15:16:44.821Z"
   },
   {
    "duration": 51,
    "start_time": "2023-04-05T15:16:45.313Z"
   },
   {
    "duration": 17,
    "start_time": "2023-04-05T15:16:45.366Z"
   },
   {
    "duration": 19,
    "start_time": "2023-04-05T15:16:45.385Z"
   },
   {
    "duration": 32,
    "start_time": "2023-04-05T15:16:45.405Z"
   },
   {
    "duration": 9,
    "start_time": "2023-04-05T15:16:45.438Z"
   },
   {
    "duration": 80,
    "start_time": "2023-04-05T15:16:45.448Z"
   },
   {
    "duration": 17,
    "start_time": "2023-04-05T15:16:45.530Z"
   },
   {
    "duration": 51,
    "start_time": "2023-04-05T15:16:45.549Z"
   },
   {
    "duration": 24,
    "start_time": "2023-04-05T15:16:45.601Z"
   },
   {
    "duration": 279,
    "start_time": "2023-04-05T15:16:45.627Z"
   },
   {
    "duration": 184,
    "start_time": "2023-04-05T15:16:45.908Z"
   },
   {
    "duration": 16,
    "start_time": "2023-04-05T15:16:46.093Z"
   },
   {
    "duration": 65,
    "start_time": "2023-04-05T15:16:46.110Z"
   },
   {
    "duration": 148,
    "start_time": "2023-04-05T15:16:46.177Z"
   },
   {
    "duration": 458,
    "start_time": "2023-04-05T15:16:46.327Z"
   },
   {
    "duration": 13,
    "start_time": "2023-04-05T15:16:46.786Z"
   },
   {
    "duration": 91,
    "start_time": "2023-04-05T15:16:46.800Z"
   },
   {
    "duration": 177,
    "start_time": "2023-04-05T15:16:46.893Z"
   },
   {
    "duration": 462,
    "start_time": "2023-04-05T15:16:47.074Z"
   },
   {
    "duration": 27,
    "start_time": "2023-04-05T15:16:47.537Z"
   },
   {
    "duration": 82,
    "start_time": "2023-04-05T15:16:47.574Z"
   },
   {
    "duration": 41,
    "start_time": "2023-04-05T15:16:47.658Z"
   },
   {
    "duration": 15,
    "start_time": "2023-04-05T15:16:47.700Z"
   },
   {
    "duration": 6,
    "start_time": "2023-04-05T15:16:47.717Z"
   },
   {
    "duration": 53,
    "start_time": "2023-04-05T15:16:47.725Z"
   },
   {
    "duration": 6,
    "start_time": "2023-04-05T15:16:47.780Z"
   },
   {
    "duration": 239,
    "start_time": "2023-04-05T15:16:47.788Z"
   },
   {
    "duration": 21,
    "start_time": "2023-04-05T15:17:22.569Z"
   },
   {
    "duration": 29,
    "start_time": "2023-04-05T15:17:23.274Z"
   },
   {
    "duration": 16,
    "start_time": "2023-04-05T15:17:23.785Z"
   },
   {
    "duration": 58,
    "start_time": "2023-04-05T15:17:24.288Z"
   },
   {
    "duration": 18,
    "start_time": "2023-04-05T15:17:25.038Z"
   },
   {
    "duration": 2,
    "start_time": "2023-04-05T15:17:27.576Z"
   },
   {
    "duration": 3,
    "start_time": "2023-04-05T15:17:28.667Z"
   },
   {
    "duration": 19,
    "start_time": "2023-04-05T15:17:29.570Z"
   },
   {
    "duration": 26,
    "start_time": "2023-04-05T15:17:32.625Z"
   },
   {
    "duration": 2,
    "start_time": "2023-04-05T15:17:33.353Z"
   },
   {
    "duration": 53,
    "start_time": "2023-04-05T15:17:38.709Z"
   },
   {
    "duration": 2070,
    "start_time": "2023-04-05T15:20:46.214Z"
   },
   {
    "duration": 2001,
    "start_time": "2023-04-05T15:20:48.287Z"
   },
   {
    "duration": 1107,
    "start_time": "2023-04-05T15:20:50.290Z"
   },
   {
    "duration": 20,
    "start_time": "2023-04-05T15:20:51.399Z"
   },
   {
    "duration": 820,
    "start_time": "2023-04-05T15:20:51.422Z"
   },
   {
    "duration": 117,
    "start_time": "2023-04-05T15:20:52.244Z"
   },
   {
    "duration": 554,
    "start_time": "2023-04-05T15:20:52.363Z"
   },
   {
    "duration": 486,
    "start_time": "2023-04-05T15:20:52.919Z"
   },
   {
    "duration": 161,
    "start_time": "2023-04-05T15:20:53.407Z"
   },
   {
    "duration": 25,
    "start_time": "2023-04-05T15:20:53.569Z"
   },
   {
    "duration": 27,
    "start_time": "2023-04-05T15:20:53.596Z"
   },
   {
    "duration": 1525,
    "start_time": "2023-04-05T15:20:53.625Z"
   },
   {
    "duration": 1452,
    "start_time": "2023-04-05T15:20:55.152Z"
   },
   {
    "duration": 1940,
    "start_time": "2023-04-05T15:20:56.609Z"
   },
   {
    "duration": 28,
    "start_time": "2023-04-05T15:20:58.551Z"
   },
   {
    "duration": 21,
    "start_time": "2023-04-05T15:20:58.581Z"
   },
   {
    "duration": 23,
    "start_time": "2023-04-05T15:20:58.604Z"
   },
   {
    "duration": 8841,
    "start_time": "2023-04-05T15:20:58.628Z"
   },
   {
    "duration": 7136,
    "start_time": "2023-04-05T15:21:07.474Z"
   },
   {
    "duration": 12094,
    "start_time": "2023-04-05T15:21:14.612Z"
   },
   {
    "duration": 19,
    "start_time": "2023-04-05T15:21:26.708Z"
   },
   {
    "duration": 33,
    "start_time": "2023-04-05T15:21:26.728Z"
   },
   {
    "duration": 22,
    "start_time": "2023-04-05T15:21:26.774Z"
   },
   {
    "duration": 25,
    "start_time": "2023-04-05T15:21:26.798Z"
   },
   {
    "duration": 35,
    "start_time": "2023-04-05T15:21:26.825Z"
   },
   {
    "duration": 55,
    "start_time": "2023-04-05T15:21:26.874Z"
   },
   {
    "duration": 109,
    "start_time": "2023-04-05T15:21:26.932Z"
   },
   {
    "duration": 202,
    "start_time": "2023-04-05T15:21:27.043Z"
   },
   {
    "duration": 507,
    "start_time": "2023-04-05T15:21:27.247Z"
   },
   {
    "duration": 61,
    "start_time": "2023-04-05T15:21:27.756Z"
   },
   {
    "duration": 9,
    "start_time": "2023-04-05T15:21:27.819Z"
   },
   {
    "duration": 48,
    "start_time": "2023-04-05T15:21:27.829Z"
   },
   {
    "duration": 32,
    "start_time": "2023-04-05T15:21:27.879Z"
   },
   {
    "duration": 9,
    "start_time": "2023-04-05T15:21:27.913Z"
   },
   {
    "duration": 74,
    "start_time": "2023-04-05T15:21:27.923Z"
   },
   {
    "duration": 19,
    "start_time": "2023-04-05T15:21:27.999Z"
   },
   {
    "duration": 33,
    "start_time": "2023-04-05T15:21:28.020Z"
   },
   {
    "duration": 43,
    "start_time": "2023-04-05T15:21:28.054Z"
   },
   {
    "duration": 267,
    "start_time": "2023-04-05T15:21:28.099Z"
   },
   {
    "duration": 183,
    "start_time": "2023-04-05T15:21:28.367Z"
   },
   {
    "duration": 24,
    "start_time": "2023-04-05T15:21:28.555Z"
   },
   {
    "duration": 51,
    "start_time": "2023-04-05T15:21:28.581Z"
   },
   {
    "duration": 150,
    "start_time": "2023-04-05T15:21:28.633Z"
   },
   {
    "duration": 442,
    "start_time": "2023-04-05T15:21:28.785Z"
   },
   {
    "duration": 14,
    "start_time": "2023-04-05T15:21:29.229Z"
   },
   {
    "duration": 96,
    "start_time": "2023-04-05T15:21:29.244Z"
   },
   {
    "duration": 175,
    "start_time": "2023-04-05T15:21:29.342Z"
   },
   {
    "duration": 466,
    "start_time": "2023-04-05T15:21:29.519Z"
   },
   {
    "duration": 27,
    "start_time": "2023-04-05T15:21:29.986Z"
   },
   {
    "duration": 91,
    "start_time": "2023-04-05T15:21:30.014Z"
   },
   {
    "duration": 35,
    "start_time": "2023-04-05T15:21:30.106Z"
   },
   {
    "duration": 32,
    "start_time": "2023-04-05T15:21:30.143Z"
   },
   {
    "duration": 7,
    "start_time": "2023-04-05T15:21:30.177Z"
   },
   {
    "duration": 43,
    "start_time": "2023-04-05T15:21:30.186Z"
   },
   {
    "duration": 7,
    "start_time": "2023-04-05T15:21:30.231Z"
   },
   {
    "duration": 246,
    "start_time": "2023-04-05T15:21:30.240Z"
   },
   {
    "duration": 26,
    "start_time": "2023-04-05T15:21:30.488Z"
   },
   {
    "duration": 40,
    "start_time": "2023-04-05T15:21:30.516Z"
   },
   {
    "duration": 38,
    "start_time": "2023-04-05T15:21:30.558Z"
   },
   {
    "duration": 73,
    "start_time": "2023-04-05T15:21:30.598Z"
   },
   {
    "duration": 19,
    "start_time": "2023-04-05T15:21:30.673Z"
   },
   {
    "duration": 5,
    "start_time": "2023-04-05T15:21:30.694Z"
   },
   {
    "duration": 18,
    "start_time": "2023-04-05T15:21:30.701Z"
   },
   {
    "duration": 38,
    "start_time": "2023-04-05T15:21:30.721Z"
   },
   {
    "duration": 27,
    "start_time": "2023-04-05T15:21:30.761Z"
   },
   {
    "duration": 12,
    "start_time": "2023-04-05T15:21:30.789Z"
   },
   {
    "duration": 70,
    "start_time": "2023-04-05T15:21:30.803Z"
   },
   {
    "duration": 50,
    "start_time": "2023-04-05T15:25:57.201Z"
   },
   {
    "duration": 2104,
    "start_time": "2023-04-05T15:26:05.358Z"
   },
   {
    "duration": 1838,
    "start_time": "2023-04-05T15:26:07.465Z"
   },
   {
    "duration": 1100,
    "start_time": "2023-04-05T15:26:09.304Z"
   },
   {
    "duration": 24,
    "start_time": "2023-04-05T15:26:10.407Z"
   },
   {
    "duration": 801,
    "start_time": "2023-04-05T15:26:10.433Z"
   },
   {
    "duration": 112,
    "start_time": "2023-04-05T15:26:11.236Z"
   },
   {
    "duration": 545,
    "start_time": "2023-04-05T15:26:11.350Z"
   },
   {
    "duration": 509,
    "start_time": "2023-04-05T15:26:11.897Z"
   },
   {
    "duration": 151,
    "start_time": "2023-04-05T15:26:12.408Z"
   },
   {
    "duration": 29,
    "start_time": "2023-04-05T15:26:12.561Z"
   },
   {
    "duration": 36,
    "start_time": "2023-04-05T15:26:12.591Z"
   },
   {
    "duration": 1414,
    "start_time": "2023-04-05T15:26:12.629Z"
   },
   {
    "duration": 1468,
    "start_time": "2023-04-05T15:26:14.045Z"
   },
   {
    "duration": 2036,
    "start_time": "2023-04-05T15:26:15.515Z"
   },
   {
    "duration": 23,
    "start_time": "2023-04-05T15:26:17.553Z"
   },
   {
    "duration": 28,
    "start_time": "2023-04-05T15:26:17.577Z"
   },
   {
    "duration": 19,
    "start_time": "2023-04-05T15:26:17.608Z"
   },
   {
    "duration": 8422,
    "start_time": "2023-04-05T15:26:17.629Z"
   },
   {
    "duration": 7032,
    "start_time": "2023-04-05T15:26:26.053Z"
   },
   {
    "duration": 11958,
    "start_time": "2023-04-05T15:26:33.087Z"
   },
   {
    "duration": 38,
    "start_time": "2023-04-05T15:26:45.047Z"
   },
   {
    "duration": 51,
    "start_time": "2023-04-05T15:26:45.087Z"
   },
   {
    "duration": 43,
    "start_time": "2023-04-05T15:26:45.140Z"
   },
   {
    "duration": 26,
    "start_time": "2023-04-05T15:26:45.185Z"
   },
   {
    "duration": 48,
    "start_time": "2023-04-05T15:26:45.213Z"
   },
   {
    "duration": 37,
    "start_time": "2023-04-05T15:26:45.263Z"
   },
   {
    "duration": 104,
    "start_time": "2023-04-05T15:26:45.302Z"
   },
   {
    "duration": 212,
    "start_time": "2023-04-05T15:26:45.410Z"
   },
   {
    "duration": 533,
    "start_time": "2023-04-05T15:26:45.625Z"
   },
   {
    "duration": 71,
    "start_time": "2023-04-05T15:26:46.161Z"
   },
   {
    "duration": 9,
    "start_time": "2023-04-05T15:26:46.233Z"
   },
   {
    "duration": 37,
    "start_time": "2023-04-05T15:26:46.244Z"
   },
   {
    "duration": 33,
    "start_time": "2023-04-05T15:26:46.283Z"
   },
   {
    "duration": 9,
    "start_time": "2023-04-05T15:26:46.318Z"
   },
   {
    "duration": 91,
    "start_time": "2023-04-05T15:26:46.329Z"
   },
   {
    "duration": 19,
    "start_time": "2023-04-05T15:26:46.422Z"
   },
   {
    "duration": 50,
    "start_time": "2023-04-05T15:26:46.443Z"
   },
   {
    "duration": 29,
    "start_time": "2023-04-05T15:26:46.494Z"
   },
   {
    "duration": 292,
    "start_time": "2023-04-05T15:26:46.525Z"
   },
   {
    "duration": 204,
    "start_time": "2023-04-05T15:26:46.819Z"
   },
   {
    "duration": 18,
    "start_time": "2023-04-05T15:26:47.026Z"
   },
   {
    "duration": 70,
    "start_time": "2023-04-05T15:26:47.046Z"
   },
   {
    "duration": 153,
    "start_time": "2023-04-05T15:26:47.118Z"
   },
   {
    "duration": 466,
    "start_time": "2023-04-05T15:26:47.274Z"
   },
   {
    "duration": 14,
    "start_time": "2023-04-05T15:26:47.742Z"
   },
   {
    "duration": 98,
    "start_time": "2023-04-05T15:26:47.758Z"
   },
   {
    "duration": 178,
    "start_time": "2023-04-05T15:26:47.858Z"
   },
   {
    "duration": 457,
    "start_time": "2023-04-05T15:26:48.038Z"
   },
   {
    "duration": 25,
    "start_time": "2023-04-05T15:26:48.497Z"
   },
   {
    "duration": 92,
    "start_time": "2023-04-05T15:26:48.524Z"
   },
   {
    "duration": 35,
    "start_time": "2023-04-05T15:26:48.618Z"
   },
   {
    "duration": 32,
    "start_time": "2023-04-05T15:26:48.655Z"
   },
   {
    "duration": 7,
    "start_time": "2023-04-05T15:26:48.688Z"
   },
   {
    "duration": 26,
    "start_time": "2023-04-05T15:26:48.696Z"
   },
   {
    "duration": 8,
    "start_time": "2023-04-05T15:26:48.723Z"
   },
   {
    "duration": 238,
    "start_time": "2023-04-05T15:26:48.733Z"
   },
   {
    "duration": 3,
    "start_time": "2023-04-05T15:26:48.974Z"
   },
   {
    "duration": 45,
    "start_time": "2023-04-05T15:26:48.978Z"
   },
   {
    "duration": 62,
    "start_time": "2023-04-05T15:26:49.025Z"
   },
   {
    "duration": 24,
    "start_time": "2023-04-05T15:26:49.089Z"
   },
   {
    "duration": 93,
    "start_time": "2023-04-05T15:26:49.115Z"
   },
   {
    "duration": 21,
    "start_time": "2023-04-05T15:26:49.209Z"
   },
   {
    "duration": 4,
    "start_time": "2023-04-05T15:26:49.231Z"
   },
   {
    "duration": 11,
    "start_time": "2023-04-05T15:26:49.236Z"
   },
   {
    "duration": 35,
    "start_time": "2023-04-05T15:26:49.249Z"
   },
   {
    "duration": 26,
    "start_time": "2023-04-05T15:26:49.285Z"
   },
   {
    "duration": 3,
    "start_time": "2023-04-05T15:26:49.313Z"
   },
   {
    "duration": 70,
    "start_time": "2023-04-05T15:26:49.317Z"
   },
   {
    "duration": 2126,
    "start_time": "2023-04-05T15:30:16.011Z"
   },
   {
    "duration": 5391,
    "start_time": "2023-04-05T15:30:18.139Z"
   },
   {
    "duration": 1289,
    "start_time": "2023-04-05T15:30:23.532Z"
   },
   {
    "duration": 1093,
    "start_time": "2023-04-05T15:30:24.823Z"
   },
   {
    "duration": 19,
    "start_time": "2023-04-05T15:30:25.918Z"
   },
   {
    "duration": 816,
    "start_time": "2023-04-05T15:30:25.938Z"
   },
   {
    "duration": 119,
    "start_time": "2023-04-05T15:30:26.756Z"
   },
   {
    "duration": 519,
    "start_time": "2023-04-05T15:30:26.876Z"
   },
   {
    "duration": 452,
    "start_time": "2023-04-05T15:30:27.397Z"
   },
   {
    "duration": 150,
    "start_time": "2023-04-05T15:30:27.851Z"
   },
   {
    "duration": 21,
    "start_time": "2023-04-05T15:30:28.002Z"
   },
   {
    "duration": 28,
    "start_time": "2023-04-05T15:30:28.025Z"
   },
   {
    "duration": 1394,
    "start_time": "2023-04-05T15:30:28.055Z"
   },
   {
    "duration": 1443,
    "start_time": "2023-04-05T15:30:29.452Z"
   },
   {
    "duration": 1966,
    "start_time": "2023-04-05T15:30:30.897Z"
   },
   {
    "duration": 25,
    "start_time": "2023-04-05T15:30:32.864Z"
   },
   {
    "duration": 32,
    "start_time": "2023-04-05T15:30:32.891Z"
   },
   {
    "duration": 19,
    "start_time": "2023-04-05T15:30:32.925Z"
   },
   {
    "duration": 8398,
    "start_time": "2023-04-05T15:30:32.946Z"
   },
   {
    "duration": 7171,
    "start_time": "2023-04-05T15:30:41.346Z"
   },
   {
    "duration": 12043,
    "start_time": "2023-04-05T15:30:48.519Z"
   },
   {
    "duration": 22,
    "start_time": "2023-04-05T15:31:00.564Z"
   },
   {
    "duration": 43,
    "start_time": "2023-04-05T15:31:00.589Z"
   },
   {
    "duration": 35,
    "start_time": "2023-04-05T15:31:00.633Z"
   },
   {
    "duration": 34,
    "start_time": "2023-04-05T15:31:00.670Z"
   },
   {
    "duration": 52,
    "start_time": "2023-04-05T15:31:00.705Z"
   },
   {
    "duration": 42,
    "start_time": "2023-04-05T15:31:00.758Z"
   },
   {
    "duration": 109,
    "start_time": "2023-04-05T15:31:00.802Z"
   },
   {
    "duration": 196,
    "start_time": "2023-04-05T15:31:00.912Z"
   },
   {
    "duration": 516,
    "start_time": "2023-04-05T15:31:01.110Z"
   },
   {
    "duration": 74,
    "start_time": "2023-04-05T15:31:01.628Z"
   },
   {
    "duration": 10,
    "start_time": "2023-04-05T15:31:01.704Z"
   },
   {
    "duration": 40,
    "start_time": "2023-04-05T15:31:01.716Z"
   },
   {
    "duration": 33,
    "start_time": "2023-04-05T15:31:01.758Z"
   },
   {
    "duration": 9,
    "start_time": "2023-04-05T15:31:01.793Z"
   },
   {
    "duration": 100,
    "start_time": "2023-04-05T15:31:01.804Z"
   },
   {
    "duration": 20,
    "start_time": "2023-04-05T15:31:01.905Z"
   },
   {
    "duration": 48,
    "start_time": "2023-04-05T15:31:01.928Z"
   },
   {
    "duration": 25,
    "start_time": "2023-04-05T15:31:01.978Z"
   },
   {
    "duration": 287,
    "start_time": "2023-04-05T15:31:02.005Z"
   },
   {
    "duration": 180,
    "start_time": "2023-04-05T15:31:02.299Z"
   },
   {
    "duration": 16,
    "start_time": "2023-04-05T15:31:02.480Z"
   },
   {
    "duration": 49,
    "start_time": "2023-04-05T15:31:02.497Z"
   },
   {
    "duration": 162,
    "start_time": "2023-04-05T15:31:02.548Z"
   },
   {
    "duration": 439,
    "start_time": "2023-04-05T15:31:02.711Z"
   },
   {
    "duration": 24,
    "start_time": "2023-04-05T15:31:03.151Z"
   },
   {
    "duration": 79,
    "start_time": "2023-04-05T15:31:03.176Z"
   },
   {
    "duration": 171,
    "start_time": "2023-04-05T15:31:03.257Z"
   },
   {
    "duration": 458,
    "start_time": "2023-04-05T15:31:03.430Z"
   },
   {
    "duration": 27,
    "start_time": "2023-04-05T15:31:03.889Z"
   },
   {
    "duration": 90,
    "start_time": "2023-04-05T15:31:03.918Z"
   },
   {
    "duration": 34,
    "start_time": "2023-04-05T15:31:04.010Z"
   },
   {
    "duration": 31,
    "start_time": "2023-04-05T15:31:04.046Z"
   },
   {
    "duration": 7,
    "start_time": "2023-04-05T15:31:04.079Z"
   },
   {
    "duration": 25,
    "start_time": "2023-04-05T15:31:04.088Z"
   },
   {
    "duration": 6,
    "start_time": "2023-04-05T15:31:04.115Z"
   },
   {
    "duration": 235,
    "start_time": "2023-04-05T15:31:04.123Z"
   },
   {
    "duration": 27,
    "start_time": "2023-04-05T15:31:04.360Z"
   },
   {
    "duration": 32,
    "start_time": "2023-04-05T15:31:04.389Z"
   },
   {
    "duration": 17,
    "start_time": "2023-04-05T15:31:04.423Z"
   },
   {
    "duration": 76,
    "start_time": "2023-04-05T15:31:04.442Z"
   },
   {
    "duration": 18,
    "start_time": "2023-04-05T15:31:04.520Z"
   },
   {
    "duration": 3,
    "start_time": "2023-04-05T15:31:04.539Z"
   },
   {
    "duration": 89,
    "start_time": "2023-04-05T15:31:04.544Z"
   },
   {
    "duration": 24,
    "start_time": "2023-04-05T15:31:04.635Z"
   },
   {
    "duration": 52,
    "start_time": "2023-04-05T15:31:04.660Z"
   },
   {
    "duration": 27,
    "start_time": "2023-04-05T15:31:04.714Z"
   },
   {
    "duration": 71,
    "start_time": "2023-04-05T15:31:04.743Z"
   },
   {
    "duration": 5545,
    "start_time": "2023-04-05T15:32:22.684Z"
   },
   {
    "duration": 4637,
    "start_time": "2023-04-05T15:32:28.232Z"
   },
   {
    "duration": 1412,
    "start_time": "2023-04-05T15:32:32.872Z"
   },
   {
    "duration": 1096,
    "start_time": "2023-04-05T15:32:34.287Z"
   },
   {
    "duration": 20,
    "start_time": "2023-04-05T15:32:35.385Z"
   },
   {
    "duration": 862,
    "start_time": "2023-04-05T15:32:35.407Z"
   },
   {
    "duration": 117,
    "start_time": "2023-04-05T15:32:36.275Z"
   },
   {
    "duration": 569,
    "start_time": "2023-04-05T15:32:36.395Z"
   },
   {
    "duration": 478,
    "start_time": "2023-04-05T15:32:36.966Z"
   },
   {
    "duration": 157,
    "start_time": "2023-04-05T15:32:37.448Z"
   },
   {
    "duration": 23,
    "start_time": "2023-04-05T15:32:37.607Z"
   },
   {
    "duration": 25,
    "start_time": "2023-04-05T15:32:37.632Z"
   },
   {
    "duration": 1496,
    "start_time": "2023-04-05T15:32:37.676Z"
   },
   {
    "duration": 1516,
    "start_time": "2023-04-05T15:32:39.174Z"
   },
   {
    "duration": 2003,
    "start_time": "2023-04-05T15:32:40.692Z"
   },
   {
    "duration": 20,
    "start_time": "2023-04-05T15:32:42.697Z"
   },
   {
    "duration": 21,
    "start_time": "2023-04-05T15:32:42.719Z"
   },
   {
    "duration": 34,
    "start_time": "2023-04-05T15:32:42.742Z"
   },
   {
    "duration": 8832,
    "start_time": "2023-04-05T15:32:42.777Z"
   },
   {
    "duration": 7184,
    "start_time": "2023-04-05T15:32:51.611Z"
   },
   {
    "duration": 11859,
    "start_time": "2023-04-05T15:32:58.797Z"
   },
   {
    "duration": 23,
    "start_time": "2023-04-05T15:33:10.658Z"
   },
   {
    "duration": 31,
    "start_time": "2023-04-05T15:33:10.683Z"
   },
   {
    "duration": 48,
    "start_time": "2023-04-05T15:33:10.717Z"
   },
   {
    "duration": 22,
    "start_time": "2023-04-05T15:33:10.767Z"
   },
   {
    "duration": 32,
    "start_time": "2023-04-05T15:33:10.792Z"
   },
   {
    "duration": 26,
    "start_time": "2023-04-05T15:33:10.825Z"
   },
   {
    "duration": 109,
    "start_time": "2023-04-05T15:33:10.855Z"
   },
   {
    "duration": 221,
    "start_time": "2023-04-05T15:33:10.979Z"
   },
   {
    "duration": 500,
    "start_time": "2023-04-05T15:33:11.203Z"
   },
   {
    "duration": 54,
    "start_time": "2023-04-05T15:33:11.705Z"
   },
   {
    "duration": 18,
    "start_time": "2023-04-05T15:33:11.761Z"
   },
   {
    "duration": 23,
    "start_time": "2023-04-05T15:33:11.781Z"
   },
   {
    "duration": 35,
    "start_time": "2023-04-05T15:33:11.806Z"
   },
   {
    "duration": 39,
    "start_time": "2023-04-05T15:33:11.842Z"
   },
   {
    "duration": 54,
    "start_time": "2023-04-05T15:33:11.883Z"
   },
   {
    "duration": 16,
    "start_time": "2023-04-05T15:33:11.939Z"
   },
   {
    "duration": 34,
    "start_time": "2023-04-05T15:33:11.974Z"
   },
   {
    "duration": 35,
    "start_time": "2023-04-05T15:33:12.010Z"
   },
   {
    "duration": 292,
    "start_time": "2023-04-05T15:33:12.048Z"
   },
   {
    "duration": 187,
    "start_time": "2023-04-05T15:33:12.342Z"
   },
   {
    "duration": 15,
    "start_time": "2023-04-05T15:33:12.530Z"
   },
   {
    "duration": 61,
    "start_time": "2023-04-05T15:33:12.547Z"
   },
   {
    "duration": 150,
    "start_time": "2023-04-05T15:33:12.610Z"
   },
   {
    "duration": 451,
    "start_time": "2023-04-05T15:33:12.762Z"
   },
   {
    "duration": 13,
    "start_time": "2023-04-05T15:33:13.214Z"
   },
   {
    "duration": 87,
    "start_time": "2023-04-05T15:33:13.229Z"
   },
   {
    "duration": 198,
    "start_time": "2023-04-05T15:33:13.318Z"
   },
   {
    "duration": 462,
    "start_time": "2023-04-05T15:33:13.518Z"
   },
   {
    "duration": 27,
    "start_time": "2023-04-05T15:33:13.982Z"
   },
   {
    "duration": 121,
    "start_time": "2023-04-05T15:33:14.010Z"
   },
   {
    "duration": 45,
    "start_time": "2023-04-05T15:33:14.133Z"
   },
   {
    "duration": 14,
    "start_time": "2023-04-05T15:33:14.180Z"
   },
   {
    "duration": 7,
    "start_time": "2023-04-05T15:33:14.196Z"
   },
   {
    "duration": 31,
    "start_time": "2023-04-05T15:33:14.205Z"
   },
   {
    "duration": 8,
    "start_time": "2023-04-05T15:33:14.239Z"
   },
   {
    "duration": 250,
    "start_time": "2023-04-05T15:33:14.250Z"
   },
   {
    "duration": 23,
    "start_time": "2023-04-05T15:33:14.502Z"
   },
   {
    "duration": 49,
    "start_time": "2023-04-05T15:33:14.526Z"
   },
   {
    "duration": 21,
    "start_time": "2023-04-05T15:33:14.576Z"
   },
   {
    "duration": 81,
    "start_time": "2023-04-05T15:33:14.599Z"
   },
   {
    "duration": 17,
    "start_time": "2023-04-05T15:33:14.682Z"
   },
   {
    "duration": 8,
    "start_time": "2023-04-05T15:33:14.701Z"
   },
   {
    "duration": 8,
    "start_time": "2023-04-05T15:33:14.711Z"
   },
   {
    "duration": 23,
    "start_time": "2023-04-05T15:33:14.721Z"
   },
   {
    "duration": 42,
    "start_time": "2023-04-05T15:33:14.746Z"
   },
   {
    "duration": 3,
    "start_time": "2023-04-05T15:33:19.255Z"
   },
   {
    "duration": 53,
    "start_time": "2023-04-05T15:33:20.470Z"
   },
   {
    "duration": 5626,
    "start_time": "2023-04-05T15:41:33.096Z"
   },
   {
    "duration": 4699,
    "start_time": "2023-04-05T15:41:38.725Z"
   },
   {
    "duration": 1379,
    "start_time": "2023-04-05T15:41:43.426Z"
   },
   {
    "duration": 1063,
    "start_time": "2023-04-05T15:41:44.807Z"
   },
   {
    "duration": 20,
    "start_time": "2023-04-05T15:41:45.873Z"
   },
   {
    "duration": 885,
    "start_time": "2023-04-05T15:41:45.894Z"
   },
   {
    "duration": 118,
    "start_time": "2023-04-05T15:41:46.782Z"
   },
   {
    "duration": 552,
    "start_time": "2023-04-05T15:41:46.902Z"
   },
   {
    "duration": 463,
    "start_time": "2023-04-05T15:41:47.456Z"
   },
   {
    "duration": 184,
    "start_time": "2023-04-05T15:41:47.921Z"
   },
   {
    "duration": 23,
    "start_time": "2023-04-05T15:41:48.106Z"
   },
   {
    "duration": 47,
    "start_time": "2023-04-05T15:41:48.130Z"
   },
   {
    "duration": 1499,
    "start_time": "2023-04-05T15:41:48.179Z"
   },
   {
    "duration": 1570,
    "start_time": "2023-04-05T15:41:49.682Z"
   },
   {
    "duration": 2053,
    "start_time": "2023-04-05T15:41:51.254Z"
   },
   {
    "duration": 21,
    "start_time": "2023-04-05T15:41:53.309Z"
   },
   {
    "duration": 25,
    "start_time": "2023-04-05T15:41:53.332Z"
   },
   {
    "duration": 32,
    "start_time": "2023-04-05T15:41:53.359Z"
   },
   {
    "duration": 8492,
    "start_time": "2023-04-05T15:41:53.393Z"
   },
   {
    "duration": 6910,
    "start_time": "2023-04-05T15:42:01.887Z"
   },
   {
    "duration": 11868,
    "start_time": "2023-04-05T15:42:08.798Z"
   },
   {
    "duration": 23,
    "start_time": "2023-04-05T15:42:20.668Z"
   },
   {
    "duration": 47,
    "start_time": "2023-04-05T15:42:20.692Z"
   },
   {
    "duration": 24,
    "start_time": "2023-04-05T15:42:20.741Z"
   },
   {
    "duration": 29,
    "start_time": "2023-04-05T15:42:20.766Z"
   },
   {
    "duration": 40,
    "start_time": "2023-04-05T15:42:20.797Z"
   },
   {
    "duration": 25,
    "start_time": "2023-04-05T15:42:20.839Z"
   },
   {
    "duration": 97,
    "start_time": "2023-04-05T15:42:20.866Z"
   },
   {
    "duration": 213,
    "start_time": "2023-04-05T15:42:20.965Z"
   },
   {
    "duration": 529,
    "start_time": "2023-04-05T15:42:21.180Z"
   },
   {
    "duration": 51,
    "start_time": "2023-04-05T15:42:21.711Z"
   },
   {
    "duration": 9,
    "start_time": "2023-04-05T15:42:21.775Z"
   },
   {
    "duration": 27,
    "start_time": "2023-04-05T15:42:21.786Z"
   },
   {
    "duration": 38,
    "start_time": "2023-04-05T15:42:21.815Z"
   },
   {
    "duration": 25,
    "start_time": "2023-04-05T15:42:21.855Z"
   },
   {
    "duration": 50,
    "start_time": "2023-04-05T15:42:21.882Z"
   },
   {
    "duration": 16,
    "start_time": "2023-04-05T15:42:21.933Z"
   },
   {
    "duration": 48,
    "start_time": "2023-04-05T15:42:21.951Z"
   },
   {
    "duration": 23,
    "start_time": "2023-04-05T15:42:22.000Z"
   },
   {
    "duration": 282,
    "start_time": "2023-04-05T15:42:22.025Z"
   },
   {
    "duration": 191,
    "start_time": "2023-04-05T15:42:22.312Z"
   },
   {
    "duration": 16,
    "start_time": "2023-04-05T15:42:22.506Z"
   },
   {
    "duration": 66,
    "start_time": "2023-04-05T15:42:22.524Z"
   },
   {
    "duration": 156,
    "start_time": "2023-04-05T15:42:22.591Z"
   },
   {
    "duration": 457,
    "start_time": "2023-04-05T15:42:22.749Z"
   },
   {
    "duration": 12,
    "start_time": "2023-04-05T15:42:23.208Z"
   },
   {
    "duration": 89,
    "start_time": "2023-04-05T15:42:23.222Z"
   },
   {
    "duration": 181,
    "start_time": "2023-04-05T15:42:23.313Z"
   },
   {
    "duration": 456,
    "start_time": "2023-04-05T15:42:23.496Z"
   },
   {
    "duration": 38,
    "start_time": "2023-04-05T15:42:23.953Z"
   },
   {
    "duration": 83,
    "start_time": "2023-04-05T15:42:23.993Z"
   },
   {
    "duration": 34,
    "start_time": "2023-04-05T15:42:24.077Z"
   },
   {
    "duration": 16,
    "start_time": "2023-04-05T15:42:24.113Z"
   },
   {
    "duration": 6,
    "start_time": "2023-04-05T15:42:24.132Z"
   },
   {
    "duration": 52,
    "start_time": "2023-04-05T15:42:24.139Z"
   },
   {
    "duration": 7,
    "start_time": "2023-04-05T15:42:24.193Z"
   },
   {
    "duration": 237,
    "start_time": "2023-04-05T15:42:24.201Z"
   },
   {
    "duration": 24,
    "start_time": "2023-04-05T15:42:24.439Z"
   },
   {
    "duration": 39,
    "start_time": "2023-04-05T15:42:24.465Z"
   },
   {
    "duration": 17,
    "start_time": "2023-04-05T15:42:24.505Z"
   },
   {
    "duration": 78,
    "start_time": "2023-04-05T15:42:24.524Z"
   },
   {
    "duration": 18,
    "start_time": "2023-04-05T15:42:24.603Z"
   },
   {
    "duration": 20,
    "start_time": "2023-04-05T15:42:24.623Z"
   },
   {
    "duration": 15,
    "start_time": "2023-04-05T15:42:24.644Z"
   },
   {
    "duration": 24,
    "start_time": "2023-04-05T15:42:24.660Z"
   },
   {
    "duration": 24,
    "start_time": "2023-04-05T15:42:24.686Z"
   },
   {
    "duration": 10,
    "start_time": "2023-04-05T15:42:24.711Z"
   },
   {
    "duration": 65,
    "start_time": "2023-04-05T15:42:24.722Z"
   },
   {
    "duration": 5598,
    "start_time": "2023-04-05T15:44:59.632Z"
   },
   {
    "duration": 4631,
    "start_time": "2023-04-05T15:45:05.232Z"
   },
   {
    "duration": 1419,
    "start_time": "2023-04-05T15:45:09.865Z"
   },
   {
    "duration": 1096,
    "start_time": "2023-04-05T15:45:11.286Z"
   },
   {
    "duration": 21,
    "start_time": "2023-04-05T15:45:12.383Z"
   },
   {
    "duration": 824,
    "start_time": "2023-04-05T15:45:12.406Z"
   },
   {
    "duration": 118,
    "start_time": "2023-04-05T15:45:13.232Z"
   },
   {
    "duration": 555,
    "start_time": "2023-04-05T15:45:13.352Z"
   },
   {
    "duration": 455,
    "start_time": "2023-04-05T15:45:13.908Z"
   },
   {
    "duration": 157,
    "start_time": "2023-04-05T15:45:14.366Z"
   },
   {
    "duration": 22,
    "start_time": "2023-04-05T15:45:14.524Z"
   },
   {
    "duration": 40,
    "start_time": "2023-04-05T15:45:14.548Z"
   },
   {
    "duration": 1546,
    "start_time": "2023-04-05T15:45:14.590Z"
   },
   {
    "duration": 1521,
    "start_time": "2023-04-05T15:45:16.139Z"
   },
   {
    "duration": 2157,
    "start_time": "2023-04-05T15:45:17.662Z"
   },
   {
    "duration": 20,
    "start_time": "2023-04-05T15:45:19.821Z"
   },
   {
    "duration": 32,
    "start_time": "2023-04-05T15:45:19.843Z"
   },
   {
    "duration": 20,
    "start_time": "2023-04-05T15:45:19.877Z"
   },
   {
    "duration": 8614,
    "start_time": "2023-04-05T15:45:19.899Z"
   },
   {
    "duration": 6984,
    "start_time": "2023-04-05T15:45:28.514Z"
   },
   {
    "duration": 12142,
    "start_time": "2023-04-05T15:45:35.500Z"
   },
   {
    "duration": 32,
    "start_time": "2023-04-05T15:45:47.643Z"
   },
   {
    "duration": 30,
    "start_time": "2023-04-05T15:45:47.678Z"
   },
   {
    "duration": 19,
    "start_time": "2023-04-05T15:45:47.710Z"
   },
   {
    "duration": 20,
    "start_time": "2023-04-05T15:45:47.731Z"
   },
   {
    "duration": 48,
    "start_time": "2023-04-05T15:45:47.753Z"
   },
   {
    "duration": 23,
    "start_time": "2023-04-05T15:45:47.803Z"
   },
   {
    "duration": 110,
    "start_time": "2023-04-05T15:45:47.830Z"
   },
   {
    "duration": 223,
    "start_time": "2023-04-05T15:45:47.941Z"
   },
   {
    "duration": 582,
    "start_time": "2023-04-05T15:45:48.167Z"
   },
   {
    "duration": 71,
    "start_time": "2023-04-05T15:45:48.750Z"
   },
   {
    "duration": 12,
    "start_time": "2023-04-05T15:45:48.823Z"
   },
   {
    "duration": 19,
    "start_time": "2023-04-05T15:45:48.837Z"
   },
   {
    "duration": 41,
    "start_time": "2023-04-05T15:45:48.875Z"
   },
   {
    "duration": 10,
    "start_time": "2023-04-05T15:45:48.918Z"
   },
   {
    "duration": 78,
    "start_time": "2023-04-05T15:45:48.931Z"
   },
   {
    "duration": 21,
    "start_time": "2023-04-05T15:45:49.011Z"
   },
   {
    "duration": 52,
    "start_time": "2023-04-05T15:45:49.034Z"
   },
   {
    "duration": 29,
    "start_time": "2023-04-05T15:45:49.087Z"
   },
   {
    "duration": 295,
    "start_time": "2023-04-05T15:45:49.117Z"
   },
   {
    "duration": 190,
    "start_time": "2023-04-05T15:45:49.414Z"
   },
   {
    "duration": 17,
    "start_time": "2023-04-05T15:45:49.606Z"
   },
   {
    "duration": 66,
    "start_time": "2023-04-05T15:45:49.625Z"
   },
   {
    "duration": 166,
    "start_time": "2023-04-05T15:45:49.693Z"
   },
   {
    "duration": 493,
    "start_time": "2023-04-05T15:45:49.861Z"
   },
   {
    "duration": 23,
    "start_time": "2023-04-05T15:45:50.356Z"
   },
   {
    "duration": 106,
    "start_time": "2023-04-05T15:45:50.381Z"
   },
   {
    "duration": 182,
    "start_time": "2023-04-05T15:45:50.489Z"
   },
   {
    "duration": 487,
    "start_time": "2023-04-05T15:45:50.674Z"
   },
   {
    "duration": 36,
    "start_time": "2023-04-05T15:45:51.163Z"
   },
   {
    "duration": 92,
    "start_time": "2023-04-05T15:45:51.201Z"
   },
   {
    "duration": 35,
    "start_time": "2023-04-05T15:45:51.294Z"
   },
   {
    "duration": 87,
    "start_time": "2023-04-05T15:45:51.331Z"
   },
   {
    "duration": 8,
    "start_time": "2023-04-05T15:45:51.420Z"
   },
   {
    "duration": 36,
    "start_time": "2023-04-05T15:45:51.430Z"
   },
   {
    "duration": 6,
    "start_time": "2023-04-05T15:45:51.468Z"
   },
   {
    "duration": 230,
    "start_time": "2023-04-05T15:45:51.476Z"
   },
   {
    "duration": 22,
    "start_time": "2023-04-05T15:45:51.708Z"
   },
   {
    "duration": 48,
    "start_time": "2023-04-05T15:45:51.733Z"
   },
   {
    "duration": 17,
    "start_time": "2023-04-05T15:45:51.783Z"
   },
   {
    "duration": 78,
    "start_time": "2023-04-05T15:45:51.802Z"
   },
   {
    "duration": 18,
    "start_time": "2023-04-05T15:45:51.882Z"
   },
   {
    "duration": 7,
    "start_time": "2023-04-05T15:45:51.902Z"
   },
   {
    "duration": 5,
    "start_time": "2023-04-05T15:45:51.911Z"
   },
   {
    "duration": 28,
    "start_time": "2023-04-05T15:45:51.918Z"
   },
   {
    "duration": 37,
    "start_time": "2023-04-05T15:45:51.948Z"
   },
   {
    "duration": 3,
    "start_time": "2023-04-05T15:45:51.986Z"
   },
   {
    "duration": 131,
    "start_time": "2023-04-05T15:45:57.857Z"
   },
   {
    "duration": 49,
    "start_time": "2023-04-05T15:46:09.257Z"
   },
   {
    "duration": 887,
    "start_time": "2023-04-05T15:46:20.593Z"
   },
   {
    "duration": 914,
    "start_time": "2023-04-05T15:46:35.264Z"
   },
   {
    "duration": 50,
    "start_time": "2023-04-05T15:47:02.646Z"
   },
   {
    "duration": 5797,
    "start_time": "2023-04-05T15:47:19.557Z"
   },
   {
    "duration": 4668,
    "start_time": "2023-04-05T15:47:25.357Z"
   },
   {
    "duration": 1461,
    "start_time": "2023-04-05T15:47:30.028Z"
   },
   {
    "duration": 1105,
    "start_time": "2023-04-05T15:47:31.492Z"
   },
   {
    "duration": 19,
    "start_time": "2023-04-05T15:47:32.599Z"
   },
   {
    "duration": 849,
    "start_time": "2023-04-05T15:47:32.619Z"
   },
   {
    "duration": 117,
    "start_time": "2023-04-05T15:47:33.470Z"
   },
   {
    "duration": 555,
    "start_time": "2023-04-05T15:47:33.589Z"
   },
   {
    "duration": 495,
    "start_time": "2023-04-05T15:47:34.146Z"
   },
   {
    "duration": 160,
    "start_time": "2023-04-05T15:47:34.644Z"
   },
   {
    "duration": 23,
    "start_time": "2023-04-05T15:47:34.806Z"
   },
   {
    "duration": 27,
    "start_time": "2023-04-05T15:47:34.831Z"
   },
   {
    "duration": 1588,
    "start_time": "2023-04-05T15:47:34.876Z"
   },
   {
    "duration": 1558,
    "start_time": "2023-04-05T15:47:36.466Z"
   },
   {
    "duration": 2032,
    "start_time": "2023-04-05T15:47:38.026Z"
   },
   {
    "duration": 22,
    "start_time": "2023-04-05T15:47:40.060Z"
   },
   {
    "duration": 47,
    "start_time": "2023-04-05T15:47:40.084Z"
   },
   {
    "duration": 21,
    "start_time": "2023-04-05T15:47:40.133Z"
   },
   {
    "duration": 9427,
    "start_time": "2023-04-05T15:47:40.156Z"
   },
   {
    "duration": 7736,
    "start_time": "2023-04-05T15:47:49.585Z"
   },
   {
    "duration": 12401,
    "start_time": "2023-04-05T15:47:57.323Z"
   },
   {
    "duration": 20,
    "start_time": "2023-04-05T15:48:09.726Z"
   },
   {
    "duration": 49,
    "start_time": "2023-04-05T15:48:09.748Z"
   },
   {
    "duration": 19,
    "start_time": "2023-04-05T15:48:09.799Z"
   },
   {
    "duration": 21,
    "start_time": "2023-04-05T15:48:09.819Z"
   },
   {
    "duration": 70,
    "start_time": "2023-04-05T15:48:09.842Z"
   },
   {
    "duration": 19,
    "start_time": "2023-04-05T15:48:09.914Z"
   },
   {
    "duration": 120,
    "start_time": "2023-04-05T15:48:09.937Z"
   },
   {
    "duration": 203,
    "start_time": "2023-04-05T15:48:10.058Z"
   },
   {
    "duration": 499,
    "start_time": "2023-04-05T15:48:10.262Z"
   },
   {
    "duration": 62,
    "start_time": "2023-04-05T15:48:10.763Z"
   },
   {
    "duration": 8,
    "start_time": "2023-04-05T15:48:10.827Z"
   },
   {
    "duration": 19,
    "start_time": "2023-04-05T15:48:10.837Z"
   },
   {
    "duration": 31,
    "start_time": "2023-04-05T15:48:10.875Z"
   },
   {
    "duration": 9,
    "start_time": "2023-04-05T15:48:10.908Z"
   },
   {
    "duration": 74,
    "start_time": "2023-04-05T15:48:10.919Z"
   },
   {
    "duration": 22,
    "start_time": "2023-04-05T15:48:10.995Z"
   },
   {
    "duration": 58,
    "start_time": "2023-04-05T15:48:11.020Z"
   },
   {
    "duration": 32,
    "start_time": "2023-04-05T15:48:11.080Z"
   },
   {
    "duration": 280,
    "start_time": "2023-04-05T15:48:11.114Z"
   },
   {
    "duration": 186,
    "start_time": "2023-04-05T15:48:11.396Z"
   },
   {
    "duration": 17,
    "start_time": "2023-04-05T15:48:11.584Z"
   },
   {
    "duration": 72,
    "start_time": "2023-04-05T15:48:11.603Z"
   },
   {
    "duration": 152,
    "start_time": "2023-04-05T15:48:11.677Z"
   },
   {
    "duration": 489,
    "start_time": "2023-04-05T15:48:11.831Z"
   },
   {
    "duration": 14,
    "start_time": "2023-04-05T15:48:12.322Z"
   },
   {
    "duration": 101,
    "start_time": "2023-04-05T15:48:12.338Z"
   },
   {
    "duration": 175,
    "start_time": "2023-04-05T15:48:12.442Z"
   },
   {
    "duration": 470,
    "start_time": "2023-04-05T15:48:12.619Z"
   },
   {
    "duration": 36,
    "start_time": "2023-04-05T15:48:13.091Z"
   },
   {
    "duration": 104,
    "start_time": "2023-04-05T15:48:13.129Z"
   },
   {
    "duration": 41,
    "start_time": "2023-04-05T15:48:13.235Z"
   },
   {
    "duration": 14,
    "start_time": "2023-04-05T15:48:13.277Z"
   },
   {
    "duration": 7,
    "start_time": "2023-04-05T15:48:13.293Z"
   },
   {
    "duration": 32,
    "start_time": "2023-04-05T15:48:13.302Z"
   },
   {
    "duration": 7,
    "start_time": "2023-04-05T15:48:13.336Z"
   },
   {
    "duration": 222,
    "start_time": "2023-04-05T15:48:13.375Z"
   },
   {
    "duration": 23,
    "start_time": "2023-04-05T15:48:13.599Z"
   },
   {
    "duration": 30,
    "start_time": "2023-04-05T15:48:13.623Z"
   },
   {
    "duration": 41,
    "start_time": "2023-04-05T15:48:13.654Z"
   },
   {
    "duration": 87,
    "start_time": "2023-04-05T15:48:13.697Z"
   },
   {
    "duration": 19,
    "start_time": "2023-04-05T15:48:13.786Z"
   },
   {
    "duration": 15,
    "start_time": "2023-04-05T15:48:13.807Z"
   },
   {
    "duration": 21,
    "start_time": "2023-04-05T15:48:13.824Z"
   },
   {
    "duration": 33,
    "start_time": "2023-04-05T15:48:13.846Z"
   },
   {
    "duration": 36,
    "start_time": "2023-04-05T15:48:13.881Z"
   },
   {
    "duration": 10,
    "start_time": "2023-04-05T15:48:13.920Z"
   },
   {
    "duration": 53,
    "start_time": "2023-04-05T15:48:25.605Z"
   },
   {
    "duration": 920,
    "start_time": "2023-04-05T15:48:54.828Z"
   },
   {
    "duration": 7,
    "start_time": "2023-04-05T15:49:26.449Z"
   },
   {
    "duration": 6081,
    "start_time": "2023-04-05T15:50:28.342Z"
   },
   {
    "duration": 4956,
    "start_time": "2023-04-05T15:50:34.425Z"
   },
   {
    "duration": 1429,
    "start_time": "2023-04-05T15:50:39.383Z"
   },
   {
    "duration": 1128,
    "start_time": "2023-04-05T15:50:40.814Z"
   },
   {
    "duration": 20,
    "start_time": "2023-04-05T15:50:41.943Z"
   },
   {
    "duration": 879,
    "start_time": "2023-04-05T15:50:41.965Z"
   },
   {
    "duration": 152,
    "start_time": "2023-04-05T15:50:42.846Z"
   },
   {
    "duration": 551,
    "start_time": "2023-04-05T15:50:43.001Z"
   },
   {
    "duration": 498,
    "start_time": "2023-04-05T15:50:43.554Z"
   },
   {
    "duration": 190,
    "start_time": "2023-04-05T15:50:44.055Z"
   },
   {
    "duration": 32,
    "start_time": "2023-04-05T15:50:44.247Z"
   },
   {
    "duration": 24,
    "start_time": "2023-04-05T15:50:44.281Z"
   },
   {
    "duration": 1789,
    "start_time": "2023-04-05T15:50:44.307Z"
   },
   {
    "duration": 1791,
    "start_time": "2023-04-05T15:50:46.098Z"
   },
   {
    "duration": 2238,
    "start_time": "2023-04-05T15:50:47.891Z"
   },
   {
    "duration": 22,
    "start_time": "2023-04-05T15:50:50.131Z"
   },
   {
    "duration": 38,
    "start_time": "2023-04-05T15:50:50.155Z"
   },
   {
    "duration": 40,
    "start_time": "2023-04-05T15:50:50.195Z"
   },
   {
    "duration": 10773,
    "start_time": "2023-04-05T15:50:50.238Z"
   },
   {
    "duration": 8480,
    "start_time": "2023-04-05T15:51:01.014Z"
   },
   {
    "duration": 14185,
    "start_time": "2023-04-05T15:51:09.497Z"
   },
   {
    "duration": 21,
    "start_time": "2023-04-05T15:51:23.684Z"
   },
   {
    "duration": 35,
    "start_time": "2023-04-05T15:51:23.707Z"
   },
   {
    "duration": 34,
    "start_time": "2023-04-05T15:51:23.744Z"
   },
   {
    "duration": 23,
    "start_time": "2023-04-05T15:51:23.781Z"
   },
   {
    "duration": 41,
    "start_time": "2023-04-05T15:51:23.807Z"
   },
   {
    "duration": 29,
    "start_time": "2023-04-05T15:51:23.849Z"
   },
   {
    "duration": 110,
    "start_time": "2023-04-05T15:51:23.883Z"
   },
   {
    "duration": 231,
    "start_time": "2023-04-05T15:51:23.995Z"
   },
   {
    "duration": 511,
    "start_time": "2023-04-05T15:51:24.231Z"
   },
   {
    "duration": 64,
    "start_time": "2023-04-05T15:51:24.744Z"
   },
   {
    "duration": 12,
    "start_time": "2023-04-05T15:51:24.810Z"
   },
   {
    "duration": 21,
    "start_time": "2023-04-05T15:51:24.824Z"
   },
   {
    "duration": 60,
    "start_time": "2023-04-05T15:51:24.847Z"
   },
   {
    "duration": 11,
    "start_time": "2023-04-05T15:51:24.909Z"
   },
   {
    "duration": 78,
    "start_time": "2023-04-05T15:51:24.922Z"
   },
   {
    "duration": 23,
    "start_time": "2023-04-05T15:51:25.003Z"
   },
   {
    "duration": 60,
    "start_time": "2023-04-05T15:51:25.028Z"
   },
   {
    "duration": 30,
    "start_time": "2023-04-05T15:51:25.090Z"
   },
   {
    "duration": 295,
    "start_time": "2023-04-05T15:51:25.122Z"
   },
   {
    "duration": 196,
    "start_time": "2023-04-05T15:51:25.419Z"
   },
   {
    "duration": 17,
    "start_time": "2023-04-05T15:51:25.616Z"
   },
   {
    "duration": 69,
    "start_time": "2023-04-05T15:51:25.635Z"
   },
   {
    "duration": 154,
    "start_time": "2023-04-05T15:51:25.706Z"
   },
   {
    "duration": 472,
    "start_time": "2023-04-05T15:51:25.861Z"
   },
   {
    "duration": 15,
    "start_time": "2023-04-05T15:51:26.335Z"
   },
   {
    "duration": 100,
    "start_time": "2023-04-05T15:51:26.352Z"
   },
   {
    "duration": 185,
    "start_time": "2023-04-05T15:51:26.454Z"
   },
   {
    "duration": 472,
    "start_time": "2023-04-05T15:51:26.640Z"
   },
   {
    "duration": 27,
    "start_time": "2023-04-05T15:51:27.114Z"
   },
   {
    "duration": 99,
    "start_time": "2023-04-05T15:51:27.143Z"
   },
   {
    "duration": 57,
    "start_time": "2023-04-05T15:51:27.244Z"
   },
   {
    "duration": 17,
    "start_time": "2023-04-05T15:51:27.303Z"
   },
   {
    "duration": 8,
    "start_time": "2023-04-05T15:51:27.322Z"
   },
   {
    "duration": 52,
    "start_time": "2023-04-05T15:51:27.332Z"
   },
   {
    "duration": 8,
    "start_time": "2023-04-05T15:51:27.386Z"
   },
   {
    "duration": 228,
    "start_time": "2023-04-05T15:51:27.397Z"
   },
   {
    "duration": 23,
    "start_time": "2023-04-05T15:51:27.627Z"
   },
   {
    "duration": 50,
    "start_time": "2023-04-05T15:51:27.651Z"
   },
   {
    "duration": 22,
    "start_time": "2023-04-05T15:51:27.703Z"
   },
   {
    "duration": 99,
    "start_time": "2023-04-05T15:51:27.727Z"
   },
   {
    "duration": 18,
    "start_time": "2023-04-05T15:51:27.828Z"
   },
   {
    "duration": 20,
    "start_time": "2023-04-05T15:51:27.848Z"
   },
   {
    "duration": 14,
    "start_time": "2023-04-05T15:51:27.870Z"
   },
   {
    "duration": 40,
    "start_time": "2023-04-05T15:51:27.886Z"
   },
   {
    "duration": 41,
    "start_time": "2023-04-05T15:51:27.928Z"
   },
   {
    "duration": 2,
    "start_time": "2023-04-05T15:51:27.971Z"
   },
   {
    "duration": 3,
    "start_time": "2023-04-05T15:51:34.113Z"
   },
   {
    "duration": 63,
    "start_time": "2023-04-05T15:51:37.821Z"
   },
   {
    "duration": 5956,
    "start_time": "2023-04-05T15:54:35.986Z"
   },
   {
    "duration": 5059,
    "start_time": "2023-04-05T15:54:41.945Z"
   },
   {
    "duration": 8285,
    "start_time": "2023-04-05T15:54:47.006Z"
   },
   {
    "duration": 1404,
    "start_time": "2023-04-05T15:54:55.294Z"
   },
   {
    "duration": 1108,
    "start_time": "2023-04-05T15:54:56.700Z"
   },
   {
    "duration": 19,
    "start_time": "2023-04-05T15:54:57.810Z"
   },
   {
    "duration": 856,
    "start_time": "2023-04-05T15:54:57.831Z"
   },
   {
    "duration": 111,
    "start_time": "2023-04-05T15:54:58.690Z"
   },
   {
    "duration": 565,
    "start_time": "2023-04-05T15:54:58.803Z"
   },
   {
    "duration": 487,
    "start_time": "2023-04-05T15:54:59.374Z"
   },
   {
    "duration": 168,
    "start_time": "2023-04-05T15:54:59.862Z"
   },
   {
    "duration": 713,
    "start_time": "2023-04-05T15:55:00.031Z"
   },
   {
    "duration": 252,
    "start_time": "2023-04-05T15:55:00.746Z"
   },
   {
    "duration": 1600,
    "start_time": "2023-04-05T15:55:01.000Z"
   },
   {
    "duration": 1476,
    "start_time": "2023-04-05T15:55:02.602Z"
   },
   {
    "duration": 1996,
    "start_time": "2023-04-05T15:55:04.080Z"
   },
   {
    "duration": 18,
    "start_time": "2023-04-05T15:55:06.078Z"
   },
   {
    "duration": 54,
    "start_time": "2023-04-05T15:55:06.098Z"
   },
   {
    "duration": 20,
    "start_time": "2023-04-05T15:55:06.155Z"
   },
   {
    "duration": 8653,
    "start_time": "2023-04-05T15:55:06.177Z"
   },
   {
    "duration": 7289,
    "start_time": "2023-04-05T15:55:14.832Z"
   },
   {
    "duration": 12175,
    "start_time": "2023-04-05T15:55:22.122Z"
   },
   {
    "duration": 18,
    "start_time": "2023-04-05T15:55:34.299Z"
   },
   {
    "duration": 30,
    "start_time": "2023-04-05T15:55:34.319Z"
   },
   {
    "duration": 34,
    "start_time": "2023-04-05T15:55:34.351Z"
   },
   {
    "duration": 19,
    "start_time": "2023-04-05T15:55:34.387Z"
   },
   {
    "duration": 46,
    "start_time": "2023-04-05T15:55:34.408Z"
   },
   {
    "duration": 30,
    "start_time": "2023-04-05T15:55:34.458Z"
   },
   {
    "duration": 119,
    "start_time": "2023-04-05T15:55:34.490Z"
   },
   {
    "duration": 203,
    "start_time": "2023-04-05T15:55:34.611Z"
   },
   {
    "duration": 553,
    "start_time": "2023-04-05T15:55:34.817Z"
   },
   {
    "duration": 60,
    "start_time": "2023-04-05T15:55:35.372Z"
   },
   {
    "duration": 9,
    "start_time": "2023-04-05T15:55:35.434Z"
   },
   {
    "duration": 45,
    "start_time": "2023-04-05T15:55:35.445Z"
   },
   {
    "duration": 36,
    "start_time": "2023-04-05T15:55:35.492Z"
   },
   {
    "duration": 10,
    "start_time": "2023-04-05T15:55:35.530Z"
   },
   {
    "duration": 85,
    "start_time": "2023-04-05T15:55:35.542Z"
   },
   {
    "duration": 20,
    "start_time": "2023-04-05T15:55:35.629Z"
   },
   {
    "duration": 48,
    "start_time": "2023-04-05T15:55:35.651Z"
   },
   {
    "duration": 30,
    "start_time": "2023-04-05T15:55:35.701Z"
   },
   {
    "duration": 308,
    "start_time": "2023-04-05T15:55:35.733Z"
   },
   {
    "duration": 244,
    "start_time": "2023-04-05T15:55:36.044Z"
   },
   {
    "duration": 22,
    "start_time": "2023-04-05T15:55:36.290Z"
   },
   {
    "duration": 75,
    "start_time": "2023-04-05T15:55:36.314Z"
   },
   {
    "duration": 168,
    "start_time": "2023-04-05T15:55:36.392Z"
   },
   {
    "duration": 512,
    "start_time": "2023-04-05T15:55:36.562Z"
   },
   {
    "duration": 16,
    "start_time": "2023-04-05T15:55:37.076Z"
   },
   {
    "duration": 105,
    "start_time": "2023-04-05T15:55:37.094Z"
   },
   {
    "duration": 178,
    "start_time": "2023-04-05T15:55:37.201Z"
   },
   {
    "duration": 469,
    "start_time": "2023-04-05T15:55:37.381Z"
   },
   {
    "duration": 43,
    "start_time": "2023-04-05T15:55:37.852Z"
   },
   {
    "duration": 96,
    "start_time": "2023-04-05T15:55:37.897Z"
   },
   {
    "duration": 37,
    "start_time": "2023-04-05T15:55:37.995Z"
   },
   {
    "duration": 16,
    "start_time": "2023-04-05T15:55:38.034Z"
   },
   {
    "duration": 27,
    "start_time": "2023-04-05T15:55:38.052Z"
   },
   {
    "duration": 29,
    "start_time": "2023-04-05T15:55:38.081Z"
   },
   {
    "duration": 8,
    "start_time": "2023-04-05T15:55:38.112Z"
   },
   {
    "duration": 241,
    "start_time": "2023-04-05T15:55:38.122Z"
   },
   {
    "duration": 27,
    "start_time": "2023-04-05T15:55:38.365Z"
   },
   {
    "duration": 38,
    "start_time": "2023-04-05T15:55:38.394Z"
   },
   {
    "duration": 41,
    "start_time": "2023-04-05T15:55:38.434Z"
   },
   {
    "duration": 73,
    "start_time": "2023-04-05T15:55:38.477Z"
   },
   {
    "duration": 30,
    "start_time": "2023-04-05T15:55:38.552Z"
   },
   {
    "duration": 3,
    "start_time": "2023-04-05T15:55:38.585Z"
   },
   {
    "duration": 5,
    "start_time": "2023-04-05T15:55:38.590Z"
   },
   {
    "duration": 26,
    "start_time": "2023-04-05T15:55:38.597Z"
   },
   {
    "duration": 22,
    "start_time": "2023-04-05T15:55:38.624Z"
   },
   {
    "duration": 27,
    "start_time": "2023-04-05T15:55:38.648Z"
   },
   {
    "duration": 57,
    "start_time": "2023-04-05T15:55:38.677Z"
   },
   {
    "duration": 5804,
    "start_time": "2023-04-05T15:56:54.001Z"
   },
   {
    "duration": 4715,
    "start_time": "2023-04-05T15:56:59.809Z"
   },
   {
    "duration": 2857,
    "start_time": "2023-04-05T15:57:04.527Z"
   },
   {
    "duration": 67276,
    "start_time": "2023-04-05T15:57:07.386Z"
   },
   {
    "duration": 1406,
    "start_time": "2023-04-05T15:58:14.664Z"
   },
   {
    "duration": 1153,
    "start_time": "2023-04-05T15:58:16.071Z"
   },
   {
    "duration": 20,
    "start_time": "2023-04-05T15:58:17.226Z"
   },
   {
    "duration": 849,
    "start_time": "2023-04-05T15:58:17.247Z"
   },
   {
    "duration": 121,
    "start_time": "2023-04-05T15:58:18.098Z"
   },
   {
    "duration": 474,
    "start_time": "2023-04-05T15:58:18.332Z"
   },
   {
    "duration": 523,
    "start_time": "2023-04-05T15:58:18.809Z"
   },
   {
    "duration": 154,
    "start_time": "2023-04-05T15:58:19.334Z"
   },
   {
    "duration": 22,
    "start_time": "2023-04-05T15:58:19.490Z"
   },
   {
    "duration": 26,
    "start_time": "2023-04-05T15:58:19.514Z"
   },
   {
    "duration": 1544,
    "start_time": "2023-04-05T15:58:19.542Z"
   },
   {
    "duration": 1516,
    "start_time": "2023-04-05T15:58:21.088Z"
   },
   {
    "duration": 2011,
    "start_time": "2023-04-05T15:58:22.606Z"
   },
   {
    "duration": 21,
    "start_time": "2023-04-05T15:58:24.619Z"
   },
   {
    "duration": 41,
    "start_time": "2023-04-05T15:58:24.642Z"
   },
   {
    "duration": 30,
    "start_time": "2023-04-05T15:58:24.686Z"
   },
   {
    "duration": 9081,
    "start_time": "2023-04-05T15:58:24.718Z"
   },
   {
    "duration": 7331,
    "start_time": "2023-04-05T15:58:33.801Z"
   },
   {
    "duration": 12210,
    "start_time": "2023-04-05T15:58:41.134Z"
   },
   {
    "duration": 31,
    "start_time": "2023-04-05T15:58:53.345Z"
   },
   {
    "duration": 3635,
    "start_time": "2023-04-05T15:58:53.377Z"
   },
   {
    "duration": 23,
    "start_time": "2023-04-05T15:58:57.014Z"
   },
   {
    "duration": 20,
    "start_time": "2023-04-05T15:58:57.039Z"
   },
   {
    "duration": 43,
    "start_time": "2023-04-05T15:58:57.074Z"
   },
   {
    "duration": 19,
    "start_time": "2023-04-05T15:58:57.118Z"
   },
   {
    "duration": 117,
    "start_time": "2023-04-05T15:58:57.139Z"
   },
   {
    "duration": 217,
    "start_time": "2023-04-05T15:58:57.258Z"
   },
   {
    "duration": 499,
    "start_time": "2023-04-05T15:58:57.477Z"
   },
   {
    "duration": 58,
    "start_time": "2023-04-05T15:58:57.978Z"
   },
   {
    "duration": 9,
    "start_time": "2023-04-05T15:58:58.038Z"
   },
   {
    "duration": 39,
    "start_time": "2023-04-05T15:58:58.049Z"
   },
   {
    "duration": 44,
    "start_time": "2023-04-05T15:58:58.090Z"
   },
   {
    "duration": 10,
    "start_time": "2023-04-05T15:58:58.136Z"
   },
   {
    "duration": 82,
    "start_time": "2023-04-05T15:58:58.148Z"
   },
   {
    "duration": 22,
    "start_time": "2023-04-05T15:58:58.232Z"
   },
   {
    "duration": 47,
    "start_time": "2023-04-05T15:58:58.260Z"
   },
   {
    "duration": 26,
    "start_time": "2023-04-05T15:58:58.309Z"
   },
   {
    "duration": 306,
    "start_time": "2023-04-05T15:58:58.337Z"
   },
   {
    "duration": 181,
    "start_time": "2023-04-05T15:58:58.644Z"
   },
   {
    "duration": 18,
    "start_time": "2023-04-05T15:58:58.827Z"
   },
   {
    "duration": 73,
    "start_time": "2023-04-05T15:58:58.847Z"
   },
   {
    "duration": 154,
    "start_time": "2023-04-05T15:58:58.922Z"
   },
   {
    "duration": 516,
    "start_time": "2023-04-05T15:58:59.078Z"
   },
   {
    "duration": 18,
    "start_time": "2023-04-05T15:58:59.596Z"
   },
   {
    "duration": 117,
    "start_time": "2023-04-05T15:58:59.616Z"
   },
   {
    "duration": 177,
    "start_time": "2023-04-05T15:58:59.735Z"
   },
   {
    "duration": 521,
    "start_time": "2023-04-05T15:58:59.914Z"
   },
   {
    "duration": 47,
    "start_time": "2023-04-05T15:59:00.437Z"
   },
   {
    "duration": 93,
    "start_time": "2023-04-05T15:59:00.486Z"
   },
   {
    "duration": 37,
    "start_time": "2023-04-05T15:59:00.580Z"
   },
   {
    "duration": 14,
    "start_time": "2023-04-05T15:59:00.619Z"
   },
   {
    "duration": 25,
    "start_time": "2023-04-05T15:59:00.635Z"
   },
   {
    "duration": 57,
    "start_time": "2023-04-05T15:59:00.662Z"
   },
   {
    "duration": 7,
    "start_time": "2023-04-05T15:59:00.721Z"
   },
   {
    "duration": 248,
    "start_time": "2023-04-05T15:59:00.730Z"
   },
   {
    "duration": 25,
    "start_time": "2023-04-05T15:59:00.980Z"
   },
   {
    "duration": 50,
    "start_time": "2023-04-05T15:59:01.007Z"
   },
   {
    "duration": 23,
    "start_time": "2023-04-05T15:59:01.059Z"
   },
   {
    "duration": 67,
    "start_time": "2023-04-05T15:59:01.085Z"
   },
   {
    "duration": 33,
    "start_time": "2023-04-05T15:59:01.155Z"
   },
   {
    "duration": 14,
    "start_time": "2023-04-05T15:59:01.190Z"
   },
   {
    "duration": 13,
    "start_time": "2023-04-05T15:59:01.207Z"
   },
   {
    "duration": 30,
    "start_time": "2023-04-05T15:59:01.222Z"
   },
   {
    "duration": 22,
    "start_time": "2023-04-05T15:59:01.254Z"
   },
   {
    "duration": 3,
    "start_time": "2023-04-05T15:59:01.278Z"
   },
   {
    "duration": 81,
    "start_time": "2023-04-05T15:59:01.283Z"
   },
   {
    "duration": 5897,
    "start_time": "2023-04-05T16:00:24.664Z"
   },
   {
    "duration": 4884,
    "start_time": "2023-04-05T16:00:30.565Z"
   },
   {
    "duration": 885,
    "start_time": "2023-04-05T16:00:35.451Z"
   },
   {
    "duration": 1681,
    "start_time": "2023-04-05T16:00:36.338Z"
   },
   {
    "duration": 1238,
    "start_time": "2023-04-05T16:00:38.021Z"
   },
   {
    "duration": 21,
    "start_time": "2023-04-05T16:00:39.261Z"
   },
   {
    "duration": 919,
    "start_time": "2023-04-05T16:00:39.284Z"
   },
   {
    "duration": 113,
    "start_time": "2023-04-05T16:00:40.204Z"
   },
   {
    "duration": 602,
    "start_time": "2023-04-05T16:00:40.318Z"
   },
   {
    "duration": 548,
    "start_time": "2023-04-05T16:00:40.923Z"
   },
   {
    "duration": 158,
    "start_time": "2023-04-05T16:00:41.473Z"
   },
   {
    "duration": 22,
    "start_time": "2023-04-05T16:00:41.633Z"
   },
   {
    "duration": 35,
    "start_time": "2023-04-05T16:00:41.656Z"
   },
   {
    "duration": 1555,
    "start_time": "2023-04-05T16:00:41.696Z"
   },
   {
    "duration": 1592,
    "start_time": "2023-04-05T16:00:43.254Z"
   },
   {
    "duration": 2118,
    "start_time": "2023-04-05T16:00:44.848Z"
   },
   {
    "duration": 23,
    "start_time": "2023-04-05T16:00:46.968Z"
   },
   {
    "duration": 40,
    "start_time": "2023-04-05T16:00:46.993Z"
   },
   {
    "duration": 20,
    "start_time": "2023-04-05T16:00:47.035Z"
   },
   {
    "duration": 8760,
    "start_time": "2023-04-05T16:00:47.057Z"
   },
   {
    "duration": 7189,
    "start_time": "2023-04-05T16:00:55.819Z"
   },
   {
    "duration": 11878,
    "start_time": "2023-04-05T16:01:03.010Z"
   },
   {
    "duration": 20,
    "start_time": "2023-04-05T16:01:14.890Z"
   },
   {
    "duration": 63,
    "start_time": "2023-04-05T16:01:14.912Z"
   },
   {
    "duration": 19,
    "start_time": "2023-04-05T16:01:14.977Z"
   },
   {
    "duration": 22,
    "start_time": "2023-04-05T16:01:14.997Z"
   },
   {
    "duration": 71,
    "start_time": "2023-04-05T16:01:15.022Z"
   },
   {
    "duration": 33,
    "start_time": "2023-04-05T16:01:15.095Z"
   },
   {
    "duration": 118,
    "start_time": "2023-04-05T16:01:15.131Z"
   },
   {
    "duration": 213,
    "start_time": "2023-04-05T16:01:15.250Z"
   },
   {
    "duration": 534,
    "start_time": "2023-04-05T16:01:15.465Z"
   },
   {
    "duration": 61,
    "start_time": "2023-04-05T16:01:16.001Z"
   },
   {
    "duration": 17,
    "start_time": "2023-04-05T16:01:16.063Z"
   },
   {
    "duration": 22,
    "start_time": "2023-04-05T16:01:16.082Z"
   },
   {
    "duration": 36,
    "start_time": "2023-04-05T16:01:16.106Z"
   },
   {
    "duration": 38,
    "start_time": "2023-04-05T16:01:16.145Z"
   },
   {
    "duration": 68,
    "start_time": "2023-04-05T16:01:16.185Z"
   },
   {
    "duration": 36,
    "start_time": "2023-04-05T16:01:16.255Z"
   },
   {
    "duration": 36,
    "start_time": "2023-04-05T16:01:16.293Z"
   },
   {
    "duration": 55,
    "start_time": "2023-04-05T16:01:16.330Z"
   },
   {
    "duration": 288,
    "start_time": "2023-04-05T16:01:16.391Z"
   },
   {
    "duration": 186,
    "start_time": "2023-04-05T16:01:16.681Z"
   },
   {
    "duration": 21,
    "start_time": "2023-04-05T16:01:16.869Z"
   },
   {
    "duration": 58,
    "start_time": "2023-04-05T16:01:16.891Z"
   },
   {
    "duration": 195,
    "start_time": "2023-04-05T16:01:16.952Z"
   },
   {
    "duration": 502,
    "start_time": "2023-04-05T16:01:17.149Z"
   },
   {
    "duration": 24,
    "start_time": "2023-04-05T16:01:17.652Z"
   },
   {
    "duration": 102,
    "start_time": "2023-04-05T16:01:17.678Z"
   },
   {
    "duration": 181,
    "start_time": "2023-04-05T16:01:17.782Z"
   },
   {
    "duration": 499,
    "start_time": "2023-04-05T16:01:17.965Z"
   },
   {
    "duration": 43,
    "start_time": "2023-04-05T16:01:18.466Z"
   },
   {
    "duration": 119,
    "start_time": "2023-04-05T16:01:18.511Z"
   },
   {
    "duration": 44,
    "start_time": "2023-04-05T16:01:18.632Z"
   },
   {
    "duration": 15,
    "start_time": "2023-04-05T16:01:18.678Z"
   },
   {
    "duration": 24,
    "start_time": "2023-04-05T16:01:18.695Z"
   },
   {
    "duration": 31,
    "start_time": "2023-04-05T16:01:18.721Z"
   },
   {
    "duration": 8,
    "start_time": "2023-04-05T16:01:18.755Z"
   },
   {
    "duration": 285,
    "start_time": "2023-04-05T16:01:18.765Z"
   },
   {
    "duration": 32,
    "start_time": "2023-04-05T16:01:19.051Z"
   },
   {
    "duration": 32,
    "start_time": "2023-04-05T16:01:19.085Z"
   },
   {
    "duration": 18,
    "start_time": "2023-04-05T16:01:19.119Z"
   },
   {
    "duration": 70,
    "start_time": "2023-04-05T16:01:19.139Z"
   },
   {
    "duration": 65,
    "start_time": "2023-04-05T16:01:19.211Z"
   },
   {
    "duration": 3,
    "start_time": "2023-04-05T16:01:19.278Z"
   },
   {
    "duration": 5,
    "start_time": "2023-04-05T16:01:19.282Z"
   },
   {
    "duration": 20,
    "start_time": "2023-04-05T16:01:19.288Z"
   },
   {
    "duration": 78,
    "start_time": "2023-04-05T16:01:19.310Z"
   },
   {
    "duration": 7,
    "start_time": "2023-04-05T16:01:19.390Z"
   },
   {
    "duration": 108,
    "start_time": "2023-04-05T16:01:19.399Z"
   },
   {
    "duration": 6174,
    "start_time": "2023-04-05T17:22:55.322Z"
   },
   {
    "duration": 5061,
    "start_time": "2023-04-05T17:23:01.502Z"
   },
   {
    "duration": 1706,
    "start_time": "2023-04-05T17:23:06.566Z"
   },
   {
    "duration": 1338,
    "start_time": "2023-04-05T17:23:08.275Z"
   },
   {
    "duration": 22,
    "start_time": "2023-04-05T17:23:09.615Z"
   },
   {
    "duration": 1026,
    "start_time": "2023-04-05T17:23:09.639Z"
   },
   {
    "duration": 125,
    "start_time": "2023-04-05T17:23:10.667Z"
   },
   {
    "duration": 551,
    "start_time": "2023-04-05T17:23:10.794Z"
   },
   {
    "duration": 529,
    "start_time": "2023-04-05T17:23:11.347Z"
   },
   {
    "duration": 166,
    "start_time": "2023-04-05T17:23:11.893Z"
   },
   {
    "duration": 33,
    "start_time": "2023-04-05T17:23:12.061Z"
   },
   {
    "duration": 42,
    "start_time": "2023-04-05T17:23:12.096Z"
   },
   {
    "duration": 1684,
    "start_time": "2023-04-05T17:23:12.140Z"
   },
   {
    "duration": 1789,
    "start_time": "2023-04-05T17:23:13.825Z"
   },
   {
    "duration": 2277,
    "start_time": "2023-04-05T17:23:15.616Z"
   },
   {
    "duration": 21,
    "start_time": "2023-04-05T17:23:17.904Z"
   },
   {
    "duration": 137,
    "start_time": "2023-04-05T17:23:17.927Z"
   },
   {
    "duration": 34,
    "start_time": "2023-04-05T17:23:18.066Z"
   },
   {
    "duration": 10078,
    "start_time": "2023-04-05T17:23:18.103Z"
   },
   {
    "duration": 8012,
    "start_time": "2023-04-05T17:23:28.182Z"
   },
   {
    "duration": 13322,
    "start_time": "2023-04-05T17:23:36.196Z"
   },
   {
    "duration": 17,
    "start_time": "2023-04-05T17:23:49.520Z"
   },
   {
    "duration": 63,
    "start_time": "2023-04-05T17:23:49.538Z"
   },
   {
    "duration": 25,
    "start_time": "2023-04-05T17:23:49.603Z"
   },
   {
    "duration": 31,
    "start_time": "2023-04-05T17:23:49.630Z"
   },
   {
    "duration": 50,
    "start_time": "2023-04-05T17:23:49.675Z"
   },
   {
    "duration": 18,
    "start_time": "2023-04-05T17:23:49.728Z"
   },
   {
    "duration": 132,
    "start_time": "2023-04-05T17:23:49.750Z"
   },
   {
    "duration": 200,
    "start_time": "2023-04-05T17:23:49.884Z"
   },
   {
    "duration": 540,
    "start_time": "2023-04-05T17:23:50.086Z"
   },
   {
    "duration": 64,
    "start_time": "2023-04-05T17:23:50.628Z"
   },
   {
    "duration": 9,
    "start_time": "2023-04-05T17:23:50.696Z"
   },
   {
    "duration": 18,
    "start_time": "2023-04-05T17:23:50.707Z"
   },
   {
    "duration": 69,
    "start_time": "2023-04-05T17:23:50.727Z"
   },
   {
    "duration": 9,
    "start_time": "2023-04-05T17:23:50.798Z"
   },
   {
    "duration": 67,
    "start_time": "2023-04-05T17:23:50.809Z"
   },
   {
    "duration": 26,
    "start_time": "2023-04-05T17:23:50.882Z"
   },
   {
    "duration": 33,
    "start_time": "2023-04-05T17:23:50.910Z"
   },
   {
    "duration": 44,
    "start_time": "2023-04-05T17:23:50.945Z"
   },
   {
    "duration": 272,
    "start_time": "2023-04-05T17:23:50.990Z"
   },
   {
    "duration": 190,
    "start_time": "2023-04-05T17:23:51.264Z"
   },
   {
    "duration": 37,
    "start_time": "2023-04-05T17:23:51.456Z"
   },
   {
    "duration": 59,
    "start_time": "2023-04-05T17:23:51.495Z"
   },
   {
    "duration": 150,
    "start_time": "2023-04-05T17:23:51.556Z"
   },
   {
    "duration": 526,
    "start_time": "2023-04-05T17:23:51.708Z"
   },
   {
    "duration": 14,
    "start_time": "2023-04-05T17:23:52.236Z"
   },
   {
    "duration": 100,
    "start_time": "2023-04-05T17:23:52.252Z"
   },
   {
    "duration": 189,
    "start_time": "2023-04-05T17:23:52.354Z"
   },
   {
    "duration": 469,
    "start_time": "2023-04-05T17:23:52.545Z"
   },
   {
    "duration": 27,
    "start_time": "2023-04-05T17:23:53.016Z"
   },
   {
    "duration": 97,
    "start_time": "2023-04-05T17:23:53.045Z"
   },
   {
    "duration": 52,
    "start_time": "2023-04-05T17:23:53.144Z"
   },
   {
    "duration": 15,
    "start_time": "2023-04-05T17:23:53.198Z"
   },
   {
    "duration": 7,
    "start_time": "2023-04-05T17:23:53.215Z"
   },
   {
    "duration": 28,
    "start_time": "2023-04-05T17:23:53.223Z"
   },
   {
    "duration": 14,
    "start_time": "2023-04-05T17:23:53.276Z"
   },
   {
    "duration": 222,
    "start_time": "2023-04-05T17:23:53.299Z"
   },
   {
    "duration": 25,
    "start_time": "2023-04-05T17:23:53.522Z"
   },
   {
    "duration": 62,
    "start_time": "2023-04-05T17:23:53.549Z"
   },
   {
    "duration": 17,
    "start_time": "2023-04-05T17:23:53.612Z"
   },
   {
    "duration": 125,
    "start_time": "2023-04-05T17:23:53.631Z"
   },
   {
    "duration": 32,
    "start_time": "2023-04-05T17:23:53.758Z"
   },
   {
    "duration": 3,
    "start_time": "2023-04-05T17:23:53.792Z"
   },
   {
    "duration": 6,
    "start_time": "2023-04-05T17:23:53.796Z"
   },
   {
    "duration": 26,
    "start_time": "2023-04-05T17:23:53.805Z"
   },
   {
    "duration": 47,
    "start_time": "2023-04-05T17:23:53.833Z"
   },
   {
    "duration": 3,
    "start_time": "2023-04-05T17:23:53.882Z"
   },
   {
    "duration": 56,
    "start_time": "2023-04-05T17:23:53.887Z"
   },
   {
    "duration": 65157,
    "start_time": "2023-04-05T17:23:53.945Z"
   },
   {
    "duration": 988,
    "start_time": "2023-04-05T17:24:59.104Z"
   },
   {
    "duration": 515,
    "start_time": "2023-04-05T17:25:00.098Z"
   },
   {
    "duration": 23,
    "start_time": "2023-04-05T17:25:00.615Z"
   },
   {
    "duration": 21557,
    "start_time": "2023-04-05T17:25:00.640Z"
   },
   {
    "duration": 240,
    "start_time": "2023-04-05T17:25:22.199Z"
   },
   {
    "duration": 206,
    "start_time": "2023-04-05T17:25:22.441Z"
   },
   {
    "duration": 16,
    "start_time": "2023-04-05T17:25:22.649Z"
   },
   {
    "duration": 11,
    "start_time": "2023-04-05T17:25:22.677Z"
   },
   {
    "duration": 37597,
    "start_time": "2023-04-05T17:25:22.690Z"
   },
   {
    "duration": 194,
    "start_time": "2023-04-05T17:26:00.289Z"
   },
   {
    "duration": 7,
    "start_time": "2023-04-05T17:26:00.485Z"
   },
   {
    "duration": 101,
    "start_time": "2023-04-05T17:26:00.494Z"
   },
   {
    "duration": 4377,
    "start_time": "2023-04-05T17:26:00.601Z"
   },
   {
    "duration": 205,
    "start_time": "2023-04-05T17:26:04.980Z"
   },
   {
    "duration": 8,
    "start_time": "2023-04-05T17:26:05.191Z"
   },
   {
    "duration": 7831,
    "start_time": "2023-04-05T17:30:33.779Z"
   },
   {
    "duration": 5836,
    "start_time": "2023-04-05T17:30:41.613Z"
   },
   {
    "duration": 2276,
    "start_time": "2023-04-05T17:30:47.451Z"
   },
   {
    "duration": 976,
    "start_time": "2023-04-05T17:30:49.729Z"
   },
   {
    "duration": 25,
    "start_time": "2023-04-05T17:30:50.707Z"
   },
   {
    "duration": 969,
    "start_time": "2023-04-05T17:30:50.734Z"
   },
   {
    "duration": 140,
    "start_time": "2023-04-05T17:30:51.705Z"
   },
   {
    "duration": 618,
    "start_time": "2023-04-05T17:30:51.847Z"
   },
   {
    "duration": 545,
    "start_time": "2023-04-05T17:30:52.466Z"
   },
   {
    "duration": 156,
    "start_time": "2023-04-05T17:30:53.014Z"
   },
   {
    "duration": 32,
    "start_time": "2023-04-05T17:30:53.174Z"
   },
   {
    "duration": 34,
    "start_time": "2023-04-05T17:30:53.208Z"
   },
   {
    "duration": 1721,
    "start_time": "2023-04-05T17:30:53.243Z"
   },
   {
    "duration": 1701,
    "start_time": "2023-04-05T17:30:54.966Z"
   },
   {
    "duration": 2157,
    "start_time": "2023-04-05T17:30:56.675Z"
   },
   {
    "duration": 18,
    "start_time": "2023-04-05T17:30:58.834Z"
   },
   {
    "duration": 44,
    "start_time": "2023-04-05T17:30:58.855Z"
   },
   {
    "duration": 23,
    "start_time": "2023-04-05T17:30:58.901Z"
   },
   {
    "duration": 9486,
    "start_time": "2023-04-05T17:30:58.926Z"
   },
   {
    "duration": 8405,
    "start_time": "2023-04-05T17:31:08.416Z"
   },
   {
    "duration": 13816,
    "start_time": "2023-04-05T17:31:16.824Z"
   },
   {
    "duration": 19,
    "start_time": "2023-04-05T17:31:30.641Z"
   },
   {
    "duration": 64,
    "start_time": "2023-04-05T17:31:30.662Z"
   },
   {
    "duration": 40,
    "start_time": "2023-04-05T17:31:30.728Z"
   },
   {
    "duration": 56,
    "start_time": "2023-04-05T17:31:30.771Z"
   },
   {
    "duration": 95,
    "start_time": "2023-04-05T17:31:30.830Z"
   },
   {
    "duration": 57,
    "start_time": "2023-04-05T17:31:30.927Z"
   },
   {
    "duration": 111,
    "start_time": "2023-04-05T17:31:30.995Z"
   },
   {
    "duration": 226,
    "start_time": "2023-04-05T17:31:31.108Z"
   },
   {
    "duration": 562,
    "start_time": "2023-04-05T17:31:31.337Z"
   },
   {
    "duration": 58,
    "start_time": "2023-04-05T17:31:31.901Z"
   },
   {
    "duration": 25,
    "start_time": "2023-04-05T17:31:31.961Z"
   },
   {
    "duration": 28,
    "start_time": "2023-04-05T17:31:31.988Z"
   },
   {
    "duration": 61,
    "start_time": "2023-04-05T17:31:32.018Z"
   },
   {
    "duration": 12,
    "start_time": "2023-04-05T17:31:32.083Z"
   },
   {
    "duration": 93,
    "start_time": "2023-04-05T17:31:32.097Z"
   },
   {
    "duration": 24,
    "start_time": "2023-04-05T17:31:32.192Z"
   },
   {
    "duration": 44,
    "start_time": "2023-04-05T17:31:32.218Z"
   },
   {
    "duration": 39,
    "start_time": "2023-04-05T17:31:32.264Z"
   },
   {
    "duration": 324,
    "start_time": "2023-04-05T17:31:32.305Z"
   },
   {
    "duration": 234,
    "start_time": "2023-04-05T17:31:32.631Z"
   },
   {
    "duration": 22,
    "start_time": "2023-04-05T17:31:32.867Z"
   },
   {
    "duration": 56,
    "start_time": "2023-04-05T17:31:32.895Z"
   },
   {
    "duration": 222,
    "start_time": "2023-04-05T17:31:32.953Z"
   },
   {
    "duration": 534,
    "start_time": "2023-04-05T17:31:33.177Z"
   },
   {
    "duration": 14,
    "start_time": "2023-04-05T17:31:33.713Z"
   },
   {
    "duration": 102,
    "start_time": "2023-04-05T17:31:33.729Z"
   },
   {
    "duration": 191,
    "start_time": "2023-04-05T17:31:33.834Z"
   },
   {
    "duration": 552,
    "start_time": "2023-04-05T17:31:34.027Z"
   },
   {
    "duration": 30,
    "start_time": "2023-04-05T17:31:34.584Z"
   },
   {
    "duration": 93,
    "start_time": "2023-04-05T17:31:34.616Z"
   },
   {
    "duration": 44,
    "start_time": "2023-04-05T17:31:34.712Z"
   },
   {
    "duration": 40,
    "start_time": "2023-04-05T17:31:34.758Z"
   },
   {
    "duration": 8,
    "start_time": "2023-04-05T17:31:34.800Z"
   },
   {
    "duration": 37,
    "start_time": "2023-04-05T17:31:34.810Z"
   },
   {
    "duration": 7,
    "start_time": "2023-04-05T17:31:34.849Z"
   },
   {
    "duration": 256,
    "start_time": "2023-04-05T17:31:34.876Z"
   },
   {
    "duration": 42,
    "start_time": "2023-04-05T17:31:35.134Z"
   },
   {
    "duration": 42,
    "start_time": "2023-04-05T17:31:35.182Z"
   },
   {
    "duration": 18,
    "start_time": "2023-04-05T17:31:35.226Z"
   },
   {
    "duration": 82,
    "start_time": "2023-04-05T17:31:35.246Z"
   },
   {
    "duration": 20,
    "start_time": "2023-04-05T17:31:35.330Z"
   },
   {
    "duration": 6,
    "start_time": "2023-04-05T17:31:35.352Z"
   },
   {
    "duration": 8,
    "start_time": "2023-04-05T17:31:35.377Z"
   },
   {
    "duration": 25,
    "start_time": "2023-04-05T17:31:35.389Z"
   },
   {
    "duration": 25,
    "start_time": "2023-04-05T17:31:35.416Z"
   },
   {
    "duration": 3,
    "start_time": "2023-04-05T17:31:35.442Z"
   },
   {
    "duration": 96,
    "start_time": "2023-04-05T17:31:35.447Z"
   },
   {
    "duration": 98574,
    "start_time": "2023-04-05T17:31:35.546Z"
   },
   {
    "duration": 1496,
    "start_time": "2023-04-05T17:33:14.122Z"
   },
   {
    "duration": 639,
    "start_time": "2023-04-05T17:33:15.621Z"
   },
   {
    "duration": 21,
    "start_time": "2023-04-05T17:33:16.261Z"
   },
   {
    "duration": 21627,
    "start_time": "2023-04-05T17:33:16.284Z"
   },
   {
    "duration": 250,
    "start_time": "2023-04-05T17:33:37.913Z"
   },
   {
    "duration": 227,
    "start_time": "2023-04-05T17:33:38.165Z"
   },
   {
    "duration": 23,
    "start_time": "2023-04-05T17:33:38.396Z"
   },
   {
    "duration": 7,
    "start_time": "2023-04-05T17:33:38.421Z"
   },
   {
    "duration": 41475,
    "start_time": "2023-04-05T17:33:38.430Z"
   },
   {
    "duration": 182,
    "start_time": "2023-04-05T17:34:19.906Z"
   },
   {
    "duration": 7,
    "start_time": "2023-04-05T17:34:20.185Z"
   },
   {
    "duration": 90,
    "start_time": "2023-04-05T17:34:20.196Z"
   },
   {
    "duration": 5492,
    "start_time": "2023-04-05T17:34:20.291Z"
   },
   {
    "duration": 110,
    "start_time": "2023-04-05T17:34:25.785Z"
   },
   {
    "duration": 84,
    "start_time": "2023-04-05T17:34:25.897Z"
   },
   {
    "duration": 6149,
    "start_time": "2023-04-05T17:39:20.048Z"
   },
   {
    "duration": 5198,
    "start_time": "2023-04-05T17:39:26.199Z"
   },
   {
    "duration": 1773,
    "start_time": "2023-04-05T17:39:31.399Z"
   },
   {
    "duration": 916,
    "start_time": "2023-04-05T17:39:33.173Z"
   },
   {
    "duration": 26,
    "start_time": "2023-04-05T17:39:34.096Z"
   },
   {
    "duration": 1008,
    "start_time": "2023-04-05T17:39:34.125Z"
   },
   {
    "duration": 189,
    "start_time": "2023-04-05T17:39:35.134Z"
   },
   {
    "duration": 741,
    "start_time": "2023-04-05T17:39:35.325Z"
   },
   {
    "duration": 583,
    "start_time": "2023-04-05T17:39:36.075Z"
   },
   {
    "duration": 169,
    "start_time": "2023-04-05T17:39:36.660Z"
   },
   {
    "duration": 21,
    "start_time": "2023-04-05T17:39:36.831Z"
   },
   {
    "duration": 45,
    "start_time": "2023-04-05T17:39:36.854Z"
   },
   {
    "duration": 1601,
    "start_time": "2023-04-05T17:39:36.900Z"
   },
   {
    "duration": 1758,
    "start_time": "2023-04-05T17:39:38.505Z"
   },
   {
    "duration": 2199,
    "start_time": "2023-04-05T17:39:40.265Z"
   },
   {
    "duration": 30,
    "start_time": "2023-04-05T17:39:42.466Z"
   },
   {
    "duration": 19,
    "start_time": "2023-04-05T17:39:42.498Z"
   },
   {
    "duration": 22,
    "start_time": "2023-04-05T17:39:42.519Z"
   },
   {
    "duration": 10020,
    "start_time": "2023-04-05T17:39:42.543Z"
   },
   {
    "duration": 8184,
    "start_time": "2023-04-05T17:39:52.565Z"
   },
   {
    "duration": 13081,
    "start_time": "2023-04-05T17:40:00.751Z"
   },
   {
    "duration": 17,
    "start_time": "2023-04-05T17:40:13.834Z"
   },
   {
    "duration": 57,
    "start_time": "2023-04-05T17:40:13.853Z"
   },
   {
    "duration": 19,
    "start_time": "2023-04-05T17:40:13.911Z"
   },
   {
    "duration": 19,
    "start_time": "2023-04-05T17:40:13.932Z"
   },
   {
    "duration": 58,
    "start_time": "2023-04-05T17:40:13.953Z"
   },
   {
    "duration": 18,
    "start_time": "2023-04-05T17:40:14.013Z"
   },
   {
    "duration": 133,
    "start_time": "2023-04-05T17:40:14.032Z"
   },
   {
    "duration": 257,
    "start_time": "2023-04-05T17:40:14.167Z"
   },
   {
    "duration": 547,
    "start_time": "2023-04-05T17:40:14.426Z"
   },
   {
    "duration": 65,
    "start_time": "2023-04-05T17:40:14.977Z"
   },
   {
    "duration": 10,
    "start_time": "2023-04-05T17:40:15.044Z"
   },
   {
    "duration": 42,
    "start_time": "2023-04-05T17:40:15.056Z"
   },
   {
    "duration": 43,
    "start_time": "2023-04-05T17:40:15.102Z"
   },
   {
    "duration": 9,
    "start_time": "2023-04-05T17:40:15.147Z"
   },
   {
    "duration": 70,
    "start_time": "2023-04-05T17:40:15.181Z"
   },
   {
    "duration": 42,
    "start_time": "2023-04-05T17:40:15.253Z"
   },
   {
    "duration": 36,
    "start_time": "2023-04-05T17:40:15.297Z"
   },
   {
    "duration": 26,
    "start_time": "2023-04-05T17:40:15.335Z"
   },
   {
    "duration": 290,
    "start_time": "2023-04-05T17:40:15.363Z"
   },
   {
    "duration": 208,
    "start_time": "2023-04-05T17:40:15.658Z"
   },
   {
    "duration": 32,
    "start_time": "2023-04-05T17:40:15.867Z"
   },
   {
    "duration": 55,
    "start_time": "2023-04-05T17:40:15.903Z"
   },
   {
    "duration": 178,
    "start_time": "2023-04-05T17:40:15.959Z"
   },
   {
    "duration": 522,
    "start_time": "2023-04-05T17:40:16.138Z"
   },
   {
    "duration": 32,
    "start_time": "2023-04-05T17:40:16.662Z"
   },
   {
    "duration": 106,
    "start_time": "2023-04-05T17:40:16.697Z"
   },
   {
    "duration": 193,
    "start_time": "2023-04-05T17:40:16.805Z"
   },
   {
    "duration": 485,
    "start_time": "2023-04-05T17:40:17.000Z"
   },
   {
    "duration": 29,
    "start_time": "2023-04-05T17:40:17.489Z"
   },
   {
    "duration": 94,
    "start_time": "2023-04-05T17:40:17.519Z"
   },
   {
    "duration": 38,
    "start_time": "2023-04-05T17:40:17.615Z"
   },
   {
    "duration": 36,
    "start_time": "2023-04-05T17:40:17.655Z"
   },
   {
    "duration": 7,
    "start_time": "2023-04-05T17:40:17.696Z"
   },
   {
    "duration": 30,
    "start_time": "2023-04-05T17:40:17.705Z"
   },
   {
    "duration": 8,
    "start_time": "2023-04-05T17:40:17.737Z"
   },
   {
    "duration": 258,
    "start_time": "2023-04-05T17:40:17.747Z"
   },
   {
    "duration": 30,
    "start_time": "2023-04-05T17:40:18.008Z"
   },
   {
    "duration": 51,
    "start_time": "2023-04-05T17:40:18.041Z"
   },
   {
    "duration": 19,
    "start_time": "2023-04-05T17:40:18.093Z"
   },
   {
    "duration": 107,
    "start_time": "2023-04-05T17:40:18.113Z"
   },
   {
    "duration": 27,
    "start_time": "2023-04-05T17:40:18.222Z"
   },
   {
    "duration": 7,
    "start_time": "2023-04-05T17:40:18.258Z"
   },
   {
    "duration": 13,
    "start_time": "2023-04-05T17:40:18.267Z"
   },
   {
    "duration": 40,
    "start_time": "2023-04-05T17:40:18.285Z"
   },
   {
    "duration": 32,
    "start_time": "2023-04-05T17:40:18.329Z"
   },
   {
    "duration": 4,
    "start_time": "2023-04-05T17:40:18.363Z"
   },
   {
    "duration": 78,
    "start_time": "2023-04-05T17:40:18.369Z"
   },
   {
    "duration": 63406,
    "start_time": "2023-04-05T17:40:18.449Z"
   },
   {
    "duration": 1314,
    "start_time": "2023-04-05T17:41:21.857Z"
   },
   {
    "duration": 488,
    "start_time": "2023-04-05T17:41:23.175Z"
   },
   {
    "duration": 24,
    "start_time": "2023-04-05T17:41:23.665Z"
   },
   {
    "duration": 20633,
    "start_time": "2023-04-05T17:41:23.691Z"
   },
   {
    "duration": 244,
    "start_time": "2023-04-05T17:41:44.326Z"
   },
   {
    "duration": 227,
    "start_time": "2023-04-05T17:41:44.575Z"
   },
   {
    "duration": 18,
    "start_time": "2023-04-05T17:41:44.804Z"
   },
   {
    "duration": 10,
    "start_time": "2023-04-05T17:41:44.824Z"
   },
   {
    "duration": 52272,
    "start_time": "2023-04-05T17:41:44.836Z"
   },
   {
    "duration": 179,
    "start_time": "2023-04-05T17:42:37.110Z"
   },
   {
    "duration": 8,
    "start_time": "2023-04-05T17:42:37.291Z"
   },
   {
    "duration": 7,
    "start_time": "2023-04-05T17:42:37.381Z"
   },
   {
    "duration": 6097,
    "start_time": "2023-04-05T17:42:37.393Z"
   },
   {
    "duration": 111,
    "start_time": "2023-04-05T17:42:43.492Z"
   },
   {
    "duration": 76,
    "start_time": "2023-04-05T17:42:43.605Z"
   },
   {
    "duration": 9672,
    "start_time": "2023-04-06T07:56:15.650Z"
   },
   {
    "duration": 8213,
    "start_time": "2023-04-06T07:56:25.325Z"
   },
   {
    "duration": 2028,
    "start_time": "2023-04-06T07:56:33.540Z"
   },
   {
    "duration": 1918,
    "start_time": "2023-04-06T07:56:35.575Z"
   },
   {
    "duration": 25,
    "start_time": "2023-04-06T07:56:37.495Z"
   },
   {
    "duration": 1265,
    "start_time": "2023-04-06T07:56:37.522Z"
   },
   {
    "duration": 256,
    "start_time": "2023-04-06T07:56:38.790Z"
   },
   {
    "duration": 677,
    "start_time": "2023-04-06T07:56:39.049Z"
   },
   {
    "duration": 781,
    "start_time": "2023-04-06T07:56:39.728Z"
   },
   {
    "duration": 338,
    "start_time": "2023-04-06T07:56:40.513Z"
   },
   {
    "duration": 51,
    "start_time": "2023-04-06T07:56:40.861Z"
   },
   {
    "duration": 66,
    "start_time": "2023-04-06T07:56:40.914Z"
   },
   {
    "duration": 2555,
    "start_time": "2023-04-06T07:56:40.981Z"
   },
   {
    "duration": 2762,
    "start_time": "2023-04-06T07:56:43.543Z"
   },
   {
    "duration": 2961,
    "start_time": "2023-04-06T07:56:46.307Z"
   },
   {
    "duration": 47,
    "start_time": "2023-04-06T07:56:49.272Z"
   },
   {
    "duration": 78,
    "start_time": "2023-04-06T07:56:49.322Z"
   },
   {
    "duration": 50,
    "start_time": "2023-04-06T07:56:49.402Z"
   },
   {
    "duration": 13349,
    "start_time": "2023-04-06T07:56:49.454Z"
   },
   {
    "duration": 10103,
    "start_time": "2023-04-06T07:57:02.805Z"
   },
   {
    "duration": 19130,
    "start_time": "2023-04-06T07:57:12.910Z"
   },
   {
    "duration": 62,
    "start_time": "2023-04-06T07:57:32.042Z"
   },
   {
    "duration": 59,
    "start_time": "2023-04-06T07:57:32.109Z"
   },
   {
    "duration": 57,
    "start_time": "2023-04-06T07:57:32.176Z"
   },
   {
    "duration": 60,
    "start_time": "2023-04-06T07:57:32.235Z"
   },
   {
    "duration": 94,
    "start_time": "2023-04-06T07:57:32.299Z"
   },
   {
    "duration": 38,
    "start_time": "2023-04-06T07:57:32.395Z"
   },
   {
    "duration": 144,
    "start_time": "2023-04-06T07:57:32.441Z"
   },
   {
    "duration": 378,
    "start_time": "2023-04-06T07:57:32.587Z"
   },
   {
    "duration": 526,
    "start_time": "2023-04-06T07:57:32.968Z"
   },
   {
    "duration": 75,
    "start_time": "2023-04-06T07:57:33.496Z"
   },
   {
    "duration": 10,
    "start_time": "2023-04-06T07:57:33.577Z"
   },
   {
    "duration": 21,
    "start_time": "2023-04-06T07:57:33.588Z"
   },
   {
    "duration": 50,
    "start_time": "2023-04-06T07:57:33.611Z"
   },
   {
    "duration": 11,
    "start_time": "2023-04-06T07:57:33.663Z"
   },
   {
    "duration": 63,
    "start_time": "2023-04-06T07:57:33.677Z"
   },
   {
    "duration": 21,
    "start_time": "2023-04-06T07:57:33.742Z"
   },
   {
    "duration": 36,
    "start_time": "2023-04-06T07:57:33.765Z"
   },
   {
    "duration": 72,
    "start_time": "2023-04-06T07:57:33.803Z"
   },
   {
    "duration": 280,
    "start_time": "2023-04-06T07:57:33.881Z"
   },
   {
    "duration": 250,
    "start_time": "2023-04-06T07:57:34.165Z"
   },
   {
    "duration": 32,
    "start_time": "2023-04-06T07:57:34.417Z"
   },
   {
    "duration": 71,
    "start_time": "2023-04-06T07:57:34.465Z"
   },
   {
    "duration": 243,
    "start_time": "2023-04-06T07:57:34.548Z"
   },
   {
    "duration": 581,
    "start_time": "2023-04-06T07:57:34.796Z"
   },
   {
    "duration": 28,
    "start_time": "2023-04-06T07:57:35.379Z"
   },
   {
    "duration": 106,
    "start_time": "2023-04-06T07:57:35.413Z"
   },
   {
    "duration": 248,
    "start_time": "2023-04-06T07:57:35.524Z"
   },
   {
    "duration": 590,
    "start_time": "2023-04-06T07:57:35.778Z"
   },
   {
    "duration": 41,
    "start_time": "2023-04-06T07:57:36.370Z"
   },
   {
    "duration": 110,
    "start_time": "2023-04-06T07:57:36.413Z"
   },
   {
    "duration": 76,
    "start_time": "2023-04-06T07:57:36.525Z"
   },
   {
    "duration": 16,
    "start_time": "2023-04-06T07:57:36.603Z"
   },
   {
    "duration": 8,
    "start_time": "2023-04-06T07:57:36.621Z"
   },
   {
    "duration": 47,
    "start_time": "2023-04-06T07:57:36.631Z"
   },
   {
    "duration": 9,
    "start_time": "2023-04-06T07:57:36.679Z"
   },
   {
    "duration": 239,
    "start_time": "2023-04-06T07:57:36.690Z"
   },
   {
    "duration": 38,
    "start_time": "2023-04-06T07:57:36.931Z"
   },
   {
    "duration": 43,
    "start_time": "2023-04-06T07:57:36.970Z"
   },
   {
    "duration": 17,
    "start_time": "2023-04-06T07:57:37.014Z"
   },
   {
    "duration": 104,
    "start_time": "2023-04-06T07:57:37.033Z"
   },
   {
    "duration": 35,
    "start_time": "2023-04-06T07:57:37.139Z"
   },
   {
    "duration": 7,
    "start_time": "2023-04-06T07:57:37.181Z"
   },
   {
    "duration": 5,
    "start_time": "2023-04-06T07:57:37.197Z"
   },
   {
    "duration": 62,
    "start_time": "2023-04-06T07:57:37.205Z"
   },
   {
    "duration": 47,
    "start_time": "2023-04-06T07:57:37.276Z"
   },
   {
    "duration": 4,
    "start_time": "2023-04-06T07:57:37.325Z"
   },
   {
    "duration": 106,
    "start_time": "2023-04-06T07:57:37.331Z"
   },
   {
    "duration": 60995,
    "start_time": "2023-04-06T07:57:37.440Z"
   },
   {
    "duration": 567,
    "start_time": "2023-04-06T07:58:38.438Z"
   },
   {
    "duration": 533,
    "start_time": "2023-04-06T07:58:39.007Z"
   },
   {
    "duration": 27,
    "start_time": "2023-04-06T07:58:39.542Z"
   },
   {
    "duration": 20748,
    "start_time": "2023-04-06T07:58:39.571Z"
   },
   {
    "duration": 253,
    "start_time": "2023-04-06T07:59:00.323Z"
   },
   {
    "duration": 193,
    "start_time": "2023-04-06T07:59:00.583Z"
   },
   {
    "duration": 18,
    "start_time": "2023-04-06T07:59:00.778Z"
   },
   {
    "duration": 71,
    "start_time": "2023-04-06T07:59:00.798Z"
   },
   {
    "duration": 71688,
    "start_time": "2023-04-06T07:59:00.872Z"
   },
   {
    "duration": 187,
    "start_time": "2023-04-06T08:00:12.566Z"
   },
   {
    "duration": 14,
    "start_time": "2023-04-06T08:00:12.760Z"
   },
   {
    "duration": 11,
    "start_time": "2023-04-06T08:00:12.785Z"
   },
   {
    "duration": 6840,
    "start_time": "2023-04-06T08:00:12.848Z"
   },
   {
    "duration": 352,
    "start_time": "2023-04-06T08:00:19.700Z"
   },
   {
    "duration": 69,
    "start_time": "2023-04-06T08:00:20.103Z"
   },
   {
    "duration": 226,
    "start_time": "2023-04-06T11:19:57.615Z"
   },
   {
    "duration": 480818,
    "start_time": "2023-04-06T11:20:07.491Z"
   },
   {
    "duration": 6825,
    "start_time": "2023-04-06T11:28:18.069Z"
   },
   {
    "duration": 6536,
    "start_time": "2023-04-06T11:28:24.896Z"
   },
   {
    "duration": 1521,
    "start_time": "2023-04-06T11:28:31.435Z"
   },
   {
    "duration": 1032,
    "start_time": "2023-04-06T11:28:32.958Z"
   },
   {
    "duration": 22,
    "start_time": "2023-04-06T11:28:33.992Z"
   },
   {
    "duration": 934,
    "start_time": "2023-04-06T11:28:34.016Z"
   },
   {
    "duration": 199,
    "start_time": "2023-04-06T11:28:34.952Z"
   },
   {
    "duration": 710,
    "start_time": "2023-04-06T11:28:35.153Z"
   },
   {
    "duration": 634,
    "start_time": "2023-04-06T11:28:35.869Z"
   },
   {
    "duration": 253,
    "start_time": "2023-04-06T11:28:36.508Z"
   },
   {
    "duration": 51,
    "start_time": "2023-04-06T11:28:36.763Z"
   },
   {
    "duration": 40,
    "start_time": "2023-04-06T11:28:36.816Z"
   },
   {
    "duration": 2663,
    "start_time": "2023-04-06T11:28:36.858Z"
   },
   {
    "duration": 2383,
    "start_time": "2023-04-06T11:28:39.523Z"
   },
   {
    "duration": 3407,
    "start_time": "2023-04-06T11:28:41.909Z"
   },
   {
    "duration": 20,
    "start_time": "2023-04-06T11:28:45.318Z"
   },
   {
    "duration": 39,
    "start_time": "2023-04-06T11:28:45.340Z"
   },
   {
    "duration": 33,
    "start_time": "2023-04-06T11:28:45.381Z"
   },
   {
    "duration": 14214,
    "start_time": "2023-04-06T11:28:45.415Z"
   },
   {
    "duration": 12214,
    "start_time": "2023-04-06T11:28:59.631Z"
   },
   {
    "duration": 20150,
    "start_time": "2023-04-06T11:29:11.848Z"
   },
   {
    "duration": 33,
    "start_time": "2023-04-06T11:29:32.001Z"
   },
   {
    "duration": 106,
    "start_time": "2023-04-06T11:29:32.036Z"
   },
   {
    "duration": 53,
    "start_time": "2023-04-06T11:29:32.144Z"
   },
   {
    "duration": 24,
    "start_time": "2023-04-06T11:29:32.199Z"
   },
   {
    "duration": 98,
    "start_time": "2023-04-06T11:29:32.226Z"
   },
   {
    "duration": 23,
    "start_time": "2023-04-06T11:29:32.327Z"
   },
   {
    "duration": 160,
    "start_time": "2023-04-06T11:29:32.356Z"
   },
   {
    "duration": 281,
    "start_time": "2023-04-06T11:29:32.517Z"
   },
   {
    "duration": 586,
    "start_time": "2023-04-06T11:29:32.801Z"
   },
   {
    "duration": 64,
    "start_time": "2023-04-06T11:29:33.389Z"
   },
   {
    "duration": 13,
    "start_time": "2023-04-06T11:29:33.455Z"
   },
   {
    "duration": 35,
    "start_time": "2023-04-06T11:29:33.470Z"
   },
   {
    "duration": 52,
    "start_time": "2023-04-06T11:29:33.509Z"
   },
   {
    "duration": 20,
    "start_time": "2023-04-06T11:29:33.565Z"
   },
   {
    "duration": 86,
    "start_time": "2023-04-06T11:29:33.587Z"
   },
   {
    "duration": 32,
    "start_time": "2023-04-06T11:29:33.674Z"
   },
   {
    "duration": 29,
    "start_time": "2023-04-06T11:29:33.708Z"
   },
   {
    "duration": 28,
    "start_time": "2023-04-06T11:29:33.739Z"
   },
   {
    "duration": 287,
    "start_time": "2023-04-06T11:29:33.769Z"
   },
   {
    "duration": 253,
    "start_time": "2023-04-06T11:29:34.059Z"
   },
   {
    "duration": 15,
    "start_time": "2023-04-06T11:29:34.314Z"
   },
   {
    "duration": 72,
    "start_time": "2023-04-06T11:29:34.331Z"
   },
   {
    "duration": 179,
    "start_time": "2023-04-06T11:29:34.407Z"
   },
   {
    "duration": 492,
    "start_time": "2023-04-06T11:29:34.588Z"
   },
   {
    "duration": 24,
    "start_time": "2023-04-06T11:29:35.082Z"
   },
   {
    "duration": 95,
    "start_time": "2023-04-06T11:29:35.111Z"
   },
   {
    "duration": 229,
    "start_time": "2023-04-06T11:29:35.210Z"
   },
   {
    "duration": 532,
    "start_time": "2023-04-06T11:29:35.453Z"
   },
   {
    "duration": 41,
    "start_time": "2023-04-06T11:29:35.986Z"
   },
   {
    "duration": 123,
    "start_time": "2023-04-06T11:29:36.029Z"
   },
   {
    "duration": 61,
    "start_time": "2023-04-06T11:29:36.155Z"
   },
   {
    "duration": 15,
    "start_time": "2023-04-06T11:29:36.217Z"
   },
   {
    "duration": 7,
    "start_time": "2023-04-06T11:29:36.233Z"
   },
   {
    "duration": 55,
    "start_time": "2023-04-06T11:29:36.242Z"
   },
   {
    "duration": 8,
    "start_time": "2023-04-06T11:29:36.305Z"
   },
   {
    "duration": 300,
    "start_time": "2023-04-06T11:29:36.317Z"
   },
   {
    "duration": 28,
    "start_time": "2023-04-06T11:29:36.620Z"
   },
   {
    "duration": 75,
    "start_time": "2023-04-06T11:29:36.649Z"
   },
   {
    "duration": 21,
    "start_time": "2023-04-06T11:29:36.728Z"
   },
   {
    "duration": 98,
    "start_time": "2023-04-06T11:29:36.751Z"
   },
   {
    "duration": 23,
    "start_time": "2023-04-06T11:29:36.851Z"
   },
   {
    "duration": 4,
    "start_time": "2023-04-06T11:29:36.879Z"
   },
   {
    "duration": 10,
    "start_time": "2023-04-06T11:29:36.885Z"
   },
   {
    "duration": 31,
    "start_time": "2023-04-06T11:29:36.902Z"
   },
   {
    "duration": 56,
    "start_time": "2023-04-06T11:29:36.935Z"
   },
   {
    "duration": 14,
    "start_time": "2023-04-06T11:29:36.992Z"
   },
   {
    "duration": 96,
    "start_time": "2023-04-06T11:29:37.011Z"
   },
   {
    "duration": 70192,
    "start_time": "2023-04-06T11:29:37.109Z"
   },
   {
    "duration": 582,
    "start_time": "2023-04-06T11:30:47.303Z"
   },
   {
    "duration": 544,
    "start_time": "2023-04-06T11:30:47.887Z"
   },
   {
    "duration": 25,
    "start_time": "2023-04-06T11:30:48.433Z"
   },
   {
    "duration": 24847,
    "start_time": "2023-04-06T11:30:48.460Z"
   },
   {
    "duration": 259,
    "start_time": "2023-04-06T11:31:13.312Z"
   },
   {
    "duration": 216,
    "start_time": "2023-04-06T11:31:13.579Z"
   },
   {
    "duration": 25,
    "start_time": "2023-04-06T11:31:13.797Z"
   },
   {
    "duration": 4,
    "start_time": "2023-04-06T11:31:13.825Z"
   },
   {
    "duration": 38398,
    "start_time": "2023-04-06T11:31:13.831Z"
   },
   {
    "duration": 228,
    "start_time": "2023-04-06T11:31:52.234Z"
   },
   {
    "duration": 35,
    "start_time": "2023-04-06T11:31:52.475Z"
   },
   {
    "duration": 26,
    "start_time": "2023-04-06T11:31:52.529Z"
   },
   {
    "duration": 5028,
    "start_time": "2023-04-06T11:31:52.587Z"
   },
   {
    "duration": 288,
    "start_time": "2023-04-06T11:31:57.628Z"
   },
   {
    "duration": 29,
    "start_time": "2023-04-06T11:31:57.927Z"
   },
   {
    "duration": 494945,
    "start_time": "2023-04-06T11:31:57.973Z"
   },
   {
    "duration": 2914,
    "start_time": "2023-04-06T11:51:51.186Z"
   },
   {
    "duration": 2840,
    "start_time": "2023-04-06T11:52:33.775Z"
   },
   {
    "duration": 9318,
    "start_time": "2023-04-06T11:53:21.087Z"
   },
   {
    "duration": 8438,
    "start_time": "2023-04-06T11:53:30.407Z"
   },
   {
    "duration": 25,
    "start_time": "2023-04-06T11:53:38.855Z"
   },
   {
    "duration": 1394,
    "start_time": "2023-04-06T11:53:38.895Z"
   },
   {
    "duration": 23,
    "start_time": "2023-04-06T11:53:40.293Z"
   },
   {
    "duration": 1416,
    "start_time": "2023-04-06T11:53:40.320Z"
   },
   {
    "duration": 245,
    "start_time": "2023-04-06T11:53:41.742Z"
   },
   {
    "duration": 647,
    "start_time": "2023-04-06T11:53:41.993Z"
   },
   {
    "duration": 765,
    "start_time": "2023-04-06T11:53:42.645Z"
   },
   {
    "duration": 203,
    "start_time": "2023-04-06T11:53:43.419Z"
   },
   {
    "duration": 41,
    "start_time": "2023-04-06T11:53:43.627Z"
   },
   {
    "duration": 2301,
    "start_time": "2023-04-06T11:53:43.673Z"
   },
   {
    "duration": 3284,
    "start_time": "2023-04-06T11:53:50.690Z"
   },
   {
    "duration": 196,
    "start_time": "2023-04-06T11:57:43.975Z"
   },
   {
    "duration": 8287,
    "start_time": "2023-04-06T12:15:03.870Z"
   },
   {
    "duration": 7584,
    "start_time": "2023-04-06T12:15:12.159Z"
   },
   {
    "duration": 33,
    "start_time": "2023-04-06T12:15:19.745Z"
   },
   {
    "duration": 1580,
    "start_time": "2023-04-06T12:15:19.781Z"
   },
   {
    "duration": 50,
    "start_time": "2023-04-06T12:15:21.366Z"
   },
   {
    "duration": 1830,
    "start_time": "2023-04-06T12:15:21.423Z"
   },
   {
    "duration": 322,
    "start_time": "2023-04-06T12:15:23.259Z"
   },
   {
    "duration": 851,
    "start_time": "2023-04-06T12:15:23.584Z"
   },
   {
    "duration": 891,
    "start_time": "2023-04-06T12:15:24.438Z"
   },
   {
    "duration": 272,
    "start_time": "2023-04-06T12:15:25.335Z"
   },
   {
    "duration": 48,
    "start_time": "2023-04-06T12:15:25.614Z"
   },
   {
    "duration": 2984,
    "start_time": "2023-04-06T12:15:25.665Z"
   },
   {
    "duration": 3209,
    "start_time": "2023-04-06T12:15:28.656Z"
   },
   {
    "duration": 4307,
    "start_time": "2023-04-06T12:15:31.875Z"
   },
   {
    "duration": 67,
    "start_time": "2023-04-06T12:15:36.193Z"
   },
   {
    "duration": 48,
    "start_time": "2023-04-06T12:15:36.270Z"
   },
   {
    "duration": 49,
    "start_time": "2023-04-06T12:15:36.325Z"
   },
   {
    "duration": 14017,
    "start_time": "2023-04-06T12:15:36.379Z"
   },
   {
    "duration": 13768,
    "start_time": "2023-04-06T12:15:50.403Z"
   },
   {
    "duration": 23843,
    "start_time": "2023-04-06T12:16:04.181Z"
   },
   {
    "duration": 51,
    "start_time": "2023-04-06T12:16:28.031Z"
   },
   {
    "duration": 72,
    "start_time": "2023-04-06T12:16:28.084Z"
   },
   {
    "duration": 38,
    "start_time": "2023-04-06T12:16:28.161Z"
   },
   {
    "duration": 60,
    "start_time": "2023-04-06T12:16:28.205Z"
   },
   {
    "duration": 110,
    "start_time": "2023-04-06T12:16:28.280Z"
   },
   {
    "duration": 75,
    "start_time": "2023-04-06T12:16:28.393Z"
   },
   {
    "duration": 193,
    "start_time": "2023-04-06T12:16:28.475Z"
   },
   {
    "duration": 327,
    "start_time": "2023-04-06T12:16:28.677Z"
   },
   {
    "duration": 134,
    "start_time": "2023-04-06T12:16:36.235Z"
   },
   {
    "duration": 188,
    "start_time": "2023-04-06T12:17:10.470Z"
   },
   {
    "duration": 24,
    "start_time": "2023-04-06T12:17:20.273Z"
   },
   {
    "duration": 18015,
    "start_time": "2023-04-06T12:21:05.617Z"
   },
   {
    "duration": 16,
    "start_time": "2023-04-06T12:21:26.860Z"
   },
   {
    "duration": 10057,
    "start_time": "2023-04-06T12:22:27.867Z"
   },
   {
    "duration": 9145,
    "start_time": "2023-04-06T12:22:37.927Z"
   },
   {
    "duration": 2176,
    "start_time": "2023-04-06T12:22:47.077Z"
   },
   {
    "duration": 1951,
    "start_time": "2023-04-06T12:22:49.256Z"
   },
   {
    "duration": 49,
    "start_time": "2023-04-06T12:22:51.211Z"
   },
   {
    "duration": 1858,
    "start_time": "2023-04-06T12:22:51.274Z"
   },
   {
    "duration": 278,
    "start_time": "2023-04-06T12:22:53.144Z"
   },
   {
    "duration": 1210,
    "start_time": "2023-04-06T12:22:53.440Z"
   },
   {
    "duration": 909,
    "start_time": "2023-04-06T12:22:54.655Z"
   },
   {
    "duration": 384,
    "start_time": "2023-04-06T12:22:55.568Z"
   },
   {
    "duration": 94,
    "start_time": "2023-04-06T12:22:55.966Z"
   },
   {
    "duration": 3634,
    "start_time": "2023-04-06T12:22:56.070Z"
   },
   {
    "duration": 4023,
    "start_time": "2023-04-06T12:22:59.707Z"
   },
   {
    "duration": 5520,
    "start_time": "2023-04-06T12:23:03.738Z"
   },
   {
    "duration": 62,
    "start_time": "2023-04-06T12:23:09.263Z"
   },
   {
    "duration": 70,
    "start_time": "2023-04-06T12:23:09.331Z"
   },
   {
    "duration": 70,
    "start_time": "2023-04-06T12:23:09.406Z"
   },
   {
    "duration": 277,
    "start_time": "2023-04-06T12:23:09.481Z"
   },
   {
    "duration": 0,
    "start_time": "2023-04-06T12:23:09.767Z"
   },
   {
    "duration": 0,
    "start_time": "2023-04-06T12:23:09.773Z"
   },
   {
    "duration": 0,
    "start_time": "2023-04-06T12:23:09.777Z"
   },
   {
    "duration": 0,
    "start_time": "2023-04-06T12:23:09.782Z"
   },
   {
    "duration": 0,
    "start_time": "2023-04-06T12:23:09.787Z"
   },
   {
    "duration": 0,
    "start_time": "2023-04-06T12:23:09.791Z"
   },
   {
    "duration": 0,
    "start_time": "2023-04-06T12:23:09.798Z"
   },
   {
    "duration": 0,
    "start_time": "2023-04-06T12:23:09.803Z"
   },
   {
    "duration": 0,
    "start_time": "2023-04-06T12:23:09.811Z"
   },
   {
    "duration": 0,
    "start_time": "2023-04-06T12:23:09.813Z"
   },
   {
    "duration": 0,
    "start_time": "2023-04-06T12:23:09.814Z"
   },
   {
    "duration": 0,
    "start_time": "2023-04-06T12:23:09.821Z"
   },
   {
    "duration": 0,
    "start_time": "2023-04-06T12:23:09.824Z"
   },
   {
    "duration": 0,
    "start_time": "2023-04-06T12:23:09.825Z"
   },
   {
    "duration": 1,
    "start_time": "2023-04-06T12:23:09.832Z"
   },
   {
    "duration": 0,
    "start_time": "2023-04-06T12:23:09.834Z"
   },
   {
    "duration": 0,
    "start_time": "2023-04-06T12:23:09.845Z"
   },
   {
    "duration": 0,
    "start_time": "2023-04-06T12:23:09.846Z"
   },
   {
    "duration": 0,
    "start_time": "2023-04-06T12:23:09.847Z"
   },
   {
    "duration": 0,
    "start_time": "2023-04-06T12:23:09.853Z"
   },
   {
    "duration": 0,
    "start_time": "2023-04-06T12:23:09.854Z"
   },
   {
    "duration": 0,
    "start_time": "2023-04-06T12:23:09.855Z"
   },
   {
    "duration": 0,
    "start_time": "2023-04-06T12:23:09.868Z"
   },
   {
    "duration": 0,
    "start_time": "2023-04-06T12:23:09.870Z"
   },
   {
    "duration": 0,
    "start_time": "2023-04-06T12:23:09.871Z"
   },
   {
    "duration": 0,
    "start_time": "2023-04-06T12:23:09.872Z"
   },
   {
    "duration": 0,
    "start_time": "2023-04-06T12:23:09.874Z"
   },
   {
    "duration": 0,
    "start_time": "2023-04-06T12:23:09.875Z"
   },
   {
    "duration": 0,
    "start_time": "2023-04-06T12:23:09.876Z"
   },
   {
    "duration": 0,
    "start_time": "2023-04-06T12:23:09.877Z"
   },
   {
    "duration": 0,
    "start_time": "2023-04-06T12:23:09.884Z"
   },
   {
    "duration": 0,
    "start_time": "2023-04-06T12:23:09.885Z"
   },
   {
    "duration": 0,
    "start_time": "2023-04-06T12:23:09.891Z"
   },
   {
    "duration": 0,
    "start_time": "2023-04-06T12:23:09.907Z"
   },
   {
    "duration": 0,
    "start_time": "2023-04-06T12:23:09.909Z"
   },
   {
    "duration": 0,
    "start_time": "2023-04-06T12:23:09.911Z"
   },
   {
    "duration": 0,
    "start_time": "2023-04-06T12:23:09.912Z"
   },
   {
    "duration": 0,
    "start_time": "2023-04-06T12:23:09.913Z"
   },
   {
    "duration": 0,
    "start_time": "2023-04-06T12:23:09.914Z"
   },
   {
    "duration": 0,
    "start_time": "2023-04-06T12:23:09.915Z"
   },
   {
    "duration": 0,
    "start_time": "2023-04-06T12:23:09.921Z"
   },
   {
    "duration": 0,
    "start_time": "2023-04-06T12:23:09.922Z"
   },
   {
    "duration": 0,
    "start_time": "2023-04-06T12:23:09.923Z"
   },
   {
    "duration": 1,
    "start_time": "2023-04-06T12:23:09.924Z"
   },
   {
    "duration": 0,
    "start_time": "2023-04-06T12:23:09.926Z"
   },
   {
    "duration": 0,
    "start_time": "2023-04-06T12:23:09.932Z"
   },
   {
    "duration": 0,
    "start_time": "2023-04-06T12:23:09.944Z"
   },
   {
    "duration": 0,
    "start_time": "2023-04-06T12:23:09.945Z"
   },
   {
    "duration": 0,
    "start_time": "2023-04-06T12:23:09.946Z"
   },
   {
    "duration": 0,
    "start_time": "2023-04-06T12:23:09.948Z"
   },
   {
    "duration": 0,
    "start_time": "2023-04-06T12:23:09.949Z"
   },
   {
    "duration": 0,
    "start_time": "2023-04-06T12:23:09.950Z"
   },
   {
    "duration": 0,
    "start_time": "2023-04-06T12:23:09.951Z"
   },
   {
    "duration": 0,
    "start_time": "2023-04-06T12:23:09.961Z"
   },
   {
    "duration": 0,
    "start_time": "2023-04-06T12:23:09.977Z"
   },
   {
    "duration": 0,
    "start_time": "2023-04-06T12:23:09.978Z"
   },
   {
    "duration": 0,
    "start_time": "2023-04-06T12:23:09.979Z"
   },
   {
    "duration": 1,
    "start_time": "2023-04-06T12:23:09.980Z"
   },
   {
    "duration": 0,
    "start_time": "2023-04-06T12:23:09.982Z"
   },
   {
    "duration": 0,
    "start_time": "2023-04-06T12:23:09.983Z"
   },
   {
    "duration": 0,
    "start_time": "2023-04-06T12:23:09.988Z"
   },
   {
    "duration": 0,
    "start_time": "2023-04-06T12:23:09.989Z"
   },
   {
    "duration": 0,
    "start_time": "2023-04-06T12:23:10.005Z"
   },
   {
    "duration": 0,
    "start_time": "2023-04-06T12:23:10.006Z"
   },
   {
    "duration": 0,
    "start_time": "2023-04-06T12:23:10.007Z"
   },
   {
    "duration": 0,
    "start_time": "2023-04-06T12:23:10.012Z"
   },
   {
    "duration": 0,
    "start_time": "2023-04-06T12:23:10.013Z"
   },
   {
    "duration": 16972,
    "start_time": "2023-04-06T12:25:33.621Z"
   },
   {
    "duration": 16404,
    "start_time": "2023-04-06T12:25:57.768Z"
   },
   {
    "duration": 17278,
    "start_time": "2023-04-06T12:26:14.181Z"
   },
   {
    "duration": 27266,
    "start_time": "2023-04-06T12:26:31.466Z"
   },
   {
    "duration": 57,
    "start_time": "2023-04-06T12:26:58.734Z"
   },
   {
    "duration": 81,
    "start_time": "2023-04-06T12:26:58.797Z"
   },
   {
    "duration": 56,
    "start_time": "2023-04-06T12:26:58.886Z"
   },
   {
    "duration": 52,
    "start_time": "2023-04-06T12:26:58.944Z"
   },
   {
    "duration": 96,
    "start_time": "2023-04-06T12:26:58.998Z"
   },
   {
    "duration": 75,
    "start_time": "2023-04-06T12:26:59.097Z"
   },
   {
    "duration": 187,
    "start_time": "2023-04-06T12:26:59.174Z"
   },
   {
    "duration": 313,
    "start_time": "2023-04-06T12:26:59.363Z"
   },
   {
    "duration": 708,
    "start_time": "2023-04-06T12:26:59.679Z"
   },
   {
    "duration": 42,
    "start_time": "2023-04-06T12:27:00.389Z"
   },
   {
    "duration": 18600,
    "start_time": "2023-04-06T12:27:00.436Z"
   },
   {
    "duration": 28,
    "start_time": "2023-04-06T12:27:19.048Z"
   },
   {
    "duration": 56,
    "start_time": "2023-04-06T12:27:19.079Z"
   },
   {
    "duration": 144,
    "start_time": "2023-04-06T12:27:19.152Z"
   },
   {
    "duration": 20,
    "start_time": "2023-04-06T12:27:19.309Z"
   },
   {
    "duration": 111,
    "start_time": "2023-04-06T12:27:19.344Z"
   },
   {
    "duration": 36,
    "start_time": "2023-04-06T12:27:19.459Z"
   },
   {
    "duration": 55,
    "start_time": "2023-04-06T12:27:19.499Z"
   },
   {
    "duration": 26,
    "start_time": "2023-04-06T12:27:19.558Z"
   },
   {
    "duration": 408,
    "start_time": "2023-04-06T12:27:19.586Z"
   },
   {
    "duration": 297,
    "start_time": "2023-04-06T12:27:20.000Z"
   },
   {
    "duration": 38,
    "start_time": "2023-04-06T12:27:20.304Z"
   },
   {
    "duration": 67,
    "start_time": "2023-04-06T12:27:20.349Z"
   },
   {
    "duration": 269,
    "start_time": "2023-04-06T12:27:20.423Z"
   },
   {
    "duration": 745,
    "start_time": "2023-04-06T12:27:20.698Z"
   },
   {
    "duration": 40,
    "start_time": "2023-04-06T12:27:21.449Z"
   },
   {
    "duration": 142,
    "start_time": "2023-04-06T12:27:21.501Z"
   },
   {
    "duration": 298,
    "start_time": "2023-04-06T12:27:21.650Z"
   },
   {
    "duration": 597,
    "start_time": "2023-04-06T12:27:21.954Z"
   },
   {
    "duration": 52,
    "start_time": "2023-04-06T12:27:22.558Z"
   },
   {
    "duration": 101,
    "start_time": "2023-04-06T12:27:22.616Z"
   },
   {
    "duration": 55,
    "start_time": "2023-04-06T12:27:22.723Z"
   },
   {
    "duration": 25,
    "start_time": "2023-04-06T12:27:22.783Z"
   },
   {
    "duration": 19,
    "start_time": "2023-04-06T12:27:22.814Z"
   },
   {
    "duration": 47,
    "start_time": "2023-04-06T12:27:22.839Z"
   },
   {
    "duration": 10,
    "start_time": "2023-04-06T12:27:22.892Z"
   },
   {
    "duration": 285,
    "start_time": "2023-04-06T12:27:22.908Z"
   },
   {
    "duration": 32,
    "start_time": "2023-04-06T12:27:23.198Z"
   },
   {
    "duration": 62,
    "start_time": "2023-04-06T12:27:23.231Z"
   },
   {
    "duration": 27,
    "start_time": "2023-04-06T12:27:23.295Z"
   },
   {
    "duration": 113,
    "start_time": "2023-04-06T12:27:23.326Z"
   },
   {
    "duration": 33,
    "start_time": "2023-04-06T12:27:23.441Z"
   },
   {
    "duration": 18,
    "start_time": "2023-04-06T12:27:23.476Z"
   },
   {
    "duration": 24,
    "start_time": "2023-04-06T12:27:23.498Z"
   },
   {
    "duration": 67,
    "start_time": "2023-04-06T12:27:23.524Z"
   },
   {
    "duration": 34,
    "start_time": "2023-04-06T12:27:23.601Z"
   },
   {
    "duration": 5,
    "start_time": "2023-04-06T12:27:23.642Z"
   },
   {
    "duration": 96,
    "start_time": "2023-04-06T12:27:23.654Z"
   },
   {
    "duration": 72109,
    "start_time": "2023-04-06T12:27:23.756Z"
   },
   {
    "duration": 710,
    "start_time": "2023-04-06T12:28:35.873Z"
   },
   {
    "duration": 566,
    "start_time": "2023-04-06T12:28:36.585Z"
   },
   {
    "duration": 21,
    "start_time": "2023-04-06T12:28:37.153Z"
   },
   {
    "duration": 24248,
    "start_time": "2023-04-06T12:28:37.176Z"
   },
   {
    "duration": 305,
    "start_time": "2023-04-06T12:29:01.430Z"
   },
   {
    "duration": 289,
    "start_time": "2023-04-06T12:29:01.744Z"
   },
   {
    "duration": 39,
    "start_time": "2023-04-06T12:29:02.042Z"
   },
   {
    "duration": 58,
    "start_time": "2023-04-06T12:29:02.090Z"
   },
   {
    "duration": 31748,
    "start_time": "2023-04-06T12:29:02.155Z"
   },
   {
    "duration": 289,
    "start_time": "2023-04-06T12:29:33.906Z"
   },
   {
    "duration": 32,
    "start_time": "2023-04-06T12:29:34.282Z"
   },
   {
    "duration": 9,
    "start_time": "2023-04-06T12:29:34.324Z"
   },
   {
    "duration": 5192,
    "start_time": "2023-04-06T12:29:34.355Z"
   },
   {
    "duration": 292,
    "start_time": "2023-04-06T12:29:39.598Z"
   },
   {
    "duration": 94,
    "start_time": "2023-04-06T12:29:39.906Z"
   },
   {
    "duration": 404245,
    "start_time": "2023-04-06T12:29:40.032Z"
   },
   {
    "duration": 48,
    "start_time": "2023-04-06T12:37:01.459Z"
   },
   {
    "duration": 28,
    "start_time": "2023-04-06T12:39:20.960Z"
   },
   {
    "duration": 8903,
    "start_time": "2023-04-06T12:40:00.094Z"
   },
   {
    "duration": 8158,
    "start_time": "2023-04-06T12:40:09.000Z"
   },
   {
    "duration": 22,
    "start_time": "2023-04-06T12:40:17.162Z"
   },
   {
    "duration": 1564,
    "start_time": "2023-04-06T12:40:17.199Z"
   },
   {
    "duration": 35,
    "start_time": "2023-04-06T12:40:18.771Z"
   },
   {
    "duration": 1335,
    "start_time": "2023-04-06T12:40:18.808Z"
   },
   {
    "duration": 283,
    "start_time": "2023-04-06T12:40:20.145Z"
   },
   {
    "duration": 768,
    "start_time": "2023-04-06T12:40:20.430Z"
   },
   {
    "duration": 791,
    "start_time": "2023-04-06T12:40:21.200Z"
   },
   {
    "duration": 256,
    "start_time": "2023-04-06T12:40:21.998Z"
   },
   {
    "duration": 50,
    "start_time": "2023-04-06T12:40:22.259Z"
   },
   {
    "duration": 3579,
    "start_time": "2023-04-06T12:40:22.316Z"
   },
   {
    "duration": 2750,
    "start_time": "2023-04-06T12:40:25.900Z"
   },
   {
    "duration": 4136,
    "start_time": "2023-04-06T12:40:28.657Z"
   },
   {
    "duration": 34,
    "start_time": "2023-04-06T12:40:32.795Z"
   },
   {
    "duration": 78,
    "start_time": "2023-04-06T12:40:32.831Z"
   },
   {
    "duration": 77,
    "start_time": "2023-04-06T12:40:32.911Z"
   },
   {
    "duration": 16336,
    "start_time": "2023-04-06T12:40:32.999Z"
   },
   {
    "duration": 13428,
    "start_time": "2023-04-06T12:40:49.337Z"
   },
   {
    "duration": 23260,
    "start_time": "2023-04-06T12:41:02.774Z"
   },
   {
    "duration": 60,
    "start_time": "2023-04-06T12:41:26.036Z"
   },
   {
    "duration": 56,
    "start_time": "2023-04-06T12:41:26.099Z"
   },
   {
    "duration": 66,
    "start_time": "2023-04-06T12:41:26.157Z"
   },
   {
    "duration": 32,
    "start_time": "2023-04-06T12:41:26.225Z"
   },
   {
    "duration": 78,
    "start_time": "2023-04-06T12:41:26.261Z"
   },
   {
    "duration": 39,
    "start_time": "2023-04-06T12:41:26.341Z"
   },
   {
    "duration": 142,
    "start_time": "2023-04-06T12:41:26.383Z"
   },
   {
    "duration": 258,
    "start_time": "2023-04-06T12:41:26.527Z"
   },
   {
    "duration": 597,
    "start_time": "2023-04-06T12:41:26.791Z"
   },
   {
    "duration": 24,
    "start_time": "2023-04-06T12:41:27.389Z"
   },
   {
    "duration": 352,
    "start_time": "2023-04-06T12:41:27.415Z"
   },
   {
    "duration": 0,
    "start_time": "2023-04-06T12:41:27.774Z"
   },
   {
    "duration": 0,
    "start_time": "2023-04-06T12:41:27.776Z"
   },
   {
    "duration": 0,
    "start_time": "2023-04-06T12:41:27.780Z"
   },
   {
    "duration": 0,
    "start_time": "2023-04-06T12:41:27.782Z"
   },
   {
    "duration": 0,
    "start_time": "2023-04-06T12:41:27.788Z"
   },
   {
    "duration": 0,
    "start_time": "2023-04-06T12:41:27.790Z"
   },
   {
    "duration": 0,
    "start_time": "2023-04-06T12:41:27.797Z"
   },
   {
    "duration": 0,
    "start_time": "2023-04-06T12:41:27.800Z"
   },
   {
    "duration": 0,
    "start_time": "2023-04-06T12:41:27.801Z"
   },
   {
    "duration": 0,
    "start_time": "2023-04-06T12:41:27.802Z"
   },
   {
    "duration": 0,
    "start_time": "2023-04-06T12:41:27.804Z"
   },
   {
    "duration": 0,
    "start_time": "2023-04-06T12:41:27.809Z"
   },
   {
    "duration": 0,
    "start_time": "2023-04-06T12:41:27.811Z"
   },
   {
    "duration": 0,
    "start_time": "2023-04-06T12:41:27.813Z"
   },
   {
    "duration": 0,
    "start_time": "2023-04-06T12:41:27.814Z"
   },
   {
    "duration": 0,
    "start_time": "2023-04-06T12:41:27.815Z"
   },
   {
    "duration": 0,
    "start_time": "2023-04-06T12:41:27.816Z"
   },
   {
    "duration": 0,
    "start_time": "2023-04-06T12:41:27.819Z"
   },
   {
    "duration": 0,
    "start_time": "2023-04-06T12:41:27.821Z"
   },
   {
    "duration": 0,
    "start_time": "2023-04-06T12:41:27.822Z"
   },
   {
    "duration": 0,
    "start_time": "2023-04-06T12:41:27.824Z"
   },
   {
    "duration": 0,
    "start_time": "2023-04-06T12:41:27.825Z"
   },
   {
    "duration": 0,
    "start_time": "2023-04-06T12:41:27.827Z"
   },
   {
    "duration": 0,
    "start_time": "2023-04-06T12:41:27.828Z"
   },
   {
    "duration": 0,
    "start_time": "2023-04-06T12:41:27.830Z"
   },
   {
    "duration": 0,
    "start_time": "2023-04-06T12:41:27.832Z"
   },
   {
    "duration": 0,
    "start_time": "2023-04-06T12:41:27.833Z"
   },
   {
    "duration": 0,
    "start_time": "2023-04-06T12:41:27.835Z"
   },
   {
    "duration": 0,
    "start_time": "2023-04-06T12:41:27.842Z"
   },
   {
    "duration": 0,
    "start_time": "2023-04-06T12:41:27.849Z"
   },
   {
    "duration": 0,
    "start_time": "2023-04-06T12:41:27.850Z"
   },
   {
    "duration": 0,
    "start_time": "2023-04-06T12:41:27.852Z"
   },
   {
    "duration": 0,
    "start_time": "2023-04-06T12:41:27.854Z"
   },
   {
    "duration": 0,
    "start_time": "2023-04-06T12:41:27.855Z"
   },
   {
    "duration": 0,
    "start_time": "2023-04-06T12:41:27.859Z"
   },
   {
    "duration": 0,
    "start_time": "2023-04-06T12:41:27.860Z"
   },
   {
    "duration": 0,
    "start_time": "2023-04-06T12:41:27.861Z"
   },
   {
    "duration": 0,
    "start_time": "2023-04-06T12:41:27.862Z"
   },
   {
    "duration": 0,
    "start_time": "2023-04-06T12:41:27.863Z"
   },
   {
    "duration": 0,
    "start_time": "2023-04-06T12:41:27.865Z"
   },
   {
    "duration": 0,
    "start_time": "2023-04-06T12:41:27.871Z"
   },
   {
    "duration": 0,
    "start_time": "2023-04-06T12:41:27.873Z"
   },
   {
    "duration": 0,
    "start_time": "2023-04-06T12:41:27.874Z"
   },
   {
    "duration": 0,
    "start_time": "2023-04-06T12:41:27.876Z"
   },
   {
    "duration": 0,
    "start_time": "2023-04-06T12:41:27.877Z"
   },
   {
    "duration": 0,
    "start_time": "2023-04-06T12:41:27.878Z"
   },
   {
    "duration": 0,
    "start_time": "2023-04-06T12:41:27.882Z"
   },
   {
    "duration": 0,
    "start_time": "2023-04-06T12:41:27.884Z"
   },
   {
    "duration": 0,
    "start_time": "2023-04-06T12:41:27.886Z"
   },
   {
    "duration": 0,
    "start_time": "2023-04-06T12:41:27.887Z"
   },
   {
    "duration": 0,
    "start_time": "2023-04-06T12:41:27.889Z"
   },
   {
    "duration": 0,
    "start_time": "2023-04-06T12:41:27.892Z"
   },
   {
    "duration": 0,
    "start_time": "2023-04-06T12:41:27.894Z"
   },
   {
    "duration": 0,
    "start_time": "2023-04-06T12:41:27.896Z"
   },
   {
    "duration": 0,
    "start_time": "2023-04-06T12:41:27.902Z"
   },
   {
    "duration": 638,
    "start_time": "2023-04-06T12:41:37.114Z"
   },
   {
    "duration": 14407,
    "start_time": "2023-04-06T12:42:02.212Z"
   },
   {
    "duration": 13,
    "start_time": "2023-04-06T12:42:19.280Z"
   },
   {
    "duration": 34,
    "start_time": "2023-04-06T12:42:22.563Z"
   },
   {
    "duration": 33,
    "start_time": "2023-04-06T12:42:24.832Z"
   },
   {
    "duration": 34,
    "start_time": "2023-04-06T12:42:25.604Z"
   },
   {
    "duration": 12,
    "start_time": "2023-04-06T12:42:28.192Z"
   },
   {
    "duration": 81,
    "start_time": "2023-04-06T12:42:28.858Z"
   },
   {
    "duration": 32,
    "start_time": "2023-04-06T12:42:30.164Z"
   },
   {
    "duration": 47,
    "start_time": "2023-04-06T12:42:31.785Z"
   },
   {
    "duration": 29,
    "start_time": "2023-04-06T12:42:36.820Z"
   },
   {
    "duration": 371,
    "start_time": "2023-04-06T12:42:38.616Z"
   },
   {
    "duration": 242,
    "start_time": "2023-04-06T12:42:40.022Z"
   },
   {
    "duration": 21,
    "start_time": "2023-04-06T12:42:43.430Z"
   },
   {
    "duration": 74,
    "start_time": "2023-04-06T12:42:49.436Z"
   },
   {
    "duration": 275,
    "start_time": "2023-04-06T12:42:59.428Z"
   },
   {
    "duration": 635,
    "start_time": "2023-04-06T12:43:01.577Z"
   },
   {
    "duration": 17,
    "start_time": "2023-04-06T12:43:08.688Z"
   },
   {
    "duration": 47,
    "start_time": "2023-04-06T12:44:26.673Z"
   },
   {
    "duration": 37,
    "start_time": "2023-04-06T12:44:34.886Z"
   },
   {
    "duration": 122,
    "start_time": "2023-04-06T12:44:56.341Z"
   },
   {
    "duration": 244,
    "start_time": "2023-04-06T12:45:06.797Z"
   },
   {
    "duration": 630,
    "start_time": "2023-04-06T12:45:29.090Z"
   },
   {
    "duration": 59,
    "start_time": "2023-04-06T12:45:32.770Z"
   },
   {
    "duration": 100,
    "start_time": "2023-04-06T12:45:46.479Z"
   },
   {
    "duration": 12,
    "start_time": "2023-04-06T12:46:05.803Z"
   },
   {
    "duration": 116,
    "start_time": "2023-04-06T12:46:10.023Z"
   },
   {
    "duration": 87,
    "start_time": "2023-04-06T12:46:10.816Z"
   },
   {
    "duration": 22,
    "start_time": "2023-04-06T12:46:27.230Z"
   },
   {
    "duration": 15,
    "start_time": "2023-04-06T12:46:29.634Z"
   },
   {
    "duration": 52,
    "start_time": "2023-04-06T12:46:38.173Z"
   },
   {
    "duration": 8,
    "start_time": "2023-04-06T12:46:44.131Z"
   },
   {
    "duration": 350,
    "start_time": "2023-04-06T12:46:46.011Z"
   },
   {
    "duration": 51,
    "start_time": "2023-04-06T12:47:06.415Z"
   },
   {
    "duration": 20,
    "start_time": "2023-04-06T12:47:12.789Z"
   },
   {
    "duration": 62,
    "start_time": "2023-04-06T12:47:13.511Z"
   },
   {
    "duration": 37,
    "start_time": "2023-04-06T12:47:14.243Z"
   },
   {
    "duration": 146,
    "start_time": "2023-04-06T12:47:14.902Z"
   },
   {
    "duration": 8,
    "start_time": "2023-04-06T12:47:19.772Z"
   },
   {
    "duration": 8,
    "start_time": "2023-04-06T12:47:21.796Z"
   },
   {
    "duration": 58,
    "start_time": "2023-04-06T12:47:24.438Z"
   },
   {
    "duration": 28,
    "start_time": "2023-04-06T12:47:32.135Z"
   },
   {
    "duration": 15,
    "start_time": "2023-04-06T12:47:35.109Z"
   },
   {
    "duration": 6,
    "start_time": "2023-04-06T12:48:29.189Z"
   },
   {
    "duration": 88,
    "start_time": "2023-04-06T12:48:30.318Z"
   },
   {
    "duration": 62670,
    "start_time": "2023-04-06T12:48:33.781Z"
   },
   {
    "duration": 711,
    "start_time": "2023-04-06T12:50:06.892Z"
   },
   {
    "duration": 843,
    "start_time": "2023-04-06T12:50:08.379Z"
   },
   {
    "duration": 25,
    "start_time": "2023-04-06T12:50:16.425Z"
   },
   {
    "duration": 23647,
    "start_time": "2023-04-06T12:50:19.735Z"
   },
   {
    "duration": 326,
    "start_time": "2023-04-06T12:50:51.716Z"
   },
   {
    "duration": 273,
    "start_time": "2023-04-06T12:50:52.928Z"
   },
   {
    "duration": 28,
    "start_time": "2023-04-06T12:50:54.991Z"
   },
   {
    "duration": 5,
    "start_time": "2023-04-06T12:50:57.833Z"
   },
   {
    "duration": 35904,
    "start_time": "2023-04-06T12:50:59.619Z"
   },
   {
    "duration": 170,
    "start_time": "2023-04-06T12:51:55.320Z"
   },
   {
    "duration": 8,
    "start_time": "2023-04-06T12:51:57.509Z"
   },
   {
    "duration": 3,
    "start_time": "2023-04-06T12:52:00.592Z"
   },
   {
    "duration": 3902,
    "start_time": "2023-04-06T12:52:03.039Z"
   },
   {
    "duration": 146,
    "start_time": "2023-04-06T12:52:10.033Z"
   },
   {
    "duration": 5,
    "start_time": "2023-04-06T12:52:10.896Z"
   },
   {
    "duration": 433330,
    "start_time": "2023-04-06T12:52:16.330Z"
   },
   {
    "duration": 7852,
    "start_time": "2023-04-06T16:54:37.604Z"
   },
   {
    "duration": 6284,
    "start_time": "2023-04-06T16:54:45.459Z"
   },
   {
    "duration": 1613,
    "start_time": "2023-04-06T16:54:51.745Z"
   },
   {
    "duration": 3001,
    "start_time": "2023-04-06T16:54:53.360Z"
   },
   {
    "duration": 18,
    "start_time": "2023-04-06T16:54:56.363Z"
   },
   {
    "duration": 910,
    "start_time": "2023-04-06T16:54:56.383Z"
   },
   {
    "duration": 188,
    "start_time": "2023-04-06T16:54:57.295Z"
   },
   {
    "duration": 639,
    "start_time": "2023-04-06T16:54:57.484Z"
   },
   {
    "duration": 465,
    "start_time": "2023-04-06T16:54:58.126Z"
   },
   {
    "duration": 197,
    "start_time": "2023-04-06T16:54:58.595Z"
   },
   {
    "duration": 31,
    "start_time": "2023-04-06T16:54:58.793Z"
   },
   {
    "duration": 1758,
    "start_time": "2023-04-06T16:54:58.826Z"
   },
   {
    "duration": 1850,
    "start_time": "2023-04-06T16:55:00.586Z"
   },
   {
    "duration": 2554,
    "start_time": "2023-04-06T16:55:02.438Z"
   },
   {
    "duration": 25,
    "start_time": "2023-04-06T16:55:04.994Z"
   },
   {
    "duration": 43,
    "start_time": "2023-04-06T16:55:05.021Z"
   },
   {
    "duration": 23,
    "start_time": "2023-04-06T16:55:05.067Z"
   },
   {
    "duration": 10892,
    "start_time": "2023-04-06T16:55:05.092Z"
   },
   {
    "duration": 8769,
    "start_time": "2023-04-06T16:55:15.986Z"
   },
   {
    "duration": 14660,
    "start_time": "2023-04-06T16:55:24.757Z"
   },
   {
    "duration": 26,
    "start_time": "2023-04-06T16:55:39.420Z"
   },
   {
    "duration": 47,
    "start_time": "2023-04-06T16:55:39.447Z"
   },
   {
    "duration": 27,
    "start_time": "2023-04-06T16:55:39.496Z"
   },
   {
    "duration": 41,
    "start_time": "2023-04-06T16:55:39.525Z"
   },
   {
    "duration": 47,
    "start_time": "2023-04-06T16:55:39.568Z"
   },
   {
    "duration": 42,
    "start_time": "2023-04-06T16:55:39.617Z"
   },
   {
    "duration": 102,
    "start_time": "2023-04-06T16:55:39.660Z"
   },
   {
    "duration": 209,
    "start_time": "2023-04-06T16:55:39.766Z"
   },
   {
    "duration": 549,
    "start_time": "2023-04-06T16:55:39.976Z"
   },
   {
    "duration": 19,
    "start_time": "2023-04-06T16:55:40.527Z"
   },
   {
    "duration": 11106,
    "start_time": "2023-04-06T16:55:40.547Z"
   },
   {
    "duration": 12,
    "start_time": "2023-04-06T16:55:51.655Z"
   },
   {
    "duration": 38,
    "start_time": "2023-04-06T16:55:51.669Z"
   },
   {
    "duration": 46,
    "start_time": "2023-04-06T16:55:51.708Z"
   },
   {
    "duration": 9,
    "start_time": "2023-04-06T16:55:51.755Z"
   },
   {
    "duration": 73,
    "start_time": "2023-04-06T16:55:51.766Z"
   },
   {
    "duration": 22,
    "start_time": "2023-04-06T16:55:51.842Z"
   },
   {
    "duration": 59,
    "start_time": "2023-04-06T16:55:51.866Z"
   },
   {
    "duration": 26,
    "start_time": "2023-04-06T16:55:51.927Z"
   },
   {
    "duration": 321,
    "start_time": "2023-04-06T16:55:51.955Z"
   },
   {
    "duration": 241,
    "start_time": "2023-04-06T16:55:52.278Z"
   },
   {
    "duration": 23,
    "start_time": "2023-04-06T16:55:52.521Z"
   },
   {
    "duration": 65,
    "start_time": "2023-04-06T16:55:52.547Z"
   },
   {
    "duration": 216,
    "start_time": "2023-04-06T16:55:52.617Z"
   },
   {
    "duration": 484,
    "start_time": "2023-04-06T16:55:52.835Z"
   },
   {
    "duration": 35,
    "start_time": "2023-04-06T16:55:53.321Z"
   },
   {
    "duration": 96,
    "start_time": "2023-04-06T16:55:53.357Z"
   },
   {
    "duration": 187,
    "start_time": "2023-04-06T16:55:53.455Z"
   },
   {
    "duration": 454,
    "start_time": "2023-04-06T16:55:53.644Z"
   },
   {
    "duration": 38,
    "start_time": "2023-04-06T16:55:54.099Z"
   },
   {
    "duration": 93,
    "start_time": "2023-04-06T16:55:54.139Z"
   },
   {
    "duration": 33,
    "start_time": "2023-04-06T16:55:54.233Z"
   },
   {
    "duration": 22,
    "start_time": "2023-04-06T16:55:54.268Z"
   },
   {
    "duration": 10,
    "start_time": "2023-04-06T16:55:54.292Z"
   },
   {
    "duration": 61,
    "start_time": "2023-04-06T16:55:54.303Z"
   },
   {
    "duration": 8,
    "start_time": "2023-04-06T16:55:54.366Z"
   },
   {
    "duration": 252,
    "start_time": "2023-04-06T16:55:54.375Z"
   },
   {
    "duration": 24,
    "start_time": "2023-04-06T16:55:54.629Z"
   },
   {
    "duration": 34,
    "start_time": "2023-04-06T16:55:54.655Z"
   },
   {
    "duration": 40,
    "start_time": "2023-04-06T16:55:54.691Z"
   },
   {
    "duration": 63,
    "start_time": "2023-04-06T16:55:54.737Z"
   },
   {
    "duration": 3,
    "start_time": "2023-04-06T16:55:54.802Z"
   },
   {
    "duration": 43,
    "start_time": "2023-04-06T16:55:54.806Z"
   },
   {
    "duration": 43,
    "start_time": "2023-04-06T16:55:54.851Z"
   },
   {
    "duration": 12,
    "start_time": "2023-04-06T16:55:54.895Z"
   },
   {
    "duration": 83,
    "start_time": "2023-04-06T16:55:54.908Z"
   },
   {
    "duration": 54750,
    "start_time": "2023-04-06T16:55:54.993Z"
   },
   {
    "duration": 574,
    "start_time": "2023-04-06T16:56:49.744Z"
   },
   {
    "duration": 459,
    "start_time": "2023-04-06T16:56:50.320Z"
   },
   {
    "duration": 16,
    "start_time": "2023-04-06T16:56:50.781Z"
   },
   {
    "duration": 19341,
    "start_time": "2023-04-06T16:56:50.799Z"
   },
   {
    "duration": 235,
    "start_time": "2023-04-06T16:57:10.142Z"
   },
   {
    "duration": 190,
    "start_time": "2023-04-06T16:57:10.379Z"
   },
   {
    "duration": 16,
    "start_time": "2023-04-06T16:57:10.570Z"
   },
   {
    "duration": 17,
    "start_time": "2023-04-06T16:57:10.588Z"
   },
   {
    "duration": 28061,
    "start_time": "2023-04-06T16:57:10.606Z"
   },
   {
    "duration": 249,
    "start_time": "2023-04-06T16:57:38.670Z"
   },
   {
    "duration": 9,
    "start_time": "2023-04-06T16:57:38.922Z"
   },
   {
    "duration": 92,
    "start_time": "2023-04-06T16:57:38.937Z"
   },
   {
    "duration": 2503,
    "start_time": "2023-04-06T16:57:39.032Z"
   },
   {
    "duration": 283,
    "start_time": "2023-04-06T16:57:41.544Z"
   },
   {
    "duration": 9,
    "start_time": "2023-04-06T16:57:41.918Z"
   },
   {
    "duration": 314001,
    "start_time": "2023-04-06T16:57:41.933Z"
   },
   {
    "duration": 5,
    "start_time": "2023-04-06T17:04:14.791Z"
   },
   {
    "duration": 5,
    "start_time": "2023-04-06T17:07:38.862Z"
   },
   {
    "duration": 5086599,
    "start_time": "2023-04-06T17:08:29.572Z"
   },
   {
    "duration": 553621,
    "start_time": "2023-04-06T18:34:43.382Z"
   },
   {
    "duration": 8159,
    "start_time": "2023-04-07T05:17:36.060Z"
   },
   {
    "duration": 7144,
    "start_time": "2023-04-07T05:17:44.222Z"
   },
   {
    "duration": 1794,
    "start_time": "2023-04-07T05:17:51.367Z"
   },
   {
    "duration": 1529,
    "start_time": "2023-04-07T05:17:53.164Z"
   },
   {
    "duration": 26,
    "start_time": "2023-04-07T05:17:54.704Z"
   },
   {
    "duration": 1048,
    "start_time": "2023-04-07T05:17:54.732Z"
   },
   {
    "duration": 163,
    "start_time": "2023-04-07T05:17:55.781Z"
   },
   {
    "duration": 496,
    "start_time": "2023-04-07T05:17:55.946Z"
   },
   {
    "duration": 448,
    "start_time": "2023-04-07T05:17:56.443Z"
   },
   {
    "duration": 172,
    "start_time": "2023-04-07T05:17:56.898Z"
   },
   {
    "duration": 39,
    "start_time": "2023-04-07T05:17:57.074Z"
   },
   {
    "duration": 1621,
    "start_time": "2023-04-07T05:17:57.116Z"
   },
   {
    "duration": 1710,
    "start_time": "2023-04-07T05:17:58.739Z"
   },
   {
    "duration": 2307,
    "start_time": "2023-04-07T05:18:00.452Z"
   },
   {
    "duration": 37,
    "start_time": "2023-04-07T05:18:02.761Z"
   },
   {
    "duration": 29,
    "start_time": "2023-04-07T05:18:02.800Z"
   },
   {
    "duration": 33,
    "start_time": "2023-04-07T05:18:02.831Z"
   },
   {
    "duration": 9961,
    "start_time": "2023-04-07T05:18:02.866Z"
   },
   {
    "duration": 8590,
    "start_time": "2023-04-07T05:18:12.829Z"
   },
   {
    "duration": 12935,
    "start_time": "2023-04-07T05:18:21.421Z"
   },
   {
    "duration": 29,
    "start_time": "2023-04-07T05:18:34.358Z"
   },
   {
    "duration": 44,
    "start_time": "2023-04-07T05:18:34.401Z"
   },
   {
    "duration": 16,
    "start_time": "2023-04-07T05:18:34.446Z"
   },
   {
    "duration": 31,
    "start_time": "2023-04-07T05:18:34.463Z"
   },
   {
    "duration": 38,
    "start_time": "2023-04-07T05:18:34.497Z"
   },
   {
    "duration": 17,
    "start_time": "2023-04-07T05:18:34.536Z"
   },
   {
    "duration": 97,
    "start_time": "2023-04-07T05:18:34.554Z"
   },
   {
    "duration": 203,
    "start_time": "2023-04-07T05:18:34.655Z"
   },
   {
    "duration": 431,
    "start_time": "2023-04-07T05:18:34.860Z"
   },
   {
    "duration": 20,
    "start_time": "2023-04-07T05:18:35.296Z"
   },
   {
    "duration": 10531,
    "start_time": "2023-04-07T05:18:35.318Z"
   },
   {
    "duration": 22,
    "start_time": "2023-04-07T05:18:45.851Z"
   },
   {
    "duration": 29,
    "start_time": "2023-04-07T05:18:45.875Z"
   },
   {
    "duration": 48,
    "start_time": "2023-04-07T05:18:45.906Z"
   },
   {
    "duration": 21,
    "start_time": "2023-04-07T05:18:45.956Z"
   },
   {
    "duration": 62,
    "start_time": "2023-04-07T05:18:45.979Z"
   },
   {
    "duration": 31,
    "start_time": "2023-04-07T05:18:46.044Z"
   },
   {
    "duration": 48,
    "start_time": "2023-04-07T05:18:46.078Z"
   },
   {
    "duration": 45,
    "start_time": "2023-04-07T05:18:46.128Z"
   },
   {
    "duration": 284,
    "start_time": "2023-04-07T05:18:46.175Z"
   },
   {
    "duration": 186,
    "start_time": "2023-04-07T05:18:46.460Z"
   },
   {
    "duration": 39,
    "start_time": "2023-04-07T05:18:46.648Z"
   },
   {
    "duration": 51,
    "start_time": "2023-04-07T05:18:46.693Z"
   },
   {
    "duration": 172,
    "start_time": "2023-04-07T05:18:46.745Z"
   },
   {
    "duration": 418,
    "start_time": "2023-04-07T05:18:46.919Z"
   },
   {
    "duration": 33,
    "start_time": "2023-04-07T05:18:47.338Z"
   },
   {
    "duration": 99,
    "start_time": "2023-04-07T05:18:47.374Z"
   },
   {
    "duration": 169,
    "start_time": "2023-04-07T05:18:47.477Z"
   },
   {
    "duration": 409,
    "start_time": "2023-04-07T05:18:47.647Z"
   },
   {
    "duration": 34,
    "start_time": "2023-04-07T05:18:48.058Z"
   },
   {
    "duration": 70,
    "start_time": "2023-04-07T05:18:48.094Z"
   },
   {
    "duration": 45,
    "start_time": "2023-04-07T05:18:48.173Z"
   },
   {
    "duration": 13,
    "start_time": "2023-04-07T05:18:48.220Z"
   },
   {
    "duration": 6,
    "start_time": "2023-04-07T05:18:48.235Z"
   },
   {
    "duration": 47,
    "start_time": "2023-04-07T05:18:48.242Z"
   },
   {
    "duration": 10,
    "start_time": "2023-04-07T05:18:48.296Z"
   },
   {
    "duration": 229,
    "start_time": "2023-04-07T05:18:48.308Z"
   },
   {
    "duration": 19,
    "start_time": "2023-04-07T05:18:48.539Z"
   },
   {
    "duration": 44,
    "start_time": "2023-04-07T05:18:48.559Z"
   },
   {
    "duration": 21,
    "start_time": "2023-04-07T05:18:48.604Z"
   },
   {
    "duration": 75,
    "start_time": "2023-04-07T05:18:48.627Z"
   },
   {
    "duration": 8,
    "start_time": "2023-04-07T05:18:48.706Z"
   },
   {
    "duration": 19,
    "start_time": "2023-04-07T05:18:48.716Z"
   },
   {
    "duration": 30,
    "start_time": "2023-04-07T05:18:48.737Z"
   },
   {
    "duration": 17,
    "start_time": "2023-04-07T05:18:48.769Z"
   },
   {
    "duration": 56,
    "start_time": "2023-04-07T05:18:48.787Z"
   },
   {
    "duration": 53295,
    "start_time": "2023-04-07T05:18:48.844Z"
   },
   {
    "duration": 517,
    "start_time": "2023-04-07T05:19:42.140Z"
   },
   {
    "duration": 424,
    "start_time": "2023-04-07T05:19:42.659Z"
   },
   {
    "duration": 30,
    "start_time": "2023-04-07T05:19:43.090Z"
   },
   {
    "duration": 18322,
    "start_time": "2023-04-07T05:19:43.121Z"
   },
   {
    "duration": 229,
    "start_time": "2023-04-07T05:20:01.444Z"
   },
   {
    "duration": 179,
    "start_time": "2023-04-07T05:20:01.674Z"
   },
   {
    "duration": 25,
    "start_time": "2023-04-07T05:20:01.855Z"
   },
   {
    "duration": 32,
    "start_time": "2023-04-07T05:20:01.882Z"
   },
   {
    "duration": 48687,
    "start_time": "2023-04-07T05:20:01.916Z"
   },
   {
    "duration": 106,
    "start_time": "2023-04-07T05:20:50.606Z"
   },
   {
    "duration": 59,
    "start_time": "2023-04-07T05:20:50.718Z"
   },
   {
    "duration": 16,
    "start_time": "2023-04-07T05:20:50.788Z"
   },
   {
    "duration": 4067,
    "start_time": "2023-04-07T05:20:50.808Z"
   },
   {
    "duration": 180,
    "start_time": "2023-04-07T05:20:54.902Z"
   },
   {
    "duration": 11,
    "start_time": "2023-04-07T05:20:55.089Z"
   },
   {
    "duration": 524311,
    "start_time": "2023-04-07T05:20:55.169Z"
   },
   {
    "duration": 6,
    "start_time": "2023-04-07T05:29:39.485Z"
   },
   {
    "duration": 157,
    "start_time": "2023-04-07T05:38:49.067Z"
   },
   {
    "duration": 73,
    "start_time": "2023-04-07T05:47:01.179Z"
   },
   {
    "duration": 2362,
    "start_time": "2023-04-07T05:47:09.111Z"
   },
   {
    "duration": 45,
    "start_time": "2023-04-07T06:18:31.935Z"
   },
   {
    "duration": 50,
    "start_time": "2023-04-07T06:18:42.735Z"
   },
   {
    "duration": 51,
    "start_time": "2023-04-07T06:19:05.456Z"
   },
   {
    "duration": 73,
    "start_time": "2023-04-07T06:19:10.639Z"
   },
   {
    "duration": 46,
    "start_time": "2023-04-07T06:19:25.464Z"
   },
   {
    "duration": 51,
    "start_time": "2023-04-07T06:19:39.145Z"
   },
   {
    "duration": 78,
    "start_time": "2023-04-07T06:19:44.416Z"
   },
   {
    "duration": 50,
    "start_time": "2023-04-07T06:19:55.828Z"
   },
   {
    "duration": 54,
    "start_time": "2023-04-07T06:20:13.828Z"
   },
   {
    "duration": 4651,
    "start_time": "2023-04-07T06:20:19.053Z"
   },
   {
    "duration": 4038,
    "start_time": "2023-04-07T06:20:23.706Z"
   },
   {
    "duration": 6,
    "start_time": "2023-04-07T06:20:27.746Z"
   },
   {
    "duration": 732,
    "start_time": "2023-04-07T06:20:27.754Z"
   },
   {
    "duration": 14,
    "start_time": "2023-04-07T06:20:28.489Z"
   },
   {
    "duration": 799,
    "start_time": "2023-04-07T06:20:28.505Z"
   },
   {
    "duration": 118,
    "start_time": "2023-04-07T06:20:29.306Z"
   },
   {
    "duration": 416,
    "start_time": "2023-04-07T06:20:29.426Z"
   },
   {
    "duration": 404,
    "start_time": "2023-04-07T06:20:29.843Z"
   },
   {
    "duration": 101,
    "start_time": "2023-04-07T06:20:30.250Z"
   },
   {
    "duration": 63,
    "start_time": "2023-04-07T06:20:30.353Z"
   },
   {
    "duration": 1425,
    "start_time": "2023-04-07T06:20:30.417Z"
   },
   {
    "duration": 1353,
    "start_time": "2023-04-07T06:20:31.843Z"
   },
   {
    "duration": 1719,
    "start_time": "2023-04-07T06:20:33.198Z"
   },
   {
    "duration": 19,
    "start_time": "2023-04-07T06:20:34.919Z"
   },
   {
    "duration": 29,
    "start_time": "2023-04-07T06:20:34.940Z"
   },
   {
    "duration": 26,
    "start_time": "2023-04-07T06:20:34.971Z"
   },
   {
    "duration": 7770,
    "start_time": "2023-04-07T06:20:34.998Z"
   },
   {
    "duration": 6610,
    "start_time": "2023-04-07T06:20:42.770Z"
   },
   {
    "duration": 11264,
    "start_time": "2023-04-07T06:20:49.382Z"
   },
   {
    "duration": 21,
    "start_time": "2023-04-07T06:21:00.648Z"
   },
   {
    "duration": 55,
    "start_time": "2023-04-07T06:21:00.671Z"
   },
   {
    "duration": 29,
    "start_time": "2023-04-07T06:21:00.728Z"
   },
   {
    "duration": 38,
    "start_time": "2023-04-07T06:21:00.759Z"
   },
   {
    "duration": 55,
    "start_time": "2023-04-07T06:21:00.799Z"
   },
   {
    "duration": 57,
    "start_time": "2023-04-07T06:21:00.856Z"
   },
   {
    "duration": 104,
    "start_time": "2023-04-07T06:21:00.915Z"
   },
   {
    "duration": 170,
    "start_time": "2023-04-07T06:21:01.024Z"
   },
   {
    "duration": 428,
    "start_time": "2023-04-07T06:21:01.196Z"
   },
   {
    "duration": 15,
    "start_time": "2023-04-07T06:21:01.625Z"
   },
   {
    "duration": 8148,
    "start_time": "2023-04-07T06:21:01.642Z"
   },
   {
    "duration": 9,
    "start_time": "2023-04-07T06:21:09.792Z"
   },
   {
    "duration": 17,
    "start_time": "2023-04-07T06:21:09.803Z"
   },
   {
    "duration": 49,
    "start_time": "2023-04-07T06:21:09.822Z"
   },
   {
    "duration": 9,
    "start_time": "2023-04-07T06:21:09.873Z"
   },
   {
    "duration": 48,
    "start_time": "2023-04-07T06:21:09.883Z"
   },
   {
    "duration": 36,
    "start_time": "2023-04-07T06:21:09.933Z"
   },
   {
    "duration": 30,
    "start_time": "2023-04-07T06:21:09.971Z"
   },
   {
    "duration": 17,
    "start_time": "2023-04-07T06:21:10.002Z"
   },
   {
    "duration": 275,
    "start_time": "2023-04-07T06:21:10.020Z"
   },
   {
    "duration": 164,
    "start_time": "2023-04-07T06:21:10.296Z"
   },
   {
    "duration": 16,
    "start_time": "2023-04-07T06:21:10.461Z"
   },
   {
    "duration": 41,
    "start_time": "2023-04-07T06:21:10.478Z"
   },
   {
    "duration": 171,
    "start_time": "2023-04-07T06:21:10.520Z"
   },
   {
    "duration": 428,
    "start_time": "2023-04-07T06:21:10.693Z"
   },
   {
    "duration": 0,
    "start_time": "2023-04-07T06:21:11.123Z"
   },
   {
    "duration": 0,
    "start_time": "2023-04-07T06:21:11.125Z"
   },
   {
    "duration": 0,
    "start_time": "2023-04-07T06:21:11.126Z"
   },
   {
    "duration": 0,
    "start_time": "2023-04-07T06:21:11.127Z"
   },
   {
    "duration": 0,
    "start_time": "2023-04-07T06:21:11.128Z"
   },
   {
    "duration": 0,
    "start_time": "2023-04-07T06:21:11.129Z"
   },
   {
    "duration": 0,
    "start_time": "2023-04-07T06:21:11.131Z"
   },
   {
    "duration": 0,
    "start_time": "2023-04-07T06:21:11.132Z"
   },
   {
    "duration": 0,
    "start_time": "2023-04-07T06:21:11.133Z"
   },
   {
    "duration": 0,
    "start_time": "2023-04-07T06:21:11.134Z"
   },
   {
    "duration": 1,
    "start_time": "2023-04-07T06:21:11.136Z"
   },
   {
    "duration": 0,
    "start_time": "2023-04-07T06:21:11.138Z"
   },
   {
    "duration": 0,
    "start_time": "2023-04-07T06:21:11.139Z"
   },
   {
    "duration": 0,
    "start_time": "2023-04-07T06:21:11.140Z"
   },
   {
    "duration": 0,
    "start_time": "2023-04-07T06:21:11.141Z"
   },
   {
    "duration": 0,
    "start_time": "2023-04-07T06:21:11.142Z"
   },
   {
    "duration": 0,
    "start_time": "2023-04-07T06:21:11.143Z"
   },
   {
    "duration": 0,
    "start_time": "2023-04-07T06:21:11.144Z"
   },
   {
    "duration": 0,
    "start_time": "2023-04-07T06:21:11.144Z"
   },
   {
    "duration": 0,
    "start_time": "2023-04-07T06:21:11.145Z"
   },
   {
    "duration": 0,
    "start_time": "2023-04-07T06:21:11.146Z"
   },
   {
    "duration": 0,
    "start_time": "2023-04-07T06:21:11.148Z"
   },
   {
    "duration": 0,
    "start_time": "2023-04-07T06:21:11.149Z"
   },
   {
    "duration": 0,
    "start_time": "2023-04-07T06:21:11.150Z"
   },
   {
    "duration": 0,
    "start_time": "2023-04-07T06:21:11.151Z"
   },
   {
    "duration": 0,
    "start_time": "2023-04-07T06:21:11.152Z"
   },
   {
    "duration": 0,
    "start_time": "2023-04-07T06:21:11.153Z"
   },
   {
    "duration": 0,
    "start_time": "2023-04-07T06:21:11.169Z"
   },
   {
    "duration": 0,
    "start_time": "2023-04-07T06:21:11.171Z"
   },
   {
    "duration": 0,
    "start_time": "2023-04-07T06:21:11.172Z"
   },
   {
    "duration": 0,
    "start_time": "2023-04-07T06:21:11.173Z"
   },
   {
    "duration": 0,
    "start_time": "2023-04-07T06:21:11.174Z"
   },
   {
    "duration": 0,
    "start_time": "2023-04-07T06:21:11.175Z"
   },
   {
    "duration": 0,
    "start_time": "2023-04-07T06:21:11.176Z"
   },
   {
    "duration": 0,
    "start_time": "2023-04-07T06:21:11.176Z"
   },
   {
    "duration": 0,
    "start_time": "2023-04-07T06:21:11.178Z"
   },
   {
    "duration": 0,
    "start_time": "2023-04-07T06:21:11.178Z"
   },
   {
    "duration": 0,
    "start_time": "2023-04-07T06:21:11.179Z"
   },
   {
    "duration": 0,
    "start_time": "2023-04-07T06:21:11.180Z"
   },
   {
    "duration": 665,
    "start_time": "2023-04-07T06:21:22.957Z"
   },
   {
    "duration": 14,
    "start_time": "2023-04-07T06:21:24.228Z"
   },
   {
    "duration": 758,
    "start_time": "2023-04-07T06:21:26.532Z"
   },
   {
    "duration": 108,
    "start_time": "2023-04-07T06:21:29.324Z"
   },
   {
    "duration": 380,
    "start_time": "2023-04-07T06:21:30.751Z"
   },
   {
    "duration": 383,
    "start_time": "2023-04-07T06:21:31.944Z"
   },
   {
    "duration": 99,
    "start_time": "2023-04-07T06:21:33.616Z"
   },
   {
    "duration": 108,
    "start_time": "2023-04-07T06:21:47.316Z"
   },
   {
    "duration": 94,
    "start_time": "2023-04-07T06:22:06.538Z"
   },
   {
    "duration": 119,
    "start_time": "2023-04-07T06:22:18.564Z"
   },
   {
    "duration": 96,
    "start_time": "2023-04-07T06:22:26.224Z"
   },
   {
    "duration": 76,
    "start_time": "2023-04-07T06:22:42.452Z"
   },
   {
    "duration": 99,
    "start_time": "2023-04-07T06:22:46.916Z"
   },
   {
    "duration": 96,
    "start_time": "2023-04-07T06:23:00.231Z"
   },
   {
    "duration": 4560,
    "start_time": "2023-04-07T06:24:34.829Z"
   },
   {
    "duration": 4014,
    "start_time": "2023-04-07T06:24:39.391Z"
   },
   {
    "duration": 1184,
    "start_time": "2023-04-07T06:24:43.407Z"
   },
   {
    "duration": 757,
    "start_time": "2023-04-07T06:24:44.594Z"
   },
   {
    "duration": 20,
    "start_time": "2023-04-07T06:24:45.353Z"
   },
   {
    "duration": 788,
    "start_time": "2023-04-07T06:24:45.374Z"
   },
   {
    "duration": 117,
    "start_time": "2023-04-07T06:24:46.163Z"
   },
   {
    "duration": 487,
    "start_time": "2023-04-07T06:24:46.282Z"
   },
   {
    "duration": 424,
    "start_time": "2023-04-07T06:24:46.770Z"
   },
   {
    "duration": 134,
    "start_time": "2023-04-07T06:24:47.197Z"
   },
   {
    "duration": 19,
    "start_time": "2023-04-07T06:24:47.333Z"
   },
   {
    "duration": 1318,
    "start_time": "2023-04-07T06:24:47.353Z"
   },
   {
    "duration": 1386,
    "start_time": "2023-04-07T06:24:48.673Z"
   },
   {
    "duration": 1780,
    "start_time": "2023-04-07T06:24:50.061Z"
   },
   {
    "duration": 18,
    "start_time": "2023-04-07T06:24:51.843Z"
   },
   {
    "duration": 40,
    "start_time": "2023-04-07T06:24:51.869Z"
   },
   {
    "duration": 51,
    "start_time": "2023-04-07T06:24:51.911Z"
   },
   {
    "duration": 7611,
    "start_time": "2023-04-07T06:24:51.963Z"
   },
   {
    "duration": 5927,
    "start_time": "2023-04-07T06:24:59.576Z"
   },
   {
    "duration": 10312,
    "start_time": "2023-04-07T06:25:05.505Z"
   },
   {
    "duration": 17,
    "start_time": "2023-04-07T06:25:15.818Z"
   },
   {
    "duration": 37,
    "start_time": "2023-04-07T06:25:15.836Z"
   },
   {
    "duration": 23,
    "start_time": "2023-04-07T06:25:15.874Z"
   },
   {
    "duration": 17,
    "start_time": "2023-04-07T06:25:15.899Z"
   },
   {
    "duration": 35,
    "start_time": "2023-04-07T06:25:15.918Z"
   },
   {
    "duration": 23,
    "start_time": "2023-04-07T06:25:15.955Z"
   },
   {
    "duration": 85,
    "start_time": "2023-04-07T06:25:15.979Z"
   },
   {
    "duration": 165,
    "start_time": "2023-04-07T06:25:16.070Z"
   },
   {
    "duration": 422,
    "start_time": "2023-04-07T06:25:16.236Z"
   },
   {
    "duration": 17,
    "start_time": "2023-04-07T06:25:16.660Z"
   },
   {
    "duration": 8099,
    "start_time": "2023-04-07T06:25:16.679Z"
   },
   {
    "duration": 10,
    "start_time": "2023-04-07T06:25:24.779Z"
   },
   {
    "duration": 31,
    "start_time": "2023-04-07T06:25:24.790Z"
   },
   {
    "duration": 29,
    "start_time": "2023-04-07T06:25:24.823Z"
   },
   {
    "duration": 15,
    "start_time": "2023-04-07T06:25:24.853Z"
   },
   {
    "duration": 52,
    "start_time": "2023-04-07T06:25:24.870Z"
   },
   {
    "duration": 16,
    "start_time": "2023-04-07T06:25:24.923Z"
   },
   {
    "duration": 44,
    "start_time": "2023-04-07T06:25:24.941Z"
   },
   {
    "duration": 18,
    "start_time": "2023-04-07T06:25:24.986Z"
   },
   {
    "duration": 237,
    "start_time": "2023-04-07T06:25:25.006Z"
   },
   {
    "duration": 152,
    "start_time": "2023-04-07T06:25:25.245Z"
   },
   {
    "duration": 15,
    "start_time": "2023-04-07T06:25:25.398Z"
   },
   {
    "duration": 58,
    "start_time": "2023-04-07T06:25:25.415Z"
   },
   {
    "duration": 144,
    "start_time": "2023-04-07T06:25:25.475Z"
   },
   {
    "duration": 392,
    "start_time": "2023-04-07T06:25:25.620Z"
   },
   {
    "duration": 28,
    "start_time": "2023-04-07T06:25:26.013Z"
   },
   {
    "duration": 92,
    "start_time": "2023-04-07T06:25:26.042Z"
   },
   {
    "duration": 152,
    "start_time": "2023-04-07T06:25:26.135Z"
   },
   {
    "duration": 377,
    "start_time": "2023-04-07T06:25:26.288Z"
   },
   {
    "duration": 22,
    "start_time": "2023-04-07T06:25:26.668Z"
   },
   {
    "duration": 64,
    "start_time": "2023-04-07T06:25:26.692Z"
   },
   {
    "duration": 30,
    "start_time": "2023-04-07T06:25:26.768Z"
   },
   {
    "duration": 13,
    "start_time": "2023-04-07T06:25:26.800Z"
   },
   {
    "duration": 9,
    "start_time": "2023-04-07T06:25:26.814Z"
   },
   {
    "duration": 43,
    "start_time": "2023-04-07T06:25:26.825Z"
   },
   {
    "duration": 5,
    "start_time": "2023-04-07T06:25:26.870Z"
   },
   {
    "duration": 211,
    "start_time": "2023-04-07T06:25:26.877Z"
   },
   {
    "duration": 20,
    "start_time": "2023-04-07T06:25:27.090Z"
   },
   {
    "duration": 26,
    "start_time": "2023-04-07T06:25:27.112Z"
   },
   {
    "duration": 28,
    "start_time": "2023-04-07T06:25:27.140Z"
   },
   {
    "duration": 50,
    "start_time": "2023-04-07T06:25:27.170Z"
   },
   {
    "duration": 3,
    "start_time": "2023-04-07T06:25:27.222Z"
   },
   {
    "duration": 29,
    "start_time": "2023-04-07T06:25:27.226Z"
   },
   {
    "duration": 30,
    "start_time": "2023-04-07T06:25:27.256Z"
   },
   {
    "duration": 3,
    "start_time": "2023-04-07T06:25:27.287Z"
   },
   {
    "duration": 47,
    "start_time": "2023-04-07T06:25:27.292Z"
   },
   {
    "duration": 47863,
    "start_time": "2023-04-07T06:25:27.341Z"
   },
   {
    "duration": 516,
    "start_time": "2023-04-07T06:26:15.206Z"
   },
   {
    "duration": 402,
    "start_time": "2023-04-07T06:26:15.723Z"
   },
   {
    "duration": 16,
    "start_time": "2023-04-07T06:26:16.127Z"
   },
   {
    "duration": 16454,
    "start_time": "2023-04-07T06:26:16.144Z"
   },
   {
    "duration": 223,
    "start_time": "2023-04-07T06:26:32.600Z"
   },
   {
    "duration": 166,
    "start_time": "2023-04-07T06:26:32.825Z"
   },
   {
    "duration": 14,
    "start_time": "2023-04-07T06:26:32.993Z"
   },
   {
    "duration": 4,
    "start_time": "2023-04-07T06:26:33.008Z"
   },
   {
    "duration": 19379,
    "start_time": "2023-04-07T06:26:33.013Z"
   },
   {
    "duration": 177,
    "start_time": "2023-04-07T06:26:52.394Z"
   },
   {
    "duration": 7,
    "start_time": "2023-04-07T06:26:52.573Z"
   },
   {
    "duration": 22,
    "start_time": "2023-04-07T06:26:52.670Z"
   },
   {
    "duration": 2182,
    "start_time": "2023-04-07T06:26:52.695Z"
   },
   {
    "duration": 290,
    "start_time": "2023-04-07T06:26:54.880Z"
   },
   {
    "duration": 94,
    "start_time": "2023-04-07T06:26:55.177Z"
   },
   {
    "duration": 234595,
    "start_time": "2023-04-07T06:26:55.273Z"
   },
   {
    "duration": 52968,
    "start_time": "2023-04-07T06:30:49.873Z"
   },
   {
    "duration": 4,
    "start_time": "2023-04-07T06:38:01.814Z"
   },
   {
    "duration": 5,
    "start_time": "2023-04-07T06:38:09.896Z"
   },
   {
    "duration": 3,
    "start_time": "2023-04-07T06:45:30.126Z"
   },
   {
    "duration": 3,
    "start_time": "2023-04-07T06:47:18.202Z"
   },
   {
    "duration": 4,
    "start_time": "2023-04-07T06:47:25.602Z"
   },
   {
    "duration": 4,
    "start_time": "2023-04-07T06:48:16.847Z"
   },
   {
    "duration": 2427913,
    "start_time": "2023-04-07T06:51:35.001Z"
   },
   {
    "duration": 141905,
    "start_time": "2023-04-07T07:32:28.471Z"
   },
   {
    "duration": 2,
    "start_time": "2023-04-07T07:36:19.638Z"
   },
   {
    "duration": 12329,
    "start_time": "2023-04-07T07:36:48.172Z"
   },
   {
    "duration": 158,
    "start_time": "2023-04-07T07:37:57.336Z"
   },
   {
    "duration": 5,
    "start_time": "2023-04-07T07:38:14.524Z"
   },
   {
    "duration": 3,
    "start_time": "2023-04-07T07:38:29.310Z"
   },
   {
    "duration": 24804,
    "start_time": "2023-04-07T07:38:30.296Z"
   },
   {
    "duration": 189,
    "start_time": "2023-04-07T07:38:56.789Z"
   },
   {
    "duration": 5,
    "start_time": "2023-04-07T07:38:57.688Z"
   },
   {
    "duration": 8,
    "start_time": "2023-04-07T07:39:05.989Z"
   },
   {
    "duration": 57992,
    "start_time": "2023-04-07T07:39:06.934Z"
   },
   {
    "duration": 254,
    "start_time": "2023-04-07T07:40:06.695Z"
   },
   {
    "duration": 8,
    "start_time": "2023-04-07T07:40:07.480Z"
   },
   {
    "duration": 3,
    "start_time": "2023-04-07T07:40:20.568Z"
   },
   {
    "duration": 83822,
    "start_time": "2023-04-07T07:40:23.068Z"
   },
   {
    "duration": 309,
    "start_time": "2023-04-07T07:41:55.683Z"
   },
   {
    "duration": 5,
    "start_time": "2023-04-07T07:41:56.687Z"
   },
   {
    "duration": 214709,
    "start_time": "2023-04-07T07:46:03.316Z"
   },
   {
    "duration": 3852243,
    "start_time": "2023-04-07T07:51:52.623Z"
   },
   {
    "duration": 4600,
    "start_time": "2023-04-07T09:48:39.595Z"
   },
   {
    "duration": 4120,
    "start_time": "2023-04-07T09:48:44.197Z"
   },
   {
    "duration": 4,
    "start_time": "2023-04-07T09:48:48.319Z"
   },
   {
    "duration": 743,
    "start_time": "2023-04-07T09:48:48.325Z"
   },
   {
    "duration": 20,
    "start_time": "2023-04-07T09:48:49.070Z"
   },
   {
    "duration": 931,
    "start_time": "2023-04-07T09:48:49.091Z"
   },
   {
    "duration": 120,
    "start_time": "2023-04-07T09:48:50.024Z"
   },
   {
    "duration": 349,
    "start_time": "2023-04-07T09:48:50.146Z"
   },
   {
    "duration": 405,
    "start_time": "2023-04-07T09:48:50.497Z"
   },
   {
    "duration": 110,
    "start_time": "2023-04-07T09:48:50.904Z"
   },
   {
    "duration": 22,
    "start_time": "2023-04-07T09:48:51.015Z"
   },
   {
    "duration": 1401,
    "start_time": "2023-04-07T09:48:51.039Z"
   },
   {
    "duration": 1407,
    "start_time": "2023-04-07T09:48:52.442Z"
   },
   {
    "duration": 1893,
    "start_time": "2023-04-07T09:48:53.850Z"
   },
   {
    "duration": 18,
    "start_time": "2023-04-07T09:48:55.745Z"
   },
   {
    "duration": 35,
    "start_time": "2023-04-07T09:48:55.769Z"
   },
   {
    "duration": 18,
    "start_time": "2023-04-07T09:48:55.806Z"
   },
   {
    "duration": 7281,
    "start_time": "2023-04-07T09:48:55.826Z"
   },
   {
    "duration": 6088,
    "start_time": "2023-04-07T09:49:03.109Z"
   },
   {
    "duration": 10231,
    "start_time": "2023-04-07T09:49:09.198Z"
   },
   {
    "duration": 25,
    "start_time": "2023-04-07T09:49:19.431Z"
   },
   {
    "duration": 36,
    "start_time": "2023-04-07T09:49:19.458Z"
   },
   {
    "duration": 15,
    "start_time": "2023-04-07T09:49:19.496Z"
   },
   {
    "duration": 18,
    "start_time": "2023-04-07T09:49:19.512Z"
   },
   {
    "duration": 47,
    "start_time": "2023-04-07T09:49:19.532Z"
   },
   {
    "duration": 17,
    "start_time": "2023-04-07T09:49:19.581Z"
   },
   {
    "duration": 94,
    "start_time": "2023-04-07T09:49:19.599Z"
   },
   {
    "duration": 174,
    "start_time": "2023-04-07T09:49:19.697Z"
   },
   {
    "duration": 412,
    "start_time": "2023-04-07T09:49:19.873Z"
   },
   {
    "duration": 15,
    "start_time": "2023-04-07T09:49:20.287Z"
   },
   {
    "duration": 8173,
    "start_time": "2023-04-07T09:49:20.304Z"
   },
   {
    "duration": 10,
    "start_time": "2023-04-07T09:49:28.478Z"
   },
   {
    "duration": 17,
    "start_time": "2023-04-07T09:49:28.489Z"
   },
   {
    "duration": 29,
    "start_time": "2023-04-07T09:49:28.508Z"
   },
   {
    "duration": 30,
    "start_time": "2023-04-07T09:49:28.539Z"
   },
   {
    "duration": 45,
    "start_time": "2023-04-07T09:49:28.570Z"
   },
   {
    "duration": 18,
    "start_time": "2023-04-07T09:49:28.616Z"
   },
   {
    "duration": 59,
    "start_time": "2023-04-07T09:49:28.635Z"
   },
   {
    "duration": 18,
    "start_time": "2023-04-07T09:49:28.696Z"
   },
   {
    "duration": 241,
    "start_time": "2023-04-07T09:49:28.715Z"
   },
   {
    "duration": 167,
    "start_time": "2023-04-07T09:49:28.958Z"
   },
   {
    "duration": 17,
    "start_time": "2023-04-07T09:49:29.126Z"
   },
   {
    "duration": 54,
    "start_time": "2023-04-07T09:49:29.144Z"
   },
   {
    "duration": 154,
    "start_time": "2023-04-07T09:49:29.199Z"
   },
   {
    "duration": 442,
    "start_time": "2023-04-07T09:49:29.354Z"
   },
   {
    "duration": 25,
    "start_time": "2023-04-07T09:49:29.798Z"
   },
   {
    "duration": 87,
    "start_time": "2023-04-07T09:49:29.825Z"
   },
   {
    "duration": 143,
    "start_time": "2023-04-07T09:49:29.914Z"
   },
   {
    "duration": 393,
    "start_time": "2023-04-07T09:49:30.059Z"
   },
   {
    "duration": 35,
    "start_time": "2023-04-07T09:49:30.454Z"
   },
   {
    "duration": 121,
    "start_time": "2023-04-07T09:49:30.491Z"
   },
   {
    "duration": 36,
    "start_time": "2023-04-07T09:49:30.614Z"
   },
   {
    "duration": 25,
    "start_time": "2023-04-07T09:49:30.652Z"
   },
   {
    "duration": 41,
    "start_time": "2023-04-07T09:49:30.679Z"
   },
   {
    "duration": 82,
    "start_time": "2023-04-07T09:49:30.722Z"
   },
   {
    "duration": 76,
    "start_time": "2023-04-07T09:49:30.806Z"
   },
   {
    "duration": 229,
    "start_time": "2023-04-07T09:49:30.884Z"
   },
   {
    "duration": 21,
    "start_time": "2023-04-07T09:49:31.114Z"
   },
   {
    "duration": 50,
    "start_time": "2023-04-07T09:49:31.137Z"
   },
   {
    "duration": 34,
    "start_time": "2023-04-07T09:49:31.189Z"
   },
   {
    "duration": 90,
    "start_time": "2023-04-07T09:49:31.225Z"
   },
   {
    "duration": 2,
    "start_time": "2023-04-07T09:49:31.317Z"
   },
   {
    "duration": 49,
    "start_time": "2023-04-07T09:49:31.320Z"
   },
   {
    "duration": 57,
    "start_time": "2023-04-07T09:49:31.371Z"
   },
   {
    "duration": 20,
    "start_time": "2023-04-07T09:49:31.430Z"
   },
   {
    "duration": 71,
    "start_time": "2023-04-07T09:49:31.452Z"
   },
   {
    "duration": 50788,
    "start_time": "2023-04-07T09:49:31.525Z"
   },
   {
    "duration": 1205,
    "start_time": "2023-04-07T09:50:22.315Z"
   },
   {
    "duration": 548,
    "start_time": "2023-04-07T09:50:23.521Z"
   },
   {
    "duration": 14,
    "start_time": "2023-04-07T09:50:24.071Z"
   },
   {
    "duration": 16486,
    "start_time": "2023-04-07T09:50:24.087Z"
   },
   {
    "duration": 213,
    "start_time": "2023-04-07T09:50:40.575Z"
   },
   {
    "duration": 167,
    "start_time": "2023-04-07T09:50:40.790Z"
   },
   {
    "duration": 17,
    "start_time": "2023-04-07T09:50:40.959Z"
   },
   {
    "duration": 12,
    "start_time": "2023-04-07T09:50:40.977Z"
   },
   {
    "duration": 5462,
    "start_time": "2023-04-07T09:53:49.252Z"
   },
   {
    "duration": 4045,
    "start_time": "2023-04-07T09:53:54.716Z"
   },
   {
    "duration": 1232,
    "start_time": "2023-04-07T09:53:58.763Z"
   },
   {
    "duration": 934,
    "start_time": "2023-04-07T09:53:59.997Z"
   },
   {
    "duration": 17,
    "start_time": "2023-04-07T09:54:00.933Z"
   },
   {
    "duration": 707,
    "start_time": "2023-04-07T09:54:00.951Z"
   },
   {
    "duration": 98,
    "start_time": "2023-04-07T09:54:01.659Z"
   },
   {
    "duration": 482,
    "start_time": "2023-04-07T09:54:01.759Z"
   },
   {
    "duration": 431,
    "start_time": "2023-04-07T09:54:02.243Z"
   },
   {
    "duration": 136,
    "start_time": "2023-04-07T09:54:02.677Z"
   },
   {
    "duration": 18,
    "start_time": "2023-04-07T09:54:02.815Z"
   },
   {
    "duration": 1206,
    "start_time": "2023-04-07T09:54:02.834Z"
   },
   {
    "duration": 1212,
    "start_time": "2023-04-07T09:54:04.041Z"
   },
   {
    "duration": 1604,
    "start_time": "2023-04-07T09:54:05.255Z"
   },
   {
    "duration": 20,
    "start_time": "2023-04-07T09:54:06.861Z"
   },
   {
    "duration": 21,
    "start_time": "2023-04-07T09:54:06.882Z"
   },
   {
    "duration": 19,
    "start_time": "2023-04-07T09:54:06.905Z"
   },
   {
    "duration": 7573,
    "start_time": "2023-04-07T09:54:06.926Z"
   },
   {
    "duration": 6212,
    "start_time": "2023-04-07T09:54:14.500Z"
   },
   {
    "duration": 9835,
    "start_time": "2023-04-07T09:54:20.713Z"
   },
   {
    "duration": 20,
    "start_time": "2023-04-07T09:54:30.549Z"
   },
   {
    "duration": 71,
    "start_time": "2023-04-07T09:54:30.571Z"
   },
   {
    "duration": 45,
    "start_time": "2023-04-07T09:54:30.644Z"
   },
   {
    "duration": 57,
    "start_time": "2023-04-07T09:54:30.691Z"
   },
   {
    "duration": 69,
    "start_time": "2023-04-07T09:54:30.750Z"
   },
   {
    "duration": 42,
    "start_time": "2023-04-07T09:54:30.821Z"
   },
   {
    "duration": 101,
    "start_time": "2023-04-07T09:54:30.864Z"
   },
   {
    "duration": 165,
    "start_time": "2023-04-07T09:54:30.969Z"
   },
   {
    "duration": 404,
    "start_time": "2023-04-07T09:54:31.135Z"
   },
   {
    "duration": 14,
    "start_time": "2023-04-07T09:54:31.541Z"
   },
   {
    "duration": 7728,
    "start_time": "2023-04-07T09:54:31.557Z"
   },
   {
    "duration": 10,
    "start_time": "2023-04-07T09:54:39.287Z"
   },
   {
    "duration": 16,
    "start_time": "2023-04-07T09:54:39.298Z"
   },
   {
    "duration": 28,
    "start_time": "2023-04-07T09:54:39.315Z"
   },
   {
    "duration": 27,
    "start_time": "2023-04-07T09:54:39.344Z"
   },
   {
    "duration": 55,
    "start_time": "2023-04-07T09:54:39.372Z"
   },
   {
    "duration": 17,
    "start_time": "2023-04-07T09:54:39.429Z"
   },
   {
    "duration": 28,
    "start_time": "2023-04-07T09:54:39.468Z"
   },
   {
    "duration": 19,
    "start_time": "2023-04-07T09:54:39.498Z"
   },
   {
    "duration": 272,
    "start_time": "2023-04-07T09:54:39.518Z"
   },
   {
    "duration": 169,
    "start_time": "2023-04-07T09:54:39.792Z"
   },
   {
    "duration": 16,
    "start_time": "2023-04-07T09:54:39.963Z"
   },
   {
    "duration": 47,
    "start_time": "2023-04-07T09:54:39.981Z"
   },
   {
    "duration": 161,
    "start_time": "2023-04-07T09:54:40.030Z"
   },
   {
    "duration": 376,
    "start_time": "2023-04-07T09:54:40.193Z"
   },
   {
    "duration": 23,
    "start_time": "2023-04-07T09:54:40.571Z"
   },
   {
    "duration": 100,
    "start_time": "2023-04-07T09:54:40.596Z"
   },
   {
    "duration": 147,
    "start_time": "2023-04-07T09:54:40.698Z"
   },
   {
    "duration": 363,
    "start_time": "2023-04-07T09:54:40.846Z"
   },
   {
    "duration": 23,
    "start_time": "2023-04-07T09:54:41.211Z"
   },
   {
    "duration": 82,
    "start_time": "2023-04-07T09:54:41.236Z"
   },
   {
    "duration": 28,
    "start_time": "2023-04-07T09:54:41.320Z"
   },
   {
    "duration": 23,
    "start_time": "2023-04-07T09:54:41.350Z"
   },
   {
    "duration": 5,
    "start_time": "2023-04-07T09:54:41.374Z"
   },
   {
    "duration": 25,
    "start_time": "2023-04-07T09:54:41.380Z"
   },
   {
    "duration": 5,
    "start_time": "2023-04-07T09:54:41.406Z"
   },
   {
    "duration": 195,
    "start_time": "2023-04-07T09:54:41.412Z"
   },
   {
    "duration": 20,
    "start_time": "2023-04-07T09:54:41.608Z"
   },
   {
    "duration": 38,
    "start_time": "2023-04-07T09:54:41.630Z"
   },
   {
    "duration": 15,
    "start_time": "2023-04-07T09:54:41.670Z"
   },
   {
    "duration": 51,
    "start_time": "2023-04-07T09:54:41.686Z"
   },
   {
    "duration": 2,
    "start_time": "2023-04-07T09:54:41.738Z"
   },
   {
    "duration": 5,
    "start_time": "2023-04-07T09:54:41.742Z"
   },
   {
    "duration": 38,
    "start_time": "2023-04-07T09:54:41.748Z"
   },
   {
    "duration": 3,
    "start_time": "2023-04-07T09:54:41.787Z"
   },
   {
    "duration": 48,
    "start_time": "2023-04-07T09:54:41.791Z"
   },
   {
    "duration": 47533,
    "start_time": "2023-04-07T09:54:41.841Z"
   },
   {
    "duration": 510,
    "start_time": "2023-04-07T09:55:29.376Z"
   },
   {
    "duration": 390,
    "start_time": "2023-04-07T09:55:29.888Z"
   },
   {
    "duration": 15,
    "start_time": "2023-04-07T09:55:30.280Z"
   },
   {
    "duration": 16593,
    "start_time": "2023-04-07T09:55:30.297Z"
   },
   {
    "duration": 239,
    "start_time": "2023-04-07T09:55:46.892Z"
   },
   {
    "duration": 186,
    "start_time": "2023-04-07T09:55:47.133Z"
   },
   {
    "duration": 16,
    "start_time": "2023-04-07T09:55:47.322Z"
   },
   {
    "duration": 16,
    "start_time": "2023-04-07T09:55:47.339Z"
   },
   {
    "duration": 24332,
    "start_time": "2023-04-07T09:55:47.356Z"
   },
   {
    "duration": 182,
    "start_time": "2023-04-07T09:56:11.690Z"
   },
   {
    "duration": 6,
    "start_time": "2023-04-07T09:56:11.874Z"
   },
   {
    "duration": 3,
    "start_time": "2023-04-07T09:56:11.970Z"
   },
   {
    "duration": 2495,
    "start_time": "2023-04-07T09:56:11.975Z"
   },
   {
    "duration": 202,
    "start_time": "2023-04-07T09:56:14.472Z"
   },
   {
    "duration": 96,
    "start_time": "2023-04-07T09:56:14.680Z"
   },
   {
    "duration": 273201,
    "start_time": "2023-04-07T09:56:14.777Z"
   },
   {
    "duration": 6,
    "start_time": "2023-04-07T10:00:47.980Z"
   },
   {
    "duration": 99,
    "start_time": "2023-04-07T10:00:48.069Z"
   },
   {
    "duration": 79653,
    "start_time": "2023-04-07T10:00:48.170Z"
   },
   {
    "duration": 299,
    "start_time": "2023-04-07T10:02:07.825Z"
   },
   {
    "duration": 4,
    "start_time": "2023-04-07T10:02:08.126Z"
   },
   {
    "duration": 1009347,
    "start_time": "2023-04-07T10:02:08.132Z"
   },
   {
    "duration": 190,
    "start_time": "2023-04-07T10:20:49.398Z"
   },
   {
    "duration": 98,
    "start_time": "2023-04-07T10:21:29.613Z"
   },
   {
    "duration": 821674,
    "start_time": "2023-04-07T10:21:59.246Z"
   },
   {
    "duration": 4762,
    "start_time": "2023-04-07T10:46:02.586Z"
   },
   {
    "duration": 4035,
    "start_time": "2023-04-07T10:46:07.350Z"
   },
   {
    "duration": 1249,
    "start_time": "2023-04-07T10:46:11.387Z"
   },
   {
    "duration": 804,
    "start_time": "2023-04-07T10:46:12.639Z"
   },
   {
    "duration": 32,
    "start_time": "2023-04-07T10:46:13.445Z"
   },
   {
    "duration": 836,
    "start_time": "2023-04-07T10:46:13.479Z"
   },
   {
    "duration": 120,
    "start_time": "2023-04-07T10:46:14.317Z"
   },
   {
    "duration": 500,
    "start_time": "2023-04-07T10:46:14.439Z"
   },
   {
    "duration": 441,
    "start_time": "2023-04-07T10:46:14.940Z"
   },
   {
    "duration": 151,
    "start_time": "2023-04-07T10:46:15.383Z"
   },
   {
    "duration": 20,
    "start_time": "2023-04-07T10:46:15.535Z"
   },
   {
    "duration": 1465,
    "start_time": "2023-04-07T10:46:15.568Z"
   },
   {
    "duration": 1398,
    "start_time": "2023-04-07T10:46:17.035Z"
   },
   {
    "duration": 1855,
    "start_time": "2023-04-07T10:46:18.439Z"
   },
   {
    "duration": 18,
    "start_time": "2023-04-07T10:46:20.295Z"
   },
   {
    "duration": 27,
    "start_time": "2023-04-07T10:46:20.314Z"
   },
   {
    "duration": 18,
    "start_time": "2023-04-07T10:46:20.343Z"
   },
   {
    "duration": 7744,
    "start_time": "2023-04-07T10:46:20.369Z"
   },
   {
    "duration": 6467,
    "start_time": "2023-04-07T10:46:28.116Z"
   },
   {
    "duration": 11131,
    "start_time": "2023-04-07T10:46:34.585Z"
   },
   {
    "duration": 17,
    "start_time": "2023-04-07T10:46:45.717Z"
   },
   {
    "duration": 39,
    "start_time": "2023-04-07T10:46:45.736Z"
   },
   {
    "duration": 20,
    "start_time": "2023-04-07T10:46:45.779Z"
   },
   {
    "duration": 31,
    "start_time": "2023-04-07T10:46:45.801Z"
   },
   {
    "duration": 61,
    "start_time": "2023-04-07T10:46:45.833Z"
   },
   {
    "duration": 16,
    "start_time": "2023-04-07T10:46:45.896Z"
   },
   {
    "duration": 88,
    "start_time": "2023-04-07T10:46:45.913Z"
   },
   {
    "duration": 182,
    "start_time": "2023-04-07T10:46:46.003Z"
   },
   {
    "duration": 424,
    "start_time": "2023-04-07T10:46:46.186Z"
   },
   {
    "duration": 15,
    "start_time": "2023-04-07T10:46:46.611Z"
   },
   {
    "duration": 8632,
    "start_time": "2023-04-07T10:46:46.627Z"
   },
   {
    "duration": 22,
    "start_time": "2023-04-07T10:46:55.260Z"
   },
   {
    "duration": 17,
    "start_time": "2023-04-07T10:46:55.283Z"
   },
   {
    "duration": 29,
    "start_time": "2023-04-07T10:46:55.301Z"
   },
   {
    "duration": 8,
    "start_time": "2023-04-07T10:46:55.331Z"
   },
   {
    "duration": 70,
    "start_time": "2023-04-07T10:46:55.340Z"
   },
   {
    "duration": 16,
    "start_time": "2023-04-07T10:46:55.412Z"
   },
   {
    "duration": 49,
    "start_time": "2023-04-07T10:46:55.429Z"
   },
   {
    "duration": 19,
    "start_time": "2023-04-07T10:46:55.479Z"
   },
   {
    "duration": 231,
    "start_time": "2023-04-07T10:46:55.500Z"
   },
   {
    "duration": 164,
    "start_time": "2023-04-07T10:46:55.735Z"
   },
   {
    "duration": 16,
    "start_time": "2023-04-07T10:46:55.900Z"
   },
   {
    "duration": 65,
    "start_time": "2023-04-07T10:46:55.917Z"
   },
   {
    "duration": 151,
    "start_time": "2023-04-07T10:46:55.984Z"
   },
   {
    "duration": 387,
    "start_time": "2023-04-07T10:46:56.136Z"
   },
   {
    "duration": 22,
    "start_time": "2023-04-07T10:46:56.525Z"
   },
   {
    "duration": 90,
    "start_time": "2023-04-07T10:46:56.548Z"
   },
   {
    "duration": 154,
    "start_time": "2023-04-07T10:46:56.640Z"
   },
   {
    "duration": 382,
    "start_time": "2023-04-07T10:46:56.796Z"
   },
   {
    "duration": 23,
    "start_time": "2023-04-07T10:46:57.181Z"
   },
   {
    "duration": 80,
    "start_time": "2023-04-07T10:46:57.205Z"
   },
   {
    "duration": 29,
    "start_time": "2023-04-07T10:46:57.287Z"
   },
   {
    "duration": 13,
    "start_time": "2023-04-07T10:46:57.317Z"
   },
   {
    "duration": 11,
    "start_time": "2023-04-07T10:46:57.332Z"
   },
   {
    "duration": 27,
    "start_time": "2023-04-07T10:46:57.345Z"
   },
   {
    "duration": 6,
    "start_time": "2023-04-07T10:46:57.375Z"
   },
   {
    "duration": 218,
    "start_time": "2023-04-07T10:46:57.383Z"
   },
   {
    "duration": 20,
    "start_time": "2023-04-07T10:46:57.603Z"
   },
   {
    "duration": 27,
    "start_time": "2023-04-07T10:46:57.624Z"
   },
   {
    "duration": 30,
    "start_time": "2023-04-07T10:46:57.653Z"
   },
   {
    "duration": 52,
    "start_time": "2023-04-07T10:46:57.684Z"
   },
   {
    "duration": 3,
    "start_time": "2023-04-07T10:46:57.737Z"
   },
   {
    "duration": 9,
    "start_time": "2023-04-07T10:46:57.741Z"
   },
   {
    "duration": 35,
    "start_time": "2023-04-07T10:46:57.752Z"
   },
   {
    "duration": 2,
    "start_time": "2023-04-07T10:46:57.789Z"
   },
   {
    "duration": 50,
    "start_time": "2023-04-07T10:46:57.793Z"
   },
   {
    "duration": 48559,
    "start_time": "2023-04-07T10:46:57.845Z"
   },
   {
    "duration": 523,
    "start_time": "2023-04-07T10:47:46.406Z"
   },
   {
    "duration": 402,
    "start_time": "2023-04-07T10:47:46.931Z"
   },
   {
    "duration": 17,
    "start_time": "2023-04-07T10:47:47.334Z"
   },
   {
    "duration": 17006,
    "start_time": "2023-04-07T10:47:47.353Z"
   },
   {
    "duration": 221,
    "start_time": "2023-04-07T10:48:04.360Z"
   },
   {
    "duration": 165,
    "start_time": "2023-04-07T10:48:04.583Z"
   },
   {
    "duration": 29,
    "start_time": "2023-04-07T10:48:04.750Z"
   },
   {
    "duration": 5,
    "start_time": "2023-04-07T10:48:04.781Z"
   },
   {
    "duration": 7,
    "start_time": "2023-04-07T10:48:04.788Z"
   },
   {
    "duration": 30295,
    "start_time": "2023-04-07T10:48:04.796Z"
   },
   {
    "duration": 185,
    "start_time": "2023-04-07T10:48:35.092Z"
   },
   {
    "duration": 8,
    "start_time": "2023-04-07T10:48:35.279Z"
   },
   {
    "duration": 3,
    "start_time": "2023-04-07T10:48:35.370Z"
   },
   {
    "duration": 4019,
    "start_time": "2023-04-07T10:48:35.374Z"
   },
   {
    "duration": 210,
    "start_time": "2023-04-07T10:48:39.472Z"
   },
   {
    "duration": 84,
    "start_time": "2023-04-07T10:48:39.687Z"
   },
   {
    "duration": 351416,
    "start_time": "2023-04-07T10:48:39.774Z"
   },
   {
    "duration": 8,
    "start_time": "2023-04-07T10:54:31.274Z"
   },
   {
    "duration": 89,
    "start_time": "2023-04-07T10:54:31.288Z"
   },
   {
    "duration": 757109,
    "start_time": "2023-04-07T10:54:31.378Z"
   },
   {
    "duration": 2138,
    "start_time": "2023-04-07T11:07:08.489Z"
   },
   {
    "duration": 4,
    "start_time": "2023-04-07T11:07:10.629Z"
   },
   {
    "duration": 1008688,
    "start_time": "2023-04-07T11:07:10.634Z"
   },
   {
    "duration": 791579,
    "start_time": "2023-04-07T11:23:59.324Z"
   },
   {
    "duration": 41177,
    "start_time": "2023-04-07T11:41:59.688Z"
   },
   {
    "duration": 67564,
    "start_time": "2023-04-07T11:44:54.404Z"
   },
   {
    "duration": 111,
    "start_time": "2023-04-07T11:46:26.815Z"
   },
   {
    "duration": 77,
    "start_time": "2023-04-07T11:46:37.107Z"
   },
   {
    "duration": 13033,
    "start_time": "2023-04-07T11:46:41.823Z"
   },
   {
    "duration": 85,
    "start_time": "2023-04-07T11:46:58.308Z"
   },
   {
    "duration": 4649,
    "start_time": "2023-04-07T14:00:22.802Z"
   },
   {
    "duration": 4112,
    "start_time": "2023-04-07T14:00:27.453Z"
   },
   {
    "duration": 1178,
    "start_time": "2023-04-07T14:00:31.567Z"
   },
   {
    "duration": 771,
    "start_time": "2023-04-07T14:00:32.747Z"
   },
   {
    "duration": 15,
    "start_time": "2023-04-07T14:00:33.520Z"
   },
   {
    "duration": 704,
    "start_time": "2023-04-07T14:00:33.537Z"
   },
   {
    "duration": 104,
    "start_time": "2023-04-07T14:00:34.242Z"
   },
   {
    "duration": 497,
    "start_time": "2023-04-07T14:00:34.347Z"
   },
   {
    "duration": 436,
    "start_time": "2023-04-07T14:00:34.845Z"
   },
   {
    "duration": 138,
    "start_time": "2023-04-07T14:00:35.283Z"
   },
   {
    "duration": 18,
    "start_time": "2023-04-07T14:00:35.423Z"
   },
   {
    "duration": 1282,
    "start_time": "2023-04-07T14:00:35.443Z"
   },
   {
    "duration": 1249,
    "start_time": "2023-04-07T14:00:36.726Z"
   },
   {
    "duration": 1761,
    "start_time": "2023-04-07T14:00:37.977Z"
   },
   {
    "duration": 19,
    "start_time": "2023-04-07T14:00:39.740Z"
   },
   {
    "duration": 25,
    "start_time": "2023-04-07T14:00:39.760Z"
   },
   {
    "duration": 19,
    "start_time": "2023-04-07T14:00:39.787Z"
   },
   {
    "duration": 7663,
    "start_time": "2023-04-07T14:00:39.808Z"
   },
   {
    "duration": 6547,
    "start_time": "2023-04-07T14:00:47.473Z"
   },
   {
    "duration": 10490,
    "start_time": "2023-04-07T14:00:54.022Z"
   },
   {
    "duration": 17,
    "start_time": "2023-04-07T14:01:04.513Z"
   },
   {
    "duration": 36,
    "start_time": "2023-04-07T14:01:04.533Z"
   },
   {
    "duration": 16,
    "start_time": "2023-04-07T14:01:04.570Z"
   },
   {
    "duration": 17,
    "start_time": "2023-04-07T14:01:04.587Z"
   },
   {
    "duration": 27,
    "start_time": "2023-04-07T14:01:04.606Z"
   },
   {
    "duration": 35,
    "start_time": "2023-04-07T14:01:04.634Z"
   },
   {
    "duration": 86,
    "start_time": "2023-04-07T14:01:04.670Z"
   },
   {
    "duration": 164,
    "start_time": "2023-04-07T14:01:04.768Z"
   },
   {
    "duration": 398,
    "start_time": "2023-04-07T14:01:04.933Z"
   },
   {
    "duration": 15,
    "start_time": "2023-04-07T14:01:05.333Z"
   },
   {
    "duration": 7652,
    "start_time": "2023-04-07T14:01:05.349Z"
   },
   {
    "duration": 11,
    "start_time": "2023-04-07T14:01:13.003Z"
   },
   {
    "duration": 20,
    "start_time": "2023-04-07T14:01:13.015Z"
   },
   {
    "duration": 39,
    "start_time": "2023-04-07T14:01:13.036Z"
   },
   {
    "duration": 7,
    "start_time": "2023-04-07T14:01:13.077Z"
   },
   {
    "duration": 55,
    "start_time": "2023-04-07T14:01:13.085Z"
   },
   {
    "duration": 31,
    "start_time": "2023-04-07T14:01:13.142Z"
   },
   {
    "duration": 29,
    "start_time": "2023-04-07T14:01:13.174Z"
   },
   {
    "duration": 19,
    "start_time": "2023-04-07T14:01:13.204Z"
   },
   {
    "duration": 244,
    "start_time": "2023-04-07T14:01:13.224Z"
   },
   {
    "duration": 153,
    "start_time": "2023-04-07T14:01:13.470Z"
   },
   {
    "duration": 16,
    "start_time": "2023-04-07T14:01:13.625Z"
   },
   {
    "duration": 58,
    "start_time": "2023-04-07T14:01:13.642Z"
   },
   {
    "duration": 156,
    "start_time": "2023-04-07T14:01:13.702Z"
   },
   {
    "duration": 370,
    "start_time": "2023-04-07T14:01:13.859Z"
   },
   {
    "duration": 24,
    "start_time": "2023-04-07T14:01:14.231Z"
   },
   {
    "duration": 91,
    "start_time": "2023-04-07T14:01:14.256Z"
   },
   {
    "duration": 143,
    "start_time": "2023-04-07T14:01:14.349Z"
   },
   {
    "duration": 362,
    "start_time": "2023-04-07T14:01:14.494Z"
   },
   {
    "duration": 29,
    "start_time": "2023-04-07T14:01:14.857Z"
   },
   {
    "duration": 63,
    "start_time": "2023-04-07T14:01:14.887Z"
   },
   {
    "duration": 40,
    "start_time": "2023-04-07T14:01:14.952Z"
   },
   {
    "duration": 13,
    "start_time": "2023-04-07T14:01:14.994Z"
   },
   {
    "duration": 13,
    "start_time": "2023-04-07T14:01:15.008Z"
   },
   {
    "duration": 60,
    "start_time": "2023-04-07T14:01:15.023Z"
   },
   {
    "duration": 5,
    "start_time": "2023-04-07T14:01:15.085Z"
   },
   {
    "duration": 182,
    "start_time": "2023-04-07T14:01:15.092Z"
   },
   {
    "duration": 21,
    "start_time": "2023-04-07T14:01:15.275Z"
   },
   {
    "duration": 32,
    "start_time": "2023-04-07T14:01:15.298Z"
   },
   {
    "duration": 22,
    "start_time": "2023-04-07T14:01:15.331Z"
   },
   {
    "duration": 63,
    "start_time": "2023-04-07T14:01:15.355Z"
   },
   {
    "duration": 2,
    "start_time": "2023-04-07T14:01:15.419Z"
   },
   {
    "duration": 19,
    "start_time": "2023-04-07T14:01:15.423Z"
   },
   {
    "duration": 40,
    "start_time": "2023-04-07T14:01:15.444Z"
   },
   {
    "duration": 8,
    "start_time": "2023-04-07T14:01:15.486Z"
   },
   {
    "duration": 51,
    "start_time": "2023-04-07T14:01:15.495Z"
   },
   {
    "duration": 48552,
    "start_time": "2023-04-07T14:01:15.547Z"
   },
   {
    "duration": 500,
    "start_time": "2023-04-07T14:02:04.101Z"
   },
   {
    "duration": 381,
    "start_time": "2023-04-07T14:02:04.603Z"
   },
   {
    "duration": 15,
    "start_time": "2023-04-07T14:02:04.986Z"
   },
   {
    "duration": 16750,
    "start_time": "2023-04-07T14:02:05.002Z"
   },
   {
    "duration": 227,
    "start_time": "2023-04-07T14:02:21.754Z"
   },
   {
    "duration": 174,
    "start_time": "2023-04-07T14:02:21.983Z"
   },
   {
    "duration": 19,
    "start_time": "2023-04-07T14:02:22.159Z"
   },
   {
    "duration": 8,
    "start_time": "2023-04-07T14:02:22.179Z"
   },
   {
    "duration": 14,
    "start_time": "2023-04-07T14:02:22.189Z"
   },
   {
    "duration": 18592,
    "start_time": "2023-04-07T14:02:22.204Z"
   },
   {
    "duration": 172,
    "start_time": "2023-04-07T14:02:40.798Z"
   },
   {
    "duration": 5,
    "start_time": "2023-04-07T14:02:40.972Z"
   },
   {
    "duration": 16,
    "start_time": "2023-04-07T14:02:41.068Z"
   },
   {
    "duration": 2185,
    "start_time": "2023-04-07T14:02:41.086Z"
   },
   {
    "duration": 200,
    "start_time": "2023-04-07T14:02:43.276Z"
   },
   {
    "duration": 93,
    "start_time": "2023-04-07T14:02:43.478Z"
   },
   {
    "duration": 241799,
    "start_time": "2023-04-07T14:02:43.573Z"
   },
   {
    "duration": 7881,
    "start_time": "2023-04-07T16:14:20.271Z"
   },
   {
    "duration": 9244,
    "start_time": "2023-04-08T07:16:38.904Z"
   },
   {
    "duration": 5667,
    "start_time": "2023-04-08T07:16:51.803Z"
   },
   {
    "duration": 1475,
    "start_time": "2023-04-08T07:16:59.731Z"
   },
   {
    "duration": 112,
    "start_time": "2023-04-08T07:17:11.330Z"
   },
   {
    "duration": 4,
    "start_time": "2023-04-08T07:17:17.756Z"
   },
   {
    "duration": 4668,
    "start_time": "2023-04-08T07:18:56.743Z"
   },
   {
    "duration": 3991,
    "start_time": "2023-04-08T07:19:04.569Z"
   },
   {
    "duration": 1186,
    "start_time": "2023-04-08T07:19:10.620Z"
   },
   {
    "duration": 4519,
    "start_time": "2023-04-08T07:22:24.349Z"
   },
   {
    "duration": 4040,
    "start_time": "2023-04-08T07:22:28.870Z"
   },
   {
    "duration": 1169,
    "start_time": "2023-04-08T07:22:32.912Z"
   },
   {
    "duration": 923,
    "start_time": "2023-04-08T07:22:34.083Z"
   },
   {
    "duration": 18,
    "start_time": "2023-04-08T07:22:35.008Z"
   },
   {
    "duration": 772,
    "start_time": "2023-04-08T07:22:35.027Z"
   },
   {
    "duration": 113,
    "start_time": "2023-04-08T07:22:35.800Z"
   },
   {
    "duration": 415,
    "start_time": "2023-04-08T07:22:35.914Z"
   },
   {
    "duration": 423,
    "start_time": "2023-04-08T07:22:36.332Z"
   },
   {
    "duration": 138,
    "start_time": "2023-04-08T07:22:36.758Z"
   },
   {
    "duration": 18,
    "start_time": "2023-04-08T07:22:36.898Z"
   },
   {
    "duration": 1254,
    "start_time": "2023-04-08T07:22:36.918Z"
   },
   {
    "duration": 1257,
    "start_time": "2023-04-08T07:22:38.174Z"
   },
   {
    "duration": 1676,
    "start_time": "2023-04-08T07:22:39.433Z"
   },
   {
    "duration": 17,
    "start_time": "2023-04-08T07:22:41.111Z"
   },
   {
    "duration": 21,
    "start_time": "2023-04-08T07:22:41.129Z"
   },
   {
    "duration": 31,
    "start_time": "2023-04-08T07:22:41.152Z"
   },
   {
    "duration": 7534,
    "start_time": "2023-04-08T07:22:41.185Z"
   },
   {
    "duration": 6561,
    "start_time": "2023-04-08T07:22:48.720Z"
   },
   {
    "duration": 10580,
    "start_time": "2023-04-08T07:22:55.282Z"
   },
   {
    "duration": 16,
    "start_time": "2023-04-08T07:23:05.864Z"
   },
   {
    "duration": 44,
    "start_time": "2023-04-08T07:23:05.881Z"
   },
   {
    "duration": 19,
    "start_time": "2023-04-08T07:23:05.927Z"
   },
   {
    "duration": 23,
    "start_time": "2023-04-08T07:23:05.947Z"
   },
   {
    "duration": 46,
    "start_time": "2023-04-08T07:23:05.972Z"
   },
   {
    "duration": 21,
    "start_time": "2023-04-08T07:23:06.020Z"
   },
   {
    "duration": 103,
    "start_time": "2023-04-08T07:23:06.043Z"
   },
   {
    "duration": 184,
    "start_time": "2023-04-08T07:23:06.149Z"
   },
   {
    "duration": 427,
    "start_time": "2023-04-08T07:23:06.334Z"
   },
   {
    "duration": 20,
    "start_time": "2023-04-08T07:23:06.762Z"
   },
   {
    "duration": 8037,
    "start_time": "2023-04-08T07:23:06.784Z"
   },
   {
    "duration": 10,
    "start_time": "2023-04-08T07:23:14.823Z"
   },
   {
    "duration": 16,
    "start_time": "2023-04-08T07:23:14.835Z"
   },
   {
    "duration": 44,
    "start_time": "2023-04-08T07:23:14.853Z"
   },
   {
    "duration": 8,
    "start_time": "2023-04-08T07:23:14.899Z"
   },
   {
    "duration": 66,
    "start_time": "2023-04-08T07:23:14.909Z"
   },
   {
    "duration": 17,
    "start_time": "2023-04-08T07:23:14.976Z"
   },
   {
    "duration": 30,
    "start_time": "2023-04-08T07:23:14.994Z"
   },
   {
    "duration": 44,
    "start_time": "2023-04-08T07:23:15.026Z"
   },
   {
    "duration": 237,
    "start_time": "2023-04-08T07:23:15.071Z"
   },
   {
    "duration": 158,
    "start_time": "2023-04-08T07:23:15.309Z"
   },
   {
    "duration": 22,
    "start_time": "2023-04-08T07:23:15.469Z"
   },
   {
    "duration": 53,
    "start_time": "2023-04-08T07:23:15.493Z"
   },
   {
    "duration": 180,
    "start_time": "2023-04-08T07:23:15.548Z"
   },
   {
    "duration": 403,
    "start_time": "2023-04-08T07:23:15.730Z"
   },
   {
    "duration": 23,
    "start_time": "2023-04-08T07:23:16.135Z"
   },
   {
    "duration": 82,
    "start_time": "2023-04-08T07:23:16.169Z"
   },
   {
    "duration": 157,
    "start_time": "2023-04-08T07:23:16.253Z"
   },
   {
    "duration": 381,
    "start_time": "2023-04-08T07:23:16.412Z"
   },
   {
    "duration": 25,
    "start_time": "2023-04-08T07:23:16.795Z"
   },
   {
    "duration": 85,
    "start_time": "2023-04-08T07:23:16.822Z"
   },
   {
    "duration": 32,
    "start_time": "2023-04-08T07:23:16.909Z"
   },
   {
    "duration": 28,
    "start_time": "2023-04-08T07:23:16.943Z"
   },
   {
    "duration": 7,
    "start_time": "2023-04-08T07:23:16.973Z"
   },
   {
    "duration": 24,
    "start_time": "2023-04-08T07:23:16.981Z"
   },
   {
    "duration": 7,
    "start_time": "2023-04-08T07:23:17.006Z"
   },
   {
    "duration": 228,
    "start_time": "2023-04-08T07:23:17.015Z"
   },
   {
    "duration": 32,
    "start_time": "2023-04-08T07:23:17.244Z"
   },
   {
    "duration": 29,
    "start_time": "2023-04-08T07:23:17.277Z"
   },
   {
    "duration": 15,
    "start_time": "2023-04-08T07:23:17.308Z"
   },
   {
    "duration": 103,
    "start_time": "2023-04-08T07:23:17.325Z"
   },
   {
    "duration": 3,
    "start_time": "2023-04-08T07:23:17.430Z"
   },
   {
    "duration": 7,
    "start_time": "2023-04-08T07:23:17.435Z"
   },
   {
    "duration": 36,
    "start_time": "2023-04-08T07:23:17.444Z"
   },
   {
    "duration": 3,
    "start_time": "2023-04-08T07:23:17.483Z"
   },
   {
    "duration": 51,
    "start_time": "2023-04-08T07:23:17.488Z"
   },
   {
    "duration": 48523,
    "start_time": "2023-04-08T07:23:17.541Z"
   },
   {
    "duration": 517,
    "start_time": "2023-04-08T07:24:06.068Z"
   },
   {
    "duration": 389,
    "start_time": "2023-04-08T07:24:06.587Z"
   },
   {
    "duration": 15,
    "start_time": "2023-04-08T07:24:06.977Z"
   },
   {
    "duration": 16783,
    "start_time": "2023-04-08T07:24:06.994Z"
   },
   {
    "duration": 222,
    "start_time": "2023-04-08T07:24:23.779Z"
   },
   {
    "duration": 166,
    "start_time": "2023-04-08T07:24:24.002Z"
   },
   {
    "duration": 13,
    "start_time": "2023-04-08T07:24:24.170Z"
   },
   {
    "duration": 6,
    "start_time": "2023-04-08T07:24:41.401Z"
   },
   {
    "duration": 313126,
    "start_time": "2023-04-08T07:44:33.338Z"
   },
   {
    "duration": 820836,
    "start_time": "2023-04-08T07:49:50.379Z"
   },
   {
    "duration": 2730780,
    "start_time": "2023-04-08T08:14:50.480Z"
   },
   {
    "duration": 3,
    "start_time": "2023-04-08T09:05:47.486Z"
   },
   {
    "duration": 28611,
    "start_time": "2023-04-08T09:05:51.061Z"
   },
   {
    "duration": 387,
    "start_time": "2023-04-08T09:06:35.598Z"
   },
   {
    "duration": 6,
    "start_time": "2023-04-08T09:06:39.032Z"
   },
   {
    "duration": 3,
    "start_time": "2023-04-08T09:06:49.743Z"
   },
   {
    "duration": 4379,
    "start_time": "2023-04-08T09:07:03.247Z"
   },
   {
    "duration": 54,
    "start_time": "2023-04-08T09:07:22.444Z"
   },
   {
    "duration": 5,
    "start_time": "2023-04-08T09:07:24.528Z"
   },
   {
    "duration": 3,
    "start_time": "2023-04-08T09:07:35.892Z"
   },
   {
    "duration": 646,
    "start_time": "2023-04-08T09:07:37.651Z"
   },
   {
    "duration": 5,
    "start_time": "2023-04-08T09:07:47.763Z"
   },
   {
    "duration": 112248,
    "start_time": "2023-04-08T09:07:49.916Z"
   },
   {
    "duration": 132,
    "start_time": "2023-04-08T09:09:48.570Z"
   },
   {
    "duration": 6,
    "start_time": "2023-04-08T09:09:49.417Z"
   },
   {
    "duration": 3,
    "start_time": "2023-04-08T09:10:02.272Z"
   },
   {
    "duration": 225422,
    "start_time": "2023-04-08T09:10:06.041Z"
   },
   {
    "duration": 213,
    "start_time": "2023-04-08T09:13:55.564Z"
   },
   {
    "duration": 5,
    "start_time": "2023-04-08T09:13:56.497Z"
   },
   {
    "duration": 3,
    "start_time": "2023-04-08T09:16:16.223Z"
   },
   {
    "duration": 27692,
    "start_time": "2023-04-08T09:16:17.078Z"
   },
   {
    "duration": 465,
    "start_time": "2023-04-08T09:16:47.313Z"
   },
   {
    "duration": 5,
    "start_time": "2023-04-08T09:16:48.016Z"
   },
   {
    "duration": 4,
    "start_time": "2023-04-08T09:16:56.842Z"
   },
   {
    "duration": 36751,
    "start_time": "2023-04-08T09:16:58.234Z"
   },
   {
    "duration": 412,
    "start_time": "2023-04-08T09:17:44.290Z"
   },
   {
    "duration": 5,
    "start_time": "2023-04-08T09:17:44.953Z"
   },
   {
    "duration": 3,
    "start_time": "2023-04-08T09:18:01.448Z"
   },
   {
    "duration": 104551,
    "start_time": "2023-04-08T09:18:01.928Z"
   },
   {
    "duration": 513,
    "start_time": "2023-04-08T09:19:50.974Z"
   },
   {
    "duration": 4,
    "start_time": "2023-04-08T09:19:51.558Z"
   },
   {
    "duration": 3,
    "start_time": "2023-04-08T09:20:05.118Z"
   },
   {
    "duration": 135075,
    "start_time": "2023-04-08T09:20:07.806Z"
   },
   {
    "duration": 481,
    "start_time": "2023-04-08T09:22:37.003Z"
   },
   {
    "duration": 6,
    "start_time": "2023-04-08T09:22:37.782Z"
   },
   {
    "duration": 3,
    "start_time": "2023-04-08T09:22:45.875Z"
   },
   {
    "duration": 240321,
    "start_time": "2023-04-08T09:22:46.548Z"
   },
   {
    "duration": 678,
    "start_time": "2023-04-08T09:26:58.615Z"
   },
   {
    "duration": 5,
    "start_time": "2023-04-08T09:26:59.426Z"
   },
   {
    "duration": 3,
    "start_time": "2023-04-08T09:27:09.646Z"
   },
   {
    "duration": 449601,
    "start_time": "2023-04-08T09:27:10.975Z"
   },
   {
    "duration": 895,
    "start_time": "2023-04-08T09:35:11.474Z"
   },
   {
    "duration": 6,
    "start_time": "2023-04-08T09:35:14.249Z"
   },
   {
    "duration": 18261723,
    "start_time": "2023-04-08T09:38:46.867Z"
   },
   {
    "duration": 4,
    "start_time": "2023-04-08T15:23:55.061Z"
   },
   {
    "duration": 5,
    "start_time": "2023-04-08T15:24:05.094Z"
   },
   {
    "duration": 55111,
    "start_time": "2023-04-08T15:25:58.852Z"
   },
   {
    "duration": 125641,
    "start_time": "2023-04-08T15:27:15.067Z"
   },
   {
    "duration": 167644,
    "start_time": "2023-04-08T15:36:56.241Z"
   },
   {
    "duration": 725029,
    "start_time": "2023-04-08T15:40:33.455Z"
   },
   {
    "duration": 657587,
    "start_time": "2023-04-08T15:57:02.694Z"
   },
   {
    "duration": 8,
    "start_time": "2023-04-08T16:21:44.495Z"
   },
   {
    "duration": 4,
    "start_time": "2023-04-08T16:21:53.897Z"
   },
   {
    "duration": 4,
    "start_time": "2023-04-08T16:47:22.313Z"
   },
   {
    "duration": 89100,
    "start_time": "2023-04-08T16:47:26.125Z"
   },
   {
    "duration": 140,
    "start_time": "2023-04-08T16:49:03.347Z"
   },
   {
    "duration": 5,
    "start_time": "2023-04-08T16:49:06.640Z"
   },
   {
    "duration": 88961,
    "start_time": "2023-04-08T16:49:11.518Z"
   },
   {
    "duration": 182,
    "start_time": "2023-04-08T16:51:51.624Z"
   },
   {
    "duration": 5,
    "start_time": "2023-04-08T16:51:54.338Z"
   },
   {
    "duration": 3,
    "start_time": "2023-04-08T16:54:42.329Z"
   },
   {
    "duration": 186887,
    "start_time": "2023-04-08T16:54:44.842Z"
   },
   {
    "duration": 1442,
    "start_time": "2023-04-08T16:59:02.691Z"
   },
   {
    "duration": 5,
    "start_time": "2023-04-08T16:59:11.961Z"
   },
   {
    "duration": 1135,
    "start_time": "2023-04-08T16:59:42.760Z"
   },
   {
    "duration": 11,
    "start_time": "2023-04-08T16:59:46.194Z"
   },
   {
    "duration": 6,
    "start_time": "2023-04-08T17:00:36.199Z"
   },
   {
    "duration": 380028,
    "start_time": "2023-04-08T17:00:37.493Z"
   },
   {
    "duration": 887,
    "start_time": "2023-04-08T17:07:13.296Z"
   },
   {
    "duration": 5,
    "start_time": "2023-04-08T17:07:16.354Z"
   },
   {
    "duration": 14,
    "start_time": "2023-04-08T17:07:48.642Z"
   },
   {
    "duration": 4,
    "start_time": "2023-04-08T17:07:59.828Z"
   },
   {
    "duration": 10165,
    "start_time": "2023-04-08T17:08:02.411Z"
   },
   {
    "duration": 8,
    "start_time": "2023-04-08T17:08:27.088Z"
   },
   {
    "duration": 15562,
    "start_time": "2023-04-08T17:08:30.265Z"
   },
   {
    "duration": 182,
    "start_time": "2023-04-08T17:08:52.719Z"
   },
   {
    "duration": 12,
    "start_time": "2023-04-08T17:08:53.908Z"
   },
   {
    "duration": 2,
    "start_time": "2023-04-08T17:15:13.627Z"
   },
   {
    "duration": 3,
    "start_time": "2023-04-08T18:13:23.425Z"
   },
   {
    "duration": 7603,
    "start_time": "2023-04-08T18:13:47.552Z"
   },
   {
    "duration": 5024,
    "start_time": "2023-04-08T18:13:55.157Z"
   },
   {
    "duration": 1814,
    "start_time": "2023-04-08T18:14:00.183Z"
   },
   {
    "duration": 1366,
    "start_time": "2023-04-08T18:14:01.999Z"
   },
   {
    "duration": 28,
    "start_time": "2023-04-08T18:14:03.367Z"
   },
   {
    "duration": 891,
    "start_time": "2023-04-08T18:14:03.396Z"
   },
   {
    "duration": 110,
    "start_time": "2023-04-08T18:14:04.294Z"
   },
   {
    "duration": 471,
    "start_time": "2023-04-08T18:14:04.406Z"
   },
   {
    "duration": 499,
    "start_time": "2023-04-08T18:14:04.879Z"
   },
   {
    "duration": 160,
    "start_time": "2023-04-08T18:14:05.381Z"
   },
   {
    "duration": 18,
    "start_time": "2023-04-08T18:14:05.543Z"
   },
   {
    "duration": 1483,
    "start_time": "2023-04-08T18:14:05.563Z"
   },
   {
    "duration": 1487,
    "start_time": "2023-04-08T18:14:07.048Z"
   },
   {
    "duration": 2043,
    "start_time": "2023-04-08T18:14:08.537Z"
   },
   {
    "duration": 25,
    "start_time": "2023-04-08T18:14:10.582Z"
   },
   {
    "duration": 17,
    "start_time": "2023-04-08T18:14:10.608Z"
   },
   {
    "duration": 17,
    "start_time": "2023-04-08T18:14:10.626Z"
   },
   {
    "duration": 10066,
    "start_time": "2023-04-08T18:14:10.645Z"
   },
   {
    "duration": 7743,
    "start_time": "2023-04-08T18:14:20.713Z"
   },
   {
    "duration": 12170,
    "start_time": "2023-04-08T18:14:28.457Z"
   },
   {
    "duration": 18,
    "start_time": "2023-04-08T18:14:40.629Z"
   },
   {
    "duration": 58,
    "start_time": "2023-04-08T18:14:40.649Z"
   },
   {
    "duration": 16,
    "start_time": "2023-04-08T18:14:40.709Z"
   },
   {
    "duration": 18,
    "start_time": "2023-04-08T18:14:40.727Z"
   },
   {
    "duration": 65,
    "start_time": "2023-04-08T18:14:40.746Z"
   },
   {
    "duration": 15,
    "start_time": "2023-04-08T18:14:40.813Z"
   },
   {
    "duration": 100,
    "start_time": "2023-04-08T18:14:40.830Z"
   },
   {
    "duration": 209,
    "start_time": "2023-04-08T18:14:40.934Z"
   },
   {
    "duration": 481,
    "start_time": "2023-04-08T18:14:41.145Z"
   },
   {
    "duration": 17,
    "start_time": "2023-04-08T18:14:41.628Z"
   },
   {
    "duration": 9830,
    "start_time": "2023-04-08T18:14:41.646Z"
   },
   {
    "duration": 18,
    "start_time": "2023-04-08T18:14:51.481Z"
   },
   {
    "duration": 20,
    "start_time": "2023-04-08T18:14:51.500Z"
   },
   {
    "duration": 34,
    "start_time": "2023-04-08T18:14:51.522Z"
   },
   {
    "duration": 27,
    "start_time": "2023-04-08T18:14:51.558Z"
   },
   {
    "duration": 62,
    "start_time": "2023-04-08T18:14:51.586Z"
   },
   {
    "duration": 25,
    "start_time": "2023-04-08T18:14:51.650Z"
   },
   {
    "duration": 39,
    "start_time": "2023-04-08T18:14:51.676Z"
   },
   {
    "duration": 19,
    "start_time": "2023-04-08T18:14:51.717Z"
   },
   {
    "duration": 273,
    "start_time": "2023-04-08T18:14:51.738Z"
   },
   {
    "duration": 191,
    "start_time": "2023-04-08T18:14:52.012Z"
   },
   {
    "duration": 16,
    "start_time": "2023-04-08T18:14:52.205Z"
   },
   {
    "duration": 62,
    "start_time": "2023-04-08T18:14:52.223Z"
   },
   {
    "duration": 176,
    "start_time": "2023-04-08T18:14:52.289Z"
   },
   {
    "duration": 466,
    "start_time": "2023-04-08T18:14:52.468Z"
   },
   {
    "duration": 52,
    "start_time": "2023-04-08T18:14:52.937Z"
   },
   {
    "duration": 101,
    "start_time": "2023-04-08T18:14:52.997Z"
   },
   {
    "duration": 152,
    "start_time": "2023-04-08T18:14:53.101Z"
   },
   {
    "duration": 407,
    "start_time": "2023-04-08T18:14:53.255Z"
   },
   {
    "duration": 39,
    "start_time": "2023-04-08T18:14:53.664Z"
   },
   {
    "duration": 98,
    "start_time": "2023-04-08T18:14:53.705Z"
   },
   {
    "duration": 36,
    "start_time": "2023-04-08T18:14:53.805Z"
   },
   {
    "duration": 15,
    "start_time": "2023-04-08T18:14:53.843Z"
   },
   {
    "duration": 6,
    "start_time": "2023-04-08T18:14:53.861Z"
   },
   {
    "duration": 40,
    "start_time": "2023-04-08T18:14:53.879Z"
   },
   {
    "duration": 8,
    "start_time": "2023-04-08T18:14:53.920Z"
   },
   {
    "duration": 202,
    "start_time": "2023-04-08T18:14:53.929Z"
   },
   {
    "duration": 21,
    "start_time": "2023-04-08T18:14:54.133Z"
   },
   {
    "duration": 50,
    "start_time": "2023-04-08T18:14:54.156Z"
   },
   {
    "duration": 23,
    "start_time": "2023-04-08T18:14:54.208Z"
   },
   {
    "duration": 80,
    "start_time": "2023-04-08T18:14:54.233Z"
   },
   {
    "duration": 4,
    "start_time": "2023-04-08T18:14:54.314Z"
   },
   {
    "duration": 29,
    "start_time": "2023-04-08T18:14:54.319Z"
   },
   {
    "duration": 47,
    "start_time": "2023-04-08T18:14:54.349Z"
   },
   {
    "duration": 3,
    "start_time": "2023-04-08T18:14:54.401Z"
   },
   {
    "duration": 62,
    "start_time": "2023-04-08T18:14:54.406Z"
   },
   {
    "duration": 53571,
    "start_time": "2023-04-08T18:14:54.478Z"
   },
   {
    "duration": 539,
    "start_time": "2023-04-08T18:15:48.051Z"
   },
   {
    "duration": 434,
    "start_time": "2023-04-08T18:15:48.592Z"
   },
   {
    "duration": 22,
    "start_time": "2023-04-08T18:15:49.027Z"
   },
   {
    "duration": 18188,
    "start_time": "2023-04-08T18:15:49.051Z"
   },
   {
    "duration": 221,
    "start_time": "2023-04-08T18:16:07.241Z"
   },
   {
    "duration": 169,
    "start_time": "2023-04-08T18:16:07.464Z"
   },
   {
    "duration": 13,
    "start_time": "2023-04-08T18:16:07.635Z"
   },
   {
    "duration": 21,
    "start_time": "2023-04-08T18:16:07.649Z"
   },
   {
    "duration": 5,
    "start_time": "2023-04-08T18:16:47.968Z"
   },
   {
    "duration": 67935,
    "start_time": "2023-04-08T18:16:50.968Z"
   },
   {
    "duration": 130,
    "start_time": "2023-04-08T18:18:32.448Z"
   },
   {
    "duration": 4,
    "start_time": "2023-04-08T18:18:38.240Z"
   },
   {
    "duration": 569922,
    "start_time": "2023-04-08T18:18:55.055Z"
   },
   {
    "duration": 5,
    "start_time": "2023-04-08T18:29:11.168Z"
   },
   {
    "duration": 7073,
    "start_time": "2023-04-08T18:29:30.920Z"
   },
   {
    "duration": 127,
    "start_time": "2023-04-08T18:30:02.360Z"
   },
   {
    "duration": 5,
    "start_time": "2023-04-08T18:30:42.296Z"
   },
   {
    "duration": 3,
    "start_time": "2023-04-08T18:31:00.734Z"
   },
   {
    "duration": 173261,
    "start_time": "2023-04-08T18:31:07.936Z"
   },
   {
    "duration": 1096,
    "start_time": "2023-04-08T18:34:29.530Z"
   },
   {
    "duration": 4,
    "start_time": "2023-04-08T18:34:33.830Z"
   },
   {
    "duration": 8,
    "start_time": "2023-04-08T18:35:04.796Z"
   },
   {
    "duration": 382415,
    "start_time": "2023-04-08T18:35:11.498Z"
   },
   {
    "duration": 892,
    "start_time": "2023-04-08T18:43:42.806Z"
   },
   {
    "duration": 6,
    "start_time": "2023-04-08T18:43:51.506Z"
   },
   {
    "duration": 9,
    "start_time": "2023-04-08T18:43:59.188Z"
   },
   {
    "duration": 14828,
    "start_time": "2023-04-08T18:44:03.407Z"
   },
   {
    "duration": 165,
    "start_time": "2023-04-08T18:44:22.246Z"
   },
   {
    "duration": 5,
    "start_time": "2023-04-08T18:44:25.758Z"
   },
   {
    "duration": 7096,
    "start_time": "2023-04-09T08:35:11.584Z"
   },
   {
    "duration": 5589,
    "start_time": "2023-04-09T08:35:18.682Z"
   },
   {
    "duration": 1361,
    "start_time": "2023-04-09T08:35:24.272Z"
   },
   {
    "duration": 972,
    "start_time": "2023-04-09T08:35:25.635Z"
   },
   {
    "duration": 23,
    "start_time": "2023-04-09T08:35:26.609Z"
   },
   {
    "duration": 767,
    "start_time": "2023-04-09T08:35:26.634Z"
   },
   {
    "duration": 105,
    "start_time": "2023-04-09T08:35:27.402Z"
   },
   {
    "duration": 372,
    "start_time": "2023-04-09T08:35:27.509Z"
   },
   {
    "duration": 391,
    "start_time": "2023-04-09T08:35:27.882Z"
   },
   {
    "duration": 165,
    "start_time": "2023-04-09T08:35:28.276Z"
   },
   {
    "duration": 21,
    "start_time": "2023-04-09T08:35:28.442Z"
   },
   {
    "duration": 1451,
    "start_time": "2023-04-09T08:35:28.464Z"
   },
   {
    "duration": 1406,
    "start_time": "2023-04-09T08:35:29.916Z"
   },
   {
    "duration": 1838,
    "start_time": "2023-04-09T08:35:31.323Z"
   },
   {
    "duration": 19,
    "start_time": "2023-04-09T08:35:33.162Z"
   },
   {
    "duration": 19,
    "start_time": "2023-04-09T08:35:33.183Z"
   },
   {
    "duration": 18,
    "start_time": "2023-04-09T08:35:33.204Z"
   },
   {
    "duration": 7992,
    "start_time": "2023-04-09T08:35:33.223Z"
   },
   {
    "duration": 6619,
    "start_time": "2023-04-09T08:35:41.217Z"
   },
   {
    "duration": 11070,
    "start_time": "2023-04-09T08:35:47.841Z"
   },
   {
    "duration": 18,
    "start_time": "2023-04-09T08:35:58.912Z"
   },
   {
    "duration": 32,
    "start_time": "2023-04-09T08:35:58.931Z"
   },
   {
    "duration": 18,
    "start_time": "2023-04-09T08:35:58.964Z"
   },
   {
    "duration": 19,
    "start_time": "2023-04-09T08:35:58.983Z"
   },
   {
    "duration": 59,
    "start_time": "2023-04-09T08:35:59.003Z"
   },
   {
    "duration": 20,
    "start_time": "2023-04-09T08:35:59.064Z"
   },
   {
    "duration": 102,
    "start_time": "2023-04-09T08:35:59.085Z"
   },
   {
    "duration": 173,
    "start_time": "2023-04-09T08:35:59.190Z"
   },
   {
    "duration": 457,
    "start_time": "2023-04-09T08:35:59.365Z"
   },
   {
    "duration": 20,
    "start_time": "2023-04-09T08:35:59.823Z"
   },
   {
    "duration": 8311,
    "start_time": "2023-04-09T08:35:59.845Z"
   },
   {
    "duration": 10,
    "start_time": "2023-04-09T08:36:08.157Z"
   },
   {
    "duration": 13,
    "start_time": "2023-04-09T08:36:08.168Z"
   },
   {
    "duration": 25,
    "start_time": "2023-04-09T08:36:08.182Z"
   },
   {
    "duration": 32,
    "start_time": "2023-04-09T08:36:08.208Z"
   },
   {
    "duration": 50,
    "start_time": "2023-04-09T08:36:08.241Z"
   },
   {
    "duration": 13,
    "start_time": "2023-04-09T08:36:08.293Z"
   },
   {
    "duration": 38,
    "start_time": "2023-04-09T08:36:08.308Z"
   },
   {
    "duration": 14,
    "start_time": "2023-04-09T08:36:08.348Z"
   },
   {
    "duration": 262,
    "start_time": "2023-04-09T08:36:08.364Z"
   },
   {
    "duration": 160,
    "start_time": "2023-04-09T08:36:08.627Z"
   },
   {
    "duration": 12,
    "start_time": "2023-04-09T08:36:08.789Z"
   },
   {
    "duration": 60,
    "start_time": "2023-04-09T08:36:08.802Z"
   },
   {
    "duration": 159,
    "start_time": "2023-04-09T08:36:08.863Z"
   },
   {
    "duration": 411,
    "start_time": "2023-04-09T08:36:09.023Z"
   },
   {
    "duration": 20,
    "start_time": "2023-04-09T08:36:09.435Z"
   },
   {
    "duration": 90,
    "start_time": "2023-04-09T08:36:09.456Z"
   },
   {
    "duration": 148,
    "start_time": "2023-04-09T08:36:09.547Z"
   },
   {
    "duration": 399,
    "start_time": "2023-04-09T08:36:09.697Z"
   },
   {
    "duration": 22,
    "start_time": "2023-04-09T08:36:10.097Z"
   },
   {
    "duration": 77,
    "start_time": "2023-04-09T08:36:10.121Z"
   },
   {
    "duration": 43,
    "start_time": "2023-04-09T08:36:10.199Z"
   },
   {
    "duration": 13,
    "start_time": "2023-04-09T08:36:10.243Z"
   },
   {
    "duration": 5,
    "start_time": "2023-04-09T08:36:10.257Z"
   },
   {
    "duration": 30,
    "start_time": "2023-04-09T08:36:10.264Z"
   },
   {
    "duration": 5,
    "start_time": "2023-04-09T08:36:10.296Z"
   },
   {
    "duration": 208,
    "start_time": "2023-04-09T08:36:10.303Z"
   },
   {
    "duration": 27,
    "start_time": "2023-04-09T08:36:10.513Z"
   },
   {
    "duration": 30,
    "start_time": "2023-04-09T08:36:10.541Z"
   },
   {
    "duration": 14,
    "start_time": "2023-04-09T08:36:10.572Z"
   },
   {
    "duration": 58,
    "start_time": "2023-04-09T08:36:10.587Z"
   },
   {
    "duration": 3,
    "start_time": "2023-04-09T08:36:10.646Z"
   },
   {
    "duration": 6,
    "start_time": "2023-04-09T08:36:10.650Z"
   },
   {
    "duration": 21,
    "start_time": "2023-04-09T08:36:10.657Z"
   },
   {
    "duration": 3,
    "start_time": "2023-04-09T08:36:13.373Z"
   },
   {
    "duration": 80,
    "start_time": "2023-04-09T08:36:19.151Z"
   },
   {
    "duration": 36449,
    "start_time": "2023-04-09T08:36:29.011Z"
   },
   {
    "duration": 383,
    "start_time": "2023-04-09T08:38:53.103Z"
   },
   {
    "duration": 316,
    "start_time": "2023-04-09T08:38:56.954Z"
   },
   {
    "duration": 18,
    "start_time": "2023-04-09T08:38:59.568Z"
   },
   {
    "duration": 11976,
    "start_time": "2023-04-09T08:39:03.032Z"
   },
   {
    "duration": 171,
    "start_time": "2023-04-09T08:39:15.009Z"
   },
   {
    "duration": 14,
    "start_time": "2023-04-09T08:39:19.258Z"
   },
   {
    "duration": 6,
    "start_time": "2023-04-09T08:39:23.694Z"
   },
   {
    "duration": 3,
    "start_time": "2023-04-09T08:39:33.303Z"
   },
   {
    "duration": 20107,
    "start_time": "2023-04-09T08:39:38.756Z"
   },
   {
    "duration": 124,
    "start_time": "2023-04-09T08:40:03.318Z"
   },
   {
    "duration": 4,
    "start_time": "2023-04-09T08:47:47.987Z"
   },
   {
    "duration": 150,
    "start_time": "2023-04-09T08:51:37.054Z"
   },
   {
    "duration": 177382,
    "start_time": "2023-04-09T08:51:56.776Z"
   },
   {
    "duration": 38309,
    "start_time": "2023-04-09T08:57:33.862Z"
   },
   {
    "duration": 5808,
    "start_time": "2023-04-09T08:59:09.652Z"
   },
   {
    "duration": 4559,
    "start_time": "2023-04-09T08:59:15.463Z"
   },
   {
    "duration": 1284,
    "start_time": "2023-04-09T08:59:20.024Z"
   },
   {
    "duration": 1056,
    "start_time": "2023-04-09T08:59:21.310Z"
   },
   {
    "duration": 18,
    "start_time": "2023-04-09T08:59:22.367Z"
   },
   {
    "duration": 747,
    "start_time": "2023-04-09T08:59:22.386Z"
   },
   {
    "duration": 133,
    "start_time": "2023-04-09T08:59:23.135Z"
   },
   {
    "duration": 394,
    "start_time": "2023-04-09T08:59:23.269Z"
   },
   {
    "duration": 418,
    "start_time": "2023-04-09T08:59:23.665Z"
   },
   {
    "duration": 152,
    "start_time": "2023-04-09T08:59:24.085Z"
   },
   {
    "duration": 30,
    "start_time": "2023-04-09T08:59:24.240Z"
   },
   {
    "duration": 1469,
    "start_time": "2023-04-09T08:59:24.271Z"
   },
   {
    "duration": 1551,
    "start_time": "2023-04-09T08:59:25.742Z"
   },
   {
    "duration": 1974,
    "start_time": "2023-04-09T08:59:27.294Z"
   },
   {
    "duration": 20,
    "start_time": "2023-04-09T08:59:29.269Z"
   },
   {
    "duration": 20,
    "start_time": "2023-04-09T08:59:29.290Z"
   },
   {
    "duration": 34,
    "start_time": "2023-04-09T08:59:29.311Z"
   },
   {
    "duration": 8884,
    "start_time": "2023-04-09T08:59:29.346Z"
   },
   {
    "duration": 7247,
    "start_time": "2023-04-09T08:59:38.232Z"
   },
   {
    "duration": 12122,
    "start_time": "2023-04-09T08:59:45.481Z"
   },
   {
    "duration": 21,
    "start_time": "2023-04-09T08:59:57.605Z"
   },
   {
    "duration": 35,
    "start_time": "2023-04-09T08:59:57.628Z"
   },
   {
    "duration": 19,
    "start_time": "2023-04-09T08:59:57.664Z"
   },
   {
    "duration": 21,
    "start_time": "2023-04-09T08:59:57.685Z"
   },
   {
    "duration": 63,
    "start_time": "2023-04-09T08:59:57.707Z"
   },
   {
    "duration": 29,
    "start_time": "2023-04-09T08:59:57.772Z"
   },
   {
    "duration": 107,
    "start_time": "2023-04-09T08:59:57.803Z"
   },
   {
    "duration": 228,
    "start_time": "2023-04-09T08:59:57.915Z"
   },
   {
    "duration": 468,
    "start_time": "2023-04-09T08:59:58.144Z"
   },
   {
    "duration": 13,
    "start_time": "2023-04-09T08:59:58.613Z"
   },
   {
    "duration": 8848,
    "start_time": "2023-04-09T08:59:58.627Z"
   },
   {
    "duration": 11,
    "start_time": "2023-04-09T09:00:07.477Z"
   },
   {
    "duration": 22,
    "start_time": "2023-04-09T09:00:07.490Z"
   },
   {
    "duration": 35,
    "start_time": "2023-04-09T09:00:07.514Z"
   },
   {
    "duration": 7,
    "start_time": "2023-04-09T09:00:07.551Z"
   },
   {
    "duration": 56,
    "start_time": "2023-04-09T09:00:07.559Z"
   },
   {
    "duration": 32,
    "start_time": "2023-04-09T09:00:07.617Z"
   },
   {
    "duration": 28,
    "start_time": "2023-04-09T09:00:07.650Z"
   },
   {
    "duration": 15,
    "start_time": "2023-04-09T09:00:07.680Z"
   },
   {
    "duration": 279,
    "start_time": "2023-04-09T09:00:07.696Z"
   },
   {
    "duration": 182,
    "start_time": "2023-04-09T09:00:07.976Z"
   },
   {
    "duration": 13,
    "start_time": "2023-04-09T09:00:08.159Z"
   },
   {
    "duration": 48,
    "start_time": "2023-04-09T09:00:08.173Z"
   },
   {
    "duration": 192,
    "start_time": "2023-04-09T09:00:08.240Z"
   },
   {
    "duration": 454,
    "start_time": "2023-04-09T09:00:08.434Z"
   },
   {
    "duration": 18,
    "start_time": "2023-04-09T09:00:08.890Z"
   },
   {
    "duration": 90,
    "start_time": "2023-04-09T09:00:08.909Z"
   },
   {
    "duration": 164,
    "start_time": "2023-04-09T09:00:09.001Z"
   },
   {
    "duration": 412,
    "start_time": "2023-04-09T09:00:09.167Z"
   },
   {
    "duration": 25,
    "start_time": "2023-04-09T09:00:09.580Z"
   },
   {
    "duration": 88,
    "start_time": "2023-04-09T09:00:09.607Z"
   },
   {
    "duration": 44,
    "start_time": "2023-04-09T09:00:09.697Z"
   },
   {
    "duration": 13,
    "start_time": "2023-04-09T09:00:09.742Z"
   },
   {
    "duration": 12,
    "start_time": "2023-04-09T09:00:09.756Z"
   },
   {
    "duration": 27,
    "start_time": "2023-04-09T09:00:09.770Z"
   },
   {
    "duration": 5,
    "start_time": "2023-04-09T09:00:09.798Z"
   },
   {
    "duration": 221,
    "start_time": "2023-04-09T09:00:09.804Z"
   },
   {
    "duration": 23,
    "start_time": "2023-04-09T09:00:10.026Z"
   },
   {
    "duration": 29,
    "start_time": "2023-04-09T09:00:10.051Z"
   },
   {
    "duration": 18,
    "start_time": "2023-04-09T09:00:10.081Z"
   },
   {
    "duration": 58,
    "start_time": "2023-04-09T09:00:10.101Z"
   },
   {
    "duration": 2,
    "start_time": "2023-04-09T09:00:10.160Z"
   },
   {
    "duration": 8,
    "start_time": "2023-04-09T09:00:10.164Z"
   },
   {
    "duration": 47,
    "start_time": "2023-04-09T09:00:10.173Z"
   },
   {
    "duration": 10,
    "start_time": "2023-04-09T09:00:10.222Z"
   },
   {
    "duration": 63,
    "start_time": "2023-04-09T09:00:10.234Z"
   },
   {
    "duration": 35990,
    "start_time": "2023-04-09T09:00:10.299Z"
   },
   {
    "duration": 385,
    "start_time": "2023-04-09T09:00:46.291Z"
   },
   {
    "duration": 310,
    "start_time": "2023-04-09T09:00:46.678Z"
   },
   {
    "duration": 13,
    "start_time": "2023-04-09T09:00:46.990Z"
   },
   {
    "duration": 12210,
    "start_time": "2023-04-09T09:00:47.005Z"
   },
   {
    "duration": 163,
    "start_time": "2023-04-09T09:00:59.217Z"
   },
   {
    "duration": 134,
    "start_time": "2023-04-09T09:00:59.382Z"
   },
   {
    "duration": 25,
    "start_time": "2023-04-09T09:00:59.518Z"
   },
   {
    "duration": 7,
    "start_time": "2023-04-09T09:00:59.544Z"
   },
   {
    "duration": 5,
    "start_time": "2023-04-09T09:00:59.553Z"
   },
   {
    "duration": 23100,
    "start_time": "2023-04-09T09:00:59.559Z"
   },
   {
    "duration": 197,
    "start_time": "2023-04-09T09:01:22.661Z"
   },
   {
    "duration": 134789,
    "start_time": "2023-04-09T09:01:22.859Z"
   },
   {
    "duration": 8,
    "start_time": "2023-04-09T09:03:37.651Z"
   },
   {
    "duration": 313384,
    "start_time": "2023-04-09T09:03:37.662Z"
   },
   {
    "duration": 3,
    "start_time": "2023-04-09T09:08:51.140Z"
   },
   {
    "duration": 1806,
    "start_time": "2023-04-09T09:08:51.145Z"
   },
   {
    "duration": 201,
    "start_time": "2023-04-09T09:08:53.040Z"
   },
   {
    "duration": 5,
    "start_time": "2023-04-09T09:08:53.243Z"
   },
   {
    "duration": 1597690,
    "start_time": "2023-04-09T09:08:53.249Z"
   },
   {
    "duration": 8,
    "start_time": "2023-04-09T09:35:30.941Z"
   },
   {
    "duration": 4009,
    "start_time": "2023-04-09T09:35:30.950Z"
   },
   {
    "duration": 105,
    "start_time": "2023-04-09T09:35:34.961Z"
   },
   {
    "duration": 19,
    "start_time": "2023-04-09T09:35:35.067Z"
   },
   {
    "duration": 0,
    "start_time": "2023-04-09T09:35:35.087Z"
   },
   {
    "duration": 0,
    "start_time": "2023-04-09T09:35:35.089Z"
   },
   {
    "duration": 0,
    "start_time": "2023-04-09T09:35:35.090Z"
   },
   {
    "duration": 0,
    "start_time": "2023-04-09T09:35:35.092Z"
   },
   {
    "duration": 0,
    "start_time": "2023-04-09T09:35:35.093Z"
   },
   {
    "duration": 0,
    "start_time": "2023-04-09T09:35:35.094Z"
   },
   {
    "duration": 0,
    "start_time": "2023-04-09T09:35:35.096Z"
   },
   {
    "duration": 0,
    "start_time": "2023-04-09T09:35:35.097Z"
   },
   {
    "duration": 0,
    "start_time": "2023-04-09T09:35:35.099Z"
   },
   {
    "duration": 0,
    "start_time": "2023-04-09T09:35:35.100Z"
   },
   {
    "duration": 0,
    "start_time": "2023-04-09T09:35:35.101Z"
   },
   {
    "duration": 0,
    "start_time": "2023-04-09T09:35:35.102Z"
   },
   {
    "duration": 0,
    "start_time": "2023-04-09T09:35:35.104Z"
   },
   {
    "duration": 5292,
    "start_time": "2023-04-09T09:36:06.641Z"
   },
   {
    "duration": 4626,
    "start_time": "2023-04-09T09:36:11.936Z"
   },
   {
    "duration": 1222,
    "start_time": "2023-04-09T09:36:16.565Z"
   },
   {
    "duration": 790,
    "start_time": "2023-04-09T09:36:17.789Z"
   },
   {
    "duration": 22,
    "start_time": "2023-04-09T09:36:18.581Z"
   },
   {
    "duration": 796,
    "start_time": "2023-04-09T09:36:18.605Z"
   },
   {
    "duration": 155,
    "start_time": "2023-04-09T09:36:19.403Z"
   },
   {
    "duration": 393,
    "start_time": "2023-04-09T09:36:19.560Z"
   },
   {
    "duration": 431,
    "start_time": "2023-04-09T09:36:19.958Z"
   },
   {
    "duration": 170,
    "start_time": "2023-04-09T09:36:20.392Z"
   },
   {
    "duration": 35,
    "start_time": "2023-04-09T09:36:20.563Z"
   },
   {
    "duration": 1488,
    "start_time": "2023-04-09T09:36:20.599Z"
   },
   {
    "duration": 1534,
    "start_time": "2023-04-09T09:36:22.089Z"
   },
   {
    "duration": 2004,
    "start_time": "2023-04-09T09:36:23.624Z"
   },
   {
    "duration": 32,
    "start_time": "2023-04-09T09:36:25.629Z"
   },
   {
    "duration": 30,
    "start_time": "2023-04-09T09:36:25.664Z"
   },
   {
    "duration": 18,
    "start_time": "2023-04-09T09:36:25.696Z"
   },
   {
    "duration": 8949,
    "start_time": "2023-04-09T09:36:25.716Z"
   },
   {
    "duration": 7324,
    "start_time": "2023-04-09T09:36:34.667Z"
   },
   {
    "duration": 12182,
    "start_time": "2023-04-09T09:36:41.993Z"
   },
   {
    "duration": 33,
    "start_time": "2023-04-09T09:36:54.176Z"
   },
   {
    "duration": 48,
    "start_time": "2023-04-09T09:36:54.210Z"
   },
   {
    "duration": 18,
    "start_time": "2023-04-09T09:36:54.260Z"
   },
   {
    "duration": 21,
    "start_time": "2023-04-09T09:36:54.280Z"
   },
   {
    "duration": 32,
    "start_time": "2023-04-09T09:36:54.302Z"
   },
   {
    "duration": 30,
    "start_time": "2023-04-09T09:36:54.335Z"
   },
   {
    "duration": 100,
    "start_time": "2023-04-09T09:36:54.366Z"
   },
   {
    "duration": 200,
    "start_time": "2023-04-09T09:36:54.470Z"
   },
   {
    "duration": 485,
    "start_time": "2023-04-09T09:36:54.672Z"
   },
   {
    "duration": 15,
    "start_time": "2023-04-09T09:36:55.158Z"
   },
   {
    "duration": 9556,
    "start_time": "2023-04-09T09:36:55.175Z"
   },
   {
    "duration": 22,
    "start_time": "2023-04-09T09:37:04.732Z"
   },
   {
    "duration": 14,
    "start_time": "2023-04-09T09:37:04.756Z"
   },
   {
    "duration": 27,
    "start_time": "2023-04-09T09:37:04.772Z"
   },
   {
    "duration": 8,
    "start_time": "2023-04-09T09:37:04.800Z"
   },
   {
    "duration": 85,
    "start_time": "2023-04-09T09:37:04.809Z"
   },
   {
    "duration": 13,
    "start_time": "2023-04-09T09:37:04.896Z"
   },
   {
    "duration": 34,
    "start_time": "2023-04-09T09:37:04.911Z"
   },
   {
    "duration": 19,
    "start_time": "2023-04-09T09:37:04.946Z"
   },
   {
    "duration": 286,
    "start_time": "2023-04-09T09:37:04.966Z"
   },
   {
    "duration": 174,
    "start_time": "2023-04-09T09:37:05.254Z"
   },
   {
    "duration": 24,
    "start_time": "2023-04-09T09:37:05.430Z"
   },
   {
    "duration": 49,
    "start_time": "2023-04-09T09:37:05.455Z"
   },
   {
    "duration": 176,
    "start_time": "2023-04-09T09:37:05.505Z"
   },
   {
    "duration": 445,
    "start_time": "2023-04-09T09:37:05.682Z"
   },
   {
    "duration": 28,
    "start_time": "2023-04-09T09:37:06.128Z"
   },
   {
    "duration": 111,
    "start_time": "2023-04-09T09:37:06.157Z"
   },
   {
    "duration": 215,
    "start_time": "2023-04-09T09:37:06.270Z"
   },
   {
    "duration": 474,
    "start_time": "2023-04-09T09:37:06.487Z"
   },
   {
    "duration": 24,
    "start_time": "2023-04-09T09:37:06.963Z"
   },
   {
    "duration": 91,
    "start_time": "2023-04-09T09:37:06.989Z"
   },
   {
    "duration": 31,
    "start_time": "2023-04-09T09:37:07.082Z"
   },
   {
    "duration": 34,
    "start_time": "2023-04-09T09:37:07.115Z"
   },
   {
    "duration": 6,
    "start_time": "2023-04-09T09:37:07.154Z"
   },
   {
    "duration": 28,
    "start_time": "2023-04-09T09:37:07.162Z"
   },
   {
    "duration": 6,
    "start_time": "2023-04-09T09:37:07.191Z"
   },
   {
    "duration": 209,
    "start_time": "2023-04-09T09:37:07.198Z"
   },
   {
    "duration": 36,
    "start_time": "2023-04-09T09:37:07.409Z"
   },
   {
    "duration": 34,
    "start_time": "2023-04-09T09:37:07.446Z"
   },
   {
    "duration": 14,
    "start_time": "2023-04-09T09:37:07.482Z"
   },
   {
    "duration": 60,
    "start_time": "2023-04-09T09:37:07.498Z"
   },
   {
    "duration": 3,
    "start_time": "2023-04-09T09:37:07.560Z"
   },
   {
    "duration": 9,
    "start_time": "2023-04-09T09:37:07.564Z"
   },
   {
    "duration": 42,
    "start_time": "2023-04-09T09:37:07.574Z"
   },
   {
    "duration": 3,
    "start_time": "2023-04-09T09:37:07.617Z"
   },
   {
    "duration": 65,
    "start_time": "2023-04-09T09:37:07.621Z"
   },
   {
    "duration": 37375,
    "start_time": "2023-04-09T09:37:07.688Z"
   },
   {
    "duration": 394,
    "start_time": "2023-04-09T09:37:45.064Z"
   },
   {
    "duration": 311,
    "start_time": "2023-04-09T09:37:45.461Z"
   },
   {
    "duration": 16,
    "start_time": "2023-04-09T09:37:45.774Z"
   },
   {
    "duration": 12500,
    "start_time": "2023-04-09T09:37:45.792Z"
   },
   {
    "duration": 169,
    "start_time": "2023-04-09T09:37:58.293Z"
   },
   {
    "duration": 169,
    "start_time": "2023-04-09T09:37:58.464Z"
   },
   {
    "duration": 22,
    "start_time": "2023-04-09T09:37:58.634Z"
   },
   {
    "duration": 7,
    "start_time": "2023-04-09T09:37:58.658Z"
   },
   {
    "duration": 11,
    "start_time": "2023-04-09T09:37:58.666Z"
   },
   {
    "duration": 35180,
    "start_time": "2023-04-09T09:37:58.678Z"
   },
   {
    "duration": 91,
    "start_time": "2023-04-09T09:38:33.860Z"
   },
   {
    "duration": 335,
    "start_time": "2023-04-09T09:38:33.953Z"
   },
   {
    "duration": 68934,
    "start_time": "2023-04-09T09:40:12.616Z"
   },
   {
    "duration": 234145,
    "start_time": "2023-04-09T09:41:49.721Z"
   },
   {
    "duration": 3,
    "start_time": "2023-04-09T09:46:49.519Z"
   },
   {
    "duration": 2692,
    "start_time": "2023-04-09T09:46:55.562Z"
   },
   {
    "duration": 78,
    "start_time": "2023-04-09T09:47:02.280Z"
   },
   {
    "duration": 2116500,
    "start_time": "2023-04-09T09:47:20.402Z"
   },
   {
    "duration": 4,
    "start_time": "2023-04-09T10:24:10.221Z"
   },
   {
    "duration": 105848,
    "start_time": "2023-04-09T10:24:23.136Z"
   },
   {
    "duration": 544823,
    "start_time": "2023-04-09T10:26:23.524Z"
   },
   {
    "duration": 3,
    "start_time": "2023-04-09T10:44:30.585Z"
   },
   {
    "duration": 8114,
    "start_time": "2023-04-09T10:44:33.132Z"
   },
   {
    "duration": 472729,
    "start_time": "2023-04-09T10:44:58.076Z"
   },
   {
    "duration": 4,
    "start_time": "2023-04-09T10:54:09.216Z"
   },
   {
    "duration": 12629,
    "start_time": "2023-04-09T10:54:37.733Z"
   },
   {
    "duration": 103,
    "start_time": "2023-04-09T10:54:56.037Z"
   },
   {
    "duration": 85,
    "start_time": "2023-04-09T11:39:04.283Z"
   },
   {
    "duration": 100,
    "start_time": "2023-04-09T11:40:09.623Z"
   },
   {
    "duration": 4,
    "start_time": "2023-04-09T11:43:00.888Z"
   },
   {
    "duration": 82,
    "start_time": "2023-04-09T11:43:53.864Z"
   },
   {
    "duration": 4,
    "start_time": "2023-04-09T11:44:05.217Z"
   },
   {
    "duration": 279,
    "start_time": "2023-04-09T12:23:05.162Z"
   },
   {
    "duration": 286,
    "start_time": "2023-04-09T12:25:21.761Z"
   },
   {
    "duration": 2524,
    "start_time": "2023-04-09T12:26:36.240Z"
   },
   {
    "duration": 2469,
    "start_time": "2023-04-09T12:27:26.886Z"
   },
   {
    "duration": 300,
    "start_time": "2023-04-09T12:28:08.779Z"
   },
   {
    "duration": 6691,
    "start_time": "2023-04-11T09:33:40.439Z"
   },
   {
    "duration": 6352,
    "start_time": "2023-04-11T09:33:47.133Z"
   },
   {
    "duration": 1374,
    "start_time": "2023-04-11T09:33:53.487Z"
   },
   {
    "duration": 2714,
    "start_time": "2023-04-11T09:33:54.863Z"
   },
   {
    "duration": 18,
    "start_time": "2023-04-11T09:33:57.583Z"
   },
   {
    "duration": 803,
    "start_time": "2023-04-11T09:33:57.602Z"
   },
   {
    "duration": 130,
    "start_time": "2023-04-11T09:33:58.407Z"
   },
   {
    "duration": 426,
    "start_time": "2023-04-11T09:33:58.538Z"
   },
   {
    "duration": 450,
    "start_time": "2023-04-11T09:33:58.965Z"
   },
   {
    "duration": 168,
    "start_time": "2023-04-11T09:33:59.418Z"
   },
   {
    "duration": 23,
    "start_time": "2023-04-11T09:33:59.588Z"
   },
   {
    "duration": 1646,
    "start_time": "2023-04-11T09:33:59.612Z"
   },
   {
    "duration": 1593,
    "start_time": "2023-04-11T09:34:01.260Z"
   },
   {
    "duration": 2070,
    "start_time": "2023-04-11T09:34:02.854Z"
   },
   {
    "duration": 19,
    "start_time": "2023-04-11T09:34:04.926Z"
   },
   {
    "duration": 36,
    "start_time": "2023-04-11T09:34:04.946Z"
   },
   {
    "duration": 20,
    "start_time": "2023-04-11T09:34:04.984Z"
   },
   {
    "duration": 8405,
    "start_time": "2023-04-11T09:34:05.005Z"
   },
   {
    "duration": 7224,
    "start_time": "2023-04-11T09:34:13.411Z"
   },
   {
    "duration": 12289,
    "start_time": "2023-04-11T09:34:20.636Z"
   },
   {
    "duration": 19,
    "start_time": "2023-04-11T09:34:32.927Z"
   },
   {
    "duration": 53,
    "start_time": "2023-04-11T09:34:32.948Z"
   },
   {
    "duration": 41,
    "start_time": "2023-04-11T09:34:33.003Z"
   },
   {
    "duration": 43,
    "start_time": "2023-04-11T09:34:33.045Z"
   },
   {
    "duration": 44,
    "start_time": "2023-04-11T09:34:41.620Z"
   },
   {
    "duration": 67,
    "start_time": "2023-04-11T09:38:17.840Z"
   },
   {
    "duration": 24,
    "start_time": "2023-04-11T09:38:35.861Z"
   },
   {
    "duration": 24,
    "start_time": "2023-04-11T09:38:54.132Z"
   },
   {
    "duration": 22,
    "start_time": "2023-04-11T09:39:07.026Z"
   },
   {
    "duration": 297,
    "start_time": "2023-04-11T09:40:03.838Z"
   },
   {
    "duration": 5101,
    "start_time": "2023-04-11T09:44:23.312Z"
   },
   {
    "duration": 4323,
    "start_time": "2023-04-11T09:44:28.415Z"
   },
   {
    "duration": 5,
    "start_time": "2023-04-11T09:44:32.740Z"
   },
   {
    "duration": 743,
    "start_time": "2023-04-11T09:44:32.748Z"
   },
   {
    "duration": 14,
    "start_time": "2023-04-11T09:44:33.492Z"
   },
   {
    "duration": 691,
    "start_time": "2023-04-11T09:44:33.508Z"
   },
   {
    "duration": 131,
    "start_time": "2023-04-11T09:44:34.201Z"
   },
   {
    "duration": 345,
    "start_time": "2023-04-11T09:44:34.333Z"
   },
   {
    "duration": 381,
    "start_time": "2023-04-11T09:44:34.679Z"
   },
   {
    "duration": 124,
    "start_time": "2023-04-11T09:44:35.063Z"
   },
   {
    "duration": 18,
    "start_time": "2023-04-11T09:44:35.188Z"
   },
   {
    "duration": 1525,
    "start_time": "2023-04-11T09:44:35.208Z"
   },
   {
    "duration": 1297,
    "start_time": "2023-04-11T09:44:36.735Z"
   },
   {
    "duration": 1720,
    "start_time": "2023-04-11T09:44:38.033Z"
   },
   {
    "duration": 18,
    "start_time": "2023-04-11T09:44:39.755Z"
   },
   {
    "duration": 21,
    "start_time": "2023-04-11T09:44:39.775Z"
   },
   {
    "duration": 16,
    "start_time": "2023-04-11T09:44:39.797Z"
   },
   {
    "duration": 7787,
    "start_time": "2023-04-11T09:44:39.814Z"
   },
   {
    "duration": 6359,
    "start_time": "2023-04-11T09:44:47.603Z"
   },
   {
    "duration": 11238,
    "start_time": "2023-04-11T09:44:53.964Z"
   },
   {
    "duration": 15,
    "start_time": "2023-04-11T09:45:05.204Z"
   },
   {
    "duration": 33,
    "start_time": "2023-04-11T09:45:05.221Z"
   },
   {
    "duration": 46,
    "start_time": "2023-04-11T09:45:05.255Z"
   },
   {
    "duration": 30,
    "start_time": "2023-04-11T09:45:05.302Z"
   },
   {
    "duration": 47,
    "start_time": "2023-04-11T09:45:05.333Z"
   },
   {
    "duration": 25,
    "start_time": "2023-04-11T09:45:05.382Z"
   },
   {
    "duration": 38,
    "start_time": "2023-04-11T09:45:05.409Z"
   },
   {
    "duration": 96,
    "start_time": "2023-04-11T09:45:05.450Z"
   },
   {
    "duration": 175,
    "start_time": "2023-04-11T09:45:05.547Z"
   },
   {
    "duration": 469,
    "start_time": "2023-04-11T09:45:05.723Z"
   },
   {
    "duration": 14,
    "start_time": "2023-04-11T09:45:06.194Z"
   },
   {
    "duration": 8226,
    "start_time": "2023-04-11T09:45:06.210Z"
   },
   {
    "duration": 9,
    "start_time": "2023-04-11T09:45:14.437Z"
   },
   {
    "duration": 16,
    "start_time": "2023-04-11T09:45:14.447Z"
   },
   {
    "duration": 26,
    "start_time": "2023-04-11T09:45:14.472Z"
   },
   {
    "duration": 7,
    "start_time": "2023-04-11T09:45:14.500Z"
   },
   {
    "duration": 58,
    "start_time": "2023-04-11T09:45:14.508Z"
   },
   {
    "duration": 15,
    "start_time": "2023-04-11T09:45:14.572Z"
   },
   {
    "duration": 25,
    "start_time": "2023-04-11T09:45:14.589Z"
   },
   {
    "duration": 128,
    "start_time": "2023-04-11T09:45:49.526Z"
   },
   {
    "duration": 439,
    "start_time": "2023-04-11T09:45:51.215Z"
   },
   {
    "duration": 12,
    "start_time": "2023-04-11T09:45:53.311Z"
   },
   {
    "duration": 81,
    "start_time": "2023-04-11T09:45:55.348Z"
   },
   {
    "duration": 165,
    "start_time": "2023-04-11T09:45:59.150Z"
   },
   {
    "duration": 523,
    "start_time": "2023-04-11T09:46:00.862Z"
   },
   {
    "duration": 29,
    "start_time": "2023-04-11T09:46:04.082Z"
   },
   {
    "duration": 96,
    "start_time": "2023-04-11T09:46:05.752Z"
   },
   {
    "duration": 33,
    "start_time": "2023-04-11T09:46:10.456Z"
   },
   {
    "duration": 16,
    "start_time": "2023-04-11T09:46:14.015Z"
   },
   {
    "duration": 7,
    "start_time": "2023-04-11T09:47:23.208Z"
   },
   {
    "duration": 24,
    "start_time": "2023-04-11T09:47:24.427Z"
   },
   {
    "duration": 6,
    "start_time": "2023-04-11T09:47:26.683Z"
   },
   {
    "duration": 219,
    "start_time": "2023-04-11T09:47:28.114Z"
   },
   {
    "duration": 28,
    "start_time": "2023-04-11T09:47:41.913Z"
   },
   {
    "duration": 30,
    "start_time": "2023-04-11T09:47:45.480Z"
   },
   {
    "duration": 17,
    "start_time": "2023-04-11T09:47:47.785Z"
   },
   {
    "duration": 48,
    "start_time": "2023-04-11T09:47:49.820Z"
   },
   {
    "duration": 3,
    "start_time": "2023-04-11T09:47:58.504Z"
   },
   {
    "duration": 2,
    "start_time": "2023-04-11T09:48:01.508Z"
   },
   {
    "duration": 24,
    "start_time": "2023-04-11T09:48:41.316Z"
   },
   {
    "duration": 3,
    "start_time": "2023-04-11T09:48:52.735Z"
   },
   {
    "duration": 227,
    "start_time": "2023-04-11T09:49:02.154Z"
   },
   {
    "duration": 53,
    "start_time": "2023-04-11T09:49:09.628Z"
   },
   {
    "duration": 42203,
    "start_time": "2023-04-11T09:49:49.929Z"
   },
   {
    "duration": 442,
    "start_time": "2023-04-11T09:50:46.298Z"
   },
   {
    "duration": 364,
    "start_time": "2023-04-11T09:51:25.115Z"
   },
   {
    "duration": 13,
    "start_time": "2023-04-11T09:51:33.775Z"
   },
   {
    "duration": 14035,
    "start_time": "2023-04-11T09:52:06.143Z"
   },
   {
    "duration": 195,
    "start_time": "2023-04-11T09:53:38.414Z"
   },
   {
    "duration": 150,
    "start_time": "2023-04-11T09:53:51.215Z"
   },
   {
    "duration": 16,
    "start_time": "2023-04-11T09:53:56.825Z"
   },
   {
    "duration": 8,
    "start_time": "2023-04-11T09:54:10.810Z"
   },
   {
    "duration": 2,
    "start_time": "2023-04-11T09:54:56.388Z"
   },
   {
    "duration": 4,
    "start_time": "2023-04-11T09:55:08.265Z"
   },
   {
    "duration": 4,
    "start_time": "2023-04-11T09:55:16.359Z"
   },
   {
    "duration": 18711,
    "start_time": "2023-04-11T09:55:38.588Z"
   },
   {
    "duration": 77894,
    "start_time": "2023-04-11T09:56:08.411Z"
   },
   {
    "duration": 326,
    "start_time": "2023-04-11T09:57:51.249Z"
   },
   {
    "duration": 5648,
    "start_time": "2023-04-11T09:58:08.829Z"
   },
   {
    "duration": 4490,
    "start_time": "2023-04-11T09:58:14.479Z"
   },
   {
    "duration": 1189,
    "start_time": "2023-04-11T09:58:18.972Z"
   },
   {
    "duration": 784,
    "start_time": "2023-04-11T09:58:20.164Z"
   },
   {
    "duration": 25,
    "start_time": "2023-04-11T09:58:20.949Z"
   },
   {
    "duration": 1310,
    "start_time": "2023-04-11T09:58:20.975Z"
   },
   {
    "duration": 133,
    "start_time": "2023-04-11T09:58:22.287Z"
   },
   {
    "duration": 382,
    "start_time": "2023-04-11T09:58:22.422Z"
   },
   {
    "duration": 415,
    "start_time": "2023-04-11T09:58:22.805Z"
   },
   {
    "duration": 140,
    "start_time": "2023-04-11T09:58:23.222Z"
   },
   {
    "duration": 28,
    "start_time": "2023-04-11T09:58:23.364Z"
   },
   {
    "duration": 1423,
    "start_time": "2023-04-11T09:58:23.393Z"
   },
   {
    "duration": 1377,
    "start_time": "2023-04-11T09:58:24.817Z"
   },
   {
    "duration": 1878,
    "start_time": "2023-04-11T09:58:26.195Z"
   },
   {
    "duration": 19,
    "start_time": "2023-04-11T09:58:28.074Z"
   },
   {
    "duration": 29,
    "start_time": "2023-04-11T09:58:28.094Z"
   },
   {
    "duration": 24,
    "start_time": "2023-04-11T09:58:28.124Z"
   },
   {
    "duration": 8640,
    "start_time": "2023-04-11T09:58:28.149Z"
   },
   {
    "duration": 6397,
    "start_time": "2023-04-11T09:58:36.791Z"
   },
   {
    "duration": 10744,
    "start_time": "2023-04-11T09:58:43.189Z"
   },
   {
    "duration": 17,
    "start_time": "2023-04-11T09:58:53.934Z"
   },
   {
    "duration": 33,
    "start_time": "2023-04-11T09:58:53.952Z"
   },
   {
    "duration": 17,
    "start_time": "2023-04-11T09:58:53.986Z"
   },
   {
    "duration": 17,
    "start_time": "2023-04-11T09:58:54.005Z"
   },
   {
    "duration": 32,
    "start_time": "2023-04-11T09:58:54.024Z"
   },
   {
    "duration": 20,
    "start_time": "2023-04-11T09:58:54.072Z"
   },
   {
    "duration": 26,
    "start_time": "2023-04-11T09:58:54.093Z"
   },
   {
    "duration": 100,
    "start_time": "2023-04-11T09:58:54.123Z"
   },
   {
    "duration": 178,
    "start_time": "2023-04-11T09:58:54.224Z"
   },
   {
    "duration": 432,
    "start_time": "2023-04-11T09:58:54.404Z"
   },
   {
    "duration": 12,
    "start_time": "2023-04-11T09:58:54.837Z"
   },
   {
    "duration": 8815,
    "start_time": "2023-04-11T09:58:54.851Z"
   },
   {
    "duration": 11,
    "start_time": "2023-04-11T09:59:03.668Z"
   },
   {
    "duration": 23,
    "start_time": "2023-04-11T09:59:03.681Z"
   },
   {
    "duration": 50,
    "start_time": "2023-04-11T09:59:03.705Z"
   },
   {
    "duration": 13,
    "start_time": "2023-04-11T09:59:03.757Z"
   },
   {
    "duration": 76,
    "start_time": "2023-04-11T09:59:03.771Z"
   },
   {
    "duration": 12,
    "start_time": "2023-04-11T09:59:03.848Z"
   },
   {
    "duration": 24,
    "start_time": "2023-04-11T09:59:03.862Z"
   },
   {
    "duration": 128,
    "start_time": "2023-04-11T09:59:03.888Z"
   },
   {
    "duration": 447,
    "start_time": "2023-04-11T09:59:04.018Z"
   },
   {
    "duration": 16,
    "start_time": "2023-04-11T09:59:04.466Z"
   },
   {
    "duration": 102,
    "start_time": "2023-04-11T09:59:04.483Z"
   },
   {
    "duration": 147,
    "start_time": "2023-04-11T09:59:04.586Z"
   },
   {
    "duration": 452,
    "start_time": "2023-04-11T09:59:04.734Z"
   },
   {
    "duration": 26,
    "start_time": "2023-04-11T09:59:05.187Z"
   },
   {
    "duration": 94,
    "start_time": "2023-04-11T09:59:05.215Z"
   },
   {
    "duration": 30,
    "start_time": "2023-04-11T09:59:05.310Z"
   },
   {
    "duration": 13,
    "start_time": "2023-04-11T09:59:05.342Z"
   },
   {
    "duration": 45,
    "start_time": "2023-04-11T09:59:05.357Z"
   },
   {
    "duration": 22,
    "start_time": "2023-04-11T09:59:05.403Z"
   },
   {
    "duration": 5,
    "start_time": "2023-04-11T09:59:05.427Z"
   },
   {
    "duration": 204,
    "start_time": "2023-04-11T09:59:05.433Z"
   },
   {
    "duration": 24,
    "start_time": "2023-04-11T09:59:05.638Z"
   },
   {
    "duration": 38,
    "start_time": "2023-04-11T09:59:05.664Z"
   },
   {
    "duration": 17,
    "start_time": "2023-04-11T09:59:05.704Z"
   },
   {
    "duration": 70,
    "start_time": "2023-04-11T09:59:05.722Z"
   },
   {
    "duration": 2,
    "start_time": "2023-04-11T09:59:05.794Z"
   },
   {
    "duration": 7,
    "start_time": "2023-04-11T09:59:05.797Z"
   },
   {
    "duration": 30,
    "start_time": "2023-04-11T09:59:05.805Z"
   },
   {
    "duration": 2,
    "start_time": "2023-04-11T09:59:05.836Z"
   },
   {
    "duration": 58,
    "start_time": "2023-04-11T09:59:05.839Z"
   },
   {
    "duration": 40931,
    "start_time": "2023-04-11T09:59:05.899Z"
   },
   {
    "duration": 455,
    "start_time": "2023-04-11T09:59:46.831Z"
   },
   {
    "duration": 351,
    "start_time": "2023-04-11T09:59:47.288Z"
   },
   {
    "duration": 13,
    "start_time": "2023-04-11T09:59:47.641Z"
   },
   {
    "duration": 14000,
    "start_time": "2023-04-11T09:59:47.655Z"
   },
   {
    "duration": 207,
    "start_time": "2023-04-11T10:00:01.656Z"
   },
   {
    "duration": 162,
    "start_time": "2023-04-11T10:00:01.864Z"
   },
   {
    "duration": 17,
    "start_time": "2023-04-11T10:00:02.028Z"
   },
   {
    "duration": 56,
    "start_time": "2023-04-11T10:00:02.047Z"
   },
   {
    "duration": 53,
    "start_time": "2023-04-11T10:00:02.105Z"
   },
   {
    "duration": 18437,
    "start_time": "2023-04-11T10:00:02.159Z"
   },
   {
    "duration": 84385,
    "start_time": "2023-04-11T10:00:20.598Z"
   },
   {
    "duration": 342,
    "start_time": "2023-04-11T10:01:50.331Z"
   },
   {
    "duration": 249,
    "start_time": "2023-04-11T10:01:56.054Z"
   },
   {
    "duration": 5410,
    "start_time": "2023-04-11T10:09:32.318Z"
   },
   {
    "duration": 4660,
    "start_time": "2023-04-11T10:09:37.731Z"
   },
   {
    "duration": 5,
    "start_time": "2023-04-11T10:09:42.393Z"
   },
   {
    "duration": 759,
    "start_time": "2023-04-11T10:09:42.400Z"
   },
   {
    "duration": 24,
    "start_time": "2023-04-11T10:09:43.161Z"
   },
   {
    "duration": 804,
    "start_time": "2023-04-11T10:09:43.189Z"
   },
   {
    "duration": 115,
    "start_time": "2023-04-11T10:09:43.995Z"
   },
   {
    "duration": 373,
    "start_time": "2023-04-11T10:09:44.112Z"
   },
   {
    "duration": 369,
    "start_time": "2023-04-11T10:09:44.487Z"
   },
   {
    "duration": 119,
    "start_time": "2023-04-11T10:09:44.858Z"
   },
   {
    "duration": 22,
    "start_time": "2023-04-11T10:09:44.978Z"
   },
   {
    "duration": 1515,
    "start_time": "2023-04-11T10:09:45.001Z"
   },
   {
    "duration": 1505,
    "start_time": "2023-04-11T10:09:46.518Z"
   },
   {
    "duration": 2073,
    "start_time": "2023-04-11T10:09:48.025Z"
   },
   {
    "duration": 18,
    "start_time": "2023-04-11T10:09:50.099Z"
   },
   {
    "duration": 74,
    "start_time": "2023-04-11T10:09:50.119Z"
   },
   {
    "duration": 57,
    "start_time": "2023-04-11T10:09:50.195Z"
   },
   {
    "duration": 9343,
    "start_time": "2023-04-11T10:09:50.254Z"
   },
   {
    "duration": 7609,
    "start_time": "2023-04-11T10:09:59.599Z"
   },
   {
    "duration": 11869,
    "start_time": "2023-04-11T10:10:07.210Z"
   },
   {
    "duration": 21,
    "start_time": "2023-04-11T10:10:19.090Z"
   },
   {
    "duration": 75,
    "start_time": "2023-04-11T10:10:19.112Z"
   },
   {
    "duration": 22,
    "start_time": "2023-04-11T10:10:19.189Z"
   },
   {
    "duration": 21,
    "start_time": "2023-04-11T10:10:19.212Z"
   },
   {
    "duration": 48,
    "start_time": "2023-04-11T10:10:19.235Z"
   },
   {
    "duration": 35,
    "start_time": "2023-04-11T10:10:19.285Z"
   },
   {
    "duration": 34,
    "start_time": "2023-04-11T10:10:19.322Z"
   },
   {
    "duration": 96,
    "start_time": "2023-04-11T10:10:19.358Z"
   },
   {
    "duration": 173,
    "start_time": "2023-04-11T10:10:19.456Z"
   },
   {
    "duration": 574,
    "start_time": "2023-04-11T10:10:19.630Z"
   },
   {
    "duration": 12,
    "start_time": "2023-04-11T10:10:20.206Z"
   },
   {
    "duration": 9598,
    "start_time": "2023-04-11T10:10:20.220Z"
   },
   {
    "duration": 12,
    "start_time": "2023-04-11T10:10:29.819Z"
   },
   {
    "duration": 18,
    "start_time": "2023-04-11T10:10:29.832Z"
   },
   {
    "duration": 49,
    "start_time": "2023-04-11T10:10:29.852Z"
   },
   {
    "duration": 8,
    "start_time": "2023-04-11T10:10:29.902Z"
   },
   {
    "duration": 63,
    "start_time": "2023-04-11T10:10:29.912Z"
   },
   {
    "duration": 18,
    "start_time": "2023-04-11T10:10:29.977Z"
   },
   {
    "duration": 30,
    "start_time": "2023-04-11T10:10:29.997Z"
   },
   {
    "duration": 180,
    "start_time": "2023-04-11T10:10:30.029Z"
   },
   {
    "duration": 530,
    "start_time": "2023-04-11T10:10:30.214Z"
   },
   {
    "duration": 31,
    "start_time": "2023-04-11T10:10:30.746Z"
   },
   {
    "duration": 161,
    "start_time": "2023-04-11T10:10:30.783Z"
   },
   {
    "duration": 185,
    "start_time": "2023-04-11T10:10:30.946Z"
   },
   {
    "duration": 560,
    "start_time": "2023-04-11T10:10:31.132Z"
   },
   {
    "duration": 29,
    "start_time": "2023-04-11T10:10:31.694Z"
   },
   {
    "duration": 205,
    "start_time": "2023-04-11T10:10:31.725Z"
   },
   {
    "duration": 30,
    "start_time": "2023-04-11T10:10:31.931Z"
   },
   {
    "duration": 41,
    "start_time": "2023-04-11T10:10:31.963Z"
   },
   {
    "duration": 29,
    "start_time": "2023-04-11T10:10:32.005Z"
   },
   {
    "duration": 131,
    "start_time": "2023-04-11T10:10:32.036Z"
   },
   {
    "duration": 130,
    "start_time": "2023-04-11T10:10:32.168Z"
   },
   {
    "duration": 234,
    "start_time": "2023-04-11T10:10:32.300Z"
   },
   {
    "duration": 23,
    "start_time": "2023-04-11T10:10:32.536Z"
   },
   {
    "duration": 47,
    "start_time": "2023-04-11T10:10:32.561Z"
   },
   {
    "duration": 24,
    "start_time": "2023-04-11T10:10:32.609Z"
   },
   {
    "duration": 68,
    "start_time": "2023-04-11T10:10:32.635Z"
   },
   {
    "duration": 2,
    "start_time": "2023-04-11T10:10:32.705Z"
   },
   {
    "duration": 21,
    "start_time": "2023-04-11T10:10:32.709Z"
   },
   {
    "duration": 21,
    "start_time": "2023-04-11T10:10:32.732Z"
   },
   {
    "duration": 3,
    "start_time": "2023-04-11T10:10:32.754Z"
   },
   {
    "duration": 64,
    "start_time": "2023-04-11T10:10:32.758Z"
   },
   {
    "duration": 43523,
    "start_time": "2023-04-11T10:10:32.824Z"
   },
   {
    "duration": 514,
    "start_time": "2023-04-11T10:11:16.349Z"
   },
   {
    "duration": 541,
    "start_time": "2023-04-11T10:11:16.865Z"
   },
   {
    "duration": 16,
    "start_time": "2023-04-11T10:11:17.408Z"
   },
   {
    "duration": 15264,
    "start_time": "2023-04-11T10:11:17.426Z"
   },
   {
    "duration": 207,
    "start_time": "2023-04-11T10:11:32.693Z"
   },
   {
    "duration": 168,
    "start_time": "2023-04-11T10:11:32.902Z"
   },
   {
    "duration": 22,
    "start_time": "2023-04-11T10:11:33.072Z"
   },
   {
    "duration": 20,
    "start_time": "2023-04-11T10:11:33.096Z"
   },
   {
    "duration": 10,
    "start_time": "2023-04-11T10:11:33.118Z"
   },
   {
    "duration": 70580,
    "start_time": "2023-04-11T10:11:33.130Z"
   },
   {
    "duration": 5757,
    "start_time": "2023-04-11T10:13:43.045Z"
   },
   {
    "duration": 4553,
    "start_time": "2023-04-11T10:13:48.804Z"
   },
   {
    "duration": 1358,
    "start_time": "2023-04-11T10:13:53.359Z"
   },
   {
    "duration": 2952,
    "start_time": "2023-04-11T10:13:54.719Z"
   },
   {
    "duration": 24,
    "start_time": "2023-04-11T10:13:57.676Z"
   },
   {
    "duration": 887,
    "start_time": "2023-04-11T10:13:57.702Z"
   },
   {
    "duration": 152,
    "start_time": "2023-04-11T10:13:58.592Z"
   },
   {
    "duration": 453,
    "start_time": "2023-04-11T10:13:58.745Z"
   },
   {
    "duration": 485,
    "start_time": "2023-04-11T10:13:59.200Z"
   },
   {
    "duration": 164,
    "start_time": "2023-04-11T10:13:59.689Z"
   },
   {
    "duration": 22,
    "start_time": "2023-04-11T10:13:59.855Z"
   },
   {
    "duration": 1650,
    "start_time": "2023-04-11T10:13:59.878Z"
   },
   {
    "duration": 1665,
    "start_time": "2023-04-11T10:14:01.530Z"
   },
   {
    "duration": 2124,
    "start_time": "2023-04-11T10:14:03.196Z"
   },
   {
    "duration": 19,
    "start_time": "2023-04-11T10:14:05.321Z"
   },
   {
    "duration": 51,
    "start_time": "2023-04-11T10:14:05.342Z"
   },
   {
    "duration": 21,
    "start_time": "2023-04-11T10:14:05.395Z"
   },
   {
    "duration": 8588,
    "start_time": "2023-04-11T10:14:05.418Z"
   },
   {
    "duration": 7729,
    "start_time": "2023-04-11T10:14:14.007Z"
   },
   {
    "duration": 12394,
    "start_time": "2023-04-11T10:14:21.738Z"
   },
   {
    "duration": 17,
    "start_time": "2023-04-11T10:14:34.134Z"
   },
   {
    "duration": 52,
    "start_time": "2023-04-11T10:14:34.152Z"
   },
   {
    "duration": 18,
    "start_time": "2023-04-11T10:14:34.206Z"
   },
   {
    "duration": 26,
    "start_time": "2023-04-11T10:14:34.225Z"
   },
   {
    "duration": 56,
    "start_time": "2023-04-11T10:14:34.252Z"
   },
   {
    "duration": 19,
    "start_time": "2023-04-11T10:14:34.310Z"
   },
   {
    "duration": 25,
    "start_time": "2023-04-11T10:14:34.330Z"
   },
   {
    "duration": 108,
    "start_time": "2023-04-11T10:14:34.360Z"
   },
   {
    "duration": 193,
    "start_time": "2023-04-11T10:14:34.470Z"
   },
   {
    "duration": 472,
    "start_time": "2023-04-11T10:14:34.665Z"
   },
   {
    "duration": 13,
    "start_time": "2023-04-11T10:14:35.139Z"
   },
   {
    "duration": 9297,
    "start_time": "2023-04-11T10:14:35.153Z"
   },
   {
    "duration": 10,
    "start_time": "2023-04-11T10:14:44.452Z"
   },
   {
    "duration": 35,
    "start_time": "2023-04-11T10:14:44.463Z"
   },
   {
    "duration": 28,
    "start_time": "2023-04-11T10:14:44.499Z"
   },
   {
    "duration": 8,
    "start_time": "2023-04-11T10:14:44.528Z"
   },
   {
    "duration": 74,
    "start_time": "2023-04-11T10:14:44.538Z"
   },
   {
    "duration": 14,
    "start_time": "2023-04-11T10:14:44.613Z"
   },
   {
    "duration": 26,
    "start_time": "2023-04-11T10:14:44.628Z"
   },
   {
    "duration": 159,
    "start_time": "2023-04-11T10:14:44.656Z"
   },
   {
    "duration": 506,
    "start_time": "2023-04-11T10:14:44.817Z"
   },
   {
    "duration": 14,
    "start_time": "2023-04-11T10:14:45.324Z"
   },
   {
    "duration": 107,
    "start_time": "2023-04-11T10:14:45.340Z"
   },
   {
    "duration": 165,
    "start_time": "2023-04-11T10:14:45.449Z"
   },
   {
    "duration": 490,
    "start_time": "2023-04-11T10:14:45.616Z"
   },
   {
    "duration": 28,
    "start_time": "2023-04-11T10:14:46.108Z"
   },
   {
    "duration": 100,
    "start_time": "2023-04-11T10:14:46.137Z"
   },
   {
    "duration": 59,
    "start_time": "2023-04-11T10:14:46.239Z"
   },
   {
    "duration": 17,
    "start_time": "2023-04-11T10:14:46.301Z"
   },
   {
    "duration": 13,
    "start_time": "2023-04-11T10:14:46.320Z"
   },
   {
    "duration": 51,
    "start_time": "2023-04-11T10:14:46.335Z"
   },
   {
    "duration": 7,
    "start_time": "2023-04-11T10:14:46.390Z"
   },
   {
    "duration": 259,
    "start_time": "2023-04-11T10:14:46.399Z"
   },
   {
    "duration": 31,
    "start_time": "2023-04-11T10:14:46.661Z"
   },
   {
    "duration": 47,
    "start_time": "2023-04-11T10:14:46.694Z"
   },
   {
    "duration": 37,
    "start_time": "2023-04-11T10:14:46.744Z"
   },
   {
    "duration": 50,
    "start_time": "2023-04-11T10:14:46.784Z"
   },
   {
    "duration": 2,
    "start_time": "2023-04-11T10:14:46.836Z"
   },
   {
    "duration": 15,
    "start_time": "2023-04-11T10:14:46.839Z"
   },
   {
    "duration": 35,
    "start_time": "2023-04-11T10:14:46.855Z"
   },
   {
    "duration": 10,
    "start_time": "2023-04-11T10:14:46.892Z"
   },
   {
    "duration": 86,
    "start_time": "2023-04-11T10:14:46.904Z"
   },
   {
    "duration": 44270,
    "start_time": "2023-04-11T10:14:46.991Z"
   },
   {
    "duration": 474,
    "start_time": "2023-04-11T10:15:31.263Z"
   },
   {
    "duration": 380,
    "start_time": "2023-04-11T10:15:31.739Z"
   },
   {
    "duration": 19,
    "start_time": "2023-04-11T10:15:32.121Z"
   },
   {
    "duration": 14714,
    "start_time": "2023-04-11T10:15:32.141Z"
   },
   {
    "duration": 194,
    "start_time": "2023-04-11T10:15:46.856Z"
   },
   {
    "duration": 170,
    "start_time": "2023-04-11T10:15:47.052Z"
   },
   {
    "duration": 14,
    "start_time": "2023-04-11T10:15:47.223Z"
   },
   {
    "duration": 11,
    "start_time": "2023-04-11T10:15:47.239Z"
   },
   {
    "duration": 18,
    "start_time": "2023-04-11T10:15:47.251Z"
   },
   {
    "duration": 68354,
    "start_time": "2023-04-11T10:15:47.271Z"
   },
   {
    "duration": 314560,
    "start_time": "2023-04-11T10:16:55.627Z"
   },
   {
    "duration": 490,
    "start_time": "2023-04-11T10:22:10.189Z"
   },
   {
    "duration": 756764,
    "start_time": "2023-04-11T10:22:10.681Z"
   },
   {
    "duration": 4,
    "start_time": "2023-04-11T10:34:47.447Z"
   },
   {
    "duration": 383,
    "start_time": "2023-04-11T10:34:47.454Z"
   },
   {
    "duration": 382,
    "start_time": "2023-04-11T10:34:47.838Z"
   },
   {
    "duration": 7343,
    "start_time": "2023-04-11T10:35:03.427Z"
   },
   {
    "duration": 5959,
    "start_time": "2023-04-11T10:35:10.778Z"
   },
   {
    "duration": 1510,
    "start_time": "2023-04-11T10:35:16.739Z"
   },
   {
    "duration": 844,
    "start_time": "2023-04-11T10:35:18.253Z"
   },
   {
    "duration": 30,
    "start_time": "2023-04-11T10:35:19.102Z"
   },
   {
    "duration": 904,
    "start_time": "2023-04-11T10:35:19.133Z"
   },
   {
    "duration": 148,
    "start_time": "2023-04-11T10:35:20.039Z"
   },
   {
    "duration": 528,
    "start_time": "2023-04-11T10:35:20.194Z"
   },
   {
    "duration": 520,
    "start_time": "2023-04-11T10:35:20.723Z"
   },
   {
    "duration": 196,
    "start_time": "2023-04-11T10:35:21.245Z"
   },
   {
    "duration": 38,
    "start_time": "2023-04-11T10:35:21.443Z"
   },
   {
    "duration": 1914,
    "start_time": "2023-04-11T10:35:21.483Z"
   },
   {
    "duration": 1848,
    "start_time": "2023-04-11T10:35:23.399Z"
   },
   {
    "duration": 2396,
    "start_time": "2023-04-11T10:35:25.249Z"
   },
   {
    "duration": 38,
    "start_time": "2023-04-11T10:35:27.647Z"
   },
   {
    "duration": 35,
    "start_time": "2023-04-11T10:35:27.698Z"
   },
   {
    "duration": 57,
    "start_time": "2023-04-11T10:35:27.739Z"
   },
   {
    "duration": 10548,
    "start_time": "2023-04-11T10:35:27.807Z"
   },
   {
    "duration": 8021,
    "start_time": "2023-04-11T10:35:38.356Z"
   },
   {
    "duration": 13664,
    "start_time": "2023-04-11T10:35:46.394Z"
   },
   {
    "duration": 44,
    "start_time": "2023-04-11T10:36:00.060Z"
   },
   {
    "duration": 53,
    "start_time": "2023-04-11T10:36:00.106Z"
   },
   {
    "duration": 83,
    "start_time": "2023-04-11T10:36:00.161Z"
   },
   {
    "duration": 81,
    "start_time": "2023-04-11T10:36:00.245Z"
   },
   {
    "duration": 89,
    "start_time": "2023-04-11T10:36:00.328Z"
   },
   {
    "duration": 38,
    "start_time": "2023-04-11T10:36:00.418Z"
   },
   {
    "duration": 85,
    "start_time": "2023-04-11T10:36:00.458Z"
   },
   {
    "duration": 118,
    "start_time": "2023-04-11T10:36:00.548Z"
   },
   {
    "duration": 231,
    "start_time": "2023-04-11T10:36:00.668Z"
   },
   {
    "duration": 552,
    "start_time": "2023-04-11T10:36:00.906Z"
   },
   {
    "duration": 27,
    "start_time": "2023-04-11T10:36:01.459Z"
   },
   {
    "duration": 10176,
    "start_time": "2023-04-11T10:36:01.488Z"
   },
   {
    "duration": 40,
    "start_time": "2023-04-11T10:36:11.665Z"
   },
   {
    "duration": 27,
    "start_time": "2023-04-11T10:36:11.707Z"
   },
   {
    "duration": 61,
    "start_time": "2023-04-11T10:36:11.736Z"
   },
   {
    "duration": 8,
    "start_time": "2023-04-11T10:36:11.805Z"
   },
   {
    "duration": 86,
    "start_time": "2023-04-11T10:36:11.815Z"
   },
   {
    "duration": 25,
    "start_time": "2023-04-11T10:36:11.906Z"
   },
   {
    "duration": 28,
    "start_time": "2023-04-11T10:36:11.933Z"
   },
   {
    "duration": 149,
    "start_time": "2023-04-11T10:36:11.963Z"
   },
   {
    "duration": 501,
    "start_time": "2023-04-11T10:36:12.114Z"
   },
   {
    "duration": 13,
    "start_time": "2023-04-11T10:36:12.617Z"
   },
   {
    "duration": 118,
    "start_time": "2023-04-11T10:36:12.632Z"
   },
   {
    "duration": 174,
    "start_time": "2023-04-11T10:36:12.752Z"
   },
   {
    "duration": 531,
    "start_time": "2023-04-11T10:36:12.929Z"
   },
   {
    "duration": 48,
    "start_time": "2023-04-11T10:36:13.461Z"
   },
   {
    "duration": 110,
    "start_time": "2023-04-11T10:36:13.512Z"
   },
   {
    "duration": 59,
    "start_time": "2023-04-11T10:36:13.623Z"
   },
   {
    "duration": 21,
    "start_time": "2023-04-11T10:36:13.702Z"
   },
   {
    "duration": 12,
    "start_time": "2023-04-11T10:36:13.724Z"
   },
   {
    "duration": 26,
    "start_time": "2023-04-11T10:36:13.738Z"
   },
   {
    "duration": 12,
    "start_time": "2023-04-11T10:36:13.766Z"
   },
   {
    "duration": 296,
    "start_time": "2023-04-11T10:36:13.780Z"
   },
   {
    "duration": 27,
    "start_time": "2023-04-11T10:36:14.077Z"
   },
   {
    "duration": 55,
    "start_time": "2023-04-11T10:36:14.106Z"
   },
   {
    "duration": 63,
    "start_time": "2023-04-11T10:36:14.163Z"
   },
   {
    "duration": 78,
    "start_time": "2023-04-11T10:36:14.228Z"
   },
   {
    "duration": 3,
    "start_time": "2023-04-11T10:36:14.308Z"
   },
   {
    "duration": 9,
    "start_time": "2023-04-11T10:36:14.312Z"
   },
   {
    "duration": 37,
    "start_time": "2023-04-11T10:36:14.323Z"
   },
   {
    "duration": 3,
    "start_time": "2023-04-11T10:36:14.361Z"
   },
   {
    "duration": 95,
    "start_time": "2023-04-11T10:36:14.365Z"
   },
   {
    "duration": 46947,
    "start_time": "2023-04-11T10:36:14.462Z"
   },
   {
    "duration": 510,
    "start_time": "2023-04-11T10:37:01.410Z"
   },
   {
    "duration": 401,
    "start_time": "2023-04-11T10:37:01.921Z"
   },
   {
    "duration": 15,
    "start_time": "2023-04-11T10:37:02.323Z"
   },
   {
    "duration": 15664,
    "start_time": "2023-04-11T10:37:02.339Z"
   },
   {
    "duration": 199,
    "start_time": "2023-04-11T10:37:18.006Z"
   },
   {
    "duration": 163,
    "start_time": "2023-04-11T10:37:18.207Z"
   },
   {
    "duration": 31,
    "start_time": "2023-04-11T10:37:18.371Z"
   },
   {
    "duration": 19,
    "start_time": "2023-04-11T10:37:18.404Z"
   },
   {
    "duration": 6,
    "start_time": "2023-04-11T10:37:18.425Z"
   },
   {
    "duration": 55479,
    "start_time": "2023-04-11T10:37:18.433Z"
   },
   {
    "duration": 256275,
    "start_time": "2023-04-11T10:38:13.913Z"
   },
   {
    "duration": 485,
    "start_time": "2023-04-11T10:42:30.194Z"
   },
   {
    "duration": 364,
    "start_time": "2023-04-11T10:43:03.519Z"
   },
   {
    "duration": 550992,
    "start_time": "2023-04-11T10:43:10.520Z"
   },
   {
    "duration": 3,
    "start_time": "2023-04-11T10:52:52.621Z"
   },
   {
    "duration": 4107,
    "start_time": "2023-04-11T10:52:55.990Z"
   },
   {
    "duration": 345,
    "start_time": "2023-04-11T10:53:02.937Z"
   },
   {
    "duration": 16,
    "start_time": "2023-04-11T10:55:42.151Z"
   },
   {
    "duration": 26,
    "start_time": "2023-04-11T10:58:36.871Z"
   },
   {
    "duration": 3,
    "start_time": "2023-04-11T10:58:40.133Z"
   },
   {
    "duration": 31,
    "start_time": "2023-04-11T10:59:01.754Z"
   },
   {
    "duration": 3,
    "start_time": "2023-04-11T10:59:04.729Z"
   },
   {
    "duration": 353,
    "start_time": "2023-04-11T10:59:25.789Z"
   },
   {
    "duration": 6506,
    "start_time": "2023-04-11T10:59:56.495Z"
   },
   {
    "duration": 5632,
    "start_time": "2023-04-11T11:00:03.003Z"
   },
   {
    "duration": 1368,
    "start_time": "2023-04-11T11:00:08.637Z"
   },
   {
    "duration": 929,
    "start_time": "2023-04-11T11:00:10.021Z"
   },
   {
    "duration": 22,
    "start_time": "2023-04-11T11:00:10.951Z"
   },
   {
    "duration": 957,
    "start_time": "2023-04-11T11:00:10.974Z"
   },
   {
    "duration": 147,
    "start_time": "2023-04-11T11:00:11.933Z"
   },
   {
    "duration": 462,
    "start_time": "2023-04-11T11:00:12.082Z"
   },
   {
    "duration": 488,
    "start_time": "2023-04-11T11:00:12.545Z"
   },
   {
    "duration": 194,
    "start_time": "2023-04-11T11:00:13.036Z"
   },
   {
    "duration": 20,
    "start_time": "2023-04-11T11:00:13.232Z"
   },
   {
    "duration": 2049,
    "start_time": "2023-04-11T11:00:13.254Z"
   },
   {
    "duration": 2026,
    "start_time": "2023-04-11T11:00:15.305Z"
   },
   {
    "duration": 2457,
    "start_time": "2023-04-11T11:00:17.335Z"
   },
   {
    "duration": 29,
    "start_time": "2023-04-11T11:00:19.794Z"
   },
   {
    "duration": 42,
    "start_time": "2023-04-11T11:00:19.825Z"
   },
   {
    "duration": 36,
    "start_time": "2023-04-11T11:00:19.869Z"
   },
   {
    "duration": 11512,
    "start_time": "2023-04-11T11:00:19.912Z"
   },
   {
    "duration": 9345,
    "start_time": "2023-04-11T11:00:31.426Z"
   },
   {
    "duration": 15348,
    "start_time": "2023-04-11T11:00:40.780Z"
   },
   {
    "duration": 23,
    "start_time": "2023-04-11T11:00:56.134Z"
   },
   {
    "duration": 83,
    "start_time": "2023-04-11T11:00:56.159Z"
   },
   {
    "duration": 48,
    "start_time": "2023-04-11T11:00:56.244Z"
   },
   {
    "duration": 59,
    "start_time": "2023-04-11T11:00:56.294Z"
   },
   {
    "duration": 94,
    "start_time": "2023-04-11T11:00:56.355Z"
   },
   {
    "duration": 45,
    "start_time": "2023-04-11T11:00:56.451Z"
   },
   {
    "duration": 62,
    "start_time": "2023-04-11T11:00:56.503Z"
   },
   {
    "duration": 128,
    "start_time": "2023-04-11T11:00:56.567Z"
   },
   {
    "duration": 236,
    "start_time": "2023-04-11T11:00:56.698Z"
   },
   {
    "duration": 569,
    "start_time": "2023-04-11T11:00:56.935Z"
   },
   {
    "duration": 16,
    "start_time": "2023-04-11T11:00:57.506Z"
   },
   {
    "duration": 11729,
    "start_time": "2023-04-11T11:00:57.524Z"
   },
   {
    "duration": 10,
    "start_time": "2023-04-11T11:01:09.255Z"
   },
   {
    "duration": 44,
    "start_time": "2023-04-11T11:01:09.272Z"
   },
   {
    "duration": 51,
    "start_time": "2023-04-11T11:01:09.317Z"
   },
   {
    "duration": 23,
    "start_time": "2023-04-11T11:01:09.369Z"
   },
   {
    "duration": 107,
    "start_time": "2023-04-11T11:01:09.394Z"
   },
   {
    "duration": 15,
    "start_time": "2023-04-11T11:01:09.521Z"
   },
   {
    "duration": 31,
    "start_time": "2023-04-11T11:01:09.538Z"
   },
   {
    "duration": 179,
    "start_time": "2023-04-11T11:01:09.570Z"
   },
   {
    "duration": 567,
    "start_time": "2023-04-11T11:01:09.754Z"
   },
   {
    "duration": 18,
    "start_time": "2023-04-11T11:01:10.323Z"
   },
   {
    "duration": 118,
    "start_time": "2023-04-11T11:01:10.342Z"
   },
   {
    "duration": 189,
    "start_time": "2023-04-11T11:01:10.462Z"
   },
   {
    "duration": 569,
    "start_time": "2023-04-11T11:01:10.652Z"
   },
   {
    "duration": 29,
    "start_time": "2023-04-11T11:01:11.223Z"
   },
   {
    "duration": 104,
    "start_time": "2023-04-11T11:01:11.254Z"
   },
   {
    "duration": 67,
    "start_time": "2023-04-11T11:01:11.359Z"
   },
   {
    "duration": 18,
    "start_time": "2023-04-11T11:01:11.428Z"
   },
   {
    "duration": 6,
    "start_time": "2023-04-11T11:01:11.447Z"
   },
   {
    "duration": 32,
    "start_time": "2023-04-11T11:01:11.454Z"
   },
   {
    "duration": 7,
    "start_time": "2023-04-11T11:01:11.488Z"
   },
   {
    "duration": 314,
    "start_time": "2023-04-11T11:01:11.496Z"
   },
   {
    "duration": 34,
    "start_time": "2023-04-11T11:01:11.812Z"
   },
   {
    "duration": 47,
    "start_time": "2023-04-11T11:01:11.847Z"
   },
   {
    "duration": 67,
    "start_time": "2023-04-11T11:01:11.896Z"
   },
   {
    "duration": 76,
    "start_time": "2023-04-11T11:01:11.964Z"
   },
   {
    "duration": 2,
    "start_time": "2023-04-11T11:01:12.042Z"
   },
   {
    "duration": 8,
    "start_time": "2023-04-11T11:01:12.046Z"
   },
   {
    "duration": 77,
    "start_time": "2023-04-11T11:01:12.055Z"
   },
   {
    "duration": 2,
    "start_time": "2023-04-11T11:01:12.134Z"
   },
   {
    "duration": 445,
    "start_time": "2023-04-11T11:01:26.505Z"
   },
   {
    "duration": 4,
    "start_time": "2023-04-11T11:02:38.466Z"
   },
   {
    "duration": 255,
    "start_time": "2023-04-11T11:02:40.458Z"
   },
   {
    "duration": 11,
    "start_time": "2023-04-11T11:03:09.294Z"
   },
   {
    "duration": 120,
    "start_time": "2023-04-11T11:03:11.710Z"
   },
   {
    "duration": 48777,
    "start_time": "2023-04-11T11:03:48.904Z"
   },
   {
    "duration": 698,
    "start_time": "2023-04-11T11:06:06.120Z"
   },
   {
    "duration": 606,
    "start_time": "2023-04-11T11:06:53.058Z"
   },
   {
    "duration": 19,
    "start_time": "2023-04-11T11:06:56.519Z"
   },
   {
    "duration": 8,
    "start_time": "2023-04-11T11:07:04.253Z"
   },
   {
    "duration": 36,
    "start_time": "2023-04-11T11:08:31.685Z"
   },
   {
    "duration": 5,
    "start_time": "2023-04-11T11:08:32.804Z"
   },
   {
    "duration": 235,
    "start_time": "2023-04-11T11:08:35.250Z"
   },
   {
    "duration": 28,
    "start_time": "2023-04-11T11:12:39.355Z"
   },
   {
    "duration": 3,
    "start_time": "2023-04-11T11:12:40.555Z"
   },
   {
    "duration": 156,
    "start_time": "2023-04-11T11:12:48.955Z"
   },
   {
    "duration": 46522,
    "start_time": "2023-04-11T11:12:52.867Z"
   },
   {
    "duration": 600,
    "start_time": "2023-04-11T11:13:42.501Z"
   },
   {
    "duration": 594,
    "start_time": "2023-04-11T11:13:47.408Z"
   },
   {
    "duration": 36,
    "start_time": "2023-04-11T11:13:50.363Z"
   },
   {
    "duration": 8,
    "start_time": "2023-04-11T11:13:53.061Z"
   },
   {
    "duration": 12,
    "start_time": "2023-04-11T11:14:34.755Z"
   },
   {
    "duration": 6,
    "start_time": "2023-04-11T11:14:39.476Z"
   },
   {
    "duration": 4,
    "start_time": "2023-04-11T11:14:55.855Z"
   },
   {
    "duration": 10,
    "start_time": "2023-04-11T11:20:56.519Z"
   },
   {
    "duration": 9,
    "start_time": "2023-04-11T11:20:57.472Z"
   },
   {
    "duration": 56,
    "start_time": "2023-04-11T11:21:05.300Z"
   },
   {
    "duration": 45854,
    "start_time": "2023-04-11T11:21:10.160Z"
   },
   {
    "duration": 497,
    "start_time": "2023-04-11T11:21:59.098Z"
   },
   {
    "duration": 514,
    "start_time": "2023-04-11T11:22:02.414Z"
   },
   {
    "duration": 29,
    "start_time": "2023-04-11T11:22:03.456Z"
   },
   {
    "duration": 15980,
    "start_time": "2023-04-11T11:22:12.183Z"
   },
   {
    "duration": 227,
    "start_time": "2023-04-11T11:22:29.859Z"
   },
   {
    "duration": 176,
    "start_time": "2023-04-11T11:22:31.061Z"
   },
   {
    "duration": 15,
    "start_time": "2023-04-11T11:22:31.820Z"
   },
   {
    "duration": 10,
    "start_time": "2023-04-11T11:23:14.096Z"
   },
   {
    "duration": 4,
    "start_time": "2023-04-11T11:25:01.856Z"
   },
   {
    "duration": 87,
    "start_time": "2023-04-11T11:25:38.546Z"
   },
   {
    "duration": 7,
    "start_time": "2023-04-11T11:27:26.063Z"
   },
   {
    "duration": 99,
    "start_time": "2023-04-11T11:27:28.521Z"
   },
   {
    "duration": 319,
    "start_time": "2023-04-11T11:27:32.115Z"
   },
   {
    "duration": 375,
    "start_time": "2023-04-11T11:29:01.561Z"
   },
   {
    "duration": 10,
    "start_time": "2023-04-11T11:29:08.806Z"
   },
   {
    "duration": 334,
    "start_time": "2023-04-11T11:29:51.320Z"
   },
   {
    "duration": 131,
    "start_time": "2023-04-11T11:30:13.407Z"
   },
   {
    "duration": 11,
    "start_time": "2023-04-11T11:30:25.247Z"
   },
   {
    "duration": 11,
    "start_time": "2023-04-11T11:30:32.434Z"
   },
   {
    "duration": 5,
    "start_time": "2023-04-11T11:30:53.027Z"
   },
   {
    "duration": 18306,
    "start_time": "2023-04-11T11:30:57.319Z"
   },
   {
    "duration": 2892,
    "start_time": "2023-04-11T11:31:30.593Z"
   },
   {
    "duration": 3,
    "start_time": "2023-04-11T11:34:11.846Z"
   },
   {
    "duration": 19052,
    "start_time": "2023-04-11T11:34:16.508Z"
   },
   {
    "duration": 999,
    "start_time": "2023-04-11T11:35:58.192Z"
   },
   {
    "duration": 5,
    "start_time": "2023-04-11T11:36:05.435Z"
   },
   {
    "duration": 2950,
    "start_time": "2023-04-11T11:36:28.797Z"
   },
   {
    "duration": 383770,
    "start_time": "2023-04-11T11:36:56.048Z"
   },
   {
    "duration": 3,
    "start_time": "2023-04-11T11:44:57.603Z"
   },
   {
    "duration": 17639,
    "start_time": "2023-04-11T11:44:58.488Z"
   },
   {
    "duration": 2723,
    "start_time": "2023-04-11T11:45:25.166Z"
   },
   {
    "duration": 2,
    "start_time": "2023-04-11T11:50:21.011Z"
   },
   {
    "duration": 178,
    "start_time": "2023-04-11T11:50:30.346Z"
   },
   {
    "duration": 114,
    "start_time": "2023-04-11T11:51:14.090Z"
   },
   {
    "duration": 97,
    "start_time": "2023-04-11T11:51:26.214Z"
   },
   {
    "duration": 162,
    "start_time": "2023-04-11T11:52:09.055Z"
   },
   {
    "duration": 268,
    "start_time": "2023-04-11T11:52:29.831Z"
   },
   {
    "duration": 290,
    "start_time": "2023-04-11T11:52:35.908Z"
   },
   {
    "duration": 117,
    "start_time": "2023-04-11T11:52:47.841Z"
   },
   {
    "duration": 3,
    "start_time": "2023-04-11T11:55:19.397Z"
   },
   {
    "duration": 196,
    "start_time": "2023-04-11T11:55:24.961Z"
   },
   {
    "duration": 183722,
    "start_time": "2023-04-11T11:55:30.110Z"
   },
   {
    "duration": 3,
    "start_time": "2023-04-11T11:58:36.495Z"
   },
   {
    "duration": 40699,
    "start_time": "2023-04-11T11:58:43.905Z"
   },
   {
    "duration": 3,
    "start_time": "2023-04-11T11:59:34.334Z"
   },
   {
    "duration": 6352,
    "start_time": "2023-04-11T11:59:37.898Z"
   },
   {
    "duration": 3,
    "start_time": "2023-04-11T12:00:18.027Z"
   },
   {
    "duration": 89936,
    "start_time": "2023-04-11T12:00:19.076Z"
   },
   {
    "duration": 143,
    "start_time": "2023-04-11T12:02:00.117Z"
   },
   {
    "duration": 931,
    "start_time": "2023-04-11T12:02:09.438Z"
   },
   {
    "duration": 332,
    "start_time": "2023-04-11T12:02:37.768Z"
   },
   {
    "duration": 5,
    "start_time": "2023-04-11T12:02:43.503Z"
   },
   {
    "duration": 60,
    "start_time": "2023-04-11T12:03:31.905Z"
   },
   {
    "duration": 6349,
    "start_time": "2023-04-11T12:15:28.496Z"
   },
   {
    "duration": 5308,
    "start_time": "2023-04-11T12:15:34.847Z"
   },
   {
    "duration": 1366,
    "start_time": "2023-04-11T12:15:40.157Z"
   },
   {
    "duration": 2989,
    "start_time": "2023-04-11T12:15:41.525Z"
   },
   {
    "duration": 17,
    "start_time": "2023-04-11T12:15:44.516Z"
   },
   {
    "duration": 773,
    "start_time": "2023-04-11T12:15:44.534Z"
   },
   {
    "duration": 121,
    "start_time": "2023-04-11T12:15:45.308Z"
   },
   {
    "duration": 438,
    "start_time": "2023-04-11T12:15:45.431Z"
   },
   {
    "duration": 476,
    "start_time": "2023-04-11T12:15:45.872Z"
   },
   {
    "duration": 156,
    "start_time": "2023-04-11T12:15:46.349Z"
   },
   {
    "duration": 20,
    "start_time": "2023-04-11T12:15:46.507Z"
   },
   {
    "duration": 1516,
    "start_time": "2023-04-11T12:15:46.529Z"
   },
   {
    "duration": 1497,
    "start_time": "2023-04-11T12:15:48.046Z"
   },
   {
    "duration": 2016,
    "start_time": "2023-04-11T12:15:49.546Z"
   },
   {
    "duration": 36,
    "start_time": "2023-04-11T12:15:51.564Z"
   },
   {
    "duration": 39,
    "start_time": "2023-04-11T12:15:51.602Z"
   },
   {
    "duration": 18,
    "start_time": "2023-04-11T12:15:51.643Z"
   },
   {
    "duration": 9383,
    "start_time": "2023-04-11T12:15:51.663Z"
   },
   {
    "duration": 7823,
    "start_time": "2023-04-11T12:16:01.048Z"
   },
   {
    "duration": 12485,
    "start_time": "2023-04-11T12:16:08.882Z"
   },
   {
    "duration": 38,
    "start_time": "2023-04-11T12:16:21.369Z"
   },
   {
    "duration": 32,
    "start_time": "2023-04-11T12:16:21.408Z"
   },
   {
    "duration": 26,
    "start_time": "2023-04-11T12:16:21.442Z"
   },
   {
    "duration": 48,
    "start_time": "2023-04-11T12:16:21.469Z"
   },
   {
    "duration": 36,
    "start_time": "2023-04-11T12:16:21.518Z"
   },
   {
    "duration": 35,
    "start_time": "2023-04-11T12:16:21.555Z"
   },
   {
    "duration": 45,
    "start_time": "2023-04-11T12:16:21.599Z"
   },
   {
    "duration": 109,
    "start_time": "2023-04-11T12:16:21.646Z"
   },
   {
    "duration": 198,
    "start_time": "2023-04-11T12:16:21.756Z"
   },
   {
    "duration": 542,
    "start_time": "2023-04-11T12:16:21.956Z"
   },
   {
    "duration": 13,
    "start_time": "2023-04-11T12:16:22.500Z"
   },
   {
    "duration": 9679,
    "start_time": "2023-04-11T12:16:22.514Z"
   },
   {
    "duration": 11,
    "start_time": "2023-04-11T12:16:32.194Z"
   },
   {
    "duration": 36,
    "start_time": "2023-04-11T12:16:32.207Z"
   },
   {
    "duration": 57,
    "start_time": "2023-04-11T12:16:32.244Z"
   },
   {
    "duration": 12,
    "start_time": "2023-04-11T12:16:32.303Z"
   },
   {
    "duration": 77,
    "start_time": "2023-04-11T12:16:32.317Z"
   },
   {
    "duration": 13,
    "start_time": "2023-04-11T12:16:32.396Z"
   },
   {
    "duration": 49,
    "start_time": "2023-04-11T12:16:32.411Z"
   },
   {
    "duration": 141,
    "start_time": "2023-04-11T12:16:32.461Z"
   },
   {
    "duration": 500,
    "start_time": "2023-04-11T12:16:32.606Z"
   },
   {
    "duration": 14,
    "start_time": "2023-04-11T12:16:33.108Z"
   },
   {
    "duration": 104,
    "start_time": "2023-04-11T12:16:33.124Z"
   },
   {
    "duration": 173,
    "start_time": "2023-04-11T12:16:33.229Z"
   },
   {
    "duration": 494,
    "start_time": "2023-04-11T12:16:33.403Z"
   },
   {
    "duration": 28,
    "start_time": "2023-04-11T12:16:33.903Z"
   },
   {
    "duration": 90,
    "start_time": "2023-04-11T12:16:33.933Z"
   },
   {
    "duration": 31,
    "start_time": "2023-04-11T12:16:34.024Z"
   },
   {
    "duration": 37,
    "start_time": "2023-04-11T12:16:34.056Z"
   },
   {
    "duration": 20,
    "start_time": "2023-04-11T12:16:34.097Z"
   },
   {
    "duration": 26,
    "start_time": "2023-04-11T12:16:34.119Z"
   },
   {
    "duration": 16,
    "start_time": "2023-04-11T12:16:34.146Z"
   },
   {
    "duration": 259,
    "start_time": "2023-04-11T12:16:34.164Z"
   },
   {
    "duration": 25,
    "start_time": "2023-04-11T12:16:34.425Z"
   },
   {
    "duration": 54,
    "start_time": "2023-04-11T12:16:34.451Z"
   },
   {
    "duration": 24,
    "start_time": "2023-04-11T12:16:34.507Z"
   },
   {
    "duration": 67,
    "start_time": "2023-04-11T12:16:34.533Z"
   },
   {
    "duration": 3,
    "start_time": "2023-04-11T12:16:34.602Z"
   },
   {
    "duration": 48,
    "start_time": "2023-04-11T12:16:34.606Z"
   },
   {
    "duration": 42,
    "start_time": "2023-04-11T12:16:34.655Z"
   },
   {
    "duration": 41,
    "start_time": "2023-04-11T12:16:34.699Z"
   },
   {
    "duration": 88,
    "start_time": "2023-04-11T12:16:34.742Z"
   },
   {
    "duration": 43620,
    "start_time": "2023-04-11T12:16:34.832Z"
   },
   {
    "duration": 454,
    "start_time": "2023-04-11T12:17:18.454Z"
   },
   {
    "duration": 383,
    "start_time": "2023-04-11T12:17:18.910Z"
   },
   {
    "duration": 14,
    "start_time": "2023-04-11T12:17:19.305Z"
   },
   {
    "duration": 15523,
    "start_time": "2023-04-11T12:17:19.320Z"
   },
   {
    "duration": 205,
    "start_time": "2023-04-11T12:17:34.845Z"
   },
   {
    "duration": 176,
    "start_time": "2023-04-11T12:17:35.052Z"
   },
   {
    "duration": 13,
    "start_time": "2023-04-11T12:17:35.229Z"
   },
   {
    "duration": 23,
    "start_time": "2023-04-11T12:17:35.244Z"
   },
   {
    "duration": 161,
    "start_time": "2023-04-11T12:17:35.268Z"
   },
   {
    "duration": 298,
    "start_time": "2023-04-11T12:17:35.430Z"
   },
   {
    "duration": 305,
    "start_time": "2023-04-11T12:17:35.730Z"
   },
   {
    "duration": 9,
    "start_time": "2023-04-11T12:17:36.037Z"
   },
   {
    "duration": 351,
    "start_time": "2023-04-11T12:17:36.047Z"
   },
   {
    "duration": 150,
    "start_time": "2023-04-11T12:17:36.402Z"
   },
   {
    "duration": 9,
    "start_time": "2023-04-11T12:17:36.553Z"
   },
   {
    "duration": 17,
    "start_time": "2023-04-11T12:17:36.564Z"
   },
   {
    "duration": 23,
    "start_time": "2023-04-11T12:17:36.582Z"
   },
   {
    "duration": 77493,
    "start_time": "2023-04-11T12:17:36.606Z"
   },
   {
    "duration": 338684,
    "start_time": "2023-04-11T12:18:54.101Z"
   },
   {
    "duration": 402,
    "start_time": "2023-04-11T12:24:32.787Z"
   },
   {
    "duration": 843322,
    "start_time": "2023-04-11T12:24:33.190Z"
   },
   {
    "duration": 78,
    "start_time": "2023-04-11T12:38:36.514Z"
   },
   {
    "duration": 8311,
    "start_time": "2023-04-11T12:38:36.596Z"
   },
   {
    "duration": 474,
    "start_time": "2023-04-11T12:38:44.914Z"
   },
   {
    "duration": 37865,
    "start_time": "2023-04-11T12:38:45.390Z"
   },
   {
    "duration": 3,
    "start_time": "2023-04-11T12:39:23.257Z"
   },
   {
    "duration": 18036,
    "start_time": "2023-04-11T12:39:23.261Z"
   },
   {
    "duration": 2563,
    "start_time": "2023-04-11T12:39:41.299Z"
   },
   {
    "duration": 1705,
    "start_time": "2023-04-11T12:39:43.863Z"
   },
   {
    "duration": 12,
    "start_time": "2023-04-11T12:39:45.570Z"
   },
   {
    "duration": 5658,
    "start_time": "2023-04-11T12:41:36.396Z"
   },
   {
    "duration": 5307,
    "start_time": "2023-04-11T12:41:42.057Z"
   },
   {
    "duration": 1198,
    "start_time": "2023-04-11T12:41:47.369Z"
   },
   {
    "duration": 783,
    "start_time": "2023-04-11T12:41:48.569Z"
   },
   {
    "duration": 48,
    "start_time": "2023-04-11T12:41:49.354Z"
   },
   {
    "duration": 792,
    "start_time": "2023-04-11T12:41:49.404Z"
   },
   {
    "duration": 116,
    "start_time": "2023-04-11T12:41:50.198Z"
   },
   {
    "duration": 407,
    "start_time": "2023-04-11T12:41:50.316Z"
   },
   {
    "duration": 436,
    "start_time": "2023-04-11T12:41:50.725Z"
   },
   {
    "duration": 156,
    "start_time": "2023-04-11T12:41:51.165Z"
   },
   {
    "duration": 25,
    "start_time": "2023-04-11T12:41:51.323Z"
   },
   {
    "duration": 1479,
    "start_time": "2023-04-11T12:41:51.349Z"
   },
   {
    "duration": 1524,
    "start_time": "2023-04-11T12:41:52.829Z"
   },
   {
    "duration": 2109,
    "start_time": "2023-04-11T12:41:54.354Z"
   },
   {
    "duration": 38,
    "start_time": "2023-04-11T12:41:56.464Z"
   },
   {
    "duration": 25,
    "start_time": "2023-04-11T12:41:56.503Z"
   },
   {
    "duration": 17,
    "start_time": "2023-04-11T12:41:56.529Z"
   },
   {
    "duration": 9388,
    "start_time": "2023-04-11T12:41:56.548Z"
   },
   {
    "duration": 7290,
    "start_time": "2023-04-11T12:42:05.938Z"
   },
   {
    "duration": 12494,
    "start_time": "2023-04-11T12:42:13.230Z"
   },
   {
    "duration": 21,
    "start_time": "2023-04-11T12:42:25.726Z"
   },
   {
    "duration": 63,
    "start_time": "2023-04-11T12:42:25.749Z"
   },
   {
    "duration": 20,
    "start_time": "2023-04-11T12:42:25.813Z"
   },
   {
    "duration": 19,
    "start_time": "2023-04-11T12:42:25.834Z"
   },
   {
    "duration": 41,
    "start_time": "2023-04-11T12:42:25.854Z"
   },
   {
    "duration": 20,
    "start_time": "2023-04-11T12:42:25.899Z"
   },
   {
    "duration": 33,
    "start_time": "2023-04-11T12:42:25.920Z"
   },
   {
    "duration": 113,
    "start_time": "2023-04-11T12:42:25.957Z"
   },
   {
    "duration": 225,
    "start_time": "2023-04-11T12:42:26.072Z"
   },
   {
    "duration": 467,
    "start_time": "2023-04-11T12:42:26.299Z"
   },
   {
    "duration": 30,
    "start_time": "2023-04-11T12:42:26.767Z"
   },
   {
    "duration": 9738,
    "start_time": "2023-04-11T12:42:26.798Z"
   },
   {
    "duration": 10,
    "start_time": "2023-04-11T12:42:36.537Z"
   },
   {
    "duration": 36,
    "start_time": "2023-04-11T12:42:36.549Z"
   },
   {
    "duration": 28,
    "start_time": "2023-04-11T12:42:36.598Z"
   },
   {
    "duration": 7,
    "start_time": "2023-04-11T12:42:36.628Z"
   },
   {
    "duration": 85,
    "start_time": "2023-04-11T12:42:36.636Z"
   },
   {
    "duration": 13,
    "start_time": "2023-04-11T12:42:36.722Z"
   },
   {
    "duration": 33,
    "start_time": "2023-04-11T12:42:36.737Z"
   },
   {
    "duration": 144,
    "start_time": "2023-04-11T12:42:36.772Z"
   },
   {
    "duration": 474,
    "start_time": "2023-04-11T12:42:36.918Z"
   },
   {
    "duration": 14,
    "start_time": "2023-04-11T12:42:37.394Z"
   },
   {
    "duration": 99,
    "start_time": "2023-04-11T12:42:37.409Z"
   },
   {
    "duration": 152,
    "start_time": "2023-04-11T12:42:37.510Z"
   },
   {
    "duration": 482,
    "start_time": "2023-04-11T12:42:37.663Z"
   },
   {
    "duration": 52,
    "start_time": "2023-04-11T12:42:38.146Z"
   },
   {
    "duration": 94,
    "start_time": "2023-04-11T12:42:38.199Z"
   },
   {
    "duration": 31,
    "start_time": "2023-04-11T12:42:38.294Z"
   },
   {
    "duration": 13,
    "start_time": "2023-04-11T12:42:38.327Z"
   },
   {
    "duration": 5,
    "start_time": "2023-04-11T12:42:38.342Z"
   },
   {
    "duration": 20,
    "start_time": "2023-04-11T12:42:38.348Z"
   },
   {
    "duration": 15,
    "start_time": "2023-04-11T12:42:38.378Z"
   },
   {
    "duration": 219,
    "start_time": "2023-04-11T12:42:38.399Z"
   },
   {
    "duration": 23,
    "start_time": "2023-04-11T12:42:38.620Z"
   },
   {
    "duration": 53,
    "start_time": "2023-04-11T12:42:38.644Z"
   },
   {
    "duration": 15,
    "start_time": "2023-04-11T12:42:38.699Z"
   },
   {
    "duration": 45,
    "start_time": "2023-04-11T12:42:38.715Z"
   },
   {
    "duration": 3,
    "start_time": "2023-04-11T12:42:38.761Z"
   },
   {
    "duration": 34,
    "start_time": "2023-04-11T12:42:38.765Z"
   },
   {
    "duration": 32,
    "start_time": "2023-04-11T12:42:38.800Z"
   },
   {
    "duration": 6,
    "start_time": "2023-04-11T12:42:38.833Z"
   },
   {
    "duration": 70,
    "start_time": "2023-04-11T12:42:38.840Z"
   },
   {
    "duration": 43726,
    "start_time": "2023-04-11T12:42:38.912Z"
   },
   {
    "duration": 470,
    "start_time": "2023-04-11T12:43:22.640Z"
   },
   {
    "duration": 388,
    "start_time": "2023-04-11T12:43:23.111Z"
   },
   {
    "duration": 15,
    "start_time": "2023-04-11T12:43:23.501Z"
   },
   {
    "duration": 15688,
    "start_time": "2023-04-11T12:43:23.518Z"
   },
   {
    "duration": 193,
    "start_time": "2023-04-11T12:43:39.208Z"
   },
   {
    "duration": 159,
    "start_time": "2023-04-11T12:43:39.403Z"
   },
   {
    "duration": 35,
    "start_time": "2023-04-11T12:43:39.564Z"
   },
   {
    "duration": 5,
    "start_time": "2023-04-11T12:43:39.600Z"
   },
   {
    "duration": 89,
    "start_time": "2023-04-11T12:43:39.607Z"
   },
   {
    "duration": 307,
    "start_time": "2023-04-11T12:43:39.698Z"
   },
   {
    "duration": 316,
    "start_time": "2023-04-11T12:43:40.006Z"
   },
   {
    "duration": 307,
    "start_time": "2023-04-11T12:43:53.995Z"
   },
   {
    "duration": 59,
    "start_time": "2023-04-11T12:43:58.766Z"
   },
   {
    "duration": 16,
    "start_time": "2023-04-11T12:44:02.049Z"
   },
   {
    "duration": 328,
    "start_time": "2023-04-11T12:44:45.266Z"
   },
   {
    "duration": 129,
    "start_time": "2023-04-11T12:44:52.099Z"
   },
   {
    "duration": 10,
    "start_time": "2023-04-11T12:46:43.227Z"
   },
   {
    "duration": 15,
    "start_time": "2023-04-11T12:46:44.595Z"
   },
   {
    "duration": 9,
    "start_time": "2023-04-11T12:46:48.295Z"
   },
   {
    "duration": 2,
    "start_time": "2023-04-11T12:46:53.012Z"
   },
   {
    "duration": 80371,
    "start_time": "2023-04-11T12:46:53.940Z"
   },
   {
    "duration": 316287,
    "start_time": "2023-04-11T12:48:19.696Z"
   },
   {
    "duration": 296,
    "start_time": "2023-04-11T12:53:41.996Z"
   },
   {
    "duration": 848894,
    "start_time": "2023-04-11T12:53:49.495Z"
   },
   {
    "duration": 3,
    "start_time": "2023-04-11T13:08:51.191Z"
   },
   {
    "duration": 5687,
    "start_time": "2023-04-11T13:08:57.495Z"
   },
   {
    "duration": 342,
    "start_time": "2023-04-11T13:09:05.331Z"
   },
   {
    "duration": 7827,
    "start_time": "2023-04-11T14:58:55.401Z"
   },
   {
    "duration": 6059,
    "start_time": "2023-04-11T14:59:03.231Z"
   },
   {
    "duration": 1486,
    "start_time": "2023-04-11T14:59:09.292Z"
   },
   {
    "duration": 1159,
    "start_time": "2023-04-11T14:59:10.780Z"
   },
   {
    "duration": 18,
    "start_time": "2023-04-11T14:59:11.940Z"
   },
   {
    "duration": 816,
    "start_time": "2023-04-11T14:59:11.960Z"
   },
   {
    "duration": 124,
    "start_time": "2023-04-11T14:59:12.778Z"
   },
   {
    "duration": 451,
    "start_time": "2023-04-11T14:59:12.904Z"
   },
   {
    "duration": 474,
    "start_time": "2023-04-11T14:59:13.356Z"
   },
   {
    "duration": 175,
    "start_time": "2023-04-11T14:59:13.833Z"
   },
   {
    "duration": 27,
    "start_time": "2023-04-11T14:59:14.010Z"
   },
   {
    "duration": 1609,
    "start_time": "2023-04-11T14:59:14.039Z"
   },
   {
    "duration": 1640,
    "start_time": "2023-04-11T14:59:15.650Z"
   },
   {
    "duration": 2215,
    "start_time": "2023-04-11T14:59:17.292Z"
   },
   {
    "duration": 27,
    "start_time": "2023-04-11T14:59:19.509Z"
   },
   {
    "duration": 39,
    "start_time": "2023-04-11T14:59:19.538Z"
   },
   {
    "duration": 23,
    "start_time": "2023-04-11T14:59:19.578Z"
   },
   {
    "duration": 9655,
    "start_time": "2023-04-11T14:59:19.603Z"
   },
   {
    "duration": 7876,
    "start_time": "2023-04-11T14:59:29.259Z"
   },
   {
    "duration": 13502,
    "start_time": "2023-04-11T14:59:37.137Z"
   },
   {
    "duration": 24,
    "start_time": "2023-04-11T14:59:50.641Z"
   },
   {
    "duration": 50,
    "start_time": "2023-04-11T14:59:50.666Z"
   },
   {
    "duration": 27,
    "start_time": "2023-04-11T14:59:50.723Z"
   },
   {
    "duration": 23,
    "start_time": "2023-04-11T14:59:50.752Z"
   },
   {
    "duration": 69,
    "start_time": "2023-04-11T14:59:50.776Z"
   },
   {
    "duration": 20,
    "start_time": "2023-04-11T14:59:50.846Z"
   },
   {
    "duration": 34,
    "start_time": "2023-04-11T14:59:50.868Z"
   },
   {
    "duration": 111,
    "start_time": "2023-04-11T14:59:50.919Z"
   },
   {
    "duration": 200,
    "start_time": "2023-04-11T14:59:51.033Z"
   },
   {
    "duration": 512,
    "start_time": "2023-04-11T14:59:51.236Z"
   },
   {
    "duration": 13,
    "start_time": "2023-04-11T14:59:51.750Z"
   },
   {
    "duration": 10557,
    "start_time": "2023-04-11T14:59:51.765Z"
   },
   {
    "duration": 15,
    "start_time": "2023-04-11T15:00:02.323Z"
   },
   {
    "duration": 38,
    "start_time": "2023-04-11T15:00:02.340Z"
   },
   {
    "duration": 53,
    "start_time": "2023-04-11T15:00:02.379Z"
   },
   {
    "duration": 10,
    "start_time": "2023-04-11T15:00:02.434Z"
   },
   {
    "duration": 97,
    "start_time": "2023-04-11T15:00:02.446Z"
   },
   {
    "duration": 15,
    "start_time": "2023-04-11T15:00:02.544Z"
   },
   {
    "duration": 85,
    "start_time": "2023-04-11T15:00:02.561Z"
   },
   {
    "duration": 156,
    "start_time": "2023-04-11T15:00:02.648Z"
   },
   {
    "duration": 543,
    "start_time": "2023-04-11T15:00:02.806Z"
   },
   {
    "duration": 15,
    "start_time": "2023-04-11T15:00:03.351Z"
   },
   {
    "duration": 133,
    "start_time": "2023-04-11T15:00:03.369Z"
   },
   {
    "duration": 181,
    "start_time": "2023-04-11T15:00:03.504Z"
   },
   {
    "duration": 544,
    "start_time": "2023-04-11T15:00:03.686Z"
   },
   {
    "duration": 30,
    "start_time": "2023-04-11T15:00:04.232Z"
   },
   {
    "duration": 102,
    "start_time": "2023-04-11T15:00:04.263Z"
   },
   {
    "duration": 34,
    "start_time": "2023-04-11T15:00:04.367Z"
   },
   {
    "duration": 31,
    "start_time": "2023-04-11T15:00:04.403Z"
   },
   {
    "duration": 6,
    "start_time": "2023-04-11T15:00:04.436Z"
   },
   {
    "duration": 33,
    "start_time": "2023-04-11T15:00:04.444Z"
   },
   {
    "duration": 6,
    "start_time": "2023-04-11T15:00:04.479Z"
   },
   {
    "duration": 259,
    "start_time": "2023-04-11T15:00:04.487Z"
   },
   {
    "duration": 27,
    "start_time": "2023-04-11T15:00:04.747Z"
   },
   {
    "duration": 49,
    "start_time": "2023-04-11T15:00:04.775Z"
   },
   {
    "duration": 26,
    "start_time": "2023-04-11T15:00:04.825Z"
   },
   {
    "duration": 89,
    "start_time": "2023-04-11T15:00:04.853Z"
   },
   {
    "duration": 3,
    "start_time": "2023-04-11T15:00:04.944Z"
   },
   {
    "duration": 18,
    "start_time": "2023-04-11T15:00:04.949Z"
   },
   {
    "duration": 70,
    "start_time": "2023-04-11T15:00:04.968Z"
   },
   {
    "duration": 3,
    "start_time": "2023-04-11T15:00:05.040Z"
   },
   {
    "duration": 73,
    "start_time": "2023-04-11T15:00:05.044Z"
   },
   {
    "duration": 46836,
    "start_time": "2023-04-11T15:00:05.118Z"
   },
   {
    "duration": 487,
    "start_time": "2023-04-11T15:00:51.956Z"
   },
   {
    "duration": 419,
    "start_time": "2023-04-11T15:00:52.444Z"
   },
   {
    "duration": 69,
    "start_time": "2023-04-11T15:00:52.864Z"
   },
   {
    "duration": 16146,
    "start_time": "2023-04-11T15:00:52.935Z"
   },
   {
    "duration": 211,
    "start_time": "2023-04-11T15:01:09.082Z"
   },
   {
    "duration": 172,
    "start_time": "2023-04-11T15:01:09.295Z"
   },
   {
    "duration": 16,
    "start_time": "2023-04-11T15:01:09.468Z"
   },
   {
    "duration": 9,
    "start_time": "2023-04-11T15:01:09.486Z"
   },
   {
    "duration": 94,
    "start_time": "2023-04-11T15:01:09.497Z"
   },
   {
    "duration": 356,
    "start_time": "2023-04-11T15:01:09.593Z"
   },
   {
    "duration": 363,
    "start_time": "2023-04-11T15:01:09.951Z"
   },
   {
    "duration": 51,
    "start_time": "2023-04-11T15:01:10.316Z"
   },
   {
    "duration": 17,
    "start_time": "2023-04-11T15:01:10.369Z"
   },
   {
    "duration": 350,
    "start_time": "2023-04-11T15:01:10.387Z"
   },
   {
    "duration": 134,
    "start_time": "2023-04-11T15:01:10.740Z"
   },
   {
    "duration": 11,
    "start_time": "2023-04-11T15:01:10.876Z"
   },
   {
    "duration": 16,
    "start_time": "2023-04-11T15:01:10.889Z"
   },
   {
    "duration": 20,
    "start_time": "2023-04-11T15:01:10.917Z"
   },
   {
    "duration": 4,
    "start_time": "2023-04-11T15:01:10.945Z"
   },
   {
    "duration": 64991,
    "start_time": "2023-04-11T15:01:10.951Z"
   },
   {
    "duration": 236979,
    "start_time": "2023-04-11T15:02:15.943Z"
   },
   {
    "duration": 414,
    "start_time": "2023-04-11T15:06:12.924Z"
   },
   {
    "duration": 327910,
    "start_time": "2023-04-11T15:06:13.418Z"
   },
   {
    "duration": 4,
    "start_time": "2023-04-11T15:11:41.418Z"
   },
   {
    "duration": 2196,
    "start_time": "2023-04-11T15:11:41.424Z"
   },
   {
    "duration": 401,
    "start_time": "2023-04-11T15:11:43.622Z"
   },
   {
    "duration": 1819102,
    "start_time": "2023-04-11T15:11:44.026Z"
   },
   {
    "duration": 2,
    "start_time": "2023-04-11T15:42:03.130Z"
   },
   {
    "duration": 18109,
    "start_time": "2023-04-11T15:42:03.134Z"
   },
   {
    "duration": 2907,
    "start_time": "2023-04-11T15:42:21.245Z"
   },
   {
    "duration": 1824,
    "start_time": "2023-04-11T15:42:24.154Z"
   },
   {
    "duration": 3,
    "start_time": "2023-04-11T15:42:25.980Z"
   },
   {
    "duration": 98343,
    "start_time": "2023-04-11T15:42:25.984Z"
   },
   {
    "duration": 79,
    "start_time": "2023-04-11T15:44:04.418Z"
   },
   {
    "duration": 341554,
    "start_time": "2023-04-11T15:44:04.499Z"
   },
   {
    "duration": 4,
    "start_time": "2023-04-11T15:49:46.055Z"
   },
   {
    "duration": 9062,
    "start_time": "2023-04-11T15:49:46.061Z"
   },
   {
    "duration": 81,
    "start_time": "2023-04-11T15:49:55.125Z"
   },
   {
    "duration": 14,
    "start_time": "2023-04-11T15:49:55.208Z"
   },
   {
    "duration": 0,
    "start_time": "2023-04-11T15:49:55.224Z"
   },
   {
    "duration": 0,
    "start_time": "2023-04-11T15:49:55.225Z"
   },
   {
    "duration": 0,
    "start_time": "2023-04-11T15:49:55.226Z"
   },
   {
    "duration": 0,
    "start_time": "2023-04-11T15:49:55.228Z"
   },
   {
    "duration": 3,
    "start_time": "2023-04-11T15:50:03.772Z"
   },
   {
    "duration": 54744,
    "start_time": "2023-04-11T15:50:08.013Z"
   },
   {
    "duration": 6763,
    "start_time": "2023-04-11T15:51:19.445Z"
   },
   {
    "duration": 5170322,
    "start_time": "2023-04-11T15:51:35.897Z"
   },
   {
    "duration": 3,
    "start_time": "2023-04-11T17:18:05.261Z"
   },
   {
    "duration": 376853,
    "start_time": "2023-04-11T17:18:10.277Z"
   },
   {
    "duration": 1882,
    "start_time": "2023-04-11T17:24:33.182Z"
   },
   {
    "duration": 21569,
    "start_time": "2023-04-11T17:24:43.315Z"
   },
   {
    "duration": 1170521,
    "start_time": "2023-04-11T17:25:07.641Z"
   },
   {
    "duration": 4,
    "start_time": "2023-04-11T17:46:12.851Z"
   },
   {
    "duration": 91385,
    "start_time": "2023-04-11T17:46:21.227Z"
   },
   {
    "duration": 965,
    "start_time": "2023-04-11T17:48:20.992Z"
   },
   {
    "duration": 4,
    "start_time": "2023-04-11T18:04:08.530Z"
   },
   {
    "duration": 10,
    "start_time": "2023-04-11T18:04:17.641Z"
   },
   {
    "duration": 5,
    "start_time": "2023-04-11T18:05:03.596Z"
   },
   {
    "duration": 8,
    "start_time": "2023-04-11T18:05:05.411Z"
   },
   {
    "duration": 4,
    "start_time": "2023-04-11T18:08:34.210Z"
   },
   {
    "duration": 11,
    "start_time": "2023-04-11T18:08:36.115Z"
   },
   {
    "duration": 4,
    "start_time": "2023-04-11T18:09:46.851Z"
   },
   {
    "duration": 8,
    "start_time": "2023-04-11T18:09:48.969Z"
   },
   {
    "duration": 5,
    "start_time": "2023-04-11T18:09:59.663Z"
   },
   {
    "duration": 9,
    "start_time": "2023-04-11T18:10:01.272Z"
   },
   {
    "duration": 12,
    "start_time": "2023-04-11T18:10:57.356Z"
   },
   {
    "duration": 9,
    "start_time": "2023-04-11T18:11:56.755Z"
   },
   {
    "duration": 16,
    "start_time": "2023-04-11T18:12:14.855Z"
   },
   {
    "duration": 5,
    "start_time": "2023-04-11T18:13:35.057Z"
   },
   {
    "duration": 22,
    "start_time": "2023-04-11T18:13:36.214Z"
   },
   {
    "duration": 15,
    "start_time": "2023-04-11T18:13:42.838Z"
   },
   {
    "duration": 13,
    "start_time": "2023-04-11T18:14:14.101Z"
   },
   {
    "duration": 28,
    "start_time": "2023-04-11T18:14:37.312Z"
   },
   {
    "duration": 24,
    "start_time": "2023-04-11T18:16:00.723Z"
   },
   {
    "duration": 15,
    "start_time": "2023-04-11T18:16:40.523Z"
   },
   {
    "duration": 4,
    "start_time": "2023-04-11T18:16:45.288Z"
   },
   {
    "duration": 18,
    "start_time": "2023-04-11T18:16:47.428Z"
   },
   {
    "duration": 16,
    "start_time": "2023-04-11T18:17:08.338Z"
   },
   {
    "duration": 12,
    "start_time": "2023-04-11T18:17:26.590Z"
   },
   {
    "duration": 16,
    "start_time": "2023-04-11T18:17:33.370Z"
   },
   {
    "duration": 14,
    "start_time": "2023-04-11T18:18:11.642Z"
   },
   {
    "duration": 15,
    "start_time": "2023-04-11T18:18:22.510Z"
   },
   {
    "duration": 314,
    "start_time": "2023-04-11T18:20:22.481Z"
   },
   {
    "duration": 5,
    "start_time": "2023-04-11T18:20:27.095Z"
   },
   {
    "duration": 2368,
    "start_time": "2023-04-11T18:20:58.469Z"
   },
   {
    "duration": 4,
    "start_time": "2023-04-11T18:21:03.530Z"
   }
  ],
  "kernelspec": {
   "display_name": "Python 3 (ipykernel)",
   "language": "python",
   "name": "python3"
  },
  "language_info": {
   "codemirror_mode": {
    "name": "ipython",
    "version": 3
   },
   "file_extension": ".py",
   "mimetype": "text/x-python",
   "name": "python",
   "nbconvert_exporter": "python",
   "pygments_lexer": "ipython3",
   "version": "3.8.10"
  },
  "toc": {
   "base_numbering": 1,
   "nav_menu": {},
   "number_sections": true,
   "sideBar": true,
   "skip_h1_title": true,
   "title_cell": "Table of Contents",
   "title_sidebar": "Contents",
   "toc_cell": false,
   "toc_position": {},
   "toc_section_display": true,
   "toc_window_display": false
  }
 },
 "nbformat": 4,
 "nbformat_minor": 2
}
