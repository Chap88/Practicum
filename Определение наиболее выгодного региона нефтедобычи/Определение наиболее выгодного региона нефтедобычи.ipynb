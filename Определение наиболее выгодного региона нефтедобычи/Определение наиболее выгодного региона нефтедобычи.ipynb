{
 "cells": [
  {
   "cell_type": "markdown",
   "metadata": {},
   "source": [
    "# Определение наиболее выгодного региона нефтедобычи"
   ]
  },
  {
   "cell_type": "markdown",
   "metadata": {},
   "source": [
    "**Задача**:<br>\n",
    "Выбрать регион, добыча нефти в котором способна принести максимальную прибыль, а вероятность убытка минимальная.<br>\n",
    "Условия задачи:\n",
    "- При разведке региона исследуют 500 точек, из которых выбирают 200 лучших для разработки.\n",
    "- Объём указан в тысячах баррелей, цена одной единицы продукции составляет 450 тыс.руб.\n",
    "- Бюджет на разработку скважин в регионе — 10 млрд рублей<br>\n",
    "\n",
    "**Дано**:<br>\n",
    "10 000 месторождений, их характеристики и разведанный объём запасов нефти. \n",
    "\n",
    "**План решения**:<br>\n",
    "1) Построить модель машинного обучения, которая предскажет запас нефти в месторождении по его характеристикам.<br>\n",
    "2) Выбрать 500 месторождения случайным образом, далее из них выбрать 200 с максимальными предсказанными запасами нефти.<br>\n",
    "3) Посчитать прибыль от добычи нефти из этих 200 месторождений по фактическим запасам c выше названными условиями.<br>\n",
    "4) Проанализировать возможную прибыль и риски техникой *Bootstrap.* Отклонить регионы, где риск получения убытка превышает 2,5%.<br>\n",
    "5) Из оставшихся регионов выбрать один с наибольшей средней прибылью."
   ]
  },
  {
   "cell_type": "markdown",
   "metadata": {},
   "source": [
    "## Загрузка и подготовка данных"
   ]
  },
  {
   "cell_type": "code",
   "execution_count": 52,
   "metadata": {},
   "outputs": [],
   "source": [
    "# Импортируем библиотеки и модули\n",
    "import pandas as pd\n",
    "import matplotlib.pyplot as plt\n",
    "import seaborn as sns\n",
    "import numpy as np\n",
    "\n",
    "from sklearn.model_selection import train_test_split\n",
    "from sklearn.preprocessing import StandardScaler\n",
    "from sklearn.linear_model import LinearRegression\n",
    "from sklearn.metrics import mean_squared_error"
   ]
  },
  {
   "cell_type": "code",
   "execution_count": 53,
   "metadata": {},
   "outputs": [],
   "source": [
    "# Введём константы для числовых значений из условий задачи:\n",
    "UNIT_INCOME = 450_000 # Доход с одной единицы 'product'\n",
    "BUDGET = 10_000_000_000 # Расходы: бюджет на разработку\n",
    "WELLS_500 = 500 # 500 случайно отобранных скважин\n",
    "WELLS_200 = 200 # Количество скважин для расчёта прибыли"
   ]
  },
  {
   "cell_type": "code",
   "execution_count": 54,
   "metadata": {},
   "outputs": [],
   "source": [
    "#Преобразуем данные в таблицы\n",
    "df_0 = pd.read_csv('geo_data_0.csv')\n",
    "df_1 = pd.read_csv('geo_data_1.csv')\n",
    "df_2 = pd.read_csv('geo_data_2.csv')"
   ]
  },
  {
   "cell_type": "markdown",
   "metadata": {},
   "source": [
    "### Анализ данных"
   ]
  },
  {
   "cell_type": "code",
   "execution_count": 55,
   "metadata": {},
   "outputs": [
    {
     "name": "stdout",
     "output_type": "stream",
     "text": [
      "Регион 0\n"
     ]
    },
    {
     "data": {
      "text/html": [
       "<div>\n",
       "<style scoped>\n",
       "    .dataframe tbody tr th:only-of-type {\n",
       "        vertical-align: middle;\n",
       "    }\n",
       "\n",
       "    .dataframe tbody tr th {\n",
       "        vertical-align: top;\n",
       "    }\n",
       "\n",
       "    .dataframe thead th {\n",
       "        text-align: right;\n",
       "    }\n",
       "</style>\n",
       "<table border=\"1\" class=\"dataframe\">\n",
       "  <thead>\n",
       "    <tr style=\"text-align: right;\">\n",
       "      <th></th>\n",
       "      <th>id</th>\n",
       "      <th>f0</th>\n",
       "      <th>f1</th>\n",
       "      <th>f2</th>\n",
       "      <th>product</th>\n",
       "    </tr>\n",
       "  </thead>\n",
       "  <tbody>\n",
       "    <tr>\n",
       "      <th>0</th>\n",
       "      <td>txEyH</td>\n",
       "      <td>0.705745</td>\n",
       "      <td>-0.497823</td>\n",
       "      <td>1.221170</td>\n",
       "      <td>105.280062</td>\n",
       "    </tr>\n",
       "    <tr>\n",
       "      <th>1</th>\n",
       "      <td>2acmU</td>\n",
       "      <td>1.334711</td>\n",
       "      <td>-0.340164</td>\n",
       "      <td>4.365080</td>\n",
       "      <td>73.037750</td>\n",
       "    </tr>\n",
       "    <tr>\n",
       "      <th>2</th>\n",
       "      <td>409Wp</td>\n",
       "      <td>1.022732</td>\n",
       "      <td>0.151990</td>\n",
       "      <td>1.419926</td>\n",
       "      <td>85.265647</td>\n",
       "    </tr>\n",
       "    <tr>\n",
       "      <th>3</th>\n",
       "      <td>iJLyR</td>\n",
       "      <td>-0.032172</td>\n",
       "      <td>0.139033</td>\n",
       "      <td>2.978566</td>\n",
       "      <td>168.620776</td>\n",
       "    </tr>\n",
       "    <tr>\n",
       "      <th>4</th>\n",
       "      <td>Xdl7t</td>\n",
       "      <td>1.988431</td>\n",
       "      <td>0.155413</td>\n",
       "      <td>4.751769</td>\n",
       "      <td>154.036647</td>\n",
       "    </tr>\n",
       "    <tr>\n",
       "      <th>5</th>\n",
       "      <td>wX4Hy</td>\n",
       "      <td>0.969570</td>\n",
       "      <td>0.489775</td>\n",
       "      <td>-0.735383</td>\n",
       "      <td>64.741541</td>\n",
       "    </tr>\n",
       "    <tr>\n",
       "      <th>6</th>\n",
       "      <td>tL6pL</td>\n",
       "      <td>0.645075</td>\n",
       "      <td>0.530656</td>\n",
       "      <td>1.780266</td>\n",
       "      <td>49.055285</td>\n",
       "    </tr>\n",
       "    <tr>\n",
       "      <th>7</th>\n",
       "      <td>BYPU6</td>\n",
       "      <td>-0.400648</td>\n",
       "      <td>0.808337</td>\n",
       "      <td>-5.624670</td>\n",
       "      <td>72.943292</td>\n",
       "    </tr>\n",
       "    <tr>\n",
       "      <th>8</th>\n",
       "      <td>j9Oui</td>\n",
       "      <td>0.643105</td>\n",
       "      <td>-0.551583</td>\n",
       "      <td>2.372141</td>\n",
       "      <td>113.356160</td>\n",
       "    </tr>\n",
       "    <tr>\n",
       "      <th>9</th>\n",
       "      <td>OLuZU</td>\n",
       "      <td>2.173381</td>\n",
       "      <td>0.563698</td>\n",
       "      <td>9.441852</td>\n",
       "      <td>127.910945</td>\n",
       "    </tr>\n",
       "  </tbody>\n",
       "</table>\n",
       "</div>"
      ],
      "text/plain": [
       "      id        f0        f1        f2     product\n",
       "0  txEyH  0.705745 -0.497823  1.221170  105.280062\n",
       "1  2acmU  1.334711 -0.340164  4.365080   73.037750\n",
       "2  409Wp  1.022732  0.151990  1.419926   85.265647\n",
       "3  iJLyR -0.032172  0.139033  2.978566  168.620776\n",
       "4  Xdl7t  1.988431  0.155413  4.751769  154.036647\n",
       "5  wX4Hy  0.969570  0.489775 -0.735383   64.741541\n",
       "6  tL6pL  0.645075  0.530656  1.780266   49.055285\n",
       "7  BYPU6 -0.400648  0.808337 -5.624670   72.943292\n",
       "8  j9Oui  0.643105 -0.551583  2.372141  113.356160\n",
       "9  OLuZU  2.173381  0.563698  9.441852  127.910945"
      ]
     },
     "metadata": {},
     "output_type": "display_data"
    },
    {
     "name": "stdout",
     "output_type": "stream",
     "text": [
      "-\n",
      "Регион 1\n"
     ]
    },
    {
     "data": {
      "text/html": [
       "<div>\n",
       "<style scoped>\n",
       "    .dataframe tbody tr th:only-of-type {\n",
       "        vertical-align: middle;\n",
       "    }\n",
       "\n",
       "    .dataframe tbody tr th {\n",
       "        vertical-align: top;\n",
       "    }\n",
       "\n",
       "    .dataframe thead th {\n",
       "        text-align: right;\n",
       "    }\n",
       "</style>\n",
       "<table border=\"1\" class=\"dataframe\">\n",
       "  <thead>\n",
       "    <tr style=\"text-align: right;\">\n",
       "      <th></th>\n",
       "      <th>id</th>\n",
       "      <th>f0</th>\n",
       "      <th>f1</th>\n",
       "      <th>f2</th>\n",
       "      <th>product</th>\n",
       "    </tr>\n",
       "  </thead>\n",
       "  <tbody>\n",
       "    <tr>\n",
       "      <th>0</th>\n",
       "      <td>kBEdx</td>\n",
       "      <td>-15.001348</td>\n",
       "      <td>-8.276000</td>\n",
       "      <td>-0.005876</td>\n",
       "      <td>3.179103</td>\n",
       "    </tr>\n",
       "    <tr>\n",
       "      <th>1</th>\n",
       "      <td>62mP7</td>\n",
       "      <td>14.272088</td>\n",
       "      <td>-3.475083</td>\n",
       "      <td>0.999183</td>\n",
       "      <td>26.953261</td>\n",
       "    </tr>\n",
       "    <tr>\n",
       "      <th>2</th>\n",
       "      <td>vyE1P</td>\n",
       "      <td>6.263187</td>\n",
       "      <td>-5.948386</td>\n",
       "      <td>5.001160</td>\n",
       "      <td>134.766305</td>\n",
       "    </tr>\n",
       "    <tr>\n",
       "      <th>3</th>\n",
       "      <td>KcrkZ</td>\n",
       "      <td>-13.081196</td>\n",
       "      <td>-11.506057</td>\n",
       "      <td>4.999415</td>\n",
       "      <td>137.945408</td>\n",
       "    </tr>\n",
       "    <tr>\n",
       "      <th>4</th>\n",
       "      <td>AHL4O</td>\n",
       "      <td>12.702195</td>\n",
       "      <td>-8.147433</td>\n",
       "      <td>5.004363</td>\n",
       "      <td>134.766305</td>\n",
       "    </tr>\n",
       "    <tr>\n",
       "      <th>5</th>\n",
       "      <td>HHckp</td>\n",
       "      <td>-3.327590</td>\n",
       "      <td>-2.205276</td>\n",
       "      <td>3.003647</td>\n",
       "      <td>84.038886</td>\n",
       "    </tr>\n",
       "    <tr>\n",
       "      <th>6</th>\n",
       "      <td>h5Ujo</td>\n",
       "      <td>-11.142655</td>\n",
       "      <td>-10.133399</td>\n",
       "      <td>4.002382</td>\n",
       "      <td>110.992147</td>\n",
       "    </tr>\n",
       "    <tr>\n",
       "      <th>7</th>\n",
       "      <td>muH9x</td>\n",
       "      <td>4.234715</td>\n",
       "      <td>-0.001354</td>\n",
       "      <td>2.004588</td>\n",
       "      <td>53.906522</td>\n",
       "    </tr>\n",
       "    <tr>\n",
       "      <th>8</th>\n",
       "      <td>YiRkx</td>\n",
       "      <td>13.355129</td>\n",
       "      <td>-0.332068</td>\n",
       "      <td>4.998647</td>\n",
       "      <td>134.766305</td>\n",
       "    </tr>\n",
       "    <tr>\n",
       "      <th>9</th>\n",
       "      <td>jG6Gi</td>\n",
       "      <td>1.069227</td>\n",
       "      <td>-11.025667</td>\n",
       "      <td>4.997844</td>\n",
       "      <td>137.945408</td>\n",
       "    </tr>\n",
       "  </tbody>\n",
       "</table>\n",
       "</div>"
      ],
      "text/plain": [
       "      id         f0         f1        f2     product\n",
       "0  kBEdx -15.001348  -8.276000 -0.005876    3.179103\n",
       "1  62mP7  14.272088  -3.475083  0.999183   26.953261\n",
       "2  vyE1P   6.263187  -5.948386  5.001160  134.766305\n",
       "3  KcrkZ -13.081196 -11.506057  4.999415  137.945408\n",
       "4  AHL4O  12.702195  -8.147433  5.004363  134.766305\n",
       "5  HHckp  -3.327590  -2.205276  3.003647   84.038886\n",
       "6  h5Ujo -11.142655 -10.133399  4.002382  110.992147\n",
       "7  muH9x   4.234715  -0.001354  2.004588   53.906522\n",
       "8  YiRkx  13.355129  -0.332068  4.998647  134.766305\n",
       "9  jG6Gi   1.069227 -11.025667  4.997844  137.945408"
      ]
     },
     "metadata": {},
     "output_type": "display_data"
    },
    {
     "name": "stdout",
     "output_type": "stream",
     "text": [
      "-\n",
      "Регион 2\n"
     ]
    },
    {
     "data": {
      "text/html": [
       "<div>\n",
       "<style scoped>\n",
       "    .dataframe tbody tr th:only-of-type {\n",
       "        vertical-align: middle;\n",
       "    }\n",
       "\n",
       "    .dataframe tbody tr th {\n",
       "        vertical-align: top;\n",
       "    }\n",
       "\n",
       "    .dataframe thead th {\n",
       "        text-align: right;\n",
       "    }\n",
       "</style>\n",
       "<table border=\"1\" class=\"dataframe\">\n",
       "  <thead>\n",
       "    <tr style=\"text-align: right;\">\n",
       "      <th></th>\n",
       "      <th>id</th>\n",
       "      <th>f0</th>\n",
       "      <th>f1</th>\n",
       "      <th>f2</th>\n",
       "      <th>product</th>\n",
       "    </tr>\n",
       "  </thead>\n",
       "  <tbody>\n",
       "    <tr>\n",
       "      <th>0</th>\n",
       "      <td>fwXo0</td>\n",
       "      <td>-1.146987</td>\n",
       "      <td>0.963328</td>\n",
       "      <td>-0.828965</td>\n",
       "      <td>27.758673</td>\n",
       "    </tr>\n",
       "    <tr>\n",
       "      <th>1</th>\n",
       "      <td>WJtFt</td>\n",
       "      <td>0.262778</td>\n",
       "      <td>0.269839</td>\n",
       "      <td>-2.530187</td>\n",
       "      <td>56.069697</td>\n",
       "    </tr>\n",
       "    <tr>\n",
       "      <th>2</th>\n",
       "      <td>ovLUW</td>\n",
       "      <td>0.194587</td>\n",
       "      <td>0.289035</td>\n",
       "      <td>-5.586433</td>\n",
       "      <td>62.871910</td>\n",
       "    </tr>\n",
       "    <tr>\n",
       "      <th>3</th>\n",
       "      <td>q6cA6</td>\n",
       "      <td>2.236060</td>\n",
       "      <td>-0.553760</td>\n",
       "      <td>0.930038</td>\n",
       "      <td>114.572842</td>\n",
       "    </tr>\n",
       "    <tr>\n",
       "      <th>4</th>\n",
       "      <td>WPMUX</td>\n",
       "      <td>-0.515993</td>\n",
       "      <td>1.716266</td>\n",
       "      <td>5.899011</td>\n",
       "      <td>149.600746</td>\n",
       "    </tr>\n",
       "    <tr>\n",
       "      <th>5</th>\n",
       "      <td>LzZXx</td>\n",
       "      <td>-0.758092</td>\n",
       "      <td>0.710691</td>\n",
       "      <td>2.585887</td>\n",
       "      <td>90.222465</td>\n",
       "    </tr>\n",
       "    <tr>\n",
       "      <th>6</th>\n",
       "      <td>WBHRv</td>\n",
       "      <td>-0.574891</td>\n",
       "      <td>0.317727</td>\n",
       "      <td>1.773745</td>\n",
       "      <td>45.641478</td>\n",
       "    </tr>\n",
       "    <tr>\n",
       "      <th>7</th>\n",
       "      <td>XO8fn</td>\n",
       "      <td>-1.906649</td>\n",
       "      <td>-2.458350</td>\n",
       "      <td>-0.177097</td>\n",
       "      <td>72.480640</td>\n",
       "    </tr>\n",
       "    <tr>\n",
       "      <th>8</th>\n",
       "      <td>ybmQ5</td>\n",
       "      <td>1.776292</td>\n",
       "      <td>-0.279356</td>\n",
       "      <td>3.004156</td>\n",
       "      <td>106.616832</td>\n",
       "    </tr>\n",
       "    <tr>\n",
       "      <th>9</th>\n",
       "      <td>OilcN</td>\n",
       "      <td>-1.214452</td>\n",
       "      <td>-0.439314</td>\n",
       "      <td>5.922514</td>\n",
       "      <td>52.954532</td>\n",
       "    </tr>\n",
       "  </tbody>\n",
       "</table>\n",
       "</div>"
      ],
      "text/plain": [
       "      id        f0        f1        f2     product\n",
       "0  fwXo0 -1.146987  0.963328 -0.828965   27.758673\n",
       "1  WJtFt  0.262778  0.269839 -2.530187   56.069697\n",
       "2  ovLUW  0.194587  0.289035 -5.586433   62.871910\n",
       "3  q6cA6  2.236060 -0.553760  0.930038  114.572842\n",
       "4  WPMUX -0.515993  1.716266  5.899011  149.600746\n",
       "5  LzZXx -0.758092  0.710691  2.585887   90.222465\n",
       "6  WBHRv -0.574891  0.317727  1.773745   45.641478\n",
       "7  XO8fn -1.906649 -2.458350 -0.177097   72.480640\n",
       "8  ybmQ5  1.776292 -0.279356  3.004156  106.616832\n",
       "9  OilcN -1.214452 -0.439314  5.922514   52.954532"
      ]
     },
     "metadata": {},
     "output_type": "display_data"
    },
    {
     "name": "stdout",
     "output_type": "stream",
     "text": [
      "-\n"
     ]
    }
   ],
   "source": [
    "#Выводим первые строки датасетов\n",
    "reg_dic = {'Регион 0': df_0, 'Регион 1': df_1, 'Регион 2': df_2}\n",
    "for i in reg_dic:\n",
    "    print(i)\n",
    "    display(reg_dic[i].head(10))\n",
    "    print('-')"
   ]
  },
  {
   "cell_type": "code",
   "execution_count": 56,
   "metadata": {},
   "outputs": [
    {
     "name": "stdout",
     "output_type": "stream",
     "text": [
      "Регион 0\n",
      "<class 'pandas.core.frame.DataFrame'>\n",
      "RangeIndex: 100000 entries, 0 to 99999\n",
      "Data columns (total 5 columns):\n",
      " #   Column   Non-Null Count   Dtype  \n",
      "---  ------   --------------   -----  \n",
      " 0   id       100000 non-null  object \n",
      " 1   f0       100000 non-null  float64\n",
      " 2   f1       100000 non-null  float64\n",
      " 3   f2       100000 non-null  float64\n",
      " 4   product  100000 non-null  float64\n",
      "dtypes: float64(4), object(1)\n",
      "memory usage: 3.8+ MB\n",
      "None\n",
      "-\n",
      "Регион 1\n",
      "<class 'pandas.core.frame.DataFrame'>\n",
      "RangeIndex: 100000 entries, 0 to 99999\n",
      "Data columns (total 5 columns):\n",
      " #   Column   Non-Null Count   Dtype  \n",
      "---  ------   --------------   -----  \n",
      " 0   id       100000 non-null  object \n",
      " 1   f0       100000 non-null  float64\n",
      " 2   f1       100000 non-null  float64\n",
      " 3   f2       100000 non-null  float64\n",
      " 4   product  100000 non-null  float64\n",
      "dtypes: float64(4), object(1)\n",
      "memory usage: 3.8+ MB\n",
      "None\n",
      "-\n",
      "Регион 2\n",
      "<class 'pandas.core.frame.DataFrame'>\n",
      "RangeIndex: 100000 entries, 0 to 99999\n",
      "Data columns (total 5 columns):\n",
      " #   Column   Non-Null Count   Dtype  \n",
      "---  ------   --------------   -----  \n",
      " 0   id       100000 non-null  object \n",
      " 1   f0       100000 non-null  float64\n",
      " 2   f1       100000 non-null  float64\n",
      " 3   f2       100000 non-null  float64\n",
      " 4   product  100000 non-null  float64\n",
      "dtypes: float64(4), object(1)\n",
      "memory usage: 3.8+ MB\n",
      "None\n",
      "-\n"
     ]
    }
   ],
   "source": [
    "#Выводим общую информацию\n",
    "for i in reg_dic:\n",
    "    print(i)\n",
    "    print(reg_dic[i].info())\n",
    "    print('-')"
   ]
  },
  {
   "cell_type": "code",
   "execution_count": 129,
   "metadata": {},
   "outputs": [
    {
     "name": "stdout",
     "output_type": "stream",
     "text": [
      "Регион 0\n",
      "count    100000.000000\n",
      "mean         92.500000\n",
      "std          44.288691\n",
      "min           0.000000\n",
      "25%          56.497507\n",
      "50%          91.849972\n",
      "75%         128.564089\n",
      "max         185.364347\n",
      "Name: product, dtype: float64\n",
      "-\n",
      "Регион 1\n",
      "count    100000.000000\n",
      "mean         68.825000\n",
      "std          45.944423\n",
      "min           0.000000\n",
      "25%          26.953261\n",
      "50%          57.085625\n",
      "75%         107.813044\n",
      "max         137.945408\n",
      "Name: product, dtype: float64\n",
      "-\n",
      "Регион 2\n",
      "count    100000.000000\n",
      "mean         95.000000\n",
      "std          44.749921\n",
      "min           0.000000\n",
      "25%          59.450441\n",
      "50%          94.925613\n",
      "75%         130.595027\n",
      "max         190.029838\n",
      "Name: product, dtype: float64\n",
      "-\n"
     ]
    }
   ],
   "source": [
    "#Выводим информацию о данных в столбце 'product'\n",
    "for i in reg_dic:\n",
    "    print(i)\n",
    "    print(reg_dic[i]['product'].describe())\n",
    "    print('-')"
   ]
  },
  {
   "cell_type": "code",
   "execution_count": 58,
   "metadata": {},
   "outputs": [
    {
     "name": "stdout",
     "output_type": "stream",
     "text": [
      "Регион 0\n",
      "0\n",
      "Регион 1\n",
      "0\n",
      "Регион 2\n",
      "0\n"
     ]
    }
   ],
   "source": [
    "#Проверка на явные дубликаты\n",
    "for i in reg_dic:\n",
    "    print(i)\n",
    "    print(reg_dic[i].duplicated().sum())"
   ]
  },
  {
   "cell_type": "markdown",
   "metadata": {},
   "source": [
    "**Вывод**: Типы данных указаны корректно, пропуски и дубликаты не обнаружены"
   ]
  },
  {
   "cell_type": "code",
   "execution_count": 59,
   "metadata": {
    "scrolled": false
   },
   "outputs": [
    {
     "name": "stdout",
     "output_type": "stream",
     "text": [
      "Регион 0\n",
      "[[<AxesSubplot:title={'center':'f0'}> <AxesSubplot:title={'center':'f1'}>]\n",
      " [<AxesSubplot:title={'center':'f2'}>\n",
      "  <AxesSubplot:title={'center':'product'}>]]\n"
     ]
    },
    {
     "data": {
      "image/png": "[encoded data removed]",
      "text/plain": [
       "<Figure size 576x576 with 4 Axes>"
      ]
     },
     "metadata": {
      "needs_background": "light"
     },
     "output_type": "display_data"
    },
    {
     "name": "stdout",
     "output_type": "stream",
     "text": [
      "Регион 1\n",
      "[[<AxesSubplot:title={'center':'f0'}> <AxesSubplot:title={'center':'f1'}>]\n",
      " [<AxesSubplot:title={'center':'f2'}>\n",
      "  <AxesSubplot:title={'center':'product'}>]]\n"
     ]
    },
    {
     "data": {
      "image/png": "[encoded data removed]",
      "text/plain": [
       "<Figure size 576x576 with 4 Axes>"
      ]
     },
     "metadata": {
      "needs_background": "light"
     },
     "output_type": "display_data"
    },
    {
     "name": "stdout",
     "output_type": "stream",
     "text": [
      "Регион 2\n",
      "[[<AxesSubplot:title={'center':'f0'}> <AxesSubplot:title={'center':'f1'}>]\n",
      " [<AxesSubplot:title={'center':'f2'}>\n",
      "  <AxesSubplot:title={'center':'product'}>]]\n"
     ]
    },
    {
     "data": {
      "image/png": "[encoded data removed]",
      "text/plain": [
       "<Figure size 576x576 with 4 Axes>"
      ]
     },
     "metadata": {
      "needs_background": "light"
     },
     "output_type": "display_data"
    }
   ],
   "source": [
    "#Строим гистограммы столбцов\n",
    "for i in reg_dic:\n",
    "    print(i)\n",
    "    print(reg_dic[i].hist(column=['f0', 'f1', 'f2', 'product'], bins=30, figsize=(8, 8)))\n",
    "    plt.show()"
   ]
  },
  {
   "cell_type": "code",
   "execution_count": 60,
   "metadata": {
    "scrolled": true
   },
   "outputs": [
    {
     "name": "stdout",
     "output_type": "stream",
     "text": [
      "Регион 0\n",
      "Корреляция product и f0 : 0.14353635093189251\n",
      "Корреляция product и f1 : -0.19235576281513284\n",
      "Корреляция product и f2 : 0.48366328692615274\n",
      "Регион 1\n",
      "Корреляция product и f0 : -0.030490530564375253\n",
      "Корреляция product и f1 : -0.010154931786466117\n",
      "Корреляция product и f2 : 0.999396970490655\n",
      "Регион 2\n",
      "Корреляция product и f0 : -0.001987061999049139\n",
      "Корреляция product и f1 : -0.0010123938161308971\n",
      "Корреляция product и f2 : 0.44587109155742083\n"
     ]
    }
   ],
   "source": [
    "#Изучим корреляцию product и остальных признаков\n",
    "for i in reg_dic:\n",
    "    print(i)\n",
    "    for j in ['f0', 'f1', 'f2']:\n",
    "        print('Корреляция product и', j, ':', reg_dic[i]['product'].corr(reg_dic[i][j]))"
   ]
  },
  {
   "cell_type": "code",
   "execution_count": 61,
   "metadata": {},
   "outputs": [
    {
     "name": "stdout",
     "output_type": "stream",
     "text": [
      "Регион 0\n",
      "AxesSubplot(0.125,0.125;0.62x0.755)\n"
     ]
    },
    {
     "data": {
      "image/png": "[encoded data removed]",
      "text/plain": [
       "<Figure size 432x288 with 2 Axes>"
      ]
     },
     "metadata": {
      "needs_background": "light"
     },
     "output_type": "display_data"
    },
    {
     "name": "stdout",
     "output_type": "stream",
     "text": [
      "Регион 1\n",
      "AxesSubplot(0.125,0.125;0.62x0.755)\n"
     ]
    },
    {
     "data": {
      "image/png": "[encoded data removed]",
      "text/plain": [
       "<Figure size 432x288 with 2 Axes>"
      ]
     },
     "metadata": {
      "needs_background": "light"
     },
     "output_type": "display_data"
    },
    {
     "name": "stdout",
     "output_type": "stream",
     "text": [
      "Регион 2\n",
      "AxesSubplot(0.125,0.125;0.62x0.755)\n"
     ]
    },
    {
     "data": {
      "image/png": "[encoded data removed]",
      "text/plain": [
       "<Figure size 432x288 with 2 Axes>"
      ]
     },
     "metadata": {
      "needs_background": "light"
     },
     "output_type": "display_data"
    }
   ],
   "source": [
    "# Выведем тепловые карты корреляции\n",
    "print('Регион 0')\n",
    "print(sns.heatmap(df_0.corr().round(3), annot= True))\n",
    "plt.show()\n",
    "print('Регион 1')\n",
    "print(sns.heatmap(df_1.corr().round(3), annot= True))\n",
    "plt.show()\n",
    "print('Регион 2')\n",
    "print(sns.heatmap(df_2.corr().round(3), annot= True))"
   ]
  },
  {
   "cell_type": "markdown",
   "metadata": {},
   "source": [
    "**Вывод**: В регионе 1 наблюдяется прямая корреляция целевого признака 'product' и признака 'f2'. Мультиколлениарность не обнаружена."
   ]
  },
  {
   "cell_type": "markdown",
   "metadata": {},
   "source": [
    "## Обучение и проверка модели"
   ]
  },
  {
   "cell_type": "code",
   "execution_count": 62,
   "metadata": {},
   "outputs": [],
   "source": [
    "#Выделяем признаки и целевой признак\n",
    "target_0 = df_0['product']\n",
    "features_0 = df_0.drop(['id', 'product'], axis=1)\n",
    "target_1 = df_1['product']\n",
    "features_1 = df_1.drop(['id', 'product'], axis=1)\n",
    "target_2 = df_2['product']\n",
    "features_2 = df_2.drop(['id', 'product'], axis=1)"
   ]
  },
  {
   "cell_type": "code",
   "execution_count": 63,
   "metadata": {},
   "outputs": [],
   "source": [
    "#Разделим датасеты на обучающую и валидационную выборки \n",
    "features_0_train, features_0_valid, target_0_train, target_0_valid = \\\n",
    "train_test_split(features_0, target_0, test_size=0.25, random_state=12345)\n",
    "features_1_train, features_1_valid, target_1_train, target_1_valid = \\\n",
    "train_test_split(features_1, target_1, test_size=0.25, random_state=12345)\n",
    "features_2_train, features_2_valid, target_2_train, target_2_valid = \\\n",
    "train_test_split(features_2, target_2, test_size=0.25, random_state=12345)"
   ]
  },
  {
   "cell_type": "code",
   "execution_count": 64,
   "metadata": {},
   "outputs": [
    {
     "name": "stdout",
     "output_type": "stream",
     "text": [
      "(75000, 3) (75000,)\n",
      "(75000, 3) (75000,)\n",
      "(75000, 3) (75000,)\n"
     ]
    }
   ],
   "source": [
    "#Выводим размеры обчающих выборок\n",
    "print(features_0_train.shape, target_0_train.shape)\n",
    "print(features_1_train.shape, target_1_train.shape)\n",
    "print(features_2_train.shape, target_2_train.shape)"
   ]
  },
  {
   "cell_type": "code",
   "execution_count": 65,
   "metadata": {},
   "outputs": [
    {
     "name": "stdout",
     "output_type": "stream",
     "text": [
      "(25000, 3) (25000,)\n",
      "(25000, 3) (25000,)\n",
      "(25000, 3) (25000,)\n"
     ]
    }
   ],
   "source": [
    "#Выводим размеры валидационных выборок\n",
    "print(features_0_valid.shape, target_0_valid.shape)\n",
    "print(features_1_valid.shape, target_1_valid.shape)\n",
    "print(features_2_valid.shape, target_2_valid.shape)"
   ]
  },
  {
   "cell_type": "markdown",
   "metadata": {},
   "source": [
    "**Вывод**: разделение датасетов на выборки прошло корректно"
   ]
  },
  {
   "cell_type": "code",
   "execution_count": 66,
   "metadata": {},
   "outputs": [],
   "source": [
    "#Объявляем переменные моделей и вносим их в список\n",
    "model_0 = LinearRegression()\n",
    "model_1 = LinearRegression()\n",
    "model_2 = LinearRegression()\n",
    "models = [model_0, model_1, model_2]\n",
    "\n",
    "#Создаём списки признаков для обучения\n",
    "targets = [target_0_train, target_1_train, target_2_train]\n",
    "features = [features_0_train, features_1_train, features_2_train]\n",
    "\n",
    "#Обучаем модели\n",
    "for i in range (len(models)):\n",
    "    models[i].fit(features[i], targets[i])"
   ]
  },
  {
   "cell_type": "code",
   "execution_count": 67,
   "metadata": {},
   "outputs": [
    {
     "name": "stdout",
     "output_type": "stream",
     "text": [
      "Регион 0\n",
      "Средний запас предсказанного сырья в скважине: 92.59256778438035\n",
      "RMSE = 37.5794217150813\n",
      "Регион 1\n",
      "Средний запас предсказанного сырья в скважине: 68.728546895446\n",
      "RMSE = 0.8930992867756165\n",
      "Регион 2\n",
      "Средний запас предсказанного сырья в скважине: 94.96504596800489\n",
      "RMSE = 40.02970873393434\n"
     ]
    }
   ],
   "source": [
    "#Сjздадим списки с целевыми признаками и остальными признками\n",
    "targets_valid = [target_0_valid, target_1_valid, target_2_valid]\n",
    "features_valid = [features_0_valid, features_1_valid, features_2_valid]\n",
    "\n",
    "#Получаем предсказания моделей\n",
    "predicted_0_valid = model_0.predict(features_0_valid)\n",
    "predicted_1_valid = model_1.predict(features_1_valid)\n",
    "predicted_2_valid = model_2.predict(features_2_valid)\n",
    "\n",
    "#Создади список с предсказаниями\n",
    "predictions = [predicted_0_valid, predicted_1_valid, predicted_2_valid]\n",
    "\n",
    "#Считаем средний заапс предск. сырья и RMSE\n",
    "for i in range(len(targets_valid)):\n",
    "    print('Регион', i)\n",
    "    print(\"Средний запас предсказанного сырья в скважине:\", predictions[i].mean())\n",
    "    print(\"RMSE =\", mean_squared_error(targets_valid[i], predictions[i]) ** 0.5)"
   ]
  },
  {
   "cell_type": "markdown",
   "metadata": {},
   "source": [
    "**Вывод**: Наибольший предсказанный средний запас сырья - в регионе 2, он составил 94.96 тыс. баррелей. В регионе 0 заапс сырья немного меньше - 92,59 тыс.баррелей. Запас сырья в регионе 1 намного ниже и составляет 68,72 тыс.баррелй.<br>\n",
    "RMSE в регионах 0 и 2 не сильно отличаются, 37.57 и 40.02 соответственно. Выделяется регион 1, здесь RMSE = 0.893."
   ]
  },
  {
   "cell_type": "markdown",
   "metadata": {},
   "source": [
    "## Подготовка к расчёту прибыли"
   ]
  },
  {
   "cell_type": "markdown",
   "metadata": {},
   "source": [
    "**Формула расчёта прибыли**<br><br>\n",
    "\n",
    "Прибыль = Доход - Расходы<br>\n",
    "Доход = (Доход с 1 ед. product) х (кол-во единиц product)<br>\n",
    "Прибыль = (Доход с 1 ед. product) х (кол-во единиц product) - Расходы<br><br>\n",
    "\n",
    "По условиям задачи:<br>\n",
    "Доход с 1 ед. product = 450 000 р.<br>\n",
    "Расходы = 10 000 000 000 р."
   ]
  },
  {
   "cell_type": "code",
   "execution_count": 68,
   "metadata": {},
   "outputs": [
    {
     "name": "stdout",
     "output_type": "stream",
     "text": [
      "Необходимый объём добытого сырья в регионе:  22222.222222222223\n",
      "Необходимый объём добытого сырья для одной скважины:  111.11111111111111\n"
     ]
    }
   ],
   "source": [
    "#Считаем мин. необходимый объём добычи сырья в тыс.баррелей (кол-во единиц product), чтобы окупить бюджет в 10 000 000 000 р.\n",
    "print(\"Необходимый объём добытого сырья в регионе: \", BUDGET/UNIT_INCOME)\n",
    "print(\"Необходимый объём добытого сырья для одной скважины: \", BUDGET/UNIT_INCOME/WELLS_200)"
   ]
  },
  {
   "cell_type": "markdown",
   "metadata": {},
   "source": [
    "**Вывод**: Во всех регионах средний запас сырья в одной скважине меньше необходимого для безубыточности. Чтобы достичь безубыточности и получить прибыль, необходимо выбрать скважины с максимальным запасом сырья."
   ]
  },
  {
   "cell_type": "code",
   "execution_count": 69,
   "metadata": {},
   "outputs": [],
   "source": [
    "#Создадим функцию для подсчёта прибыли. Аргумент - объём сырья\n",
    "def region_income(product_value):\n",
    "    result = (product_value * UNIT_INCOME) - BUDGET\n",
    "    \n",
    "    return result"
   ]
  },
  {
   "cell_type": "markdown",
   "metadata": {},
   "source": [
    "## Расчёт прибыли и рисков "
   ]
  },
  {
   "cell_type": "code",
   "execution_count": 130,
   "metadata": {},
   "outputs": [],
   "source": [
    "#Создадим объект RandomState для случайного отбора 500 скважин\n",
    "state = np.random.RandomState(12345)\n",
    "\n",
    "#Создадим список, в который будет добавляться результат работы функции:\n",
    "# - Номер региона\n",
    "# - Средняя прибыль\n",
    "# - 2,5%-й квантиль - нижняя граница 95%-го доверительного интервала\n",
    "# - 97,5%-й квантиль - верхняя граница 95%-го доверительного интервала\n",
    "# - Риск убытка, или получения отрицательной прибыли\n",
    "regions_list = []\n",
    "\n",
    "#Создадим функцию с процедурой Bootstrap (1000 раз) для отбора 500 случ. скважин, и 200 из них с макс. предск. запасом сырья\n",
    "#аргументы ф-ии: целевой признак на валид. выборке., предсказания на валид. в., номер региона\n",
    "def bootstrap_1000(target_valid, predicted_valid, reg):\n",
    "    means = [] #Список, в кот. будут добавляться средние значения прибыли от каждой итерации цикла\n",
    "    for i in range(1000):\n",
    "        #Передаём индексы target в predictions\n",
    "        predicted_valid = pd.Series(predicted_valid, index=target_valid.index)\n",
    "        #Отбираем случайные 500 скважин\n",
    "        random_500 = predicted_valid.sample(n=WELLS_500, replace=True, random_state=state)\n",
    "        #Из них выбираем индексы 200 с максимальным предсказанным объёмом сырья\n",
    "        best_200 = random_500.sort_values(ascending=False).head(200).index\n",
    "        #Отбираем из target по индексам 200 лучших скважин и считаем фактический объём сырья\n",
    "        product_value = target_valid.loc[best_200].sum()\n",
    "        #Рассчитываем прибыль для 200 скважин с макс. предсказанным объёмом сырья ф-ей region_income\n",
    "        means.append(region_income(product_value)) #добавляем рез-т функции - расчёт прибыли - в список\n",
    "        \n",
    "    means = pd.Series(means)/1_000_000 #Переводим значения прибыли в млн. руб. \n",
    "    \n",
    "    #Гистограмма распределения\n",
    "    plt.figure(figsize=[8, 4])\n",
    "    plt.xlim([-500, 1500])\n",
    "    hist = plt.hist(means, bins=range(-500, 1500, 40), color='c', edgecolor='k', alpha=0.6)\n",
    "    min_ylim, max_ylim  = plt.ylim()\n",
    "    plt.title(label = 'Регион ' + str(reg) + '\\n Распределение прибыли, \\n 95%-й доверительный интервал', y=1.17)\n",
    "    plt.xlabel('Прибыль, млн. руб.')\n",
    "    plt.ylabel('Частота на 1000')\n",
    "    plt.axvline(0, color='r', linestyle='dashed', linewidth=1.5)\n",
    "    plt.axvline(means.quantile(0.025), color='k', linestyle='dashed', linewidth=1)\n",
    "    plt.text(means.quantile(0.025), max_ylim*1.02, '2.5%-й квантиль \\n: {:.2f}'.format(means.quantile(0.025)))\n",
    "    plt.axvline(means.quantile(0.975), color='k', linestyle='dashed', linewidth=1)\n",
    "    plt.text(means.quantile(0.975), max_ylim*1.02, '97.5% -й квантиль \\n: {:.2f}'.format(means.quantile(0.975)))\n",
    "    plt.show()\n",
    "\n",
    "    #Заполняем список рассчитанными показателями\n",
    "    regions_list.append([reg, means.mean(), means.quantile(0.025), means.quantile(0.975), (means<0).mean()*100])"
   ]
  },
  {
   "cell_type": "code",
   "execution_count": 131,
   "metadata": {},
   "outputs": [
    {
     "data": {
      "image/png": "[encoded data removed]",
      "text/plain": [
       "<Figure size 576x288 with 1 Axes>"
      ]
     },
     "metadata": {
      "needs_background": "light"
     },
     "output_type": "display_data"
    },
    {
     "data": {
      "image/png": "[encoded data removed]",
      "text/plain": [
       "<Figure size 576x288 with 1 Axes>"
      ]
     },
     "metadata": {
      "needs_background": "light"
     },
     "output_type": "display_data"
    },
    {
     "data": {
      "image/png": "[encoded data removed]",
      "text/plain": [
       "<Figure size 576x288 with 1 Axes>"
      ]
     },
     "metadata": {
      "needs_background": "light"
     },
     "output_type": "display_data"
    },
    {
     "data": {
      "text/html": [
       "<div>\n",
       "<style scoped>\n",
       "    .dataframe tbody tr th:only-of-type {\n",
       "        vertical-align: middle;\n",
       "    }\n",
       "\n",
       "    .dataframe tbody tr th {\n",
       "        vertical-align: top;\n",
       "    }\n",
       "\n",
       "    .dataframe thead th {\n",
       "        text-align: right;\n",
       "    }\n",
       "</style>\n",
       "<table border=\"1\" class=\"dataframe\">\n",
       "  <thead>\n",
       "    <tr style=\"text-align: right;\">\n",
       "      <th></th>\n",
       "      <th>№ региона</th>\n",
       "      <th>Средняя прибыль, млн.руб</th>\n",
       "      <th>2.5%-й квантиль, млн.руб</th>\n",
       "      <th>97.5%-й квантиль, млн.руб</th>\n",
       "      <th>Вероятность убытка, %</th>\n",
       "    </tr>\n",
       "  </thead>\n",
       "  <tbody>\n",
       "    <tr>\n",
       "      <th>0</th>\n",
       "      <td>0</td>\n",
       "      <td>396.164985</td>\n",
       "      <td>-111.215546</td>\n",
       "      <td>909.766942</td>\n",
       "      <td>6.9</td>\n",
       "    </tr>\n",
       "    <tr>\n",
       "      <th>1</th>\n",
       "      <td>1</td>\n",
       "      <td>461.155817</td>\n",
       "      <td>78.050811</td>\n",
       "      <td>862.952060</td>\n",
       "      <td>0.7</td>\n",
       "    </tr>\n",
       "    <tr>\n",
       "      <th>2</th>\n",
       "      <td>2</td>\n",
       "      <td>392.950475</td>\n",
       "      <td>-112.227625</td>\n",
       "      <td>934.562915</td>\n",
       "      <td>6.5</td>\n",
       "    </tr>\n",
       "  </tbody>\n",
       "</table>\n",
       "</div>"
      ],
      "text/plain": [
       "   № региона  Средняя прибыль, млн.руб  2.5%-й квантиль, млн.руб  \\\n",
       "0          0                396.164985               -111.215546   \n",
       "1          1                461.155817                 78.050811   \n",
       "2          2                392.950475               -112.227625   \n",
       "\n",
       "   97.5%-й квантиль, млн.руб  Вероятность убытка, %  \n",
       "0                 909.766942                    6.9  \n",
       "1                 862.952060                    0.7  \n",
       "2                 934.562915                    6.5  "
      ]
     },
     "execution_count": 131,
     "metadata": {},
     "output_type": "execute_result"
    }
   ],
   "source": [
    "#Считаем сред. прибыль, 95%-й дов. интервал, риск убытка и строим гистограмму распределения прибыли\n",
    "regions_list = [] #обнуляем список с подсчитанными показателями региона\n",
    "\n",
    "bootstrap_1000(target_0_valid, predicted_0_valid, 0)\n",
    "bootstrap_1000(target_1_valid, predicted_1_valid, 1)\n",
    "bootstrap_1000(target_2_valid, predicted_2_valid, 2)\n",
    "#Создаём таблицу с подсчитанными показателями для всех регионов\n",
    "income_data = pd.DataFrame(regions_list, columns=[\n",
    "    '№ региона' , 'Средняя прибыль, млн.руб', '2.5%-й квантиль, млн.руб', '97.5%-й квантиль, млн.руб', 'Вероятность убытка, %'\n",
    "])\n",
    "income_data"
   ]
  },
  {
   "cell_type": "markdown",
   "metadata": {},
   "source": [
    "**Вывод**: Условиям задачи удовлетворяет только регион №1, здесь вероятность убытка составила 0,7%. Плюс в этом регионе максимальная средняя прибыль."
   ]
  },
  {
   "cell_type": "markdown",
   "metadata": {},
   "source": [
    "## Общий вывод"
   ]
  },
  {
   "cell_type": "markdown",
   "metadata": {},
   "source": [
    "По условиям задачи из трёх регионов: 0, 1 и 2 необходимо было выбрать один, в котором добыча нефти принесёт максимальную прибыль с миинмальным риском убытка. Количество скважин для разработки - 200 шт., бюджет на разработку для каждого региона - 10 000 000 руб. Для каждого из трёх регионов было предоставлено 100 000 точек с разведанными запасами сырья.<br><br>\n",
    "В ходе исследования был рассчитан минимально необходимый для безубыточной и прибыльной добычи запас сырья в одной скважине, который составил 22 223 тыс. баррелей.<br>\n",
    "Было получено среднее значение разведанного запаса сырья в одной скважине, которое оказалось меньше необхоимого для безубыточной и прибыльной добычи.<br><br>\n",
    "Поэтому на основе данных по существующим скважинам была обучена модель, которая прогнозирует прибыль для новых скважин по их характеристикам.<br>\n",
    "Для исключения влияния случайности на подсчёт прибыли техникой \"Bootstrap\" 1000 раз случайным образом отбиралось 500 скважин, из которых выбиралось 200 с максимальными предсказанными заапсами сырья. Далее для этих 200 скважин была рассчитана прибыль от фактических запасов.<br><br>\n",
    "По результатам работы для добычи был выбран регион №1, средняя прибыль в котором оказалась максимальной в трёх регионах, а риск убытка составил 0,7%, против 6,9% и 6,5% в регионах 0 и 2 соответственно."
   ]
  },
  {
   "cell_type": "code",
   "execution_count": null,
   "metadata": {},
   "outputs": [],
   "source": []
  }
 ],
 "metadata": {
  "kernelspec": {
   "display_name": "Python 3 (ipykernel)",
   "language": "python",
   "name": "python3"
  },
  "language_info": {
   "codemirror_mode": {
    "name": "ipython",
    "version": 3
   },
   "file_extension": ".py",
   "mimetype": "text/x-python",
   "name": "python",
   "nbconvert_exporter": "python",
   "pygments_lexer": "ipython3",
   "version": "3.8.10"
  },
  "toc": {
   "base_numbering": 1,
   "nav_menu": {},
   "number_sections": true,
   "sideBar": true,
   "skip_h1_title": true,
   "title_cell": "Table of Contents",
   "title_sidebar": "Contents",
   "toc_cell": false,
   "toc_position": {},
   "toc_section_display": true,
   "toc_window_display": false
  }
 },
 "nbformat": 4,
 "nbformat_minor": 2
}
