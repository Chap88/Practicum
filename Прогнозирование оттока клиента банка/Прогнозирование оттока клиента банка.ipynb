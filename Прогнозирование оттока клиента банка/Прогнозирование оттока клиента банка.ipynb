{
 "cells": [
  {
   "cell_type": "markdown",
   "metadata": {},
   "source": [
    "# прогнозирование оттока клиентов банка"
   ]
  },
  {
   "cell_type": "markdown",
   "metadata": {},
   "source": [
    "**Задача**\n",
    "<br>\n",
    "Построить модель классификации для предсказания ухода клиента из банка. Метрика модели \"F1-мера\" должна быть не менее 0,59."
   ]
  },
  {
   "cell_type": "markdown",
   "metadata": {},
   "source": [
    "## Подготовка данных"
   ]
  },
  {
   "cell_type": "code",
   "execution_count": 1,
   "metadata": {},
   "outputs": [],
   "source": [
    "#Импортируем библиотеки и модули\n",
    "import pandas as pd\n",
    "import matplotlib.pyplot as plt\n",
    "import numpy as np\n",
    "\n",
    "from sklearn.model_selection import train_test_split\n",
    "from sklearn.preprocessing import StandardScaler\n",
    "\n",
    "from sklearn.tree import DecisionTreeClassifier\n",
    "from sklearn.ensemble import RandomForestClassifier\n",
    "from sklearn.linear_model import LogisticRegression\n",
    "\n",
    "from sklearn.metrics import accuracy_score\n",
    "from sklearn.metrics import confusion_matrix\n",
    "from sklearn.metrics import recall_score\n",
    "from sklearn.metrics import precision_score\n",
    "from sklearn.metrics import f1_score\n",
    "\n",
    "from sklearn.utils import shuffle\n",
    "\n",
    "from sklearn.metrics import roc_curve\n",
    "from sklearn.metrics import roc_auc_score"
   ]
  },
  {
   "cell_type": "code",
   "execution_count": 3,
   "metadata": {},
   "outputs": [],
   "source": [
    "#Создаём датасет из csv-файла\n",
    "df = pd.read_csv('/datasets/Churn.csv')"
   ]
  },
  {
   "cell_type": "code",
   "execution_count": 4,
   "metadata": {
    "scrolled": true
   },
   "outputs": [
    {
     "data": {
      "text/html": [
       "<div>\n",
       "<style scoped>\n",
       "    .dataframe tbody tr th:only-of-type {\n",
       "        vertical-align: middle;\n",
       "    }\n",
       "\n",
       "    .dataframe tbody tr th {\n",
       "        vertical-align: top;\n",
       "    }\n",
       "\n",
       "    .dataframe thead th {\n",
       "        text-align: right;\n",
       "    }\n",
       "</style>\n",
       "<table border=\"1\" class=\"dataframe\">\n",
       "  <thead>\n",
       "    <tr style=\"text-align: right;\">\n",
       "      <th></th>\n",
       "      <th>RowNumber</th>\n",
       "      <th>CustomerId</th>\n",
       "      <th>Surname</th>\n",
       "      <th>CreditScore</th>\n",
       "      <th>Geography</th>\n",
       "      <th>Gender</th>\n",
       "      <th>Age</th>\n",
       "      <th>Tenure</th>\n",
       "      <th>Balance</th>\n",
       "      <th>NumOfProducts</th>\n",
       "      <th>HasCrCard</th>\n",
       "      <th>IsActiveMember</th>\n",
       "      <th>EstimatedSalary</th>\n",
       "      <th>Exited</th>\n",
       "    </tr>\n",
       "  </thead>\n",
       "  <tbody>\n",
       "    <tr>\n",
       "      <th>0</th>\n",
       "      <td>1</td>\n",
       "      <td>15634602</td>\n",
       "      <td>Hargrave</td>\n",
       "      <td>619</td>\n",
       "      <td>France</td>\n",
       "      <td>Female</td>\n",
       "      <td>42</td>\n",
       "      <td>2.0</td>\n",
       "      <td>0.00</td>\n",
       "      <td>1</td>\n",
       "      <td>1</td>\n",
       "      <td>1</td>\n",
       "      <td>101348.88</td>\n",
       "      <td>1</td>\n",
       "    </tr>\n",
       "    <tr>\n",
       "      <th>1</th>\n",
       "      <td>2</td>\n",
       "      <td>15647311</td>\n",
       "      <td>Hill</td>\n",
       "      <td>608</td>\n",
       "      <td>Spain</td>\n",
       "      <td>Female</td>\n",
       "      <td>41</td>\n",
       "      <td>1.0</td>\n",
       "      <td>83807.86</td>\n",
       "      <td>1</td>\n",
       "      <td>0</td>\n",
       "      <td>1</td>\n",
       "      <td>112542.58</td>\n",
       "      <td>0</td>\n",
       "    </tr>\n",
       "    <tr>\n",
       "      <th>2</th>\n",
       "      <td>3</td>\n",
       "      <td>15619304</td>\n",
       "      <td>Onio</td>\n",
       "      <td>502</td>\n",
       "      <td>France</td>\n",
       "      <td>Female</td>\n",
       "      <td>42</td>\n",
       "      <td>8.0</td>\n",
       "      <td>159660.80</td>\n",
       "      <td>3</td>\n",
       "      <td>1</td>\n",
       "      <td>0</td>\n",
       "      <td>113931.57</td>\n",
       "      <td>1</td>\n",
       "    </tr>\n",
       "    <tr>\n",
       "      <th>3</th>\n",
       "      <td>4</td>\n",
       "      <td>15701354</td>\n",
       "      <td>Boni</td>\n",
       "      <td>699</td>\n",
       "      <td>France</td>\n",
       "      <td>Female</td>\n",
       "      <td>39</td>\n",
       "      <td>1.0</td>\n",
       "      <td>0.00</td>\n",
       "      <td>2</td>\n",
       "      <td>0</td>\n",
       "      <td>0</td>\n",
       "      <td>93826.63</td>\n",
       "      <td>0</td>\n",
       "    </tr>\n",
       "    <tr>\n",
       "      <th>4</th>\n",
       "      <td>5</td>\n",
       "      <td>15737888</td>\n",
       "      <td>Mitchell</td>\n",
       "      <td>850</td>\n",
       "      <td>Spain</td>\n",
       "      <td>Female</td>\n",
       "      <td>43</td>\n",
       "      <td>2.0</td>\n",
       "      <td>125510.82</td>\n",
       "      <td>1</td>\n",
       "      <td>1</td>\n",
       "      <td>1</td>\n",
       "      <td>79084.10</td>\n",
       "      <td>0</td>\n",
       "    </tr>\n",
       "    <tr>\n",
       "      <th>5</th>\n",
       "      <td>6</td>\n",
       "      <td>15574012</td>\n",
       "      <td>Chu</td>\n",
       "      <td>645</td>\n",
       "      <td>Spain</td>\n",
       "      <td>Male</td>\n",
       "      <td>44</td>\n",
       "      <td>8.0</td>\n",
       "      <td>113755.78</td>\n",
       "      <td>2</td>\n",
       "      <td>1</td>\n",
       "      <td>0</td>\n",
       "      <td>149756.71</td>\n",
       "      <td>1</td>\n",
       "    </tr>\n",
       "    <tr>\n",
       "      <th>6</th>\n",
       "      <td>7</td>\n",
       "      <td>15592531</td>\n",
       "      <td>Bartlett</td>\n",
       "      <td>822</td>\n",
       "      <td>France</td>\n",
       "      <td>Male</td>\n",
       "      <td>50</td>\n",
       "      <td>7.0</td>\n",
       "      <td>0.00</td>\n",
       "      <td>2</td>\n",
       "      <td>1</td>\n",
       "      <td>1</td>\n",
       "      <td>10062.80</td>\n",
       "      <td>0</td>\n",
       "    </tr>\n",
       "    <tr>\n",
       "      <th>7</th>\n",
       "      <td>8</td>\n",
       "      <td>15656148</td>\n",
       "      <td>Obinna</td>\n",
       "      <td>376</td>\n",
       "      <td>Germany</td>\n",
       "      <td>Female</td>\n",
       "      <td>29</td>\n",
       "      <td>4.0</td>\n",
       "      <td>115046.74</td>\n",
       "      <td>4</td>\n",
       "      <td>1</td>\n",
       "      <td>0</td>\n",
       "      <td>119346.88</td>\n",
       "      <td>1</td>\n",
       "    </tr>\n",
       "    <tr>\n",
       "      <th>8</th>\n",
       "      <td>9</td>\n",
       "      <td>15792365</td>\n",
       "      <td>He</td>\n",
       "      <td>501</td>\n",
       "      <td>France</td>\n",
       "      <td>Male</td>\n",
       "      <td>44</td>\n",
       "      <td>4.0</td>\n",
       "      <td>142051.07</td>\n",
       "      <td>2</td>\n",
       "      <td>0</td>\n",
       "      <td>1</td>\n",
       "      <td>74940.50</td>\n",
       "      <td>0</td>\n",
       "    </tr>\n",
       "    <tr>\n",
       "      <th>9</th>\n",
       "      <td>10</td>\n",
       "      <td>15592389</td>\n",
       "      <td>H?</td>\n",
       "      <td>684</td>\n",
       "      <td>France</td>\n",
       "      <td>Male</td>\n",
       "      <td>27</td>\n",
       "      <td>2.0</td>\n",
       "      <td>134603.88</td>\n",
       "      <td>1</td>\n",
       "      <td>1</td>\n",
       "      <td>1</td>\n",
       "      <td>71725.73</td>\n",
       "      <td>0</td>\n",
       "    </tr>\n",
       "  </tbody>\n",
       "</table>\n",
       "</div>"
      ],
      "text/plain": [
       "   RowNumber  CustomerId   Surname  CreditScore Geography  Gender  Age  \\\n",
       "0          1    15634602  Hargrave          619    France  Female   42   \n",
       "1          2    15647311      Hill          608     Spain  Female   41   \n",
       "2          3    15619304      Onio          502    France  Female   42   \n",
       "3          4    15701354      Boni          699    France  Female   39   \n",
       "4          5    15737888  Mitchell          850     Spain  Female   43   \n",
       "5          6    15574012       Chu          645     Spain    Male   44   \n",
       "6          7    15592531  Bartlett          822    France    Male   50   \n",
       "7          8    15656148    Obinna          376   Germany  Female   29   \n",
       "8          9    15792365        He          501    France    Male   44   \n",
       "9         10    15592389        H?          684    France    Male   27   \n",
       "\n",
       "   Tenure    Balance  NumOfProducts  HasCrCard  IsActiveMember  \\\n",
       "0     2.0       0.00              1          1               1   \n",
       "1     1.0   83807.86              1          0               1   \n",
       "2     8.0  159660.80              3          1               0   \n",
       "3     1.0       0.00              2          0               0   \n",
       "4     2.0  125510.82              1          1               1   \n",
       "5     8.0  113755.78              2          1               0   \n",
       "6     7.0       0.00              2          1               1   \n",
       "7     4.0  115046.74              4          1               0   \n",
       "8     4.0  142051.07              2          0               1   \n",
       "9     2.0  134603.88              1          1               1   \n",
       "\n",
       "   EstimatedSalary  Exited  \n",
       "0        101348.88       1  \n",
       "1        112542.58       0  \n",
       "2        113931.57       1  \n",
       "3         93826.63       0  \n",
       "4         79084.10       0  \n",
       "5        149756.71       1  \n",
       "6         10062.80       0  \n",
       "7        119346.88       1  \n",
       "8         74940.50       0  \n",
       "9         71725.73       0  "
      ]
     },
     "execution_count": 4,
     "metadata": {},
     "output_type": "execute_result"
    }
   ],
   "source": [
    "#Выводим первые 10 строк датасета\n",
    "df.head(10)"
   ]
  },
  {
   "cell_type": "code",
   "execution_count": 4,
   "metadata": {
    "scrolled": true
   },
   "outputs": [
    {
     "name": "stdout",
     "output_type": "stream",
     "text": [
      "<class 'pandas.core.frame.DataFrame'>\n",
      "RangeIndex: 10000 entries, 0 to 9999\n",
      "Data columns (total 14 columns):\n",
      " #   Column           Non-Null Count  Dtype  \n",
      "---  ------           --------------  -----  \n",
      " 0   RowNumber        10000 non-null  int64  \n",
      " 1   CustomerId       10000 non-null  int64  \n",
      " 2   Surname          10000 non-null  object \n",
      " 3   CreditScore      10000 non-null  int64  \n",
      " 4   Geography        10000 non-null  object \n",
      " 5   Gender           10000 non-null  object \n",
      " 6   Age              10000 non-null  int64  \n",
      " 7   Tenure           9091 non-null   float64\n",
      " 8   Balance          10000 non-null  float64\n",
      " 9   NumOfProducts    10000 non-null  int64  \n",
      " 10  HasCrCard        10000 non-null  int64  \n",
      " 11  IsActiveMember   10000 non-null  int64  \n",
      " 12  EstimatedSalary  10000 non-null  float64\n",
      " 13  Exited           10000 non-null  int64  \n",
      "dtypes: float64(3), int64(8), object(3)\n",
      "memory usage: 1.1+ MB\n"
     ]
    }
   ],
   "source": [
    "#Выводи информацию о датасете\n",
    "df.info()"
   ]
  },
  {
   "cell_type": "code",
   "execution_count": 5,
   "metadata": {},
   "outputs": [
    {
     "data": {
      "image/png": "[encoded data removed]",
      "text/plain": [
       "<Figure size 720x720 with 9 Axes>"
      ]
     },
     "metadata": {
      "needs_background": "light"
     },
     "output_type": "display_data"
    }
   ],
   "source": [
    "#Строим гистограммы столбцов\n",
    "df.hist(column=['CreditScore', 'Age', 'Tenure', 'Balance', 'NumOfProducts', 'HasCrCard', 'IsActiveMember', 'Exited'], figsize=(10, 10));"
   ]
  },
  {
   "cell_type": "code",
   "execution_count": 6,
   "metadata": {
    "scrolled": true
   },
   "outputs": [
    {
     "data": {
      "text/html": [
       "<div>\n",
       "<style scoped>\n",
       "    .dataframe tbody tr th:only-of-type {\n",
       "        vertical-align: middle;\n",
       "    }\n",
       "\n",
       "    .dataframe tbody tr th {\n",
       "        vertical-align: top;\n",
       "    }\n",
       "\n",
       "    .dataframe thead th {\n",
       "        text-align: right;\n",
       "    }\n",
       "</style>\n",
       "<table border=\"1\" class=\"dataframe\">\n",
       "  <thead>\n",
       "    <tr style=\"text-align: right;\">\n",
       "      <th></th>\n",
       "      <th>RowNumber</th>\n",
       "      <th>CustomerId</th>\n",
       "      <th>Surname</th>\n",
       "      <th>CreditScore</th>\n",
       "      <th>Geography</th>\n",
       "      <th>Gender</th>\n",
       "      <th>Age</th>\n",
       "      <th>Tenure</th>\n",
       "      <th>Balance</th>\n",
       "      <th>NumOfProducts</th>\n",
       "      <th>HasCrCard</th>\n",
       "      <th>IsActiveMember</th>\n",
       "      <th>EstimatedSalary</th>\n",
       "      <th>Exited</th>\n",
       "    </tr>\n",
       "  </thead>\n",
       "  <tbody>\n",
       "    <tr>\n",
       "      <th>count</th>\n",
       "      <td>10000.00000</td>\n",
       "      <td>1.000000e+04</td>\n",
       "      <td>10000</td>\n",
       "      <td>10000.000000</td>\n",
       "      <td>10000</td>\n",
       "      <td>10000</td>\n",
       "      <td>10000.000000</td>\n",
       "      <td>9091.000000</td>\n",
       "      <td>10000.000000</td>\n",
       "      <td>10000.000000</td>\n",
       "      <td>10000.00000</td>\n",
       "      <td>10000.000000</td>\n",
       "      <td>10000.000000</td>\n",
       "      <td>10000.000000</td>\n",
       "    </tr>\n",
       "    <tr>\n",
       "      <th>unique</th>\n",
       "      <td>NaN</td>\n",
       "      <td>NaN</td>\n",
       "      <td>2932</td>\n",
       "      <td>NaN</td>\n",
       "      <td>3</td>\n",
       "      <td>2</td>\n",
       "      <td>NaN</td>\n",
       "      <td>NaN</td>\n",
       "      <td>NaN</td>\n",
       "      <td>NaN</td>\n",
       "      <td>NaN</td>\n",
       "      <td>NaN</td>\n",
       "      <td>NaN</td>\n",
       "      <td>NaN</td>\n",
       "    </tr>\n",
       "    <tr>\n",
       "      <th>top</th>\n",
       "      <td>NaN</td>\n",
       "      <td>NaN</td>\n",
       "      <td>Smith</td>\n",
       "      <td>NaN</td>\n",
       "      <td>France</td>\n",
       "      <td>Male</td>\n",
       "      <td>NaN</td>\n",
       "      <td>NaN</td>\n",
       "      <td>NaN</td>\n",
       "      <td>NaN</td>\n",
       "      <td>NaN</td>\n",
       "      <td>NaN</td>\n",
       "      <td>NaN</td>\n",
       "      <td>NaN</td>\n",
       "    </tr>\n",
       "    <tr>\n",
       "      <th>freq</th>\n",
       "      <td>NaN</td>\n",
       "      <td>NaN</td>\n",
       "      <td>32</td>\n",
       "      <td>NaN</td>\n",
       "      <td>5014</td>\n",
       "      <td>5457</td>\n",
       "      <td>NaN</td>\n",
       "      <td>NaN</td>\n",
       "      <td>NaN</td>\n",
       "      <td>NaN</td>\n",
       "      <td>NaN</td>\n",
       "      <td>NaN</td>\n",
       "      <td>NaN</td>\n",
       "      <td>NaN</td>\n",
       "    </tr>\n",
       "    <tr>\n",
       "      <th>mean</th>\n",
       "      <td>5000.50000</td>\n",
       "      <td>1.569094e+07</td>\n",
       "      <td>NaN</td>\n",
       "      <td>650.528800</td>\n",
       "      <td>NaN</td>\n",
       "      <td>NaN</td>\n",
       "      <td>38.921800</td>\n",
       "      <td>4.997690</td>\n",
       "      <td>76485.889288</td>\n",
       "      <td>1.530200</td>\n",
       "      <td>0.70550</td>\n",
       "      <td>0.515100</td>\n",
       "      <td>100090.239881</td>\n",
       "      <td>0.203700</td>\n",
       "    </tr>\n",
       "    <tr>\n",
       "      <th>std</th>\n",
       "      <td>2886.89568</td>\n",
       "      <td>7.193619e+04</td>\n",
       "      <td>NaN</td>\n",
       "      <td>96.653299</td>\n",
       "      <td>NaN</td>\n",
       "      <td>NaN</td>\n",
       "      <td>10.487806</td>\n",
       "      <td>2.894723</td>\n",
       "      <td>62397.405202</td>\n",
       "      <td>0.581654</td>\n",
       "      <td>0.45584</td>\n",
       "      <td>0.499797</td>\n",
       "      <td>57510.492818</td>\n",
       "      <td>0.402769</td>\n",
       "    </tr>\n",
       "    <tr>\n",
       "      <th>min</th>\n",
       "      <td>1.00000</td>\n",
       "      <td>1.556570e+07</td>\n",
       "      <td>NaN</td>\n",
       "      <td>350.000000</td>\n",
       "      <td>NaN</td>\n",
       "      <td>NaN</td>\n",
       "      <td>18.000000</td>\n",
       "      <td>0.000000</td>\n",
       "      <td>0.000000</td>\n",
       "      <td>1.000000</td>\n",
       "      <td>0.00000</td>\n",
       "      <td>0.000000</td>\n",
       "      <td>11.580000</td>\n",
       "      <td>0.000000</td>\n",
       "    </tr>\n",
       "    <tr>\n",
       "      <th>25%</th>\n",
       "      <td>2500.75000</td>\n",
       "      <td>1.562853e+07</td>\n",
       "      <td>NaN</td>\n",
       "      <td>584.000000</td>\n",
       "      <td>NaN</td>\n",
       "      <td>NaN</td>\n",
       "      <td>32.000000</td>\n",
       "      <td>2.000000</td>\n",
       "      <td>0.000000</td>\n",
       "      <td>1.000000</td>\n",
       "      <td>0.00000</td>\n",
       "      <td>0.000000</td>\n",
       "      <td>51002.110000</td>\n",
       "      <td>0.000000</td>\n",
       "    </tr>\n",
       "    <tr>\n",
       "      <th>50%</th>\n",
       "      <td>5000.50000</td>\n",
       "      <td>1.569074e+07</td>\n",
       "      <td>NaN</td>\n",
       "      <td>652.000000</td>\n",
       "      <td>NaN</td>\n",
       "      <td>NaN</td>\n",
       "      <td>37.000000</td>\n",
       "      <td>5.000000</td>\n",
       "      <td>97198.540000</td>\n",
       "      <td>1.000000</td>\n",
       "      <td>1.00000</td>\n",
       "      <td>1.000000</td>\n",
       "      <td>100193.915000</td>\n",
       "      <td>0.000000</td>\n",
       "    </tr>\n",
       "    <tr>\n",
       "      <th>75%</th>\n",
       "      <td>7500.25000</td>\n",
       "      <td>1.575323e+07</td>\n",
       "      <td>NaN</td>\n",
       "      <td>718.000000</td>\n",
       "      <td>NaN</td>\n",
       "      <td>NaN</td>\n",
       "      <td>44.000000</td>\n",
       "      <td>7.000000</td>\n",
       "      <td>127644.240000</td>\n",
       "      <td>2.000000</td>\n",
       "      <td>1.00000</td>\n",
       "      <td>1.000000</td>\n",
       "      <td>149388.247500</td>\n",
       "      <td>0.000000</td>\n",
       "    </tr>\n",
       "    <tr>\n",
       "      <th>max</th>\n",
       "      <td>10000.00000</td>\n",
       "      <td>1.581569e+07</td>\n",
       "      <td>NaN</td>\n",
       "      <td>850.000000</td>\n",
       "      <td>NaN</td>\n",
       "      <td>NaN</td>\n",
       "      <td>92.000000</td>\n",
       "      <td>10.000000</td>\n",
       "      <td>250898.090000</td>\n",
       "      <td>4.000000</td>\n",
       "      <td>1.00000</td>\n",
       "      <td>1.000000</td>\n",
       "      <td>199992.480000</td>\n",
       "      <td>1.000000</td>\n",
       "    </tr>\n",
       "  </tbody>\n",
       "</table>\n",
       "</div>"
      ],
      "text/plain": [
       "          RowNumber    CustomerId Surname   CreditScore Geography Gender  \\\n",
       "count   10000.00000  1.000000e+04   10000  10000.000000     10000  10000   \n",
       "unique          NaN           NaN    2932           NaN         3      2   \n",
       "top             NaN           NaN   Smith           NaN    France   Male   \n",
       "freq            NaN           NaN      32           NaN      5014   5457   \n",
       "mean     5000.50000  1.569094e+07     NaN    650.528800       NaN    NaN   \n",
       "std      2886.89568  7.193619e+04     NaN     96.653299       NaN    NaN   \n",
       "min         1.00000  1.556570e+07     NaN    350.000000       NaN    NaN   \n",
       "25%      2500.75000  1.562853e+07     NaN    584.000000       NaN    NaN   \n",
       "50%      5000.50000  1.569074e+07     NaN    652.000000       NaN    NaN   \n",
       "75%      7500.25000  1.575323e+07     NaN    718.000000       NaN    NaN   \n",
       "max     10000.00000  1.581569e+07     NaN    850.000000       NaN    NaN   \n",
       "\n",
       "                 Age       Tenure        Balance  NumOfProducts    HasCrCard  \\\n",
       "count   10000.000000  9091.000000   10000.000000   10000.000000  10000.00000   \n",
       "unique           NaN          NaN            NaN            NaN          NaN   \n",
       "top              NaN          NaN            NaN            NaN          NaN   \n",
       "freq             NaN          NaN            NaN            NaN          NaN   \n",
       "mean       38.921800     4.997690   76485.889288       1.530200      0.70550   \n",
       "std        10.487806     2.894723   62397.405202       0.581654      0.45584   \n",
       "min        18.000000     0.000000       0.000000       1.000000      0.00000   \n",
       "25%        32.000000     2.000000       0.000000       1.000000      0.00000   \n",
       "50%        37.000000     5.000000   97198.540000       1.000000      1.00000   \n",
       "75%        44.000000     7.000000  127644.240000       2.000000      1.00000   \n",
       "max        92.000000    10.000000  250898.090000       4.000000      1.00000   \n",
       "\n",
       "        IsActiveMember  EstimatedSalary        Exited  \n",
       "count     10000.000000     10000.000000  10000.000000  \n",
       "unique             NaN              NaN           NaN  \n",
       "top                NaN              NaN           NaN  \n",
       "freq               NaN              NaN           NaN  \n",
       "mean          0.515100    100090.239881      0.203700  \n",
       "std           0.499797     57510.492818      0.402769  \n",
       "min           0.000000        11.580000      0.000000  \n",
       "25%           0.000000     51002.110000      0.000000  \n",
       "50%           1.000000    100193.915000      0.000000  \n",
       "75%           1.000000    149388.247500      0.000000  \n",
       "max           1.000000    199992.480000      1.000000  "
      ]
     },
     "execution_count": 6,
     "metadata": {},
     "output_type": "execute_result"
    }
   ],
   "source": [
    "#Выводим числовое описание данных всех столбцов для ознакомления\n",
    "df.describe(include='all')"
   ]
  },
  {
   "cell_type": "code",
   "execution_count": 7,
   "metadata": {
    "scrolled": true
   },
   "outputs": [
    {
     "data": {
      "text/html": [
       "<style type=\"text/css\">\n",
       "#T_b91d3_row0_col0, #T_b91d3_row1_col0, #T_b91d3_row2_col0, #T_b91d3_row3_col0, #T_b91d3_row4_col0, #T_b91d3_row5_col0, #T_b91d3_row6_col0, #T_b91d3_row8_col0, #T_b91d3_row9_col0, #T_b91d3_row10_col0, #T_b91d3_row11_col0, #T_b91d3_row12_col0, #T_b91d3_row13_col0 {\n",
       "  background-color: #3b4cc0;\n",
       "  color: #f1f1f1;\n",
       "}\n",
       "#T_b91d3_row7_col0 {\n",
       "  background-color: #b40426;\n",
       "  color: #f1f1f1;\n",
       "}\n",
       "</style>\n",
       "<table id=\"T_b91d3\">\n",
       "  <thead>\n",
       "    <tr>\n",
       "      <th class=\"blank level0\" >&nbsp;</th>\n",
       "      <th id=\"T_b91d3_level0_col0\" class=\"col_heading level0 col0\" >0</th>\n",
       "    </tr>\n",
       "  </thead>\n",
       "  <tbody>\n",
       "    <tr>\n",
       "      <th id=\"T_b91d3_level0_row0\" class=\"row_heading level0 row0\" >RowNumber</th>\n",
       "      <td id=\"T_b91d3_row0_col0\" class=\"data row0 col0\" >0.000000</td>\n",
       "    </tr>\n",
       "    <tr>\n",
       "      <th id=\"T_b91d3_level0_row1\" class=\"row_heading level0 row1\" >CustomerId</th>\n",
       "      <td id=\"T_b91d3_row1_col0\" class=\"data row1 col0\" >0.000000</td>\n",
       "    </tr>\n",
       "    <tr>\n",
       "      <th id=\"T_b91d3_level0_row2\" class=\"row_heading level0 row2\" >Surname</th>\n",
       "      <td id=\"T_b91d3_row2_col0\" class=\"data row2 col0\" >0.000000</td>\n",
       "    </tr>\n",
       "    <tr>\n",
       "      <th id=\"T_b91d3_level0_row3\" class=\"row_heading level0 row3\" >CreditScore</th>\n",
       "      <td id=\"T_b91d3_row3_col0\" class=\"data row3 col0\" >0.000000</td>\n",
       "    </tr>\n",
       "    <tr>\n",
       "      <th id=\"T_b91d3_level0_row4\" class=\"row_heading level0 row4\" >Geography</th>\n",
       "      <td id=\"T_b91d3_row4_col0\" class=\"data row4 col0\" >0.000000</td>\n",
       "    </tr>\n",
       "    <tr>\n",
       "      <th id=\"T_b91d3_level0_row5\" class=\"row_heading level0 row5\" >Gender</th>\n",
       "      <td id=\"T_b91d3_row5_col0\" class=\"data row5 col0\" >0.000000</td>\n",
       "    </tr>\n",
       "    <tr>\n",
       "      <th id=\"T_b91d3_level0_row6\" class=\"row_heading level0 row6\" >Age</th>\n",
       "      <td id=\"T_b91d3_row6_col0\" class=\"data row6 col0\" >0.000000</td>\n",
       "    </tr>\n",
       "    <tr>\n",
       "      <th id=\"T_b91d3_level0_row7\" class=\"row_heading level0 row7\" >Tenure</th>\n",
       "      <td id=\"T_b91d3_row7_col0\" class=\"data row7 col0\" >0.090900</td>\n",
       "    </tr>\n",
       "    <tr>\n",
       "      <th id=\"T_b91d3_level0_row8\" class=\"row_heading level0 row8\" >Balance</th>\n",
       "      <td id=\"T_b91d3_row8_col0\" class=\"data row8 col0\" >0.000000</td>\n",
       "    </tr>\n",
       "    <tr>\n",
       "      <th id=\"T_b91d3_level0_row9\" class=\"row_heading level0 row9\" >NumOfProducts</th>\n",
       "      <td id=\"T_b91d3_row9_col0\" class=\"data row9 col0\" >0.000000</td>\n",
       "    </tr>\n",
       "    <tr>\n",
       "      <th id=\"T_b91d3_level0_row10\" class=\"row_heading level0 row10\" >HasCrCard</th>\n",
       "      <td id=\"T_b91d3_row10_col0\" class=\"data row10 col0\" >0.000000</td>\n",
       "    </tr>\n",
       "    <tr>\n",
       "      <th id=\"T_b91d3_level0_row11\" class=\"row_heading level0 row11\" >IsActiveMember</th>\n",
       "      <td id=\"T_b91d3_row11_col0\" class=\"data row11 col0\" >0.000000</td>\n",
       "    </tr>\n",
       "    <tr>\n",
       "      <th id=\"T_b91d3_level0_row12\" class=\"row_heading level0 row12\" >EstimatedSalary</th>\n",
       "      <td id=\"T_b91d3_row12_col0\" class=\"data row12 col0\" >0.000000</td>\n",
       "    </tr>\n",
       "    <tr>\n",
       "      <th id=\"T_b91d3_level0_row13\" class=\"row_heading level0 row13\" >Exited</th>\n",
       "      <td id=\"T_b91d3_row13_col0\" class=\"data row13 col0\" >0.000000</td>\n",
       "    </tr>\n",
       "  </tbody>\n",
       "</table>\n"
      ],
      "text/plain": [
       "<pandas.io.formats.style.Styler at 0x15c2a130>"
      ]
     },
     "execution_count": 7,
     "metadata": {},
     "output_type": "execute_result"
    }
   ],
   "source": [
    "#Выводим количество пропусков\n",
    "pd.DataFrame(df.isna().mean()).style.background_gradient('coolwarm')"
   ]
  },
  {
   "cell_type": "code",
   "execution_count": 8,
   "metadata": {},
   "outputs": [
    {
     "data": {
      "text/plain": [
       "array([ 2.,  1.,  8.,  7.,  4.,  6.,  3., 10.,  5.,  9.,  0., nan])"
      ]
     },
     "execution_count": 8,
     "metadata": {},
     "output_type": "execute_result"
    }
   ],
   "source": [
    "#Выводим уникальные значения столбца 'Tenure'\n",
    "df['Tenure'].unique()"
   ]
  },
  {
   "cell_type": "code",
   "execution_count": 9,
   "metadata": {},
   "outputs": [
    {
     "name": "stdout",
     "output_type": "stream",
     "text": [
      "1.0     952\n",
      "2.0     950\n",
      "8.0     933\n",
      "3.0     928\n",
      "5.0     927\n",
      "7.0     925\n",
      "4.0     885\n",
      "9.0     882\n",
      "6.0     881\n",
      "10.0    446\n",
      "0.0     382\n",
      "Name: Tenure, dtype: int64\n",
      "909\n"
     ]
    }
   ],
   "source": [
    "#Выводим количество уникальных значений столбца 'Tenure'\n",
    "print(df['Tenure'].value_counts())\n",
    "print(df['Tenure'].isna().sum())"
   ]
  },
  {
   "cell_type": "code",
   "execution_count": 10,
   "metadata": {},
   "outputs": [],
   "source": [
    "#Заменяем пустые значения в столбце 'Tenure' на 'Неизвестно'\n",
    "df.loc[df['Tenure'].isna(), 'Tenure'] = 'Неизвестно'"
   ]
  },
  {
   "cell_type": "code",
   "execution_count": 11,
   "metadata": {},
   "outputs": [
    {
     "name": "stdout",
     "output_type": "stream",
     "text": [
      "<class 'pandas.core.frame.DataFrame'>\n",
      "RangeIndex: 10000 entries, 0 to 9999\n",
      "Data columns (total 14 columns):\n",
      " #   Column           Non-Null Count  Dtype  \n",
      "---  ------           --------------  -----  \n",
      " 0   RowNumber        10000 non-null  int64  \n",
      " 1   CustomerId       10000 non-null  int64  \n",
      " 2   Surname          10000 non-null  object \n",
      " 3   CreditScore      10000 non-null  int64  \n",
      " 4   Geography        10000 non-null  object \n",
      " 5   Gender           10000 non-null  object \n",
      " 6   Age              10000 non-null  int64  \n",
      " 7   Tenure           10000 non-null  object \n",
      " 8   Balance          10000 non-null  float64\n",
      " 9   NumOfProducts    10000 non-null  int64  \n",
      " 10  HasCrCard        10000 non-null  int64  \n",
      " 11  IsActiveMember   10000 non-null  int64  \n",
      " 12  EstimatedSalary  10000 non-null  float64\n",
      " 13  Exited           10000 non-null  int64  \n",
      "dtypes: float64(2), int64(8), object(4)\n",
      "memory usage: 1.1+ MB\n"
     ]
    }
   ],
   "source": [
    "#Проверяем\n",
    "df.info()"
   ]
  },
  {
   "cell_type": "markdown",
   "metadata": {},
   "source": [
    "### Применим прямое кодирование техникой OHE"
   ]
  },
  {
   "cell_type": "code",
   "execution_count": 12,
   "metadata": {},
   "outputs": [],
   "source": [
    "#Сначала уберём ненужные признаки\n",
    "df_ohe = df.drop(['RowNumber', 'CustomerId', 'Surname'], axis=1)"
   ]
  },
  {
   "cell_type": "code",
   "execution_count": 13,
   "metadata": {
    "scrolled": true
   },
   "outputs": [
    {
     "data": {
      "text/html": [
       "<div>\n",
       "<style scoped>\n",
       "    .dataframe tbody tr th:only-of-type {\n",
       "        vertical-align: middle;\n",
       "    }\n",
       "\n",
       "    .dataframe tbody tr th {\n",
       "        vertical-align: top;\n",
       "    }\n",
       "\n",
       "    .dataframe thead th {\n",
       "        text-align: right;\n",
       "    }\n",
       "</style>\n",
       "<table border=\"1\" class=\"dataframe\">\n",
       "  <thead>\n",
       "    <tr style=\"text-align: right;\">\n",
       "      <th></th>\n",
       "      <th>CreditScore</th>\n",
       "      <th>Geography</th>\n",
       "      <th>Gender</th>\n",
       "      <th>Age</th>\n",
       "      <th>Tenure</th>\n",
       "      <th>Balance</th>\n",
       "      <th>NumOfProducts</th>\n",
       "      <th>HasCrCard</th>\n",
       "      <th>IsActiveMember</th>\n",
       "      <th>EstimatedSalary</th>\n",
       "      <th>Exited</th>\n",
       "    </tr>\n",
       "  </thead>\n",
       "  <tbody>\n",
       "    <tr>\n",
       "      <th>0</th>\n",
       "      <td>619</td>\n",
       "      <td>France</td>\n",
       "      <td>Female</td>\n",
       "      <td>42</td>\n",
       "      <td>2.0</td>\n",
       "      <td>0.00</td>\n",
       "      <td>1</td>\n",
       "      <td>1</td>\n",
       "      <td>1</td>\n",
       "      <td>101348.88</td>\n",
       "      <td>1</td>\n",
       "    </tr>\n",
       "    <tr>\n",
       "      <th>1</th>\n",
       "      <td>608</td>\n",
       "      <td>Spain</td>\n",
       "      <td>Female</td>\n",
       "      <td>41</td>\n",
       "      <td>1.0</td>\n",
       "      <td>83807.86</td>\n",
       "      <td>1</td>\n",
       "      <td>0</td>\n",
       "      <td>1</td>\n",
       "      <td>112542.58</td>\n",
       "      <td>0</td>\n",
       "    </tr>\n",
       "    <tr>\n",
       "      <th>2</th>\n",
       "      <td>502</td>\n",
       "      <td>France</td>\n",
       "      <td>Female</td>\n",
       "      <td>42</td>\n",
       "      <td>8.0</td>\n",
       "      <td>159660.80</td>\n",
       "      <td>3</td>\n",
       "      <td>1</td>\n",
       "      <td>0</td>\n",
       "      <td>113931.57</td>\n",
       "      <td>1</td>\n",
       "    </tr>\n",
       "    <tr>\n",
       "      <th>3</th>\n",
       "      <td>699</td>\n",
       "      <td>France</td>\n",
       "      <td>Female</td>\n",
       "      <td>39</td>\n",
       "      <td>1.0</td>\n",
       "      <td>0.00</td>\n",
       "      <td>2</td>\n",
       "      <td>0</td>\n",
       "      <td>0</td>\n",
       "      <td>93826.63</td>\n",
       "      <td>0</td>\n",
       "    </tr>\n",
       "    <tr>\n",
       "      <th>4</th>\n",
       "      <td>850</td>\n",
       "      <td>Spain</td>\n",
       "      <td>Female</td>\n",
       "      <td>43</td>\n",
       "      <td>2.0</td>\n",
       "      <td>125510.82</td>\n",
       "      <td>1</td>\n",
       "      <td>1</td>\n",
       "      <td>1</td>\n",
       "      <td>79084.10</td>\n",
       "      <td>0</td>\n",
       "    </tr>\n",
       "    <tr>\n",
       "      <th>...</th>\n",
       "      <td>...</td>\n",
       "      <td>...</td>\n",
       "      <td>...</td>\n",
       "      <td>...</td>\n",
       "      <td>...</td>\n",
       "      <td>...</td>\n",
       "      <td>...</td>\n",
       "      <td>...</td>\n",
       "      <td>...</td>\n",
       "      <td>...</td>\n",
       "      <td>...</td>\n",
       "    </tr>\n",
       "    <tr>\n",
       "      <th>9995</th>\n",
       "      <td>771</td>\n",
       "      <td>France</td>\n",
       "      <td>Male</td>\n",
       "      <td>39</td>\n",
       "      <td>5.0</td>\n",
       "      <td>0.00</td>\n",
       "      <td>2</td>\n",
       "      <td>1</td>\n",
       "      <td>0</td>\n",
       "      <td>96270.64</td>\n",
       "      <td>0</td>\n",
       "    </tr>\n",
       "    <tr>\n",
       "      <th>9996</th>\n",
       "      <td>516</td>\n",
       "      <td>France</td>\n",
       "      <td>Male</td>\n",
       "      <td>35</td>\n",
       "      <td>10.0</td>\n",
       "      <td>57369.61</td>\n",
       "      <td>1</td>\n",
       "      <td>1</td>\n",
       "      <td>1</td>\n",
       "      <td>101699.77</td>\n",
       "      <td>0</td>\n",
       "    </tr>\n",
       "    <tr>\n",
       "      <th>9997</th>\n",
       "      <td>709</td>\n",
       "      <td>France</td>\n",
       "      <td>Female</td>\n",
       "      <td>36</td>\n",
       "      <td>7.0</td>\n",
       "      <td>0.00</td>\n",
       "      <td>1</td>\n",
       "      <td>0</td>\n",
       "      <td>1</td>\n",
       "      <td>42085.58</td>\n",
       "      <td>1</td>\n",
       "    </tr>\n",
       "    <tr>\n",
       "      <th>9998</th>\n",
       "      <td>772</td>\n",
       "      <td>Germany</td>\n",
       "      <td>Male</td>\n",
       "      <td>42</td>\n",
       "      <td>3.0</td>\n",
       "      <td>75075.31</td>\n",
       "      <td>2</td>\n",
       "      <td>1</td>\n",
       "      <td>0</td>\n",
       "      <td>92888.52</td>\n",
       "      <td>1</td>\n",
       "    </tr>\n",
       "    <tr>\n",
       "      <th>9999</th>\n",
       "      <td>792</td>\n",
       "      <td>France</td>\n",
       "      <td>Female</td>\n",
       "      <td>28</td>\n",
       "      <td>Неизвестно</td>\n",
       "      <td>130142.79</td>\n",
       "      <td>1</td>\n",
       "      <td>1</td>\n",
       "      <td>0</td>\n",
       "      <td>38190.78</td>\n",
       "      <td>0</td>\n",
       "    </tr>\n",
       "  </tbody>\n",
       "</table>\n",
       "<p>10000 rows × 11 columns</p>\n",
       "</div>"
      ],
      "text/plain": [
       "      CreditScore Geography  Gender  Age      Tenure    Balance  \\\n",
       "0             619    France  Female   42         2.0       0.00   \n",
       "1             608     Spain  Female   41         1.0   83807.86   \n",
       "2             502    France  Female   42         8.0  159660.80   \n",
       "3             699    France  Female   39         1.0       0.00   \n",
       "4             850     Spain  Female   43         2.0  125510.82   \n",
       "...           ...       ...     ...  ...         ...        ...   \n",
       "9995          771    France    Male   39         5.0       0.00   \n",
       "9996          516    France    Male   35        10.0   57369.61   \n",
       "9997          709    France  Female   36         7.0       0.00   \n",
       "9998          772   Germany    Male   42         3.0   75075.31   \n",
       "9999          792    France  Female   28  Неизвестно  130142.79   \n",
       "\n",
       "      NumOfProducts  HasCrCard  IsActiveMember  EstimatedSalary  Exited  \n",
       "0                 1          1               1        101348.88       1  \n",
       "1                 1          0               1        112542.58       0  \n",
       "2                 3          1               0        113931.57       1  \n",
       "3                 2          0               0         93826.63       0  \n",
       "4                 1          1               1         79084.10       0  \n",
       "...             ...        ...             ...              ...     ...  \n",
       "9995              2          1               0         96270.64       0  \n",
       "9996              1          1               1        101699.77       0  \n",
       "9997              1          0               1         42085.58       1  \n",
       "9998              2          1               0         92888.52       1  \n",
       "9999              1          1               0         38190.78       0  \n",
       "\n",
       "[10000 rows x 11 columns]"
      ]
     },
     "execution_count": 13,
     "metadata": {},
     "output_type": "execute_result"
    }
   ],
   "source": [
    "#Выводим датасет для проверки\n",
    "df_ohe"
   ]
  },
  {
   "cell_type": "code",
   "execution_count": 14,
   "metadata": {},
   "outputs": [],
   "source": [
    "#Применяем прямое кодирование OHE\n",
    "df_ohe = pd.get_dummies(df_ohe, drop_first=True)"
   ]
  },
  {
   "cell_type": "code",
   "execution_count": 15,
   "metadata": {
    "scrolled": true
   },
   "outputs": [
    {
     "data": {
      "text/html": [
       "<div>\n",
       "<style scoped>\n",
       "    .dataframe tbody tr th:only-of-type {\n",
       "        vertical-align: middle;\n",
       "    }\n",
       "\n",
       "    .dataframe tbody tr th {\n",
       "        vertical-align: top;\n",
       "    }\n",
       "\n",
       "    .dataframe thead th {\n",
       "        text-align: right;\n",
       "    }\n",
       "</style>\n",
       "<table border=\"1\" class=\"dataframe\">\n",
       "  <thead>\n",
       "    <tr style=\"text-align: right;\">\n",
       "      <th></th>\n",
       "      <th>CreditScore</th>\n",
       "      <th>Age</th>\n",
       "      <th>Balance</th>\n",
       "      <th>NumOfProducts</th>\n",
       "      <th>HasCrCard</th>\n",
       "      <th>IsActiveMember</th>\n",
       "      <th>EstimatedSalary</th>\n",
       "      <th>Exited</th>\n",
       "      <th>Geography_Germany</th>\n",
       "      <th>Geography_Spain</th>\n",
       "      <th>...</th>\n",
       "      <th>Tenure_2.0</th>\n",
       "      <th>Tenure_3.0</th>\n",
       "      <th>Tenure_4.0</th>\n",
       "      <th>Tenure_5.0</th>\n",
       "      <th>Tenure_6.0</th>\n",
       "      <th>Tenure_7.0</th>\n",
       "      <th>Tenure_8.0</th>\n",
       "      <th>Tenure_9.0</th>\n",
       "      <th>Tenure_10.0</th>\n",
       "      <th>Tenure_Неизвестно</th>\n",
       "    </tr>\n",
       "  </thead>\n",
       "  <tbody>\n",
       "    <tr>\n",
       "      <th>0</th>\n",
       "      <td>619</td>\n",
       "      <td>42</td>\n",
       "      <td>0.00</td>\n",
       "      <td>1</td>\n",
       "      <td>1</td>\n",
       "      <td>1</td>\n",
       "      <td>101348.88</td>\n",
       "      <td>1</td>\n",
       "      <td>0</td>\n",
       "      <td>0</td>\n",
       "      <td>...</td>\n",
       "      <td>1</td>\n",
       "      <td>0</td>\n",
       "      <td>0</td>\n",
       "      <td>0</td>\n",
       "      <td>0</td>\n",
       "      <td>0</td>\n",
       "      <td>0</td>\n",
       "      <td>0</td>\n",
       "      <td>0</td>\n",
       "      <td>0</td>\n",
       "    </tr>\n",
       "    <tr>\n",
       "      <th>1</th>\n",
       "      <td>608</td>\n",
       "      <td>41</td>\n",
       "      <td>83807.86</td>\n",
       "      <td>1</td>\n",
       "      <td>0</td>\n",
       "      <td>1</td>\n",
       "      <td>112542.58</td>\n",
       "      <td>0</td>\n",
       "      <td>0</td>\n",
       "      <td>1</td>\n",
       "      <td>...</td>\n",
       "      <td>0</td>\n",
       "      <td>0</td>\n",
       "      <td>0</td>\n",
       "      <td>0</td>\n",
       "      <td>0</td>\n",
       "      <td>0</td>\n",
       "      <td>0</td>\n",
       "      <td>0</td>\n",
       "      <td>0</td>\n",
       "      <td>0</td>\n",
       "    </tr>\n",
       "    <tr>\n",
       "      <th>2</th>\n",
       "      <td>502</td>\n",
       "      <td>42</td>\n",
       "      <td>159660.80</td>\n",
       "      <td>3</td>\n",
       "      <td>1</td>\n",
       "      <td>0</td>\n",
       "      <td>113931.57</td>\n",
       "      <td>1</td>\n",
       "      <td>0</td>\n",
       "      <td>0</td>\n",
       "      <td>...</td>\n",
       "      <td>0</td>\n",
       "      <td>0</td>\n",
       "      <td>0</td>\n",
       "      <td>0</td>\n",
       "      <td>0</td>\n",
       "      <td>0</td>\n",
       "      <td>1</td>\n",
       "      <td>0</td>\n",
       "      <td>0</td>\n",
       "      <td>0</td>\n",
       "    </tr>\n",
       "    <tr>\n",
       "      <th>3</th>\n",
       "      <td>699</td>\n",
       "      <td>39</td>\n",
       "      <td>0.00</td>\n",
       "      <td>2</td>\n",
       "      <td>0</td>\n",
       "      <td>0</td>\n",
       "      <td>93826.63</td>\n",
       "      <td>0</td>\n",
       "      <td>0</td>\n",
       "      <td>0</td>\n",
       "      <td>...</td>\n",
       "      <td>0</td>\n",
       "      <td>0</td>\n",
       "      <td>0</td>\n",
       "      <td>0</td>\n",
       "      <td>0</td>\n",
       "      <td>0</td>\n",
       "      <td>0</td>\n",
       "      <td>0</td>\n",
       "      <td>0</td>\n",
       "      <td>0</td>\n",
       "    </tr>\n",
       "    <tr>\n",
       "      <th>4</th>\n",
       "      <td>850</td>\n",
       "      <td>43</td>\n",
       "      <td>125510.82</td>\n",
       "      <td>1</td>\n",
       "      <td>1</td>\n",
       "      <td>1</td>\n",
       "      <td>79084.10</td>\n",
       "      <td>0</td>\n",
       "      <td>0</td>\n",
       "      <td>1</td>\n",
       "      <td>...</td>\n",
       "      <td>1</td>\n",
       "      <td>0</td>\n",
       "      <td>0</td>\n",
       "      <td>0</td>\n",
       "      <td>0</td>\n",
       "      <td>0</td>\n",
       "      <td>0</td>\n",
       "      <td>0</td>\n",
       "      <td>0</td>\n",
       "      <td>0</td>\n",
       "    </tr>\n",
       "    <tr>\n",
       "      <th>...</th>\n",
       "      <td>...</td>\n",
       "      <td>...</td>\n",
       "      <td>...</td>\n",
       "      <td>...</td>\n",
       "      <td>...</td>\n",
       "      <td>...</td>\n",
       "      <td>...</td>\n",
       "      <td>...</td>\n",
       "      <td>...</td>\n",
       "      <td>...</td>\n",
       "      <td>...</td>\n",
       "      <td>...</td>\n",
       "      <td>...</td>\n",
       "      <td>...</td>\n",
       "      <td>...</td>\n",
       "      <td>...</td>\n",
       "      <td>...</td>\n",
       "      <td>...</td>\n",
       "      <td>...</td>\n",
       "      <td>...</td>\n",
       "      <td>...</td>\n",
       "    </tr>\n",
       "    <tr>\n",
       "      <th>9995</th>\n",
       "      <td>771</td>\n",
       "      <td>39</td>\n",
       "      <td>0.00</td>\n",
       "      <td>2</td>\n",
       "      <td>1</td>\n",
       "      <td>0</td>\n",
       "      <td>96270.64</td>\n",
       "      <td>0</td>\n",
       "      <td>0</td>\n",
       "      <td>0</td>\n",
       "      <td>...</td>\n",
       "      <td>0</td>\n",
       "      <td>0</td>\n",
       "      <td>0</td>\n",
       "      <td>1</td>\n",
       "      <td>0</td>\n",
       "      <td>0</td>\n",
       "      <td>0</td>\n",
       "      <td>0</td>\n",
       "      <td>0</td>\n",
       "      <td>0</td>\n",
       "    </tr>\n",
       "    <tr>\n",
       "      <th>9996</th>\n",
       "      <td>516</td>\n",
       "      <td>35</td>\n",
       "      <td>57369.61</td>\n",
       "      <td>1</td>\n",
       "      <td>1</td>\n",
       "      <td>1</td>\n",
       "      <td>101699.77</td>\n",
       "      <td>0</td>\n",
       "      <td>0</td>\n",
       "      <td>0</td>\n",
       "      <td>...</td>\n",
       "      <td>0</td>\n",
       "      <td>0</td>\n",
       "      <td>0</td>\n",
       "      <td>0</td>\n",
       "      <td>0</td>\n",
       "      <td>0</td>\n",
       "      <td>0</td>\n",
       "      <td>0</td>\n",
       "      <td>1</td>\n",
       "      <td>0</td>\n",
       "    </tr>\n",
       "    <tr>\n",
       "      <th>9997</th>\n",
       "      <td>709</td>\n",
       "      <td>36</td>\n",
       "      <td>0.00</td>\n",
       "      <td>1</td>\n",
       "      <td>0</td>\n",
       "      <td>1</td>\n",
       "      <td>42085.58</td>\n",
       "      <td>1</td>\n",
       "      <td>0</td>\n",
       "      <td>0</td>\n",
       "      <td>...</td>\n",
       "      <td>0</td>\n",
       "      <td>0</td>\n",
       "      <td>0</td>\n",
       "      <td>0</td>\n",
       "      <td>0</td>\n",
       "      <td>1</td>\n",
       "      <td>0</td>\n",
       "      <td>0</td>\n",
       "      <td>0</td>\n",
       "      <td>0</td>\n",
       "    </tr>\n",
       "    <tr>\n",
       "      <th>9998</th>\n",
       "      <td>772</td>\n",
       "      <td>42</td>\n",
       "      <td>75075.31</td>\n",
       "      <td>2</td>\n",
       "      <td>1</td>\n",
       "      <td>0</td>\n",
       "      <td>92888.52</td>\n",
       "      <td>1</td>\n",
       "      <td>1</td>\n",
       "      <td>0</td>\n",
       "      <td>...</td>\n",
       "      <td>0</td>\n",
       "      <td>1</td>\n",
       "      <td>0</td>\n",
       "      <td>0</td>\n",
       "      <td>0</td>\n",
       "      <td>0</td>\n",
       "      <td>0</td>\n",
       "      <td>0</td>\n",
       "      <td>0</td>\n",
       "      <td>0</td>\n",
       "    </tr>\n",
       "    <tr>\n",
       "      <th>9999</th>\n",
       "      <td>792</td>\n",
       "      <td>28</td>\n",
       "      <td>130142.79</td>\n",
       "      <td>1</td>\n",
       "      <td>1</td>\n",
       "      <td>0</td>\n",
       "      <td>38190.78</td>\n",
       "      <td>0</td>\n",
       "      <td>0</td>\n",
       "      <td>0</td>\n",
       "      <td>...</td>\n",
       "      <td>0</td>\n",
       "      <td>0</td>\n",
       "      <td>0</td>\n",
       "      <td>0</td>\n",
       "      <td>0</td>\n",
       "      <td>0</td>\n",
       "      <td>0</td>\n",
       "      <td>0</td>\n",
       "      <td>0</td>\n",
       "      <td>1</td>\n",
       "    </tr>\n",
       "  </tbody>\n",
       "</table>\n",
       "<p>10000 rows × 22 columns</p>\n",
       "</div>"
      ],
      "text/plain": [
       "      CreditScore  Age    Balance  NumOfProducts  HasCrCard  IsActiveMember  \\\n",
       "0             619   42       0.00              1          1               1   \n",
       "1             608   41   83807.86              1          0               1   \n",
       "2             502   42  159660.80              3          1               0   \n",
       "3             699   39       0.00              2          0               0   \n",
       "4             850   43  125510.82              1          1               1   \n",
       "...           ...  ...        ...            ...        ...             ...   \n",
       "9995          771   39       0.00              2          1               0   \n",
       "9996          516   35   57369.61              1          1               1   \n",
       "9997          709   36       0.00              1          0               1   \n",
       "9998          772   42   75075.31              2          1               0   \n",
       "9999          792   28  130142.79              1          1               0   \n",
       "\n",
       "      EstimatedSalary  Exited  Geography_Germany  Geography_Spain  ...  \\\n",
       "0           101348.88       1                  0                0  ...   \n",
       "1           112542.58       0                  0                1  ...   \n",
       "2           113931.57       1                  0                0  ...   \n",
       "3            93826.63       0                  0                0  ...   \n",
       "4            79084.10       0                  0                1  ...   \n",
       "...               ...     ...                ...              ...  ...   \n",
       "9995         96270.64       0                  0                0  ...   \n",
       "9996        101699.77       0                  0                0  ...   \n",
       "9997         42085.58       1                  0                0  ...   \n",
       "9998         92888.52       1                  1                0  ...   \n",
       "9999         38190.78       0                  0                0  ...   \n",
       "\n",
       "      Tenure_2.0  Tenure_3.0  Tenure_4.0  Tenure_5.0  Tenure_6.0  Tenure_7.0  \\\n",
       "0              1           0           0           0           0           0   \n",
       "1              0           0           0           0           0           0   \n",
       "2              0           0           0           0           0           0   \n",
       "3              0           0           0           0           0           0   \n",
       "4              1           0           0           0           0           0   \n",
       "...          ...         ...         ...         ...         ...         ...   \n",
       "9995           0           0           0           1           0           0   \n",
       "9996           0           0           0           0           0           0   \n",
       "9997           0           0           0           0           0           1   \n",
       "9998           0           1           0           0           0           0   \n",
       "9999           0           0           0           0           0           0   \n",
       "\n",
       "      Tenure_8.0  Tenure_9.0  Tenure_10.0  Tenure_Неизвестно  \n",
       "0              0           0            0                  0  \n",
       "1              0           0            0                  0  \n",
       "2              1           0            0                  0  \n",
       "3              0           0            0                  0  \n",
       "4              0           0            0                  0  \n",
       "...          ...         ...          ...                ...  \n",
       "9995           0           0            0                  0  \n",
       "9996           0           0            1                  0  \n",
       "9997           0           0            0                  0  \n",
       "9998           0           0            0                  0  \n",
       "9999           0           0            0                  1  \n",
       "\n",
       "[10000 rows x 22 columns]"
      ]
     },
     "execution_count": 15,
     "metadata": {},
     "output_type": "execute_result"
    }
   ],
   "source": [
    "#Выводим датасет для проверки\n",
    "df_ohe"
   ]
  },
  {
   "cell_type": "code",
   "execution_count": 16,
   "metadata": {},
   "outputs": [],
   "source": [
    "#Выделяем признаки и целевой признак\n",
    "target = df_ohe['Exited']\n",
    "features = df_ohe.drop(['Exited'], axis=1)"
   ]
  },
  {
   "cell_type": "code",
   "execution_count": 17,
   "metadata": {},
   "outputs": [
    {
     "data": {
      "text/plain": [
       "array([1, 0], dtype=int64)"
      ]
     },
     "execution_count": 17,
     "metadata": {},
     "output_type": "execute_result"
    }
   ],
   "source": [
    "#Выводим уникальные значения столбца 'target'\n",
    "target.unique()"
   ]
  },
  {
   "cell_type": "code",
   "execution_count": 18,
   "metadata": {},
   "outputs": [],
   "source": [
    "#Разделим датасет на две выборки: обучающую размером 60% и остальную размером 40% \n",
    "features_train, features_40, target_train, target_40 = train_test_split(features, target, test_size=0.4, random_state=12345) "
   ]
  },
  {
   "cell_type": "code",
   "execution_count": 19,
   "metadata": {},
   "outputs": [
    {
     "name": "stdout",
     "output_type": "stream",
     "text": [
      "(6000, 21)\n",
      "(6000,)\n"
     ]
    }
   ],
   "source": [
    "#Выводим размер обчающей выборки\n",
    "print(features_train.shape)\n",
    "print(target_train.shape)"
   ]
  },
  {
   "cell_type": "code",
   "execution_count": 20,
   "metadata": {},
   "outputs": [],
   "source": [
    "#Выделяем валидационную и тестовую выборки из выборки в 40% путём деления этой выборки на 2\n",
    "features_valid, features_test, target_valid, target_test = train_test_split(features_40, target_40, test_size=0.5, random_state=12345) "
   ]
  },
  {
   "cell_type": "code",
   "execution_count": 21,
   "metadata": {},
   "outputs": [
    {
     "name": "stdout",
     "output_type": "stream",
     "text": [
      "(2000, 21)\n",
      "(2000,)\n"
     ]
    }
   ],
   "source": [
    "#Выводим размер валидационной выборки\n",
    "print(features_valid.shape)\n",
    "print(target_valid.shape)"
   ]
  },
  {
   "cell_type": "code",
   "execution_count": 22,
   "metadata": {},
   "outputs": [
    {
     "name": "stdout",
     "output_type": "stream",
     "text": [
      "(2000, 21)\n",
      "(2000,)\n"
     ]
    }
   ],
   "source": [
    "#Выводим размеры тестовой выборки\n",
    "print(features_test.shape)\n",
    "print(target_test.shape)"
   ]
  },
  {
   "cell_type": "code",
   "execution_count": 23,
   "metadata": {
    "scrolled": true
   },
   "outputs": [
    {
     "name": "stdout",
     "output_type": "stream",
     "text": [
      "0.6\n",
      "0.2\n",
      "0.2\n"
     ]
    }
   ],
   "source": [
    "#Выведем доли от датасета для обучающей, валидационной и тестовой выборки для проверки\n",
    "print(len(features_train)/len(df))\n",
    "print(len(features_valid)/len(df))\n",
    "print(len(features_test)/len(df))"
   ]
  },
  {
   "cell_type": "markdown",
   "metadata": {},
   "source": [
    "Разделение датасета на выборки прошло корректно"
   ]
  },
  {
   "cell_type": "markdown",
   "metadata": {},
   "source": [
    "### Стандартизируем численные признаки"
   ]
  },
  {
   "cell_type": "code",
   "execution_count": 24,
   "metadata": {},
   "outputs": [],
   "source": [
    "#Создадим список численных признаков\n",
    "numeric = ['CreditScore', 'Age', 'Balance', 'NumOfProducts', 'EstimatedSalary']"
   ]
  },
  {
   "cell_type": "code",
   "execution_count": 25,
   "metadata": {},
   "outputs": [
    {
     "data": {
      "text/html": [
       "<style>#sk-container-id-1 {color: black;background-color: white;}#sk-container-id-1 pre{padding: 0;}#sk-container-id-1 div.sk-toggleable {background-color: white;}#sk-container-id-1 label.sk-toggleable__label {cursor: pointer;display: block;width: 100%;margin-bottom: 0;padding: 0.3em;box-sizing: border-box;text-align: center;}#sk-container-id-1 label.sk-toggleable__label-arrow:before {content: \"▸\";float: left;margin-right: 0.25em;color: #696969;}#sk-container-id-1 label.sk-toggleable__label-arrow:hover:before {color: black;}#sk-container-id-1 div.sk-estimator:hover label.sk-toggleable__label-arrow:before {color: black;}#sk-container-id-1 div.sk-toggleable__content {max-height: 0;max-width: 0;overflow: hidden;text-align: left;background-color: #f0f8ff;}#sk-container-id-1 div.sk-toggleable__content pre {margin: 0.2em;color: black;border-radius: 0.25em;background-color: #f0f8ff;}#sk-container-id-1 input.sk-toggleable__control:checked~div.sk-toggleable__content {max-height: 200px;max-width: 100%;overflow: auto;}#sk-container-id-1 input.sk-toggleable__control:checked~label.sk-toggleable__label-arrow:before {content: \"▾\";}#sk-container-id-1 div.sk-estimator input.sk-toggleable__control:checked~label.sk-toggleable__label {background-color: #d4ebff;}#sk-container-id-1 div.sk-label input.sk-toggleable__control:checked~label.sk-toggleable__label {background-color: #d4ebff;}#sk-container-id-1 input.sk-hidden--visually {border: 0;clip: rect(1px 1px 1px 1px);clip: rect(1px, 1px, 1px, 1px);height: 1px;margin: -1px;overflow: hidden;padding: 0;position: absolute;width: 1px;}#sk-container-id-1 div.sk-estimator {font-family: monospace;background-color: #f0f8ff;border: 1px dotted black;border-radius: 0.25em;box-sizing: border-box;margin-bottom: 0.5em;}#sk-container-id-1 div.sk-estimator:hover {background-color: #d4ebff;}#sk-container-id-1 div.sk-parallel-item::after {content: \"\";width: 100%;border-bottom: 1px solid gray;flex-grow: 1;}#sk-container-id-1 div.sk-label:hover label.sk-toggleable__label {background-color: #d4ebff;}#sk-container-id-1 div.sk-serial::before {content: \"\";position: absolute;border-left: 1px solid gray;box-sizing: border-box;top: 0;bottom: 0;left: 50%;z-index: 0;}#sk-container-id-1 div.sk-serial {display: flex;flex-direction: column;align-items: center;background-color: white;padding-right: 0.2em;padding-left: 0.2em;position: relative;}#sk-container-id-1 div.sk-item {position: relative;z-index: 1;}#sk-container-id-1 div.sk-parallel {display: flex;align-items: stretch;justify-content: center;background-color: white;position: relative;}#sk-container-id-1 div.sk-item::before, #sk-container-id-1 div.sk-parallel-item::before {content: \"\";position: absolute;border-left: 1px solid gray;box-sizing: border-box;top: 0;bottom: 0;left: 50%;z-index: -1;}#sk-container-id-1 div.sk-parallel-item {display: flex;flex-direction: column;z-index: 1;position: relative;background-color: white;}#sk-container-id-1 div.sk-parallel-item:first-child::after {align-self: flex-end;width: 50%;}#sk-container-id-1 div.sk-parallel-item:last-child::after {align-self: flex-start;width: 50%;}#sk-container-id-1 div.sk-parallel-item:only-child::after {width: 0;}#sk-container-id-1 div.sk-dashed-wrapped {border: 1px dashed gray;margin: 0 0.4em 0.5em 0.4em;box-sizing: border-box;padding-bottom: 0.4em;background-color: white;}#sk-container-id-1 div.sk-label label {font-family: monospace;font-weight: bold;display: inline-block;line-height: 1.2em;}#sk-container-id-1 div.sk-label-container {text-align: center;}#sk-container-id-1 div.sk-container {/* jupyter's `normalize.less` sets `[hidden] { display: none; }` but bootstrap.min.css set `[hidden] { display: none !important; }` so we also need the `!important` here to be able to override the default hidden behavior on the sphinx rendered scikit-learn.org. See: https://github.com/scikit-learn/scikit-learn/issues/21755 */display: inline-block !important;position: relative;}#sk-container-id-1 div.sk-text-repr-fallback {display: none;}</style><div id=\"sk-container-id-1\" class=\"sk-top-container\"><div class=\"sk-text-repr-fallback\"><pre>StandardScaler()</pre><b>In a Jupyter environment, please rerun this cell to show the HTML representation or trust the notebook. <br />On GitHub, the HTML representation is unable to render, please try loading this page with nbviewer.org.</b></div><div class=\"sk-container\" hidden><div class=\"sk-item\"><div class=\"sk-estimator sk-toggleable\"><input class=\"sk-toggleable__control sk-hidden--visually\" id=\"sk-estimator-id-1\" type=\"checkbox\" checked><label for=\"sk-estimator-id-1\" class=\"sk-toggleable__label sk-toggleable__label-arrow\">StandardScaler</label><div class=\"sk-toggleable__content\"><pre>StandardScaler()</pre></div></div></div></div></div>"
      ],
      "text/plain": [
       "StandardScaler()"
      ]
     },
     "execution_count": 25,
     "metadata": {},
     "output_type": "execute_result"
    }
   ],
   "source": [
    "#Создадим StandardScaler и настроим его на обучющей выборке\n",
    "scaler = StandardScaler()\n",
    "scaler.fit(features_train[numeric])"
   ]
  },
  {
   "cell_type": "code",
   "execution_count": 26,
   "metadata": {},
   "outputs": [],
   "source": [
    "#Преобразуем выборки\n",
    "features_train[numeric] = scaler.transform(features_train[numeric])\n",
    "features_valid[numeric] = scaler.transform(features_valid[numeric])\n",
    "features_test[numeric] = scaler.transform(features_test[numeric])"
   ]
  },
  {
   "cell_type": "markdown",
   "metadata": {},
   "source": [
    "## Исследование задачи"
   ]
  },
  {
   "cell_type": "markdown",
   "metadata": {},
   "source": [
    "### Исследуем баланс классов в целевом признаке"
   ]
  },
  {
   "cell_type": "code",
   "execution_count": 27,
   "metadata": {
    "scrolled": true
   },
   "outputs": [
    {
     "name": "stdout",
     "output_type": "stream",
     "text": [
      "0    0.7963\n",
      "1    0.2037\n",
      "Name: Exited, dtype: float64\n"
     ]
    },
    {
     "data": {
      "image/png": "[encoded data removed]",
      "text/plain": [
       "<Figure size 432x288 with 1 Axes>"
      ]
     },
     "metadata": {
      "needs_background": "light"
     },
     "output_type": "display_data"
    }
   ],
   "source": [
    "#Для подсчёта классов в целевом признаке примените метод value_counts()\n",
    "class_frequency = df_ohe['Exited'].value_counts(normalize=True)\n",
    "print(class_frequency)\n",
    "class_frequency.plot(kind='bar');"
   ]
  },
  {
   "cell_type": "markdown",
   "metadata": {},
   "source": [
    "Вывод: В целевом признаке наблюдаем дисбаланс классов"
   ]
  },
  {
   "cell_type": "markdown",
   "metadata": {},
   "source": [
    "### Обучим разные модели без учёта дисбаланса классов. Выберем лучшую модель по макс. значению F1-меры."
   ]
  },
  {
   "cell_type": "markdown",
   "metadata": {},
   "source": [
    "**Решающее дерево**"
   ]
  },
  {
   "cell_type": "code",
   "execution_count": 28,
   "metadata": {},
   "outputs": [],
   "source": [
    "#Создаём функцию для поиска гиперпараметров решающего дерева с макс. значением F1-меры с аргументами: \n",
    "#обуч. выборка, целевой признак, проверочная выборка, целевой признак, max_depth, class_weight\n",
    "def best_tree(f_train, t_train, f_result, t_result, depth, cw):\n",
    "    best_f1 = 0\n",
    "    for i in range(1, depth):\n",
    "        model = DecisionTreeClassifier(max_depth=i, random_state=12345, class_weight=cw)\n",
    "        model.fit(f_train, t_train)\n",
    "        predicted_result = model.predict(f_result)\n",
    "        f1 = f1_score(t_result, predicted_result)\n",
    "        #print('max_depth =',i,', F1-мера =', f1)\n",
    "        if f1 > best_f1:\n",
    "            best_f1 = f1\n",
    "            best_depth = i\n",
    "    print(\"F1-мера наилучшей модели =\", best_f1, \", max_depth:\", best_depth)"
   ]
  },
  {
   "cell_type": "code",
   "execution_count": 29,
   "metadata": {
    "scrolled": true
   },
   "outputs": [
    {
     "name": "stdout",
     "output_type": "stream",
     "text": [
      "F1-мера наилучшей модели = 0.5753424657534246 , max_depth: 6\n"
     ]
    }
   ],
   "source": [
    "#Найдём гиперпараметры модели \"Решающее дерево\" с максимальный значением F1 с помощью функции\n",
    "best_tree(features_train, target_train, features_valid, target_valid, 21, None)"
   ]
  },
  {
   "cell_type": "markdown",
   "metadata": {},
   "source": [
    "Построим ROC-кривую и посчитаем метрику AUC-ROC"
   ]
  },
  {
   "cell_type": "code",
   "execution_count": 30,
   "metadata": {},
   "outputs": [],
   "source": [
    "#Создаём функцию, которая будет строить ROC-кривую и считать значение AUC-ROC \n",
    "#с аргументами: обученная модель, проверочная выборка, целевой признак\n",
    "def auc_roc(m, f, t):\n",
    "    probabilities = m.predict_proba(f)\n",
    "    probabilities_one = probabilities[:, 1]\n",
    "    fpr, tpr, thresholds = roc_curve(t, probabilities_one)\n",
    "    plt.figure()\n",
    "    plt.plot(fpr, tpr)\n",
    "    plt.plot([0, 1], [0, 1], linestyle='--')\n",
    "    plt.xlim([0.0, 1.0])\n",
    "    plt.ylim([0.0, 1.0])\n",
    "    plt.xlabel('False Positive Rate')\n",
    "    plt.ylabel('True Positive Rate')\n",
    "    plt.title('ROC-кривая')\n",
    "    plt.show() \n",
    "    print(\"AUC-ROC:\", roc_auc_score(t, probabilities_one))"
   ]
  },
  {
   "cell_type": "code",
   "execution_count": 31,
   "metadata": {},
   "outputs": [
    {
     "data": {
      "image/png": "[encoded data removed]",
      "text/plain": [
       "<Figure size 432x288 with 1 Axes>"
      ]
     },
     "metadata": {
      "needs_background": "light"
     },
     "output_type": "display_data"
    },
    {
     "name": "stdout",
     "output_type": "stream",
     "text": [
      "AUC-ROC: 0.8208448514689781\n"
     ]
    }
   ],
   "source": [
    "#Строим ROC-кривую и считаем значение AUC-ROC для решающего дерева с найденными выше гиперпараметрами\n",
    "model = DecisionTreeClassifier(max_depth=6, random_state=12345, class_weight=None)\n",
    "model.fit(features_train, target_train)\n",
    "auc_roc(model, features_valid, target_valid)"
   ]
  },
  {
   "cell_type": "markdown",
   "metadata": {},
   "source": [
    "**Случайный лес**"
   ]
  },
  {
   "cell_type": "code",
   "execution_count": 32,
   "metadata": {},
   "outputs": [],
   "source": [
    "#Создаём функцию для поиска гиперпараметров случайного леса с макс. значением F1-меры с аргументами: \n",
    "#обуч. выборка, целевой признак, проверочная выборка, целевой признак, max_depth, n_estimators, class_weight\n",
    "def best_forest(f_train, t_train, f_result, t_result, depth, est, cw):\n",
    "    best_depth = 0\n",
    "    best_est = 0\n",
    "    best_f1 = 0\n",
    "    for i in range(1, depth, 1):\n",
    "        for j in range(10, est, 10):\n",
    "            model = RandomForestClassifier(n_estimators=j, max_depth=i, class_weight = cw, random_state=12345)\n",
    "            model.fit(f_train, t_train)\n",
    "            predicted_result = model.predict(f_result)\n",
    "            f1 = f1_score(t_result, predicted_result)\n",
    "            #print(\"max_depth: {:.0f}, n_estimators: {:.0f}, F1-мера = {:.3f}\".format(i, j, f1))\n",
    "            if f1 > best_f1:\n",
    "                best_f1 = f1\n",
    "                best_depth = i\n",
    "                best_est = j\n",
    "    print(\"F-1 мера = {:.4f}, max_depth: {:.0f}, n_estimators: {:.0f}\".format(best_f1, best_depth, best_est))"
   ]
  },
  {
   "cell_type": "code",
   "execution_count": 33,
   "metadata": {
    "scrolled": true
   },
   "outputs": [
    {
     "name": "stdout",
     "output_type": "stream",
     "text": [
      "F-1 мера = 0.5930, max_depth: 17, n_estimators: 70\n",
      "CPU times: total: 1min 19s\n",
      "Wall time: 1min 20s\n"
     ]
    }
   ],
   "source": [
    "%%time\n",
    "#Найдём гиперпараметры модели \"Случайный лес\" с максимальный значением F1 с помощью функции\n",
    "best_forest(features_train, target_train, features_valid, target_valid, 20, 101, None)"
   ]
  },
  {
   "cell_type": "code",
   "execution_count": 34,
   "metadata": {},
   "outputs": [
    {
     "data": {
      "image/png": "[encoded data removed]",
      "text/plain": [
       "<Figure size 432x288 with 1 Axes>"
      ]
     },
     "metadata": {
      "needs_background": "light"
     },
     "output_type": "display_data"
    },
    {
     "name": "stdout",
     "output_type": "stream",
     "text": [
      "AUC-ROC: 0.8442080160175176\n"
     ]
    }
   ],
   "source": [
    "#Строим ROC-кривую и считаем значение AUC-ROC для случайного леса с найденными выше гиперпараметрами\n",
    "model = RandomForestClassifier(n_estimators=70, max_depth=17, class_weight = None, random_state=12345)\n",
    "model.fit(features_train, target_train)\n",
    "auc_roc(model, features_valid, target_valid)"
   ]
  },
  {
   "cell_type": "markdown",
   "metadata": {},
   "source": [
    "**Логистическая регресия**"
   ]
  },
  {
   "cell_type": "code",
   "execution_count": 35,
   "metadata": {},
   "outputs": [],
   "source": [
    "#Создаём функцию для поиска гиперпараметров логистической регрессии с макс. значением F1-меры с аргументами: \n",
    "#обуч. выборка, целевой признак, проверочная выборка, целевой признак, max_iter, class_weight\n",
    "def best_regression(f_train, t_train, f_result, t_result, iter, cw):\n",
    "    best_f1 = 0\n",
    "    #Создадим цикл, в котором гиперпараметр max_iter будет принимать значения переменной цикла i\n",
    "    for i in range(10, iter, 10):\n",
    "        model = LogisticRegression(solver='liblinear', max_iter=i, class_weight=cw, random_state=12345)\n",
    "        model.fit(f_train, t_train)\n",
    "        predicted_result = model.predict(f_result)\n",
    "        f1 = f1_score(t_result, predicted_result)\n",
    "        print('max_iter:',i,', F1-мера:', f1)\n",
    "        if f1 > best_f1:\n",
    "            best_f1 = f1\n",
    "            best_iter = i\n",
    "    print(\"F-1 мера = {:.4f}, max_iter: {:.0f}\".format(best_f1, best_iter))"
   ]
  },
  {
   "cell_type": "code",
   "execution_count": 36,
   "metadata": {
    "scrolled": false
   },
   "outputs": [
    {
     "name": "stdout",
     "output_type": "stream",
     "text": [
      "max_iter: 10 , F1-мера: 0.32605042016806723\n",
      "max_iter: 20 , F1-мера: 0.32605042016806723\n",
      "max_iter: 30 , F1-мера: 0.32605042016806723\n",
      "max_iter: 40 , F1-мера: 0.32605042016806723\n",
      "max_iter: 50 , F1-мера: 0.32605042016806723\n",
      "max_iter: 60 , F1-мера: 0.32605042016806723\n",
      "max_iter: 70 , F1-мера: 0.32605042016806723\n",
      "max_iter: 80 , F1-мера: 0.32605042016806723\n",
      "max_iter: 90 , F1-мера: 0.32605042016806723\n",
      "max_iter: 100 , F1-мера: 0.32605042016806723\n",
      "max_iter: 110 , F1-мера: 0.32605042016806723\n",
      "max_iter: 120 , F1-мера: 0.32605042016806723\n",
      "max_iter: 130 , F1-мера: 0.32605042016806723\n",
      "max_iter: 140 , F1-мера: 0.32605042016806723\n",
      "max_iter: 150 , F1-мера: 0.32605042016806723\n",
      "max_iter: 160 , F1-мера: 0.32605042016806723\n",
      "max_iter: 170 , F1-мера: 0.32605042016806723\n",
      "max_iter: 180 , F1-мера: 0.32605042016806723\n",
      "max_iter: 190 , F1-мера: 0.32605042016806723\n",
      "max_iter: 200 , F1-мера: 0.32605042016806723\n",
      "max_iter: 210 , F1-мера: 0.32605042016806723\n",
      "max_iter: 220 , F1-мера: 0.32605042016806723\n",
      "max_iter: 230 , F1-мера: 0.32605042016806723\n",
      "max_iter: 240 , F1-мера: 0.32605042016806723\n",
      "max_iter: 250 , F1-мера: 0.32605042016806723\n",
      "max_iter: 260 , F1-мера: 0.32605042016806723\n",
      "max_iter: 270 , F1-мера: 0.32605042016806723\n",
      "max_iter: 280 , F1-мера: 0.32605042016806723\n",
      "max_iter: 290 , F1-мера: 0.32605042016806723\n",
      "max_iter: 300 , F1-мера: 0.32605042016806723\n",
      "max_iter: 310 , F1-мера: 0.32605042016806723\n",
      "max_iter: 320 , F1-мера: 0.32605042016806723\n",
      "max_iter: 330 , F1-мера: 0.32605042016806723\n",
      "max_iter: 340 , F1-мера: 0.32605042016806723\n",
      "max_iter: 350 , F1-мера: 0.32605042016806723\n",
      "max_iter: 360 , F1-мера: 0.32605042016806723\n",
      "max_iter: 370 , F1-мера: 0.32605042016806723\n",
      "max_iter: 380 , F1-мера: 0.32605042016806723\n",
      "max_iter: 390 , F1-мера: 0.32605042016806723\n",
      "max_iter: 400 , F1-мера: 0.32605042016806723\n",
      "max_iter: 410 , F1-мера: 0.32605042016806723\n",
      "max_iter: 420 , F1-мера: 0.32605042016806723\n",
      "max_iter: 430 , F1-мера: 0.32605042016806723\n",
      "max_iter: 440 , F1-мера: 0.32605042016806723\n",
      "max_iter: 450 , F1-мера: 0.32605042016806723\n",
      "max_iter: 460 , F1-мера: 0.32605042016806723\n",
      "max_iter: 470 , F1-мера: 0.32605042016806723\n",
      "max_iter: 480 , F1-мера: 0.32605042016806723\n",
      "max_iter: 490 , F1-мера: 0.32605042016806723\n",
      "max_iter: 500 , F1-мера: 0.32605042016806723\n",
      "F-1 мера = 0.3261, max_iter: 10\n"
     ]
    }
   ],
   "source": [
    "#Найдём гиперпараметры модели \"Логистическая регрессия\" с максимальный значением F1 с помощью функции\n",
    "best_regression(features_train, target_train, features_valid, target_valid, 501, None)"
   ]
  },
  {
   "cell_type": "markdown",
   "metadata": {},
   "source": [
    "Параметр max_iter не вляет на значение F-1 меры, упростим функцию, исключив изменение этого параметра"
   ]
  },
  {
   "cell_type": "code",
   "execution_count": 37,
   "metadata": {},
   "outputs": [],
   "source": [
    "def best_regression(f_train, t_train, f_result, t_result, cw):\n",
    "    f1 = 0\n",
    "    model = LogisticRegression(solver='liblinear', class_weight=cw, random_state=12345)\n",
    "    model.fit(f_train, t_train)\n",
    "    predicted_result = model.predict(f_result)\n",
    "    f1 = f1_score(t_result, predicted_result)\n",
    "    print(\"F-1 мера = {:.4f}\".format(f1))"
   ]
  },
  {
   "cell_type": "code",
   "execution_count": 38,
   "metadata": {
    "scrolled": true
   },
   "outputs": [
    {
     "name": "stdout",
     "output_type": "stream",
     "text": [
      "F-1 мера = 0.3261\n"
     ]
    }
   ],
   "source": [
    "#Найдём гиперпараметры модели \"Логистическая регрессия\" с максимальный значением F1 с помощью функции\n",
    "best_regression(features_train, target_train, features_valid, target_valid, None)"
   ]
  },
  {
   "cell_type": "code",
   "execution_count": 39,
   "metadata": {},
   "outputs": [
    {
     "data": {
      "image/png": "[encoded data removed]",
      "text/plain": [
       "<Figure size 432x288 with 1 Axes>"
      ]
     },
     "metadata": {
      "needs_background": "light"
     },
     "output_type": "display_data"
    },
    {
     "name": "stdout",
     "output_type": "stream",
     "text": [
      "AUC-ROC: 0.759840066779983\n"
     ]
    }
   ],
   "source": [
    "#Строим ROC-кривую и считаем значение AUC-ROC для логистической регрессии\n",
    "model = LogisticRegression(solver='liblinear', class_weight=None, random_state=12345)\n",
    "model.fit(features_train, target_train)\n",
    "auc_roc(model, features_valid, target_valid)"
   ]
  },
  {
   "cell_type": "markdown",
   "metadata": {},
   "source": [
    "Вывод: Лучшее значение F1-меры показала модель \"Случайный лес\" с параметрами n_estimators = 70 и max_depth = 17."
   ]
  },
  {
   "cell_type": "markdown",
   "metadata": {},
   "source": [
    "## Борьба с дисбалансом"
   ]
  },
  {
   "cell_type": "markdown",
   "metadata": {},
   "source": [
    "### Обучим модели со сбалансированными весами классов"
   ]
  },
  {
   "cell_type": "markdown",
   "metadata": {},
   "source": [
    "**Решающее дерево**"
   ]
  },
  {
   "cell_type": "code",
   "execution_count": 40,
   "metadata": {},
   "outputs": [
    {
     "name": "stdout",
     "output_type": "stream",
     "text": [
      "F1-мера наилучшей модели = 0.5753424657534246 , max_depth: 6\n"
     ]
    }
   ],
   "source": [
    "#Выводим значение F1- меры Решающего дерева с найденными выше гиперпараметрами без учёта дисбаланса классов\n",
    "best_tree(features_train, target_train, features_valid, target_valid, 21, None)"
   ]
  },
  {
   "cell_type": "code",
   "execution_count": 41,
   "metadata": {
    "scrolled": true
   },
   "outputs": [
    {
     "name": "stdout",
     "output_type": "stream",
     "text": [
      "F1-мера наилучшей модели = 0.5948827292110873 , max_depth: 5\n"
     ]
    }
   ],
   "source": [
    "#Найдём максимальное знач-е F1-меры со сбалансированными весами классов\n",
    "best_tree(features_train, target_train, features_valid, target_valid, 21, 'balanced')"
   ]
  },
  {
   "cell_type": "code",
   "execution_count": 42,
   "metadata": {},
   "outputs": [
    {
     "data": {
      "image/png": "[encoded data removed]",
      "text/plain": [
       "<Figure size 432x288 with 1 Axes>"
      ]
     },
     "metadata": {
      "needs_background": "light"
     },
     "output_type": "display_data"
    },
    {
     "name": "stdout",
     "output_type": "stream",
     "text": [
      "AUC-ROC: 0.7972745117016193\n"
     ]
    }
   ],
   "source": [
    "#Строим ROC-кривую и считаем значение AUC-ROC для решающего дерева со сбалансированными весами классов\n",
    "model = DecisionTreeClassifier(max_depth=6, random_state=12345, class_weight='balanced')\n",
    "model.fit(features_train, target_train)\n",
    "auc_roc(model, features_valid, target_valid)"
   ]
  },
  {
   "cell_type": "markdown",
   "metadata": {},
   "source": [
    "**Случайный лес**"
   ]
  },
  {
   "cell_type": "markdown",
   "metadata": {},
   "source": [
    "Найденые выше макс. значение F1-меры и гиперпараметры Случайного леса без учёта дисбаланса:<br>\n",
    "F-1 мера = 0.5930, max_depth: 17, n_estimators: 70"
   ]
  },
  {
   "cell_type": "code",
   "execution_count": 43,
   "metadata": {},
   "outputs": [
    {
     "name": "stdout",
     "output_type": "stream",
     "text": [
      "F-1 мера = 0.6371, max_depth: 9, n_estimators: 60\n",
      "CPU times: total: 1min 21s\n",
      "Wall time: 1min 24s\n"
     ]
    }
   ],
   "source": [
    "%%time\n",
    "#Найдём гиперпараметры модели \"Случайный лес\" с максимальный значением F1 со сбалансированными весами классов\n",
    "best_forest(features_train, target_train, features_valid, target_valid, 20, 101, 'balanced')"
   ]
  },
  {
   "cell_type": "code",
   "execution_count": 44,
   "metadata": {},
   "outputs": [
    {
     "data": {
      "image/png": "[encoded data removed]",
      "text/plain": [
       "<Figure size 432x288 with 1 Axes>"
      ]
     },
     "metadata": {
      "needs_background": "light"
     },
     "output_type": "display_data"
    },
    {
     "name": "stdout",
     "output_type": "stream",
     "text": [
      "AUC-ROC: 0.8530190117288394\n"
     ]
    }
   ],
   "source": [
    "#Строим ROC-кривую и считаем значение AUC-ROC для \"Случайного леса\" со сбалансированными весами классов\n",
    "model = RandomForestClassifier(n_estimators=60, max_depth=9, class_weight = 'balanced', random_state=12345)\n",
    "model.fit(features_train, target_train)\n",
    "auc_roc(model, features_valid, target_valid)"
   ]
  },
  {
   "cell_type": "markdown",
   "metadata": {},
   "source": [
    "**Логистическая регрессия**"
   ]
  },
  {
   "cell_type": "code",
   "execution_count": 45,
   "metadata": {},
   "outputs": [
    {
     "name": "stdout",
     "output_type": "stream",
     "text": [
      "F-1 мера = 0.3261\n"
     ]
    }
   ],
   "source": [
    "#Выводим начение F1-меры для \"Логистической регрессии\" без учёта дисбаланса классов\n",
    "best_regression(features_train, target_train, features_valid, target_valid, None)"
   ]
  },
  {
   "cell_type": "code",
   "execution_count": 46,
   "metadata": {},
   "outputs": [
    {
     "name": "stdout",
     "output_type": "stream",
     "text": [
      "F-1 мера = 0.4897\n"
     ]
    }
   ],
   "source": [
    "#Выводим начение F1-меры для \"Логистической регрессии\" со сбалансированными весами классов\n",
    "best_regression(features_train, target_train, features_valid, target_valid, 'balanced')"
   ]
  },
  {
   "cell_type": "code",
   "execution_count": 47,
   "metadata": {},
   "outputs": [
    {
     "data": {
      "image/png": "[encoded data removed]",
      "text/plain": [
       "<Figure size 432x288 with 1 Axes>"
      ]
     },
     "metadata": {
      "needs_background": "light"
     },
     "output_type": "display_data"
    },
    {
     "name": "stdout",
     "output_type": "stream",
     "text": [
      "AUC-ROC: 0.7642618210852958\n"
     ]
    }
   ],
   "source": [
    "#Строим ROC-кривую и считаем значение AUC-ROC для \"Логистической регрессии\" со сбалансированными весами классов\n",
    "model = LogisticRegression(class_weight = 'balanced', random_state=12345)\n",
    "model.fit(features_train, target_train)\n",
    "auc_roc(model, features_valid, target_valid)"
   ]
  },
  {
   "cell_type": "markdown",
   "metadata": {},
   "source": [
    "**Вывод**: Со сбалансированными весами классов (гиперпараметр class_weight = 'balanced') лучшее значение F1-меры на валидационной выборке - 0.6371 показала модель \"Случайный лес\" с гиперпараметрами max_depth = 9 и n_estimators = 60"
   ]
  },
  {
   "cell_type": "markdown",
   "metadata": {},
   "source": [
    "### Применим технику увеличения выборки - upsampling"
   ]
  },
  {
   "cell_type": "code",
   "execution_count": 48,
   "metadata": {},
   "outputs": [],
   "source": [
    "#Создаём функцию увеличения обучающей выборки для балансировки весов классов с аргументами:\n",
    "#признаки, целевой признак, множитель\n",
    "def upsample(features, target, repeat):\n",
    "    features_zeros = features[target == 0] #признаки объектов с ответом 0\n",
    "    features_ones = features[target == 1] #признаки объектов с ответом 1\n",
    "    target_zeros = target[target == 0] #целевой признак объектов, у которых ответы только 0\n",
    "    target_ones = target[target == 1] #целевой признак объектов, у которых ответы только 1\n",
    "\n",
    "    #Добавляем к признакам с ответом 0 признаки с ответом 1, умноженные на множитель для уравнивания дисбаланса классов\n",
    "    features_upsampled = pd.concat([features_zeros] + [features_ones] * repeat)\n",
    "    # - то-же с целевыми признаками\n",
    "    target_upsampled = pd.concat([target_zeros] + [target_ones] * repeat)\n",
    "    #Перемешиваем увеличенную выборку\n",
    "    features_upsampled, target_upsampled = shuffle(features_upsampled, target_upsampled, random_state=12345)\n",
    "    \n",
    "    return features_upsampled, target_upsampled"
   ]
  },
  {
   "cell_type": "code",
   "execution_count": 49,
   "metadata": {},
   "outputs": [],
   "source": [
    "#Увеличиваем долю признаков и целевого признака с ответом 1 в 4 раза\n",
    "features_upsampled, target_upsampled = upsample(features_train, target_train, 4)"
   ]
  },
  {
   "cell_type": "code",
   "execution_count": 50,
   "metadata": {},
   "outputs": [
    {
     "name": "stdout",
     "output_type": "stream",
     "text": [
      "(9588, 21)\n",
      "(9588,)\n"
     ]
    }
   ],
   "source": [
    "#Выведем размер увеличенной выборки\n",
    "print(features_upsampled.shape)\n",
    "print(target_upsampled.shape)"
   ]
  },
  {
   "cell_type": "code",
   "execution_count": 51,
   "metadata": {
    "scrolled": true
   },
   "outputs": [
    {
     "name": "stdout",
     "output_type": "stream",
     "text": [
      "0    0.501043\n",
      "1    0.498957\n",
      "Name: Exited, dtype: float64\n"
     ]
    },
    {
     "data": {
      "image/png": "[encoded data removed]",
      "text/plain": [
       "<Figure size 432x288 with 1 Axes>"
      ]
     },
     "metadata": {
      "needs_background": "light"
     },
     "output_type": "display_data"
    }
   ],
   "source": [
    "#Для подсчёта классов в целевом признаке примените метод value_counts()\n",
    "class_frequency = target_upsampled.value_counts(normalize=True)\n",
    "print(class_frequency)\n",
    "class_frequency.plot(kind='bar');"
   ]
  },
  {
   "cell_type": "markdown",
   "metadata": {},
   "source": [
    "Увеличение выборки пришло корректно, дисбаланс классов устранён"
   ]
  },
  {
   "cell_type": "markdown",
   "metadata": {},
   "source": [
    "#### Обучим модели на увеличенной выборке и найдём максимальное значение F1-меры"
   ]
  },
  {
   "cell_type": "markdown",
   "metadata": {},
   "source": [
    "**Решающее дерево**"
   ]
  },
  {
   "cell_type": "code",
   "execution_count": 52,
   "metadata": {},
   "outputs": [
    {
     "name": "stdout",
     "output_type": "stream",
     "text": [
      "F1-мера наилучшей модели = 0.5948827292110873 , max_depth: 5\n"
     ]
    }
   ],
   "source": [
    "#Находим максимальное значение F1-меры на увеличенной выборке\n",
    "best_tree(features_upsampled, target_upsampled, features_valid, target_valid, 21, None)"
   ]
  },
  {
   "cell_type": "code",
   "execution_count": 53,
   "metadata": {
    "scrolled": true
   },
   "outputs": [
    {
     "data": {
      "image/png": "[encoded data removed]",
      "text/plain": [
       "<Figure size 432x288 with 1 Axes>"
      ]
     },
     "metadata": {
      "needs_background": "light"
     },
     "output_type": "display_data"
    },
    {
     "name": "stdout",
     "output_type": "stream",
     "text": [
      "AUC-ROC: 0.8286804602011868\n"
     ]
    }
   ],
   "source": [
    "#Строим ROC-кривую и считаем значение AUC-ROC для \"Решающего дерева\", обученного на увеличенной выборке\n",
    "model = DecisionTreeClassifier(max_depth=5, random_state=12345, class_weight=None)\n",
    "model.fit(features_upsampled, target_upsampled)\n",
    "auc_roc(model, features_valid, target_valid)"
   ]
  },
  {
   "cell_type": "markdown",
   "metadata": {},
   "source": [
    "**Случайный лес**"
   ]
  },
  {
   "cell_type": "code",
   "execution_count": 54,
   "metadata": {},
   "outputs": [
    {
     "name": "stdout",
     "output_type": "stream",
     "text": [
      "F-1 мера = 0.6392, max_depth: 14, n_estimators: 50\n",
      "CPU times: total: 1min 43s\n",
      "Wall time: 1min 45s\n"
     ]
    }
   ],
   "source": [
    "%%time\n",
    "#Находим максимальное значение F1-меры на увеличенной выборке\n",
    "best_forest(features_upsampled, target_upsampled, features_valid, target_valid, 20, 101, None)"
   ]
  },
  {
   "cell_type": "code",
   "execution_count": 55,
   "metadata": {
    "scrolled": true
   },
   "outputs": [
    {
     "data": {
      "image/png": "[encoded data removed]",
      "text/plain": [
       "<Figure size 432x288 with 1 Axes>"
      ]
     },
     "metadata": {
      "needs_background": "light"
     },
     "output_type": "display_data"
    },
    {
     "name": "stdout",
     "output_type": "stream",
     "text": [
      "AUC-ROC: 0.8468279508102515\n"
     ]
    }
   ],
   "source": [
    "#Строим ROC-кривую и считаем значение AUC-ROC для \"Случайного леса\", обученного на увеличенной выборке\n",
    "model = RandomForestClassifier(n_estimators=50, max_depth=14, random_state=12345, class_weight=None)\n",
    "model.fit(features_upsampled, target_upsampled)\n",
    "auc_roc(model, features_valid, target_valid)"
   ]
  },
  {
   "cell_type": "markdown",
   "metadata": {},
   "source": [
    "**Логистическая регрессия**"
   ]
  },
  {
   "cell_type": "code",
   "execution_count": 56,
   "metadata": {},
   "outputs": [
    {
     "name": "stdout",
     "output_type": "stream",
     "text": [
      "F-1 мера = 0.4901\n"
     ]
    }
   ],
   "source": [
    "#Находим значение F1-меры для \"Логистическо1 регрессии\", обученной на увеличенной выборке\n",
    "best_regression(features_upsampled, target_upsampled, features_valid, target_valid, None)"
   ]
  },
  {
   "cell_type": "code",
   "execution_count": 57,
   "metadata": {
    "scrolled": true
   },
   "outputs": [
    {
     "data": {
      "image/png": "[encoded data removed]",
      "text/plain": [
       "<Figure size 432x288 with 1 Axes>"
      ]
     },
     "metadata": {
      "needs_background": "light"
     },
     "output_type": "display_data"
    },
    {
     "name": "stdout",
     "output_type": "stream",
     "text": [
      "AUC-ROC: 0.7642225031605563\n"
     ]
    }
   ],
   "source": [
    "#Строим ROC-кривую и считаем значение AUC-ROC для \"Логистической регрессии\", обученной на увеличенной выборке\n",
    "model = LogisticRegression(solver='liblinear', class_weight=None)\n",
    "model.fit(features_upsampled, target_upsampled)\n",
    "auc_roc(model, features_valid, target_valid)"
   ]
  },
  {
   "cell_type": "markdown",
   "metadata": {},
   "source": [
    "**Вывод**: Спомощью техники увеличения выборки лучшее значение F1-меры на валидационной выборке - 0.6392 показала модель \"Случайный лес\" со следующими гиперпарметрами: max_depth = 14, n_estimators = 50"
   ]
  },
  {
   "cell_type": "markdown",
   "metadata": {},
   "source": [
    "### Применим технику уменьшения выборки - downsampling"
   ]
  },
  {
   "cell_type": "code",
   "execution_count": 58,
   "metadata": {},
   "outputs": [],
   "source": [
    "#Создаём функцию уменьшения обучающей выборки для балансировки весов классов с аргументами:\n",
    "#признаки, целевой признак, доля\n",
    "def downsample(features, target, fraction):\n",
    "    features_zeros = features[target == 0] #признаки объектов с ответом 0\n",
    "    features_ones = features[target == 1] #признаки объектов с ответом 1\n",
    "    target_zeros = target[target == 0] #целевой признак объектов, у которых ответы только 0\n",
    "    target_ones = target[target == 1] #целевой признак объектов, у которых ответы только 1\n",
    "\n",
    "    #Удаляем часть из признаков с ответом 0 с сохранением доли и прибавляем к ним признаки с ответом 1 \n",
    "    features_downsampled = pd.concat([features_zeros.sample(frac=fraction, random_state=12345)] + [features_ones])\n",
    "    # тоже для целевых признаков\n",
    "    target_downsampled = pd.concat([target_zeros.sample(frac=fraction, random_state=12345)] + [target_ones])\n",
    "    #Перемешиваем уменьшенную выборку\n",
    "    features_downsampled, target_downsampled = shuffle(features_downsampled, target_downsampled, random_state=12345)\n",
    "    \n",
    "    return features_downsampled, target_downsampled"
   ]
  },
  {
   "cell_type": "code",
   "execution_count": 59,
   "metadata": {},
   "outputs": [],
   "source": [
    "#Уменьшаем долю признаков и целевого признака с ответом 0 в 4 раза\n",
    "features_downsampled, target_downsampled = downsample(features_train, target_train, 0.25)"
   ]
  },
  {
   "cell_type": "code",
   "execution_count": 60,
   "metadata": {
    "scrolled": true
   },
   "outputs": [
    {
     "name": "stdout",
     "output_type": "stream",
     "text": [
      "(2397, 21)\n",
      "(2397,)\n"
     ]
    }
   ],
   "source": [
    "#Выведем размер уменьшенной выборки\n",
    "print(features_downsampled.shape)\n",
    "print(target_downsampled.shape)"
   ]
  },
  {
   "cell_type": "code",
   "execution_count": 61,
   "metadata": {
    "scrolled": false
   },
   "outputs": [
    {
     "name": "stdout",
     "output_type": "stream",
     "text": [
      "0    0.501043\n",
      "1    0.498957\n",
      "Name: Exited, dtype: float64\n"
     ]
    },
    {
     "data": {
      "image/png": "[encoded data removed]",
      "text/plain": [
       "<Figure size 432x288 with 1 Axes>"
      ]
     },
     "metadata": {
      "needs_background": "light"
     },
     "output_type": "display_data"
    }
   ],
   "source": [
    "#Проверим баланс классов в уменьшенной выборке\n",
    "class_frequency = target_downsampled.value_counts(normalize=True)\n",
    "print(class_frequency)\n",
    "class_frequency.plot(kind='bar');"
   ]
  },
  {
   "cell_type": "markdown",
   "metadata": {},
   "source": [
    "Уменьшение выборки пришло корректно, дисбаланс классов устранён"
   ]
  },
  {
   "cell_type": "markdown",
   "metadata": {},
   "source": [
    "#### Обучим модели на уменьшенной выборке и найдём максимальное значение F1-меры"
   ]
  },
  {
   "cell_type": "markdown",
   "metadata": {},
   "source": [
    "**Решающее дерево**"
   ]
  },
  {
   "cell_type": "code",
   "execution_count": 62,
   "metadata": {},
   "outputs": [
    {
     "name": "stdout",
     "output_type": "stream",
     "text": [
      "F1-мера наилучшей модели = 0.592292089249493 , max_depth: 5\n"
     ]
    }
   ],
   "source": [
    "#Находим максимальное значение F1-меры на уменьшенной выборке\n",
    "best_tree(features_downsampled, target_downsampled, features_valid, target_valid, 21, None)"
   ]
  },
  {
   "cell_type": "code",
   "execution_count": 63,
   "metadata": {},
   "outputs": [
    {
     "data": {
      "image/png": "[encoded data removed]",
      "text/plain": [
       "<Figure size 432x288 with 1 Axes>"
      ]
     },
     "metadata": {
      "needs_background": "light"
     },
     "output_type": "display_data"
    },
    {
     "name": "stdout",
     "output_type": "stream",
     "text": [
      "AUC-ROC: 0.8211329308790885\n"
     ]
    }
   ],
   "source": [
    "#Строим ROC-кривую и считаем значение AUC-ROC для \"Решающего дерева\", обученного на уменьшенной выборке\n",
    "model = DecisionTreeClassifier(max_depth=5, random_state=12345, class_weight=None)\n",
    "model.fit(features_downsampled, target_downsampled)\n",
    "auc_roc(model, features_valid, target_valid)"
   ]
  },
  {
   "cell_type": "markdown",
   "metadata": {},
   "source": [
    "**Случайный лес**"
   ]
  },
  {
   "cell_type": "code",
   "execution_count": 64,
   "metadata": {},
   "outputs": [
    {
     "name": "stdout",
     "output_type": "stream",
     "text": [
      "F-1 мера = 0.6049, max_depth: 9, n_estimators: 80\n",
      "CPU times: total: 47.3 s\n",
      "Wall time: 49.1 s\n"
     ]
    }
   ],
   "source": [
    "%%time\n",
    "#Находим максимальное значение F1-меры на уменьшенной выборке\n",
    "best_forest(features_downsampled, target_downsampled, features_valid, target_valid, 20, 101, None)"
   ]
  },
  {
   "cell_type": "code",
   "execution_count": 65,
   "metadata": {
    "scrolled": true
   },
   "outputs": [
    {
     "data": {
      "image/png": "[encoded data removed]",
      "text/plain": [
       "<Figure size 432x288 with 1 Axes>"
      ]
     },
     "metadata": {
      "needs_background": "light"
     },
     "output_type": "display_data"
    },
    {
     "name": "stdout",
     "output_type": "stream",
     "text": [
      "AUC-ROC: 0.8490327790514097\n"
     ]
    }
   ],
   "source": [
    "#Строим ROC-кривую и считаем значение AUC-ROC для \"Случайного леса\", обученного на уменьшенной выборке\n",
    "model = RandomForestClassifier(n_estimators=80, max_depth=9, random_state=12345, class_weight=None)\n",
    "model.fit(features_downsampled, target_downsampled)\n",
    "auc_roc(model, features_valid, target_valid)"
   ]
  },
  {
   "cell_type": "markdown",
   "metadata": {},
   "source": [
    "**Логистическая регрессия**"
   ]
  },
  {
   "cell_type": "code",
   "execution_count": 66,
   "metadata": {},
   "outputs": [
    {
     "name": "stdout",
     "output_type": "stream",
     "text": [
      "F-1 мера = 0.4824\n"
     ]
    }
   ],
   "source": [
    "#Находим значение F1-меры на уменьшенной выборке\n",
    "best_regression(features_downsampled, target_downsampled, features_valid, target_valid, None)"
   ]
  },
  {
   "cell_type": "code",
   "execution_count": 67,
   "metadata": {
    "scrolled": false
   },
   "outputs": [
    {
     "data": {
      "image/png": "[encoded data removed]",
      "text/plain": [
       "<Figure size 432x288 with 1 Axes>"
      ]
     },
     "metadata": {
      "needs_background": "light"
     },
     "output_type": "display_data"
    },
    {
     "name": "stdout",
     "output_type": "stream",
     "text": [
      "AUC-ROC: 0.7623745606978025\n"
     ]
    }
   ],
   "source": [
    "#Строим ROC-кривую и считаем значение AUC-ROC для \"Логистической регрессии\", обученной на уменьшенной выборке\n",
    "model = LogisticRegression(random_state=12345, class_weight=None)\n",
    "model.fit(features_downsampled, target_downsampled)\n",
    "auc_roc(model, features_valid, target_valid)"
   ]
  },
  {
   "cell_type": "markdown",
   "metadata": {},
   "source": [
    "**Вывод**: Спомощью техники уменьшения выборки лучшее значение F1-меры на валидационной выборке - 0.6049 показала модель \"Случайный лес\" со следующими гиперпарметрами: max_depth = 9, n_estimators = 80"
   ]
  },
  {
   "cell_type": "markdown",
   "metadata": {},
   "source": [
    "### Применим технику изменения порога классификации"
   ]
  },
  {
   "cell_type": "code",
   "execution_count": 68,
   "metadata": {},
   "outputs": [],
   "source": [
    "#Создадим функцию, которая будет выводить значе-е F1-меры и порог для этого значения\n",
    "#Аргументы функции: обученная модель, проверочная выборка, целевой признак\n",
    "def best_threshold(m, f_result, t_result):\n",
    "    best_f1 = 0\n",
    "    best_threshold = 0\n",
    "    probabilities_result = model.predict_proba(f_result)\n",
    "    probabilities_one_result = probabilities_result[:, 1]\n",
    "\n",
    "    for threshold in np.arange(0, 0.5, 0.02):\n",
    "        predicted_result = probabilities_one_result > threshold\n",
    "        f1 = f1_score(t_result, predicted_result)\n",
    "        #print(\"Порог: {:.2f}, F1 = {:.4f}\".format(threshold,f1))\n",
    "        if f1 > best_f1:\n",
    "            best_f1 = f1\n",
    "            best_threshold = threshold\n",
    "    print(\"Масимальная F1-мера = {:.4f}, Порог: {:.2f}\".format(best_f1, best_threshold))"
   ]
  },
  {
   "cell_type": "markdown",
   "metadata": {},
   "source": [
    "**Решающее дерево**"
   ]
  },
  {
   "cell_type": "code",
   "execution_count": 69,
   "metadata": {
    "scrolled": true
   },
   "outputs": [
    {
     "name": "stdout",
     "output_type": "stream",
     "text": [
      "Масимальная F1-мера = 0.5949, Порог: 0.46\n"
     ]
    }
   ],
   "source": [
    "#Находим макс. знач-е F1-меры и порог для этого значения. Возьмём гиперпараметры модели, с которыми было найдено\n",
    "#макс. знач-е F1-меры с class_weight='balanced'\n",
    "model = DecisionTreeClassifier(max_depth=5, random_state=12345, class_weight='balanced')\n",
    "model.fit(features_train, target_train)\n",
    "best_threshold(model, features_valid, target_valid)"
   ]
  },
  {
   "cell_type": "code",
   "execution_count": 70,
   "metadata": {
    "scrolled": true
   },
   "outputs": [
    {
     "data": {
      "image/png": "[encoded data removed]",
      "text/plain": [
       "<Figure size 432x288 with 1 Axes>"
      ]
     },
     "metadata": {
      "needs_background": "light"
     },
     "output_type": "display_data"
    },
    {
     "name": "stdout",
     "output_type": "stream",
     "text": [
      "AUC-ROC: 0.7575626516008444\n"
     ]
    }
   ],
   "source": [
    "#Строим ROC-кривую и считаем значение AUC-ROC для \"Решающего дерева\" с изменённым порогом классификации\n",
    "model = DecisionTreeClassifier(max_depth=5, random_state=12345, class_weight='balanced')\n",
    "model.fit(features_train, target_train)\n",
    "probabilities_valid = model.predict_proba(features_valid)\n",
    "probabilities_one_valid = probabilities_valid[:, 1]\n",
    "predicted_valid = probabilities_one_valid > 0.46\n",
    "\n",
    "fpr, tpr, thresholds = roc_curve(target_valid, probabilities_one_valid)\n",
    "plt.figure()\n",
    "plt.plot(fpr, tpr)\n",
    "plt.plot([0, 1], [0, 1], linestyle='--')\n",
    "plt.xlim([0.0, 1.0])\n",
    "plt.ylim([0.0, 1.0])\n",
    "plt.xlabel('False Positive Rate')\n",
    "plt.ylabel('True Positive Rate')\n",
    "plt.title('ROC-кривая')\n",
    "plt.show() \n",
    "print(\"AUC-ROC:\", roc_auc_score(target_valid, predicted_valid))"
   ]
  },
  {
   "cell_type": "markdown",
   "metadata": {},
   "source": [
    "**Случайный лес**"
   ]
  },
  {
   "cell_type": "code",
   "execution_count": 71,
   "metadata": {
    "scrolled": true
   },
   "outputs": [
    {
     "name": "stdout",
     "output_type": "stream",
     "text": [
      "Масимальная F1-мера = 0.6347, Порог: 0.48\n"
     ]
    }
   ],
   "source": [
    "#Находим макс. знач-е F1-меры и порог для этого значения. Возьмём гиперпараметры модели, с которыми было найдено\n",
    "#макс. знач-е F1-меры с class_weight='balanced'\n",
    "model = RandomForestClassifier(n_estimators = 60, max_depth=9, random_state=12345, class_weight='balanced')\n",
    "model.fit(features_train, target_train)\n",
    "best_threshold(model, features_valid, target_valid)"
   ]
  },
  {
   "cell_type": "code",
   "execution_count": 72,
   "metadata": {
    "scrolled": true
   },
   "outputs": [
    {
     "data": {
      "image/png": "[encoded data removed]",
      "text/plain": [
       "<Figure size 432x288 with 1 Axes>"
      ]
     },
     "metadata": {
      "needs_background": "light"
     },
     "output_type": "display_data"
    },
    {
     "name": "stdout",
     "output_type": "stream",
     "text": [
      "AUC-ROC: 0.7890472359498909\n"
     ]
    }
   ],
   "source": [
    "#Строим ROC-кривую и считаем значение AUC-ROC для \"Случайного леса\" с изменённым порогом классификации\n",
    "model = RandomForestClassifier(n_estimators = 60, max_depth=9, random_state=12345, class_weight='balanced')\n",
    "model.fit(features_train, target_train)\n",
    "probabilities_valid = model.predict_proba(features_valid)\n",
    "probabilities_one_valid = probabilities_valid[:, 1]\n",
    "predicted_valid = probabilities_one_valid > 0.48\n",
    "\n",
    "fpr, tpr, thresholds = roc_curve(target_valid, probabilities_one_valid)\n",
    "plt.figure()\n",
    "plt.plot(fpr, tpr)\n",
    "plt.plot([0, 1], [0, 1], linestyle='--')\n",
    "plt.xlim([0.0, 1.0])\n",
    "plt.ylim([0.0, 1.0])\n",
    "plt.xlabel('False Positive Rate')\n",
    "plt.ylabel('True Positive Rate')\n",
    "plt.title('ROC-кривая')\n",
    "plt.show() \n",
    "print(\"AUC-ROC:\", roc_auc_score(target_valid, predicted_valid))"
   ]
  },
  {
   "cell_type": "markdown",
   "metadata": {},
   "source": [
    "**Логистическая регрессия**"
   ]
  },
  {
   "cell_type": "code",
   "execution_count": 73,
   "metadata": {
    "scrolled": true
   },
   "outputs": [
    {
     "name": "stdout",
     "output_type": "stream",
     "text": [
      "Масимальная F1-мера = 0.5035, Порог: 0.26\n"
     ]
    }
   ],
   "source": [
    "#Находим макс. знач-е F1-меры и порог для этого значения\n",
    "model = LogisticRegression(solver='liblinear', class_weight=None, random_state=12345)\n",
    "model.fit(features_train, target_train)\n",
    "best_threshold(model, features_valid, target_valid)"
   ]
  },
  {
   "cell_type": "code",
   "execution_count": 74,
   "metadata": {
    "scrolled": false
   },
   "outputs": [
    {
     "data": {
      "image/png": "[encoded data removed]",
      "text/plain": [
       "<Figure size 432x288 with 1 Axes>"
      ]
     },
     "metadata": {
      "needs_background": "light"
     },
     "output_type": "display_data"
    },
    {
     "name": "stdout",
     "output_type": "stream",
     "text": [
      "AUC-ROC: 0.6960769784477284\n"
     ]
    }
   ],
   "source": [
    "#Строим ROC-кривую и считаем значение AUC-ROC для \"Логистической регрессии\" с изменённым порогом классификации\n",
    "model = LogisticRegression(solver='liblinear', class_weight=None, random_state=12345)\n",
    "model.fit(features_train, target_train)\n",
    "probabilities_valid = model.predict_proba(features_valid)\n",
    "probabilities_one_valid = probabilities_valid[:, 1]\n",
    "predicted_valid = probabilities_one_valid > 0.26\n",
    "\n",
    "fpr, tpr, thresholds = roc_curve(target_valid, probabilities_one_valid)\n",
    "plt.figure()\n",
    "plt.plot(fpr, tpr)\n",
    "plt.plot([0, 1], [0, 1], linestyle='--')\n",
    "plt.xlim([0.0, 1.0])\n",
    "plt.ylim([0.0, 1.0])\n",
    "plt.xlabel('False Positive Rate')\n",
    "plt.ylabel('True Positive Rate')\n",
    "plt.title('ROC-кривая')\n",
    "plt.show() \n",
    "print(\"AUC-ROC:\", roc_auc_score(target_valid, predicted_valid))"
   ]
  },
  {
   "cell_type": "markdown",
   "metadata": {},
   "source": [
    "**Вывод**: С помощью техники изменения порога классификации лучшее значение F1-меры на валидационной выборке - 0.6347 показала модель \"Случайный лес\" со следующими гиперпарметрами: max_depth = 9, n_estimators = 60, с порогом классификации 0.48<br><br>\n",
    "Максимального значения F1-меры в F-1 мера = 0.6392 удалось достичь с помощью техники увеличения выборки (upsampling) с моделью \"Случайный лес\" со следующими гиперпараметрами: max_depth = 14, n_estimators = 50"
   ]
  },
  {
   "cell_type": "markdown",
   "metadata": {},
   "source": [
    "## Тестирование модели"
   ]
  },
  {
   "cell_type": "markdown",
   "metadata": {},
   "source": [
    "**Решающее дерево**"
   ]
  },
  {
   "cell_type": "code",
   "execution_count": 75,
   "metadata": {},
   "outputs": [
    {
     "name": "stdout",
     "output_type": "stream",
     "text": [
      "F1-мера наилучшей модели = 0.5284178187403993 , max_depth: 6\n"
     ]
    }
   ],
   "source": [
    "#Без учёта дисбаланса\n",
    "best_tree(features_train, target_train, features_test, target_test, 21, None)"
   ]
  },
  {
   "cell_type": "code",
   "execution_count": 76,
   "metadata": {},
   "outputs": [
    {
     "data": {
      "image/png": "[encoded data removed]",
      "text/plain": [
       "<Figure size 432x288 with 1 Axes>"
      ]
     },
     "metadata": {
      "needs_background": "light"
     },
     "output_type": "display_data"
    },
    {
     "name": "stdout",
     "output_type": "stream",
     "text": [
      "AUC-ROC: 0.8357708549764569\n"
     ]
    }
   ],
   "source": [
    "#Строим ROC-кривую и считаем значение AUC-ROC\n",
    "model = DecisionTreeClassifier(max_depth=6, class_weight=None, random_state=12345)\n",
    "model.fit(features_train, target_train)\n",
    "auc_roc(model, features_test, target_test)"
   ]
  },
  {
   "cell_type": "code",
   "execution_count": 77,
   "metadata": {},
   "outputs": [
    {
     "name": "stdout",
     "output_type": "stream",
     "text": [
      "F1-мера наилучшей модели = 0.5809128630705395 , max_depth: 5\n"
     ]
    }
   ],
   "source": [
    "#Со сбалансированными весами классов\n",
    "best_tree(features_train, target_train, features_test, target_test, 21, 'balanced')"
   ]
  },
  {
   "cell_type": "code",
   "execution_count": 78,
   "metadata": {},
   "outputs": [
    {
     "data": {
      "image/png": "[encoded data removed]",
      "text/plain": [
       "<Figure size 432x288 with 1 Axes>"
      ]
     },
     "metadata": {
      "needs_background": "light"
     },
     "output_type": "display_data"
    },
    {
     "name": "stdout",
     "output_type": "stream",
     "text": [
      "AUC-ROC: 0.8355422436292389\n"
     ]
    }
   ],
   "source": [
    "#Строим ROC-кривую и считаем значение AUC-ROC\n",
    "model = DecisionTreeClassifier(max_depth=5, class_weight='balanced', random_state=12345)\n",
    "model.fit(features_train, target_train)\n",
    "auc_roc(model, features_test, target_test)"
   ]
  },
  {
   "cell_type": "code",
   "execution_count": 79,
   "metadata": {},
   "outputs": [
    {
     "name": "stdout",
     "output_type": "stream",
     "text": [
      "F1-мера наилучшей модели = 0.5809128630705395 , max_depth: 5\n"
     ]
    }
   ],
   "source": [
    "#обученная на увеличенной выборке\n",
    "best_tree(features_upsampled, target_upsampled, features_test, target_test, 21, None)"
   ]
  },
  {
   "cell_type": "code",
   "execution_count": 80,
   "metadata": {},
   "outputs": [
    {
     "data": {
      "image/png": "[encoded data removed]",
      "text/plain": [
       "<Figure size 432x288 with 1 Axes>"
      ]
     },
     "metadata": {
      "needs_background": "light"
     },
     "output_type": "display_data"
    },
    {
     "name": "stdout",
     "output_type": "stream",
     "text": [
      "AUC-ROC: 0.8355422436292389\n"
     ]
    }
   ],
   "source": [
    "#Строим ROC-кривую и считаем значение AUC-ROC\n",
    "model = DecisionTreeClassifier(max_depth=5, class_weight=None, random_state=12345)\n",
    "model.fit(features_upsampled, target_upsampled)\n",
    "auc_roc(model, features_test, target_test)"
   ]
  },
  {
   "cell_type": "code",
   "execution_count": 81,
   "metadata": {},
   "outputs": [
    {
     "name": "stdout",
     "output_type": "stream",
     "text": [
      "F1-мера наилучшей модели = 0.608066184074457 , max_depth: 5\n"
     ]
    }
   ],
   "source": [
    "#обученная на уменьшенной выборке\n",
    "best_tree(features_downsampled, target_downsampled, features_test, target_test, 21, None)"
   ]
  },
  {
   "cell_type": "code",
   "execution_count": 82,
   "metadata": {},
   "outputs": [
    {
     "data": {
      "image/png": "[encoded data removed]",
      "text/plain": [
       "<Figure size 432x288 with 1 Axes>"
      ]
     },
     "metadata": {
      "needs_background": "light"
     },
     "output_type": "display_data"
    },
    {
     "name": "stdout",
     "output_type": "stream",
     "text": [
      "AUC-ROC: 0.8377856330135773\n"
     ]
    }
   ],
   "source": [
    "#Строим ROC-кривую и считаем значение AUC-ROC\n",
    "model = DecisionTreeClassifier(max_depth=5, class_weight=None, random_state=12345)\n",
    "model.fit(features_downsampled, target_downsampled)\n",
    "auc_roc(model, features_test, target_test)"
   ]
  },
  {
   "cell_type": "code",
   "execution_count": 83,
   "metadata": {},
   "outputs": [
    {
     "name": "stdout",
     "output_type": "stream",
     "text": [
      "F1-мера = 0.5809128630705395\n"
     ]
    }
   ],
   "source": [
    "#С изменённым порогом классификации\n",
    "model = DecisionTreeClassifier(max_depth=5, random_state=12345, class_weight='balanced')\n",
    "model.fit(features_train, target_train)\n",
    "probabilities_test = model.predict_proba(features_test)\n",
    "probabilities_one_test = probabilities_test[:, 1]\n",
    "predicted_test = probabilities_one_test > 0.46\n",
    "f1 = f1_score(target_test, predicted_test)\n",
    "print('F1-мера =',f1)"
   ]
  },
  {
   "cell_type": "code",
   "execution_count": 84,
   "metadata": {},
   "outputs": [
    {
     "data": {
      "image/png": "[encoded data removed]",
      "text/plain": [
       "<Figure size 432x288 with 1 Axes>"
      ]
     },
     "metadata": {
      "needs_background": "light"
     },
     "output_type": "display_data"
    },
    {
     "name": "stdout",
     "output_type": "stream",
     "text": [
      "AUC-ROC: 0.7482172062644007\n"
     ]
    }
   ],
   "source": [
    "#Строим ROC-кривую и считаем значение AUC-ROC для \"Решающего дерева\" с изменённым порогом классификации\n",
    "model = DecisionTreeClassifier(max_depth=5, random_state=12345, class_weight='balanced')\n",
    "model.fit(features_train, target_train)\n",
    "probabilities_valid = model.predict_proba(features_test)\n",
    "probabilities_one_test = probabilities_test[:, 1]\n",
    "predicted_test = probabilities_one_test > 0.46\n",
    "\n",
    "fpr, tpr, thresholds = roc_curve(target_test, probabilities_one_test)\n",
    "plt.figure()\n",
    "plt.plot(fpr, tpr)\n",
    "plt.plot([0, 1], [0, 1], linestyle='--')\n",
    "plt.xlim([0.0, 1.0])\n",
    "plt.ylim([0.0, 1.0])\n",
    "plt.xlabel('False Positive Rate')\n",
    "plt.ylabel('True Positive Rate')\n",
    "plt.title('ROC-кривая')\n",
    "plt.show() \n",
    "print(\"AUC-ROC:\", roc_auc_score(target_test, predicted_test))"
   ]
  },
  {
   "cell_type": "markdown",
   "metadata": {},
   "source": [
    "**Случайный лес**"
   ]
  },
  {
   "cell_type": "code",
   "execution_count": 85,
   "metadata": {},
   "outputs": [
    {
     "name": "stdout",
     "output_type": "stream",
     "text": [
      "F1-мера: 0.5038639876352395\n"
     ]
    }
   ],
   "source": [
    "#Без учёта дисбаланса\n",
    "model = RandomForestClassifier(n_estimators=70, max_depth=17, class_weight = None, random_state=12345)\n",
    "model.fit(features_train, target_train)\n",
    "predicted_test = model.predict(features_test)\n",
    "print('F1-мера:', f1_score(target_test, predicted_test))"
   ]
  },
  {
   "cell_type": "code",
   "execution_count": 86,
   "metadata": {},
   "outputs": [
    {
     "data": {
      "image/png": "[encoded data removed]",
      "text/plain": [
       "<Figure size 432x288 with 1 Axes>"
      ]
     },
     "metadata": {
      "needs_background": "light"
     },
     "output_type": "display_data"
    },
    {
     "name": "stdout",
     "output_type": "stream",
     "text": [
      "AUC-ROC: 0.8422851540540661\n"
     ]
    }
   ],
   "source": [
    "#Строим ROC-кривую и считаем значение AUC-ROC\n",
    "model = RandomForestClassifier(n_estimators=70, max_depth=17, class_weight = None, random_state=12345)\n",
    "model.fit(features_train, target_train)\n",
    "auc_roc(model, features_test, target_test)"
   ]
  },
  {
   "cell_type": "code",
   "execution_count": 87,
   "metadata": {},
   "outputs": [
    {
     "name": "stdout",
     "output_type": "stream",
     "text": [
      "F1-мера: 0.6020066889632107\n"
     ]
    }
   ],
   "source": [
    "#Со сбалансированными весами классов\n",
    "model = RandomForestClassifier(n_estimators=60, max_depth=9, class_weight = 'balanced', random_state=12345)\n",
    "model.fit(features_train, target_train)\n",
    "predicted_test = model.predict(features_test)\n",
    "print('F1-мера:', f1_score(target_test, predicted_test))"
   ]
  },
  {
   "cell_type": "code",
   "execution_count": 88,
   "metadata": {},
   "outputs": [
    {
     "data": {
      "image/png": "[encoded data removed]",
      "text/plain": [
       "<Figure size 432x288 with 1 Axes>"
      ]
     },
     "metadata": {
      "needs_background": "light"
     },
     "output_type": "display_data"
    },
    {
     "name": "stdout",
     "output_type": "stream",
     "text": [
      "AUC-ROC: 0.8487642244978421\n"
     ]
    }
   ],
   "source": [
    "#Строим ROC-кривую и считаем значение AUC-ROC\n",
    "model = RandomForestClassifier(n_estimators=60, max_depth=9, class_weight = 'balanced', random_state=12345)\n",
    "model.fit(features_train, target_train)\n",
    "auc_roc(model, features_test, target_test)"
   ]
  },
  {
   "cell_type": "code",
   "execution_count": 89,
   "metadata": {},
   "outputs": [
    {
     "name": "stdout",
     "output_type": "stream",
     "text": [
      "F1-мера: 0.5980861244019139\n"
     ]
    }
   ],
   "source": [
    "#обученная на увеличенной выборке\n",
    "model = RandomForestClassifier(n_estimators=50, max_depth=14, class_weight = None, random_state=12345)\n",
    "model.fit(features_upsampled, target_upsampled)\n",
    "predicted_test = model.predict(features_test)\n",
    "print('F1-мера:', f1_score(target_test, predicted_test))"
   ]
  },
  {
   "cell_type": "code",
   "execution_count": 90,
   "metadata": {},
   "outputs": [
    {
     "data": {
      "image/png": "[encoded data removed]",
      "text/plain": [
       "<Figure size 432x288 with 1 Axes>"
      ]
     },
     "metadata": {
      "needs_background": "light"
     },
     "output_type": "display_data"
    },
    {
     "name": "stdout",
     "output_type": "stream",
     "text": [
      "AUC-ROC: 0.8475424654946775\n"
     ]
    }
   ],
   "source": [
    "#Строим ROC-кривую и считаем значение AUC-ROC\n",
    "model = RandomForestClassifier(n_estimators=50, max_depth=14, class_weight = None, random_state=12345)\n",
    "model.fit(features_train, target_train)\n",
    "auc_roc(model, features_test, target_test)"
   ]
  },
  {
   "cell_type": "code",
   "execution_count": 91,
   "metadata": {},
   "outputs": [
    {
     "name": "stdout",
     "output_type": "stream",
     "text": [
      "F1-мера: 0.5834862385321101\n"
     ]
    }
   ],
   "source": [
    "#обученная на уменьшенной выборке\n",
    "model = RandomForestClassifier(n_estimators=80, max_depth=9, class_weight = None, random_state=12345)\n",
    "model.fit(features_downsampled, target_downsampled)\n",
    "predicted_test = model.predict(features_test)\n",
    "print('F1-мера:', f1_score(target_test, predicted_test))"
   ]
  },
  {
   "cell_type": "code",
   "execution_count": 92,
   "metadata": {},
   "outputs": [
    {
     "data": {
      "image/png": "[encoded data removed]",
      "text/plain": [
       "<Figure size 432x288 with 1 Axes>"
      ]
     },
     "metadata": {
      "needs_background": "light"
     },
     "output_type": "display_data"
    },
    {
     "name": "stdout",
     "output_type": "stream",
     "text": [
      "AUC-ROC: 0.8414906359293088\n"
     ]
    }
   ],
   "source": [
    "#Строим ROC-кривую и считаем значение AUC-ROC\n",
    "model = RandomForestClassifier(n_estimators=80, max_depth=9, class_weight = None, random_state=12345)\n",
    "model.fit(features_downsampled, target_downsampled)\n",
    "auc_roc(model, features_test, target_test)"
   ]
  },
  {
   "cell_type": "code",
   "execution_count": 93,
   "metadata": {},
   "outputs": [
    {
     "name": "stdout",
     "output_type": "stream",
     "text": [
      "F1-мера = 0.6120906801007556\n"
     ]
    }
   ],
   "source": [
    "#С изменённым порогом классификации\n",
    "model = RandomForestClassifier(n_estimators = 70, max_depth=17, random_state=12345)\n",
    "model.fit(features_train, target_train)\n",
    "probabilities_test = model.predict_proba(features_test)\n",
    "probabilities_one_test = probabilities_test[:, 1]\n",
    "predicted_test = probabilities_one_test > 0.36\n",
    "f1 = f1_score(target_test, predicted_test)\n",
    "print('F1-мера =',f1)"
   ]
  },
  {
   "cell_type": "code",
   "execution_count": 94,
   "metadata": {},
   "outputs": [
    {
     "data": {
      "image/png": "[encoded data removed]",
      "text/plain": [
       "<Figure size 432x288 with 1 Axes>"
      ]
     },
     "metadata": {
      "needs_background": "light"
     },
     "output_type": "display_data"
    },
    {
     "name": "stdout",
     "output_type": "stream",
     "text": [
      "AUC-ROC: 0.7466506563769074\n"
     ]
    }
   ],
   "source": [
    "#Строим ROC-кривую и считаем значение AUC-ROC для \"Случайного леса\" с изменённым порогом классификации\n",
    "model = RandomForestClassifier(n_estimators = 70, max_depth=17, random_state=12345)\n",
    "model.fit(features_train, target_train)\n",
    "probabilities_valid = model.predict_proba(features_test)\n",
    "probabilities_one_test = probabilities_test[:, 1]\n",
    "predicted_test = probabilities_one_test > 0.36\n",
    "\n",
    "fpr, tpr, thresholds = roc_curve(target_test, probabilities_one_test)\n",
    "plt.figure()\n",
    "plt.plot(fpr, tpr)\n",
    "plt.plot([0, 1], [0, 1], linestyle='--')\n",
    "plt.xlim([0.0, 1.0])\n",
    "plt.ylim([0.0, 1.0])\n",
    "plt.xlabel('False Positive Rate')\n",
    "plt.ylabel('True Positive Rate')\n",
    "plt.title('ROC-кривая')\n",
    "plt.show() \n",
    "print(\"AUC-ROC:\", roc_auc_score(target_test, predicted_test))"
   ]
  },
  {
   "cell_type": "markdown",
   "metadata": {},
   "source": [
    "Логистическая регрессия"
   ]
  },
  {
   "cell_type": "code",
   "execution_count": 95,
   "metadata": {},
   "outputs": [
    {
     "name": "stdout",
     "output_type": "stream",
     "text": [
      "F-1 мера = 0.2778\n"
     ]
    }
   ],
   "source": [
    "#Без учёта дисбаланса\n",
    "best_regression(features_train, target_train, features_test, target_test, None)"
   ]
  },
  {
   "cell_type": "code",
   "execution_count": 96,
   "metadata": {},
   "outputs": [
    {
     "data": {
      "image/png": "[encoded data removed]",
      "text/plain": [
       "<Figure size 432x288 with 1 Axes>"
      ]
     },
     "metadata": {
      "needs_background": "light"
     },
     "output_type": "display_data"
    },
    {
     "name": "stdout",
     "output_type": "stream",
     "text": [
      "AUC-ROC: 0.7372033861463023\n"
     ]
    }
   ],
   "source": [
    "#Строим ROC-кривую и считаем значение AUC-ROC\n",
    "model = LogisticRegression(solver='liblinear', class_weight = None, random_state=12345)\n",
    "model.fit(features_train, target_train)\n",
    "auc_roc(model, features_test, target_test)"
   ]
  },
  {
   "cell_type": "code",
   "execution_count": 97,
   "metadata": {},
   "outputs": [
    {
     "name": "stdout",
     "output_type": "stream",
     "text": [
      "F-1 мера = 0.4792\n"
     ]
    }
   ],
   "source": [
    "#Со сбалансированными весами классов\n",
    "best_regression(features_train, target_train, features_test, target_test, 'balanced')"
   ]
  },
  {
   "cell_type": "code",
   "execution_count": 98,
   "metadata": {},
   "outputs": [
    {
     "data": {
      "image/png": "[encoded data removed]",
      "text/plain": [
       "<Figure size 432x288 with 1 Axes>"
      ]
     },
     "metadata": {
      "needs_background": "light"
     },
     "output_type": "display_data"
    },
    {
     "name": "stdout",
     "output_type": "stream",
     "text": [
      "AUC-ROC: 0.7400081850357758\n"
     ]
    }
   ],
   "source": [
    "#Строим ROC-кривую и считаем значение AUC-ROC\n",
    "model = LogisticRegression(solver='liblinear', class_weight = 'balanced', random_state=12345)\n",
    "model.fit(features_train, target_train)\n",
    "auc_roc(model, features_test, target_test)"
   ]
  },
  {
   "cell_type": "code",
   "execution_count": 99,
   "metadata": {
    "scrolled": true
   },
   "outputs": [
    {
     "name": "stdout",
     "output_type": "stream",
     "text": [
      "F-1 мера = 0.4796\n"
     ]
    }
   ],
   "source": [
    "#Обученная на увеличенной выборке\n",
    "best_regression(features_upsampled, target_upsampled, features_test, target_test, None)"
   ]
  },
  {
   "cell_type": "code",
   "execution_count": 100,
   "metadata": {},
   "outputs": [
    {
     "data": {
      "image/png": "[encoded data removed]",
      "text/plain": [
       "<Figure size 432x288 with 1 Axes>"
      ]
     },
     "metadata": {
      "needs_background": "light"
     },
     "output_type": "display_data"
    },
    {
     "name": "stdout",
     "output_type": "stream",
     "text": [
      "AUC-ROC: 0.739994693218563\n"
     ]
    }
   ],
   "source": [
    "#Строим ROC-кривую и считаем значение AUC-ROC\n",
    "model = LogisticRegression(solver='liblinear', class_weight = None, random_state=12345)\n",
    "model.fit(features_upsampled, target_upsampled)\n",
    "auc_roc(model, features_test, target_test)"
   ]
  },
  {
   "cell_type": "code",
   "execution_count": 101,
   "metadata": {
    "scrolled": true
   },
   "outputs": [
    {
     "name": "stdout",
     "output_type": "stream",
     "text": [
      "F-1 мера = 0.4720\n"
     ]
    }
   ],
   "source": [
    "#Обученная на уменьшенной выборке\n",
    "best_regression(features_downsampled, target_downsampled, features_test, target_test, None)"
   ]
  },
  {
   "cell_type": "code",
   "execution_count": 102,
   "metadata": {
    "scrolled": true
   },
   "outputs": [
    {
     "data": {
      "image/png": "[encoded data removed]",
      "text/plain": [
       "<Figure size 432x288 with 1 Axes>"
      ]
     },
     "metadata": {
      "needs_background": "light"
     },
     "output_type": "display_data"
    },
    {
     "name": "stdout",
     "output_type": "stream",
     "text": [
      "AUC-ROC: 0.7379604270010238\n"
     ]
    }
   ],
   "source": [
    "#Строим ROC-кривую и считаем значение AUC-ROC\n",
    "model = LogisticRegression(solver='liblinear', class_weight = None, random_state=12345)\n",
    "model.fit(features_downsampled, target_downsampled)\n",
    "auc_roc(model, features_test, target_test)"
   ]
  },
  {
   "cell_type": "code",
   "execution_count": 103,
   "metadata": {
    "scrolled": true
   },
   "outputs": [
    {
     "data": {
      "image/png": "[encoded data removed]",
      "text/plain": [
       "<Figure size 432x288 with 1 Axes>"
      ]
     },
     "metadata": {
      "needs_background": "light"
     },
     "output_type": "display_data"
    },
    {
     "name": "stdout",
     "output_type": "stream",
     "text": [
      "AUC-ROC: 0.6606080911926917\n"
     ]
    }
   ],
   "source": [
    "#Строим ROC-кривую и считаем значение AUC-ROC для \"Логистической регрессии\" с изменённым порогом классификации\n",
    "model = LogisticRegression(solver='liblinear', class_weight=None, random_state=12345)\n",
    "model.fit(features_train, target_train)\n",
    "probabilities_test = model.predict_proba(features_test)\n",
    "probabilities_one_test = probabilities_test[:, 1]\n",
    "predicted_test = probabilities_one_test > 0.26\n",
    "\n",
    "fpr, tpr, thresholds = roc_curve(target_test, probabilities_one_test)\n",
    "plt.figure()\n",
    "plt.plot(fpr, tpr)\n",
    "plt.plot([0, 1], [0, 1], linestyle='--')\n",
    "plt.xlim([0.0, 1.0])\n",
    "plt.ylim([0.0, 1.0])\n",
    "plt.xlabel('False Positive Rate')\n",
    "plt.ylabel('True Positive Rate')\n",
    "plt.title('ROC-кривая')\n",
    "plt.show() \n",
    "print(\"AUC-ROC:\", roc_auc_score(target_test, predicted_test))"
   ]
  },
  {
   "cell_type": "markdown",
   "metadata": {},
   "source": [
    "**Вывод**: На тестовой выборке максимального значения F1-меры в 0.612 показала модель \"Случайный лес\" с изменением порога классификации до 0.36 со следующими гиперпараметрами: n_estimators = 70, max_depth=17"
   ]
  },
  {
   "cell_type": "code",
   "execution_count": null,
   "metadata": {},
   "outputs": [],
   "source": []
  }
 ],
 "metadata": {
  "ExecuteTimeLog": [
   {
    "duration": 378,
    "start_time": "2023-02-04T10:30:47.122Z"
   },
   {
    "duration": 65,
    "start_time": "2023-02-04T10:31:01.635Z"
   },
   {
    "duration": 154,
    "start_time": "2023-02-04T10:31:07.883Z"
   },
   {
    "duration": 22,
    "start_time": "2023-02-04T10:31:11.165Z"
   },
   {
    "duration": 15,
    "start_time": "2023-02-04T10:31:24.427Z"
   },
   {
    "duration": 12,
    "start_time": "2023-02-04T10:31:30.962Z"
   },
   {
    "duration": 9,
    "start_time": "2023-02-04T10:55:03.401Z"
   },
   {
    "duration": 11,
    "start_time": "2023-02-04T10:55:21.032Z"
   },
   {
    "duration": 7,
    "start_time": "2023-02-04T10:55:31.055Z"
   },
   {
    "duration": 7,
    "start_time": "2023-02-04T10:55:36.836Z"
   },
   {
    "duration": 7,
    "start_time": "2023-02-04T10:55:43.375Z"
   },
   {
    "duration": 4,
    "start_time": "2023-02-04T10:59:21.148Z"
   },
   {
    "duration": 477,
    "start_time": "2023-02-04T11:04:56.941Z"
   },
   {
    "duration": 1112,
    "start_time": "2023-02-04T11:05:39.308Z"
   },
   {
    "duration": 398,
    "start_time": "2023-02-04T11:06:51.083Z"
   },
   {
    "duration": 38,
    "start_time": "2023-02-04T11:06:51.483Z"
   },
   {
    "duration": 20,
    "start_time": "2023-02-04T11:06:51.523Z"
   },
   {
    "duration": 12,
    "start_time": "2023-02-04T11:06:51.544Z"
   },
   {
    "duration": 283,
    "start_time": "2023-02-04T11:06:51.558Z"
   },
   {
    "duration": 5,
    "start_time": "2023-02-04T11:06:51.842Z"
   },
   {
    "duration": 48,
    "start_time": "2023-02-04T11:07:59.804Z"
   },
   {
    "duration": 399,
    "start_time": "2023-02-04T11:45:06.009Z"
   },
   {
    "duration": 40,
    "start_time": "2023-02-04T11:45:06.409Z"
   },
   {
    "duration": 21,
    "start_time": "2023-02-04T11:45:06.450Z"
   },
   {
    "duration": 13,
    "start_time": "2023-02-04T11:45:06.472Z"
   },
   {
    "duration": 262,
    "start_time": "2023-02-04T11:45:06.487Z"
   },
   {
    "duration": 52,
    "start_time": "2023-02-04T11:45:06.751Z"
   },
   {
    "duration": 5,
    "start_time": "2023-02-04T11:45:06.804Z"
   },
   {
    "duration": 6,
    "start_time": "2023-02-04T11:48:35.805Z"
   },
   {
    "duration": 4,
    "start_time": "2023-02-04T11:48:37.987Z"
   },
   {
    "duration": 4,
    "start_time": "2023-02-04T11:51:03.814Z"
   },
   {
    "duration": 5,
    "start_time": "2023-02-04T11:51:16.227Z"
   },
   {
    "duration": 14,
    "start_time": "2023-02-04T11:51:29.213Z"
   },
   {
    "duration": 415,
    "start_time": "2023-02-05T10:08:44.099Z"
   },
   {
    "duration": 79,
    "start_time": "2023-02-05T10:08:44.515Z"
   },
   {
    "duration": 20,
    "start_time": "2023-02-05T10:08:44.596Z"
   },
   {
    "duration": 12,
    "start_time": "2023-02-05T10:08:44.619Z"
   },
   {
    "duration": 436,
    "start_time": "2023-02-05T10:08:44.632Z"
   },
   {
    "duration": 51,
    "start_time": "2023-02-05T10:08:45.071Z"
   },
   {
    "duration": 6,
    "start_time": "2023-02-05T10:08:45.127Z"
   },
   {
    "duration": 7,
    "start_time": "2023-02-05T10:08:45.134Z"
   },
   {
    "duration": 12,
    "start_time": "2023-02-05T10:08:45.142Z"
   },
   {
    "duration": 13,
    "start_time": "2023-02-05T10:09:13.093Z"
   },
   {
    "duration": 1095,
    "start_time": "2023-02-05T10:13:11.643Z"
   },
   {
    "duration": 351,
    "start_time": "2023-02-05T10:13:23.782Z"
   },
   {
    "duration": 36,
    "start_time": "2023-02-05T10:13:24.135Z"
   },
   {
    "duration": 20,
    "start_time": "2023-02-05T10:13:24.173Z"
   },
   {
    "duration": 12,
    "start_time": "2023-02-05T10:13:24.194Z"
   },
   {
    "duration": 1311,
    "start_time": "2023-02-05T10:13:24.208Z"
   },
   {
    "duration": 46,
    "start_time": "2023-02-05T10:13:25.521Z"
   },
   {
    "duration": 46,
    "start_time": "2023-02-05T10:13:25.569Z"
   },
   {
    "duration": 7,
    "start_time": "2023-02-05T10:13:25.627Z"
   },
   {
    "duration": 6,
    "start_time": "2023-02-05T10:13:25.635Z"
   },
   {
    "duration": 5,
    "start_time": "2023-02-05T10:13:25.643Z"
   },
   {
    "duration": 13,
    "start_time": "2023-02-05T10:13:25.649Z"
   },
   {
    "duration": 847,
    "start_time": "2023-02-05T10:14:21.768Z"
   },
   {
    "duration": 1076,
    "start_time": "2023-02-05T10:14:42.256Z"
   },
   {
    "duration": 850,
    "start_time": "2023-02-05T10:17:58.566Z"
   },
   {
    "duration": 8,
    "start_time": "2023-02-05T11:29:11.519Z"
   },
   {
    "duration": 4,
    "start_time": "2023-02-05T11:29:36.442Z"
   },
   {
    "duration": 8,
    "start_time": "2023-02-05T11:35:34.896Z"
   },
   {
    "duration": 5,
    "start_time": "2023-02-05T11:35:41.936Z"
   },
   {
    "duration": 377,
    "start_time": "2023-02-05T11:36:56.547Z"
   },
   {
    "duration": 37,
    "start_time": "2023-02-05T11:36:56.926Z"
   },
   {
    "duration": 22,
    "start_time": "2023-02-05T11:36:56.964Z"
   },
   {
    "duration": 13,
    "start_time": "2023-02-05T11:36:56.988Z"
   },
   {
    "duration": 1079,
    "start_time": "2023-02-05T11:36:57.003Z"
   },
   {
    "duration": 112,
    "start_time": "2023-02-05T11:36:58.083Z"
   },
   {
    "duration": 70,
    "start_time": "2023-02-05T11:36:58.197Z"
   },
   {
    "duration": 6,
    "start_time": "2023-02-05T11:36:58.269Z"
   },
   {
    "duration": 6,
    "start_time": "2023-02-05T11:36:58.276Z"
   },
   {
    "duration": 8,
    "start_time": "2023-02-05T11:36:58.284Z"
   },
   {
    "duration": 17,
    "start_time": "2023-02-05T11:36:58.294Z"
   },
   {
    "duration": 5,
    "start_time": "2023-02-05T11:36:58.326Z"
   },
   {
    "duration": 13,
    "start_time": "2023-02-05T11:36:58.333Z"
   },
   {
    "duration": 13,
    "start_time": "2023-02-05T11:38:57.415Z"
   },
   {
    "duration": 7,
    "start_time": "2023-02-05T11:39:20.248Z"
   },
   {
    "duration": 5,
    "start_time": "2023-02-05T11:39:27.374Z"
   },
   {
    "duration": 70,
    "start_time": "2023-02-05T11:40:46.107Z"
   },
   {
    "duration": 470,
    "start_time": "2023-02-05T11:40:52.522Z"
   },
   {
    "duration": 53321,
    "start_time": "2023-02-05T11:42:35.642Z"
   },
   {
    "duration": 7390,
    "start_time": "2023-02-05T11:46:17.607Z"
   },
   {
    "duration": 549,
    "start_time": "2023-02-05T11:46:59.992Z"
   },
   {
    "duration": 651,
    "start_time": "2023-02-05T11:47:18.519Z"
   },
   {
    "duration": 2109,
    "start_time": "2023-02-05T11:47:37.104Z"
   },
   {
    "duration": 4532,
    "start_time": "2023-02-05T11:48:00.871Z"
   },
   {
    "duration": 8212,
    "start_time": "2023-02-05T11:48:31.222Z"
   },
   {
    "duration": 12879,
    "start_time": "2023-02-05T11:48:53.885Z"
   },
   {
    "duration": 33142,
    "start_time": "2023-02-05T11:49:31.588Z"
   },
   {
    "duration": 10,
    "start_time": "2023-02-05T11:51:02.634Z"
   },
   {
    "duration": 231,
    "start_time": "2023-02-05T11:51:50.671Z"
   },
   {
    "duration": 7,
    "start_time": "2023-02-05T11:51:56.190Z"
   },
   {
    "duration": 3,
    "start_time": "2023-02-05T11:52:14.042Z"
   },
   {
    "duration": 6,
    "start_time": "2023-02-05T11:56:56.658Z"
   },
   {
    "duration": 3,
    "start_time": "2023-02-05T11:57:15.644Z"
   },
   {
    "duration": 3,
    "start_time": "2023-02-05T11:58:25.904Z"
   },
   {
    "duration": 4,
    "start_time": "2023-02-05T11:58:37.826Z"
   },
   {
    "duration": 1183,
    "start_time": "2023-02-05T12:07:10.877Z"
   },
   {
    "duration": 1188,
    "start_time": "2023-02-05T12:07:35.184Z"
   },
   {
    "duration": 1096,
    "start_time": "2023-02-05T12:07:51.997Z"
   },
   {
    "duration": 40,
    "start_time": "2023-02-05T12:07:53.096Z"
   },
   {
    "duration": 22,
    "start_time": "2023-02-05T12:07:53.138Z"
   },
   {
    "duration": 13,
    "start_time": "2023-02-05T12:07:53.161Z"
   },
   {
    "duration": 1097,
    "start_time": "2023-02-05T12:07:53.176Z"
   },
   {
    "duration": 60,
    "start_time": "2023-02-05T12:07:54.274Z"
   },
   {
    "duration": 50,
    "start_time": "2023-02-05T12:07:54.335Z"
   },
   {
    "duration": 7,
    "start_time": "2023-02-05T12:07:54.386Z"
   },
   {
    "duration": 5,
    "start_time": "2023-02-05T12:07:54.394Z"
   },
   {
    "duration": 26,
    "start_time": "2023-02-05T12:07:54.401Z"
   },
   {
    "duration": 27,
    "start_time": "2023-02-05T12:07:54.428Z"
   },
   {
    "duration": 4,
    "start_time": "2023-02-05T12:07:54.457Z"
   },
   {
    "duration": 12,
    "start_time": "2023-02-05T12:07:54.463Z"
   },
   {
    "duration": 7,
    "start_time": "2023-02-05T12:07:54.477Z"
   },
   {
    "duration": 1214,
    "start_time": "2023-02-05T12:07:54.485Z"
   },
   {
    "duration": 0,
    "start_time": "2023-02-05T12:07:55.701Z"
   },
   {
    "duration": 0,
    "start_time": "2023-02-05T12:07:55.702Z"
   },
   {
    "duration": 0,
    "start_time": "2023-02-05T12:07:55.703Z"
   },
   {
    "duration": 0,
    "start_time": "2023-02-05T12:07:55.704Z"
   },
   {
    "duration": 0,
    "start_time": "2023-02-05T12:07:55.705Z"
   },
   {
    "duration": 0,
    "start_time": "2023-02-05T12:07:55.706Z"
   },
   {
    "duration": 1170,
    "start_time": "2023-02-05T12:08:19.036Z"
   },
   {
    "duration": 16,
    "start_time": "2023-02-05T12:08:35.575Z"
   },
   {
    "duration": 1287,
    "start_time": "2023-02-05T12:08:59.535Z"
   },
   {
    "duration": 11,
    "start_time": "2023-02-05T12:09:05.736Z"
   },
   {
    "duration": 11,
    "start_time": "2023-02-05T12:09:23.588Z"
   },
   {
    "duration": 10,
    "start_time": "2023-02-05T12:10:28.598Z"
   },
   {
    "duration": 8,
    "start_time": "2023-02-05T12:10:41.932Z"
   },
   {
    "duration": 1082,
    "start_time": "2023-02-05T12:11:17.623Z"
   },
   {
    "duration": 37,
    "start_time": "2023-02-05T12:11:18.707Z"
   },
   {
    "duration": 22,
    "start_time": "2023-02-05T12:11:18.745Z"
   },
   {
    "duration": 17,
    "start_time": "2023-02-05T12:11:18.769Z"
   },
   {
    "duration": 1070,
    "start_time": "2023-02-05T12:11:18.788Z"
   },
   {
    "duration": 52,
    "start_time": "2023-02-05T12:11:19.860Z"
   },
   {
    "duration": 64,
    "start_time": "2023-02-05T12:11:19.914Z"
   },
   {
    "duration": 7,
    "start_time": "2023-02-05T12:11:19.979Z"
   },
   {
    "duration": 18,
    "start_time": "2023-02-05T12:11:19.988Z"
   },
   {
    "duration": 33,
    "start_time": "2023-02-05T12:11:20.008Z"
   },
   {
    "duration": 26,
    "start_time": "2023-02-05T12:11:20.043Z"
   },
   {
    "duration": 26,
    "start_time": "2023-02-05T12:11:20.071Z"
   },
   {
    "duration": 28,
    "start_time": "2023-02-05T12:11:20.098Z"
   },
   {
    "duration": 5,
    "start_time": "2023-02-05T12:11:42.796Z"
   },
   {
    "duration": 11,
    "start_time": "2023-02-05T12:12:29.188Z"
   },
   {
    "duration": 10,
    "start_time": "2023-02-05T12:12:33.113Z"
   },
   {
    "duration": 1095,
    "start_time": "2023-02-05T12:12:43.270Z"
   },
   {
    "duration": 36,
    "start_time": "2023-02-05T12:12:44.367Z"
   },
   {
    "duration": 23,
    "start_time": "2023-02-05T12:12:44.405Z"
   },
   {
    "duration": 13,
    "start_time": "2023-02-05T12:12:44.430Z"
   },
   {
    "duration": 1050,
    "start_time": "2023-02-05T12:12:44.445Z"
   },
   {
    "duration": 57,
    "start_time": "2023-02-05T12:12:45.497Z"
   },
   {
    "duration": 51,
    "start_time": "2023-02-05T12:12:45.556Z"
   },
   {
    "duration": 18,
    "start_time": "2023-02-05T12:12:45.609Z"
   },
   {
    "duration": 6,
    "start_time": "2023-02-05T12:12:45.629Z"
   },
   {
    "duration": 4,
    "start_time": "2023-02-05T12:12:45.637Z"
   },
   {
    "duration": 13,
    "start_time": "2023-02-05T12:12:45.643Z"
   },
   {
    "duration": 4,
    "start_time": "2023-02-05T12:12:45.658Z"
   },
   {
    "duration": 9,
    "start_time": "2023-02-05T12:12:45.664Z"
   },
   {
    "duration": 5,
    "start_time": "2023-02-05T12:12:45.675Z"
   },
   {
    "duration": 49,
    "start_time": "2023-02-05T12:12:45.682Z"
   },
   {
    "duration": 8,
    "start_time": "2023-02-05T12:12:45.733Z"
   },
   {
    "duration": 19,
    "start_time": "2023-02-05T12:12:45.743Z"
   },
   {
    "duration": 6,
    "start_time": "2023-02-05T12:12:45.764Z"
   },
   {
    "duration": 11,
    "start_time": "2023-02-05T12:12:45.772Z"
   },
   {
    "duration": 23,
    "start_time": "2023-02-05T12:12:45.784Z"
   },
   {
    "duration": 9,
    "start_time": "2023-02-05T12:12:45.809Z"
   },
   {
    "duration": 6,
    "start_time": "2023-02-05T12:12:45.820Z"
   },
   {
    "duration": 19,
    "start_time": "2023-02-05T12:13:04.621Z"
   },
   {
    "duration": 9,
    "start_time": "2023-02-05T12:18:14.785Z"
   },
   {
    "duration": 10,
    "start_time": "2023-02-05T12:18:18.609Z"
   },
   {
    "duration": 10,
    "start_time": "2023-02-05T12:18:22.117Z"
   },
   {
    "duration": 17,
    "start_time": "2023-02-05T12:18:25.662Z"
   },
   {
    "duration": 1142,
    "start_time": "2023-02-05T12:35:56.897Z"
   },
   {
    "duration": 37,
    "start_time": "2023-02-05T12:35:58.041Z"
   },
   {
    "duration": 25,
    "start_time": "2023-02-05T12:35:58.080Z"
   },
   {
    "duration": 16,
    "start_time": "2023-02-05T12:35:58.107Z"
   },
   {
    "duration": 1070,
    "start_time": "2023-02-05T12:35:58.125Z"
   },
   {
    "duration": 53,
    "start_time": "2023-02-05T12:35:59.197Z"
   },
   {
    "duration": 52,
    "start_time": "2023-02-05T12:35:59.252Z"
   },
   {
    "duration": 21,
    "start_time": "2023-02-05T12:35:59.306Z"
   },
   {
    "duration": 6,
    "start_time": "2023-02-05T12:35:59.329Z"
   },
   {
    "duration": 8,
    "start_time": "2023-02-05T12:35:59.338Z"
   },
   {
    "duration": 32,
    "start_time": "2023-02-05T12:35:59.348Z"
   },
   {
    "duration": 4,
    "start_time": "2023-02-05T12:35:59.382Z"
   },
   {
    "duration": 10,
    "start_time": "2023-02-05T12:35:59.388Z"
   },
   {
    "duration": 5,
    "start_time": "2023-02-05T12:35:59.400Z"
   },
   {
    "duration": 23,
    "start_time": "2023-02-05T12:35:59.406Z"
   },
   {
    "duration": 18,
    "start_time": "2023-02-05T12:35:59.430Z"
   },
   {
    "duration": 7,
    "start_time": "2023-02-05T12:35:59.450Z"
   },
   {
    "duration": 16,
    "start_time": "2023-02-05T12:35:59.459Z"
   },
   {
    "duration": 4,
    "start_time": "2023-02-05T12:35:59.477Z"
   },
   {
    "duration": 6,
    "start_time": "2023-02-05T12:35:59.483Z"
   },
   {
    "duration": 8,
    "start_time": "2023-02-05T12:35:59.491Z"
   },
   {
    "duration": 13,
    "start_time": "2023-02-05T12:35:59.501Z"
   },
   {
    "duration": 18,
    "start_time": "2023-02-05T12:35:59.516Z"
   },
   {
    "duration": 1034,
    "start_time": "2023-02-05T12:41:18.768Z"
   },
   {
    "duration": 37,
    "start_time": "2023-02-05T12:41:19.804Z"
   },
   {
    "duration": 22,
    "start_time": "2023-02-05T12:41:19.843Z"
   },
   {
    "duration": 13,
    "start_time": "2023-02-05T12:41:19.867Z"
   },
   {
    "duration": 1099,
    "start_time": "2023-02-05T12:41:19.882Z"
   },
   {
    "duration": 59,
    "start_time": "2023-02-05T12:41:20.983Z"
   },
   {
    "duration": 52,
    "start_time": "2023-02-05T12:41:21.043Z"
   },
   {
    "duration": 7,
    "start_time": "2023-02-05T12:41:21.097Z"
   },
   {
    "duration": 6,
    "start_time": "2023-02-05T12:41:21.127Z"
   },
   {
    "duration": 5,
    "start_time": "2023-02-05T12:41:21.135Z"
   },
   {
    "duration": 15,
    "start_time": "2023-02-05T12:41:21.142Z"
   },
   {
    "duration": 5,
    "start_time": "2023-02-05T12:41:21.159Z"
   },
   {
    "duration": 20,
    "start_time": "2023-02-05T12:41:21.166Z"
   },
   {
    "duration": 4,
    "start_time": "2023-02-05T12:41:21.188Z"
   },
   {
    "duration": 37,
    "start_time": "2023-02-05T12:41:21.194Z"
   },
   {
    "duration": 16,
    "start_time": "2023-02-05T12:41:21.232Z"
   },
   {
    "duration": 25,
    "start_time": "2023-02-05T12:41:21.250Z"
   },
   {
    "duration": 13,
    "start_time": "2023-02-05T12:41:21.277Z"
   },
   {
    "duration": 27,
    "start_time": "2023-02-05T12:41:21.292Z"
   },
   {
    "duration": 34,
    "start_time": "2023-02-05T12:41:21.321Z"
   },
   {
    "duration": 19,
    "start_time": "2023-02-05T12:41:21.357Z"
   },
   {
    "duration": 20,
    "start_time": "2023-02-05T12:41:21.378Z"
   },
   {
    "duration": 17,
    "start_time": "2023-02-05T12:41:21.400Z"
   },
   {
    "duration": 23,
    "start_time": "2023-02-05T12:44:28.219Z"
   },
   {
    "duration": 16,
    "start_time": "2023-02-05T12:45:27.003Z"
   },
   {
    "duration": 156,
    "start_time": "2023-02-05T12:45:37.123Z"
   },
   {
    "duration": 9,
    "start_time": "2023-02-05T12:45:52.554Z"
   },
   {
    "duration": 17,
    "start_time": "2023-02-05T12:45:55.355Z"
   },
   {
    "duration": 22,
    "start_time": "2023-02-05T12:46:33.456Z"
   },
   {
    "duration": 1114,
    "start_time": "2023-02-05T12:46:42.203Z"
   },
   {
    "duration": 41,
    "start_time": "2023-02-05T12:46:43.319Z"
   },
   {
    "duration": 25,
    "start_time": "2023-02-05T12:46:43.362Z"
   },
   {
    "duration": 14,
    "start_time": "2023-02-05T12:46:43.389Z"
   },
   {
    "duration": 1147,
    "start_time": "2023-02-05T12:46:43.405Z"
   },
   {
    "duration": 51,
    "start_time": "2023-02-05T12:46:44.553Z"
   },
   {
    "duration": 73,
    "start_time": "2023-02-05T12:46:44.605Z"
   },
   {
    "duration": 7,
    "start_time": "2023-02-05T12:46:44.680Z"
   },
   {
    "duration": 5,
    "start_time": "2023-02-05T12:46:44.689Z"
   },
   {
    "duration": 20,
    "start_time": "2023-02-05T12:46:44.696Z"
   },
   {
    "duration": 22,
    "start_time": "2023-02-05T12:46:44.717Z"
   },
   {
    "duration": 13,
    "start_time": "2023-02-05T12:46:44.740Z"
   },
   {
    "duration": 26,
    "start_time": "2023-02-05T12:46:44.754Z"
   },
   {
    "duration": 7,
    "start_time": "2023-02-05T12:46:44.783Z"
   },
   {
    "duration": 20,
    "start_time": "2023-02-05T12:46:44.792Z"
   },
   {
    "duration": 12,
    "start_time": "2023-02-05T12:46:44.814Z"
   },
   {
    "duration": 23,
    "start_time": "2023-02-05T12:46:44.831Z"
   },
   {
    "duration": 9,
    "start_time": "2023-02-05T12:46:44.855Z"
   },
   {
    "duration": 12,
    "start_time": "2023-02-05T12:46:44.865Z"
   },
   {
    "duration": 5,
    "start_time": "2023-02-05T12:46:44.878Z"
   },
   {
    "duration": 7,
    "start_time": "2023-02-05T12:46:44.885Z"
   },
   {
    "duration": 124,
    "start_time": "2023-02-05T12:46:44.894Z"
   },
   {
    "duration": 0,
    "start_time": "2023-02-05T12:46:45.020Z"
   },
   {
    "duration": 23,
    "start_time": "2023-02-05T12:46:57.443Z"
   },
   {
    "duration": 16,
    "start_time": "2023-02-05T12:47:05.152Z"
   },
   {
    "duration": 11,
    "start_time": "2023-02-05T12:47:16.773Z"
   },
   {
    "duration": 32,
    "start_time": "2023-02-05T12:47:19.308Z"
   },
   {
    "duration": 1385,
    "start_time": "2023-02-05T12:51:54.773Z"
   },
   {
    "duration": 38,
    "start_time": "2023-02-05T12:51:56.159Z"
   },
   {
    "duration": 23,
    "start_time": "2023-02-05T12:51:56.199Z"
   },
   {
    "duration": 15,
    "start_time": "2023-02-05T12:51:56.224Z"
   },
   {
    "duration": 1118,
    "start_time": "2023-02-05T12:51:56.241Z"
   },
   {
    "duration": 50,
    "start_time": "2023-02-05T12:51:57.361Z"
   },
   {
    "duration": 66,
    "start_time": "2023-02-05T12:51:57.413Z"
   },
   {
    "duration": 6,
    "start_time": "2023-02-05T12:51:57.480Z"
   },
   {
    "duration": 6,
    "start_time": "2023-02-05T12:51:57.488Z"
   },
   {
    "duration": 3,
    "start_time": "2023-02-05T12:51:57.496Z"
   },
   {
    "duration": 37,
    "start_time": "2023-02-05T12:51:57.501Z"
   },
   {
    "duration": 5,
    "start_time": "2023-02-05T12:51:57.540Z"
   },
   {
    "duration": 7,
    "start_time": "2023-02-05T12:51:57.546Z"
   },
   {
    "duration": 9,
    "start_time": "2023-02-05T12:51:57.555Z"
   },
   {
    "duration": 20,
    "start_time": "2023-02-05T12:51:57.565Z"
   },
   {
    "duration": 22,
    "start_time": "2023-02-05T12:51:57.586Z"
   },
   {
    "duration": 3,
    "start_time": "2023-02-05T12:51:57.610Z"
   },
   {
    "duration": 23,
    "start_time": "2023-02-05T12:51:57.615Z"
   },
   {
    "duration": 7,
    "start_time": "2023-02-05T12:51:57.640Z"
   },
   {
    "duration": 12,
    "start_time": "2023-02-05T12:51:57.650Z"
   },
   {
    "duration": 8,
    "start_time": "2023-02-05T12:51:57.663Z"
   },
   {
    "duration": 2,
    "start_time": "2023-02-05T12:52:30.003Z"
   },
   {
    "duration": 3,
    "start_time": "2023-02-05T12:56:14.325Z"
   },
   {
    "duration": 8,
    "start_time": "2023-02-05T12:56:41.925Z"
   },
   {
    "duration": 10,
    "start_time": "2023-02-05T12:57:38.088Z"
   },
   {
    "duration": 11,
    "start_time": "2023-02-05T13:19:45.825Z"
   },
   {
    "duration": 20,
    "start_time": "2023-02-05T13:19:55.379Z"
   },
   {
    "duration": 5,
    "start_time": "2023-02-05T13:20:31.346Z"
   },
   {
    "duration": 18,
    "start_time": "2023-02-05T13:20:37.599Z"
   },
   {
    "duration": 114,
    "start_time": "2023-02-05T13:30:29.341Z"
   },
   {
    "duration": 11,
    "start_time": "2023-02-05T13:30:49.471Z"
   },
   {
    "duration": 18,
    "start_time": "2023-02-05T13:30:51.543Z"
   },
   {
    "duration": 12,
    "start_time": "2023-02-05T13:31:14.694Z"
   },
   {
    "duration": 10,
    "start_time": "2023-02-05T13:31:52.838Z"
   },
   {
    "duration": 13,
    "start_time": "2023-02-05T13:32:24.881Z"
   },
   {
    "duration": 10,
    "start_time": "2023-02-05T13:37:25.441Z"
   },
   {
    "duration": 10,
    "start_time": "2023-02-05T13:37:30.824Z"
   },
   {
    "duration": 3,
    "start_time": "2023-02-05T13:37:51.776Z"
   },
   {
    "duration": 3,
    "start_time": "2023-02-05T13:38:25.885Z"
   },
   {
    "duration": 28,
    "start_time": "2023-02-05T13:38:48.830Z"
   },
   {
    "duration": 8,
    "start_time": "2023-02-05T13:39:08.775Z"
   },
   {
    "duration": 4,
    "start_time": "2023-02-05T13:43:46.430Z"
   },
   {
    "duration": 2,
    "start_time": "2023-02-05T13:43:49.206Z"
   },
   {
    "duration": 7,
    "start_time": "2023-02-05T13:44:09.371Z"
   },
   {
    "duration": 19,
    "start_time": "2023-02-05T13:45:41.815Z"
   },
   {
    "duration": 7,
    "start_time": "2023-02-05T13:45:51.267Z"
   },
   {
    "duration": 18,
    "start_time": "2023-02-05T13:45:53.877Z"
   },
   {
    "duration": 16,
    "start_time": "2023-02-05T13:45:57.196Z"
   },
   {
    "duration": 16,
    "start_time": "2023-02-05T13:45:59.388Z"
   },
   {
    "duration": 15,
    "start_time": "2023-02-05T13:46:01.510Z"
   },
   {
    "duration": 17,
    "start_time": "2023-02-05T13:46:04.206Z"
   },
   {
    "duration": 35,
    "start_time": "2023-02-05T13:47:55.979Z"
   },
   {
    "duration": 1068,
    "start_time": "2023-02-05T13:48:01.333Z"
   },
   {
    "duration": 38,
    "start_time": "2023-02-05T13:48:02.403Z"
   },
   {
    "duration": 29,
    "start_time": "2023-02-05T13:48:02.443Z"
   },
   {
    "duration": 14,
    "start_time": "2023-02-05T13:48:02.474Z"
   },
   {
    "duration": 1033,
    "start_time": "2023-02-05T13:48:02.490Z"
   },
   {
    "duration": 47,
    "start_time": "2023-02-05T13:48:03.526Z"
   },
   {
    "duration": 67,
    "start_time": "2023-02-05T13:48:03.575Z"
   },
   {
    "duration": 6,
    "start_time": "2023-02-05T13:48:03.644Z"
   },
   {
    "duration": 10,
    "start_time": "2023-02-05T13:48:03.651Z"
   },
   {
    "duration": 9,
    "start_time": "2023-02-05T13:48:03.663Z"
   },
   {
    "duration": 15,
    "start_time": "2023-02-05T13:48:03.673Z"
   },
   {
    "duration": 4,
    "start_time": "2023-02-05T13:48:03.690Z"
   },
   {
    "duration": 22,
    "start_time": "2023-02-05T13:48:03.695Z"
   },
   {
    "duration": 13,
    "start_time": "2023-02-05T13:48:03.720Z"
   },
   {
    "duration": 16,
    "start_time": "2023-02-05T13:48:03.735Z"
   },
   {
    "duration": 6,
    "start_time": "2023-02-05T13:48:03.753Z"
   },
   {
    "duration": 4,
    "start_time": "2023-02-05T13:48:03.760Z"
   },
   {
    "duration": 8,
    "start_time": "2023-02-05T13:48:03.765Z"
   },
   {
    "duration": 7,
    "start_time": "2023-02-05T13:48:03.775Z"
   },
   {
    "duration": 7,
    "start_time": "2023-02-05T13:48:03.784Z"
   },
   {
    "duration": 8,
    "start_time": "2023-02-05T13:48:03.793Z"
   },
   {
    "duration": 25,
    "start_time": "2023-02-05T13:48:03.802Z"
   },
   {
    "duration": 9,
    "start_time": "2023-02-05T13:48:03.829Z"
   },
   {
    "duration": 10,
    "start_time": "2023-02-05T13:48:03.839Z"
   },
   {
    "duration": 18,
    "start_time": "2023-02-05T13:48:03.850Z"
   },
   {
    "duration": 22,
    "start_time": "2023-02-05T13:48:03.869Z"
   },
   {
    "duration": 6,
    "start_time": "2023-02-05T13:48:03.893Z"
   },
   {
    "duration": 13,
    "start_time": "2023-02-05T13:48:03.902Z"
   },
   {
    "duration": 145,
    "start_time": "2023-02-05T13:48:03.917Z"
   },
   {
    "duration": 33,
    "start_time": "2023-02-05T13:51:57.329Z"
   },
   {
    "duration": 1185,
    "start_time": "2023-02-05T13:52:32.718Z"
   },
   {
    "duration": 38,
    "start_time": "2023-02-05T13:52:33.905Z"
   },
   {
    "duration": 24,
    "start_time": "2023-02-05T13:52:33.944Z"
   },
   {
    "duration": 13,
    "start_time": "2023-02-05T13:52:33.970Z"
   },
   {
    "duration": 1107,
    "start_time": "2023-02-05T13:52:33.985Z"
   },
   {
    "duration": 60,
    "start_time": "2023-02-05T13:52:35.094Z"
   },
   {
    "duration": 54,
    "start_time": "2023-02-05T13:52:35.156Z"
   },
   {
    "duration": 19,
    "start_time": "2023-02-05T13:52:35.212Z"
   },
   {
    "duration": 8,
    "start_time": "2023-02-05T13:52:35.233Z"
   },
   {
    "duration": 5,
    "start_time": "2023-02-05T13:52:35.244Z"
   },
   {
    "duration": 17,
    "start_time": "2023-02-05T13:52:35.251Z"
   },
   {
    "duration": 6,
    "start_time": "2023-02-05T13:52:35.270Z"
   },
   {
    "duration": 9,
    "start_time": "2023-02-05T13:52:35.278Z"
   },
   {
    "duration": 6,
    "start_time": "2023-02-05T13:52:35.289Z"
   },
   {
    "duration": 49,
    "start_time": "2023-02-05T13:52:35.297Z"
   },
   {
    "duration": 8,
    "start_time": "2023-02-05T13:52:35.348Z"
   },
   {
    "duration": 4,
    "start_time": "2023-02-05T13:52:35.357Z"
   },
   {
    "duration": 7,
    "start_time": "2023-02-05T13:52:35.363Z"
   },
   {
    "duration": 5,
    "start_time": "2023-02-05T13:52:35.371Z"
   },
   {
    "duration": 5,
    "start_time": "2023-02-05T13:52:35.378Z"
   },
   {
    "duration": 5,
    "start_time": "2023-02-05T13:52:35.385Z"
   },
   {
    "duration": 6,
    "start_time": "2023-02-05T13:52:35.391Z"
   },
   {
    "duration": 8,
    "start_time": "2023-02-05T13:52:35.427Z"
   },
   {
    "duration": 11,
    "start_time": "2023-02-05T13:52:35.437Z"
   },
   {
    "duration": 19,
    "start_time": "2023-02-05T13:52:35.449Z"
   },
   {
    "duration": 5,
    "start_time": "2023-02-05T13:52:35.470Z"
   },
   {
    "duration": 5,
    "start_time": "2023-02-05T13:52:35.477Z"
   },
   {
    "duration": 8,
    "start_time": "2023-02-05T13:52:35.485Z"
   },
   {
    "duration": 148,
    "start_time": "2023-02-05T13:52:35.526Z"
   },
   {
    "duration": 1023,
    "start_time": "2023-02-05T13:53:03.178Z"
   },
   {
    "duration": 38,
    "start_time": "2023-02-05T13:53:04.203Z"
   },
   {
    "duration": 24,
    "start_time": "2023-02-05T13:53:04.243Z"
   },
   {
    "duration": 18,
    "start_time": "2023-02-05T13:53:04.268Z"
   },
   {
    "duration": 1055,
    "start_time": "2023-02-05T13:53:04.288Z"
   },
   {
    "duration": 49,
    "start_time": "2023-02-05T13:53:05.345Z"
   },
   {
    "duration": 64,
    "start_time": "2023-02-05T13:53:05.396Z"
   },
   {
    "duration": 6,
    "start_time": "2023-02-05T13:53:05.462Z"
   },
   {
    "duration": 8,
    "start_time": "2023-02-05T13:53:05.470Z"
   },
   {
    "duration": 4,
    "start_time": "2023-02-05T13:53:05.479Z"
   },
   {
    "duration": 13,
    "start_time": "2023-02-05T13:53:05.484Z"
   },
   {
    "duration": 4,
    "start_time": "2023-02-05T13:53:05.499Z"
   },
   {
    "duration": 22,
    "start_time": "2023-02-05T13:53:05.505Z"
   },
   {
    "duration": 14,
    "start_time": "2023-02-05T13:53:05.530Z"
   },
   {
    "duration": 19,
    "start_time": "2023-02-05T13:53:05.545Z"
   },
   {
    "duration": 5,
    "start_time": "2023-02-05T13:53:05.566Z"
   },
   {
    "duration": 5,
    "start_time": "2023-02-05T13:53:05.572Z"
   },
   {
    "duration": 7,
    "start_time": "2023-02-05T13:53:05.579Z"
   },
   {
    "duration": 6,
    "start_time": "2023-02-05T13:53:05.588Z"
   },
   {
    "duration": 31,
    "start_time": "2023-02-05T13:53:05.595Z"
   },
   {
    "duration": 4,
    "start_time": "2023-02-05T13:53:05.628Z"
   },
   {
    "duration": 4,
    "start_time": "2023-02-05T13:53:05.634Z"
   },
   {
    "duration": 12,
    "start_time": "2023-02-05T13:53:05.640Z"
   },
   {
    "duration": 10,
    "start_time": "2023-02-05T13:53:05.653Z"
   },
   {
    "duration": 18,
    "start_time": "2023-02-05T13:53:05.664Z"
   },
   {
    "duration": 5,
    "start_time": "2023-02-05T13:53:05.683Z"
   },
   {
    "duration": 5,
    "start_time": "2023-02-05T13:53:05.690Z"
   },
   {
    "duration": 33,
    "start_time": "2023-02-05T13:53:05.697Z"
   },
   {
    "duration": 12,
    "start_time": "2023-02-05T13:53:05.731Z"
   },
   {
    "duration": 23,
    "start_time": "2023-02-05T13:53:16.401Z"
   },
   {
    "duration": 137,
    "start_time": "2023-02-05T13:53:26.400Z"
   },
   {
    "duration": 21,
    "start_time": "2023-02-05T13:53:34.417Z"
   },
   {
    "duration": 1051,
    "start_time": "2023-02-05T14:05:13.556Z"
   },
   {
    "duration": 41,
    "start_time": "2023-02-05T14:05:14.609Z"
   },
   {
    "duration": 25,
    "start_time": "2023-02-05T14:05:14.652Z"
   },
   {
    "duration": 23,
    "start_time": "2023-02-05T14:05:14.680Z"
   },
   {
    "duration": 1079,
    "start_time": "2023-02-05T14:05:14.704Z"
   },
   {
    "duration": 54,
    "start_time": "2023-02-05T14:05:15.785Z"
   },
   {
    "duration": 49,
    "start_time": "2023-02-05T14:05:15.841Z"
   },
   {
    "duration": 7,
    "start_time": "2023-02-05T14:05:15.891Z"
   },
   {
    "duration": 5,
    "start_time": "2023-02-05T14:05:15.899Z"
   },
   {
    "duration": 4,
    "start_time": "2023-02-05T14:05:15.928Z"
   },
   {
    "duration": 14,
    "start_time": "2023-02-05T14:05:15.933Z"
   },
   {
    "duration": 3,
    "start_time": "2023-02-05T14:05:15.949Z"
   },
   {
    "duration": 8,
    "start_time": "2023-02-05T14:05:15.954Z"
   },
   {
    "duration": 7,
    "start_time": "2023-02-05T14:05:15.963Z"
   },
   {
    "duration": 19,
    "start_time": "2023-02-05T14:05:15.972Z"
   },
   {
    "duration": 8,
    "start_time": "2023-02-05T14:05:15.993Z"
   },
   {
    "duration": 26,
    "start_time": "2023-02-05T14:05:16.003Z"
   },
   {
    "duration": 11,
    "start_time": "2023-02-05T14:05:16.032Z"
   },
   {
    "duration": 6,
    "start_time": "2023-02-05T14:05:16.045Z"
   },
   {
    "duration": 16,
    "start_time": "2023-02-05T14:05:16.053Z"
   },
   {
    "duration": 11,
    "start_time": "2023-02-05T14:05:16.071Z"
   },
   {
    "duration": 6,
    "start_time": "2023-02-05T14:05:16.084Z"
   },
   {
    "duration": 11,
    "start_time": "2023-02-05T14:05:16.091Z"
   },
   {
    "duration": 23,
    "start_time": "2023-02-05T14:05:16.104Z"
   },
   {
    "duration": 19,
    "start_time": "2023-02-05T14:05:16.128Z"
   },
   {
    "duration": 61,
    "start_time": "2023-02-05T14:05:16.148Z"
   },
   {
    "duration": 7,
    "start_time": "2023-02-05T14:05:16.211Z"
   },
   {
    "duration": 13,
    "start_time": "2023-02-05T14:05:16.222Z"
   },
   {
    "duration": 51,
    "start_time": "2023-02-05T14:05:16.237Z"
   },
   {
    "duration": 6,
    "start_time": "2023-02-05T14:05:53.234Z"
   },
   {
    "duration": 4,
    "start_time": "2023-02-05T14:07:16.590Z"
   },
   {
    "duration": 51,
    "start_time": "2023-02-05T14:07:16.596Z"
   },
   {
    "duration": 18,
    "start_time": "2023-02-05T14:07:16.649Z"
   },
   {
    "duration": 16,
    "start_time": "2023-02-05T14:07:16.668Z"
   },
   {
    "duration": 889,
    "start_time": "2023-02-05T14:07:16.687Z"
   },
   {
    "duration": 14,
    "start_time": "2023-02-05T14:07:17.578Z"
   },
   {
    "duration": 59,
    "start_time": "2023-02-05T14:07:17.594Z"
   },
   {
    "duration": 5,
    "start_time": "2023-02-05T14:07:17.655Z"
   },
   {
    "duration": 16,
    "start_time": "2023-02-05T14:07:17.662Z"
   },
   {
    "duration": 5,
    "start_time": "2023-02-05T14:07:17.680Z"
   },
   {
    "duration": 13,
    "start_time": "2023-02-05T14:07:17.687Z"
   },
   {
    "duration": 4,
    "start_time": "2023-02-05T14:07:17.701Z"
   },
   {
    "duration": 23,
    "start_time": "2023-02-05T14:07:17.706Z"
   },
   {
    "duration": 4,
    "start_time": "2023-02-05T14:07:17.731Z"
   },
   {
    "duration": 17,
    "start_time": "2023-02-05T14:07:17.736Z"
   },
   {
    "duration": 7,
    "start_time": "2023-02-05T14:07:17.755Z"
   },
   {
    "duration": 6,
    "start_time": "2023-02-05T14:07:17.763Z"
   },
   {
    "duration": 7,
    "start_time": "2023-02-05T14:07:17.771Z"
   },
   {
    "duration": 7,
    "start_time": "2023-02-05T14:07:17.780Z"
   },
   {
    "duration": 9,
    "start_time": "2023-02-05T14:07:17.788Z"
   },
   {
    "duration": 6,
    "start_time": "2023-02-05T14:07:17.799Z"
   },
   {
    "duration": 3,
    "start_time": "2023-02-05T14:07:17.826Z"
   },
   {
    "duration": 5,
    "start_time": "2023-02-05T14:07:17.831Z"
   },
   {
    "duration": 3,
    "start_time": "2023-02-05T14:07:17.838Z"
   },
   {
    "duration": 4,
    "start_time": "2023-02-05T14:07:17.843Z"
   },
   {
    "duration": 6,
    "start_time": "2023-02-05T14:07:17.849Z"
   },
   {
    "duration": 6,
    "start_time": "2023-02-05T14:07:17.856Z"
   },
   {
    "duration": 11,
    "start_time": "2023-02-05T14:07:17.863Z"
   },
   {
    "duration": 25,
    "start_time": "2023-02-05T14:07:17.876Z"
   },
   {
    "duration": 1116,
    "start_time": "2023-02-05T14:07:31.892Z"
   },
   {
    "duration": 38,
    "start_time": "2023-02-05T14:07:33.010Z"
   },
   {
    "duration": 25,
    "start_time": "2023-02-05T14:07:33.049Z"
   },
   {
    "duration": 13,
    "start_time": "2023-02-05T14:07:33.076Z"
   },
   {
    "duration": 1032,
    "start_time": "2023-02-05T14:07:33.092Z"
   },
   {
    "duration": 49,
    "start_time": "2023-02-05T14:07:34.126Z"
   },
   {
    "duration": 64,
    "start_time": "2023-02-05T14:07:34.176Z"
   },
   {
    "duration": 5,
    "start_time": "2023-02-05T14:07:34.242Z"
   },
   {
    "duration": 9,
    "start_time": "2023-02-05T14:07:34.249Z"
   },
   {
    "duration": 4,
    "start_time": "2023-02-05T14:07:34.260Z"
   },
   {
    "duration": 15,
    "start_time": "2023-02-05T14:07:34.266Z"
   },
   {
    "duration": 4,
    "start_time": "2023-02-05T14:07:34.282Z"
   },
   {
    "duration": 6,
    "start_time": "2023-02-05T14:07:34.287Z"
   },
   {
    "duration": 4,
    "start_time": "2023-02-05T14:07:34.295Z"
   },
   {
    "duration": 14,
    "start_time": "2023-02-05T14:07:34.328Z"
   },
   {
    "duration": 12,
    "start_time": "2023-02-05T14:07:34.344Z"
   },
   {
    "duration": 8,
    "start_time": "2023-02-05T14:07:34.358Z"
   },
   {
    "duration": 10,
    "start_time": "2023-02-05T14:07:34.367Z"
   },
   {
    "duration": 6,
    "start_time": "2023-02-05T14:07:34.378Z"
   },
   {
    "duration": 5,
    "start_time": "2023-02-05T14:07:34.385Z"
   },
   {
    "duration": 5,
    "start_time": "2023-02-05T14:07:34.392Z"
   },
   {
    "duration": 4,
    "start_time": "2023-02-05T14:07:34.398Z"
   },
   {
    "duration": 25,
    "start_time": "2023-02-05T14:07:34.403Z"
   },
   {
    "duration": 5,
    "start_time": "2023-02-05T14:07:34.430Z"
   },
   {
    "duration": 5,
    "start_time": "2023-02-05T14:07:34.436Z"
   },
   {
    "duration": 4,
    "start_time": "2023-02-05T14:07:34.443Z"
   },
   {
    "duration": 4,
    "start_time": "2023-02-05T14:07:34.449Z"
   },
   {
    "duration": 15,
    "start_time": "2023-02-05T14:07:34.454Z"
   },
   {
    "duration": 27,
    "start_time": "2023-02-05T14:07:34.470Z"
   },
   {
    "duration": 43,
    "start_time": "2023-02-05T14:08:50.372Z"
   },
   {
    "duration": 126,
    "start_time": "2023-02-05T14:09:43.691Z"
   },
   {
    "duration": 10,
    "start_time": "2023-02-05T14:10:04.661Z"
   },
   {
    "duration": 9,
    "start_time": "2023-02-05T14:10:13.110Z"
   },
   {
    "duration": 22,
    "start_time": "2023-02-05T14:10:37.986Z"
   },
   {
    "duration": 1071,
    "start_time": "2023-02-05T14:11:12.772Z"
   },
   {
    "duration": 37,
    "start_time": "2023-02-05T14:11:13.845Z"
   },
   {
    "duration": 23,
    "start_time": "2023-02-05T14:11:13.884Z"
   },
   {
    "duration": 13,
    "start_time": "2023-02-05T14:11:13.909Z"
   },
   {
    "duration": 1041,
    "start_time": "2023-02-05T14:11:13.924Z"
   },
   {
    "duration": 50,
    "start_time": "2023-02-05T14:11:14.967Z"
   },
   {
    "duration": 65,
    "start_time": "2023-02-05T14:11:15.018Z"
   },
   {
    "duration": 7,
    "start_time": "2023-02-05T14:11:15.085Z"
   },
   {
    "duration": 7,
    "start_time": "2023-02-05T14:11:15.094Z"
   },
   {
    "duration": 25,
    "start_time": "2023-02-05T14:11:15.102Z"
   },
   {
    "duration": 39,
    "start_time": "2023-02-05T14:11:15.129Z"
   },
   {
    "duration": 5,
    "start_time": "2023-02-05T14:11:15.170Z"
   },
   {
    "duration": 25,
    "start_time": "2023-02-05T14:11:15.177Z"
   },
   {
    "duration": 8,
    "start_time": "2023-02-05T14:11:15.205Z"
   },
   {
    "duration": 20,
    "start_time": "2023-02-05T14:11:15.215Z"
   },
   {
    "duration": 21,
    "start_time": "2023-02-05T14:11:15.236Z"
   },
   {
    "duration": 12,
    "start_time": "2023-02-05T14:11:15.259Z"
   },
   {
    "duration": 14,
    "start_time": "2023-02-05T14:11:15.272Z"
   },
   {
    "duration": 7,
    "start_time": "2023-02-05T14:11:15.288Z"
   },
   {
    "duration": 7,
    "start_time": "2023-02-05T14:11:15.297Z"
   },
   {
    "duration": 7,
    "start_time": "2023-02-05T14:11:15.305Z"
   },
   {
    "duration": 5,
    "start_time": "2023-02-05T14:11:15.313Z"
   },
   {
    "duration": 12,
    "start_time": "2023-02-05T14:11:15.319Z"
   },
   {
    "duration": 11,
    "start_time": "2023-02-05T14:11:15.333Z"
   },
   {
    "duration": 18,
    "start_time": "2023-02-05T14:11:15.346Z"
   },
   {
    "duration": 5,
    "start_time": "2023-02-05T14:11:15.367Z"
   },
   {
    "duration": 9,
    "start_time": "2023-02-05T14:11:15.373Z"
   },
   {
    "duration": 20,
    "start_time": "2023-02-05T14:11:15.384Z"
   },
   {
    "duration": 105,
    "start_time": "2023-02-05T14:11:15.406Z"
   },
   {
    "duration": 31,
    "start_time": "2023-02-05T14:11:15.513Z"
   },
   {
    "duration": 136,
    "start_time": "2023-02-05T14:11:50.497Z"
   },
   {
    "duration": 23,
    "start_time": "2023-02-05T14:12:08.801Z"
   },
   {
    "duration": 14,
    "start_time": "2023-02-05T14:12:35.097Z"
   },
   {
    "duration": 8,
    "start_time": "2023-02-05T14:13:21.169Z"
   },
   {
    "duration": 22,
    "start_time": "2023-02-05T14:13:22.915Z"
   },
   {
    "duration": 10,
    "start_time": "2023-02-05T14:13:49.945Z"
   },
   {
    "duration": 9,
    "start_time": "2023-02-05T14:13:55.792Z"
   },
   {
    "duration": 9,
    "start_time": "2023-02-05T14:13:59.480Z"
   },
   {
    "duration": 18,
    "start_time": "2023-02-05T14:14:01.820Z"
   },
   {
    "duration": 6,
    "start_time": "2023-02-05T14:14:28.136Z"
   },
   {
    "duration": 8,
    "start_time": "2023-02-05T14:14:46.595Z"
   },
   {
    "duration": 18,
    "start_time": "2023-02-05T14:15:44.740Z"
   },
   {
    "duration": 6,
    "start_time": "2023-02-05T14:16:09.296Z"
   },
   {
    "duration": 7,
    "start_time": "2023-02-05T14:16:34.358Z"
   },
   {
    "duration": 20,
    "start_time": "2023-02-05T14:16:43.995Z"
   },
   {
    "duration": 7,
    "start_time": "2023-02-05T14:16:48.276Z"
   },
   {
    "duration": 1184,
    "start_time": "2023-02-05T14:16:57.355Z"
   },
   {
    "duration": 39,
    "start_time": "2023-02-05T14:16:58.541Z"
   },
   {
    "duration": 25,
    "start_time": "2023-02-05T14:16:58.582Z"
   },
   {
    "duration": 13,
    "start_time": "2023-02-05T14:16:58.609Z"
   },
   {
    "duration": 1053,
    "start_time": "2023-02-05T14:16:58.625Z"
   },
   {
    "duration": 57,
    "start_time": "2023-02-05T14:16:59.679Z"
   },
   {
    "duration": 51,
    "start_time": "2023-02-05T14:16:59.737Z"
   },
   {
    "duration": 7,
    "start_time": "2023-02-05T14:16:59.789Z"
   },
   {
    "duration": 5,
    "start_time": "2023-02-05T14:16:59.797Z"
   },
   {
    "duration": 25,
    "start_time": "2023-02-05T14:16:59.804Z"
   },
   {
    "duration": 17,
    "start_time": "2023-02-05T14:16:59.831Z"
   },
   {
    "duration": 5,
    "start_time": "2023-02-05T14:16:59.850Z"
   },
   {
    "duration": 17,
    "start_time": "2023-02-05T14:16:59.857Z"
   },
   {
    "duration": 5,
    "start_time": "2023-02-05T14:16:59.878Z"
   },
   {
    "duration": 17,
    "start_time": "2023-02-05T14:16:59.884Z"
   },
   {
    "duration": 28,
    "start_time": "2023-02-05T14:16:59.903Z"
   },
   {
    "duration": 3,
    "start_time": "2023-02-05T14:16:59.933Z"
   },
   {
    "duration": 7,
    "start_time": "2023-02-05T14:16:59.938Z"
   },
   {
    "duration": 5,
    "start_time": "2023-02-05T14:16:59.946Z"
   },
   {
    "duration": 7,
    "start_time": "2023-02-05T14:16:59.953Z"
   },
   {
    "duration": 25,
    "start_time": "2023-02-05T14:16:59.961Z"
   },
   {
    "duration": 9,
    "start_time": "2023-02-05T14:16:59.988Z"
   },
   {
    "duration": 10,
    "start_time": "2023-02-05T14:16:59.999Z"
   },
   {
    "duration": 20,
    "start_time": "2023-02-05T14:17:00.011Z"
   },
   {
    "duration": 28,
    "start_time": "2023-02-05T14:17:00.033Z"
   },
   {
    "duration": 15,
    "start_time": "2023-02-05T14:17:00.063Z"
   },
   {
    "duration": 91,
    "start_time": "2023-02-05T14:17:00.079Z"
   },
   {
    "duration": 19,
    "start_time": "2023-02-05T14:17:00.171Z"
   },
   {
    "duration": 10,
    "start_time": "2023-02-05T14:17:00.192Z"
   },
   {
    "duration": 24,
    "start_time": "2023-02-05T14:17:00.206Z"
   },
   {
    "duration": 31,
    "start_time": "2023-02-05T14:17:00.231Z"
   },
   {
    "duration": 16,
    "start_time": "2023-02-05T14:17:00.264Z"
   },
   {
    "duration": 19,
    "start_time": "2023-02-05T14:17:00.282Z"
   },
   {
    "duration": 41,
    "start_time": "2023-02-05T14:17:00.311Z"
   },
   {
    "duration": 66,
    "start_time": "2023-02-05T14:17:00.354Z"
   },
   {
    "duration": 52,
    "start_time": "2023-02-05T14:17:00.422Z"
   },
   {
    "duration": 24,
    "start_time": "2023-02-05T14:17:00.476Z"
   },
   {
    "duration": 12,
    "start_time": "2023-02-05T14:18:31.927Z"
   },
   {
    "duration": 6,
    "start_time": "2023-02-05T14:18:33.739Z"
   },
   {
    "duration": 12,
    "start_time": "2023-02-05T14:18:38.331Z"
   },
   {
    "duration": 6,
    "start_time": "2023-02-05T14:18:40.025Z"
   },
   {
    "duration": 21,
    "start_time": "2023-02-05T14:18:44.140Z"
   },
   {
    "duration": 8,
    "start_time": "2023-02-05T14:18:45.664Z"
   },
   {
    "duration": 24,
    "start_time": "2023-02-05T14:18:50.539Z"
   },
   {
    "duration": 6,
    "start_time": "2023-02-05T14:18:52.377Z"
   },
   {
    "duration": 1105,
    "start_time": "2023-02-06T09:18:15.128Z"
   },
   {
    "duration": 205,
    "start_time": "2023-02-06T09:18:16.235Z"
   },
   {
    "duration": 22,
    "start_time": "2023-02-06T09:18:16.441Z"
   },
   {
    "duration": 11,
    "start_time": "2023-02-06T09:18:16.465Z"
   },
   {
    "duration": 1128,
    "start_time": "2023-02-06T09:18:16.478Z"
   },
   {
    "duration": 136,
    "start_time": "2023-02-06T09:18:17.608Z"
   },
   {
    "duration": 45,
    "start_time": "2023-02-06T09:18:17.745Z"
   },
   {
    "duration": 6,
    "start_time": "2023-02-06T09:18:17.792Z"
   },
   {
    "duration": 7,
    "start_time": "2023-02-06T09:18:17.799Z"
   },
   {
    "duration": 5,
    "start_time": "2023-02-06T09:18:17.807Z"
   },
   {
    "duration": 34,
    "start_time": "2023-02-06T09:18:17.813Z"
   },
   {
    "duration": 4,
    "start_time": "2023-02-06T09:18:25.878Z"
   },
   {
    "duration": 186,
    "start_time": "2023-02-06T09:20:21.198Z"
   },
   {
    "duration": 18,
    "start_time": "2023-02-06T09:20:27.452Z"
   },
   {
    "duration": 22,
    "start_time": "2023-02-06T09:20:37.963Z"
   },
   {
    "duration": 6,
    "start_time": "2023-02-06T09:21:58.469Z"
   },
   {
    "duration": 982,
    "start_time": "2023-02-06T09:22:15.979Z"
   },
   {
    "duration": 3,
    "start_time": "2023-02-06T09:22:55.291Z"
   },
   {
    "duration": 45,
    "start_time": "2023-02-06T09:22:55.297Z"
   },
   {
    "duration": 13,
    "start_time": "2023-02-06T09:22:55.344Z"
   },
   {
    "duration": 20,
    "start_time": "2023-02-06T09:22:55.359Z"
   },
   {
    "duration": 720,
    "start_time": "2023-02-06T09:22:55.381Z"
   },
   {
    "duration": 14,
    "start_time": "2023-02-06T09:22:56.102Z"
   },
   {
    "duration": 61,
    "start_time": "2023-02-06T09:22:56.117Z"
   },
   {
    "duration": 5,
    "start_time": "2023-02-06T09:22:56.180Z"
   },
   {
    "duration": 12,
    "start_time": "2023-02-06T09:22:56.186Z"
   },
   {
    "duration": 11,
    "start_time": "2023-02-06T09:22:56.200Z"
   },
   {
    "duration": 15,
    "start_time": "2023-02-06T09:22:56.213Z"
   },
   {
    "duration": 4,
    "start_time": "2023-02-06T09:22:56.229Z"
   },
   {
    "duration": 2,
    "start_time": "2023-02-06T09:25:48.986Z"
   },
   {
    "duration": 57,
    "start_time": "2023-02-06T09:25:48.992Z"
   },
   {
    "duration": 13,
    "start_time": "2023-02-06T09:25:49.051Z"
   },
   {
    "duration": 19,
    "start_time": "2023-02-06T09:25:49.066Z"
   },
   {
    "duration": 745,
    "start_time": "2023-02-06T09:25:49.087Z"
   },
   {
    "duration": 21,
    "start_time": "2023-02-06T09:25:49.834Z"
   },
   {
    "duration": 49,
    "start_time": "2023-02-06T09:25:49.857Z"
   },
   {
    "duration": 6,
    "start_time": "2023-02-06T09:25:49.908Z"
   },
   {
    "duration": 8,
    "start_time": "2023-02-06T09:25:49.916Z"
   },
   {
    "duration": 3,
    "start_time": "2023-02-06T09:25:49.944Z"
   },
   {
    "duration": 15,
    "start_time": "2023-02-06T09:25:49.949Z"
   },
   {
    "duration": 4,
    "start_time": "2023-02-06T09:25:49.965Z"
   },
   {
    "duration": 15,
    "start_time": "2023-02-06T09:26:03.496Z"
   },
   {
    "duration": 4,
    "start_time": "2023-02-06T09:26:20.322Z"
   },
   {
    "duration": 18,
    "start_time": "2023-02-06T09:26:23.898Z"
   },
   {
    "duration": 166,
    "start_time": "2023-02-06T09:27:41.922Z"
   },
   {
    "duration": 19,
    "start_time": "2023-02-06T09:27:47.752Z"
   },
   {
    "duration": 34,
    "start_time": "2023-02-06T09:28:01.036Z"
   },
   {
    "duration": 68,
    "start_time": "2023-02-06T09:28:12.053Z"
   },
   {
    "duration": 21,
    "start_time": "2023-02-06T09:28:14.178Z"
   },
   {
    "duration": 3,
    "start_time": "2023-02-06T09:28:20.653Z"
   },
   {
    "duration": 40,
    "start_time": "2023-02-06T09:28:20.665Z"
   },
   {
    "duration": 12,
    "start_time": "2023-02-06T09:28:20.707Z"
   },
   {
    "duration": 27,
    "start_time": "2023-02-06T09:28:20.720Z"
   },
   {
    "duration": 822,
    "start_time": "2023-02-06T09:28:20.749Z"
   },
   {
    "duration": 13,
    "start_time": "2023-02-06T09:28:21.573Z"
   },
   {
    "duration": 73,
    "start_time": "2023-02-06T09:28:21.588Z"
   },
   {
    "duration": 5,
    "start_time": "2023-02-06T09:28:21.662Z"
   },
   {
    "duration": 10,
    "start_time": "2023-02-06T09:28:21.669Z"
   },
   {
    "duration": 41,
    "start_time": "2023-02-06T09:28:21.680Z"
   },
   {
    "duration": 49,
    "start_time": "2023-02-06T09:28:21.724Z"
   },
   {
    "duration": 41,
    "start_time": "2023-02-06T09:28:21.774Z"
   },
   {
    "duration": 27,
    "start_time": "2023-02-06T09:28:21.817Z"
   },
   {
    "duration": 65,
    "start_time": "2023-02-06T09:28:21.845Z"
   },
   {
    "duration": 31,
    "start_time": "2023-02-06T09:28:21.912Z"
   },
   {
    "duration": 17,
    "start_time": "2023-02-06T09:28:35.882Z"
   },
   {
    "duration": 14,
    "start_time": "2023-02-06T09:29:42.492Z"
   },
   {
    "duration": 5,
    "start_time": "2023-02-06T09:30:29.902Z"
   },
   {
    "duration": 4,
    "start_time": "2023-02-06T09:30:46.613Z"
   },
   {
    "duration": 15,
    "start_time": "2023-02-06T09:30:51.823Z"
   },
   {
    "duration": 5,
    "start_time": "2023-02-06T09:31:09.051Z"
   },
   {
    "duration": 3,
    "start_time": "2023-02-06T09:31:11.396Z"
   },
   {
    "duration": 5,
    "start_time": "2023-02-06T09:31:16.014Z"
   },
   {
    "duration": 3,
    "start_time": "2023-02-06T09:31:17.811Z"
   },
   {
    "duration": 3,
    "start_time": "2023-02-06T09:31:20.123Z"
   },
   {
    "duration": 4,
    "start_time": "2023-02-06T09:31:22.274Z"
   },
   {
    "duration": 1092,
    "start_time": "2023-02-06T09:32:12.917Z"
   },
   {
    "duration": 42,
    "start_time": "2023-02-06T09:32:14.011Z"
   },
   {
    "duration": 22,
    "start_time": "2023-02-06T09:32:14.054Z"
   },
   {
    "duration": 11,
    "start_time": "2023-02-06T09:32:14.078Z"
   },
   {
    "duration": 1046,
    "start_time": "2023-02-06T09:32:14.090Z"
   },
   {
    "duration": 49,
    "start_time": "2023-02-06T09:32:15.138Z"
   },
   {
    "duration": 58,
    "start_time": "2023-02-06T09:32:15.188Z"
   },
   {
    "duration": 6,
    "start_time": "2023-02-06T09:32:15.247Z"
   },
   {
    "duration": 13,
    "start_time": "2023-02-06T09:32:15.254Z"
   },
   {
    "duration": 6,
    "start_time": "2023-02-06T09:32:15.270Z"
   },
   {
    "duration": 46,
    "start_time": "2023-02-06T09:32:15.278Z"
   },
   {
    "duration": 3,
    "start_time": "2023-02-06T09:32:15.326Z"
   },
   {
    "duration": 13,
    "start_time": "2023-02-06T09:32:15.331Z"
   },
   {
    "duration": 20,
    "start_time": "2023-02-06T09:32:15.346Z"
   },
   {
    "duration": 17,
    "start_time": "2023-02-06T09:32:15.367Z"
   },
   {
    "duration": 16,
    "start_time": "2023-02-06T09:32:15.386Z"
   },
   {
    "duration": 5,
    "start_time": "2023-02-06T09:32:15.404Z"
   },
   {
    "duration": 9,
    "start_time": "2023-02-06T09:32:15.410Z"
   },
   {
    "duration": 27,
    "start_time": "2023-02-06T09:32:15.421Z"
   },
   {
    "duration": 5,
    "start_time": "2023-02-06T09:32:15.450Z"
   },
   {
    "duration": 8,
    "start_time": "2023-02-06T09:32:15.457Z"
   },
   {
    "duration": 15,
    "start_time": "2023-02-06T09:32:15.467Z"
   },
   {
    "duration": 12,
    "start_time": "2023-02-06T09:32:15.483Z"
   },
   {
    "duration": 14,
    "start_time": "2023-02-06T09:32:15.497Z"
   },
   {
    "duration": 83,
    "start_time": "2023-02-06T09:32:15.513Z"
   },
   {
    "duration": 10,
    "start_time": "2023-02-06T09:32:15.598Z"
   },
   {
    "duration": 6,
    "start_time": "2023-02-06T09:32:15.610Z"
   },
   {
    "duration": 12,
    "start_time": "2023-02-06T09:32:15.618Z"
   },
   {
    "duration": 31,
    "start_time": "2023-02-06T09:32:15.631Z"
   },
   {
    "duration": 28,
    "start_time": "2023-02-06T09:32:15.663Z"
   },
   {
    "duration": 6,
    "start_time": "2023-02-06T09:32:15.692Z"
   },
   {
    "duration": 3,
    "start_time": "2023-02-06T09:33:01.314Z"
   },
   {
    "duration": 3,
    "start_time": "2023-02-06T09:33:04.843Z"
   },
   {
    "duration": 8,
    "start_time": "2023-02-06T09:33:08.956Z"
   },
   {
    "duration": 26,
    "start_time": "2023-02-06T09:33:11.588Z"
   },
   {
    "duration": 30,
    "start_time": "2023-02-06T09:37:11.549Z"
   },
   {
    "duration": 7,
    "start_time": "2023-02-06T09:37:42.113Z"
   },
   {
    "duration": 105,
    "start_time": "2023-02-06T09:40:50.894Z"
   },
   {
    "duration": 103,
    "start_time": "2023-02-06T09:41:01.869Z"
   },
   {
    "duration": 99,
    "start_time": "2023-02-06T09:41:18.984Z"
   },
   {
    "duration": 9,
    "start_time": "2023-02-06T09:43:09.445Z"
   },
   {
    "duration": 4,
    "start_time": "2023-02-06T09:43:40.457Z"
   },
   {
    "duration": 4,
    "start_time": "2023-02-06T09:43:51.480Z"
   },
   {
    "duration": 111,
    "start_time": "2023-02-06T09:44:22.202Z"
   },
   {
    "duration": 6,
    "start_time": "2023-02-06T09:48:27.199Z"
   },
   {
    "duration": 3,
    "start_time": "2023-02-06T10:18:18.863Z"
   },
   {
    "duration": 6,
    "start_time": "2023-02-06T10:19:55.483Z"
   },
   {
    "duration": 8,
    "start_time": "2023-02-06T10:21:41.364Z"
   },
   {
    "duration": 3,
    "start_time": "2023-02-06T10:22:09.642Z"
   },
   {
    "duration": 6,
    "start_time": "2023-02-06T10:22:15.255Z"
   },
   {
    "duration": 3,
    "start_time": "2023-02-06T10:23:09.694Z"
   },
   {
    "duration": 7,
    "start_time": "2023-02-06T10:23:54.647Z"
   },
   {
    "duration": 3,
    "start_time": "2023-02-06T10:25:24.166Z"
   },
   {
    "duration": 6,
    "start_time": "2023-02-06T10:25:53.764Z"
   },
   {
    "duration": 79,
    "start_time": "2023-02-12T16:39:31.960Z"
   },
   {
    "duration": 7293,
    "start_time": "2023-02-12T19:05:04.344Z"
   },
   {
    "duration": 149,
    "start_time": "2023-02-12T19:05:11.639Z"
   },
   {
    "duration": 51,
    "start_time": "2023-02-12T19:05:17.274Z"
   },
   {
    "duration": 17,
    "start_time": "2023-02-12T19:05:18.620Z"
   },
   {
    "duration": 11,
    "start_time": "2023-02-12T19:05:27.137Z"
   },
   {
    "duration": 30,
    "start_time": "2023-02-12T19:06:51.333Z"
   },
   {
    "duration": 7,
    "start_time": "2023-02-12T19:06:52.708Z"
   },
   {
    "duration": 46,
    "start_time": "2023-02-12T19:07:03.124Z"
   },
   {
    "duration": 10,
    "start_time": "2023-02-12T19:07:03.806Z"
   },
   {
    "duration": 1529,
    "start_time": "2023-02-18T14:09:43.680Z"
   },
   {
    "duration": 152,
    "start_time": "2023-02-18T14:09:48.089Z"
   },
   {
    "duration": 414,
    "start_time": "2023-02-18T14:10:19.555Z"
   },
   {
    "duration": 21,
    "start_time": "2023-02-18T14:10:22.222Z"
   }
  ],
  "kernelspec": {
   "display_name": "Python 3 (ipykernel)",
   "language": "python",
   "name": "python3"
  },
  "language_info": {
   "codemirror_mode": {
    "name": "ipython",
    "version": 3
   },
   "file_extension": ".py",
   "mimetype": "text/x-python",
   "name": "python",
   "nbconvert_exporter": "python",
   "pygments_lexer": "ipython3",
   "version": "3.8.10"
  },
  "toc": {
   "base_numbering": 1,
   "nav_menu": {},
   "number_sections": true,
   "sideBar": true,
   "skip_h1_title": true,
   "title_cell": "Содержание",
   "title_sidebar": "Contents",
   "toc_cell": true,
   "toc_position": {},
   "toc_section_display": true,
   "toc_window_display": true
  }
 },
 "nbformat": 4,
 "nbformat_minor": 2
}
