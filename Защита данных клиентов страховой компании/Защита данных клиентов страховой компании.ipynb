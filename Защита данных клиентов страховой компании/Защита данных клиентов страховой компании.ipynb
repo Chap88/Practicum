{
 "cells": [
  {
   "cell_type": "markdown",
   "metadata": {},
   "source": [
    "# Защита персональных данных клиентов"
   ]
  },
  {
   "cell_type": "markdown",
   "metadata": {},
   "source": [
    "**Задача:**<br>\n",
    "Разработать метод преобразования данных, чтобы по ним было сложно восстановить персональную информацию. При этом после преобразования данных качество моделей машинного обучения не должно ухудшиться."
   ]
  },
  {
   "cell_type": "markdown",
   "metadata": {},
   "source": [
    "## Загрузка данных"
   ]
  },
  {
   "cell_type": "code",
   "execution_count": 1,
   "metadata": {},
   "outputs": [],
   "source": [
    "#Импортируем библиотеки и модули\n",
    "import pandas as pd\n",
    "import numpy as np\n",
    "from sklearn.linear_model import LinearRegression\n",
    "from sklearn.metrics import r2_score\n",
    "from sklearn.model_selection import cross_val_score"
   ]
  },
  {
   "cell_type": "code",
   "execution_count": 2,
   "metadata": {},
   "outputs": [],
   "source": [
    "#Создадим датасет\n",
    "df = pd.read_csv('insurance.csv')"
   ]
  },
  {
   "cell_type": "code",
   "execution_count": 3,
   "metadata": {},
   "outputs": [
    {
     "data": {
      "text/html": [
       "<div>\n",
       "<style scoped>\n",
       "    .dataframe tbody tr th:only-of-type {\n",
       "        vertical-align: middle;\n",
       "    }\n",
       "\n",
       "    .dataframe tbody tr th {\n",
       "        vertical-align: top;\n",
       "    }\n",
       "\n",
       "    .dataframe thead th {\n",
       "        text-align: right;\n",
       "    }\n",
       "</style>\n",
       "<table border=\"1\" class=\"dataframe\">\n",
       "  <thead>\n",
       "    <tr style=\"text-align: right;\">\n",
       "      <th></th>\n",
       "      <th>Пол</th>\n",
       "      <th>Возраст</th>\n",
       "      <th>Зарплата</th>\n",
       "      <th>Члены семьи</th>\n",
       "      <th>Страховые выплаты</th>\n",
       "    </tr>\n",
       "  </thead>\n",
       "  <tbody>\n",
       "    <tr>\n",
       "      <th>0</th>\n",
       "      <td>1</td>\n",
       "      <td>41.0</td>\n",
       "      <td>49600.0</td>\n",
       "      <td>1</td>\n",
       "      <td>0</td>\n",
       "    </tr>\n",
       "    <tr>\n",
       "      <th>1</th>\n",
       "      <td>0</td>\n",
       "      <td>46.0</td>\n",
       "      <td>38000.0</td>\n",
       "      <td>1</td>\n",
       "      <td>1</td>\n",
       "    </tr>\n",
       "    <tr>\n",
       "      <th>2</th>\n",
       "      <td>0</td>\n",
       "      <td>29.0</td>\n",
       "      <td>21000.0</td>\n",
       "      <td>0</td>\n",
       "      <td>0</td>\n",
       "    </tr>\n",
       "    <tr>\n",
       "      <th>3</th>\n",
       "      <td>0</td>\n",
       "      <td>21.0</td>\n",
       "      <td>41700.0</td>\n",
       "      <td>2</td>\n",
       "      <td>0</td>\n",
       "    </tr>\n",
       "    <tr>\n",
       "      <th>4</th>\n",
       "      <td>1</td>\n",
       "      <td>28.0</td>\n",
       "      <td>26100.0</td>\n",
       "      <td>0</td>\n",
       "      <td>0</td>\n",
       "    </tr>\n",
       "  </tbody>\n",
       "</table>\n",
       "</div>"
      ],
      "text/plain": [
       "   Пол  Возраст  Зарплата  Члены семьи  Страховые выплаты\n",
       "0    1     41.0   49600.0            1                  0\n",
       "1    0     46.0   38000.0            1                  1\n",
       "2    0     29.0   21000.0            0                  0\n",
       "3    0     21.0   41700.0            2                  0\n",
       "4    1     28.0   26100.0            0                  0"
      ]
     },
     "execution_count": 3,
     "metadata": {},
     "output_type": "execute_result"
    }
   ],
   "source": [
    "#Выводим опервые 5 строк датасета\n",
    "df.head()"
   ]
  },
  {
   "cell_type": "code",
   "execution_count": 4,
   "metadata": {},
   "outputs": [
    {
     "name": "stdout",
     "output_type": "stream",
     "text": [
      "<class 'pandas.core.frame.DataFrame'>\n",
      "RangeIndex: 5000 entries, 0 to 4999\n",
      "Data columns (total 5 columns):\n",
      " #   Column             Non-Null Count  Dtype  \n",
      "---  ------             --------------  -----  \n",
      " 0   Пол                5000 non-null   int64  \n",
      " 1   Возраст            5000 non-null   float64\n",
      " 2   Зарплата           5000 non-null   float64\n",
      " 3   Члены семьи        5000 non-null   int64  \n",
      " 4   Страховые выплаты  5000 non-null   int64  \n",
      "dtypes: float64(2), int64(3)\n",
      "memory usage: 195.4 KB\n"
     ]
    }
   ],
   "source": [
    "#Выводим общую информацию о датасете\n",
    "df.info()"
   ]
  },
  {
   "cell_type": "markdown",
   "metadata": {},
   "source": [
    "Пропусков не обнаружено. Проверим данные на явные дубликаты."
   ]
  },
  {
   "cell_type": "code",
   "execution_count": 5,
   "metadata": {},
   "outputs": [
    {
     "name": "stdout",
     "output_type": "stream",
     "text": [
      "153\n"
     ]
    }
   ],
   "source": [
    "#Проверим на явные дубликаты\n",
    "print(df.duplicated().sum())"
   ]
  },
  {
   "cell_type": "markdown",
   "metadata": {},
   "source": [
    "Обнаружены явные дубликаты. Удалим их."
   ]
  },
  {
   "cell_type": "code",
   "execution_count": 6,
   "metadata": {},
   "outputs": [],
   "source": [
    "#Удалим дубликаты\n",
    "df.drop_duplicates(inplace=True)"
   ]
  },
  {
   "cell_type": "markdown",
   "metadata": {},
   "source": [
    "## Умножение матриц"
   ]
  },
  {
   "cell_type": "markdown",
   "metadata": {},
   "source": [
    "Обозначения:\n",
    "\n",
    "- $X$ — матрица признаков (нулевой столбец состоит из единиц)\n",
    "\n",
    "- $y$ — вектор целевого признака\n",
    "\n",
    "- $P$ — матрица, на которую умножаются признаки\n",
    "\n",
    "- $w$ — вектор весов линейной регрессии (нулевой элемент равен сдвигу)"
   ]
  },
  {
   "cell_type": "markdown",
   "metadata": {},
   "source": [
    "Предсказания:\n",
    "\n",
    "$$\n",
    "a = Xw\n",
    "$$\n",
    "\n",
    "Задача обучения:\n",
    "\n",
    "$$\n",
    "w = \\arg\\min_w MSE(Xw, y)\n",
    "$$\n",
    "\n",
    "Формула обучения:\n",
    "\n",
    "$$\n",
    "w = (X^T X)^{-1} X^T y\n",
    "$$"
   ]
  },
  {
   "cell_type": "markdown",
   "metadata": {},
   "source": [
    "**Ответ:** При умножении признаков на обратимую матрицу качество линейной регрессии не изменится\n",
    "\n",
    "**Обоснование:** Для обоснования найдём отношение предсказаний модели, сделанных по исходным признакам и по признакам, умноженным на обратимую матрицу"
   ]
  },
  {
   "cell_type": "markdown",
   "metadata": {},
   "source": [
    "**Вариант 1**"
   ]
  },
  {
   "cell_type": "markdown",
   "metadata": {},
   "source": [
    "В формуле обучения умножим матрицу X на обратимую матрицу P:\n",
    "\n",
    "$$\n",
    "w' = ((XP)^T XP)^{-1} (XP)^T y\n",
    "$$\n",
    "\n",
    "Раскроем скобки:\n",
    "\n",
    "$$\n",
    "w' = (P^T X^T XP)^{-1} P^T X^T y\n",
    "$$\n",
    "\n",
    "По свойству ассоциативности умножения матриц, получим:\n",
    "\n",
    "$$\n",
    "w' = P^{-1}(X^T X)^{-1}(P^T)^{-1} P^T X^T y\n",
    "$$\n",
    "\n",
    "Преобразуем произведение матриц в единичную матрицу:\n",
    "\n",
    "$$\n",
    "(P^T)^{-1} P^T = E\n",
    "$$\n",
    "\n",
    "Заменим произведение матриц в выражении на единичную матрицу:\n",
    "\n",
    "$$\n",
    "w' = P^{-1}(X^T X)^{-1}E X^T y\n",
    "$$\n",
    "\n",
    "$$\n",
    "E X^T = X^T\n",
    "$$\n",
    "\n",
    "$$\n",
    "w' = P^{-1}(X^T X)^{-1}X^T y\n",
    "$$\n",
    "\n",
    "По формуле исходной формуле обучения:\n",
    "\n",
    "$$\n",
    "(X^T X)^{-1} X^T y = w\n",
    "$$\n",
    "\n",
    "Тогда\n",
    "\n",
    "$$\n",
    "w' = P^{-1}w\n",
    "$$\n",
    "\n",
    "Обозначим a' как предсказания для матрицы признаков, домноженной на обратимую матрицу P. Тогда:\n",
    "\n",
    "$$\n",
    "a' = XPP^{-1}w\n",
    "$$\n",
    "\n",
    "Преобразуем произведение матриц в единичную матрицу:\n",
    "\n",
    "$$\n",
    "PP^{-1} = E\n",
    "$$\n",
    "\n",
    "Получим:\n",
    "\n",
    "$$\n",
    "a' = XEw = Xw = a\n",
    "$$\n"
   ]
  },
  {
   "cell_type": "markdown",
   "metadata": {},
   "source": [
    "**Варинт 2**"
   ]
  },
  {
   "cell_type": "markdown",
   "metadata": {},
   "source": [
    "В формуле\n",
    "$$\n",
    "\\arg\\min_w MSE(XPw_p, y)\n",
    "$$\n",
    "\n",
    "Делаем замену w_p на преобразованную ранее формулу обучения:\n",
    "\n",
    "$$\n",
    "w_P = P^{-1}w\n",
    "$$\n",
    "\n",
    "Поулчаем:\n",
    "\n",
    "$$\n",
    "\\arg\\min_w MSE(XPP^{-1}w, y) = \\arg\\min_w MSE(XEw, y) = \\arg\\min_w MSE(Xw, y)\n",
    "$$  "
   ]
  },
  {
   "cell_type": "markdown",
   "metadata": {},
   "source": [
    "## Алгоритм преобразования"
   ]
  },
  {
   "cell_type": "markdown",
   "metadata": {},
   "source": [
    "**Алгоритм**\n",
    "\n",
    "1. Преобразовать признаки в матрицу F\n",
    "2. Создать квадратную обратимую матрицу P из случайных чисел размеро n x n, где n - ширина матрицы признаков F\n",
    "3. Умножить матрицу признаков F на обратимую матрицу P\n",
    "4. Преобразовать целевой признак в вектор t"
   ]
  },
  {
   "cell_type": "markdown",
   "metadata": {},
   "source": [
    "**Обоснование**\n",
    "\n",
    "При умножении матрицы признаков на обратимую квадратную матрицу значения предсказаний модели \"Линейная регрессия\" не изменяться:"
   ]
  },
  {
   "cell_type": "markdown",
   "metadata": {},
   "source": [
    "$$\n",
    "a = a' = Xw = XPw\n",
    "$$\n",
    "Обозначения:\n",
    "\n",
    "- $a$ — предсказания модели по исходным целевым признакам\n",
    "\n",
    "- $a'$ — предсказания модели по целевым признакам, умноженным на обратимую квадратную матрицу\n",
    "\n",
    "- $X$ — матрица ыелевых признаков\n",
    "\n",
    "- $P$ — Обратимая квадратная матрица\n",
    "\n",
    "- $w$ — вектор весов линейной регрессии (нулевой элемент равен сдвигу)"
   ]
  },
  {
   "cell_type": "markdown",
   "metadata": {},
   "source": [
    "## Проверка алгоритма"
   ]
  },
  {
   "cell_type": "markdown",
   "metadata": {},
   "source": [
    "Найдём значение метрики R2 на непреобразованных признаках"
   ]
  },
  {
   "cell_type": "code",
   "execution_count": 7,
   "metadata": {},
   "outputs": [],
   "source": [
    "#Выделим признаки и целевой признак\n",
    "features = df.drop(['Страховые выплаты'], axis=1)\n",
    "target = df['Страховые выплаты']"
   ]
  },
  {
   "cell_type": "code",
   "execution_count": 8,
   "metadata": {
    "scrolled": true
   },
   "outputs": [
    {
     "name": "stdout",
     "output_type": "stream",
     "text": [
      "Среднее значение метрики R2: 0.42779425802804677\n"
     ]
    }
   ],
   "source": [
    "#Создадим модель линейной регрессии и получим среднее значение метрики R2 с помощью кросс-валидации\n",
    "model = LinearRegression()\n",
    "model.fit(features, target)\n",
    "scores = cross_val_score(model, features, target, cv=5)\n",
    "final_r2 = scores.mean()\n",
    "\n",
    "print('Среднее значение метрики R2:', final_r2)"
   ]
  },
  {
   "cell_type": "markdown",
   "metadata": {},
   "source": [
    "Преобразуем признаки в матрицу F, целевой признак в вектор t и найдём сред. значение R2 с помощью кросс-валидации"
   ]
  },
  {
   "cell_type": "code",
   "execution_count": 9,
   "metadata": {
    "scrolled": true
   },
   "outputs": [],
   "source": [
    "#Для проверки алгоритма преобразуем признаки в матрицу, а ц.п. в вектор\n",
    "F = np.array(features)\n",
    "t = np.array(target)"
   ]
  },
  {
   "cell_type": "code",
   "execution_count": 10,
   "metadata": {},
   "outputs": [
    {
     "name": "stdout",
     "output_type": "stream",
     "text": [
      "[[1.00e+00 4.10e+01 4.96e+04 1.00e+00]\n",
      " [0.00e+00 4.60e+01 3.80e+04 1.00e+00]\n",
      " [0.00e+00 2.90e+01 2.10e+04 0.00e+00]\n",
      " ...\n",
      " [0.00e+00 2.00e+01 3.39e+04 2.00e+00]\n",
      " [1.00e+00 2.20e+01 3.27e+04 3.00e+00]\n",
      " [1.00e+00 2.80e+01 4.06e+04 1.00e+00]]\n"
     ]
    }
   ],
   "source": [
    "#Выведем признаки, преобразованные в матрицу, для визуальной проверки\n",
    "print(F)"
   ]
  },
  {
   "cell_type": "code",
   "execution_count": 11,
   "metadata": {},
   "outputs": [
    {
     "name": "stdout",
     "output_type": "stream",
     "text": [
      "[[4464484. 3972064.  398537. 4515138.]\n",
      " [3420472. 3044543.  305913. 3459659.]\n",
      " [1890290. 1682842.  169160. 1911986.]\n",
      " ...\n",
      " [3051224. 2714030.  272146. 3085770.]\n",
      " [2943318. 2618272.  262723. 2976782.]\n",
      " [3654354. 3250790.  326017. 3695696.]]\n"
     ]
    }
   ],
   "source": [
    "#Создадим обратимую квадратную матрицу P и выведем произведение матриц F и P для визуальной проверки\n",
    "P = np.random.randint(100, size=(F.shape[1], F.shape[1]))\n",
    "print(F@P)"
   ]
  },
  {
   "cell_type": "markdown",
   "metadata": {},
   "source": [
    "Данные в матрице признаков F и в произведении матриц F и P сильно различаются. Значит, умножение признаков на обратимую квадратную матрицу можно использовать как защиту данных."
   ]
  },
  {
   "cell_type": "code",
   "execution_count": 12,
   "metadata": {},
   "outputs": [],
   "source": [
    "def get_rand_matrix():\n",
    "    det = 0\n",
    "    # провекра матрицы на обратимость\n",
    "    while det == 0: \n",
    "        matrix = np.random.normal(size=(F.shape[1], F.shape[1]))\n",
    "        det = np.linalg.det(matrix)\n",
    "    return matrix"
   ]
  },
  {
   "cell_type": "code",
   "execution_count": 13,
   "metadata": {
    "scrolled": true
   },
   "outputs": [
    {
     "name": "stdout",
     "output_type": "stream",
     "text": [
      "Среднее значение метрики R2: 0.4277942580281243\n",
      "CPU times: total: 31.2 ms\n",
      "Wall time: 33 ms\n"
     ]
    }
   ],
   "source": [
    "%%time\n",
    "\n",
    "#Найдём среднее значение R2 для матрицы признаков F, умноженной на обратимую матрицу P \n",
    "#с помощью кросс-валидации\n",
    "\n",
    "P = get_rand_matrix()\n",
    "scores = cross_val_score(model, F@P, t, cv=5) #Получеам список из R2, полученных кросс-валидацией\n",
    "final_r2_after = scores.mean()\n",
    "\n",
    "print('Среднее значение метрики R2:', final_r2_after)"
   ]
  },
  {
   "cell_type": "code",
   "execution_count": 14,
   "metadata": {},
   "outputs": [
    {
     "name": "stdout",
     "output_type": "stream",
     "text": [
      "-1.8127657586504795e-11\n"
     ]
    }
   ],
   "source": [
    "#Вычислим разницу в процентах метрик R2 до и после применения алгоритма преобразования\n",
    "print((final_r2-final_r2_after)/final_r2_after*100)"
   ]
  },
  {
   "cell_type": "markdown",
   "metadata": {},
   "source": [
    "**Вывод**: Алгоритм преобразования не оказывает влияния на качество модели, т.к. различие в метрике R2 до и после применения алгоритма очень мало."
   ]
  },
  {
   "cell_type": "markdown",
   "metadata": {},
   "source": [
    "## Общий вывод"
   ]
  },
  {
   "cell_type": "markdown",
   "metadata": {},
   "source": [
    "По условиям задачи необходимо было разработать алгоритм преобразования данных, чтобы по ним было сложно востановить персональную информацию о клиентах.<br><br>\n",
    "По формулам обучения модели \"Линейная регрессия\" было установлено, что при умножении признаков (данных о клиентах) на обратимую квадратную матрицу, значения предсказаний модели не изменяться. Также был оустановлено, что по произведению матрциы признаков и обратимой квадратнйо матрицы сложно восстановить исходную информацию.<br><br>\n",
    "На основе этих выводов был разработан алгоритм преобразования данных:<br><br>\n",
    "**Алгоритм**\n",
    "\n",
    "1. Преобразовать признаки в матрицу F\n",
    "2. Создать квадратную обратимую матрицу P из случайных чисел размеро n x n, где n - ширина матрицы признаков F\n",
    "3. Умножить матрицу признаков F на обратимую матрицу P\n",
    "4. Преобразовать целевой признаки в вектор t"
   ]
  },
  {
   "cell_type": "code",
   "execution_count": null,
   "metadata": {},
   "outputs": [],
   "source": []
  }
 ],
 "metadata": {
  "ExecuteTimeLog": [
   {
    "duration": 2364,
    "start_time": "2023-03-22T13:07:47.196Z"
   },
   {
    "duration": 28,
    "start_time": "2023-03-22T13:07:49.562Z"
   },
   {
    "duration": 14,
    "start_time": "2023-03-22T13:07:49.592Z"
   },
   {
    "duration": 12,
    "start_time": "2023-03-22T13:07:49.609Z"
   },
   {
    "duration": 7,
    "start_time": "2023-03-22T13:07:49.622Z"
   },
   {
    "duration": 12,
    "start_time": "2023-03-22T13:07:49.630Z"
   },
   {
    "duration": 4,
    "start_time": "2023-03-22T13:07:49.644Z"
   },
   {
    "duration": 35,
    "start_time": "2023-03-22T13:07:49.649Z"
   },
   {
    "duration": 3,
    "start_time": "2023-03-22T13:07:49.686Z"
   },
   {
    "duration": 6,
    "start_time": "2023-03-22T13:07:49.691Z"
   },
   {
    "duration": 12,
    "start_time": "2023-03-22T13:07:49.699Z"
   },
   {
    "duration": 8667,
    "start_time": "2023-03-22T13:07:49.713Z"
   },
   {
    "duration": 4,
    "start_time": "2023-03-22T13:07:58.382Z"
   },
   {
    "duration": 1668,
    "start_time": "2023-03-22T16:18:39.133Z"
   },
   {
    "duration": 163,
    "start_time": "2023-03-22T16:18:40.803Z"
   },
   {
    "duration": 20,
    "start_time": "2023-03-22T16:18:40.967Z"
   },
   {
    "duration": 16,
    "start_time": "2023-03-22T16:18:40.988Z"
   },
   {
    "duration": 9,
    "start_time": "2023-03-22T16:18:41.006Z"
   },
   {
    "duration": 16,
    "start_time": "2023-03-22T16:18:41.016Z"
   },
   {
    "duration": 57,
    "start_time": "2023-03-22T16:18:41.034Z"
   },
   {
    "duration": 38,
    "start_time": "2023-03-22T16:18:41.093Z"
   },
   {
    "duration": 3,
    "start_time": "2023-03-22T16:18:41.133Z"
   },
   {
    "duration": 13,
    "start_time": "2023-03-22T16:18:41.137Z"
   },
   {
    "duration": 8,
    "start_time": "2023-03-22T16:18:41.152Z"
   },
   {
    "duration": 9408,
    "start_time": "2023-03-22T16:18:41.162Z"
   },
   {
    "duration": 3,
    "start_time": "2023-03-22T16:18:50.572Z"
   },
   {
    "duration": 98,
    "start_time": "2023-03-22T17:56:26.468Z"
   },
   {
    "duration": 1928,
    "start_time": "2023-03-22T18:08:01.334Z"
   },
   {
    "duration": 137,
    "start_time": "2023-03-22T18:08:03.270Z"
   },
   {
    "duration": 26,
    "start_time": "2023-03-22T18:08:03.409Z"
   },
   {
    "duration": 18,
    "start_time": "2023-03-22T18:08:03.438Z"
   },
   {
    "duration": 7,
    "start_time": "2023-03-22T18:08:03.459Z"
   },
   {
    "duration": 7,
    "start_time": "2023-03-22T18:08:03.469Z"
   },
   {
    "duration": 6,
    "start_time": "2023-03-22T18:08:03.484Z"
   },
   {
    "duration": 75,
    "start_time": "2023-03-22T18:08:03.492Z"
   },
   {
    "duration": 5,
    "start_time": "2023-03-22T18:08:03.570Z"
   },
   {
    "duration": 11,
    "start_time": "2023-03-22T18:08:03.577Z"
   },
   {
    "duration": 7,
    "start_time": "2023-03-22T18:08:03.594Z"
   },
   {
    "duration": 11464,
    "start_time": "2023-03-22T18:08:03.603Z"
   },
   {
    "duration": 6,
    "start_time": "2023-03-22T18:08:15.070Z"
   },
   {
    "duration": 11648,
    "start_time": "2023-03-22T18:10:52.849Z"
   },
   {
    "duration": 1439,
    "start_time": "2023-03-22T18:11:17.356Z"
   },
   {
    "duration": 30,
    "start_time": "2023-03-22T18:11:18.798Z"
   },
   {
    "duration": 38,
    "start_time": "2023-03-22T18:11:18.830Z"
   },
   {
    "duration": 16,
    "start_time": "2023-03-22T18:11:18.871Z"
   },
   {
    "duration": 7,
    "start_time": "2023-03-22T18:11:18.891Z"
   },
   {
    "duration": 7,
    "start_time": "2023-03-22T18:11:18.901Z"
   },
   {
    "duration": 5,
    "start_time": "2023-03-22T18:11:18.910Z"
   },
   {
    "duration": 78,
    "start_time": "2023-03-22T18:11:18.919Z"
   },
   {
    "duration": 5,
    "start_time": "2023-03-22T18:11:18.999Z"
   },
   {
    "duration": 13,
    "start_time": "2023-03-22T18:11:19.007Z"
   },
   {
    "duration": 27,
    "start_time": "2023-03-22T18:11:19.023Z"
   },
   {
    "duration": 12630,
    "start_time": "2023-03-22T18:11:19.053Z"
   },
   {
    "duration": 5,
    "start_time": "2023-03-22T18:11:31.687Z"
   },
   {
    "duration": 151,
    "start_time": "2023-03-22T18:13:59.130Z"
   },
   {
    "duration": 187,
    "start_time": "2023-03-22T18:14:06.340Z"
   },
   {
    "duration": 12,
    "start_time": "2023-03-22T18:14:18.451Z"
   },
   {
    "duration": 20,
    "start_time": "2023-03-22T18:14:50.659Z"
   },
   {
    "duration": 1546,
    "start_time": "2023-03-22T18:15:06.938Z"
   },
   {
    "duration": 35,
    "start_time": "2023-03-22T18:15:08.487Z"
   },
   {
    "duration": 27,
    "start_time": "2023-03-22T18:15:08.525Z"
   },
   {
    "duration": 18,
    "start_time": "2023-03-22T18:15:08.555Z"
   },
   {
    "duration": 8,
    "start_time": "2023-03-22T18:15:08.576Z"
   },
   {
    "duration": 9,
    "start_time": "2023-03-22T18:15:08.586Z"
   },
   {
    "duration": 6,
    "start_time": "2023-03-22T18:15:08.598Z"
   },
   {
    "duration": 53,
    "start_time": "2023-03-22T18:15:08.642Z"
   },
   {
    "duration": 4,
    "start_time": "2023-03-22T18:15:08.701Z"
   },
   {
    "duration": 11,
    "start_time": "2023-03-22T18:15:08.709Z"
   },
   {
    "duration": 22,
    "start_time": "2023-03-22T18:15:08.723Z"
   },
   {
    "duration": 11664,
    "start_time": "2023-03-22T18:15:08.748Z"
   },
   {
    "duration": 10,
    "start_time": "2023-03-22T18:15:20.415Z"
   },
   {
    "duration": 1881,
    "start_time": "2023-03-23T04:54:59.952Z"
   },
   {
    "duration": 29,
    "start_time": "2023-03-23T04:55:01.835Z"
   },
   {
    "duration": 38,
    "start_time": "2023-03-23T04:55:01.866Z"
   },
   {
    "duration": 37,
    "start_time": "2023-03-23T04:55:01.906Z"
   },
   {
    "duration": 19,
    "start_time": "2023-03-23T04:55:01.946Z"
   },
   {
    "duration": 10,
    "start_time": "2023-03-23T04:55:01.967Z"
   },
   {
    "duration": 24,
    "start_time": "2023-03-23T04:55:01.979Z"
   },
   {
    "duration": 66,
    "start_time": "2023-03-23T04:55:02.005Z"
   },
   {
    "duration": 3,
    "start_time": "2023-03-23T04:55:02.072Z"
   },
   {
    "duration": 53,
    "start_time": "2023-03-23T04:55:02.076Z"
   },
   {
    "duration": 32,
    "start_time": "2023-03-23T04:55:02.131Z"
   },
   {
    "duration": 7389,
    "start_time": "2023-03-23T04:55:02.165Z"
   },
   {
    "duration": 4,
    "start_time": "2023-03-23T04:55:09.556Z"
   },
   {
    "duration": 8550,
    "start_time": "2023-03-23T04:55:22.760Z"
   },
   {
    "duration": 7377,
    "start_time": "2023-03-23T04:55:39.194Z"
   },
   {
    "duration": 1227,
    "start_time": "2023-03-23T05:28:50.335Z"
   },
   {
    "duration": 106,
    "start_time": "2023-03-23T05:28:51.564Z"
   },
   {
    "duration": 20,
    "start_time": "2023-03-23T05:28:51.673Z"
   },
   {
    "duration": 13,
    "start_time": "2023-03-23T05:28:51.695Z"
   },
   {
    "duration": 13,
    "start_time": "2023-03-23T05:28:51.712Z"
   },
   {
    "duration": 7,
    "start_time": "2023-03-23T05:28:51.727Z"
   },
   {
    "duration": 26,
    "start_time": "2023-03-23T05:28:51.738Z"
   },
   {
    "duration": 47,
    "start_time": "2023-03-23T05:28:51.765Z"
   },
   {
    "duration": 4,
    "start_time": "2023-03-23T05:28:51.814Z"
   },
   {
    "duration": 4,
    "start_time": "2023-03-23T05:28:51.820Z"
   },
   {
    "duration": 7,
    "start_time": "2023-03-23T05:28:51.826Z"
   },
   {
    "duration": 9315,
    "start_time": "2023-03-23T05:28:51.834Z"
   },
   {
    "duration": 3,
    "start_time": "2023-03-23T05:29:01.151Z"
   },
   {
    "duration": 4,
    "start_time": "2023-03-23T05:29:28.647Z"
   },
   {
    "duration": 111,
    "start_time": "2023-03-23T05:29:53.330Z"
   },
   {
    "duration": 3,
    "start_time": "2023-03-23T05:30:18.870Z"
   },
   {
    "duration": 14,
    "start_time": "2023-03-23T05:30:20.857Z"
   },
   {
    "duration": 12,
    "start_time": "2023-03-23T05:30:30.359Z"
   },
   {
    "duration": 3,
    "start_time": "2023-03-23T05:30:33.574Z"
   },
   {
    "duration": 14,
    "start_time": "2023-03-23T05:30:35.335Z"
   },
   {
    "duration": 4,
    "start_time": "2023-03-23T05:30:45.980Z"
   },
   {
    "duration": 4,
    "start_time": "2023-03-23T05:30:47.966Z"
   },
   {
    "duration": 5,
    "start_time": "2023-03-23T05:30:57.574Z"
   },
   {
    "duration": 4,
    "start_time": "2023-03-23T05:30:59.446Z"
   },
   {
    "duration": 5,
    "start_time": "2023-03-23T05:31:01.344Z"
   },
   {
    "duration": 6,
    "start_time": "2023-03-23T05:31:03.351Z"
   },
   {
    "duration": 91,
    "start_time": "2023-03-23T05:33:14.909Z"
   },
   {
    "duration": 12,
    "start_time": "2023-03-23T05:33:25.358Z"
   },
   {
    "duration": 9105,
    "start_time": "2023-03-23T05:33:44.862Z"
   },
   {
    "duration": 8982,
    "start_time": "2023-03-23T05:34:07.834Z"
   },
   {
    "duration": 8860,
    "start_time": "2023-03-23T05:34:33.439Z"
   },
   {
    "duration": 9200,
    "start_time": "2023-03-23T05:34:50.734Z"
   },
   {
    "duration": 8837,
    "start_time": "2023-03-23T05:35:17.037Z"
   },
   {
    "duration": 4,
    "start_time": "2023-03-23T05:35:32.363Z"
   }
  ],
  "kernelspec": {
   "display_name": "Python 3 (ipykernel)",
   "language": "python",
   "name": "python3"
  },
  "language_info": {
   "codemirror_mode": {
    "name": "ipython",
    "version": 3
   },
   "file_extension": ".py",
   "mimetype": "text/x-python",
   "name": "python",
   "nbconvert_exporter": "python",
   "pygments_lexer": "ipython3",
   "version": "3.8.10"
  },
  "toc": {
   "base_numbering": 1,
   "nav_menu": {},
   "number_sections": true,
   "sideBar": true,
   "skip_h1_title": true,
   "title_cell": "Содержание",
   "title_sidebar": "Contents",
   "toc_cell": true,
   "toc_position": {},
   "toc_section_display": true,
   "toc_window_display": false
  }
 },
 "nbformat": 4,
 "nbformat_minor": 2
}
