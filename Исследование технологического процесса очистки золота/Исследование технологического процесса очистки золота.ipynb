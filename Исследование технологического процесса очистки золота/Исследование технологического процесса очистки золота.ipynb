{
 "cells": [
  {
   "cell_type": "markdown",
   "metadata": {
    "toc": true
   },
   "source": [
    "<h1>Содержание<span class=\"tocSkip\"></span></h1>\n",
    "<div class=\"toc\"><ul class=\"toc-item\"><li><span><a href=\"#Подготовка-данных\" data-toc-modified-id=\"Подготовка-данных-1\"><span class=\"toc-item-num\">1&nbsp;&nbsp;</span>Подготовка данных</a></span></li><li><span><a href=\"#Анализ-данных\" data-toc-modified-id=\"Анализ-данных-2\"><span class=\"toc-item-num\">2&nbsp;&nbsp;</span>Анализ данных</a></span></li><li><span><a href=\"#Модель\" data-toc-modified-id=\"Модель-3\"><span class=\"toc-item-num\">3&nbsp;&nbsp;</span>Модель</a></span></li><li><span><a href=\"#Общий-вывод\" data-toc-modified-id=\"Общий-вывод-4\"><span class=\"toc-item-num\">4&nbsp;&nbsp;</span>Общий вывод</a></span></li><li><span><a href=\"#Чек-лист-готовности-проекта\" data-toc-modified-id=\"Чек-лист-готовности-проекта-5\"><span class=\"toc-item-num\">5&nbsp;&nbsp;</span>Чек-лист готовности проекта</a></span></li></ul></div>"
   ]
  },
  {
   "cell_type": "markdown",
   "metadata": {},
   "source": [
    "# Расчёт эффективности восстановления золота из руды"
   ]
  },
  {
   "cell_type": "markdown",
   "metadata": {},
   "source": [
    "**Задача**:<br>\n",
    "Подготовить модель для предсказания коэффициента восстановления золота из золотосодержащей руды. <br>\n",
    "<brt><br>\n",
    "**Исходные данные**:<br>\n",
    "Данные с параметрами добычи и очистки. \n",
    "<br><br>\n",
    "**Решение**:\n",
    "1. Подготовить данные;\n",
    "2. Провести исследовательский анализ данных;\n",
    "3. Построить и обучить модель."
   ]
  },
  {
   "cell_type": "markdown",
   "metadata": {},
   "source": [
    "## Подготовка данных"
   ]
  },
  {
   "cell_type": "code",
   "execution_count": 1,
   "metadata": {},
   "outputs": [],
   "source": [
    "#Импортируем библиотеки и модули\n",
    "import pandas as pd\n",
    "from sklearn.metrics import mean_absolute_error, mean_squared_error, make_scorer\n",
    "import numpy as np\n",
    "import matplotlib.pyplot as plt\n",
    "import seaborn as sns\n",
    "\n",
    "from sklearn.tree import DecisionTreeRegressor\n",
    "from sklearn.ensemble import RandomForestRegressor\n",
    "from sklearn.linear_model import LinearRegression\n",
    "\n",
    "from sklearn.model_selection import cross_val_score, GridSearchCV\n",
    "from sklearn.dummy import DummyRegressor"
   ]
  },
  {
   "cell_type": "code",
   "execution_count": 2,
   "metadata": {},
   "outputs": [],
   "source": [
    "#Создадим датасеты\n",
    "df_train = pd.read_csv('gold_recovery_train_new.csv')\n",
    "df_test = pd.read_csv('gold_recovery_test_new.csv')\n",
    "df_full = pd.read_csv('gold_recovery_full_new.csv')"
   ]
  },
  {
   "cell_type": "code",
   "execution_count": 3,
   "metadata": {
    "scrolled": true
   },
   "outputs": [
    {
     "data": {
      "text/html": [
       "<div>\n",
       "<style scoped>\n",
       "    .dataframe tbody tr th:only-of-type {\n",
       "        vertical-align: middle;\n",
       "    }\n",
       "\n",
       "    .dataframe tbody tr th {\n",
       "        vertical-align: top;\n",
       "    }\n",
       "\n",
       "    .dataframe thead th {\n",
       "        text-align: right;\n",
       "    }\n",
       "</style>\n",
       "<table border=\"1\" class=\"dataframe\">\n",
       "  <thead>\n",
       "    <tr style=\"text-align: right;\">\n",
       "      <th></th>\n",
       "      <th>date</th>\n",
       "      <th>final.output.concentrate_ag</th>\n",
       "      <th>final.output.concentrate_pb</th>\n",
       "      <th>final.output.concentrate_sol</th>\n",
       "      <th>final.output.concentrate_au</th>\n",
       "      <th>final.output.recovery</th>\n",
       "      <th>final.output.tail_ag</th>\n",
       "      <th>final.output.tail_pb</th>\n",
       "      <th>final.output.tail_sol</th>\n",
       "      <th>final.output.tail_au</th>\n",
       "      <th>...</th>\n",
       "      <th>secondary_cleaner.state.floatbank4_a_air</th>\n",
       "      <th>secondary_cleaner.state.floatbank4_a_level</th>\n",
       "      <th>secondary_cleaner.state.floatbank4_b_air</th>\n",
       "      <th>secondary_cleaner.state.floatbank4_b_level</th>\n",
       "      <th>secondary_cleaner.state.floatbank5_a_air</th>\n",
       "      <th>secondary_cleaner.state.floatbank5_a_level</th>\n",
       "      <th>secondary_cleaner.state.floatbank5_b_air</th>\n",
       "      <th>secondary_cleaner.state.floatbank5_b_level</th>\n",
       "      <th>secondary_cleaner.state.floatbank6_a_air</th>\n",
       "      <th>secondary_cleaner.state.floatbank6_a_level</th>\n",
       "    </tr>\n",
       "  </thead>\n",
       "  <tbody>\n",
       "    <tr>\n",
       "      <th>0</th>\n",
       "      <td>2016-01-15 00:00:00</td>\n",
       "      <td>6.055403</td>\n",
       "      <td>9.889648</td>\n",
       "      <td>5.507324</td>\n",
       "      <td>42.192020</td>\n",
       "      <td>70.541216</td>\n",
       "      <td>10.411962</td>\n",
       "      <td>0.895447</td>\n",
       "      <td>16.904297</td>\n",
       "      <td>2.143149</td>\n",
       "      <td>...</td>\n",
       "      <td>14.016835</td>\n",
       "      <td>-502.488007</td>\n",
       "      <td>12.099931</td>\n",
       "      <td>-504.715942</td>\n",
       "      <td>9.925633</td>\n",
       "      <td>-498.310211</td>\n",
       "      <td>8.079666</td>\n",
       "      <td>-500.470978</td>\n",
       "      <td>14.151341</td>\n",
       "      <td>-605.841980</td>\n",
       "    </tr>\n",
       "    <tr>\n",
       "      <th>1</th>\n",
       "      <td>2016-01-15 01:00:00</td>\n",
       "      <td>6.029369</td>\n",
       "      <td>9.968944</td>\n",
       "      <td>5.257781</td>\n",
       "      <td>42.701629</td>\n",
       "      <td>69.266198</td>\n",
       "      <td>10.462676</td>\n",
       "      <td>0.927452</td>\n",
       "      <td>16.634514</td>\n",
       "      <td>2.224930</td>\n",
       "      <td>...</td>\n",
       "      <td>13.992281</td>\n",
       "      <td>-505.503262</td>\n",
       "      <td>11.950531</td>\n",
       "      <td>-501.331529</td>\n",
       "      <td>10.039245</td>\n",
       "      <td>-500.169983</td>\n",
       "      <td>7.984757</td>\n",
       "      <td>-500.582168</td>\n",
       "      <td>13.998353</td>\n",
       "      <td>-599.787184</td>\n",
       "    </tr>\n",
       "    <tr>\n",
       "      <th>2</th>\n",
       "      <td>2016-01-15 02:00:00</td>\n",
       "      <td>6.055926</td>\n",
       "      <td>10.213995</td>\n",
       "      <td>5.383759</td>\n",
       "      <td>42.657501</td>\n",
       "      <td>68.116445</td>\n",
       "      <td>10.507046</td>\n",
       "      <td>0.953716</td>\n",
       "      <td>16.208849</td>\n",
       "      <td>2.257889</td>\n",
       "      <td>...</td>\n",
       "      <td>14.015015</td>\n",
       "      <td>-502.520901</td>\n",
       "      <td>11.912783</td>\n",
       "      <td>-501.133383</td>\n",
       "      <td>10.070913</td>\n",
       "      <td>-500.129135</td>\n",
       "      <td>8.013877</td>\n",
       "      <td>-500.517572</td>\n",
       "      <td>14.028663</td>\n",
       "      <td>-601.427363</td>\n",
       "    </tr>\n",
       "    <tr>\n",
       "      <th>3</th>\n",
       "      <td>2016-01-15 03:00:00</td>\n",
       "      <td>6.047977</td>\n",
       "      <td>9.977019</td>\n",
       "      <td>4.858634</td>\n",
       "      <td>42.689819</td>\n",
       "      <td>68.347543</td>\n",
       "      <td>10.422762</td>\n",
       "      <td>0.883763</td>\n",
       "      <td>16.532835</td>\n",
       "      <td>2.146849</td>\n",
       "      <td>...</td>\n",
       "      <td>14.036510</td>\n",
       "      <td>-500.857308</td>\n",
       "      <td>11.999550</td>\n",
       "      <td>-501.193686</td>\n",
       "      <td>9.970366</td>\n",
       "      <td>-499.201640</td>\n",
       "      <td>7.977324</td>\n",
       "      <td>-500.255908</td>\n",
       "      <td>14.005551</td>\n",
       "      <td>-599.996129</td>\n",
       "    </tr>\n",
       "    <tr>\n",
       "      <th>4</th>\n",
       "      <td>2016-01-15 04:00:00</td>\n",
       "      <td>6.148599</td>\n",
       "      <td>10.142511</td>\n",
       "      <td>4.939416</td>\n",
       "      <td>42.774141</td>\n",
       "      <td>66.927016</td>\n",
       "      <td>10.360302</td>\n",
       "      <td>0.792826</td>\n",
       "      <td>16.525686</td>\n",
       "      <td>2.055292</td>\n",
       "      <td>...</td>\n",
       "      <td>14.027298</td>\n",
       "      <td>-499.838632</td>\n",
       "      <td>11.953070</td>\n",
       "      <td>-501.053894</td>\n",
       "      <td>9.925709</td>\n",
       "      <td>-501.686727</td>\n",
       "      <td>7.894242</td>\n",
       "      <td>-500.356035</td>\n",
       "      <td>13.996647</td>\n",
       "      <td>-601.496691</td>\n",
       "    </tr>\n",
       "  </tbody>\n",
       "</table>\n",
       "<p>5 rows × 87 columns</p>\n",
       "</div>"
      ],
      "text/plain": [
       "                  date  final.output.concentrate_ag  \\\n",
       "0  2016-01-15 00:00:00                     6.055403   \n",
       "1  2016-01-15 01:00:00                     6.029369   \n",
       "2  2016-01-15 02:00:00                     6.055926   \n",
       "3  2016-01-15 03:00:00                     6.047977   \n",
       "4  2016-01-15 04:00:00                     6.148599   \n",
       "\n",
       "   final.output.concentrate_pb  final.output.concentrate_sol  \\\n",
       "0                     9.889648                      5.507324   \n",
       "1                     9.968944                      5.257781   \n",
       "2                    10.213995                      5.383759   \n",
       "3                     9.977019                      4.858634   \n",
       "4                    10.142511                      4.939416   \n",
       "\n",
       "   final.output.concentrate_au  final.output.recovery  final.output.tail_ag  \\\n",
       "0                    42.192020              70.541216             10.411962   \n",
       "1                    42.701629              69.266198             10.462676   \n",
       "2                    42.657501              68.116445             10.507046   \n",
       "3                    42.689819              68.347543             10.422762   \n",
       "4                    42.774141              66.927016             10.360302   \n",
       "\n",
       "   final.output.tail_pb  final.output.tail_sol  final.output.tail_au  ...  \\\n",
       "0              0.895447              16.904297              2.143149  ...   \n",
       "1              0.927452              16.634514              2.224930  ...   \n",
       "2              0.953716              16.208849              2.257889  ...   \n",
       "3              0.883763              16.532835              2.146849  ...   \n",
       "4              0.792826              16.525686              2.055292  ...   \n",
       "\n",
       "   secondary_cleaner.state.floatbank4_a_air  \\\n",
       "0                                 14.016835   \n",
       "1                                 13.992281   \n",
       "2                                 14.015015   \n",
       "3                                 14.036510   \n",
       "4                                 14.027298   \n",
       "\n",
       "   secondary_cleaner.state.floatbank4_a_level  \\\n",
       "0                                 -502.488007   \n",
       "1                                 -505.503262   \n",
       "2                                 -502.520901   \n",
       "3                                 -500.857308   \n",
       "4                                 -499.838632   \n",
       "\n",
       "   secondary_cleaner.state.floatbank4_b_air  \\\n",
       "0                                 12.099931   \n",
       "1                                 11.950531   \n",
       "2                                 11.912783   \n",
       "3                                 11.999550   \n",
       "4                                 11.953070   \n",
       "\n",
       "   secondary_cleaner.state.floatbank4_b_level  \\\n",
       "0                                 -504.715942   \n",
       "1                                 -501.331529   \n",
       "2                                 -501.133383   \n",
       "3                                 -501.193686   \n",
       "4                                 -501.053894   \n",
       "\n",
       "   secondary_cleaner.state.floatbank5_a_air  \\\n",
       "0                                  9.925633   \n",
       "1                                 10.039245   \n",
       "2                                 10.070913   \n",
       "3                                  9.970366   \n",
       "4                                  9.925709   \n",
       "\n",
       "   secondary_cleaner.state.floatbank5_a_level  \\\n",
       "0                                 -498.310211   \n",
       "1                                 -500.169983   \n",
       "2                                 -500.129135   \n",
       "3                                 -499.201640   \n",
       "4                                 -501.686727   \n",
       "\n",
       "   secondary_cleaner.state.floatbank5_b_air  \\\n",
       "0                                  8.079666   \n",
       "1                                  7.984757   \n",
       "2                                  8.013877   \n",
       "3                                  7.977324   \n",
       "4                                  7.894242   \n",
       "\n",
       "   secondary_cleaner.state.floatbank5_b_level  \\\n",
       "0                                 -500.470978   \n",
       "1                                 -500.582168   \n",
       "2                                 -500.517572   \n",
       "3                                 -500.255908   \n",
       "4                                 -500.356035   \n",
       "\n",
       "   secondary_cleaner.state.floatbank6_a_air  \\\n",
       "0                                 14.151341   \n",
       "1                                 13.998353   \n",
       "2                                 14.028663   \n",
       "3                                 14.005551   \n",
       "4                                 13.996647   \n",
       "\n",
       "   secondary_cleaner.state.floatbank6_a_level  \n",
       "0                                 -605.841980  \n",
       "1                                 -599.787184  \n",
       "2                                 -601.427363  \n",
       "3                                 -599.996129  \n",
       "4                                 -601.496691  \n",
       "\n",
       "[5 rows x 87 columns]"
      ]
     },
     "metadata": {},
     "output_type": "display_data"
    },
    {
     "data": {
      "text/html": [
       "<div>\n",
       "<style scoped>\n",
       "    .dataframe tbody tr th:only-of-type {\n",
       "        vertical-align: middle;\n",
       "    }\n",
       "\n",
       "    .dataframe tbody tr th {\n",
       "        vertical-align: top;\n",
       "    }\n",
       "\n",
       "    .dataframe thead th {\n",
       "        text-align: right;\n",
       "    }\n",
       "</style>\n",
       "<table border=\"1\" class=\"dataframe\">\n",
       "  <thead>\n",
       "    <tr style=\"text-align: right;\">\n",
       "      <th></th>\n",
       "      <th>date</th>\n",
       "      <th>primary_cleaner.input.sulfate</th>\n",
       "      <th>primary_cleaner.input.depressant</th>\n",
       "      <th>primary_cleaner.input.feed_size</th>\n",
       "      <th>primary_cleaner.input.xanthate</th>\n",
       "      <th>primary_cleaner.state.floatbank8_a_air</th>\n",
       "      <th>primary_cleaner.state.floatbank8_a_level</th>\n",
       "      <th>primary_cleaner.state.floatbank8_b_air</th>\n",
       "      <th>primary_cleaner.state.floatbank8_b_level</th>\n",
       "      <th>primary_cleaner.state.floatbank8_c_air</th>\n",
       "      <th>...</th>\n",
       "      <th>secondary_cleaner.state.floatbank4_a_air</th>\n",
       "      <th>secondary_cleaner.state.floatbank4_a_level</th>\n",
       "      <th>secondary_cleaner.state.floatbank4_b_air</th>\n",
       "      <th>secondary_cleaner.state.floatbank4_b_level</th>\n",
       "      <th>secondary_cleaner.state.floatbank5_a_air</th>\n",
       "      <th>secondary_cleaner.state.floatbank5_a_level</th>\n",
       "      <th>secondary_cleaner.state.floatbank5_b_air</th>\n",
       "      <th>secondary_cleaner.state.floatbank5_b_level</th>\n",
       "      <th>secondary_cleaner.state.floatbank6_a_air</th>\n",
       "      <th>secondary_cleaner.state.floatbank6_a_level</th>\n",
       "    </tr>\n",
       "  </thead>\n",
       "  <tbody>\n",
       "    <tr>\n",
       "      <th>0</th>\n",
       "      <td>2016-09-01 00:59:59</td>\n",
       "      <td>210.800909</td>\n",
       "      <td>14.993118</td>\n",
       "      <td>8.080000</td>\n",
       "      <td>1.005021</td>\n",
       "      <td>1398.981301</td>\n",
       "      <td>-500.225577</td>\n",
       "      <td>1399.144926</td>\n",
       "      <td>-499.919735</td>\n",
       "      <td>1400.102998</td>\n",
       "      <td>...</td>\n",
       "      <td>12.023554</td>\n",
       "      <td>-497.795834</td>\n",
       "      <td>8.016656</td>\n",
       "      <td>-501.289139</td>\n",
       "      <td>7.946562</td>\n",
       "      <td>-432.317850</td>\n",
       "      <td>4.872511</td>\n",
       "      <td>-500.037437</td>\n",
       "      <td>26.705889</td>\n",
       "      <td>-499.709414</td>\n",
       "    </tr>\n",
       "    <tr>\n",
       "      <th>1</th>\n",
       "      <td>2016-09-01 01:59:59</td>\n",
       "      <td>215.392455</td>\n",
       "      <td>14.987471</td>\n",
       "      <td>8.080000</td>\n",
       "      <td>0.990469</td>\n",
       "      <td>1398.777912</td>\n",
       "      <td>-500.057435</td>\n",
       "      <td>1398.055362</td>\n",
       "      <td>-499.778182</td>\n",
       "      <td>1396.151033</td>\n",
       "      <td>...</td>\n",
       "      <td>12.058140</td>\n",
       "      <td>-498.695773</td>\n",
       "      <td>8.130979</td>\n",
       "      <td>-499.634209</td>\n",
       "      <td>7.958270</td>\n",
       "      <td>-525.839648</td>\n",
       "      <td>4.878850</td>\n",
       "      <td>-500.162375</td>\n",
       "      <td>25.019940</td>\n",
       "      <td>-499.819438</td>\n",
       "    </tr>\n",
       "    <tr>\n",
       "      <th>2</th>\n",
       "      <td>2016-09-01 02:59:59</td>\n",
       "      <td>215.259946</td>\n",
       "      <td>12.884934</td>\n",
       "      <td>7.786667</td>\n",
       "      <td>0.996043</td>\n",
       "      <td>1398.493666</td>\n",
       "      <td>-500.868360</td>\n",
       "      <td>1398.860436</td>\n",
       "      <td>-499.764529</td>\n",
       "      <td>1398.075709</td>\n",
       "      <td>...</td>\n",
       "      <td>11.962366</td>\n",
       "      <td>-498.767484</td>\n",
       "      <td>8.096893</td>\n",
       "      <td>-500.827423</td>\n",
       "      <td>8.071056</td>\n",
       "      <td>-500.801673</td>\n",
       "      <td>4.905125</td>\n",
       "      <td>-499.828510</td>\n",
       "      <td>24.994862</td>\n",
       "      <td>-500.622559</td>\n",
       "    </tr>\n",
       "    <tr>\n",
       "      <th>3</th>\n",
       "      <td>2016-09-01 03:59:59</td>\n",
       "      <td>215.336236</td>\n",
       "      <td>12.006805</td>\n",
       "      <td>7.640000</td>\n",
       "      <td>0.863514</td>\n",
       "      <td>1399.618111</td>\n",
       "      <td>-498.863574</td>\n",
       "      <td>1397.440120</td>\n",
       "      <td>-499.211024</td>\n",
       "      <td>1400.129303</td>\n",
       "      <td>...</td>\n",
       "      <td>12.033091</td>\n",
       "      <td>-498.350935</td>\n",
       "      <td>8.074946</td>\n",
       "      <td>-499.474407</td>\n",
       "      <td>7.897085</td>\n",
       "      <td>-500.868509</td>\n",
       "      <td>4.931400</td>\n",
       "      <td>-499.963623</td>\n",
       "      <td>24.948919</td>\n",
       "      <td>-498.709987</td>\n",
       "    </tr>\n",
       "    <tr>\n",
       "      <th>4</th>\n",
       "      <td>2016-09-01 04:59:59</td>\n",
       "      <td>199.099327</td>\n",
       "      <td>10.682530</td>\n",
       "      <td>7.530000</td>\n",
       "      <td>0.805575</td>\n",
       "      <td>1401.268123</td>\n",
       "      <td>-500.808305</td>\n",
       "      <td>1398.128818</td>\n",
       "      <td>-499.504543</td>\n",
       "      <td>1402.172226</td>\n",
       "      <td>...</td>\n",
       "      <td>12.025367</td>\n",
       "      <td>-500.786497</td>\n",
       "      <td>8.054678</td>\n",
       "      <td>-500.397500</td>\n",
       "      <td>8.107890</td>\n",
       "      <td>-509.526725</td>\n",
       "      <td>4.957674</td>\n",
       "      <td>-500.360026</td>\n",
       "      <td>25.003331</td>\n",
       "      <td>-500.856333</td>\n",
       "    </tr>\n",
       "  </tbody>\n",
       "</table>\n",
       "<p>5 rows × 53 columns</p>\n",
       "</div>"
      ],
      "text/plain": [
       "                  date  primary_cleaner.input.sulfate  \\\n",
       "0  2016-09-01 00:59:59                     210.800909   \n",
       "1  2016-09-01 01:59:59                     215.392455   \n",
       "2  2016-09-01 02:59:59                     215.259946   \n",
       "3  2016-09-01 03:59:59                     215.336236   \n",
       "4  2016-09-01 04:59:59                     199.099327   \n",
       "\n",
       "   primary_cleaner.input.depressant  primary_cleaner.input.feed_size  \\\n",
       "0                         14.993118                         8.080000   \n",
       "1                         14.987471                         8.080000   \n",
       "2                         12.884934                         7.786667   \n",
       "3                         12.006805                         7.640000   \n",
       "4                         10.682530                         7.530000   \n",
       "\n",
       "   primary_cleaner.input.xanthate  primary_cleaner.state.floatbank8_a_air  \\\n",
       "0                        1.005021                             1398.981301   \n",
       "1                        0.990469                             1398.777912   \n",
       "2                        0.996043                             1398.493666   \n",
       "3                        0.863514                             1399.618111   \n",
       "4                        0.805575                             1401.268123   \n",
       "\n",
       "   primary_cleaner.state.floatbank8_a_level  \\\n",
       "0                               -500.225577   \n",
       "1                               -500.057435   \n",
       "2                               -500.868360   \n",
       "3                               -498.863574   \n",
       "4                               -500.808305   \n",
       "\n",
       "   primary_cleaner.state.floatbank8_b_air  \\\n",
       "0                             1399.144926   \n",
       "1                             1398.055362   \n",
       "2                             1398.860436   \n",
       "3                             1397.440120   \n",
       "4                             1398.128818   \n",
       "\n",
       "   primary_cleaner.state.floatbank8_b_level  \\\n",
       "0                               -499.919735   \n",
       "1                               -499.778182   \n",
       "2                               -499.764529   \n",
       "3                               -499.211024   \n",
       "4                               -499.504543   \n",
       "\n",
       "   primary_cleaner.state.floatbank8_c_air  ...  \\\n",
       "0                             1400.102998  ...   \n",
       "1                             1396.151033  ...   \n",
       "2                             1398.075709  ...   \n",
       "3                             1400.129303  ...   \n",
       "4                             1402.172226  ...   \n",
       "\n",
       "   secondary_cleaner.state.floatbank4_a_air  \\\n",
       "0                                 12.023554   \n",
       "1                                 12.058140   \n",
       "2                                 11.962366   \n",
       "3                                 12.033091   \n",
       "4                                 12.025367   \n",
       "\n",
       "   secondary_cleaner.state.floatbank4_a_level  \\\n",
       "0                                 -497.795834   \n",
       "1                                 -498.695773   \n",
       "2                                 -498.767484   \n",
       "3                                 -498.350935   \n",
       "4                                 -500.786497   \n",
       "\n",
       "   secondary_cleaner.state.floatbank4_b_air  \\\n",
       "0                                  8.016656   \n",
       "1                                  8.130979   \n",
       "2                                  8.096893   \n",
       "3                                  8.074946   \n",
       "4                                  8.054678   \n",
       "\n",
       "   secondary_cleaner.state.floatbank4_b_level  \\\n",
       "0                                 -501.289139   \n",
       "1                                 -499.634209   \n",
       "2                                 -500.827423   \n",
       "3                                 -499.474407   \n",
       "4                                 -500.397500   \n",
       "\n",
       "   secondary_cleaner.state.floatbank5_a_air  \\\n",
       "0                                  7.946562   \n",
       "1                                  7.958270   \n",
       "2                                  8.071056   \n",
       "3                                  7.897085   \n",
       "4                                  8.107890   \n",
       "\n",
       "   secondary_cleaner.state.floatbank5_a_level  \\\n",
       "0                                 -432.317850   \n",
       "1                                 -525.839648   \n",
       "2                                 -500.801673   \n",
       "3                                 -500.868509   \n",
       "4                                 -509.526725   \n",
       "\n",
       "   secondary_cleaner.state.floatbank5_b_air  \\\n",
       "0                                  4.872511   \n",
       "1                                  4.878850   \n",
       "2                                  4.905125   \n",
       "3                                  4.931400   \n",
       "4                                  4.957674   \n",
       "\n",
       "   secondary_cleaner.state.floatbank5_b_level  \\\n",
       "0                                 -500.037437   \n",
       "1                                 -500.162375   \n",
       "2                                 -499.828510   \n",
       "3                                 -499.963623   \n",
       "4                                 -500.360026   \n",
       "\n",
       "   secondary_cleaner.state.floatbank6_a_air  \\\n",
       "0                                 26.705889   \n",
       "1                                 25.019940   \n",
       "2                                 24.994862   \n",
       "3                                 24.948919   \n",
       "4                                 25.003331   \n",
       "\n",
       "   secondary_cleaner.state.floatbank6_a_level  \n",
       "0                                 -499.709414  \n",
       "1                                 -499.819438  \n",
       "2                                 -500.622559  \n",
       "3                                 -498.709987  \n",
       "4                                 -500.856333  \n",
       "\n",
       "[5 rows x 53 columns]"
      ]
     },
     "metadata": {},
     "output_type": "display_data"
    },
    {
     "data": {
      "text/html": [
       "<div>\n",
       "<style scoped>\n",
       "    .dataframe tbody tr th:only-of-type {\n",
       "        vertical-align: middle;\n",
       "    }\n",
       "\n",
       "    .dataframe tbody tr th {\n",
       "        vertical-align: top;\n",
       "    }\n",
       "\n",
       "    .dataframe thead th {\n",
       "        text-align: right;\n",
       "    }\n",
       "</style>\n",
       "<table border=\"1\" class=\"dataframe\">\n",
       "  <thead>\n",
       "    <tr style=\"text-align: right;\">\n",
       "      <th></th>\n",
       "      <th>date</th>\n",
       "      <th>final.output.concentrate_ag</th>\n",
       "      <th>final.output.concentrate_pb</th>\n",
       "      <th>final.output.concentrate_sol</th>\n",
       "      <th>final.output.concentrate_au</th>\n",
       "      <th>final.output.recovery</th>\n",
       "      <th>final.output.tail_ag</th>\n",
       "      <th>final.output.tail_pb</th>\n",
       "      <th>final.output.tail_sol</th>\n",
       "      <th>final.output.tail_au</th>\n",
       "      <th>...</th>\n",
       "      <th>secondary_cleaner.state.floatbank4_a_air</th>\n",
       "      <th>secondary_cleaner.state.floatbank4_a_level</th>\n",
       "      <th>secondary_cleaner.state.floatbank4_b_air</th>\n",
       "      <th>secondary_cleaner.state.floatbank4_b_level</th>\n",
       "      <th>secondary_cleaner.state.floatbank5_a_air</th>\n",
       "      <th>secondary_cleaner.state.floatbank5_a_level</th>\n",
       "      <th>secondary_cleaner.state.floatbank5_b_air</th>\n",
       "      <th>secondary_cleaner.state.floatbank5_b_level</th>\n",
       "      <th>secondary_cleaner.state.floatbank6_a_air</th>\n",
       "      <th>secondary_cleaner.state.floatbank6_a_level</th>\n",
       "    </tr>\n",
       "  </thead>\n",
       "  <tbody>\n",
       "    <tr>\n",
       "      <th>0</th>\n",
       "      <td>2016-01-15 00:00:00</td>\n",
       "      <td>6.055403</td>\n",
       "      <td>9.889648</td>\n",
       "      <td>5.507324</td>\n",
       "      <td>42.192020</td>\n",
       "      <td>70.541216</td>\n",
       "      <td>10.411962</td>\n",
       "      <td>0.895447</td>\n",
       "      <td>16.904297</td>\n",
       "      <td>2.143149</td>\n",
       "      <td>...</td>\n",
       "      <td>14.016835</td>\n",
       "      <td>-502.488007</td>\n",
       "      <td>12.099931</td>\n",
       "      <td>-504.715942</td>\n",
       "      <td>9.925633</td>\n",
       "      <td>-498.310211</td>\n",
       "      <td>8.079666</td>\n",
       "      <td>-500.470978</td>\n",
       "      <td>14.151341</td>\n",
       "      <td>-605.841980</td>\n",
       "    </tr>\n",
       "    <tr>\n",
       "      <th>1</th>\n",
       "      <td>2016-01-15 01:00:00</td>\n",
       "      <td>6.029369</td>\n",
       "      <td>9.968944</td>\n",
       "      <td>5.257781</td>\n",
       "      <td>42.701629</td>\n",
       "      <td>69.266198</td>\n",
       "      <td>10.462676</td>\n",
       "      <td>0.927452</td>\n",
       "      <td>16.634514</td>\n",
       "      <td>2.224930</td>\n",
       "      <td>...</td>\n",
       "      <td>13.992281</td>\n",
       "      <td>-505.503262</td>\n",
       "      <td>11.950531</td>\n",
       "      <td>-501.331529</td>\n",
       "      <td>10.039245</td>\n",
       "      <td>-500.169983</td>\n",
       "      <td>7.984757</td>\n",
       "      <td>-500.582168</td>\n",
       "      <td>13.998353</td>\n",
       "      <td>-599.787184</td>\n",
       "    </tr>\n",
       "    <tr>\n",
       "      <th>2</th>\n",
       "      <td>2016-01-15 02:00:00</td>\n",
       "      <td>6.055926</td>\n",
       "      <td>10.213995</td>\n",
       "      <td>5.383759</td>\n",
       "      <td>42.657501</td>\n",
       "      <td>68.116445</td>\n",
       "      <td>10.507046</td>\n",
       "      <td>0.953716</td>\n",
       "      <td>16.208849</td>\n",
       "      <td>2.257889</td>\n",
       "      <td>...</td>\n",
       "      <td>14.015015</td>\n",
       "      <td>-502.520901</td>\n",
       "      <td>11.912783</td>\n",
       "      <td>-501.133383</td>\n",
       "      <td>10.070913</td>\n",
       "      <td>-500.129135</td>\n",
       "      <td>8.013877</td>\n",
       "      <td>-500.517572</td>\n",
       "      <td>14.028663</td>\n",
       "      <td>-601.427363</td>\n",
       "    </tr>\n",
       "    <tr>\n",
       "      <th>3</th>\n",
       "      <td>2016-01-15 03:00:00</td>\n",
       "      <td>6.047977</td>\n",
       "      <td>9.977019</td>\n",
       "      <td>4.858634</td>\n",
       "      <td>42.689819</td>\n",
       "      <td>68.347543</td>\n",
       "      <td>10.422762</td>\n",
       "      <td>0.883763</td>\n",
       "      <td>16.532835</td>\n",
       "      <td>2.146849</td>\n",
       "      <td>...</td>\n",
       "      <td>14.036510</td>\n",
       "      <td>-500.857308</td>\n",
       "      <td>11.999550</td>\n",
       "      <td>-501.193686</td>\n",
       "      <td>9.970366</td>\n",
       "      <td>-499.201640</td>\n",
       "      <td>7.977324</td>\n",
       "      <td>-500.255908</td>\n",
       "      <td>14.005551</td>\n",
       "      <td>-599.996129</td>\n",
       "    </tr>\n",
       "    <tr>\n",
       "      <th>4</th>\n",
       "      <td>2016-01-15 04:00:00</td>\n",
       "      <td>6.148599</td>\n",
       "      <td>10.142511</td>\n",
       "      <td>4.939416</td>\n",
       "      <td>42.774141</td>\n",
       "      <td>66.927016</td>\n",
       "      <td>10.360302</td>\n",
       "      <td>0.792826</td>\n",
       "      <td>16.525686</td>\n",
       "      <td>2.055292</td>\n",
       "      <td>...</td>\n",
       "      <td>14.027298</td>\n",
       "      <td>-499.838632</td>\n",
       "      <td>11.953070</td>\n",
       "      <td>-501.053894</td>\n",
       "      <td>9.925709</td>\n",
       "      <td>-501.686727</td>\n",
       "      <td>7.894242</td>\n",
       "      <td>-500.356035</td>\n",
       "      <td>13.996647</td>\n",
       "      <td>-601.496691</td>\n",
       "    </tr>\n",
       "  </tbody>\n",
       "</table>\n",
       "<p>5 rows × 87 columns</p>\n",
       "</div>"
      ],
      "text/plain": [
       "                  date  final.output.concentrate_ag  \\\n",
       "0  2016-01-15 00:00:00                     6.055403   \n",
       "1  2016-01-15 01:00:00                     6.029369   \n",
       "2  2016-01-15 02:00:00                     6.055926   \n",
       "3  2016-01-15 03:00:00                     6.047977   \n",
       "4  2016-01-15 04:00:00                     6.148599   \n",
       "\n",
       "   final.output.concentrate_pb  final.output.concentrate_sol  \\\n",
       "0                     9.889648                      5.507324   \n",
       "1                     9.968944                      5.257781   \n",
       "2                    10.213995                      5.383759   \n",
       "3                     9.977019                      4.858634   \n",
       "4                    10.142511                      4.939416   \n",
       "\n",
       "   final.output.concentrate_au  final.output.recovery  final.output.tail_ag  \\\n",
       "0                    42.192020              70.541216             10.411962   \n",
       "1                    42.701629              69.266198             10.462676   \n",
       "2                    42.657501              68.116445             10.507046   \n",
       "3                    42.689819              68.347543             10.422762   \n",
       "4                    42.774141              66.927016             10.360302   \n",
       "\n",
       "   final.output.tail_pb  final.output.tail_sol  final.output.tail_au  ...  \\\n",
       "0              0.895447              16.904297              2.143149  ...   \n",
       "1              0.927452              16.634514              2.224930  ...   \n",
       "2              0.953716              16.208849              2.257889  ...   \n",
       "3              0.883763              16.532835              2.146849  ...   \n",
       "4              0.792826              16.525686              2.055292  ...   \n",
       "\n",
       "   secondary_cleaner.state.floatbank4_a_air  \\\n",
       "0                                 14.016835   \n",
       "1                                 13.992281   \n",
       "2                                 14.015015   \n",
       "3                                 14.036510   \n",
       "4                                 14.027298   \n",
       "\n",
       "   secondary_cleaner.state.floatbank4_a_level  \\\n",
       "0                                 -502.488007   \n",
       "1                                 -505.503262   \n",
       "2                                 -502.520901   \n",
       "3                                 -500.857308   \n",
       "4                                 -499.838632   \n",
       "\n",
       "   secondary_cleaner.state.floatbank4_b_air  \\\n",
       "0                                 12.099931   \n",
       "1                                 11.950531   \n",
       "2                                 11.912783   \n",
       "3                                 11.999550   \n",
       "4                                 11.953070   \n",
       "\n",
       "   secondary_cleaner.state.floatbank4_b_level  \\\n",
       "0                                 -504.715942   \n",
       "1                                 -501.331529   \n",
       "2                                 -501.133383   \n",
       "3                                 -501.193686   \n",
       "4                                 -501.053894   \n",
       "\n",
       "   secondary_cleaner.state.floatbank5_a_air  \\\n",
       "0                                  9.925633   \n",
       "1                                 10.039245   \n",
       "2                                 10.070913   \n",
       "3                                  9.970366   \n",
       "4                                  9.925709   \n",
       "\n",
       "   secondary_cleaner.state.floatbank5_a_level  \\\n",
       "0                                 -498.310211   \n",
       "1                                 -500.169983   \n",
       "2                                 -500.129135   \n",
       "3                                 -499.201640   \n",
       "4                                 -501.686727   \n",
       "\n",
       "   secondary_cleaner.state.floatbank5_b_air  \\\n",
       "0                                  8.079666   \n",
       "1                                  7.984757   \n",
       "2                                  8.013877   \n",
       "3                                  7.977324   \n",
       "4                                  7.894242   \n",
       "\n",
       "   secondary_cleaner.state.floatbank5_b_level  \\\n",
       "0                                 -500.470978   \n",
       "1                                 -500.582168   \n",
       "2                                 -500.517572   \n",
       "3                                 -500.255908   \n",
       "4                                 -500.356035   \n",
       "\n",
       "   secondary_cleaner.state.floatbank6_a_air  \\\n",
       "0                                 14.151341   \n",
       "1                                 13.998353   \n",
       "2                                 14.028663   \n",
       "3                                 14.005551   \n",
       "4                                 13.996647   \n",
       "\n",
       "   secondary_cleaner.state.floatbank6_a_level  \n",
       "0                                 -605.841980  \n",
       "1                                 -599.787184  \n",
       "2                                 -601.427363  \n",
       "3                                 -599.996129  \n",
       "4                                 -601.496691  \n",
       "\n",
       "[5 rows x 87 columns]"
      ]
     },
     "metadata": {},
     "output_type": "display_data"
    }
   ],
   "source": [
    "#Выводим датасеты для ознакомления\n",
    "display(df_train.head())\n",
    "display(df_test.head())\n",
    "display(df_full.head())"
   ]
  },
  {
   "cell_type": "code",
   "execution_count": 4,
   "metadata": {
    "scrolled": true
   },
   "outputs": [
    {
     "name": "stdout",
     "output_type": "stream",
     "text": [
      "<class 'pandas.core.frame.DataFrame'>\n",
      "RangeIndex: 14149 entries, 0 to 14148\n",
      "Data columns (total 87 columns):\n",
      " #   Column                                              Non-Null Count  Dtype  \n",
      "---  ------                                              --------------  -----  \n",
      " 0   date                                                14149 non-null  object \n",
      " 1   final.output.concentrate_ag                         14148 non-null  float64\n",
      " 2   final.output.concentrate_pb                         14148 non-null  float64\n",
      " 3   final.output.concentrate_sol                        13938 non-null  float64\n",
      " 4   final.output.concentrate_au                         14149 non-null  float64\n",
      " 5   final.output.recovery                               14149 non-null  float64\n",
      " 6   final.output.tail_ag                                14149 non-null  float64\n",
      " 7   final.output.tail_pb                                14049 non-null  float64\n",
      " 8   final.output.tail_sol                               14144 non-null  float64\n",
      " 9   final.output.tail_au                                14149 non-null  float64\n",
      " 10  primary_cleaner.input.sulfate                       14129 non-null  float64\n",
      " 11  primary_cleaner.input.depressant                    14117 non-null  float64\n",
      " 12  primary_cleaner.input.feed_size                     14149 non-null  float64\n",
      " 13  primary_cleaner.input.xanthate                      14049 non-null  float64\n",
      " 14  primary_cleaner.output.concentrate_ag               14149 non-null  float64\n",
      " 15  primary_cleaner.output.concentrate_pb               14063 non-null  float64\n",
      " 16  primary_cleaner.output.concentrate_sol              13863 non-null  float64\n",
      " 17  primary_cleaner.output.concentrate_au               14149 non-null  float64\n",
      " 18  primary_cleaner.output.tail_ag                      14148 non-null  float64\n",
      " 19  primary_cleaner.output.tail_pb                      14134 non-null  float64\n",
      " 20  primary_cleaner.output.tail_sol                     14103 non-null  float64\n",
      " 21  primary_cleaner.output.tail_au                      14149 non-null  float64\n",
      " 22  primary_cleaner.state.floatbank8_a_air              14145 non-null  float64\n",
      " 23  primary_cleaner.state.floatbank8_a_level            14148 non-null  float64\n",
      " 24  primary_cleaner.state.floatbank8_b_air              14145 non-null  float64\n",
      " 25  primary_cleaner.state.floatbank8_b_level            14148 non-null  float64\n",
      " 26  primary_cleaner.state.floatbank8_c_air              14147 non-null  float64\n",
      " 27  primary_cleaner.state.floatbank8_c_level            14148 non-null  float64\n",
      " 28  primary_cleaner.state.floatbank8_d_air              14146 non-null  float64\n",
      " 29  primary_cleaner.state.floatbank8_d_level            14148 non-null  float64\n",
      " 30  rougher.calculation.sulfate_to_au_concentrate       14148 non-null  float64\n",
      " 31  rougher.calculation.floatbank10_sulfate_to_au_feed  14148 non-null  float64\n",
      " 32  rougher.calculation.floatbank11_sulfate_to_au_feed  14148 non-null  float64\n",
      " 33  rougher.calculation.au_pb_ratio                     14149 non-null  float64\n",
      " 34  rougher.input.feed_ag                               14149 non-null  float64\n",
      " 35  rougher.input.feed_pb                               14049 non-null  float64\n",
      " 36  rougher.input.feed_rate                             14141 non-null  float64\n",
      " 37  rougher.input.feed_size                             14005 non-null  float64\n",
      " 38  rougher.input.feed_sol                              14071 non-null  float64\n",
      " 39  rougher.input.feed_au                               14149 non-null  float64\n",
      " 40  rougher.input.floatbank10_sulfate                   14120 non-null  float64\n",
      " 41  rougher.input.floatbank10_xanthate                  14141 non-null  float64\n",
      " 42  rougher.input.floatbank11_sulfate                   14113 non-null  float64\n",
      " 43  rougher.input.floatbank11_xanthate                  13721 non-null  float64\n",
      " 44  rougher.output.concentrate_ag                       14149 non-null  float64\n",
      " 45  rougher.output.concentrate_pb                       14149 non-null  float64\n",
      " 46  rougher.output.concentrate_sol                      14127 non-null  float64\n",
      " 47  rougher.output.concentrate_au                       14149 non-null  float64\n",
      " 48  rougher.output.recovery                             14149 non-null  float64\n",
      " 49  rougher.output.tail_ag                              14148 non-null  float64\n",
      " 50  rougher.output.tail_pb                              14149 non-null  float64\n",
      " 51  rougher.output.tail_sol                             14149 non-null  float64\n",
      " 52  rougher.output.tail_au                              14149 non-null  float64\n",
      " 53  rougher.state.floatbank10_a_air                     14148 non-null  float64\n",
      " 54  rougher.state.floatbank10_a_level                   14148 non-null  float64\n",
      " 55  rougher.state.floatbank10_b_air                     14148 non-null  float64\n",
      " 56  rougher.state.floatbank10_b_level                   14148 non-null  float64\n",
      " 57  rougher.state.floatbank10_c_air                     14148 non-null  float64\n",
      " 58  rougher.state.floatbank10_c_level                   14148 non-null  float64\n",
      " 59  rougher.state.floatbank10_d_air                     14149 non-null  float64\n",
      " 60  rougher.state.floatbank10_d_level                   14149 non-null  float64\n",
      " 61  rougher.state.floatbank10_e_air                     13713 non-null  float64\n",
      " 62  rougher.state.floatbank10_e_level                   14149 non-null  float64\n",
      " 63  rougher.state.floatbank10_f_air                     14149 non-null  float64\n",
      " 64  rougher.state.floatbank10_f_level                   14149 non-null  float64\n",
      " 65  secondary_cleaner.output.tail_ag                    14147 non-null  float64\n",
      " 66  secondary_cleaner.output.tail_pb                    14139 non-null  float64\n",
      " 67  secondary_cleaner.output.tail_sol                   12544 non-null  float64\n",
      " 68  secondary_cleaner.output.tail_au                    14149 non-null  float64\n",
      " 69  secondary_cleaner.state.floatbank2_a_air            13932 non-null  float64\n",
      " 70  secondary_cleaner.state.floatbank2_a_level          14148 non-null  float64\n",
      " 71  secondary_cleaner.state.floatbank2_b_air            14128 non-null  float64\n",
      " 72  secondary_cleaner.state.floatbank2_b_level          14148 non-null  float64\n",
      " 73  secondary_cleaner.state.floatbank3_a_air            14145 non-null  float64\n",
      " 74  secondary_cleaner.state.floatbank3_a_level          14148 non-null  float64\n",
      " 75  secondary_cleaner.state.floatbank3_b_air            14148 non-null  float64\n",
      " 76  secondary_cleaner.state.floatbank3_b_level          14148 non-null  float64\n",
      " 77  secondary_cleaner.state.floatbank4_a_air            14143 non-null  float64\n",
      " 78  secondary_cleaner.state.floatbank4_a_level          14148 non-null  float64\n",
      " 79  secondary_cleaner.state.floatbank4_b_air            14148 non-null  float64\n",
      " 80  secondary_cleaner.state.floatbank4_b_level          14148 non-null  float64\n",
      " 81  secondary_cleaner.state.floatbank5_a_air            14148 non-null  float64\n",
      " 82  secondary_cleaner.state.floatbank5_a_level          14148 non-null  float64\n",
      " 83  secondary_cleaner.state.floatbank5_b_air            14148 non-null  float64\n",
      " 84  secondary_cleaner.state.floatbank5_b_level          14148 non-null  float64\n",
      " 85  secondary_cleaner.state.floatbank6_a_air            14147 non-null  float64\n",
      " 86  secondary_cleaner.state.floatbank6_a_level          14148 non-null  float64\n",
      "dtypes: float64(86), object(1)\n",
      "memory usage: 9.4+ MB\n",
      "None\n",
      "<class 'pandas.core.frame.DataFrame'>\n",
      "RangeIndex: 5290 entries, 0 to 5289\n",
      "Data columns (total 53 columns):\n",
      " #   Column                                      Non-Null Count  Dtype  \n",
      "---  ------                                      --------------  -----  \n",
      " 0   date                                        5290 non-null   object \n",
      " 1   primary_cleaner.input.sulfate               5286 non-null   float64\n",
      " 2   primary_cleaner.input.depressant            5285 non-null   float64\n",
      " 3   primary_cleaner.input.feed_size             5290 non-null   float64\n",
      " 4   primary_cleaner.input.xanthate              5286 non-null   float64\n",
      " 5   primary_cleaner.state.floatbank8_a_air      5290 non-null   float64\n",
      " 6   primary_cleaner.state.floatbank8_a_level    5290 non-null   float64\n",
      " 7   primary_cleaner.state.floatbank8_b_air      5290 non-null   float64\n",
      " 8   primary_cleaner.state.floatbank8_b_level    5290 non-null   float64\n",
      " 9   primary_cleaner.state.floatbank8_c_air      5290 non-null   float64\n",
      " 10  primary_cleaner.state.floatbank8_c_level    5290 non-null   float64\n",
      " 11  primary_cleaner.state.floatbank8_d_air      5290 non-null   float64\n",
      " 12  primary_cleaner.state.floatbank8_d_level    5290 non-null   float64\n",
      " 13  rougher.input.feed_ag                       5290 non-null   float64\n",
      " 14  rougher.input.feed_pb                       5290 non-null   float64\n",
      " 15  rougher.input.feed_rate                     5287 non-null   float64\n",
      " 16  rougher.input.feed_size                     5289 non-null   float64\n",
      " 17  rougher.input.feed_sol                      5269 non-null   float64\n",
      " 18  rougher.input.feed_au                       5290 non-null   float64\n",
      " 19  rougher.input.floatbank10_sulfate           5285 non-null   float64\n",
      " 20  rougher.input.floatbank10_xanthate          5290 non-null   float64\n",
      " 21  rougher.input.floatbank11_sulfate           5282 non-null   float64\n",
      " 22  rougher.input.floatbank11_xanthate          5265 non-null   float64\n",
      " 23  rougher.state.floatbank10_a_air             5290 non-null   float64\n",
      " 24  rougher.state.floatbank10_a_level           5290 non-null   float64\n",
      " 25  rougher.state.floatbank10_b_air             5290 non-null   float64\n",
      " 26  rougher.state.floatbank10_b_level           5290 non-null   float64\n",
      " 27  rougher.state.floatbank10_c_air             5290 non-null   float64\n",
      " 28  rougher.state.floatbank10_c_level           5290 non-null   float64\n",
      " 29  rougher.state.floatbank10_d_air             5290 non-null   float64\n",
      " 30  rougher.state.floatbank10_d_level           5290 non-null   float64\n",
      " 31  rougher.state.floatbank10_e_air             5290 non-null   float64\n",
      " 32  rougher.state.floatbank10_e_level           5290 non-null   float64\n",
      " 33  rougher.state.floatbank10_f_air             5290 non-null   float64\n",
      " 34  rougher.state.floatbank10_f_level           5290 non-null   float64\n",
      " 35  secondary_cleaner.state.floatbank2_a_air    5287 non-null   float64\n",
      " 36  secondary_cleaner.state.floatbank2_a_level  5290 non-null   float64\n",
      " 37  secondary_cleaner.state.floatbank2_b_air    5288 non-null   float64\n",
      " 38  secondary_cleaner.state.floatbank2_b_level  5290 non-null   float64\n",
      " 39  secondary_cleaner.state.floatbank3_a_air    5281 non-null   float64\n",
      " 40  secondary_cleaner.state.floatbank3_a_level  5290 non-null   float64\n",
      " 41  secondary_cleaner.state.floatbank3_b_air    5290 non-null   float64\n",
      " 42  secondary_cleaner.state.floatbank3_b_level  5290 non-null   float64\n",
      " 43  secondary_cleaner.state.floatbank4_a_air    5290 non-null   float64\n",
      " 44  secondary_cleaner.state.floatbank4_a_level  5290 non-null   float64\n",
      " 45  secondary_cleaner.state.floatbank4_b_air    5290 non-null   float64\n",
      " 46  secondary_cleaner.state.floatbank4_b_level  5290 non-null   float64\n",
      " 47  secondary_cleaner.state.floatbank5_a_air    5290 non-null   float64\n",
      " 48  secondary_cleaner.state.floatbank5_a_level  5290 non-null   float64\n",
      " 49  secondary_cleaner.state.floatbank5_b_air    5290 non-null   float64\n",
      " 50  secondary_cleaner.state.floatbank5_b_level  5290 non-null   float64\n",
      " 51  secondary_cleaner.state.floatbank6_a_air    5290 non-null   float64\n",
      " 52  secondary_cleaner.state.floatbank6_a_level  5290 non-null   float64\n",
      "dtypes: float64(52), object(1)\n",
      "memory usage: 2.1+ MB\n",
      "None\n",
      "<class 'pandas.core.frame.DataFrame'>\n",
      "RangeIndex: 19439 entries, 0 to 19438\n",
      "Data columns (total 87 columns):\n",
      " #   Column                                              Non-Null Count  Dtype  \n",
      "---  ------                                              --------------  -----  \n",
      " 0   date                                                19439 non-null  object \n",
      " 1   final.output.concentrate_ag                         19438 non-null  float64\n",
      " 2   final.output.concentrate_pb                         19438 non-null  float64\n",
      " 3   final.output.concentrate_sol                        19228 non-null  float64\n",
      " 4   final.output.concentrate_au                         19439 non-null  float64\n",
      " 5   final.output.recovery                               19439 non-null  float64\n",
      " 6   final.output.tail_ag                                19438 non-null  float64\n",
      " 7   final.output.tail_pb                                19338 non-null  float64\n",
      " 8   final.output.tail_sol                               19433 non-null  float64\n",
      " 9   final.output.tail_au                                19439 non-null  float64\n",
      " 10  primary_cleaner.input.sulfate                       19415 non-null  float64\n",
      " 11  primary_cleaner.input.depressant                    19402 non-null  float64\n",
      " 12  primary_cleaner.input.feed_size                     19439 non-null  float64\n",
      " 13  primary_cleaner.input.xanthate                      19335 non-null  float64\n",
      " 14  primary_cleaner.output.concentrate_ag               19439 non-null  float64\n",
      " 15  primary_cleaner.output.concentrate_pb               19323 non-null  float64\n",
      " 16  primary_cleaner.output.concentrate_sol              19069 non-null  float64\n",
      " 17  primary_cleaner.output.concentrate_au               19439 non-null  float64\n",
      " 18  primary_cleaner.output.tail_ag                      19435 non-null  float64\n",
      " 19  primary_cleaner.output.tail_pb                      19418 non-null  float64\n",
      " 20  primary_cleaner.output.tail_sol                     19377 non-null  float64\n",
      " 21  primary_cleaner.output.tail_au                      19439 non-null  float64\n",
      " 22  primary_cleaner.state.floatbank8_a_air              19435 non-null  float64\n",
      " 23  primary_cleaner.state.floatbank8_a_level            19438 non-null  float64\n",
      " 24  primary_cleaner.state.floatbank8_b_air              19435 non-null  float64\n",
      " 25  primary_cleaner.state.floatbank8_b_level            19438 non-null  float64\n",
      " 26  primary_cleaner.state.floatbank8_c_air              19437 non-null  float64\n",
      " 27  primary_cleaner.state.floatbank8_c_level            19438 non-null  float64\n",
      " 28  primary_cleaner.state.floatbank8_d_air              19436 non-null  float64\n",
      " 29  primary_cleaner.state.floatbank8_d_level            19438 non-null  float64\n",
      " 30  rougher.calculation.sulfate_to_au_concentrate       19437 non-null  float64\n",
      " 31  rougher.calculation.floatbank10_sulfate_to_au_feed  19437 non-null  float64\n",
      " 32  rougher.calculation.floatbank11_sulfate_to_au_feed  19437 non-null  float64\n",
      " 33  rougher.calculation.au_pb_ratio                     19439 non-null  float64\n",
      " 34  rougher.input.feed_ag                               19439 non-null  float64\n",
      " 35  rougher.input.feed_pb                               19339 non-null  float64\n",
      " 36  rougher.input.feed_rate                             19428 non-null  float64\n",
      " 37  rougher.input.feed_size                             19294 non-null  float64\n",
      " 38  rougher.input.feed_sol                              19340 non-null  float64\n",
      " 39  rougher.input.feed_au                               19439 non-null  float64\n",
      " 40  rougher.input.floatbank10_sulfate                   19405 non-null  float64\n",
      " 41  rougher.input.floatbank10_xanthate                  19431 non-null  float64\n",
      " 42  rougher.input.floatbank11_sulfate                   19395 non-null  float64\n",
      " 43  rougher.input.floatbank11_xanthate                  18986 non-null  float64\n",
      " 44  rougher.output.concentrate_ag                       19439 non-null  float64\n",
      " 45  rougher.output.concentrate_pb                       19439 non-null  float64\n",
      " 46  rougher.output.concentrate_sol                      19416 non-null  float64\n",
      " 47  rougher.output.concentrate_au                       19439 non-null  float64\n",
      " 48  rougher.output.recovery                             19439 non-null  float64\n",
      " 49  rougher.output.tail_ag                              19438 non-null  float64\n",
      " 50  rougher.output.tail_pb                              19439 non-null  float64\n",
      " 51  rougher.output.tail_sol                             19439 non-null  float64\n",
      " 52  rougher.output.tail_au                              19439 non-null  float64\n",
      " 53  rougher.state.floatbank10_a_air                     19438 non-null  float64\n",
      " 54  rougher.state.floatbank10_a_level                   19438 non-null  float64\n",
      " 55  rougher.state.floatbank10_b_air                     19438 non-null  float64\n",
      " 56  rougher.state.floatbank10_b_level                   19438 non-null  float64\n",
      " 57  rougher.state.floatbank10_c_air                     19438 non-null  float64\n",
      " 58  rougher.state.floatbank10_c_level                   19438 non-null  float64\n",
      " 59  rougher.state.floatbank10_d_air                     19439 non-null  float64\n",
      " 60  rougher.state.floatbank10_d_level                   19439 non-null  float64\n",
      " 61  rougher.state.floatbank10_e_air                     19003 non-null  float64\n",
      " 62  rougher.state.floatbank10_e_level                   19439 non-null  float64\n",
      " 63  rougher.state.floatbank10_f_air                     19439 non-null  float64\n",
      " 64  rougher.state.floatbank10_f_level                   19439 non-null  float64\n",
      " 65  secondary_cleaner.output.tail_ag                    19437 non-null  float64\n",
      " 66  secondary_cleaner.output.tail_pb                    19427 non-null  float64\n",
      " 67  secondary_cleaner.output.tail_sol                   17691 non-null  float64\n",
      " 68  secondary_cleaner.output.tail_au                    19439 non-null  float64\n",
      " 69  secondary_cleaner.state.floatbank2_a_air            19219 non-null  float64\n",
      " 70  secondary_cleaner.state.floatbank2_a_level          19438 non-null  float64\n",
      " 71  secondary_cleaner.state.floatbank2_b_air            19416 non-null  float64\n",
      " 72  secondary_cleaner.state.floatbank2_b_level          19438 non-null  float64\n",
      " 73  secondary_cleaner.state.floatbank3_a_air            19426 non-null  float64\n",
      " 74  secondary_cleaner.state.floatbank3_a_level          19438 non-null  float64\n",
      " 75  secondary_cleaner.state.floatbank3_b_air            19438 non-null  float64\n",
      " 76  secondary_cleaner.state.floatbank3_b_level          19438 non-null  float64\n",
      " 77  secondary_cleaner.state.floatbank4_a_air            19433 non-null  float64\n",
      " 78  secondary_cleaner.state.floatbank4_a_level          19438 non-null  float64\n",
      " 79  secondary_cleaner.state.floatbank4_b_air            19438 non-null  float64\n",
      " 80  secondary_cleaner.state.floatbank4_b_level          19438 non-null  float64\n",
      " 81  secondary_cleaner.state.floatbank5_a_air            19438 non-null  float64\n",
      " 82  secondary_cleaner.state.floatbank5_a_level          19438 non-null  float64\n",
      " 83  secondary_cleaner.state.floatbank5_b_air            19438 non-null  float64\n",
      " 84  secondary_cleaner.state.floatbank5_b_level          19438 non-null  float64\n",
      " 85  secondary_cleaner.state.floatbank6_a_air            19437 non-null  float64\n",
      " 86  secondary_cleaner.state.floatbank6_a_level          19438 non-null  float64\n",
      "dtypes: float64(86), object(1)\n",
      "memory usage: 12.9+ MB\n",
      "None\n"
     ]
    }
   ],
   "source": [
    "#Выводим информацию о датасетах\n",
    "print(df_train.info())\n",
    "print(df_test.info())\n",
    "print(df_full.info())"
   ]
  },
  {
   "cell_type": "markdown",
   "metadata": {},
   "source": [
    "**Проверим, что в обучаюшей выборке эффективность обогащения - 'rougher.output.recovery' рассчитана правильно.**"
   ]
  },
  {
   "cell_type": "code",
   "execution_count": 5,
   "metadata": {},
   "outputs": [],
   "source": [
    "# Объявим переменные\n",
    "c = df_train['rougher.output.concentrate_au'] # доля золота в концентрате после флотации\n",
    "f = df_train['rougher.input.feed_au'] # доля з. в сырье до флотации\n",
    "t = df_train['rougher.output.tail_au'] # доля з. в отвальных хвостах после флотации\n",
    "\n",
    "# Формуля для рассчёта эффективности обогащения\n",
    "recovery = (c*(f-t))/(f*(c-t))*100\n",
    "\n",
    "# Создадим столбец с расчётом recovery\n",
    "df_train['rougher.output.recovery_calc'] = recovery"
   ]
  },
  {
   "cell_type": "code",
   "execution_count": 6,
   "metadata": {},
   "outputs": [
    {
     "data": {
      "text/plain": [
       "9.73512347450521e-15"
      ]
     },
     "execution_count": 6,
     "metadata": {},
     "output_type": "execute_result"
    }
   ],
   "source": [
    "#Вычислим MAE\n",
    "mean_absolute_error(df_train['rougher.output.recovery'], df_train['rougher.output.recovery_calc'])"
   ]
  },
  {
   "cell_type": "code",
   "execution_count": 7,
   "metadata": {},
   "outputs": [],
   "source": [
    "#Удалим столбец 'rougher.output.recovery_calc'\n",
    "df_train = df_train.drop(['rougher.output.recovery_calc'], axis = 1)"
   ]
  },
  {
   "cell_type": "markdown",
   "metadata": {},
   "source": [
    "**Вывод**: MAE очень мало, значит, recovery расчитано верно"
   ]
  },
  {
   "cell_type": "markdown",
   "metadata": {},
   "source": [
    "**Проанализируем признаки, недоступные в тестовой выборке.**"
   ]
  },
  {
   "cell_type": "code",
   "execution_count": 8,
   "metadata": {},
   "outputs": [],
   "source": [
    "columns_train = list(df_train.columns) #список столбцов обучающей выборки\n",
    "test_list = list(df_test.columns) #список столбцов тестовой выборки\n",
    "absent_features = [] #список отсутствующих признаков\n",
    "\n",
    "for i in columns_train:\n",
    "    if i not in test_list:\n",
    "        absent_features.append(i)\n",
    "        \n",
    "#absent_features"
   ]
  },
  {
   "cell_type": "code",
   "execution_count": 9,
   "metadata": {},
   "outputs": [],
   "source": [
    "#Выделим из признаков этап и тип параметра\n",
    "\n",
    "#Создадим список этапов:\n",
    "steps_list = []\n",
    "\n",
    "for i in absent_features:\n",
    "    if i.split('.')[0] not in steps_list:\n",
    "        steps_list.append(i.split('.')[0])\n",
    "        \n",
    "\n",
    "#print(steps_list)\n",
    "\n",
    "#Создадим список типов параметров:\n",
    "param_types_list = []\n",
    "\n",
    "for i in absent_features:\n",
    "    if i.split('.')[1] not in param_types_list:\n",
    "        param_types_list.append(i.split('.')[1])\n",
    "        \n",
    "#print(param_types_list)\n",
    "\n",
    "#Создадим список параметров:\n",
    "params_list = []\n",
    "\n",
    "for i in absent_features:\n",
    "    if i.split('.')[2] not in params_list:\n",
    "        params_list.append(i.split('.')[2])\n",
    "        \n",
    "#print(params_list)"
   ]
  },
  {
   "cell_type": "code",
   "execution_count": 10,
   "metadata": {},
   "outputs": [
    {
     "name": "stdout",
     "output_type": "stream",
     "text": [
      "В тестовой выборке для этапов:\n",
      "- final\n",
      "- primary_cleaner\n",
      "- rougher\n",
      "- secondary_cleaner\n",
      "\n",
      " Отсутствует ряд параметров, относящихся к типам:\n",
      "- output\n",
      "- calculation\n"
     ]
    }
   ],
   "source": [
    "print('В тестовой выборке для этапов:')\n",
    "for i in steps_list:\n",
    "    print('-', i)\n",
    "    \n",
    "print('\\n Отсутствует ряд параметров, относящихся к типам:')\n",
    "for i in param_types_list:\n",
    "    print('-', i)"
   ]
  },
  {
   "cell_type": "markdown",
   "metadata": {},
   "source": [
    "**Вывод**: В тестовой выборке отсутствует ряд параметров, отсносящихся к типу \"параметры продукта\" и \"рассчётные характеристики\"."
   ]
  },
  {
   "cell_type": "markdown",
   "metadata": {},
   "source": [
    "**Проведём предобработку данных.**"
   ]
  },
  {
   "cell_type": "code",
   "execution_count": 11,
   "metadata": {},
   "outputs": [],
   "source": [
    "#Изменим тип столбца date на datetime\n",
    "df_train['date'] = pd.to_datetime(df_train['date'], format='%Y-%m-%d %H:%M:%S')\n",
    "df_test['date'] = pd.to_datetime(df_test['date'], format='%Y-%m-%d %H:%M:%S')\n",
    "df_full['date'] = pd.to_datetime(df_full['date'], format='%Y-%m-%d %H:%M:%S')"
   ]
  },
  {
   "cell_type": "code",
   "execution_count": 12,
   "metadata": {},
   "outputs": [
    {
     "name": "stdout",
     "output_type": "stream",
     "text": [
      "0\n",
      "0\n",
      "0\n"
     ]
    }
   ],
   "source": [
    "#Проверим на явные дубликаты\n",
    "print(df_train.duplicated().sum())\n",
    "print(df_test.duplicated().sum())\n",
    "print(df_full.duplicated().sum())"
   ]
  },
  {
   "cell_type": "markdown",
   "metadata": {},
   "source": [
    "Явные дубликаты не обнаружены"
   ]
  },
  {
   "cell_type": "code",
   "execution_count": 13,
   "metadata": {
    "scrolled": true
   },
   "outputs": [
    {
     "data": {
      "text/html": [
       "<style type=\"text/css\">\n",
       "#T_fd9a1_row0_col0, #T_fd9a1_row1_col0, #T_fd9a1_row2_col0, #T_fd9a1_row4_col0, #T_fd9a1_row5_col0, #T_fd9a1_row6_col0, #T_fd9a1_row8_col0, #T_fd9a1_row9_col0, #T_fd9a1_row12_col0, #T_fd9a1_row14_col0, #T_fd9a1_row17_col0, #T_fd9a1_row18_col0, #T_fd9a1_row21_col0, #T_fd9a1_row22_col0, #T_fd9a1_row23_col0, #T_fd9a1_row24_col0, #T_fd9a1_row25_col0, #T_fd9a1_row26_col0, #T_fd9a1_row27_col0, #T_fd9a1_row28_col0, #T_fd9a1_row29_col0, #T_fd9a1_row30_col0, #T_fd9a1_row31_col0, #T_fd9a1_row32_col0, #T_fd9a1_row33_col0, #T_fd9a1_row34_col0, #T_fd9a1_row39_col0, #T_fd9a1_row44_col0, #T_fd9a1_row45_col0, #T_fd9a1_row47_col0, #T_fd9a1_row48_col0, #T_fd9a1_row49_col0, #T_fd9a1_row50_col0, #T_fd9a1_row51_col0, #T_fd9a1_row52_col0, #T_fd9a1_row53_col0, #T_fd9a1_row54_col0, #T_fd9a1_row55_col0, #T_fd9a1_row56_col0, #T_fd9a1_row57_col0, #T_fd9a1_row58_col0, #T_fd9a1_row59_col0, #T_fd9a1_row60_col0, #T_fd9a1_row62_col0, #T_fd9a1_row63_col0, #T_fd9a1_row64_col0, #T_fd9a1_row65_col0, #T_fd9a1_row68_col0, #T_fd9a1_row70_col0, #T_fd9a1_row72_col0, #T_fd9a1_row73_col0, #T_fd9a1_row74_col0, #T_fd9a1_row75_col0, #T_fd9a1_row76_col0, #T_fd9a1_row77_col0, #T_fd9a1_row78_col0, #T_fd9a1_row79_col0, #T_fd9a1_row80_col0, #T_fd9a1_row81_col0, #T_fd9a1_row82_col0, #T_fd9a1_row83_col0, #T_fd9a1_row84_col0, #T_fd9a1_row85_col0, #T_fd9a1_row86_col0 {\n",
       "  background-color: #3b4cc0;\n",
       "  color: #f1f1f1;\n",
       "}\n",
       "#T_fd9a1_row3_col0 {\n",
       "  background-color: #6384eb;\n",
       "  color: #f1f1f1;\n",
       "}\n",
       "#T_fd9a1_row7_col0, #T_fd9a1_row13_col0, #T_fd9a1_row35_col0 {\n",
       "  background-color: #4c66d6;\n",
       "  color: #f1f1f1;\n",
       "}\n",
       "#T_fd9a1_row10_col0, #T_fd9a1_row46_col0, #T_fd9a1_row71_col0 {\n",
       "  background-color: #3e51c5;\n",
       "  color: #f1f1f1;\n",
       "}\n",
       "#T_fd9a1_row11_col0, #T_fd9a1_row42_col0 {\n",
       "  background-color: #4055c8;\n",
       "  color: #f1f1f1;\n",
       "}\n",
       "#T_fd9a1_row15_col0 {\n",
       "  background-color: #4a63d3;\n",
       "  color: #f1f1f1;\n",
       "}\n",
       "#T_fd9a1_row16_col0 {\n",
       "  background-color: #7396f5;\n",
       "  color: #f1f1f1;\n",
       "}\n",
       "#T_fd9a1_row19_col0 {\n",
       "  background-color: #3d50c3;\n",
       "  color: #f1f1f1;\n",
       "}\n",
       "#T_fd9a1_row20_col0 {\n",
       "  background-color: #4358cb;\n",
       "  color: #f1f1f1;\n",
       "}\n",
       "#T_fd9a1_row36_col0, #T_fd9a1_row41_col0, #T_fd9a1_row66_col0 {\n",
       "  background-color: #3c4ec2;\n",
       "  color: #f1f1f1;\n",
       "}\n",
       "#T_fd9a1_row37_col0 {\n",
       "  background-color: #5572df;\n",
       "  color: #f1f1f1;\n",
       "}\n",
       "#T_fd9a1_row38_col0 {\n",
       "  background-color: #4961d2;\n",
       "  color: #f1f1f1;\n",
       "}\n",
       "#T_fd9a1_row40_col0 {\n",
       "  background-color: #3f53c6;\n",
       "  color: #f1f1f1;\n",
       "}\n",
       "#T_fd9a1_row43_col0 {\n",
       "  background-color: #93b5fe;\n",
       "  color: #000000;\n",
       "}\n",
       "#T_fd9a1_row61_col0 {\n",
       "  background-color: #94b6ff;\n",
       "  color: #000000;\n",
       "}\n",
       "#T_fd9a1_row67_col0 {\n",
       "  background-color: #b40426;\n",
       "  color: #f1f1f1;\n",
       "}\n",
       "#T_fd9a1_row69_col0 {\n",
       "  background-color: #6485ec;\n",
       "  color: #f1f1f1;\n",
       "}\n",
       "</style>\n",
       "<table id=\"T_fd9a1\">\n",
       "  <thead>\n",
       "    <tr>\n",
       "      <th class=\"blank level0\" >&nbsp;</th>\n",
       "      <th id=\"T_fd9a1_level0_col0\" class=\"col_heading level0 col0\" >0</th>\n",
       "    </tr>\n",
       "  </thead>\n",
       "  <tbody>\n",
       "    <tr>\n",
       "      <th id=\"T_fd9a1_level0_row0\" class=\"row_heading level0 row0\" >date</th>\n",
       "      <td id=\"T_fd9a1_row0_col0\" class=\"data row0 col0\" >0.000000</td>\n",
       "    </tr>\n",
       "    <tr>\n",
       "      <th id=\"T_fd9a1_level0_row1\" class=\"row_heading level0 row1\" >final.output.concentrate_ag</th>\n",
       "      <td id=\"T_fd9a1_row1_col0\" class=\"data row1 col0\" >0.000071</td>\n",
       "    </tr>\n",
       "    <tr>\n",
       "      <th id=\"T_fd9a1_level0_row2\" class=\"row_heading level0 row2\" >final.output.concentrate_pb</th>\n",
       "      <td id=\"T_fd9a1_row2_col0\" class=\"data row2 col0\" >0.000071</td>\n",
       "    </tr>\n",
       "    <tr>\n",
       "      <th id=\"T_fd9a1_level0_row3\" class=\"row_heading level0 row3\" >final.output.concentrate_sol</th>\n",
       "      <td id=\"T_fd9a1_row3_col0\" class=\"data row3 col0\" >0.014913</td>\n",
       "    </tr>\n",
       "    <tr>\n",
       "      <th id=\"T_fd9a1_level0_row4\" class=\"row_heading level0 row4\" >final.output.concentrate_au</th>\n",
       "      <td id=\"T_fd9a1_row4_col0\" class=\"data row4 col0\" >0.000000</td>\n",
       "    </tr>\n",
       "    <tr>\n",
       "      <th id=\"T_fd9a1_level0_row5\" class=\"row_heading level0 row5\" >final.output.recovery</th>\n",
       "      <td id=\"T_fd9a1_row5_col0\" class=\"data row5 col0\" >0.000000</td>\n",
       "    </tr>\n",
       "    <tr>\n",
       "      <th id=\"T_fd9a1_level0_row6\" class=\"row_heading level0 row6\" >final.output.tail_ag</th>\n",
       "      <td id=\"T_fd9a1_row6_col0\" class=\"data row6 col0\" >0.000000</td>\n",
       "    </tr>\n",
       "    <tr>\n",
       "      <th id=\"T_fd9a1_level0_row7\" class=\"row_heading level0 row7\" >final.output.tail_pb</th>\n",
       "      <td id=\"T_fd9a1_row7_col0\" class=\"data row7 col0\" >0.007068</td>\n",
       "    </tr>\n",
       "    <tr>\n",
       "      <th id=\"T_fd9a1_level0_row8\" class=\"row_heading level0 row8\" >final.output.tail_sol</th>\n",
       "      <td id=\"T_fd9a1_row8_col0\" class=\"data row8 col0\" >0.000353</td>\n",
       "    </tr>\n",
       "    <tr>\n",
       "      <th id=\"T_fd9a1_level0_row9\" class=\"row_heading level0 row9\" >final.output.tail_au</th>\n",
       "      <td id=\"T_fd9a1_row9_col0\" class=\"data row9 col0\" >0.000000</td>\n",
       "    </tr>\n",
       "    <tr>\n",
       "      <th id=\"T_fd9a1_level0_row10\" class=\"row_heading level0 row10\" >primary_cleaner.input.sulfate</th>\n",
       "      <td id=\"T_fd9a1_row10_col0\" class=\"data row10 col0\" >0.001414</td>\n",
       "    </tr>\n",
       "    <tr>\n",
       "      <th id=\"T_fd9a1_level0_row11\" class=\"row_heading level0 row11\" >primary_cleaner.input.depressant</th>\n",
       "      <td id=\"T_fd9a1_row11_col0\" class=\"data row11 col0\" >0.002262</td>\n",
       "    </tr>\n",
       "    <tr>\n",
       "      <th id=\"T_fd9a1_level0_row12\" class=\"row_heading level0 row12\" >primary_cleaner.input.feed_size</th>\n",
       "      <td id=\"T_fd9a1_row12_col0\" class=\"data row12 col0\" >0.000000</td>\n",
       "    </tr>\n",
       "    <tr>\n",
       "      <th id=\"T_fd9a1_level0_row13\" class=\"row_heading level0 row13\" >primary_cleaner.input.xanthate</th>\n",
       "      <td id=\"T_fd9a1_row13_col0\" class=\"data row13 col0\" >0.007068</td>\n",
       "    </tr>\n",
       "    <tr>\n",
       "      <th id=\"T_fd9a1_level0_row14\" class=\"row_heading level0 row14\" >primary_cleaner.output.concentrate_ag</th>\n",
       "      <td id=\"T_fd9a1_row14_col0\" class=\"data row14 col0\" >0.000000</td>\n",
       "    </tr>\n",
       "    <tr>\n",
       "      <th id=\"T_fd9a1_level0_row15\" class=\"row_heading level0 row15\" >primary_cleaner.output.concentrate_pb</th>\n",
       "      <td id=\"T_fd9a1_row15_col0\" class=\"data row15 col0\" >0.006078</td>\n",
       "    </tr>\n",
       "    <tr>\n",
       "      <th id=\"T_fd9a1_level0_row16\" class=\"row_heading level0 row16\" >primary_cleaner.output.concentrate_sol</th>\n",
       "      <td id=\"T_fd9a1_row16_col0\" class=\"data row16 col0\" >0.020213</td>\n",
       "    </tr>\n",
       "    <tr>\n",
       "      <th id=\"T_fd9a1_level0_row17\" class=\"row_heading level0 row17\" >primary_cleaner.output.concentrate_au</th>\n",
       "      <td id=\"T_fd9a1_row17_col0\" class=\"data row17 col0\" >0.000000</td>\n",
       "    </tr>\n",
       "    <tr>\n",
       "      <th id=\"T_fd9a1_level0_row18\" class=\"row_heading level0 row18\" >primary_cleaner.output.tail_ag</th>\n",
       "      <td id=\"T_fd9a1_row18_col0\" class=\"data row18 col0\" >0.000071</td>\n",
       "    </tr>\n",
       "    <tr>\n",
       "      <th id=\"T_fd9a1_level0_row19\" class=\"row_heading level0 row19\" >primary_cleaner.output.tail_pb</th>\n",
       "      <td id=\"T_fd9a1_row19_col0\" class=\"data row19 col0\" >0.001060</td>\n",
       "    </tr>\n",
       "    <tr>\n",
       "      <th id=\"T_fd9a1_level0_row20\" class=\"row_heading level0 row20\" >primary_cleaner.output.tail_sol</th>\n",
       "      <td id=\"T_fd9a1_row20_col0\" class=\"data row20 col0\" >0.003251</td>\n",
       "    </tr>\n",
       "    <tr>\n",
       "      <th id=\"T_fd9a1_level0_row21\" class=\"row_heading level0 row21\" >primary_cleaner.output.tail_au</th>\n",
       "      <td id=\"T_fd9a1_row21_col0\" class=\"data row21 col0\" >0.000000</td>\n",
       "    </tr>\n",
       "    <tr>\n",
       "      <th id=\"T_fd9a1_level0_row22\" class=\"row_heading level0 row22\" >primary_cleaner.state.floatbank8_a_air</th>\n",
       "      <td id=\"T_fd9a1_row22_col0\" class=\"data row22 col0\" >0.000283</td>\n",
       "    </tr>\n",
       "    <tr>\n",
       "      <th id=\"T_fd9a1_level0_row23\" class=\"row_heading level0 row23\" >primary_cleaner.state.floatbank8_a_level</th>\n",
       "      <td id=\"T_fd9a1_row23_col0\" class=\"data row23 col0\" >0.000071</td>\n",
       "    </tr>\n",
       "    <tr>\n",
       "      <th id=\"T_fd9a1_level0_row24\" class=\"row_heading level0 row24\" >primary_cleaner.state.floatbank8_b_air</th>\n",
       "      <td id=\"T_fd9a1_row24_col0\" class=\"data row24 col0\" >0.000283</td>\n",
       "    </tr>\n",
       "    <tr>\n",
       "      <th id=\"T_fd9a1_level0_row25\" class=\"row_heading level0 row25\" >primary_cleaner.state.floatbank8_b_level</th>\n",
       "      <td id=\"T_fd9a1_row25_col0\" class=\"data row25 col0\" >0.000071</td>\n",
       "    </tr>\n",
       "    <tr>\n",
       "      <th id=\"T_fd9a1_level0_row26\" class=\"row_heading level0 row26\" >primary_cleaner.state.floatbank8_c_air</th>\n",
       "      <td id=\"T_fd9a1_row26_col0\" class=\"data row26 col0\" >0.000141</td>\n",
       "    </tr>\n",
       "    <tr>\n",
       "      <th id=\"T_fd9a1_level0_row27\" class=\"row_heading level0 row27\" >primary_cleaner.state.floatbank8_c_level</th>\n",
       "      <td id=\"T_fd9a1_row27_col0\" class=\"data row27 col0\" >0.000071</td>\n",
       "    </tr>\n",
       "    <tr>\n",
       "      <th id=\"T_fd9a1_level0_row28\" class=\"row_heading level0 row28\" >primary_cleaner.state.floatbank8_d_air</th>\n",
       "      <td id=\"T_fd9a1_row28_col0\" class=\"data row28 col0\" >0.000212</td>\n",
       "    </tr>\n",
       "    <tr>\n",
       "      <th id=\"T_fd9a1_level0_row29\" class=\"row_heading level0 row29\" >primary_cleaner.state.floatbank8_d_level</th>\n",
       "      <td id=\"T_fd9a1_row29_col0\" class=\"data row29 col0\" >0.000071</td>\n",
       "    </tr>\n",
       "    <tr>\n",
       "      <th id=\"T_fd9a1_level0_row30\" class=\"row_heading level0 row30\" >rougher.calculation.sulfate_to_au_concentrate</th>\n",
       "      <td id=\"T_fd9a1_row30_col0\" class=\"data row30 col0\" >0.000071</td>\n",
       "    </tr>\n",
       "    <tr>\n",
       "      <th id=\"T_fd9a1_level0_row31\" class=\"row_heading level0 row31\" >rougher.calculation.floatbank10_sulfate_to_au_feed</th>\n",
       "      <td id=\"T_fd9a1_row31_col0\" class=\"data row31 col0\" >0.000071</td>\n",
       "    </tr>\n",
       "    <tr>\n",
       "      <th id=\"T_fd9a1_level0_row32\" class=\"row_heading level0 row32\" >rougher.calculation.floatbank11_sulfate_to_au_feed</th>\n",
       "      <td id=\"T_fd9a1_row32_col0\" class=\"data row32 col0\" >0.000071</td>\n",
       "    </tr>\n",
       "    <tr>\n",
       "      <th id=\"T_fd9a1_level0_row33\" class=\"row_heading level0 row33\" >rougher.calculation.au_pb_ratio</th>\n",
       "      <td id=\"T_fd9a1_row33_col0\" class=\"data row33 col0\" >0.000000</td>\n",
       "    </tr>\n",
       "    <tr>\n",
       "      <th id=\"T_fd9a1_level0_row34\" class=\"row_heading level0 row34\" >rougher.input.feed_ag</th>\n",
       "      <td id=\"T_fd9a1_row34_col0\" class=\"data row34 col0\" >0.000000</td>\n",
       "    </tr>\n",
       "    <tr>\n",
       "      <th id=\"T_fd9a1_level0_row35\" class=\"row_heading level0 row35\" >rougher.input.feed_pb</th>\n",
       "      <td id=\"T_fd9a1_row35_col0\" class=\"data row35 col0\" >0.007068</td>\n",
       "    </tr>\n",
       "    <tr>\n",
       "      <th id=\"T_fd9a1_level0_row36\" class=\"row_heading level0 row36\" >rougher.input.feed_rate</th>\n",
       "      <td id=\"T_fd9a1_row36_col0\" class=\"data row36 col0\" >0.000565</td>\n",
       "    </tr>\n",
       "    <tr>\n",
       "      <th id=\"T_fd9a1_level0_row37\" class=\"row_heading level0 row37\" >rougher.input.feed_size</th>\n",
       "      <td id=\"T_fd9a1_row37_col0\" class=\"data row37 col0\" >0.010177</td>\n",
       "    </tr>\n",
       "    <tr>\n",
       "      <th id=\"T_fd9a1_level0_row38\" class=\"row_heading level0 row38\" >rougher.input.feed_sol</th>\n",
       "      <td id=\"T_fd9a1_row38_col0\" class=\"data row38 col0\" >0.005513</td>\n",
       "    </tr>\n",
       "    <tr>\n",
       "      <th id=\"T_fd9a1_level0_row39\" class=\"row_heading level0 row39\" >rougher.input.feed_au</th>\n",
       "      <td id=\"T_fd9a1_row39_col0\" class=\"data row39 col0\" >0.000000</td>\n",
       "    </tr>\n",
       "    <tr>\n",
       "      <th id=\"T_fd9a1_level0_row40\" class=\"row_heading level0 row40\" >rougher.input.floatbank10_sulfate</th>\n",
       "      <td id=\"T_fd9a1_row40_col0\" class=\"data row40 col0\" >0.002050</td>\n",
       "    </tr>\n",
       "    <tr>\n",
       "      <th id=\"T_fd9a1_level0_row41\" class=\"row_heading level0 row41\" >rougher.input.floatbank10_xanthate</th>\n",
       "      <td id=\"T_fd9a1_row41_col0\" class=\"data row41 col0\" >0.000565</td>\n",
       "    </tr>\n",
       "    <tr>\n",
       "      <th id=\"T_fd9a1_level0_row42\" class=\"row_heading level0 row42\" >rougher.input.floatbank11_sulfate</th>\n",
       "      <td id=\"T_fd9a1_row42_col0\" class=\"data row42 col0\" >0.002544</td>\n",
       "    </tr>\n",
       "    <tr>\n",
       "      <th id=\"T_fd9a1_level0_row43\" class=\"row_heading level0 row43\" >rougher.input.floatbank11_xanthate</th>\n",
       "      <td id=\"T_fd9a1_row43_col0\" class=\"data row43 col0\" >0.030249</td>\n",
       "    </tr>\n",
       "    <tr>\n",
       "      <th id=\"T_fd9a1_level0_row44\" class=\"row_heading level0 row44\" >rougher.output.concentrate_ag</th>\n",
       "      <td id=\"T_fd9a1_row44_col0\" class=\"data row44 col0\" >0.000000</td>\n",
       "    </tr>\n",
       "    <tr>\n",
       "      <th id=\"T_fd9a1_level0_row45\" class=\"row_heading level0 row45\" >rougher.output.concentrate_pb</th>\n",
       "      <td id=\"T_fd9a1_row45_col0\" class=\"data row45 col0\" >0.000000</td>\n",
       "    </tr>\n",
       "    <tr>\n",
       "      <th id=\"T_fd9a1_level0_row46\" class=\"row_heading level0 row46\" >rougher.output.concentrate_sol</th>\n",
       "      <td id=\"T_fd9a1_row46_col0\" class=\"data row46 col0\" >0.001555</td>\n",
       "    </tr>\n",
       "    <tr>\n",
       "      <th id=\"T_fd9a1_level0_row47\" class=\"row_heading level0 row47\" >rougher.output.concentrate_au</th>\n",
       "      <td id=\"T_fd9a1_row47_col0\" class=\"data row47 col0\" >0.000000</td>\n",
       "    </tr>\n",
       "    <tr>\n",
       "      <th id=\"T_fd9a1_level0_row48\" class=\"row_heading level0 row48\" >rougher.output.recovery</th>\n",
       "      <td id=\"T_fd9a1_row48_col0\" class=\"data row48 col0\" >0.000000</td>\n",
       "    </tr>\n",
       "    <tr>\n",
       "      <th id=\"T_fd9a1_level0_row49\" class=\"row_heading level0 row49\" >rougher.output.tail_ag</th>\n",
       "      <td id=\"T_fd9a1_row49_col0\" class=\"data row49 col0\" >0.000071</td>\n",
       "    </tr>\n",
       "    <tr>\n",
       "      <th id=\"T_fd9a1_level0_row50\" class=\"row_heading level0 row50\" >rougher.output.tail_pb</th>\n",
       "      <td id=\"T_fd9a1_row50_col0\" class=\"data row50 col0\" >0.000000</td>\n",
       "    </tr>\n",
       "    <tr>\n",
       "      <th id=\"T_fd9a1_level0_row51\" class=\"row_heading level0 row51\" >rougher.output.tail_sol</th>\n",
       "      <td id=\"T_fd9a1_row51_col0\" class=\"data row51 col0\" >0.000000</td>\n",
       "    </tr>\n",
       "    <tr>\n",
       "      <th id=\"T_fd9a1_level0_row52\" class=\"row_heading level0 row52\" >rougher.output.tail_au</th>\n",
       "      <td id=\"T_fd9a1_row52_col0\" class=\"data row52 col0\" >0.000000</td>\n",
       "    </tr>\n",
       "    <tr>\n",
       "      <th id=\"T_fd9a1_level0_row53\" class=\"row_heading level0 row53\" >rougher.state.floatbank10_a_air</th>\n",
       "      <td id=\"T_fd9a1_row53_col0\" class=\"data row53 col0\" >0.000071</td>\n",
       "    </tr>\n",
       "    <tr>\n",
       "      <th id=\"T_fd9a1_level0_row54\" class=\"row_heading level0 row54\" >rougher.state.floatbank10_a_level</th>\n",
       "      <td id=\"T_fd9a1_row54_col0\" class=\"data row54 col0\" >0.000071</td>\n",
       "    </tr>\n",
       "    <tr>\n",
       "      <th id=\"T_fd9a1_level0_row55\" class=\"row_heading level0 row55\" >rougher.state.floatbank10_b_air</th>\n",
       "      <td id=\"T_fd9a1_row55_col0\" class=\"data row55 col0\" >0.000071</td>\n",
       "    </tr>\n",
       "    <tr>\n",
       "      <th id=\"T_fd9a1_level0_row56\" class=\"row_heading level0 row56\" >rougher.state.floatbank10_b_level</th>\n",
       "      <td id=\"T_fd9a1_row56_col0\" class=\"data row56 col0\" >0.000071</td>\n",
       "    </tr>\n",
       "    <tr>\n",
       "      <th id=\"T_fd9a1_level0_row57\" class=\"row_heading level0 row57\" >rougher.state.floatbank10_c_air</th>\n",
       "      <td id=\"T_fd9a1_row57_col0\" class=\"data row57 col0\" >0.000071</td>\n",
       "    </tr>\n",
       "    <tr>\n",
       "      <th id=\"T_fd9a1_level0_row58\" class=\"row_heading level0 row58\" >rougher.state.floatbank10_c_level</th>\n",
       "      <td id=\"T_fd9a1_row58_col0\" class=\"data row58 col0\" >0.000071</td>\n",
       "    </tr>\n",
       "    <tr>\n",
       "      <th id=\"T_fd9a1_level0_row59\" class=\"row_heading level0 row59\" >rougher.state.floatbank10_d_air</th>\n",
       "      <td id=\"T_fd9a1_row59_col0\" class=\"data row59 col0\" >0.000000</td>\n",
       "    </tr>\n",
       "    <tr>\n",
       "      <th id=\"T_fd9a1_level0_row60\" class=\"row_heading level0 row60\" >rougher.state.floatbank10_d_level</th>\n",
       "      <td id=\"T_fd9a1_row60_col0\" class=\"data row60 col0\" >0.000000</td>\n",
       "    </tr>\n",
       "    <tr>\n",
       "      <th id=\"T_fd9a1_level0_row61\" class=\"row_heading level0 row61\" >rougher.state.floatbank10_e_air</th>\n",
       "      <td id=\"T_fd9a1_row61_col0\" class=\"data row61 col0\" >0.030815</td>\n",
       "    </tr>\n",
       "    <tr>\n",
       "      <th id=\"T_fd9a1_level0_row62\" class=\"row_heading level0 row62\" >rougher.state.floatbank10_e_level</th>\n",
       "      <td id=\"T_fd9a1_row62_col0\" class=\"data row62 col0\" >0.000000</td>\n",
       "    </tr>\n",
       "    <tr>\n",
       "      <th id=\"T_fd9a1_level0_row63\" class=\"row_heading level0 row63\" >rougher.state.floatbank10_f_air</th>\n",
       "      <td id=\"T_fd9a1_row63_col0\" class=\"data row63 col0\" >0.000000</td>\n",
       "    </tr>\n",
       "    <tr>\n",
       "      <th id=\"T_fd9a1_level0_row64\" class=\"row_heading level0 row64\" >rougher.state.floatbank10_f_level</th>\n",
       "      <td id=\"T_fd9a1_row64_col0\" class=\"data row64 col0\" >0.000000</td>\n",
       "    </tr>\n",
       "    <tr>\n",
       "      <th id=\"T_fd9a1_level0_row65\" class=\"row_heading level0 row65\" >secondary_cleaner.output.tail_ag</th>\n",
       "      <td id=\"T_fd9a1_row65_col0\" class=\"data row65 col0\" >0.000141</td>\n",
       "    </tr>\n",
       "    <tr>\n",
       "      <th id=\"T_fd9a1_level0_row66\" class=\"row_heading level0 row66\" >secondary_cleaner.output.tail_pb</th>\n",
       "      <td id=\"T_fd9a1_row66_col0\" class=\"data row66 col0\" >0.000707</td>\n",
       "    </tr>\n",
       "    <tr>\n",
       "      <th id=\"T_fd9a1_level0_row67\" class=\"row_heading level0 row67\" >secondary_cleaner.output.tail_sol</th>\n",
       "      <td id=\"T_fd9a1_row67_col0\" class=\"data row67 col0\" >0.113436</td>\n",
       "    </tr>\n",
       "    <tr>\n",
       "      <th id=\"T_fd9a1_level0_row68\" class=\"row_heading level0 row68\" >secondary_cleaner.output.tail_au</th>\n",
       "      <td id=\"T_fd9a1_row68_col0\" class=\"data row68 col0\" >0.000000</td>\n",
       "    </tr>\n",
       "    <tr>\n",
       "      <th id=\"T_fd9a1_level0_row69\" class=\"row_heading level0 row69\" >secondary_cleaner.state.floatbank2_a_air</th>\n",
       "      <td id=\"T_fd9a1_row69_col0\" class=\"data row69 col0\" >0.015337</td>\n",
       "    </tr>\n",
       "    <tr>\n",
       "      <th id=\"T_fd9a1_level0_row70\" class=\"row_heading level0 row70\" >secondary_cleaner.state.floatbank2_a_level</th>\n",
       "      <td id=\"T_fd9a1_row70_col0\" class=\"data row70 col0\" >0.000071</td>\n",
       "    </tr>\n",
       "    <tr>\n",
       "      <th id=\"T_fd9a1_level0_row71\" class=\"row_heading level0 row71\" >secondary_cleaner.state.floatbank2_b_air</th>\n",
       "      <td id=\"T_fd9a1_row71_col0\" class=\"data row71 col0\" >0.001484</td>\n",
       "    </tr>\n",
       "    <tr>\n",
       "      <th id=\"T_fd9a1_level0_row72\" class=\"row_heading level0 row72\" >secondary_cleaner.state.floatbank2_b_level</th>\n",
       "      <td id=\"T_fd9a1_row72_col0\" class=\"data row72 col0\" >0.000071</td>\n",
       "    </tr>\n",
       "    <tr>\n",
       "      <th id=\"T_fd9a1_level0_row73\" class=\"row_heading level0 row73\" >secondary_cleaner.state.floatbank3_a_air</th>\n",
       "      <td id=\"T_fd9a1_row73_col0\" class=\"data row73 col0\" >0.000283</td>\n",
       "    </tr>\n",
       "    <tr>\n",
       "      <th id=\"T_fd9a1_level0_row74\" class=\"row_heading level0 row74\" >secondary_cleaner.state.floatbank3_a_level</th>\n",
       "      <td id=\"T_fd9a1_row74_col0\" class=\"data row74 col0\" >0.000071</td>\n",
       "    </tr>\n",
       "    <tr>\n",
       "      <th id=\"T_fd9a1_level0_row75\" class=\"row_heading level0 row75\" >secondary_cleaner.state.floatbank3_b_air</th>\n",
       "      <td id=\"T_fd9a1_row75_col0\" class=\"data row75 col0\" >0.000071</td>\n",
       "    </tr>\n",
       "    <tr>\n",
       "      <th id=\"T_fd9a1_level0_row76\" class=\"row_heading level0 row76\" >secondary_cleaner.state.floatbank3_b_level</th>\n",
       "      <td id=\"T_fd9a1_row76_col0\" class=\"data row76 col0\" >0.000071</td>\n",
       "    </tr>\n",
       "    <tr>\n",
       "      <th id=\"T_fd9a1_level0_row77\" class=\"row_heading level0 row77\" >secondary_cleaner.state.floatbank4_a_air</th>\n",
       "      <td id=\"T_fd9a1_row77_col0\" class=\"data row77 col0\" >0.000424</td>\n",
       "    </tr>\n",
       "    <tr>\n",
       "      <th id=\"T_fd9a1_level0_row78\" class=\"row_heading level0 row78\" >secondary_cleaner.state.floatbank4_a_level</th>\n",
       "      <td id=\"T_fd9a1_row78_col0\" class=\"data row78 col0\" >0.000071</td>\n",
       "    </tr>\n",
       "    <tr>\n",
       "      <th id=\"T_fd9a1_level0_row79\" class=\"row_heading level0 row79\" >secondary_cleaner.state.floatbank4_b_air</th>\n",
       "      <td id=\"T_fd9a1_row79_col0\" class=\"data row79 col0\" >0.000071</td>\n",
       "    </tr>\n",
       "    <tr>\n",
       "      <th id=\"T_fd9a1_level0_row80\" class=\"row_heading level0 row80\" >secondary_cleaner.state.floatbank4_b_level</th>\n",
       "      <td id=\"T_fd9a1_row80_col0\" class=\"data row80 col0\" >0.000071</td>\n",
       "    </tr>\n",
       "    <tr>\n",
       "      <th id=\"T_fd9a1_level0_row81\" class=\"row_heading level0 row81\" >secondary_cleaner.state.floatbank5_a_air</th>\n",
       "      <td id=\"T_fd9a1_row81_col0\" class=\"data row81 col0\" >0.000071</td>\n",
       "    </tr>\n",
       "    <tr>\n",
       "      <th id=\"T_fd9a1_level0_row82\" class=\"row_heading level0 row82\" >secondary_cleaner.state.floatbank5_a_level</th>\n",
       "      <td id=\"T_fd9a1_row82_col0\" class=\"data row82 col0\" >0.000071</td>\n",
       "    </tr>\n",
       "    <tr>\n",
       "      <th id=\"T_fd9a1_level0_row83\" class=\"row_heading level0 row83\" >secondary_cleaner.state.floatbank5_b_air</th>\n",
       "      <td id=\"T_fd9a1_row83_col0\" class=\"data row83 col0\" >0.000071</td>\n",
       "    </tr>\n",
       "    <tr>\n",
       "      <th id=\"T_fd9a1_level0_row84\" class=\"row_heading level0 row84\" >secondary_cleaner.state.floatbank5_b_level</th>\n",
       "      <td id=\"T_fd9a1_row84_col0\" class=\"data row84 col0\" >0.000071</td>\n",
       "    </tr>\n",
       "    <tr>\n",
       "      <th id=\"T_fd9a1_level0_row85\" class=\"row_heading level0 row85\" >secondary_cleaner.state.floatbank6_a_air</th>\n",
       "      <td id=\"T_fd9a1_row85_col0\" class=\"data row85 col0\" >0.000141</td>\n",
       "    </tr>\n",
       "    <tr>\n",
       "      <th id=\"T_fd9a1_level0_row86\" class=\"row_heading level0 row86\" >secondary_cleaner.state.floatbank6_a_level</th>\n",
       "      <td id=\"T_fd9a1_row86_col0\" class=\"data row86 col0\" >0.000071</td>\n",
       "    </tr>\n",
       "  </tbody>\n",
       "</table>\n"
      ],
      "text/plain": [
       "<pandas.io.formats.style.Styler at 0x136781c0>"
      ]
     },
     "metadata": {},
     "output_type": "display_data"
    },
    {
     "data": {
      "text/html": [
       "<style type=\"text/css\">\n",
       "#T_13c20_row0_col0, #T_13c20_row3_col0, #T_13c20_row5_col0, #T_13c20_row6_col0, #T_13c20_row7_col0, #T_13c20_row8_col0, #T_13c20_row9_col0, #T_13c20_row10_col0, #T_13c20_row11_col0, #T_13c20_row12_col0, #T_13c20_row13_col0, #T_13c20_row14_col0, #T_13c20_row18_col0, #T_13c20_row20_col0, #T_13c20_row23_col0, #T_13c20_row24_col0, #T_13c20_row25_col0, #T_13c20_row26_col0, #T_13c20_row27_col0, #T_13c20_row28_col0, #T_13c20_row29_col0, #T_13c20_row30_col0, #T_13c20_row31_col0, #T_13c20_row32_col0, #T_13c20_row33_col0, #T_13c20_row34_col0, #T_13c20_row36_col0, #T_13c20_row38_col0, #T_13c20_row40_col0, #T_13c20_row41_col0, #T_13c20_row42_col0, #T_13c20_row43_col0, #T_13c20_row44_col0, #T_13c20_row45_col0, #T_13c20_row46_col0, #T_13c20_row47_col0, #T_13c20_row48_col0, #T_13c20_row49_col0, #T_13c20_row50_col0, #T_13c20_row51_col0, #T_13c20_row52_col0 {\n",
       "  background-color: #3b4cc0;\n",
       "  color: #f1f1f1;\n",
       "}\n",
       "#T_13c20_row1_col0, #T_13c20_row4_col0 {\n",
       "  background-color: #6c8ff1;\n",
       "  color: #f1f1f1;\n",
       "}\n",
       "#T_13c20_row2_col0, #T_13c20_row19_col0 {\n",
       "  background-color: #7b9ff9;\n",
       "  color: #f1f1f1;\n",
       "}\n",
       "#T_13c20_row15_col0, #T_13c20_row35_col0 {\n",
       "  background-color: #5f7fe8;\n",
       "  color: #f1f1f1;\n",
       "}\n",
       "#T_13c20_row16_col0 {\n",
       "  background-color: #465ecf;\n",
       "  color: #f1f1f1;\n",
       "}\n",
       "#T_13c20_row17_col0 {\n",
       "  background-color: #e57058;\n",
       "  color: #f1f1f1;\n",
       "}\n",
       "#T_13c20_row21_col0 {\n",
       "  background-color: #a5c3fe;\n",
       "  color: #000000;\n",
       "}\n",
       "#T_13c20_row22_col0 {\n",
       "  background-color: #b40426;\n",
       "  color: #f1f1f1;\n",
       "}\n",
       "#T_13c20_row37_col0 {\n",
       "  background-color: #536edd;\n",
       "  color: #f1f1f1;\n",
       "}\n",
       "#T_13c20_row39_col0 {\n",
       "  background-color: #b3cdfb;\n",
       "  color: #000000;\n",
       "}\n",
       "</style>\n",
       "<table id=\"T_13c20\">\n",
       "  <thead>\n",
       "    <tr>\n",
       "      <th class=\"blank level0\" >&nbsp;</th>\n",
       "      <th id=\"T_13c20_level0_col0\" class=\"col_heading level0 col0\" >0</th>\n",
       "    </tr>\n",
       "  </thead>\n",
       "  <tbody>\n",
       "    <tr>\n",
       "      <th id=\"T_13c20_level0_row0\" class=\"row_heading level0 row0\" >date</th>\n",
       "      <td id=\"T_13c20_row0_col0\" class=\"data row0 col0\" >0.000000</td>\n",
       "    </tr>\n",
       "    <tr>\n",
       "      <th id=\"T_13c20_level0_row1\" class=\"row_heading level0 row1\" >primary_cleaner.input.sulfate</th>\n",
       "      <td id=\"T_13c20_row1_col0\" class=\"data row1 col0\" >0.000756</td>\n",
       "    </tr>\n",
       "    <tr>\n",
       "      <th id=\"T_13c20_level0_row2\" class=\"row_heading level0 row2\" >primary_cleaner.input.depressant</th>\n",
       "      <td id=\"T_13c20_row2_col0\" class=\"data row2 col0\" >0.000945</td>\n",
       "    </tr>\n",
       "    <tr>\n",
       "      <th id=\"T_13c20_level0_row3\" class=\"row_heading level0 row3\" >primary_cleaner.input.feed_size</th>\n",
       "      <td id=\"T_13c20_row3_col0\" class=\"data row3 col0\" >0.000000</td>\n",
       "    </tr>\n",
       "    <tr>\n",
       "      <th id=\"T_13c20_level0_row4\" class=\"row_heading level0 row4\" >primary_cleaner.input.xanthate</th>\n",
       "      <td id=\"T_13c20_row4_col0\" class=\"data row4 col0\" >0.000756</td>\n",
       "    </tr>\n",
       "    <tr>\n",
       "      <th id=\"T_13c20_level0_row5\" class=\"row_heading level0 row5\" >primary_cleaner.state.floatbank8_a_air</th>\n",
       "      <td id=\"T_13c20_row5_col0\" class=\"data row5 col0\" >0.000000</td>\n",
       "    </tr>\n",
       "    <tr>\n",
       "      <th id=\"T_13c20_level0_row6\" class=\"row_heading level0 row6\" >primary_cleaner.state.floatbank8_a_level</th>\n",
       "      <td id=\"T_13c20_row6_col0\" class=\"data row6 col0\" >0.000000</td>\n",
       "    </tr>\n",
       "    <tr>\n",
       "      <th id=\"T_13c20_level0_row7\" class=\"row_heading level0 row7\" >primary_cleaner.state.floatbank8_b_air</th>\n",
       "      <td id=\"T_13c20_row7_col0\" class=\"data row7 col0\" >0.000000</td>\n",
       "    </tr>\n",
       "    <tr>\n",
       "      <th id=\"T_13c20_level0_row8\" class=\"row_heading level0 row8\" >primary_cleaner.state.floatbank8_b_level</th>\n",
       "      <td id=\"T_13c20_row8_col0\" class=\"data row8 col0\" >0.000000</td>\n",
       "    </tr>\n",
       "    <tr>\n",
       "      <th id=\"T_13c20_level0_row9\" class=\"row_heading level0 row9\" >primary_cleaner.state.floatbank8_c_air</th>\n",
       "      <td id=\"T_13c20_row9_col0\" class=\"data row9 col0\" >0.000000</td>\n",
       "    </tr>\n",
       "    <tr>\n",
       "      <th id=\"T_13c20_level0_row10\" class=\"row_heading level0 row10\" >primary_cleaner.state.floatbank8_c_level</th>\n",
       "      <td id=\"T_13c20_row10_col0\" class=\"data row10 col0\" >0.000000</td>\n",
       "    </tr>\n",
       "    <tr>\n",
       "      <th id=\"T_13c20_level0_row11\" class=\"row_heading level0 row11\" >primary_cleaner.state.floatbank8_d_air</th>\n",
       "      <td id=\"T_13c20_row11_col0\" class=\"data row11 col0\" >0.000000</td>\n",
       "    </tr>\n",
       "    <tr>\n",
       "      <th id=\"T_13c20_level0_row12\" class=\"row_heading level0 row12\" >primary_cleaner.state.floatbank8_d_level</th>\n",
       "      <td id=\"T_13c20_row12_col0\" class=\"data row12 col0\" >0.000000</td>\n",
       "    </tr>\n",
       "    <tr>\n",
       "      <th id=\"T_13c20_level0_row13\" class=\"row_heading level0 row13\" >rougher.input.feed_ag</th>\n",
       "      <td id=\"T_13c20_row13_col0\" class=\"data row13 col0\" >0.000000</td>\n",
       "    </tr>\n",
       "    <tr>\n",
       "      <th id=\"T_13c20_level0_row14\" class=\"row_heading level0 row14\" >rougher.input.feed_pb</th>\n",
       "      <td id=\"T_13c20_row14_col0\" class=\"data row14 col0\" >0.000000</td>\n",
       "    </tr>\n",
       "    <tr>\n",
       "      <th id=\"T_13c20_level0_row15\" class=\"row_heading level0 row15\" >rougher.input.feed_rate</th>\n",
       "      <td id=\"T_13c20_row15_col0\" class=\"data row15 col0\" >0.000567</td>\n",
       "    </tr>\n",
       "    <tr>\n",
       "      <th id=\"T_13c20_level0_row16\" class=\"row_heading level0 row16\" >rougher.input.feed_size</th>\n",
       "      <td id=\"T_13c20_row16_col0\" class=\"data row16 col0\" >0.000189</td>\n",
       "    </tr>\n",
       "    <tr>\n",
       "      <th id=\"T_13c20_level0_row17\" class=\"row_heading level0 row17\" >rougher.input.feed_sol</th>\n",
       "      <td id=\"T_13c20_row17_col0\" class=\"data row17 col0\" >0.003970</td>\n",
       "    </tr>\n",
       "    <tr>\n",
       "      <th id=\"T_13c20_level0_row18\" class=\"row_heading level0 row18\" >rougher.input.feed_au</th>\n",
       "      <td id=\"T_13c20_row18_col0\" class=\"data row18 col0\" >0.000000</td>\n",
       "    </tr>\n",
       "    <tr>\n",
       "      <th id=\"T_13c20_level0_row19\" class=\"row_heading level0 row19\" >rougher.input.floatbank10_sulfate</th>\n",
       "      <td id=\"T_13c20_row19_col0\" class=\"data row19 col0\" >0.000945</td>\n",
       "    </tr>\n",
       "    <tr>\n",
       "      <th id=\"T_13c20_level0_row20\" class=\"row_heading level0 row20\" >rougher.input.floatbank10_xanthate</th>\n",
       "      <td id=\"T_13c20_row20_col0\" class=\"data row20 col0\" >0.000000</td>\n",
       "    </tr>\n",
       "    <tr>\n",
       "      <th id=\"T_13c20_level0_row21\" class=\"row_heading level0 row21\" >rougher.input.floatbank11_sulfate</th>\n",
       "      <td id=\"T_13c20_row21_col0\" class=\"data row21 col0\" >0.001512</td>\n",
       "    </tr>\n",
       "    <tr>\n",
       "      <th id=\"T_13c20_level0_row22\" class=\"row_heading level0 row22\" >rougher.input.floatbank11_xanthate</th>\n",
       "      <td id=\"T_13c20_row22_col0\" class=\"data row22 col0\" >0.004726</td>\n",
       "    </tr>\n",
       "    <tr>\n",
       "      <th id=\"T_13c20_level0_row23\" class=\"row_heading level0 row23\" >rougher.state.floatbank10_a_air</th>\n",
       "      <td id=\"T_13c20_row23_col0\" class=\"data row23 col0\" >0.000000</td>\n",
       "    </tr>\n",
       "    <tr>\n",
       "      <th id=\"T_13c20_level0_row24\" class=\"row_heading level0 row24\" >rougher.state.floatbank10_a_level</th>\n",
       "      <td id=\"T_13c20_row24_col0\" class=\"data row24 col0\" >0.000000</td>\n",
       "    </tr>\n",
       "    <tr>\n",
       "      <th id=\"T_13c20_level0_row25\" class=\"row_heading level0 row25\" >rougher.state.floatbank10_b_air</th>\n",
       "      <td id=\"T_13c20_row25_col0\" class=\"data row25 col0\" >0.000000</td>\n",
       "    </tr>\n",
       "    <tr>\n",
       "      <th id=\"T_13c20_level0_row26\" class=\"row_heading level0 row26\" >rougher.state.floatbank10_b_level</th>\n",
       "      <td id=\"T_13c20_row26_col0\" class=\"data row26 col0\" >0.000000</td>\n",
       "    </tr>\n",
       "    <tr>\n",
       "      <th id=\"T_13c20_level0_row27\" class=\"row_heading level0 row27\" >rougher.state.floatbank10_c_air</th>\n",
       "      <td id=\"T_13c20_row27_col0\" class=\"data row27 col0\" >0.000000</td>\n",
       "    </tr>\n",
       "    <tr>\n",
       "      <th id=\"T_13c20_level0_row28\" class=\"row_heading level0 row28\" >rougher.state.floatbank10_c_level</th>\n",
       "      <td id=\"T_13c20_row28_col0\" class=\"data row28 col0\" >0.000000</td>\n",
       "    </tr>\n",
       "    <tr>\n",
       "      <th id=\"T_13c20_level0_row29\" class=\"row_heading level0 row29\" >rougher.state.floatbank10_d_air</th>\n",
       "      <td id=\"T_13c20_row29_col0\" class=\"data row29 col0\" >0.000000</td>\n",
       "    </tr>\n",
       "    <tr>\n",
       "      <th id=\"T_13c20_level0_row30\" class=\"row_heading level0 row30\" >rougher.state.floatbank10_d_level</th>\n",
       "      <td id=\"T_13c20_row30_col0\" class=\"data row30 col0\" >0.000000</td>\n",
       "    </tr>\n",
       "    <tr>\n",
       "      <th id=\"T_13c20_level0_row31\" class=\"row_heading level0 row31\" >rougher.state.floatbank10_e_air</th>\n",
       "      <td id=\"T_13c20_row31_col0\" class=\"data row31 col0\" >0.000000</td>\n",
       "    </tr>\n",
       "    <tr>\n",
       "      <th id=\"T_13c20_level0_row32\" class=\"row_heading level0 row32\" >rougher.state.floatbank10_e_level</th>\n",
       "      <td id=\"T_13c20_row32_col0\" class=\"data row32 col0\" >0.000000</td>\n",
       "    </tr>\n",
       "    <tr>\n",
       "      <th id=\"T_13c20_level0_row33\" class=\"row_heading level0 row33\" >rougher.state.floatbank10_f_air</th>\n",
       "      <td id=\"T_13c20_row33_col0\" class=\"data row33 col0\" >0.000000</td>\n",
       "    </tr>\n",
       "    <tr>\n",
       "      <th id=\"T_13c20_level0_row34\" class=\"row_heading level0 row34\" >rougher.state.floatbank10_f_level</th>\n",
       "      <td id=\"T_13c20_row34_col0\" class=\"data row34 col0\" >0.000000</td>\n",
       "    </tr>\n",
       "    <tr>\n",
       "      <th id=\"T_13c20_level0_row35\" class=\"row_heading level0 row35\" >secondary_cleaner.state.floatbank2_a_air</th>\n",
       "      <td id=\"T_13c20_row35_col0\" class=\"data row35 col0\" >0.000567</td>\n",
       "    </tr>\n",
       "    <tr>\n",
       "      <th id=\"T_13c20_level0_row36\" class=\"row_heading level0 row36\" >secondary_cleaner.state.floatbank2_a_level</th>\n",
       "      <td id=\"T_13c20_row36_col0\" class=\"data row36 col0\" >0.000000</td>\n",
       "    </tr>\n",
       "    <tr>\n",
       "      <th id=\"T_13c20_level0_row37\" class=\"row_heading level0 row37\" >secondary_cleaner.state.floatbank2_b_air</th>\n",
       "      <td id=\"T_13c20_row37_col0\" class=\"data row37 col0\" >0.000378</td>\n",
       "    </tr>\n",
       "    <tr>\n",
       "      <th id=\"T_13c20_level0_row38\" class=\"row_heading level0 row38\" >secondary_cleaner.state.floatbank2_b_level</th>\n",
       "      <td id=\"T_13c20_row38_col0\" class=\"data row38 col0\" >0.000000</td>\n",
       "    </tr>\n",
       "    <tr>\n",
       "      <th id=\"T_13c20_level0_row39\" class=\"row_heading level0 row39\" >secondary_cleaner.state.floatbank3_a_air</th>\n",
       "      <td id=\"T_13c20_row39_col0\" class=\"data row39 col0\" >0.001701</td>\n",
       "    </tr>\n",
       "    <tr>\n",
       "      <th id=\"T_13c20_level0_row40\" class=\"row_heading level0 row40\" >secondary_cleaner.state.floatbank3_a_level</th>\n",
       "      <td id=\"T_13c20_row40_col0\" class=\"data row40 col0\" >0.000000</td>\n",
       "    </tr>\n",
       "    <tr>\n",
       "      <th id=\"T_13c20_level0_row41\" class=\"row_heading level0 row41\" >secondary_cleaner.state.floatbank3_b_air</th>\n",
       "      <td id=\"T_13c20_row41_col0\" class=\"data row41 col0\" >0.000000</td>\n",
       "    </tr>\n",
       "    <tr>\n",
       "      <th id=\"T_13c20_level0_row42\" class=\"row_heading level0 row42\" >secondary_cleaner.state.floatbank3_b_level</th>\n",
       "      <td id=\"T_13c20_row42_col0\" class=\"data row42 col0\" >0.000000</td>\n",
       "    </tr>\n",
       "    <tr>\n",
       "      <th id=\"T_13c20_level0_row43\" class=\"row_heading level0 row43\" >secondary_cleaner.state.floatbank4_a_air</th>\n",
       "      <td id=\"T_13c20_row43_col0\" class=\"data row43 col0\" >0.000000</td>\n",
       "    </tr>\n",
       "    <tr>\n",
       "      <th id=\"T_13c20_level0_row44\" class=\"row_heading level0 row44\" >secondary_cleaner.state.floatbank4_a_level</th>\n",
       "      <td id=\"T_13c20_row44_col0\" class=\"data row44 col0\" >0.000000</td>\n",
       "    </tr>\n",
       "    <tr>\n",
       "      <th id=\"T_13c20_level0_row45\" class=\"row_heading level0 row45\" >secondary_cleaner.state.floatbank4_b_air</th>\n",
       "      <td id=\"T_13c20_row45_col0\" class=\"data row45 col0\" >0.000000</td>\n",
       "    </tr>\n",
       "    <tr>\n",
       "      <th id=\"T_13c20_level0_row46\" class=\"row_heading level0 row46\" >secondary_cleaner.state.floatbank4_b_level</th>\n",
       "      <td id=\"T_13c20_row46_col0\" class=\"data row46 col0\" >0.000000</td>\n",
       "    </tr>\n",
       "    <tr>\n",
       "      <th id=\"T_13c20_level0_row47\" class=\"row_heading level0 row47\" >secondary_cleaner.state.floatbank5_a_air</th>\n",
       "      <td id=\"T_13c20_row47_col0\" class=\"data row47 col0\" >0.000000</td>\n",
       "    </tr>\n",
       "    <tr>\n",
       "      <th id=\"T_13c20_level0_row48\" class=\"row_heading level0 row48\" >secondary_cleaner.state.floatbank5_a_level</th>\n",
       "      <td id=\"T_13c20_row48_col0\" class=\"data row48 col0\" >0.000000</td>\n",
       "    </tr>\n",
       "    <tr>\n",
       "      <th id=\"T_13c20_level0_row49\" class=\"row_heading level0 row49\" >secondary_cleaner.state.floatbank5_b_air</th>\n",
       "      <td id=\"T_13c20_row49_col0\" class=\"data row49 col0\" >0.000000</td>\n",
       "    </tr>\n",
       "    <tr>\n",
       "      <th id=\"T_13c20_level0_row50\" class=\"row_heading level0 row50\" >secondary_cleaner.state.floatbank5_b_level</th>\n",
       "      <td id=\"T_13c20_row50_col0\" class=\"data row50 col0\" >0.000000</td>\n",
       "    </tr>\n",
       "    <tr>\n",
       "      <th id=\"T_13c20_level0_row51\" class=\"row_heading level0 row51\" >secondary_cleaner.state.floatbank6_a_air</th>\n",
       "      <td id=\"T_13c20_row51_col0\" class=\"data row51 col0\" >0.000000</td>\n",
       "    </tr>\n",
       "    <tr>\n",
       "      <th id=\"T_13c20_level0_row52\" class=\"row_heading level0 row52\" >secondary_cleaner.state.floatbank6_a_level</th>\n",
       "      <td id=\"T_13c20_row52_col0\" class=\"data row52 col0\" >0.000000</td>\n",
       "    </tr>\n",
       "  </tbody>\n",
       "</table>\n"
      ],
      "text/plain": [
       "<pandas.io.formats.style.Styler at 0x13668520>"
      ]
     },
     "metadata": {},
     "output_type": "display_data"
    },
    {
     "data": {
      "text/html": [
       "<style type=\"text/css\">\n",
       "#T_92b76_row0_col0, #T_92b76_row1_col0, #T_92b76_row2_col0, #T_92b76_row4_col0, #T_92b76_row5_col0, #T_92b76_row6_col0, #T_92b76_row8_col0, #T_92b76_row9_col0, #T_92b76_row12_col0, #T_92b76_row14_col0, #T_92b76_row17_col0, #T_92b76_row18_col0, #T_92b76_row21_col0, #T_92b76_row22_col0, #T_92b76_row23_col0, #T_92b76_row24_col0, #T_92b76_row25_col0, #T_92b76_row26_col0, #T_92b76_row27_col0, #T_92b76_row28_col0, #T_92b76_row29_col0, #T_92b76_row30_col0, #T_92b76_row31_col0, #T_92b76_row32_col0, #T_92b76_row33_col0, #T_92b76_row34_col0, #T_92b76_row39_col0, #T_92b76_row44_col0, #T_92b76_row45_col0, #T_92b76_row47_col0, #T_92b76_row48_col0, #T_92b76_row49_col0, #T_92b76_row50_col0, #T_92b76_row51_col0, #T_92b76_row52_col0, #T_92b76_row53_col0, #T_92b76_row54_col0, #T_92b76_row55_col0, #T_92b76_row56_col0, #T_92b76_row57_col0, #T_92b76_row58_col0, #T_92b76_row59_col0, #T_92b76_row60_col0, #T_92b76_row62_col0, #T_92b76_row63_col0, #T_92b76_row64_col0, #T_92b76_row65_col0, #T_92b76_row68_col0, #T_92b76_row70_col0, #T_92b76_row72_col0, #T_92b76_row74_col0, #T_92b76_row75_col0, #T_92b76_row76_col0, #T_92b76_row77_col0, #T_92b76_row78_col0, #T_92b76_row79_col0, #T_92b76_row80_col0, #T_92b76_row81_col0, #T_92b76_row82_col0, #T_92b76_row83_col0, #T_92b76_row84_col0, #T_92b76_row85_col0, #T_92b76_row86_col0 {\n",
       "  background-color: #3b4cc0;\n",
       "  color: #f1f1f1;\n",
       "}\n",
       "#T_92b76_row3_col0 {\n",
       "  background-color: #5f7fe8;\n",
       "  color: #f1f1f1;\n",
       "}\n",
       "#T_92b76_row7_col0, #T_92b76_row35_col0, #T_92b76_row38_col0 {\n",
       "  background-color: #4b64d5;\n",
       "  color: #f1f1f1;\n",
       "}\n",
       "#T_92b76_row10_col0, #T_92b76_row19_col0, #T_92b76_row46_col0, #T_92b76_row71_col0 {\n",
       "  background-color: #3e51c5;\n",
       "  color: #f1f1f1;\n",
       "}\n",
       "#T_92b76_row11_col0 {\n",
       "  background-color: #4055c8;\n",
       "  color: #f1f1f1;\n",
       "}\n",
       "#T_92b76_row13_col0 {\n",
       "  background-color: #4c66d6;\n",
       "  color: #f1f1f1;\n",
       "}\n",
       "#T_92b76_row15_col0 {\n",
       "  background-color: #4e68d8;\n",
       "  color: #f1f1f1;\n",
       "}\n",
       "#T_92b76_row16_col0 {\n",
       "  background-color: #80a3fa;\n",
       "  color: #f1f1f1;\n",
       "}\n",
       "#T_92b76_row20_col0 {\n",
       "  background-color: #455cce;\n",
       "  color: #f1f1f1;\n",
       "}\n",
       "#T_92b76_row36_col0, #T_92b76_row41_col0, #T_92b76_row66_col0, #T_92b76_row73_col0 {\n",
       "  background-color: #3c4ec2;\n",
       "  color: #f1f1f1;\n",
       "}\n",
       "#T_92b76_row37_col0 {\n",
       "  background-color: #5470de;\n",
       "  color: #f1f1f1;\n",
       "}\n",
       "#T_92b76_row40_col0 {\n",
       "  background-color: #3f53c6;\n",
       "  color: #f1f1f1;\n",
       "}\n",
       "#T_92b76_row42_col0 {\n",
       "  background-color: #4257c9;\n",
       "  color: #f1f1f1;\n",
       "}\n",
       "#T_92b76_row43_col0 {\n",
       "  background-color: #90b2fe;\n",
       "  color: #000000;\n",
       "}\n",
       "#T_92b76_row61_col0 {\n",
       "  background-color: #8caffe;\n",
       "  color: #000000;\n",
       "}\n",
       "#T_92b76_row67_col0 {\n",
       "  background-color: #b40426;\n",
       "  color: #f1f1f1;\n",
       "}\n",
       "#T_92b76_row69_col0 {\n",
       "  background-color: #6282ea;\n",
       "  color: #f1f1f1;\n",
       "}\n",
       "</style>\n",
       "<table id=\"T_92b76\">\n",
       "  <thead>\n",
       "    <tr>\n",
       "      <th class=\"blank level0\" >&nbsp;</th>\n",
       "      <th id=\"T_92b76_level0_col0\" class=\"col_heading level0 col0\" >0</th>\n",
       "    </tr>\n",
       "  </thead>\n",
       "  <tbody>\n",
       "    <tr>\n",
       "      <th id=\"T_92b76_level0_row0\" class=\"row_heading level0 row0\" >date</th>\n",
       "      <td id=\"T_92b76_row0_col0\" class=\"data row0 col0\" >0.000000</td>\n",
       "    </tr>\n",
       "    <tr>\n",
       "      <th id=\"T_92b76_level0_row1\" class=\"row_heading level0 row1\" >final.output.concentrate_ag</th>\n",
       "      <td id=\"T_92b76_row1_col0\" class=\"data row1 col0\" >0.000051</td>\n",
       "    </tr>\n",
       "    <tr>\n",
       "      <th id=\"T_92b76_level0_row2\" class=\"row_heading level0 row2\" >final.output.concentrate_pb</th>\n",
       "      <td id=\"T_92b76_row2_col0\" class=\"data row2 col0\" >0.000051</td>\n",
       "    </tr>\n",
       "    <tr>\n",
       "      <th id=\"T_92b76_level0_row3\" class=\"row_heading level0 row3\" >final.output.concentrate_sol</th>\n",
       "      <td id=\"T_92b76_row3_col0\" class=\"data row3 col0\" >0.010854</td>\n",
       "    </tr>\n",
       "    <tr>\n",
       "      <th id=\"T_92b76_level0_row4\" class=\"row_heading level0 row4\" >final.output.concentrate_au</th>\n",
       "      <td id=\"T_92b76_row4_col0\" class=\"data row4 col0\" >0.000000</td>\n",
       "    </tr>\n",
       "    <tr>\n",
       "      <th id=\"T_92b76_level0_row5\" class=\"row_heading level0 row5\" >final.output.recovery</th>\n",
       "      <td id=\"T_92b76_row5_col0\" class=\"data row5 col0\" >0.000000</td>\n",
       "    </tr>\n",
       "    <tr>\n",
       "      <th id=\"T_92b76_level0_row6\" class=\"row_heading level0 row6\" >final.output.tail_ag</th>\n",
       "      <td id=\"T_92b76_row6_col0\" class=\"data row6 col0\" >0.000051</td>\n",
       "    </tr>\n",
       "    <tr>\n",
       "      <th id=\"T_92b76_level0_row7\" class=\"row_heading level0 row7\" >final.output.tail_pb</th>\n",
       "      <td id=\"T_92b76_row7_col0\" class=\"data row7 col0\" >0.005196</td>\n",
       "    </tr>\n",
       "    <tr>\n",
       "      <th id=\"T_92b76_level0_row8\" class=\"row_heading level0 row8\" >final.output.tail_sol</th>\n",
       "      <td id=\"T_92b76_row8_col0\" class=\"data row8 col0\" >0.000309</td>\n",
       "    </tr>\n",
       "    <tr>\n",
       "      <th id=\"T_92b76_level0_row9\" class=\"row_heading level0 row9\" >final.output.tail_au</th>\n",
       "      <td id=\"T_92b76_row9_col0\" class=\"data row9 col0\" >0.000000</td>\n",
       "    </tr>\n",
       "    <tr>\n",
       "      <th id=\"T_92b76_level0_row10\" class=\"row_heading level0 row10\" >primary_cleaner.input.sulfate</th>\n",
       "      <td id=\"T_92b76_row10_col0\" class=\"data row10 col0\" >0.001235</td>\n",
       "    </tr>\n",
       "    <tr>\n",
       "      <th id=\"T_92b76_level0_row11\" class=\"row_heading level0 row11\" >primary_cleaner.input.depressant</th>\n",
       "      <td id=\"T_92b76_row11_col0\" class=\"data row11 col0\" >0.001903</td>\n",
       "    </tr>\n",
       "    <tr>\n",
       "      <th id=\"T_92b76_level0_row12\" class=\"row_heading level0 row12\" >primary_cleaner.input.feed_size</th>\n",
       "      <td id=\"T_92b76_row12_col0\" class=\"data row12 col0\" >0.000000</td>\n",
       "    </tr>\n",
       "    <tr>\n",
       "      <th id=\"T_92b76_level0_row13\" class=\"row_heading level0 row13\" >primary_cleaner.input.xanthate</th>\n",
       "      <td id=\"T_92b76_row13_col0\" class=\"data row13 col0\" >0.005350</td>\n",
       "    </tr>\n",
       "    <tr>\n",
       "      <th id=\"T_92b76_level0_row14\" class=\"row_heading level0 row14\" >primary_cleaner.output.concentrate_ag</th>\n",
       "      <td id=\"T_92b76_row14_col0\" class=\"data row14 col0\" >0.000000</td>\n",
       "    </tr>\n",
       "    <tr>\n",
       "      <th id=\"T_92b76_level0_row15\" class=\"row_heading level0 row15\" >primary_cleaner.output.concentrate_pb</th>\n",
       "      <td id=\"T_92b76_row15_col0\" class=\"data row15 col0\" >0.005967</td>\n",
       "    </tr>\n",
       "    <tr>\n",
       "      <th id=\"T_92b76_level0_row16\" class=\"row_heading level0 row16\" >primary_cleaner.output.concentrate_sol</th>\n",
       "      <td id=\"T_92b76_row16_col0\" class=\"data row16 col0\" >0.019034</td>\n",
       "    </tr>\n",
       "    <tr>\n",
       "      <th id=\"T_92b76_level0_row17\" class=\"row_heading level0 row17\" >primary_cleaner.output.concentrate_au</th>\n",
       "      <td id=\"T_92b76_row17_col0\" class=\"data row17 col0\" >0.000000</td>\n",
       "    </tr>\n",
       "    <tr>\n",
       "      <th id=\"T_92b76_level0_row18\" class=\"row_heading level0 row18\" >primary_cleaner.output.tail_ag</th>\n",
       "      <td id=\"T_92b76_row18_col0\" class=\"data row18 col0\" >0.000206</td>\n",
       "    </tr>\n",
       "    <tr>\n",
       "      <th id=\"T_92b76_level0_row19\" class=\"row_heading level0 row19\" >primary_cleaner.output.tail_pb</th>\n",
       "      <td id=\"T_92b76_row19_col0\" class=\"data row19 col0\" >0.001080</td>\n",
       "    </tr>\n",
       "    <tr>\n",
       "      <th id=\"T_92b76_level0_row20\" class=\"row_heading level0 row20\" >primary_cleaner.output.tail_sol</th>\n",
       "      <td id=\"T_92b76_row20_col0\" class=\"data row20 col0\" >0.003189</td>\n",
       "    </tr>\n",
       "    <tr>\n",
       "      <th id=\"T_92b76_level0_row21\" class=\"row_heading level0 row21\" >primary_cleaner.output.tail_au</th>\n",
       "      <td id=\"T_92b76_row21_col0\" class=\"data row21 col0\" >0.000000</td>\n",
       "    </tr>\n",
       "    <tr>\n",
       "      <th id=\"T_92b76_level0_row22\" class=\"row_heading level0 row22\" >primary_cleaner.state.floatbank8_a_air</th>\n",
       "      <td id=\"T_92b76_row22_col0\" class=\"data row22 col0\" >0.000206</td>\n",
       "    </tr>\n",
       "    <tr>\n",
       "      <th id=\"T_92b76_level0_row23\" class=\"row_heading level0 row23\" >primary_cleaner.state.floatbank8_a_level</th>\n",
       "      <td id=\"T_92b76_row23_col0\" class=\"data row23 col0\" >0.000051</td>\n",
       "    </tr>\n",
       "    <tr>\n",
       "      <th id=\"T_92b76_level0_row24\" class=\"row_heading level0 row24\" >primary_cleaner.state.floatbank8_b_air</th>\n",
       "      <td id=\"T_92b76_row24_col0\" class=\"data row24 col0\" >0.000206</td>\n",
       "    </tr>\n",
       "    <tr>\n",
       "      <th id=\"T_92b76_level0_row25\" class=\"row_heading level0 row25\" >primary_cleaner.state.floatbank8_b_level</th>\n",
       "      <td id=\"T_92b76_row25_col0\" class=\"data row25 col0\" >0.000051</td>\n",
       "    </tr>\n",
       "    <tr>\n",
       "      <th id=\"T_92b76_level0_row26\" class=\"row_heading level0 row26\" >primary_cleaner.state.floatbank8_c_air</th>\n",
       "      <td id=\"T_92b76_row26_col0\" class=\"data row26 col0\" >0.000103</td>\n",
       "    </tr>\n",
       "    <tr>\n",
       "      <th id=\"T_92b76_level0_row27\" class=\"row_heading level0 row27\" >primary_cleaner.state.floatbank8_c_level</th>\n",
       "      <td id=\"T_92b76_row27_col0\" class=\"data row27 col0\" >0.000051</td>\n",
       "    </tr>\n",
       "    <tr>\n",
       "      <th id=\"T_92b76_level0_row28\" class=\"row_heading level0 row28\" >primary_cleaner.state.floatbank8_d_air</th>\n",
       "      <td id=\"T_92b76_row28_col0\" class=\"data row28 col0\" >0.000154</td>\n",
       "    </tr>\n",
       "    <tr>\n",
       "      <th id=\"T_92b76_level0_row29\" class=\"row_heading level0 row29\" >primary_cleaner.state.floatbank8_d_level</th>\n",
       "      <td id=\"T_92b76_row29_col0\" class=\"data row29 col0\" >0.000051</td>\n",
       "    </tr>\n",
       "    <tr>\n",
       "      <th id=\"T_92b76_level0_row30\" class=\"row_heading level0 row30\" >rougher.calculation.sulfate_to_au_concentrate</th>\n",
       "      <td id=\"T_92b76_row30_col0\" class=\"data row30 col0\" >0.000103</td>\n",
       "    </tr>\n",
       "    <tr>\n",
       "      <th id=\"T_92b76_level0_row31\" class=\"row_heading level0 row31\" >rougher.calculation.floatbank10_sulfate_to_au_feed</th>\n",
       "      <td id=\"T_92b76_row31_col0\" class=\"data row31 col0\" >0.000103</td>\n",
       "    </tr>\n",
       "    <tr>\n",
       "      <th id=\"T_92b76_level0_row32\" class=\"row_heading level0 row32\" >rougher.calculation.floatbank11_sulfate_to_au_feed</th>\n",
       "      <td id=\"T_92b76_row32_col0\" class=\"data row32 col0\" >0.000103</td>\n",
       "    </tr>\n",
       "    <tr>\n",
       "      <th id=\"T_92b76_level0_row33\" class=\"row_heading level0 row33\" >rougher.calculation.au_pb_ratio</th>\n",
       "      <td id=\"T_92b76_row33_col0\" class=\"data row33 col0\" >0.000000</td>\n",
       "    </tr>\n",
       "    <tr>\n",
       "      <th id=\"T_92b76_level0_row34\" class=\"row_heading level0 row34\" >rougher.input.feed_ag</th>\n",
       "      <td id=\"T_92b76_row34_col0\" class=\"data row34 col0\" >0.000000</td>\n",
       "    </tr>\n",
       "    <tr>\n",
       "      <th id=\"T_92b76_level0_row35\" class=\"row_heading level0 row35\" >rougher.input.feed_pb</th>\n",
       "      <td id=\"T_92b76_row35_col0\" class=\"data row35 col0\" >0.005144</td>\n",
       "    </tr>\n",
       "    <tr>\n",
       "      <th id=\"T_92b76_level0_row36\" class=\"row_heading level0 row36\" >rougher.input.feed_rate</th>\n",
       "      <td id=\"T_92b76_row36_col0\" class=\"data row36 col0\" >0.000566</td>\n",
       "    </tr>\n",
       "    <tr>\n",
       "      <th id=\"T_92b76_level0_row37\" class=\"row_heading level0 row37\" >rougher.input.feed_size</th>\n",
       "      <td id=\"T_92b76_row37_col0\" class=\"data row37 col0\" >0.007459</td>\n",
       "    </tr>\n",
       "    <tr>\n",
       "      <th id=\"T_92b76_level0_row38\" class=\"row_heading level0 row38\" >rougher.input.feed_sol</th>\n",
       "      <td id=\"T_92b76_row38_col0\" class=\"data row38 col0\" >0.005093</td>\n",
       "    </tr>\n",
       "    <tr>\n",
       "      <th id=\"T_92b76_level0_row39\" class=\"row_heading level0 row39\" >rougher.input.feed_au</th>\n",
       "      <td id=\"T_92b76_row39_col0\" class=\"data row39 col0\" >0.000000</td>\n",
       "    </tr>\n",
       "    <tr>\n",
       "      <th id=\"T_92b76_level0_row40\" class=\"row_heading level0 row40\" >rougher.input.floatbank10_sulfate</th>\n",
       "      <td id=\"T_92b76_row40_col0\" class=\"data row40 col0\" >0.001749</td>\n",
       "    </tr>\n",
       "    <tr>\n",
       "      <th id=\"T_92b76_level0_row41\" class=\"row_heading level0 row41\" >rougher.input.floatbank10_xanthate</th>\n",
       "      <td id=\"T_92b76_row41_col0\" class=\"data row41 col0\" >0.000412</td>\n",
       "    </tr>\n",
       "    <tr>\n",
       "      <th id=\"T_92b76_level0_row42\" class=\"row_heading level0 row42\" >rougher.input.floatbank11_sulfate</th>\n",
       "      <td id=\"T_92b76_row42_col0\" class=\"data row42 col0\" >0.002263</td>\n",
       "    </tr>\n",
       "    <tr>\n",
       "      <th id=\"T_92b76_level0_row43\" class=\"row_heading level0 row43\" >rougher.input.floatbank11_xanthate</th>\n",
       "      <td id=\"T_92b76_row43_col0\" class=\"data row43 col0\" >0.023304</td>\n",
       "    </tr>\n",
       "    <tr>\n",
       "      <th id=\"T_92b76_level0_row44\" class=\"row_heading level0 row44\" >rougher.output.concentrate_ag</th>\n",
       "      <td id=\"T_92b76_row44_col0\" class=\"data row44 col0\" >0.000000</td>\n",
       "    </tr>\n",
       "    <tr>\n",
       "      <th id=\"T_92b76_level0_row45\" class=\"row_heading level0 row45\" >rougher.output.concentrate_pb</th>\n",
       "      <td id=\"T_92b76_row45_col0\" class=\"data row45 col0\" >0.000000</td>\n",
       "    </tr>\n",
       "    <tr>\n",
       "      <th id=\"T_92b76_level0_row46\" class=\"row_heading level0 row46\" >rougher.output.concentrate_sol</th>\n",
       "      <td id=\"T_92b76_row46_col0\" class=\"data row46 col0\" >0.001183</td>\n",
       "    </tr>\n",
       "    <tr>\n",
       "      <th id=\"T_92b76_level0_row47\" class=\"row_heading level0 row47\" >rougher.output.concentrate_au</th>\n",
       "      <td id=\"T_92b76_row47_col0\" class=\"data row47 col0\" >0.000000</td>\n",
       "    </tr>\n",
       "    <tr>\n",
       "      <th id=\"T_92b76_level0_row48\" class=\"row_heading level0 row48\" >rougher.output.recovery</th>\n",
       "      <td id=\"T_92b76_row48_col0\" class=\"data row48 col0\" >0.000000</td>\n",
       "    </tr>\n",
       "    <tr>\n",
       "      <th id=\"T_92b76_level0_row49\" class=\"row_heading level0 row49\" >rougher.output.tail_ag</th>\n",
       "      <td id=\"T_92b76_row49_col0\" class=\"data row49 col0\" >0.000051</td>\n",
       "    </tr>\n",
       "    <tr>\n",
       "      <th id=\"T_92b76_level0_row50\" class=\"row_heading level0 row50\" >rougher.output.tail_pb</th>\n",
       "      <td id=\"T_92b76_row50_col0\" class=\"data row50 col0\" >0.000000</td>\n",
       "    </tr>\n",
       "    <tr>\n",
       "      <th id=\"T_92b76_level0_row51\" class=\"row_heading level0 row51\" >rougher.output.tail_sol</th>\n",
       "      <td id=\"T_92b76_row51_col0\" class=\"data row51 col0\" >0.000000</td>\n",
       "    </tr>\n",
       "    <tr>\n",
       "      <th id=\"T_92b76_level0_row52\" class=\"row_heading level0 row52\" >rougher.output.tail_au</th>\n",
       "      <td id=\"T_92b76_row52_col0\" class=\"data row52 col0\" >0.000000</td>\n",
       "    </tr>\n",
       "    <tr>\n",
       "      <th id=\"T_92b76_level0_row53\" class=\"row_heading level0 row53\" >rougher.state.floatbank10_a_air</th>\n",
       "      <td id=\"T_92b76_row53_col0\" class=\"data row53 col0\" >0.000051</td>\n",
       "    </tr>\n",
       "    <tr>\n",
       "      <th id=\"T_92b76_level0_row54\" class=\"row_heading level0 row54\" >rougher.state.floatbank10_a_level</th>\n",
       "      <td id=\"T_92b76_row54_col0\" class=\"data row54 col0\" >0.000051</td>\n",
       "    </tr>\n",
       "    <tr>\n",
       "      <th id=\"T_92b76_level0_row55\" class=\"row_heading level0 row55\" >rougher.state.floatbank10_b_air</th>\n",
       "      <td id=\"T_92b76_row55_col0\" class=\"data row55 col0\" >0.000051</td>\n",
       "    </tr>\n",
       "    <tr>\n",
       "      <th id=\"T_92b76_level0_row56\" class=\"row_heading level0 row56\" >rougher.state.floatbank10_b_level</th>\n",
       "      <td id=\"T_92b76_row56_col0\" class=\"data row56 col0\" >0.000051</td>\n",
       "    </tr>\n",
       "    <tr>\n",
       "      <th id=\"T_92b76_level0_row57\" class=\"row_heading level0 row57\" >rougher.state.floatbank10_c_air</th>\n",
       "      <td id=\"T_92b76_row57_col0\" class=\"data row57 col0\" >0.000051</td>\n",
       "    </tr>\n",
       "    <tr>\n",
       "      <th id=\"T_92b76_level0_row58\" class=\"row_heading level0 row58\" >rougher.state.floatbank10_c_level</th>\n",
       "      <td id=\"T_92b76_row58_col0\" class=\"data row58 col0\" >0.000051</td>\n",
       "    </tr>\n",
       "    <tr>\n",
       "      <th id=\"T_92b76_level0_row59\" class=\"row_heading level0 row59\" >rougher.state.floatbank10_d_air</th>\n",
       "      <td id=\"T_92b76_row59_col0\" class=\"data row59 col0\" >0.000000</td>\n",
       "    </tr>\n",
       "    <tr>\n",
       "      <th id=\"T_92b76_level0_row60\" class=\"row_heading level0 row60\" >rougher.state.floatbank10_d_level</th>\n",
       "      <td id=\"T_92b76_row60_col0\" class=\"data row60 col0\" >0.000000</td>\n",
       "    </tr>\n",
       "    <tr>\n",
       "      <th id=\"T_92b76_level0_row61\" class=\"row_heading level0 row61\" >rougher.state.floatbank10_e_air</th>\n",
       "      <td id=\"T_92b76_row61_col0\" class=\"data row61 col0\" >0.022429</td>\n",
       "    </tr>\n",
       "    <tr>\n",
       "      <th id=\"T_92b76_level0_row62\" class=\"row_heading level0 row62\" >rougher.state.floatbank10_e_level</th>\n",
       "      <td id=\"T_92b76_row62_col0\" class=\"data row62 col0\" >0.000000</td>\n",
       "    </tr>\n",
       "    <tr>\n",
       "      <th id=\"T_92b76_level0_row63\" class=\"row_heading level0 row63\" >rougher.state.floatbank10_f_air</th>\n",
       "      <td id=\"T_92b76_row63_col0\" class=\"data row63 col0\" >0.000000</td>\n",
       "    </tr>\n",
       "    <tr>\n",
       "      <th id=\"T_92b76_level0_row64\" class=\"row_heading level0 row64\" >rougher.state.floatbank10_f_level</th>\n",
       "      <td id=\"T_92b76_row64_col0\" class=\"data row64 col0\" >0.000000</td>\n",
       "    </tr>\n",
       "    <tr>\n",
       "      <th id=\"T_92b76_level0_row65\" class=\"row_heading level0 row65\" >secondary_cleaner.output.tail_ag</th>\n",
       "      <td id=\"T_92b76_row65_col0\" class=\"data row65 col0\" >0.000103</td>\n",
       "    </tr>\n",
       "    <tr>\n",
       "      <th id=\"T_92b76_level0_row66\" class=\"row_heading level0 row66\" >secondary_cleaner.output.tail_pb</th>\n",
       "      <td id=\"T_92b76_row66_col0\" class=\"data row66 col0\" >0.000617</td>\n",
       "    </tr>\n",
       "    <tr>\n",
       "      <th id=\"T_92b76_level0_row67\" class=\"row_heading level0 row67\" >secondary_cleaner.output.tail_sol</th>\n",
       "      <td id=\"T_92b76_row67_col0\" class=\"data row67 col0\" >0.089922</td>\n",
       "    </tr>\n",
       "    <tr>\n",
       "      <th id=\"T_92b76_level0_row68\" class=\"row_heading level0 row68\" >secondary_cleaner.output.tail_au</th>\n",
       "      <td id=\"T_92b76_row68_col0\" class=\"data row68 col0\" >0.000000</td>\n",
       "    </tr>\n",
       "    <tr>\n",
       "      <th id=\"T_92b76_level0_row69\" class=\"row_heading level0 row69\" >secondary_cleaner.state.floatbank2_a_air</th>\n",
       "      <td id=\"T_92b76_row69_col0\" class=\"data row69 col0\" >0.011317</td>\n",
       "    </tr>\n",
       "    <tr>\n",
       "      <th id=\"T_92b76_level0_row70\" class=\"row_heading level0 row70\" >secondary_cleaner.state.floatbank2_a_level</th>\n",
       "      <td id=\"T_92b76_row70_col0\" class=\"data row70 col0\" >0.000051</td>\n",
       "    </tr>\n",
       "    <tr>\n",
       "      <th id=\"T_92b76_level0_row71\" class=\"row_heading level0 row71\" >secondary_cleaner.state.floatbank2_b_air</th>\n",
       "      <td id=\"T_92b76_row71_col0\" class=\"data row71 col0\" >0.001183</td>\n",
       "    </tr>\n",
       "    <tr>\n",
       "      <th id=\"T_92b76_level0_row72\" class=\"row_heading level0 row72\" >secondary_cleaner.state.floatbank2_b_level</th>\n",
       "      <td id=\"T_92b76_row72_col0\" class=\"data row72 col0\" >0.000051</td>\n",
       "    </tr>\n",
       "    <tr>\n",
       "      <th id=\"T_92b76_level0_row73\" class=\"row_heading level0 row73\" >secondary_cleaner.state.floatbank3_a_air</th>\n",
       "      <td id=\"T_92b76_row73_col0\" class=\"data row73 col0\" >0.000669</td>\n",
       "    </tr>\n",
       "    <tr>\n",
       "      <th id=\"T_92b76_level0_row74\" class=\"row_heading level0 row74\" >secondary_cleaner.state.floatbank3_a_level</th>\n",
       "      <td id=\"T_92b76_row74_col0\" class=\"data row74 col0\" >0.000051</td>\n",
       "    </tr>\n",
       "    <tr>\n",
       "      <th id=\"T_92b76_level0_row75\" class=\"row_heading level0 row75\" >secondary_cleaner.state.floatbank3_b_air</th>\n",
       "      <td id=\"T_92b76_row75_col0\" class=\"data row75 col0\" >0.000051</td>\n",
       "    </tr>\n",
       "    <tr>\n",
       "      <th id=\"T_92b76_level0_row76\" class=\"row_heading level0 row76\" >secondary_cleaner.state.floatbank3_b_level</th>\n",
       "      <td id=\"T_92b76_row76_col0\" class=\"data row76 col0\" >0.000051</td>\n",
       "    </tr>\n",
       "    <tr>\n",
       "      <th id=\"T_92b76_level0_row77\" class=\"row_heading level0 row77\" >secondary_cleaner.state.floatbank4_a_air</th>\n",
       "      <td id=\"T_92b76_row77_col0\" class=\"data row77 col0\" >0.000309</td>\n",
       "    </tr>\n",
       "    <tr>\n",
       "      <th id=\"T_92b76_level0_row78\" class=\"row_heading level0 row78\" >secondary_cleaner.state.floatbank4_a_level</th>\n",
       "      <td id=\"T_92b76_row78_col0\" class=\"data row78 col0\" >0.000051</td>\n",
       "    </tr>\n",
       "    <tr>\n",
       "      <th id=\"T_92b76_level0_row79\" class=\"row_heading level0 row79\" >secondary_cleaner.state.floatbank4_b_air</th>\n",
       "      <td id=\"T_92b76_row79_col0\" class=\"data row79 col0\" >0.000051</td>\n",
       "    </tr>\n",
       "    <tr>\n",
       "      <th id=\"T_92b76_level0_row80\" class=\"row_heading level0 row80\" >secondary_cleaner.state.floatbank4_b_level</th>\n",
       "      <td id=\"T_92b76_row80_col0\" class=\"data row80 col0\" >0.000051</td>\n",
       "    </tr>\n",
       "    <tr>\n",
       "      <th id=\"T_92b76_level0_row81\" class=\"row_heading level0 row81\" >secondary_cleaner.state.floatbank5_a_air</th>\n",
       "      <td id=\"T_92b76_row81_col0\" class=\"data row81 col0\" >0.000051</td>\n",
       "    </tr>\n",
       "    <tr>\n",
       "      <th id=\"T_92b76_level0_row82\" class=\"row_heading level0 row82\" >secondary_cleaner.state.floatbank5_a_level</th>\n",
       "      <td id=\"T_92b76_row82_col0\" class=\"data row82 col0\" >0.000051</td>\n",
       "    </tr>\n",
       "    <tr>\n",
       "      <th id=\"T_92b76_level0_row83\" class=\"row_heading level0 row83\" >secondary_cleaner.state.floatbank5_b_air</th>\n",
       "      <td id=\"T_92b76_row83_col0\" class=\"data row83 col0\" >0.000051</td>\n",
       "    </tr>\n",
       "    <tr>\n",
       "      <th id=\"T_92b76_level0_row84\" class=\"row_heading level0 row84\" >secondary_cleaner.state.floatbank5_b_level</th>\n",
       "      <td id=\"T_92b76_row84_col0\" class=\"data row84 col0\" >0.000051</td>\n",
       "    </tr>\n",
       "    <tr>\n",
       "      <th id=\"T_92b76_level0_row85\" class=\"row_heading level0 row85\" >secondary_cleaner.state.floatbank6_a_air</th>\n",
       "      <td id=\"T_92b76_row85_col0\" class=\"data row85 col0\" >0.000103</td>\n",
       "    </tr>\n",
       "    <tr>\n",
       "      <th id=\"T_92b76_level0_row86\" class=\"row_heading level0 row86\" >secondary_cleaner.state.floatbank6_a_level</th>\n",
       "      <td id=\"T_92b76_row86_col0\" class=\"data row86 col0\" >0.000051</td>\n",
       "    </tr>\n",
       "  </tbody>\n",
       "</table>\n"
      ],
      "text/plain": [
       "<pandas.io.formats.style.Styler at 0x136780a0>"
      ]
     },
     "metadata": {},
     "output_type": "display_data"
    }
   ],
   "source": [
    "#Проверим на пропуски\n",
    "display(pd.DataFrame(df_train.isna().mean()).style.background_gradient('coolwarm'))\n",
    "display(pd.DataFrame(df_test.isna().mean()).style.background_gradient('coolwarm'))\n",
    "display(pd.DataFrame(df_full.isna().mean()).style.background_gradient('coolwarm'))"
   ]
  },
  {
   "cell_type": "markdown",
   "metadata": {},
   "source": [
    "В некоторых признаках присутствуют пропуски. Исходя из условий задачи, что:<br>\n",
    "-\"Данные индексируются датой и временем получения информации (признак date). Соседние по времени параметры часто похожи.\",<br>\n",
    "заполним пропуски предыдущим доступным значением."
   ]
  },
  {
   "cell_type": "code",
   "execution_count": 14,
   "metadata": {},
   "outputs": [],
   "source": [
    "#Заполним пропуски во всех столбцах предыдущим значением\n",
    "df_train.fillna(method='ffill', inplace=True)\n",
    "df_test.fillna(method='ffill', inplace=True)\n",
    "df_full.fillna(method='ffill', inplace=True)"
   ]
  },
  {
   "cell_type": "markdown",
   "metadata": {},
   "source": [
    "## Анализ данных"
   ]
  },
  {
   "cell_type": "markdown",
   "metadata": {},
   "source": [
    "**Посмотрим, как меняется концентрация металлов (Au, Ag, Pb) на различных этапах очистки.**"
   ]
  },
  {
   "cell_type": "code",
   "execution_count": 15,
   "metadata": {},
   "outputs": [],
   "source": [
    "#Создадим списки с названием этапа и концентрацией каждого  металла\n",
    "#В сырье до флотации\n",
    "rougher_input = ['rougher.input', \n",
    "                 df_train['rougher.input.feed_au'].median(), \n",
    "                 df_train['rougher.input.feed_ag'].median(), \n",
    "                 df_train['rougher.input.feed_pb'].median()]\n",
    "\n",
    "\n",
    "rougher_output = ['rougher.output', \n",
    "                 df_train['rougher.output.concentrate_au'].median(), \n",
    "                 df_train['rougher.output.concentrate_ag'].median(), \n",
    "                 df_train['rougher.output.concentrate_pb'].median()]\n",
    "\n",
    "\n",
    "primary_cleaner_output = ['primary_cleaner.output', \n",
    "                 df_train['primary_cleaner.output.concentrate_au'].median(), \n",
    "                 df_train['primary_cleaner.output.concentrate_ag'].median(), \n",
    "                 df_train['primary_cleaner.output.concentrate_pb'].median()]\n",
    "\n",
    "final_output = ['final.output', \n",
    "                 df_train['final.output.concentrate_au'].median(), \n",
    "                 df_train['final.output.concentrate_ag'].median(), \n",
    "                 df_train['final.output.concentrate_pb'].median()]\n",
    "\n",
    "concentrations = [rougher_input, rougher_output, primary_cleaner_output, final_output]"
   ]
  },
  {
   "cell_type": "code",
   "execution_count": 16,
   "metadata": {},
   "outputs": [
    {
     "data": {
      "text/html": [
       "<div>\n",
       "<style scoped>\n",
       "    .dataframe tbody tr th:only-of-type {\n",
       "        vertical-align: middle;\n",
       "    }\n",
       "\n",
       "    .dataframe tbody tr th {\n",
       "        vertical-align: top;\n",
       "    }\n",
       "\n",
       "    .dataframe thead th {\n",
       "        text-align: right;\n",
       "    }\n",
       "</style>\n",
       "<table border=\"1\" class=\"dataframe\">\n",
       "  <thead>\n",
       "    <tr style=\"text-align: right;\">\n",
       "      <th></th>\n",
       "      <th>Этап</th>\n",
       "      <th>Процент Au</th>\n",
       "      <th>Процент Ag</th>\n",
       "      <th>Процент Pb</th>\n",
       "    </tr>\n",
       "  </thead>\n",
       "  <tbody>\n",
       "    <tr>\n",
       "      <th>0</th>\n",
       "      <td>rougher.input</td>\n",
       "      <td>7.649138</td>\n",
       "      <td>8.156092</td>\n",
       "      <td>3.414267</td>\n",
       "    </tr>\n",
       "    <tr>\n",
       "      <th>1</th>\n",
       "      <td>rougher.output</td>\n",
       "      <td>19.947312</td>\n",
       "      <td>11.747362</td>\n",
       "      <td>7.760435</td>\n",
       "    </tr>\n",
       "    <tr>\n",
       "      <th>2</th>\n",
       "      <td>primary_cleaner.output</td>\n",
       "      <td>33.225835</td>\n",
       "      <td>8.226247</td>\n",
       "      <td>9.920598</td>\n",
       "    </tr>\n",
       "    <tr>\n",
       "      <th>3</th>\n",
       "      <td>final.output</td>\n",
       "      <td>44.872436</td>\n",
       "      <td>4.994607</td>\n",
       "      <td>10.297013</td>\n",
       "    </tr>\n",
       "  </tbody>\n",
       "</table>\n",
       "</div>"
      ],
      "text/plain": [
       "                     Этап  Процент Au  Процент Ag  Процент Pb\n",
       "0           rougher.input    7.649138    8.156092    3.414267\n",
       "1          rougher.output   19.947312   11.747362    7.760435\n",
       "2  primary_cleaner.output   33.225835    8.226247    9.920598\n",
       "3            final.output   44.872436    4.994607   10.297013"
      ]
     },
     "execution_count": 16,
     "metadata": {},
     "output_type": "execute_result"
    }
   ],
   "source": [
    "#Создадим таблицу из этих списков\n",
    "concentration_data = pd.DataFrame(concentrations, columns=[\n",
    "    'Этап', 'Процент Au', 'Процент Ag', 'Процент Pb'])\n",
    "concentration_data"
   ]
  },
  {
   "cell_type": "code",
   "execution_count": 17,
   "metadata": {
    "scrolled": false
   },
   "outputs": [
    {
     "data": {
      "image/png": "[encoded data removed]",
      "text/plain": [
       "<Figure size 576x360 with 1 Axes>"
      ]
     },
     "metadata": {
      "needs_background": "light"
     },
     "output_type": "display_data"
    }
   ],
   "source": [
    "#Построим столбчатую диаграмму с концентрацией металлов для каждого этапа\n",
    "concentration_data.plot(kind='bar', x='Этап', y=['Процент Au', 'Процент Ag', 'Процент Pb'], \n",
    "                        title='Концентрация металлов на этапах очистки', xlabel='Этап', ylabel='% в сырье / концентрате', \n",
    "                        color=['gold', 'silver', 'gray'], edgecolor = 'black', label = ['Au', 'Ag', 'Pb'], \n",
    "                        rot=True, width=0.7, figsize=(8, 5));"
   ]
  },
  {
   "cell_type": "markdown",
   "metadata": {},
   "source": [
    "Построим гистограммы распределения для каждого металла"
   ]
  },
  {
   "cell_type": "code",
   "execution_count": 18,
   "metadata": {},
   "outputs": [
    {
     "data": {
      "image/png": "[encoded data removed]",
      "text/plain": [
       "<Figure size 576x288 with 1 Axes>"
      ]
     },
     "metadata": {
      "needs_background": "light"
     },
     "output_type": "display_data"
    },
    {
     "data": {
      "image/png": "[encoded data removed]",
      "text/plain": [
       "<Figure size 576x288 with 1 Axes>"
      ]
     },
     "metadata": {
      "needs_background": "light"
     },
     "output_type": "display_data"
    },
    {
     "data": {
      "image/png": "[encoded data removed]",
      "text/plain": [
       "<Figure size 576x288 with 1 Axes>"
      ]
     },
     "metadata": {
      "needs_background": "light"
     },
     "output_type": "display_data"
    },
    {
     "data": {
      "image/png": "[encoded data removed]",
      "text/plain": [
       "<Figure size 576x288 with 1 Axes>"
      ]
     },
     "metadata": {
      "needs_background": "light"
     },
     "output_type": "display_data"
    }
   ],
   "source": [
    "#Au золото\n",
    "for step in ['rougher.input.feed_au', \n",
    " 'rougher.output.concentrate_au', \n",
    " 'primary_cleaner.output.concentrate_au', \n",
    " 'final.output.concentrate_au']:\n",
    "\n",
    "    plt.figure(figsize=[8, 4])\n",
    "    plt.xlim(-5, 60)\n",
    "    plt.title(label = 'Au \\n' + step.split('.')[0] + '.' + step.split('.')[1])\n",
    "    plt.xlabel('Концентрация, %')\n",
    "    plt.ylabel('Кол-во наблюдений')\n",
    "    plt.hist(df_train[step], bins=range(0, 50, 1), color='gold', edgecolor='k');\n",
    "    plt.axvline(df_train[step].median(), color='black', linestyle='dashed', linewidth=1, label='Медиана');\n",
    "    plt.show()"
   ]
  },
  {
   "cell_type": "code",
   "execution_count": 19,
   "metadata": {
    "scrolled": false
   },
   "outputs": [
    {
     "data": {
      "image/png": "[encoded data removed]",
      "text/plain": [
       "<Figure size 576x288 with 1 Axes>"
      ]
     },
     "metadata": {
      "needs_background": "light"
     },
     "output_type": "display_data"
    },
    {
     "data": {
      "image/png": "[encoded data removed]",
      "text/plain": [
       "<Figure size 576x288 with 1 Axes>"
      ]
     },
     "metadata": {
      "needs_background": "light"
     },
     "output_type": "display_data"
    },
    {
     "data": {
      "image/png": "[encoded data removed]",
      "text/plain": [
       "<Figure size 576x288 with 1 Axes>"
      ]
     },
     "metadata": {
      "needs_background": "light"
     },
     "output_type": "display_data"
    },
    {
     "data": {
      "image/png": "[encoded data removed]",
      "text/plain": [
       "<Figure size 576x288 with 1 Axes>"
      ]
     },
     "metadata": {
      "needs_background": "light"
     },
     "output_type": "display_data"
    }
   ],
   "source": [
    "#Ag серебро\n",
    "for step in ['rougher.input.feed_ag', \n",
    " 'rougher.output.concentrate_ag', \n",
    " 'primary_cleaner.output.concentrate_ag', \n",
    " 'final.output.concentrate_ag']:\n",
    "\n",
    "    plt.figure(figsize=[8, 4])\n",
    "    plt.xlim(-5, 30)\n",
    "    plt.title(label = 'Ag \\n' + step.split('.')[0] + '.' + step.split('.')[1])\n",
    "    plt.xlabel('Концентрация, %')\n",
    "    plt.ylabel('Кол-во наблюдений')\n",
    "    plt.hist(df_train[step], bins=range(0, 50, 1), color='silver', edgecolor='k', label='Обучающая выборка');\n",
    "    plt.axvline(df_train[step].median(), color='black', linestyle='dashed', linewidth=1, label='Медиана');\n",
    "    plt.show()"
   ]
  },
  {
   "cell_type": "code",
   "execution_count": 20,
   "metadata": {
    "scrolled": false
   },
   "outputs": [
    {
     "data": {
      "image/png": "[encoded data removed]",
      "text/plain": [
       "<Figure size 576x288 with 1 Axes>"
      ]
     },
     "metadata": {
      "needs_background": "light"
     },
     "output_type": "display_data"
    },
    {
     "data": {
      "image/png": "[encoded data removed]",
      "text/plain": [
       "<Figure size 576x288 with 1 Axes>"
      ]
     },
     "metadata": {
      "needs_background": "light"
     },
     "output_type": "display_data"
    },
    {
     "data": {
      "image/png": "[encoded data removed]",
      "text/plain": [
       "<Figure size 576x288 with 1 Axes>"
      ]
     },
     "metadata": {
      "needs_background": "light"
     },
     "output_type": "display_data"
    },
    {
     "data": {
      "image/png": "[encoded data removed]",
      "text/plain": [
       "<Figure size 576x288 with 1 Axes>"
      ]
     },
     "metadata": {
      "needs_background": "light"
     },
     "output_type": "display_data"
    }
   ],
   "source": [
    "#Pb свинец\n",
    "for step in ['rougher.input.feed_pb', \n",
    " 'rougher.output.concentrate_pb', \n",
    " 'primary_cleaner.output.concentrate_pb', \n",
    " 'final.output.concentrate_pb']:\n",
    "\n",
    "    plt.figure(figsize=[8, 4])\n",
    "    plt.xlim(-5, 30)\n",
    "    plt.title(label = 'Pb \\n' + step.split('.')[0] + '.' + step.split('.')[1])\n",
    "    plt.xlabel('Концентрация, %')\n",
    "    plt.ylabel('Кол-во наблюдений')\n",
    "    plt.hist(df_train[step], bins=range(0, 50, 1), color='gray', edgecolor='k');\n",
    "    plt.axvline(df_train[step].median(), color='black', linestyle='dashed', linewidth=1, label='Медиана');\n",
    "    plt.show()"
   ]
  },
  {
   "cell_type": "markdown",
   "metadata": {},
   "source": [
    "**Вывод**: \n",
    "- Доля золота(Au) заметно увеличивается по мере прохождения всех этапов очистки;\n",
    "- Доля серебра(Ag) в сырье, в черновом конценрате после флотации и в черновом концентрате после первого этапа очистки остаётся примерно на одном уровне, а в финальном концентрате уменьшается почти в два раза;\n",
    "- Доля свинца(Pb) увеличивается в два раза в черновом концентрате после флотации и растёт дальше по мере прохождения очистки, но уже не так интенсивно."
   ]
  },
  {
   "cell_type": "markdown",
   "metadata": {},
   "source": [
    "**Сравним распределения размеров гранул сырья на обучающей и тестовой выборках.**"
   ]
  },
  {
   "cell_type": "code",
   "execution_count": 21,
   "metadata": {
    "scrolled": false
   },
   "outputs": [
    {
     "data": {
      "image/png": "[encoded data removed]",
      "text/plain": [
       "<Figure size 864x360 with 1 Axes>"
      ]
     },
     "metadata": {
      "needs_background": "light"
     },
     "output_type": "display_data"
    },
    {
     "name": "stdout",
     "output_type": "stream",
     "text": [
      "Медиана обучающей выборки:  55.269783890501536\n",
      "Медиана тестовой выборки:  50.8468431600362\n",
      "Разница между медианами: 8.00%\n"
     ]
    }
   ],
   "source": [
    "#Построим гистограммы распределения размеров гранул сырья для обучающей и тестовой выборок\n",
    "# Этап 'rougher.input' - сырьё перед флотацией\n",
    "\n",
    "median_train = df_train['rougher.input.feed_size'].median()\n",
    "median_test = df_test['rougher.input.feed_size'].median()\n",
    "\n",
    "plt.figure(figsize=[12, 5])\n",
    "plt.title(label='Распределения размеров гранул сырья на обучающей и тестовой выборках \\n перед флотацией')\n",
    "plt.xlabel('Размер гранул')\n",
    "plt.ylabel('Доля распределения')\n",
    "sns.kdeplot(df_train['rougher.input.feed_size'], label='Обучающая выборка', color='r', fill=True)\n",
    "plt.axvline(median_train, linestyle='dashed', linewidth=1, label='Медиана обуч.в.', color='r')\n",
    "sns.kdeplot(df_test['rougher.input.feed_size'], label='Тестовая выборка', fill=True)\n",
    "plt.axvline(median_test, linestyle='dashed', linewidth=1, label='Медиана тест.в.')\n",
    "plt.legend(loc=\"upper center\")\n",
    "plt.show()\n",
    "print('Медиана обучающей выборки: ', median_train)\n",
    "print('Медиана тестовой выборки: ', median_test)\n",
    "print('Разница между медианами: {:.2%}'.format((median_train - median_test)/median_train))"
   ]
  },
  {
   "cell_type": "markdown",
   "metadata": {},
   "source": [
    "**Вывод**: Рапределения примерно одинаковы."
   ]
  },
  {
   "cell_type": "code",
   "execution_count": 22,
   "metadata": {
    "scrolled": false
   },
   "outputs": [
    {
     "data": {
      "image/png": "[encoded data removed]",
      "text/plain": [
       "<Figure size 864x360 with 1 Axes>"
      ]
     },
     "metadata": {
      "needs_background": "light"
     },
     "output_type": "display_data"
    },
    {
     "name": "stdout",
     "output_type": "stream",
     "text": [
      "Медиана обучающей выборки:  7.289999961853027\n",
      "Медиана тестовой выборки:  7.25\n",
      "Разница между медианами: 0.55%\n"
     ]
    }
   ],
   "source": [
    "#Построим гистограммы распределения размеров гранул сырья для обучающей и тестовой выборок\n",
    "#Этап 'primary_cleaner.input' - черновой концентрат перед первым этапом очистки\n",
    "\n",
    "median_train = df_train['primary_cleaner.input.feed_size'].median()\n",
    "median_test = df_test['primary_cleaner.input.feed_size'].median()\n",
    "\n",
    "plt.figure(figsize=[12, 5])\n",
    "plt.title(label='Распределения размеров гранул сырья на обучающей и тестовой выборках \\n перед первым этапом очистки')\n",
    "plt.xlabel('Размер гранул')\n",
    "plt.ylabel('Доля распределения')\n",
    "sns.kdeplot(df_train['primary_cleaner.input.feed_size'], label='Обучающая выборка', color='r', fill=True)\n",
    "plt.axvline(median_train, linestyle='dashed', linewidth=1, label='Медиана обуч.в.', color='r')\n",
    "sns.kdeplot(df_test['primary_cleaner.input.feed_size'], label='Тестовая выборка', fill=True)\n",
    "plt.axvline(median_test, linestyle='dashed', linewidth=1, label='Медиана тест.в.')\n",
    "plt.legend(loc=\"upper left\")\n",
    "plt.show()\n",
    "print('Медиана обучающей выборки: ', median_train)\n",
    "print('Медиана тестовой выборки: ', median_test)\n",
    "print('Разница между медианами: {:.2%}'.format((median_train - median_test)/median_train))"
   ]
  },
  {
   "cell_type": "markdown",
   "metadata": {},
   "source": [
    "**Вывод**: существенных различий между размерами гранул сырья на обучающей и тестовой выборках не наблюдается."
   ]
  },
  {
   "cell_type": "markdown",
   "metadata": {},
   "source": [
    "**Исследуем суммарную концентрацию всех веществ на разных стадиях: в сырье, в черновом и финальном концентратах.**"
   ]
  },
  {
   "cell_type": "code",
   "execution_count": 23,
   "metadata": {},
   "outputs": [],
   "source": [
    "#Создадим список, куда будем добавлять суммарную концентрацию всех веществ на каждом этапе\n",
    "total_concentration_list = []"
   ]
  },
  {
   "cell_type": "markdown",
   "metadata": {},
   "source": [
    "- Суммарная концентарция в сырье"
   ]
  },
  {
   "cell_type": "code",
   "execution_count": 24,
   "metadata": {},
   "outputs": [],
   "source": [
    "#Выделим из датсета признаки, которые характеризуют сырьё до флотации, т.е. содержат 'rougher.input'\n",
    "rougher_input_features = []\n",
    "for i in df_train.columns:\n",
    "    if 'rougher.input' in i:\n",
    "        rougher_input_features.append(i)\n",
    "        \n",
    "#rougher_input_features"
   ]
  },
  {
   "cell_type": "code",
   "execution_count": 25,
   "metadata": {
    "scrolled": true
   },
   "outputs": [],
   "source": [
    "#Исключим параметры, не касающиеся концентрации\n",
    "rougher_input_features = rougher_input_features[:6]\n",
    "rougher_input_features = rougher_input_features[:2] + rougher_input_features[4:]\n",
    "#rougher_input_features"
   ]
  },
  {
   "cell_type": "code",
   "execution_count": 26,
   "metadata": {},
   "outputs": [],
   "source": [
    "#Сложим концентрации всех веществ на этапе 'rougher.input'\n",
    "rougher_input_concentration = 0\n",
    "for i in rougher_input_features:\n",
    "    rougher_input_concentration += df_train[i]#.median()\n",
    "\n",
    "total_concentration_list.append(['rougher.input', rougher_input_concentration.median()])\n",
    "#rougher_input_concentration"
   ]
  },
  {
   "cell_type": "markdown",
   "metadata": {},
   "source": [
    "- В черновом концентрате после флотации"
   ]
  },
  {
   "cell_type": "code",
   "execution_count": 27,
   "metadata": {},
   "outputs": [],
   "source": [
    "#Выделим из датсета признаки, которые характеризуют черновой концентрат после флотации, т.е. содерж. 'rougher.output'\n",
    "rougher_output_features = []\n",
    "for i in df_train.columns:\n",
    "    if 'rougher.output' in i:\n",
    "        rougher_output_features.append(i)\n",
    "        \n",
    "#rougher_output_features"
   ]
  },
  {
   "cell_type": "code",
   "execution_count": 28,
   "metadata": {
    "scrolled": false
   },
   "outputs": [],
   "source": [
    "#Исключим параметры, не касающиеся концентрации\n",
    "rougher_output_features = rougher_output_features[:4]\n",
    "#rougher_output_features"
   ]
  },
  {
   "cell_type": "code",
   "execution_count": 29,
   "metadata": {},
   "outputs": [],
   "source": [
    "#Сложим концентрации всех веществ на этапе 'rougher.output'\n",
    "rougher_output_concentration = 0\n",
    "for i in rougher_output_features:\n",
    "    rougher_output_concentration += df_train[i]#.median()\n",
    "    \n",
    "\n",
    "total_concentration_list.append(['rougher.output', rougher_output_concentration.median()])\n",
    "#rougher_output_concentration"
   ]
  },
  {
   "cell_type": "markdown",
   "metadata": {},
   "source": [
    "- В черновом концентрате после первого этапа очистки"
   ]
  },
  {
   "cell_type": "code",
   "execution_count": 30,
   "metadata": {},
   "outputs": [],
   "source": [
    "#Выделим из датсета признаки, кот. характ. черновой концентрат после первого этапа очистки - 'primary_cleaner.output'\n",
    "primary_cleaner_output_features = []\n",
    "for i in df_train.columns:\n",
    "    if 'primary_cleaner.output' in i:\n",
    "        primary_cleaner_output_features.append(i)\n",
    "        \n",
    "#primary_cleaner_output_features"
   ]
  },
  {
   "cell_type": "code",
   "execution_count": 31,
   "metadata": {
    "scrolled": false
   },
   "outputs": [],
   "source": [
    "#Исключим параметры, кот. относятся к отвальным хвостам\n",
    "primary_cleaner_output_features = primary_cleaner_output_features[:4]\n",
    "#primary_cleaner_output_features"
   ]
  },
  {
   "cell_type": "code",
   "execution_count": 32,
   "metadata": {
    "scrolled": true
   },
   "outputs": [],
   "source": [
    "#Сложим концентрации всех веществ на этапе 'primary_cleaner.output'\n",
    "primary_cleaner_output_concentration = 0\n",
    "for i in primary_cleaner_output_features:\n",
    "    primary_cleaner_output_concentration += df_train[i]#.median()\n",
    "    \n",
    "total_concentration_list.append(['primary_cleaner.output', primary_cleaner_output_concentration.median()])\n",
    "#primary_cleaner_output_concentration"
   ]
  },
  {
   "cell_type": "markdown",
   "metadata": {},
   "source": [
    "- В финальном концентрате"
   ]
  },
  {
   "cell_type": "code",
   "execution_count": 33,
   "metadata": {},
   "outputs": [],
   "source": [
    "#Выделим из датсета признаки, кот. характ. финальный концентрат - 'final.output'\n",
    "final_output_features = []\n",
    "for i in df_train.columns:\n",
    "    if 'final.output' in i:\n",
    "        final_output_features.append(i)\n",
    "        \n",
    "#final_output_features"
   ]
  },
  {
   "cell_type": "code",
   "execution_count": 34,
   "metadata": {
    "scrolled": true
   },
   "outputs": [],
   "source": [
    "#Исключим параметры, кот. относятся к отвальным хвостам\n",
    "final_output_features = final_output_features[:4]\n",
    "#final_output_features"
   ]
  },
  {
   "cell_type": "code",
   "execution_count": 35,
   "metadata": {},
   "outputs": [],
   "source": [
    "#Сложим концентрации всех веществ на этапе 'final.output'\n",
    "final_output_concentration = 0\n",
    "for i in final_output_features:\n",
    "    final_output_concentration += df_train[i]#.median()\n",
    "    \n",
    "total_concentration_list.append(['final.output', final_output_concentration.median()])"
   ]
  },
  {
   "cell_type": "code",
   "execution_count": 36,
   "metadata": {
    "scrolled": true
   },
   "outputs": [
    {
     "data": {
      "text/html": [
       "<div>\n",
       "<style scoped>\n",
       "    .dataframe tbody tr th:only-of-type {\n",
       "        vertical-align: middle;\n",
       "    }\n",
       "\n",
       "    .dataframe tbody tr th {\n",
       "        vertical-align: top;\n",
       "    }\n",
       "\n",
       "    .dataframe thead th {\n",
       "        text-align: right;\n",
       "    }\n",
       "</style>\n",
       "<table border=\"1\" class=\"dataframe\">\n",
       "  <thead>\n",
       "    <tr style=\"text-align: right;\">\n",
       "      <th></th>\n",
       "      <th>Этап</th>\n",
       "      <th>Суммарная концентрация</th>\n",
       "    </tr>\n",
       "  </thead>\n",
       "  <tbody>\n",
       "    <tr>\n",
       "      <th>0</th>\n",
       "      <td>rougher.input</td>\n",
       "      <td>56.627635</td>\n",
       "    </tr>\n",
       "    <tr>\n",
       "      <th>1</th>\n",
       "      <td>rougher.output</td>\n",
       "      <td>69.175663</td>\n",
       "    </tr>\n",
       "    <tr>\n",
       "      <th>2</th>\n",
       "      <td>primary_cleaner.output</td>\n",
       "      <td>61.786946</td>\n",
       "    </tr>\n",
       "    <tr>\n",
       "      <th>3</th>\n",
       "      <td>final.output</td>\n",
       "      <td>69.141502</td>\n",
       "    </tr>\n",
       "  </tbody>\n",
       "</table>\n",
       "</div>"
      ],
      "text/plain": [
       "                     Этап  Суммарная концентрация\n",
       "0           rougher.input               56.627635\n",
       "1          rougher.output               69.175663\n",
       "2  primary_cleaner.output               61.786946\n",
       "3            final.output               69.141502"
      ]
     },
     "execution_count": 36,
     "metadata": {},
     "output_type": "execute_result"
    }
   ],
   "source": [
    "#Создадим таблицу с суммарной концентрацией веществ на всех этапах\n",
    "total_concentration_data = pd.DataFrame(total_concentration_list, columns=['Этап', 'Суммарная концентрация'])\n",
    "total_concentration_data"
   ]
  },
  {
   "cell_type": "code",
   "execution_count": 37,
   "metadata": {
    "scrolled": false
   },
   "outputs": [
    {
     "data": {
      "image/png": "[encoded data removed]",
      "text/plain": [
       "<Figure size 576x360 with 1 Axes>"
      ]
     },
     "metadata": {
      "needs_background": "light"
     },
     "output_type": "display_data"
    }
   ],
   "source": [
    "#Построим столбчатую диаграмму по таблице суммарной концентрации\n",
    "total_concentration_data.plot(kind='bar', x='Этап', y='Суммарная концентрация', \n",
    "                        title='Суммарная концентрация', xlabel='Этап', ylabel='Суммарная концентрация, %', \n",
    "                              legend = None, rot=True, width=0.7, figsize=(8, 5));"
   ]
  },
  {
   "cell_type": "code",
   "execution_count": 38,
   "metadata": {},
   "outputs": [
    {
     "data": {
      "image/png": "[encoded data removed]",
      "text/plain": [
       "<Figure size 576x360 with 1 Axes>"
      ]
     },
     "metadata": {
      "needs_background": "light"
     },
     "output_type": "display_data"
    },
    {
     "data": {
      "image/png": "[encoded data removed]",
      "text/plain": [
       "<Figure size 576x360 with 1 Axes>"
      ]
     },
     "metadata": {
      "needs_background": "light"
     },
     "output_type": "display_data"
    },
    {
     "data": {
      "image/png": "[encoded data removed]",
      "text/plain": [
       "<Figure size 576x360 with 1 Axes>"
      ]
     },
     "metadata": {
      "needs_background": "light"
     },
     "output_type": "display_data"
    },
    {
     "data": {
      "image/png": "[encoded data removed]",
      "text/plain": [
       "<Figure size 576x360 with 1 Axes>"
      ]
     },
     "metadata": {
      "needs_background": "light"
     },
     "output_type": "display_data"
    }
   ],
   "source": [
    "#Построим гистограмму распределения суммарной концентрации для каждого этапа\n",
    "\n",
    "steps = {'rougher.input': rougher_input_concentration, \n",
    "         'rougher.output': rougher_output_concentration, \n",
    "         'primary_cleaner.output': primary_cleaner_output_concentration, \n",
    "         'final.output': final_output_concentration}\n",
    "\n",
    "for step in steps.keys():\n",
    "\n",
    "    plt.figure(figsize=[8, 5])\n",
    "    plt.xlim(-5, 100)\n",
    "    plt.title(label = 'Суммарная концентрация веществ \\n стадия ' + step)\n",
    "    plt.xlabel('Концентрация, %')\n",
    "    plt.ylabel('Кол-во наблюдений')\n",
    "    plt.hist(steps[step], bins=range(0, 100, 2), color='dodgerblue', edgecolor='k');\n",
    "    plt.axvline(steps[step].median(), color='black', linestyle='dashed', linewidth=1, label='Медиана');\n",
    "    plt.legend(loc=\"upper right\")\n",
    "    plt.show()"
   ]
  },
  {
   "cell_type": "markdown",
   "metadata": {},
   "source": [
    "**Вывод**: После этапа флотации заметно увеличение суммарной концентрации веществ. После этапа первичной очистки концентрация немного уменьшается, а после второго этапа очистки снова увеличивается.<br><br>\n",
    "На всех этапах очистки были выявлены значения суммарной концентрации веществ в сырье/конценрате, равные 0. Вероятно, это аномалии, т.к. отсутствие в сырье/концентрате сразу всех веществ маловероятно. Удалим объекты с нулевыми значениями суммарной концентрации из обучающей выборки."
   ]
  },
  {
   "cell_type": "code",
   "execution_count": 39,
   "metadata": {},
   "outputs": [],
   "source": [
    "#Удалим из обуч. в. объекты с суммраной концентрацией веществ равной 0 для каждого этапа очистки.\n",
    "df_train = df_train[(df_train['rougher.input.feed_au'] != 0) & \n",
    "                    (df_train['rougher.input.feed_ag'] != 0) & \n",
    "                    (df_train['rougher.input.feed_pb'] != 0) & \n",
    "                    (df_train['rougher.input.feed_sol'] != 0)]\n",
    "df_train = df_train[(df_train['rougher.output.concentrate_au'] != 0) & \n",
    "                    (df_train['rougher.output.concentrate_ag'] != 0) & \n",
    "                    (df_train['rougher.output.concentrate_pb'] != 0) & \n",
    "                    (df_train['rougher.output.concentrate_sol'] != 0)]\n",
    "df_train = df_train[(df_train['primary_cleaner.output.concentrate_au'] != 0) & \n",
    "                    (df_train['primary_cleaner.output.concentrate_ag'] != 0) & \n",
    "                    (df_train['primary_cleaner.output.concentrate_pb'] != 0) & \n",
    "                    (df_train['primary_cleaner.output.concentrate_sol'] != 0)]\n",
    "df_train = df_train[(df_train['final.output.concentrate_au'] != 0) & \n",
    "                    (df_train['final.output.concentrate_ag'] != 0) & \n",
    "                    (df_train['final.output.concentrate_pb'] != 0) & \n",
    "                    (df_train['final.output.concentrate_sol'] != 0)]"
   ]
  },
  {
   "cell_type": "markdown",
   "metadata": {},
   "source": [
    "## Модель"
   ]
  },
  {
   "cell_type": "markdown",
   "metadata": {},
   "source": [
    "**Напишем функцию для вычисления итоговой sMAPE.**"
   ]
  },
  {
   "cell_type": "code",
   "execution_count": 40,
   "metadata": {},
   "outputs": [],
   "source": [
    "#Напишем функцию для вычисления sMAPE с аргументами: целевой признак, предсказания модели\n",
    "def smape(targ, pred):\n",
    "    a = abs(targ - pred) #числитель\n",
    "    b = (abs(targ) + abs(pred))/2 #знаменатель\n",
    "    result = ((a/b).sum()/len(targ)) * 100\n",
    "    \n",
    "    return result"
   ]
  },
  {
   "cell_type": "code",
   "execution_count": 41,
   "metadata": {},
   "outputs": [],
   "source": [
    "#Напишем функцию для вычисления итоговой sMAPE с аргументами: sMAPE этапа rougher, - этапа final\n",
    "def smape_final(smape_r, smape_f):\n",
    "    result = smape_r * 0.25 + smape_f * 0.75\n",
    "    \n",
    "    return result"
   ]
  },
  {
   "cell_type": "markdown",
   "metadata": {},
   "source": [
    "**Обучим разные модели и оценим их качество кросс-валидацией. Выберем лучшую модель и проверим её на тестовой выборке.**"
   ]
  },
  {
   "cell_type": "code",
   "execution_count": 42,
   "metadata": {},
   "outputs": [],
   "source": [
    "#Создадим scorer с финальной sMAPE для кросс-валидации\n",
    "smape_scorer = make_scorer(smape, greater_is_better = False)"
   ]
  },
  {
   "cell_type": "code",
   "execution_count": 43,
   "metadata": {},
   "outputs": [],
   "source": [
    "state = np.random.RandomState(12345)"
   ]
  },
  {
   "cell_type": "markdown",
   "metadata": {},
   "source": [
    "Выделим из обучающей выборки только те признаки, которые есть в тестовой выборке."
   ]
  },
  {
   "cell_type": "code",
   "execution_count": 44,
   "metadata": {},
   "outputs": [],
   "source": [
    "df_train_models = df_train[list(df_test.columns)]"
   ]
  },
  {
   "cell_type": "code",
   "execution_count": 45,
   "metadata": {
    "scrolled": true
   },
   "outputs": [],
   "source": [
    "#исключим признак 'date'\n",
    "df_train_models = df_train_models.drop(['date'], axis=1)"
   ]
  },
  {
   "cell_type": "code",
   "execution_count": 46,
   "metadata": {},
   "outputs": [],
   "source": [
    "#Обозначим признаки и целевой признак\n",
    "features_train = df_train_models\n",
    "target_rougher_train = df_train['rougher.output.recovery']\n",
    "target_final_train = df_train['final.output.recovery']"
   ]
  },
  {
   "cell_type": "markdown",
   "metadata": {},
   "source": [
    "**Решающее дерево**"
   ]
  },
  {
   "cell_type": "markdown",
   "metadata": {},
   "source": [
    "Вычислим sMAPE для модели \"Решающее дерево\""
   ]
  },
  {
   "cell_type": "code",
   "execution_count": 47,
   "metadata": {},
   "outputs": [
    {
     "name": "stdout",
     "output_type": "stream",
     "text": [
      "9.306249213352297 1\n",
      "9.022468527243579 2\n",
      "8.894948412843105 3\n",
      "9.13099040476403 4\n",
      "9.556594287977797 5\n",
      "10.09537590831251 6\n",
      "10.58526046313914 7\n",
      "10.556471301019121 8\n",
      "10.85858682847651 9\n",
      "Минимальная sMAPE: 8.894948412843105 , max_depth = 3\n",
      "CPU times: total: 2min 35s\n",
      "Wall time: 2min 50s\n"
     ]
    }
   ],
   "source": [
    "%%time\n",
    "\n",
    "best_tree_smape = 100\n",
    "best_depth = 0\n",
    "for depth in range(1, 10, 1):\n",
    "    model_tree_r = DecisionTreeRegressor(max_depth=depth, random_state=state)\n",
    "    smape_r = cross_val_score(model_tree_r,\n",
    "                              features_train,\n",
    "                              target_rougher_train,\n",
    "                              scoring=smape_scorer,\n",
    "                              cv=5)\n",
    "    final_smape_r = smape_r.mean()\n",
    "\n",
    "    model_tree_f = DecisionTreeRegressor(max_depth=depth, random_state=state)\n",
    "    smape_f = cross_val_score(model_tree_f, \n",
    "                                  features_train,\n",
    "                                  target_final_train,\n",
    "                                  scoring=smape_scorer,\n",
    "                                  cv=5)\n",
    "    final_smape_f = smape_f.mean()\n",
    "    \n",
    "    result_smape = smape_final(final_smape_r, final_smape_f)*(-1)\n",
    "    print(result_smape, depth)\n",
    "    if result_smape < best_tree_smape:\n",
    "        best_tree_smape = result_smape\n",
    "        best_depth = depth\n",
    "        \n",
    "print('Минимальная sMAPE:', best_tree_smape, ', max_depth =', best_depth)"
   ]
  },
  {
   "cell_type": "markdown",
   "metadata": {},
   "source": [
    "**Случайный лес**"
   ]
  },
  {
   "cell_type": "markdown",
   "metadata": {},
   "source": [
    "Вычислим sMAPE для модели \"Случайный лес\""
   ]
  },
  {
   "cell_type": "code",
   "execution_count": 58,
   "metadata": {
    "scrolled": false
   },
   "outputs": [
    {
     "name": "stdout",
     "output_type": "stream",
     "text": [
      "8.739121723127836 10 2\n",
      "8.438600925664765 10 4\n",
      "8.732715033964755 10 6\n",
      "9.137536360433366 10 8\n",
      "8.741963289481836 20 2\n",
      "8.503048927786761 20 4\n",
      "8.72225327061026 20 6\n",
      "9.08277149575039 20 8\n",
      "8.707935701918029 30 2\n",
      "8.45456802242029 30 4\n",
      "8.62935849969158 30 6\n",
      "8.921072221752373 30 8\n",
      "8.69326091923553 40 2\n",
      "8.410542222026999 40 4\n",
      "8.559748078733179 40 6\n",
      "8.836840406728413 40 8\n",
      "8.682360603848947 50 2\n",
      "8.417993558804916 50 4\n",
      "8.603868234920075 50 6\n",
      "8.84787508805575 50 8\n",
      "Минимальная sMAPE: 8.410542222026999 , n_estimators = 40 , max_depth = 4\n",
      "CPU times: total: 2h 15min 19s\n",
      "Wall time: 2h 19min 39s\n"
     ]
    }
   ],
   "source": [
    "%%time\n",
    "#Найёдм минимальную sMAPE для различных гиперпараметров\n",
    "\n",
    "best_forest_smape = 100\n",
    "best_est = 0\n",
    "best_depth = 0\n",
    "for est in range(10, 51, 10):\n",
    "    for depth in range(2, 10, 2):\n",
    "        model_forest_r = RandomForestRegressor(n_estimators=est, max_depth=depth, random_state=state)\n",
    "        smape_r = cross_val_score(model_forest_r,\n",
    "                                  features_train,\n",
    "                                  target_rougher_train,\n",
    "                                  scoring=smape_scorer,\n",
    "                                  cv=5)\n",
    "        final_smape_r = smape_r.mean()\n",
    "\n",
    "        model_forest_f = RandomForestRegressor(n_estimators=est, max_depth=depth, random_state=state)\n",
    "        smape_f = cross_val_score(model_forest_f,\n",
    "                                features_train,\n",
    "                                target_final_train,\n",
    "                                scoring=smape_scorer,\n",
    "                                cv=5)\n",
    "        final_smape_f = smape_f.mean()\n",
    "        \n",
    "        result_smape = smape_final(final_smape_r, final_smape_f)*(-1)\n",
    "        print(result_smape, est, depth)\n",
    "        if result_smape < best_forest_smape:\n",
    "            best_forest_smape = result_smape\n",
    "            best_est = est\n",
    "            best_depth = depth\n",
    "        \n",
    "print('Минимальная sMAPE:', best_forest_smape, ', n_estimators =', best_est,  ', max_depth =', best_depth)"
   ]
  },
  {
   "cell_type": "markdown",
   "metadata": {},
   "source": [
    "**Линейная регрессия**"
   ]
  },
  {
   "cell_type": "markdown",
   "metadata": {},
   "source": [
    "Вычислим sMAPE для модели \"Линейная регрессия\""
   ]
  },
  {
   "cell_type": "code",
   "execution_count": 50,
   "metadata": {},
   "outputs": [
    {
     "name": "stdout",
     "output_type": "stream",
     "text": [
      "sMAPE: 7.270025499957147\n",
      "CPU times: user 2.52 s, sys: 7.58 s, total: 10.1 s\n",
      "Wall time: 10.1 s\n"
     ]
    }
   ],
   "source": [
    "%%time\n",
    "\n",
    "model_regression_rougher = LinearRegression()\n",
    "smape_r = cross_val_score(model_regression_rougher,\n",
    "                                  features_train,\n",
    "                                  target_rougher_train,\n",
    "                                  scoring=smape_scorer,\n",
    "                                  cv=5)\n",
    "final_smape_r = smape_r.mean()\n",
    "\n",
    "model_regression_final = LinearRegression()\n",
    "smape_f = cross_val_score(model_regression_final,\n",
    "                                  features_train,\n",
    "                                  target_rougher_train,\n",
    "                                  scoring=smape_scorer,\n",
    "                                  cv=5)\n",
    "final_smape_f = smape_f.mean()\n",
    "\n",
    "result_smape = smape_final(final_smape_r, final_smape_f)*(-1)\n",
    "print('sMAPE:', result_smape)"
   ]
  },
  {
   "cell_type": "markdown",
   "metadata": {},
   "source": [
    "**Вывод**: Минимальную метрику sMAPE = 7.27 показала модель \"Линейна регрессия\"."
   ]
  },
  {
   "cell_type": "markdown",
   "metadata": {},
   "source": [
    "**Подготовим тестовую выборку для проверки модели**"
   ]
  },
  {
   "cell_type": "code",
   "execution_count": 51,
   "metadata": {},
   "outputs": [],
   "source": [
    "#Выделим из df_full столбцы с датой и целевыми признаками\n",
    "targets_for_test = df_full[['date', 'rougher.output.recovery', 'final.output.recovery']]"
   ]
  },
  {
   "cell_type": "code",
   "execution_count": 52,
   "metadata": {},
   "outputs": [],
   "source": [
    "#Добавим целевые признаки в тестовую выборку\n",
    "df_test_targets = df_test.merge(targets_for_test, on='date', how='left')"
   ]
  },
  {
   "cell_type": "code",
   "execution_count": 53,
   "metadata": {},
   "outputs": [],
   "source": [
    "#Выделим признаки и целевой признак\n",
    "features_test = df_test_targets.drop(['date', 'rougher.output.recovery', 'final.output.recovery'], axis=1)\n",
    "target_rougher_test = df_test_targets['rougher.output.recovery']\n",
    "target_final_test = df_test_targets['final.output.recovery']"
   ]
  },
  {
   "cell_type": "markdown",
   "metadata": {},
   "source": [
    "**Проверим модель на тестовой выборке**"
   ]
  },
  {
   "cell_type": "code",
   "execution_count": 54,
   "metadata": {},
   "outputs": [],
   "source": [
    "model_regression = LinearRegression()"
   ]
  },
  {
   "cell_type": "code",
   "execution_count": 55,
   "metadata": {},
   "outputs": [],
   "source": [
    "#Обучим модель для предск. 'rougher.output.recovery'\n",
    "model_regression.fit(features_train, target_rougher_train)\n",
    "predictions_rougher_test = model_regression.predict(features_test)"
   ]
  },
  {
   "cell_type": "code",
   "execution_count": 56,
   "metadata": {},
   "outputs": [],
   "source": [
    "#Обучим модель для предск. 'final.output.recovery'\n",
    "model_regression.fit(features_train, target_final_train)\n",
    "predictions_final_test = model_regression.predict(features_test)"
   ]
  },
  {
   "cell_type": "code",
   "execution_count": 57,
   "metadata": {
    "scrolled": false
   },
   "outputs": [
    {
     "name": "stdout",
     "output_type": "stream",
     "text": [
      "Итоговое sMAPE = 9.342448724813984\n"
     ]
    }
   ],
   "source": [
    "print('Итоговое sMAPE =', \n",
    "      smape_final(smape(target_rougher_test, predictions_rougher_test), smape(target_final_test, predictions_final_test)))"
   ]
  },
  {
   "cell_type": "markdown",
   "metadata": {},
   "source": [
    "**Сравним подготовленную модель с константной моделью, которая предсказывает медиану по целевому признаку**"
   ]
  },
  {
   "cell_type": "code",
   "execution_count": 58,
   "metadata": {},
   "outputs": [
    {
     "name": "stdout",
     "output_type": "stream",
     "text": [
      "Итоговое sMAPE для константной модели= 9.440747843838647\n"
     ]
    }
   ],
   "source": [
    "#Объявим константные модели\n",
    "dummy_regression_r = DummyRegressor(strategy=\"median\")\n",
    "dummy_regression_f = DummyRegressor(strategy=\"median\")\n",
    "\n",
    "#Обучим модели\n",
    "dummy_regression_r.fit(features_train, target_rougher_train)\n",
    "dummy_regression_f.fit(features_train, target_final_train)\n",
    "\n",
    "#Получим предсказания моделей\n",
    "dummy_predictions_r = dummy_regression_r.predict(features_test)\n",
    "dummy_predictions_f = dummy_regression_f.predict(features_test)\n",
    "\n",
    "#Вычислим sMAPE\n",
    "print('Итоговое sMAPE для константной модели =',\n",
    "      smape_final(smape(target_rougher_test, dummy_predictions_r), smape(target_final_test, dummy_predictions_f)))"
   ]
  },
  {
   "cell_type": "markdown",
   "metadata": {},
   "source": [
    "**Вывод**: Подготовленная модель \"Линейная регрессия\" показала sMAPE меньше, чем константная модель, что означает хорошее качество подготовленной модели."
   ]
  },
  {
   "cell_type": "markdown",
   "metadata": {},
   "source": [
    "## Общий вывод"
   ]
  },
  {
   "cell_type": "markdown",
   "metadata": {},
   "source": [
    "По условиям задачи необходимо было подготовить прототип модели машинного обучения для оптимизирации производства, чтобы не запускать предприятие с убыточными характеристиками. Мордель должна предсказать коэффициент восстановления золота из золотосодержащей руды по имеющимся характеристикам. \n",
    "\n",
    "На первом этапе работы была проведена подготовка данных и заполнены пропущенные значения.\n",
    "\n",
    "На втором этапе было проведено исследование изменения концетрации металлов по мере прохождения этапов очистки. Исследование показало, что:\n",
    "- Доля золота(Au) заметно увеличивается по мере прохождения всех этапов очистки;\n",
    "- Доля серебра(Ag) в сырье, в черновом конценрате после флотации и в черновом концентрате после первого этапа очистки остаётся примерно на одном уровне, а в финальном концентрате уменьшается почти в два раза;\n",
    "- Доля свинца(Pb) увеличивается в два раза в черновом концентрате после флотации и растёт дальше по мере прохождения очистки, но уже не так интенсивно.\n",
    "\n",
    "Также было исследовано изменение суммарной концентрации всех веществ на различных этапах очистки. Было выявлено, что после этапа флотации суммарная концентрация веществ заметно увеличивается, после этапа первичной очистки немного уменьшается, а после второго этапа очистки снова увеличивается.\n",
    "\n",
    "На третьем этапе работы был подготовлен прототип модели машинного обучения, метрика sMAPE которой составила 9,34 на тестовой выборке. Было проведено сравнение sMAPE подготовленной модели и константнйо модели, предсказывающей медиану целевого признака. sMAPE подготовленной модели оказалось меньше, чем у константной модели: 9,34 и 9,44 соответственно, что означает хорошее качество подготовленной модели."
   ]
  },
  {
   "cell_type": "code",
   "execution_count": null,
   "metadata": {},
   "outputs": [],
   "source": []
  }
 ],
 "metadata": {
  "ExecuteTimeLog": [
   {
    "duration": 368,
    "start_time": "2023-02-27T07:56:26.562Z"
   },
   {
    "duration": 57,
    "start_time": "2023-02-27T07:57:59.605Z"
   },
   {
    "duration": 822,
    "start_time": "2023-02-27T07:58:06.913Z"
   },
   {
    "duration": 30,
    "start_time": "2023-02-27T07:58:16.249Z"
   },
   {
    "duration": 16,
    "start_time": "2023-02-27T08:02:45.984Z"
   },
   {
    "duration": 17,
    "start_time": "2023-02-27T08:02:52.550Z"
   },
   {
    "duration": 9,
    "start_time": "2023-03-09T09:32:40.836Z"
   },
   {
    "duration": 0,
    "start_time": "2023-03-09T09:33:46.850Z"
   },
   {
    "duration": 48,
    "start_time": "2023-03-09T09:33:48.376Z"
   },
   {
    "duration": 22,
    "start_time": "2023-03-09T09:34:03.940Z"
   },
   {
    "duration": 0,
    "start_time": "2023-03-09T09:37:21.248Z"
   },
   {
    "duration": 55,
    "start_time": "2023-03-09T09:37:28.108Z"
   },
   {
    "duration": 1613,
    "start_time": "2023-03-09T09:46:09.252Z"
   },
   {
    "duration": 143,
    "start_time": "2023-03-09T09:46:13.575Z"
   },
   {
    "duration": 1783,
    "start_time": "2023-03-09T09:46:42.387Z"
   },
   {
    "duration": 59,
    "start_time": "2023-03-09T09:50:05.147Z"
   },
   {
    "duration": 44,
    "start_time": "2023-03-09T09:50:08.605Z"
   },
   {
    "duration": 8,
    "start_time": "2023-03-09T09:50:12.473Z"
   },
   {
    "duration": 6,
    "start_time": "2023-03-09T09:50:13.703Z"
   },
   {
    "duration": 18,
    "start_time": "2023-03-09T09:50:14.660Z"
   },
   {
    "duration": 4,
    "start_time": "2023-03-09T09:56:10.506Z"
   },
   {
    "duration": 5,
    "start_time": "2023-03-09T09:56:11.329Z"
   },
   {
    "duration": 4,
    "start_time": "2023-03-09T09:56:12.848Z"
   },
   {
    "duration": 15,
    "start_time": "2023-03-09T09:56:15.755Z"
   },
   {
    "duration": 224,
    "start_time": "2023-03-09T09:56:16.305Z"
   },
   {
    "duration": 108,
    "start_time": "2023-03-09T09:56:19.000Z"
   },
   {
    "duration": 11,
    "start_time": "2023-03-09T09:56:21.629Z"
   },
   {
    "duration": 16,
    "start_time": "2023-03-09T09:56:25.430Z"
   },
   {
    "duration": 13,
    "start_time": "2023-03-09T09:56:26.635Z"
   },
   {
    "duration": 192,
    "start_time": "2023-03-09T09:56:27.898Z"
   },
   {
    "duration": 1390,
    "start_time": "2023-03-09T09:56:30.113Z"
   },
   {
    "duration": 1210,
    "start_time": "2023-03-09T09:56:31.688Z"
   },
   {
    "duration": 1252,
    "start_time": "2023-03-09T09:56:32.900Z"
   },
   {
    "duration": 786,
    "start_time": "2023-03-09T09:56:39.970Z"
   },
   {
    "duration": 603,
    "start_time": "2023-03-09T09:57:04.278Z"
   },
   {
    "duration": 77,
    "start_time": "2023-03-09T10:04:30.274Z"
   },
   {
    "duration": 372,
    "start_time": "2023-03-09T10:07:45.914Z"
   },
   {
    "duration": 437,
    "start_time": "2023-03-09T10:08:10.165Z"
   },
   {
    "duration": 479,
    "start_time": "2023-03-09T10:12:13.605Z"
   },
   {
    "duration": 423,
    "start_time": "2023-03-09T10:12:59.049Z"
   },
   {
    "duration": 400,
    "start_time": "2023-03-09T10:13:08.289Z"
   },
   {
    "duration": 430,
    "start_time": "2023-03-09T10:16:12.658Z"
   },
   {
    "duration": 452,
    "start_time": "2023-03-09T10:16:20.651Z"
   },
   {
    "duration": 385,
    "start_time": "2023-03-09T10:16:36.940Z"
   },
   {
    "duration": 384,
    "start_time": "2023-03-09T10:16:45.629Z"
   },
   {
    "duration": 362,
    "start_time": "2023-03-09T10:17:05.437Z"
   },
   {
    "duration": 431,
    "start_time": "2023-03-09T10:18:15.373Z"
   },
   {
    "duration": 420,
    "start_time": "2023-03-09T10:18:52.806Z"
   },
   {
    "duration": 377,
    "start_time": "2023-03-09T10:19:04.253Z"
   },
   {
    "duration": 388,
    "start_time": "2023-03-09T10:19:23.141Z"
   },
   {
    "duration": 375,
    "start_time": "2023-03-09T10:19:49.839Z"
   },
   {
    "duration": 504,
    "start_time": "2023-03-09T10:21:41.529Z"
   },
   {
    "duration": 608,
    "start_time": "2023-03-09T10:23:14.850Z"
   },
   {
    "duration": 509,
    "start_time": "2023-03-09T10:23:43.242Z"
   },
   {
    "duration": 685,
    "start_time": "2023-03-09T10:24:06.033Z"
   },
   {
    "duration": 715,
    "start_time": "2023-03-09T10:25:12.600Z"
   },
   {
    "duration": 612,
    "start_time": "2023-03-09T10:25:24.003Z"
   },
   {
    "duration": 600,
    "start_time": "2023-03-09T10:26:06.926Z"
   },
   {
    "duration": 677,
    "start_time": "2023-03-09T10:26:24.157Z"
   },
   {
    "duration": 628,
    "start_time": "2023-03-09T10:27:18.402Z"
   },
   {
    "duration": 14,
    "start_time": "2023-03-09T10:29:58.834Z"
   },
   {
    "duration": 604,
    "start_time": "2023-03-09T10:35:12.158Z"
   },
   {
    "duration": 648,
    "start_time": "2023-03-09T10:35:56.901Z"
   },
   {
    "duration": 692,
    "start_time": "2023-03-09T10:39:14.074Z"
   },
   {
    "duration": 3,
    "start_time": "2023-03-09T10:42:09.255Z"
   },
   {
    "duration": 3,
    "start_time": "2023-03-09T10:42:10.443Z"
   },
   {
    "duration": 2,
    "start_time": "2023-03-09T10:42:12.318Z"
   },
   {
    "duration": 6,
    "start_time": "2023-03-09T10:42:12.872Z"
   },
   {
    "duration": 3,
    "start_time": "2023-03-09T10:42:15.004Z"
   },
   {
    "duration": 2,
    "start_time": "2023-03-09T10:42:15.540Z"
   },
   {
    "duration": 6,
    "start_time": "2023-03-09T10:42:17.630Z"
   },
   {
    "duration": 3,
    "start_time": "2023-03-09T10:42:19.158Z"
   },
   {
    "duration": 3,
    "start_time": "2023-03-09T10:42:20.857Z"
   },
   {
    "duration": 5,
    "start_time": "2023-03-09T10:42:21.406Z"
   },
   {
    "duration": 3,
    "start_time": "2023-03-09T10:42:22.406Z"
   },
   {
    "duration": 3,
    "start_time": "2023-03-09T10:42:23.902Z"
   },
   {
    "duration": 6,
    "start_time": "2023-03-09T10:42:24.380Z"
   },
   {
    "duration": 8,
    "start_time": "2023-03-09T10:42:24.804Z"
   },
   {
    "duration": 138,
    "start_time": "2023-03-09T10:42:27.203Z"
   },
   {
    "duration": 1275,
    "start_time": "2023-03-09T10:42:28.054Z"
   },
   {
    "duration": 37,
    "start_time": "2023-03-09T11:10:52.976Z"
   },
   {
    "duration": 1624,
    "start_time": "2023-03-09T11:12:42.961Z"
   },
   {
    "duration": 763,
    "start_time": "2023-03-09T11:12:44.588Z"
   },
   {
    "duration": 94,
    "start_time": "2023-03-09T11:12:45.353Z"
   },
   {
    "duration": 62,
    "start_time": "2023-03-09T11:12:45.449Z"
   },
   {
    "duration": 9,
    "start_time": "2023-03-09T11:12:45.523Z"
   },
   {
    "duration": 16,
    "start_time": "2023-03-09T11:12:45.534Z"
   },
   {
    "duration": 47,
    "start_time": "2023-03-09T11:12:45.551Z"
   },
   {
    "duration": 4,
    "start_time": "2023-03-09T11:12:45.600Z"
   },
   {
    "duration": 38,
    "start_time": "2023-03-09T11:12:45.605Z"
   },
   {
    "duration": 47,
    "start_time": "2023-03-09T11:12:45.646Z"
   },
   {
    "duration": 36,
    "start_time": "2023-03-09T11:12:45.695Z"
   },
   {
    "duration": 312,
    "start_time": "2023-03-09T11:12:45.738Z"
   },
   {
    "duration": 146,
    "start_time": "2023-03-09T11:12:46.052Z"
   },
   {
    "duration": 35,
    "start_time": "2023-03-09T11:12:46.202Z"
   },
   {
    "duration": 17,
    "start_time": "2023-03-09T11:12:46.244Z"
   },
   {
    "duration": 14,
    "start_time": "2023-03-09T11:12:46.264Z"
   },
   {
    "duration": 208,
    "start_time": "2023-03-09T11:12:46.280Z"
   },
   {
    "duration": 1483,
    "start_time": "2023-03-09T11:12:46.490Z"
   },
   {
    "duration": 1500,
    "start_time": "2023-03-09T11:12:47.975Z"
   },
   {
    "duration": 1547,
    "start_time": "2023-03-09T11:12:49.477Z"
   },
   {
    "duration": 859,
    "start_time": "2023-03-09T11:12:51.026Z"
   },
   {
    "duration": 733,
    "start_time": "2023-03-09T11:12:51.887Z"
   },
   {
    "duration": 12,
    "start_time": "2023-03-09T11:12:52.622Z"
   },
   {
    "duration": 19,
    "start_time": "2023-03-09T11:12:52.636Z"
   },
   {
    "duration": 4,
    "start_time": "2023-03-09T11:12:52.657Z"
   },
   {
    "duration": 22,
    "start_time": "2023-03-09T11:12:52.663Z"
   },
   {
    "duration": 16,
    "start_time": "2023-03-09T11:12:52.687Z"
   },
   {
    "duration": 4,
    "start_time": "2023-03-09T11:12:52.706Z"
   },
   {
    "duration": 7,
    "start_time": "2023-03-09T11:12:52.712Z"
   },
   {
    "duration": 14,
    "start_time": "2023-03-09T11:12:52.724Z"
   },
   {
    "duration": 7,
    "start_time": "2023-03-09T11:12:52.740Z"
   },
   {
    "duration": 15,
    "start_time": "2023-03-09T11:12:52.749Z"
   },
   {
    "duration": 6,
    "start_time": "2023-03-09T11:12:52.766Z"
   },
   {
    "duration": 30,
    "start_time": "2023-03-09T11:12:52.774Z"
   },
   {
    "duration": 19,
    "start_time": "2023-03-09T11:12:52.807Z"
   },
   {
    "duration": 19,
    "start_time": "2023-03-09T11:12:52.829Z"
   },
   {
    "duration": 207,
    "start_time": "2023-03-09T11:12:52.850Z"
   },
   {
    "duration": 1397,
    "start_time": "2023-03-09T11:12:53.059Z"
   },
   {
    "duration": 26,
    "start_time": "2023-03-09T11:12:54.459Z"
   },
   {
    "duration": 5,
    "start_time": "2023-03-09T11:12:54.487Z"
   },
   {
    "duration": 33,
    "start_time": "2023-03-09T11:12:54.497Z"
   },
   {
    "duration": 8,
    "start_time": "2023-03-09T11:12:54.536Z"
   },
   {
    "duration": 17,
    "start_time": "2023-03-09T11:12:54.546Z"
   },
   {
    "duration": 15,
    "start_time": "2023-03-09T11:12:54.566Z"
   },
   {
    "duration": 8,
    "start_time": "2023-03-09T11:12:54.583Z"
   },
   {
    "duration": 7,
    "start_time": "2023-03-09T11:12:54.593Z"
   },
   {
    "duration": 26256,
    "start_time": "2023-03-09T11:12:54.602Z"
   },
   {
    "duration": 153941,
    "start_time": "2023-03-09T11:13:20.864Z"
   },
   {
    "duration": 619948,
    "start_time": "2023-03-09T11:15:54.807Z"
   },
   {
    "duration": 5769,
    "start_time": "2023-03-09T11:26:14.757Z"
   },
   {
    "duration": 4,
    "start_time": "2023-03-09T11:26:20.528Z"
   },
   {
    "duration": 109,
    "start_time": "2023-03-09T11:26:20.534Z"
   },
   {
    "duration": 14,
    "start_time": "2023-03-09T11:26:20.651Z"
   },
   {
    "duration": 6,
    "start_time": "2023-03-09T11:26:20.674Z"
   },
   {
    "duration": 6894,
    "start_time": "2023-03-09T11:26:20.682Z"
   },
   {
    "duration": 7137,
    "start_time": "2023-03-09T11:26:27.578Z"
   },
   {
    "duration": 12,
    "start_time": "2023-03-09T11:26:34.718Z"
   },
   {
    "duration": 3,
    "start_time": "2023-03-09T11:29:10.915Z"
   },
   {
    "duration": 154,
    "start_time": "2023-03-09T11:29:12.218Z"
   },
   {
    "duration": 280,
    "start_time": "2023-03-09T11:29:28.562Z"
   },
   {
    "duration": 4,
    "start_time": "2023-03-09T11:29:43.468Z"
   },
   {
    "duration": 148,
    "start_time": "2023-03-09T11:29:44.274Z"
   },
   {
    "duration": 43,
    "start_time": "2023-03-09T11:29:45.191Z"
   },
   {
    "duration": 7,
    "start_time": "2023-03-09T11:29:46.478Z"
   },
   {
    "duration": 6,
    "start_time": "2023-03-09T11:32:44.869Z"
   },
   {
    "duration": 19,
    "start_time": "2023-03-09T11:47:57.872Z"
   },
   {
    "duration": 16,
    "start_time": "2023-03-09T11:48:09.117Z"
   },
   {
    "duration": 102,
    "start_time": "2023-03-09T11:48:30.660Z"
   },
   {
    "duration": 80,
    "start_time": "2023-03-09T11:48:37.872Z"
   },
   {
    "duration": 14,
    "start_time": "2023-03-09T11:48:42.504Z"
   },
   {
    "duration": 13,
    "start_time": "2023-03-09T11:48:55.169Z"
   },
   {
    "duration": 14,
    "start_time": "2023-03-09T11:49:08.559Z"
   },
   {
    "duration": 14,
    "start_time": "2023-03-09T11:49:17.359Z"
   },
   {
    "duration": 14,
    "start_time": "2023-03-09T11:49:23.787Z"
   },
   {
    "duration": 6,
    "start_time": "2023-03-09T11:51:25.885Z"
   },
   {
    "duration": 7096,
    "start_time": "2023-03-09T11:51:26.950Z"
   },
   {
    "duration": 7100,
    "start_time": "2023-03-09T11:51:34.048Z"
   },
   {
    "duration": 11,
    "start_time": "2023-03-09T11:51:42.971Z"
   },
   {
    "duration": 4,
    "start_time": "2023-03-09T11:51:57.821Z"
   },
   {
    "duration": 377,
    "start_time": "2023-03-09T11:51:59.469Z"
   },
   {
    "duration": 204,
    "start_time": "2023-03-09T11:52:00.822Z"
   },
   {
    "duration": 11,
    "start_time": "2023-03-09T11:52:01.899Z"
   },
   {
    "duration": 14,
    "start_time": "2023-03-09T11:52:09.961Z"
   },
   {
    "duration": 4262,
    "start_time": "2023-03-09T12:01:43.469Z"
   },
   {
    "duration": 1529,
    "start_time": "2023-03-09T12:03:43.550Z"
   },
   {
    "duration": 708,
    "start_time": "2023-03-09T12:03:45.081Z"
   },
   {
    "duration": 80,
    "start_time": "2023-03-09T12:03:45.790Z"
   },
   {
    "duration": 65,
    "start_time": "2023-03-09T12:03:45.873Z"
   },
   {
    "duration": 8,
    "start_time": "2023-03-09T12:03:45.940Z"
   },
   {
    "duration": 5,
    "start_time": "2023-03-09T12:03:45.950Z"
   },
   {
    "duration": 38,
    "start_time": "2023-03-09T12:03:45.957Z"
   },
   {
    "duration": 3,
    "start_time": "2023-03-09T12:03:45.997Z"
   },
   {
    "duration": 9,
    "start_time": "2023-03-09T12:03:46.002Z"
   },
   {
    "duration": 15,
    "start_time": "2023-03-09T12:03:46.014Z"
   },
   {
    "duration": 17,
    "start_time": "2023-03-09T12:03:46.033Z"
   },
   {
    "duration": 270,
    "start_time": "2023-03-09T12:03:46.052Z"
   },
   {
    "duration": 139,
    "start_time": "2023-03-09T12:03:46.324Z"
   },
   {
    "duration": 11,
    "start_time": "2023-03-09T12:03:46.465Z"
   },
   {
    "duration": 11,
    "start_time": "2023-03-09T12:03:46.478Z"
   },
   {
    "duration": 46,
    "start_time": "2023-03-09T12:03:46.491Z"
   },
   {
    "duration": 206,
    "start_time": "2023-03-09T12:03:46.539Z"
   },
   {
    "duration": 1403,
    "start_time": "2023-03-09T12:03:46.746Z"
   },
   {
    "duration": 1295,
    "start_time": "2023-03-09T12:03:48.151Z"
   },
   {
    "duration": 1401,
    "start_time": "2023-03-09T12:03:49.448Z"
   },
   {
    "duration": 605,
    "start_time": "2023-03-09T12:03:50.851Z"
   },
   {
    "duration": 814,
    "start_time": "2023-03-09T12:03:51.458Z"
   },
   {
    "duration": 3,
    "start_time": "2023-03-09T12:03:52.274Z"
   },
   {
    "duration": 4,
    "start_time": "2023-03-09T12:03:52.279Z"
   },
   {
    "duration": 3,
    "start_time": "2023-03-09T12:03:52.285Z"
   },
   {
    "duration": 17,
    "start_time": "2023-03-09T12:03:52.290Z"
   },
   {
    "duration": 28,
    "start_time": "2023-03-09T12:03:52.309Z"
   },
   {
    "duration": 3,
    "start_time": "2023-03-09T12:03:52.342Z"
   },
   {
    "duration": 7,
    "start_time": "2023-03-09T12:03:52.346Z"
   },
   {
    "duration": 5,
    "start_time": "2023-03-09T12:03:52.354Z"
   },
   {
    "duration": 6,
    "start_time": "2023-03-09T12:03:52.361Z"
   },
   {
    "duration": 14,
    "start_time": "2023-03-09T12:03:52.369Z"
   },
   {
    "duration": 6,
    "start_time": "2023-03-09T12:03:52.384Z"
   },
   {
    "duration": 5,
    "start_time": "2023-03-09T12:03:52.391Z"
   },
   {
    "duration": 16,
    "start_time": "2023-03-09T12:03:52.397Z"
   },
   {
    "duration": 26,
    "start_time": "2023-03-09T12:03:52.415Z"
   },
   {
    "duration": 175,
    "start_time": "2023-03-09T12:03:52.444Z"
   },
   {
    "duration": 1334,
    "start_time": "2023-03-09T12:03:52.621Z"
   },
   {
    "duration": 21,
    "start_time": "2023-03-09T12:03:53.957Z"
   },
   {
    "duration": 4,
    "start_time": "2023-03-09T12:03:53.979Z"
   },
   {
    "duration": 6,
    "start_time": "2023-03-09T12:03:53.984Z"
   },
   {
    "duration": 4,
    "start_time": "2023-03-09T12:03:53.991Z"
   },
   {
    "duration": 30,
    "start_time": "2023-03-09T12:03:53.998Z"
   },
   {
    "duration": 6,
    "start_time": "2023-03-09T12:03:54.030Z"
   },
   {
    "duration": 8,
    "start_time": "2023-03-09T12:03:54.038Z"
   },
   {
    "duration": 11,
    "start_time": "2023-03-09T12:03:54.047Z"
   },
   {
    "duration": 23749,
    "start_time": "2023-03-09T12:03:54.059Z"
   },
   {
    "duration": 142931,
    "start_time": "2023-03-09T12:04:17.810Z"
   },
   {
    "duration": 582763,
    "start_time": "2023-03-09T12:06:40.742Z"
   },
   {
    "duration": 3426,
    "start_time": "2023-03-09T12:16:23.506Z"
   },
   {
    "duration": 91,
    "start_time": "2023-03-09T12:16:26.936Z"
   },
   {
    "duration": 16,
    "start_time": "2023-03-09T12:16:27.036Z"
   },
   {
    "duration": 6,
    "start_time": "2023-03-09T12:16:27.054Z"
   },
   {
    "duration": 24,
    "start_time": "2023-03-09T12:16:27.061Z"
   },
   {
    "duration": 335,
    "start_time": "2023-03-09T12:16:27.087Z"
   },
   {
    "duration": 311,
    "start_time": "2023-03-09T12:16:27.424Z"
   },
   {
    "duration": 7,
    "start_time": "2023-03-09T12:16:27.741Z"
   },
   {
    "duration": 10,
    "start_time": "2023-03-09T12:16:27.821Z"
   },
   {
    "duration": 1475,
    "start_time": "2023-03-09T12:19:40.787Z"
   },
   {
    "duration": 697,
    "start_time": "2023-03-09T12:19:42.265Z"
   },
   {
    "duration": 68,
    "start_time": "2023-03-09T12:19:42.964Z"
   },
   {
    "duration": 42,
    "start_time": "2023-03-09T12:19:43.035Z"
   },
   {
    "duration": 6,
    "start_time": "2023-03-09T12:19:43.079Z"
   },
   {
    "duration": 11,
    "start_time": "2023-03-09T12:19:43.087Z"
   },
   {
    "duration": 38,
    "start_time": "2023-03-09T12:19:43.099Z"
   },
   {
    "duration": 3,
    "start_time": "2023-03-09T12:19:43.141Z"
   },
   {
    "duration": 5,
    "start_time": "2023-03-09T12:19:43.145Z"
   },
   {
    "duration": 5,
    "start_time": "2023-03-09T12:19:43.153Z"
   },
   {
    "duration": 14,
    "start_time": "2023-03-09T12:19:43.160Z"
   },
   {
    "duration": 312,
    "start_time": "2023-03-09T12:19:43.175Z"
   },
   {
    "duration": 100,
    "start_time": "2023-03-09T12:19:43.488Z"
   },
   {
    "duration": 11,
    "start_time": "2023-03-09T12:19:43.590Z"
   },
   {
    "duration": 13,
    "start_time": "2023-03-09T12:19:43.622Z"
   },
   {
    "duration": 12,
    "start_time": "2023-03-09T12:19:43.638Z"
   },
   {
    "duration": 256,
    "start_time": "2023-03-09T12:19:43.653Z"
   },
   {
    "duration": 1311,
    "start_time": "2023-03-09T12:19:43.911Z"
   },
   {
    "duration": 1220,
    "start_time": "2023-03-09T12:19:45.225Z"
   },
   {
    "duration": 1298,
    "start_time": "2023-03-09T12:19:46.447Z"
   },
   {
    "duration": 714,
    "start_time": "2023-03-09T12:19:47.748Z"
   },
   {
    "duration": 693,
    "start_time": "2023-03-09T12:19:48.465Z"
   },
   {
    "duration": 2,
    "start_time": "2023-03-09T12:19:49.160Z"
   },
   {
    "duration": 4,
    "start_time": "2023-03-09T12:19:49.164Z"
   },
   {
    "duration": 4,
    "start_time": "2023-03-09T12:19:49.170Z"
   },
   {
    "duration": 12,
    "start_time": "2023-03-09T12:19:49.176Z"
   },
   {
    "duration": 18,
    "start_time": "2023-03-09T12:19:49.190Z"
   },
   {
    "duration": 11,
    "start_time": "2023-03-09T12:19:49.212Z"
   },
   {
    "duration": 28,
    "start_time": "2023-03-09T12:19:49.225Z"
   },
   {
    "duration": 3,
    "start_time": "2023-03-09T12:19:49.256Z"
   },
   {
    "duration": 7,
    "start_time": "2023-03-09T12:19:49.261Z"
   },
   {
    "duration": 12,
    "start_time": "2023-03-09T12:19:49.270Z"
   },
   {
    "duration": 5,
    "start_time": "2023-03-09T12:19:49.283Z"
   },
   {
    "duration": 6,
    "start_time": "2023-03-09T12:19:49.290Z"
   },
   {
    "duration": 7,
    "start_time": "2023-03-09T12:19:49.297Z"
   },
   {
    "duration": 22,
    "start_time": "2023-03-09T12:19:49.306Z"
   },
   {
    "duration": 178,
    "start_time": "2023-03-09T12:19:49.330Z"
   },
   {
    "duration": 1413,
    "start_time": "2023-03-09T12:19:49.510Z"
   },
   {
    "duration": 21,
    "start_time": "2023-03-09T12:19:50.924Z"
   },
   {
    "duration": 4,
    "start_time": "2023-03-09T12:19:50.947Z"
   },
   {
    "duration": 4,
    "start_time": "2023-03-09T12:19:50.953Z"
   },
   {
    "duration": 4,
    "start_time": "2023-03-09T12:19:50.959Z"
   },
   {
    "duration": 11,
    "start_time": "2023-03-09T12:19:50.965Z"
   },
   {
    "duration": 13,
    "start_time": "2023-03-09T12:19:50.978Z"
   },
   {
    "duration": 28,
    "start_time": "2023-03-09T12:19:50.993Z"
   },
   {
    "duration": 3,
    "start_time": "2023-03-09T12:19:51.023Z"
   },
   {
    "duration": 24706,
    "start_time": "2023-03-09T12:19:51.028Z"
   },
   {
    "duration": 143033,
    "start_time": "2023-03-09T12:20:15.736Z"
   },
   {
    "duration": 617211,
    "start_time": "2023-03-09T12:22:38.771Z"
   },
   {
    "duration": 10097,
    "start_time": "2023-03-09T12:32:55.983Z"
   },
   {
    "duration": 9,
    "start_time": "2023-03-09T12:33:06.126Z"
   },
   {
    "duration": 90,
    "start_time": "2023-03-09T12:33:06.137Z"
   },
   {
    "duration": 24,
    "start_time": "2023-03-09T12:33:06.230Z"
   },
   {
    "duration": 8,
    "start_time": "2023-03-09T12:33:06.258Z"
   },
   {
    "duration": 511,
    "start_time": "2023-03-09T12:33:06.269Z"
   },
   {
    "duration": 1082,
    "start_time": "2023-03-09T12:33:06.786Z"
   },
   {
    "duration": 9,
    "start_time": "2023-03-09T12:33:07.871Z"
   },
   {
    "duration": 53,
    "start_time": "2023-03-09T12:33:07.882Z"
   }
  ],
  "kernelspec": {
   "display_name": "Python 3 (ipykernel)",
   "language": "python",
   "name": "python3"
  },
  "language_info": {
   "codemirror_mode": {
    "name": "ipython",
    "version": 3
   },
   "file_extension": ".py",
   "mimetype": "text/x-python",
   "name": "python",
   "nbconvert_exporter": "python",
   "pygments_lexer": "ipython3",
   "version": "3.8.10"
  },
  "toc": {
   "base_numbering": 1,
   "nav_menu": {},
   "number_sections": true,
   "sideBar": true,
   "skip_h1_title": true,
   "title_cell": "Содержание",
   "title_sidebar": "Contents",
   "toc_cell": true,
   "toc_position": {
    "height": "calc(100% - 180px)",
    "left": "10px",
    "top": "150px",
    "width": "165px"
   },
   "toc_section_display": true,
   "toc_window_display": true
  }
 },
 "nbformat": 4,
 "nbformat_minor": 2
}
