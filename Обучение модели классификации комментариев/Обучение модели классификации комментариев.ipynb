{
 "cells": [
  {
   "cell_type": "markdown",
   "metadata": {},
   "source": [
    "# Классификация комментариев"
   ]
  },
  {
   "cell_type": "markdown",
   "metadata": {},
   "source": [
    "**Задача**:<br>\n",
    "Разработать модель, которая будет определять токсичен текст комментария или нет. Значение метрики качества F1 модели на тестовой выборке должна быть не менее 0.75\n",
    "\n",
    "**Дано**:<br>\n",
    "Набор комментариев с разметкой о токсичности.\n",
    "\n",
    "**План решения**:\n",
    "1. Загрузить данные\n",
    "2. Подготовить корпус текстов: очистить тексты с помощью регулярных выражений и лемматизировать\n",
    "4. Разбить корпус текстов на обучающую и тестову выборки\n",
    "3. Рассчитать значения TF-IDF для обучающей и тестовой выборок\n",
    "5. Обучить разные модели и сравнить их метрики F1, выбрать лучшую модель\n",
    "6. Проверить значение метрики F1 лучшей модели на тестовой выборке"
   ]
  },
  {
   "cell_type": "markdown",
   "metadata": {},
   "source": [
    "## Подготовка"
   ]
  },
  {
   "cell_type": "code",
   "execution_count": 1,
   "metadata": {},
   "outputs": [
    {
     "name": "stderr",
     "output_type": "stream",
     "text": [
      "[nltk_data] Downloading package wordnet to /home/jovyan/nltk_data...\n",
      "[nltk_data]   Package wordnet is already up-to-date!\n",
      "[nltk_data] Downloading package stopwords to /home/jovyan/nltk_data...\n",
      "[nltk_data]   Package stopwords is already up-to-date!\n",
      "[nltk_data] Downloading package averaged_perceptron_tagger to\n",
      "[nltk_data]     /home/jovyan/nltk_data...\n",
      "[nltk_data]   Unzipping taggers/averaged_perceptron_tagger.zip.\n"
     ]
    }
   ],
   "source": [
    "#Импортируем библиотеки и модули\n",
    "import pandas as pd\n",
    "import numpy as np\n",
    "import nltk\n",
    "from nltk.stem import WordNetLemmatizer\n",
    "from nltk.corpus import stopwords as nltk_stopwords, wordnet\n",
    "nltk.download('wordnet')\n",
    "nltk.download('stopwords')\n",
    "nltk.download('averaged_perceptron_tagger')\n",
    "import re\n",
    "\n",
    "from sklearn.feature_extraction.text import CountVectorizer, TfidfVectorizer\n",
    "from sklearn.model_selection import train_test_split, cross_val_score, GridSearchCV\n",
    "from sklearn.metrics import f1_score\n",
    "from sklearn.linear_model import LogisticRegression\n",
    "from sklearn.ensemble import RandomForestClassifier\n",
    "from catboost import CatBoostClassifier"
   ]
  },
  {
   "cell_type": "code",
   "execution_count": 2,
   "metadata": {
    "scrolled": true
   },
   "outputs": [
    {
     "name": "stdout",
     "output_type": "stream",
     "text": [
      "Requirement already satisfied: spacy in /opt/conda/lib/python3.9/site-packages (3.2.0)\n",
      "Requirement already satisfied: cymem<2.1.0,>=2.0.2 in /opt/conda/lib/python3.9/site-packages (from spacy) (2.0.6)\n",
      "Requirement already satisfied: wasabi<1.1.0,>=0.8.1 in /opt/conda/lib/python3.9/site-packages (from spacy) (0.10.1)\n",
      "Requirement already satisfied: tqdm<5.0.0,>=4.38.0 in /opt/conda/lib/python3.9/site-packages (from spacy) (4.61.2)\n",
      "Requirement already satisfied: srsly<3.0.0,>=2.4.1 in /opt/conda/lib/python3.9/site-packages (from spacy) (2.4.4)\n",
      "Requirement already satisfied: spacy-legacy<3.1.0,>=3.0.8 in /opt/conda/lib/python3.9/site-packages (from spacy) (3.0.10)\n",
      "Requirement already satisfied: pathy>=0.3.5 in /opt/conda/lib/python3.9/site-packages (from spacy) (0.6.2)\n",
      "Requirement already satisfied: packaging>=20.0 in /opt/conda/lib/python3.9/site-packages (from spacy) (21.3)\n",
      "Requirement already satisfied: thinc<8.1.0,>=8.0.12 in /opt/conda/lib/python3.9/site-packages (from spacy) (8.0.17)\n",
      "Requirement already satisfied: langcodes<4.0.0,>=3.2.0 in /opt/conda/lib/python3.9/site-packages (from spacy) (3.3.0)\n",
      "Requirement already satisfied: spacy-loggers<2.0.0,>=1.0.0 in /opt/conda/lib/python3.9/site-packages (from spacy) (1.0.3)\n",
      "Requirement already satisfied: setuptools in /opt/conda/lib/python3.9/site-packages (from spacy) (49.6.0.post20210108)\n",
      "Requirement already satisfied: jinja2 in /opt/conda/lib/python3.9/site-packages (from spacy) (3.0.1)\n",
      "Requirement already satisfied: catalogue<2.1.0,>=2.0.6 in /opt/conda/lib/python3.9/site-packages (from spacy) (2.0.8)\n",
      "Requirement already satisfied: requests<3.0.0,>=2.13.0 in /opt/conda/lib/python3.9/site-packages (from spacy) (2.25.1)\n",
      "Requirement already satisfied: numpy>=1.15.0 in /opt/conda/lib/python3.9/site-packages (from spacy) (1.21.1)\n",
      "Requirement already satisfied: pydantic!=1.8,!=1.8.1,<1.9.0,>=1.7.4 in /opt/conda/lib/python3.9/site-packages (from spacy) (1.8.2)\n",
      "Requirement already satisfied: typer<0.5.0,>=0.3.0 in /opt/conda/lib/python3.9/site-packages (from spacy) (0.4.2)\n",
      "Requirement already satisfied: blis<0.8.0,>=0.4.0 in /opt/conda/lib/python3.9/site-packages (from spacy) (0.7.8)\n",
      "Requirement already satisfied: murmurhash<1.1.0,>=0.28.0 in /opt/conda/lib/python3.9/site-packages (from spacy) (1.0.8)\n",
      "Requirement already satisfied: preshed<3.1.0,>=3.0.2 in /opt/conda/lib/python3.9/site-packages (from spacy) (3.0.7)\n",
      "Requirement already satisfied: pyparsing!=3.0.5,>=2.0.2 in /opt/conda/lib/python3.9/site-packages (from packaging>=20.0->spacy) (2.4.7)\n",
      "Requirement already satisfied: smart-open<6.0.0,>=5.2.1 in /opt/conda/lib/python3.9/site-packages (from pathy>=0.3.5->spacy) (5.2.1)\n",
      "Requirement already satisfied: typing-extensions>=3.7.4.3 in /opt/conda/lib/python3.9/site-packages (from pydantic!=1.8,!=1.8.1,<1.9.0,>=1.7.4->spacy) (4.3.0)\n",
      "Requirement already satisfied: certifi>=2017.4.17 in /opt/conda/lib/python3.9/site-packages (from requests<3.0.0,>=2.13.0->spacy) (2022.6.15)\n",
      "Requirement already satisfied: urllib3<1.27,>=1.21.1 in /opt/conda/lib/python3.9/site-packages (from requests<3.0.0,>=2.13.0->spacy) (1.26.6)\n",
      "Requirement already satisfied: idna<3,>=2.5 in /opt/conda/lib/python3.9/site-packages (from requests<3.0.0,>=2.13.0->spacy) (2.10)\n",
      "Requirement already satisfied: chardet<5,>=3.0.2 in /opt/conda/lib/python3.9/site-packages (from requests<3.0.0,>=2.13.0->spacy) (4.0.0)\n",
      "Requirement already satisfied: click<9.0.0,>=7.1.1 in /opt/conda/lib/python3.9/site-packages (from typer<0.5.0,>=0.3.0->spacy) (8.1.3)\n",
      "Requirement already satisfied: MarkupSafe>=2.0 in /opt/conda/lib/python3.9/site-packages (from jinja2->spacy) (2.1.1)\n",
      "\u001b[38;5;3m⚠ As of spaCy v3.0, shortcuts like 'en' are deprecated. Please use the\n",
      "full pipeline package name 'en_core_web_sm' instead.\u001b[0m\n",
      "Collecting en-core-web-sm==3.2.0\n",
      "  Downloading https://github.com/explosion/spacy-models/releases/download/en_core_web_sm-3.2.0/en_core_web_sm-3.2.0-py3-none-any.whl (13.9 MB)\n",
      "\u001b[K     |████████████████████████████████| 13.9 MB 2.0 MB/s eta 0:00:01\n",
      "\u001b[?25hRequirement already satisfied: spacy<3.3.0,>=3.2.0 in /opt/conda/lib/python3.9/site-packages (from en-core-web-sm==3.2.0) (3.2.0)\n",
      "Requirement already satisfied: catalogue<2.1.0,>=2.0.6 in /opt/conda/lib/python3.9/site-packages (from spacy<3.3.0,>=3.2.0->en-core-web-sm==3.2.0) (2.0.8)\n",
      "Requirement already satisfied: numpy>=1.15.0 in /opt/conda/lib/python3.9/site-packages (from spacy<3.3.0,>=3.2.0->en-core-web-sm==3.2.0) (1.21.1)\n",
      "Requirement already satisfied: pathy>=0.3.5 in /opt/conda/lib/python3.9/site-packages (from spacy<3.3.0,>=3.2.0->en-core-web-sm==3.2.0) (0.6.2)\n",
      "Requirement already satisfied: typer<0.5.0,>=0.3.0 in /opt/conda/lib/python3.9/site-packages (from spacy<3.3.0,>=3.2.0->en-core-web-sm==3.2.0) (0.4.2)\n",
      "Requirement already satisfied: langcodes<4.0.0,>=3.2.0 in /opt/conda/lib/python3.9/site-packages (from spacy<3.3.0,>=3.2.0->en-core-web-sm==3.2.0) (3.3.0)\n",
      "Requirement already satisfied: wasabi<1.1.0,>=0.8.1 in /opt/conda/lib/python3.9/site-packages (from spacy<3.3.0,>=3.2.0->en-core-web-sm==3.2.0) (0.10.1)\n",
      "Requirement already satisfied: cymem<2.1.0,>=2.0.2 in /opt/conda/lib/python3.9/site-packages (from spacy<3.3.0,>=3.2.0->en-core-web-sm==3.2.0) (2.0.6)\n",
      "Requirement already satisfied: setuptools in /opt/conda/lib/python3.9/site-packages (from spacy<3.3.0,>=3.2.0->en-core-web-sm==3.2.0) (49.6.0.post20210108)\n",
      "Requirement already satisfied: jinja2 in /opt/conda/lib/python3.9/site-packages (from spacy<3.3.0,>=3.2.0->en-core-web-sm==3.2.0) (3.0.1)\n",
      "Requirement already satisfied: preshed<3.1.0,>=3.0.2 in /opt/conda/lib/python3.9/site-packages (from spacy<3.3.0,>=3.2.0->en-core-web-sm==3.2.0) (3.0.7)\n",
      "Requirement already satisfied: srsly<3.0.0,>=2.4.1 in /opt/conda/lib/python3.9/site-packages (from spacy<3.3.0,>=3.2.0->en-core-web-sm==3.2.0) (2.4.4)\n",
      "Requirement already satisfied: tqdm<5.0.0,>=4.38.0 in /opt/conda/lib/python3.9/site-packages (from spacy<3.3.0,>=3.2.0->en-core-web-sm==3.2.0) (4.61.2)\n",
      "Requirement already satisfied: packaging>=20.0 in /opt/conda/lib/python3.9/site-packages (from spacy<3.3.0,>=3.2.0->en-core-web-sm==3.2.0) (21.3)\n",
      "Requirement already satisfied: spacy-loggers<2.0.0,>=1.0.0 in /opt/conda/lib/python3.9/site-packages (from spacy<3.3.0,>=3.2.0->en-core-web-sm==3.2.0) (1.0.3)\n",
      "Requirement already satisfied: blis<0.8.0,>=0.4.0 in /opt/conda/lib/python3.9/site-packages (from spacy<3.3.0,>=3.2.0->en-core-web-sm==3.2.0) (0.7.8)\n",
      "Requirement already satisfied: pydantic!=1.8,!=1.8.1,<1.9.0,>=1.7.4 in /opt/conda/lib/python3.9/site-packages (from spacy<3.3.0,>=3.2.0->en-core-web-sm==3.2.0) (1.8.2)\n",
      "Requirement already satisfied: murmurhash<1.1.0,>=0.28.0 in /opt/conda/lib/python3.9/site-packages (from spacy<3.3.0,>=3.2.0->en-core-web-sm==3.2.0) (1.0.8)\n",
      "Requirement already satisfied: spacy-legacy<3.1.0,>=3.0.8 in /opt/conda/lib/python3.9/site-packages (from spacy<3.3.0,>=3.2.0->en-core-web-sm==3.2.0) (3.0.10)\n",
      "Requirement already satisfied: requests<3.0.0,>=2.13.0 in /opt/conda/lib/python3.9/site-packages (from spacy<3.3.0,>=3.2.0->en-core-web-sm==3.2.0) (2.25.1)\n",
      "Requirement already satisfied: thinc<8.1.0,>=8.0.12 in /opt/conda/lib/python3.9/site-packages (from spacy<3.3.0,>=3.2.0->en-core-web-sm==3.2.0) (8.0.17)\n",
      "Requirement already satisfied: pyparsing!=3.0.5,>=2.0.2 in /opt/conda/lib/python3.9/site-packages (from packaging>=20.0->spacy<3.3.0,>=3.2.0->en-core-web-sm==3.2.0) (2.4.7)\n",
      "Requirement already satisfied: smart-open<6.0.0,>=5.2.1 in /opt/conda/lib/python3.9/site-packages (from pathy>=0.3.5->spacy<3.3.0,>=3.2.0->en-core-web-sm==3.2.0) (5.2.1)\n",
      "Requirement already satisfied: typing-extensions>=3.7.4.3 in /opt/conda/lib/python3.9/site-packages (from pydantic!=1.8,!=1.8.1,<1.9.0,>=1.7.4->spacy<3.3.0,>=3.2.0->en-core-web-sm==3.2.0) (4.3.0)\n",
      "Requirement already satisfied: idna<3,>=2.5 in /opt/conda/lib/python3.9/site-packages (from requests<3.0.0,>=2.13.0->spacy<3.3.0,>=3.2.0->en-core-web-sm==3.2.0) (2.10)\n",
      "Requirement already satisfied: urllib3<1.27,>=1.21.1 in /opt/conda/lib/python3.9/site-packages (from requests<3.0.0,>=2.13.0->spacy<3.3.0,>=3.2.0->en-core-web-sm==3.2.0) (1.26.6)\n",
      "Requirement already satisfied: certifi>=2017.4.17 in /opt/conda/lib/python3.9/site-packages (from requests<3.0.0,>=2.13.0->spacy<3.3.0,>=3.2.0->en-core-web-sm==3.2.0) (2022.6.15)\n",
      "Requirement already satisfied: chardet<5,>=3.0.2 in /opt/conda/lib/python3.9/site-packages (from requests<3.0.0,>=2.13.0->spacy<3.3.0,>=3.2.0->en-core-web-sm==3.2.0) (4.0.0)\n",
      "Requirement already satisfied: click<9.0.0,>=7.1.1 in /opt/conda/lib/python3.9/site-packages (from typer<0.5.0,>=0.3.0->spacy<3.3.0,>=3.2.0->en-core-web-sm==3.2.0) (8.1.3)\n",
      "Requirement already satisfied: MarkupSafe>=2.0 in /opt/conda/lib/python3.9/site-packages (from jinja2->spacy<3.3.0,>=3.2.0->en-core-web-sm==3.2.0) (2.1.1)\n",
      "\u001b[38;5;2m✔ Download and installation successful\u001b[0m\n",
      "You can now load the package via spacy.load('en_core_web_sm')\n"
     ]
    }
   ],
   "source": [
    "#Установм лемматизатор Spacy\n",
    "import sys\n",
    "!{sys.executable} -m pip install spacy\n",
    "!{sys.executable} -m spacy download en"
   ]
  },
  {
   "cell_type": "code",
   "execution_count": 3,
   "metadata": {},
   "outputs": [],
   "source": [
    "#Загрузим модуль для обработки текста\n",
    "import spacy\n",
    "nlp = spacy.load('en_core_web_sm', disable=['parser', 'ner'])"
   ]
  },
  {
   "cell_type": "code",
   "execution_count": 4,
   "metadata": {},
   "outputs": [],
   "source": [
    "#Создадим датасет\n",
    "data = pd.read_csv('/datasets/toxic_comments.csv')"
   ]
  },
  {
   "cell_type": "code",
   "execution_count": 5,
   "metadata": {
    "scrolled": true
   },
   "outputs": [
    {
     "data": {
      "text/html": [
       "<div>\n",
       "<style scoped>\n",
       "    .dataframe tbody tr th:only-of-type {\n",
       "        vertical-align: middle;\n",
       "    }\n",
       "\n",
       "    .dataframe tbody tr th {\n",
       "        vertical-align: top;\n",
       "    }\n",
       "\n",
       "    .dataframe thead th {\n",
       "        text-align: right;\n",
       "    }\n",
       "</style>\n",
       "<table border=\"1\" class=\"dataframe\">\n",
       "  <thead>\n",
       "    <tr style=\"text-align: right;\">\n",
       "      <th></th>\n",
       "      <th>Unnamed: 0</th>\n",
       "      <th>text</th>\n",
       "      <th>toxic</th>\n",
       "    </tr>\n",
       "  </thead>\n",
       "  <tbody>\n",
       "    <tr>\n",
       "      <th>152615</th>\n",
       "      <td>152772</td>\n",
       "      <td>\"\\n\\n Portals \\n\\nNice work critiquing the Eco...</td>\n",
       "      <td>0</td>\n",
       "    </tr>\n",
       "    <tr>\n",
       "      <th>41005</th>\n",
       "      <td>41055</td>\n",
       "      <td>LUCKY where is my arbratary file?</td>\n",
       "      <td>0</td>\n",
       "    </tr>\n",
       "    <tr>\n",
       "      <th>66452</th>\n",
       "      <td>66519</td>\n",
       "      <td>Please report me. There must be mediators out ...</td>\n",
       "      <td>0</td>\n",
       "    </tr>\n",
       "    <tr>\n",
       "      <th>131629</th>\n",
       "      <td>131765</td>\n",
       "      <td>United Kingdom isnt a country. so where does t...</td>\n",
       "      <td>0</td>\n",
       "    </tr>\n",
       "    <tr>\n",
       "      <th>72613</th>\n",
       "      <td>72684</td>\n",
       "      <td>How is this not worth mentioning?</td>\n",
       "      <td>0</td>\n",
       "    </tr>\n",
       "    <tr>\n",
       "      <th>138048</th>\n",
       "      <td>138195</td>\n",
       "      <td>\"\\n\\n You are mistaken (again). I am happy to ...</td>\n",
       "      <td>0</td>\n",
       "    </tr>\n",
       "    <tr>\n",
       "      <th>68140</th>\n",
       "      <td>68208</td>\n",
       "      <td>it's unlike anything else in the capital district</td>\n",
       "      <td>0</td>\n",
       "    </tr>\n",
       "    <tr>\n",
       "      <th>146409</th>\n",
       "      <td>146565</td>\n",
       "      <td>God no. There are hundreds of jaggeds. There a...</td>\n",
       "      <td>0</td>\n",
       "    </tr>\n",
       "    <tr>\n",
       "      <th>127150</th>\n",
       "      <td>127281</td>\n",
       "      <td>\"\\nHi! Great if you improve the English langua...</td>\n",
       "      <td>0</td>\n",
       "    </tr>\n",
       "    <tr>\n",
       "      <th>18969</th>\n",
       "      <td>18988</td>\n",
       "      <td>Roster\\nupdated for 2008  missing numbers, nee...</td>\n",
       "      <td>0</td>\n",
       "    </tr>\n",
       "  </tbody>\n",
       "</table>\n",
       "</div>"
      ],
      "text/plain": [
       "        Unnamed: 0                                               text  toxic\n",
       "152615      152772  \"\\n\\n Portals \\n\\nNice work critiquing the Eco...      0\n",
       "41005        41055                  LUCKY where is my arbratary file?      0\n",
       "66452        66519  Please report me. There must be mediators out ...      0\n",
       "131629      131765  United Kingdom isnt a country. so where does t...      0\n",
       "72613        72684                  How is this not worth mentioning?      0\n",
       "138048      138195  \"\\n\\n You are mistaken (again). I am happy to ...      0\n",
       "68140        68208  it's unlike anything else in the capital district      0\n",
       "146409      146565  God no. There are hundreds of jaggeds. There a...      0\n",
       "127150      127281  \"\\nHi! Great if you improve the English langua...      0\n",
       "18969        18988  Roster\\nupdated for 2008  missing numbers, nee...      0"
      ]
     },
     "execution_count": 5,
     "metadata": {},
     "output_type": "execute_result"
    }
   ],
   "source": [
    "#Выведем несколько случайных строк для проверки\n",
    "data.sample(10)"
   ]
  },
  {
   "cell_type": "code",
   "execution_count": 6,
   "metadata": {},
   "outputs": [
    {
     "name": "stdout",
     "output_type": "stream",
     "text": [
      "<class 'pandas.core.frame.DataFrame'>\n",
      "RangeIndex: 159292 entries, 0 to 159291\n",
      "Data columns (total 3 columns):\n",
      " #   Column      Non-Null Count   Dtype \n",
      "---  ------      --------------   ----- \n",
      " 0   Unnamed: 0  159292 non-null  int64 \n",
      " 1   text        159292 non-null  object\n",
      " 2   toxic       159292 non-null  int64 \n",
      "dtypes: int64(2), object(1)\n",
      "memory usage: 3.6+ MB\n"
     ]
    }
   ],
   "source": [
    "#Выведем информацию о датасете\n",
    "data.info()"
   ]
  },
  {
   "cell_type": "code",
   "execution_count": 7,
   "metadata": {},
   "outputs": [
    {
     "name": "stdout",
     "output_type": "stream",
     "text": [
      "0\n"
     ]
    }
   ],
   "source": [
    "#Проверим на дубликаты\n",
    "print(data.duplicated().sum())"
   ]
  },
  {
   "cell_type": "code",
   "execution_count": 8,
   "metadata": {},
   "outputs": [],
   "source": [
    "#Создадим корпус текстов\n",
    "corpus = data['text'].values"
   ]
  },
  {
   "cell_type": "code",
   "execution_count": 10,
   "metadata": {},
   "outputs": [],
   "source": [
    "#Создадим функцию для лемматизации текста\n",
    "def lemm_text(text):\n",
    "    clear_text = \" \".join(re.sub(r'[^a-zA-Z ]', ' ', text).split()) #очищаем текст с помощью рег. выражения\n",
    "    doc = nlp(clear_text)\n",
    "    lemmatized_text = \" \".join([token.lemma_ for token in doc]) \n",
    "    return lemmatized_text"
   ]
  },
  {
   "cell_type": "code",
   "execution_count": 11,
   "metadata": {},
   "outputs": [
    {
     "name": "stdout",
     "output_type": "stream",
     "text": [
      "CPU times: user 16min 37s, sys: 5.97 s, total: 16min 43s\n",
      "Wall time: 16min 45s\n"
     ]
    }
   ],
   "source": [
    "%%time\n",
    "\n",
    "#Созадим столбец с очищенным и лемматизированным текстом\n",
    "data['lemm_text'] = data['text'].apply(lemm_text)"
   ]
  },
  {
   "cell_type": "code",
   "execution_count": 12,
   "metadata": {
    "scrolled": true
   },
   "outputs": [
    {
     "data": {
      "text/html": [
       "<div>\n",
       "<style scoped>\n",
       "    .dataframe tbody tr th:only-of-type {\n",
       "        vertical-align: middle;\n",
       "    }\n",
       "\n",
       "    .dataframe tbody tr th {\n",
       "        vertical-align: top;\n",
       "    }\n",
       "\n",
       "    .dataframe thead th {\n",
       "        text-align: right;\n",
       "    }\n",
       "</style>\n",
       "<table border=\"1\" class=\"dataframe\">\n",
       "  <thead>\n",
       "    <tr style=\"text-align: right;\">\n",
       "      <th></th>\n",
       "      <th>Unnamed: 0</th>\n",
       "      <th>text</th>\n",
       "      <th>toxic</th>\n",
       "      <th>lemm_text</th>\n",
       "    </tr>\n",
       "  </thead>\n",
       "  <tbody>\n",
       "    <tr>\n",
       "      <th>141408</th>\n",
       "      <td>141560</td>\n",
       "      <td>\"\\n\\nI'm not withdrawing anything.  Jimbo Wale...</td>\n",
       "      <td>0</td>\n",
       "      <td>I m not withdraw anything Jimbo Wales be a wha...</td>\n",
       "    </tr>\n",
       "    <tr>\n",
       "      <th>55154</th>\n",
       "      <td>55215</td>\n",
       "      <td>CardinalDan FUCK YOU FAGGOT NIGGER CUNT LICKIN...</td>\n",
       "      <td>1</td>\n",
       "      <td>CardinalDan fuck you FAGGOT nigger CUNT lickin...</td>\n",
       "    </tr>\n",
       "    <tr>\n",
       "      <th>114879</th>\n",
       "      <td>114978</td>\n",
       "      <td>Exactly, the BBC's Blue Peter/The One Show Spe...</td>\n",
       "      <td>0</td>\n",
       "      <td>exactly the BBC s Blue Peter the one Show spec...</td>\n",
       "    </tr>\n",
       "    <tr>\n",
       "      <th>104090</th>\n",
       "      <td>104187</td>\n",
       "      <td>Factual correction to</td>\n",
       "      <td>0</td>\n",
       "      <td>factual correction to</td>\n",
       "    </tr>\n",
       "    <tr>\n",
       "      <th>148655</th>\n",
       "      <td>148811</td>\n",
       "      <td>British Isles British Islands</td>\n",
       "      <td>0</td>\n",
       "      <td>british Isles british island</td>\n",
       "    </tr>\n",
       "    <tr>\n",
       "      <th>42830</th>\n",
       "      <td>42880</td>\n",
       "      <td>PROBLEM \\n\\nit needs a picture</td>\n",
       "      <td>0</td>\n",
       "      <td>problem it need a picture</td>\n",
       "    </tr>\n",
       "    <tr>\n",
       "      <th>112620</th>\n",
       "      <td>112718</td>\n",
       "      <td>.  If no reliable text can be found, an image ...</td>\n",
       "      <td>0</td>\n",
       "      <td>if no reliable text can be find an image of an...</td>\n",
       "    </tr>\n",
       "    <tr>\n",
       "      <th>113059</th>\n",
       "      <td>113157</td>\n",
       "      <td>\":: I'll try looking for sources about impact ...</td>\n",
       "      <td>0</td>\n",
       "      <td>I ll try look for source about impact and stuf...</td>\n",
       "    </tr>\n",
       "    <tr>\n",
       "      <th>41295</th>\n",
       "      <td>41345</td>\n",
       "      <td>\"\\n\\n You are canvassing re: Gatineau deletion...</td>\n",
       "      <td>0</td>\n",
       "      <td>you be canvass re Gatineau deletion you should...</td>\n",
       "    </tr>\n",
       "    <tr>\n",
       "      <th>115007</th>\n",
       "      <td>115106</td>\n",
       "      <td>Engines \\n\\nthe Saturn AL-41F will be one of t...</td>\n",
       "      <td>0</td>\n",
       "      <td>engine the Saturn AL F will be one of the fina...</td>\n",
       "    </tr>\n",
       "  </tbody>\n",
       "</table>\n",
       "</div>"
      ],
      "text/plain": [
       "        Unnamed: 0                                               text  toxic  \\\n",
       "141408      141560  \"\\n\\nI'm not withdrawing anything.  Jimbo Wale...      0   \n",
       "55154        55215  CardinalDan FUCK YOU FAGGOT NIGGER CUNT LICKIN...      1   \n",
       "114879      114978  Exactly, the BBC's Blue Peter/The One Show Spe...      0   \n",
       "104090      104187                              Factual correction to      0   \n",
       "148655      148811                      British Isles British Islands      0   \n",
       "42830        42880                     PROBLEM \\n\\nit needs a picture      0   \n",
       "112620      112718  .  If no reliable text can be found, an image ...      0   \n",
       "113059      113157  \":: I'll try looking for sources about impact ...      0   \n",
       "41295        41345  \"\\n\\n You are canvassing re: Gatineau deletion...      0   \n",
       "115007      115106  Engines \\n\\nthe Saturn AL-41F will be one of t...      0   \n",
       "\n",
       "                                                lemm_text  \n",
       "141408  I m not withdraw anything Jimbo Wales be a wha...  \n",
       "55154   CardinalDan fuck you FAGGOT nigger CUNT lickin...  \n",
       "114879  exactly the BBC s Blue Peter the one Show spec...  \n",
       "104090                              factual correction to  \n",
       "148655                       british Isles british island  \n",
       "42830                           problem it need a picture  \n",
       "112620  if no reliable text can be find an image of an...  \n",
       "113059  I ll try look for source about impact and stuf...  \n",
       "41295   you be canvass re Gatineau deletion you should...  \n",
       "115007  engine the Saturn AL F will be one of the fina...  "
      ]
     },
     "execution_count": 12,
     "metadata": {},
     "output_type": "execute_result"
    }
   ],
   "source": [
    "#Выведем датасет для проверки\n",
    "data.sample(10)"
   ]
  },
  {
   "cell_type": "markdown",
   "metadata": {},
   "source": [
    "## Обучение"
   ]
  },
  {
   "cell_type": "markdown",
   "metadata": {},
   "source": [
    "Разделим данные на обучающую и тестовую выборку"
   ]
  },
  {
   "cell_type": "code",
   "execution_count": 13,
   "metadata": {},
   "outputs": [],
   "source": [
    "#Выделим признаки и целевой признак\n",
    "X = data['lemm_text']\n",
    "y = data['toxic']"
   ]
  },
  {
   "cell_type": "code",
   "execution_count": 14,
   "metadata": {},
   "outputs": [],
   "source": [
    "X_train, X_test, y_train, y_test = train_test_split(X, y, test_size=0.25, random_state=12345)"
   ]
  },
  {
   "cell_type": "markdown",
   "metadata": {},
   "source": [
    "Подготовим обучающую выборку"
   ]
  },
  {
   "cell_type": "code",
   "execution_count": 15,
   "metadata": {},
   "outputs": [],
   "source": [
    "corpus_train = X_train.values"
   ]
  },
  {
   "cell_type": "code",
   "execution_count": 16,
   "metadata": {},
   "outputs": [],
   "source": [
    "#Создадим список стоп-слов\n",
    "stopwords = set(nltk_stopwords.words('english'))"
   ]
  },
  {
   "cell_type": "code",
   "execution_count": 17,
   "metadata": {},
   "outputs": [],
   "source": [
    "#Cоздадим счётчик, указав в нём стоп-слова\n",
    "count_tf_idf = TfidfVectorizer(stop_words=stopwords)"
   ]
  },
  {
   "cell_type": "code",
   "execution_count": 18,
   "metadata": {},
   "outputs": [],
   "source": [
    "#Рассчитаем TF-IDF для корпуса текстов обучающей выборки\n",
    "tf_idf = count_tf_idf.fit_transform(corpus_train)"
   ]
  },
  {
   "cell_type": "code",
   "execution_count": 19,
   "metadata": {},
   "outputs": [],
   "source": [
    "#Назовём полученные значения TF-IDF обучающей выборкой\n",
    "X_train = tf_idf.copy()"
   ]
  },
  {
   "cell_type": "code",
   "execution_count": 20,
   "metadata": {},
   "outputs": [],
   "source": [
    "#Удалим ненужные переменные\n",
    "del tf_idf"
   ]
  },
  {
   "cell_type": "markdown",
   "metadata": {},
   "source": [
    "Подготовим тестовую выборку"
   ]
  },
  {
   "cell_type": "code",
   "execution_count": 21,
   "metadata": {},
   "outputs": [],
   "source": [
    "corpus_test = X_test.values"
   ]
  },
  {
   "cell_type": "code",
   "execution_count": 22,
   "metadata": {},
   "outputs": [],
   "source": [
    "#Рассчитаем TF-IDF для корпуса текстов тестовой выборки\n",
    "tf_idf = count_tf_idf.transform(corpus_test)"
   ]
  },
  {
   "cell_type": "code",
   "execution_count": 24,
   "metadata": {},
   "outputs": [],
   "source": [
    "#Назовём полученные значения TF-IDF тестовой выборкой\n",
    "X_test = tf_idf.copy()"
   ]
  },
  {
   "cell_type": "code",
   "execution_count": 25,
   "metadata": {},
   "outputs": [],
   "source": [
    "#Удалим ненужные переменные\n",
    "del tf_idf, data, X, y"
   ]
  },
  {
   "cell_type": "markdown",
   "metadata": {},
   "source": [
    "Изучим баланс классов в обучающей выборке"
   ]
  },
  {
   "cell_type": "code",
   "execution_count": 27,
   "metadata": {
    "scrolled": false
   },
   "outputs": [
    {
     "data": {
      "text/plain": [
       "0    0.898367\n",
       "1    0.101633\n",
       "Name: toxic, dtype: float64"
      ]
     },
     "execution_count": 27,
     "metadata": {},
     "output_type": "execute_result"
    }
   ],
   "source": [
    "y_train.value_counts(normalize=True)"
   ]
  },
  {
   "cell_type": "markdown",
   "metadata": {},
   "source": [
    "В обучающей выборке обнаружен дисбаланс классов. При обучении моделей будем учитывать дисбаланс"
   ]
  },
  {
   "cell_type": "markdown",
   "metadata": {},
   "source": [
    "Обучим модели и подберём гиперпараметры. В гиперпараметрах моделей укажем сбалансированные веса классов.\n",
    "- LogisticRegression\n",
    "- RandomForestClassifier\n",
    "- CatBoostClassifier"
   ]
  },
  {
   "cell_type": "markdown",
   "metadata": {},
   "source": [
    "**LogisticRegression**"
   ]
  },
  {
   "cell_type": "code",
   "execution_count": 33,
   "metadata": {},
   "outputs": [],
   "source": [
    "model_lr = LogisticRegression(max_iter=1000, class_weight='balanced')"
   ]
  },
  {
   "cell_type": "code",
   "execution_count": 29,
   "metadata": {},
   "outputs": [
    {
     "name": "stdout",
     "output_type": "stream",
     "text": [
      "Лучшее значение метрики F1: 0.7553903345724907\n",
      "CPU times: user 2min 3s, sys: 2min 49s, total: 4min 53s\n",
      "Wall time: 4min 53s\n"
     ]
    }
   ],
   "source": [
    "%%time\n",
    "\n",
    "#Найдём значение метрики f1 с помощью кросс-валидации\n",
    "final_scores = []\n",
    "scores = cross_val_score(model_lr, X_train, y_train, scoring='f1', cv=5)\n",
    "final_scores.append(scores.max())\n",
    "\n",
    "final_f1 = pd.Series(final_scores).max()\n",
    "print('Лучшее значение метрики F1:', final_f1)"
   ]
  },
  {
   "cell_type": "markdown",
   "metadata": {},
   "source": [
    "Метрика F1 модели удовляетворяет условиям задачи"
   ]
  },
  {
   "cell_type": "code",
   "execution_count": 34,
   "metadata": {},
   "outputs": [
    {
     "name": "stdout",
     "output_type": "stream",
     "text": [
      "CPU times: user 31.6 s, sys: 39.7 s, total: 1min 11s\n",
      "Wall time: 1min 11s\n"
     ]
    },
    {
     "data": {
      "text/plain": [
       "LogisticRegression(class_weight='balanced', max_iter=1000)"
      ]
     },
     "execution_count": 34,
     "metadata": {},
     "output_type": "execute_result"
    }
   ],
   "source": [
    "%%time\n",
    "\n",
    "#Найдём время обучения\n",
    "model_lr.fit(X_train, y_train)"
   ]
  },
  {
   "cell_type": "markdown",
   "metadata": {},
   "source": [
    "**RandomForestClassifier**"
   ]
  },
  {
   "cell_type": "code",
   "execution_count": 30,
   "metadata": {
    "scrolled": true
   },
   "outputs": [
    {
     "name": "stdout",
     "output_type": "stream",
     "text": [
      "best_score: 0.41989632220315604\n",
      "best_params: {'max_depth': 30, 'n_estimators': 100}\n",
      "CPU times: user 35min 50s, sys: 11.1 s, total: 36min 1s\n",
      "Wall time: 36min 39s\n"
     ]
    }
   ],
   "source": [
    "%%time\n",
    "\n",
    "# Объявляем модель\n",
    "model_rf = RandomForestClassifier(class_weight='balanced', random_state=12345)\n",
    "\n",
    "# словарь с гиперпараметрами и значениями, которые хотим перебрать\n",
    "# Указал небольшой диапазон, т.к. модель очень долго обучается\n",
    "param_grid_rf = {'n_estimators': np.arange(20, 101, 20), 'max_depth': np.arange(10, 31, 10),}\n",
    "\n",
    "gs_rf = GridSearchCV(\n",
    "    model_rf, \n",
    "    param_grid=param_grid_rf, \n",
    "    scoring='f1', \n",
    "    n_jobs=-1\n",
    ")\n",
    "\n",
    "gs_rf.fit(X_train, y_train)\n",
    "\n",
    "# лучшее значение F1 на кросс-валидации\n",
    "print(f'best_score: {gs_rf.best_score_ }')\n",
    "\n",
    "# лучшие гиперпараметры\n",
    "print(f'best_params: {gs_rf.best_params_}')"
   ]
  },
  {
   "cell_type": "markdown",
   "metadata": {},
   "source": [
    "Метрика F1 модели не удовляетворяет условиям задачи"
   ]
  },
  {
   "cell_type": "markdown",
   "metadata": {},
   "source": [
    "**CatBoostClassifier**"
   ]
  },
  {
   "cell_type": "code",
   "execution_count": 32,
   "metadata": {
    "scrolled": true
   },
   "outputs": [
    {
     "name": "stdout",
     "output_type": "stream",
     "text": [
      "Learning rate set to 0.5\n",
      "0:\tlearn: 0.3529442\ttotal: 984ms\tremaining: 1m 37s\n",
      "1:\tlearn: 0.2707286\ttotal: 1.87s\tremaining: 1m 31s\n",
      "2:\tlearn: 0.2424229\ttotal: 2.8s\tremaining: 1m 30s\n",
      "3:\tlearn: 0.2301230\ttotal: 3.63s\tremaining: 1m 27s\n",
      "4:\tlearn: 0.2191698\ttotal: 4.51s\tremaining: 1m 25s\n",
      "5:\tlearn: 0.2136323\ttotal: 5.36s\tremaining: 1m 23s\n",
      "6:\tlearn: 0.2076097\ttotal: 6.18s\tremaining: 1m 22s\n",
      "7:\tlearn: 0.2012577\ttotal: 7.08s\tremaining: 1m 21s\n",
      "8:\tlearn: 0.1978270\ttotal: 8.04s\tremaining: 1m 21s\n",
      "9:\tlearn: 0.1949544\ttotal: 8.91s\tremaining: 1m 20s\n",
      "10:\tlearn: 0.1922238\ttotal: 9.81s\tremaining: 1m 19s\n",
      "11:\tlearn: 0.1896494\ttotal: 10.7s\tremaining: 1m 18s\n",
      "12:\tlearn: 0.1865614\ttotal: 11.5s\tremaining: 1m 17s\n",
      "13:\tlearn: 0.1839332\ttotal: 12.4s\tremaining: 1m 16s\n",
      "14:\tlearn: 0.1818336\ttotal: 13.3s\tremaining: 1m 15s\n",
      "15:\tlearn: 0.1794070\ttotal: 14.1s\tremaining: 1m 14s\n",
      "16:\tlearn: 0.1767177\ttotal: 15s\tremaining: 1m 13s\n",
      "17:\tlearn: 0.1752414\ttotal: 15.8s\tremaining: 1m 12s\n",
      "18:\tlearn: 0.1734550\ttotal: 16.7s\tremaining: 1m 11s\n",
      "19:\tlearn: 0.1715124\ttotal: 17.5s\tremaining: 1m 10s\n",
      "20:\tlearn: 0.1702359\ttotal: 18.4s\tremaining: 1m 9s\n",
      "21:\tlearn: 0.1689873\ttotal: 19.2s\tremaining: 1m 8s\n",
      "22:\tlearn: 0.1674677\ttotal: 20.1s\tremaining: 1m 7s\n",
      "23:\tlearn: 0.1655834\ttotal: 21s\tremaining: 1m 6s\n",
      "24:\tlearn: 0.1636171\ttotal: 21.8s\tremaining: 1m 5s\n",
      "25:\tlearn: 0.1626197\ttotal: 22.7s\tremaining: 1m 4s\n",
      "26:\tlearn: 0.1614253\ttotal: 23.5s\tremaining: 1m 3s\n",
      "27:\tlearn: 0.1605295\ttotal: 24.3s\tremaining: 1m 2s\n",
      "28:\tlearn: 0.1594008\ttotal: 25.2s\tremaining: 1m 1s\n",
      "29:\tlearn: 0.1584504\ttotal: 25.9s\tremaining: 1m\n",
      "30:\tlearn: 0.1571359\ttotal: 26.7s\tremaining: 59.5s\n",
      "31:\tlearn: 0.1562564\ttotal: 27.6s\tremaining: 58.5s\n",
      "32:\tlearn: 0.1550126\ttotal: 28.3s\tremaining: 57.6s\n",
      "33:\tlearn: 0.1542207\ttotal: 29.1s\tremaining: 56.6s\n",
      "34:\tlearn: 0.1535139\ttotal: 29.9s\tremaining: 55.6s\n",
      "35:\tlearn: 0.1527853\ttotal: 30.7s\tremaining: 54.6s\n",
      "36:\tlearn: 0.1521231\ttotal: 31.5s\tremaining: 53.7s\n",
      "37:\tlearn: 0.1516207\ttotal: 32.3s\tremaining: 52.7s\n",
      "38:\tlearn: 0.1507015\ttotal: 33.1s\tremaining: 51.8s\n",
      "39:\tlearn: 0.1500869\ttotal: 33.9s\tremaining: 50.8s\n",
      "40:\tlearn: 0.1494693\ttotal: 34.6s\tremaining: 49.9s\n",
      "41:\tlearn: 0.1488712\ttotal: 35.4s\tremaining: 48.9s\n",
      "42:\tlearn: 0.1481064\ttotal: 36.2s\tremaining: 48s\n",
      "43:\tlearn: 0.1475155\ttotal: 37.1s\tremaining: 47.2s\n",
      "44:\tlearn: 0.1467107\ttotal: 37.9s\tremaining: 46.3s\n",
      "45:\tlearn: 0.1460881\ttotal: 38.8s\tremaining: 45.5s\n",
      "46:\tlearn: 0.1455445\ttotal: 39.6s\tremaining: 44.6s\n",
      "47:\tlearn: 0.1450098\ttotal: 40.3s\tremaining: 43.7s\n",
      "48:\tlearn: 0.1444487\ttotal: 41.2s\tremaining: 42.8s\n",
      "49:\tlearn: 0.1437100\ttotal: 42s\tremaining: 42s\n",
      "50:\tlearn: 0.1433212\ttotal: 42.8s\tremaining: 41.1s\n",
      "51:\tlearn: 0.1421867\ttotal: 43.7s\tremaining: 40.3s\n",
      "52:\tlearn: 0.1417928\ttotal: 44.4s\tremaining: 39.4s\n",
      "53:\tlearn: 0.1410046\ttotal: 45.2s\tremaining: 38.5s\n",
      "54:\tlearn: 0.1403547\ttotal: 46s\tremaining: 37.6s\n",
      "55:\tlearn: 0.1398890\ttotal: 46.8s\tremaining: 36.8s\n",
      "56:\tlearn: 0.1393117\ttotal: 47.7s\tremaining: 36s\n",
      "57:\tlearn: 0.1389452\ttotal: 48.6s\tremaining: 35.2s\n",
      "58:\tlearn: 0.1385267\ttotal: 49.4s\tremaining: 34.3s\n",
      "59:\tlearn: 0.1380133\ttotal: 50.2s\tremaining: 33.5s\n",
      "60:\tlearn: 0.1376968\ttotal: 51s\tremaining: 32.6s\n",
      "61:\tlearn: 0.1373168\ttotal: 51.7s\tremaining: 31.7s\n",
      "62:\tlearn: 0.1369242\ttotal: 52.5s\tremaining: 30.8s\n",
      "63:\tlearn: 0.1366183\ttotal: 53.3s\tremaining: 30s\n",
      "64:\tlearn: 0.1363070\ttotal: 54s\tremaining: 29.1s\n",
      "65:\tlearn: 0.1359429\ttotal: 54.8s\tremaining: 28.2s\n",
      "66:\tlearn: 0.1354370\ttotal: 55.6s\tremaining: 27.4s\n",
      "67:\tlearn: 0.1350261\ttotal: 56.4s\tremaining: 26.5s\n",
      "68:\tlearn: 0.1347271\ttotal: 57.1s\tremaining: 25.7s\n",
      "69:\tlearn: 0.1341584\ttotal: 58s\tremaining: 24.9s\n",
      "70:\tlearn: 0.1337896\ttotal: 58.8s\tremaining: 24s\n",
      "71:\tlearn: 0.1334281\ttotal: 59.6s\tremaining: 23.2s\n",
      "72:\tlearn: 0.1331780\ttotal: 1m\tremaining: 22.3s\n",
      "73:\tlearn: 0.1328944\ttotal: 1m 1s\tremaining: 21.5s\n",
      "74:\tlearn: 0.1325364\ttotal: 1m 1s\tremaining: 20.6s\n",
      "75:\tlearn: 0.1321714\ttotal: 1m 2s\tremaining: 19.8s\n",
      "76:\tlearn: 0.1319377\ttotal: 1m 3s\tremaining: 18.9s\n",
      "77:\tlearn: 0.1315246\ttotal: 1m 4s\tremaining: 18.1s\n",
      "78:\tlearn: 0.1312590\ttotal: 1m 4s\tremaining: 17.3s\n",
      "79:\tlearn: 0.1308429\ttotal: 1m 5s\tremaining: 16.4s\n",
      "80:\tlearn: 0.1306365\ttotal: 1m 6s\tremaining: 15.6s\n",
      "81:\tlearn: 0.1302577\ttotal: 1m 7s\tremaining: 14.8s\n",
      "82:\tlearn: 0.1300131\ttotal: 1m 8s\tremaining: 14s\n",
      "83:\tlearn: 0.1297488\ttotal: 1m 9s\tremaining: 13.2s\n",
      "84:\tlearn: 0.1295659\ttotal: 1m 9s\tremaining: 12.3s\n",
      "85:\tlearn: 0.1292299\ttotal: 1m 10s\tremaining: 11.5s\n",
      "86:\tlearn: 0.1287470\ttotal: 1m 11s\tremaining: 10.7s\n",
      "87:\tlearn: 0.1285622\ttotal: 1m 12s\tremaining: 9.88s\n",
      "88:\tlearn: 0.1280214\ttotal: 1m 13s\tremaining: 9.06s\n",
      "89:\tlearn: 0.1278180\ttotal: 1m 14s\tremaining: 8.23s\n",
      "90:\tlearn: 0.1276491\ttotal: 1m 14s\tremaining: 7.41s\n",
      "91:\tlearn: 0.1274276\ttotal: 1m 15s\tremaining: 6.58s\n",
      "92:\tlearn: 0.1271683\ttotal: 1m 16s\tremaining: 5.76s\n",
      "93:\tlearn: 0.1267761\ttotal: 1m 17s\tremaining: 4.94s\n",
      "94:\tlearn: 0.1266097\ttotal: 1m 18s\tremaining: 4.12s\n",
      "95:\tlearn: 0.1264553\ttotal: 1m 19s\tremaining: 3.29s\n",
      "96:\tlearn: 0.1257296\ttotal: 1m 19s\tremaining: 2.47s\n",
      "97:\tlearn: 0.1255665\ttotal: 1m 20s\tremaining: 1.65s\n",
      "98:\tlearn: 0.1254021\ttotal: 1m 21s\tremaining: 825ms\n",
      "99:\tlearn: 0.1249068\ttotal: 1m 22s\tremaining: 0us\n",
      "Learning rate set to 0.5\n",
      "0:\tlearn: 0.3448646\ttotal: 1.06s\tremaining: 1m 45s\n",
      "1:\tlearn: 0.2672990\ttotal: 2s\tremaining: 1m 38s\n",
      "2:\tlearn: 0.2419924\ttotal: 2.94s\tremaining: 1m 35s\n",
      "3:\tlearn: 0.2271387\ttotal: 3.86s\tremaining: 1m 32s\n",
      "4:\tlearn: 0.2202726\ttotal: 4.78s\tremaining: 1m 30s\n",
      "5:\tlearn: 0.2137508\ttotal: 5.71s\tremaining: 1m 29s\n",
      "6:\tlearn: 0.2082617\ttotal: 6.62s\tremaining: 1m 27s\n",
      "7:\tlearn: 0.2039687\ttotal: 7.5s\tremaining: 1m 26s\n",
      "8:\tlearn: 0.1990049\ttotal: 8.41s\tremaining: 1m 25s\n",
      "9:\tlearn: 0.1958113\ttotal: 9.26s\tremaining: 1m 23s\n",
      "10:\tlearn: 0.1920681\ttotal: 10.2s\tremaining: 1m 22s\n",
      "11:\tlearn: 0.1895376\ttotal: 11.1s\tremaining: 1m 21s\n",
      "12:\tlearn: 0.1873977\ttotal: 12s\tremaining: 1m 20s\n",
      "13:\tlearn: 0.1851074\ttotal: 12.9s\tremaining: 1m 18s\n",
      "14:\tlearn: 0.1834258\ttotal: 13.7s\tremaining: 1m 17s\n",
      "15:\tlearn: 0.1810917\ttotal: 14.5s\tremaining: 1m 16s\n",
      "16:\tlearn: 0.1795823\ttotal: 15.5s\tremaining: 1m 15s\n",
      "17:\tlearn: 0.1781091\ttotal: 16.3s\tremaining: 1m 14s\n",
      "18:\tlearn: 0.1758240\ttotal: 17.2s\tremaining: 1m 13s\n",
      "19:\tlearn: 0.1735218\ttotal: 18s\tremaining: 1m 12s\n",
      "20:\tlearn: 0.1719529\ttotal: 18.9s\tremaining: 1m 10s\n",
      "21:\tlearn: 0.1701871\ttotal: 19.7s\tremaining: 1m 9s\n",
      "22:\tlearn: 0.1683913\ttotal: 20.6s\tremaining: 1m 8s\n",
      "23:\tlearn: 0.1674439\ttotal: 21.5s\tremaining: 1m 7s\n",
      "24:\tlearn: 0.1661323\ttotal: 22.3s\tremaining: 1m 7s\n",
      "25:\tlearn: 0.1652413\ttotal: 23.2s\tremaining: 1m 5s\n",
      "26:\tlearn: 0.1633290\ttotal: 24.1s\tremaining: 1m 5s\n",
      "27:\tlearn: 0.1623452\ttotal: 25s\tremaining: 1m 4s\n",
      "28:\tlearn: 0.1613658\ttotal: 25.8s\tremaining: 1m 3s\n",
      "29:\tlearn: 0.1605509\ttotal: 26.6s\tremaining: 1m 2s\n",
      "30:\tlearn: 0.1593712\ttotal: 27.5s\tremaining: 1m 1s\n",
      "31:\tlearn: 0.1583750\ttotal: 28.3s\tremaining: 1m\n",
      "32:\tlearn: 0.1576218\ttotal: 29.2s\tremaining: 59.3s\n",
      "33:\tlearn: 0.1567090\ttotal: 30.1s\tremaining: 58.4s\n",
      "34:\tlearn: 0.1559308\ttotal: 30.9s\tremaining: 57.4s\n",
      "35:\tlearn: 0.1551497\ttotal: 31.8s\tremaining: 56.5s\n",
      "36:\tlearn: 0.1543462\ttotal: 32.6s\tremaining: 55.6s\n",
      "37:\tlearn: 0.1536897\ttotal: 33.5s\tremaining: 54.7s\n",
      "38:\tlearn: 0.1530492\ttotal: 34.3s\tremaining: 53.7s\n",
      "39:\tlearn: 0.1523654\ttotal: 35.2s\tremaining: 52.7s\n",
      "40:\tlearn: 0.1516702\ttotal: 36s\tremaining: 51.8s\n",
      "41:\tlearn: 0.1505761\ttotal: 36.9s\tremaining: 50.9s\n",
      "42:\tlearn: 0.1496480\ttotal: 37.8s\tremaining: 50s\n",
      "43:\tlearn: 0.1491295\ttotal: 38.6s\tremaining: 49.1s\n",
      "44:\tlearn: 0.1481394\ttotal: 39.4s\tremaining: 48.2s\n",
      "45:\tlearn: 0.1474930\ttotal: 40.3s\tremaining: 47.3s\n",
      "46:\tlearn: 0.1470045\ttotal: 41.1s\tremaining: 46.4s\n",
      "47:\tlearn: 0.1465631\ttotal: 41.9s\tremaining: 45.4s\n",
      "48:\tlearn: 0.1458514\ttotal: 42.8s\tremaining: 44.5s\n",
      "49:\tlearn: 0.1453475\ttotal: 43.6s\tremaining: 43.6s\n",
      "50:\tlearn: 0.1446820\ttotal: 44.5s\tremaining: 42.7s\n",
      "51:\tlearn: 0.1439030\ttotal: 45.4s\tremaining: 41.9s\n",
      "52:\tlearn: 0.1432932\ttotal: 46.3s\tremaining: 41s\n",
      "53:\tlearn: 0.1427749\ttotal: 47.1s\tremaining: 40.1s\n",
      "54:\tlearn: 0.1423876\ttotal: 47.9s\tremaining: 39.2s\n",
      "55:\tlearn: 0.1418622\ttotal: 48.7s\tremaining: 38.3s\n",
      "56:\tlearn: 0.1414219\ttotal: 49.6s\tremaining: 37.4s\n",
      "57:\tlearn: 0.1409469\ttotal: 50.5s\tremaining: 36.6s\n",
      "58:\tlearn: 0.1405499\ttotal: 51.4s\tremaining: 35.7s\n",
      "59:\tlearn: 0.1402132\ttotal: 52.2s\tremaining: 34.8s\n",
      "60:\tlearn: 0.1398153\ttotal: 53s\tremaining: 33.9s\n",
      "61:\tlearn: 0.1393030\ttotal: 53.8s\tremaining: 33s\n",
      "62:\tlearn: 0.1388950\ttotal: 54.7s\tremaining: 32.1s\n",
      "63:\tlearn: 0.1386180\ttotal: 55.6s\tremaining: 31.3s\n",
      "64:\tlearn: 0.1381381\ttotal: 56.5s\tremaining: 30.4s\n",
      "65:\tlearn: 0.1378832\ttotal: 57.3s\tremaining: 29.5s\n",
      "66:\tlearn: 0.1375610\ttotal: 58.1s\tremaining: 28.6s\n",
      "67:\tlearn: 0.1371110\ttotal: 58.9s\tremaining: 27.7s\n",
      "68:\tlearn: 0.1367579\ttotal: 59.8s\tremaining: 26.8s\n",
      "69:\tlearn: 0.1362699\ttotal: 1m\tremaining: 26s\n",
      "70:\tlearn: 0.1360268\ttotal: 1m 1s\tremaining: 25.1s\n",
      "71:\tlearn: 0.1357689\ttotal: 1m 2s\tremaining: 24.2s\n",
      "72:\tlearn: 0.1353669\ttotal: 1m 3s\tremaining: 23.3s\n",
      "73:\tlearn: 0.1351251\ttotal: 1m 3s\tremaining: 22.5s\n",
      "74:\tlearn: 0.1347267\ttotal: 1m 4s\tremaining: 21.6s\n",
      "75:\tlearn: 0.1344786\ttotal: 1m 5s\tremaining: 20.7s\n",
      "76:\tlearn: 0.1340493\ttotal: 1m 6s\tremaining: 19.8s\n",
      "77:\tlearn: 0.1336175\ttotal: 1m 7s\tremaining: 18.9s\n",
      "78:\tlearn: 0.1333643\ttotal: 1m 7s\tremaining: 18s\n",
      "79:\tlearn: 0.1331795\ttotal: 1m 8s\tremaining: 17.1s\n",
      "80:\tlearn: 0.1329224\ttotal: 1m 9s\tremaining: 16.3s\n",
      "81:\tlearn: 0.1326292\ttotal: 1m 10s\tremaining: 15.4s\n",
      "82:\tlearn: 0.1324471\ttotal: 1m 10s\tremaining: 14.5s\n",
      "83:\tlearn: 0.1320915\ttotal: 1m 11s\tremaining: 13.7s\n",
      "84:\tlearn: 0.1319087\ttotal: 1m 12s\tremaining: 12.8s\n",
      "85:\tlearn: 0.1317477\ttotal: 1m 13s\tremaining: 11.9s\n",
      "86:\tlearn: 0.1314199\ttotal: 1m 14s\tremaining: 11.1s\n",
      "87:\tlearn: 0.1309521\ttotal: 1m 15s\tremaining: 10.2s\n",
      "88:\tlearn: 0.1307760\ttotal: 1m 15s\tremaining: 9.36s\n",
      "89:\tlearn: 0.1303776\ttotal: 1m 16s\tremaining: 8.51s\n",
      "90:\tlearn: 0.1301636\ttotal: 1m 17s\tremaining: 7.65s\n",
      "91:\tlearn: 0.1297045\ttotal: 1m 18s\tremaining: 6.8s\n",
      "92:\tlearn: 0.1294503\ttotal: 1m 18s\tremaining: 5.94s\n",
      "93:\tlearn: 0.1292980\ttotal: 1m 19s\tremaining: 5.09s\n",
      "94:\tlearn: 0.1291238\ttotal: 1m 20s\tremaining: 4.24s\n",
      "95:\tlearn: 0.1287762\ttotal: 1m 21s\tremaining: 3.39s\n",
      "96:\tlearn: 0.1286198\ttotal: 1m 22s\tremaining: 2.54s\n",
      "97:\tlearn: 0.1281034\ttotal: 1m 22s\tremaining: 1.69s\n",
      "98:\tlearn: 0.1278621\ttotal: 1m 23s\tremaining: 846ms\n",
      "99:\tlearn: 0.1274922\ttotal: 1m 24s\tremaining: 0us\n",
      "Learning rate set to 0.5\n",
      "0:\tlearn: 0.3526826\ttotal: 961ms\tremaining: 1m 35s\n",
      "1:\tlearn: 0.2720884\ttotal: 1.95s\tremaining: 1m 35s\n",
      "2:\tlearn: 0.2450010\ttotal: 2.99s\tremaining: 1m 36s\n",
      "3:\tlearn: 0.2284633\ttotal: 3.89s\tremaining: 1m 33s\n",
      "4:\tlearn: 0.2215049\ttotal: 4.76s\tremaining: 1m 30s\n",
      "5:\tlearn: 0.2156456\ttotal: 5.67s\tremaining: 1m 28s\n",
      "6:\tlearn: 0.2098688\ttotal: 6.66s\tremaining: 1m 28s\n",
      "7:\tlearn: 0.2053466\ttotal: 7.58s\tremaining: 1m 27s\n",
      "8:\tlearn: 0.1997985\ttotal: 8.48s\tremaining: 1m 25s\n",
      "9:\tlearn: 0.1966760\ttotal: 9.37s\tremaining: 1m 24s\n",
      "10:\tlearn: 0.1937861\ttotal: 10.3s\tremaining: 1m 23s\n",
      "11:\tlearn: 0.1911334\ttotal: 11.3s\tremaining: 1m 22s\n",
      "12:\tlearn: 0.1875226\ttotal: 12.2s\tremaining: 1m 21s\n",
      "13:\tlearn: 0.1851048\ttotal: 13s\tremaining: 1m 20s\n",
      "14:\tlearn: 0.1833468\ttotal: 13.9s\tremaining: 1m 18s\n",
      "15:\tlearn: 0.1818170\ttotal: 14.8s\tremaining: 1m 17s\n",
      "16:\tlearn: 0.1793285\ttotal: 15.6s\tremaining: 1m 16s\n",
      "17:\tlearn: 0.1778504\ttotal: 16.6s\tremaining: 1m 15s\n",
      "18:\tlearn: 0.1760325\ttotal: 17.4s\tremaining: 1m 14s\n",
      "19:\tlearn: 0.1747049\ttotal: 18.3s\tremaining: 1m 13s\n",
      "20:\tlearn: 0.1725155\ttotal: 19.2s\tremaining: 1m 12s\n",
      "21:\tlearn: 0.1712749\ttotal: 20s\tremaining: 1m 11s\n",
      "22:\tlearn: 0.1695223\ttotal: 20.9s\tremaining: 1m 10s\n",
      "23:\tlearn: 0.1676019\ttotal: 21.8s\tremaining: 1m 9s\n",
      "24:\tlearn: 0.1660603\ttotal: 22.6s\tremaining: 1m 7s\n",
      "25:\tlearn: 0.1649216\ttotal: 23.5s\tremaining: 1m 6s\n",
      "26:\tlearn: 0.1638865\ttotal: 24.4s\tremaining: 1m 5s\n",
      "27:\tlearn: 0.1628670\ttotal: 25.2s\tremaining: 1m 4s\n",
      "28:\tlearn: 0.1620403\ttotal: 26s\tremaining: 1m 3s\n",
      "29:\tlearn: 0.1608469\ttotal: 26.8s\tremaining: 1m 2s\n",
      "30:\tlearn: 0.1600215\ttotal: 27.7s\tremaining: 1m 1s\n",
      "31:\tlearn: 0.1591763\ttotal: 28.5s\tremaining: 1m\n",
      "32:\tlearn: 0.1580765\ttotal: 29.3s\tremaining: 59.4s\n",
      "33:\tlearn: 0.1569032\ttotal: 30.1s\tremaining: 58.5s\n",
      "34:\tlearn: 0.1561557\ttotal: 30.9s\tremaining: 57.4s\n",
      "35:\tlearn: 0.1549608\ttotal: 31.8s\tremaining: 56.5s\n",
      "36:\tlearn: 0.1539986\ttotal: 32.7s\tremaining: 55.7s\n",
      "37:\tlearn: 0.1529734\ttotal: 33.6s\tremaining: 54.8s\n",
      "38:\tlearn: 0.1521196\ttotal: 34.3s\tremaining: 53.7s\n",
      "39:\tlearn: 0.1513180\ttotal: 35.1s\tremaining: 52.7s\n",
      "40:\tlearn: 0.1506747\ttotal: 35.9s\tremaining: 51.6s\n",
      "41:\tlearn: 0.1499366\ttotal: 36.8s\tremaining: 50.8s\n",
      "42:\tlearn: 0.1493800\ttotal: 37.6s\tremaining: 49.9s\n",
      "43:\tlearn: 0.1488615\ttotal: 38.5s\tremaining: 48.9s\n",
      "44:\tlearn: 0.1483025\ttotal: 39.2s\tremaining: 48s\n",
      "45:\tlearn: 0.1476719\ttotal: 40.1s\tremaining: 47.1s\n",
      "46:\tlearn: 0.1469956\ttotal: 41s\tremaining: 46.2s\n",
      "47:\tlearn: 0.1464918\ttotal: 41.7s\tremaining: 45.2s\n",
      "48:\tlearn: 0.1457794\ttotal: 42.5s\tremaining: 44.3s\n",
      "49:\tlearn: 0.1452231\ttotal: 43.4s\tremaining: 43.4s\n",
      "50:\tlearn: 0.1445129\ttotal: 44.2s\tremaining: 42.5s\n",
      "51:\tlearn: 0.1436687\ttotal: 45s\tremaining: 41.6s\n",
      "52:\tlearn: 0.1432787\ttotal: 45.8s\tremaining: 40.6s\n",
      "53:\tlearn: 0.1427474\ttotal: 46.6s\tremaining: 39.7s\n",
      "54:\tlearn: 0.1422739\ttotal: 47.5s\tremaining: 38.8s\n",
      "55:\tlearn: 0.1416676\ttotal: 48.2s\tremaining: 37.9s\n",
      "56:\tlearn: 0.1409750\ttotal: 49.1s\tremaining: 37s\n",
      "57:\tlearn: 0.1404953\ttotal: 49.9s\tremaining: 36.1s\n",
      "58:\tlearn: 0.1401641\ttotal: 50.7s\tremaining: 35.2s\n",
      "59:\tlearn: 0.1395235\ttotal: 51.5s\tremaining: 34.3s\n",
      "60:\tlearn: 0.1389999\ttotal: 52.3s\tremaining: 33.4s\n",
      "61:\tlearn: 0.1386709\ttotal: 53.1s\tremaining: 32.6s\n",
      "62:\tlearn: 0.1381695\ttotal: 53.9s\tremaining: 31.7s\n",
      "63:\tlearn: 0.1377410\ttotal: 54.8s\tremaining: 30.8s\n",
      "64:\tlearn: 0.1373550\ttotal: 55.5s\tremaining: 29.9s\n",
      "65:\tlearn: 0.1370021\ttotal: 56.4s\tremaining: 29.1s\n",
      "66:\tlearn: 0.1364852\ttotal: 57.3s\tremaining: 28.2s\n",
      "67:\tlearn: 0.1361172\ttotal: 58.1s\tremaining: 27.3s\n",
      "68:\tlearn: 0.1358419\ttotal: 58.9s\tremaining: 26.5s\n",
      "69:\tlearn: 0.1356012\ttotal: 59.7s\tremaining: 25.6s\n",
      "70:\tlearn: 0.1353365\ttotal: 1m\tremaining: 24.7s\n",
      "71:\tlearn: 0.1348646\ttotal: 1m 1s\tremaining: 23.9s\n",
      "72:\tlearn: 0.1344112\ttotal: 1m 2s\tremaining: 23s\n",
      "73:\tlearn: 0.1341311\ttotal: 1m 3s\tremaining: 22.2s\n",
      "74:\tlearn: 0.1336662\ttotal: 1m 3s\tremaining: 21.3s\n",
      "75:\tlearn: 0.1333980\ttotal: 1m 4s\tremaining: 20.4s\n",
      "76:\tlearn: 0.1329704\ttotal: 1m 5s\tremaining: 19.6s\n",
      "77:\tlearn: 0.1326892\ttotal: 1m 6s\tremaining: 18.7s\n",
      "78:\tlearn: 0.1324241\ttotal: 1m 7s\tremaining: 17.9s\n",
      "79:\tlearn: 0.1322025\ttotal: 1m 8s\tremaining: 17s\n",
      "80:\tlearn: 0.1320086\ttotal: 1m 8s\tremaining: 16.2s\n",
      "81:\tlearn: 0.1314950\ttotal: 1m 9s\tremaining: 15.3s\n",
      "82:\tlearn: 0.1310361\ttotal: 1m 10s\tremaining: 14.5s\n",
      "83:\tlearn: 0.1306666\ttotal: 1m 11s\tremaining: 13.6s\n",
      "84:\tlearn: 0.1304530\ttotal: 1m 12s\tremaining: 12.8s\n",
      "85:\tlearn: 0.1301046\ttotal: 1m 13s\tremaining: 11.9s\n",
      "86:\tlearn: 0.1297186\ttotal: 1m 14s\tremaining: 11.1s\n",
      "87:\tlearn: 0.1295017\ttotal: 1m 14s\tremaining: 10.2s\n",
      "88:\tlearn: 0.1293614\ttotal: 1m 15s\tremaining: 9.35s\n",
      "89:\tlearn: 0.1291237\ttotal: 1m 16s\tremaining: 8.49s\n",
      "90:\tlearn: 0.1284652\ttotal: 1m 17s\tremaining: 7.64s\n",
      "91:\tlearn: 0.1283016\ttotal: 1m 18s\tremaining: 6.79s\n",
      "92:\tlearn: 0.1281205\ttotal: 1m 18s\tremaining: 5.93s\n",
      "93:\tlearn: 0.1279458\ttotal: 1m 19s\tremaining: 5.08s\n",
      "94:\tlearn: 0.1277012\ttotal: 1m 20s\tremaining: 4.24s\n",
      "95:\tlearn: 0.1275765\ttotal: 1m 21s\tremaining: 3.38s\n",
      "96:\tlearn: 0.1273848\ttotal: 1m 22s\tremaining: 2.54s\n",
      "97:\tlearn: 0.1270130\ttotal: 1m 22s\tremaining: 1.69s\n",
      "98:\tlearn: 0.1268053\ttotal: 1m 23s\tremaining: 846ms\n",
      "99:\tlearn: 0.1265074\ttotal: 1m 24s\tremaining: 0us\n",
      "Learning rate set to 0.5\n",
      "0:\tlearn: 0.3587712\ttotal: 1.06s\tremaining: 1m 44s\n",
      "1:\tlearn: 0.2712645\ttotal: 2s\tremaining: 1m 37s\n",
      "2:\tlearn: 0.2436701\ttotal: 2.95s\tremaining: 1m 35s\n",
      "3:\tlearn: 0.2303186\ttotal: 3.8s\tremaining: 1m 31s\n",
      "4:\tlearn: 0.2232145\ttotal: 4.71s\tremaining: 1m 29s\n",
      "5:\tlearn: 0.2146064\ttotal: 5.65s\tremaining: 1m 28s\n",
      "6:\tlearn: 0.2085591\ttotal: 6.55s\tremaining: 1m 26s\n",
      "7:\tlearn: 0.2044269\ttotal: 7.45s\tremaining: 1m 25s\n",
      "8:\tlearn: 0.2013506\ttotal: 8.33s\tremaining: 1m 24s\n",
      "9:\tlearn: 0.1960102\ttotal: 9.24s\tremaining: 1m 23s\n",
      "10:\tlearn: 0.1932518\ttotal: 10.1s\tremaining: 1m 21s\n",
      "11:\tlearn: 0.1903170\ttotal: 10.9s\tremaining: 1m 20s\n",
      "12:\tlearn: 0.1880377\ttotal: 11.8s\tremaining: 1m 18s\n",
      "13:\tlearn: 0.1854940\ttotal: 12.6s\tremaining: 1m 17s\n",
      "14:\tlearn: 0.1826421\ttotal: 13.6s\tremaining: 1m 17s\n",
      "15:\tlearn: 0.1810124\ttotal: 14.6s\tremaining: 1m 16s\n",
      "16:\tlearn: 0.1790741\ttotal: 15.4s\tremaining: 1m 15s\n",
      "17:\tlearn: 0.1764744\ttotal: 16.3s\tremaining: 1m 14s\n",
      "18:\tlearn: 0.1745432\ttotal: 17.2s\tremaining: 1m 13s\n",
      "19:\tlearn: 0.1732916\ttotal: 18s\tremaining: 1m 11s\n",
      "20:\tlearn: 0.1716743\ttotal: 18.8s\tremaining: 1m 10s\n",
      "21:\tlearn: 0.1706808\ttotal: 19.6s\tremaining: 1m 9s\n",
      "22:\tlearn: 0.1689758\ttotal: 20.5s\tremaining: 1m 8s\n",
      "23:\tlearn: 0.1678079\ttotal: 21.3s\tremaining: 1m 7s\n",
      "24:\tlearn: 0.1662794\ttotal: 22.1s\tremaining: 1m 6s\n",
      "25:\tlearn: 0.1646806\ttotal: 22.9s\tremaining: 1m 5s\n",
      "26:\tlearn: 0.1631830\ttotal: 23.8s\tremaining: 1m 4s\n",
      "27:\tlearn: 0.1620972\ttotal: 24.7s\tremaining: 1m 3s\n",
      "28:\tlearn: 0.1612717\ttotal: 25.6s\tremaining: 1m 2s\n",
      "29:\tlearn: 0.1602867\ttotal: 26.4s\tremaining: 1m 1s\n",
      "30:\tlearn: 0.1594741\ttotal: 27.2s\tremaining: 1m\n",
      "31:\tlearn: 0.1584306\ttotal: 28s\tremaining: 59.6s\n",
      "32:\tlearn: 0.1567378\ttotal: 28.9s\tremaining: 58.6s\n",
      "33:\tlearn: 0.1556103\ttotal: 29.6s\tremaining: 57.5s\n",
      "34:\tlearn: 0.1546894\ttotal: 30.4s\tremaining: 56.5s\n",
      "35:\tlearn: 0.1537986\ttotal: 31.2s\tremaining: 55.5s\n",
      "36:\tlearn: 0.1530167\ttotal: 32.1s\tremaining: 54.6s\n",
      "37:\tlearn: 0.1520934\ttotal: 32.9s\tremaining: 53.7s\n",
      "38:\tlearn: 0.1514165\ttotal: 33.8s\tremaining: 52.8s\n",
      "39:\tlearn: 0.1507365\ttotal: 34.6s\tremaining: 51.9s\n",
      "40:\tlearn: 0.1501986\ttotal: 35.4s\tremaining: 50.9s\n",
      "41:\tlearn: 0.1491783\ttotal: 36.2s\tremaining: 50s\n",
      "42:\tlearn: 0.1481729\ttotal: 37s\tremaining: 49.1s\n",
      "43:\tlearn: 0.1475757\ttotal: 38s\tremaining: 48.3s\n",
      "44:\tlearn: 0.1467796\ttotal: 38.8s\tremaining: 47.5s\n",
      "45:\tlearn: 0.1458946\ttotal: 39.6s\tremaining: 46.5s\n",
      "46:\tlearn: 0.1451673\ttotal: 40.4s\tremaining: 45.6s\n",
      "47:\tlearn: 0.1446127\ttotal: 41.3s\tremaining: 44.7s\n",
      "48:\tlearn: 0.1441391\ttotal: 42s\tremaining: 43.7s\n",
      "49:\tlearn: 0.1433173\ttotal: 42.9s\tremaining: 42.9s\n",
      "50:\tlearn: 0.1426970\ttotal: 43.7s\tremaining: 42s\n",
      "51:\tlearn: 0.1422425\ttotal: 44.5s\tremaining: 41s\n",
      "52:\tlearn: 0.1417167\ttotal: 45.3s\tremaining: 40.1s\n",
      "53:\tlearn: 0.1412528\ttotal: 46.1s\tremaining: 39.3s\n",
      "54:\tlearn: 0.1407221\ttotal: 46.9s\tremaining: 38.4s\n",
      "55:\tlearn: 0.1402807\ttotal: 47.7s\tremaining: 37.5s\n",
      "56:\tlearn: 0.1396550\ttotal: 48.5s\tremaining: 36.6s\n",
      "57:\tlearn: 0.1392289\ttotal: 49.3s\tremaining: 35.7s\n",
      "58:\tlearn: 0.1389176\ttotal: 50.1s\tremaining: 34.8s\n",
      "59:\tlearn: 0.1385050\ttotal: 50.9s\tremaining: 33.9s\n",
      "60:\tlearn: 0.1377886\ttotal: 51.7s\tremaining: 33.1s\n",
      "61:\tlearn: 0.1375044\ttotal: 52.6s\tremaining: 32.2s\n",
      "62:\tlearn: 0.1370846\ttotal: 53.4s\tremaining: 31.4s\n",
      "63:\tlearn: 0.1367530\ttotal: 54.2s\tremaining: 30.5s\n",
      "64:\tlearn: 0.1362516\ttotal: 55s\tremaining: 29.6s\n",
      "65:\tlearn: 0.1360066\ttotal: 55.8s\tremaining: 28.8s\n",
      "66:\tlearn: 0.1357255\ttotal: 56.6s\tremaining: 27.9s\n",
      "67:\tlearn: 0.1355003\ttotal: 57.4s\tremaining: 27s\n",
      "68:\tlearn: 0.1350558\ttotal: 58.2s\tremaining: 26.1s\n",
      "69:\tlearn: 0.1347399\ttotal: 59s\tremaining: 25.3s\n",
      "70:\tlearn: 0.1343782\ttotal: 59.8s\tremaining: 24.4s\n",
      "71:\tlearn: 0.1341272\ttotal: 1m\tremaining: 23.6s\n",
      "72:\tlearn: 0.1335877\ttotal: 1m 1s\tremaining: 22.7s\n",
      "73:\tlearn: 0.1333410\ttotal: 1m 2s\tremaining: 21.8s\n",
      "74:\tlearn: 0.1329499\ttotal: 1m 2s\tremaining: 21s\n",
      "75:\tlearn: 0.1326561\ttotal: 1m 3s\tremaining: 20.1s\n",
      "76:\tlearn: 0.1322241\ttotal: 1m 4s\tremaining: 19.3s\n",
      "77:\tlearn: 0.1320075\ttotal: 1m 5s\tremaining: 18.4s\n",
      "78:\tlearn: 0.1317777\ttotal: 1m 6s\tremaining: 17.6s\n",
      "79:\tlearn: 0.1312476\ttotal: 1m 6s\tremaining: 16.7s\n",
      "80:\tlearn: 0.1309015\ttotal: 1m 7s\tremaining: 15.9s\n",
      "81:\tlearn: 0.1306928\ttotal: 1m 8s\tremaining: 15s\n",
      "82:\tlearn: 0.1304860\ttotal: 1m 9s\tremaining: 14.2s\n",
      "83:\tlearn: 0.1302799\ttotal: 1m 10s\tremaining: 13.3s\n",
      "84:\tlearn: 0.1298883\ttotal: 1m 10s\tremaining: 12.5s\n",
      "85:\tlearn: 0.1293640\ttotal: 1m 11s\tremaining: 11.7s\n",
      "86:\tlearn: 0.1291558\ttotal: 1m 12s\tremaining: 10.8s\n",
      "87:\tlearn: 0.1288090\ttotal: 1m 13s\tremaining: 10s\n",
      "88:\tlearn: 0.1285694\ttotal: 1m 14s\tremaining: 9.18s\n",
      "89:\tlearn: 0.1283769\ttotal: 1m 15s\tremaining: 8.34s\n",
      "90:\tlearn: 0.1282036\ttotal: 1m 15s\tremaining: 7.5s\n",
      "91:\tlearn: 0.1276275\ttotal: 1m 16s\tremaining: 6.67s\n",
      "92:\tlearn: 0.1273095\ttotal: 1m 17s\tremaining: 5.84s\n",
      "93:\tlearn: 0.1271410\ttotal: 1m 18s\tremaining: 5s\n",
      "94:\tlearn: 0.1266546\ttotal: 1m 19s\tremaining: 4.17s\n",
      "95:\tlearn: 0.1262277\ttotal: 1m 19s\tremaining: 3.33s\n",
      "96:\tlearn: 0.1258897\ttotal: 1m 20s\tremaining: 2.5s\n",
      "97:\tlearn: 0.1255160\ttotal: 1m 21s\tremaining: 1.67s\n",
      "98:\tlearn: 0.1253134\ttotal: 1m 22s\tremaining: 832ms\n",
      "99:\tlearn: 0.1251377\ttotal: 1m 23s\tremaining: 0us\n",
      "Learning rate set to 0.5\n",
      "0:\tlearn: 0.3471714\ttotal: 1.12s\tremaining: 1m 50s\n",
      "1:\tlearn: 0.2671709\ttotal: 2.03s\tremaining: 1m 39s\n",
      "2:\tlearn: 0.2410075\ttotal: 2.91s\tremaining: 1m 34s\n",
      "3:\tlearn: 0.2287403\ttotal: 3.77s\tremaining: 1m 30s\n",
      "4:\tlearn: 0.2214709\ttotal: 4.62s\tremaining: 1m 27s\n",
      "5:\tlearn: 0.2123023\ttotal: 5.57s\tremaining: 1m 27s\n",
      "6:\tlearn: 0.2076928\ttotal: 6.45s\tremaining: 1m 25s\n",
      "7:\tlearn: 0.2015682\ttotal: 7.35s\tremaining: 1m 24s\n",
      "8:\tlearn: 0.1980282\ttotal: 8.26s\tremaining: 1m 23s\n",
      "9:\tlearn: 0.1952620\ttotal: 9.15s\tremaining: 1m 22s\n",
      "10:\tlearn: 0.1925911\ttotal: 10.1s\tremaining: 1m 21s\n",
      "11:\tlearn: 0.1895383\ttotal: 11s\tremaining: 1m 20s\n",
      "12:\tlearn: 0.1869529\ttotal: 12s\tremaining: 1m 19s\n",
      "13:\tlearn: 0.1851296\ttotal: 12.8s\tremaining: 1m 18s\n",
      "14:\tlearn: 0.1825531\ttotal: 13.7s\tremaining: 1m 17s\n",
      "15:\tlearn: 0.1808029\ttotal: 14.6s\tremaining: 1m 16s\n",
      "16:\tlearn: 0.1776099\ttotal: 15.4s\tremaining: 1m 15s\n",
      "17:\tlearn: 0.1760799\ttotal: 16.3s\tremaining: 1m 14s\n",
      "18:\tlearn: 0.1740877\ttotal: 17.2s\tremaining: 1m 13s\n",
      "19:\tlearn: 0.1723569\ttotal: 18.1s\tremaining: 1m 12s\n",
      "20:\tlearn: 0.1710621\ttotal: 19s\tremaining: 1m 11s\n",
      "21:\tlearn: 0.1698039\ttotal: 19.9s\tremaining: 1m 10s\n",
      "22:\tlearn: 0.1684125\ttotal: 20.7s\tremaining: 1m 9s\n",
      "23:\tlearn: 0.1674647\ttotal: 21.6s\tremaining: 1m 8s\n",
      "24:\tlearn: 0.1665306\ttotal: 22.5s\tremaining: 1m 7s\n",
      "25:\tlearn: 0.1653880\ttotal: 23.3s\tremaining: 1m 6s\n",
      "26:\tlearn: 0.1638375\ttotal: 24.2s\tremaining: 1m 5s\n",
      "27:\tlearn: 0.1629805\ttotal: 25s\tremaining: 1m 4s\n",
      "28:\tlearn: 0.1621816\ttotal: 25.8s\tremaining: 1m 3s\n",
      "29:\tlearn: 0.1614024\ttotal: 26.7s\tremaining: 1m 2s\n",
      "30:\tlearn: 0.1599325\ttotal: 27.8s\tremaining: 1m 1s\n",
      "31:\tlearn: 0.1589190\ttotal: 28.6s\tremaining: 1m\n",
      "32:\tlearn: 0.1580253\ttotal: 29.5s\tremaining: 59.8s\n",
      "33:\tlearn: 0.1570356\ttotal: 30.3s\tremaining: 58.8s\n",
      "34:\tlearn: 0.1563679\ttotal: 31.2s\tremaining: 57.9s\n",
      "35:\tlearn: 0.1555157\ttotal: 32s\tremaining: 57s\n",
      "36:\tlearn: 0.1547829\ttotal: 32.9s\tremaining: 56.1s\n",
      "37:\tlearn: 0.1533545\ttotal: 33.8s\tremaining: 55.1s\n",
      "38:\tlearn: 0.1527833\ttotal: 34.6s\tremaining: 54.2s\n",
      "39:\tlearn: 0.1521028\ttotal: 35.5s\tremaining: 53.3s\n",
      "40:\tlearn: 0.1513767\ttotal: 36.4s\tremaining: 52.4s\n",
      "41:\tlearn: 0.1506490\ttotal: 37.3s\tremaining: 51.5s\n",
      "42:\tlearn: 0.1499244\ttotal: 38.2s\tremaining: 50.6s\n",
      "43:\tlearn: 0.1492901\ttotal: 39s\tremaining: 49.6s\n",
      "44:\tlearn: 0.1488672\ttotal: 39.7s\tremaining: 48.5s\n",
      "45:\tlearn: 0.1481653\ttotal: 40.6s\tremaining: 47.6s\n",
      "46:\tlearn: 0.1474805\ttotal: 41.4s\tremaining: 46.7s\n",
      "47:\tlearn: 0.1469930\ttotal: 42.2s\tremaining: 45.7s\n",
      "48:\tlearn: 0.1463748\ttotal: 43s\tremaining: 44.8s\n",
      "49:\tlearn: 0.1459056\ttotal: 43.8s\tremaining: 43.8s\n",
      "50:\tlearn: 0.1455285\ttotal: 44.6s\tremaining: 42.9s\n",
      "51:\tlearn: 0.1449280\ttotal: 45.4s\tremaining: 42s\n",
      "52:\tlearn: 0.1444886\ttotal: 46.3s\tremaining: 41.1s\n",
      "53:\tlearn: 0.1438726\ttotal: 47.1s\tremaining: 40.1s\n",
      "54:\tlearn: 0.1434635\ttotal: 47.9s\tremaining: 39.2s\n",
      "55:\tlearn: 0.1428484\ttotal: 48.8s\tremaining: 38.3s\n",
      "56:\tlearn: 0.1424339\ttotal: 49.6s\tremaining: 37.4s\n",
      "57:\tlearn: 0.1419982\ttotal: 50.4s\tremaining: 36.5s\n",
      "58:\tlearn: 0.1415878\ttotal: 51.3s\tremaining: 35.7s\n",
      "59:\tlearn: 0.1412453\ttotal: 52.1s\tremaining: 34.7s\n",
      "60:\tlearn: 0.1406228\ttotal: 53s\tremaining: 33.9s\n",
      "61:\tlearn: 0.1402959\ttotal: 53.7s\tremaining: 32.9s\n",
      "62:\tlearn: 0.1399682\ttotal: 54.5s\tremaining: 32s\n",
      "63:\tlearn: 0.1390721\ttotal: 55.4s\tremaining: 31.1s\n",
      "64:\tlearn: 0.1385452\ttotal: 56.3s\tremaining: 30.3s\n",
      "65:\tlearn: 0.1380714\ttotal: 57.1s\tremaining: 29.4s\n",
      "66:\tlearn: 0.1372989\ttotal: 58s\tremaining: 28.5s\n",
      "67:\tlearn: 0.1368490\ttotal: 58.8s\tremaining: 27.7s\n",
      "68:\tlearn: 0.1363410\ttotal: 59.6s\tremaining: 26.8s\n",
      "69:\tlearn: 0.1358838\ttotal: 1m\tremaining: 25.9s\n",
      "70:\tlearn: 0.1356177\ttotal: 1m 1s\tremaining: 25s\n",
      "71:\tlearn: 0.1353181\ttotal: 1m 2s\tremaining: 24.2s\n",
      "72:\tlearn: 0.1350761\ttotal: 1m 2s\tremaining: 23.3s\n",
      "73:\tlearn: 0.1348412\ttotal: 1m 3s\tremaining: 22.4s\n",
      "74:\tlearn: 0.1343777\ttotal: 1m 4s\tremaining: 21.5s\n",
      "75:\tlearn: 0.1338562\ttotal: 1m 5s\tremaining: 20.7s\n",
      "76:\tlearn: 0.1335209\ttotal: 1m 6s\tremaining: 19.8s\n",
      "77:\tlearn: 0.1332814\ttotal: 1m 7s\tremaining: 18.9s\n",
      "78:\tlearn: 0.1330836\ttotal: 1m 7s\tremaining: 18s\n",
      "79:\tlearn: 0.1326425\ttotal: 1m 8s\tremaining: 17.2s\n",
      "80:\tlearn: 0.1320448\ttotal: 1m 9s\tremaining: 16.3s\n",
      "81:\tlearn: 0.1317617\ttotal: 1m 10s\tremaining: 15.5s\n",
      "82:\tlearn: 0.1315686\ttotal: 1m 11s\tremaining: 14.6s\n",
      "83:\tlearn: 0.1309190\ttotal: 1m 12s\tremaining: 13.7s\n",
      "84:\tlearn: 0.1305665\ttotal: 1m 12s\tremaining: 12.9s\n",
      "85:\tlearn: 0.1303574\ttotal: 1m 13s\tremaining: 12s\n",
      "86:\tlearn: 0.1301611\ttotal: 1m 14s\tremaining: 11.1s\n",
      "87:\tlearn: 0.1299658\ttotal: 1m 15s\tremaining: 10.3s\n",
      "88:\tlearn: 0.1297839\ttotal: 1m 16s\tremaining: 9.42s\n",
      "89:\tlearn: 0.1296275\ttotal: 1m 17s\tremaining: 8.56s\n",
      "90:\tlearn: 0.1294411\ttotal: 1m 17s\tremaining: 7.71s\n",
      "91:\tlearn: 0.1291472\ttotal: 1m 18s\tremaining: 6.85s\n",
      "92:\tlearn: 0.1289429\ttotal: 1m 19s\tremaining: 5.99s\n",
      "93:\tlearn: 0.1285829\ttotal: 1m 20s\tremaining: 5.13s\n",
      "94:\tlearn: 0.1283289\ttotal: 1m 21s\tremaining: 4.28s\n",
      "95:\tlearn: 0.1278491\ttotal: 1m 22s\tremaining: 3.42s\n",
      "96:\tlearn: 0.1276177\ttotal: 1m 22s\tremaining: 2.57s\n",
      "97:\tlearn: 0.1273563\ttotal: 1m 23s\tremaining: 1.71s\n",
      "98:\tlearn: 0.1269203\ttotal: 1m 24s\tremaining: 856ms\n",
      "99:\tlearn: 0.1266109\ttotal: 1m 25s\tremaining: 0us\n",
      "Learning rate set to 0.315861\n",
      "0:\tlearn: 0.4385619\ttotal: 1.08s\tremaining: 3m 34s\n",
      "1:\tlearn: 0.3288465\ttotal: 2.01s\tremaining: 3m 19s\n",
      "2:\tlearn: 0.2802932\ttotal: 2.92s\tremaining: 3m 11s\n",
      "3:\tlearn: 0.2571052\ttotal: 3.84s\tremaining: 3m 8s\n",
      "4:\tlearn: 0.2436208\ttotal: 4.75s\tremaining: 3m 5s\n",
      "5:\tlearn: 0.2340175\ttotal: 5.67s\tremaining: 3m 3s\n",
      "6:\tlearn: 0.2261038\ttotal: 6.6s\tremaining: 3m 2s\n",
      "7:\tlearn: 0.2202239\ttotal: 7.53s\tremaining: 3m\n",
      "8:\tlearn: 0.2163628\ttotal: 8.41s\tremaining: 2m 58s\n",
      "9:\tlearn: 0.2130710\ttotal: 9.25s\tremaining: 2m 55s\n",
      "10:\tlearn: 0.2093848\ttotal: 10.2s\tremaining: 2m 54s\n",
      "11:\tlearn: 0.2069031\ttotal: 11s\tremaining: 2m 52s\n",
      "12:\tlearn: 0.2033025\ttotal: 12s\tremaining: 2m 51s\n",
      "13:\tlearn: 0.2009513\ttotal: 12.8s\tremaining: 2m 50s\n",
      "14:\tlearn: 0.1982089\ttotal: 13.7s\tremaining: 2m 48s\n",
      "15:\tlearn: 0.1959285\ttotal: 14.6s\tremaining: 2m 47s\n",
      "16:\tlearn: 0.1940003\ttotal: 15.5s\tremaining: 2m 46s\n",
      "17:\tlearn: 0.1924919\ttotal: 16.4s\tremaining: 2m 45s\n",
      "18:\tlearn: 0.1905066\ttotal: 17.2s\tremaining: 2m 44s\n",
      "19:\tlearn: 0.1887950\ttotal: 18.1s\tremaining: 2m 42s\n",
      "20:\tlearn: 0.1876079\ttotal: 19s\tremaining: 2m 42s\n",
      "21:\tlearn: 0.1863116\ttotal: 19.9s\tremaining: 2m 40s\n",
      "22:\tlearn: 0.1850342\ttotal: 20.8s\tremaining: 2m 39s\n",
      "23:\tlearn: 0.1827495\ttotal: 21.8s\tremaining: 2m 39s\n",
      "24:\tlearn: 0.1811204\ttotal: 22.6s\tremaining: 2m 38s\n",
      "25:\tlearn: 0.1800271\ttotal: 23.5s\tremaining: 2m 36s\n",
      "26:\tlearn: 0.1790602\ttotal: 24.3s\tremaining: 2m 35s\n",
      "27:\tlearn: 0.1780090\ttotal: 25.2s\tremaining: 2m 34s\n",
      "28:\tlearn: 0.1766416\ttotal: 26.1s\tremaining: 2m 33s\n",
      "29:\tlearn: 0.1754932\ttotal: 27s\tremaining: 2m 32s\n",
      "30:\tlearn: 0.1740662\ttotal: 27.9s\tremaining: 2m 31s\n",
      "31:\tlearn: 0.1732099\ttotal: 28.8s\tremaining: 2m 30s\n",
      "32:\tlearn: 0.1719464\ttotal: 29.7s\tremaining: 2m 30s\n",
      "33:\tlearn: 0.1710519\ttotal: 30.5s\tremaining: 2m 28s\n",
      "34:\tlearn: 0.1701979\ttotal: 31.4s\tremaining: 2m 28s\n",
      "35:\tlearn: 0.1693450\ttotal: 32.4s\tremaining: 2m 27s\n",
      "36:\tlearn: 0.1684677\ttotal: 33.2s\tremaining: 2m 26s\n",
      "37:\tlearn: 0.1676852\ttotal: 34s\tremaining: 2m 24s\n",
      "38:\tlearn: 0.1665886\ttotal: 34.9s\tremaining: 2m 24s\n",
      "39:\tlearn: 0.1657426\ttotal: 35.7s\tremaining: 2m 22s\n",
      "40:\tlearn: 0.1651103\ttotal: 36.5s\tremaining: 2m 21s\n",
      "41:\tlearn: 0.1645176\ttotal: 37.5s\tremaining: 2m 21s\n",
      "42:\tlearn: 0.1638288\ttotal: 38.4s\tremaining: 2m 20s\n",
      "43:\tlearn: 0.1632272\ttotal: 39.2s\tremaining: 2m 18s\n",
      "44:\tlearn: 0.1627261\ttotal: 40s\tremaining: 2m 17s\n",
      "45:\tlearn: 0.1620369\ttotal: 40.8s\tremaining: 2m 16s\n",
      "46:\tlearn: 0.1615135\ttotal: 41.6s\tremaining: 2m 15s\n",
      "47:\tlearn: 0.1607314\ttotal: 42.5s\tremaining: 2m 14s\n",
      "48:\tlearn: 0.1601745\ttotal: 43.3s\tremaining: 2m 13s\n",
      "49:\tlearn: 0.1593945\ttotal: 44s\tremaining: 2m 12s\n",
      "50:\tlearn: 0.1589282\ttotal: 44.8s\tremaining: 2m 11s\n",
      "51:\tlearn: 0.1583470\ttotal: 45.6s\tremaining: 2m 9s\n",
      "52:\tlearn: 0.1578704\ttotal: 46.5s\tremaining: 2m 8s\n",
      "53:\tlearn: 0.1572223\ttotal: 47.3s\tremaining: 2m 7s\n",
      "54:\tlearn: 0.1568737\ttotal: 48.1s\tremaining: 2m 6s\n",
      "55:\tlearn: 0.1563858\ttotal: 48.9s\tremaining: 2m 5s\n",
      "56:\tlearn: 0.1559705\ttotal: 49.7s\tremaining: 2m 4s\n",
      "57:\tlearn: 0.1554050\ttotal: 50.5s\tremaining: 2m 3s\n",
      "58:\tlearn: 0.1546521\ttotal: 51.4s\tremaining: 2m 2s\n",
      "59:\tlearn: 0.1538833\ttotal: 52.2s\tremaining: 2m 1s\n",
      "60:\tlearn: 0.1534971\ttotal: 52.9s\tremaining: 2m\n",
      "61:\tlearn: 0.1531064\ttotal: 53.7s\tremaining: 1m 59s\n",
      "62:\tlearn: 0.1526960\ttotal: 54.5s\tremaining: 1m 58s\n",
      "63:\tlearn: 0.1521670\ttotal: 55.3s\tremaining: 1m 57s\n",
      "64:\tlearn: 0.1512438\ttotal: 56.2s\tremaining: 1m 56s\n",
      "65:\tlearn: 0.1508407\ttotal: 56.9s\tremaining: 1m 55s\n",
      "66:\tlearn: 0.1504686\ttotal: 57.7s\tremaining: 1m 54s\n",
      "67:\tlearn: 0.1500598\ttotal: 58.5s\tremaining: 1m 53s\n",
      "68:\tlearn: 0.1492943\ttotal: 59.3s\tremaining: 1m 52s\n",
      "69:\tlearn: 0.1488573\ttotal: 1m\tremaining: 1m 51s\n",
      "70:\tlearn: 0.1485262\ttotal: 1m\tremaining: 1m 50s\n",
      "71:\tlearn: 0.1482548\ttotal: 1m 1s\tremaining: 1m 49s\n",
      "72:\tlearn: 0.1475095\ttotal: 1m 2s\tremaining: 1m 49s\n",
      "73:\tlearn: 0.1471445\ttotal: 1m 3s\tremaining: 1m 47s\n",
      "74:\tlearn: 0.1467787\ttotal: 1m 4s\tremaining: 1m 46s\n",
      "75:\tlearn: 0.1464937\ttotal: 1m 4s\tremaining: 1m 45s\n",
      "76:\tlearn: 0.1461448\ttotal: 1m 5s\tremaining: 1m 45s\n",
      "77:\tlearn: 0.1456651\ttotal: 1m 6s\tremaining: 1m 44s\n",
      "78:\tlearn: 0.1451364\ttotal: 1m 7s\tremaining: 1m 43s\n",
      "79:\tlearn: 0.1447259\ttotal: 1m 8s\tremaining: 1m 42s\n",
      "80:\tlearn: 0.1444464\ttotal: 1m 8s\tremaining: 1m 41s\n",
      "81:\tlearn: 0.1440977\ttotal: 1m 9s\tremaining: 1m 40s\n",
      "82:\tlearn: 0.1433592\ttotal: 1m 10s\tremaining: 1m 39s\n",
      "83:\tlearn: 0.1429434\ttotal: 1m 11s\tremaining: 1m 38s\n",
      "84:\tlearn: 0.1427252\ttotal: 1m 12s\tremaining: 1m 37s\n",
      "85:\tlearn: 0.1424783\ttotal: 1m 13s\tremaining: 1m 36s\n",
      "86:\tlearn: 0.1422803\ttotal: 1m 13s\tremaining: 1m 35s\n",
      "87:\tlearn: 0.1420613\ttotal: 1m 14s\tremaining: 1m 34s\n",
      "88:\tlearn: 0.1416292\ttotal: 1m 15s\tremaining: 1m 34s\n",
      "89:\tlearn: 0.1413582\ttotal: 1m 16s\tremaining: 1m 33s\n",
      "90:\tlearn: 0.1409971\ttotal: 1m 17s\tremaining: 1m 32s\n",
      "91:\tlearn: 0.1407150\ttotal: 1m 17s\tremaining: 1m 31s\n",
      "92:\tlearn: 0.1405058\ttotal: 1m 18s\tremaining: 1m 30s\n",
      "93:\tlearn: 0.1401568\ttotal: 1m 19s\tremaining: 1m 29s\n",
      "94:\tlearn: 0.1399467\ttotal: 1m 20s\tremaining: 1m 28s\n",
      "95:\tlearn: 0.1396436\ttotal: 1m 21s\tremaining: 1m 27s\n",
      "96:\tlearn: 0.1393555\ttotal: 1m 21s\tremaining: 1m 26s\n",
      "97:\tlearn: 0.1390477\ttotal: 1m 22s\tremaining: 1m 26s\n",
      "98:\tlearn: 0.1386946\ttotal: 1m 23s\tremaining: 1m 25s\n",
      "99:\tlearn: 0.1384881\ttotal: 1m 24s\tremaining: 1m 24s\n",
      "100:\tlearn: 0.1382101\ttotal: 1m 25s\tremaining: 1m 23s\n",
      "101:\tlearn: 0.1380100\ttotal: 1m 25s\tremaining: 1m 22s\n",
      "102:\tlearn: 0.1377140\ttotal: 1m 26s\tremaining: 1m 21s\n",
      "103:\tlearn: 0.1375308\ttotal: 1m 27s\tremaining: 1m 20s\n",
      "104:\tlearn: 0.1371398\ttotal: 1m 28s\tremaining: 1m 19s\n",
      "105:\tlearn: 0.1370159\ttotal: 1m 29s\tremaining: 1m 19s\n",
      "106:\tlearn: 0.1365732\ttotal: 1m 29s\tremaining: 1m 18s\n",
      "107:\tlearn: 0.1364276\ttotal: 1m 30s\tremaining: 1m 17s\n",
      "108:\tlearn: 0.1362541\ttotal: 1m 31s\tremaining: 1m 16s\n",
      "109:\tlearn: 0.1359711\ttotal: 1m 32s\tremaining: 1m 15s\n",
      "110:\tlearn: 0.1358062\ttotal: 1m 33s\tremaining: 1m 14s\n",
      "111:\tlearn: 0.1355870\ttotal: 1m 33s\tremaining: 1m 13s\n",
      "112:\tlearn: 0.1353351\ttotal: 1m 34s\tremaining: 1m 12s\n",
      "113:\tlearn: 0.1351842\ttotal: 1m 35s\tremaining: 1m 12s\n",
      "114:\tlearn: 0.1350396\ttotal: 1m 36s\tremaining: 1m 11s\n",
      "115:\tlearn: 0.1346889\ttotal: 1m 37s\tremaining: 1m 10s\n",
      "116:\tlearn: 0.1345289\ttotal: 1m 37s\tremaining: 1m 9s\n",
      "117:\tlearn: 0.1342345\ttotal: 1m 38s\tremaining: 1m 8s\n",
      "118:\tlearn: 0.1339505\ttotal: 1m 39s\tremaining: 1m 7s\n",
      "119:\tlearn: 0.1336099\ttotal: 1m 40s\tremaining: 1m 7s\n",
      "120:\tlearn: 0.1333314\ttotal: 1m 41s\tremaining: 1m 6s\n",
      "121:\tlearn: 0.1331242\ttotal: 1m 42s\tremaining: 1m 5s\n",
      "122:\tlearn: 0.1329890\ttotal: 1m 43s\tremaining: 1m 4s\n",
      "123:\tlearn: 0.1328677\ttotal: 1m 43s\tremaining: 1m 3s\n",
      "124:\tlearn: 0.1327392\ttotal: 1m 44s\tremaining: 1m 2s\n",
      "125:\tlearn: 0.1324328\ttotal: 1m 45s\tremaining: 1m 1s\n",
      "126:\tlearn: 0.1321190\ttotal: 1m 46s\tremaining: 1m 1s\n",
      "127:\tlearn: 0.1317175\ttotal: 1m 47s\tremaining: 1m\n",
      "128:\tlearn: 0.1314812\ttotal: 1m 47s\tremaining: 59.4s\n",
      "129:\tlearn: 0.1312451\ttotal: 1m 48s\tremaining: 58.6s\n",
      "130:\tlearn: 0.1310302\ttotal: 1m 49s\tremaining: 57.7s\n",
      "131:\tlearn: 0.1308915\ttotal: 1m 50s\tremaining: 56.9s\n",
      "132:\tlearn: 0.1307580\ttotal: 1m 51s\tremaining: 56s\n",
      "133:\tlearn: 0.1305052\ttotal: 1m 51s\tremaining: 55.2s\n",
      "134:\tlearn: 0.1303769\ttotal: 1m 52s\tremaining: 54.3s\n",
      "135:\tlearn: 0.1300375\ttotal: 1m 53s\tremaining: 53.4s\n",
      "136:\tlearn: 0.1298932\ttotal: 1m 54s\tremaining: 52.6s\n",
      "137:\tlearn: 0.1295663\ttotal: 1m 55s\tremaining: 51.7s\n",
      "138:\tlearn: 0.1294507\ttotal: 1m 55s\tremaining: 50.9s\n",
      "139:\tlearn: 0.1291688\ttotal: 1m 56s\tremaining: 50s\n",
      "140:\tlearn: 0.1290545\ttotal: 1m 57s\tremaining: 49.2s\n",
      "141:\tlearn: 0.1289417\ttotal: 1m 58s\tremaining: 48.3s\n",
      "142:\tlearn: 0.1287548\ttotal: 1m 59s\tremaining: 47.5s\n",
      "143:\tlearn: 0.1285316\ttotal: 1m 59s\tremaining: 46.6s\n",
      "144:\tlearn: 0.1282845\ttotal: 2m\tremaining: 45.8s\n",
      "145:\tlearn: 0.1280995\ttotal: 2m 1s\tremaining: 44.9s\n",
      "146:\tlearn: 0.1277942\ttotal: 2m 2s\tremaining: 44.1s\n",
      "147:\tlearn: 0.1276553\ttotal: 2m 3s\tremaining: 43.2s\n",
      "148:\tlearn: 0.1274729\ttotal: 2m 3s\tremaining: 42.4s\n",
      "149:\tlearn: 0.1272335\ttotal: 2m 4s\tremaining: 41.6s\n",
      "150:\tlearn: 0.1271242\ttotal: 2m 5s\tremaining: 40.7s\n",
      "151:\tlearn: 0.1269655\ttotal: 2m 6s\tremaining: 39.9s\n",
      "152:\tlearn: 0.1266784\ttotal: 2m 7s\tremaining: 39.1s\n",
      "153:\tlearn: 0.1265811\ttotal: 2m 7s\tremaining: 38.2s\n",
      "154:\tlearn: 0.1264831\ttotal: 2m 8s\tremaining: 37.4s\n",
      "155:\tlearn: 0.1263661\ttotal: 2m 9s\tremaining: 36.5s\n",
      "156:\tlearn: 0.1260577\ttotal: 2m 10s\tremaining: 35.7s\n",
      "157:\tlearn: 0.1258526\ttotal: 2m 11s\tremaining: 34.8s\n",
      "158:\tlearn: 0.1256529\ttotal: 2m 11s\tremaining: 34s\n",
      "159:\tlearn: 0.1255170\ttotal: 2m 12s\tremaining: 33.2s\n",
      "160:\tlearn: 0.1254108\ttotal: 2m 13s\tremaining: 32.3s\n",
      "161:\tlearn: 0.1252477\ttotal: 2m 14s\tremaining: 31.5s\n",
      "162:\tlearn: 0.1251269\ttotal: 2m 15s\tremaining: 30.7s\n",
      "163:\tlearn: 0.1249683\ttotal: 2m 15s\tremaining: 29.8s\n",
      "164:\tlearn: 0.1248215\ttotal: 2m 16s\tremaining: 29s\n",
      "165:\tlearn: 0.1247261\ttotal: 2m 17s\tremaining: 28.1s\n",
      "166:\tlearn: 0.1246502\ttotal: 2m 18s\tremaining: 27.3s\n",
      "167:\tlearn: 0.1242510\ttotal: 2m 19s\tremaining: 26.5s\n",
      "168:\tlearn: 0.1241407\ttotal: 2m 19s\tremaining: 25.6s\n",
      "169:\tlearn: 0.1239944\ttotal: 2m 20s\tremaining: 24.8s\n",
      "170:\tlearn: 0.1236981\ttotal: 2m 21s\tremaining: 24s\n",
      "171:\tlearn: 0.1233250\ttotal: 2m 22s\tremaining: 23.2s\n",
      "172:\tlearn: 0.1231198\ttotal: 2m 23s\tremaining: 22.3s\n",
      "173:\tlearn: 0.1229552\ttotal: 2m 24s\tremaining: 21.5s\n",
      "174:\tlearn: 0.1228616\ttotal: 2m 24s\tremaining: 20.7s\n",
      "175:\tlearn: 0.1227721\ttotal: 2m 25s\tremaining: 19.9s\n",
      "176:\tlearn: 0.1226819\ttotal: 2m 26s\tremaining: 19s\n",
      "177:\tlearn: 0.1225747\ttotal: 2m 27s\tremaining: 18.2s\n",
      "178:\tlearn: 0.1224412\ttotal: 2m 28s\tremaining: 17.4s\n",
      "179:\tlearn: 0.1222435\ttotal: 2m 29s\tremaining: 16.6s\n",
      "180:\tlearn: 0.1220858\ttotal: 2m 29s\tremaining: 15.7s\n",
      "181:\tlearn: 0.1217271\ttotal: 2m 30s\tremaining: 14.9s\n",
      "182:\tlearn: 0.1214567\ttotal: 2m 31s\tremaining: 14.1s\n",
      "183:\tlearn: 0.1212302\ttotal: 2m 32s\tremaining: 13.3s\n",
      "184:\tlearn: 0.1211015\ttotal: 2m 33s\tremaining: 12.4s\n",
      "185:\tlearn: 0.1208651\ttotal: 2m 34s\tremaining: 11.6s\n",
      "186:\tlearn: 0.1207667\ttotal: 2m 35s\tremaining: 10.8s\n",
      "187:\tlearn: 0.1206771\ttotal: 2m 36s\tremaining: 9.96s\n",
      "188:\tlearn: 0.1205843\ttotal: 2m 36s\tremaining: 9.13s\n",
      "189:\tlearn: 0.1204425\ttotal: 2m 37s\tremaining: 8.3s\n",
      "190:\tlearn: 0.1203518\ttotal: 2m 38s\tremaining: 7.48s\n",
      "191:\tlearn: 0.1202684\ttotal: 2m 39s\tremaining: 6.64s\n",
      "192:\tlearn: 0.1201815\ttotal: 2m 40s\tremaining: 5.81s\n",
      "193:\tlearn: 0.1198968\ttotal: 2m 41s\tremaining: 4.99s\n",
      "194:\tlearn: 0.1197469\ttotal: 2m 42s\tremaining: 4.16s\n",
      "195:\tlearn: 0.1195376\ttotal: 2m 42s\tremaining: 3.33s\n",
      "196:\tlearn: 0.1194495\ttotal: 2m 43s\tremaining: 2.49s\n",
      "197:\tlearn: 0.1193629\ttotal: 2m 44s\tremaining: 1.66s\n",
      "198:\tlearn: 0.1192739\ttotal: 2m 45s\tremaining: 831ms\n",
      "199:\tlearn: 0.1191914\ttotal: 2m 46s\tremaining: 0us\n",
      "Learning rate set to 0.315861\n",
      "0:\tlearn: 0.4323569\ttotal: 1.13s\tremaining: 3m 45s\n",
      "1:\tlearn: 0.3290332\ttotal: 2.07s\tremaining: 3m 25s\n",
      "2:\tlearn: 0.2796590\ttotal: 2.99s\tremaining: 3m 16s\n",
      "3:\tlearn: 0.2570495\ttotal: 3.91s\tremaining: 3m 11s\n",
      "4:\tlearn: 0.2429807\ttotal: 4.86s\tremaining: 3m 9s\n",
      "5:\tlearn: 0.2337325\ttotal: 5.83s\tremaining: 3m 8s\n",
      "6:\tlearn: 0.2260662\ttotal: 6.78s\tremaining: 3m 6s\n",
      "7:\tlearn: 0.2215854\ttotal: 7.73s\tremaining: 3m 5s\n",
      "8:\tlearn: 0.2174113\ttotal: 8.68s\tremaining: 3m 4s\n",
      "9:\tlearn: 0.2138043\ttotal: 9.62s\tremaining: 3m 2s\n",
      "10:\tlearn: 0.2108001\ttotal: 10.6s\tremaining: 3m 1s\n",
      "11:\tlearn: 0.2073708\ttotal: 11.5s\tremaining: 2m 59s\n",
      "12:\tlearn: 0.2035472\ttotal: 12.4s\tremaining: 2m 58s\n",
      "13:\tlearn: 0.2014353\ttotal: 13.3s\tremaining: 2m 57s\n",
      "14:\tlearn: 0.1997020\ttotal: 14.2s\tremaining: 2m 55s\n",
      "15:\tlearn: 0.1974462\ttotal: 15.1s\tremaining: 2m 53s\n",
      "16:\tlearn: 0.1955958\ttotal: 16s\tremaining: 2m 51s\n",
      "17:\tlearn: 0.1934532\ttotal: 16.8s\tremaining: 2m 50s\n",
      "18:\tlearn: 0.1919942\ttotal: 17.7s\tremaining: 2m 48s\n",
      "19:\tlearn: 0.1906005\ttotal: 18.6s\tremaining: 2m 47s\n",
      "20:\tlearn: 0.1892577\ttotal: 19.5s\tremaining: 2m 46s\n",
      "21:\tlearn: 0.1879095\ttotal: 20.5s\tremaining: 2m 45s\n",
      "22:\tlearn: 0.1867736\ttotal: 21.3s\tremaining: 2m 44s\n",
      "23:\tlearn: 0.1857226\ttotal: 22.2s\tremaining: 2m 42s\n",
      "24:\tlearn: 0.1841633\ttotal: 23.1s\tremaining: 2m 41s\n",
      "25:\tlearn: 0.1820492\ttotal: 24s\tremaining: 2m 40s\n",
      "26:\tlearn: 0.1808610\ttotal: 24.9s\tremaining: 2m 39s\n",
      "27:\tlearn: 0.1800393\ttotal: 25.8s\tremaining: 2m 38s\n",
      "28:\tlearn: 0.1786490\ttotal: 26.8s\tremaining: 2m 38s\n",
      "29:\tlearn: 0.1775000\ttotal: 27.7s\tremaining: 2m 37s\n",
      "30:\tlearn: 0.1760587\ttotal: 28.7s\tremaining: 2m 36s\n",
      "31:\tlearn: 0.1752454\ttotal: 29.6s\tremaining: 2m 35s\n",
      "32:\tlearn: 0.1744091\ttotal: 30.6s\tremaining: 2m 34s\n",
      "33:\tlearn: 0.1735116\ttotal: 31.5s\tremaining: 2m 33s\n",
      "34:\tlearn: 0.1726307\ttotal: 32.3s\tremaining: 2m 32s\n",
      "35:\tlearn: 0.1716835\ttotal: 33.2s\tremaining: 2m 31s\n",
      "36:\tlearn: 0.1701650\ttotal: 34.1s\tremaining: 2m 30s\n",
      "37:\tlearn: 0.1695301\ttotal: 35s\tremaining: 2m 29s\n",
      "38:\tlearn: 0.1685900\ttotal: 35.9s\tremaining: 2m 28s\n",
      "39:\tlearn: 0.1678763\ttotal: 36.7s\tremaining: 2m 26s\n",
      "40:\tlearn: 0.1671688\ttotal: 37.6s\tremaining: 2m 25s\n",
      "41:\tlearn: 0.1660115\ttotal: 38.5s\tremaining: 2m 24s\n",
      "42:\tlearn: 0.1653885\ttotal: 39.3s\tremaining: 2m 23s\n",
      "43:\tlearn: 0.1648178\ttotal: 40.2s\tremaining: 2m 22s\n",
      "44:\tlearn: 0.1640978\ttotal: 41.1s\tremaining: 2m 21s\n",
      "45:\tlearn: 0.1635017\ttotal: 41.9s\tremaining: 2m 20s\n",
      "46:\tlearn: 0.1628970\ttotal: 42.8s\tremaining: 2m 19s\n",
      "47:\tlearn: 0.1623549\ttotal: 43.6s\tremaining: 2m 18s\n",
      "48:\tlearn: 0.1616729\ttotal: 44.4s\tremaining: 2m 16s\n",
      "49:\tlearn: 0.1611055\ttotal: 45.4s\tremaining: 2m 16s\n",
      "50:\tlearn: 0.1605816\ttotal: 46.2s\tremaining: 2m 15s\n",
      "51:\tlearn: 0.1600968\ttotal: 47.1s\tremaining: 2m 14s\n",
      "52:\tlearn: 0.1595416\ttotal: 47.9s\tremaining: 2m 12s\n",
      "53:\tlearn: 0.1591112\ttotal: 48.7s\tremaining: 2m 11s\n",
      "54:\tlearn: 0.1583142\ttotal: 49.6s\tremaining: 2m 10s\n",
      "55:\tlearn: 0.1574412\ttotal: 50.5s\tremaining: 2m 9s\n",
      "56:\tlearn: 0.1566735\ttotal: 51.4s\tremaining: 2m 8s\n",
      "57:\tlearn: 0.1562919\ttotal: 52.2s\tremaining: 2m 7s\n",
      "58:\tlearn: 0.1558386\ttotal: 53s\tremaining: 2m 6s\n",
      "59:\tlearn: 0.1553923\ttotal: 53.8s\tremaining: 2m 5s\n",
      "60:\tlearn: 0.1549918\ttotal: 54.6s\tremaining: 2m 4s\n",
      "61:\tlearn: 0.1544637\ttotal: 55.5s\tremaining: 2m 3s\n",
      "62:\tlearn: 0.1540591\ttotal: 56.3s\tremaining: 2m 2s\n",
      "63:\tlearn: 0.1530547\ttotal: 57.1s\tremaining: 2m 1s\n",
      "64:\tlearn: 0.1523531\ttotal: 58s\tremaining: 2m\n",
      "65:\tlearn: 0.1520233\ttotal: 58.7s\tremaining: 1m 59s\n",
      "66:\tlearn: 0.1516253\ttotal: 59.5s\tremaining: 1m 58s\n",
      "67:\tlearn: 0.1512689\ttotal: 1m\tremaining: 1m 57s\n",
      "68:\tlearn: 0.1508197\ttotal: 1m 1s\tremaining: 1m 56s\n",
      "69:\tlearn: 0.1504596\ttotal: 1m 1s\tremaining: 1m 55s\n",
      "70:\tlearn: 0.1501601\ttotal: 1m 2s\tremaining: 1m 53s\n",
      "71:\tlearn: 0.1498139\ttotal: 1m 3s\tremaining: 1m 53s\n",
      "72:\tlearn: 0.1494984\ttotal: 1m 4s\tremaining: 1m 52s\n",
      "73:\tlearn: 0.1491789\ttotal: 1m 5s\tremaining: 1m 51s\n",
      "74:\tlearn: 0.1487930\ttotal: 1m 6s\tremaining: 1m 50s\n",
      "75:\tlearn: 0.1484397\ttotal: 1m 6s\tremaining: 1m 49s\n",
      "76:\tlearn: 0.1479463\ttotal: 1m 7s\tremaining: 1m 48s\n",
      "77:\tlearn: 0.1474784\ttotal: 1m 8s\tremaining: 1m 47s\n",
      "78:\tlearn: 0.1471039\ttotal: 1m 9s\tremaining: 1m 46s\n",
      "79:\tlearn: 0.1464607\ttotal: 1m 10s\tremaining: 1m 45s\n",
      "80:\tlearn: 0.1459592\ttotal: 1m 10s\tremaining: 1m 44s\n",
      "81:\tlearn: 0.1455467\ttotal: 1m 11s\tremaining: 1m 43s\n",
      "82:\tlearn: 0.1451792\ttotal: 1m 12s\tremaining: 1m 42s\n",
      "83:\tlearn: 0.1448032\ttotal: 1m 13s\tremaining: 1m 41s\n",
      "84:\tlearn: 0.1445154\ttotal: 1m 14s\tremaining: 1m 40s\n",
      "85:\tlearn: 0.1442317\ttotal: 1m 15s\tremaining: 1m 39s\n",
      "86:\tlearn: 0.1439446\ttotal: 1m 15s\tremaining: 1m 38s\n",
      "87:\tlearn: 0.1437172\ttotal: 1m 16s\tremaining: 1m 37s\n",
      "88:\tlearn: 0.1434268\ttotal: 1m 17s\tremaining: 1m 36s\n",
      "89:\tlearn: 0.1432184\ttotal: 1m 18s\tremaining: 1m 35s\n",
      "90:\tlearn: 0.1425884\ttotal: 1m 19s\tremaining: 1m 34s\n",
      "91:\tlearn: 0.1422726\ttotal: 1m 20s\tremaining: 1m 34s\n",
      "92:\tlearn: 0.1419585\ttotal: 1m 20s\tremaining: 1m 33s\n",
      "93:\tlearn: 0.1417852\ttotal: 1m 21s\tremaining: 1m 32s\n",
      "94:\tlearn: 0.1414866\ttotal: 1m 22s\tremaining: 1m 31s\n",
      "95:\tlearn: 0.1410071\ttotal: 1m 23s\tremaining: 1m 30s\n",
      "96:\tlearn: 0.1408257\ttotal: 1m 24s\tremaining: 1m 29s\n",
      "97:\tlearn: 0.1404666\ttotal: 1m 24s\tremaining: 1m 28s\n",
      "98:\tlearn: 0.1400580\ttotal: 1m 25s\tremaining: 1m 27s\n",
      "99:\tlearn: 0.1394196\ttotal: 1m 26s\tremaining: 1m 26s\n",
      "100:\tlearn: 0.1392264\ttotal: 1m 27s\tremaining: 1m 25s\n",
      "101:\tlearn: 0.1389492\ttotal: 1m 28s\tremaining: 1m 24s\n",
      "102:\tlearn: 0.1385505\ttotal: 1m 29s\tremaining: 1m 24s\n",
      "103:\tlearn: 0.1383629\ttotal: 1m 30s\tremaining: 1m 23s\n",
      "104:\tlearn: 0.1381367\ttotal: 1m 30s\tremaining: 1m 22s\n",
      "105:\tlearn: 0.1378804\ttotal: 1m 31s\tremaining: 1m 21s\n",
      "106:\tlearn: 0.1375733\ttotal: 1m 32s\tremaining: 1m 20s\n",
      "107:\tlearn: 0.1373449\ttotal: 1m 33s\tremaining: 1m 19s\n",
      "108:\tlearn: 0.1371795\ttotal: 1m 34s\tremaining: 1m 18s\n",
      "109:\tlearn: 0.1369498\ttotal: 1m 34s\tremaining: 1m 17s\n",
      "110:\tlearn: 0.1367565\ttotal: 1m 35s\tremaining: 1m 16s\n",
      "111:\tlearn: 0.1363615\ttotal: 1m 36s\tremaining: 1m 15s\n",
      "112:\tlearn: 0.1360659\ttotal: 1m 37s\tremaining: 1m 14s\n",
      "113:\tlearn: 0.1359084\ttotal: 1m 38s\tremaining: 1m 14s\n",
      "114:\tlearn: 0.1357415\ttotal: 1m 38s\tremaining: 1m 13s\n",
      "115:\tlearn: 0.1355804\ttotal: 1m 39s\tremaining: 1m 12s\n",
      "116:\tlearn: 0.1353965\ttotal: 1m 40s\tremaining: 1m 11s\n",
      "117:\tlearn: 0.1352280\ttotal: 1m 41s\tremaining: 1m 10s\n",
      "118:\tlearn: 0.1349896\ttotal: 1m 41s\tremaining: 1m 9s\n",
      "119:\tlearn: 0.1345863\ttotal: 1m 42s\tremaining: 1m 8s\n",
      "120:\tlearn: 0.1343548\ttotal: 1m 43s\tremaining: 1m 7s\n",
      "121:\tlearn: 0.1340399\ttotal: 1m 44s\tremaining: 1m 6s\n",
      "122:\tlearn: 0.1338178\ttotal: 1m 45s\tremaining: 1m 5s\n",
      "123:\tlearn: 0.1336918\ttotal: 1m 45s\tremaining: 1m 4s\n",
      "124:\tlearn: 0.1335487\ttotal: 1m 46s\tremaining: 1m 4s\n",
      "125:\tlearn: 0.1333818\ttotal: 1m 47s\tremaining: 1m 3s\n",
      "126:\tlearn: 0.1330579\ttotal: 1m 48s\tremaining: 1m 2s\n",
      "127:\tlearn: 0.1327680\ttotal: 1m 49s\tremaining: 1m 1s\n",
      "128:\tlearn: 0.1326448\ttotal: 1m 49s\tremaining: 1m\n",
      "129:\tlearn: 0.1325386\ttotal: 1m 50s\tremaining: 59.6s\n",
      "130:\tlearn: 0.1322511\ttotal: 1m 51s\tremaining: 58.7s\n",
      "131:\tlearn: 0.1320807\ttotal: 1m 52s\tremaining: 57.8s\n",
      "132:\tlearn: 0.1319223\ttotal: 1m 53s\tremaining: 57s\n",
      "133:\tlearn: 0.1316771\ttotal: 1m 53s\tremaining: 56.1s\n",
      "134:\tlearn: 0.1314668\ttotal: 1m 54s\tremaining: 55.2s\n",
      "135:\tlearn: 0.1313451\ttotal: 1m 55s\tremaining: 54.3s\n",
      "136:\tlearn: 0.1312313\ttotal: 1m 56s\tremaining: 53.4s\n",
      "137:\tlearn: 0.1310200\ttotal: 1m 56s\tremaining: 52.6s\n",
      "138:\tlearn: 0.1308995\ttotal: 1m 57s\tremaining: 51.7s\n",
      "139:\tlearn: 0.1306048\ttotal: 1m 58s\tremaining: 50.8s\n",
      "140:\tlearn: 0.1304801\ttotal: 1m 59s\tremaining: 49.9s\n",
      "141:\tlearn: 0.1303673\ttotal: 2m\tremaining: 49.1s\n",
      "142:\tlearn: 0.1301260\ttotal: 2m\tremaining: 48.2s\n",
      "143:\tlearn: 0.1297910\ttotal: 2m 1s\tremaining: 47.4s\n",
      "144:\tlearn: 0.1296744\ttotal: 2m 2s\tremaining: 46.5s\n",
      "145:\tlearn: 0.1295828\ttotal: 2m 3s\tremaining: 45.6s\n",
      "146:\tlearn: 0.1294094\ttotal: 2m 4s\tremaining: 44.8s\n",
      "147:\tlearn: 0.1292925\ttotal: 2m 4s\tremaining: 43.9s\n",
      "148:\tlearn: 0.1292020\ttotal: 2m 5s\tremaining: 43s\n",
      "149:\tlearn: 0.1290284\ttotal: 2m 6s\tremaining: 42.2s\n",
      "150:\tlearn: 0.1288434\ttotal: 2m 7s\tremaining: 41.3s\n",
      "151:\tlearn: 0.1285841\ttotal: 2m 8s\tremaining: 40.5s\n",
      "152:\tlearn: 0.1283632\ttotal: 2m 9s\tremaining: 39.6s\n",
      "153:\tlearn: 0.1282672\ttotal: 2m 9s\tremaining: 38.8s\n",
      "154:\tlearn: 0.1281713\ttotal: 2m 10s\tremaining: 37.9s\n",
      "155:\tlearn: 0.1276846\ttotal: 2m 11s\tremaining: 37s\n",
      "156:\tlearn: 0.1275439\ttotal: 2m 12s\tremaining: 36.2s\n",
      "157:\tlearn: 0.1274411\ttotal: 2m 12s\tremaining: 35.3s\n",
      "158:\tlearn: 0.1272643\ttotal: 2m 13s\tremaining: 34.5s\n",
      "159:\tlearn: 0.1268950\ttotal: 2m 14s\tremaining: 33.6s\n",
      "160:\tlearn: 0.1266282\ttotal: 2m 15s\tremaining: 32.8s\n",
      "161:\tlearn: 0.1264423\ttotal: 2m 16s\tremaining: 31.9s\n",
      "162:\tlearn: 0.1263500\ttotal: 2m 16s\tremaining: 31.1s\n",
      "163:\tlearn: 0.1262430\ttotal: 2m 17s\tremaining: 30.2s\n",
      "164:\tlearn: 0.1260152\ttotal: 2m 18s\tremaining: 29.4s\n",
      "165:\tlearn: 0.1259222\ttotal: 2m 19s\tremaining: 28.5s\n",
      "166:\tlearn: 0.1256860\ttotal: 2m 20s\tremaining: 27.7s\n",
      "167:\tlearn: 0.1255736\ttotal: 2m 20s\tremaining: 26.8s\n",
      "168:\tlearn: 0.1254347\ttotal: 2m 21s\tremaining: 26s\n",
      "169:\tlearn: 0.1253339\ttotal: 2m 22s\tremaining: 25.1s\n",
      "170:\tlearn: 0.1252300\ttotal: 2m 23s\tremaining: 24.3s\n",
      "171:\tlearn: 0.1251389\ttotal: 2m 23s\tremaining: 23.4s\n",
      "172:\tlearn: 0.1249352\ttotal: 2m 24s\tremaining: 22.6s\n",
      "173:\tlearn: 0.1247594\ttotal: 2m 25s\tremaining: 21.8s\n",
      "174:\tlearn: 0.1246568\ttotal: 2m 26s\tremaining: 20.9s\n",
      "175:\tlearn: 0.1244997\ttotal: 2m 27s\tremaining: 20.1s\n",
      "176:\tlearn: 0.1243886\ttotal: 2m 27s\tremaining: 19.2s\n",
      "177:\tlearn: 0.1241822\ttotal: 2m 28s\tremaining: 18.4s\n",
      "178:\tlearn: 0.1240876\ttotal: 2m 29s\tremaining: 17.5s\n",
      "179:\tlearn: 0.1237828\ttotal: 2m 30s\tremaining: 16.7s\n",
      "180:\tlearn: 0.1235423\ttotal: 2m 31s\tremaining: 15.9s\n",
      "181:\tlearn: 0.1233494\ttotal: 2m 32s\tremaining: 15s\n",
      "182:\tlearn: 0.1232614\ttotal: 2m 32s\tremaining: 14.2s\n",
      "183:\tlearn: 0.1231949\ttotal: 2m 33s\tremaining: 13.4s\n",
      "184:\tlearn: 0.1231017\ttotal: 2m 34s\tremaining: 12.5s\n",
      "185:\tlearn: 0.1228549\ttotal: 2m 35s\tremaining: 11.7s\n",
      "186:\tlearn: 0.1225801\ttotal: 2m 36s\tremaining: 10.9s\n",
      "187:\tlearn: 0.1224105\ttotal: 2m 36s\tremaining: 10s\n",
      "188:\tlearn: 0.1222628\ttotal: 2m 37s\tremaining: 9.18s\n",
      "189:\tlearn: 0.1221507\ttotal: 2m 38s\tremaining: 8.34s\n",
      "190:\tlearn: 0.1219747\ttotal: 2m 39s\tremaining: 7.5s\n",
      "191:\tlearn: 0.1218831\ttotal: 2m 40s\tremaining: 6.67s\n",
      "192:\tlearn: 0.1217031\ttotal: 2m 40s\tremaining: 5.83s\n",
      "193:\tlearn: 0.1216119\ttotal: 2m 41s\tremaining: 5s\n",
      "194:\tlearn: 0.1214359\ttotal: 2m 42s\tremaining: 4.16s\n",
      "195:\tlearn: 0.1213443\ttotal: 2m 43s\tremaining: 3.33s\n",
      "196:\tlearn: 0.1212519\ttotal: 2m 43s\tremaining: 2.5s\n",
      "197:\tlearn: 0.1211577\ttotal: 2m 44s\tremaining: 1.66s\n",
      "198:\tlearn: 0.1210735\ttotal: 2m 45s\tremaining: 831ms\n",
      "199:\tlearn: 0.1208986\ttotal: 2m 46s\tremaining: 0us\n",
      "Learning rate set to 0.315861\n",
      "0:\tlearn: 0.4387428\ttotal: 980ms\tremaining: 3m 15s\n",
      "1:\tlearn: 0.3289034\ttotal: 1.83s\tremaining: 3m 1s\n",
      "2:\tlearn: 0.2818072\ttotal: 2.71s\tremaining: 2m 58s\n",
      "3:\tlearn: 0.2581964\ttotal: 3.61s\tremaining: 2m 56s\n",
      "4:\tlearn: 0.2437836\ttotal: 4.46s\tremaining: 2m 54s\n",
      "5:\tlearn: 0.2355880\ttotal: 5.33s\tremaining: 2m 52s\n",
      "6:\tlearn: 0.2277893\ttotal: 6.22s\tremaining: 2m 51s\n",
      "7:\tlearn: 0.2220120\ttotal: 7.08s\tremaining: 2m 50s\n",
      "8:\tlearn: 0.2185392\ttotal: 7.89s\tremaining: 2m 47s\n",
      "9:\tlearn: 0.2151791\ttotal: 8.72s\tremaining: 2m 45s\n",
      "10:\tlearn: 0.2115812\ttotal: 9.58s\tremaining: 2m 44s\n",
      "11:\tlearn: 0.2078506\ttotal: 10.4s\tremaining: 2m 43s\n",
      "12:\tlearn: 0.2054758\ttotal: 11.3s\tremaining: 2m 42s\n",
      "13:\tlearn: 0.2030724\ttotal: 12.2s\tremaining: 2m 41s\n",
      "14:\tlearn: 0.2009525\ttotal: 13s\tremaining: 2m 40s\n",
      "15:\tlearn: 0.1981739\ttotal: 13.9s\tremaining: 2m 39s\n",
      "16:\tlearn: 0.1958426\ttotal: 14.8s\tremaining: 2m 38s\n",
      "17:\tlearn: 0.1943670\ttotal: 15.6s\tremaining: 2m 37s\n",
      "18:\tlearn: 0.1930073\ttotal: 16.6s\tremaining: 2m 38s\n",
      "19:\tlearn: 0.1913451\ttotal: 17.5s\tremaining: 2m 37s\n",
      "20:\tlearn: 0.1899328\ttotal: 18.3s\tremaining: 2m 36s\n",
      "21:\tlearn: 0.1876318\ttotal: 19.2s\tremaining: 2m 35s\n",
      "22:\tlearn: 0.1858535\ttotal: 20s\tremaining: 2m 33s\n",
      "23:\tlearn: 0.1847617\ttotal: 20.8s\tremaining: 2m 32s\n",
      "24:\tlearn: 0.1829980\ttotal: 21.6s\tremaining: 2m 31s\n",
      "25:\tlearn: 0.1818818\ttotal: 22.5s\tremaining: 2m 30s\n",
      "26:\tlearn: 0.1805614\ttotal: 23.3s\tremaining: 2m 29s\n",
      "27:\tlearn: 0.1795597\ttotal: 24.2s\tremaining: 2m 28s\n",
      "28:\tlearn: 0.1786476\ttotal: 25s\tremaining: 2m 27s\n",
      "29:\tlearn: 0.1777277\ttotal: 25.8s\tremaining: 2m 26s\n",
      "30:\tlearn: 0.1763161\ttotal: 26.6s\tremaining: 2m 25s\n",
      "31:\tlearn: 0.1754751\ttotal: 27.4s\tremaining: 2m 23s\n",
      "32:\tlearn: 0.1745979\ttotal: 28.2s\tremaining: 2m 22s\n",
      "33:\tlearn: 0.1737831\ttotal: 29s\tremaining: 2m 21s\n",
      "34:\tlearn: 0.1729364\ttotal: 29.8s\tremaining: 2m 20s\n",
      "35:\tlearn: 0.1716042\ttotal: 30.6s\tremaining: 2m 19s\n",
      "36:\tlearn: 0.1702319\ttotal: 31.4s\tremaining: 2m 18s\n",
      "37:\tlearn: 0.1695670\ttotal: 32.2s\tremaining: 2m 17s\n",
      "38:\tlearn: 0.1688379\ttotal: 33s\tremaining: 2m 16s\n",
      "39:\tlearn: 0.1682595\ttotal: 33.9s\tremaining: 2m 15s\n",
      "40:\tlearn: 0.1673079\ttotal: 34.6s\tremaining: 2m 14s\n",
      "41:\tlearn: 0.1666319\ttotal: 35.4s\tremaining: 2m 13s\n",
      "42:\tlearn: 0.1656349\ttotal: 36.3s\tremaining: 2m 12s\n",
      "43:\tlearn: 0.1648447\ttotal: 37.1s\tremaining: 2m 11s\n",
      "44:\tlearn: 0.1642124\ttotal: 37.9s\tremaining: 2m 10s\n",
      "45:\tlearn: 0.1635309\ttotal: 38.8s\tremaining: 2m 9s\n",
      "46:\tlearn: 0.1630059\ttotal: 39.6s\tremaining: 2m 9s\n",
      "47:\tlearn: 0.1623935\ttotal: 40.5s\tremaining: 2m 8s\n",
      "48:\tlearn: 0.1618255\ttotal: 41.3s\tremaining: 2m 7s\n",
      "49:\tlearn: 0.1613110\ttotal: 42.1s\tremaining: 2m 6s\n",
      "50:\tlearn: 0.1604542\ttotal: 42.9s\tremaining: 2m 5s\n",
      "51:\tlearn: 0.1596967\ttotal: 43.7s\tremaining: 2m 4s\n",
      "52:\tlearn: 0.1590519\ttotal: 44.5s\tremaining: 2m 3s\n",
      "53:\tlearn: 0.1580233\ttotal: 45.3s\tremaining: 2m 2s\n",
      "54:\tlearn: 0.1575030\ttotal: 46.1s\tremaining: 2m 1s\n",
      "55:\tlearn: 0.1570764\ttotal: 46.9s\tremaining: 2m\n",
      "56:\tlearn: 0.1565232\ttotal: 47.8s\tremaining: 1m 59s\n",
      "57:\tlearn: 0.1561585\ttotal: 48.7s\tremaining: 1m 59s\n",
      "58:\tlearn: 0.1554827\ttotal: 49.5s\tremaining: 1m 58s\n",
      "59:\tlearn: 0.1550666\ttotal: 50.4s\tremaining: 1m 57s\n",
      "60:\tlearn: 0.1545492\ttotal: 51.3s\tremaining: 1m 56s\n",
      "61:\tlearn: 0.1541457\ttotal: 52.1s\tremaining: 1m 56s\n",
      "62:\tlearn: 0.1536832\ttotal: 52.9s\tremaining: 1m 55s\n",
      "63:\tlearn: 0.1530447\ttotal: 53.8s\tremaining: 1m 54s\n",
      "64:\tlearn: 0.1523926\ttotal: 54.6s\tremaining: 1m 53s\n",
      "65:\tlearn: 0.1519921\ttotal: 55.4s\tremaining: 1m 52s\n",
      "66:\tlearn: 0.1516723\ttotal: 56.2s\tremaining: 1m 51s\n",
      "67:\tlearn: 0.1512211\ttotal: 57s\tremaining: 1m 50s\n",
      "68:\tlearn: 0.1509264\ttotal: 57.9s\tremaining: 1m 49s\n",
      "69:\tlearn: 0.1501808\ttotal: 58.8s\tremaining: 1m 49s\n",
      "70:\tlearn: 0.1497781\ttotal: 59.5s\tremaining: 1m 48s\n",
      "71:\tlearn: 0.1493526\ttotal: 1m\tremaining: 1m 47s\n",
      "72:\tlearn: 0.1488347\ttotal: 1m 1s\tremaining: 1m 46s\n",
      "73:\tlearn: 0.1485234\ttotal: 1m 1s\tremaining: 1m 45s\n",
      "74:\tlearn: 0.1482215\ttotal: 1m 2s\tremaining: 1m 44s\n",
      "75:\tlearn: 0.1479333\ttotal: 1m 3s\tremaining: 1m 43s\n",
      "76:\tlearn: 0.1474458\ttotal: 1m 4s\tremaining: 1m 42s\n",
      "77:\tlearn: 0.1469801\ttotal: 1m 5s\tremaining: 1m 42s\n",
      "78:\tlearn: 0.1465894\ttotal: 1m 6s\tremaining: 1m 41s\n",
      "79:\tlearn: 0.1463106\ttotal: 1m 7s\tremaining: 1m 40s\n",
      "80:\tlearn: 0.1458673\ttotal: 1m 7s\tremaining: 1m 39s\n",
      "81:\tlearn: 0.1456242\ttotal: 1m 8s\tremaining: 1m 38s\n",
      "82:\tlearn: 0.1453117\ttotal: 1m 9s\tremaining: 1m 38s\n",
      "83:\tlearn: 0.1450687\ttotal: 1m 10s\tremaining: 1m 37s\n",
      "84:\tlearn: 0.1446901\ttotal: 1m 11s\tremaining: 1m 36s\n",
      "85:\tlearn: 0.1443103\ttotal: 1m 12s\tremaining: 1m 35s\n",
      "86:\tlearn: 0.1440337\ttotal: 1m 12s\tremaining: 1m 34s\n",
      "87:\tlearn: 0.1434511\ttotal: 1m 13s\tremaining: 1m 33s\n",
      "88:\tlearn: 0.1431706\ttotal: 1m 14s\tremaining: 1m 33s\n",
      "89:\tlearn: 0.1429292\ttotal: 1m 15s\tremaining: 1m 32s\n",
      "90:\tlearn: 0.1426549\ttotal: 1m 16s\tremaining: 1m 31s\n",
      "91:\tlearn: 0.1422066\ttotal: 1m 17s\tremaining: 1m 30s\n",
      "92:\tlearn: 0.1418523\ttotal: 1m 18s\tremaining: 1m 29s\n",
      "93:\tlearn: 0.1413499\ttotal: 1m 18s\tremaining: 1m 29s\n",
      "94:\tlearn: 0.1411190\ttotal: 1m 19s\tremaining: 1m 28s\n",
      "95:\tlearn: 0.1407376\ttotal: 1m 20s\tremaining: 1m 27s\n",
      "96:\tlearn: 0.1405684\ttotal: 1m 21s\tremaining: 1m 26s\n",
      "97:\tlearn: 0.1403849\ttotal: 1m 22s\tremaining: 1m 25s\n",
      "98:\tlearn: 0.1400542\ttotal: 1m 23s\tremaining: 1m 24s\n",
      "99:\tlearn: 0.1397167\ttotal: 1m 23s\tremaining: 1m 23s\n",
      "100:\tlearn: 0.1394039\ttotal: 1m 24s\tremaining: 1m 23s\n",
      "101:\tlearn: 0.1391676\ttotal: 1m 25s\tremaining: 1m 22s\n",
      "102:\tlearn: 0.1388649\ttotal: 1m 26s\tremaining: 1m 21s\n",
      "103:\tlearn: 0.1386371\ttotal: 1m 27s\tremaining: 1m 20s\n",
      "104:\tlearn: 0.1383988\ttotal: 1m 28s\tremaining: 1m 19s\n",
      "105:\tlearn: 0.1381958\ttotal: 1m 29s\tremaining: 1m 19s\n",
      "106:\tlearn: 0.1379353\ttotal: 1m 29s\tremaining: 1m 18s\n",
      "107:\tlearn: 0.1377005\ttotal: 1m 30s\tremaining: 1m 17s\n",
      "108:\tlearn: 0.1374864\ttotal: 1m 31s\tremaining: 1m 16s\n",
      "109:\tlearn: 0.1372442\ttotal: 1m 32s\tremaining: 1m 15s\n",
      "110:\tlearn: 0.1370630\ttotal: 1m 33s\tremaining: 1m 14s\n",
      "111:\tlearn: 0.1368235\ttotal: 1m 34s\tremaining: 1m 14s\n",
      "112:\tlearn: 0.1366620\ttotal: 1m 35s\tremaining: 1m 13s\n",
      "113:\tlearn: 0.1364257\ttotal: 1m 35s\tremaining: 1m 12s\n",
      "114:\tlearn: 0.1361015\ttotal: 1m 36s\tremaining: 1m 11s\n",
      "115:\tlearn: 0.1355744\ttotal: 1m 37s\tremaining: 1m 10s\n",
      "116:\tlearn: 0.1353398\ttotal: 1m 38s\tremaining: 1m 9s\n",
      "117:\tlearn: 0.1351494\ttotal: 1m 39s\tremaining: 1m 9s\n",
      "118:\tlearn: 0.1347577\ttotal: 1m 40s\tremaining: 1m 8s\n",
      "119:\tlearn: 0.1346096\ttotal: 1m 41s\tremaining: 1m 7s\n",
      "120:\tlearn: 0.1344604\ttotal: 1m 41s\tremaining: 1m 6s\n",
      "121:\tlearn: 0.1343266\ttotal: 1m 42s\tremaining: 1m 5s\n",
      "122:\tlearn: 0.1341894\ttotal: 1m 43s\tremaining: 1m 4s\n",
      "123:\tlearn: 0.1340523\ttotal: 1m 44s\tremaining: 1m 3s\n",
      "124:\tlearn: 0.1339280\ttotal: 1m 45s\tremaining: 1m 3s\n",
      "125:\tlearn: 0.1338166\ttotal: 1m 45s\tremaining: 1m 2s\n",
      "126:\tlearn: 0.1335439\ttotal: 1m 46s\tremaining: 1m 1s\n",
      "127:\tlearn: 0.1334019\ttotal: 1m 47s\tremaining: 1m\n",
      "128:\tlearn: 0.1332853\ttotal: 1m 48s\tremaining: 59.7s\n",
      "129:\tlearn: 0.1331614\ttotal: 1m 49s\tremaining: 58.8s\n",
      "130:\tlearn: 0.1328277\ttotal: 1m 50s\tremaining: 58s\n",
      "131:\tlearn: 0.1326385\ttotal: 1m 50s\tremaining: 57.2s\n",
      "132:\tlearn: 0.1325285\ttotal: 1m 51s\tremaining: 56.3s\n",
      "133:\tlearn: 0.1322076\ttotal: 1m 52s\tremaining: 55.5s\n",
      "134:\tlearn: 0.1318383\ttotal: 1m 53s\tremaining: 54.7s\n",
      "135:\tlearn: 0.1317155\ttotal: 1m 54s\tremaining: 53.8s\n",
      "136:\tlearn: 0.1315186\ttotal: 1m 55s\tremaining: 53s\n",
      "137:\tlearn: 0.1314178\ttotal: 1m 56s\tremaining: 52.2s\n",
      "138:\tlearn: 0.1311477\ttotal: 1m 56s\tremaining: 51.3s\n",
      "139:\tlearn: 0.1309434\ttotal: 1m 57s\tremaining: 50.5s\n",
      "140:\tlearn: 0.1306602\ttotal: 1m 58s\tremaining: 49.7s\n",
      "141:\tlearn: 0.1304134\ttotal: 1m 59s\tremaining: 48.8s\n",
      "142:\tlearn: 0.1301450\ttotal: 2m\tremaining: 48s\n",
      "143:\tlearn: 0.1300168\ttotal: 2m 1s\tremaining: 47.2s\n",
      "144:\tlearn: 0.1298205\ttotal: 2m 2s\tremaining: 46.3s\n",
      "145:\tlearn: 0.1294928\ttotal: 2m 2s\tremaining: 45.5s\n",
      "146:\tlearn: 0.1294037\ttotal: 2m 3s\tremaining: 44.6s\n",
      "147:\tlearn: 0.1292074\ttotal: 2m 4s\tremaining: 43.8s\n",
      "148:\tlearn: 0.1289438\ttotal: 2m 5s\tremaining: 42.9s\n",
      "149:\tlearn: 0.1287762\ttotal: 2m 6s\tremaining: 42.1s\n",
      "150:\tlearn: 0.1285409\ttotal: 2m 7s\tremaining: 41.2s\n",
      "151:\tlearn: 0.1283849\ttotal: 2m 7s\tremaining: 40.4s\n",
      "152:\tlearn: 0.1282875\ttotal: 2m 8s\tremaining: 39.6s\n",
      "153:\tlearn: 0.1280839\ttotal: 2m 9s\tremaining: 38.7s\n",
      "154:\tlearn: 0.1279770\ttotal: 2m 10s\tremaining: 37.9s\n",
      "155:\tlearn: 0.1278001\ttotal: 2m 11s\tremaining: 37.1s\n",
      "156:\tlearn: 0.1277094\ttotal: 2m 12s\tremaining: 36.2s\n",
      "157:\tlearn: 0.1275773\ttotal: 2m 13s\tremaining: 35.4s\n",
      "158:\tlearn: 0.1274723\ttotal: 2m 13s\tremaining: 34.5s\n",
      "159:\tlearn: 0.1273818\ttotal: 2m 14s\tremaining: 33.7s\n",
      "160:\tlearn: 0.1272632\ttotal: 2m 15s\tremaining: 32.8s\n",
      "161:\tlearn: 0.1271418\ttotal: 2m 16s\tremaining: 32s\n",
      "162:\tlearn: 0.1269547\ttotal: 2m 17s\tremaining: 31.2s\n",
      "163:\tlearn: 0.1268448\ttotal: 2m 18s\tremaining: 30.3s\n",
      "164:\tlearn: 0.1262897\ttotal: 2m 19s\tremaining: 29.5s\n",
      "165:\tlearn: 0.1261953\ttotal: 2m 19s\tremaining: 28.7s\n",
      "166:\tlearn: 0.1260825\ttotal: 2m 20s\tremaining: 27.8s\n",
      "167:\tlearn: 0.1259982\ttotal: 2m 21s\tremaining: 27s\n",
      "168:\tlearn: 0.1258768\ttotal: 2m 22s\tremaining: 26.1s\n",
      "169:\tlearn: 0.1256990\ttotal: 2m 23s\tremaining: 25.3s\n",
      "170:\tlearn: 0.1254431\ttotal: 2m 24s\tremaining: 24.5s\n",
      "171:\tlearn: 0.1252008\ttotal: 2m 25s\tremaining: 23.6s\n",
      "172:\tlearn: 0.1251132\ttotal: 2m 25s\tremaining: 22.8s\n",
      "173:\tlearn: 0.1250181\ttotal: 2m 26s\tremaining: 21.9s\n",
      "174:\tlearn: 0.1249071\ttotal: 2m 27s\tremaining: 21.1s\n",
      "175:\tlearn: 0.1246626\ttotal: 2m 28s\tremaining: 20.2s\n",
      "176:\tlearn: 0.1244476\ttotal: 2m 29s\tremaining: 19.4s\n",
      "177:\tlearn: 0.1243460\ttotal: 2m 30s\tremaining: 18.6s\n",
      "178:\tlearn: 0.1240168\ttotal: 2m 31s\tremaining: 17.7s\n",
      "179:\tlearn: 0.1238072\ttotal: 2m 32s\tremaining: 16.9s\n",
      "180:\tlearn: 0.1233590\ttotal: 2m 32s\tremaining: 16s\n",
      "181:\tlearn: 0.1232630\ttotal: 2m 33s\tremaining: 15.2s\n",
      "182:\tlearn: 0.1231347\ttotal: 2m 34s\tremaining: 14.4s\n",
      "183:\tlearn: 0.1230478\ttotal: 2m 35s\tremaining: 13.5s\n",
      "184:\tlearn: 0.1229466\ttotal: 2m 36s\tremaining: 12.7s\n",
      "185:\tlearn: 0.1228591\ttotal: 2m 36s\tremaining: 11.8s\n",
      "186:\tlearn: 0.1226538\ttotal: 2m 37s\tremaining: 11s\n",
      "187:\tlearn: 0.1225527\ttotal: 2m 38s\tremaining: 10.1s\n",
      "188:\tlearn: 0.1222077\ttotal: 2m 39s\tremaining: 9.29s\n",
      "189:\tlearn: 0.1220953\ttotal: 2m 40s\tremaining: 8.45s\n",
      "190:\tlearn: 0.1220043\ttotal: 2m 41s\tremaining: 7.6s\n",
      "191:\tlearn: 0.1217827\ttotal: 2m 42s\tremaining: 6.76s\n",
      "192:\tlearn: 0.1216890\ttotal: 2m 43s\tremaining: 5.91s\n",
      "193:\tlearn: 0.1214861\ttotal: 2m 43s\tremaining: 5.07s\n",
      "194:\tlearn: 0.1213932\ttotal: 2m 44s\tremaining: 4.22s\n",
      "195:\tlearn: 0.1213049\ttotal: 2m 45s\tremaining: 3.38s\n",
      "196:\tlearn: 0.1211354\ttotal: 2m 46s\tremaining: 2.53s\n",
      "197:\tlearn: 0.1208824\ttotal: 2m 47s\tremaining: 1.69s\n",
      "198:\tlearn: 0.1208027\ttotal: 2m 48s\tremaining: 844ms\n",
      "199:\tlearn: 0.1207134\ttotal: 2m 48s\tremaining: 0us\n",
      "Learning rate set to 0.315861\n",
      "0:\tlearn: 0.4436312\ttotal: 988ms\tremaining: 3m 16s\n",
      "1:\tlearn: 0.3301559\ttotal: 1.88s\tremaining: 3m 5s\n",
      "2:\tlearn: 0.2802649\ttotal: 2.79s\tremaining: 3m 3s\n",
      "3:\tlearn: 0.2583488\ttotal: 3.77s\tremaining: 3m 4s\n",
      "4:\tlearn: 0.2439936\ttotal: 4.72s\tremaining: 3m 4s\n",
      "5:\tlearn: 0.2326042\ttotal: 5.61s\tremaining: 3m 1s\n",
      "6:\tlearn: 0.2258535\ttotal: 6.49s\tremaining: 2m 58s\n",
      "7:\tlearn: 0.2213138\ttotal: 7.39s\tremaining: 2m 57s\n",
      "8:\tlearn: 0.2176508\ttotal: 8.31s\tremaining: 2m 56s\n",
      "9:\tlearn: 0.2141631\ttotal: 9.26s\tremaining: 2m 55s\n",
      "10:\tlearn: 0.2097722\ttotal: 10.2s\tremaining: 2m 54s\n",
      "11:\tlearn: 0.2069557\ttotal: 11s\tremaining: 2m 53s\n",
      "12:\tlearn: 0.2049537\ttotal: 11.9s\tremaining: 2m 51s\n",
      "13:\tlearn: 0.2025183\ttotal: 12.9s\tremaining: 2m 51s\n",
      "14:\tlearn: 0.2000918\ttotal: 13.8s\tremaining: 2m 49s\n",
      "15:\tlearn: 0.1971935\ttotal: 14.7s\tremaining: 2m 49s\n",
      "16:\tlearn: 0.1955680\ttotal: 15.6s\tremaining: 2m 48s\n",
      "17:\tlearn: 0.1935401\ttotal: 16.5s\tremaining: 2m 47s\n",
      "18:\tlearn: 0.1918959\ttotal: 17.5s\tremaining: 2m 46s\n",
      "19:\tlearn: 0.1898027\ttotal: 18.4s\tremaining: 2m 45s\n",
      "20:\tlearn: 0.1883211\ttotal: 19.2s\tremaining: 2m 44s\n",
      "21:\tlearn: 0.1866696\ttotal: 20.1s\tremaining: 2m 42s\n",
      "22:\tlearn: 0.1848032\ttotal: 21s\tremaining: 2m 41s\n",
      "23:\tlearn: 0.1826221\ttotal: 21.9s\tremaining: 2m 40s\n",
      "24:\tlearn: 0.1814680\ttotal: 22.7s\tremaining: 2m 39s\n",
      "25:\tlearn: 0.1804786\ttotal: 23.6s\tremaining: 2m 38s\n",
      "26:\tlearn: 0.1795410\ttotal: 24.5s\tremaining: 2m 36s\n",
      "27:\tlearn: 0.1780188\ttotal: 25.3s\tremaining: 2m 35s\n",
      "28:\tlearn: 0.1763620\ttotal: 26.1s\tremaining: 2m 34s\n",
      "29:\tlearn: 0.1754169\ttotal: 27s\tremaining: 2m 32s\n",
      "30:\tlearn: 0.1745897\ttotal: 27.9s\tremaining: 2m 31s\n",
      "31:\tlearn: 0.1737602\ttotal: 28.7s\tremaining: 2m 30s\n",
      "32:\tlearn: 0.1725587\ttotal: 29.5s\tremaining: 2m 29s\n",
      "33:\tlearn: 0.1718082\ttotal: 30.4s\tremaining: 2m 28s\n",
      "34:\tlearn: 0.1710472\ttotal: 31.1s\tremaining: 2m 26s\n",
      "35:\tlearn: 0.1703282\ttotal: 32s\tremaining: 2m 25s\n",
      "36:\tlearn: 0.1691857\ttotal: 32.8s\tremaining: 2m 24s\n",
      "37:\tlearn: 0.1685476\ttotal: 33.6s\tremaining: 2m 23s\n",
      "38:\tlearn: 0.1676978\ttotal: 34.4s\tremaining: 2m 22s\n",
      "39:\tlearn: 0.1670143\ttotal: 35.2s\tremaining: 2m 20s\n",
      "40:\tlearn: 0.1663903\ttotal: 36s\tremaining: 2m 19s\n",
      "41:\tlearn: 0.1655848\ttotal: 36.9s\tremaining: 2m 18s\n",
      "42:\tlearn: 0.1650005\ttotal: 37.8s\tremaining: 2m 18s\n",
      "43:\tlearn: 0.1643980\ttotal: 38.7s\tremaining: 2m 17s\n",
      "44:\tlearn: 0.1635176\ttotal: 39.5s\tremaining: 2m 16s\n",
      "45:\tlearn: 0.1627290\ttotal: 40.3s\tremaining: 2m 14s\n",
      "46:\tlearn: 0.1620551\ttotal: 41.2s\tremaining: 2m 14s\n",
      "47:\tlearn: 0.1612309\ttotal: 42.1s\tremaining: 2m 13s\n",
      "48:\tlearn: 0.1606217\ttotal: 42.9s\tremaining: 2m 12s\n",
      "49:\tlearn: 0.1600907\ttotal: 43.7s\tremaining: 2m 11s\n",
      "50:\tlearn: 0.1596036\ttotal: 44.5s\tremaining: 2m 10s\n",
      "51:\tlearn: 0.1588242\ttotal: 45.4s\tremaining: 2m 9s\n",
      "52:\tlearn: 0.1583115\ttotal: 46.2s\tremaining: 2m 8s\n",
      "53:\tlearn: 0.1575896\ttotal: 47s\tremaining: 2m 7s\n",
      "54:\tlearn: 0.1569904\ttotal: 47.9s\tremaining: 2m 6s\n",
      "55:\tlearn: 0.1564953\ttotal: 48.7s\tremaining: 2m 5s\n",
      "56:\tlearn: 0.1560793\ttotal: 49.5s\tremaining: 2m 4s\n",
      "57:\tlearn: 0.1554128\ttotal: 50.3s\tremaining: 2m 3s\n",
      "58:\tlearn: 0.1549624\ttotal: 51.1s\tremaining: 2m 2s\n",
      "59:\tlearn: 0.1545000\ttotal: 51.9s\tremaining: 2m 1s\n",
      "60:\tlearn: 0.1539817\ttotal: 52.8s\tremaining: 2m\n",
      "61:\tlearn: 0.1532600\ttotal: 53.6s\tremaining: 1m 59s\n",
      "62:\tlearn: 0.1528167\ttotal: 54.4s\tremaining: 1m 58s\n",
      "63:\tlearn: 0.1523584\ttotal: 55.3s\tremaining: 1m 57s\n",
      "64:\tlearn: 0.1519447\ttotal: 56.1s\tremaining: 1m 56s\n",
      "65:\tlearn: 0.1516119\ttotal: 56.8s\tremaining: 1m 55s\n",
      "66:\tlearn: 0.1510308\ttotal: 57.7s\tremaining: 1m 54s\n",
      "67:\tlearn: 0.1506433\ttotal: 58.5s\tremaining: 1m 53s\n",
      "68:\tlearn: 0.1502298\ttotal: 59.4s\tremaining: 1m 52s\n",
      "69:\tlearn: 0.1496166\ttotal: 1m\tremaining: 1m 51s\n",
      "70:\tlearn: 0.1491155\ttotal: 1m 1s\tremaining: 1m 51s\n",
      "71:\tlearn: 0.1481399\ttotal: 1m 1s\tremaining: 1m 50s\n",
      "72:\tlearn: 0.1475089\ttotal: 1m 2s\tremaining: 1m 49s\n",
      "73:\tlearn: 0.1471108\ttotal: 1m 3s\tremaining: 1m 48s\n",
      "74:\tlearn: 0.1468044\ttotal: 1m 4s\tremaining: 1m 47s\n",
      "75:\tlearn: 0.1465257\ttotal: 1m 5s\tremaining: 1m 46s\n",
      "76:\tlearn: 0.1462052\ttotal: 1m 6s\tremaining: 1m 45s\n",
      "77:\tlearn: 0.1458202\ttotal: 1m 6s\tremaining: 1m 44s\n",
      "78:\tlearn: 0.1454042\ttotal: 1m 7s\tremaining: 1m 43s\n",
      "79:\tlearn: 0.1449269\ttotal: 1m 8s\tremaining: 1m 42s\n",
      "80:\tlearn: 0.1446169\ttotal: 1m 9s\tremaining: 1m 42s\n",
      "81:\tlearn: 0.1443733\ttotal: 1m 10s\tremaining: 1m 41s\n",
      "82:\tlearn: 0.1439652\ttotal: 1m 11s\tremaining: 1m 40s\n",
      "83:\tlearn: 0.1433715\ttotal: 1m 12s\tremaining: 1m 39s\n",
      "84:\tlearn: 0.1431393\ttotal: 1m 12s\tremaining: 1m 38s\n",
      "85:\tlearn: 0.1429579\ttotal: 1m 13s\tremaining: 1m 37s\n",
      "86:\tlearn: 0.1426013\ttotal: 1m 14s\tremaining: 1m 36s\n",
      "87:\tlearn: 0.1421383\ttotal: 1m 15s\tremaining: 1m 35s\n",
      "88:\tlearn: 0.1418102\ttotal: 1m 16s\tremaining: 1m 34s\n",
      "89:\tlearn: 0.1414754\ttotal: 1m 16s\tremaining: 1m 34s\n",
      "90:\tlearn: 0.1410899\ttotal: 1m 17s\tremaining: 1m 33s\n",
      "91:\tlearn: 0.1409104\ttotal: 1m 18s\tremaining: 1m 32s\n",
      "92:\tlearn: 0.1407127\ttotal: 1m 19s\tremaining: 1m 31s\n",
      "93:\tlearn: 0.1404286\ttotal: 1m 20s\tremaining: 1m 30s\n",
      "94:\tlearn: 0.1401471\ttotal: 1m 21s\tremaining: 1m 29s\n",
      "95:\tlearn: 0.1395728\ttotal: 1m 21s\tremaining: 1m 28s\n",
      "96:\tlearn: 0.1392609\ttotal: 1m 22s\tremaining: 1m 27s\n",
      "97:\tlearn: 0.1390263\ttotal: 1m 23s\tremaining: 1m 26s\n",
      "98:\tlearn: 0.1387681\ttotal: 1m 24s\tremaining: 1m 26s\n",
      "99:\tlearn: 0.1386043\ttotal: 1m 25s\tremaining: 1m 25s\n",
      "100:\tlearn: 0.1382553\ttotal: 1m 26s\tremaining: 1m 24s\n",
      "101:\tlearn: 0.1380119\ttotal: 1m 26s\tremaining: 1m 23s\n",
      "102:\tlearn: 0.1376094\ttotal: 1m 27s\tremaining: 1m 22s\n",
      "103:\tlearn: 0.1374455\ttotal: 1m 28s\tremaining: 1m 21s\n",
      "104:\tlearn: 0.1371899\ttotal: 1m 29s\tremaining: 1m 20s\n",
      "105:\tlearn: 0.1369638\ttotal: 1m 30s\tremaining: 1m 20s\n",
      "106:\tlearn: 0.1366547\ttotal: 1m 31s\tremaining: 1m 19s\n",
      "107:\tlearn: 0.1364918\ttotal: 1m 31s\tremaining: 1m 18s\n",
      "108:\tlearn: 0.1362518\ttotal: 1m 32s\tremaining: 1m 17s\n",
      "109:\tlearn: 0.1359929\ttotal: 1m 33s\tremaining: 1m 16s\n",
      "110:\tlearn: 0.1357204\ttotal: 1m 34s\tremaining: 1m 15s\n",
      "111:\tlearn: 0.1355747\ttotal: 1m 35s\tremaining: 1m 14s\n",
      "112:\tlearn: 0.1353626\ttotal: 1m 36s\tremaining: 1m 14s\n",
      "113:\tlearn: 0.1352144\ttotal: 1m 37s\tremaining: 1m 13s\n",
      "114:\tlearn: 0.1350716\ttotal: 1m 37s\tremaining: 1m 12s\n",
      "115:\tlearn: 0.1348174\ttotal: 1m 38s\tremaining: 1m 11s\n",
      "116:\tlearn: 0.1346201\ttotal: 1m 39s\tremaining: 1m 10s\n",
      "117:\tlearn: 0.1342959\ttotal: 1m 40s\tremaining: 1m 9s\n",
      "118:\tlearn: 0.1341465\ttotal: 1m 41s\tremaining: 1m 9s\n",
      "119:\tlearn: 0.1340077\ttotal: 1m 42s\tremaining: 1m 8s\n",
      "120:\tlearn: 0.1338659\ttotal: 1m 43s\tremaining: 1m 7s\n",
      "121:\tlearn: 0.1337374\ttotal: 1m 43s\tremaining: 1m 6s\n",
      "122:\tlearn: 0.1336142\ttotal: 1m 44s\tremaining: 1m 5s\n",
      "123:\tlearn: 0.1334052\ttotal: 1m 45s\tremaining: 1m 4s\n",
      "124:\tlearn: 0.1332693\ttotal: 1m 46s\tremaining: 1m 3s\n",
      "125:\tlearn: 0.1331382\ttotal: 1m 47s\tremaining: 1m 2s\n",
      "126:\tlearn: 0.1330124\ttotal: 1m 47s\tremaining: 1m 2s\n",
      "127:\tlearn: 0.1328696\ttotal: 1m 48s\tremaining: 1m 1s\n",
      "128:\tlearn: 0.1326608\ttotal: 1m 49s\tremaining: 1m\n",
      "129:\tlearn: 0.1324344\ttotal: 1m 50s\tremaining: 59.5s\n",
      "130:\tlearn: 0.1321893\ttotal: 1m 51s\tremaining: 58.6s\n",
      "131:\tlearn: 0.1320677\ttotal: 1m 52s\tremaining: 57.8s\n",
      "132:\tlearn: 0.1318503\ttotal: 1m 52s\tremaining: 56.9s\n",
      "133:\tlearn: 0.1317232\ttotal: 1m 53s\tremaining: 56s\n",
      "134:\tlearn: 0.1316180\ttotal: 1m 54s\tremaining: 55.1s\n",
      "135:\tlearn: 0.1314921\ttotal: 1m 55s\tremaining: 54.2s\n",
      "136:\tlearn: 0.1311965\ttotal: 1m 56s\tremaining: 53.4s\n",
      "137:\tlearn: 0.1310072\ttotal: 1m 56s\tremaining: 52.5s\n",
      "138:\tlearn: 0.1309117\ttotal: 1m 57s\tremaining: 51.7s\n",
      "139:\tlearn: 0.1306050\ttotal: 1m 58s\tremaining: 50.8s\n",
      "140:\tlearn: 0.1304230\ttotal: 1m 59s\tremaining: 49.9s\n",
      "141:\tlearn: 0.1303128\ttotal: 2m\tremaining: 49.1s\n",
      "142:\tlearn: 0.1300742\ttotal: 2m\tremaining: 48.2s\n",
      "143:\tlearn: 0.1298300\ttotal: 2m 1s\tremaining: 47.4s\n",
      "144:\tlearn: 0.1295788\ttotal: 2m 2s\tremaining: 46.5s\n",
      "145:\tlearn: 0.1292696\ttotal: 2m 3s\tremaining: 45.7s\n",
      "146:\tlearn: 0.1288177\ttotal: 2m 4s\tremaining: 44.8s\n",
      "147:\tlearn: 0.1285331\ttotal: 2m 5s\tremaining: 44s\n",
      "148:\tlearn: 0.1283413\ttotal: 2m 5s\tremaining: 43.1s\n",
      "149:\tlearn: 0.1280802\ttotal: 2m 6s\tremaining: 42.3s\n",
      "150:\tlearn: 0.1279704\ttotal: 2m 7s\tremaining: 41.4s\n",
      "151:\tlearn: 0.1277203\ttotal: 2m 8s\tremaining: 40.6s\n",
      "152:\tlearn: 0.1276239\ttotal: 2m 9s\tremaining: 39.7s\n",
      "153:\tlearn: 0.1273911\ttotal: 2m 10s\tremaining: 38.9s\n",
      "154:\tlearn: 0.1272395\ttotal: 2m 10s\tremaining: 38s\n",
      "155:\tlearn: 0.1270626\ttotal: 2m 11s\tremaining: 37.1s\n",
      "156:\tlearn: 0.1269583\ttotal: 2m 12s\tremaining: 36.3s\n",
      "157:\tlearn: 0.1268667\ttotal: 2m 13s\tremaining: 35.4s\n",
      "158:\tlearn: 0.1267730\ttotal: 2m 14s\tremaining: 34.6s\n",
      "159:\tlearn: 0.1263805\ttotal: 2m 14s\tremaining: 33.7s\n",
      "160:\tlearn: 0.1261431\ttotal: 2m 15s\tremaining: 32.9s\n",
      "161:\tlearn: 0.1258426\ttotal: 2m 16s\tremaining: 32s\n",
      "162:\tlearn: 0.1256257\ttotal: 2m 17s\tremaining: 31.2s\n",
      "163:\tlearn: 0.1254467\ttotal: 2m 18s\tremaining: 30.4s\n",
      "164:\tlearn: 0.1251497\ttotal: 2m 19s\tremaining: 29.5s\n",
      "165:\tlearn: 0.1250474\ttotal: 2m 19s\tremaining: 28.6s\n",
      "166:\tlearn: 0.1249500\ttotal: 2m 20s\tremaining: 27.8s\n",
      "167:\tlearn: 0.1247919\ttotal: 2m 21s\tremaining: 26.9s\n",
      "168:\tlearn: 0.1246695\ttotal: 2m 22s\tremaining: 26.1s\n",
      "169:\tlearn: 0.1245786\ttotal: 2m 22s\tremaining: 25.2s\n",
      "170:\tlearn: 0.1244990\ttotal: 2m 23s\tremaining: 24.4s\n",
      "171:\tlearn: 0.1243718\ttotal: 2m 24s\tremaining: 23.5s\n",
      "172:\tlearn: 0.1242649\ttotal: 2m 25s\tremaining: 22.7s\n",
      "173:\tlearn: 0.1241707\ttotal: 2m 26s\tremaining: 21.8s\n",
      "174:\tlearn: 0.1238764\ttotal: 2m 27s\tremaining: 21s\n",
      "175:\tlearn: 0.1237738\ttotal: 2m 27s\tremaining: 20.2s\n",
      "176:\tlearn: 0.1234796\ttotal: 2m 28s\tremaining: 19.3s\n",
      "177:\tlearn: 0.1233767\ttotal: 2m 29s\tremaining: 18.5s\n",
      "178:\tlearn: 0.1231265\ttotal: 2m 30s\tremaining: 17.6s\n",
      "179:\tlearn: 0.1229039\ttotal: 2m 31s\tremaining: 16.8s\n",
      "180:\tlearn: 0.1228078\ttotal: 2m 32s\tremaining: 16s\n",
      "181:\tlearn: 0.1226770\ttotal: 2m 32s\tremaining: 15.1s\n",
      "182:\tlearn: 0.1225548\ttotal: 2m 33s\tremaining: 14.3s\n",
      "183:\tlearn: 0.1223652\ttotal: 2m 34s\tremaining: 13.4s\n",
      "184:\tlearn: 0.1222751\ttotal: 2m 35s\tremaining: 12.6s\n",
      "185:\tlearn: 0.1220462\ttotal: 2m 36s\tremaining: 11.8s\n",
      "186:\tlearn: 0.1219494\ttotal: 2m 37s\tremaining: 10.9s\n",
      "187:\tlearn: 0.1217012\ttotal: 2m 38s\tremaining: 10.1s\n",
      "188:\tlearn: 0.1216072\ttotal: 2m 38s\tremaining: 9.25s\n",
      "189:\tlearn: 0.1213707\ttotal: 2m 39s\tremaining: 8.41s\n",
      "190:\tlearn: 0.1212843\ttotal: 2m 40s\tremaining: 7.57s\n",
      "191:\tlearn: 0.1210358\ttotal: 2m 41s\tremaining: 6.73s\n",
      "192:\tlearn: 0.1209496\ttotal: 2m 42s\tremaining: 5.89s\n",
      "193:\tlearn: 0.1208650\ttotal: 2m 43s\tremaining: 5.04s\n",
      "194:\tlearn: 0.1206657\ttotal: 2m 43s\tremaining: 4.2s\n",
      "195:\tlearn: 0.1205732\ttotal: 2m 44s\tremaining: 3.36s\n",
      "196:\tlearn: 0.1204230\ttotal: 2m 45s\tremaining: 2.52s\n",
      "197:\tlearn: 0.1203316\ttotal: 2m 46s\tremaining: 1.68s\n",
      "198:\tlearn: 0.1201675\ttotal: 2m 47s\tremaining: 839ms\n",
      "199:\tlearn: 0.1200289\ttotal: 2m 47s\tremaining: 0us\n",
      "Learning rate set to 0.315863\n",
      "0:\tlearn: 0.4338925\ttotal: 1.09s\tremaining: 3m 37s\n",
      "1:\tlearn: 0.3258885\ttotal: 2.03s\tremaining: 3m 21s\n",
      "2:\tlearn: 0.2777742\ttotal: 2.99s\tremaining: 3m 16s\n",
      "3:\tlearn: 0.2551310\ttotal: 3.96s\tremaining: 3m 14s\n",
      "4:\tlearn: 0.2423468\ttotal: 4.91s\tremaining: 3m 11s\n",
      "5:\tlearn: 0.2341506\ttotal: 5.92s\tremaining: 3m 11s\n",
      "6:\tlearn: 0.2262383\ttotal: 6.9s\tremaining: 3m 10s\n",
      "7:\tlearn: 0.2206752\ttotal: 7.84s\tremaining: 3m 8s\n",
      "8:\tlearn: 0.2170980\ttotal: 8.82s\tremaining: 3m 7s\n",
      "9:\tlearn: 0.2140556\ttotal: 9.7s\tremaining: 3m 4s\n",
      "10:\tlearn: 0.2109371\ttotal: 10.6s\tremaining: 3m 1s\n",
      "11:\tlearn: 0.2068173\ttotal: 11.5s\tremaining: 2m 59s\n",
      "12:\tlearn: 0.2045372\ttotal: 12.3s\tremaining: 2m 57s\n",
      "13:\tlearn: 0.2021367\ttotal: 13.3s\tremaining: 2m 56s\n",
      "14:\tlearn: 0.1991321\ttotal: 14.2s\tremaining: 2m 55s\n",
      "15:\tlearn: 0.1973887\ttotal: 15.1s\tremaining: 2m 53s\n",
      "16:\tlearn: 0.1955485\ttotal: 16s\tremaining: 2m 52s\n",
      "17:\tlearn: 0.1939354\ttotal: 17s\tremaining: 2m 51s\n",
      "18:\tlearn: 0.1918434\ttotal: 17.9s\tremaining: 2m 50s\n",
      "19:\tlearn: 0.1902975\ttotal: 18.8s\tremaining: 2m 49s\n",
      "20:\tlearn: 0.1890944\ttotal: 19.7s\tremaining: 2m 47s\n",
      "21:\tlearn: 0.1870780\ttotal: 20.6s\tremaining: 2m 46s\n",
      "22:\tlearn: 0.1856184\ttotal: 21.5s\tremaining: 2m 45s\n",
      "23:\tlearn: 0.1836278\ttotal: 22.4s\tremaining: 2m 44s\n",
      "24:\tlearn: 0.1823026\ttotal: 23.3s\tremaining: 2m 42s\n",
      "25:\tlearn: 0.1811660\ttotal: 24.1s\tremaining: 2m 41s\n",
      "26:\tlearn: 0.1804179\ttotal: 25.1s\tremaining: 2m 40s\n",
      "27:\tlearn: 0.1790734\ttotal: 26s\tremaining: 2m 39s\n",
      "28:\tlearn: 0.1780291\ttotal: 26.9s\tremaining: 2m 38s\n",
      "29:\tlearn: 0.1772433\ttotal: 27.8s\tremaining: 2m 37s\n",
      "30:\tlearn: 0.1763815\ttotal: 28.6s\tremaining: 2m 36s\n",
      "31:\tlearn: 0.1752522\ttotal: 29.5s\tremaining: 2m 35s\n",
      "32:\tlearn: 0.1744021\ttotal: 30.4s\tremaining: 2m 33s\n",
      "33:\tlearn: 0.1735841\ttotal: 31.4s\tremaining: 2m 33s\n",
      "34:\tlearn: 0.1722602\ttotal: 32.3s\tremaining: 2m 32s\n",
      "35:\tlearn: 0.1712903\ttotal: 33.2s\tremaining: 2m 31s\n",
      "36:\tlearn: 0.1706876\ttotal: 34.1s\tremaining: 2m 30s\n",
      "37:\tlearn: 0.1698966\ttotal: 34.9s\tremaining: 2m 28s\n",
      "38:\tlearn: 0.1688655\ttotal: 35.8s\tremaining: 2m 27s\n",
      "39:\tlearn: 0.1682527\ttotal: 36.6s\tremaining: 2m 26s\n",
      "40:\tlearn: 0.1672854\ttotal: 37.5s\tremaining: 2m 25s\n",
      "41:\tlearn: 0.1666686\ttotal: 38.3s\tremaining: 2m 24s\n",
      "42:\tlearn: 0.1659707\ttotal: 39.2s\tremaining: 2m 23s\n",
      "43:\tlearn: 0.1654611\ttotal: 40s\tremaining: 2m 21s\n",
      "44:\tlearn: 0.1648644\ttotal: 40.9s\tremaining: 2m 20s\n",
      "45:\tlearn: 0.1643126\ttotal: 41.7s\tremaining: 2m 19s\n",
      "46:\tlearn: 0.1635230\ttotal: 42.6s\tremaining: 2m 18s\n",
      "47:\tlearn: 0.1626005\ttotal: 43.5s\tremaining: 2m 17s\n",
      "48:\tlearn: 0.1620371\ttotal: 44.3s\tremaining: 2m 16s\n",
      "49:\tlearn: 0.1614756\ttotal: 45.2s\tremaining: 2m 15s\n",
      "50:\tlearn: 0.1609877\ttotal: 46s\tremaining: 2m 14s\n",
      "51:\tlearn: 0.1603849\ttotal: 46.9s\tremaining: 2m 13s\n",
      "52:\tlearn: 0.1595199\ttotal: 47.8s\tremaining: 2m 12s\n",
      "53:\tlearn: 0.1588718\ttotal: 48.6s\tremaining: 2m 11s\n",
      "54:\tlearn: 0.1583768\ttotal: 49.4s\tremaining: 2m 10s\n",
      "55:\tlearn: 0.1578916\ttotal: 50.2s\tremaining: 2m 9s\n",
      "56:\tlearn: 0.1571232\ttotal: 51.1s\tremaining: 2m 8s\n",
      "57:\tlearn: 0.1567935\ttotal: 52s\tremaining: 2m 7s\n",
      "58:\tlearn: 0.1563238\ttotal: 52.8s\tremaining: 2m 6s\n",
      "59:\tlearn: 0.1556115\ttotal: 53.6s\tremaining: 2m 5s\n",
      "60:\tlearn: 0.1552366\ttotal: 54.5s\tremaining: 2m 4s\n",
      "61:\tlearn: 0.1548317\ttotal: 55.3s\tremaining: 2m 3s\n",
      "62:\tlearn: 0.1543518\ttotal: 56.2s\tremaining: 2m 2s\n",
      "63:\tlearn: 0.1539376\ttotal: 57.1s\tremaining: 2m 1s\n",
      "64:\tlearn: 0.1535786\ttotal: 57.9s\tremaining: 2m\n",
      "65:\tlearn: 0.1532705\ttotal: 58.8s\tremaining: 1m 59s\n",
      "66:\tlearn: 0.1528737\ttotal: 59.6s\tremaining: 1m 58s\n",
      "67:\tlearn: 0.1524213\ttotal: 1m\tremaining: 1m 57s\n",
      "68:\tlearn: 0.1517445\ttotal: 1m 1s\tremaining: 1m 56s\n",
      "69:\tlearn: 0.1511091\ttotal: 1m 2s\tremaining: 1m 55s\n",
      "70:\tlearn: 0.1508013\ttotal: 1m 3s\tremaining: 1m 54s\n",
      "71:\tlearn: 0.1503341\ttotal: 1m 3s\tremaining: 1m 53s\n",
      "72:\tlearn: 0.1498097\ttotal: 1m 4s\tremaining: 1m 52s\n",
      "73:\tlearn: 0.1495427\ttotal: 1m 5s\tremaining: 1m 51s\n",
      "74:\tlearn: 0.1490393\ttotal: 1m 6s\tremaining: 1m 50s\n",
      "75:\tlearn: 0.1486405\ttotal: 1m 7s\tremaining: 1m 49s\n",
      "76:\tlearn: 0.1483199\ttotal: 1m 8s\tremaining: 1m 48s\n",
      "77:\tlearn: 0.1479309\ttotal: 1m 9s\tremaining: 1m 47s\n",
      "78:\tlearn: 0.1473679\ttotal: 1m 9s\tremaining: 1m 46s\n",
      "79:\tlearn: 0.1471313\ttotal: 1m 10s\tremaining: 1m 46s\n",
      "80:\tlearn: 0.1467479\ttotal: 1m 11s\tremaining: 1m 45s\n",
      "81:\tlearn: 0.1464814\ttotal: 1m 12s\tremaining: 1m 44s\n",
      "82:\tlearn: 0.1462412\ttotal: 1m 13s\tremaining: 1m 43s\n",
      "83:\tlearn: 0.1457804\ttotal: 1m 13s\tremaining: 1m 42s\n",
      "84:\tlearn: 0.1452970\ttotal: 1m 14s\tremaining: 1m 41s\n",
      "85:\tlearn: 0.1448958\ttotal: 1m 15s\tremaining: 1m 40s\n",
      "86:\tlearn: 0.1445775\ttotal: 1m 16s\tremaining: 1m 39s\n",
      "87:\tlearn: 0.1443217\ttotal: 1m 17s\tremaining: 1m 38s\n",
      "88:\tlearn: 0.1440244\ttotal: 1m 18s\tremaining: 1m 37s\n",
      "89:\tlearn: 0.1437444\ttotal: 1m 19s\tremaining: 1m 36s\n",
      "90:\tlearn: 0.1434686\ttotal: 1m 19s\tremaining: 1m 35s\n",
      "91:\tlearn: 0.1430906\ttotal: 1m 20s\tremaining: 1m 34s\n",
      "92:\tlearn: 0.1427188\ttotal: 1m 21s\tremaining: 1m 33s\n",
      "93:\tlearn: 0.1424339\ttotal: 1m 22s\tremaining: 1m 33s\n",
      "94:\tlearn: 0.1422143\ttotal: 1m 23s\tremaining: 1m 32s\n",
      "95:\tlearn: 0.1415993\ttotal: 1m 24s\tremaining: 1m 31s\n",
      "96:\tlearn: 0.1414214\ttotal: 1m 25s\tremaining: 1m 30s\n",
      "97:\tlearn: 0.1411610\ttotal: 1m 25s\tremaining: 1m 29s\n",
      "98:\tlearn: 0.1409820\ttotal: 1m 26s\tremaining: 1m 28s\n",
      "99:\tlearn: 0.1405882\ttotal: 1m 27s\tremaining: 1m 27s\n",
      "100:\tlearn: 0.1402971\ttotal: 1m 28s\tremaining: 1m 26s\n",
      "101:\tlearn: 0.1401213\ttotal: 1m 29s\tremaining: 1m 25s\n",
      "102:\tlearn: 0.1398475\ttotal: 1m 29s\tremaining: 1m 24s\n",
      "103:\tlearn: 0.1396548\ttotal: 1m 30s\tremaining: 1m 23s\n",
      "104:\tlearn: 0.1395084\ttotal: 1m 31s\tremaining: 1m 22s\n",
      "105:\tlearn: 0.1391938\ttotal: 1m 32s\tremaining: 1m 21s\n",
      "106:\tlearn: 0.1389498\ttotal: 1m 33s\tremaining: 1m 21s\n",
      "107:\tlearn: 0.1385392\ttotal: 1m 34s\tremaining: 1m 20s\n",
      "108:\tlearn: 0.1381563\ttotal: 1m 35s\tremaining: 1m 19s\n",
      "109:\tlearn: 0.1379937\ttotal: 1m 35s\tremaining: 1m 18s\n",
      "110:\tlearn: 0.1377234\ttotal: 1m 36s\tremaining: 1m 17s\n",
      "111:\tlearn: 0.1373199\ttotal: 1m 37s\tremaining: 1m 16s\n",
      "112:\tlearn: 0.1370206\ttotal: 1m 38s\tremaining: 1m 15s\n",
      "113:\tlearn: 0.1368458\ttotal: 1m 39s\tremaining: 1m 14s\n",
      "114:\tlearn: 0.1365637\ttotal: 1m 40s\tremaining: 1m 13s\n",
      "115:\tlearn: 0.1361831\ttotal: 1m 40s\tremaining: 1m 13s\n",
      "116:\tlearn: 0.1360415\ttotal: 1m 41s\tremaining: 1m 12s\n",
      "117:\tlearn: 0.1358918\ttotal: 1m 42s\tremaining: 1m 11s\n",
      "118:\tlearn: 0.1357108\ttotal: 1m 43s\tremaining: 1m 10s\n",
      "119:\tlearn: 0.1354735\ttotal: 1m 43s\tremaining: 1m 9s\n",
      "120:\tlearn: 0.1352588\ttotal: 1m 44s\tremaining: 1m 8s\n",
      "121:\tlearn: 0.1350018\ttotal: 1m 45s\tremaining: 1m 7s\n",
      "122:\tlearn: 0.1348018\ttotal: 1m 46s\tremaining: 1m 6s\n",
      "123:\tlearn: 0.1345870\ttotal: 1m 47s\tremaining: 1m 5s\n",
      "124:\tlearn: 0.1344403\ttotal: 1m 48s\tremaining: 1m 4s\n",
      "125:\tlearn: 0.1343181\ttotal: 1m 48s\tremaining: 1m 3s\n",
      "126:\tlearn: 0.1340117\ttotal: 1m 49s\tremaining: 1m 3s\n",
      "127:\tlearn: 0.1338913\ttotal: 1m 50s\tremaining: 1m 2s\n",
      "128:\tlearn: 0.1337721\ttotal: 1m 51s\tremaining: 1m 1s\n",
      "129:\tlearn: 0.1334845\ttotal: 1m 52s\tremaining: 1m\n",
      "130:\tlearn: 0.1332288\ttotal: 1m 53s\tremaining: 59.5s\n",
      "131:\tlearn: 0.1329758\ttotal: 1m 53s\tremaining: 58.6s\n",
      "132:\tlearn: 0.1327767\ttotal: 1m 54s\tremaining: 57.8s\n",
      "133:\tlearn: 0.1326489\ttotal: 1m 55s\tremaining: 56.9s\n",
      "134:\tlearn: 0.1324196\ttotal: 1m 56s\tremaining: 56s\n",
      "135:\tlearn: 0.1322896\ttotal: 1m 57s\tremaining: 55.1s\n",
      "136:\tlearn: 0.1320890\ttotal: 1m 57s\tremaining: 54.2s\n",
      "137:\tlearn: 0.1319816\ttotal: 1m 58s\tremaining: 53.3s\n",
      "138:\tlearn: 0.1318264\ttotal: 1m 59s\tremaining: 52.4s\n",
      "139:\tlearn: 0.1316803\ttotal: 2m\tremaining: 51.6s\n",
      "140:\tlearn: 0.1314905\ttotal: 2m 1s\tremaining: 50.7s\n",
      "141:\tlearn: 0.1313751\ttotal: 2m 1s\tremaining: 49.8s\n",
      "142:\tlearn: 0.1312751\ttotal: 2m 2s\tremaining: 48.9s\n",
      "143:\tlearn: 0.1310838\ttotal: 2m 3s\tremaining: 48s\n",
      "144:\tlearn: 0.1309720\ttotal: 2m 4s\tremaining: 47.2s\n",
      "145:\tlearn: 0.1307903\ttotal: 2m 5s\tremaining: 46.3s\n",
      "146:\tlearn: 0.1306732\ttotal: 2m 6s\tremaining: 45.4s\n",
      "147:\tlearn: 0.1304374\ttotal: 2m 6s\tremaining: 44.6s\n",
      "148:\tlearn: 0.1303165\ttotal: 2m 7s\tremaining: 43.7s\n",
      "149:\tlearn: 0.1301353\ttotal: 2m 8s\tremaining: 42.8s\n",
      "150:\tlearn: 0.1299105\ttotal: 2m 9s\tremaining: 42s\n",
      "151:\tlearn: 0.1296660\ttotal: 2m 10s\tremaining: 41.1s\n",
      "152:\tlearn: 0.1294112\ttotal: 2m 10s\tremaining: 40.2s\n",
      "153:\tlearn: 0.1291298\ttotal: 2m 11s\tremaining: 39.4s\n",
      "154:\tlearn: 0.1289629\ttotal: 2m 12s\tremaining: 38.5s\n",
      "155:\tlearn: 0.1286798\ttotal: 2m 13s\tremaining: 37.6s\n",
      "156:\tlearn: 0.1285606\ttotal: 2m 14s\tremaining: 36.7s\n",
      "157:\tlearn: 0.1282497\ttotal: 2m 14s\tremaining: 35.9s\n",
      "158:\tlearn: 0.1281074\ttotal: 2m 15s\tremaining: 35s\n",
      "159:\tlearn: 0.1280079\ttotal: 2m 16s\tremaining: 34.1s\n",
      "160:\tlearn: 0.1279178\ttotal: 2m 17s\tremaining: 33.3s\n",
      "161:\tlearn: 0.1278113\ttotal: 2m 18s\tremaining: 32.4s\n",
      "162:\tlearn: 0.1277025\ttotal: 2m 18s\tremaining: 31.5s\n",
      "163:\tlearn: 0.1274932\ttotal: 2m 19s\tremaining: 30.7s\n",
      "164:\tlearn: 0.1272045\ttotal: 2m 20s\tremaining: 29.8s\n",
      "165:\tlearn: 0.1270996\ttotal: 2m 21s\tremaining: 28.9s\n",
      "166:\tlearn: 0.1269676\ttotal: 2m 22s\tremaining: 28.1s\n",
      "167:\tlearn: 0.1267433\ttotal: 2m 22s\tremaining: 27.2s\n",
      "168:\tlearn: 0.1266336\ttotal: 2m 23s\tremaining: 26.3s\n",
      "169:\tlearn: 0.1263324\ttotal: 2m 24s\tremaining: 25.5s\n",
      "170:\tlearn: 0.1261677\ttotal: 2m 25s\tremaining: 24.6s\n",
      "171:\tlearn: 0.1259476\ttotal: 2m 26s\tremaining: 23.8s\n",
      "172:\tlearn: 0.1257027\ttotal: 2m 26s\tremaining: 22.9s\n",
      "173:\tlearn: 0.1256096\ttotal: 2m 27s\tremaining: 22.1s\n",
      "174:\tlearn: 0.1255207\ttotal: 2m 28s\tremaining: 21.2s\n",
      "175:\tlearn: 0.1254343\ttotal: 2m 29s\tremaining: 20.4s\n",
      "176:\tlearn: 0.1251894\ttotal: 2m 30s\tremaining: 19.5s\n",
      "177:\tlearn: 0.1248613\ttotal: 2m 31s\tremaining: 18.7s\n",
      "178:\tlearn: 0.1245321\ttotal: 2m 31s\tremaining: 17.8s\n",
      "179:\tlearn: 0.1244486\ttotal: 2m 32s\tremaining: 17s\n",
      "180:\tlearn: 0.1242886\ttotal: 2m 33s\tremaining: 16.1s\n",
      "181:\tlearn: 0.1241272\ttotal: 2m 34s\tremaining: 15.3s\n",
      "182:\tlearn: 0.1240423\ttotal: 2m 35s\tremaining: 14.4s\n",
      "183:\tlearn: 0.1238500\ttotal: 2m 35s\tremaining: 13.6s\n",
      "184:\tlearn: 0.1236470\ttotal: 2m 36s\tremaining: 12.7s\n",
      "185:\tlearn: 0.1235174\ttotal: 2m 37s\tremaining: 11.9s\n",
      "186:\tlearn: 0.1234144\ttotal: 2m 38s\tremaining: 11s\n",
      "187:\tlearn: 0.1233336\ttotal: 2m 39s\tremaining: 10.2s\n",
      "188:\tlearn: 0.1232321\ttotal: 2m 40s\tremaining: 9.31s\n",
      "189:\tlearn: 0.1231303\ttotal: 2m 40s\tremaining: 8.47s\n",
      "190:\tlearn: 0.1229723\ttotal: 2m 41s\tremaining: 7.62s\n",
      "191:\tlearn: 0.1228920\ttotal: 2m 42s\tremaining: 6.77s\n",
      "192:\tlearn: 0.1228073\ttotal: 2m 43s\tremaining: 5.92s\n",
      "193:\tlearn: 0.1226977\ttotal: 2m 44s\tremaining: 5.07s\n",
      "194:\tlearn: 0.1226013\ttotal: 2m 44s\tremaining: 4.23s\n",
      "195:\tlearn: 0.1223918\ttotal: 2m 45s\tremaining: 3.38s\n",
      "196:\tlearn: 0.1223022\ttotal: 2m 46s\tremaining: 2.54s\n",
      "197:\tlearn: 0.1221118\ttotal: 2m 47s\tremaining: 1.69s\n",
      "198:\tlearn: 0.1220251\ttotal: 2m 48s\tremaining: 845ms\n",
      "199:\tlearn: 0.1219190\ttotal: 2m 48s\tremaining: 0us\n",
      "Learning rate set to 0.217781\n",
      "0:\tlearn: 0.5019708\ttotal: 1.01s\tremaining: 5m 2s\n",
      "1:\tlearn: 0.3903916\ttotal: 1.96s\tremaining: 4m 52s\n",
      "2:\tlearn: 0.3304048\ttotal: 2.83s\tremaining: 4m 40s\n",
      "3:\tlearn: 0.2929856\ttotal: 3.71s\tremaining: 4m 34s\n",
      "4:\tlearn: 0.2711538\ttotal: 4.59s\tremaining: 4m 31s\n",
      "5:\tlearn: 0.2567686\ttotal: 5.48s\tremaining: 4m 28s\n",
      "6:\tlearn: 0.2472120\ttotal: 6.37s\tremaining: 4m 26s\n",
      "7:\tlearn: 0.2391786\ttotal: 7.27s\tremaining: 4m 25s\n",
      "8:\tlearn: 0.2322168\ttotal: 8.22s\tremaining: 4m 25s\n",
      "9:\tlearn: 0.2282338\ttotal: 9.11s\tremaining: 4m 24s\n",
      "10:\tlearn: 0.2249656\ttotal: 9.96s\tremaining: 4m 21s\n",
      "11:\tlearn: 0.2218345\ttotal: 10.8s\tremaining: 4m 19s\n",
      "12:\tlearn: 0.2185246\ttotal: 11.7s\tremaining: 4m 18s\n",
      "13:\tlearn: 0.2161467\ttotal: 12.6s\tremaining: 4m 17s\n",
      "14:\tlearn: 0.2140292\ttotal: 13.5s\tremaining: 4m 15s\n",
      "15:\tlearn: 0.2109131\ttotal: 14.3s\tremaining: 4m 13s\n",
      "16:\tlearn: 0.2079542\ttotal: 15.2s\tremaining: 4m 12s\n",
      "17:\tlearn: 0.2058429\ttotal: 16s\tremaining: 4m 11s\n",
      "18:\tlearn: 0.2039785\ttotal: 17s\tremaining: 4m 10s\n",
      "19:\tlearn: 0.2025086\ttotal: 17.8s\tremaining: 4m 9s\n",
      "20:\tlearn: 0.2012377\ttotal: 18.6s\tremaining: 4m 7s\n",
      "21:\tlearn: 0.1998827\ttotal: 19.5s\tremaining: 4m 6s\n",
      "22:\tlearn: 0.1978983\ttotal: 20.4s\tremaining: 4m 5s\n",
      "23:\tlearn: 0.1965689\ttotal: 21.2s\tremaining: 4m 4s\n",
      "24:\tlearn: 0.1950554\ttotal: 22s\tremaining: 4m 2s\n",
      "25:\tlearn: 0.1940143\ttotal: 22.9s\tremaining: 4m 1s\n",
      "26:\tlearn: 0.1925599\ttotal: 23.8s\tremaining: 4m\n",
      "27:\tlearn: 0.1915840\ttotal: 24.6s\tremaining: 3m 58s\n",
      "28:\tlearn: 0.1907915\ttotal: 25.5s\tremaining: 3m 57s\n",
      "29:\tlearn: 0.1896433\ttotal: 26.3s\tremaining: 3m 56s\n",
      "30:\tlearn: 0.1887773\ttotal: 27.1s\tremaining: 3m 55s\n",
      "31:\tlearn: 0.1874599\ttotal: 27.9s\tremaining: 3m 53s\n",
      "32:\tlearn: 0.1865860\ttotal: 28.8s\tremaining: 3m 52s\n",
      "33:\tlearn: 0.1857267\ttotal: 29.6s\tremaining: 3m 51s\n",
      "34:\tlearn: 0.1849887\ttotal: 30.4s\tremaining: 3m 50s\n",
      "35:\tlearn: 0.1840907\ttotal: 31.2s\tremaining: 3m 49s\n",
      "36:\tlearn: 0.1829411\ttotal: 32.1s\tremaining: 3m 48s\n",
      "37:\tlearn: 0.1813039\ttotal: 33s\tremaining: 3m 47s\n",
      "38:\tlearn: 0.1806181\ttotal: 33.8s\tremaining: 3m 46s\n",
      "39:\tlearn: 0.1799336\ttotal: 34.6s\tremaining: 3m 45s\n",
      "40:\tlearn: 0.1792818\ttotal: 35.4s\tremaining: 3m 43s\n",
      "41:\tlearn: 0.1786041\ttotal: 36.2s\tremaining: 3m 42s\n",
      "42:\tlearn: 0.1780778\ttotal: 37.1s\tremaining: 3m 41s\n",
      "43:\tlearn: 0.1775296\ttotal: 38.1s\tremaining: 3m 41s\n",
      "44:\tlearn: 0.1767350\ttotal: 39s\tremaining: 3m 40s\n",
      "45:\tlearn: 0.1758171\ttotal: 39.8s\tremaining: 3m 39s\n",
      "46:\tlearn: 0.1750105\ttotal: 40.7s\tremaining: 3m 38s\n",
      "47:\tlearn: 0.1740575\ttotal: 41.5s\tremaining: 3m 37s\n",
      "48:\tlearn: 0.1735343\ttotal: 42.3s\tremaining: 3m 36s\n",
      "49:\tlearn: 0.1728400\ttotal: 43.3s\tremaining: 3m 36s\n",
      "50:\tlearn: 0.1721775\ttotal: 44.1s\tremaining: 3m 35s\n",
      "51:\tlearn: 0.1716454\ttotal: 44.9s\tremaining: 3m 33s\n",
      "52:\tlearn: 0.1710862\ttotal: 45.7s\tremaining: 3m 33s\n",
      "53:\tlearn: 0.1702842\ttotal: 46.5s\tremaining: 3m 32s\n",
      "54:\tlearn: 0.1698325\ttotal: 47.4s\tremaining: 3m 31s\n",
      "55:\tlearn: 0.1691126\ttotal: 48.2s\tremaining: 3m 30s\n",
      "56:\tlearn: 0.1686851\ttotal: 49.1s\tremaining: 3m 29s\n",
      "57:\tlearn: 0.1679910\ttotal: 50s\tremaining: 3m 28s\n",
      "58:\tlearn: 0.1675672\ttotal: 50.8s\tremaining: 3m 27s\n",
      "59:\tlearn: 0.1671503\ttotal: 51.7s\tremaining: 3m 26s\n",
      "60:\tlearn: 0.1663348\ttotal: 52.6s\tremaining: 3m 26s\n",
      "61:\tlearn: 0.1659108\ttotal: 53.4s\tremaining: 3m 25s\n",
      "62:\tlearn: 0.1654079\ttotal: 54.3s\tremaining: 3m 24s\n",
      "63:\tlearn: 0.1648152\ttotal: 55.2s\tremaining: 3m 23s\n",
      "64:\tlearn: 0.1644064\ttotal: 56s\tremaining: 3m 22s\n",
      "65:\tlearn: 0.1635642\ttotal: 57s\tremaining: 3m 21s\n",
      "66:\tlearn: 0.1630352\ttotal: 57.8s\tremaining: 3m 21s\n",
      "67:\tlearn: 0.1623653\ttotal: 58.8s\tremaining: 3m 20s\n",
      "68:\tlearn: 0.1619909\ttotal: 59.6s\tremaining: 3m 19s\n",
      "69:\tlearn: 0.1615157\ttotal: 1m\tremaining: 3m 18s\n",
      "70:\tlearn: 0.1611452\ttotal: 1m 1s\tremaining: 3m 17s\n",
      "71:\tlearn: 0.1606191\ttotal: 1m 2s\tremaining: 3m 16s\n",
      "72:\tlearn: 0.1602238\ttotal: 1m 2s\tremaining: 3m 15s\n",
      "73:\tlearn: 0.1598960\ttotal: 1m 3s\tremaining: 3m 14s\n",
      "74:\tlearn: 0.1595240\ttotal: 1m 4s\tremaining: 3m 13s\n",
      "75:\tlearn: 0.1592159\ttotal: 1m 5s\tremaining: 3m 12s\n",
      "76:\tlearn: 0.1589336\ttotal: 1m 5s\tremaining: 3m 10s\n",
      "77:\tlearn: 0.1584626\ttotal: 1m 6s\tremaining: 3m 9s\n",
      "78:\tlearn: 0.1581095\ttotal: 1m 7s\tremaining: 3m 8s\n",
      "79:\tlearn: 0.1575593\ttotal: 1m 8s\tremaining: 3m 8s\n",
      "80:\tlearn: 0.1571089\ttotal: 1m 9s\tremaining: 3m 6s\n",
      "81:\tlearn: 0.1565977\ttotal: 1m 9s\tremaining: 3m 6s\n",
      "82:\tlearn: 0.1561618\ttotal: 1m 10s\tremaining: 3m 5s\n",
      "83:\tlearn: 0.1558456\ttotal: 1m 11s\tremaining: 3m 4s\n",
      "84:\tlearn: 0.1553539\ttotal: 1m 12s\tremaining: 3m 3s\n",
      "85:\tlearn: 0.1549354\ttotal: 1m 13s\tremaining: 3m 2s\n",
      "86:\tlearn: 0.1546409\ttotal: 1m 14s\tremaining: 3m 1s\n",
      "87:\tlearn: 0.1543060\ttotal: 1m 14s\tremaining: 3m\n",
      "88:\tlearn: 0.1538618\ttotal: 1m 15s\tremaining: 2m 59s\n",
      "89:\tlearn: 0.1533883\ttotal: 1m 16s\tremaining: 2m 58s\n",
      "90:\tlearn: 0.1530945\ttotal: 1m 17s\tremaining: 2m 57s\n",
      "91:\tlearn: 0.1527962\ttotal: 1m 18s\tremaining: 2m 56s\n",
      "92:\tlearn: 0.1525188\ttotal: 1m 19s\tremaining: 2m 55s\n",
      "93:\tlearn: 0.1522005\ttotal: 1m 19s\tremaining: 2m 54s\n",
      "94:\tlearn: 0.1518719\ttotal: 1m 20s\tremaining: 2m 53s\n",
      "95:\tlearn: 0.1515312\ttotal: 1m 21s\tremaining: 2m 53s\n",
      "96:\tlearn: 0.1513080\ttotal: 1m 22s\tremaining: 2m 52s\n",
      "97:\tlearn: 0.1510411\ttotal: 1m 23s\tremaining: 2m 51s\n",
      "98:\tlearn: 0.1505351\ttotal: 1m 23s\tremaining: 2m 50s\n",
      "99:\tlearn: 0.1502443\ttotal: 1m 24s\tremaining: 2m 49s\n",
      "100:\tlearn: 0.1498629\ttotal: 1m 25s\tremaining: 2m 48s\n",
      "101:\tlearn: 0.1496444\ttotal: 1m 26s\tremaining: 2m 47s\n",
      "102:\tlearn: 0.1492930\ttotal: 1m 27s\tremaining: 2m 46s\n",
      "103:\tlearn: 0.1490805\ttotal: 1m 27s\tremaining: 2m 45s\n",
      "104:\tlearn: 0.1488726\ttotal: 1m 28s\tremaining: 2m 44s\n",
      "105:\tlearn: 0.1485916\ttotal: 1m 29s\tremaining: 2m 43s\n",
      "106:\tlearn: 0.1482948\ttotal: 1m 30s\tremaining: 2m 42s\n",
      "107:\tlearn: 0.1480034\ttotal: 1m 31s\tremaining: 2m 42s\n",
      "108:\tlearn: 0.1475968\ttotal: 1m 31s\tremaining: 2m 41s\n",
      "109:\tlearn: 0.1473485\ttotal: 1m 32s\tremaining: 2m 40s\n",
      "110:\tlearn: 0.1470234\ttotal: 1m 33s\tremaining: 2m 39s\n",
      "111:\tlearn: 0.1467746\ttotal: 1m 34s\tremaining: 2m 38s\n",
      "112:\tlearn: 0.1465620\ttotal: 1m 35s\tremaining: 2m 37s\n",
      "113:\tlearn: 0.1463095\ttotal: 1m 36s\tremaining: 2m 36s\n",
      "114:\tlearn: 0.1458464\ttotal: 1m 36s\tremaining: 2m 35s\n",
      "115:\tlearn: 0.1456519\ttotal: 1m 37s\tremaining: 2m 34s\n",
      "116:\tlearn: 0.1453874\ttotal: 1m 38s\tremaining: 2m 34s\n",
      "117:\tlearn: 0.1451563\ttotal: 1m 39s\tremaining: 2m 33s\n",
      "118:\tlearn: 0.1449445\ttotal: 1m 40s\tremaining: 2m 32s\n",
      "119:\tlearn: 0.1447893\ttotal: 1m 40s\tremaining: 2m 31s\n",
      "120:\tlearn: 0.1445154\ttotal: 1m 41s\tremaining: 2m 30s\n",
      "121:\tlearn: 0.1443512\ttotal: 1m 42s\tremaining: 2m 29s\n",
      "122:\tlearn: 0.1441951\ttotal: 1m 43s\tremaining: 2m 28s\n",
      "123:\tlearn: 0.1439793\ttotal: 1m 44s\tremaining: 2m 27s\n",
      "124:\tlearn: 0.1437390\ttotal: 1m 44s\tremaining: 2m 26s\n",
      "125:\tlearn: 0.1435577\ttotal: 1m 45s\tremaining: 2m 26s\n",
      "126:\tlearn: 0.1434261\ttotal: 1m 46s\tremaining: 2m 25s\n",
      "127:\tlearn: 0.1432741\ttotal: 1m 47s\tremaining: 2m 24s\n",
      "128:\tlearn: 0.1430200\ttotal: 1m 48s\tremaining: 2m 23s\n",
      "129:\tlearn: 0.1428708\ttotal: 1m 48s\tremaining: 2m 22s\n",
      "130:\tlearn: 0.1426932\ttotal: 1m 49s\tremaining: 2m 21s\n",
      "131:\tlearn: 0.1424999\ttotal: 1m 50s\tremaining: 2m 20s\n",
      "132:\tlearn: 0.1423315\ttotal: 1m 51s\tremaining: 2m 19s\n",
      "133:\tlearn: 0.1421802\ttotal: 1m 52s\tremaining: 2m 18s\n",
      "134:\tlearn: 0.1419521\ttotal: 1m 52s\tremaining: 2m 17s\n",
      "135:\tlearn: 0.1418249\ttotal: 1m 53s\tremaining: 2m 17s\n",
      "136:\tlearn: 0.1415878\ttotal: 1m 54s\tremaining: 2m 16s\n",
      "137:\tlearn: 0.1413713\ttotal: 1m 55s\tremaining: 2m 15s\n",
      "138:\tlearn: 0.1411551\ttotal: 1m 55s\tremaining: 2m 14s\n",
      "139:\tlearn: 0.1408753\ttotal: 1m 56s\tremaining: 2m 13s\n",
      "140:\tlearn: 0.1404464\ttotal: 1m 57s\tremaining: 2m 12s\n",
      "141:\tlearn: 0.1402054\ttotal: 1m 58s\tremaining: 2m 11s\n",
      "142:\tlearn: 0.1398809\ttotal: 1m 59s\tremaining: 2m 10s\n",
      "143:\tlearn: 0.1394394\ttotal: 2m\tremaining: 2m 10s\n",
      "144:\tlearn: 0.1393300\ttotal: 2m\tremaining: 2m 9s\n",
      "145:\tlearn: 0.1391351\ttotal: 2m 1s\tremaining: 2m 8s\n",
      "146:\tlearn: 0.1389503\ttotal: 2m 2s\tremaining: 2m 7s\n",
      "147:\tlearn: 0.1385177\ttotal: 2m 3s\tremaining: 2m 6s\n",
      "148:\tlearn: 0.1382858\ttotal: 2m 4s\tremaining: 2m 6s\n",
      "149:\tlearn: 0.1380675\ttotal: 2m 5s\tremaining: 2m 5s\n",
      "150:\tlearn: 0.1379223\ttotal: 2m 5s\tremaining: 2m 4s\n",
      "151:\tlearn: 0.1378027\ttotal: 2m 6s\tremaining: 2m 3s\n",
      "152:\tlearn: 0.1376788\ttotal: 2m 7s\tremaining: 2m 2s\n",
      "153:\tlearn: 0.1375561\ttotal: 2m 8s\tremaining: 2m 1s\n",
      "154:\tlearn: 0.1372196\ttotal: 2m 9s\tremaining: 2m\n",
      "155:\tlearn: 0.1370504\ttotal: 2m 9s\tremaining: 1m 59s\n",
      "156:\tlearn: 0.1369202\ttotal: 2m 10s\tremaining: 1m 59s\n",
      "157:\tlearn: 0.1367350\ttotal: 2m 11s\tremaining: 1m 58s\n",
      "158:\tlearn: 0.1366243\ttotal: 2m 12s\tremaining: 1m 57s\n",
      "159:\tlearn: 0.1365167\ttotal: 2m 13s\tremaining: 1m 56s\n",
      "160:\tlearn: 0.1362480\ttotal: 2m 14s\tremaining: 1m 55s\n",
      "161:\tlearn: 0.1360437\ttotal: 2m 15s\tremaining: 1m 55s\n",
      "162:\tlearn: 0.1358075\ttotal: 2m 16s\tremaining: 1m 54s\n",
      "163:\tlearn: 0.1356663\ttotal: 2m 16s\tremaining: 1m 53s\n",
      "164:\tlearn: 0.1355146\ttotal: 2m 17s\tremaining: 1m 52s\n",
      "165:\tlearn: 0.1353282\ttotal: 2m 18s\tremaining: 1m 51s\n",
      "166:\tlearn: 0.1352239\ttotal: 2m 19s\tremaining: 1m 50s\n",
      "167:\tlearn: 0.1351338\ttotal: 2m 20s\tremaining: 1m 50s\n",
      "168:\tlearn: 0.1349556\ttotal: 2m 20s\tremaining: 1m 49s\n",
      "169:\tlearn: 0.1347039\ttotal: 2m 21s\tremaining: 1m 48s\n",
      "170:\tlearn: 0.1344350\ttotal: 2m 22s\tremaining: 1m 47s\n",
      "171:\tlearn: 0.1343128\ttotal: 2m 23s\tremaining: 1m 46s\n",
      "172:\tlearn: 0.1342152\ttotal: 2m 24s\tremaining: 1m 46s\n",
      "173:\tlearn: 0.1340205\ttotal: 2m 25s\tremaining: 1m 45s\n",
      "174:\tlearn: 0.1338632\ttotal: 2m 26s\tremaining: 1m 44s\n",
      "175:\tlearn: 0.1337609\ttotal: 2m 26s\tremaining: 1m 43s\n",
      "176:\tlearn: 0.1336721\ttotal: 2m 27s\tremaining: 1m 42s\n",
      "177:\tlearn: 0.1335864\ttotal: 2m 28s\tremaining: 1m 41s\n",
      "178:\tlearn: 0.1334638\ttotal: 2m 29s\tremaining: 1m 40s\n",
      "179:\tlearn: 0.1333786\ttotal: 2m 30s\tremaining: 1m 40s\n",
      "180:\tlearn: 0.1332192\ttotal: 2m 30s\tremaining: 1m 39s\n",
      "181:\tlearn: 0.1330588\ttotal: 2m 31s\tremaining: 1m 38s\n",
      "182:\tlearn: 0.1327948\ttotal: 2m 32s\tremaining: 1m 37s\n",
      "183:\tlearn: 0.1327078\ttotal: 2m 33s\tremaining: 1m 36s\n",
      "184:\tlearn: 0.1325641\ttotal: 2m 34s\tremaining: 1m 35s\n",
      "185:\tlearn: 0.1323805\ttotal: 2m 35s\tremaining: 1m 35s\n",
      "186:\tlearn: 0.1321588\ttotal: 2m 35s\tremaining: 1m 34s\n",
      "187:\tlearn: 0.1318736\ttotal: 2m 36s\tremaining: 1m 33s\n",
      "188:\tlearn: 0.1317796\ttotal: 2m 37s\tremaining: 1m 32s\n",
      "189:\tlearn: 0.1316393\ttotal: 2m 38s\tremaining: 1m 31s\n",
      "190:\tlearn: 0.1315330\ttotal: 2m 39s\tremaining: 1m 31s\n",
      "191:\tlearn: 0.1314464\ttotal: 2m 40s\tremaining: 1m 30s\n",
      "192:\tlearn: 0.1312962\ttotal: 2m 41s\tremaining: 1m 29s\n",
      "193:\tlearn: 0.1312167\ttotal: 2m 42s\tremaining: 1m 28s\n",
      "194:\tlearn: 0.1310966\ttotal: 2m 43s\tremaining: 1m 27s\n",
      "195:\tlearn: 0.1308741\ttotal: 2m 43s\tremaining: 1m 26s\n",
      "196:\tlearn: 0.1308079\ttotal: 2m 44s\tremaining: 1m 26s\n",
      "197:\tlearn: 0.1306898\ttotal: 2m 45s\tremaining: 1m 25s\n",
      "198:\tlearn: 0.1304403\ttotal: 2m 46s\tremaining: 1m 24s\n",
      "199:\tlearn: 0.1303536\ttotal: 2m 47s\tremaining: 1m 23s\n",
      "200:\tlearn: 0.1302917\ttotal: 2m 48s\tremaining: 1m 22s\n",
      "201:\tlearn: 0.1300856\ttotal: 2m 49s\tremaining: 1m 22s\n",
      "202:\tlearn: 0.1299664\ttotal: 2m 49s\tremaining: 1m 21s\n",
      "203:\tlearn: 0.1298689\ttotal: 2m 50s\tremaining: 1m 20s\n",
      "204:\tlearn: 0.1298008\ttotal: 2m 51s\tremaining: 1m 19s\n",
      "205:\tlearn: 0.1297219\ttotal: 2m 52s\tremaining: 1m 18s\n",
      "206:\tlearn: 0.1296150\ttotal: 2m 53s\tremaining: 1m 17s\n",
      "207:\tlearn: 0.1294850\ttotal: 2m 54s\tremaining: 1m 17s\n",
      "208:\tlearn: 0.1293146\ttotal: 2m 55s\tremaining: 1m 16s\n",
      "209:\tlearn: 0.1291768\ttotal: 2m 55s\tremaining: 1m 15s\n",
      "210:\tlearn: 0.1289915\ttotal: 2m 56s\tremaining: 1m 14s\n",
      "211:\tlearn: 0.1288978\ttotal: 2m 57s\tremaining: 1m 13s\n",
      "212:\tlearn: 0.1287625\ttotal: 2m 58s\tremaining: 1m 12s\n",
      "213:\tlearn: 0.1286895\ttotal: 2m 59s\tremaining: 1m 12s\n",
      "214:\tlearn: 0.1285969\ttotal: 3m\tremaining: 1m 11s\n",
      "215:\tlearn: 0.1284462\ttotal: 3m 1s\tremaining: 1m 10s\n",
      "216:\tlearn: 0.1283636\ttotal: 3m 1s\tremaining: 1m 9s\n",
      "217:\tlearn: 0.1283006\ttotal: 3m 2s\tremaining: 1m 8s\n",
      "218:\tlearn: 0.1282261\ttotal: 3m 3s\tremaining: 1m 7s\n",
      "219:\tlearn: 0.1281033\ttotal: 3m 4s\tremaining: 1m 7s\n",
      "220:\tlearn: 0.1280228\ttotal: 3m 5s\tremaining: 1m 6s\n",
      "221:\tlearn: 0.1278468\ttotal: 3m 6s\tremaining: 1m 5s\n",
      "222:\tlearn: 0.1277747\ttotal: 3m 6s\tremaining: 1m 4s\n",
      "223:\tlearn: 0.1276514\ttotal: 3m 7s\tremaining: 1m 3s\n",
      "224:\tlearn: 0.1275698\ttotal: 3m 8s\tremaining: 1m 2s\n",
      "225:\tlearn: 0.1274186\ttotal: 3m 9s\tremaining: 1m 2s\n",
      "226:\tlearn: 0.1271617\ttotal: 3m 10s\tremaining: 1m 1s\n",
      "227:\tlearn: 0.1270938\ttotal: 3m 11s\tremaining: 1m\n",
      "228:\tlearn: 0.1270316\ttotal: 3m 11s\tremaining: 59.5s\n",
      "229:\tlearn: 0.1268642\ttotal: 3m 12s\tremaining: 58.7s\n",
      "230:\tlearn: 0.1266711\ttotal: 3m 13s\tremaining: 57.9s\n",
      "231:\tlearn: 0.1265306\ttotal: 3m 14s\tremaining: 57s\n",
      "232:\tlearn: 0.1264125\ttotal: 3m 15s\tremaining: 56.2s\n",
      "233:\tlearn: 0.1262900\ttotal: 3m 16s\tremaining: 55.3s\n",
      "234:\tlearn: 0.1261631\ttotal: 3m 17s\tremaining: 54.5s\n",
      "235:\tlearn: 0.1259717\ttotal: 3m 17s\tremaining: 53.7s\n",
      "236:\tlearn: 0.1258490\ttotal: 3m 18s\tremaining: 52.8s\n",
      "237:\tlearn: 0.1256374\ttotal: 3m 19s\tremaining: 52s\n",
      "238:\tlearn: 0.1254534\ttotal: 3m 20s\tremaining: 51.2s\n",
      "239:\tlearn: 0.1253615\ttotal: 3m 21s\tremaining: 50.4s\n",
      "240:\tlearn: 0.1252939\ttotal: 3m 22s\tremaining: 49.5s\n",
      "241:\tlearn: 0.1252275\ttotal: 3m 23s\tremaining: 48.7s\n",
      "242:\tlearn: 0.1250259\ttotal: 3m 23s\tremaining: 47.8s\n",
      "243:\tlearn: 0.1248968\ttotal: 3m 24s\tremaining: 47s\n",
      "244:\tlearn: 0.1247498\ttotal: 3m 25s\tremaining: 46.2s\n",
      "245:\tlearn: 0.1246609\ttotal: 3m 26s\tremaining: 45.3s\n",
      "246:\tlearn: 0.1245439\ttotal: 3m 27s\tremaining: 44.5s\n",
      "247:\tlearn: 0.1244778\ttotal: 3m 28s\tremaining: 43.6s\n",
      "248:\tlearn: 0.1243936\ttotal: 3m 28s\tremaining: 42.8s\n",
      "249:\tlearn: 0.1243222\ttotal: 3m 29s\tremaining: 42s\n",
      "250:\tlearn: 0.1241852\ttotal: 3m 30s\tremaining: 41.1s\n",
      "251:\tlearn: 0.1241171\ttotal: 3m 31s\tremaining: 40.3s\n",
      "252:\tlearn: 0.1239426\ttotal: 3m 32s\tremaining: 39.5s\n",
      "253:\tlearn: 0.1238238\ttotal: 3m 33s\tremaining: 38.6s\n",
      "254:\tlearn: 0.1237614\ttotal: 3m 34s\tremaining: 37.8s\n",
      "255:\tlearn: 0.1236896\ttotal: 3m 34s\tremaining: 36.9s\n",
      "256:\tlearn: 0.1236363\ttotal: 3m 35s\tremaining: 36.1s\n",
      "257:\tlearn: 0.1235104\ttotal: 3m 36s\tremaining: 35.2s\n",
      "258:\tlearn: 0.1234467\ttotal: 3m 37s\tremaining: 34.4s\n",
      "259:\tlearn: 0.1233954\ttotal: 3m 38s\tremaining: 33.6s\n",
      "260:\tlearn: 0.1233096\ttotal: 3m 38s\tremaining: 32.7s\n",
      "261:\tlearn: 0.1231431\ttotal: 3m 39s\tremaining: 31.9s\n",
      "262:\tlearn: 0.1230832\ttotal: 3m 40s\tremaining: 31s\n",
      "263:\tlearn: 0.1228826\ttotal: 3m 41s\tremaining: 30.2s\n",
      "264:\tlearn: 0.1228148\ttotal: 3m 42s\tremaining: 29.4s\n",
      "265:\tlearn: 0.1227401\ttotal: 3m 43s\tremaining: 28.5s\n",
      "266:\tlearn: 0.1226761\ttotal: 3m 44s\tremaining: 27.7s\n",
      "267:\tlearn: 0.1224469\ttotal: 3m 44s\tremaining: 26.9s\n",
      "268:\tlearn: 0.1223862\ttotal: 3m 45s\tremaining: 26s\n",
      "269:\tlearn: 0.1223144\ttotal: 3m 46s\tremaining: 25.2s\n",
      "270:\tlearn: 0.1222661\ttotal: 3m 47s\tremaining: 24.3s\n",
      "271:\tlearn: 0.1222102\ttotal: 3m 48s\tremaining: 23.5s\n",
      "272:\tlearn: 0.1221506\ttotal: 3m 49s\tremaining: 22.7s\n",
      "273:\tlearn: 0.1220888\ttotal: 3m 49s\tremaining: 21.8s\n",
      "274:\tlearn: 0.1219981\ttotal: 3m 50s\tremaining: 21s\n",
      "275:\tlearn: 0.1219357\ttotal: 3m 51s\tremaining: 20.1s\n",
      "276:\tlearn: 0.1218074\ttotal: 3m 52s\tremaining: 19.3s\n",
      "277:\tlearn: 0.1217298\ttotal: 3m 53s\tremaining: 18.5s\n",
      "278:\tlearn: 0.1216811\ttotal: 3m 54s\tremaining: 17.6s\n",
      "279:\tlearn: 0.1215152\ttotal: 3m 54s\tremaining: 16.8s\n",
      "280:\tlearn: 0.1214598\ttotal: 3m 55s\tremaining: 15.9s\n",
      "281:\tlearn: 0.1214033\ttotal: 3m 56s\tremaining: 15.1s\n",
      "282:\tlearn: 0.1213400\ttotal: 3m 57s\tremaining: 14.3s\n",
      "283:\tlearn: 0.1212883\ttotal: 3m 58s\tremaining: 13.4s\n",
      "284:\tlearn: 0.1212170\ttotal: 3m 58s\tremaining: 12.6s\n",
      "285:\tlearn: 0.1211314\ttotal: 3m 59s\tremaining: 11.7s\n",
      "286:\tlearn: 0.1210821\ttotal: 4m\tremaining: 10.9s\n",
      "287:\tlearn: 0.1209308\ttotal: 4m 1s\tremaining: 10s\n",
      "288:\tlearn: 0.1208717\ttotal: 4m 2s\tremaining: 9.21s\n",
      "289:\tlearn: 0.1207423\ttotal: 4m 2s\tremaining: 8.37s\n",
      "290:\tlearn: 0.1206798\ttotal: 4m 3s\tremaining: 7.54s\n",
      "291:\tlearn: 0.1205362\ttotal: 4m 4s\tremaining: 6.7s\n",
      "292:\tlearn: 0.1203987\ttotal: 4m 5s\tremaining: 5.86s\n",
      "293:\tlearn: 0.1203410\ttotal: 4m 5s\tremaining: 5.02s\n",
      "294:\tlearn: 0.1202770\ttotal: 4m 6s\tremaining: 4.18s\n",
      "295:\tlearn: 0.1202107\ttotal: 4m 7s\tremaining: 3.35s\n",
      "296:\tlearn: 0.1201560\ttotal: 4m 8s\tremaining: 2.51s\n",
      "297:\tlearn: 0.1201068\ttotal: 4m 9s\tremaining: 1.67s\n",
      "298:\tlearn: 0.1200444\ttotal: 4m 9s\tremaining: 836ms\n",
      "299:\tlearn: 0.1199062\ttotal: 4m 10s\tremaining: 0us\n",
      "Learning rate set to 0.217781\n",
      "0:\tlearn: 0.4972042\ttotal: 980ms\tremaining: 4m 53s\n",
      "1:\tlearn: 0.3879407\ttotal: 1.93s\tremaining: 4m 47s\n",
      "2:\tlearn: 0.3272421\ttotal: 2.94s\tremaining: 4m 51s\n",
      "3:\tlearn: 0.2919112\ttotal: 3.84s\tremaining: 4m 44s\n",
      "4:\tlearn: 0.2699842\ttotal: 4.8s\tremaining: 4m 42s\n",
      "5:\tlearn: 0.2562547\ttotal: 5.73s\tremaining: 4m 40s\n",
      "6:\tlearn: 0.2468845\ttotal: 6.71s\tremaining: 4m 40s\n",
      "7:\tlearn: 0.2398371\ttotal: 7.68s\tremaining: 4m 40s\n",
      "8:\tlearn: 0.2343150\ttotal: 8.59s\tremaining: 4m 37s\n",
      "9:\tlearn: 0.2276067\ttotal: 9.56s\tremaining: 4m 37s\n",
      "10:\tlearn: 0.2243936\ttotal: 10.5s\tremaining: 4m 35s\n",
      "11:\tlearn: 0.2214873\ttotal: 11.4s\tremaining: 4m 32s\n",
      "12:\tlearn: 0.2176801\ttotal: 12.2s\tremaining: 4m 30s\n",
      "13:\tlearn: 0.2153850\ttotal: 13.1s\tremaining: 4m 27s\n",
      "14:\tlearn: 0.2133051\ttotal: 14s\tremaining: 4m 25s\n",
      "15:\tlearn: 0.2113899\ttotal: 14.8s\tremaining: 4m 23s\n",
      "16:\tlearn: 0.2096544\ttotal: 15.7s\tremaining: 4m 20s\n",
      "17:\tlearn: 0.2073899\ttotal: 16.6s\tremaining: 4m 20s\n",
      "18:\tlearn: 0.2052093\ttotal: 17.5s\tremaining: 4m 19s\n",
      "19:\tlearn: 0.2034553\ttotal: 18.3s\tremaining: 4m 16s\n",
      "20:\tlearn: 0.2018762\ttotal: 19.2s\tremaining: 4m 15s\n",
      "21:\tlearn: 0.2004152\ttotal: 20.1s\tremaining: 4m 13s\n",
      "22:\tlearn: 0.1988918\ttotal: 20.9s\tremaining: 4m 11s\n",
      "23:\tlearn: 0.1976369\ttotal: 21.8s\tremaining: 4m 10s\n",
      "24:\tlearn: 0.1963391\ttotal: 22.6s\tremaining: 4m 8s\n",
      "25:\tlearn: 0.1948561\ttotal: 23.4s\tremaining: 4m 6s\n",
      "26:\tlearn: 0.1931286\ttotal: 24.2s\tremaining: 4m 5s\n",
      "27:\tlearn: 0.1922585\ttotal: 25.1s\tremaining: 4m 3s\n",
      "28:\tlearn: 0.1910578\ttotal: 25.9s\tremaining: 4m 2s\n",
      "29:\tlearn: 0.1901642\ttotal: 26.8s\tremaining: 4m 1s\n",
      "30:\tlearn: 0.1891283\ttotal: 27.6s\tremaining: 3m 59s\n",
      "31:\tlearn: 0.1881409\ttotal: 28.5s\tremaining: 3m 58s\n",
      "32:\tlearn: 0.1874410\ttotal: 29.3s\tremaining: 3m 57s\n",
      "33:\tlearn: 0.1860870\ttotal: 30.1s\tremaining: 3m 55s\n",
      "34:\tlearn: 0.1853124\ttotal: 31s\tremaining: 3m 54s\n",
      "35:\tlearn: 0.1840439\ttotal: 31.8s\tremaining: 3m 53s\n",
      "36:\tlearn: 0.1834716\ttotal: 32.7s\tremaining: 3m 52s\n",
      "37:\tlearn: 0.1827800\ttotal: 33.5s\tremaining: 3m 51s\n",
      "38:\tlearn: 0.1821270\ttotal: 34.3s\tremaining: 3m 49s\n",
      "39:\tlearn: 0.1810411\ttotal: 35.2s\tremaining: 3m 48s\n",
      "40:\tlearn: 0.1804496\ttotal: 36s\tremaining: 3m 47s\n",
      "41:\tlearn: 0.1798365\ttotal: 36.9s\tremaining: 3m 46s\n",
      "42:\tlearn: 0.1790408\ttotal: 37.7s\tremaining: 3m 45s\n",
      "43:\tlearn: 0.1779521\ttotal: 38.5s\tremaining: 3m 43s\n",
      "44:\tlearn: 0.1769375\ttotal: 39.3s\tremaining: 3m 42s\n",
      "45:\tlearn: 0.1761525\ttotal: 40.1s\tremaining: 3m 41s\n",
      "46:\tlearn: 0.1754576\ttotal: 41s\tremaining: 3m 40s\n",
      "47:\tlearn: 0.1749283\ttotal: 41.8s\tremaining: 3m 39s\n",
      "48:\tlearn: 0.1742415\ttotal: 42.6s\tremaining: 3m 38s\n",
      "49:\tlearn: 0.1734057\ttotal: 43.4s\tremaining: 3m 36s\n",
      "50:\tlearn: 0.1727400\ttotal: 44.3s\tremaining: 3m 36s\n",
      "51:\tlearn: 0.1719182\ttotal: 45.1s\tremaining: 3m 34s\n",
      "52:\tlearn: 0.1714201\ttotal: 45.9s\tremaining: 3m 33s\n",
      "53:\tlearn: 0.1709505\ttotal: 46.8s\tremaining: 3m 33s\n",
      "54:\tlearn: 0.1704882\ttotal: 47.6s\tremaining: 3m 31s\n",
      "55:\tlearn: 0.1700101\ttotal: 48.3s\tremaining: 3m 30s\n",
      "56:\tlearn: 0.1691501\ttotal: 49.2s\tremaining: 3m 29s\n",
      "57:\tlearn: 0.1687451\ttotal: 50s\tremaining: 3m 28s\n",
      "58:\tlearn: 0.1682964\ttotal: 50.8s\tremaining: 3m 27s\n",
      "59:\tlearn: 0.1678905\ttotal: 51.6s\tremaining: 3m 26s\n",
      "60:\tlearn: 0.1674397\ttotal: 52.4s\tremaining: 3m 25s\n",
      "61:\tlearn: 0.1666365\ttotal: 53.3s\tremaining: 3m 24s\n",
      "62:\tlearn: 0.1662290\ttotal: 54s\tremaining: 3m 23s\n",
      "63:\tlearn: 0.1657734\ttotal: 54.9s\tremaining: 3m 22s\n",
      "64:\tlearn: 0.1653481\ttotal: 55.7s\tremaining: 3m 21s\n",
      "65:\tlearn: 0.1647498\ttotal: 56.6s\tremaining: 3m 20s\n",
      "66:\tlearn: 0.1643706\ttotal: 57.4s\tremaining: 3m 19s\n",
      "67:\tlearn: 0.1639424\ttotal: 58.2s\tremaining: 3m 18s\n",
      "68:\tlearn: 0.1635675\ttotal: 59s\tremaining: 3m 17s\n",
      "69:\tlearn: 0.1630093\ttotal: 59.9s\tremaining: 3m 16s\n",
      "70:\tlearn: 0.1625907\ttotal: 1m\tremaining: 3m 15s\n",
      "71:\tlearn: 0.1621169\ttotal: 1m 1s\tremaining: 3m 14s\n",
      "72:\tlearn: 0.1617358\ttotal: 1m 2s\tremaining: 3m 14s\n",
      "73:\tlearn: 0.1613613\ttotal: 1m 3s\tremaining: 3m 13s\n",
      "74:\tlearn: 0.1609384\ttotal: 1m 4s\tremaining: 3m 12s\n",
      "75:\tlearn: 0.1604779\ttotal: 1m 4s\tremaining: 3m 11s\n",
      "76:\tlearn: 0.1601908\ttotal: 1m 5s\tremaining: 3m 10s\n",
      "77:\tlearn: 0.1597063\ttotal: 1m 6s\tremaining: 3m 9s\n",
      "78:\tlearn: 0.1592907\ttotal: 1m 7s\tremaining: 3m 8s\n",
      "79:\tlearn: 0.1589627\ttotal: 1m 8s\tremaining: 3m 7s\n",
      "80:\tlearn: 0.1586700\ttotal: 1m 9s\tremaining: 3m 6s\n",
      "81:\tlearn: 0.1583834\ttotal: 1m 9s\tremaining: 3m 5s\n",
      "82:\tlearn: 0.1581050\ttotal: 1m 10s\tremaining: 3m 4s\n",
      "83:\tlearn: 0.1576919\ttotal: 1m 11s\tremaining: 3m 3s\n",
      "84:\tlearn: 0.1573654\ttotal: 1m 12s\tremaining: 3m 2s\n",
      "85:\tlearn: 0.1569109\ttotal: 1m 13s\tremaining: 3m 1s\n",
      "86:\tlearn: 0.1566326\ttotal: 1m 13s\tremaining: 3m 1s\n",
      "87:\tlearn: 0.1563283\ttotal: 1m 14s\tremaining: 3m\n",
      "88:\tlearn: 0.1559769\ttotal: 1m 15s\tremaining: 2m 59s\n",
      "89:\tlearn: 0.1556501\ttotal: 1m 16s\tremaining: 2m 58s\n",
      "90:\tlearn: 0.1550717\ttotal: 1m 17s\tremaining: 2m 57s\n",
      "91:\tlearn: 0.1546276\ttotal: 1m 18s\tremaining: 2m 56s\n",
      "92:\tlearn: 0.1542558\ttotal: 1m 18s\tremaining: 2m 55s\n",
      "93:\tlearn: 0.1539701\ttotal: 1m 19s\tremaining: 2m 54s\n",
      "94:\tlearn: 0.1536604\ttotal: 1m 20s\tremaining: 2m 53s\n",
      "95:\tlearn: 0.1533491\ttotal: 1m 21s\tremaining: 2m 53s\n",
      "96:\tlearn: 0.1530822\ttotal: 1m 22s\tremaining: 2m 52s\n",
      "97:\tlearn: 0.1527884\ttotal: 1m 23s\tremaining: 2m 51s\n",
      "98:\tlearn: 0.1524631\ttotal: 1m 23s\tremaining: 2m 50s\n",
      "99:\tlearn: 0.1522614\ttotal: 1m 24s\tremaining: 2m 49s\n",
      "100:\tlearn: 0.1518986\ttotal: 1m 25s\tremaining: 2m 48s\n",
      "101:\tlearn: 0.1516998\ttotal: 1m 26s\tremaining: 2m 47s\n",
      "102:\tlearn: 0.1511473\ttotal: 1m 27s\tremaining: 2m 46s\n",
      "103:\tlearn: 0.1508074\ttotal: 1m 28s\tremaining: 2m 46s\n",
      "104:\tlearn: 0.1504501\ttotal: 1m 28s\tremaining: 2m 45s\n",
      "105:\tlearn: 0.1500930\ttotal: 1m 29s\tremaining: 2m 44s\n",
      "106:\tlearn: 0.1498088\ttotal: 1m 30s\tremaining: 2m 43s\n",
      "107:\tlearn: 0.1495897\ttotal: 1m 31s\tremaining: 2m 42s\n",
      "108:\tlearn: 0.1493411\ttotal: 1m 32s\tremaining: 2m 41s\n",
      "109:\tlearn: 0.1491280\ttotal: 1m 32s\tremaining: 2m 40s\n",
      "110:\tlearn: 0.1487881\ttotal: 1m 33s\tremaining: 2m 39s\n",
      "111:\tlearn: 0.1485912\ttotal: 1m 34s\tremaining: 2m 38s\n",
      "112:\tlearn: 0.1483164\ttotal: 1m 35s\tremaining: 2m 37s\n",
      "113:\tlearn: 0.1479367\ttotal: 1m 36s\tremaining: 2m 37s\n",
      "114:\tlearn: 0.1477130\ttotal: 1m 37s\tremaining: 2m 36s\n",
      "115:\tlearn: 0.1474584\ttotal: 1m 37s\tremaining: 2m 35s\n",
      "116:\tlearn: 0.1472061\ttotal: 1m 38s\tremaining: 2m 34s\n",
      "117:\tlearn: 0.1468875\ttotal: 1m 39s\tremaining: 2m 33s\n",
      "118:\tlearn: 0.1467535\ttotal: 1m 40s\tremaining: 2m 32s\n",
      "119:\tlearn: 0.1465540\ttotal: 1m 41s\tremaining: 2m 31s\n",
      "120:\tlearn: 0.1463195\ttotal: 1m 42s\tremaining: 2m 30s\n",
      "121:\tlearn: 0.1459886\ttotal: 1m 42s\tremaining: 2m 30s\n",
      "122:\tlearn: 0.1457871\ttotal: 1m 43s\tremaining: 2m 29s\n",
      "123:\tlearn: 0.1455494\ttotal: 1m 44s\tremaining: 2m 28s\n",
      "124:\tlearn: 0.1452269\ttotal: 1m 45s\tremaining: 2m 27s\n",
      "125:\tlearn: 0.1450457\ttotal: 1m 46s\tremaining: 2m 26s\n",
      "126:\tlearn: 0.1446436\ttotal: 1m 46s\tremaining: 2m 25s\n",
      "127:\tlearn: 0.1444954\ttotal: 1m 47s\tremaining: 2m 24s\n",
      "128:\tlearn: 0.1443408\ttotal: 1m 48s\tremaining: 2m 23s\n",
      "129:\tlearn: 0.1441384\ttotal: 1m 49s\tremaining: 2m 22s\n",
      "130:\tlearn: 0.1439146\ttotal: 1m 50s\tremaining: 2m 22s\n",
      "131:\tlearn: 0.1437191\ttotal: 1m 50s\tremaining: 2m 21s\n",
      "132:\tlearn: 0.1433890\ttotal: 1m 51s\tremaining: 2m 20s\n",
      "133:\tlearn: 0.1432556\ttotal: 1m 52s\tremaining: 2m 19s\n",
      "134:\tlearn: 0.1430346\ttotal: 1m 53s\tremaining: 2m 18s\n",
      "135:\tlearn: 0.1428925\ttotal: 1m 54s\tremaining: 2m 17s\n",
      "136:\tlearn: 0.1426586\ttotal: 1m 54s\tremaining: 2m 16s\n",
      "137:\tlearn: 0.1423372\ttotal: 1m 55s\tremaining: 2m 15s\n",
      "138:\tlearn: 0.1421792\ttotal: 1m 56s\tremaining: 2m 15s\n",
      "139:\tlearn: 0.1419600\ttotal: 1m 57s\tremaining: 2m 14s\n",
      "140:\tlearn: 0.1417291\ttotal: 1m 58s\tremaining: 2m 13s\n",
      "141:\tlearn: 0.1415475\ttotal: 1m 59s\tremaining: 2m 12s\n",
      "142:\tlearn: 0.1414180\ttotal: 1m 59s\tremaining: 2m 11s\n",
      "143:\tlearn: 0.1412865\ttotal: 2m\tremaining: 2m 10s\n",
      "144:\tlearn: 0.1410969\ttotal: 2m 1s\tremaining: 2m 9s\n",
      "145:\tlearn: 0.1408424\ttotal: 2m 2s\tremaining: 2m 9s\n",
      "146:\tlearn: 0.1405824\ttotal: 2m 3s\tremaining: 2m 8s\n",
      "147:\tlearn: 0.1403924\ttotal: 2m 4s\tremaining: 2m 7s\n",
      "148:\tlearn: 0.1401705\ttotal: 2m 4s\tremaining: 2m 6s\n",
      "149:\tlearn: 0.1400366\ttotal: 2m 5s\tremaining: 2m 5s\n",
      "150:\tlearn: 0.1398458\ttotal: 2m 6s\tremaining: 2m 4s\n",
      "151:\tlearn: 0.1396314\ttotal: 2m 7s\tremaining: 2m 4s\n",
      "152:\tlearn: 0.1394866\ttotal: 2m 8s\tremaining: 2m 3s\n",
      "153:\tlearn: 0.1393242\ttotal: 2m 9s\tremaining: 2m 2s\n",
      "154:\tlearn: 0.1392064\ttotal: 2m 9s\tremaining: 2m 1s\n",
      "155:\tlearn: 0.1388804\ttotal: 2m 10s\tremaining: 2m\n",
      "156:\tlearn: 0.1386709\ttotal: 2m 11s\tremaining: 1m 59s\n",
      "157:\tlearn: 0.1385666\ttotal: 2m 12s\tremaining: 1m 58s\n",
      "158:\tlearn: 0.1383519\ttotal: 2m 13s\tremaining: 1m 58s\n",
      "159:\tlearn: 0.1382323\ttotal: 2m 13s\tremaining: 1m 57s\n",
      "160:\tlearn: 0.1381357\ttotal: 2m 14s\tremaining: 1m 56s\n",
      "161:\tlearn: 0.1379914\ttotal: 2m 15s\tremaining: 1m 55s\n",
      "162:\tlearn: 0.1378998\ttotal: 2m 16s\tremaining: 1m 54s\n",
      "163:\tlearn: 0.1377392\ttotal: 2m 17s\tremaining: 1m 53s\n",
      "164:\tlearn: 0.1375002\ttotal: 2m 18s\tremaining: 1m 53s\n",
      "165:\tlearn: 0.1373077\ttotal: 2m 18s\tremaining: 1m 52s\n",
      "166:\tlearn: 0.1371867\ttotal: 2m 19s\tremaining: 1m 51s\n",
      "167:\tlearn: 0.1369778\ttotal: 2m 20s\tremaining: 1m 50s\n",
      "168:\tlearn: 0.1366759\ttotal: 2m 21s\tremaining: 1m 49s\n",
      "169:\tlearn: 0.1365785\ttotal: 2m 22s\tremaining: 1m 48s\n",
      "170:\tlearn: 0.1364547\ttotal: 2m 23s\tremaining: 1m 48s\n",
      "171:\tlearn: 0.1363601\ttotal: 2m 24s\tremaining: 1m 47s\n",
      "172:\tlearn: 0.1361485\ttotal: 2m 24s\tremaining: 1m 46s\n",
      "173:\tlearn: 0.1360498\ttotal: 2m 25s\tremaining: 1m 45s\n",
      "174:\tlearn: 0.1358539\ttotal: 2m 26s\tremaining: 1m 44s\n",
      "175:\tlearn: 0.1357618\ttotal: 2m 27s\tremaining: 1m 43s\n",
      "176:\tlearn: 0.1356218\ttotal: 2m 28s\tremaining: 1m 43s\n",
      "177:\tlearn: 0.1355325\ttotal: 2m 29s\tremaining: 1m 42s\n",
      "178:\tlearn: 0.1354455\ttotal: 2m 29s\tremaining: 1m 41s\n",
      "179:\tlearn: 0.1353253\ttotal: 2m 30s\tremaining: 1m 40s\n",
      "180:\tlearn: 0.1352429\ttotal: 2m 31s\tremaining: 1m 39s\n",
      "181:\tlearn: 0.1349759\ttotal: 2m 32s\tremaining: 1m 38s\n",
      "182:\tlearn: 0.1349068\ttotal: 2m 33s\tremaining: 1m 38s\n",
      "183:\tlearn: 0.1348125\ttotal: 2m 34s\tremaining: 1m 37s\n",
      "184:\tlearn: 0.1345660\ttotal: 2m 35s\tremaining: 1m 36s\n",
      "185:\tlearn: 0.1343030\ttotal: 2m 35s\tremaining: 1m 35s\n",
      "186:\tlearn: 0.1341772\ttotal: 2m 36s\tremaining: 1m 34s\n",
      "187:\tlearn: 0.1339318\ttotal: 2m 37s\tremaining: 1m 33s\n",
      "188:\tlearn: 0.1338574\ttotal: 2m 38s\tremaining: 1m 33s\n",
      "189:\tlearn: 0.1336669\ttotal: 2m 39s\tremaining: 1m 32s\n",
      "190:\tlearn: 0.1335385\ttotal: 2m 40s\tremaining: 1m 31s\n",
      "191:\tlearn: 0.1333162\ttotal: 2m 40s\tremaining: 1m 30s\n",
      "192:\tlearn: 0.1331549\ttotal: 2m 41s\tremaining: 1m 29s\n",
      "193:\tlearn: 0.1330587\ttotal: 2m 42s\tremaining: 1m 28s\n",
      "194:\tlearn: 0.1329152\ttotal: 2m 43s\tremaining: 1m 27s\n",
      "195:\tlearn: 0.1327357\ttotal: 2m 44s\tremaining: 1m 27s\n",
      "196:\tlearn: 0.1325280\ttotal: 2m 45s\tremaining: 1m 26s\n",
      "197:\tlearn: 0.1324559\ttotal: 2m 45s\tremaining: 1m 25s\n",
      "198:\tlearn: 0.1323023\ttotal: 2m 46s\tremaining: 1m 24s\n",
      "199:\tlearn: 0.1322206\ttotal: 2m 47s\tremaining: 1m 23s\n",
      "200:\tlearn: 0.1321205\ttotal: 2m 48s\tremaining: 1m 22s\n",
      "201:\tlearn: 0.1320491\ttotal: 2m 49s\tremaining: 1m 22s\n",
      "202:\tlearn: 0.1319548\ttotal: 2m 49s\tremaining: 1m 21s\n",
      "203:\tlearn: 0.1318591\ttotal: 2m 50s\tremaining: 1m 20s\n",
      "204:\tlearn: 0.1317902\ttotal: 2m 51s\tremaining: 1m 19s\n",
      "205:\tlearn: 0.1317189\ttotal: 2m 52s\tremaining: 1m 18s\n",
      "206:\tlearn: 0.1316061\ttotal: 2m 53s\tremaining: 1m 17s\n",
      "207:\tlearn: 0.1314250\ttotal: 2m 54s\tremaining: 1m 16s\n",
      "208:\tlearn: 0.1312229\ttotal: 2m 54s\tremaining: 1m 16s\n",
      "209:\tlearn: 0.1311448\ttotal: 2m 55s\tremaining: 1m 15s\n",
      "210:\tlearn: 0.1308734\ttotal: 2m 56s\tremaining: 1m 14s\n",
      "211:\tlearn: 0.1307002\ttotal: 2m 57s\tremaining: 1m 13s\n",
      "212:\tlearn: 0.1304177\ttotal: 2m 58s\tremaining: 1m 12s\n",
      "213:\tlearn: 0.1302191\ttotal: 2m 59s\tremaining: 1m 12s\n",
      "214:\tlearn: 0.1301015\ttotal: 3m\tremaining: 1m 11s\n",
      "215:\tlearn: 0.1300347\ttotal: 3m\tremaining: 1m 10s\n",
      "216:\tlearn: 0.1299554\ttotal: 3m 1s\tremaining: 1m 9s\n",
      "217:\tlearn: 0.1297128\ttotal: 3m 2s\tremaining: 1m 8s\n",
      "218:\tlearn: 0.1296299\ttotal: 3m 3s\tremaining: 1m 7s\n",
      "219:\tlearn: 0.1294009\ttotal: 3m 4s\tremaining: 1m 7s\n",
      "220:\tlearn: 0.1291861\ttotal: 3m 5s\tremaining: 1m 6s\n",
      "221:\tlearn: 0.1290508\ttotal: 3m 6s\tremaining: 1m 5s\n",
      "222:\tlearn: 0.1288242\ttotal: 3m 7s\tremaining: 1m 4s\n",
      "223:\tlearn: 0.1287522\ttotal: 3m 7s\tremaining: 1m 3s\n",
      "224:\tlearn: 0.1285992\ttotal: 3m 8s\tremaining: 1m 2s\n",
      "225:\tlearn: 0.1284345\ttotal: 3m 9s\tremaining: 1m 2s\n",
      "226:\tlearn: 0.1283505\ttotal: 3m 10s\tremaining: 1m 1s\n",
      "227:\tlearn: 0.1282739\ttotal: 3m 11s\tremaining: 1m\n",
      "228:\tlearn: 0.1282040\ttotal: 3m 12s\tremaining: 59.6s\n",
      "229:\tlearn: 0.1281307\ttotal: 3m 12s\tremaining: 58.7s\n",
      "230:\tlearn: 0.1280724\ttotal: 3m 13s\tremaining: 57.9s\n",
      "231:\tlearn: 0.1280095\ttotal: 3m 14s\tremaining: 57s\n",
      "232:\tlearn: 0.1279375\ttotal: 3m 15s\tremaining: 56.2s\n",
      "233:\tlearn: 0.1278141\ttotal: 3m 16s\tremaining: 55.4s\n",
      "234:\tlearn: 0.1277123\ttotal: 3m 17s\tremaining: 54.6s\n",
      "235:\tlearn: 0.1275026\ttotal: 3m 18s\tremaining: 53.7s\n",
      "236:\tlearn: 0.1273853\ttotal: 3m 19s\tremaining: 52.9s\n",
      "237:\tlearn: 0.1273193\ttotal: 3m 19s\tremaining: 52.1s\n",
      "238:\tlearn: 0.1271992\ttotal: 3m 20s\tremaining: 51.2s\n",
      "239:\tlearn: 0.1270527\ttotal: 3m 21s\tremaining: 50.4s\n",
      "240:\tlearn: 0.1269895\ttotal: 3m 22s\tremaining: 49.6s\n",
      "241:\tlearn: 0.1269235\ttotal: 3m 23s\tremaining: 48.7s\n",
      "242:\tlearn: 0.1267367\ttotal: 3m 24s\tremaining: 47.9s\n",
      "243:\tlearn: 0.1265030\ttotal: 3m 25s\tremaining: 47.1s\n",
      "244:\tlearn: 0.1263667\ttotal: 3m 26s\tremaining: 46.3s\n",
      "245:\tlearn: 0.1262970\ttotal: 3m 26s\tremaining: 45.4s\n",
      "246:\tlearn: 0.1262288\ttotal: 3m 27s\tremaining: 44.6s\n",
      "247:\tlearn: 0.1260817\ttotal: 3m 28s\tremaining: 43.8s\n",
      "248:\tlearn: 0.1259449\ttotal: 3m 29s\tremaining: 42.9s\n",
      "249:\tlearn: 0.1258174\ttotal: 3m 30s\tremaining: 42.1s\n",
      "250:\tlearn: 0.1256952\ttotal: 3m 31s\tremaining: 41.2s\n",
      "251:\tlearn: 0.1255635\ttotal: 3m 32s\tremaining: 40.4s\n",
      "252:\tlearn: 0.1254977\ttotal: 3m 32s\tremaining: 39.6s\n",
      "253:\tlearn: 0.1254313\ttotal: 3m 33s\tremaining: 38.7s\n",
      "254:\tlearn: 0.1252146\ttotal: 3m 34s\tremaining: 37.9s\n",
      "255:\tlearn: 0.1251568\ttotal: 3m 35s\tremaining: 37s\n",
      "256:\tlearn: 0.1249989\ttotal: 3m 36s\tremaining: 36.2s\n",
      "257:\tlearn: 0.1249041\ttotal: 3m 37s\tremaining: 35.4s\n",
      "258:\tlearn: 0.1247209\ttotal: 3m 38s\tremaining: 34.5s\n",
      "259:\tlearn: 0.1246558\ttotal: 3m 39s\tremaining: 33.7s\n",
      "260:\tlearn: 0.1245881\ttotal: 3m 39s\tremaining: 32.8s\n",
      "261:\tlearn: 0.1244984\ttotal: 3m 40s\tremaining: 32s\n",
      "262:\tlearn: 0.1244203\ttotal: 3m 41s\tremaining: 31.2s\n",
      "263:\tlearn: 0.1243489\ttotal: 3m 42s\tremaining: 30.3s\n",
      "264:\tlearn: 0.1242896\ttotal: 3m 43s\tremaining: 29.5s\n",
      "265:\tlearn: 0.1241328\ttotal: 3m 44s\tremaining: 28.7s\n",
      "266:\tlearn: 0.1240064\ttotal: 3m 45s\tremaining: 27.8s\n",
      "267:\tlearn: 0.1239424\ttotal: 3m 45s\tremaining: 27s\n",
      "268:\tlearn: 0.1238241\ttotal: 3m 46s\tremaining: 26.1s\n",
      "269:\tlearn: 0.1237659\ttotal: 3m 47s\tremaining: 25.3s\n",
      "270:\tlearn: 0.1236341\ttotal: 3m 48s\tremaining: 24.4s\n",
      "271:\tlearn: 0.1235821\ttotal: 3m 49s\tremaining: 23.6s\n",
      "272:\tlearn: 0.1235225\ttotal: 3m 49s\tremaining: 22.7s\n",
      "273:\tlearn: 0.1234569\ttotal: 3m 50s\tremaining: 21.9s\n",
      "274:\tlearn: 0.1234005\ttotal: 3m 51s\tremaining: 21.1s\n",
      "275:\tlearn: 0.1233406\ttotal: 3m 52s\tremaining: 20.2s\n",
      "276:\tlearn: 0.1232123\ttotal: 3m 53s\tremaining: 19.4s\n",
      "277:\tlearn: 0.1230846\ttotal: 3m 54s\tremaining: 18.5s\n",
      "278:\tlearn: 0.1229714\ttotal: 3m 54s\tremaining: 17.7s\n",
      "279:\tlearn: 0.1229074\ttotal: 3m 55s\tremaining: 16.8s\n",
      "280:\tlearn: 0.1228540\ttotal: 3m 56s\tremaining: 16s\n",
      "281:\tlearn: 0.1227934\ttotal: 3m 57s\tremaining: 15.2s\n",
      "282:\tlearn: 0.1227267\ttotal: 3m 58s\tremaining: 14.3s\n",
      "283:\tlearn: 0.1226719\ttotal: 3m 58s\tremaining: 13.5s\n",
      "284:\tlearn: 0.1226028\ttotal: 3m 59s\tremaining: 12.6s\n",
      "285:\tlearn: 0.1225477\ttotal: 4m\tremaining: 11.8s\n",
      "286:\tlearn: 0.1223811\ttotal: 4m 1s\tremaining: 10.9s\n",
      "287:\tlearn: 0.1221458\ttotal: 4m 2s\tremaining: 10.1s\n",
      "288:\tlearn: 0.1220960\ttotal: 4m 3s\tremaining: 9.26s\n",
      "289:\tlearn: 0.1220436\ttotal: 4m 4s\tremaining: 8.41s\n",
      "290:\tlearn: 0.1219923\ttotal: 4m 4s\tremaining: 7.57s\n",
      "291:\tlearn: 0.1217466\ttotal: 4m 5s\tremaining: 6.73s\n",
      "292:\tlearn: 0.1216635\ttotal: 4m 6s\tremaining: 5.89s\n",
      "293:\tlearn: 0.1216091\ttotal: 4m 7s\tremaining: 5.05s\n",
      "294:\tlearn: 0.1215178\ttotal: 4m 8s\tremaining: 4.21s\n",
      "295:\tlearn: 0.1214741\ttotal: 4m 9s\tremaining: 3.37s\n",
      "296:\tlearn: 0.1214215\ttotal: 4m 9s\tremaining: 2.52s\n",
      "297:\tlearn: 0.1213654\ttotal: 4m 10s\tremaining: 1.68s\n",
      "298:\tlearn: 0.1213132\ttotal: 4m 11s\tremaining: 841ms\n",
      "299:\tlearn: 0.1211185\ttotal: 4m 12s\tremaining: 0us\n",
      "Learning rate set to 0.217781\n",
      "0:\tlearn: 0.5021339\ttotal: 1.09s\tremaining: 5m 25s\n",
      "1:\tlearn: 0.3909685\ttotal: 2.08s\tremaining: 5m 10s\n",
      "2:\tlearn: 0.3298890\ttotal: 3.05s\tremaining: 5m 1s\n",
      "3:\tlearn: 0.2933833\ttotal: 4.02s\tremaining: 4m 57s\n",
      "4:\tlearn: 0.2707610\ttotal: 4.97s\tremaining: 4m 53s\n",
      "5:\tlearn: 0.2552241\ttotal: 5.92s\tremaining: 4m 50s\n",
      "6:\tlearn: 0.2465711\ttotal: 6.79s\tremaining: 4m 44s\n",
      "7:\tlearn: 0.2388534\ttotal: 7.68s\tremaining: 4m 40s\n",
      "8:\tlearn: 0.2336193\ttotal: 8.57s\tremaining: 4m 37s\n",
      "9:\tlearn: 0.2292083\ttotal: 9.59s\tremaining: 4m 37s\n",
      "10:\tlearn: 0.2259281\ttotal: 10.5s\tremaining: 4m 35s\n",
      "11:\tlearn: 0.2232699\ttotal: 11.4s\tremaining: 4m 33s\n",
      "12:\tlearn: 0.2203985\ttotal: 12.3s\tremaining: 4m 31s\n",
      "13:\tlearn: 0.2179414\ttotal: 13.2s\tremaining: 4m 29s\n",
      "14:\tlearn: 0.2155487\ttotal: 14.1s\tremaining: 4m 27s\n",
      "15:\tlearn: 0.2128285\ttotal: 14.9s\tremaining: 4m 25s\n",
      "16:\tlearn: 0.2108951\ttotal: 15.8s\tremaining: 4m 23s\n",
      "17:\tlearn: 0.2081549\ttotal: 16.7s\tremaining: 4m 21s\n",
      "18:\tlearn: 0.2057762\ttotal: 17.6s\tremaining: 4m 20s\n",
      "19:\tlearn: 0.2043787\ttotal: 18.5s\tremaining: 4m 18s\n",
      "20:\tlearn: 0.2026315\ttotal: 19.4s\tremaining: 4m 18s\n",
      "21:\tlearn: 0.2011429\ttotal: 20.3s\tremaining: 4m 16s\n",
      "22:\tlearn: 0.1998983\ttotal: 21.1s\tremaining: 4m 14s\n",
      "23:\tlearn: 0.1987616\ttotal: 22s\tremaining: 4m 13s\n",
      "24:\tlearn: 0.1967373\ttotal: 22.8s\tremaining: 4m 11s\n",
      "25:\tlearn: 0.1952847\ttotal: 23.7s\tremaining: 4m 9s\n",
      "26:\tlearn: 0.1942256\ttotal: 24.6s\tremaining: 4m 8s\n",
      "27:\tlearn: 0.1932859\ttotal: 25.5s\tremaining: 4m 7s\n",
      "28:\tlearn: 0.1920355\ttotal: 26.4s\tremaining: 4m 6s\n",
      "29:\tlearn: 0.1911556\ttotal: 27.2s\tremaining: 4m 4s\n",
      "30:\tlearn: 0.1901382\ttotal: 28s\tremaining: 4m 3s\n",
      "31:\tlearn: 0.1889234\ttotal: 29s\tremaining: 4m 2s\n",
      "32:\tlearn: 0.1879956\ttotal: 29.9s\tremaining: 4m 2s\n",
      "33:\tlearn: 0.1871651\ttotal: 30.8s\tremaining: 4m\n",
      "34:\tlearn: 0.1865595\ttotal: 31.7s\tremaining: 3m 59s\n",
      "35:\tlearn: 0.1857494\ttotal: 32.6s\tremaining: 3m 59s\n",
      "36:\tlearn: 0.1845145\ttotal: 33.6s\tremaining: 3m 58s\n",
      "37:\tlearn: 0.1837216\ttotal: 34.5s\tremaining: 3m 57s\n",
      "38:\tlearn: 0.1829964\ttotal: 35.4s\tremaining: 3m 56s\n",
      "39:\tlearn: 0.1819937\ttotal: 36.2s\tremaining: 3m 55s\n",
      "40:\tlearn: 0.1808696\ttotal: 37.1s\tremaining: 3m 54s\n",
      "41:\tlearn: 0.1803220\ttotal: 37.9s\tremaining: 3m 52s\n",
      "42:\tlearn: 0.1792068\ttotal: 38.8s\tremaining: 3m 52s\n",
      "43:\tlearn: 0.1785954\ttotal: 39.7s\tremaining: 3m 50s\n",
      "44:\tlearn: 0.1777222\ttotal: 40.6s\tremaining: 3m 49s\n",
      "45:\tlearn: 0.1770913\ttotal: 41.4s\tremaining: 3m 48s\n",
      "46:\tlearn: 0.1763858\ttotal: 42.3s\tremaining: 3m 47s\n",
      "47:\tlearn: 0.1756970\ttotal: 43.2s\tremaining: 3m 46s\n",
      "48:\tlearn: 0.1750062\ttotal: 44.1s\tremaining: 3m 45s\n",
      "49:\tlearn: 0.1745300\ttotal: 44.9s\tremaining: 3m 44s\n",
      "50:\tlearn: 0.1740601\ttotal: 45.7s\tremaining: 3m 43s\n",
      "51:\tlearn: 0.1735847\ttotal: 46.6s\tremaining: 3m 42s\n",
      "52:\tlearn: 0.1728774\ttotal: 47.4s\tremaining: 3m 41s\n",
      "53:\tlearn: 0.1721948\ttotal: 48.3s\tremaining: 3m 40s\n",
      "54:\tlearn: 0.1716882\ttotal: 49.2s\tremaining: 3m 39s\n",
      "55:\tlearn: 0.1711362\ttotal: 50.1s\tremaining: 3m 38s\n",
      "56:\tlearn: 0.1705709\ttotal: 51s\tremaining: 3m 37s\n",
      "57:\tlearn: 0.1701374\ttotal: 51.8s\tremaining: 3m 36s\n",
      "58:\tlearn: 0.1696389\ttotal: 52.7s\tremaining: 3m 35s\n",
      "59:\tlearn: 0.1687521\ttotal: 53.5s\tremaining: 3m 34s\n",
      "60:\tlearn: 0.1678542\ttotal: 54.4s\tremaining: 3m 33s\n",
      "61:\tlearn: 0.1674570\ttotal: 55.3s\tremaining: 3m 32s\n",
      "62:\tlearn: 0.1667463\ttotal: 56.1s\tremaining: 3m 31s\n",
      "63:\tlearn: 0.1663538\ttotal: 56.9s\tremaining: 3m 29s\n",
      "64:\tlearn: 0.1659028\ttotal: 57.7s\tremaining: 3m 28s\n",
      "65:\tlearn: 0.1653297\ttotal: 58.6s\tremaining: 3m 27s\n",
      "66:\tlearn: 0.1649215\ttotal: 59.5s\tremaining: 3m 26s\n",
      "67:\tlearn: 0.1643582\ttotal: 1m\tremaining: 3m 25s\n",
      "68:\tlearn: 0.1639813\ttotal: 1m 1s\tremaining: 3m 25s\n",
      "69:\tlearn: 0.1635854\ttotal: 1m 2s\tremaining: 3m 24s\n",
      "70:\tlearn: 0.1630230\ttotal: 1m 2s\tremaining: 3m 23s\n",
      "71:\tlearn: 0.1624412\ttotal: 1m 3s\tremaining: 3m 22s\n",
      "72:\tlearn: 0.1618626\ttotal: 1m 4s\tremaining: 3m 21s\n",
      "73:\tlearn: 0.1614503\ttotal: 1m 5s\tremaining: 3m 20s\n",
      "74:\tlearn: 0.1610410\ttotal: 1m 6s\tremaining: 3m 19s\n",
      "75:\tlearn: 0.1607098\ttotal: 1m 7s\tremaining: 3m 18s\n",
      "76:\tlearn: 0.1603887\ttotal: 1m 8s\tremaining: 3m 17s\n",
      "77:\tlearn: 0.1597760\ttotal: 1m 9s\tremaining: 3m 16s\n",
      "78:\tlearn: 0.1594514\ttotal: 1m 9s\tremaining: 3m 15s\n",
      "79:\tlearn: 0.1590912\ttotal: 1m 10s\tremaining: 3m 14s\n",
      "80:\tlearn: 0.1587827\ttotal: 1m 11s\tremaining: 3m 13s\n",
      "81:\tlearn: 0.1584486\ttotal: 1m 12s\tremaining: 3m 12s\n",
      "82:\tlearn: 0.1580701\ttotal: 1m 13s\tremaining: 3m 11s\n",
      "83:\tlearn: 0.1577774\ttotal: 1m 13s\tremaining: 3m 10s\n",
      "84:\tlearn: 0.1573678\ttotal: 1m 14s\tremaining: 3m 9s\n",
      "85:\tlearn: 0.1569476\ttotal: 1m 15s\tremaining: 3m 8s\n",
      "86:\tlearn: 0.1565764\ttotal: 1m 16s\tremaining: 3m 7s\n",
      "87:\tlearn: 0.1562484\ttotal: 1m 17s\tremaining: 3m 6s\n",
      "88:\tlearn: 0.1559166\ttotal: 1m 18s\tremaining: 3m 5s\n",
      "89:\tlearn: 0.1556244\ttotal: 1m 19s\tremaining: 3m 4s\n",
      "90:\tlearn: 0.1551272\ttotal: 1m 19s\tremaining: 3m 3s\n",
      "91:\tlearn: 0.1547896\ttotal: 1m 20s\tremaining: 3m 2s\n",
      "92:\tlearn: 0.1542892\ttotal: 1m 21s\tremaining: 3m 1s\n",
      "93:\tlearn: 0.1540360\ttotal: 1m 22s\tremaining: 3m\n",
      "94:\tlearn: 0.1537246\ttotal: 1m 23s\tremaining: 2m 59s\n",
      "95:\tlearn: 0.1533824\ttotal: 1m 24s\tremaining: 2m 59s\n",
      "96:\tlearn: 0.1531218\ttotal: 1m 25s\tremaining: 2m 58s\n",
      "97:\tlearn: 0.1528034\ttotal: 1m 26s\tremaining: 2m 57s\n",
      "98:\tlearn: 0.1523682\ttotal: 1m 26s\tremaining: 2m 56s\n",
      "99:\tlearn: 0.1519441\ttotal: 1m 27s\tremaining: 2m 55s\n",
      "100:\tlearn: 0.1517000\ttotal: 1m 28s\tremaining: 2m 54s\n",
      "101:\tlearn: 0.1513322\ttotal: 1m 29s\tremaining: 2m 53s\n",
      "102:\tlearn: 0.1511260\ttotal: 1m 30s\tremaining: 2m 52s\n",
      "103:\tlearn: 0.1508407\ttotal: 1m 31s\tremaining: 2m 52s\n",
      "104:\tlearn: 0.1505911\ttotal: 1m 32s\tremaining: 2m 51s\n",
      "105:\tlearn: 0.1503346\ttotal: 1m 33s\tremaining: 2m 50s\n",
      "106:\tlearn: 0.1499892\ttotal: 1m 33s\tremaining: 2m 49s\n",
      "107:\tlearn: 0.1497805\ttotal: 1m 34s\tremaining: 2m 48s\n",
      "108:\tlearn: 0.1495042\ttotal: 1m 35s\tremaining: 2m 47s\n",
      "109:\tlearn: 0.1491986\ttotal: 1m 36s\tremaining: 2m 46s\n",
      "110:\tlearn: 0.1488850\ttotal: 1m 37s\tremaining: 2m 45s\n",
      "111:\tlearn: 0.1486706\ttotal: 1m 38s\tremaining: 2m 44s\n",
      "112:\tlearn: 0.1482074\ttotal: 1m 39s\tremaining: 2m 43s\n",
      "113:\tlearn: 0.1479219\ttotal: 1m 39s\tremaining: 2m 42s\n",
      "114:\tlearn: 0.1477514\ttotal: 1m 40s\tremaining: 2m 42s\n",
      "115:\tlearn: 0.1475368\ttotal: 1m 41s\tremaining: 2m 41s\n",
      "116:\tlearn: 0.1472622\ttotal: 1m 42s\tremaining: 2m 40s\n",
      "117:\tlearn: 0.1470634\ttotal: 1m 43s\tremaining: 2m 39s\n",
      "118:\tlearn: 0.1467268\ttotal: 1m 44s\tremaining: 2m 38s\n",
      "119:\tlearn: 0.1465099\ttotal: 1m 44s\tremaining: 2m 37s\n",
      "120:\tlearn: 0.1463179\ttotal: 1m 45s\tremaining: 2m 36s\n",
      "121:\tlearn: 0.1458966\ttotal: 1m 46s\tremaining: 2m 35s\n",
      "122:\tlearn: 0.1456455\ttotal: 1m 47s\tremaining: 2m 34s\n",
      "123:\tlearn: 0.1454078\ttotal: 1m 48s\tremaining: 2m 34s\n",
      "124:\tlearn: 0.1452664\ttotal: 1m 49s\tremaining: 2m 33s\n",
      "125:\tlearn: 0.1451239\ttotal: 1m 50s\tremaining: 2m 32s\n",
      "126:\tlearn: 0.1449169\ttotal: 1m 51s\tremaining: 2m 31s\n",
      "127:\tlearn: 0.1447089\ttotal: 1m 51s\tremaining: 2m 30s\n",
      "128:\tlearn: 0.1445334\ttotal: 1m 52s\tremaining: 2m 29s\n",
      "129:\tlearn: 0.1441832\ttotal: 1m 53s\tremaining: 2m 28s\n",
      "130:\tlearn: 0.1439646\ttotal: 1m 54s\tremaining: 2m 27s\n",
      "131:\tlearn: 0.1438259\ttotal: 1m 55s\tremaining: 2m 26s\n",
      "132:\tlearn: 0.1435361\ttotal: 1m 56s\tremaining: 2m 25s\n",
      "133:\tlearn: 0.1431971\ttotal: 1m 57s\tremaining: 2m 24s\n",
      "134:\tlearn: 0.1430041\ttotal: 1m 57s\tremaining: 2m 24s\n",
      "135:\tlearn: 0.1428123\ttotal: 1m 58s\tremaining: 2m 23s\n",
      "136:\tlearn: 0.1425412\ttotal: 1m 59s\tremaining: 2m 22s\n",
      "137:\tlearn: 0.1423556\ttotal: 2m\tremaining: 2m 21s\n",
      "138:\tlearn: 0.1419653\ttotal: 2m 1s\tremaining: 2m 20s\n",
      "139:\tlearn: 0.1417314\ttotal: 2m 2s\tremaining: 2m 19s\n",
      "140:\tlearn: 0.1415892\ttotal: 2m 3s\tremaining: 2m 19s\n",
      "141:\tlearn: 0.1413673\ttotal: 2m 4s\tremaining: 2m 18s\n",
      "142:\tlearn: 0.1411355\ttotal: 2m 5s\tremaining: 2m 17s\n",
      "143:\tlearn: 0.1409945\ttotal: 2m 5s\tremaining: 2m 16s\n",
      "144:\tlearn: 0.1408818\ttotal: 2m 6s\tremaining: 2m 15s\n",
      "145:\tlearn: 0.1405369\ttotal: 2m 7s\tremaining: 2m 14s\n",
      "146:\tlearn: 0.1401996\ttotal: 2m 8s\tremaining: 2m 13s\n",
      "147:\tlearn: 0.1400484\ttotal: 2m 9s\tremaining: 2m 13s\n",
      "148:\tlearn: 0.1399142\ttotal: 2m 10s\tremaining: 2m 12s\n",
      "149:\tlearn: 0.1397943\ttotal: 2m 11s\tremaining: 2m 11s\n",
      "150:\tlearn: 0.1396088\ttotal: 2m 12s\tremaining: 2m 10s\n",
      "151:\tlearn: 0.1394014\ttotal: 2m 13s\tremaining: 2m 9s\n",
      "152:\tlearn: 0.1392872\ttotal: 2m 13s\tremaining: 2m 8s\n",
      "153:\tlearn: 0.1391728\ttotal: 2m 14s\tremaining: 2m 7s\n",
      "154:\tlearn: 0.1390500\ttotal: 2m 15s\tremaining: 2m 6s\n",
      "155:\tlearn: 0.1387911\ttotal: 2m 16s\tremaining: 2m 6s\n",
      "156:\tlearn: 0.1385138\ttotal: 2m 17s\tremaining: 2m 5s\n",
      "157:\tlearn: 0.1382741\ttotal: 2m 18s\tremaining: 2m 4s\n",
      "158:\tlearn: 0.1379828\ttotal: 2m 19s\tremaining: 2m 3s\n",
      "159:\tlearn: 0.1377864\ttotal: 2m 20s\tremaining: 2m 2s\n",
      "160:\tlearn: 0.1376624\ttotal: 2m 21s\tremaining: 2m 1s\n",
      "161:\tlearn: 0.1375176\ttotal: 2m 22s\tremaining: 2m 1s\n",
      "162:\tlearn: 0.1373899\ttotal: 2m 23s\tremaining: 2m\n",
      "163:\tlearn: 0.1372941\ttotal: 2m 23s\tremaining: 1m 59s\n",
      "164:\tlearn: 0.1369739\ttotal: 2m 24s\tremaining: 1m 58s\n",
      "165:\tlearn: 0.1368701\ttotal: 2m 25s\tremaining: 1m 57s\n",
      "166:\tlearn: 0.1367555\ttotal: 2m 26s\tremaining: 1m 56s\n",
      "167:\tlearn: 0.1366367\ttotal: 2m 27s\tremaining: 1m 56s\n",
      "168:\tlearn: 0.1364389\ttotal: 2m 28s\tremaining: 1m 55s\n",
      "169:\tlearn: 0.1363412\ttotal: 2m 29s\tremaining: 1m 54s\n",
      "170:\tlearn: 0.1361955\ttotal: 2m 30s\tremaining: 1m 53s\n",
      "171:\tlearn: 0.1359676\ttotal: 2m 31s\tremaining: 1m 52s\n",
      "172:\tlearn: 0.1358761\ttotal: 2m 32s\tremaining: 1m 51s\n",
      "173:\tlearn: 0.1357218\ttotal: 2m 33s\tremaining: 1m 51s\n",
      "174:\tlearn: 0.1356264\ttotal: 2m 34s\tremaining: 1m 50s\n",
      "175:\tlearn: 0.1354945\ttotal: 2m 35s\tremaining: 1m 49s\n",
      "176:\tlearn: 0.1352929\ttotal: 2m 36s\tremaining: 1m 48s\n",
      "177:\tlearn: 0.1351889\ttotal: 2m 37s\tremaining: 1m 47s\n",
      "178:\tlearn: 0.1350024\ttotal: 2m 38s\tremaining: 1m 46s\n",
      "179:\tlearn: 0.1348487\ttotal: 2m 38s\tremaining: 1m 45s\n",
      "180:\tlearn: 0.1346807\ttotal: 2m 39s\tremaining: 1m 45s\n",
      "181:\tlearn: 0.1344754\ttotal: 2m 40s\tremaining: 1m 44s\n",
      "182:\tlearn: 0.1343470\ttotal: 2m 41s\tremaining: 1m 43s\n",
      "183:\tlearn: 0.1342628\ttotal: 2m 42s\tremaining: 1m 42s\n",
      "184:\tlearn: 0.1341771\ttotal: 2m 43s\tremaining: 1m 41s\n",
      "185:\tlearn: 0.1340909\ttotal: 2m 44s\tremaining: 1m 40s\n",
      "186:\tlearn: 0.1338393\ttotal: 2m 45s\tremaining: 1m 39s\n",
      "187:\tlearn: 0.1337659\ttotal: 2m 46s\tremaining: 1m 39s\n",
      "188:\tlearn: 0.1335029\ttotal: 2m 47s\tremaining: 1m 38s\n",
      "189:\tlearn: 0.1334314\ttotal: 2m 48s\tremaining: 1m 37s\n",
      "190:\tlearn: 0.1330813\ttotal: 2m 49s\tremaining: 1m 36s\n",
      "191:\tlearn: 0.1329278\ttotal: 2m 50s\tremaining: 1m 35s\n",
      "192:\tlearn: 0.1328092\ttotal: 2m 51s\tremaining: 1m 34s\n",
      "193:\tlearn: 0.1327179\ttotal: 2m 52s\tremaining: 1m 34s\n",
      "194:\tlearn: 0.1325627\ttotal: 2m 52s\tremaining: 1m 33s\n",
      "195:\tlearn: 0.1324898\ttotal: 2m 53s\tremaining: 1m 32s\n",
      "196:\tlearn: 0.1324020\ttotal: 2m 54s\tremaining: 1m 31s\n",
      "197:\tlearn: 0.1323139\ttotal: 2m 55s\tremaining: 1m 30s\n",
      "198:\tlearn: 0.1321453\ttotal: 2m 56s\tremaining: 1m 29s\n",
      "199:\tlearn: 0.1319433\ttotal: 2m 57s\tremaining: 1m 28s\n",
      "200:\tlearn: 0.1318615\ttotal: 2m 58s\tremaining: 1m 27s\n",
      "201:\tlearn: 0.1317088\ttotal: 2m 59s\tremaining: 1m 27s\n",
      "202:\tlearn: 0.1316370\ttotal: 3m\tremaining: 1m 26s\n",
      "203:\tlearn: 0.1315491\ttotal: 3m 1s\tremaining: 1m 25s\n",
      "204:\tlearn: 0.1312714\ttotal: 3m 2s\tremaining: 1m 24s\n",
      "205:\tlearn: 0.1311956\ttotal: 3m 3s\tremaining: 1m 23s\n",
      "206:\tlearn: 0.1311272\ttotal: 3m 4s\tremaining: 1m 22s\n",
      "207:\tlearn: 0.1309613\ttotal: 3m 4s\tremaining: 1m 21s\n",
      "208:\tlearn: 0.1308849\ttotal: 3m 5s\tremaining: 1m 20s\n",
      "209:\tlearn: 0.1307139\ttotal: 3m 6s\tremaining: 1m 20s\n",
      "210:\tlearn: 0.1306040\ttotal: 3m 7s\tremaining: 1m 19s\n",
      "211:\tlearn: 0.1304793\ttotal: 3m 8s\tremaining: 1m 18s\n",
      "212:\tlearn: 0.1303926\ttotal: 3m 9s\tremaining: 1m 17s\n",
      "213:\tlearn: 0.1303288\ttotal: 3m 10s\tremaining: 1m 16s\n",
      "214:\tlearn: 0.1301889\ttotal: 3m 11s\tremaining: 1m 15s\n",
      "215:\tlearn: 0.1300859\ttotal: 3m 12s\tremaining: 1m 14s\n",
      "216:\tlearn: 0.1299847\ttotal: 3m 13s\tremaining: 1m 13s\n",
      "217:\tlearn: 0.1298198\ttotal: 3m 14s\tremaining: 1m 13s\n",
      "218:\tlearn: 0.1296305\ttotal: 3m 15s\tremaining: 1m 12s\n",
      "219:\tlearn: 0.1295014\ttotal: 3m 15s\tremaining: 1m 11s\n",
      "220:\tlearn: 0.1293601\ttotal: 3m 16s\tremaining: 1m 10s\n",
      "221:\tlearn: 0.1292746\ttotal: 3m 17s\tremaining: 1m 9s\n",
      "222:\tlearn: 0.1292012\ttotal: 3m 18s\tremaining: 1m 8s\n",
      "223:\tlearn: 0.1290803\ttotal: 3m 19s\tremaining: 1m 7s\n",
      "224:\tlearn: 0.1288815\ttotal: 3m 20s\tremaining: 1m 6s\n",
      "225:\tlearn: 0.1286472\ttotal: 3m 21s\tremaining: 1m 5s\n",
      "226:\tlearn: 0.1285763\ttotal: 3m 22s\tremaining: 1m 5s\n",
      "227:\tlearn: 0.1284759\ttotal: 3m 23s\tremaining: 1m 4s\n",
      "228:\tlearn: 0.1283180\ttotal: 3m 24s\tremaining: 1m 3s\n",
      "229:\tlearn: 0.1280727\ttotal: 3m 25s\tremaining: 1m 2s\n",
      "230:\tlearn: 0.1280151\ttotal: 3m 26s\tremaining: 1m 1s\n",
      "231:\tlearn: 0.1278535\ttotal: 3m 27s\tremaining: 1m\n",
      "232:\tlearn: 0.1277629\ttotal: 3m 28s\tremaining: 59.9s\n",
      "233:\tlearn: 0.1276244\ttotal: 3m 29s\tremaining: 59s\n",
      "234:\tlearn: 0.1275419\ttotal: 3m 30s\tremaining: 58.1s\n",
      "235:\tlearn: 0.1274095\ttotal: 3m 31s\tremaining: 57.2s\n",
      "236:\tlearn: 0.1273384\ttotal: 3m 31s\tremaining: 56.3s\n",
      "237:\tlearn: 0.1270985\ttotal: 3m 32s\tremaining: 55.5s\n",
      "238:\tlearn: 0.1269397\ttotal: 3m 33s\tremaining: 54.6s\n",
      "239:\tlearn: 0.1267585\ttotal: 3m 34s\tremaining: 53.7s\n",
      "240:\tlearn: 0.1266913\ttotal: 3m 35s\tremaining: 52.8s\n",
      "241:\tlearn: 0.1266334\ttotal: 3m 36s\tremaining: 51.9s\n",
      "242:\tlearn: 0.1264352\ttotal: 3m 37s\tremaining: 51s\n",
      "243:\tlearn: 0.1263660\ttotal: 3m 38s\tremaining: 50.1s\n",
      "244:\tlearn: 0.1262125\ttotal: 3m 39s\tremaining: 49.2s\n",
      "245:\tlearn: 0.1260481\ttotal: 3m 40s\tremaining: 48.4s\n",
      "246:\tlearn: 0.1259220\ttotal: 3m 41s\tremaining: 47.5s\n",
      "247:\tlearn: 0.1258567\ttotal: 3m 42s\tremaining: 46.6s\n",
      "248:\tlearn: 0.1257474\ttotal: 3m 43s\tremaining: 45.7s\n",
      "249:\tlearn: 0.1256247\ttotal: 3m 44s\tremaining: 44.8s\n",
      "250:\tlearn: 0.1254375\ttotal: 3m 45s\tremaining: 43.9s\n",
      "251:\tlearn: 0.1253585\ttotal: 3m 46s\tremaining: 43s\n",
      "252:\tlearn: 0.1252428\ttotal: 3m 46s\tremaining: 42.2s\n",
      "253:\tlearn: 0.1250958\ttotal: 3m 47s\tremaining: 41.3s\n",
      "254:\tlearn: 0.1249705\ttotal: 3m 48s\tremaining: 40.4s\n",
      "255:\tlearn: 0.1248612\ttotal: 3m 49s\tremaining: 39.5s\n",
      "256:\tlearn: 0.1247965\ttotal: 3m 50s\tremaining: 38.6s\n",
      "257:\tlearn: 0.1247374\ttotal: 3m 51s\tremaining: 37.7s\n",
      "258:\tlearn: 0.1246411\ttotal: 3m 52s\tremaining: 36.8s\n",
      "259:\tlearn: 0.1245593\ttotal: 3m 53s\tremaining: 35.9s\n",
      "260:\tlearn: 0.1244962\ttotal: 3m 54s\tremaining: 35s\n",
      "261:\tlearn: 0.1244439\ttotal: 3m 55s\tremaining: 34.1s\n",
      "262:\tlearn: 0.1243849\ttotal: 3m 56s\tremaining: 33.2s\n",
      "263:\tlearn: 0.1243191\ttotal: 3m 57s\tremaining: 32.3s\n",
      "264:\tlearn: 0.1241534\ttotal: 3m 57s\tremaining: 31.4s\n",
      "265:\tlearn: 0.1240702\ttotal: 3m 58s\tremaining: 30.5s\n",
      "266:\tlearn: 0.1239636\ttotal: 3m 59s\tremaining: 29.6s\n",
      "267:\tlearn: 0.1238781\ttotal: 4m\tremaining: 28.7s\n",
      "268:\tlearn: 0.1238238\ttotal: 4m 1s\tremaining: 27.8s\n",
      "269:\tlearn: 0.1237147\ttotal: 4m 2s\tremaining: 27s\n",
      "270:\tlearn: 0.1236497\ttotal: 4m 3s\tremaining: 26.1s\n",
      "271:\tlearn: 0.1235844\ttotal: 4m 4s\tremaining: 25.2s\n",
      "272:\tlearn: 0.1234036\ttotal: 4m 5s\tremaining: 24.3s\n",
      "273:\tlearn: 0.1233430\ttotal: 4m 6s\tremaining: 23.4s\n",
      "274:\tlearn: 0.1232779\ttotal: 4m 7s\tremaining: 22.5s\n",
      "275:\tlearn: 0.1232153\ttotal: 4m 8s\tremaining: 21.6s\n",
      "276:\tlearn: 0.1231470\ttotal: 4m 9s\tremaining: 20.7s\n",
      "277:\tlearn: 0.1229628\ttotal: 4m 9s\tremaining: 19.8s\n",
      "278:\tlearn: 0.1227507\ttotal: 4m 10s\tremaining: 18.9s\n",
      "279:\tlearn: 0.1226961\ttotal: 4m 11s\tremaining: 18s\n",
      "280:\tlearn: 0.1226151\ttotal: 4m 12s\tremaining: 17.1s\n",
      "281:\tlearn: 0.1225523\ttotal: 4m 13s\tremaining: 16.2s\n",
      "282:\tlearn: 0.1224904\ttotal: 4m 14s\tremaining: 15.3s\n",
      "283:\tlearn: 0.1224218\ttotal: 4m 15s\tremaining: 14.4s\n",
      "284:\tlearn: 0.1223606\ttotal: 4m 16s\tremaining: 13.5s\n",
      "285:\tlearn: 0.1223053\ttotal: 4m 17s\tremaining: 12.6s\n",
      "286:\tlearn: 0.1220605\ttotal: 4m 18s\tremaining: 11.7s\n",
      "287:\tlearn: 0.1218854\ttotal: 4m 19s\tremaining: 10.8s\n",
      "288:\tlearn: 0.1218219\ttotal: 4m 19s\tremaining: 9.89s\n",
      "289:\tlearn: 0.1216815\ttotal: 4m 20s\tremaining: 9s\n",
      "290:\tlearn: 0.1216192\ttotal: 4m 21s\tremaining: 8.1s\n",
      "291:\tlearn: 0.1215664\ttotal: 4m 22s\tremaining: 7.2s\n",
      "292:\tlearn: 0.1213638\ttotal: 4m 23s\tremaining: 6.3s\n",
      "293:\tlearn: 0.1212994\ttotal: 4m 24s\tremaining: 5.4s\n",
      "294:\tlearn: 0.1211660\ttotal: 4m 25s\tremaining: 4.5s\n",
      "295:\tlearn: 0.1211020\ttotal: 4m 26s\tremaining: 3.6s\n",
      "296:\tlearn: 0.1210304\ttotal: 4m 27s\tremaining: 2.7s\n",
      "297:\tlearn: 0.1209764\ttotal: 4m 28s\tremaining: 1.8s\n",
      "298:\tlearn: 0.1209175\ttotal: 4m 28s\tremaining: 900ms\n",
      "299:\tlearn: 0.1208424\ttotal: 4m 29s\tremaining: 0us\n",
      "Learning rate set to 0.217781\n",
      "0:\tlearn: 0.5059257\ttotal: 1.1s\tremaining: 5m 30s\n",
      "1:\tlearn: 0.3916721\ttotal: 2.14s\tremaining: 5m 18s\n",
      "2:\tlearn: 0.3289313\ttotal: 3.09s\tremaining: 5m 6s\n",
      "3:\tlearn: 0.2930119\ttotal: 4.05s\tremaining: 5m\n",
      "4:\tlearn: 0.2706538\ttotal: 5.09s\tremaining: 5m\n",
      "5:\tlearn: 0.2574477\ttotal: 6.08s\tremaining: 4m 57s\n",
      "6:\tlearn: 0.2470898\ttotal: 7.08s\tremaining: 4m 56s\n",
      "7:\tlearn: 0.2400592\ttotal: 8.05s\tremaining: 4m 53s\n",
      "8:\tlearn: 0.2329589\ttotal: 9.04s\tremaining: 4m 52s\n",
      "9:\tlearn: 0.2291412\ttotal: 9.99s\tremaining: 4m 49s\n",
      "10:\tlearn: 0.2253849\ttotal: 10.9s\tremaining: 4m 46s\n",
      "11:\tlearn: 0.2219867\ttotal: 11.9s\tremaining: 4m 44s\n",
      "12:\tlearn: 0.2194804\ttotal: 12.8s\tremaining: 4m 43s\n",
      "13:\tlearn: 0.2167860\ttotal: 13.8s\tremaining: 4m 41s\n",
      "14:\tlearn: 0.2146685\ttotal: 14.8s\tremaining: 4m 40s\n",
      "15:\tlearn: 0.2127660\ttotal: 15.7s\tremaining: 4m 38s\n",
      "16:\tlearn: 0.2090942\ttotal: 16.7s\tremaining: 4m 38s\n",
      "17:\tlearn: 0.2071599\ttotal: 17.6s\tremaining: 4m 36s\n",
      "18:\tlearn: 0.2056002\ttotal: 18.5s\tremaining: 4m 33s\n",
      "19:\tlearn: 0.2038475\ttotal: 19.5s\tremaining: 4m 32s\n",
      "20:\tlearn: 0.2023626\ttotal: 20.4s\tremaining: 4m 30s\n",
      "21:\tlearn: 0.2004426\ttotal: 21.3s\tremaining: 4m 29s\n",
      "22:\tlearn: 0.1985818\ttotal: 22.4s\tremaining: 4m 29s\n",
      "23:\tlearn: 0.1973528\ttotal: 23.3s\tremaining: 4m 27s\n",
      "24:\tlearn: 0.1963285\ttotal: 24.2s\tremaining: 4m 26s\n",
      "25:\tlearn: 0.1951548\ttotal: 25.2s\tremaining: 4m 25s\n",
      "26:\tlearn: 0.1937491\ttotal: 26.2s\tremaining: 4m 24s\n",
      "27:\tlearn: 0.1925979\ttotal: 27.2s\tremaining: 4m 23s\n",
      "28:\tlearn: 0.1913283\ttotal: 28.2s\tremaining: 4m 23s\n",
      "29:\tlearn: 0.1905094\ttotal: 29.3s\tremaining: 4m 23s\n",
      "30:\tlearn: 0.1893577\ttotal: 30.2s\tremaining: 4m 22s\n",
      "31:\tlearn: 0.1884662\ttotal: 31.2s\tremaining: 4m 20s\n",
      "32:\tlearn: 0.1875962\ttotal: 32.1s\tremaining: 4m 19s\n",
      "33:\tlearn: 0.1859813\ttotal: 33s\tremaining: 4m 18s\n",
      "34:\tlearn: 0.1852564\ttotal: 34s\tremaining: 4m 17s\n",
      "35:\tlearn: 0.1844152\ttotal: 34.9s\tremaining: 4m 16s\n",
      "36:\tlearn: 0.1833101\ttotal: 36s\tremaining: 4m 15s\n",
      "37:\tlearn: 0.1825508\ttotal: 36.9s\tremaining: 4m 14s\n",
      "38:\tlearn: 0.1818278\ttotal: 37.8s\tremaining: 4m 13s\n",
      "39:\tlearn: 0.1811213\ttotal: 38.8s\tremaining: 4m 12s\n",
      "40:\tlearn: 0.1800769\ttotal: 39.7s\tremaining: 4m 10s\n",
      "41:\tlearn: 0.1791368\ttotal: 40.6s\tremaining: 4m 9s\n",
      "42:\tlearn: 0.1785163\ttotal: 41.6s\tremaining: 4m 8s\n",
      "43:\tlearn: 0.1777507\ttotal: 42.5s\tremaining: 4m 7s\n",
      "44:\tlearn: 0.1771407\ttotal: 43.5s\tremaining: 4m 6s\n",
      "45:\tlearn: 0.1765891\ttotal: 44.4s\tremaining: 4m 5s\n",
      "46:\tlearn: 0.1755587\ttotal: 45.5s\tremaining: 4m 4s\n",
      "47:\tlearn: 0.1748635\ttotal: 46.5s\tremaining: 4m 3s\n",
      "48:\tlearn: 0.1742768\ttotal: 47.4s\tremaining: 4m 2s\n",
      "49:\tlearn: 0.1737144\ttotal: 48.3s\tremaining: 4m 1s\n",
      "50:\tlearn: 0.1732650\ttotal: 49.3s\tremaining: 4m\n",
      "51:\tlearn: 0.1726981\ttotal: 50.2s\tremaining: 3m 59s\n",
      "52:\tlearn: 0.1720666\ttotal: 51.2s\tremaining: 3m 58s\n",
      "53:\tlearn: 0.1712460\ttotal: 52.3s\tremaining: 3m 58s\n",
      "54:\tlearn: 0.1705087\ttotal: 53.2s\tremaining: 3m 57s\n",
      "55:\tlearn: 0.1700262\ttotal: 54.1s\tremaining: 3m 55s\n",
      "56:\tlearn: 0.1695151\ttotal: 55s\tremaining: 3m 54s\n",
      "57:\tlearn: 0.1690519\ttotal: 56s\tremaining: 3m 53s\n",
      "58:\tlearn: 0.1685932\ttotal: 56.9s\tremaining: 3m 52s\n",
      "59:\tlearn: 0.1682314\ttotal: 57.8s\tremaining: 3m 51s\n",
      "60:\tlearn: 0.1676637\ttotal: 58.6s\tremaining: 3m 49s\n",
      "61:\tlearn: 0.1671834\ttotal: 59.5s\tremaining: 3m 48s\n",
      "62:\tlearn: 0.1664724\ttotal: 1m\tremaining: 3m 47s\n",
      "63:\tlearn: 0.1656056\ttotal: 1m 1s\tremaining: 3m 46s\n",
      "64:\tlearn: 0.1649266\ttotal: 1m 2s\tremaining: 3m 45s\n",
      "65:\tlearn: 0.1644852\ttotal: 1m 3s\tremaining: 3m 44s\n",
      "66:\tlearn: 0.1641302\ttotal: 1m 4s\tremaining: 3m 42s\n",
      "67:\tlearn: 0.1637098\ttotal: 1m 4s\tremaining: 3m 41s\n",
      "68:\tlearn: 0.1632486\ttotal: 1m 5s\tremaining: 3m 40s\n",
      "69:\tlearn: 0.1624880\ttotal: 1m 6s\tremaining: 3m 39s\n",
      "70:\tlearn: 0.1621834\ttotal: 1m 7s\tremaining: 3m 38s\n",
      "71:\tlearn: 0.1618041\ttotal: 1m 8s\tremaining: 3m 36s\n",
      "72:\tlearn: 0.1613191\ttotal: 1m 9s\tremaining: 3m 35s\n",
      "73:\tlearn: 0.1605902\ttotal: 1m 10s\tremaining: 3m 34s\n",
      "74:\tlearn: 0.1602230\ttotal: 1m 11s\tremaining: 3m 33s\n",
      "75:\tlearn: 0.1597616\ttotal: 1m 12s\tremaining: 3m 32s\n",
      "76:\tlearn: 0.1593570\ttotal: 1m 12s\tremaining: 3m 31s\n",
      "77:\tlearn: 0.1590282\ttotal: 1m 13s\tremaining: 3m 30s\n",
      "78:\tlearn: 0.1586063\ttotal: 1m 14s\tremaining: 3m 29s\n",
      "79:\tlearn: 0.1582241\ttotal: 1m 15s\tremaining: 3m 28s\n",
      "80:\tlearn: 0.1576812\ttotal: 1m 16s\tremaining: 3m 27s\n",
      "81:\tlearn: 0.1572409\ttotal: 1m 17s\tremaining: 3m 26s\n",
      "82:\tlearn: 0.1567456\ttotal: 1m 18s\tremaining: 3m 25s\n",
      "83:\tlearn: 0.1564543\ttotal: 1m 19s\tremaining: 3m 24s\n",
      "84:\tlearn: 0.1561192\ttotal: 1m 20s\tremaining: 3m 23s\n",
      "85:\tlearn: 0.1558042\ttotal: 1m 21s\tremaining: 3m 22s\n",
      "86:\tlearn: 0.1554529\ttotal: 1m 22s\tremaining: 3m 21s\n",
      "87:\tlearn: 0.1551946\ttotal: 1m 23s\tremaining: 3m 20s\n",
      "88:\tlearn: 0.1545981\ttotal: 1m 24s\tremaining: 3m 19s\n",
      "89:\tlearn: 0.1542392\ttotal: 1m 25s\tremaining: 3m 18s\n",
      "90:\tlearn: 0.1539078\ttotal: 1m 26s\tremaining: 3m 17s\n",
      "91:\tlearn: 0.1535811\ttotal: 1m 26s\tremaining: 3m 16s\n",
      "92:\tlearn: 0.1531773\ttotal: 1m 28s\tremaining: 3m 16s\n",
      "93:\tlearn: 0.1529000\ttotal: 1m 29s\tremaining: 3m 15s\n",
      "94:\tlearn: 0.1526085\ttotal: 1m 29s\tremaining: 3m 14s\n",
      "95:\tlearn: 0.1520879\ttotal: 1m 30s\tremaining: 3m 13s\n",
      "96:\tlearn: 0.1518256\ttotal: 1m 31s\tremaining: 3m 12s\n",
      "97:\tlearn: 0.1515850\ttotal: 1m 32s\tremaining: 3m 11s\n",
      "98:\tlearn: 0.1513319\ttotal: 1m 33s\tremaining: 3m 10s\n",
      "99:\tlearn: 0.1510839\ttotal: 1m 34s\tremaining: 3m 9s\n",
      "100:\tlearn: 0.1507563\ttotal: 1m 35s\tremaining: 3m 8s\n",
      "101:\tlearn: 0.1503475\ttotal: 1m 36s\tremaining: 3m 7s\n",
      "102:\tlearn: 0.1498794\ttotal: 1m 37s\tremaining: 3m 7s\n",
      "103:\tlearn: 0.1496071\ttotal: 1m 38s\tremaining: 3m 6s\n",
      "104:\tlearn: 0.1493395\ttotal: 1m 39s\tremaining: 3m 5s\n",
      "105:\tlearn: 0.1490323\ttotal: 1m 40s\tremaining: 3m 3s\n",
      "106:\tlearn: 0.1486972\ttotal: 1m 41s\tremaining: 3m 2s\n",
      "107:\tlearn: 0.1483632\ttotal: 1m 42s\tremaining: 3m 2s\n",
      "108:\tlearn: 0.1481346\ttotal: 1m 43s\tremaining: 3m\n",
      "109:\tlearn: 0.1478905\ttotal: 1m 44s\tremaining: 2m 59s\n",
      "110:\tlearn: 0.1476613\ttotal: 1m 45s\tremaining: 2m 58s\n",
      "111:\tlearn: 0.1474270\ttotal: 1m 46s\tremaining: 2m 58s\n",
      "112:\tlearn: 0.1471767\ttotal: 1m 46s\tremaining: 2m 57s\n",
      "113:\tlearn: 0.1468889\ttotal: 1m 47s\tremaining: 2m 55s\n",
      "114:\tlearn: 0.1466161\ttotal: 1m 48s\tremaining: 2m 55s\n",
      "115:\tlearn: 0.1463808\ttotal: 1m 49s\tremaining: 2m 54s\n",
      "116:\tlearn: 0.1461627\ttotal: 1m 50s\tremaining: 2m 52s\n",
      "117:\tlearn: 0.1460227\ttotal: 1m 51s\tremaining: 2m 51s\n",
      "118:\tlearn: 0.1458044\ttotal: 1m 52s\tremaining: 2m 50s\n",
      "119:\tlearn: 0.1454719\ttotal: 1m 53s\tremaining: 2m 49s\n",
      "120:\tlearn: 0.1453144\ttotal: 1m 53s\tremaining: 2m 48s\n",
      "121:\tlearn: 0.1451380\ttotal: 1m 54s\tremaining: 2m 47s\n",
      "122:\tlearn: 0.1449315\ttotal: 1m 55s\tremaining: 2m 46s\n",
      "123:\tlearn: 0.1446529\ttotal: 1m 56s\tremaining: 2m 45s\n",
      "124:\tlearn: 0.1442365\ttotal: 1m 57s\tremaining: 2m 44s\n",
      "125:\tlearn: 0.1438402\ttotal: 1m 58s\tremaining: 2m 43s\n",
      "126:\tlearn: 0.1436572\ttotal: 1m 59s\tremaining: 2m 42s\n",
      "127:\tlearn: 0.1434071\ttotal: 2m\tremaining: 2m 41s\n",
      "128:\tlearn: 0.1431528\ttotal: 2m 1s\tremaining: 2m 40s\n",
      "129:\tlearn: 0.1427472\ttotal: 2m 2s\tremaining: 2m 39s\n",
      "130:\tlearn: 0.1424619\ttotal: 2m 3s\tremaining: 2m 38s\n",
      "131:\tlearn: 0.1423283\ttotal: 2m 4s\tremaining: 2m 37s\n",
      "132:\tlearn: 0.1421266\ttotal: 2m 4s\tremaining: 2m 36s\n",
      "133:\tlearn: 0.1419267\ttotal: 2m 5s\tremaining: 2m 35s\n",
      "134:\tlearn: 0.1417848\ttotal: 2m 6s\tremaining: 2m 34s\n",
      "135:\tlearn: 0.1416493\ttotal: 2m 7s\tremaining: 2m 33s\n",
      "136:\tlearn: 0.1414539\ttotal: 2m 8s\tremaining: 2m 32s\n",
      "137:\tlearn: 0.1412707\ttotal: 2m 9s\tremaining: 2m 31s\n",
      "138:\tlearn: 0.1411393\ttotal: 2m 10s\tremaining: 2m 30s\n",
      "139:\tlearn: 0.1408399\ttotal: 2m 11s\tremaining: 2m 29s\n",
      "140:\tlearn: 0.1407219\ttotal: 2m 12s\tremaining: 2m 28s\n",
      "141:\tlearn: 0.1404902\ttotal: 2m 12s\tremaining: 2m 27s\n",
      "142:\tlearn: 0.1402662\ttotal: 2m 13s\tremaining: 2m 26s\n",
      "143:\tlearn: 0.1400656\ttotal: 2m 14s\tremaining: 2m 25s\n",
      "144:\tlearn: 0.1399540\ttotal: 2m 15s\tremaining: 2m 24s\n",
      "145:\tlearn: 0.1397347\ttotal: 2m 16s\tremaining: 2m 23s\n",
      "146:\tlearn: 0.1393955\ttotal: 2m 17s\tremaining: 2m 22s\n",
      "147:\tlearn: 0.1391413\ttotal: 2m 18s\tremaining: 2m 22s\n",
      "148:\tlearn: 0.1388529\ttotal: 2m 19s\tremaining: 2m 21s\n",
      "149:\tlearn: 0.1387166\ttotal: 2m 20s\tremaining: 2m 20s\n",
      "150:\tlearn: 0.1385738\ttotal: 2m 20s\tremaining: 2m 19s\n",
      "151:\tlearn: 0.1382712\ttotal: 2m 21s\tremaining: 2m 18s\n",
      "152:\tlearn: 0.1380906\ttotal: 2m 22s\tremaining: 2m 17s\n",
      "153:\tlearn: 0.1379483\ttotal: 2m 23s\tremaining: 2m 16s\n",
      "154:\tlearn: 0.1376614\ttotal: 2m 24s\tremaining: 2m 15s\n",
      "155:\tlearn: 0.1375051\ttotal: 2m 25s\tremaining: 2m 14s\n",
      "156:\tlearn: 0.1373956\ttotal: 2m 26s\tremaining: 2m 13s\n",
      "157:\tlearn: 0.1371872\ttotal: 2m 27s\tremaining: 2m 12s\n",
      "158:\tlearn: 0.1370706\ttotal: 2m 28s\tremaining: 2m 11s\n",
      "159:\tlearn: 0.1369348\ttotal: 2m 29s\tremaining: 2m 10s\n",
      "160:\tlearn: 0.1367641\ttotal: 2m 30s\tremaining: 2m 9s\n",
      "161:\tlearn: 0.1365633\ttotal: 2m 31s\tremaining: 2m 8s\n",
      "162:\tlearn: 0.1364350\ttotal: 2m 31s\tremaining: 2m 7s\n",
      "163:\tlearn: 0.1363116\ttotal: 2m 32s\tremaining: 2m 6s\n",
      "164:\tlearn: 0.1361483\ttotal: 2m 33s\tremaining: 2m 5s\n",
      "165:\tlearn: 0.1360153\ttotal: 2m 34s\tremaining: 2m 4s\n",
      "166:\tlearn: 0.1358743\ttotal: 2m 35s\tremaining: 2m 3s\n",
      "167:\tlearn: 0.1357561\ttotal: 2m 36s\tremaining: 2m 2s\n",
      "168:\tlearn: 0.1356518\ttotal: 2m 36s\tremaining: 2m 1s\n",
      "169:\tlearn: 0.1355575\ttotal: 2m 37s\tremaining: 2m\n",
      "170:\tlearn: 0.1354632\ttotal: 2m 38s\tremaining: 1m 59s\n",
      "171:\tlearn: 0.1353737\ttotal: 2m 39s\tremaining: 1m 58s\n",
      "172:\tlearn: 0.1352089\ttotal: 2m 40s\tremaining: 1m 57s\n",
      "173:\tlearn: 0.1351097\ttotal: 2m 41s\tremaining: 1m 56s\n",
      "174:\tlearn: 0.1350292\ttotal: 2m 42s\tremaining: 1m 55s\n",
      "175:\tlearn: 0.1349342\ttotal: 2m 42s\tremaining: 1m 54s\n",
      "176:\tlearn: 0.1348370\ttotal: 2m 43s\tremaining: 1m 53s\n",
      "177:\tlearn: 0.1346595\ttotal: 2m 44s\tremaining: 1m 52s\n",
      "178:\tlearn: 0.1345732\ttotal: 2m 45s\tremaining: 1m 51s\n",
      "179:\tlearn: 0.1344712\ttotal: 2m 46s\tremaining: 1m 50s\n",
      "180:\tlearn: 0.1343878\ttotal: 2m 47s\tremaining: 1m 49s\n",
      "181:\tlearn: 0.1342681\ttotal: 2m 48s\tremaining: 1m 49s\n",
      "182:\tlearn: 0.1341076\ttotal: 2m 48s\tremaining: 1m 48s\n",
      "183:\tlearn: 0.1339602\ttotal: 2m 49s\tremaining: 1m 47s\n",
      "184:\tlearn: 0.1338057\ttotal: 2m 50s\tremaining: 1m 46s\n",
      "185:\tlearn: 0.1336429\ttotal: 2m 51s\tremaining: 1m 45s\n",
      "186:\tlearn: 0.1335357\ttotal: 2m 52s\tremaining: 1m 44s\n",
      "187:\tlearn: 0.1334671\ttotal: 2m 53s\tremaining: 1m 43s\n",
      "188:\tlearn: 0.1332102\ttotal: 2m 54s\tremaining: 1m 42s\n",
      "189:\tlearn: 0.1329432\ttotal: 2m 55s\tremaining: 1m 41s\n",
      "190:\tlearn: 0.1327830\ttotal: 2m 55s\tremaining: 1m 40s\n",
      "191:\tlearn: 0.1325469\ttotal: 2m 56s\tremaining: 1m 39s\n",
      "192:\tlearn: 0.1324637\ttotal: 2m 57s\tremaining: 1m 38s\n",
      "193:\tlearn: 0.1322688\ttotal: 2m 58s\tremaining: 1m 37s\n",
      "194:\tlearn: 0.1319096\ttotal: 2m 59s\tremaining: 1m 36s\n",
      "195:\tlearn: 0.1316491\ttotal: 3m\tremaining: 1m 35s\n",
      "196:\tlearn: 0.1314668\ttotal: 3m 1s\tremaining: 1m 34s\n",
      "197:\tlearn: 0.1313763\ttotal: 3m 2s\tremaining: 1m 33s\n",
      "198:\tlearn: 0.1312853\ttotal: 3m 3s\tremaining: 1m 32s\n",
      "199:\tlearn: 0.1310529\ttotal: 3m 4s\tremaining: 1m 32s\n",
      "200:\tlearn: 0.1309599\ttotal: 3m 4s\tremaining: 1m 31s\n",
      "201:\tlearn: 0.1308775\ttotal: 3m 5s\tremaining: 1m 30s\n",
      "202:\tlearn: 0.1307284\ttotal: 3m 6s\tremaining: 1m 29s\n",
      "203:\tlearn: 0.1305415\ttotal: 3m 7s\tremaining: 1m 28s\n",
      "204:\tlearn: 0.1303581\ttotal: 3m 8s\tremaining: 1m 27s\n",
      "205:\tlearn: 0.1302798\ttotal: 3m 9s\tremaining: 1m 26s\n",
      "206:\tlearn: 0.1300533\ttotal: 3m 10s\tremaining: 1m 25s\n",
      "207:\tlearn: 0.1298808\ttotal: 3m 11s\tremaining: 1m 24s\n",
      "208:\tlearn: 0.1298032\ttotal: 3m 12s\tremaining: 1m 23s\n",
      "209:\tlearn: 0.1297025\ttotal: 3m 13s\tremaining: 1m 22s\n",
      "210:\tlearn: 0.1295708\ttotal: 3m 13s\tremaining: 1m 21s\n",
      "211:\tlearn: 0.1294911\ttotal: 3m 14s\tremaining: 1m 20s\n",
      "212:\tlearn: 0.1294178\ttotal: 3m 15s\tremaining: 1m 19s\n",
      "213:\tlearn: 0.1293461\ttotal: 3m 16s\tremaining: 1m 19s\n",
      "214:\tlearn: 0.1292399\ttotal: 3m 17s\tremaining: 1m 18s\n",
      "215:\tlearn: 0.1291625\ttotal: 3m 18s\tremaining: 1m 17s\n",
      "216:\tlearn: 0.1290181\ttotal: 3m 19s\tremaining: 1m 16s\n",
      "217:\tlearn: 0.1289374\ttotal: 3m 20s\tremaining: 1m 15s\n",
      "218:\tlearn: 0.1288322\ttotal: 3m 20s\tremaining: 1m 14s\n",
      "219:\tlearn: 0.1286350\ttotal: 3m 21s\tremaining: 1m 13s\n",
      "220:\tlearn: 0.1285474\ttotal: 3m 22s\tremaining: 1m 12s\n",
      "221:\tlearn: 0.1284879\ttotal: 3m 23s\tremaining: 1m 11s\n",
      "222:\tlearn: 0.1284058\ttotal: 3m 24s\tremaining: 1m 10s\n",
      "223:\tlearn: 0.1283462\ttotal: 3m 25s\tremaining: 1m 9s\n",
      "224:\tlearn: 0.1282887\ttotal: 3m 26s\tremaining: 1m 8s\n",
      "225:\tlearn: 0.1281141\ttotal: 3m 27s\tremaining: 1m 7s\n",
      "226:\tlearn: 0.1279665\ttotal: 3m 28s\tremaining: 1m 7s\n",
      "227:\tlearn: 0.1278949\ttotal: 3m 29s\tremaining: 1m 6s\n",
      "228:\tlearn: 0.1277333\ttotal: 3m 30s\tremaining: 1m 5s\n",
      "229:\tlearn: 0.1276488\ttotal: 3m 31s\tremaining: 1m 4s\n",
      "230:\tlearn: 0.1274900\ttotal: 3m 32s\tremaining: 1m 3s\n",
      "231:\tlearn: 0.1272944\ttotal: 3m 33s\tremaining: 1m 2s\n",
      "232:\tlearn: 0.1270833\ttotal: 3m 34s\tremaining: 1m 1s\n",
      "233:\tlearn: 0.1269154\ttotal: 3m 35s\tremaining: 1m\n",
      "234:\tlearn: 0.1268499\ttotal: 3m 35s\tremaining: 59.7s\n",
      "235:\tlearn: 0.1267858\ttotal: 3m 36s\tremaining: 58.8s\n",
      "236:\tlearn: 0.1267202\ttotal: 3m 37s\tremaining: 57.9s\n",
      "237:\tlearn: 0.1265970\ttotal: 3m 38s\tremaining: 57s\n",
      "238:\tlearn: 0.1264939\ttotal: 3m 39s\tremaining: 56.1s\n",
      "239:\tlearn: 0.1262600\ttotal: 3m 40s\tremaining: 55.2s\n",
      "240:\tlearn: 0.1261319\ttotal: 3m 41s\tremaining: 54.3s\n",
      "241:\tlearn: 0.1260404\ttotal: 3m 42s\tremaining: 53.4s\n",
      "242:\tlearn: 0.1258827\ttotal: 3m 43s\tremaining: 52.4s\n",
      "243:\tlearn: 0.1257869\ttotal: 3m 44s\tremaining: 51.5s\n",
      "244:\tlearn: 0.1256850\ttotal: 3m 45s\tremaining: 50.6s\n",
      "245:\tlearn: 0.1254933\ttotal: 3m 46s\tremaining: 49.7s\n",
      "246:\tlearn: 0.1254051\ttotal: 3m 47s\tremaining: 48.7s\n",
      "247:\tlearn: 0.1253465\ttotal: 3m 47s\tremaining: 47.8s\n",
      "248:\tlearn: 0.1252535\ttotal: 3m 48s\tremaining: 46.8s\n",
      "249:\tlearn: 0.1251890\ttotal: 3m 49s\tremaining: 45.9s\n",
      "250:\tlearn: 0.1251319\ttotal: 3m 50s\tremaining: 45s\n",
      "251:\tlearn: 0.1250659\ttotal: 3m 51s\tremaining: 44s\n",
      "252:\tlearn: 0.1249972\ttotal: 3m 52s\tremaining: 43.1s\n",
      "253:\tlearn: 0.1248380\ttotal: 3m 52s\tremaining: 42.2s\n",
      "254:\tlearn: 0.1247843\ttotal: 3m 53s\tremaining: 41.3s\n",
      "255:\tlearn: 0.1247239\ttotal: 3m 54s\tremaining: 40.3s\n",
      "256:\tlearn: 0.1245101\ttotal: 3m 55s\tremaining: 39.4s\n",
      "257:\tlearn: 0.1243212\ttotal: 3m 56s\tremaining: 38.5s\n",
      "258:\tlearn: 0.1242646\ttotal: 3m 57s\tremaining: 37.5s\n",
      "259:\tlearn: 0.1242042\ttotal: 3m 58s\tremaining: 36.6s\n",
      "260:\tlearn: 0.1240701\ttotal: 3m 58s\tremaining: 35.7s\n",
      "261:\tlearn: 0.1239658\ttotal: 3m 59s\tremaining: 34.8s\n",
      "262:\tlearn: 0.1239067\ttotal: 4m\tremaining: 33.8s\n",
      "263:\tlearn: 0.1238337\ttotal: 4m 1s\tremaining: 32.9s\n",
      "264:\tlearn: 0.1237591\ttotal: 4m 2s\tremaining: 32s\n",
      "265:\tlearn: 0.1236915\ttotal: 4m 2s\tremaining: 31.1s\n",
      "266:\tlearn: 0.1235179\ttotal: 4m 3s\tremaining: 30.1s\n",
      "267:\tlearn: 0.1234550\ttotal: 4m 4s\tremaining: 29.2s\n",
      "268:\tlearn: 0.1233925\ttotal: 4m 5s\tremaining: 28.3s\n",
      "269:\tlearn: 0.1233233\ttotal: 4m 6s\tremaining: 27.4s\n",
      "270:\tlearn: 0.1232656\ttotal: 4m 7s\tremaining: 26.4s\n",
      "271:\tlearn: 0.1231971\ttotal: 4m 8s\tremaining: 25.5s\n",
      "272:\tlearn: 0.1230490\ttotal: 4m 8s\tremaining: 24.6s\n",
      "273:\tlearn: 0.1229508\ttotal: 4m 9s\tremaining: 23.7s\n",
      "274:\tlearn: 0.1228902\ttotal: 4m 10s\tremaining: 22.8s\n",
      "275:\tlearn: 0.1228241\ttotal: 4m 11s\tremaining: 21.8s\n",
      "276:\tlearn: 0.1226653\ttotal: 4m 12s\tremaining: 20.9s\n",
      "277:\tlearn: 0.1225171\ttotal: 4m 12s\tremaining: 20s\n",
      "278:\tlearn: 0.1223230\ttotal: 4m 13s\tremaining: 19.1s\n",
      "279:\tlearn: 0.1222028\ttotal: 4m 14s\tremaining: 18.2s\n",
      "280:\tlearn: 0.1220905\ttotal: 4m 15s\tremaining: 17.3s\n",
      "281:\tlearn: 0.1220282\ttotal: 4m 16s\tremaining: 16.3s\n",
      "282:\tlearn: 0.1219747\ttotal: 4m 16s\tremaining: 15.4s\n",
      "283:\tlearn: 0.1218712\ttotal: 4m 17s\tremaining: 14.5s\n",
      "284:\tlearn: 0.1218112\ttotal: 4m 18s\tremaining: 13.6s\n",
      "285:\tlearn: 0.1216638\ttotal: 4m 19s\tremaining: 12.7s\n",
      "286:\tlearn: 0.1215804\ttotal: 4m 20s\tremaining: 11.8s\n",
      "287:\tlearn: 0.1215323\ttotal: 4m 20s\tremaining: 10.9s\n",
      "288:\tlearn: 0.1214769\ttotal: 4m 21s\tremaining: 9.96s\n",
      "289:\tlearn: 0.1213692\ttotal: 4m 22s\tremaining: 9.05s\n",
      "290:\tlearn: 0.1212895\ttotal: 4m 23s\tremaining: 8.14s\n",
      "291:\tlearn: 0.1211372\ttotal: 4m 24s\tremaining: 7.24s\n",
      "292:\tlearn: 0.1210838\ttotal: 4m 24s\tremaining: 6.33s\n",
      "293:\tlearn: 0.1209265\ttotal: 4m 25s\tremaining: 5.42s\n",
      "294:\tlearn: 0.1208733\ttotal: 4m 26s\tremaining: 4.52s\n",
      "295:\tlearn: 0.1208139\ttotal: 4m 27s\tremaining: 3.62s\n",
      "296:\tlearn: 0.1207548\ttotal: 4m 28s\tremaining: 2.71s\n",
      "297:\tlearn: 0.1207054\ttotal: 4m 29s\tremaining: 1.81s\n",
      "298:\tlearn: 0.1206389\ttotal: 4m 29s\tremaining: 903ms\n",
      "299:\tlearn: 0.1205890\ttotal: 4m 30s\tremaining: 0us\n",
      "Learning rate set to 0.217782\n",
      "0:\tlearn: 0.4982611\ttotal: 1.06s\tremaining: 5m 16s\n",
      "1:\tlearn: 0.3917788\ttotal: 2s\tremaining: 4m 58s\n",
      "2:\tlearn: 0.3315391\ttotal: 2.94s\tremaining: 4m 50s\n",
      "3:\tlearn: 0.2945315\ttotal: 3.83s\tremaining: 4m 43s\n",
      "4:\tlearn: 0.2713302\ttotal: 4.72s\tremaining: 4m 38s\n",
      "5:\tlearn: 0.2566551\ttotal: 5.66s\tremaining: 4m 37s\n",
      "6:\tlearn: 0.2464539\ttotal: 6.61s\tremaining: 4m 36s\n",
      "7:\tlearn: 0.2378854\ttotal: 7.57s\tremaining: 4m 36s\n",
      "8:\tlearn: 0.2325718\ttotal: 8.46s\tremaining: 4m 33s\n",
      "9:\tlearn: 0.2285809\ttotal: 9.38s\tremaining: 4m 31s\n",
      "10:\tlearn: 0.2250226\ttotal: 10.3s\tremaining: 4m 31s\n",
      "11:\tlearn: 0.2222251\ttotal: 11.3s\tremaining: 4m 30s\n",
      "12:\tlearn: 0.2194083\ttotal: 12.2s\tremaining: 4m 28s\n",
      "13:\tlearn: 0.2154018\ttotal: 13.1s\tremaining: 4m 28s\n",
      "14:\tlearn: 0.2132506\ttotal: 14s\tremaining: 4m 26s\n",
      "15:\tlearn: 0.2113138\ttotal: 14.9s\tremaining: 4m 25s\n",
      "16:\tlearn: 0.2094576\ttotal: 15.9s\tremaining: 4m 23s\n",
      "17:\tlearn: 0.2071373\ttotal: 16.9s\tremaining: 4m 24s\n",
      "18:\tlearn: 0.2056453\ttotal: 17.7s\tremaining: 4m 22s\n",
      "19:\tlearn: 0.2042532\ttotal: 18.6s\tremaining: 4m 20s\n",
      "20:\tlearn: 0.2023896\ttotal: 19.5s\tremaining: 4m 19s\n",
      "21:\tlearn: 0.2009607\ttotal: 20.4s\tremaining: 4m 18s\n",
      "22:\tlearn: 0.1990223\ttotal: 21.4s\tremaining: 4m 17s\n",
      "23:\tlearn: 0.1978098\ttotal: 22.3s\tremaining: 4m 16s\n",
      "24:\tlearn: 0.1962352\ttotal: 23.2s\tremaining: 4m 15s\n",
      "25:\tlearn: 0.1950036\ttotal: 24.1s\tremaining: 4m 13s\n",
      "26:\tlearn: 0.1938975\ttotal: 25s\tremaining: 4m 12s\n",
      "27:\tlearn: 0.1929738\ttotal: 25.8s\tremaining: 4m 10s\n",
      "28:\tlearn: 0.1915752\ttotal: 26.8s\tremaining: 4m 10s\n",
      "29:\tlearn: 0.1908252\ttotal: 27.7s\tremaining: 4m 8s\n",
      "30:\tlearn: 0.1896890\ttotal: 28.5s\tremaining: 4m 7s\n",
      "31:\tlearn: 0.1886998\ttotal: 29.4s\tremaining: 4m 6s\n",
      "32:\tlearn: 0.1879828\ttotal: 30.3s\tremaining: 4m 5s\n",
      "33:\tlearn: 0.1867696\ttotal: 31.3s\tremaining: 4m 4s\n",
      "34:\tlearn: 0.1858011\ttotal: 32.2s\tremaining: 4m 3s\n",
      "35:\tlearn: 0.1849600\ttotal: 33.1s\tremaining: 4m 2s\n",
      "36:\tlearn: 0.1843477\ttotal: 34s\tremaining: 4m 1s\n",
      "37:\tlearn: 0.1836287\ttotal: 34.9s\tremaining: 4m\n",
      "38:\tlearn: 0.1829626\ttotal: 35.8s\tremaining: 3m 59s\n",
      "39:\tlearn: 0.1821086\ttotal: 36.7s\tremaining: 3m 58s\n",
      "40:\tlearn: 0.1809821\ttotal: 37.6s\tremaining: 3m 57s\n",
      "41:\tlearn: 0.1802963\ttotal: 38.5s\tremaining: 3m 56s\n",
      "42:\tlearn: 0.1798221\ttotal: 39.4s\tremaining: 3m 55s\n",
      "43:\tlearn: 0.1786444\ttotal: 40.4s\tremaining: 3m 54s\n",
      "44:\tlearn: 0.1779957\ttotal: 41.3s\tremaining: 3m 53s\n",
      "45:\tlearn: 0.1773898\ttotal: 42.2s\tremaining: 3m 52s\n",
      "46:\tlearn: 0.1764637\ttotal: 43.1s\tremaining: 3m 51s\n",
      "47:\tlearn: 0.1758115\ttotal: 44s\tremaining: 3m 51s\n",
      "48:\tlearn: 0.1752702\ttotal: 44.9s\tremaining: 3m 49s\n",
      "49:\tlearn: 0.1747812\ttotal: 45.8s\tremaining: 3m 48s\n",
      "50:\tlearn: 0.1741993\ttotal: 46.7s\tremaining: 3m 47s\n",
      "51:\tlearn: 0.1735699\ttotal: 47.6s\tremaining: 3m 47s\n",
      "52:\tlearn: 0.1728158\ttotal: 48.5s\tremaining: 3m 45s\n",
      "53:\tlearn: 0.1721741\ttotal: 49.3s\tremaining: 3m 44s\n",
      "54:\tlearn: 0.1712293\ttotal: 50.2s\tremaining: 3m 43s\n",
      "55:\tlearn: 0.1704294\ttotal: 51s\tremaining: 3m 42s\n",
      "56:\tlearn: 0.1699995\ttotal: 51.9s\tremaining: 3m 41s\n",
      "57:\tlearn: 0.1695407\ttotal: 52.8s\tremaining: 3m 40s\n",
      "58:\tlearn: 0.1690939\ttotal: 53.7s\tremaining: 3m 39s\n",
      "59:\tlearn: 0.1686366\ttotal: 54.5s\tremaining: 3m 38s\n",
      "60:\tlearn: 0.1681670\ttotal: 55.4s\tremaining: 3m 36s\n",
      "61:\tlearn: 0.1675033\ttotal: 56.3s\tremaining: 3m 36s\n",
      "62:\tlearn: 0.1667438\ttotal: 57.2s\tremaining: 3m 35s\n",
      "63:\tlearn: 0.1662482\ttotal: 58s\tremaining: 3m 33s\n",
      "64:\tlearn: 0.1657645\ttotal: 58.9s\tremaining: 3m 32s\n",
      "65:\tlearn: 0.1653791\ttotal: 59.8s\tremaining: 3m 31s\n",
      "66:\tlearn: 0.1648267\ttotal: 1m\tremaining: 3m 30s\n",
      "67:\tlearn: 0.1644175\ttotal: 1m 1s\tremaining: 3m 29s\n",
      "68:\tlearn: 0.1639684\ttotal: 1m 2s\tremaining: 3m 28s\n",
      "69:\tlearn: 0.1635451\ttotal: 1m 3s\tremaining: 3m 28s\n",
      "70:\tlearn: 0.1631847\ttotal: 1m 4s\tremaining: 3m 27s\n",
      "71:\tlearn: 0.1625953\ttotal: 1m 5s\tremaining: 3m 26s\n",
      "72:\tlearn: 0.1620370\ttotal: 1m 6s\tremaining: 3m 25s\n",
      "73:\tlearn: 0.1616599\ttotal: 1m 7s\tremaining: 3m 25s\n",
      "74:\tlearn: 0.1613602\ttotal: 1m 8s\tremaining: 3m 24s\n",
      "75:\tlearn: 0.1611050\ttotal: 1m 8s\tremaining: 3m 22s\n",
      "76:\tlearn: 0.1607912\ttotal: 1m 9s\tremaining: 3m 21s\n",
      "77:\tlearn: 0.1602679\ttotal: 1m 10s\tremaining: 3m 20s\n",
      "78:\tlearn: 0.1598487\ttotal: 1m 11s\tremaining: 3m 20s\n",
      "79:\tlearn: 0.1595560\ttotal: 1m 12s\tremaining: 3m 19s\n",
      "80:\tlearn: 0.1589979\ttotal: 1m 13s\tremaining: 3m 18s\n",
      "81:\tlearn: 0.1586829\ttotal: 1m 14s\tremaining: 3m 17s\n",
      "82:\tlearn: 0.1583616\ttotal: 1m 15s\tremaining: 3m 16s\n",
      "83:\tlearn: 0.1579402\ttotal: 1m 15s\tremaining: 3m 15s\n",
      "84:\tlearn: 0.1576524\ttotal: 1m 16s\tremaining: 3m 14s\n",
      "85:\tlearn: 0.1573475\ttotal: 1m 17s\tremaining: 3m 13s\n",
      "86:\tlearn: 0.1569796\ttotal: 1m 18s\tremaining: 3m 11s\n",
      "87:\tlearn: 0.1566451\ttotal: 1m 19s\tremaining: 3m 10s\n",
      "88:\tlearn: 0.1562650\ttotal: 1m 20s\tremaining: 3m 9s\n",
      "89:\tlearn: 0.1559564\ttotal: 1m 20s\tremaining: 3m 8s\n",
      "90:\tlearn: 0.1556408\ttotal: 1m 21s\tremaining: 3m 7s\n",
      "91:\tlearn: 0.1553759\ttotal: 1m 22s\tremaining: 3m 6s\n",
      "92:\tlearn: 0.1548587\ttotal: 1m 23s\tremaining: 3m 5s\n",
      "93:\tlearn: 0.1546199\ttotal: 1m 24s\tremaining: 3m 4s\n",
      "94:\tlearn: 0.1542420\ttotal: 1m 24s\tremaining: 3m 3s\n",
      "95:\tlearn: 0.1539562\ttotal: 1m 25s\tremaining: 3m 2s\n",
      "96:\tlearn: 0.1537417\ttotal: 1m 26s\tremaining: 3m 1s\n",
      "97:\tlearn: 0.1532512\ttotal: 1m 27s\tremaining: 3m\n",
      "98:\tlearn: 0.1530095\ttotal: 1m 28s\tremaining: 2m 59s\n",
      "99:\tlearn: 0.1527088\ttotal: 1m 29s\tremaining: 2m 58s\n",
      "100:\tlearn: 0.1524369\ttotal: 1m 29s\tremaining: 2m 56s\n",
      "101:\tlearn: 0.1518911\ttotal: 1m 30s\tremaining: 2m 55s\n",
      "102:\tlearn: 0.1516944\ttotal: 1m 31s\tremaining: 2m 54s\n",
      "103:\tlearn: 0.1513779\ttotal: 1m 32s\tremaining: 2m 54s\n",
      "104:\tlearn: 0.1510913\ttotal: 1m 33s\tremaining: 2m 53s\n",
      "105:\tlearn: 0.1508119\ttotal: 1m 34s\tremaining: 2m 52s\n",
      "106:\tlearn: 0.1505108\ttotal: 1m 35s\tremaining: 2m 51s\n",
      "107:\tlearn: 0.1503228\ttotal: 1m 35s\tremaining: 2m 50s\n",
      "108:\tlearn: 0.1501165\ttotal: 1m 36s\tremaining: 2m 49s\n",
      "109:\tlearn: 0.1497595\ttotal: 1m 37s\tremaining: 2m 48s\n",
      "110:\tlearn: 0.1494910\ttotal: 1m 38s\tremaining: 2m 47s\n",
      "111:\tlearn: 0.1492078\ttotal: 1m 39s\tremaining: 2m 46s\n",
      "112:\tlearn: 0.1486231\ttotal: 1m 40s\tremaining: 2m 45s\n",
      "113:\tlearn: 0.1484085\ttotal: 1m 41s\tremaining: 2m 45s\n",
      "114:\tlearn: 0.1482076\ttotal: 1m 41s\tremaining: 2m 44s\n",
      "115:\tlearn: 0.1479010\ttotal: 1m 42s\tremaining: 2m 43s\n",
      "116:\tlearn: 0.1475667\ttotal: 1m 43s\tremaining: 2m 42s\n",
      "117:\tlearn: 0.1473674\ttotal: 1m 44s\tremaining: 2m 41s\n",
      "118:\tlearn: 0.1471898\ttotal: 1m 45s\tremaining: 2m 40s\n",
      "119:\tlearn: 0.1468849\ttotal: 1m 46s\tremaining: 2m 39s\n",
      "120:\tlearn: 0.1467287\ttotal: 1m 47s\tremaining: 2m 38s\n",
      "121:\tlearn: 0.1465766\ttotal: 1m 47s\tremaining: 2m 37s\n",
      "122:\tlearn: 0.1463261\ttotal: 1m 48s\tremaining: 2m 36s\n",
      "123:\tlearn: 0.1461186\ttotal: 1m 49s\tremaining: 2m 35s\n",
      "124:\tlearn: 0.1458254\ttotal: 1m 50s\tremaining: 2m 34s\n",
      "125:\tlearn: 0.1455480\ttotal: 1m 51s\tremaining: 2m 33s\n",
      "126:\tlearn: 0.1452802\ttotal: 1m 51s\tremaining: 2m 32s\n",
      "127:\tlearn: 0.1450549\ttotal: 1m 52s\tremaining: 2m 31s\n",
      "128:\tlearn: 0.1448268\ttotal: 1m 53s\tremaining: 2m 30s\n",
      "129:\tlearn: 0.1446249\ttotal: 1m 54s\tremaining: 2m 29s\n",
      "130:\tlearn: 0.1443431\ttotal: 1m 55s\tremaining: 2m 28s\n",
      "131:\tlearn: 0.1441938\ttotal: 1m 56s\tremaining: 2m 27s\n",
      "132:\tlearn: 0.1439043\ttotal: 1m 56s\tremaining: 2m 26s\n",
      "133:\tlearn: 0.1437530\ttotal: 1m 57s\tremaining: 2m 25s\n",
      "134:\tlearn: 0.1435149\ttotal: 1m 58s\tremaining: 2m 25s\n",
      "135:\tlearn: 0.1432713\ttotal: 1m 59s\tremaining: 2m 24s\n",
      "136:\tlearn: 0.1430244\ttotal: 2m\tremaining: 2m 23s\n",
      "137:\tlearn: 0.1428362\ttotal: 2m 1s\tremaining: 2m 22s\n",
      "138:\tlearn: 0.1426435\ttotal: 2m 2s\tremaining: 2m 22s\n",
      "139:\tlearn: 0.1424068\ttotal: 2m 3s\tremaining: 2m 21s\n",
      "140:\tlearn: 0.1422292\ttotal: 2m 4s\tremaining: 2m 20s\n",
      "141:\tlearn: 0.1421153\ttotal: 2m 5s\tremaining: 2m 19s\n",
      "142:\tlearn: 0.1419486\ttotal: 2m 6s\tremaining: 2m 18s\n",
      "143:\tlearn: 0.1418037\ttotal: 2m 6s\tremaining: 2m 17s\n",
      "144:\tlearn: 0.1416283\ttotal: 2m 7s\tremaining: 2m 16s\n",
      "145:\tlearn: 0.1414271\ttotal: 2m 8s\tremaining: 2m 15s\n",
      "146:\tlearn: 0.1412637\ttotal: 2m 9s\tremaining: 2m 14s\n",
      "147:\tlearn: 0.1411302\ttotal: 2m 10s\tremaining: 2m 13s\n",
      "148:\tlearn: 0.1408520\ttotal: 2m 11s\tremaining: 2m 13s\n",
      "149:\tlearn: 0.1406431\ttotal: 2m 12s\tremaining: 2m 12s\n",
      "150:\tlearn: 0.1405106\ttotal: 2m 12s\tremaining: 2m 11s\n",
      "151:\tlearn: 0.1401494\ttotal: 2m 13s\tremaining: 2m 10s\n",
      "152:\tlearn: 0.1400023\ttotal: 2m 14s\tremaining: 2m 9s\n",
      "153:\tlearn: 0.1398406\ttotal: 2m 15s\tremaining: 2m 8s\n",
      "154:\tlearn: 0.1396394\ttotal: 2m 16s\tremaining: 2m 7s\n",
      "155:\tlearn: 0.1394091\ttotal: 2m 17s\tremaining: 2m 6s\n",
      "156:\tlearn: 0.1391948\ttotal: 2m 17s\tremaining: 2m 5s\n",
      "157:\tlearn: 0.1390586\ttotal: 2m 18s\tremaining: 2m 4s\n",
      "158:\tlearn: 0.1389598\ttotal: 2m 19s\tremaining: 2m 3s\n",
      "159:\tlearn: 0.1388148\ttotal: 2m 20s\tremaining: 2m 2s\n",
      "160:\tlearn: 0.1386601\ttotal: 2m 21s\tremaining: 2m 1s\n",
      "161:\tlearn: 0.1385549\ttotal: 2m 21s\tremaining: 2m\n",
      "162:\tlearn: 0.1382705\ttotal: 2m 22s\tremaining: 1m 59s\n",
      "163:\tlearn: 0.1380746\ttotal: 2m 23s\tremaining: 1m 59s\n",
      "164:\tlearn: 0.1378695\ttotal: 2m 24s\tremaining: 1m 58s\n",
      "165:\tlearn: 0.1377453\ttotal: 2m 25s\tremaining: 1m 57s\n",
      "166:\tlearn: 0.1376325\ttotal: 2m 26s\tremaining: 1m 56s\n",
      "167:\tlearn: 0.1375303\ttotal: 2m 26s\tremaining: 1m 55s\n",
      "168:\tlearn: 0.1374430\ttotal: 2m 27s\tremaining: 1m 54s\n",
      "169:\tlearn: 0.1372463\ttotal: 2m 28s\tremaining: 1m 53s\n",
      "170:\tlearn: 0.1371593\ttotal: 2m 29s\tremaining: 1m 52s\n",
      "171:\tlearn: 0.1369559\ttotal: 2m 30s\tremaining: 1m 51s\n",
      "172:\tlearn: 0.1368663\ttotal: 2m 30s\tremaining: 1m 50s\n",
      "173:\tlearn: 0.1367196\ttotal: 2m 31s\tremaining: 1m 49s\n",
      "174:\tlearn: 0.1365884\ttotal: 2m 32s\tremaining: 1m 49s\n",
      "175:\tlearn: 0.1364758\ttotal: 2m 33s\tremaining: 1m 48s\n",
      "176:\tlearn: 0.1363168\ttotal: 2m 34s\tremaining: 1m 47s\n",
      "177:\tlearn: 0.1361959\ttotal: 2m 34s\tremaining: 1m 46s\n",
      "178:\tlearn: 0.1360953\ttotal: 2m 35s\tremaining: 1m 45s\n",
      "179:\tlearn: 0.1360086\ttotal: 2m 36s\tremaining: 1m 44s\n",
      "180:\tlearn: 0.1356864\ttotal: 2m 37s\tremaining: 1m 43s\n",
      "181:\tlearn: 0.1355623\ttotal: 2m 38s\tremaining: 1m 42s\n",
      "182:\tlearn: 0.1354784\ttotal: 2m 38s\tremaining: 1m 41s\n",
      "183:\tlearn: 0.1353619\ttotal: 2m 39s\tremaining: 1m 40s\n",
      "184:\tlearn: 0.1351775\ttotal: 2m 40s\tremaining: 1m 39s\n",
      "185:\tlearn: 0.1350936\ttotal: 2m 41s\tremaining: 1m 38s\n",
      "186:\tlearn: 0.1349637\ttotal: 2m 42s\tremaining: 1m 38s\n",
      "187:\tlearn: 0.1348736\ttotal: 2m 43s\tremaining: 1m 37s\n",
      "188:\tlearn: 0.1347595\ttotal: 2m 43s\tremaining: 1m 36s\n",
      "189:\tlearn: 0.1345936\ttotal: 2m 44s\tremaining: 1m 35s\n",
      "190:\tlearn: 0.1343063\ttotal: 2m 45s\tremaining: 1m 34s\n",
      "191:\tlearn: 0.1341840\ttotal: 2m 46s\tremaining: 1m 33s\n",
      "192:\tlearn: 0.1339747\ttotal: 2m 47s\tremaining: 1m 32s\n",
      "193:\tlearn: 0.1337492\ttotal: 2m 47s\tremaining: 1m 31s\n",
      "194:\tlearn: 0.1336750\ttotal: 2m 48s\tremaining: 1m 30s\n",
      "195:\tlearn: 0.1335160\ttotal: 2m 49s\tremaining: 1m 29s\n",
      "196:\tlearn: 0.1333942\ttotal: 2m 50s\tremaining: 1m 29s\n",
      "197:\tlearn: 0.1332216\ttotal: 2m 51s\tremaining: 1m 28s\n",
      "198:\tlearn: 0.1330741\ttotal: 2m 51s\tremaining: 1m 27s\n",
      "199:\tlearn: 0.1328459\ttotal: 2m 52s\tremaining: 1m 26s\n",
      "200:\tlearn: 0.1327591\ttotal: 2m 53s\tremaining: 1m 25s\n",
      "201:\tlearn: 0.1326732\ttotal: 2m 54s\tremaining: 1m 24s\n",
      "202:\tlearn: 0.1325304\ttotal: 2m 55s\tremaining: 1m 23s\n",
      "203:\tlearn: 0.1323282\ttotal: 2m 56s\tremaining: 1m 22s\n",
      "204:\tlearn: 0.1321615\ttotal: 2m 56s\tremaining: 1m 21s\n",
      "205:\tlearn: 0.1320760\ttotal: 2m 57s\tremaining: 1m 21s\n",
      "206:\tlearn: 0.1319325\ttotal: 2m 58s\tremaining: 1m 20s\n",
      "207:\tlearn: 0.1318574\ttotal: 2m 59s\tremaining: 1m 19s\n",
      "208:\tlearn: 0.1316719\ttotal: 3m\tremaining: 1m 18s\n",
      "209:\tlearn: 0.1315733\ttotal: 3m 1s\tremaining: 1m 17s\n",
      "210:\tlearn: 0.1313464\ttotal: 3m 2s\tremaining: 1m 16s\n",
      "211:\tlearn: 0.1312685\ttotal: 3m 2s\tremaining: 1m 15s\n",
      "212:\tlearn: 0.1310689\ttotal: 3m 3s\tremaining: 1m 15s\n",
      "213:\tlearn: 0.1309986\ttotal: 3m 4s\tremaining: 1m 14s\n",
      "214:\tlearn: 0.1309152\ttotal: 3m 5s\tremaining: 1m 13s\n",
      "215:\tlearn: 0.1307766\ttotal: 3m 6s\tremaining: 1m 12s\n",
      "216:\tlearn: 0.1306607\ttotal: 3m 7s\tremaining: 1m 11s\n",
      "217:\tlearn: 0.1304253\ttotal: 3m 8s\tremaining: 1m 10s\n",
      "218:\tlearn: 0.1303554\ttotal: 3m 8s\tremaining: 1m 9s\n",
      "219:\tlearn: 0.1302405\ttotal: 3m 9s\tremaining: 1m 9s\n",
      "220:\tlearn: 0.1299653\ttotal: 3m 10s\tremaining: 1m 8s\n",
      "221:\tlearn: 0.1298661\ttotal: 3m 11s\tremaining: 1m 7s\n",
      "222:\tlearn: 0.1297836\ttotal: 3m 12s\tremaining: 1m 6s\n",
      "223:\tlearn: 0.1296746\ttotal: 3m 13s\tremaining: 1m 5s\n",
      "224:\tlearn: 0.1295509\ttotal: 3m 14s\tremaining: 1m 4s\n",
      "225:\tlearn: 0.1293841\ttotal: 3m 15s\tremaining: 1m 3s\n",
      "226:\tlearn: 0.1292341\ttotal: 3m 16s\tremaining: 1m 3s\n",
      "227:\tlearn: 0.1291678\ttotal: 3m 16s\tremaining: 1m 2s\n",
      "228:\tlearn: 0.1290944\ttotal: 3m 17s\tremaining: 1m 1s\n",
      "229:\tlearn: 0.1288840\ttotal: 3m 18s\tremaining: 1m\n",
      "230:\tlearn: 0.1286551\ttotal: 3m 19s\tremaining: 59.6s\n",
      "231:\tlearn: 0.1285509\ttotal: 3m 20s\tremaining: 58.7s\n",
      "232:\tlearn: 0.1284811\ttotal: 3m 21s\tremaining: 57.9s\n",
      "233:\tlearn: 0.1283268\ttotal: 3m 22s\tremaining: 57s\n",
      "234:\tlearn: 0.1282540\ttotal: 3m 22s\tremaining: 56.1s\n",
      "235:\tlearn: 0.1281893\ttotal: 3m 23s\tremaining: 55.2s\n",
      "236:\tlearn: 0.1280990\ttotal: 3m 24s\tremaining: 54.4s\n",
      "237:\tlearn: 0.1280176\ttotal: 3m 25s\tremaining: 53.5s\n",
      "238:\tlearn: 0.1278446\ttotal: 3m 26s\tremaining: 52.7s\n",
      "239:\tlearn: 0.1276754\ttotal: 3m 27s\tremaining: 51.8s\n",
      "240:\tlearn: 0.1276034\ttotal: 3m 28s\tremaining: 51s\n",
      "241:\tlearn: 0.1275307\ttotal: 3m 29s\tremaining: 50.1s\n",
      "242:\tlearn: 0.1273048\ttotal: 3m 29s\tremaining: 49.2s\n",
      "243:\tlearn: 0.1271825\ttotal: 3m 30s\tremaining: 48.4s\n",
      "244:\tlearn: 0.1270739\ttotal: 3m 31s\tremaining: 47.6s\n",
      "245:\tlearn: 0.1269929\ttotal: 3m 32s\tremaining: 46.7s\n",
      "246:\tlearn: 0.1268537\ttotal: 3m 33s\tremaining: 45.9s\n",
      "247:\tlearn: 0.1267910\ttotal: 3m 34s\tremaining: 45s\n",
      "248:\tlearn: 0.1267309\ttotal: 3m 35s\tremaining: 44.1s\n",
      "249:\tlearn: 0.1266222\ttotal: 3m 36s\tremaining: 43.3s\n",
      "250:\tlearn: 0.1264747\ttotal: 3m 37s\tremaining: 42.4s\n",
      "251:\tlearn: 0.1263355\ttotal: 3m 38s\tremaining: 41.6s\n",
      "252:\tlearn: 0.1261778\ttotal: 3m 39s\tremaining: 40.7s\n",
      "253:\tlearn: 0.1260155\ttotal: 3m 39s\tremaining: 39.8s\n",
      "254:\tlearn: 0.1258263\ttotal: 3m 40s\tremaining: 39s\n",
      "255:\tlearn: 0.1257554\ttotal: 3m 41s\tremaining: 38.1s\n",
      "256:\tlearn: 0.1256077\ttotal: 3m 42s\tremaining: 37.2s\n",
      "257:\tlearn: 0.1255438\ttotal: 3m 43s\tremaining: 36.4s\n",
      "258:\tlearn: 0.1254936\ttotal: 3m 44s\tremaining: 35.5s\n",
      "259:\tlearn: 0.1254284\ttotal: 3m 45s\tremaining: 34.6s\n",
      "260:\tlearn: 0.1252853\ttotal: 3m 45s\tremaining: 33.8s\n",
      "261:\tlearn: 0.1250696\ttotal: 3m 46s\tremaining: 32.9s\n",
      "262:\tlearn: 0.1249580\ttotal: 3m 47s\tremaining: 32s\n",
      "263:\tlearn: 0.1248892\ttotal: 3m 48s\tremaining: 31.2s\n",
      "264:\tlearn: 0.1248233\ttotal: 3m 49s\tremaining: 30.3s\n",
      "265:\tlearn: 0.1246549\ttotal: 3m 50s\tremaining: 29.4s\n",
      "266:\tlearn: 0.1246010\ttotal: 3m 50s\tremaining: 28.5s\n",
      "267:\tlearn: 0.1244503\ttotal: 3m 51s\tremaining: 27.7s\n",
      "268:\tlearn: 0.1243921\ttotal: 3m 52s\tremaining: 26.8s\n",
      "269:\tlearn: 0.1242163\ttotal: 3m 53s\tremaining: 25.9s\n",
      "270:\tlearn: 0.1241493\ttotal: 3m 54s\tremaining: 25.1s\n",
      "271:\tlearn: 0.1240246\ttotal: 3m 55s\tremaining: 24.2s\n",
      "272:\tlearn: 0.1238136\ttotal: 3m 56s\tremaining: 23.3s\n",
      "273:\tlearn: 0.1237554\ttotal: 3m 56s\tremaining: 22.5s\n",
      "274:\tlearn: 0.1236941\ttotal: 3m 57s\tremaining: 21.6s\n",
      "275:\tlearn: 0.1236415\ttotal: 3m 58s\tremaining: 20.7s\n",
      "276:\tlearn: 0.1235860\ttotal: 3m 59s\tremaining: 19.9s\n",
      "277:\tlearn: 0.1235220\ttotal: 4m\tremaining: 19s\n",
      "278:\tlearn: 0.1234695\ttotal: 4m\tremaining: 18.1s\n",
      "279:\tlearn: 0.1234105\ttotal: 4m 1s\tremaining: 17.3s\n",
      "280:\tlearn: 0.1233069\ttotal: 4m 2s\tremaining: 16.4s\n",
      "281:\tlearn: 0.1231950\ttotal: 4m 3s\tremaining: 15.5s\n",
      "282:\tlearn: 0.1231267\ttotal: 4m 4s\tremaining: 14.7s\n",
      "283:\tlearn: 0.1230707\ttotal: 4m 4s\tremaining: 13.8s\n",
      "284:\tlearn: 0.1230221\ttotal: 4m 5s\tremaining: 12.9s\n",
      "285:\tlearn: 0.1229602\ttotal: 4m 6s\tremaining: 12.1s\n",
      "286:\tlearn: 0.1228221\ttotal: 4m 7s\tremaining: 11.2s\n",
      "287:\tlearn: 0.1227699\ttotal: 4m 8s\tremaining: 10.3s\n",
      "288:\tlearn: 0.1225919\ttotal: 4m 9s\tremaining: 9.48s\n",
      "289:\tlearn: 0.1224659\ttotal: 4m 9s\tremaining: 8.62s\n",
      "290:\tlearn: 0.1224052\ttotal: 4m 10s\tremaining: 7.76s\n",
      "291:\tlearn: 0.1223343\ttotal: 4m 11s\tremaining: 6.9s\n",
      "292:\tlearn: 0.1222715\ttotal: 4m 12s\tremaining: 6.03s\n",
      "293:\tlearn: 0.1222152\ttotal: 4m 13s\tremaining: 5.17s\n",
      "294:\tlearn: 0.1221538\ttotal: 4m 14s\tremaining: 4.31s\n",
      "295:\tlearn: 0.1220992\ttotal: 4m 14s\tremaining: 3.44s\n",
      "296:\tlearn: 0.1220244\ttotal: 4m 15s\tremaining: 2.58s\n",
      "297:\tlearn: 0.1219576\ttotal: 4m 16s\tremaining: 1.72s\n",
      "298:\tlearn: 0.1217745\ttotal: 4m 17s\tremaining: 861ms\n",
      "299:\tlearn: 0.1217227\ttotal: 4m 18s\tremaining: 0us\n",
      "Learning rate set to 0.5\n",
      "0:\tlearn: 0.3404142\ttotal: 2.35s\tremaining: 3m 53s\n",
      "1:\tlearn: 0.2529666\ttotal: 4.14s\tremaining: 3m 23s\n",
      "2:\tlearn: 0.2261240\ttotal: 6s\tremaining: 3m 13s\n",
      "3:\tlearn: 0.2140759\ttotal: 7.83s\tremaining: 3m 7s\n",
      "4:\tlearn: 0.2054637\ttotal: 9.6s\tremaining: 3m 2s\n",
      "5:\tlearn: 0.1995380\ttotal: 11.3s\tremaining: 2m 57s\n",
      "6:\tlearn: 0.1937112\ttotal: 13.2s\tremaining: 2m 54s\n",
      "7:\tlearn: 0.1891535\ttotal: 15s\tremaining: 2m 52s\n",
      "8:\tlearn: 0.1845484\ttotal: 16.8s\tremaining: 2m 49s\n",
      "9:\tlearn: 0.1802826\ttotal: 18.6s\tremaining: 2m 47s\n",
      "10:\tlearn: 0.1775426\ttotal: 20.2s\tremaining: 2m 43s\n",
      "11:\tlearn: 0.1749262\ttotal: 22s\tremaining: 2m 41s\n",
      "12:\tlearn: 0.1726535\ttotal: 23.7s\tremaining: 2m 38s\n",
      "13:\tlearn: 0.1694045\ttotal: 25.5s\tremaining: 2m 36s\n",
      "14:\tlearn: 0.1675093\ttotal: 27.4s\tremaining: 2m 35s\n",
      "15:\tlearn: 0.1655825\ttotal: 29s\tremaining: 2m 32s\n",
      "16:\tlearn: 0.1631589\ttotal: 30.7s\tremaining: 2m 29s\n",
      "17:\tlearn: 0.1612466\ttotal: 32.5s\tremaining: 2m 27s\n",
      "18:\tlearn: 0.1601695\ttotal: 34.1s\tremaining: 2m 25s\n",
      "19:\tlearn: 0.1587030\ttotal: 35.9s\tremaining: 2m 23s\n",
      "20:\tlearn: 0.1573730\ttotal: 37.6s\tremaining: 2m 21s\n",
      "21:\tlearn: 0.1557360\ttotal: 39.3s\tremaining: 2m 19s\n",
      "22:\tlearn: 0.1546238\ttotal: 41s\tremaining: 2m 17s\n",
      "23:\tlearn: 0.1533583\ttotal: 42.8s\tremaining: 2m 15s\n",
      "24:\tlearn: 0.1519603\ttotal: 44.5s\tremaining: 2m 13s\n",
      "25:\tlearn: 0.1508405\ttotal: 46.2s\tremaining: 2m 11s\n",
      "26:\tlearn: 0.1497268\ttotal: 48.1s\tremaining: 2m 10s\n",
      "27:\tlearn: 0.1486279\ttotal: 49.8s\tremaining: 2m 8s\n",
      "28:\tlearn: 0.1477746\ttotal: 51.5s\tremaining: 2m 6s\n",
      "29:\tlearn: 0.1468151\ttotal: 53.2s\tremaining: 2m 4s\n",
      "30:\tlearn: 0.1458793\ttotal: 54.9s\tremaining: 2m 2s\n",
      "31:\tlearn: 0.1450650\ttotal: 56.6s\tremaining: 2m\n",
      "32:\tlearn: 0.1437993\ttotal: 58.4s\tremaining: 1m 58s\n",
      "33:\tlearn: 0.1431270\ttotal: 1m\tremaining: 1m 56s\n",
      "34:\tlearn: 0.1421115\ttotal: 1m 1s\tremaining: 1m 55s\n",
      "35:\tlearn: 0.1413922\ttotal: 1m 3s\tremaining: 1m 53s\n",
      "36:\tlearn: 0.1408576\ttotal: 1m 5s\tremaining: 1m 51s\n",
      "37:\tlearn: 0.1396493\ttotal: 1m 7s\tremaining: 1m 49s\n",
      "38:\tlearn: 0.1387339\ttotal: 1m 8s\tremaining: 1m 47s\n",
      "39:\tlearn: 0.1380953\ttotal: 1m 10s\tremaining: 1m 45s\n",
      "40:\tlearn: 0.1374382\ttotal: 1m 11s\tremaining: 1m 43s\n",
      "41:\tlearn: 0.1369383\ttotal: 1m 13s\tremaining: 1m 41s\n",
      "42:\tlearn: 0.1360644\ttotal: 1m 15s\tremaining: 1m 39s\n",
      "43:\tlearn: 0.1354374\ttotal: 1m 16s\tremaining: 1m 37s\n",
      "44:\tlearn: 0.1350802\ttotal: 1m 18s\tremaining: 1m 36s\n",
      "45:\tlearn: 0.1346148\ttotal: 1m 20s\tremaining: 1m 34s\n",
      "46:\tlearn: 0.1339187\ttotal: 1m 21s\tremaining: 1m 32s\n",
      "47:\tlearn: 0.1331578\ttotal: 1m 23s\tremaining: 1m 30s\n",
      "48:\tlearn: 0.1326321\ttotal: 1m 25s\tremaining: 1m 28s\n",
      "49:\tlearn: 0.1319177\ttotal: 1m 27s\tremaining: 1m 27s\n",
      "50:\tlearn: 0.1312715\ttotal: 1m 29s\tremaining: 1m 25s\n",
      "51:\tlearn: 0.1309091\ttotal: 1m 30s\tremaining: 1m 23s\n",
      "52:\tlearn: 0.1305953\ttotal: 1m 32s\tremaining: 1m 22s\n",
      "53:\tlearn: 0.1302364\ttotal: 1m 34s\tremaining: 1m 20s\n",
      "54:\tlearn: 0.1297394\ttotal: 1m 36s\tremaining: 1m 18s\n",
      "55:\tlearn: 0.1289935\ttotal: 1m 38s\tremaining: 1m 17s\n",
      "56:\tlearn: 0.1285689\ttotal: 1m 39s\tremaining: 1m 15s\n",
      "57:\tlearn: 0.1280089\ttotal: 1m 41s\tremaining: 1m 13s\n",
      "58:\tlearn: 0.1276950\ttotal: 1m 43s\tremaining: 1m 11s\n",
      "59:\tlearn: 0.1274283\ttotal: 1m 44s\tremaining: 1m 9s\n",
      "60:\tlearn: 0.1267387\ttotal: 1m 46s\tremaining: 1m 8s\n",
      "61:\tlearn: 0.1264907\ttotal: 1m 48s\tremaining: 1m 6s\n",
      "62:\tlearn: 0.1262043\ttotal: 1m 50s\tremaining: 1m 4s\n",
      "63:\tlearn: 0.1259794\ttotal: 1m 52s\tremaining: 1m 3s\n",
      "64:\tlearn: 0.1257135\ttotal: 1m 54s\tremaining: 1m 1s\n",
      "65:\tlearn: 0.1251152\ttotal: 1m 56s\tremaining: 1m\n",
      "66:\tlearn: 0.1246614\ttotal: 1m 58s\tremaining: 58.3s\n",
      "67:\tlearn: 0.1241743\ttotal: 2m\tremaining: 56.6s\n",
      "68:\tlearn: 0.1236781\ttotal: 2m 2s\tremaining: 54.9s\n",
      "69:\tlearn: 0.1233529\ttotal: 2m 3s\tremaining: 53.1s\n",
      "70:\tlearn: 0.1231511\ttotal: 2m 5s\tremaining: 51.4s\n",
      "71:\tlearn: 0.1225777\ttotal: 2m 7s\tremaining: 49.7s\n",
      "72:\tlearn: 0.1222979\ttotal: 2m 9s\tremaining: 48s\n",
      "73:\tlearn: 0.1220738\ttotal: 2m 11s\tremaining: 46.2s\n",
      "74:\tlearn: 0.1217717\ttotal: 2m 13s\tremaining: 44.4s\n",
      "75:\tlearn: 0.1213196\ttotal: 2m 15s\tremaining: 42.7s\n",
      "76:\tlearn: 0.1211256\ttotal: 2m 16s\tremaining: 40.9s\n",
      "77:\tlearn: 0.1207499\ttotal: 2m 18s\tremaining: 39.2s\n",
      "78:\tlearn: 0.1203032\ttotal: 2m 20s\tremaining: 37.5s\n",
      "79:\tlearn: 0.1197638\ttotal: 2m 22s\tremaining: 35.7s\n",
      "80:\tlearn: 0.1193382\ttotal: 2m 24s\tremaining: 34s\n",
      "81:\tlearn: 0.1191305\ttotal: 2m 26s\tremaining: 32.2s\n",
      "82:\tlearn: 0.1188795\ttotal: 2m 28s\tremaining: 30.4s\n",
      "83:\tlearn: 0.1186434\ttotal: 2m 30s\tremaining: 28.6s\n",
      "84:\tlearn: 0.1180632\ttotal: 2m 32s\tremaining: 26.8s\n",
      "85:\tlearn: 0.1178604\ttotal: 2m 33s\tremaining: 25s\n",
      "86:\tlearn: 0.1175484\ttotal: 2m 35s\tremaining: 23.3s\n",
      "87:\tlearn: 0.1171795\ttotal: 2m 37s\tremaining: 21.5s\n",
      "88:\tlearn: 0.1169688\ttotal: 2m 39s\tremaining: 19.7s\n",
      "89:\tlearn: 0.1166429\ttotal: 2m 41s\tremaining: 17.9s\n",
      "90:\tlearn: 0.1164394\ttotal: 2m 42s\tremaining: 16.1s\n",
      "91:\tlearn: 0.1162447\ttotal: 2m 44s\tremaining: 14.3s\n",
      "92:\tlearn: 0.1158453\ttotal: 2m 46s\tremaining: 12.6s\n",
      "93:\tlearn: 0.1156592\ttotal: 2m 48s\tremaining: 10.8s\n",
      "94:\tlearn: 0.1154692\ttotal: 2m 50s\tremaining: 8.98s\n",
      "95:\tlearn: 0.1150862\ttotal: 2m 52s\tremaining: 7.19s\n",
      "96:\tlearn: 0.1148847\ttotal: 2m 54s\tremaining: 5.39s\n",
      "97:\tlearn: 0.1147018\ttotal: 2m 56s\tremaining: 3.59s\n",
      "98:\tlearn: 0.1145269\ttotal: 2m 57s\tremaining: 1.79s\n",
      "99:\tlearn: 0.1140012\ttotal: 2m 59s\tremaining: 0us\n",
      "Learning rate set to 0.5\n",
      "0:\tlearn: 0.3446767\ttotal: 2.28s\tremaining: 3m 45s\n",
      "1:\tlearn: 0.2595265\ttotal: 4.2s\tremaining: 3m 25s\n",
      "2:\tlearn: 0.2319367\ttotal: 5.99s\tremaining: 3m 13s\n",
      "3:\tlearn: 0.2168911\ttotal: 7.87s\tremaining: 3m 8s\n",
      "4:\tlearn: 0.2084758\ttotal: 9.53s\tremaining: 3m 1s\n",
      "5:\tlearn: 0.2020923\ttotal: 11.2s\tremaining: 2m 55s\n",
      "6:\tlearn: 0.1959904\ttotal: 12.9s\tremaining: 2m 51s\n",
      "7:\tlearn: 0.1910757\ttotal: 14.5s\tremaining: 2m 47s\n",
      "8:\tlearn: 0.1869811\ttotal: 16.1s\tremaining: 2m 43s\n",
      "9:\tlearn: 0.1833217\ttotal: 17.8s\tremaining: 2m 40s\n",
      "10:\tlearn: 0.1806312\ttotal: 19.5s\tremaining: 2m 37s\n",
      "11:\tlearn: 0.1777922\ttotal: 21.1s\tremaining: 2m 34s\n",
      "12:\tlearn: 0.1750809\ttotal: 22.7s\tremaining: 2m 32s\n",
      "13:\tlearn: 0.1732989\ttotal: 24.4s\tremaining: 2m 30s\n",
      "14:\tlearn: 0.1714154\ttotal: 26s\tremaining: 2m 27s\n",
      "15:\tlearn: 0.1683965\ttotal: 27.8s\tremaining: 2m 25s\n",
      "16:\tlearn: 0.1667423\ttotal: 29.4s\tremaining: 2m 23s\n",
      "17:\tlearn: 0.1647527\ttotal: 31.1s\tremaining: 2m 21s\n",
      "18:\tlearn: 0.1625632\ttotal: 32.8s\tremaining: 2m 19s\n",
      "19:\tlearn: 0.1614095\ttotal: 34.4s\tremaining: 2m 17s\n",
      "20:\tlearn: 0.1598975\ttotal: 36s\tremaining: 2m 15s\n",
      "21:\tlearn: 0.1586573\ttotal: 37.6s\tremaining: 2m 13s\n",
      "22:\tlearn: 0.1574184\ttotal: 39.1s\tremaining: 2m 11s\n",
      "23:\tlearn: 0.1561233\ttotal: 40.8s\tremaining: 2m 9s\n",
      "24:\tlearn: 0.1551413\ttotal: 42.4s\tremaining: 2m 7s\n",
      "25:\tlearn: 0.1534947\ttotal: 44s\tremaining: 2m 5s\n",
      "26:\tlearn: 0.1525021\ttotal: 45.7s\tremaining: 2m 3s\n",
      "27:\tlearn: 0.1514115\ttotal: 47.3s\tremaining: 2m 1s\n",
      "28:\tlearn: 0.1504578\ttotal: 49.1s\tremaining: 2m\n",
      "29:\tlearn: 0.1490252\ttotal: 51s\tremaining: 1m 58s\n",
      "30:\tlearn: 0.1481505\ttotal: 52.7s\tremaining: 1m 57s\n",
      "31:\tlearn: 0.1471226\ttotal: 54.5s\tremaining: 1m 55s\n",
      "32:\tlearn: 0.1464642\ttotal: 56.2s\tremaining: 1m 54s\n",
      "33:\tlearn: 0.1457844\ttotal: 57.9s\tremaining: 1m 52s\n",
      "34:\tlearn: 0.1445042\ttotal: 59.7s\tremaining: 1m 50s\n",
      "35:\tlearn: 0.1435772\ttotal: 1m 1s\tremaining: 1m 49s\n",
      "36:\tlearn: 0.1428580\ttotal: 1m 3s\tremaining: 1m 47s\n",
      "37:\tlearn: 0.1420377\ttotal: 1m 5s\tremaining: 1m 46s\n",
      "38:\tlearn: 0.1415290\ttotal: 1m 6s\tremaining: 1m 44s\n",
      "39:\tlearn: 0.1409048\ttotal: 1m 8s\tremaining: 1m 42s\n",
      "40:\tlearn: 0.1399103\ttotal: 1m 10s\tremaining: 1m 41s\n",
      "41:\tlearn: 0.1392413\ttotal: 1m 12s\tremaining: 1m 39s\n",
      "42:\tlearn: 0.1385318\ttotal: 1m 14s\tremaining: 1m 38s\n",
      "43:\tlearn: 0.1377718\ttotal: 1m 15s\tremaining: 1m 36s\n",
      "44:\tlearn: 0.1373503\ttotal: 1m 17s\tremaining: 1m 34s\n",
      "45:\tlearn: 0.1366072\ttotal: 1m 19s\tremaining: 1m 33s\n",
      "46:\tlearn: 0.1360770\ttotal: 1m 20s\tremaining: 1m 31s\n",
      "47:\tlearn: 0.1356206\ttotal: 1m 22s\tremaining: 1m 29s\n",
      "48:\tlearn: 0.1350366\ttotal: 1m 24s\tremaining: 1m 28s\n",
      "49:\tlearn: 0.1346437\ttotal: 1m 26s\tremaining: 1m 26s\n",
      "50:\tlearn: 0.1343192\ttotal: 1m 27s\tremaining: 1m 24s\n",
      "51:\tlearn: 0.1335051\ttotal: 1m 29s\tremaining: 1m 22s\n",
      "52:\tlearn: 0.1331182\ttotal: 1m 31s\tremaining: 1m 20s\n",
      "53:\tlearn: 0.1324222\ttotal: 1m 33s\tremaining: 1m 19s\n",
      "54:\tlearn: 0.1318959\ttotal: 1m 34s\tremaining: 1m 17s\n",
      "55:\tlearn: 0.1313007\ttotal: 1m 36s\tremaining: 1m 15s\n",
      "56:\tlearn: 0.1310176\ttotal: 1m 38s\tremaining: 1m 14s\n",
      "57:\tlearn: 0.1306681\ttotal: 1m 40s\tremaining: 1m 12s\n",
      "58:\tlearn: 0.1302349\ttotal: 1m 42s\tremaining: 1m 10s\n",
      "59:\tlearn: 0.1299524\ttotal: 1m 43s\tremaining: 1m 9s\n",
      "60:\tlearn: 0.1296615\ttotal: 1m 45s\tremaining: 1m 7s\n",
      "61:\tlearn: 0.1290357\ttotal: 1m 47s\tremaining: 1m 5s\n",
      "62:\tlearn: 0.1284477\ttotal: 1m 49s\tremaining: 1m 4s\n",
      "63:\tlearn: 0.1274219\ttotal: 1m 50s\tremaining: 1m 2s\n",
      "64:\tlearn: 0.1269223\ttotal: 1m 52s\tremaining: 1m\n",
      "65:\tlearn: 0.1264739\ttotal: 1m 54s\tremaining: 58.8s\n",
      "66:\tlearn: 0.1262307\ttotal: 1m 55s\tremaining: 57.1s\n",
      "67:\tlearn: 0.1259652\ttotal: 1m 57s\tremaining: 55.3s\n",
      "68:\tlearn: 0.1253891\ttotal: 1m 59s\tremaining: 53.5s\n",
      "69:\tlearn: 0.1249992\ttotal: 2m\tremaining: 51.8s\n",
      "70:\tlearn: 0.1246188\ttotal: 2m 2s\tremaining: 50.1s\n",
      "71:\tlearn: 0.1241001\ttotal: 2m 4s\tremaining: 48.4s\n",
      "72:\tlearn: 0.1235548\ttotal: 2m 6s\tremaining: 46.7s\n",
      "73:\tlearn: 0.1232962\ttotal: 2m 8s\tremaining: 45s\n",
      "74:\tlearn: 0.1230814\ttotal: 2m 9s\tremaining: 43.3s\n",
      "75:\tlearn: 0.1227447\ttotal: 2m 11s\tremaining: 41.6s\n",
      "76:\tlearn: 0.1225302\ttotal: 2m 13s\tremaining: 39.8s\n",
      "77:\tlearn: 0.1222862\ttotal: 2m 14s\tremaining: 38.1s\n",
      "78:\tlearn: 0.1219535\ttotal: 2m 16s\tremaining: 36.3s\n",
      "79:\tlearn: 0.1215366\ttotal: 2m 18s\tremaining: 34.6s\n",
      "80:\tlearn: 0.1213018\ttotal: 2m 20s\tremaining: 32.9s\n",
      "81:\tlearn: 0.1211071\ttotal: 2m 21s\tremaining: 31.2s\n",
      "82:\tlearn: 0.1208999\ttotal: 2m 24s\tremaining: 29.5s\n",
      "83:\tlearn: 0.1206701\ttotal: 2m 26s\tremaining: 27.8s\n",
      "84:\tlearn: 0.1204577\ttotal: 2m 27s\tremaining: 26.1s\n",
      "85:\tlearn: 0.1199855\ttotal: 2m 29s\tremaining: 24.4s\n",
      "86:\tlearn: 0.1197785\ttotal: 2m 31s\tremaining: 22.7s\n",
      "87:\tlearn: 0.1192769\ttotal: 2m 33s\tremaining: 20.9s\n",
      "88:\tlearn: 0.1188458\ttotal: 2m 35s\tremaining: 19.2s\n",
      "89:\tlearn: 0.1183703\ttotal: 2m 36s\tremaining: 17.4s\n",
      "90:\tlearn: 0.1179512\ttotal: 2m 38s\tremaining: 15.7s\n",
      "91:\tlearn: 0.1174553\ttotal: 2m 40s\tremaining: 13.9s\n",
      "92:\tlearn: 0.1172505\ttotal: 2m 41s\tremaining: 12.2s\n",
      "93:\tlearn: 0.1170312\ttotal: 2m 43s\tremaining: 10.4s\n",
      "94:\tlearn: 0.1164500\ttotal: 2m 45s\tremaining: 8.69s\n",
      "95:\tlearn: 0.1160627\ttotal: 2m 46s\tremaining: 6.95s\n",
      "96:\tlearn: 0.1158589\ttotal: 2m 48s\tremaining: 5.21s\n",
      "97:\tlearn: 0.1152482\ttotal: 2m 50s\tremaining: 3.47s\n",
      "98:\tlearn: 0.1148613\ttotal: 2m 51s\tremaining: 1.74s\n",
      "99:\tlearn: 0.1146697\ttotal: 2m 53s\tremaining: 0us\n",
      "Learning rate set to 0.5\n",
      "0:\tlearn: 0.3506550\ttotal: 2.28s\tremaining: 3m 46s\n",
      "1:\tlearn: 0.2632087\ttotal: 4.21s\tremaining: 3m 26s\n",
      "2:\tlearn: 0.2342254\ttotal: 6.42s\tremaining: 3m 27s\n",
      "3:\tlearn: 0.2183544\ttotal: 8.43s\tremaining: 3m 22s\n",
      "4:\tlearn: 0.2093937\ttotal: 10.4s\tremaining: 3m 18s\n",
      "5:\tlearn: 0.2024766\ttotal: 12.4s\tremaining: 3m 13s\n",
      "6:\tlearn: 0.1956956\ttotal: 14.3s\tremaining: 3m 9s\n",
      "7:\tlearn: 0.1915156\ttotal: 16s\tremaining: 3m 4s\n",
      "8:\tlearn: 0.1867674\ttotal: 17.8s\tremaining: 3m\n",
      "9:\tlearn: 0.1841697\ttotal: 19.6s\tremaining: 2m 56s\n",
      "10:\tlearn: 0.1808860\ttotal: 21.3s\tremaining: 2m 52s\n",
      "11:\tlearn: 0.1781298\ttotal: 23.1s\tremaining: 2m 49s\n",
      "12:\tlearn: 0.1760578\ttotal: 24.9s\tremaining: 2m 46s\n",
      "13:\tlearn: 0.1740151\ttotal: 26.6s\tremaining: 2m 43s\n",
      "14:\tlearn: 0.1721789\ttotal: 28.4s\tremaining: 2m 40s\n",
      "15:\tlearn: 0.1701017\ttotal: 30.3s\tremaining: 2m 39s\n",
      "16:\tlearn: 0.1670613\ttotal: 32.1s\tremaining: 2m 36s\n",
      "17:\tlearn: 0.1652902\ttotal: 33.8s\tremaining: 2m 34s\n",
      "18:\tlearn: 0.1632775\ttotal: 35.6s\tremaining: 2m 31s\n",
      "19:\tlearn: 0.1619826\ttotal: 37.4s\tremaining: 2m 29s\n",
      "20:\tlearn: 0.1604618\ttotal: 39.1s\tremaining: 2m 27s\n",
      "21:\tlearn: 0.1589390\ttotal: 40.8s\tremaining: 2m 24s\n",
      "22:\tlearn: 0.1577198\ttotal: 42.5s\tremaining: 2m 22s\n",
      "23:\tlearn: 0.1561859\ttotal: 44.4s\tremaining: 2m 20s\n",
      "24:\tlearn: 0.1548806\ttotal: 46.1s\tremaining: 2m 18s\n",
      "25:\tlearn: 0.1537250\ttotal: 47.8s\tremaining: 2m 16s\n",
      "26:\tlearn: 0.1526878\ttotal: 49.5s\tremaining: 2m 13s\n",
      "27:\tlearn: 0.1518018\ttotal: 51.1s\tremaining: 2m 11s\n",
      "28:\tlearn: 0.1503536\ttotal: 52.9s\tremaining: 2m 9s\n",
      "29:\tlearn: 0.1492949\ttotal: 54.7s\tremaining: 2m 7s\n",
      "30:\tlearn: 0.1482517\ttotal: 56.5s\tremaining: 2m 5s\n",
      "31:\tlearn: 0.1474196\ttotal: 58.3s\tremaining: 2m 3s\n",
      "32:\tlearn: 0.1459931\ttotal: 1m\tremaining: 2m 2s\n",
      "33:\tlearn: 0.1453931\ttotal: 1m 1s\tremaining: 2m\n",
      "34:\tlearn: 0.1439873\ttotal: 1m 3s\tremaining: 1m 58s\n",
      "35:\tlearn: 0.1430755\ttotal: 1m 5s\tremaining: 1m 56s\n",
      "36:\tlearn: 0.1422000\ttotal: 1m 7s\tremaining: 1m 55s\n",
      "37:\tlearn: 0.1415979\ttotal: 1m 9s\tremaining: 1m 53s\n",
      "38:\tlearn: 0.1410342\ttotal: 1m 11s\tremaining: 1m 51s\n",
      "39:\tlearn: 0.1403088\ttotal: 1m 13s\tremaining: 1m 49s\n",
      "40:\tlearn: 0.1396493\ttotal: 1m 14s\tremaining: 1m 47s\n",
      "41:\tlearn: 0.1390265\ttotal: 1m 16s\tremaining: 1m 45s\n",
      "42:\tlearn: 0.1382712\ttotal: 1m 18s\tremaining: 1m 43s\n",
      "43:\tlearn: 0.1376936\ttotal: 1m 20s\tremaining: 1m 41s\n",
      "44:\tlearn: 0.1370048\ttotal: 1m 21s\tremaining: 1m 39s\n",
      "45:\tlearn: 0.1363382\ttotal: 1m 23s\tremaining: 1m 38s\n",
      "46:\tlearn: 0.1359349\ttotal: 1m 25s\tremaining: 1m 36s\n",
      "47:\tlearn: 0.1355516\ttotal: 1m 26s\tremaining: 1m 34s\n",
      "48:\tlearn: 0.1346723\ttotal: 1m 28s\tremaining: 1m 32s\n",
      "49:\tlearn: 0.1341238\ttotal: 1m 30s\tremaining: 1m 30s\n",
      "50:\tlearn: 0.1335365\ttotal: 1m 32s\tremaining: 1m 28s\n",
      "51:\tlearn: 0.1331684\ttotal: 1m 34s\tremaining: 1m 26s\n",
      "52:\tlearn: 0.1325836\ttotal: 1m 35s\tremaining: 1m 25s\n",
      "53:\tlearn: 0.1322535\ttotal: 1m 37s\tremaining: 1m 23s\n",
      "54:\tlearn: 0.1319335\ttotal: 1m 39s\tremaining: 1m 21s\n",
      "55:\tlearn: 0.1315641\ttotal: 1m 41s\tremaining: 1m 19s\n",
      "56:\tlearn: 0.1310422\ttotal: 1m 42s\tremaining: 1m 17s\n",
      "57:\tlearn: 0.1304438\ttotal: 1m 44s\tremaining: 1m 15s\n",
      "58:\tlearn: 0.1297362\ttotal: 1m 46s\tremaining: 1m 14s\n",
      "59:\tlearn: 0.1294206\ttotal: 1m 48s\tremaining: 1m 12s\n",
      "60:\tlearn: 0.1291525\ttotal: 1m 50s\tremaining: 1m 10s\n",
      "61:\tlearn: 0.1285927\ttotal: 1m 52s\tremaining: 1m 8s\n",
      "62:\tlearn: 0.1280188\ttotal: 1m 53s\tremaining: 1m 6s\n",
      "63:\tlearn: 0.1277719\ttotal: 1m 55s\tremaining: 1m 4s\n",
      "64:\tlearn: 0.1271686\ttotal: 1m 57s\tremaining: 1m 3s\n",
      "65:\tlearn: 0.1269122\ttotal: 1m 59s\tremaining: 1m 1s\n",
      "66:\tlearn: 0.1263674\ttotal: 2m\tremaining: 59.5s\n",
      "67:\tlearn: 0.1258020\ttotal: 2m 2s\tremaining: 57.7s\n",
      "68:\tlearn: 0.1255810\ttotal: 2m 4s\tremaining: 56s\n",
      "69:\tlearn: 0.1251436\ttotal: 2m 6s\tremaining: 54.2s\n",
      "70:\tlearn: 0.1246153\ttotal: 2m 8s\tremaining: 52.4s\n",
      "71:\tlearn: 0.1243608\ttotal: 2m 9s\tremaining: 50.5s\n",
      "72:\tlearn: 0.1240852\ttotal: 2m 11s\tremaining: 48.7s\n",
      "73:\tlearn: 0.1233897\ttotal: 2m 13s\tremaining: 46.9s\n",
      "74:\tlearn: 0.1231529\ttotal: 2m 15s\tremaining: 45.1s\n",
      "75:\tlearn: 0.1226630\ttotal: 2m 17s\tremaining: 43.4s\n",
      "76:\tlearn: 0.1224165\ttotal: 2m 19s\tremaining: 41.6s\n",
      "77:\tlearn: 0.1221224\ttotal: 2m 21s\tremaining: 39.8s\n",
      "78:\tlearn: 0.1218668\ttotal: 2m 23s\tremaining: 38s\n",
      "79:\tlearn: 0.1213058\ttotal: 2m 25s\tremaining: 36.3s\n",
      "80:\tlearn: 0.1210767\ttotal: 2m 26s\tremaining: 34.4s\n",
      "81:\tlearn: 0.1206900\ttotal: 2m 28s\tremaining: 32.6s\n",
      "82:\tlearn: 0.1204218\ttotal: 2m 30s\tremaining: 30.8s\n",
      "83:\tlearn: 0.1202122\ttotal: 2m 32s\tremaining: 29s\n",
      "84:\tlearn: 0.1199944\ttotal: 2m 33s\tremaining: 27.1s\n",
      "85:\tlearn: 0.1191850\ttotal: 2m 35s\tremaining: 25.3s\n",
      "86:\tlearn: 0.1189644\ttotal: 2m 37s\tremaining: 23.5s\n",
      "87:\tlearn: 0.1185504\ttotal: 2m 39s\tremaining: 21.7s\n",
      "88:\tlearn: 0.1183477\ttotal: 2m 40s\tremaining: 19.9s\n",
      "89:\tlearn: 0.1178478\ttotal: 2m 42s\tremaining: 18.1s\n",
      "90:\tlearn: 0.1173793\ttotal: 2m 44s\tremaining: 16.3s\n",
      "91:\tlearn: 0.1168023\ttotal: 2m 46s\tremaining: 14.5s\n",
      "92:\tlearn: 0.1165964\ttotal: 2m 48s\tremaining: 12.7s\n",
      "93:\tlearn: 0.1160686\ttotal: 2m 50s\tremaining: 10.9s\n",
      "94:\tlearn: 0.1156879\ttotal: 2m 51s\tremaining: 9.05s\n",
      "95:\tlearn: 0.1154849\ttotal: 2m 53s\tremaining: 7.24s\n",
      "96:\tlearn: 0.1152831\ttotal: 2m 55s\tremaining: 5.42s\n",
      "97:\tlearn: 0.1148691\ttotal: 2m 57s\tremaining: 3.62s\n",
      "98:\tlearn: 0.1146661\ttotal: 2m 58s\tremaining: 1.81s\n",
      "99:\tlearn: 0.1144736\ttotal: 3m\tremaining: 0us\n",
      "Learning rate set to 0.5\n",
      "0:\tlearn: 0.3510876\ttotal: 2.47s\tremaining: 4m 4s\n",
      "1:\tlearn: 0.2585179\ttotal: 4.29s\tremaining: 3m 30s\n",
      "2:\tlearn: 0.2325468\ttotal: 6.09s\tremaining: 3m 16s\n",
      "3:\tlearn: 0.2188661\ttotal: 7.98s\tremaining: 3m 11s\n",
      "4:\tlearn: 0.2078750\ttotal: 9.8s\tremaining: 3m 6s\n",
      "5:\tlearn: 0.2009692\ttotal: 11.6s\tremaining: 3m 1s\n",
      "6:\tlearn: 0.1945107\ttotal: 13.4s\tremaining: 2m 58s\n",
      "7:\tlearn: 0.1906715\ttotal: 15.2s\tremaining: 2m 54s\n",
      "8:\tlearn: 0.1866466\ttotal: 17s\tremaining: 2m 52s\n",
      "9:\tlearn: 0.1837720\ttotal: 18.8s\tremaining: 2m 49s\n",
      "10:\tlearn: 0.1796546\ttotal: 20.6s\tremaining: 2m 46s\n",
      "11:\tlearn: 0.1770740\ttotal: 22.3s\tremaining: 2m 43s\n",
      "12:\tlearn: 0.1745763\ttotal: 24.1s\tremaining: 2m 41s\n",
      "13:\tlearn: 0.1719689\ttotal: 25.9s\tremaining: 2m 39s\n",
      "14:\tlearn: 0.1696555\ttotal: 27.8s\tremaining: 2m 37s\n",
      "15:\tlearn: 0.1670798\ttotal: 29.7s\tremaining: 2m 36s\n",
      "16:\tlearn: 0.1656088\ttotal: 31.6s\tremaining: 2m 34s\n",
      "17:\tlearn: 0.1642403\ttotal: 33.4s\tremaining: 2m 32s\n",
      "18:\tlearn: 0.1616977\ttotal: 35.1s\tremaining: 2m 29s\n",
      "19:\tlearn: 0.1603564\ttotal: 36.7s\tremaining: 2m 26s\n",
      "20:\tlearn: 0.1591871\ttotal: 38.8s\tremaining: 2m 25s\n",
      "21:\tlearn: 0.1574793\ttotal: 40.5s\tremaining: 2m 23s\n",
      "22:\tlearn: 0.1563271\ttotal: 42.2s\tremaining: 2m 21s\n",
      "23:\tlearn: 0.1551711\ttotal: 43.9s\tremaining: 2m 19s\n",
      "24:\tlearn: 0.1534823\ttotal: 45.6s\tremaining: 2m 16s\n",
      "25:\tlearn: 0.1523571\ttotal: 47.2s\tremaining: 2m 14s\n",
      "26:\tlearn: 0.1513820\ttotal: 49s\tremaining: 2m 12s\n",
      "27:\tlearn: 0.1501804\ttotal: 50.7s\tremaining: 2m 10s\n",
      "28:\tlearn: 0.1489508\ttotal: 52.4s\tremaining: 2m 8s\n",
      "29:\tlearn: 0.1479834\ttotal: 54s\tremaining: 2m 6s\n",
      "30:\tlearn: 0.1467981\ttotal: 55.7s\tremaining: 2m 3s\n",
      "31:\tlearn: 0.1454260\ttotal: 57.4s\tremaining: 2m 2s\n",
      "32:\tlearn: 0.1445420\ttotal: 59.1s\tremaining: 1m 59s\n",
      "33:\tlearn: 0.1434807\ttotal: 1m\tremaining: 1m 57s\n",
      "34:\tlearn: 0.1426630\ttotal: 1m 2s\tremaining: 1m 55s\n",
      "35:\tlearn: 0.1420250\ttotal: 1m 4s\tremaining: 1m 53s\n",
      "36:\tlearn: 0.1412365\ttotal: 1m 5s\tremaining: 1m 51s\n",
      "37:\tlearn: 0.1406307\ttotal: 1m 7s\tremaining: 1m 50s\n",
      "38:\tlearn: 0.1401820\ttotal: 1m 9s\tremaining: 1m 48s\n",
      "39:\tlearn: 0.1394840\ttotal: 1m 10s\tremaining: 1m 46s\n",
      "40:\tlearn: 0.1388189\ttotal: 1m 12s\tremaining: 1m 44s\n",
      "41:\tlearn: 0.1382411\ttotal: 1m 14s\tremaining: 1m 42s\n",
      "42:\tlearn: 0.1374815\ttotal: 1m 16s\tremaining: 1m 41s\n",
      "43:\tlearn: 0.1370494\ttotal: 1m 18s\tremaining: 1m 39s\n",
      "44:\tlearn: 0.1360685\ttotal: 1m 19s\tremaining: 1m 37s\n",
      "45:\tlearn: 0.1354373\ttotal: 1m 21s\tremaining: 1m 35s\n",
      "46:\tlearn: 0.1350653\ttotal: 1m 23s\tremaining: 1m 33s\n",
      "47:\tlearn: 0.1340263\ttotal: 1m 24s\tremaining: 1m 31s\n",
      "48:\tlearn: 0.1334418\ttotal: 1m 26s\tremaining: 1m 29s\n",
      "49:\tlearn: 0.1328686\ttotal: 1m 28s\tremaining: 1m 28s\n",
      "50:\tlearn: 0.1323033\ttotal: 1m 29s\tremaining: 1m 26s\n",
      "51:\tlearn: 0.1319664\ttotal: 1m 31s\tremaining: 1m 24s\n",
      "52:\tlearn: 0.1316194\ttotal: 1m 33s\tremaining: 1m 22s\n",
      "53:\tlearn: 0.1308335\ttotal: 1m 35s\tremaining: 1m 20s\n",
      "54:\tlearn: 0.1303626\ttotal: 1m 36s\tremaining: 1m 19s\n",
      "55:\tlearn: 0.1300467\ttotal: 1m 38s\tremaining: 1m 17s\n",
      "56:\tlearn: 0.1297524\ttotal: 1m 40s\tremaining: 1m 15s\n",
      "57:\tlearn: 0.1290670\ttotal: 1m 41s\tremaining: 1m 13s\n",
      "58:\tlearn: 0.1282141\ttotal: 1m 43s\tremaining: 1m 12s\n",
      "59:\tlearn: 0.1278073\ttotal: 1m 45s\tremaining: 1m 10s\n",
      "60:\tlearn: 0.1275495\ttotal: 1m 47s\tremaining: 1m 8s\n",
      "61:\tlearn: 0.1269565\ttotal: 1m 48s\tremaining: 1m 6s\n",
      "62:\tlearn: 0.1264537\ttotal: 1m 50s\tremaining: 1m 4s\n",
      "63:\tlearn: 0.1261409\ttotal: 1m 52s\tremaining: 1m 3s\n",
      "64:\tlearn: 0.1258759\ttotal: 1m 53s\tremaining: 1m 1s\n",
      "65:\tlearn: 0.1256323\ttotal: 1m 55s\tremaining: 59.5s\n",
      "66:\tlearn: 0.1254015\ttotal: 1m 57s\tremaining: 57.8s\n",
      "67:\tlearn: 0.1249192\ttotal: 1m 59s\tremaining: 56.1s\n",
      "68:\tlearn: 0.1243297\ttotal: 2m 1s\tremaining: 54.5s\n",
      "69:\tlearn: 0.1235757\ttotal: 2m 3s\tremaining: 52.8s\n",
      "70:\tlearn: 0.1229416\ttotal: 2m 4s\tremaining: 51s\n",
      "71:\tlearn: 0.1225003\ttotal: 2m 6s\tremaining: 49.2s\n",
      "72:\tlearn: 0.1221805\ttotal: 2m 8s\tremaining: 47.4s\n",
      "73:\tlearn: 0.1219598\ttotal: 2m 9s\tremaining: 45.6s\n",
      "74:\tlearn: 0.1217619\ttotal: 2m 11s\tremaining: 43.8s\n",
      "75:\tlearn: 0.1215416\ttotal: 2m 13s\tremaining: 42s\n",
      "76:\tlearn: 0.1213035\ttotal: 2m 14s\tremaining: 40.2s\n",
      "77:\tlearn: 0.1209848\ttotal: 2m 16s\tremaining: 38.5s\n",
      "78:\tlearn: 0.1207543\ttotal: 2m 18s\tremaining: 36.8s\n",
      "79:\tlearn: 0.1201868\ttotal: 2m 20s\tremaining: 35s\n",
      "80:\tlearn: 0.1199307\ttotal: 2m 21s\tremaining: 33.3s\n",
      "81:\tlearn: 0.1197137\ttotal: 2m 23s\tremaining: 31.5s\n",
      "82:\tlearn: 0.1193106\ttotal: 2m 25s\tremaining: 29.8s\n",
      "83:\tlearn: 0.1188729\ttotal: 2m 27s\tremaining: 28s\n",
      "84:\tlearn: 0.1186700\ttotal: 2m 28s\tremaining: 26.2s\n",
      "85:\tlearn: 0.1184675\ttotal: 2m 30s\tremaining: 24.5s\n",
      "86:\tlearn: 0.1179055\ttotal: 2m 32s\tremaining: 22.7s\n",
      "87:\tlearn: 0.1173822\ttotal: 2m 33s\tremaining: 21s\n",
      "88:\tlearn: 0.1171617\ttotal: 2m 35s\tremaining: 19.2s\n",
      "89:\tlearn: 0.1169647\ttotal: 2m 37s\tremaining: 17.4s\n",
      "90:\tlearn: 0.1167696\ttotal: 2m 38s\tremaining: 15.7s\n",
      "91:\tlearn: 0.1162893\ttotal: 2m 40s\tremaining: 14s\n",
      "92:\tlearn: 0.1158946\ttotal: 2m 42s\tremaining: 12.2s\n",
      "93:\tlearn: 0.1156560\ttotal: 2m 43s\tremaining: 10.5s\n",
      "94:\tlearn: 0.1152595\ttotal: 2m 45s\tremaining: 8.71s\n",
      "95:\tlearn: 0.1150703\ttotal: 2m 47s\tremaining: 6.96s\n",
      "96:\tlearn: 0.1148816\ttotal: 2m 48s\tremaining: 5.22s\n",
      "97:\tlearn: 0.1146061\ttotal: 2m 50s\tremaining: 3.48s\n",
      "98:\tlearn: 0.1144100\ttotal: 2m 52s\tremaining: 1.74s\n",
      "99:\tlearn: 0.1142439\ttotal: 2m 53s\tremaining: 0us\n",
      "Learning rate set to 0.5\n",
      "0:\tlearn: 0.3408275\ttotal: 2.39s\tremaining: 3m 56s\n",
      "1:\tlearn: 0.2561590\ttotal: 4.12s\tremaining: 3m 21s\n",
      "2:\tlearn: 0.2286272\ttotal: 5.9s\tremaining: 3m 10s\n",
      "3:\tlearn: 0.2173863\ttotal: 7.59s\tremaining: 3m 2s\n",
      "4:\tlearn: 0.2061616\ttotal: 9.57s\tremaining: 3m 1s\n",
      "5:\tlearn: 0.1991790\ttotal: 11.4s\tremaining: 2m 58s\n",
      "6:\tlearn: 0.1941045\ttotal: 13.1s\tremaining: 2m 54s\n",
      "7:\tlearn: 0.1901801\ttotal: 14.9s\tremaining: 2m 51s\n",
      "8:\tlearn: 0.1856298\ttotal: 16.7s\tremaining: 2m 48s\n",
      "9:\tlearn: 0.1822526\ttotal: 18.4s\tremaining: 2m 45s\n",
      "10:\tlearn: 0.1794380\ttotal: 20.3s\tremaining: 2m 44s\n",
      "11:\tlearn: 0.1758998\ttotal: 22.1s\tremaining: 2m 42s\n",
      "12:\tlearn: 0.1729781\ttotal: 23.9s\tremaining: 2m 40s\n",
      "13:\tlearn: 0.1710910\ttotal: 25.8s\tremaining: 2m 38s\n",
      "14:\tlearn: 0.1694296\ttotal: 27.4s\tremaining: 2m 35s\n",
      "15:\tlearn: 0.1674834\ttotal: 29.1s\tremaining: 2m 32s\n",
      "16:\tlearn: 0.1658703\ttotal: 30.9s\tremaining: 2m 30s\n",
      "17:\tlearn: 0.1644045\ttotal: 32.6s\tremaining: 2m 28s\n",
      "18:\tlearn: 0.1628024\ttotal: 34.2s\tremaining: 2m 25s\n",
      "19:\tlearn: 0.1617225\ttotal: 35.8s\tremaining: 2m 23s\n",
      "20:\tlearn: 0.1606754\ttotal: 37.5s\tremaining: 2m 21s\n",
      "21:\tlearn: 0.1597128\ttotal: 39.3s\tremaining: 2m 19s\n",
      "22:\tlearn: 0.1578432\ttotal: 41.1s\tremaining: 2m 17s\n",
      "23:\tlearn: 0.1566372\ttotal: 42.7s\tremaining: 2m 15s\n",
      "24:\tlearn: 0.1554095\ttotal: 44.5s\tremaining: 2m 13s\n",
      "25:\tlearn: 0.1541214\ttotal: 46.3s\tremaining: 2m 11s\n",
      "26:\tlearn: 0.1529166\ttotal: 48s\tremaining: 2m 9s\n",
      "27:\tlearn: 0.1511496\ttotal: 49.8s\tremaining: 2m 7s\n",
      "28:\tlearn: 0.1499970\ttotal: 51.6s\tremaining: 2m 6s\n",
      "29:\tlearn: 0.1489225\ttotal: 53.4s\tremaining: 2m 4s\n",
      "30:\tlearn: 0.1476794\ttotal: 55.1s\tremaining: 2m 2s\n",
      "31:\tlearn: 0.1467212\ttotal: 56.8s\tremaining: 2m\n",
      "32:\tlearn: 0.1459894\ttotal: 58.5s\tremaining: 1m 58s\n",
      "33:\tlearn: 0.1449904\ttotal: 1m\tremaining: 1m 57s\n",
      "34:\tlearn: 0.1443807\ttotal: 1m 2s\tremaining: 1m 55s\n",
      "35:\tlearn: 0.1437563\ttotal: 1m 3s\tremaining: 1m 53s\n",
      "36:\tlearn: 0.1429060\ttotal: 1m 5s\tremaining: 1m 51s\n",
      "37:\tlearn: 0.1421301\ttotal: 1m 7s\tremaining: 1m 49s\n",
      "38:\tlearn: 0.1415605\ttotal: 1m 8s\tremaining: 1m 47s\n",
      "39:\tlearn: 0.1407005\ttotal: 1m 10s\tremaining: 1m 46s\n",
      "40:\tlearn: 0.1401940\ttotal: 1m 12s\tremaining: 1m 44s\n",
      "41:\tlearn: 0.1396712\ttotal: 1m 14s\tremaining: 1m 42s\n",
      "42:\tlearn: 0.1385479\ttotal: 1m 15s\tremaining: 1m 40s\n",
      "43:\tlearn: 0.1379015\ttotal: 1m 17s\tremaining: 1m 38s\n",
      "44:\tlearn: 0.1372423\ttotal: 1m 19s\tremaining: 1m 36s\n",
      "45:\tlearn: 0.1367162\ttotal: 1m 21s\tremaining: 1m 35s\n",
      "46:\tlearn: 0.1359537\ttotal: 1m 22s\tremaining: 1m 33s\n",
      "47:\tlearn: 0.1355935\ttotal: 1m 24s\tremaining: 1m 31s\n",
      "48:\tlearn: 0.1351562\ttotal: 1m 26s\tremaining: 1m 29s\n",
      "49:\tlearn: 0.1346350\ttotal: 1m 27s\tremaining: 1m 27s\n",
      "50:\tlearn: 0.1341370\ttotal: 1m 29s\tremaining: 1m 26s\n",
      "51:\tlearn: 0.1335602\ttotal: 1m 31s\tremaining: 1m 24s\n",
      "52:\tlearn: 0.1332175\ttotal: 1m 33s\tremaining: 1m 22s\n",
      "53:\tlearn: 0.1327731\ttotal: 1m 34s\tremaining: 1m 20s\n",
      "54:\tlearn: 0.1322708\ttotal: 1m 36s\tremaining: 1m 18s\n",
      "55:\tlearn: 0.1314194\ttotal: 1m 38s\tremaining: 1m 17s\n",
      "56:\tlearn: 0.1310435\ttotal: 1m 39s\tremaining: 1m 15s\n",
      "57:\tlearn: 0.1305228\ttotal: 1m 41s\tremaining: 1m 13s\n",
      "58:\tlearn: 0.1301924\ttotal: 1m 43s\tremaining: 1m 11s\n",
      "59:\tlearn: 0.1298998\ttotal: 1m 44s\tremaining: 1m 9s\n",
      "60:\tlearn: 0.1289187\ttotal: 1m 46s\tremaining: 1m 8s\n",
      "61:\tlearn: 0.1286155\ttotal: 1m 48s\tremaining: 1m 6s\n",
      "62:\tlearn: 0.1281772\ttotal: 1m 49s\tremaining: 1m 4s\n",
      "63:\tlearn: 0.1278843\ttotal: 1m 51s\tremaining: 1m 2s\n",
      "64:\tlearn: 0.1276475\ttotal: 1m 52s\tremaining: 1m\n",
      "65:\tlearn: 0.1272450\ttotal: 1m 54s\tremaining: 59s\n",
      "66:\tlearn: 0.1268561\ttotal: 1m 56s\tremaining: 57.3s\n",
      "67:\tlearn: 0.1261901\ttotal: 1m 58s\tremaining: 55.5s\n",
      "68:\tlearn: 0.1259377\ttotal: 1m 59s\tremaining: 53.8s\n",
      "69:\tlearn: 0.1256606\ttotal: 2m 1s\tremaining: 52s\n",
      "70:\tlearn: 0.1250579\ttotal: 2m 3s\tremaining: 50.3s\n",
      "71:\tlearn: 0.1248375\ttotal: 2m 4s\tremaining: 48.5s\n",
      "72:\tlearn: 0.1241678\ttotal: 2m 6s\tremaining: 46.8s\n",
      "73:\tlearn: 0.1239490\ttotal: 2m 8s\tremaining: 45.1s\n",
      "74:\tlearn: 0.1235704\ttotal: 2m 10s\tremaining: 43.4s\n",
      "75:\tlearn: 0.1230307\ttotal: 2m 11s\tremaining: 41.7s\n",
      "76:\tlearn: 0.1223320\ttotal: 2m 13s\tremaining: 39.9s\n",
      "77:\tlearn: 0.1218752\ttotal: 2m 15s\tremaining: 38.2s\n",
      "78:\tlearn: 0.1214685\ttotal: 2m 17s\tremaining: 36.5s\n",
      "79:\tlearn: 0.1209764\ttotal: 2m 18s\tremaining: 34.7s\n",
      "80:\tlearn: 0.1206022\ttotal: 2m 20s\tremaining: 33s\n",
      "81:\tlearn: 0.1202239\ttotal: 2m 22s\tremaining: 31.3s\n",
      "82:\tlearn: 0.1198440\ttotal: 2m 24s\tremaining: 29.5s\n",
      "83:\tlearn: 0.1194444\ttotal: 2m 25s\tremaining: 27.8s\n",
      "84:\tlearn: 0.1192151\ttotal: 2m 27s\tremaining: 26s\n",
      "85:\tlearn: 0.1187622\ttotal: 2m 29s\tremaining: 24.3s\n",
      "86:\tlearn: 0.1185475\ttotal: 2m 31s\tremaining: 22.6s\n",
      "87:\tlearn: 0.1183106\ttotal: 2m 32s\tremaining: 20.8s\n",
      "88:\tlearn: 0.1180630\ttotal: 2m 34s\tremaining: 19.1s\n",
      "89:\tlearn: 0.1178327\ttotal: 2m 36s\tremaining: 17.4s\n",
      "90:\tlearn: 0.1174269\ttotal: 2m 37s\tremaining: 15.6s\n",
      "91:\tlearn: 0.1168803\ttotal: 2m 39s\tremaining: 13.9s\n",
      "92:\tlearn: 0.1166637\ttotal: 2m 41s\tremaining: 12.2s\n",
      "93:\tlearn: 0.1164723\ttotal: 2m 43s\tremaining: 10.4s\n",
      "94:\tlearn: 0.1162684\ttotal: 2m 44s\tremaining: 8.68s\n",
      "95:\tlearn: 0.1159237\ttotal: 2m 46s\tremaining: 6.94s\n",
      "96:\tlearn: 0.1154424\ttotal: 2m 48s\tremaining: 5.21s\n",
      "97:\tlearn: 0.1152289\ttotal: 2m 50s\tremaining: 3.47s\n",
      "98:\tlearn: 0.1150325\ttotal: 2m 51s\tremaining: 1.74s\n",
      "99:\tlearn: 0.1148252\ttotal: 2m 53s\tremaining: 0us\n",
      "Learning rate set to 0.315861\n",
      "0:\tlearn: 0.4286671\ttotal: 2.62s\tremaining: 8m 42s\n",
      "1:\tlearn: 0.3153277\ttotal: 4.58s\tremaining: 7m 33s\n",
      "2:\tlearn: 0.2668870\ttotal: 6.57s\tremaining: 7m 11s\n",
      "3:\tlearn: 0.2419940\ttotal: 8.56s\tremaining: 6m 59s\n",
      "4:\tlearn: 0.2262812\ttotal: 10.6s\tremaining: 6m 52s\n",
      "5:\tlearn: 0.2181286\ttotal: 12.6s\tremaining: 6m 47s\n",
      "6:\tlearn: 0.2118354\ttotal: 14.5s\tremaining: 6m 38s\n",
      "7:\tlearn: 0.2073844\ttotal: 16.3s\tremaining: 6m 32s\n",
      "8:\tlearn: 0.2019277\ttotal: 18.1s\tremaining: 6m 25s\n",
      "9:\tlearn: 0.1985087\ttotal: 20s\tremaining: 6m 19s\n",
      "10:\tlearn: 0.1949760\ttotal: 21.8s\tremaining: 6m 14s\n",
      "11:\tlearn: 0.1921738\ttotal: 23.6s\tremaining: 6m 9s\n",
      "12:\tlearn: 0.1895326\ttotal: 25.4s\tremaining: 6m 5s\n",
      "13:\tlearn: 0.1870489\ttotal: 27.2s\tremaining: 6m 1s\n",
      "14:\tlearn: 0.1842675\ttotal: 29s\tremaining: 5m 57s\n",
      "15:\tlearn: 0.1824918\ttotal: 30.8s\tremaining: 5m 53s\n",
      "16:\tlearn: 0.1809190\ttotal: 32.5s\tremaining: 5m 50s\n",
      "17:\tlearn: 0.1794330\ttotal: 34.3s\tremaining: 5m 46s\n",
      "18:\tlearn: 0.1777289\ttotal: 36.1s\tremaining: 5m 44s\n",
      "19:\tlearn: 0.1763066\ttotal: 37.8s\tremaining: 5m 40s\n",
      "20:\tlearn: 0.1744073\ttotal: 39.6s\tremaining: 5m 37s\n",
      "21:\tlearn: 0.1729577\ttotal: 41.4s\tremaining: 5m 34s\n",
      "22:\tlearn: 0.1709231\ttotal: 43s\tremaining: 5m 31s\n",
      "23:\tlearn: 0.1691143\ttotal: 44.8s\tremaining: 5m 28s\n",
      "24:\tlearn: 0.1680516\ttotal: 46.5s\tremaining: 5m 25s\n",
      "25:\tlearn: 0.1671404\ttotal: 48.2s\tremaining: 5m 22s\n",
      "26:\tlearn: 0.1661810\ttotal: 49.8s\tremaining: 5m 19s\n",
      "27:\tlearn: 0.1652185\ttotal: 51.5s\tremaining: 5m 16s\n",
      "28:\tlearn: 0.1640653\ttotal: 53.2s\tremaining: 5m 13s\n",
      "29:\tlearn: 0.1631178\ttotal: 54.8s\tremaining: 5m 10s\n",
      "30:\tlearn: 0.1620330\ttotal: 56.6s\tremaining: 5m 8s\n",
      "31:\tlearn: 0.1611427\ttotal: 58.2s\tremaining: 5m 5s\n",
      "32:\tlearn: 0.1601753\ttotal: 59.8s\tremaining: 5m 2s\n",
      "33:\tlearn: 0.1592749\ttotal: 1m 1s\tremaining: 5m\n",
      "34:\tlearn: 0.1585047\ttotal: 1m 3s\tremaining: 4m 58s\n",
      "35:\tlearn: 0.1577533\ttotal: 1m 4s\tremaining: 4m 55s\n",
      "36:\tlearn: 0.1568356\ttotal: 1m 6s\tremaining: 4m 53s\n",
      "37:\tlearn: 0.1556022\ttotal: 1m 8s\tremaining: 4m 51s\n",
      "38:\tlearn: 0.1549790\ttotal: 1m 9s\tremaining: 4m 48s\n",
      "39:\tlearn: 0.1542361\ttotal: 1m 11s\tremaining: 4m 46s\n",
      "40:\tlearn: 0.1536748\ttotal: 1m 13s\tremaining: 4m 44s\n",
      "41:\tlearn: 0.1529146\ttotal: 1m 15s\tremaining: 4m 42s\n",
      "42:\tlearn: 0.1523309\ttotal: 1m 16s\tremaining: 4m 40s\n",
      "43:\tlearn: 0.1513840\ttotal: 1m 18s\tremaining: 4m 37s\n",
      "44:\tlearn: 0.1506806\ttotal: 1m 20s\tremaining: 4m 35s\n",
      "45:\tlearn: 0.1500955\ttotal: 1m 21s\tremaining: 4m 33s\n",
      "46:\tlearn: 0.1494739\ttotal: 1m 23s\tremaining: 4m 31s\n",
      "47:\tlearn: 0.1486772\ttotal: 1m 24s\tremaining: 4m 29s\n",
      "48:\tlearn: 0.1478298\ttotal: 1m 26s\tremaining: 4m 27s\n",
      "49:\tlearn: 0.1472502\ttotal: 1m 28s\tremaining: 4m 24s\n",
      "50:\tlearn: 0.1466595\ttotal: 1m 29s\tremaining: 4m 22s\n",
      "51:\tlearn: 0.1462097\ttotal: 1m 31s\tremaining: 4m 20s\n",
      "52:\tlearn: 0.1456995\ttotal: 1m 33s\tremaining: 4m 18s\n",
      "53:\tlearn: 0.1451512\ttotal: 1m 34s\tremaining: 4m 16s\n",
      "54:\tlearn: 0.1444512\ttotal: 1m 36s\tremaining: 4m 14s\n",
      "55:\tlearn: 0.1438785\ttotal: 1m 37s\tremaining: 4m 11s\n",
      "56:\tlearn: 0.1431142\ttotal: 1m 39s\tremaining: 4m 10s\n",
      "57:\tlearn: 0.1427788\ttotal: 1m 41s\tremaining: 4m 8s\n",
      "58:\tlearn: 0.1419319\ttotal: 1m 43s\tremaining: 4m 6s\n",
      "59:\tlearn: 0.1412979\ttotal: 1m 44s\tremaining: 4m 4s\n",
      "60:\tlearn: 0.1407218\ttotal: 1m 46s\tremaining: 4m 2s\n",
      "61:\tlearn: 0.1402160\ttotal: 1m 48s\tremaining: 4m\n",
      "62:\tlearn: 0.1396442\ttotal: 1m 49s\tremaining: 3m 58s\n",
      "63:\tlearn: 0.1392876\ttotal: 1m 51s\tremaining: 3m 56s\n",
      "64:\tlearn: 0.1389773\ttotal: 1m 53s\tremaining: 3m 54s\n",
      "65:\tlearn: 0.1383426\ttotal: 1m 54s\tremaining: 3m 52s\n",
      "66:\tlearn: 0.1378468\ttotal: 1m 56s\tremaining: 3m 51s\n",
      "67:\tlearn: 0.1375531\ttotal: 1m 57s\tremaining: 3m 49s\n",
      "68:\tlearn: 0.1369665\ttotal: 1m 59s\tremaining: 3m 47s\n",
      "69:\tlearn: 0.1362651\ttotal: 2m 1s\tremaining: 3m 45s\n",
      "70:\tlearn: 0.1358598\ttotal: 2m 3s\tremaining: 3m 43s\n",
      "71:\tlearn: 0.1354977\ttotal: 2m 4s\tremaining: 3m 41s\n",
      "72:\tlearn: 0.1352142\ttotal: 2m 6s\tremaining: 3m 39s\n",
      "73:\tlearn: 0.1349918\ttotal: 2m 7s\tremaining: 3m 37s\n",
      "74:\tlearn: 0.1346407\ttotal: 2m 9s\tremaining: 3m 35s\n",
      "75:\tlearn: 0.1344373\ttotal: 2m 11s\tremaining: 3m 34s\n",
      "76:\tlearn: 0.1340727\ttotal: 2m 13s\tremaining: 3m 32s\n",
      "77:\tlearn: 0.1337807\ttotal: 2m 14s\tremaining: 3m 30s\n",
      "78:\tlearn: 0.1332974\ttotal: 2m 16s\tremaining: 3m 29s\n",
      "79:\tlearn: 0.1330916\ttotal: 2m 18s\tremaining: 3m 27s\n",
      "80:\tlearn: 0.1325701\ttotal: 2m 19s\tremaining: 3m 25s\n",
      "81:\tlearn: 0.1321254\ttotal: 2m 21s\tremaining: 3m 23s\n",
      "82:\tlearn: 0.1317155\ttotal: 2m 23s\tremaining: 3m 21s\n",
      "83:\tlearn: 0.1314972\ttotal: 2m 24s\tremaining: 3m 20s\n",
      "84:\tlearn: 0.1312283\ttotal: 2m 26s\tremaining: 3m 18s\n",
      "85:\tlearn: 0.1310159\ttotal: 2m 28s\tremaining: 3m 16s\n",
      "86:\tlearn: 0.1308148\ttotal: 2m 30s\tremaining: 3m 14s\n",
      "87:\tlearn: 0.1306245\ttotal: 2m 31s\tremaining: 3m 13s\n",
      "88:\tlearn: 0.1301303\ttotal: 2m 33s\tremaining: 3m 11s\n",
      "89:\tlearn: 0.1298095\ttotal: 2m 34s\tremaining: 3m 9s\n",
      "90:\tlearn: 0.1295591\ttotal: 2m 36s\tremaining: 3m 7s\n",
      "91:\tlearn: 0.1293614\ttotal: 2m 38s\tremaining: 3m 5s\n",
      "92:\tlearn: 0.1289429\ttotal: 2m 39s\tremaining: 3m 3s\n",
      "93:\tlearn: 0.1287785\ttotal: 2m 41s\tremaining: 3m 2s\n",
      "94:\tlearn: 0.1285066\ttotal: 2m 43s\tremaining: 3m\n",
      "95:\tlearn: 0.1281321\ttotal: 2m 44s\tremaining: 2m 58s\n",
      "96:\tlearn: 0.1279662\ttotal: 2m 46s\tremaining: 2m 56s\n",
      "97:\tlearn: 0.1276435\ttotal: 2m 48s\tremaining: 2m 55s\n",
      "98:\tlearn: 0.1271100\ttotal: 2m 49s\tremaining: 2m 53s\n",
      "99:\tlearn: 0.1269574\ttotal: 2m 51s\tremaining: 2m 51s\n",
      "100:\tlearn: 0.1265547\ttotal: 2m 53s\tremaining: 2m 49s\n",
      "101:\tlearn: 0.1258831\ttotal: 2m 54s\tremaining: 2m 48s\n",
      "102:\tlearn: 0.1256953\ttotal: 2m 56s\tremaining: 2m 46s\n",
      "103:\tlearn: 0.1255150\ttotal: 2m 58s\tremaining: 2m 44s\n",
      "104:\tlearn: 0.1251614\ttotal: 2m 59s\tremaining: 2m 42s\n",
      "105:\tlearn: 0.1249396\ttotal: 3m 1s\tremaining: 2m 41s\n",
      "106:\tlearn: 0.1247044\ttotal: 3m 3s\tremaining: 2m 39s\n",
      "107:\tlearn: 0.1242666\ttotal: 3m 5s\tremaining: 2m 37s\n",
      "108:\tlearn: 0.1239124\ttotal: 3m 6s\tremaining: 2m 36s\n",
      "109:\tlearn: 0.1237767\ttotal: 3m 8s\tremaining: 2m 34s\n",
      "110:\tlearn: 0.1234952\ttotal: 3m 10s\tremaining: 2m 32s\n",
      "111:\tlearn: 0.1232999\ttotal: 3m 12s\tremaining: 2m 31s\n",
      "112:\tlearn: 0.1228670\ttotal: 3m 13s\tremaining: 2m 29s\n",
      "113:\tlearn: 0.1226025\ttotal: 3m 15s\tremaining: 2m 27s\n",
      "114:\tlearn: 0.1222194\ttotal: 3m 17s\tremaining: 2m 25s\n",
      "115:\tlearn: 0.1218569\ttotal: 3m 19s\tremaining: 2m 24s\n",
      "116:\tlearn: 0.1216043\ttotal: 3m 21s\tremaining: 2m 22s\n",
      "117:\tlearn: 0.1212403\ttotal: 3m 22s\tremaining: 2m 20s\n",
      "118:\tlearn: 0.1210947\ttotal: 3m 24s\tremaining: 2m 19s\n",
      "119:\tlearn: 0.1208005\ttotal: 3m 26s\tremaining: 2m 17s\n",
      "120:\tlearn: 0.1203644\ttotal: 3m 27s\tremaining: 2m 15s\n",
      "121:\tlearn: 0.1202233\ttotal: 3m 29s\tremaining: 2m 14s\n",
      "122:\tlearn: 0.1199600\ttotal: 3m 31s\tremaining: 2m 12s\n",
      "123:\tlearn: 0.1197953\ttotal: 3m 33s\tremaining: 2m 10s\n",
      "124:\tlearn: 0.1196569\ttotal: 3m 34s\tremaining: 2m 8s\n",
      "125:\tlearn: 0.1195185\ttotal: 3m 36s\tremaining: 2m 7s\n",
      "126:\tlearn: 0.1192322\ttotal: 3m 38s\tremaining: 2m 5s\n",
      "127:\tlearn: 0.1190967\ttotal: 3m 39s\tremaining: 2m 3s\n",
      "128:\tlearn: 0.1189631\ttotal: 3m 41s\tremaining: 2m 1s\n",
      "129:\tlearn: 0.1188251\ttotal: 3m 43s\tremaining: 2m\n",
      "130:\tlearn: 0.1184293\ttotal: 3m 44s\tremaining: 1m 58s\n",
      "131:\tlearn: 0.1183032\ttotal: 3m 46s\tremaining: 1m 56s\n",
      "132:\tlearn: 0.1180096\ttotal: 3m 48s\tremaining: 1m 54s\n",
      "133:\tlearn: 0.1178692\ttotal: 3m 49s\tremaining: 1m 53s\n",
      "134:\tlearn: 0.1177520\ttotal: 3m 51s\tremaining: 1m 51s\n",
      "135:\tlearn: 0.1176225\ttotal: 3m 53s\tremaining: 1m 49s\n",
      "136:\tlearn: 0.1174832\ttotal: 3m 54s\tremaining: 1m 47s\n",
      "137:\tlearn: 0.1172350\ttotal: 3m 56s\tremaining: 1m 46s\n",
      "138:\tlearn: 0.1169640\ttotal: 3m 58s\tremaining: 1m 44s\n",
      "139:\tlearn: 0.1168404\ttotal: 3m 59s\tremaining: 1m 42s\n",
      "140:\tlearn: 0.1165329\ttotal: 4m 1s\tremaining: 1m 41s\n",
      "141:\tlearn: 0.1164082\ttotal: 4m 3s\tremaining: 1m 39s\n",
      "142:\tlearn: 0.1162634\ttotal: 4m 5s\tremaining: 1m 37s\n",
      "143:\tlearn: 0.1161434\ttotal: 4m 6s\tremaining: 1m 35s\n",
      "144:\tlearn: 0.1160390\ttotal: 4m 8s\tremaining: 1m 34s\n",
      "145:\tlearn: 0.1157785\ttotal: 4m 10s\tremaining: 1m 32s\n",
      "146:\tlearn: 0.1156617\ttotal: 4m 11s\tremaining: 1m 30s\n",
      "147:\tlearn: 0.1152530\ttotal: 4m 13s\tremaining: 1m 29s\n",
      "148:\tlearn: 0.1151508\ttotal: 4m 15s\tremaining: 1m 27s\n",
      "149:\tlearn: 0.1148992\ttotal: 4m 16s\tremaining: 1m 25s\n",
      "150:\tlearn: 0.1147970\ttotal: 4m 18s\tremaining: 1m 23s\n",
      "151:\tlearn: 0.1147022\ttotal: 4m 20s\tremaining: 1m 22s\n",
      "152:\tlearn: 0.1146041\ttotal: 4m 21s\tremaining: 1m 20s\n",
      "153:\tlearn: 0.1143755\ttotal: 4m 23s\tremaining: 1m 18s\n",
      "154:\tlearn: 0.1142770\ttotal: 4m 25s\tremaining: 1m 17s\n",
      "155:\tlearn: 0.1140663\ttotal: 4m 26s\tremaining: 1m 15s\n",
      "156:\tlearn: 0.1139370\ttotal: 4m 28s\tremaining: 1m 13s\n",
      "157:\tlearn: 0.1136980\ttotal: 4m 30s\tremaining: 1m 11s\n",
      "158:\tlearn: 0.1136015\ttotal: 4m 31s\tremaining: 1m 10s\n",
      "159:\tlearn: 0.1134997\ttotal: 4m 33s\tremaining: 1m 8s\n",
      "160:\tlearn: 0.1133984\ttotal: 4m 35s\tremaining: 1m 6s\n",
      "161:\tlearn: 0.1132860\ttotal: 4m 36s\tremaining: 1m 4s\n",
      "162:\tlearn: 0.1131932\ttotal: 4m 38s\tremaining: 1m 3s\n",
      "163:\tlearn: 0.1130965\ttotal: 4m 39s\tremaining: 1m 1s\n",
      "164:\tlearn: 0.1130014\ttotal: 4m 41s\tremaining: 59.7s\n",
      "165:\tlearn: 0.1128781\ttotal: 4m 43s\tremaining: 58s\n",
      "166:\tlearn: 0.1127106\ttotal: 4m 44s\tremaining: 56.3s\n",
      "167:\tlearn: 0.1126251\ttotal: 4m 46s\tremaining: 54.6s\n",
      "168:\tlearn: 0.1122541\ttotal: 4m 48s\tremaining: 52.9s\n",
      "169:\tlearn: 0.1118934\ttotal: 4m 50s\tremaining: 51.2s\n",
      "170:\tlearn: 0.1116092\ttotal: 4m 51s\tremaining: 49.5s\n",
      "171:\tlearn: 0.1114987\ttotal: 4m 53s\tremaining: 47.7s\n",
      "172:\tlearn: 0.1113836\ttotal: 4m 54s\tremaining: 46s\n",
      "173:\tlearn: 0.1111395\ttotal: 4m 56s\tremaining: 44.3s\n",
      "174:\tlearn: 0.1108569\ttotal: 4m 58s\tremaining: 42.6s\n",
      "175:\tlearn: 0.1107746\ttotal: 4m 59s\tremaining: 40.9s\n",
      "176:\tlearn: 0.1106840\ttotal: 5m 1s\tremaining: 39.1s\n",
      "177:\tlearn: 0.1103734\ttotal: 5m 3s\tremaining: 37.5s\n",
      "178:\tlearn: 0.1101389\ttotal: 5m 4s\tremaining: 35.8s\n",
      "179:\tlearn: 0.1100273\ttotal: 5m 6s\tremaining: 34s\n",
      "180:\tlearn: 0.1099377\ttotal: 5m 7s\tremaining: 32.3s\n",
      "181:\tlearn: 0.1098569\ttotal: 5m 9s\tremaining: 30.6s\n",
      "182:\tlearn: 0.1096645\ttotal: 5m 11s\tremaining: 28.9s\n",
      "183:\tlearn: 0.1095825\ttotal: 5m 12s\tremaining: 27.2s\n",
      "184:\tlearn: 0.1095014\ttotal: 5m 14s\tremaining: 25.5s\n",
      "185:\tlearn: 0.1094157\ttotal: 5m 16s\tremaining: 23.8s\n",
      "186:\tlearn: 0.1093365\ttotal: 5m 17s\tremaining: 22.1s\n",
      "187:\tlearn: 0.1090359\ttotal: 5m 19s\tremaining: 20.4s\n",
      "188:\tlearn: 0.1089592\ttotal: 5m 20s\tremaining: 18.7s\n",
      "189:\tlearn: 0.1088679\ttotal: 5m 22s\tremaining: 17s\n",
      "190:\tlearn: 0.1086685\ttotal: 5m 24s\tremaining: 15.3s\n",
      "191:\tlearn: 0.1083964\ttotal: 5m 26s\tremaining: 13.6s\n",
      "192:\tlearn: 0.1082931\ttotal: 5m 27s\tremaining: 11.9s\n",
      "193:\tlearn: 0.1081006\ttotal: 5m 29s\tremaining: 10.2s\n",
      "194:\tlearn: 0.1079684\ttotal: 5m 31s\tremaining: 8.49s\n",
      "195:\tlearn: 0.1078781\ttotal: 5m 32s\tremaining: 6.79s\n",
      "196:\tlearn: 0.1077959\ttotal: 5m 34s\tremaining: 5.09s\n",
      "197:\tlearn: 0.1077100\ttotal: 5m 36s\tremaining: 3.39s\n",
      "198:\tlearn: 0.1075346\ttotal: 5m 37s\tremaining: 1.7s\n",
      "199:\tlearn: 0.1073942\ttotal: 5m 39s\tremaining: 0us\n",
      "Learning rate set to 0.315861\n",
      "0:\tlearn: 0.4323553\ttotal: 2.38s\tremaining: 7m 52s\n",
      "1:\tlearn: 0.3167776\ttotal: 4.25s\tremaining: 7m\n",
      "2:\tlearn: 0.2688557\ttotal: 5.99s\tremaining: 6m 33s\n",
      "3:\tlearn: 0.2444783\ttotal: 7.77s\tremaining: 6m 20s\n",
      "4:\tlearn: 0.2291979\ttotal: 9.56s\tremaining: 6m 13s\n",
      "5:\tlearn: 0.2207634\ttotal: 11.3s\tremaining: 6m 5s\n",
      "6:\tlearn: 0.2147430\ttotal: 13.1s\tremaining: 6m\n",
      "7:\tlearn: 0.2089655\ttotal: 14.8s\tremaining: 5m 55s\n",
      "8:\tlearn: 0.2043406\ttotal: 16.5s\tremaining: 5m 50s\n",
      "9:\tlearn: 0.1989588\ttotal: 18.3s\tremaining: 5m 48s\n",
      "10:\tlearn: 0.1963053\ttotal: 20.1s\tremaining: 5m 46s\n",
      "11:\tlearn: 0.1937794\ttotal: 21.9s\tremaining: 5m 43s\n",
      "12:\tlearn: 0.1911166\ttotal: 23.7s\tremaining: 5m 41s\n",
      "13:\tlearn: 0.1879992\ttotal: 25.4s\tremaining: 5m 37s\n",
      "14:\tlearn: 0.1858560\ttotal: 27.1s\tremaining: 5m 34s\n",
      "15:\tlearn: 0.1844442\ttotal: 28.8s\tremaining: 5m 30s\n",
      "16:\tlearn: 0.1824609\ttotal: 30.4s\tremaining: 5m 27s\n",
      "17:\tlearn: 0.1804763\ttotal: 32.1s\tremaining: 5m 24s\n",
      "18:\tlearn: 0.1787438\ttotal: 33.8s\tremaining: 5m 22s\n",
      "19:\tlearn: 0.1774805\ttotal: 35.4s\tremaining: 5m 18s\n",
      "20:\tlearn: 0.1762862\ttotal: 37.2s\tremaining: 5m 16s\n",
      "21:\tlearn: 0.1747882\ttotal: 38.8s\tremaining: 5m 14s\n",
      "22:\tlearn: 0.1723748\ttotal: 40.6s\tremaining: 5m 12s\n",
      "23:\tlearn: 0.1712342\ttotal: 42.2s\tremaining: 5m 9s\n",
      "24:\tlearn: 0.1702591\ttotal: 43.9s\tremaining: 5m 7s\n",
      "25:\tlearn: 0.1688545\ttotal: 45.5s\tremaining: 5m 4s\n",
      "26:\tlearn: 0.1677553\ttotal: 47.2s\tremaining: 5m 2s\n",
      "27:\tlearn: 0.1669964\ttotal: 48.8s\tremaining: 4m 59s\n",
      "28:\tlearn: 0.1654506\ttotal: 50.5s\tremaining: 4m 57s\n",
      "29:\tlearn: 0.1643322\ttotal: 52.2s\tremaining: 4m 55s\n",
      "30:\tlearn: 0.1632920\ttotal: 54s\tremaining: 4m 54s\n",
      "31:\tlearn: 0.1625413\ttotal: 55.6s\tremaining: 4m 51s\n",
      "32:\tlearn: 0.1616249\ttotal: 57.2s\tremaining: 4m 49s\n",
      "33:\tlearn: 0.1607546\ttotal: 59s\tremaining: 4m 48s\n",
      "34:\tlearn: 0.1598514\ttotal: 1m\tremaining: 4m 46s\n",
      "35:\tlearn: 0.1590491\ttotal: 1m 2s\tremaining: 4m 44s\n",
      "36:\tlearn: 0.1583157\ttotal: 1m 4s\tremaining: 4m 42s\n",
      "37:\tlearn: 0.1576328\ttotal: 1m 5s\tremaining: 4m 40s\n",
      "38:\tlearn: 0.1569098\ttotal: 1m 7s\tremaining: 4m 38s\n",
      "39:\tlearn: 0.1560033\ttotal: 1m 9s\tremaining: 4m 36s\n",
      "40:\tlearn: 0.1552435\ttotal: 1m 10s\tremaining: 4m 34s\n",
      "41:\tlearn: 0.1545738\ttotal: 1m 12s\tremaining: 4m 32s\n",
      "42:\tlearn: 0.1538462\ttotal: 1m 14s\tremaining: 4m 30s\n",
      "43:\tlearn: 0.1525427\ttotal: 1m 15s\tremaining: 4m 28s\n",
      "44:\tlearn: 0.1519460\ttotal: 1m 17s\tremaining: 4m 26s\n",
      "45:\tlearn: 0.1514194\ttotal: 1m 19s\tremaining: 4m 24s\n",
      "46:\tlearn: 0.1506581\ttotal: 1m 20s\tremaining: 4m 22s\n",
      "47:\tlearn: 0.1501768\ttotal: 1m 22s\tremaining: 4m 20s\n",
      "48:\tlearn: 0.1495522\ttotal: 1m 23s\tremaining: 4m 18s\n",
      "49:\tlearn: 0.1487241\ttotal: 1m 25s\tremaining: 4m 16s\n",
      "50:\tlearn: 0.1482325\ttotal: 1m 27s\tremaining: 4m 14s\n",
      "51:\tlearn: 0.1476754\ttotal: 1m 28s\tremaining: 4m 13s\n",
      "52:\tlearn: 0.1470048\ttotal: 1m 30s\tremaining: 4m 11s\n",
      "53:\tlearn: 0.1465335\ttotal: 1m 32s\tremaining: 4m 9s\n",
      "54:\tlearn: 0.1461004\ttotal: 1m 34s\tremaining: 4m 8s\n",
      "55:\tlearn: 0.1454619\ttotal: 1m 35s\tremaining: 4m 6s\n",
      "56:\tlearn: 0.1446078\ttotal: 1m 37s\tremaining: 4m 4s\n",
      "57:\tlearn: 0.1440428\ttotal: 1m 39s\tremaining: 4m 3s\n",
      "58:\tlearn: 0.1436516\ttotal: 1m 40s\tremaining: 4m 1s\n",
      "59:\tlearn: 0.1429577\ttotal: 1m 42s\tremaining: 3m 59s\n",
      "60:\tlearn: 0.1421861\ttotal: 1m 44s\tremaining: 3m 57s\n",
      "61:\tlearn: 0.1415603\ttotal: 1m 45s\tremaining: 3m 55s\n",
      "62:\tlearn: 0.1410630\ttotal: 1m 47s\tremaining: 3m 53s\n",
      "63:\tlearn: 0.1405723\ttotal: 1m 49s\tremaining: 3m 51s\n",
      "64:\tlearn: 0.1402779\ttotal: 1m 50s\tremaining: 3m 49s\n",
      "65:\tlearn: 0.1399828\ttotal: 1m 52s\tremaining: 3m 48s\n",
      "66:\tlearn: 0.1395341\ttotal: 1m 54s\tremaining: 3m 46s\n",
      "67:\tlearn: 0.1390563\ttotal: 1m 55s\tremaining: 3m 44s\n",
      "68:\tlearn: 0.1386595\ttotal: 1m 57s\tremaining: 3m 42s\n",
      "69:\tlearn: 0.1383583\ttotal: 1m 59s\tremaining: 3m 41s\n",
      "70:\tlearn: 0.1380179\ttotal: 2m\tremaining: 3m 39s\n",
      "71:\tlearn: 0.1375367\ttotal: 2m 2s\tremaining: 3m 37s\n",
      "72:\tlearn: 0.1372757\ttotal: 2m 4s\tremaining: 3m 35s\n",
      "73:\tlearn: 0.1368722\ttotal: 2m 5s\tremaining: 3m 34s\n",
      "74:\tlearn: 0.1366148\ttotal: 2m 7s\tremaining: 3m 32s\n",
      "75:\tlearn: 0.1363835\ttotal: 2m 9s\tremaining: 3m 30s\n",
      "76:\tlearn: 0.1360840\ttotal: 2m 10s\tremaining: 3m 28s\n",
      "77:\tlearn: 0.1354107\ttotal: 2m 12s\tremaining: 3m 27s\n",
      "78:\tlearn: 0.1349816\ttotal: 2m 14s\tremaining: 3m 25s\n",
      "79:\tlearn: 0.1344930\ttotal: 2m 15s\tremaining: 3m 23s\n",
      "80:\tlearn: 0.1342471\ttotal: 2m 17s\tremaining: 3m 21s\n",
      "81:\tlearn: 0.1338939\ttotal: 2m 18s\tremaining: 3m 20s\n",
      "82:\tlearn: 0.1336803\ttotal: 2m 20s\tremaining: 3m 18s\n",
      "83:\tlearn: 0.1334822\ttotal: 2m 22s\tremaining: 3m 16s\n",
      "84:\tlearn: 0.1331630\ttotal: 2m 24s\tremaining: 3m 15s\n",
      "85:\tlearn: 0.1328184\ttotal: 2m 25s\tremaining: 3m 13s\n",
      "86:\tlearn: 0.1326446\ttotal: 2m 27s\tremaining: 3m 11s\n",
      "87:\tlearn: 0.1324436\ttotal: 2m 29s\tremaining: 3m 9s\n",
      "88:\tlearn: 0.1320658\ttotal: 2m 30s\tremaining: 3m 7s\n",
      "89:\tlearn: 0.1318782\ttotal: 2m 32s\tremaining: 3m 6s\n",
      "90:\tlearn: 0.1314345\ttotal: 2m 33s\tremaining: 3m 4s\n",
      "91:\tlearn: 0.1309769\ttotal: 2m 35s\tremaining: 3m 2s\n",
      "92:\tlearn: 0.1307655\ttotal: 2m 37s\tremaining: 3m\n",
      "93:\tlearn: 0.1306004\ttotal: 2m 38s\tremaining: 2m 59s\n",
      "94:\tlearn: 0.1304465\ttotal: 2m 40s\tremaining: 2m 57s\n",
      "95:\tlearn: 0.1302851\ttotal: 2m 42s\tremaining: 2m 55s\n",
      "96:\tlearn: 0.1299327\ttotal: 2m 43s\tremaining: 2m 53s\n",
      "97:\tlearn: 0.1295783\ttotal: 2m 45s\tremaining: 2m 52s\n",
      "98:\tlearn: 0.1292629\ttotal: 2m 47s\tremaining: 2m 50s\n",
      "99:\tlearn: 0.1288835\ttotal: 2m 48s\tremaining: 2m 48s\n",
      "100:\tlearn: 0.1285938\ttotal: 2m 50s\tremaining: 2m 46s\n",
      "101:\tlearn: 0.1284277\ttotal: 2m 51s\tremaining: 2m 45s\n",
      "102:\tlearn: 0.1281306\ttotal: 2m 53s\tremaining: 2m 43s\n",
      "103:\tlearn: 0.1275915\ttotal: 2m 55s\tremaining: 2m 41s\n",
      "104:\tlearn: 0.1271627\ttotal: 2m 56s\tremaining: 2m 40s\n",
      "105:\tlearn: 0.1269453\ttotal: 2m 58s\tremaining: 2m 38s\n",
      "106:\tlearn: 0.1267977\ttotal: 3m\tremaining: 2m 36s\n",
      "107:\tlearn: 0.1263905\ttotal: 3m 2s\tremaining: 2m 35s\n",
      "108:\tlearn: 0.1260245\ttotal: 3m 3s\tremaining: 2m 33s\n",
      "109:\tlearn: 0.1257583\ttotal: 3m 5s\tremaining: 2m 31s\n",
      "110:\tlearn: 0.1254521\ttotal: 3m 7s\tremaining: 2m 30s\n",
      "111:\tlearn: 0.1250644\ttotal: 3m 8s\tremaining: 2m 28s\n",
      "112:\tlearn: 0.1247611\ttotal: 3m 10s\tremaining: 2m 26s\n",
      "113:\tlearn: 0.1246078\ttotal: 3m 12s\tremaining: 2m 24s\n",
      "114:\tlearn: 0.1242846\ttotal: 3m 13s\tremaining: 2m 23s\n",
      "115:\tlearn: 0.1239423\ttotal: 3m 15s\tremaining: 2m 21s\n",
      "116:\tlearn: 0.1237932\ttotal: 3m 17s\tremaining: 2m 19s\n",
      "117:\tlearn: 0.1236564\ttotal: 3m 18s\tremaining: 2m 18s\n",
      "118:\tlearn: 0.1232097\ttotal: 3m 20s\tremaining: 2m 16s\n",
      "119:\tlearn: 0.1230698\ttotal: 3m 21s\tremaining: 2m 14s\n",
      "120:\tlearn: 0.1228067\ttotal: 3m 23s\tremaining: 2m 13s\n",
      "121:\tlearn: 0.1225422\ttotal: 3m 25s\tremaining: 2m 11s\n",
      "122:\tlearn: 0.1223971\ttotal: 3m 26s\tremaining: 2m 9s\n",
      "123:\tlearn: 0.1222438\ttotal: 3m 28s\tremaining: 2m 7s\n",
      "124:\tlearn: 0.1220489\ttotal: 3m 30s\tremaining: 2m 6s\n",
      "125:\tlearn: 0.1219017\ttotal: 3m 31s\tremaining: 2m 4s\n",
      "126:\tlearn: 0.1217494\ttotal: 3m 33s\tremaining: 2m 2s\n",
      "127:\tlearn: 0.1216036\ttotal: 3m 34s\tremaining: 2m\n",
      "128:\tlearn: 0.1211772\ttotal: 3m 36s\tremaining: 1m 59s\n",
      "129:\tlearn: 0.1210394\ttotal: 3m 38s\tremaining: 1m 57s\n",
      "130:\tlearn: 0.1208967\ttotal: 3m 39s\tremaining: 1m 55s\n",
      "131:\tlearn: 0.1207693\ttotal: 3m 41s\tremaining: 1m 54s\n",
      "132:\tlearn: 0.1204415\ttotal: 3m 43s\tremaining: 1m 52s\n",
      "133:\tlearn: 0.1203103\ttotal: 3m 44s\tremaining: 1m 50s\n",
      "134:\tlearn: 0.1201863\ttotal: 3m 46s\tremaining: 1m 49s\n",
      "135:\tlearn: 0.1200638\ttotal: 3m 48s\tremaining: 1m 47s\n",
      "136:\tlearn: 0.1195956\ttotal: 3m 49s\tremaining: 1m 45s\n",
      "137:\tlearn: 0.1194734\ttotal: 3m 51s\tremaining: 1m 43s\n",
      "138:\tlearn: 0.1191859\ttotal: 3m 53s\tremaining: 1m 42s\n",
      "139:\tlearn: 0.1190683\ttotal: 3m 54s\tremaining: 1m 40s\n",
      "140:\tlearn: 0.1187979\ttotal: 3m 56s\tremaining: 1m 39s\n",
      "141:\tlearn: 0.1186828\ttotal: 3m 58s\tremaining: 1m 37s\n",
      "142:\tlearn: 0.1185759\ttotal: 4m\tremaining: 1m 35s\n",
      "143:\tlearn: 0.1183151\ttotal: 4m 2s\tremaining: 1m 34s\n",
      "144:\tlearn: 0.1181591\ttotal: 4m 4s\tremaining: 1m 32s\n",
      "145:\tlearn: 0.1179281\ttotal: 4m 5s\tremaining: 1m 30s\n",
      "146:\tlearn: 0.1178231\ttotal: 4m 7s\tremaining: 1m 29s\n",
      "147:\tlearn: 0.1177119\ttotal: 4m 9s\tremaining: 1m 27s\n",
      "148:\tlearn: 0.1175878\ttotal: 4m 10s\tremaining: 1m 25s\n",
      "149:\tlearn: 0.1174716\ttotal: 4m 12s\tremaining: 1m 24s\n",
      "150:\tlearn: 0.1172291\ttotal: 4m 14s\tremaining: 1m 22s\n",
      "151:\tlearn: 0.1171267\ttotal: 4m 15s\tremaining: 1m 20s\n",
      "152:\tlearn: 0.1170028\ttotal: 4m 17s\tremaining: 1m 19s\n",
      "153:\tlearn: 0.1168947\ttotal: 4m 19s\tremaining: 1m 17s\n",
      "154:\tlearn: 0.1167933\ttotal: 4m 20s\tremaining: 1m 15s\n",
      "155:\tlearn: 0.1165900\ttotal: 4m 22s\tremaining: 1m 14s\n",
      "156:\tlearn: 0.1162754\ttotal: 4m 24s\tremaining: 1m 12s\n",
      "157:\tlearn: 0.1159070\ttotal: 4m 26s\tremaining: 1m 10s\n",
      "158:\tlearn: 0.1157910\ttotal: 4m 27s\tremaining: 1m 9s\n",
      "159:\tlearn: 0.1155631\ttotal: 4m 29s\tremaining: 1m 7s\n",
      "160:\tlearn: 0.1154646\ttotal: 4m 31s\tremaining: 1m 5s\n",
      "161:\tlearn: 0.1151561\ttotal: 4m 33s\tremaining: 1m 4s\n",
      "162:\tlearn: 0.1150391\ttotal: 4m 34s\tremaining: 1m 2s\n",
      "163:\tlearn: 0.1147079\ttotal: 4m 36s\tremaining: 1m\n",
      "164:\tlearn: 0.1146148\ttotal: 4m 38s\tremaining: 59s\n",
      "165:\tlearn: 0.1145088\ttotal: 4m 39s\tremaining: 57.3s\n",
      "166:\tlearn: 0.1144092\ttotal: 4m 41s\tremaining: 55.6s\n",
      "167:\tlearn: 0.1143181\ttotal: 4m 43s\tremaining: 54s\n",
      "168:\tlearn: 0.1142201\ttotal: 4m 44s\tremaining: 52.3s\n",
      "169:\tlearn: 0.1140194\ttotal: 4m 46s\tremaining: 50.6s\n",
      "170:\tlearn: 0.1138239\ttotal: 4m 48s\tremaining: 48.9s\n",
      "171:\tlearn: 0.1135861\ttotal: 4m 50s\tremaining: 47.2s\n",
      "172:\tlearn: 0.1133073\ttotal: 4m 51s\tremaining: 45.6s\n",
      "173:\tlearn: 0.1131546\ttotal: 4m 53s\tremaining: 43.9s\n",
      "174:\tlearn: 0.1130687\ttotal: 4m 55s\tremaining: 42.2s\n",
      "175:\tlearn: 0.1129961\ttotal: 4m 57s\tremaining: 40.5s\n",
      "176:\tlearn: 0.1129033\ttotal: 4m 58s\tremaining: 38.8s\n",
      "177:\tlearn: 0.1128246\ttotal: 5m\tremaining: 37.1s\n",
      "178:\tlearn: 0.1125600\ttotal: 5m 2s\tremaining: 35.5s\n",
      "179:\tlearn: 0.1124354\ttotal: 5m 4s\tremaining: 33.8s\n",
      "180:\tlearn: 0.1122274\ttotal: 5m 6s\tremaining: 32.1s\n",
      "181:\tlearn: 0.1121381\ttotal: 5m 7s\tremaining: 30.4s\n",
      "182:\tlearn: 0.1120549\ttotal: 5m 9s\tremaining: 28.8s\n",
      "183:\tlearn: 0.1118262\ttotal: 5m 11s\tremaining: 27.1s\n",
      "184:\tlearn: 0.1116780\ttotal: 5m 13s\tremaining: 25.4s\n",
      "185:\tlearn: 0.1115682\ttotal: 5m 14s\tremaining: 23.7s\n",
      "186:\tlearn: 0.1114875\ttotal: 5m 16s\tremaining: 22s\n",
      "187:\tlearn: 0.1112180\ttotal: 5m 18s\tremaining: 20.3s\n",
      "188:\tlearn: 0.1111363\ttotal: 5m 20s\tremaining: 18.6s\n",
      "189:\tlearn: 0.1110566\ttotal: 5m 21s\tremaining: 16.9s\n",
      "190:\tlearn: 0.1109591\ttotal: 5m 23s\tremaining: 15.2s\n",
      "191:\tlearn: 0.1107915\ttotal: 5m 25s\tremaining: 13.6s\n",
      "192:\tlearn: 0.1106986\ttotal: 5m 26s\tremaining: 11.9s\n",
      "193:\tlearn: 0.1104598\ttotal: 5m 28s\tremaining: 10.2s\n",
      "194:\tlearn: 0.1101725\ttotal: 5m 30s\tremaining: 8.48s\n",
      "195:\tlearn: 0.1099790\ttotal: 5m 32s\tremaining: 6.78s\n",
      "196:\tlearn: 0.1098293\ttotal: 5m 34s\tremaining: 5.09s\n",
      "197:\tlearn: 0.1097206\ttotal: 5m 35s\tremaining: 3.39s\n",
      "198:\tlearn: 0.1096464\ttotal: 5m 37s\tremaining: 1.7s\n",
      "199:\tlearn: 0.1095692\ttotal: 5m 39s\tremaining: 0us\n",
      "Learning rate set to 0.315861\n",
      "0:\tlearn: 0.4371122\ttotal: 2.31s\tremaining: 7m 39s\n",
      "1:\tlearn: 0.3207583\ttotal: 4.05s\tremaining: 6m 41s\n",
      "2:\tlearn: 0.2703968\ttotal: 5.9s\tremaining: 6m 27s\n",
      "3:\tlearn: 0.2431708\ttotal: 7.71s\tremaining: 6m 17s\n",
      "4:\tlearn: 0.2296406\ttotal: 9.44s\tremaining: 6m 7s\n",
      "5:\tlearn: 0.2214439\ttotal: 11.1s\tremaining: 6m\n",
      "6:\tlearn: 0.2138509\ttotal: 12.9s\tremaining: 5m 54s\n",
      "7:\tlearn: 0.2087387\ttotal: 14.7s\tremaining: 5m 52s\n",
      "8:\tlearn: 0.2046133\ttotal: 16.5s\tremaining: 5m 49s\n",
      "9:\tlearn: 0.2015437\ttotal: 18.2s\tremaining: 5m 45s\n",
      "10:\tlearn: 0.1984946\ttotal: 19.9s\tremaining: 5m 42s\n",
      "11:\tlearn: 0.1949982\ttotal: 21.6s\tremaining: 5m 38s\n",
      "12:\tlearn: 0.1923712\ttotal: 23.3s\tremaining: 5m 35s\n",
      "13:\tlearn: 0.1900434\ttotal: 25s\tremaining: 5m 32s\n",
      "14:\tlearn: 0.1882615\ttotal: 26.8s\tremaining: 5m 30s\n",
      "15:\tlearn: 0.1863281\ttotal: 28.5s\tremaining: 5m 27s\n",
      "16:\tlearn: 0.1839717\ttotal: 30.2s\tremaining: 5m 25s\n",
      "17:\tlearn: 0.1817335\ttotal: 32s\tremaining: 5m 23s\n",
      "18:\tlearn: 0.1790255\ttotal: 33.7s\tremaining: 5m 21s\n",
      "19:\tlearn: 0.1775447\ttotal: 35.4s\tremaining: 5m 18s\n",
      "20:\tlearn: 0.1762817\ttotal: 37.1s\tremaining: 5m 16s\n",
      "21:\tlearn: 0.1746079\ttotal: 38.8s\tremaining: 5m 13s\n",
      "22:\tlearn: 0.1734146\ttotal: 40.5s\tremaining: 5m 11s\n",
      "23:\tlearn: 0.1719114\ttotal: 42.2s\tremaining: 5m 9s\n",
      "24:\tlearn: 0.1704169\ttotal: 43.8s\tremaining: 5m 6s\n",
      "25:\tlearn: 0.1692724\ttotal: 45.5s\tremaining: 5m 4s\n",
      "26:\tlearn: 0.1682019\ttotal: 47.2s\tremaining: 5m 2s\n",
      "27:\tlearn: 0.1670178\ttotal: 48.8s\tremaining: 4m 59s\n",
      "28:\tlearn: 0.1658991\ttotal: 50.6s\tremaining: 4m 58s\n",
      "29:\tlearn: 0.1650140\ttotal: 52.3s\tremaining: 4m 56s\n",
      "30:\tlearn: 0.1639916\ttotal: 54s\tremaining: 4m 54s\n",
      "31:\tlearn: 0.1631204\ttotal: 55.8s\tremaining: 4m 52s\n",
      "32:\tlearn: 0.1623244\ttotal: 57.4s\tremaining: 4m 50s\n",
      "33:\tlearn: 0.1614920\ttotal: 59.1s\tremaining: 4m 48s\n",
      "34:\tlearn: 0.1604417\ttotal: 1m\tremaining: 4m 46s\n",
      "35:\tlearn: 0.1596173\ttotal: 1m 2s\tremaining: 4m 44s\n",
      "36:\tlearn: 0.1589577\ttotal: 1m 4s\tremaining: 4m 42s\n",
      "37:\tlearn: 0.1581677\ttotal: 1m 5s\tremaining: 4m 41s\n",
      "38:\tlearn: 0.1575036\ttotal: 1m 7s\tremaining: 4m 38s\n",
      "39:\tlearn: 0.1566011\ttotal: 1m 9s\tremaining: 4m 36s\n",
      "40:\tlearn: 0.1556190\ttotal: 1m 10s\tremaining: 4m 34s\n",
      "41:\tlearn: 0.1545338\ttotal: 1m 12s\tremaining: 4m 32s\n",
      "42:\tlearn: 0.1538266\ttotal: 1m 14s\tremaining: 4m 30s\n",
      "43:\tlearn: 0.1531910\ttotal: 1m 15s\tremaining: 4m 28s\n",
      "44:\tlearn: 0.1525250\ttotal: 1m 17s\tremaining: 4m 26s\n",
      "45:\tlearn: 0.1519364\ttotal: 1m 18s\tremaining: 4m 24s\n",
      "46:\tlearn: 0.1511668\ttotal: 1m 20s\tremaining: 4m 22s\n",
      "47:\tlearn: 0.1501579\ttotal: 1m 22s\tremaining: 4m 20s\n",
      "48:\tlearn: 0.1495259\ttotal: 1m 23s\tremaining: 4m 18s\n",
      "49:\tlearn: 0.1491002\ttotal: 1m 25s\tremaining: 4m 16s\n",
      "50:\tlearn: 0.1485425\ttotal: 1m 27s\tremaining: 4m 15s\n",
      "51:\tlearn: 0.1477612\ttotal: 1m 29s\tremaining: 4m 13s\n",
      "52:\tlearn: 0.1472784\ttotal: 1m 30s\tremaining: 4m 11s\n",
      "53:\tlearn: 0.1468303\ttotal: 1m 32s\tremaining: 4m 10s\n",
      "54:\tlearn: 0.1463658\ttotal: 1m 34s\tremaining: 4m 8s\n",
      "55:\tlearn: 0.1459345\ttotal: 1m 35s\tremaining: 4m 6s\n",
      "56:\tlearn: 0.1450130\ttotal: 1m 37s\tremaining: 4m 4s\n",
      "57:\tlearn: 0.1445287\ttotal: 1m 39s\tremaining: 4m 2s\n",
      "58:\tlearn: 0.1437266\ttotal: 1m 40s\tremaining: 4m\n",
      "59:\tlearn: 0.1429129\ttotal: 1m 42s\tremaining: 3m 58s\n",
      "60:\tlearn: 0.1425724\ttotal: 1m 43s\tremaining: 3m 56s\n",
      "61:\tlearn: 0.1421174\ttotal: 1m 45s\tremaining: 3m 54s\n",
      "62:\tlearn: 0.1417106\ttotal: 1m 47s\tremaining: 3m 52s\n",
      "63:\tlearn: 0.1411873\ttotal: 1m 48s\tremaining: 3m 50s\n",
      "64:\tlearn: 0.1406676\ttotal: 1m 50s\tremaining: 3m 49s\n",
      "65:\tlearn: 0.1403869\ttotal: 1m 51s\tremaining: 3m 47s\n",
      "66:\tlearn: 0.1400428\ttotal: 1m 53s\tremaining: 3m 45s\n",
      "67:\tlearn: 0.1396675\ttotal: 1m 55s\tremaining: 3m 43s\n",
      "68:\tlearn: 0.1393417\ttotal: 1m 56s\tremaining: 3m 41s\n",
      "69:\tlearn: 0.1387881\ttotal: 1m 58s\tremaining: 3m 39s\n",
      "70:\tlearn: 0.1384475\ttotal: 2m\tremaining: 3m 38s\n",
      "71:\tlearn: 0.1379674\ttotal: 2m 1s\tremaining: 3m 36s\n",
      "72:\tlearn: 0.1377063\ttotal: 2m 3s\tremaining: 3m 34s\n",
      "73:\tlearn: 0.1368635\ttotal: 2m 5s\tremaining: 3m 33s\n",
      "74:\tlearn: 0.1364987\ttotal: 2m 6s\tremaining: 3m 31s\n",
      "75:\tlearn: 0.1362539\ttotal: 2m 8s\tremaining: 3m 29s\n",
      "76:\tlearn: 0.1359069\ttotal: 2m 9s\tremaining: 3m 27s\n",
      "77:\tlearn: 0.1356671\ttotal: 2m 11s\tremaining: 3m 25s\n",
      "78:\tlearn: 0.1352005\ttotal: 2m 13s\tremaining: 3m 23s\n",
      "79:\tlearn: 0.1349903\ttotal: 2m 14s\tremaining: 3m 22s\n",
      "80:\tlearn: 0.1347878\ttotal: 2m 16s\tremaining: 3m 20s\n",
      "81:\tlearn: 0.1344633\ttotal: 2m 17s\tremaining: 3m 18s\n",
      "82:\tlearn: 0.1342842\ttotal: 2m 19s\tremaining: 3m 16s\n",
      "83:\tlearn: 0.1339643\ttotal: 2m 21s\tremaining: 3m 15s\n",
      "84:\tlearn: 0.1335529\ttotal: 2m 22s\tremaining: 3m 13s\n",
      "85:\tlearn: 0.1331517\ttotal: 2m 24s\tremaining: 3m 11s\n",
      "86:\tlearn: 0.1329636\ttotal: 2m 26s\tremaining: 3m 10s\n",
      "87:\tlearn: 0.1323912\ttotal: 2m 28s\tremaining: 3m 8s\n",
      "88:\tlearn: 0.1321868\ttotal: 2m 29s\tremaining: 3m 6s\n",
      "89:\tlearn: 0.1318673\ttotal: 2m 31s\tremaining: 3m 5s\n",
      "90:\tlearn: 0.1315966\ttotal: 2m 33s\tremaining: 3m 3s\n",
      "91:\tlearn: 0.1310597\ttotal: 2m 34s\tremaining: 3m 1s\n",
      "92:\tlearn: 0.1308799\ttotal: 2m 36s\tremaining: 2m 59s\n",
      "93:\tlearn: 0.1307132\ttotal: 2m 37s\tremaining: 2m 58s\n",
      "94:\tlearn: 0.1303499\ttotal: 2m 39s\tremaining: 2m 56s\n",
      "95:\tlearn: 0.1298834\ttotal: 2m 41s\tremaining: 2m 54s\n",
      "96:\tlearn: 0.1294882\ttotal: 2m 42s\tremaining: 2m 52s\n",
      "97:\tlearn: 0.1292134\ttotal: 2m 44s\tremaining: 2m 51s\n",
      "98:\tlearn: 0.1290554\ttotal: 2m 46s\tremaining: 2m 49s\n",
      "99:\tlearn: 0.1288913\ttotal: 2m 47s\tremaining: 2m 47s\n",
      "100:\tlearn: 0.1285011\ttotal: 2m 49s\tremaining: 2m 45s\n",
      "101:\tlearn: 0.1282635\ttotal: 2m 50s\tremaining: 2m 44s\n",
      "102:\tlearn: 0.1279103\ttotal: 2m 52s\tremaining: 2m 42s\n",
      "103:\tlearn: 0.1277419\ttotal: 2m 54s\tremaining: 2m 40s\n",
      "104:\tlearn: 0.1275595\ttotal: 2m 55s\tremaining: 2m 38s\n",
      "105:\tlearn: 0.1271310\ttotal: 2m 57s\tremaining: 2m 37s\n",
      "106:\tlearn: 0.1267925\ttotal: 2m 59s\tremaining: 2m 35s\n",
      "107:\tlearn: 0.1266344\ttotal: 3m 1s\tremaining: 2m 34s\n",
      "108:\tlearn: 0.1264071\ttotal: 3m 2s\tremaining: 2m 32s\n",
      "109:\tlearn: 0.1262136\ttotal: 3m 4s\tremaining: 2m 30s\n",
      "110:\tlearn: 0.1259569\ttotal: 3m 6s\tremaining: 2m 29s\n",
      "111:\tlearn: 0.1255122\ttotal: 3m 7s\tremaining: 2m 27s\n",
      "112:\tlearn: 0.1250752\ttotal: 3m 9s\tremaining: 2m 25s\n",
      "113:\tlearn: 0.1248001\ttotal: 3m 11s\tremaining: 2m 24s\n",
      "114:\tlearn: 0.1244106\ttotal: 3m 12s\tremaining: 2m 22s\n",
      "115:\tlearn: 0.1242588\ttotal: 3m 14s\tremaining: 2m 20s\n",
      "116:\tlearn: 0.1240469\ttotal: 3m 16s\tremaining: 2m 19s\n",
      "117:\tlearn: 0.1236640\ttotal: 3m 17s\tremaining: 2m 17s\n",
      "118:\tlearn: 0.1235064\ttotal: 3m 19s\tremaining: 2m 15s\n",
      "119:\tlearn: 0.1232508\ttotal: 3m 21s\tremaining: 2m 14s\n",
      "120:\tlearn: 0.1229182\ttotal: 3m 23s\tremaining: 2m 12s\n",
      "121:\tlearn: 0.1227715\ttotal: 3m 24s\tremaining: 2m 10s\n",
      "122:\tlearn: 0.1226347\ttotal: 3m 26s\tremaining: 2m 9s\n",
      "123:\tlearn: 0.1222910\ttotal: 3m 28s\tremaining: 2m 7s\n",
      "124:\tlearn: 0.1218433\ttotal: 3m 30s\tremaining: 2m 6s\n",
      "125:\tlearn: 0.1216936\ttotal: 3m 32s\tremaining: 2m 4s\n",
      "126:\tlearn: 0.1213791\ttotal: 3m 33s\tremaining: 2m 2s\n",
      "127:\tlearn: 0.1212453\ttotal: 3m 35s\tremaining: 2m 1s\n",
      "128:\tlearn: 0.1210625\ttotal: 3m 37s\tremaining: 1m 59s\n",
      "129:\tlearn: 0.1207422\ttotal: 3m 38s\tremaining: 1m 57s\n",
      "130:\tlearn: 0.1205007\ttotal: 3m 40s\tremaining: 1m 56s\n",
      "131:\tlearn: 0.1201925\ttotal: 3m 42s\tremaining: 1m 54s\n",
      "132:\tlearn: 0.1200025\ttotal: 3m 43s\tremaining: 1m 52s\n",
      "133:\tlearn: 0.1195999\ttotal: 3m 45s\tremaining: 1m 51s\n",
      "134:\tlearn: 0.1194577\ttotal: 3m 47s\tremaining: 1m 49s\n",
      "135:\tlearn: 0.1193260\ttotal: 3m 49s\tremaining: 1m 47s\n",
      "136:\tlearn: 0.1192067\ttotal: 3m 50s\tremaining: 1m 46s\n",
      "137:\tlearn: 0.1190789\ttotal: 3m 52s\tremaining: 1m 44s\n",
      "138:\tlearn: 0.1189497\ttotal: 3m 54s\tremaining: 1m 42s\n",
      "139:\tlearn: 0.1188249\ttotal: 3m 55s\tremaining: 1m 41s\n",
      "140:\tlearn: 0.1187094\ttotal: 3m 57s\tremaining: 1m 39s\n",
      "141:\tlearn: 0.1185873\ttotal: 3m 59s\tremaining: 1m 37s\n",
      "142:\tlearn: 0.1183294\ttotal: 4m 1s\tremaining: 1m 36s\n",
      "143:\tlearn: 0.1182157\ttotal: 4m 2s\tremaining: 1m 34s\n",
      "144:\tlearn: 0.1178679\ttotal: 4m 4s\tremaining: 1m 32s\n",
      "145:\tlearn: 0.1176736\ttotal: 4m 6s\tremaining: 1m 31s\n",
      "146:\tlearn: 0.1175564\ttotal: 4m 7s\tremaining: 1m 29s\n",
      "147:\tlearn: 0.1174467\ttotal: 4m 9s\tremaining: 1m 27s\n",
      "148:\tlearn: 0.1170260\ttotal: 4m 11s\tremaining: 1m 26s\n",
      "149:\tlearn: 0.1168762\ttotal: 4m 13s\tremaining: 1m 24s\n",
      "150:\tlearn: 0.1164579\ttotal: 4m 14s\tremaining: 1m 22s\n",
      "151:\tlearn: 0.1163483\ttotal: 4m 16s\tremaining: 1m 20s\n",
      "152:\tlearn: 0.1162385\ttotal: 4m 18s\tremaining: 1m 19s\n",
      "153:\tlearn: 0.1161325\ttotal: 4m 19s\tremaining: 1m 17s\n",
      "154:\tlearn: 0.1160016\ttotal: 4m 21s\tremaining: 1m 15s\n",
      "155:\tlearn: 0.1158928\ttotal: 4m 23s\tremaining: 1m 14s\n",
      "156:\tlearn: 0.1156420\ttotal: 4m 25s\tremaining: 1m 12s\n",
      "157:\tlearn: 0.1155221\ttotal: 4m 26s\tremaining: 1m 10s\n",
      "158:\tlearn: 0.1153142\ttotal: 4m 28s\tremaining: 1m 9s\n",
      "159:\tlearn: 0.1150892\ttotal: 4m 30s\tremaining: 1m 7s\n",
      "160:\tlearn: 0.1149808\ttotal: 4m 32s\tremaining: 1m 5s\n",
      "161:\tlearn: 0.1148935\ttotal: 4m 33s\tremaining: 1m 4s\n",
      "162:\tlearn: 0.1146874\ttotal: 4m 35s\tremaining: 1m 2s\n",
      "163:\tlearn: 0.1145682\ttotal: 4m 37s\tremaining: 1m\n",
      "164:\tlearn: 0.1144796\ttotal: 4m 38s\tremaining: 59.1s\n",
      "165:\tlearn: 0.1143575\ttotal: 4m 40s\tremaining: 57.4s\n",
      "166:\tlearn: 0.1142629\ttotal: 4m 42s\tremaining: 55.7s\n",
      "167:\tlearn: 0.1141354\ttotal: 4m 43s\tremaining: 54s\n",
      "168:\tlearn: 0.1140339\ttotal: 4m 45s\tremaining: 52.4s\n",
      "169:\tlearn: 0.1136247\ttotal: 4m 47s\tremaining: 50.7s\n",
      "170:\tlearn: 0.1135331\ttotal: 4m 48s\tremaining: 49s\n",
      "171:\tlearn: 0.1132271\ttotal: 4m 50s\tremaining: 47.3s\n",
      "172:\tlearn: 0.1129673\ttotal: 4m 52s\tremaining: 45.6s\n",
      "173:\tlearn: 0.1128619\ttotal: 4m 53s\tremaining: 43.9s\n",
      "174:\tlearn: 0.1127637\ttotal: 4m 55s\tremaining: 42.2s\n",
      "175:\tlearn: 0.1126704\ttotal: 4m 57s\tremaining: 40.5s\n",
      "176:\tlearn: 0.1125123\ttotal: 4m 58s\tremaining: 38.8s\n",
      "177:\tlearn: 0.1123674\ttotal: 5m\tremaining: 37.1s\n",
      "178:\tlearn: 0.1121391\ttotal: 5m 1s\tremaining: 35.4s\n",
      "179:\tlearn: 0.1120487\ttotal: 5m 3s\tremaining: 33.7s\n",
      "180:\tlearn: 0.1118291\ttotal: 5m 5s\tremaining: 32s\n",
      "181:\tlearn: 0.1117435\ttotal: 5m 6s\tremaining: 30.4s\n",
      "182:\tlearn: 0.1115494\ttotal: 5m 8s\tremaining: 28.7s\n",
      "183:\tlearn: 0.1114588\ttotal: 5m 10s\tremaining: 27s\n",
      "184:\tlearn: 0.1113636\ttotal: 5m 11s\tremaining: 25.3s\n",
      "185:\tlearn: 0.1112770\ttotal: 5m 13s\tremaining: 23.6s\n",
      "186:\tlearn: 0.1111911\ttotal: 5m 14s\tremaining: 21.9s\n",
      "187:\tlearn: 0.1111066\ttotal: 5m 16s\tremaining: 20.2s\n",
      "188:\tlearn: 0.1110288\ttotal: 5m 17s\tremaining: 18.5s\n",
      "189:\tlearn: 0.1108300\ttotal: 5m 19s\tremaining: 16.8s\n",
      "190:\tlearn: 0.1107479\ttotal: 5m 21s\tremaining: 15.1s\n",
      "191:\tlearn: 0.1106349\ttotal: 5m 22s\tremaining: 13.4s\n",
      "192:\tlearn: 0.1104179\ttotal: 5m 24s\tremaining: 11.8s\n",
      "193:\tlearn: 0.1103420\ttotal: 5m 25s\tremaining: 10.1s\n",
      "194:\tlearn: 0.1100704\ttotal: 5m 27s\tremaining: 8.39s\n",
      "195:\tlearn: 0.1099663\ttotal: 5m 28s\tremaining: 6.71s\n",
      "196:\tlearn: 0.1098864\ttotal: 5m 30s\tremaining: 5.03s\n",
      "197:\tlearn: 0.1095875\ttotal: 5m 32s\tremaining: 3.35s\n",
      "198:\tlearn: 0.1094890\ttotal: 5m 33s\tremaining: 1.68s\n",
      "199:\tlearn: 0.1093017\ttotal: 5m 35s\tremaining: 0us\n",
      "Learning rate set to 0.315861\n",
      "0:\tlearn: 0.4373598\ttotal: 2.4s\tremaining: 7m 58s\n",
      "1:\tlearn: 0.3165633\ttotal: 4.23s\tremaining: 6m 58s\n",
      "2:\tlearn: 0.2694482\ttotal: 5.97s\tremaining: 6m 31s\n",
      "3:\tlearn: 0.2447196\ttotal: 7.8s\tremaining: 6m 22s\n",
      "4:\tlearn: 0.2297348\ttotal: 9.55s\tremaining: 6m 12s\n",
      "5:\tlearn: 0.2203152\ttotal: 11.3s\tremaining: 6m 6s\n",
      "6:\tlearn: 0.2145187\ttotal: 13.1s\tremaining: 6m\n",
      "7:\tlearn: 0.2093958\ttotal: 14.8s\tremaining: 5m 55s\n",
      "8:\tlearn: 0.2035750\ttotal: 16.6s\tremaining: 5m 52s\n",
      "9:\tlearn: 0.1999280\ttotal: 18.4s\tremaining: 5m 48s\n",
      "10:\tlearn: 0.1974488\ttotal: 20.2s\tremaining: 5m 46s\n",
      "11:\tlearn: 0.1944506\ttotal: 21.9s\tremaining: 5m 42s\n",
      "12:\tlearn: 0.1915395\ttotal: 23.5s\tremaining: 5m 37s\n",
      "13:\tlearn: 0.1884335\ttotal: 25.2s\tremaining: 5m 34s\n",
      "14:\tlearn: 0.1862377\ttotal: 26.9s\tremaining: 5m 32s\n",
      "15:\tlearn: 0.1840021\ttotal: 28.6s\tremaining: 5m 29s\n",
      "16:\tlearn: 0.1821482\ttotal: 30.4s\tremaining: 5m 27s\n",
      "17:\tlearn: 0.1797218\ttotal: 32.2s\tremaining: 5m 25s\n",
      "18:\tlearn: 0.1776535\ttotal: 33.9s\tremaining: 5m 23s\n",
      "19:\tlearn: 0.1762749\ttotal: 35.6s\tremaining: 5m 20s\n",
      "20:\tlearn: 0.1744496\ttotal: 37.5s\tremaining: 5m 19s\n",
      "21:\tlearn: 0.1727185\ttotal: 39.2s\tremaining: 5m 17s\n",
      "22:\tlearn: 0.1715279\ttotal: 41.1s\tremaining: 5m 15s\n",
      "23:\tlearn: 0.1703919\ttotal: 42.8s\tremaining: 5m 13s\n",
      "24:\tlearn: 0.1689554\ttotal: 44.6s\tremaining: 5m 12s\n",
      "25:\tlearn: 0.1679069\ttotal: 46.3s\tremaining: 5m 9s\n",
      "26:\tlearn: 0.1663106\ttotal: 48.1s\tremaining: 5m 8s\n",
      "27:\tlearn: 0.1652792\ttotal: 49.8s\tremaining: 5m 6s\n",
      "28:\tlearn: 0.1643115\ttotal: 51.5s\tremaining: 5m 3s\n",
      "29:\tlearn: 0.1635325\ttotal: 53.3s\tremaining: 5m 1s\n",
      "30:\tlearn: 0.1625881\ttotal: 54.9s\tremaining: 4m 59s\n",
      "31:\tlearn: 0.1617074\ttotal: 56.8s\tremaining: 4m 57s\n",
      "32:\tlearn: 0.1608779\ttotal: 58.3s\tremaining: 4m 55s\n",
      "33:\tlearn: 0.1596912\ttotal: 1m\tremaining: 4m 53s\n",
      "34:\tlearn: 0.1588094\ttotal: 1m 1s\tremaining: 4m 50s\n",
      "35:\tlearn: 0.1579289\ttotal: 1m 3s\tremaining: 4m 48s\n",
      "36:\tlearn: 0.1572359\ttotal: 1m 4s\tremaining: 4m 46s\n",
      "37:\tlearn: 0.1559513\ttotal: 1m 6s\tremaining: 4m 44s\n",
      "38:\tlearn: 0.1552725\ttotal: 1m 8s\tremaining: 4m 41s\n",
      "39:\tlearn: 0.1543537\ttotal: 1m 9s\tremaining: 4m 39s\n",
      "40:\tlearn: 0.1537035\ttotal: 1m 11s\tremaining: 4m 37s\n",
      "41:\tlearn: 0.1529234\ttotal: 1m 13s\tremaining: 4m 35s\n",
      "42:\tlearn: 0.1518605\ttotal: 1m 14s\tremaining: 4m 32s\n",
      "43:\tlearn: 0.1512307\ttotal: 1m 16s\tremaining: 4m 31s\n",
      "44:\tlearn: 0.1505484\ttotal: 1m 18s\tremaining: 4m 29s\n",
      "45:\tlearn: 0.1500409\ttotal: 1m 19s\tremaining: 4m 27s\n",
      "46:\tlearn: 0.1493657\ttotal: 1m 21s\tremaining: 4m 25s\n",
      "47:\tlearn: 0.1488046\ttotal: 1m 23s\tremaining: 4m 23s\n",
      "48:\tlearn: 0.1479159\ttotal: 1m 24s\tremaining: 4m 21s\n",
      "49:\tlearn: 0.1473809\ttotal: 1m 26s\tremaining: 4m 19s\n",
      "50:\tlearn: 0.1467514\ttotal: 1m 28s\tremaining: 4m 17s\n",
      "51:\tlearn: 0.1460855\ttotal: 1m 30s\tremaining: 4m 16s\n",
      "52:\tlearn: 0.1455212\ttotal: 1m 31s\tremaining: 4m 14s\n",
      "53:\tlearn: 0.1448395\ttotal: 1m 33s\tremaining: 4m 13s\n",
      "54:\tlearn: 0.1443581\ttotal: 1m 35s\tremaining: 4m 11s\n",
      "55:\tlearn: 0.1438849\ttotal: 1m 37s\tremaining: 4m 9s\n",
      "56:\tlearn: 0.1434635\ttotal: 1m 38s\tremaining: 4m 7s\n",
      "57:\tlearn: 0.1430603\ttotal: 1m 40s\tremaining: 4m 6s\n",
      "58:\tlearn: 0.1421846\ttotal: 1m 42s\tremaining: 4m 4s\n",
      "59:\tlearn: 0.1418525\ttotal: 1m 43s\tremaining: 4m 2s\n",
      "60:\tlearn: 0.1408896\ttotal: 1m 45s\tremaining: 4m 1s\n",
      "61:\tlearn: 0.1405171\ttotal: 1m 47s\tremaining: 3m 59s\n",
      "62:\tlearn: 0.1400174\ttotal: 1m 49s\tremaining: 3m 57s\n",
      "63:\tlearn: 0.1395473\ttotal: 1m 51s\tremaining: 3m 56s\n",
      "64:\tlearn: 0.1389157\ttotal: 1m 52s\tremaining: 3m 54s\n",
      "65:\tlearn: 0.1384082\ttotal: 1m 54s\tremaining: 3m 52s\n",
      "66:\tlearn: 0.1381158\ttotal: 1m 56s\tremaining: 3m 50s\n",
      "67:\tlearn: 0.1374860\ttotal: 1m 57s\tremaining: 3m 48s\n",
      "68:\tlearn: 0.1371483\ttotal: 1m 59s\tremaining: 3m 47s\n",
      "69:\tlearn: 0.1367512\ttotal: 2m 1s\tremaining: 3m 45s\n",
      "70:\tlearn: 0.1362890\ttotal: 2m 3s\tremaining: 3m 43s\n",
      "71:\tlearn: 0.1357617\ttotal: 2m 4s\tremaining: 3m 41s\n",
      "72:\tlearn: 0.1353741\ttotal: 2m 6s\tremaining: 3m 40s\n",
      "73:\tlearn: 0.1349939\ttotal: 2m 8s\tremaining: 3m 38s\n",
      "74:\tlearn: 0.1347427\ttotal: 2m 9s\tremaining: 3m 36s\n",
      "75:\tlearn: 0.1345324\ttotal: 2m 11s\tremaining: 3m 34s\n",
      "76:\tlearn: 0.1342975\ttotal: 2m 12s\tremaining: 3m 32s\n",
      "77:\tlearn: 0.1340025\ttotal: 2m 14s\tremaining: 3m 30s\n",
      "78:\tlearn: 0.1336324\ttotal: 2m 16s\tremaining: 3m 28s\n",
      "79:\tlearn: 0.1332659\ttotal: 2m 17s\tremaining: 3m 26s\n",
      "80:\tlearn: 0.1330054\ttotal: 2m 19s\tremaining: 3m 24s\n",
      "81:\tlearn: 0.1327918\ttotal: 2m 21s\tremaining: 3m 23s\n",
      "82:\tlearn: 0.1326023\ttotal: 2m 22s\tremaining: 3m 21s\n",
      "83:\tlearn: 0.1322298\ttotal: 2m 24s\tremaining: 3m 19s\n",
      "84:\tlearn: 0.1318203\ttotal: 2m 26s\tremaining: 3m 17s\n",
      "85:\tlearn: 0.1316195\ttotal: 2m 27s\tremaining: 3m 15s\n",
      "86:\tlearn: 0.1312663\ttotal: 2m 29s\tremaining: 3m 14s\n",
      "87:\tlearn: 0.1309486\ttotal: 2m 31s\tremaining: 3m 12s\n",
      "88:\tlearn: 0.1307258\ttotal: 2m 32s\tremaining: 3m 10s\n",
      "89:\tlearn: 0.1302882\ttotal: 2m 34s\tremaining: 3m 8s\n",
      "90:\tlearn: 0.1298742\ttotal: 2m 36s\tremaining: 3m 7s\n",
      "91:\tlearn: 0.1296861\ttotal: 2m 37s\tremaining: 3m 5s\n",
      "92:\tlearn: 0.1295015\ttotal: 2m 39s\tremaining: 3m 3s\n",
      "93:\tlearn: 0.1293416\ttotal: 2m 41s\tremaining: 3m 2s\n",
      "94:\tlearn: 0.1289463\ttotal: 2m 43s\tremaining: 3m\n",
      "95:\tlearn: 0.1285906\ttotal: 2m 45s\tremaining: 2m 58s\n",
      "96:\tlearn: 0.1281734\ttotal: 2m 46s\tremaining: 2m 57s\n",
      "97:\tlearn: 0.1277429\ttotal: 2m 48s\tremaining: 2m 55s\n",
      "98:\tlearn: 0.1275026\ttotal: 2m 50s\tremaining: 2m 53s\n",
      "99:\tlearn: 0.1273389\ttotal: 2m 51s\tremaining: 2m 51s\n",
      "100:\tlearn: 0.1270920\ttotal: 2m 53s\tremaining: 2m 50s\n",
      "101:\tlearn: 0.1267892\ttotal: 2m 55s\tremaining: 2m 48s\n",
      "102:\tlearn: 0.1263268\ttotal: 2m 57s\tremaining: 2m 46s\n",
      "103:\tlearn: 0.1261392\ttotal: 2m 58s\tremaining: 2m 45s\n",
      "104:\tlearn: 0.1259455\ttotal: 3m\tremaining: 2m 43s\n",
      "105:\tlearn: 0.1257842\ttotal: 3m 2s\tremaining: 2m 41s\n",
      "106:\tlearn: 0.1254842\ttotal: 3m 3s\tremaining: 2m 39s\n",
      "107:\tlearn: 0.1249258\ttotal: 3m 5s\tremaining: 2m 38s\n",
      "108:\tlearn: 0.1245682\ttotal: 3m 7s\tremaining: 2m 36s\n",
      "109:\tlearn: 0.1241239\ttotal: 3m 9s\tremaining: 2m 34s\n",
      "110:\tlearn: 0.1237161\ttotal: 3m 11s\tremaining: 2m 33s\n",
      "111:\tlearn: 0.1235837\ttotal: 3m 12s\tremaining: 2m 31s\n",
      "112:\tlearn: 0.1233195\ttotal: 3m 14s\tremaining: 2m 29s\n",
      "113:\tlearn: 0.1230534\ttotal: 3m 16s\tremaining: 2m 28s\n",
      "114:\tlearn: 0.1228544\ttotal: 3m 17s\tremaining: 2m 26s\n",
      "115:\tlearn: 0.1225718\ttotal: 3m 19s\tremaining: 2m 24s\n",
      "116:\tlearn: 0.1222524\ttotal: 3m 21s\tremaining: 2m 22s\n",
      "117:\tlearn: 0.1220926\ttotal: 3m 23s\tremaining: 2m 21s\n",
      "118:\tlearn: 0.1219443\ttotal: 3m 24s\tremaining: 2m 19s\n",
      "119:\tlearn: 0.1218078\ttotal: 3m 26s\tremaining: 2m 17s\n",
      "120:\tlearn: 0.1214111\ttotal: 3m 28s\tremaining: 2m 15s\n",
      "121:\tlearn: 0.1212731\ttotal: 3m 29s\tremaining: 2m 14s\n",
      "122:\tlearn: 0.1211388\ttotal: 3m 31s\tremaining: 2m 12s\n",
      "123:\tlearn: 0.1208644\ttotal: 3m 33s\tremaining: 2m 10s\n",
      "124:\tlearn: 0.1206024\ttotal: 3m 35s\tremaining: 2m 9s\n",
      "125:\tlearn: 0.1204664\ttotal: 3m 36s\tremaining: 2m 7s\n",
      "126:\tlearn: 0.1201996\ttotal: 3m 38s\tremaining: 2m 5s\n",
      "127:\tlearn: 0.1199856\ttotal: 3m 40s\tremaining: 2m 3s\n",
      "128:\tlearn: 0.1198506\ttotal: 3m 42s\tremaining: 2m 2s\n",
      "129:\tlearn: 0.1196963\ttotal: 3m 43s\tremaining: 2m\n",
      "130:\tlearn: 0.1195755\ttotal: 3m 45s\tremaining: 1m 58s\n",
      "131:\tlearn: 0.1193163\ttotal: 3m 47s\tremaining: 1m 57s\n",
      "132:\tlearn: 0.1191759\ttotal: 3m 48s\tremaining: 1m 55s\n",
      "133:\tlearn: 0.1190388\ttotal: 3m 50s\tremaining: 1m 53s\n",
      "134:\tlearn: 0.1189072\ttotal: 3m 52s\tremaining: 1m 51s\n",
      "135:\tlearn: 0.1187869\ttotal: 3m 54s\tremaining: 1m 50s\n",
      "136:\tlearn: 0.1186671\ttotal: 3m 55s\tremaining: 1m 48s\n",
      "137:\tlearn: 0.1183493\ttotal: 3m 57s\tremaining: 1m 46s\n",
      "138:\tlearn: 0.1180874\ttotal: 3m 59s\tremaining: 1m 45s\n",
      "139:\tlearn: 0.1178134\ttotal: 4m 1s\tremaining: 1m 43s\n",
      "140:\tlearn: 0.1176061\ttotal: 4m 2s\tremaining: 1m 41s\n",
      "141:\tlearn: 0.1174866\ttotal: 4m 4s\tremaining: 1m 39s\n",
      "142:\tlearn: 0.1171942\ttotal: 4m 6s\tremaining: 1m 38s\n",
      "143:\tlearn: 0.1169391\ttotal: 4m 7s\tremaining: 1m 36s\n",
      "144:\tlearn: 0.1168290\ttotal: 4m 9s\tremaining: 1m 34s\n",
      "145:\tlearn: 0.1166518\ttotal: 4m 11s\tremaining: 1m 32s\n",
      "146:\tlearn: 0.1163634\ttotal: 4m 12s\tremaining: 1m 31s\n",
      "147:\tlearn: 0.1161157\ttotal: 4m 14s\tremaining: 1m 29s\n",
      "148:\tlearn: 0.1160044\ttotal: 4m 16s\tremaining: 1m 27s\n",
      "149:\tlearn: 0.1158803\ttotal: 4m 17s\tremaining: 1m 25s\n",
      "150:\tlearn: 0.1157735\ttotal: 4m 19s\tremaining: 1m 24s\n",
      "151:\tlearn: 0.1155982\ttotal: 4m 21s\tremaining: 1m 22s\n",
      "152:\tlearn: 0.1153976\ttotal: 4m 22s\tremaining: 1m 20s\n",
      "153:\tlearn: 0.1152983\ttotal: 4m 24s\tremaining: 1m 18s\n",
      "154:\tlearn: 0.1150046\ttotal: 4m 25s\tremaining: 1m 17s\n",
      "155:\tlearn: 0.1148986\ttotal: 4m 27s\tremaining: 1m 15s\n",
      "156:\tlearn: 0.1148088\ttotal: 4m 29s\tremaining: 1m 13s\n",
      "157:\tlearn: 0.1147101\ttotal: 4m 30s\tremaining: 1m 11s\n",
      "158:\tlearn: 0.1146219\ttotal: 4m 32s\tremaining: 1m 10s\n",
      "159:\tlearn: 0.1145251\ttotal: 4m 33s\tremaining: 1m 8s\n",
      "160:\tlearn: 0.1142173\ttotal: 4m 35s\tremaining: 1m 6s\n",
      "161:\tlearn: 0.1141092\ttotal: 4m 37s\tremaining: 1m 5s\n",
      "162:\tlearn: 0.1138657\ttotal: 4m 39s\tremaining: 1m 3s\n",
      "163:\tlearn: 0.1137491\ttotal: 4m 40s\tremaining: 1m 1s\n",
      "164:\tlearn: 0.1135177\ttotal: 4m 42s\tremaining: 59.9s\n",
      "165:\tlearn: 0.1134283\ttotal: 4m 44s\tremaining: 58.2s\n",
      "166:\tlearn: 0.1133004\ttotal: 4m 45s\tremaining: 56.5s\n",
      "167:\tlearn: 0.1130444\ttotal: 4m 47s\tremaining: 54.8s\n",
      "168:\tlearn: 0.1129363\ttotal: 4m 49s\tremaining: 53s\n",
      "169:\tlearn: 0.1128275\ttotal: 4m 50s\tremaining: 51.3s\n",
      "170:\tlearn: 0.1127383\ttotal: 4m 52s\tremaining: 49.6s\n",
      "171:\tlearn: 0.1126420\ttotal: 4m 53s\tremaining: 47.9s\n",
      "172:\tlearn: 0.1121616\ttotal: 4m 55s\tremaining: 46.2s\n",
      "173:\tlearn: 0.1120736\ttotal: 4m 57s\tremaining: 44.4s\n",
      "174:\tlearn: 0.1119852\ttotal: 4m 59s\tremaining: 42.7s\n",
      "175:\tlearn: 0.1116835\ttotal: 5m\tremaining: 41s\n",
      "176:\tlearn: 0.1113930\ttotal: 5m 2s\tremaining: 39.3s\n",
      "177:\tlearn: 0.1110746\ttotal: 5m 4s\tremaining: 37.6s\n",
      "178:\tlearn: 0.1109745\ttotal: 5m 5s\tremaining: 35.9s\n",
      "179:\tlearn: 0.1108903\ttotal: 5m 7s\tremaining: 34.2s\n",
      "180:\tlearn: 0.1108001\ttotal: 5m 9s\tremaining: 32.4s\n",
      "181:\tlearn: 0.1106261\ttotal: 5m 10s\tremaining: 30.7s\n",
      "182:\tlearn: 0.1105438\ttotal: 5m 12s\tremaining: 29s\n",
      "183:\tlearn: 0.1104561\ttotal: 5m 13s\tremaining: 27.3s\n",
      "184:\tlearn: 0.1103698\ttotal: 5m 15s\tremaining: 25.6s\n",
      "185:\tlearn: 0.1102111\ttotal: 5m 16s\tremaining: 23.9s\n",
      "186:\tlearn: 0.1099532\ttotal: 5m 18s\tremaining: 22.1s\n",
      "187:\tlearn: 0.1096713\ttotal: 5m 20s\tremaining: 20.4s\n",
      "188:\tlearn: 0.1094492\ttotal: 5m 21s\tremaining: 18.7s\n",
      "189:\tlearn: 0.1093684\ttotal: 5m 23s\tremaining: 17s\n",
      "190:\tlearn: 0.1092830\ttotal: 5m 25s\tremaining: 15.3s\n",
      "191:\tlearn: 0.1090645\ttotal: 5m 26s\tremaining: 13.6s\n",
      "192:\tlearn: 0.1088353\ttotal: 5m 28s\tremaining: 11.9s\n",
      "193:\tlearn: 0.1087555\ttotal: 5m 30s\tremaining: 10.2s\n",
      "194:\tlearn: 0.1086660\ttotal: 5m 31s\tremaining: 8.5s\n",
      "195:\tlearn: 0.1085512\ttotal: 5m 33s\tremaining: 6.8s\n",
      "196:\tlearn: 0.1081976\ttotal: 5m 35s\tremaining: 5.1s\n",
      "197:\tlearn: 0.1081264\ttotal: 5m 36s\tremaining: 3.4s\n",
      "198:\tlearn: 0.1080408\ttotal: 5m 38s\tremaining: 1.7s\n",
      "199:\tlearn: 0.1079539\ttotal: 5m 39s\tremaining: 0us\n",
      "Learning rate set to 0.315863\n",
      "0:\tlearn: 0.4289606\ttotal: 2.46s\tremaining: 8m 10s\n",
      "1:\tlearn: 0.3157600\ttotal: 4.38s\tremaining: 7m 13s\n",
      "2:\tlearn: 0.2665627\ttotal: 6.15s\tremaining: 6m 43s\n",
      "3:\tlearn: 0.2434487\ttotal: 7.89s\tremaining: 6m 26s\n",
      "4:\tlearn: 0.2284321\ttotal: 9.64s\tremaining: 6m 16s\n",
      "5:\tlearn: 0.2201784\ttotal: 11.4s\tremaining: 6m 10s\n",
      "6:\tlearn: 0.2135251\ttotal: 13.2s\tremaining: 6m 4s\n",
      "7:\tlearn: 0.2091726\ttotal: 15s\tremaining: 5m 59s\n",
      "8:\tlearn: 0.2047044\ttotal: 16.7s\tremaining: 5m 54s\n",
      "9:\tlearn: 0.2000252\ttotal: 18.3s\tremaining: 5m 48s\n",
      "10:\tlearn: 0.1964843\ttotal: 20s\tremaining: 5m 43s\n",
      "11:\tlearn: 0.1938807\ttotal: 21.7s\tremaining: 5m 40s\n",
      "12:\tlearn: 0.1910743\ttotal: 23.4s\tremaining: 5m 36s\n",
      "13:\tlearn: 0.1890505\ttotal: 25s\tremaining: 5m 32s\n",
      "14:\tlearn: 0.1864357\ttotal: 26.7s\tremaining: 5m 29s\n",
      "15:\tlearn: 0.1840105\ttotal: 28.3s\tremaining: 5m 25s\n",
      "16:\tlearn: 0.1819527\ttotal: 30.1s\tremaining: 5m 24s\n",
      "17:\tlearn: 0.1798145\ttotal: 31.9s\tremaining: 5m 22s\n",
      "18:\tlearn: 0.1784020\ttotal: 33.6s\tremaining: 5m 19s\n",
      "19:\tlearn: 0.1761638\ttotal: 35.4s\tremaining: 5m 18s\n",
      "20:\tlearn: 0.1748646\ttotal: 37s\tremaining: 5m 15s\n",
      "21:\tlearn: 0.1733535\ttotal: 38.7s\tremaining: 5m 13s\n",
      "22:\tlearn: 0.1717767\ttotal: 40.4s\tremaining: 5m 10s\n",
      "23:\tlearn: 0.1705377\ttotal: 42.1s\tremaining: 5m 8s\n",
      "24:\tlearn: 0.1693899\ttotal: 43.8s\tremaining: 5m 6s\n",
      "25:\tlearn: 0.1685709\ttotal: 45.4s\tremaining: 5m 4s\n",
      "26:\tlearn: 0.1672617\ttotal: 47.1s\tremaining: 5m 1s\n",
      "27:\tlearn: 0.1664644\ttotal: 48.7s\tremaining: 4m 58s\n",
      "28:\tlearn: 0.1656455\ttotal: 50.3s\tremaining: 4m 56s\n",
      "29:\tlearn: 0.1646372\ttotal: 52.1s\tremaining: 4m 55s\n",
      "30:\tlearn: 0.1634727\ttotal: 53.8s\tremaining: 4m 53s\n",
      "31:\tlearn: 0.1627323\ttotal: 55.5s\tremaining: 4m 51s\n",
      "32:\tlearn: 0.1618673\ttotal: 57.2s\tremaining: 4m 49s\n",
      "33:\tlearn: 0.1611041\ttotal: 58.8s\tremaining: 4m 47s\n",
      "34:\tlearn: 0.1597066\ttotal: 1m\tremaining: 4m 45s\n",
      "35:\tlearn: 0.1586618\ttotal: 1m 2s\tremaining: 4m 43s\n",
      "36:\tlearn: 0.1576649\ttotal: 1m 3s\tremaining: 4m 41s\n",
      "37:\tlearn: 0.1569033\ttotal: 1m 5s\tremaining: 4m 40s\n",
      "38:\tlearn: 0.1561659\ttotal: 1m 7s\tremaining: 4m 38s\n",
      "39:\tlearn: 0.1555460\ttotal: 1m 9s\tremaining: 4m 36s\n",
      "40:\tlearn: 0.1548832\ttotal: 1m 10s\tremaining: 4m 35s\n",
      "41:\tlearn: 0.1540913\ttotal: 1m 12s\tremaining: 4m 33s\n",
      "42:\tlearn: 0.1534890\ttotal: 1m 14s\tremaining: 4m 31s\n",
      "43:\tlearn: 0.1529072\ttotal: 1m 15s\tremaining: 4m 29s\n",
      "44:\tlearn: 0.1521402\ttotal: 1m 17s\tremaining: 4m 27s\n",
      "45:\tlearn: 0.1517317\ttotal: 1m 19s\tremaining: 4m 24s\n",
      "46:\tlearn: 0.1508738\ttotal: 1m 20s\tremaining: 4m 23s\n",
      "47:\tlearn: 0.1503964\ttotal: 1m 22s\tremaining: 4m 21s\n",
      "48:\tlearn: 0.1495810\ttotal: 1m 24s\tremaining: 4m 19s\n",
      "49:\tlearn: 0.1487387\ttotal: 1m 25s\tremaining: 4m 17s\n",
      "50:\tlearn: 0.1481441\ttotal: 1m 27s\tremaining: 4m 15s\n",
      "51:\tlearn: 0.1472751\ttotal: 1m 29s\tremaining: 4m 13s\n",
      "52:\tlearn: 0.1466514\ttotal: 1m 30s\tremaining: 4m 12s\n",
      "53:\tlearn: 0.1462502\ttotal: 1m 32s\tremaining: 4m 9s\n",
      "54:\tlearn: 0.1456945\ttotal: 1m 34s\tremaining: 4m 8s\n",
      "55:\tlearn: 0.1451599\ttotal: 1m 35s\tremaining: 4m 6s\n",
      "56:\tlearn: 0.1445881\ttotal: 1m 37s\tremaining: 4m 4s\n",
      "57:\tlearn: 0.1440289\ttotal: 1m 39s\tremaining: 4m 2s\n",
      "58:\tlearn: 0.1435535\ttotal: 1m 40s\tremaining: 4m\n",
      "59:\tlearn: 0.1429882\ttotal: 1m 42s\tremaining: 3m 58s\n",
      "60:\tlearn: 0.1426530\ttotal: 1m 44s\tremaining: 3m 57s\n",
      "61:\tlearn: 0.1422772\ttotal: 1m 45s\tremaining: 3m 55s\n",
      "62:\tlearn: 0.1417735\ttotal: 1m 47s\tremaining: 3m 53s\n",
      "63:\tlearn: 0.1412305\ttotal: 1m 48s\tremaining: 3m 51s\n",
      "64:\tlearn: 0.1405339\ttotal: 1m 50s\tremaining: 3m 49s\n",
      "65:\tlearn: 0.1401850\ttotal: 1m 52s\tremaining: 3m 47s\n",
      "66:\tlearn: 0.1396416\ttotal: 1m 53s\tremaining: 3m 46s\n",
      "67:\tlearn: 0.1391266\ttotal: 1m 55s\tremaining: 3m 44s\n",
      "68:\tlearn: 0.1386877\ttotal: 1m 57s\tremaining: 3m 42s\n",
      "69:\tlearn: 0.1383899\ttotal: 1m 59s\tremaining: 3m 41s\n",
      "70:\tlearn: 0.1380228\ttotal: 2m\tremaining: 3m 39s\n",
      "71:\tlearn: 0.1377914\ttotal: 2m 2s\tremaining: 3m 37s\n",
      "72:\tlearn: 0.1373756\ttotal: 2m 3s\tremaining: 3m 35s\n",
      "73:\tlearn: 0.1370843\ttotal: 2m 5s\tremaining: 3m 33s\n",
      "74:\tlearn: 0.1368338\ttotal: 2m 7s\tremaining: 3m 31s\n",
      "75:\tlearn: 0.1364952\ttotal: 2m 8s\tremaining: 3m 29s\n",
      "76:\tlearn: 0.1358934\ttotal: 2m 10s\tremaining: 3m 28s\n",
      "77:\tlearn: 0.1355317\ttotal: 2m 11s\tremaining: 3m 26s\n",
      "78:\tlearn: 0.1353164\ttotal: 2m 13s\tremaining: 3m 24s\n",
      "79:\tlearn: 0.1351074\ttotal: 2m 15s\tremaining: 3m 22s\n",
      "80:\tlearn: 0.1348835\ttotal: 2m 16s\tremaining: 3m 20s\n",
      "81:\tlearn: 0.1344959\ttotal: 2m 18s\tremaining: 3m 19s\n",
      "82:\tlearn: 0.1343066\ttotal: 2m 20s\tremaining: 3m 17s\n",
      "83:\tlearn: 0.1340500\ttotal: 2m 21s\tremaining: 3m 15s\n",
      "84:\tlearn: 0.1335254\ttotal: 2m 23s\tremaining: 3m 14s\n",
      "85:\tlearn: 0.1330954\ttotal: 2m 25s\tremaining: 3m 12s\n",
      "86:\tlearn: 0.1328483\ttotal: 2m 26s\tremaining: 3m 10s\n",
      "87:\tlearn: 0.1325167\ttotal: 2m 28s\tremaining: 3m 8s\n",
      "88:\tlearn: 0.1322740\ttotal: 2m 29s\tremaining: 3m 6s\n",
      "89:\tlearn: 0.1316727\ttotal: 2m 31s\tremaining: 3m 5s\n",
      "90:\tlearn: 0.1315042\ttotal: 2m 33s\tremaining: 3m 3s\n",
      "91:\tlearn: 0.1310294\ttotal: 2m 34s\tremaining: 3m 1s\n",
      "92:\tlearn: 0.1306831\ttotal: 2m 36s\tremaining: 3m\n",
      "93:\tlearn: 0.1305096\ttotal: 2m 38s\tremaining: 2m 58s\n",
      "94:\tlearn: 0.1301289\ttotal: 2m 39s\tremaining: 2m 56s\n",
      "95:\tlearn: 0.1296251\ttotal: 2m 41s\tremaining: 2m 54s\n",
      "96:\tlearn: 0.1292948\ttotal: 2m 42s\tremaining: 2m 52s\n",
      "97:\tlearn: 0.1290702\ttotal: 2m 44s\tremaining: 2m 51s\n",
      "98:\tlearn: 0.1286441\ttotal: 2m 46s\tremaining: 2m 49s\n",
      "99:\tlearn: 0.1283705\ttotal: 2m 47s\tremaining: 2m 47s\n",
      "100:\tlearn: 0.1282237\ttotal: 2m 49s\tremaining: 2m 46s\n",
      "101:\tlearn: 0.1279494\ttotal: 2m 51s\tremaining: 2m 44s\n",
      "102:\tlearn: 0.1277885\ttotal: 2m 52s\tremaining: 2m 42s\n",
      "103:\tlearn: 0.1276356\ttotal: 2m 54s\tremaining: 2m 40s\n",
      "104:\tlearn: 0.1274936\ttotal: 2m 55s\tremaining: 2m 39s\n",
      "105:\tlearn: 0.1273377\ttotal: 2m 57s\tremaining: 2m 37s\n",
      "106:\tlearn: 0.1270674\ttotal: 2m 59s\tremaining: 2m 35s\n",
      "107:\tlearn: 0.1266344\ttotal: 3m\tremaining: 2m 34s\n",
      "108:\tlearn: 0.1262884\ttotal: 3m 2s\tremaining: 2m 32s\n",
      "109:\tlearn: 0.1259920\ttotal: 3m 4s\tremaining: 2m 30s\n",
      "110:\tlearn: 0.1256461\ttotal: 3m 5s\tremaining: 2m 29s\n",
      "111:\tlearn: 0.1254282\ttotal: 3m 7s\tremaining: 2m 27s\n",
      "112:\tlearn: 0.1252464\ttotal: 3m 9s\tremaining: 2m 25s\n",
      "113:\tlearn: 0.1249710\ttotal: 3m 10s\tremaining: 2m 23s\n",
      "114:\tlearn: 0.1248091\ttotal: 3m 12s\tremaining: 2m 22s\n",
      "115:\tlearn: 0.1246567\ttotal: 3m 13s\tremaining: 2m 20s\n",
      "116:\tlearn: 0.1245128\ttotal: 3m 15s\tremaining: 2m 18s\n",
      "117:\tlearn: 0.1241660\ttotal: 3m 17s\tremaining: 2m 16s\n",
      "118:\tlearn: 0.1239171\ttotal: 3m 18s\tremaining: 2m 15s\n",
      "119:\tlearn: 0.1236275\ttotal: 3m 20s\tremaining: 2m 13s\n",
      "120:\tlearn: 0.1234886\ttotal: 3m 21s\tremaining: 2m 11s\n",
      "121:\tlearn: 0.1233420\ttotal: 3m 23s\tremaining: 2m 10s\n",
      "122:\tlearn: 0.1231300\ttotal: 3m 25s\tremaining: 2m 8s\n",
      "123:\tlearn: 0.1228200\ttotal: 3m 26s\tremaining: 2m 6s\n",
      "124:\tlearn: 0.1225060\ttotal: 3m 28s\tremaining: 2m 5s\n",
      "125:\tlearn: 0.1222260\ttotal: 3m 30s\tremaining: 2m 3s\n",
      "126:\tlearn: 0.1220833\ttotal: 3m 31s\tremaining: 2m 1s\n",
      "127:\tlearn: 0.1219362\ttotal: 3m 33s\tremaining: 2m\n",
      "128:\tlearn: 0.1216885\ttotal: 3m 34s\tremaining: 1m 58s\n",
      "129:\tlearn: 0.1214123\ttotal: 3m 36s\tremaining: 1m 56s\n",
      "130:\tlearn: 0.1211337\ttotal: 3m 38s\tremaining: 1m 54s\n",
      "131:\tlearn: 0.1209891\ttotal: 3m 39s\tremaining: 1m 53s\n",
      "132:\tlearn: 0.1206805\ttotal: 3m 41s\tremaining: 1m 51s\n",
      "133:\tlearn: 0.1205568\ttotal: 3m 43s\tremaining: 1m 49s\n",
      "134:\tlearn: 0.1203886\ttotal: 3m 44s\tremaining: 1m 48s\n",
      "135:\tlearn: 0.1202410\ttotal: 3m 46s\tremaining: 1m 46s\n",
      "136:\tlearn: 0.1201049\ttotal: 3m 48s\tremaining: 1m 44s\n",
      "137:\tlearn: 0.1199807\ttotal: 3m 49s\tremaining: 1m 43s\n",
      "138:\tlearn: 0.1197360\ttotal: 3m 51s\tremaining: 1m 41s\n",
      "139:\tlearn: 0.1196095\ttotal: 3m 53s\tremaining: 1m 39s\n",
      "140:\tlearn: 0.1194095\ttotal: 3m 54s\tremaining: 1m 38s\n",
      "141:\tlearn: 0.1190924\ttotal: 3m 56s\tremaining: 1m 36s\n",
      "142:\tlearn: 0.1189801\ttotal: 3m 58s\tremaining: 1m 34s\n",
      "143:\tlearn: 0.1188609\ttotal: 3m 59s\tremaining: 1m 33s\n",
      "144:\tlearn: 0.1187493\ttotal: 4m 1s\tremaining: 1m 31s\n",
      "145:\tlearn: 0.1183519\ttotal: 4m 3s\tremaining: 1m 29s\n",
      "146:\tlearn: 0.1182349\ttotal: 4m 4s\tremaining: 1m 28s\n",
      "147:\tlearn: 0.1181027\ttotal: 4m 6s\tremaining: 1m 26s\n",
      "148:\tlearn: 0.1176743\ttotal: 4m 8s\tremaining: 1m 24s\n",
      "149:\tlearn: 0.1175707\ttotal: 4m 9s\tremaining: 1m 23s\n",
      "150:\tlearn: 0.1174689\ttotal: 4m 11s\tremaining: 1m 21s\n",
      "151:\tlearn: 0.1173516\ttotal: 4m 12s\tremaining: 1m 19s\n",
      "152:\tlearn: 0.1172380\ttotal: 4m 14s\tremaining: 1m 18s\n",
      "153:\tlearn: 0.1171486\ttotal: 4m 15s\tremaining: 1m 16s\n",
      "154:\tlearn: 0.1170408\ttotal: 4m 17s\tremaining: 1m 14s\n",
      "155:\tlearn: 0.1169347\ttotal: 4m 19s\tremaining: 1m 13s\n",
      "156:\tlearn: 0.1168313\ttotal: 4m 20s\tremaining: 1m 11s\n",
      "157:\tlearn: 0.1167304\ttotal: 4m 22s\tremaining: 1m 9s\n",
      "158:\tlearn: 0.1166324\ttotal: 4m 23s\tremaining: 1m 8s\n",
      "159:\tlearn: 0.1165329\ttotal: 4m 25s\tremaining: 1m 6s\n",
      "160:\tlearn: 0.1164152\ttotal: 4m 26s\tremaining: 1m 4s\n",
      "161:\tlearn: 0.1163195\ttotal: 4m 28s\tremaining: 1m 2s\n",
      "162:\tlearn: 0.1161049\ttotal: 4m 30s\tremaining: 1m 1s\n",
      "163:\tlearn: 0.1159946\ttotal: 4m 31s\tremaining: 59.7s\n",
      "164:\tlearn: 0.1158511\ttotal: 4m 33s\tremaining: 58s\n",
      "165:\tlearn: 0.1155485\ttotal: 4m 35s\tremaining: 56.4s\n",
      "166:\tlearn: 0.1154167\ttotal: 4m 36s\tremaining: 54.7s\n",
      "167:\tlearn: 0.1153265\ttotal: 4m 38s\tremaining: 53s\n",
      "168:\tlearn: 0.1152047\ttotal: 4m 40s\tremaining: 51.4s\n",
      "169:\tlearn: 0.1151104\ttotal: 4m 41s\tremaining: 49.7s\n",
      "170:\tlearn: 0.1149374\ttotal: 4m 43s\tremaining: 48.1s\n",
      "171:\tlearn: 0.1146798\ttotal: 4m 45s\tremaining: 46.4s\n",
      "172:\tlearn: 0.1143891\ttotal: 4m 46s\tremaining: 44.8s\n",
      "173:\tlearn: 0.1142144\ttotal: 4m 48s\tremaining: 43.1s\n",
      "174:\tlearn: 0.1141199\ttotal: 4m 50s\tremaining: 41.4s\n",
      "175:\tlearn: 0.1138516\ttotal: 4m 51s\tremaining: 39.8s\n",
      "176:\tlearn: 0.1137480\ttotal: 4m 53s\tremaining: 38.1s\n",
      "177:\tlearn: 0.1135395\ttotal: 4m 55s\tremaining: 36.5s\n",
      "178:\tlearn: 0.1134533\ttotal: 4m 56s\tremaining: 34.8s\n",
      "179:\tlearn: 0.1133571\ttotal: 4m 58s\tremaining: 33.2s\n",
      "180:\tlearn: 0.1131233\ttotal: 5m\tremaining: 31.5s\n",
      "181:\tlearn: 0.1130199\ttotal: 5m 1s\tremaining: 29.9s\n",
      "182:\tlearn: 0.1129330\ttotal: 5m 3s\tremaining: 28.2s\n",
      "183:\tlearn: 0.1126738\ttotal: 5m 5s\tremaining: 26.6s\n",
      "184:\tlearn: 0.1123793\ttotal: 5m 7s\tremaining: 24.9s\n",
      "185:\tlearn: 0.1122831\ttotal: 5m 8s\tremaining: 23.2s\n",
      "186:\tlearn: 0.1120737\ttotal: 5m 10s\tremaining: 21.6s\n",
      "187:\tlearn: 0.1119677\ttotal: 5m 12s\tremaining: 19.9s\n",
      "188:\tlearn: 0.1118810\ttotal: 5m 13s\tremaining: 18.3s\n",
      "189:\tlearn: 0.1117956\ttotal: 5m 15s\tremaining: 16.6s\n",
      "190:\tlearn: 0.1115089\ttotal: 5m 17s\tremaining: 15s\n",
      "191:\tlearn: 0.1112616\ttotal: 5m 19s\tremaining: 13.3s\n",
      "192:\tlearn: 0.1110706\ttotal: 5m 20s\tremaining: 11.6s\n",
      "193:\tlearn: 0.1108138\ttotal: 5m 22s\tremaining: 9.97s\n",
      "194:\tlearn: 0.1107108\ttotal: 5m 23s\tremaining: 8.31s\n",
      "195:\tlearn: 0.1106158\ttotal: 5m 25s\tremaining: 6.65s\n",
      "196:\tlearn: 0.1105370\ttotal: 5m 27s\tremaining: 4.98s\n",
      "197:\tlearn: 0.1104600\ttotal: 5m 28s\tremaining: 3.32s\n",
      "198:\tlearn: 0.1101713\ttotal: 5m 30s\tremaining: 1.66s\n",
      "199:\tlearn: 0.1100933\ttotal: 5m 32s\tremaining: 0us\n",
      "Learning rate set to 0.217781\n",
      "0:\tlearn: 0.4943899\ttotal: 2.52s\tremaining: 12m 32s\n",
      "1:\tlearn: 0.3851522\ttotal: 4.41s\tremaining: 10m 56s\n",
      "2:\tlearn: 0.3205864\ttotal: 6.3s\tremaining: 10m 23s\n",
      "3:\tlearn: 0.2822681\ttotal: 8.16s\tremaining: 10m 3s\n",
      "4:\tlearn: 0.2575665\ttotal: 10s\tremaining: 9m 50s\n",
      "5:\tlearn: 0.2422123\ttotal: 11.8s\tremaining: 9m 39s\n",
      "6:\tlearn: 0.2326510\ttotal: 13.7s\tremaining: 9m 32s\n",
      "7:\tlearn: 0.2261174\ttotal: 15.5s\tremaining: 9m 25s\n",
      "8:\tlearn: 0.2202261\ttotal: 17.3s\tremaining: 9m 20s\n",
      "9:\tlearn: 0.2161437\ttotal: 19.1s\tremaining: 9m 14s\n",
      "10:\tlearn: 0.2106305\ttotal: 20.8s\tremaining: 9m 7s\n",
      "11:\tlearn: 0.2071348\ttotal: 22.5s\tremaining: 9m\n",
      "12:\tlearn: 0.2036686\ttotal: 24.2s\tremaining: 8m 54s\n",
      "13:\tlearn: 0.2006722\ttotal: 25.9s\tremaining: 8m 49s\n",
      "14:\tlearn: 0.1984525\ttotal: 27.7s\tremaining: 8m 45s\n",
      "15:\tlearn: 0.1965213\ttotal: 29.3s\tremaining: 8m 40s\n",
      "16:\tlearn: 0.1947361\ttotal: 31.1s\tremaining: 8m 37s\n",
      "17:\tlearn: 0.1927447\ttotal: 32.8s\tremaining: 8m 33s\n",
      "18:\tlearn: 0.1913173\ttotal: 34.5s\tremaining: 8m 30s\n",
      "19:\tlearn: 0.1896998\ttotal: 36.2s\tremaining: 8m 26s\n",
      "20:\tlearn: 0.1874440\ttotal: 37.8s\tremaining: 8m 22s\n",
      "21:\tlearn: 0.1854361\ttotal: 39.6s\tremaining: 8m 20s\n",
      "22:\tlearn: 0.1842320\ttotal: 41.2s\tremaining: 8m 16s\n",
      "23:\tlearn: 0.1829211\ttotal: 42.9s\tremaining: 8m 13s\n",
      "24:\tlearn: 0.1816413\ttotal: 44.6s\tremaining: 8m 10s\n",
      "25:\tlearn: 0.1805067\ttotal: 46.3s\tremaining: 8m 8s\n",
      "26:\tlearn: 0.1795320\ttotal: 48s\tremaining: 8m 5s\n",
      "27:\tlearn: 0.1780989\ttotal: 49.7s\tremaining: 8m 3s\n",
      "28:\tlearn: 0.1766280\ttotal: 51.5s\tremaining: 8m 1s\n",
      "29:\tlearn: 0.1751233\ttotal: 53.4s\tremaining: 8m\n",
      "30:\tlearn: 0.1741344\ttotal: 55.1s\tremaining: 7m 58s\n",
      "31:\tlearn: 0.1732544\ttotal: 57s\tremaining: 7m 57s\n",
      "32:\tlearn: 0.1724722\ttotal: 58.8s\tremaining: 7m 55s\n",
      "33:\tlearn: 0.1717752\ttotal: 1m\tremaining: 7m 53s\n",
      "34:\tlearn: 0.1710734\ttotal: 1m 2s\tremaining: 7m 51s\n",
      "35:\tlearn: 0.1702833\ttotal: 1m 4s\tremaining: 7m 50s\n",
      "36:\tlearn: 0.1695474\ttotal: 1m 5s\tremaining: 7m 47s\n",
      "37:\tlearn: 0.1688102\ttotal: 1m 7s\tremaining: 7m 46s\n",
      "38:\tlearn: 0.1682081\ttotal: 1m 9s\tremaining: 7m 43s\n",
      "39:\tlearn: 0.1671339\ttotal: 1m 10s\tremaining: 7m 40s\n",
      "40:\tlearn: 0.1662428\ttotal: 1m 12s\tremaining: 7m 39s\n",
      "41:\tlearn: 0.1656684\ttotal: 1m 14s\tremaining: 7m 36s\n",
      "42:\tlearn: 0.1647751\ttotal: 1m 16s\tremaining: 7m 34s\n",
      "43:\tlearn: 0.1639533\ttotal: 1m 17s\tremaining: 7m 33s\n",
      "44:\tlearn: 0.1630863\ttotal: 1m 19s\tremaining: 7m 30s\n",
      "45:\tlearn: 0.1622092\ttotal: 1m 21s\tremaining: 7m 29s\n",
      "46:\tlearn: 0.1616430\ttotal: 1m 23s\tremaining: 7m 27s\n",
      "47:\tlearn: 0.1610961\ttotal: 1m 24s\tremaining: 7m 25s\n",
      "48:\tlearn: 0.1604129\ttotal: 1m 26s\tremaining: 7m 24s\n",
      "49:\tlearn: 0.1599922\ttotal: 1m 28s\tremaining: 7m 22s\n",
      "50:\tlearn: 0.1594257\ttotal: 1m 30s\tremaining: 7m 19s\n",
      "51:\tlearn: 0.1589232\ttotal: 1m 31s\tremaining: 7m 17s\n",
      "52:\tlearn: 0.1583415\ttotal: 1m 33s\tremaining: 7m 15s\n",
      "53:\tlearn: 0.1579081\ttotal: 1m 35s\tremaining: 7m 13s\n",
      "54:\tlearn: 0.1572575\ttotal: 1m 36s\tremaining: 7m 10s\n",
      "55:\tlearn: 0.1565847\ttotal: 1m 38s\tremaining: 7m 8s\n",
      "56:\tlearn: 0.1561504\ttotal: 1m 39s\tremaining: 7m 6s\n",
      "57:\tlearn: 0.1557247\ttotal: 1m 41s\tremaining: 7m 3s\n",
      "58:\tlearn: 0.1552364\ttotal: 1m 43s\tremaining: 7m 1s\n",
      "59:\tlearn: 0.1546056\ttotal: 1m 44s\tremaining: 6m 59s\n",
      "60:\tlearn: 0.1540942\ttotal: 1m 46s\tremaining: 6m 57s\n",
      "61:\tlearn: 0.1535537\ttotal: 1m 48s\tremaining: 6m 55s\n",
      "62:\tlearn: 0.1530397\ttotal: 1m 49s\tremaining: 6m 53s\n",
      "63:\tlearn: 0.1525560\ttotal: 1m 51s\tremaining: 6m 50s\n",
      "64:\tlearn: 0.1520357\ttotal: 1m 53s\tremaining: 6m 49s\n",
      "65:\tlearn: 0.1513613\ttotal: 1m 55s\tremaining: 6m 47s\n",
      "66:\tlearn: 0.1509181\ttotal: 1m 56s\tremaining: 6m 45s\n",
      "67:\tlearn: 0.1502922\ttotal: 1m 58s\tremaining: 6m 44s\n",
      "68:\tlearn: 0.1496029\ttotal: 2m\tremaining: 6m 41s\n",
      "69:\tlearn: 0.1492209\ttotal: 2m 1s\tremaining: 6m 39s\n",
      "70:\tlearn: 0.1486955\ttotal: 2m 3s\tremaining: 6m 37s\n",
      "71:\tlearn: 0.1483092\ttotal: 2m 5s\tremaining: 6m 36s\n",
      "72:\tlearn: 0.1479541\ttotal: 2m 6s\tremaining: 6m 34s\n",
      "73:\tlearn: 0.1474615\ttotal: 2m 8s\tremaining: 6m 32s\n",
      "74:\tlearn: 0.1470380\ttotal: 2m 10s\tremaining: 6m 30s\n",
      "75:\tlearn: 0.1464819\ttotal: 2m 11s\tremaining: 6m 28s\n",
      "76:\tlearn: 0.1460867\ttotal: 2m 13s\tremaining: 6m 26s\n",
      "77:\tlearn: 0.1457271\ttotal: 2m 15s\tremaining: 6m 24s\n",
      "78:\tlearn: 0.1453609\ttotal: 2m 16s\tremaining: 6m 22s\n",
      "79:\tlearn: 0.1451230\ttotal: 2m 18s\tremaining: 6m 20s\n",
      "80:\tlearn: 0.1447853\ttotal: 2m 20s\tremaining: 6m 18s\n",
      "81:\tlearn: 0.1445360\ttotal: 2m 21s\tremaining: 6m 16s\n",
      "82:\tlearn: 0.1442381\ttotal: 2m 23s\tremaining: 6m 14s\n",
      "83:\tlearn: 0.1439773\ttotal: 2m 24s\tremaining: 6m 12s\n",
      "84:\tlearn: 0.1437014\ttotal: 2m 26s\tremaining: 6m 10s\n",
      "85:\tlearn: 0.1433122\ttotal: 2m 28s\tremaining: 6m 8s\n",
      "86:\tlearn: 0.1429330\ttotal: 2m 29s\tremaining: 6m 6s\n",
      "87:\tlearn: 0.1427228\ttotal: 2m 31s\tremaining: 6m 5s\n",
      "88:\tlearn: 0.1424751\ttotal: 2m 33s\tremaining: 6m 3s\n",
      "89:\tlearn: 0.1421274\ttotal: 2m 34s\tremaining: 6m 1s\n",
      "90:\tlearn: 0.1416015\ttotal: 2m 36s\tremaining: 5m 59s\n",
      "91:\tlearn: 0.1411829\ttotal: 2m 38s\tremaining: 5m 58s\n",
      "92:\tlearn: 0.1408323\ttotal: 2m 40s\tremaining: 5m 56s\n",
      "93:\tlearn: 0.1405176\ttotal: 2m 41s\tremaining: 5m 54s\n",
      "94:\tlearn: 0.1402399\ttotal: 2m 43s\tremaining: 5m 52s\n",
      "95:\tlearn: 0.1398090\ttotal: 2m 45s\tremaining: 5m 51s\n",
      "96:\tlearn: 0.1395085\ttotal: 2m 46s\tremaining: 5m 49s\n",
      "97:\tlearn: 0.1393250\ttotal: 2m 48s\tremaining: 5m 47s\n",
      "98:\tlearn: 0.1388516\ttotal: 2m 50s\tremaining: 5m 45s\n",
      "99:\tlearn: 0.1383033\ttotal: 2m 51s\tremaining: 5m 43s\n",
      "100:\tlearn: 0.1379897\ttotal: 2m 53s\tremaining: 5m 42s\n",
      "101:\tlearn: 0.1375516\ttotal: 2m 55s\tremaining: 5m 40s\n",
      "102:\tlearn: 0.1372745\ttotal: 2m 57s\tremaining: 5m 39s\n",
      "103:\tlearn: 0.1369330\ttotal: 2m 59s\tremaining: 5m 37s\n",
      "104:\tlearn: 0.1367586\ttotal: 3m\tremaining: 5m 35s\n",
      "105:\tlearn: 0.1364512\ttotal: 3m 2s\tremaining: 5m 34s\n",
      "106:\tlearn: 0.1360574\ttotal: 3m 4s\tremaining: 5m 32s\n",
      "107:\tlearn: 0.1357567\ttotal: 3m 6s\tremaining: 5m 30s\n",
      "108:\tlearn: 0.1355940\ttotal: 3m 7s\tremaining: 5m 29s\n",
      "109:\tlearn: 0.1353788\ttotal: 3m 9s\tremaining: 5m 27s\n",
      "110:\tlearn: 0.1352250\ttotal: 3m 11s\tremaining: 5m 25s\n",
      "111:\tlearn: 0.1349160\ttotal: 3m 13s\tremaining: 5m 24s\n",
      "112:\tlearn: 0.1347374\ttotal: 3m 14s\tremaining: 5m 22s\n",
      "113:\tlearn: 0.1345330\ttotal: 3m 16s\tremaining: 5m 20s\n",
      "114:\tlearn: 0.1343772\ttotal: 3m 18s\tremaining: 5m 18s\n",
      "115:\tlearn: 0.1339834\ttotal: 3m 19s\tremaining: 5m 17s\n",
      "116:\tlearn: 0.1338410\ttotal: 3m 21s\tremaining: 5m 15s\n",
      "117:\tlearn: 0.1336824\ttotal: 3m 23s\tremaining: 5m 13s\n",
      "118:\tlearn: 0.1335481\ttotal: 3m 24s\tremaining: 5m 11s\n",
      "119:\tlearn: 0.1331023\ttotal: 3m 26s\tremaining: 5m 10s\n",
      "120:\tlearn: 0.1329317\ttotal: 3m 28s\tremaining: 5m 8s\n",
      "121:\tlearn: 0.1328061\ttotal: 3m 29s\tremaining: 5m 6s\n",
      "122:\tlearn: 0.1325643\ttotal: 3m 31s\tremaining: 5m 4s\n",
      "123:\tlearn: 0.1321606\ttotal: 3m 33s\tremaining: 5m 3s\n",
      "124:\tlearn: 0.1318549\ttotal: 3m 35s\tremaining: 5m 1s\n",
      "125:\tlearn: 0.1316403\ttotal: 3m 37s\tremaining: 4m 59s\n",
      "126:\tlearn: 0.1313747\ttotal: 3m 38s\tremaining: 4m 58s\n",
      "127:\tlearn: 0.1312362\ttotal: 3m 40s\tremaining: 4m 56s\n",
      "128:\tlearn: 0.1309953\ttotal: 3m 42s\tremaining: 4m 54s\n",
      "129:\tlearn: 0.1308462\ttotal: 3m 43s\tremaining: 4m 52s\n",
      "130:\tlearn: 0.1304706\ttotal: 3m 45s\tremaining: 4m 51s\n",
      "131:\tlearn: 0.1302136\ttotal: 3m 47s\tremaining: 4m 49s\n",
      "132:\tlearn: 0.1300004\ttotal: 3m 49s\tremaining: 4m 47s\n",
      "133:\tlearn: 0.1296914\ttotal: 3m 50s\tremaining: 4m 45s\n",
      "134:\tlearn: 0.1294316\ttotal: 3m 52s\tremaining: 4m 44s\n",
      "135:\tlearn: 0.1292250\ttotal: 3m 54s\tremaining: 4m 42s\n",
      "136:\tlearn: 0.1290962\ttotal: 3m 56s\tremaining: 4m 40s\n",
      "137:\tlearn: 0.1288267\ttotal: 3m 57s\tremaining: 4m 39s\n",
      "138:\tlearn: 0.1286005\ttotal: 3m 59s\tremaining: 4m 37s\n",
      "139:\tlearn: 0.1282111\ttotal: 4m 1s\tremaining: 4m 35s\n",
      "140:\tlearn: 0.1278685\ttotal: 4m 3s\tremaining: 4m 34s\n",
      "141:\tlearn: 0.1276618\ttotal: 4m 4s\tremaining: 4m 32s\n",
      "142:\tlearn: 0.1275480\ttotal: 4m 6s\tremaining: 4m 30s\n",
      "143:\tlearn: 0.1274241\ttotal: 4m 8s\tremaining: 4m 28s\n",
      "144:\tlearn: 0.1272356\ttotal: 4m 9s\tremaining: 4m 27s\n",
      "145:\tlearn: 0.1270546\ttotal: 4m 11s\tremaining: 4m 25s\n",
      "146:\tlearn: 0.1269380\ttotal: 4m 13s\tremaining: 4m 23s\n",
      "147:\tlearn: 0.1266386\ttotal: 4m 15s\tremaining: 4m 21s\n",
      "148:\tlearn: 0.1264576\ttotal: 4m 16s\tremaining: 4m 20s\n",
      "149:\tlearn: 0.1263484\ttotal: 4m 18s\tremaining: 4m 18s\n",
      "150:\tlearn: 0.1262480\ttotal: 4m 19s\tremaining: 4m 16s\n",
      "151:\tlearn: 0.1261473\ttotal: 4m 21s\tremaining: 4m 14s\n",
      "152:\tlearn: 0.1258471\ttotal: 4m 23s\tremaining: 4m 13s\n",
      "153:\tlearn: 0.1256230\ttotal: 4m 25s\tremaining: 4m 11s\n",
      "154:\tlearn: 0.1254240\ttotal: 4m 26s\tremaining: 4m 9s\n",
      "155:\tlearn: 0.1253203\ttotal: 4m 28s\tremaining: 4m 7s\n",
      "156:\tlearn: 0.1250176\ttotal: 4m 30s\tremaining: 4m 6s\n",
      "157:\tlearn: 0.1247691\ttotal: 4m 32s\tremaining: 4m 4s\n",
      "158:\tlearn: 0.1244977\ttotal: 4m 33s\tremaining: 4m 2s\n",
      "159:\tlearn: 0.1243761\ttotal: 4m 35s\tremaining: 4m 1s\n",
      "160:\tlearn: 0.1242624\ttotal: 4m 37s\tremaining: 3m 59s\n",
      "161:\tlearn: 0.1241585\ttotal: 4m 39s\tremaining: 3m 57s\n",
      "162:\tlearn: 0.1238904\ttotal: 4m 40s\tremaining: 3m 56s\n",
      "163:\tlearn: 0.1235869\ttotal: 4m 42s\tremaining: 3m 54s\n",
      "164:\tlearn: 0.1233388\ttotal: 4m 44s\tremaining: 3m 52s\n",
      "165:\tlearn: 0.1232452\ttotal: 4m 46s\tremaining: 3m 50s\n",
      "166:\tlearn: 0.1231550\ttotal: 4m 47s\tremaining: 3m 49s\n",
      "167:\tlearn: 0.1229145\ttotal: 4m 49s\tremaining: 3m 47s\n",
      "168:\tlearn: 0.1227368\ttotal: 4m 51s\tremaining: 3m 45s\n",
      "169:\tlearn: 0.1224392\ttotal: 4m 53s\tremaining: 3m 44s\n",
      "170:\tlearn: 0.1222146\ttotal: 4m 54s\tremaining: 3m 42s\n",
      "171:\tlearn: 0.1221180\ttotal: 4m 56s\tremaining: 3m 40s\n",
      "172:\tlearn: 0.1219214\ttotal: 4m 58s\tremaining: 3m 38s\n",
      "173:\tlearn: 0.1217507\ttotal: 4m 59s\tremaining: 3m 37s\n",
      "174:\tlearn: 0.1216604\ttotal: 5m 1s\tremaining: 3m 35s\n",
      "175:\tlearn: 0.1215282\ttotal: 5m 3s\tremaining: 3m 33s\n",
      "176:\tlearn: 0.1214373\ttotal: 5m 4s\tremaining: 3m 31s\n",
      "177:\tlearn: 0.1213357\ttotal: 5m 6s\tremaining: 3m 30s\n",
      "178:\tlearn: 0.1211710\ttotal: 5m 8s\tremaining: 3m 28s\n",
      "179:\tlearn: 0.1209776\ttotal: 5m 9s\tremaining: 3m 26s\n",
      "180:\tlearn: 0.1208879\ttotal: 5m 11s\tremaining: 3m 24s\n",
      "181:\tlearn: 0.1208061\ttotal: 5m 13s\tremaining: 3m 22s\n",
      "182:\tlearn: 0.1207146\ttotal: 5m 14s\tremaining: 3m 21s\n",
      "183:\tlearn: 0.1206070\ttotal: 5m 16s\tremaining: 3m 19s\n",
      "184:\tlearn: 0.1202400\ttotal: 5m 18s\tremaining: 3m 17s\n",
      "185:\tlearn: 0.1201535\ttotal: 5m 19s\tremaining: 3m 15s\n",
      "186:\tlearn: 0.1199699\ttotal: 5m 21s\tremaining: 3m 14s\n",
      "187:\tlearn: 0.1198676\ttotal: 5m 22s\tremaining: 3m 12s\n",
      "188:\tlearn: 0.1197822\ttotal: 5m 24s\tremaining: 3m 10s\n",
      "189:\tlearn: 0.1196969\ttotal: 5m 26s\tremaining: 3m 8s\n",
      "190:\tlearn: 0.1196162\ttotal: 5m 27s\tremaining: 3m 7s\n",
      "191:\tlearn: 0.1193750\ttotal: 5m 29s\tremaining: 3m 5s\n",
      "192:\tlearn: 0.1191603\ttotal: 5m 31s\tremaining: 3m 3s\n",
      "193:\tlearn: 0.1190290\ttotal: 5m 32s\tremaining: 3m 1s\n",
      "194:\tlearn: 0.1188989\ttotal: 5m 34s\tremaining: 3m\n",
      "195:\tlearn: 0.1188039\ttotal: 5m 36s\tremaining: 2m 58s\n",
      "196:\tlearn: 0.1187265\ttotal: 5m 37s\tremaining: 2m 56s\n",
      "197:\tlearn: 0.1185338\ttotal: 5m 39s\tremaining: 2m 54s\n",
      "198:\tlearn: 0.1184558\ttotal: 5m 41s\tremaining: 2m 53s\n",
      "199:\tlearn: 0.1183714\ttotal: 5m 42s\tremaining: 2m 51s\n",
      "200:\tlearn: 0.1180374\ttotal: 5m 44s\tremaining: 2m 49s\n",
      "201:\tlearn: 0.1179230\ttotal: 5m 46s\tremaining: 2m 48s\n",
      "202:\tlearn: 0.1178200\ttotal: 5m 48s\tremaining: 2m 46s\n",
      "203:\tlearn: 0.1177430\ttotal: 5m 49s\tremaining: 2m 44s\n",
      "204:\tlearn: 0.1175361\ttotal: 5m 51s\tremaining: 2m 42s\n",
      "205:\tlearn: 0.1173817\ttotal: 5m 53s\tremaining: 2m 41s\n",
      "206:\tlearn: 0.1172228\ttotal: 5m 55s\tremaining: 2m 39s\n",
      "207:\tlearn: 0.1171500\ttotal: 5m 56s\tremaining: 2m 37s\n",
      "208:\tlearn: 0.1168943\ttotal: 5m 58s\tremaining: 2m 36s\n",
      "209:\tlearn: 0.1168266\ttotal: 6m\tremaining: 2m 34s\n",
      "210:\tlearn: 0.1166398\ttotal: 6m 2s\tremaining: 2m 32s\n",
      "211:\tlearn: 0.1165472\ttotal: 6m 3s\tremaining: 2m 31s\n",
      "212:\tlearn: 0.1164758\ttotal: 6m 5s\tremaining: 2m 29s\n",
      "213:\tlearn: 0.1162606\ttotal: 6m 7s\tremaining: 2m 27s\n",
      "214:\tlearn: 0.1160795\ttotal: 6m 8s\tremaining: 2m 25s\n",
      "215:\tlearn: 0.1160097\ttotal: 6m 10s\tremaining: 2m 24s\n",
      "216:\tlearn: 0.1158280\ttotal: 6m 12s\tremaining: 2m 22s\n",
      "217:\tlearn: 0.1157479\ttotal: 6m 14s\tremaining: 2m 20s\n",
      "218:\tlearn: 0.1156592\ttotal: 6m 15s\tremaining: 2m 18s\n",
      "219:\tlearn: 0.1155875\ttotal: 6m 17s\tremaining: 2m 17s\n",
      "220:\tlearn: 0.1155197\ttotal: 6m 19s\tremaining: 2m 15s\n",
      "221:\tlearn: 0.1153199\ttotal: 6m 20s\tremaining: 2m 13s\n",
      "222:\tlearn: 0.1152459\ttotal: 6m 22s\tremaining: 2m 12s\n",
      "223:\tlearn: 0.1151781\ttotal: 6m 24s\tremaining: 2m 10s\n",
      "224:\tlearn: 0.1150138\ttotal: 6m 26s\tremaining: 2m 8s\n",
      "225:\tlearn: 0.1148215\ttotal: 6m 27s\tremaining: 2m 7s\n",
      "226:\tlearn: 0.1147572\ttotal: 6m 29s\tremaining: 2m 5s\n",
      "227:\tlearn: 0.1146891\ttotal: 6m 31s\tremaining: 2m 3s\n",
      "228:\tlearn: 0.1146188\ttotal: 6m 33s\tremaining: 2m 1s\n",
      "229:\tlearn: 0.1145373\ttotal: 6m 35s\tremaining: 2m\n",
      "230:\tlearn: 0.1144676\ttotal: 6m 37s\tremaining: 1m 58s\n",
      "231:\tlearn: 0.1144080\ttotal: 6m 39s\tremaining: 1m 57s\n",
      "232:\tlearn: 0.1141820\ttotal: 6m 41s\tremaining: 1m 55s\n",
      "233:\tlearn: 0.1141111\ttotal: 6m 43s\tremaining: 1m 53s\n",
      "234:\tlearn: 0.1140522\ttotal: 6m 44s\tremaining: 1m 52s\n",
      "235:\tlearn: 0.1138427\ttotal: 6m 46s\tremaining: 1m 50s\n",
      "236:\tlearn: 0.1137824\ttotal: 6m 48s\tremaining: 1m 48s\n",
      "237:\tlearn: 0.1137235\ttotal: 6m 50s\tremaining: 1m 46s\n",
      "238:\tlearn: 0.1135359\ttotal: 6m 51s\tremaining: 1m 45s\n",
      "239:\tlearn: 0.1134729\ttotal: 6m 53s\tremaining: 1m 43s\n",
      "240:\tlearn: 0.1133119\ttotal: 6m 55s\tremaining: 1m 41s\n",
      "241:\tlearn: 0.1132222\ttotal: 6m 57s\tremaining: 1m 39s\n",
      "242:\tlearn: 0.1130434\ttotal: 6m 58s\tremaining: 1m 38s\n",
      "243:\tlearn: 0.1129031\ttotal: 7m\tremaining: 1m 36s\n",
      "244:\tlearn: 0.1128385\ttotal: 7m 2s\tremaining: 1m 34s\n",
      "245:\tlearn: 0.1127630\ttotal: 7m 4s\tremaining: 1m 33s\n",
      "246:\tlearn: 0.1126658\ttotal: 7m 5s\tremaining: 1m 31s\n",
      "247:\tlearn: 0.1125380\ttotal: 7m 7s\tremaining: 1m 29s\n",
      "248:\tlearn: 0.1123827\ttotal: 7m 9s\tremaining: 1m 27s\n",
      "249:\tlearn: 0.1122391\ttotal: 7m 11s\tremaining: 1m 26s\n",
      "250:\tlearn: 0.1121710\ttotal: 7m 13s\tremaining: 1m 24s\n",
      "251:\tlearn: 0.1120263\ttotal: 7m 14s\tremaining: 1m 22s\n",
      "252:\tlearn: 0.1117844\ttotal: 7m 16s\tremaining: 1m 21s\n",
      "253:\tlearn: 0.1116943\ttotal: 7m 18s\tremaining: 1m 19s\n",
      "254:\tlearn: 0.1116314\ttotal: 7m 20s\tremaining: 1m 17s\n",
      "255:\tlearn: 0.1114582\ttotal: 7m 22s\tremaining: 1m 16s\n",
      "256:\tlearn: 0.1113937\ttotal: 7m 24s\tremaining: 1m 14s\n",
      "257:\tlearn: 0.1113176\ttotal: 7m 26s\tremaining: 1m 12s\n",
      "258:\tlearn: 0.1112580\ttotal: 7m 27s\tremaining: 1m 10s\n",
      "259:\tlearn: 0.1111859\ttotal: 7m 29s\tremaining: 1m 9s\n",
      "260:\tlearn: 0.1110135\ttotal: 7m 31s\tremaining: 1m 7s\n",
      "261:\tlearn: 0.1109566\ttotal: 7m 33s\tremaining: 1m 5s\n",
      "262:\tlearn: 0.1108319\ttotal: 7m 35s\tremaining: 1m 4s\n",
      "263:\tlearn: 0.1107741\ttotal: 7m 36s\tremaining: 1m 2s\n",
      "264:\tlearn: 0.1106498\ttotal: 7m 38s\tremaining: 1m\n",
      "265:\tlearn: 0.1105936\ttotal: 7m 40s\tremaining: 58.9s\n",
      "266:\tlearn: 0.1103951\ttotal: 7m 42s\tremaining: 57.2s\n",
      "267:\tlearn: 0.1103268\ttotal: 7m 44s\tremaining: 55.5s\n",
      "268:\tlearn: 0.1102623\ttotal: 7m 46s\tremaining: 53.7s\n",
      "269:\tlearn: 0.1102003\ttotal: 7m 48s\tremaining: 52s\n",
      "270:\tlearn: 0.1100396\ttotal: 7m 50s\tremaining: 50.3s\n",
      "271:\tlearn: 0.1099807\ttotal: 7m 51s\tremaining: 48.6s\n",
      "272:\tlearn: 0.1097573\ttotal: 7m 53s\tremaining: 46.8s\n",
      "273:\tlearn: 0.1097040\ttotal: 7m 55s\tremaining: 45.1s\n",
      "274:\tlearn: 0.1095808\ttotal: 7m 57s\tremaining: 43.4s\n",
      "275:\tlearn: 0.1092517\ttotal: 7m 59s\tremaining: 41.7s\n",
      "276:\tlearn: 0.1090984\ttotal: 8m 1s\tremaining: 40s\n",
      "277:\tlearn: 0.1090330\ttotal: 8m 3s\tremaining: 38.2s\n",
      "278:\tlearn: 0.1089659\ttotal: 8m 4s\tremaining: 36.5s\n",
      "279:\tlearn: 0.1089019\ttotal: 8m 6s\tremaining: 34.7s\n",
      "280:\tlearn: 0.1088469\ttotal: 8m 8s\tremaining: 33s\n",
      "281:\tlearn: 0.1086796\ttotal: 8m 9s\tremaining: 31.3s\n",
      "282:\tlearn: 0.1085444\ttotal: 8m 11s\tremaining: 29.5s\n",
      "283:\tlearn: 0.1084938\ttotal: 8m 13s\tremaining: 27.8s\n",
      "284:\tlearn: 0.1083349\ttotal: 8m 15s\tremaining: 26.1s\n",
      "285:\tlearn: 0.1082238\ttotal: 8m 16s\tremaining: 24.3s\n",
      "286:\tlearn: 0.1080850\ttotal: 8m 18s\tremaining: 22.6s\n",
      "287:\tlearn: 0.1080282\ttotal: 8m 20s\tremaining: 20.8s\n",
      "288:\tlearn: 0.1078931\ttotal: 8m 22s\tremaining: 19.1s\n",
      "289:\tlearn: 0.1078196\ttotal: 8m 23s\tremaining: 17.4s\n",
      "290:\tlearn: 0.1076500\ttotal: 8m 25s\tremaining: 15.6s\n",
      "291:\tlearn: 0.1075335\ttotal: 8m 27s\tremaining: 13.9s\n",
      "292:\tlearn: 0.1074090\ttotal: 8m 29s\tremaining: 12.2s\n",
      "293:\tlearn: 0.1072986\ttotal: 8m 30s\tremaining: 10.4s\n",
      "294:\tlearn: 0.1071436\ttotal: 8m 32s\tremaining: 8.69s\n",
      "295:\tlearn: 0.1070948\ttotal: 8m 34s\tremaining: 6.95s\n",
      "296:\tlearn: 0.1070403\ttotal: 8m 36s\tremaining: 5.21s\n",
      "297:\tlearn: 0.1069901\ttotal: 8m 37s\tremaining: 3.48s\n",
      "298:\tlearn: 0.1069312\ttotal: 8m 39s\tremaining: 1.74s\n",
      "299:\tlearn: 0.1068734\ttotal: 8m 41s\tremaining: 0us\n",
      "Learning rate set to 0.217781\n",
      "0:\tlearn: 0.4971761\ttotal: 2.33s\tremaining: 11m 35s\n",
      "1:\tlearn: 0.3831849\ttotal: 4.14s\tremaining: 10m 16s\n",
      "2:\tlearn: 0.3194540\ttotal: 5.99s\tremaining: 9m 52s\n",
      "3:\tlearn: 0.2828855\ttotal: 7.76s\tremaining: 9m 34s\n",
      "4:\tlearn: 0.2604791\ttotal: 9.63s\tremaining: 9m 28s\n",
      "5:\tlearn: 0.2455254\ttotal: 11.5s\tremaining: 9m 23s\n",
      "6:\tlearn: 0.2344004\ttotal: 13.3s\tremaining: 9m 17s\n",
      "7:\tlearn: 0.2270835\ttotal: 15.2s\tremaining: 9m 15s\n",
      "8:\tlearn: 0.2215916\ttotal: 17.1s\tremaining: 9m 13s\n",
      "9:\tlearn: 0.2176958\ttotal: 18.9s\tremaining: 9m 9s\n",
      "10:\tlearn: 0.2125240\ttotal: 20.8s\tremaining: 9m 6s\n",
      "11:\tlearn: 0.2092064\ttotal: 22.6s\tremaining: 9m 1s\n",
      "12:\tlearn: 0.2061086\ttotal: 24.3s\tremaining: 8m 57s\n",
      "13:\tlearn: 0.2039284\ttotal: 26.1s\tremaining: 8m 52s\n",
      "14:\tlearn: 0.2012914\ttotal: 27.9s\tremaining: 8m 49s\n",
      "15:\tlearn: 0.1983337\ttotal: 29.7s\tremaining: 8m 46s\n",
      "16:\tlearn: 0.1966072\ttotal: 31.4s\tremaining: 8m 43s\n",
      "17:\tlearn: 0.1946516\ttotal: 33.2s\tremaining: 8m 40s\n",
      "18:\tlearn: 0.1925526\ttotal: 35s\tremaining: 8m 37s\n",
      "19:\tlearn: 0.1910666\ttotal: 36.7s\tremaining: 8m 34s\n",
      "20:\tlearn: 0.1895881\ttotal: 38.6s\tremaining: 8m 32s\n",
      "21:\tlearn: 0.1883196\ttotal: 40.5s\tremaining: 8m 31s\n",
      "22:\tlearn: 0.1868659\ttotal: 42.2s\tremaining: 8m 28s\n",
      "23:\tlearn: 0.1850037\ttotal: 44.1s\tremaining: 8m 26s\n",
      "24:\tlearn: 0.1832714\ttotal: 45.9s\tremaining: 8m 25s\n",
      "25:\tlearn: 0.1818194\ttotal: 47.6s\tremaining: 8m 22s\n",
      "26:\tlearn: 0.1809032\ttotal: 49.4s\tremaining: 8m 19s\n",
      "27:\tlearn: 0.1795001\ttotal: 51.2s\tremaining: 8m 17s\n",
      "28:\tlearn: 0.1783855\ttotal: 52.9s\tremaining: 8m 14s\n",
      "29:\tlearn: 0.1774692\ttotal: 54.8s\tremaining: 8m 12s\n",
      "30:\tlearn: 0.1765204\ttotal: 56.6s\tremaining: 8m 10s\n",
      "31:\tlearn: 0.1758117\ttotal: 58.3s\tremaining: 8m 8s\n",
      "32:\tlearn: 0.1750269\ttotal: 1m\tremaining: 8m 5s\n",
      "33:\tlearn: 0.1743526\ttotal: 1m 1s\tremaining: 8m 2s\n",
      "34:\tlearn: 0.1735364\ttotal: 1m 3s\tremaining: 8m\n",
      "35:\tlearn: 0.1724691\ttotal: 1m 5s\tremaining: 7m 57s\n",
      "36:\tlearn: 0.1718482\ttotal: 1m 6s\tremaining: 7m 54s\n",
      "37:\tlearn: 0.1705280\ttotal: 1m 8s\tremaining: 7m 52s\n",
      "38:\tlearn: 0.1697193\ttotal: 1m 10s\tremaining: 7m 50s\n",
      "39:\tlearn: 0.1688145\ttotal: 1m 11s\tremaining: 7m 47s\n",
      "40:\tlearn: 0.1682144\ttotal: 1m 13s\tremaining: 7m 44s\n",
      "41:\tlearn: 0.1675479\ttotal: 1m 15s\tremaining: 7m 42s\n",
      "42:\tlearn: 0.1668382\ttotal: 1m 16s\tremaining: 7m 39s\n",
      "43:\tlearn: 0.1661246\ttotal: 1m 18s\tremaining: 7m 37s\n",
      "44:\tlearn: 0.1651969\ttotal: 1m 20s\tremaining: 7m 34s\n",
      "45:\tlearn: 0.1645615\ttotal: 1m 21s\tremaining: 7m 31s\n",
      "46:\tlearn: 0.1639911\ttotal: 1m 23s\tremaining: 7m 29s\n",
      "47:\tlearn: 0.1634466\ttotal: 1m 25s\tremaining: 7m 27s\n",
      "48:\tlearn: 0.1629064\ttotal: 1m 26s\tremaining: 7m 24s\n",
      "49:\tlearn: 0.1623163\ttotal: 1m 28s\tremaining: 7m 22s\n",
      "50:\tlearn: 0.1617221\ttotal: 1m 30s\tremaining: 7m 20s\n",
      "51:\tlearn: 0.1611937\ttotal: 1m 31s\tremaining: 7m 17s\n",
      "52:\tlearn: 0.1605195\ttotal: 1m 33s\tremaining: 7m 15s\n",
      "53:\tlearn: 0.1600568\ttotal: 1m 35s\tremaining: 7m 13s\n",
      "54:\tlearn: 0.1595508\ttotal: 1m 36s\tremaining: 7m 10s\n",
      "55:\tlearn: 0.1588378\ttotal: 1m 38s\tremaining: 7m 8s\n",
      "56:\tlearn: 0.1581926\ttotal: 1m 40s\tremaining: 7m 6s\n",
      "57:\tlearn: 0.1577634\ttotal: 1m 41s\tremaining: 7m 4s\n",
      "58:\tlearn: 0.1572911\ttotal: 1m 43s\tremaining: 7m 1s\n",
      "59:\tlearn: 0.1567714\ttotal: 1m 44s\tremaining: 6m 59s\n",
      "60:\tlearn: 0.1563779\ttotal: 1m 46s\tremaining: 6m 57s\n",
      "61:\tlearn: 0.1558351\ttotal: 1m 48s\tremaining: 6m 54s\n",
      "62:\tlearn: 0.1551443\ttotal: 1m 49s\tremaining: 6m 53s\n",
      "63:\tlearn: 0.1546311\ttotal: 1m 51s\tremaining: 6m 51s\n",
      "64:\tlearn: 0.1539157\ttotal: 1m 53s\tremaining: 6m 49s\n",
      "65:\tlearn: 0.1535030\ttotal: 1m 54s\tremaining: 6m 47s\n",
      "66:\tlearn: 0.1530699\ttotal: 1m 56s\tremaining: 6m 45s\n",
      "67:\tlearn: 0.1526032\ttotal: 1m 58s\tremaining: 6m 43s\n",
      "68:\tlearn: 0.1522807\ttotal: 1m 59s\tremaining: 6m 41s\n",
      "69:\tlearn: 0.1518224\ttotal: 2m 1s\tremaining: 6m 39s\n",
      "70:\tlearn: 0.1514106\ttotal: 2m 3s\tremaining: 6m 38s\n",
      "71:\tlearn: 0.1507177\ttotal: 2m 5s\tremaining: 6m 36s\n",
      "72:\tlearn: 0.1501273\ttotal: 2m 6s\tremaining: 6m 34s\n",
      "73:\tlearn: 0.1496986\ttotal: 2m 8s\tremaining: 6m 32s\n",
      "74:\tlearn: 0.1492687\ttotal: 2m 10s\tremaining: 6m 30s\n",
      "75:\tlearn: 0.1489101\ttotal: 2m 11s\tremaining: 6m 28s\n",
      "76:\tlearn: 0.1485609\ttotal: 2m 13s\tremaining: 6m 26s\n",
      "77:\tlearn: 0.1479574\ttotal: 2m 15s\tremaining: 6m 24s\n",
      "78:\tlearn: 0.1473603\ttotal: 2m 16s\tremaining: 6m 22s\n",
      "79:\tlearn: 0.1470622\ttotal: 2m 18s\tremaining: 6m 20s\n",
      "80:\tlearn: 0.1465664\ttotal: 2m 19s\tremaining: 6m 18s\n",
      "81:\tlearn: 0.1460884\ttotal: 2m 21s\tremaining: 6m 16s\n",
      "82:\tlearn: 0.1458028\ttotal: 2m 23s\tremaining: 6m 14s\n",
      "83:\tlearn: 0.1454648\ttotal: 2m 25s\tremaining: 6m 12s\n",
      "84:\tlearn: 0.1451959\ttotal: 2m 26s\tremaining: 6m 10s\n",
      "85:\tlearn: 0.1449959\ttotal: 2m 28s\tremaining: 6m 8s\n",
      "86:\tlearn: 0.1445718\ttotal: 2m 29s\tremaining: 6m 7s\n",
      "87:\tlearn: 0.1440872\ttotal: 2m 31s\tremaining: 6m 5s\n",
      "88:\tlearn: 0.1436316\ttotal: 2m 33s\tremaining: 6m 3s\n",
      "89:\tlearn: 0.1429828\ttotal: 2m 35s\tremaining: 6m 2s\n",
      "90:\tlearn: 0.1427463\ttotal: 2m 36s\tremaining: 6m\n",
      "91:\tlearn: 0.1423275\ttotal: 2m 38s\tremaining: 5m 58s\n",
      "92:\tlearn: 0.1419045\ttotal: 2m 40s\tremaining: 5m 56s\n",
      "93:\tlearn: 0.1416984\ttotal: 2m 41s\tremaining: 5m 55s\n",
      "94:\tlearn: 0.1413458\ttotal: 2m 43s\tremaining: 5m 53s\n",
      "95:\tlearn: 0.1411522\ttotal: 2m 45s\tremaining: 5m 51s\n",
      "96:\tlearn: 0.1407895\ttotal: 2m 47s\tremaining: 5m 50s\n",
      "97:\tlearn: 0.1403645\ttotal: 2m 49s\tremaining: 5m 48s\n",
      "98:\tlearn: 0.1400838\ttotal: 2m 50s\tremaining: 5m 46s\n",
      "99:\tlearn: 0.1397599\ttotal: 2m 52s\tremaining: 5m 45s\n",
      "100:\tlearn: 0.1395480\ttotal: 2m 54s\tremaining: 5m 43s\n",
      "101:\tlearn: 0.1392310\ttotal: 2m 55s\tremaining: 5m 41s\n",
      "102:\tlearn: 0.1390223\ttotal: 2m 57s\tremaining: 5m 39s\n",
      "103:\tlearn: 0.1386058\ttotal: 2m 59s\tremaining: 5m 37s\n",
      "104:\tlearn: 0.1383205\ttotal: 3m\tremaining: 5m 35s\n",
      "105:\tlearn: 0.1380299\ttotal: 3m 2s\tremaining: 5m 34s\n",
      "106:\tlearn: 0.1377330\ttotal: 3m 4s\tremaining: 5m 32s\n",
      "107:\tlearn: 0.1373610\ttotal: 3m 5s\tremaining: 5m 30s\n",
      "108:\tlearn: 0.1371677\ttotal: 3m 7s\tremaining: 5m 28s\n",
      "109:\tlearn: 0.1368813\ttotal: 3m 9s\tremaining: 5m 27s\n",
      "110:\tlearn: 0.1364615\ttotal: 3m 11s\tremaining: 5m 25s\n",
      "111:\tlearn: 0.1362011\ttotal: 3m 12s\tremaining: 5m 23s\n",
      "112:\tlearn: 0.1359796\ttotal: 3m 14s\tremaining: 5m 21s\n",
      "113:\tlearn: 0.1358293\ttotal: 3m 16s\tremaining: 5m 20s\n",
      "114:\tlearn: 0.1353835\ttotal: 3m 17s\tremaining: 5m 18s\n",
      "115:\tlearn: 0.1351794\ttotal: 3m 19s\tremaining: 5m 16s\n",
      "116:\tlearn: 0.1349599\ttotal: 3m 21s\tremaining: 5m 14s\n",
      "117:\tlearn: 0.1346446\ttotal: 3m 22s\tremaining: 5m 12s\n",
      "118:\tlearn: 0.1343625\ttotal: 3m 24s\tremaining: 5m 10s\n",
      "119:\tlearn: 0.1340779\ttotal: 3m 26s\tremaining: 5m 9s\n",
      "120:\tlearn: 0.1338622\ttotal: 3m 27s\tremaining: 5m 7s\n",
      "121:\tlearn: 0.1337320\ttotal: 3m 29s\tremaining: 5m 5s\n",
      "122:\tlearn: 0.1334580\ttotal: 3m 31s\tremaining: 5m 3s\n",
      "123:\tlearn: 0.1332908\ttotal: 3m 32s\tremaining: 5m 2s\n",
      "124:\tlearn: 0.1331094\ttotal: 3m 34s\tremaining: 5m\n",
      "125:\tlearn: 0.1329341\ttotal: 3m 36s\tremaining: 4m 58s\n",
      "126:\tlearn: 0.1326691\ttotal: 3m 37s\tremaining: 4m 56s\n",
      "127:\tlearn: 0.1325447\ttotal: 3m 39s\tremaining: 4m 54s\n",
      "128:\tlearn: 0.1324250\ttotal: 3m 41s\tremaining: 4m 53s\n",
      "129:\tlearn: 0.1322576\ttotal: 3m 42s\tremaining: 4m 51s\n",
      "130:\tlearn: 0.1319433\ttotal: 3m 44s\tremaining: 4m 49s\n",
      "131:\tlearn: 0.1317866\ttotal: 3m 46s\tremaining: 4m 47s\n",
      "132:\tlearn: 0.1315017\ttotal: 3m 47s\tremaining: 4m 46s\n",
      "133:\tlearn: 0.1311598\ttotal: 3m 49s\tremaining: 4m 44s\n",
      "134:\tlearn: 0.1308425\ttotal: 3m 51s\tremaining: 4m 42s\n",
      "135:\tlearn: 0.1307061\ttotal: 3m 52s\tremaining: 4m 40s\n",
      "136:\tlearn: 0.1305224\ttotal: 3m 54s\tremaining: 4m 39s\n",
      "137:\tlearn: 0.1303865\ttotal: 3m 56s\tremaining: 4m 37s\n",
      "138:\tlearn: 0.1301294\ttotal: 3m 57s\tremaining: 4m 35s\n",
      "139:\tlearn: 0.1299139\ttotal: 3m 59s\tremaining: 4m 33s\n",
      "140:\tlearn: 0.1298000\ttotal: 4m 1s\tremaining: 4m 32s\n",
      "141:\tlearn: 0.1295781\ttotal: 4m 2s\tremaining: 4m 30s\n",
      "142:\tlearn: 0.1294357\ttotal: 4m 4s\tremaining: 4m 28s\n",
      "143:\tlearn: 0.1292170\ttotal: 4m 6s\tremaining: 4m 26s\n",
      "144:\tlearn: 0.1289795\ttotal: 4m 8s\tremaining: 4m 25s\n",
      "145:\tlearn: 0.1288554\ttotal: 4m 10s\tremaining: 4m 23s\n",
      "146:\tlearn: 0.1287545\ttotal: 4m 11s\tremaining: 4m 22s\n",
      "147:\tlearn: 0.1284874\ttotal: 4m 13s\tremaining: 4m 20s\n",
      "148:\tlearn: 0.1281687\ttotal: 4m 15s\tremaining: 4m 18s\n",
      "149:\tlearn: 0.1278644\ttotal: 4m 16s\tremaining: 4m 16s\n",
      "150:\tlearn: 0.1275743\ttotal: 4m 18s\tremaining: 4m 14s\n",
      "151:\tlearn: 0.1273512\ttotal: 4m 20s\tremaining: 4m 13s\n",
      "152:\tlearn: 0.1268893\ttotal: 4m 21s\tremaining: 4m 11s\n",
      "153:\tlearn: 0.1267072\ttotal: 4m 23s\tremaining: 4m 9s\n",
      "154:\tlearn: 0.1265725\ttotal: 4m 24s\tremaining: 4m 7s\n",
      "155:\tlearn: 0.1264462\ttotal: 4m 26s\tremaining: 4m 6s\n",
      "156:\tlearn: 0.1260950\ttotal: 4m 28s\tremaining: 4m 4s\n",
      "157:\tlearn: 0.1258938\ttotal: 4m 29s\tremaining: 4m 2s\n",
      "158:\tlearn: 0.1257989\ttotal: 4m 31s\tremaining: 4m\n",
      "159:\tlearn: 0.1255206\ttotal: 4m 32s\tremaining: 3m 58s\n",
      "160:\tlearn: 0.1254177\ttotal: 4m 34s\tremaining: 3m 57s\n",
      "161:\tlearn: 0.1253141\ttotal: 4m 36s\tremaining: 3m 55s\n",
      "162:\tlearn: 0.1251424\ttotal: 4m 37s\tremaining: 3m 53s\n",
      "163:\tlearn: 0.1248448\ttotal: 4m 39s\tremaining: 3m 51s\n",
      "164:\tlearn: 0.1247411\ttotal: 4m 41s\tremaining: 3m 50s\n",
      "165:\tlearn: 0.1245798\ttotal: 4m 42s\tremaining: 3m 48s\n",
      "166:\tlearn: 0.1243336\ttotal: 4m 44s\tremaining: 3m 46s\n",
      "167:\tlearn: 0.1242379\ttotal: 4m 46s\tremaining: 3m 44s\n",
      "168:\tlearn: 0.1239640\ttotal: 4m 47s\tremaining: 3m 43s\n",
      "169:\tlearn: 0.1237738\ttotal: 4m 49s\tremaining: 3m 41s\n",
      "170:\tlearn: 0.1236502\ttotal: 4m 51s\tremaining: 3m 39s\n",
      "171:\tlearn: 0.1235506\ttotal: 4m 52s\tremaining: 3m 38s\n",
      "172:\tlearn: 0.1234580\ttotal: 4m 54s\tremaining: 3m 36s\n",
      "173:\tlearn: 0.1232124\ttotal: 4m 56s\tremaining: 3m 34s\n",
      "174:\tlearn: 0.1228839\ttotal: 4m 57s\tremaining: 3m 32s\n",
      "175:\tlearn: 0.1227927\ttotal: 4m 59s\tremaining: 3m 31s\n",
      "176:\tlearn: 0.1225091\ttotal: 5m 1s\tremaining: 3m 29s\n",
      "177:\tlearn: 0.1224223\ttotal: 5m 2s\tremaining: 3m 27s\n",
      "178:\tlearn: 0.1223253\ttotal: 5m 4s\tremaining: 3m 25s\n",
      "179:\tlearn: 0.1222362\ttotal: 5m 6s\tremaining: 3m 24s\n",
      "180:\tlearn: 0.1221558\ttotal: 5m 7s\tremaining: 3m 22s\n",
      "181:\tlearn: 0.1219058\ttotal: 5m 9s\tremaining: 3m 20s\n",
      "182:\tlearn: 0.1218222\ttotal: 5m 10s\tremaining: 3m 18s\n",
      "183:\tlearn: 0.1217226\ttotal: 5m 12s\tremaining: 3m 16s\n",
      "184:\tlearn: 0.1215137\ttotal: 5m 13s\tremaining: 3m 15s\n",
      "185:\tlearn: 0.1213480\ttotal: 5m 15s\tremaining: 3m 13s\n",
      "186:\tlearn: 0.1212490\ttotal: 5m 17s\tremaining: 3m 11s\n",
      "187:\tlearn: 0.1211635\ttotal: 5m 18s\tremaining: 3m 9s\n",
      "188:\tlearn: 0.1210650\ttotal: 5m 20s\tremaining: 3m 8s\n",
      "189:\tlearn: 0.1209580\ttotal: 5m 21s\tremaining: 3m 6s\n",
      "190:\tlearn: 0.1207129\ttotal: 5m 23s\tremaining: 3m 4s\n",
      "191:\tlearn: 0.1205534\ttotal: 5m 25s\tremaining: 3m 2s\n",
      "192:\tlearn: 0.1203523\ttotal: 5m 26s\tremaining: 3m 1s\n",
      "193:\tlearn: 0.1201964\ttotal: 5m 28s\tremaining: 2m 59s\n",
      "194:\tlearn: 0.1201095\ttotal: 5m 29s\tremaining: 2m 57s\n",
      "195:\tlearn: 0.1199440\ttotal: 5m 31s\tremaining: 2m 55s\n",
      "196:\tlearn: 0.1198664\ttotal: 5m 33s\tremaining: 2m 54s\n",
      "197:\tlearn: 0.1197820\ttotal: 5m 34s\tremaining: 2m 52s\n",
      "198:\tlearn: 0.1195453\ttotal: 5m 36s\tremaining: 2m 50s\n",
      "199:\tlearn: 0.1194679\ttotal: 5m 38s\tremaining: 2m 49s\n",
      "200:\tlearn: 0.1193955\ttotal: 5m 39s\tremaining: 2m 47s\n",
      "201:\tlearn: 0.1191406\ttotal: 5m 41s\tremaining: 2m 45s\n",
      "202:\tlearn: 0.1190416\ttotal: 5m 42s\tremaining: 2m 43s\n",
      "203:\tlearn: 0.1188858\ttotal: 5m 44s\tremaining: 2m 42s\n",
      "204:\tlearn: 0.1187329\ttotal: 5m 46s\tremaining: 2m 40s\n",
      "205:\tlearn: 0.1186514\ttotal: 5m 47s\tremaining: 2m 38s\n",
      "206:\tlearn: 0.1184356\ttotal: 5m 49s\tremaining: 2m 36s\n",
      "207:\tlearn: 0.1182435\ttotal: 5m 51s\tremaining: 2m 35s\n",
      "208:\tlearn: 0.1181676\ttotal: 5m 52s\tremaining: 2m 33s\n",
      "209:\tlearn: 0.1180957\ttotal: 5m 54s\tremaining: 2m 31s\n",
      "210:\tlearn: 0.1179526\ttotal: 5m 55s\tremaining: 2m 30s\n",
      "211:\tlearn: 0.1177974\ttotal: 5m 57s\tremaining: 2m 28s\n",
      "212:\tlearn: 0.1176228\ttotal: 5m 59s\tremaining: 2m 26s\n",
      "213:\tlearn: 0.1175487\ttotal: 6m\tremaining: 2m 24s\n",
      "214:\tlearn: 0.1173782\ttotal: 6m 2s\tremaining: 2m 23s\n",
      "215:\tlearn: 0.1173061\ttotal: 6m 3s\tremaining: 2m 21s\n",
      "216:\tlearn: 0.1172326\ttotal: 6m 5s\tremaining: 2m 19s\n",
      "217:\tlearn: 0.1170430\ttotal: 6m 7s\tremaining: 2m 18s\n",
      "218:\tlearn: 0.1169690\ttotal: 6m 8s\tremaining: 2m 16s\n",
      "219:\tlearn: 0.1168936\ttotal: 6m 10s\tremaining: 2m 14s\n",
      "220:\tlearn: 0.1167166\ttotal: 6m 11s\tremaining: 2m 12s\n",
      "221:\tlearn: 0.1166217\ttotal: 6m 13s\tremaining: 2m 11s\n",
      "222:\tlearn: 0.1164708\ttotal: 6m 15s\tremaining: 2m 9s\n",
      "223:\tlearn: 0.1164009\ttotal: 6m 16s\tremaining: 2m 7s\n",
      "224:\tlearn: 0.1163308\ttotal: 6m 18s\tremaining: 2m 6s\n",
      "225:\tlearn: 0.1162626\ttotal: 6m 19s\tremaining: 2m 4s\n",
      "226:\tlearn: 0.1161086\ttotal: 6m 21s\tremaining: 2m 2s\n",
      "227:\tlearn: 0.1159465\ttotal: 6m 22s\tremaining: 2m\n",
      "228:\tlearn: 0.1157509\ttotal: 6m 24s\tremaining: 1m 59s\n",
      "229:\tlearn: 0.1156607\ttotal: 6m 26s\tremaining: 1m 57s\n",
      "230:\tlearn: 0.1155679\ttotal: 6m 27s\tremaining: 1m 55s\n",
      "231:\tlearn: 0.1154753\ttotal: 6m 29s\tremaining: 1m 54s\n",
      "232:\tlearn: 0.1153268\ttotal: 6m 31s\tremaining: 1m 52s\n",
      "233:\tlearn: 0.1151797\ttotal: 6m 32s\tremaining: 1m 50s\n",
      "234:\tlearn: 0.1150969\ttotal: 6m 34s\tremaining: 1m 49s\n",
      "235:\tlearn: 0.1150298\ttotal: 6m 36s\tremaining: 1m 47s\n",
      "236:\tlearn: 0.1148829\ttotal: 6m 38s\tremaining: 1m 45s\n",
      "237:\tlearn: 0.1148173\ttotal: 6m 39s\tremaining: 1m 44s\n",
      "238:\tlearn: 0.1147519\ttotal: 6m 41s\tremaining: 1m 42s\n",
      "239:\tlearn: 0.1146887\ttotal: 6m 43s\tremaining: 1m 40s\n",
      "240:\tlearn: 0.1144770\ttotal: 6m 44s\tremaining: 1m 39s\n",
      "241:\tlearn: 0.1144021\ttotal: 6m 46s\tremaining: 1m 37s\n",
      "242:\tlearn: 0.1143313\ttotal: 6m 48s\tremaining: 1m 35s\n",
      "243:\tlearn: 0.1141976\ttotal: 6m 49s\tremaining: 1m 34s\n",
      "244:\tlearn: 0.1141014\ttotal: 6m 51s\tremaining: 1m 32s\n",
      "245:\tlearn: 0.1140354\ttotal: 6m 53s\tremaining: 1m 30s\n",
      "246:\tlearn: 0.1139744\ttotal: 6m 54s\tremaining: 1m 29s\n",
      "247:\tlearn: 0.1137083\ttotal: 6m 56s\tremaining: 1m 27s\n",
      "248:\tlearn: 0.1135095\ttotal: 6m 58s\tremaining: 1m 25s\n",
      "249:\tlearn: 0.1134438\ttotal: 7m\tremaining: 1m 24s\n",
      "250:\tlearn: 0.1132801\ttotal: 7m 1s\tremaining: 1m 22s\n",
      "251:\tlearn: 0.1131300\ttotal: 7m 3s\tremaining: 1m 20s\n",
      "252:\tlearn: 0.1129719\ttotal: 7m 5s\tremaining: 1m 19s\n",
      "253:\tlearn: 0.1128934\ttotal: 7m 6s\tremaining: 1m 17s\n",
      "254:\tlearn: 0.1128122\ttotal: 7m 8s\tremaining: 1m 15s\n",
      "255:\tlearn: 0.1126108\ttotal: 7m 10s\tremaining: 1m 13s\n",
      "256:\tlearn: 0.1125492\ttotal: 7m 12s\tremaining: 1m 12s\n",
      "257:\tlearn: 0.1124854\ttotal: 7m 13s\tremaining: 1m 10s\n",
      "258:\tlearn: 0.1123633\ttotal: 7m 15s\tremaining: 1m 8s\n",
      "259:\tlearn: 0.1122596\ttotal: 7m 16s\tremaining: 1m 7s\n",
      "260:\tlearn: 0.1121147\ttotal: 7m 18s\tremaining: 1m 5s\n",
      "261:\tlearn: 0.1120012\ttotal: 7m 20s\tremaining: 1m 3s\n",
      "262:\tlearn: 0.1119415\ttotal: 7m 22s\tremaining: 1m 2s\n",
      "263:\tlearn: 0.1118743\ttotal: 7m 24s\tremaining: 1m\n",
      "264:\tlearn: 0.1116355\ttotal: 7m 25s\tremaining: 58.9s\n",
      "265:\tlearn: 0.1115329\ttotal: 7m 27s\tremaining: 57.2s\n",
      "266:\tlearn: 0.1114188\ttotal: 7m 29s\tremaining: 55.5s\n",
      "267:\tlearn: 0.1113595\ttotal: 7m 30s\tremaining: 53.8s\n",
      "268:\tlearn: 0.1111680\ttotal: 7m 32s\tremaining: 52.2s\n",
      "269:\tlearn: 0.1111071\ttotal: 7m 34s\tremaining: 50.5s\n",
      "270:\tlearn: 0.1110151\ttotal: 7m 35s\tremaining: 48.8s\n",
      "271:\tlearn: 0.1108151\ttotal: 7m 37s\tremaining: 47.1s\n",
      "272:\tlearn: 0.1107456\ttotal: 7m 39s\tremaining: 45.4s\n",
      "273:\tlearn: 0.1106845\ttotal: 7m 40s\tremaining: 43.7s\n",
      "274:\tlearn: 0.1105893\ttotal: 7m 42s\tremaining: 42s\n",
      "275:\tlearn: 0.1105323\ttotal: 7m 44s\tremaining: 40.4s\n",
      "276:\tlearn: 0.1104767\ttotal: 7m 45s\tremaining: 38.7s\n",
      "277:\tlearn: 0.1104196\ttotal: 7m 47s\tremaining: 37s\n",
      "278:\tlearn: 0.1103486\ttotal: 7m 49s\tremaining: 35.3s\n",
      "279:\tlearn: 0.1102044\ttotal: 7m 50s\tremaining: 33.6s\n",
      "280:\tlearn: 0.1101523\ttotal: 7m 52s\tremaining: 31.9s\n",
      "281:\tlearn: 0.1100965\ttotal: 7m 54s\tremaining: 30.3s\n",
      "282:\tlearn: 0.1100446\ttotal: 7m 55s\tremaining: 28.6s\n",
      "283:\tlearn: 0.1099673\ttotal: 7m 57s\tremaining: 26.9s\n",
      "284:\tlearn: 0.1099075\ttotal: 7m 59s\tremaining: 25.2s\n",
      "285:\tlearn: 0.1097728\ttotal: 8m\tremaining: 23.5s\n",
      "286:\tlearn: 0.1097045\ttotal: 8m 2s\tremaining: 21.9s\n",
      "287:\tlearn: 0.1095655\ttotal: 8m 4s\tremaining: 20.2s\n",
      "288:\tlearn: 0.1093523\ttotal: 8m 5s\tremaining: 18.5s\n",
      "289:\tlearn: 0.1093006\ttotal: 8m 7s\tremaining: 16.8s\n",
      "290:\tlearn: 0.1092461\ttotal: 8m 9s\tremaining: 15.1s\n",
      "291:\tlearn: 0.1090867\ttotal: 8m 11s\tremaining: 13.5s\n",
      "292:\tlearn: 0.1090209\ttotal: 8m 12s\tremaining: 11.8s\n",
      "293:\tlearn: 0.1088558\ttotal: 8m 14s\tremaining: 10.1s\n",
      "294:\tlearn: 0.1087108\ttotal: 8m 16s\tremaining: 8.41s\n",
      "295:\tlearn: 0.1086600\ttotal: 8m 17s\tremaining: 6.73s\n",
      "296:\tlearn: 0.1086063\ttotal: 8m 19s\tremaining: 5.04s\n",
      "297:\tlearn: 0.1085574\ttotal: 8m 21s\tremaining: 3.36s\n",
      "298:\tlearn: 0.1084232\ttotal: 8m 23s\tremaining: 1.68s\n",
      "299:\tlearn: 0.1083759\ttotal: 8m 24s\tremaining: 0us\n",
      "Learning rate set to 0.217781\n",
      "0:\tlearn: 0.5009644\ttotal: 2.42s\tremaining: 12m 5s\n",
      "1:\tlearn: 0.3856579\ttotal: 4.3s\tremaining: 10m 40s\n",
      "2:\tlearn: 0.3232836\ttotal: 6.09s\tremaining: 10m 3s\n",
      "3:\tlearn: 0.2851608\ttotal: 7.85s\tremaining: 9m 41s\n",
      "4:\tlearn: 0.2616350\ttotal: 9.61s\tremaining: 9m 27s\n",
      "5:\tlearn: 0.2470449\ttotal: 11.4s\tremaining: 9m 17s\n",
      "6:\tlearn: 0.2343154\ttotal: 13.1s\tremaining: 9m 9s\n",
      "7:\tlearn: 0.2265952\ttotal: 14.9s\tremaining: 9m 4s\n",
      "8:\tlearn: 0.2208443\ttotal: 16.6s\tremaining: 8m 56s\n",
      "9:\tlearn: 0.2165597\ttotal: 18.3s\tremaining: 8m 50s\n",
      "10:\tlearn: 0.2133679\ttotal: 20.1s\tremaining: 8m 48s\n",
      "11:\tlearn: 0.2093055\ttotal: 21.8s\tremaining: 8m 43s\n",
      "12:\tlearn: 0.2069012\ttotal: 23.6s\tremaining: 8m 40s\n",
      "13:\tlearn: 0.2041156\ttotal: 25.3s\tremaining: 8m 36s\n",
      "14:\tlearn: 0.2019184\ttotal: 26.9s\tremaining: 8m 30s\n",
      "15:\tlearn: 0.1996940\ttotal: 28.6s\tremaining: 8m 28s\n",
      "16:\tlearn: 0.1972301\ttotal: 30.3s\tremaining: 8m 24s\n",
      "17:\tlearn: 0.1953089\ttotal: 32s\tremaining: 8m 21s\n",
      "18:\tlearn: 0.1930687\ttotal: 33.9s\tremaining: 8m 21s\n",
      "19:\tlearn: 0.1913743\ttotal: 35.5s\tremaining: 8m 17s\n",
      "20:\tlearn: 0.1900597\ttotal: 37.2s\tremaining: 8m 14s\n",
      "21:\tlearn: 0.1880063\ttotal: 39s\tremaining: 8m 12s\n",
      "22:\tlearn: 0.1864444\ttotal: 40.7s\tremaining: 8m 9s\n",
      "23:\tlearn: 0.1847692\ttotal: 42.3s\tremaining: 8m 6s\n",
      "24:\tlearn: 0.1834681\ttotal: 44.1s\tremaining: 8m 4s\n",
      "25:\tlearn: 0.1824423\ttotal: 45.7s\tremaining: 8m 1s\n",
      "26:\tlearn: 0.1809730\ttotal: 47.3s\tremaining: 7m 58s\n",
      "27:\tlearn: 0.1799691\ttotal: 49.1s\tremaining: 7m 56s\n",
      "28:\tlearn: 0.1790323\ttotal: 50.8s\tremaining: 7m 54s\n",
      "29:\tlearn: 0.1781109\ttotal: 52.5s\tremaining: 7m 52s\n",
      "30:\tlearn: 0.1772881\ttotal: 54.3s\tremaining: 7m 51s\n",
      "31:\tlearn: 0.1759311\ttotal: 56.1s\tremaining: 7m 50s\n",
      "32:\tlearn: 0.1751079\ttotal: 57.8s\tremaining: 7m 47s\n",
      "33:\tlearn: 0.1742538\ttotal: 59.6s\tremaining: 7m 46s\n",
      "34:\tlearn: 0.1731579\ttotal: 1m 1s\tremaining: 7m 44s\n",
      "35:\tlearn: 0.1723086\ttotal: 1m 3s\tremaining: 7m 43s\n",
      "36:\tlearn: 0.1715609\ttotal: 1m 5s\tremaining: 7m 42s\n",
      "37:\tlearn: 0.1706562\ttotal: 1m 6s\tremaining: 7m 40s\n",
      "38:\tlearn: 0.1692998\ttotal: 1m 8s\tremaining: 7m 38s\n",
      "39:\tlearn: 0.1686740\ttotal: 1m 10s\tremaining: 7m 35s\n",
      "40:\tlearn: 0.1679428\ttotal: 1m 11s\tremaining: 7m 33s\n",
      "41:\tlearn: 0.1669116\ttotal: 1m 13s\tremaining: 7m 30s\n",
      "42:\tlearn: 0.1661635\ttotal: 1m 15s\tremaining: 7m 28s\n",
      "43:\tlearn: 0.1653621\ttotal: 1m 16s\tremaining: 7m 26s\n",
      "44:\tlearn: 0.1645512\ttotal: 1m 18s\tremaining: 7m 24s\n",
      "45:\tlearn: 0.1638065\ttotal: 1m 20s\tremaining: 7m 22s\n",
      "46:\tlearn: 0.1632537\ttotal: 1m 21s\tremaining: 7m 20s\n",
      "47:\tlearn: 0.1626211\ttotal: 1m 23s\tremaining: 7m 18s\n",
      "48:\tlearn: 0.1618595\ttotal: 1m 25s\tremaining: 7m 16s\n",
      "49:\tlearn: 0.1612744\ttotal: 1m 26s\tremaining: 7m 14s\n",
      "50:\tlearn: 0.1605042\ttotal: 1m 28s\tremaining: 7m 12s\n",
      "51:\tlearn: 0.1598826\ttotal: 1m 30s\tremaining: 7m 10s\n",
      "52:\tlearn: 0.1593454\ttotal: 1m 32s\tremaining: 7m 8s\n",
      "53:\tlearn: 0.1588710\ttotal: 1m 33s\tremaining: 7m 7s\n",
      "54:\tlearn: 0.1580640\ttotal: 1m 35s\tremaining: 7m 5s\n",
      "55:\tlearn: 0.1575900\ttotal: 1m 37s\tremaining: 7m 2s\n",
      "56:\tlearn: 0.1570718\ttotal: 1m 38s\tremaining: 7m\n",
      "57:\tlearn: 0.1565206\ttotal: 1m 40s\tremaining: 6m 58s\n",
      "58:\tlearn: 0.1559466\ttotal: 1m 41s\tremaining: 6m 56s\n",
      "59:\tlearn: 0.1554338\ttotal: 1m 43s\tremaining: 6m 54s\n",
      "60:\tlearn: 0.1547231\ttotal: 1m 45s\tremaining: 6m 52s\n",
      "61:\tlearn: 0.1541034\ttotal: 1m 47s\tremaining: 6m 50s\n",
      "62:\tlearn: 0.1537341\ttotal: 1m 48s\tremaining: 6m 49s\n",
      "63:\tlearn: 0.1530916\ttotal: 1m 50s\tremaining: 6m 47s\n",
      "64:\tlearn: 0.1526247\ttotal: 1m 52s\tremaining: 6m 45s\n",
      "65:\tlearn: 0.1520905\ttotal: 1m 53s\tremaining: 6m 44s\n",
      "66:\tlearn: 0.1516842\ttotal: 1m 55s\tremaining: 6m 42s\n",
      "67:\tlearn: 0.1512167\ttotal: 1m 57s\tremaining: 6m 40s\n",
      "68:\tlearn: 0.1507875\ttotal: 1m 59s\tremaining: 6m 39s\n",
      "69:\tlearn: 0.1503979\ttotal: 2m\tremaining: 6m 37s\n",
      "70:\tlearn: 0.1499391\ttotal: 2m 2s\tremaining: 6m 35s\n",
      "71:\tlearn: 0.1495755\ttotal: 2m 4s\tremaining: 6m 33s\n",
      "72:\tlearn: 0.1488750\ttotal: 2m 6s\tremaining: 6m 32s\n",
      "73:\tlearn: 0.1484951\ttotal: 2m 7s\tremaining: 6m 30s\n",
      "74:\tlearn: 0.1481850\ttotal: 2m 9s\tremaining: 6m 28s\n",
      "75:\tlearn: 0.1476298\ttotal: 2m 11s\tremaining: 6m 26s\n",
      "76:\tlearn: 0.1472252\ttotal: 2m 12s\tremaining: 6m 25s\n",
      "77:\tlearn: 0.1467412\ttotal: 2m 14s\tremaining: 6m 23s\n",
      "78:\tlearn: 0.1463008\ttotal: 2m 16s\tremaining: 6m 21s\n",
      "79:\tlearn: 0.1458533\ttotal: 2m 18s\tremaining: 6m 19s\n",
      "80:\tlearn: 0.1455610\ttotal: 2m 19s\tremaining: 6m 17s\n",
      "81:\tlearn: 0.1451292\ttotal: 2m 21s\tremaining: 6m 15s\n",
      "82:\tlearn: 0.1447227\ttotal: 2m 23s\tremaining: 6m 14s\n",
      "83:\tlearn: 0.1443654\ttotal: 2m 24s\tremaining: 6m 12s\n",
      "84:\tlearn: 0.1441183\ttotal: 2m 26s\tremaining: 6m 10s\n",
      "85:\tlearn: 0.1437885\ttotal: 2m 27s\tremaining: 6m 8s\n",
      "86:\tlearn: 0.1435054\ttotal: 2m 29s\tremaining: 6m 6s\n",
      "87:\tlearn: 0.1432201\ttotal: 2m 31s\tremaining: 6m 4s\n",
      "88:\tlearn: 0.1429971\ttotal: 2m 32s\tremaining: 6m 2s\n",
      "89:\tlearn: 0.1425159\ttotal: 2m 34s\tremaining: 6m\n",
      "90:\tlearn: 0.1423106\ttotal: 2m 36s\tremaining: 5m 58s\n",
      "91:\tlearn: 0.1420013\ttotal: 2m 37s\tremaining: 5m 56s\n",
      "92:\tlearn: 0.1415760\ttotal: 2m 39s\tremaining: 5m 55s\n",
      "93:\tlearn: 0.1413935\ttotal: 2m 41s\tremaining: 5m 53s\n",
      "94:\tlearn: 0.1409212\ttotal: 2m 43s\tremaining: 5m 51s\n",
      "95:\tlearn: 0.1406524\ttotal: 2m 44s\tremaining: 5m 50s\n",
      "96:\tlearn: 0.1402593\ttotal: 2m 46s\tremaining: 5m 48s\n",
      "97:\tlearn: 0.1399149\ttotal: 2m 48s\tremaining: 5m 47s\n",
      "98:\tlearn: 0.1396324\ttotal: 2m 50s\tremaining: 5m 46s\n",
      "99:\tlearn: 0.1393096\ttotal: 2m 52s\tremaining: 5m 44s\n",
      "100:\tlearn: 0.1390287\ttotal: 2m 53s\tremaining: 5m 42s\n",
      "101:\tlearn: 0.1387378\ttotal: 2m 55s\tremaining: 5m 41s\n",
      "102:\tlearn: 0.1385495\ttotal: 2m 57s\tremaining: 5m 39s\n",
      "103:\tlearn: 0.1381289\ttotal: 2m 59s\tremaining: 5m 37s\n",
      "104:\tlearn: 0.1378115\ttotal: 3m\tremaining: 5m 35s\n",
      "105:\tlearn: 0.1376184\ttotal: 3m 2s\tremaining: 5m 33s\n",
      "106:\tlearn: 0.1374491\ttotal: 3m 4s\tremaining: 5m 32s\n",
      "107:\tlearn: 0.1369092\ttotal: 3m 5s\tremaining: 5m 30s\n",
      "108:\tlearn: 0.1366088\ttotal: 3m 7s\tremaining: 5m 28s\n",
      "109:\tlearn: 0.1364502\ttotal: 3m 9s\tremaining: 5m 27s\n",
      "110:\tlearn: 0.1362293\ttotal: 3m 11s\tremaining: 5m 25s\n",
      "111:\tlearn: 0.1360421\ttotal: 3m 12s\tremaining: 5m 23s\n",
      "112:\tlearn: 0.1357072\ttotal: 3m 14s\tremaining: 5m 21s\n",
      "113:\tlearn: 0.1355297\ttotal: 3m 16s\tremaining: 5m 19s\n",
      "114:\tlearn: 0.1353582\ttotal: 3m 17s\tremaining: 5m 18s\n",
      "115:\tlearn: 0.1350513\ttotal: 3m 19s\tremaining: 5m 16s\n",
      "116:\tlearn: 0.1349095\ttotal: 3m 21s\tremaining: 5m 14s\n",
      "117:\tlearn: 0.1347792\ttotal: 3m 22s\tremaining: 5m 13s\n",
      "118:\tlearn: 0.1346436\ttotal: 3m 24s\tremaining: 5m 11s\n",
      "119:\tlearn: 0.1344598\ttotal: 3m 26s\tremaining: 5m 9s\n",
      "120:\tlearn: 0.1341908\ttotal: 3m 27s\tremaining: 5m 7s\n",
      "121:\tlearn: 0.1338472\ttotal: 3m 29s\tremaining: 5m 6s\n",
      "122:\tlearn: 0.1333387\ttotal: 3m 31s\tremaining: 5m 4s\n",
      "123:\tlearn: 0.1330504\ttotal: 3m 33s\tremaining: 5m 2s\n",
      "124:\tlearn: 0.1328979\ttotal: 3m 35s\tremaining: 5m 1s\n",
      "125:\tlearn: 0.1324862\ttotal: 3m 36s\tremaining: 4m 59s\n",
      "126:\tlearn: 0.1322466\ttotal: 3m 38s\tremaining: 4m 57s\n",
      "127:\tlearn: 0.1320335\ttotal: 3m 40s\tremaining: 4m 55s\n",
      "128:\tlearn: 0.1317529\ttotal: 3m 41s\tremaining: 4m 54s\n",
      "129:\tlearn: 0.1316310\ttotal: 3m 43s\tremaining: 4m 52s\n",
      "130:\tlearn: 0.1314581\ttotal: 3m 45s\tremaining: 4m 50s\n",
      "131:\tlearn: 0.1313424\ttotal: 3m 47s\tremaining: 4m 48s\n",
      "132:\tlearn: 0.1310813\ttotal: 3m 48s\tremaining: 4m 47s\n",
      "133:\tlearn: 0.1309517\ttotal: 3m 50s\tremaining: 4m 45s\n",
      "134:\tlearn: 0.1308319\ttotal: 3m 52s\tremaining: 4m 43s\n",
      "135:\tlearn: 0.1305349\ttotal: 3m 54s\tremaining: 4m 42s\n",
      "136:\tlearn: 0.1301141\ttotal: 3m 55s\tremaining: 4m 40s\n",
      "137:\tlearn: 0.1298630\ttotal: 3m 57s\tremaining: 4m 38s\n",
      "138:\tlearn: 0.1296655\ttotal: 3m 59s\tremaining: 4m 37s\n",
      "139:\tlearn: 0.1294583\ttotal: 4m 1s\tremaining: 4m 35s\n",
      "140:\tlearn: 0.1291065\ttotal: 4m 2s\tremaining: 4m 33s\n",
      "141:\tlearn: 0.1289997\ttotal: 4m 4s\tremaining: 4m 32s\n",
      "142:\tlearn: 0.1288857\ttotal: 4m 6s\tremaining: 4m 30s\n",
      "143:\tlearn: 0.1287566\ttotal: 4m 7s\tremaining: 4m 28s\n",
      "144:\tlearn: 0.1286068\ttotal: 4m 9s\tremaining: 4m 26s\n",
      "145:\tlearn: 0.1283511\ttotal: 4m 11s\tremaining: 4m 24s\n",
      "146:\tlearn: 0.1281560\ttotal: 4m 12s\tremaining: 4m 23s\n",
      "147:\tlearn: 0.1280413\ttotal: 4m 14s\tremaining: 4m 21s\n",
      "148:\tlearn: 0.1279033\ttotal: 4m 16s\tremaining: 4m 19s\n",
      "149:\tlearn: 0.1275697\ttotal: 4m 17s\tremaining: 4m 17s\n",
      "150:\tlearn: 0.1273787\ttotal: 4m 19s\tremaining: 4m 15s\n",
      "151:\tlearn: 0.1271105\ttotal: 4m 20s\tremaining: 4m 14s\n",
      "152:\tlearn: 0.1267805\ttotal: 4m 22s\tremaining: 4m 12s\n",
      "153:\tlearn: 0.1266835\ttotal: 4m 24s\tremaining: 4m 10s\n",
      "154:\tlearn: 0.1264989\ttotal: 4m 25s\tremaining: 4m 8s\n",
      "155:\tlearn: 0.1263037\ttotal: 4m 27s\tremaining: 4m 6s\n",
      "156:\tlearn: 0.1260637\ttotal: 4m 28s\tremaining: 4m 4s\n",
      "157:\tlearn: 0.1258450\ttotal: 4m 30s\tremaining: 4m 3s\n",
      "158:\tlearn: 0.1255647\ttotal: 4m 32s\tremaining: 4m 1s\n",
      "159:\tlearn: 0.1252737\ttotal: 4m 33s\tremaining: 3m 59s\n",
      "160:\tlearn: 0.1250378\ttotal: 4m 35s\tremaining: 3m 57s\n",
      "161:\tlearn: 0.1247713\ttotal: 4m 36s\tremaining: 3m 55s\n",
      "162:\tlearn: 0.1245243\ttotal: 4m 38s\tremaining: 3m 54s\n",
      "163:\tlearn: 0.1244349\ttotal: 4m 40s\tremaining: 3m 52s\n",
      "164:\tlearn: 0.1243326\ttotal: 4m 41s\tremaining: 3m 50s\n",
      "165:\tlearn: 0.1241561\ttotal: 4m 43s\tremaining: 3m 48s\n",
      "166:\tlearn: 0.1240099\ttotal: 4m 45s\tremaining: 3m 47s\n",
      "167:\tlearn: 0.1238057\ttotal: 4m 46s\tremaining: 3m 45s\n",
      "168:\tlearn: 0.1235892\ttotal: 4m 48s\tremaining: 3m 43s\n",
      "169:\tlearn: 0.1233611\ttotal: 4m 50s\tremaining: 3m 41s\n",
      "170:\tlearn: 0.1231649\ttotal: 4m 51s\tremaining: 3m 40s\n",
      "171:\tlearn: 0.1230568\ttotal: 4m 53s\tremaining: 3m 38s\n",
      "172:\tlearn: 0.1227069\ttotal: 4m 55s\tremaining: 3m 36s\n",
      "173:\tlearn: 0.1224753\ttotal: 4m 56s\tremaining: 3m 34s\n",
      "174:\tlearn: 0.1223766\ttotal: 4m 58s\tremaining: 3m 33s\n",
      "175:\tlearn: 0.1221973\ttotal: 5m\tremaining: 3m 31s\n",
      "176:\tlearn: 0.1220966\ttotal: 5m 1s\tremaining: 3m 29s\n",
      "177:\tlearn: 0.1220056\ttotal: 5m 3s\tremaining: 3m 28s\n",
      "178:\tlearn: 0.1219117\ttotal: 5m 5s\tremaining: 3m 26s\n",
      "179:\tlearn: 0.1218117\ttotal: 5m 6s\tremaining: 3m 24s\n",
      "180:\tlearn: 0.1217199\ttotal: 5m 8s\tremaining: 3m 22s\n",
      "181:\tlearn: 0.1216241\ttotal: 5m 9s\tremaining: 3m 20s\n",
      "182:\tlearn: 0.1214967\ttotal: 5m 11s\tremaining: 3m 19s\n",
      "183:\tlearn: 0.1213432\ttotal: 5m 13s\tremaining: 3m 17s\n",
      "184:\tlearn: 0.1212583\ttotal: 5m 14s\tremaining: 3m 15s\n",
      "185:\tlearn: 0.1210575\ttotal: 5m 16s\tremaining: 3m 13s\n",
      "186:\tlearn: 0.1209657\ttotal: 5m 18s\tremaining: 3m 12s\n",
      "187:\tlearn: 0.1208809\ttotal: 5m 19s\tremaining: 3m 10s\n",
      "188:\tlearn: 0.1206489\ttotal: 5m 21s\tremaining: 3m 8s\n",
      "189:\tlearn: 0.1205615\ttotal: 5m 22s\tremaining: 3m 6s\n",
      "190:\tlearn: 0.1204732\ttotal: 5m 24s\tremaining: 3m 5s\n",
      "191:\tlearn: 0.1202351\ttotal: 5m 26s\tremaining: 3m 3s\n",
      "192:\tlearn: 0.1201405\ttotal: 5m 27s\tremaining: 3m 1s\n",
      "193:\tlearn: 0.1199905\ttotal: 5m 29s\tremaining: 2m 59s\n",
      "194:\tlearn: 0.1198248\ttotal: 5m 30s\tremaining: 2m 58s\n",
      "195:\tlearn: 0.1197446\ttotal: 5m 32s\tremaining: 2m 56s\n",
      "196:\tlearn: 0.1195481\ttotal: 5m 34s\tremaining: 2m 54s\n",
      "197:\tlearn: 0.1193189\ttotal: 5m 35s\tremaining: 2m 53s\n",
      "198:\tlearn: 0.1192193\ttotal: 5m 37s\tremaining: 2m 51s\n",
      "199:\tlearn: 0.1189764\ttotal: 5m 39s\tremaining: 2m 49s\n",
      "200:\tlearn: 0.1187724\ttotal: 5m 40s\tremaining: 2m 47s\n",
      "201:\tlearn: 0.1186927\ttotal: 5m 42s\tremaining: 2m 46s\n",
      "202:\tlearn: 0.1185368\ttotal: 5m 44s\tremaining: 2m 44s\n",
      "203:\tlearn: 0.1184562\ttotal: 5m 45s\tremaining: 2m 42s\n",
      "204:\tlearn: 0.1183817\ttotal: 5m 47s\tremaining: 2m 40s\n",
      "205:\tlearn: 0.1183001\ttotal: 5m 48s\tremaining: 2m 39s\n",
      "206:\tlearn: 0.1181538\ttotal: 5m 50s\tremaining: 2m 37s\n",
      "207:\tlearn: 0.1180117\ttotal: 5m 52s\tremaining: 2m 35s\n",
      "208:\tlearn: 0.1179357\ttotal: 5m 53s\tremaining: 2m 34s\n",
      "209:\tlearn: 0.1177593\ttotal: 5m 55s\tremaining: 2m 32s\n",
      "210:\tlearn: 0.1176724\ttotal: 5m 56s\tremaining: 2m 30s\n",
      "211:\tlearn: 0.1175311\ttotal: 5m 58s\tremaining: 2m 28s\n",
      "212:\tlearn: 0.1174529\ttotal: 6m\tremaining: 2m 27s\n",
      "213:\tlearn: 0.1172173\ttotal: 6m 2s\tremaining: 2m 25s\n",
      "214:\tlearn: 0.1171468\ttotal: 6m 3s\tremaining: 2m 23s\n",
      "215:\tlearn: 0.1170737\ttotal: 6m 5s\tremaining: 2m 22s\n",
      "216:\tlearn: 0.1169996\ttotal: 6m 6s\tremaining: 2m 20s\n",
      "217:\tlearn: 0.1169355\ttotal: 6m 8s\tremaining: 2m 18s\n",
      "218:\tlearn: 0.1168517\ttotal: 6m 10s\tremaining: 2m 16s\n",
      "219:\tlearn: 0.1167767\ttotal: 6m 11s\tremaining: 2m 15s\n",
      "220:\tlearn: 0.1167109\ttotal: 6m 13s\tremaining: 2m 13s\n",
      "221:\tlearn: 0.1166454\ttotal: 6m 14s\tremaining: 2m 11s\n",
      "222:\tlearn: 0.1164330\ttotal: 6m 16s\tremaining: 2m 9s\n",
      "223:\tlearn: 0.1163570\ttotal: 6m 17s\tremaining: 2m 8s\n",
      "224:\tlearn: 0.1162638\ttotal: 6m 19s\tremaining: 2m 6s\n",
      "225:\tlearn: 0.1161689\ttotal: 6m 21s\tremaining: 2m 4s\n",
      "226:\tlearn: 0.1160969\ttotal: 6m 22s\tremaining: 2m 3s\n",
      "227:\tlearn: 0.1160331\ttotal: 6m 24s\tremaining: 2m 1s\n",
      "228:\tlearn: 0.1159591\ttotal: 6m 25s\tremaining: 1m 59s\n",
      "229:\tlearn: 0.1157330\ttotal: 6m 27s\tremaining: 1m 57s\n",
      "230:\tlearn: 0.1156625\ttotal: 6m 29s\tremaining: 1m 56s\n",
      "231:\tlearn: 0.1156016\ttotal: 6m 30s\tremaining: 1m 54s\n",
      "232:\tlearn: 0.1154768\ttotal: 6m 32s\tremaining: 1m 52s\n",
      "233:\tlearn: 0.1154146\ttotal: 6m 33s\tremaining: 1m 51s\n",
      "234:\tlearn: 0.1151720\ttotal: 6m 35s\tremaining: 1m 49s\n",
      "235:\tlearn: 0.1151091\ttotal: 6m 37s\tremaining: 1m 47s\n",
      "236:\tlearn: 0.1149822\ttotal: 6m 38s\tremaining: 1m 46s\n",
      "237:\tlearn: 0.1148073\ttotal: 6m 40s\tremaining: 1m 44s\n",
      "238:\tlearn: 0.1147464\ttotal: 6m 42s\tremaining: 1m 42s\n",
      "239:\tlearn: 0.1146677\ttotal: 6m 43s\tremaining: 1m 40s\n",
      "240:\tlearn: 0.1144795\ttotal: 6m 45s\tremaining: 1m 39s\n",
      "241:\tlearn: 0.1143145\ttotal: 6m 47s\tremaining: 1m 37s\n",
      "242:\tlearn: 0.1141094\ttotal: 6m 48s\tremaining: 1m 35s\n",
      "243:\tlearn: 0.1139968\ttotal: 6m 50s\tremaining: 1m 34s\n",
      "244:\tlearn: 0.1139384\ttotal: 6m 52s\tremaining: 1m 32s\n",
      "245:\tlearn: 0.1138741\ttotal: 6m 53s\tremaining: 1m 30s\n",
      "246:\tlearn: 0.1138133\ttotal: 6m 55s\tremaining: 1m 29s\n",
      "247:\tlearn: 0.1137540\ttotal: 6m 57s\tremaining: 1m 27s\n",
      "248:\tlearn: 0.1136234\ttotal: 6m 59s\tremaining: 1m 25s\n",
      "249:\tlearn: 0.1133999\ttotal: 7m\tremaining: 1m 24s\n",
      "250:\tlearn: 0.1133081\ttotal: 7m 2s\tremaining: 1m 22s\n",
      "251:\tlearn: 0.1131868\ttotal: 7m 4s\tremaining: 1m 20s\n",
      "252:\tlearn: 0.1130737\ttotal: 7m 5s\tremaining: 1m 19s\n",
      "253:\tlearn: 0.1129541\ttotal: 7m 7s\tremaining: 1m 17s\n",
      "254:\tlearn: 0.1128901\ttotal: 7m 9s\tremaining: 1m 15s\n",
      "255:\tlearn: 0.1127888\ttotal: 7m 10s\tremaining: 1m 14s\n",
      "256:\tlearn: 0.1127251\ttotal: 7m 12s\tremaining: 1m 12s\n",
      "257:\tlearn: 0.1126609\ttotal: 7m 13s\tremaining: 1m 10s\n",
      "258:\tlearn: 0.1126037\ttotal: 7m 15s\tremaining: 1m 8s\n",
      "259:\tlearn: 0.1125210\ttotal: 7m 17s\tremaining: 1m 7s\n",
      "260:\tlearn: 0.1123927\ttotal: 7m 18s\tremaining: 1m 5s\n",
      "261:\tlearn: 0.1123216\ttotal: 7m 20s\tremaining: 1m 3s\n",
      "262:\tlearn: 0.1121339\ttotal: 7m 22s\tremaining: 1m 2s\n",
      "263:\tlearn: 0.1120798\ttotal: 7m 23s\tremaining: 1m\n",
      "264:\tlearn: 0.1120211\ttotal: 7m 25s\tremaining: 58.8s\n",
      "265:\tlearn: 0.1119047\ttotal: 7m 27s\tremaining: 57.2s\n",
      "266:\tlearn: 0.1117169\ttotal: 7m 28s\tremaining: 55.5s\n",
      "267:\tlearn: 0.1114966\ttotal: 7m 30s\tremaining: 53.8s\n",
      "268:\tlearn: 0.1114353\ttotal: 7m 32s\tremaining: 52.1s\n",
      "269:\tlearn: 0.1112953\ttotal: 7m 33s\tremaining: 50.4s\n",
      "270:\tlearn: 0.1110255\ttotal: 7m 35s\tremaining: 48.7s\n",
      "271:\tlearn: 0.1108855\ttotal: 7m 37s\tremaining: 47.1s\n",
      "272:\tlearn: 0.1108249\ttotal: 7m 38s\tremaining: 45.4s\n",
      "273:\tlearn: 0.1106386\ttotal: 7m 40s\tremaining: 43.7s\n",
      "274:\tlearn: 0.1105817\ttotal: 7m 42s\tremaining: 42s\n",
      "275:\tlearn: 0.1103850\ttotal: 7m 43s\tremaining: 40.3s\n",
      "276:\tlearn: 0.1103314\ttotal: 7m 45s\tremaining: 38.6s\n",
      "277:\tlearn: 0.1101983\ttotal: 7m 46s\tremaining: 36.9s\n",
      "278:\tlearn: 0.1101469\ttotal: 7m 48s\tremaining: 35.3s\n",
      "279:\tlearn: 0.1100017\ttotal: 7m 50s\tremaining: 33.6s\n",
      "280:\tlearn: 0.1098539\ttotal: 7m 51s\tremaining: 31.9s\n",
      "281:\tlearn: 0.1097000\ttotal: 7m 53s\tremaining: 30.2s\n",
      "282:\tlearn: 0.1095268\ttotal: 7m 55s\tremaining: 28.5s\n",
      "283:\tlearn: 0.1094742\ttotal: 7m 56s\tremaining: 26.9s\n",
      "284:\tlearn: 0.1094236\ttotal: 7m 58s\tremaining: 25.2s\n",
      "285:\tlearn: 0.1092898\ttotal: 8m\tremaining: 23.5s\n",
      "286:\tlearn: 0.1092158\ttotal: 8m 1s\tremaining: 21.8s\n",
      "287:\tlearn: 0.1091622\ttotal: 8m 3s\tremaining: 20.1s\n",
      "288:\tlearn: 0.1089791\ttotal: 8m 5s\tremaining: 18.5s\n",
      "289:\tlearn: 0.1089212\ttotal: 8m 6s\tremaining: 16.8s\n",
      "290:\tlearn: 0.1088680\ttotal: 8m 8s\tremaining: 15.1s\n",
      "291:\tlearn: 0.1086834\ttotal: 8m 10s\tremaining: 13.4s\n",
      "292:\tlearn: 0.1086059\ttotal: 8m 11s\tremaining: 11.8s\n",
      "293:\tlearn: 0.1084665\ttotal: 8m 13s\tremaining: 10.1s\n",
      "294:\tlearn: 0.1084113\ttotal: 8m 15s\tremaining: 8.39s\n",
      "295:\tlearn: 0.1082804\ttotal: 8m 16s\tremaining: 6.71s\n",
      "296:\tlearn: 0.1082247\ttotal: 8m 18s\tremaining: 5.04s\n",
      "297:\tlearn: 0.1080703\ttotal: 8m 20s\tremaining: 3.36s\n",
      "298:\tlearn: 0.1079161\ttotal: 8m 21s\tremaining: 1.68s\n",
      "299:\tlearn: 0.1078610\ttotal: 8m 23s\tremaining: 0us\n",
      "Learning rate set to 0.217781\n",
      "0:\tlearn: 0.5008864\ttotal: 2.38s\tremaining: 11m 51s\n",
      "1:\tlearn: 0.3841732\ttotal: 4.09s\tremaining: 10m 10s\n",
      "2:\tlearn: 0.3196114\ttotal: 5.84s\tremaining: 9m 37s\n",
      "3:\tlearn: 0.2829637\ttotal: 7.64s\tremaining: 9m 25s\n",
      "4:\tlearn: 0.2606636\ttotal: 9.41s\tremaining: 9m 15s\n",
      "5:\tlearn: 0.2460287\ttotal: 11.2s\tremaining: 9m 10s\n",
      "6:\tlearn: 0.2337384\ttotal: 13.1s\tremaining: 9m 9s\n",
      "7:\tlearn: 0.2266965\ttotal: 14.9s\tremaining: 9m 4s\n",
      "8:\tlearn: 0.2214405\ttotal: 16.6s\tremaining: 8m 57s\n",
      "9:\tlearn: 0.2160210\ttotal: 18.4s\tremaining: 8m 53s\n",
      "10:\tlearn: 0.2127532\ttotal: 20.2s\tremaining: 8m 50s\n",
      "11:\tlearn: 0.2096417\ttotal: 22s\tremaining: 8m 48s\n",
      "12:\tlearn: 0.2052099\ttotal: 23.8s\tremaining: 8m 44s\n",
      "13:\tlearn: 0.2028002\ttotal: 25.5s\tremaining: 8m 41s\n",
      "14:\tlearn: 0.2007405\ttotal: 27.2s\tremaining: 8m 37s\n",
      "15:\tlearn: 0.1978195\ttotal: 29s\tremaining: 8m 34s\n",
      "16:\tlearn: 0.1957925\ttotal: 30.8s\tremaining: 8m 32s\n",
      "17:\tlearn: 0.1937744\ttotal: 32.6s\tremaining: 8m 30s\n",
      "18:\tlearn: 0.1920363\ttotal: 34.3s\tremaining: 8m 27s\n",
      "19:\tlearn: 0.1900188\ttotal: 35.9s\tremaining: 8m 22s\n",
      "20:\tlearn: 0.1883083\ttotal: 37.6s\tremaining: 8m 19s\n",
      "21:\tlearn: 0.1867726\ttotal: 39.2s\tremaining: 8m 15s\n",
      "22:\tlearn: 0.1855140\ttotal: 41s\tremaining: 8m 13s\n",
      "23:\tlearn: 0.1835589\ttotal: 42.8s\tremaining: 8m 12s\n",
      "24:\tlearn: 0.1819684\ttotal: 44.6s\tremaining: 8m 10s\n",
      "25:\tlearn: 0.1809483\ttotal: 46.3s\tremaining: 8m 8s\n",
      "26:\tlearn: 0.1796585\ttotal: 48.1s\tremaining: 8m 6s\n",
      "27:\tlearn: 0.1786643\ttotal: 49.8s\tremaining: 8m 4s\n",
      "28:\tlearn: 0.1775700\ttotal: 51.6s\tremaining: 8m 2s\n",
      "29:\tlearn: 0.1763390\ttotal: 53.4s\tremaining: 8m\n",
      "30:\tlearn: 0.1753322\ttotal: 55.1s\tremaining: 7m 58s\n",
      "31:\tlearn: 0.1741421\ttotal: 56.9s\tremaining: 7m 56s\n",
      "32:\tlearn: 0.1733151\ttotal: 58.6s\tremaining: 7m 54s\n",
      "33:\tlearn: 0.1725897\ttotal: 1m\tremaining: 7m 52s\n",
      "34:\tlearn: 0.1715485\ttotal: 1m 2s\tremaining: 7m 50s\n",
      "35:\tlearn: 0.1708093\ttotal: 1m 3s\tremaining: 7m 48s\n",
      "36:\tlearn: 0.1701452\ttotal: 1m 5s\tremaining: 7m 45s\n",
      "37:\tlearn: 0.1693276\ttotal: 1m 7s\tremaining: 7m 43s\n",
      "38:\tlearn: 0.1685790\ttotal: 1m 8s\tremaining: 7m 41s\n",
      "39:\tlearn: 0.1676864\ttotal: 1m 10s\tremaining: 7m 39s\n",
      "40:\tlearn: 0.1670485\ttotal: 1m 12s\tremaining: 7m 38s\n",
      "41:\tlearn: 0.1656829\ttotal: 1m 14s\tremaining: 7m 36s\n",
      "42:\tlearn: 0.1647238\ttotal: 1m 16s\tremaining: 7m 34s\n",
      "43:\tlearn: 0.1638958\ttotal: 1m 17s\tremaining: 7m 32s\n",
      "44:\tlearn: 0.1631519\ttotal: 1m 19s\tremaining: 7m 30s\n",
      "45:\tlearn: 0.1625969\ttotal: 1m 21s\tremaining: 7m 28s\n",
      "46:\tlearn: 0.1620566\ttotal: 1m 22s\tremaining: 7m 26s\n",
      "47:\tlearn: 0.1612362\ttotal: 1m 24s\tremaining: 7m 24s\n",
      "48:\tlearn: 0.1607034\ttotal: 1m 26s\tremaining: 7m 22s\n",
      "49:\tlearn: 0.1600694\ttotal: 1m 28s\tremaining: 7m 20s\n",
      "50:\tlearn: 0.1594407\ttotal: 1m 29s\tremaining: 7m 18s\n",
      "51:\tlearn: 0.1590153\ttotal: 1m 31s\tremaining: 7m 16s\n",
      "52:\tlearn: 0.1584872\ttotal: 1m 33s\tremaining: 7m 13s\n",
      "53:\tlearn: 0.1579948\ttotal: 1m 34s\tremaining: 7m 11s\n",
      "54:\tlearn: 0.1573325\ttotal: 1m 36s\tremaining: 7m 9s\n",
      "55:\tlearn: 0.1565425\ttotal: 1m 38s\tremaining: 7m 8s\n",
      "56:\tlearn: 0.1558373\ttotal: 1m 40s\tremaining: 7m 6s\n",
      "57:\tlearn: 0.1553693\ttotal: 1m 41s\tremaining: 7m 4s\n",
      "58:\tlearn: 0.1548969\ttotal: 1m 43s\tremaining: 7m 2s\n",
      "59:\tlearn: 0.1544810\ttotal: 1m 45s\tremaining: 7m\n",
      "60:\tlearn: 0.1539800\ttotal: 1m 46s\tremaining: 6m 58s\n",
      "61:\tlearn: 0.1533329\ttotal: 1m 48s\tremaining: 6m 56s\n",
      "62:\tlearn: 0.1526470\ttotal: 1m 50s\tremaining: 6m 55s\n",
      "63:\tlearn: 0.1521185\ttotal: 1m 52s\tremaining: 6m 53s\n",
      "64:\tlearn: 0.1515978\ttotal: 1m 53s\tremaining: 6m 51s\n",
      "65:\tlearn: 0.1512007\ttotal: 1m 55s\tremaining: 6m 49s\n",
      "66:\tlearn: 0.1507936\ttotal: 1m 57s\tremaining: 6m 47s\n",
      "67:\tlearn: 0.1503464\ttotal: 1m 58s\tremaining: 6m 45s\n",
      "68:\tlearn: 0.1499106\ttotal: 2m\tremaining: 6m 43s\n",
      "69:\tlearn: 0.1495887\ttotal: 2m 2s\tremaining: 6m 41s\n",
      "70:\tlearn: 0.1491330\ttotal: 2m 4s\tremaining: 6m 40s\n",
      "71:\tlearn: 0.1487757\ttotal: 2m 5s\tremaining: 6m 38s\n",
      "72:\tlearn: 0.1483317\ttotal: 2m 7s\tremaining: 6m 36s\n",
      "73:\tlearn: 0.1476548\ttotal: 2m 9s\tremaining: 6m 34s\n",
      "74:\tlearn: 0.1472358\ttotal: 2m 10s\tremaining: 6m 32s\n",
      "75:\tlearn: 0.1468410\ttotal: 2m 12s\tremaining: 6m 30s\n",
      "76:\tlearn: 0.1465587\ttotal: 2m 14s\tremaining: 6m 28s\n",
      "77:\tlearn: 0.1461237\ttotal: 2m 16s\tremaining: 6m 27s\n",
      "78:\tlearn: 0.1457173\ttotal: 2m 17s\tremaining: 6m 25s\n",
      "79:\tlearn: 0.1452880\ttotal: 2m 19s\tremaining: 6m 23s\n",
      "80:\tlearn: 0.1449831\ttotal: 2m 21s\tremaining: 6m 21s\n",
      "81:\tlearn: 0.1446327\ttotal: 2m 22s\tremaining: 6m 19s\n",
      "82:\tlearn: 0.1443969\ttotal: 2m 24s\tremaining: 6m 17s\n",
      "83:\tlearn: 0.1438143\ttotal: 2m 26s\tremaining: 6m 15s\n",
      "84:\tlearn: 0.1431992\ttotal: 2m 27s\tremaining: 6m 14s\n",
      "85:\tlearn: 0.1429382\ttotal: 2m 29s\tremaining: 6m 12s\n",
      "86:\tlearn: 0.1424724\ttotal: 2m 31s\tremaining: 6m 10s\n",
      "87:\tlearn: 0.1419602\ttotal: 2m 33s\tremaining: 6m 8s\n",
      "88:\tlearn: 0.1416761\ttotal: 2m 34s\tremaining: 6m 6s\n",
      "89:\tlearn: 0.1414578\ttotal: 2m 36s\tremaining: 6m 5s\n",
      "90:\tlearn: 0.1412571\ttotal: 2m 38s\tremaining: 6m 3s\n",
      "91:\tlearn: 0.1409599\ttotal: 2m 39s\tremaining: 6m 1s\n",
      "92:\tlearn: 0.1406066\ttotal: 2m 41s\tremaining: 5m 59s\n",
      "93:\tlearn: 0.1400432\ttotal: 2m 43s\tremaining: 5m 58s\n",
      "94:\tlearn: 0.1397765\ttotal: 2m 45s\tremaining: 5m 56s\n",
      "95:\tlearn: 0.1393933\ttotal: 2m 47s\tremaining: 5m 54s\n",
      "96:\tlearn: 0.1390701\ttotal: 2m 48s\tremaining: 5m 53s\n",
      "97:\tlearn: 0.1387738\ttotal: 2m 50s\tremaining: 5m 51s\n",
      "98:\tlearn: 0.1385243\ttotal: 2m 52s\tremaining: 5m 49s\n",
      "99:\tlearn: 0.1382527\ttotal: 2m 54s\tremaining: 5m 48s\n",
      "100:\tlearn: 0.1379016\ttotal: 2m 55s\tremaining: 5m 46s\n",
      "101:\tlearn: 0.1377103\ttotal: 2m 57s\tremaining: 5m 44s\n",
      "102:\tlearn: 0.1373462\ttotal: 2m 59s\tremaining: 5m 42s\n",
      "103:\tlearn: 0.1371011\ttotal: 3m 1s\tremaining: 5m 41s\n",
      "104:\tlearn: 0.1368152\ttotal: 3m 2s\tremaining: 5m 39s\n",
      "105:\tlearn: 0.1362960\ttotal: 3m 4s\tremaining: 5m 37s\n",
      "106:\tlearn: 0.1361354\ttotal: 3m 6s\tremaining: 5m 35s\n",
      "107:\tlearn: 0.1359880\ttotal: 3m 7s\tremaining: 5m 34s\n",
      "108:\tlearn: 0.1357367\ttotal: 3m 9s\tremaining: 5m 32s\n",
      "109:\tlearn: 0.1355598\ttotal: 3m 11s\tremaining: 5m 30s\n",
      "110:\tlearn: 0.1352859\ttotal: 3m 13s\tremaining: 5m 28s\n",
      "111:\tlearn: 0.1351057\ttotal: 3m 14s\tremaining: 5m 26s\n",
      "112:\tlearn: 0.1347917\ttotal: 3m 16s\tremaining: 5m 25s\n",
      "113:\tlearn: 0.1344915\ttotal: 3m 18s\tremaining: 5m 23s\n",
      "114:\tlearn: 0.1343549\ttotal: 3m 19s\tremaining: 5m 21s\n",
      "115:\tlearn: 0.1339885\ttotal: 3m 21s\tremaining: 5m 20s\n",
      "116:\tlearn: 0.1338464\ttotal: 3m 23s\tremaining: 5m 18s\n",
      "117:\tlearn: 0.1336967\ttotal: 3m 25s\tremaining: 5m 16s\n",
      "118:\tlearn: 0.1334291\ttotal: 3m 26s\tremaining: 5m 14s\n",
      "119:\tlearn: 0.1332973\ttotal: 3m 28s\tremaining: 5m 12s\n",
      "120:\tlearn: 0.1331719\ttotal: 3m 30s\tremaining: 5m 11s\n",
      "121:\tlearn: 0.1328381\ttotal: 3m 32s\tremaining: 5m 9s\n",
      "122:\tlearn: 0.1325973\ttotal: 3m 33s\tremaining: 5m 7s\n",
      "123:\tlearn: 0.1323264\ttotal: 3m 35s\tremaining: 5m 5s\n",
      "124:\tlearn: 0.1322010\ttotal: 3m 37s\tremaining: 5m 4s\n",
      "125:\tlearn: 0.1320486\ttotal: 3m 38s\tremaining: 5m 2s\n",
      "126:\tlearn: 0.1316625\ttotal: 3m 40s\tremaining: 5m\n",
      "127:\tlearn: 0.1314457\ttotal: 3m 42s\tremaining: 4m 58s\n",
      "128:\tlearn: 0.1312856\ttotal: 3m 44s\tremaining: 4m 56s\n",
      "129:\tlearn: 0.1311559\ttotal: 3m 45s\tremaining: 4m 55s\n",
      "130:\tlearn: 0.1309187\ttotal: 3m 47s\tremaining: 4m 53s\n",
      "131:\tlearn: 0.1305708\ttotal: 3m 49s\tremaining: 4m 51s\n",
      "132:\tlearn: 0.1304416\ttotal: 3m 50s\tremaining: 4m 49s\n",
      "133:\tlearn: 0.1302024\ttotal: 3m 52s\tremaining: 4m 48s\n",
      "134:\tlearn: 0.1300728\ttotal: 3m 54s\tremaining: 4m 46s\n",
      "135:\tlearn: 0.1297943\ttotal: 3m 55s\tremaining: 4m 44s\n",
      "136:\tlearn: 0.1295513\ttotal: 3m 57s\tremaining: 4m 42s\n",
      "137:\tlearn: 0.1293215\ttotal: 3m 59s\tremaining: 4m 41s\n",
      "138:\tlearn: 0.1290773\ttotal: 4m 1s\tremaining: 4m 39s\n",
      "139:\tlearn: 0.1288358\ttotal: 4m 2s\tremaining: 4m 37s\n",
      "140:\tlearn: 0.1285727\ttotal: 4m 4s\tremaining: 4m 35s\n",
      "141:\tlearn: 0.1284513\ttotal: 4m 6s\tremaining: 4m 34s\n",
      "142:\tlearn: 0.1281583\ttotal: 4m 8s\tremaining: 4m 32s\n",
      "143:\tlearn: 0.1279596\ttotal: 4m 9s\tremaining: 4m 30s\n",
      "144:\tlearn: 0.1278060\ttotal: 4m 11s\tremaining: 4m 28s\n",
      "145:\tlearn: 0.1277049\ttotal: 4m 13s\tremaining: 4m 26s\n",
      "146:\tlearn: 0.1274812\ttotal: 4m 14s\tremaining: 4m 25s\n",
      "147:\tlearn: 0.1272375\ttotal: 4m 16s\tremaining: 4m 23s\n",
      "148:\tlearn: 0.1270504\ttotal: 4m 17s\tremaining: 4m 21s\n",
      "149:\tlearn: 0.1267748\ttotal: 4m 19s\tremaining: 4m 19s\n",
      "150:\tlearn: 0.1263950\ttotal: 4m 21s\tremaining: 4m 17s\n",
      "151:\tlearn: 0.1263038\ttotal: 4m 22s\tremaining: 4m 15s\n",
      "152:\tlearn: 0.1261942\ttotal: 4m 24s\tremaining: 4m 13s\n",
      "153:\tlearn: 0.1260797\ttotal: 4m 25s\tremaining: 4m 12s\n",
      "154:\tlearn: 0.1256575\ttotal: 4m 27s\tremaining: 4m 10s\n",
      "155:\tlearn: 0.1254738\ttotal: 4m 29s\tremaining: 4m 8s\n",
      "156:\tlearn: 0.1253688\ttotal: 4m 30s\tremaining: 4m 6s\n",
      "157:\tlearn: 0.1251606\ttotal: 4m 32s\tremaining: 4m 4s\n",
      "158:\tlearn: 0.1250436\ttotal: 4m 34s\tremaining: 4m 3s\n",
      "159:\tlearn: 0.1248753\ttotal: 4m 35s\tremaining: 4m 1s\n",
      "160:\tlearn: 0.1246311\ttotal: 4m 37s\tremaining: 3m 59s\n",
      "161:\tlearn: 0.1244811\ttotal: 4m 39s\tremaining: 3m 57s\n",
      "162:\tlearn: 0.1243267\ttotal: 4m 40s\tremaining: 3m 56s\n",
      "163:\tlearn: 0.1240742\ttotal: 4m 42s\tremaining: 3m 54s\n",
      "164:\tlearn: 0.1239680\ttotal: 4m 44s\tremaining: 3m 52s\n",
      "165:\tlearn: 0.1238697\ttotal: 4m 45s\tremaining: 3m 50s\n",
      "166:\tlearn: 0.1237768\ttotal: 4m 47s\tremaining: 3m 48s\n",
      "167:\tlearn: 0.1235018\ttotal: 4m 49s\tremaining: 3m 47s\n",
      "168:\tlearn: 0.1233227\ttotal: 4m 50s\tremaining: 3m 45s\n",
      "169:\tlearn: 0.1232182\ttotal: 4m 52s\tremaining: 3m 43s\n",
      "170:\tlearn: 0.1231140\ttotal: 4m 54s\tremaining: 3m 41s\n",
      "171:\tlearn: 0.1230166\ttotal: 4m 55s\tremaining: 3m 40s\n",
      "172:\tlearn: 0.1227417\ttotal: 4m 57s\tremaining: 3m 38s\n",
      "173:\tlearn: 0.1224360\ttotal: 4m 59s\tremaining: 3m 36s\n",
      "174:\tlearn: 0.1222519\ttotal: 5m\tremaining: 3m 34s\n",
      "175:\tlearn: 0.1221643\ttotal: 5m 2s\tremaining: 3m 33s\n",
      "176:\tlearn: 0.1220755\ttotal: 5m 4s\tremaining: 3m 31s\n",
      "177:\tlearn: 0.1219917\ttotal: 5m 6s\tremaining: 3m 29s\n",
      "178:\tlearn: 0.1217969\ttotal: 5m 7s\tremaining: 3m 28s\n",
      "179:\tlearn: 0.1215560\ttotal: 5m 9s\tremaining: 3m 26s\n",
      "180:\tlearn: 0.1214618\ttotal: 5m 11s\tremaining: 3m 24s\n",
      "181:\tlearn: 0.1212581\ttotal: 5m 13s\tremaining: 3m 22s\n",
      "182:\tlearn: 0.1211757\ttotal: 5m 14s\tremaining: 3m 21s\n",
      "183:\tlearn: 0.1210697\ttotal: 5m 16s\tremaining: 3m 19s\n",
      "184:\tlearn: 0.1209837\ttotal: 5m 17s\tremaining: 3m 17s\n",
      "185:\tlearn: 0.1209019\ttotal: 5m 19s\tremaining: 3m 15s\n",
      "186:\tlearn: 0.1206298\ttotal: 5m 21s\tremaining: 3m 14s\n",
      "187:\tlearn: 0.1205216\ttotal: 5m 22s\tremaining: 3m 12s\n",
      "188:\tlearn: 0.1202966\ttotal: 5m 24s\tremaining: 3m 10s\n",
      "189:\tlearn: 0.1202035\ttotal: 5m 26s\tremaining: 3m 8s\n",
      "190:\tlearn: 0.1199580\ttotal: 5m 27s\tremaining: 3m 7s\n",
      "191:\tlearn: 0.1198521\ttotal: 5m 29s\tremaining: 3m 5s\n",
      "192:\tlearn: 0.1197609\ttotal: 5m 30s\tremaining: 3m 3s\n",
      "193:\tlearn: 0.1196875\ttotal: 5m 32s\tremaining: 3m 1s\n",
      "194:\tlearn: 0.1194338\ttotal: 5m 34s\tremaining: 2m 59s\n",
      "195:\tlearn: 0.1191964\ttotal: 5m 35s\tremaining: 2m 58s\n",
      "196:\tlearn: 0.1191010\ttotal: 5m 37s\tremaining: 2m 56s\n",
      "197:\tlearn: 0.1188880\ttotal: 5m 38s\tremaining: 2m 54s\n",
      "198:\tlearn: 0.1186921\ttotal: 5m 40s\tremaining: 2m 52s\n",
      "199:\tlearn: 0.1186162\ttotal: 5m 42s\tremaining: 2m 51s\n",
      "200:\tlearn: 0.1183758\ttotal: 5m 43s\tremaining: 2m 49s\n",
      "201:\tlearn: 0.1182947\ttotal: 5m 45s\tremaining: 2m 47s\n",
      "202:\tlearn: 0.1182212\ttotal: 5m 46s\tremaining: 2m 45s\n",
      "203:\tlearn: 0.1180577\ttotal: 5m 48s\tremaining: 2m 43s\n",
      "204:\tlearn: 0.1179736\ttotal: 5m 50s\tremaining: 2m 42s\n",
      "205:\tlearn: 0.1178966\ttotal: 5m 51s\tremaining: 2m 40s\n",
      "206:\tlearn: 0.1178005\ttotal: 5m 53s\tremaining: 2m 38s\n",
      "207:\tlearn: 0.1177272\ttotal: 5m 54s\tremaining: 2m 36s\n",
      "208:\tlearn: 0.1175158\ttotal: 5m 56s\tremaining: 2m 35s\n",
      "209:\tlearn: 0.1174405\ttotal: 5m 57s\tremaining: 2m 33s\n",
      "210:\tlearn: 0.1173669\ttotal: 5m 59s\tremaining: 2m 31s\n",
      "211:\tlearn: 0.1173007\ttotal: 6m 1s\tremaining: 2m 29s\n",
      "212:\tlearn: 0.1172151\ttotal: 6m 2s\tremaining: 2m 28s\n",
      "213:\tlearn: 0.1169407\ttotal: 6m 4s\tremaining: 2m 26s\n",
      "214:\tlearn: 0.1167864\ttotal: 6m 6s\tremaining: 2m 24s\n",
      "215:\tlearn: 0.1167072\ttotal: 6m 7s\tremaining: 2m 22s\n",
      "216:\tlearn: 0.1165509\ttotal: 6m 9s\tremaining: 2m 21s\n",
      "217:\tlearn: 0.1164755\ttotal: 6m 10s\tremaining: 2m 19s\n",
      "218:\tlearn: 0.1163763\ttotal: 6m 12s\tremaining: 2m 17s\n",
      "219:\tlearn: 0.1162071\ttotal: 6m 14s\tremaining: 2m 16s\n",
      "220:\tlearn: 0.1161380\ttotal: 6m 15s\tremaining: 2m 14s\n",
      "221:\tlearn: 0.1158545\ttotal: 6m 17s\tremaining: 2m 12s\n",
      "222:\tlearn: 0.1157872\ttotal: 6m 19s\tremaining: 2m 10s\n",
      "223:\tlearn: 0.1156587\ttotal: 6m 20s\tremaining: 2m 9s\n",
      "224:\tlearn: 0.1155889\ttotal: 6m 22s\tremaining: 2m 7s\n",
      "225:\tlearn: 0.1154052\ttotal: 6m 23s\tremaining: 2m 5s\n",
      "226:\tlearn: 0.1153200\ttotal: 6m 25s\tremaining: 2m 3s\n",
      "227:\tlearn: 0.1152600\ttotal: 6m 27s\tremaining: 2m 2s\n",
      "228:\tlearn: 0.1150810\ttotal: 6m 28s\tremaining: 2m\n",
      "229:\tlearn: 0.1150164\ttotal: 6m 30s\tremaining: 1m 58s\n",
      "230:\tlearn: 0.1149433\ttotal: 6m 31s\tremaining: 1m 57s\n",
      "231:\tlearn: 0.1147372\ttotal: 6m 33s\tremaining: 1m 55s\n",
      "232:\tlearn: 0.1146576\ttotal: 6m 35s\tremaining: 1m 53s\n",
      "233:\tlearn: 0.1145061\ttotal: 6m 36s\tremaining: 1m 51s\n",
      "234:\tlearn: 0.1144465\ttotal: 6m 38s\tremaining: 1m 50s\n",
      "235:\tlearn: 0.1142426\ttotal: 6m 40s\tremaining: 1m 48s\n",
      "236:\tlearn: 0.1140843\ttotal: 6m 41s\tremaining: 1m 46s\n",
      "237:\tlearn: 0.1140203\ttotal: 6m 43s\tremaining: 1m 45s\n",
      "238:\tlearn: 0.1138720\ttotal: 6m 44s\tremaining: 1m 43s\n",
      "239:\tlearn: 0.1138094\ttotal: 6m 46s\tremaining: 1m 41s\n",
      "240:\tlearn: 0.1137035\ttotal: 6m 48s\tremaining: 1m 39s\n",
      "241:\tlearn: 0.1136400\ttotal: 6m 49s\tremaining: 1m 38s\n",
      "242:\tlearn: 0.1135602\ttotal: 6m 51s\tremaining: 1m 36s\n",
      "243:\tlearn: 0.1133552\ttotal: 6m 52s\tremaining: 1m 34s\n",
      "244:\tlearn: 0.1132457\ttotal: 6m 54s\tremaining: 1m 33s\n",
      "245:\tlearn: 0.1129285\ttotal: 6m 56s\tremaining: 1m 31s\n",
      "246:\tlearn: 0.1128687\ttotal: 6m 57s\tremaining: 1m 29s\n",
      "247:\tlearn: 0.1126845\ttotal: 6m 59s\tremaining: 1m 27s\n",
      "248:\tlearn: 0.1126264\ttotal: 7m\tremaining: 1m 26s\n",
      "249:\tlearn: 0.1125514\ttotal: 7m 2s\tremaining: 1m 24s\n",
      "250:\tlearn: 0.1124316\ttotal: 7m 4s\tremaining: 1m 22s\n",
      "251:\tlearn: 0.1123730\ttotal: 7m 5s\tremaining: 1m 21s\n",
      "252:\tlearn: 0.1121956\ttotal: 7m 7s\tremaining: 1m 19s\n",
      "253:\tlearn: 0.1120561\ttotal: 7m 8s\tremaining: 1m 17s\n",
      "254:\tlearn: 0.1119967\ttotal: 7m 10s\tremaining: 1m 15s\n",
      "255:\tlearn: 0.1117557\ttotal: 7m 12s\tremaining: 1m 14s\n",
      "256:\tlearn: 0.1115914\ttotal: 7m 13s\tremaining: 1m 12s\n",
      "257:\tlearn: 0.1115323\ttotal: 7m 15s\tremaining: 1m 10s\n",
      "258:\tlearn: 0.1114744\ttotal: 7m 17s\tremaining: 1m 9s\n",
      "259:\tlearn: 0.1113993\ttotal: 7m 18s\tremaining: 1m 7s\n",
      "260:\tlearn: 0.1113371\ttotal: 7m 20s\tremaining: 1m 5s\n",
      "261:\tlearn: 0.1111835\ttotal: 7m 21s\tremaining: 1m 4s\n",
      "262:\tlearn: 0.1110338\ttotal: 7m 23s\tremaining: 1m 2s\n",
      "263:\tlearn: 0.1109869\ttotal: 7m 25s\tremaining: 1m\n",
      "264:\tlearn: 0.1109318\ttotal: 7m 26s\tremaining: 59s\n",
      "265:\tlearn: 0.1108485\ttotal: 7m 28s\tremaining: 57.3s\n",
      "266:\tlearn: 0.1107498\ttotal: 7m 29s\tremaining: 55.6s\n",
      "267:\tlearn: 0.1105323\ttotal: 7m 31s\tremaining: 53.9s\n",
      "268:\tlearn: 0.1103463\ttotal: 7m 33s\tremaining: 52.2s\n",
      "269:\tlearn: 0.1102929\ttotal: 7m 34s\tremaining: 50.5s\n",
      "270:\tlearn: 0.1102365\ttotal: 7m 36s\tremaining: 48.9s\n",
      "271:\tlearn: 0.1101068\ttotal: 7m 38s\tremaining: 47.2s\n",
      "272:\tlearn: 0.1099650\ttotal: 7m 39s\tremaining: 45.5s\n",
      "273:\tlearn: 0.1099054\ttotal: 7m 41s\tremaining: 43.8s\n",
      "274:\tlearn: 0.1098280\ttotal: 7m 42s\tremaining: 42.1s\n",
      "275:\tlearn: 0.1096700\ttotal: 7m 44s\tremaining: 40.4s\n",
      "276:\tlearn: 0.1096147\ttotal: 7m 46s\tremaining: 38.7s\n",
      "277:\tlearn: 0.1095663\ttotal: 7m 47s\tremaining: 37s\n",
      "278:\tlearn: 0.1094947\ttotal: 7m 49s\tremaining: 35.3s\n",
      "279:\tlearn: 0.1094364\ttotal: 7m 50s\tremaining: 33.6s\n",
      "280:\tlearn: 0.1093727\ttotal: 7m 52s\tremaining: 31.9s\n",
      "281:\tlearn: 0.1093156\ttotal: 7m 53s\tremaining: 30.3s\n",
      "282:\tlearn: 0.1091794\ttotal: 7m 55s\tremaining: 28.6s\n",
      "283:\tlearn: 0.1090146\ttotal: 7m 57s\tremaining: 26.9s\n",
      "284:\tlearn: 0.1088474\ttotal: 7m 58s\tremaining: 25.2s\n",
      "285:\tlearn: 0.1087983\ttotal: 8m\tremaining: 23.5s\n",
      "286:\tlearn: 0.1086094\ttotal: 8m 2s\tremaining: 21.8s\n",
      "287:\tlearn: 0.1085525\ttotal: 8m 3s\tremaining: 20.2s\n",
      "288:\tlearn: 0.1084283\ttotal: 8m 5s\tremaining: 18.5s\n",
      "289:\tlearn: 0.1083290\ttotal: 8m 7s\tremaining: 16.8s\n",
      "290:\tlearn: 0.1082815\ttotal: 8m 8s\tremaining: 15.1s\n",
      "291:\tlearn: 0.1081801\ttotal: 8m 10s\tremaining: 13.4s\n",
      "292:\tlearn: 0.1080384\ttotal: 8m 11s\tremaining: 11.8s\n",
      "293:\tlearn: 0.1079538\ttotal: 8m 13s\tremaining: 10.1s\n",
      "294:\tlearn: 0.1078668\ttotal: 8m 15s\tremaining: 8.39s\n",
      "295:\tlearn: 0.1078138\ttotal: 8m 16s\tremaining: 6.71s\n",
      "296:\tlearn: 0.1077682\ttotal: 8m 18s\tremaining: 5.03s\n",
      "297:\tlearn: 0.1075401\ttotal: 8m 20s\tremaining: 3.36s\n",
      "298:\tlearn: 0.1074907\ttotal: 8m 21s\tremaining: 1.68s\n",
      "299:\tlearn: 0.1073896\ttotal: 8m 23s\tremaining: 0us\n",
      "Learning rate set to 0.217782\n",
      "0:\tlearn: 0.4944431\ttotal: 2.25s\tremaining: 11m 14s\n",
      "1:\tlearn: 0.3812278\ttotal: 4.02s\tremaining: 9m 58s\n",
      "2:\tlearn: 0.3191567\ttotal: 5.76s\tremaining: 9m 30s\n",
      "3:\tlearn: 0.2819749\ttotal: 7.58s\tremaining: 9m 20s\n",
      "4:\tlearn: 0.2590074\ttotal: 9.4s\tremaining: 9m 14s\n",
      "5:\tlearn: 0.2435399\ttotal: 11.2s\tremaining: 9m 10s\n",
      "6:\tlearn: 0.2334876\ttotal: 13s\tremaining: 9m 3s\n",
      "7:\tlearn: 0.2269414\ttotal: 14.7s\tremaining: 8m 57s\n",
      "8:\tlearn: 0.2215243\ttotal: 16.5s\tremaining: 8m 52s\n",
      "9:\tlearn: 0.2166083\ttotal: 18.2s\tremaining: 8m 47s\n",
      "10:\tlearn: 0.2123192\ttotal: 20.1s\tremaining: 8m 47s\n",
      "11:\tlearn: 0.2091610\ttotal: 21.9s\tremaining: 8m 45s\n",
      "12:\tlearn: 0.2051059\ttotal: 23.7s\tremaining: 8m 42s\n",
      "13:\tlearn: 0.2027598\ttotal: 25.4s\tremaining: 8m 38s\n",
      "14:\tlearn: 0.2002274\ttotal: 27.1s\tremaining: 8m 35s\n",
      "15:\tlearn: 0.1984148\ttotal: 28.9s\tremaining: 8m 33s\n",
      "16:\tlearn: 0.1959496\ttotal: 30.7s\tremaining: 8m 31s\n",
      "17:\tlearn: 0.1942660\ttotal: 32.5s\tremaining: 8m 28s\n",
      "18:\tlearn: 0.1927951\ttotal: 34.3s\tremaining: 8m 27s\n",
      "19:\tlearn: 0.1913673\ttotal: 36.1s\tremaining: 8m 25s\n",
      "20:\tlearn: 0.1897296\ttotal: 37.8s\tremaining: 8m 22s\n",
      "21:\tlearn: 0.1879226\ttotal: 39.7s\tremaining: 8m 21s\n",
      "22:\tlearn: 0.1861361\ttotal: 41.4s\tremaining: 8m 18s\n",
      "23:\tlearn: 0.1846104\ttotal: 43.2s\tremaining: 8m 16s\n",
      "24:\tlearn: 0.1828358\ttotal: 45s\tremaining: 8m 15s\n",
      "25:\tlearn: 0.1819367\ttotal: 47s\tremaining: 8m 15s\n",
      "26:\tlearn: 0.1807009\ttotal: 48.8s\tremaining: 8m 13s\n",
      "27:\tlearn: 0.1797878\ttotal: 50.5s\tremaining: 8m 10s\n",
      "28:\tlearn: 0.1784763\ttotal: 52.2s\tremaining: 8m 7s\n",
      "29:\tlearn: 0.1773524\ttotal: 53.9s\tremaining: 8m 5s\n",
      "30:\tlearn: 0.1764582\ttotal: 55.5s\tremaining: 8m 1s\n",
      "31:\tlearn: 0.1755622\ttotal: 57.2s\tremaining: 7m 58s\n",
      "32:\tlearn: 0.1747618\ttotal: 58.9s\tremaining: 7m 56s\n",
      "33:\tlearn: 0.1740949\ttotal: 1m\tremaining: 7m 54s\n",
      "34:\tlearn: 0.1732493\ttotal: 1m 2s\tremaining: 7m 51s\n",
      "35:\tlearn: 0.1725896\ttotal: 1m 4s\tremaining: 7m 49s\n",
      "36:\tlearn: 0.1716847\ttotal: 1m 5s\tremaining: 7m 47s\n",
      "37:\tlearn: 0.1711053\ttotal: 1m 7s\tremaining: 7m 44s\n",
      "38:\tlearn: 0.1699868\ttotal: 1m 9s\tremaining: 7m 42s\n",
      "39:\tlearn: 0.1691854\ttotal: 1m 10s\tremaining: 7m 39s\n",
      "40:\tlearn: 0.1682521\ttotal: 1m 12s\tremaining: 7m 37s\n",
      "41:\tlearn: 0.1673229\ttotal: 1m 14s\tremaining: 7m 35s\n",
      "42:\tlearn: 0.1666645\ttotal: 1m 15s\tremaining: 7m 33s\n",
      "43:\tlearn: 0.1658247\ttotal: 1m 17s\tremaining: 7m 31s\n",
      "44:\tlearn: 0.1650254\ttotal: 1m 19s\tremaining: 7m 30s\n",
      "45:\tlearn: 0.1644656\ttotal: 1m 21s\tremaining: 7m 28s\n",
      "46:\tlearn: 0.1639003\ttotal: 1m 22s\tremaining: 7m 26s\n",
      "47:\tlearn: 0.1633814\ttotal: 1m 24s\tremaining: 7m 25s\n",
      "48:\tlearn: 0.1626074\ttotal: 1m 26s\tremaining: 7m 23s\n",
      "49:\tlearn: 0.1618424\ttotal: 1m 28s\tremaining: 7m 21s\n",
      "50:\tlearn: 0.1611279\ttotal: 1m 30s\tremaining: 7m 19s\n",
      "51:\tlearn: 0.1607113\ttotal: 1m 31s\tremaining: 7m 17s\n",
      "52:\tlearn: 0.1600491\ttotal: 1m 33s\tremaining: 7m 15s\n",
      "53:\tlearn: 0.1595639\ttotal: 1m 35s\tremaining: 7m 13s\n",
      "54:\tlearn: 0.1589985\ttotal: 1m 36s\tremaining: 7m 11s\n",
      "55:\tlearn: 0.1583173\ttotal: 1m 38s\tremaining: 7m 9s\n",
      "56:\tlearn: 0.1579294\ttotal: 1m 40s\tremaining: 7m 6s\n",
      "57:\tlearn: 0.1573726\ttotal: 1m 41s\tremaining: 7m 4s\n",
      "58:\tlearn: 0.1568410\ttotal: 1m 43s\tremaining: 7m 2s\n",
      "59:\tlearn: 0.1559451\ttotal: 1m 45s\tremaining: 7m\n",
      "60:\tlearn: 0.1554445\ttotal: 1m 46s\tremaining: 6m 58s\n",
      "61:\tlearn: 0.1550371\ttotal: 1m 48s\tremaining: 6m 56s\n",
      "62:\tlearn: 0.1544021\ttotal: 1m 50s\tremaining: 6m 54s\n",
      "63:\tlearn: 0.1538027\ttotal: 1m 51s\tremaining: 6m 51s\n",
      "64:\tlearn: 0.1533944\ttotal: 1m 53s\tremaining: 6m 49s\n",
      "65:\tlearn: 0.1529717\ttotal: 1m 54s\tremaining: 6m 47s\n",
      "66:\tlearn: 0.1526366\ttotal: 1m 56s\tremaining: 6m 45s\n",
      "67:\tlearn: 0.1522282\ttotal: 1m 58s\tremaining: 6m 43s\n",
      "68:\tlearn: 0.1518089\ttotal: 1m 59s\tremaining: 6m 41s\n",
      "69:\tlearn: 0.1513646\ttotal: 2m 1s\tremaining: 6m 39s\n",
      "70:\tlearn: 0.1506648\ttotal: 2m 3s\tremaining: 6m 37s\n",
      "71:\tlearn: 0.1502600\ttotal: 2m 4s\tremaining: 6m 35s\n",
      "72:\tlearn: 0.1498542\ttotal: 2m 6s\tremaining: 6m 33s\n",
      "73:\tlearn: 0.1494239\ttotal: 2m 8s\tremaining: 6m 31s\n",
      "74:\tlearn: 0.1490168\ttotal: 2m 10s\tremaining: 6m 30s\n",
      "75:\tlearn: 0.1485461\ttotal: 2m 11s\tremaining: 6m 28s\n",
      "76:\tlearn: 0.1480001\ttotal: 2m 13s\tremaining: 6m 27s\n",
      "77:\tlearn: 0.1477283\ttotal: 2m 15s\tremaining: 6m 25s\n",
      "78:\tlearn: 0.1473991\ttotal: 2m 17s\tremaining: 6m 23s\n",
      "79:\tlearn: 0.1467674\ttotal: 2m 18s\tremaining: 6m 21s\n",
      "80:\tlearn: 0.1464165\ttotal: 2m 20s\tremaining: 6m 19s\n",
      "81:\tlearn: 0.1459422\ttotal: 2m 22s\tremaining: 6m 18s\n",
      "82:\tlearn: 0.1455503\ttotal: 2m 23s\tremaining: 6m 16s\n",
      "83:\tlearn: 0.1452398\ttotal: 2m 25s\tremaining: 6m 14s\n",
      "84:\tlearn: 0.1448973\ttotal: 2m 27s\tremaining: 6m 12s\n",
      "85:\tlearn: 0.1444626\ttotal: 2m 29s\tremaining: 6m 11s\n",
      "86:\tlearn: 0.1442237\ttotal: 2m 30s\tremaining: 6m 9s\n",
      "87:\tlearn: 0.1439153\ttotal: 2m 32s\tremaining: 6m 7s\n",
      "88:\tlearn: 0.1434676\ttotal: 2m 34s\tremaining: 6m 5s\n",
      "89:\tlearn: 0.1432710\ttotal: 2m 35s\tremaining: 6m 3s\n",
      "90:\tlearn: 0.1428151\ttotal: 2m 37s\tremaining: 6m 2s\n",
      "91:\tlearn: 0.1425018\ttotal: 2m 39s\tremaining: 6m\n",
      "92:\tlearn: 0.1421490\ttotal: 2m 41s\tremaining: 5m 58s\n",
      "93:\tlearn: 0.1418167\ttotal: 2m 42s\tremaining: 5m 56s\n",
      "94:\tlearn: 0.1416018\ttotal: 2m 44s\tremaining: 5m 54s\n",
      "95:\tlearn: 0.1412530\ttotal: 2m 46s\tremaining: 5m 53s\n",
      "96:\tlearn: 0.1409111\ttotal: 2m 47s\tremaining: 5m 51s\n",
      "97:\tlearn: 0.1406309\ttotal: 2m 49s\tremaining: 5m 49s\n",
      "98:\tlearn: 0.1403211\ttotal: 2m 51s\tremaining: 5m 47s\n",
      "99:\tlearn: 0.1400605\ttotal: 2m 53s\tremaining: 5m 46s\n",
      "100:\tlearn: 0.1397500\ttotal: 2m 54s\tremaining: 5m 44s\n",
      "101:\tlearn: 0.1395108\ttotal: 2m 56s\tremaining: 5m 42s\n",
      "102:\tlearn: 0.1393195\ttotal: 2m 58s\tremaining: 5m 40s\n",
      "103:\tlearn: 0.1389826\ttotal: 2m 59s\tremaining: 5m 39s\n",
      "104:\tlearn: 0.1386774\ttotal: 3m 1s\tremaining: 5m 37s\n",
      "105:\tlearn: 0.1385269\ttotal: 3m 3s\tremaining: 5m 35s\n",
      "106:\tlearn: 0.1382332\ttotal: 3m 5s\tremaining: 5m 34s\n",
      "107:\tlearn: 0.1379700\ttotal: 3m 6s\tremaining: 5m 32s\n",
      "108:\tlearn: 0.1375888\ttotal: 3m 8s\tremaining: 5m 30s\n",
      "109:\tlearn: 0.1372633\ttotal: 3m 10s\tremaining: 5m 29s\n",
      "110:\tlearn: 0.1368789\ttotal: 3m 12s\tremaining: 5m 27s\n",
      "111:\tlearn: 0.1364682\ttotal: 3m 14s\tremaining: 5m 25s\n",
      "112:\tlearn: 0.1363174\ttotal: 3m 15s\tremaining: 5m 24s\n",
      "113:\tlearn: 0.1360674\ttotal: 3m 17s\tremaining: 5m 22s\n",
      "114:\tlearn: 0.1358796\ttotal: 3m 19s\tremaining: 5m 21s\n",
      "115:\tlearn: 0.1357411\ttotal: 3m 21s\tremaining: 5m 19s\n",
      "116:\tlearn: 0.1356053\ttotal: 3m 23s\tremaining: 5m 17s\n",
      "117:\tlearn: 0.1354002\ttotal: 3m 25s\tremaining: 5m 16s\n",
      "118:\tlearn: 0.1352554\ttotal: 3m 26s\tremaining: 5m 14s\n",
      "119:\tlearn: 0.1351226\ttotal: 3m 28s\tremaining: 5m 12s\n",
      "120:\tlearn: 0.1348634\ttotal: 3m 30s\tremaining: 5m 11s\n",
      "121:\tlearn: 0.1346670\ttotal: 3m 31s\tremaining: 5m 9s\n",
      "122:\tlearn: 0.1343211\ttotal: 3m 33s\tremaining: 5m 7s\n",
      "123:\tlearn: 0.1341958\ttotal: 3m 35s\tremaining: 5m 5s\n",
      "124:\tlearn: 0.1337873\ttotal: 3m 36s\tremaining: 5m 3s\n",
      "125:\tlearn: 0.1336383\ttotal: 3m 38s\tremaining: 5m 1s\n",
      "126:\tlearn: 0.1334760\ttotal: 3m 40s\tremaining: 4m 59s\n",
      "127:\tlearn: 0.1332083\ttotal: 3m 41s\tremaining: 4m 58s\n",
      "128:\tlearn: 0.1329342\ttotal: 3m 43s\tremaining: 4m 56s\n",
      "129:\tlearn: 0.1327666\ttotal: 3m 45s\tremaining: 4m 54s\n",
      "130:\tlearn: 0.1325554\ttotal: 3m 46s\tremaining: 4m 52s\n",
      "131:\tlearn: 0.1324061\ttotal: 3m 48s\tremaining: 4m 50s\n",
      "132:\tlearn: 0.1321292\ttotal: 3m 50s\tremaining: 4m 49s\n",
      "133:\tlearn: 0.1319572\ttotal: 3m 51s\tremaining: 4m 47s\n",
      "134:\tlearn: 0.1318360\ttotal: 3m 53s\tremaining: 4m 45s\n",
      "135:\tlearn: 0.1315926\ttotal: 3m 55s\tremaining: 4m 43s\n",
      "136:\tlearn: 0.1313583\ttotal: 3m 56s\tremaining: 4m 41s\n",
      "137:\tlearn: 0.1311403\ttotal: 3m 58s\tremaining: 4m 39s\n",
      "138:\tlearn: 0.1310094\ttotal: 4m\tremaining: 4m 38s\n",
      "139:\tlearn: 0.1308961\ttotal: 4m 1s\tremaining: 4m 36s\n",
      "140:\tlearn: 0.1306914\ttotal: 4m 3s\tremaining: 4m 34s\n",
      "141:\tlearn: 0.1304147\ttotal: 4m 4s\tremaining: 4m 32s\n",
      "142:\tlearn: 0.1302385\ttotal: 4m 6s\tremaining: 4m 30s\n",
      "143:\tlearn: 0.1299920\ttotal: 4m 8s\tremaining: 4m 29s\n",
      "144:\tlearn: 0.1296904\ttotal: 4m 10s\tremaining: 4m 27s\n",
      "145:\tlearn: 0.1292725\ttotal: 4m 11s\tremaining: 4m 25s\n",
      "146:\tlearn: 0.1291619\ttotal: 4m 13s\tremaining: 4m 24s\n",
      "147:\tlearn: 0.1289762\ttotal: 4m 15s\tremaining: 4m 22s\n",
      "148:\tlearn: 0.1287780\ttotal: 4m 17s\tremaining: 4m 20s\n",
      "149:\tlearn: 0.1283966\ttotal: 4m 18s\tremaining: 4m 18s\n",
      "150:\tlearn: 0.1281768\ttotal: 4m 20s\tremaining: 4m 17s\n",
      "151:\tlearn: 0.1280674\ttotal: 4m 22s\tremaining: 4m 15s\n",
      "152:\tlearn: 0.1279610\ttotal: 4m 23s\tremaining: 4m 13s\n",
      "153:\tlearn: 0.1278472\ttotal: 4m 25s\tremaining: 4m 11s\n",
      "154:\tlearn: 0.1275847\ttotal: 4m 27s\tremaining: 4m 9s\n",
      "155:\tlearn: 0.1274838\ttotal: 4m 28s\tremaining: 4m 8s\n",
      "156:\tlearn: 0.1273264\ttotal: 4m 30s\tremaining: 4m 6s\n",
      "157:\tlearn: 0.1270949\ttotal: 4m 32s\tremaining: 4m 4s\n",
      "158:\tlearn: 0.1268526\ttotal: 4m 33s\tremaining: 4m 2s\n",
      "159:\tlearn: 0.1265516\ttotal: 4m 35s\tremaining: 4m 1s\n",
      "160:\tlearn: 0.1263126\ttotal: 4m 37s\tremaining: 3m 59s\n",
      "161:\tlearn: 0.1261035\ttotal: 4m 38s\tremaining: 3m 57s\n",
      "162:\tlearn: 0.1258045\ttotal: 4m 40s\tremaining: 3m 55s\n",
      "163:\tlearn: 0.1255609\ttotal: 4m 42s\tremaining: 3m 54s\n",
      "164:\tlearn: 0.1252545\ttotal: 4m 44s\tremaining: 3m 52s\n",
      "165:\tlearn: 0.1250194\ttotal: 4m 45s\tremaining: 3m 50s\n",
      "166:\tlearn: 0.1249140\ttotal: 4m 47s\tremaining: 3m 49s\n",
      "167:\tlearn: 0.1247006\ttotal: 4m 49s\tremaining: 3m 47s\n",
      "168:\tlearn: 0.1245952\ttotal: 4m 51s\tremaining: 3m 45s\n",
      "169:\tlearn: 0.1243494\ttotal: 4m 52s\tremaining: 3m 43s\n",
      "170:\tlearn: 0.1242443\ttotal: 4m 54s\tremaining: 3m 42s\n",
      "171:\tlearn: 0.1241499\ttotal: 4m 56s\tremaining: 3m 40s\n",
      "172:\tlearn: 0.1240104\ttotal: 4m 57s\tremaining: 3m 38s\n",
      "173:\tlearn: 0.1239108\ttotal: 4m 59s\tremaining: 3m 36s\n",
      "174:\tlearn: 0.1238149\ttotal: 5m\tremaining: 3m 34s\n",
      "175:\tlearn: 0.1236509\ttotal: 5m 2s\tremaining: 3m 33s\n",
      "176:\tlearn: 0.1235562\ttotal: 5m 4s\tremaining: 3m 31s\n",
      "177:\tlearn: 0.1233784\ttotal: 5m 5s\tremaining: 3m 29s\n",
      "178:\tlearn: 0.1232896\ttotal: 5m 7s\tremaining: 3m 27s\n",
      "179:\tlearn: 0.1230831\ttotal: 5m 9s\tremaining: 3m 26s\n",
      "180:\tlearn: 0.1229949\ttotal: 5m 10s\tremaining: 3m 24s\n",
      "181:\tlearn: 0.1228576\ttotal: 5m 12s\tremaining: 3m 22s\n",
      "182:\tlearn: 0.1226032\ttotal: 5m 14s\tremaining: 3m 20s\n",
      "183:\tlearn: 0.1224056\ttotal: 5m 16s\tremaining: 3m 19s\n",
      "184:\tlearn: 0.1220667\ttotal: 5m 17s\tremaining: 3m 17s\n",
      "185:\tlearn: 0.1219789\ttotal: 5m 19s\tremaining: 3m 15s\n",
      "186:\tlearn: 0.1218945\ttotal: 5m 21s\tremaining: 3m 14s\n",
      "187:\tlearn: 0.1217839\ttotal: 5m 22s\tremaining: 3m 12s\n",
      "188:\tlearn: 0.1216956\ttotal: 5m 24s\tremaining: 3m 10s\n",
      "189:\tlearn: 0.1216114\ttotal: 5m 26s\tremaining: 3m 8s\n",
      "190:\tlearn: 0.1212653\ttotal: 5m 27s\tremaining: 3m 7s\n",
      "191:\tlearn: 0.1210591\ttotal: 5m 29s\tremaining: 3m 5s\n",
      "192:\tlearn: 0.1209345\ttotal: 5m 31s\tremaining: 3m 3s\n",
      "193:\tlearn: 0.1207028\ttotal: 5m 32s\tremaining: 3m 1s\n",
      "194:\tlearn: 0.1206136\ttotal: 5m 34s\tremaining: 3m\n",
      "195:\tlearn: 0.1205345\ttotal: 5m 36s\tremaining: 2m 58s\n",
      "196:\tlearn: 0.1203489\ttotal: 5m 37s\tremaining: 2m 56s\n",
      "197:\tlearn: 0.1200917\ttotal: 5m 39s\tremaining: 2m 54s\n",
      "198:\tlearn: 0.1199193\ttotal: 5m 41s\tremaining: 2m 53s\n",
      "199:\tlearn: 0.1197565\ttotal: 5m 42s\tremaining: 2m 51s\n",
      "200:\tlearn: 0.1196653\ttotal: 5m 44s\tremaining: 2m 49s\n",
      "201:\tlearn: 0.1195048\ttotal: 5m 46s\tremaining: 2m 47s\n",
      "202:\tlearn: 0.1193237\ttotal: 5m 48s\tremaining: 2m 46s\n",
      "203:\tlearn: 0.1192484\ttotal: 5m 49s\tremaining: 2m 44s\n",
      "204:\tlearn: 0.1191675\ttotal: 5m 51s\tremaining: 2m 42s\n",
      "205:\tlearn: 0.1189990\ttotal: 5m 52s\tremaining: 2m 41s\n",
      "206:\tlearn: 0.1188407\ttotal: 5m 54s\tremaining: 2m 39s\n",
      "207:\tlearn: 0.1187300\ttotal: 5m 56s\tremaining: 2m 37s\n",
      "208:\tlearn: 0.1186372\ttotal: 5m 57s\tremaining: 2m 35s\n",
      "209:\tlearn: 0.1185592\ttotal: 5m 59s\tremaining: 2m 34s\n",
      "210:\tlearn: 0.1183725\ttotal: 6m 1s\tremaining: 2m 32s\n",
      "211:\tlearn: 0.1182988\ttotal: 6m 2s\tremaining: 2m 30s\n",
      "212:\tlearn: 0.1182044\ttotal: 6m 4s\tremaining: 2m 28s\n",
      "213:\tlearn: 0.1180521\ttotal: 6m 6s\tremaining: 2m 27s\n",
      "214:\tlearn: 0.1179635\ttotal: 6m 7s\tremaining: 2m 25s\n",
      "215:\tlearn: 0.1178843\ttotal: 6m 9s\tremaining: 2m 23s\n",
      "216:\tlearn: 0.1178101\ttotal: 6m 10s\tremaining: 2m 21s\n",
      "217:\tlearn: 0.1176009\ttotal: 6m 12s\tremaining: 2m 20s\n",
      "218:\tlearn: 0.1174225\ttotal: 6m 14s\tremaining: 2m 18s\n",
      "219:\tlearn: 0.1173540\ttotal: 6m 16s\tremaining: 2m 16s\n",
      "220:\tlearn: 0.1172839\ttotal: 6m 17s\tremaining: 2m 15s\n",
      "221:\tlearn: 0.1171866\ttotal: 6m 19s\tremaining: 2m 13s\n",
      "222:\tlearn: 0.1170578\ttotal: 6m 21s\tremaining: 2m 11s\n",
      "223:\tlearn: 0.1168352\ttotal: 6m 23s\tremaining: 2m 9s\n",
      "224:\tlearn: 0.1167616\ttotal: 6m 24s\tremaining: 2m 8s\n",
      "225:\tlearn: 0.1166658\ttotal: 6m 26s\tremaining: 2m 6s\n",
      "226:\tlearn: 0.1165066\ttotal: 6m 27s\tremaining: 2m 4s\n",
      "227:\tlearn: 0.1164293\ttotal: 6m 29s\tremaining: 2m 3s\n",
      "228:\tlearn: 0.1163635\ttotal: 6m 31s\tremaining: 2m 1s\n",
      "229:\tlearn: 0.1162093\ttotal: 6m 33s\tremaining: 1m 59s\n",
      "230:\tlearn: 0.1161383\ttotal: 6m 34s\tremaining: 1m 57s\n",
      "231:\tlearn: 0.1159123\ttotal: 6m 36s\tremaining: 1m 56s\n",
      "232:\tlearn: 0.1157542\ttotal: 6m 38s\tremaining: 1m 54s\n",
      "233:\tlearn: 0.1156815\ttotal: 6m 39s\tremaining: 1m 52s\n",
      "234:\tlearn: 0.1156174\ttotal: 6m 41s\tremaining: 1m 51s\n",
      "235:\tlearn: 0.1155490\ttotal: 6m 43s\tremaining: 1m 49s\n",
      "236:\tlearn: 0.1154848\ttotal: 6m 44s\tremaining: 1m 47s\n",
      "237:\tlearn: 0.1153878\ttotal: 6m 46s\tremaining: 1m 45s\n",
      "238:\tlearn: 0.1153105\ttotal: 6m 48s\tremaining: 1m 44s\n",
      "239:\tlearn: 0.1152189\ttotal: 6m 49s\tremaining: 1m 42s\n",
      "240:\tlearn: 0.1151495\ttotal: 6m 51s\tremaining: 1m 40s\n",
      "241:\tlearn: 0.1150856\ttotal: 6m 53s\tremaining: 1m 39s\n",
      "242:\tlearn: 0.1150221\ttotal: 6m 54s\tremaining: 1m 37s\n",
      "243:\tlearn: 0.1148428\ttotal: 6m 56s\tremaining: 1m 35s\n",
      "244:\tlearn: 0.1147827\ttotal: 6m 58s\tremaining: 1m 33s\n",
      "245:\tlearn: 0.1146901\ttotal: 7m\tremaining: 1m 32s\n",
      "246:\tlearn: 0.1146290\ttotal: 7m 1s\tremaining: 1m 30s\n",
      "247:\tlearn: 0.1145686\ttotal: 7m 3s\tremaining: 1m 28s\n",
      "248:\tlearn: 0.1144881\ttotal: 7m 5s\tremaining: 1m 27s\n",
      "249:\tlearn: 0.1144260\ttotal: 7m 6s\tremaining: 1m 25s\n",
      "250:\tlearn: 0.1142635\ttotal: 7m 8s\tremaining: 1m 23s\n",
      "251:\tlearn: 0.1141949\ttotal: 7m 10s\tremaining: 1m 21s\n",
      "252:\tlearn: 0.1141305\ttotal: 7m 12s\tremaining: 1m 20s\n",
      "253:\tlearn: 0.1140651\ttotal: 7m 13s\tremaining: 1m 18s\n",
      "254:\tlearn: 0.1138101\ttotal: 7m 15s\tremaining: 1m 16s\n",
      "255:\tlearn: 0.1137418\ttotal: 7m 17s\tremaining: 1m 15s\n",
      "256:\tlearn: 0.1136821\ttotal: 7m 19s\tremaining: 1m 13s\n",
      "257:\tlearn: 0.1136257\ttotal: 7m 20s\tremaining: 1m 11s\n",
      "258:\tlearn: 0.1135628\ttotal: 7m 22s\tremaining: 1m 10s\n",
      "259:\tlearn: 0.1134237\ttotal: 7m 24s\tremaining: 1m 8s\n",
      "260:\tlearn: 0.1133268\ttotal: 7m 25s\tremaining: 1m 6s\n",
      "261:\tlearn: 0.1132713\ttotal: 7m 27s\tremaining: 1m 4s\n",
      "262:\tlearn: 0.1131957\ttotal: 7m 29s\tremaining: 1m 3s\n",
      "263:\tlearn: 0.1130061\ttotal: 7m 30s\tremaining: 1m 1s\n",
      "264:\tlearn: 0.1129553\ttotal: 7m 32s\tremaining: 59.8s\n",
      "265:\tlearn: 0.1128640\ttotal: 7m 34s\tremaining: 58.1s\n",
      "266:\tlearn: 0.1127073\ttotal: 7m 36s\tremaining: 56.4s\n",
      "267:\tlearn: 0.1126530\ttotal: 7m 37s\tremaining: 54.6s\n",
      "268:\tlearn: 0.1125955\ttotal: 7m 39s\tremaining: 52.9s\n",
      "269:\tlearn: 0.1124148\ttotal: 7m 40s\tremaining: 51.2s\n",
      "270:\tlearn: 0.1122012\ttotal: 7m 42s\tremaining: 49.5s\n",
      "271:\tlearn: 0.1121441\ttotal: 7m 44s\tremaining: 47.8s\n",
      "272:\tlearn: 0.1119999\ttotal: 7m 45s\tremaining: 46.1s\n",
      "273:\tlearn: 0.1119450\ttotal: 7m 47s\tremaining: 44.4s\n",
      "274:\tlearn: 0.1117705\ttotal: 7m 49s\tremaining: 42.7s\n",
      "275:\tlearn: 0.1116213\ttotal: 7m 50s\tremaining: 41s\n",
      "276:\tlearn: 0.1115131\ttotal: 7m 52s\tremaining: 39.2s\n",
      "277:\tlearn: 0.1112494\ttotal: 7m 54s\tremaining: 37.5s\n",
      "278:\tlearn: 0.1110719\ttotal: 7m 56s\tremaining: 35.8s\n",
      "279:\tlearn: 0.1110206\ttotal: 7m 57s\tremaining: 34.1s\n",
      "280:\tlearn: 0.1109530\ttotal: 7m 59s\tremaining: 32.4s\n",
      "281:\tlearn: 0.1108134\ttotal: 8m 1s\tremaining: 30.7s\n",
      "282:\tlearn: 0.1106373\ttotal: 8m 2s\tremaining: 29s\n",
      "283:\tlearn: 0.1105809\ttotal: 8m 4s\tremaining: 27.3s\n",
      "284:\tlearn: 0.1104487\ttotal: 8m 6s\tremaining: 25.6s\n",
      "285:\tlearn: 0.1103012\ttotal: 8m 7s\tremaining: 23.9s\n",
      "286:\tlearn: 0.1102328\ttotal: 8m 9s\tremaining: 22.2s\n",
      "287:\tlearn: 0.1101078\ttotal: 8m 11s\tremaining: 20.5s\n",
      "288:\tlearn: 0.1099500\ttotal: 8m 13s\tremaining: 18.8s\n",
      "289:\tlearn: 0.1098937\ttotal: 8m 14s\tremaining: 17.1s\n",
      "290:\tlearn: 0.1097640\ttotal: 8m 16s\tremaining: 15.4s\n",
      "291:\tlearn: 0.1097038\ttotal: 8m 18s\tremaining: 13.6s\n",
      "292:\tlearn: 0.1096469\ttotal: 8m 19s\tremaining: 11.9s\n",
      "293:\tlearn: 0.1094871\ttotal: 8m 21s\tremaining: 10.2s\n",
      "294:\tlearn: 0.1094321\ttotal: 8m 22s\tremaining: 8.52s\n",
      "295:\tlearn: 0.1093005\ttotal: 8m 24s\tremaining: 6.82s\n",
      "296:\tlearn: 0.1091376\ttotal: 8m 26s\tremaining: 5.11s\n",
      "297:\tlearn: 0.1090045\ttotal: 8m 27s\tremaining: 3.41s\n",
      "298:\tlearn: 0.1089555\ttotal: 8m 29s\tremaining: 1.7s\n",
      "299:\tlearn: 0.1087844\ttotal: 8m 31s\tremaining: 0us\n",
      "Learning rate set to 0.239553\n",
      "0:\tlearn: 0.4764543\ttotal: 2.77s\tremaining: 13m 49s\n",
      "1:\tlearn: 0.3612974\ttotal: 4.92s\tremaining: 12m 13s\n",
      "2:\tlearn: 0.3016013\ttotal: 7.03s\tremaining: 11m 36s\n",
      "3:\tlearn: 0.2688966\ttotal: 9.2s\tremaining: 11m 20s\n",
      "4:\tlearn: 0.2498529\ttotal: 11.3s\tremaining: 11m 6s\n",
      "5:\tlearn: 0.2346727\ttotal: 13.5s\tremaining: 11m 2s\n",
      "6:\tlearn: 0.2265179\ttotal: 15.8s\tremaining: 11m\n",
      "7:\tlearn: 0.2188724\ttotal: 18s\tremaining: 10m 58s\n",
      "8:\tlearn: 0.2138940\ttotal: 20.2s\tremaining: 10m 53s\n",
      "9:\tlearn: 0.2102582\ttotal: 22.3s\tremaining: 10m 47s\n",
      "10:\tlearn: 0.2070170\ttotal: 24.4s\tremaining: 10m 41s\n",
      "11:\tlearn: 0.2044625\ttotal: 26.6s\tremaining: 10m 37s\n",
      "12:\tlearn: 0.2013394\ttotal: 28.6s\tremaining: 10m 32s\n",
      "13:\tlearn: 0.1985170\ttotal: 30.7s\tremaining: 10m 26s\n",
      "14:\tlearn: 0.1967521\ttotal: 32.7s\tremaining: 10m 21s\n",
      "15:\tlearn: 0.1946358\ttotal: 34.7s\tremaining: 10m 16s\n",
      "16:\tlearn: 0.1919854\ttotal: 36.8s\tremaining: 10m 12s\n",
      "17:\tlearn: 0.1902441\ttotal: 38.9s\tremaining: 10m 9s\n",
      "18:\tlearn: 0.1884391\ttotal: 40.9s\tremaining: 10m 5s\n",
      "19:\tlearn: 0.1865136\ttotal: 42.9s\tremaining: 10m 1s\n",
      "20:\tlearn: 0.1851038\ttotal: 45.1s\tremaining: 9m 58s\n",
      "21:\tlearn: 0.1829671\ttotal: 47.2s\tremaining: 9m 56s\n",
      "22:\tlearn: 0.1817328\ttotal: 49.2s\tremaining: 9m 53s\n",
      "23:\tlearn: 0.1805609\ttotal: 51.2s\tremaining: 9m 49s\n",
      "24:\tlearn: 0.1793372\ttotal: 53.4s\tremaining: 9m 47s\n",
      "25:\tlearn: 0.1783590\ttotal: 55.6s\tremaining: 9m 45s\n",
      "26:\tlearn: 0.1772660\ttotal: 57.7s\tremaining: 9m 42s\n",
      "27:\tlearn: 0.1760601\ttotal: 59.7s\tremaining: 9m 39s\n",
      "28:\tlearn: 0.1748387\ttotal: 1m 1s\tremaining: 9m 36s\n",
      "29:\tlearn: 0.1735567\ttotal: 1m 3s\tremaining: 9m 34s\n",
      "30:\tlearn: 0.1723014\ttotal: 1m 5s\tremaining: 9m 31s\n",
      "31:\tlearn: 0.1714422\ttotal: 1m 7s\tremaining: 9m 28s\n",
      "32:\tlearn: 0.1702752\ttotal: 1m 9s\tremaining: 9m 25s\n",
      "33:\tlearn: 0.1694483\ttotal: 1m 11s\tremaining: 9m 22s\n",
      "34:\tlearn: 0.1686304\ttotal: 1m 14s\tremaining: 9m 20s\n",
      "35:\tlearn: 0.1677745\ttotal: 1m 16s\tremaining: 9m 18s\n",
      "36:\tlearn: 0.1668314\ttotal: 1m 18s\tremaining: 9m 15s\n",
      "37:\tlearn: 0.1662270\ttotal: 1m 20s\tremaining: 9m 12s\n",
      "38:\tlearn: 0.1656311\ttotal: 1m 22s\tremaining: 9m 11s\n",
      "39:\tlearn: 0.1649390\ttotal: 1m 24s\tremaining: 9m 8s\n",
      "40:\tlearn: 0.1643098\ttotal: 1m 26s\tremaining: 9m 5s\n",
      "41:\tlearn: 0.1634430\ttotal: 1m 28s\tremaining: 9m 2s\n",
      "42:\tlearn: 0.1626423\ttotal: 1m 30s\tremaining: 8m 59s\n",
      "43:\tlearn: 0.1620818\ttotal: 1m 32s\tremaining: 8m 56s\n",
      "44:\tlearn: 0.1614815\ttotal: 1m 34s\tremaining: 8m 53s\n",
      "45:\tlearn: 0.1608622\ttotal: 1m 36s\tremaining: 8m 50s\n",
      "46:\tlearn: 0.1602276\ttotal: 1m 38s\tremaining: 8m 48s\n",
      "47:\tlearn: 0.1596185\ttotal: 1m 40s\tremaining: 8m 45s\n",
      "48:\tlearn: 0.1590218\ttotal: 1m 42s\tremaining: 8m 42s\n",
      "49:\tlearn: 0.1580589\ttotal: 1m 44s\tremaining: 8m 40s\n",
      "50:\tlearn: 0.1572260\ttotal: 1m 45s\tremaining: 8m 37s\n",
      "51:\tlearn: 0.1567568\ttotal: 1m 47s\tremaining: 8m 34s\n",
      "52:\tlearn: 0.1562128\ttotal: 1m 49s\tremaining: 8m 31s\n",
      "53:\tlearn: 0.1555099\ttotal: 1m 51s\tremaining: 8m 29s\n",
      "54:\tlearn: 0.1548537\ttotal: 1m 53s\tremaining: 8m 26s\n",
      "55:\tlearn: 0.1542803\ttotal: 1m 55s\tremaining: 8m 24s\n",
      "56:\tlearn: 0.1538346\ttotal: 1m 57s\tremaining: 8m 22s\n",
      "57:\tlearn: 0.1532463\ttotal: 1m 59s\tremaining: 8m 19s\n",
      "58:\tlearn: 0.1528634\ttotal: 2m 1s\tremaining: 8m 17s\n",
      "59:\tlearn: 0.1522853\ttotal: 2m 3s\tremaining: 8m 14s\n",
      "60:\tlearn: 0.1517900\ttotal: 2m 5s\tremaining: 8m 12s\n",
      "61:\tlearn: 0.1512124\ttotal: 2m 7s\tremaining: 8m 10s\n",
      "62:\tlearn: 0.1507564\ttotal: 2m 9s\tremaining: 8m 8s\n",
      "63:\tlearn: 0.1502525\ttotal: 2m 11s\tremaining: 8m 6s\n",
      "64:\tlearn: 0.1498786\ttotal: 2m 14s\tremaining: 8m 4s\n",
      "65:\tlearn: 0.1494563\ttotal: 2m 16s\tremaining: 8m 3s\n",
      "66:\tlearn: 0.1489011\ttotal: 2m 18s\tremaining: 8m 2s\n",
      "67:\tlearn: 0.1485875\ttotal: 2m 20s\tremaining: 8m\n",
      "68:\tlearn: 0.1481933\ttotal: 2m 22s\tremaining: 7m 58s\n",
      "69:\tlearn: 0.1477619\ttotal: 2m 24s\tremaining: 7m 56s\n",
      "70:\tlearn: 0.1472136\ttotal: 2m 26s\tremaining: 7m 53s\n",
      "71:\tlearn: 0.1468807\ttotal: 2m 29s\tremaining: 7m 52s\n",
      "72:\tlearn: 0.1465681\ttotal: 2m 31s\tremaining: 7m 49s\n",
      "73:\tlearn: 0.1461192\ttotal: 2m 32s\tremaining: 7m 47s\n",
      "74:\tlearn: 0.1457234\ttotal: 2m 35s\tremaining: 7m 45s\n",
      "75:\tlearn: 0.1452747\ttotal: 2m 37s\tremaining: 7m 42s\n",
      "76:\tlearn: 0.1448561\ttotal: 2m 39s\tremaining: 7m 40s\n",
      "77:\tlearn: 0.1445297\ttotal: 2m 40s\tremaining: 7m 38s\n",
      "78:\tlearn: 0.1441547\ttotal: 2m 42s\tremaining: 7m 35s\n",
      "79:\tlearn: 0.1437774\ttotal: 2m 44s\tremaining: 7m 33s\n",
      "80:\tlearn: 0.1434896\ttotal: 2m 46s\tremaining: 7m 30s\n",
      "81:\tlearn: 0.1432042\ttotal: 2m 48s\tremaining: 7m 28s\n",
      "82:\tlearn: 0.1427641\ttotal: 2m 50s\tremaining: 7m 26s\n",
      "83:\tlearn: 0.1424289\ttotal: 2m 52s\tremaining: 7m 23s\n",
      "84:\tlearn: 0.1419395\ttotal: 2m 54s\tremaining: 7m 21s\n",
      "85:\tlearn: 0.1415317\ttotal: 2m 56s\tremaining: 7m 19s\n",
      "86:\tlearn: 0.1411687\ttotal: 2m 58s\tremaining: 7m 17s\n",
      "87:\tlearn: 0.1408783\ttotal: 3m\tremaining: 7m 15s\n",
      "88:\tlearn: 0.1406789\ttotal: 3m 2s\tremaining: 7m 12s\n",
      "89:\tlearn: 0.1404941\ttotal: 3m 4s\tremaining: 7m 10s\n",
      "90:\tlearn: 0.1402916\ttotal: 3m 6s\tremaining: 7m 7s\n",
      "91:\tlearn: 0.1399169\ttotal: 3m 8s\tremaining: 7m 6s\n",
      "92:\tlearn: 0.1395587\ttotal: 3m 10s\tremaining: 7m 3s\n",
      "93:\tlearn: 0.1391761\ttotal: 3m 12s\tremaining: 7m 1s\n",
      "94:\tlearn: 0.1387551\ttotal: 3m 14s\tremaining: 6m 59s\n",
      "95:\tlearn: 0.1384227\ttotal: 3m 16s\tremaining: 6m 57s\n",
      "96:\tlearn: 0.1381059\ttotal: 3m 18s\tremaining: 6m 55s\n",
      "97:\tlearn: 0.1375587\ttotal: 3m 20s\tremaining: 6m 53s\n",
      "98:\tlearn: 0.1372621\ttotal: 3m 22s\tremaining: 6m 51s\n",
      "99:\tlearn: 0.1370541\ttotal: 3m 24s\tremaining: 6m 49s\n",
      "100:\tlearn: 0.1365675\ttotal: 3m 26s\tremaining: 6m 46s\n",
      "101:\tlearn: 0.1363237\ttotal: 3m 28s\tremaining: 6m 44s\n",
      "102:\tlearn: 0.1360709\ttotal: 3m 30s\tremaining: 6m 42s\n",
      "103:\tlearn: 0.1358897\ttotal: 3m 32s\tremaining: 6m 40s\n",
      "104:\tlearn: 0.1356659\ttotal: 3m 34s\tremaining: 6m 37s\n",
      "105:\tlearn: 0.1355199\ttotal: 3m 35s\tremaining: 6m 35s\n",
      "106:\tlearn: 0.1351910\ttotal: 3m 38s\tremaining: 6m 33s\n",
      "107:\tlearn: 0.1349143\ttotal: 3m 39s\tremaining: 6m 31s\n",
      "108:\tlearn: 0.1346577\ttotal: 3m 41s\tremaining: 6m 28s\n",
      "109:\tlearn: 0.1342765\ttotal: 3m 43s\tremaining: 6m 26s\n",
      "110:\tlearn: 0.1337386\ttotal: 3m 46s\tremaining: 6m 24s\n",
      "111:\tlearn: 0.1334709\ttotal: 3m 48s\tremaining: 6m 22s\n",
      "112:\tlearn: 0.1331644\ttotal: 3m 50s\tremaining: 6m 20s\n",
      "113:\tlearn: 0.1327727\ttotal: 3m 52s\tremaining: 6m 18s\n",
      "114:\tlearn: 0.1325528\ttotal: 3m 53s\tremaining: 6m 16s\n",
      "115:\tlearn: 0.1323100\ttotal: 3m 55s\tremaining: 6m 14s\n",
      "116:\tlearn: 0.1321542\ttotal: 3m 57s\tremaining: 6m 11s\n",
      "117:\tlearn: 0.1319711\ttotal: 3m 59s\tremaining: 6m 9s\n",
      "118:\tlearn: 0.1316643\ttotal: 4m 1s\tremaining: 6m 7s\n",
      "119:\tlearn: 0.1314418\ttotal: 4m 3s\tremaining: 6m 5s\n",
      "120:\tlearn: 0.1311671\ttotal: 4m 5s\tremaining: 6m 3s\n",
      "121:\tlearn: 0.1310133\ttotal: 4m 7s\tremaining: 6m\n",
      "122:\tlearn: 0.1308736\ttotal: 4m 9s\tremaining: 5m 58s\n",
      "123:\tlearn: 0.1306455\ttotal: 4m 11s\tremaining: 5m 56s\n",
      "124:\tlearn: 0.1304672\ttotal: 4m 13s\tremaining: 5m 54s\n",
      "125:\tlearn: 0.1303492\ttotal: 4m 15s\tremaining: 5m 52s\n",
      "126:\tlearn: 0.1301644\ttotal: 4m 17s\tremaining: 5m 50s\n",
      "127:\tlearn: 0.1300262\ttotal: 4m 19s\tremaining: 5m 48s\n",
      "128:\tlearn: 0.1299033\ttotal: 4m 21s\tremaining: 5m 46s\n",
      "129:\tlearn: 0.1297943\ttotal: 4m 23s\tremaining: 5m 44s\n",
      "130:\tlearn: 0.1296307\ttotal: 4m 25s\tremaining: 5m 42s\n",
      "131:\tlearn: 0.1294271\ttotal: 4m 27s\tremaining: 5m 40s\n",
      "132:\tlearn: 0.1292003\ttotal: 4m 29s\tremaining: 5m 38s\n",
      "133:\tlearn: 0.1289740\ttotal: 4m 31s\tremaining: 5m 36s\n",
      "134:\tlearn: 0.1288559\ttotal: 4m 33s\tremaining: 5m 33s\n",
      "135:\tlearn: 0.1285440\ttotal: 4m 35s\tremaining: 5m 31s\n",
      "136:\tlearn: 0.1283157\ttotal: 4m 37s\tremaining: 5m 29s\n",
      "137:\tlearn: 0.1280778\ttotal: 4m 39s\tremaining: 5m 28s\n",
      "138:\tlearn: 0.1279720\ttotal: 4m 41s\tremaining: 5m 25s\n",
      "139:\tlearn: 0.1277334\ttotal: 4m 43s\tremaining: 5m 23s\n",
      "140:\tlearn: 0.1276024\ttotal: 4m 45s\tremaining: 5m 21s\n",
      "141:\tlearn: 0.1274286\ttotal: 4m 47s\tremaining: 5m 19s\n",
      "142:\tlearn: 0.1272367\ttotal: 4m 49s\tremaining: 5m 17s\n",
      "143:\tlearn: 0.1269145\ttotal: 4m 51s\tremaining: 5m 15s\n",
      "144:\tlearn: 0.1266806\ttotal: 4m 53s\tremaining: 5m 13s\n",
      "145:\tlearn: 0.1264599\ttotal: 4m 55s\tremaining: 5m 11s\n",
      "146:\tlearn: 0.1263586\ttotal: 4m 57s\tremaining: 5m 9s\n",
      "147:\tlearn: 0.1261568\ttotal: 4m 59s\tremaining: 5m 7s\n",
      "148:\tlearn: 0.1259171\ttotal: 5m 1s\tremaining: 5m 5s\n",
      "149:\tlearn: 0.1257564\ttotal: 5m 3s\tremaining: 5m 3s\n",
      "150:\tlearn: 0.1256472\ttotal: 5m 5s\tremaining: 5m 1s\n",
      "151:\tlearn: 0.1254247\ttotal: 5m 7s\tremaining: 4m 59s\n",
      "152:\tlearn: 0.1252697\ttotal: 5m 9s\tremaining: 4m 57s\n",
      "153:\tlearn: 0.1251706\ttotal: 5m 11s\tremaining: 4m 55s\n",
      "154:\tlearn: 0.1249127\ttotal: 5m 13s\tremaining: 4m 53s\n",
      "155:\tlearn: 0.1248204\ttotal: 5m 15s\tremaining: 4m 51s\n",
      "156:\tlearn: 0.1246025\ttotal: 5m 17s\tremaining: 4m 49s\n",
      "157:\tlearn: 0.1245042\ttotal: 5m 19s\tremaining: 4m 47s\n",
      "158:\tlearn: 0.1243135\ttotal: 5m 21s\tremaining: 4m 45s\n",
      "159:\tlearn: 0.1241381\ttotal: 5m 24s\tremaining: 4m 43s\n",
      "160:\tlearn: 0.1239920\ttotal: 5m 26s\tremaining: 4m 41s\n",
      "161:\tlearn: 0.1238034\ttotal: 5m 28s\tremaining: 4m 39s\n",
      "162:\tlearn: 0.1236121\ttotal: 5m 30s\tremaining: 4m 37s\n",
      "163:\tlearn: 0.1232929\ttotal: 5m 32s\tremaining: 4m 35s\n",
      "164:\tlearn: 0.1231837\ttotal: 5m 34s\tremaining: 4m 33s\n",
      "165:\tlearn: 0.1230970\ttotal: 5m 36s\tremaining: 4m 31s\n",
      "166:\tlearn: 0.1229080\ttotal: 5m 38s\tremaining: 4m 29s\n",
      "167:\tlearn: 0.1227288\ttotal: 5m 40s\tremaining: 4m 27s\n",
      "168:\tlearn: 0.1224353\ttotal: 5m 42s\tremaining: 4m 25s\n",
      "169:\tlearn: 0.1222385\ttotal: 5m 44s\tremaining: 4m 23s\n",
      "170:\tlearn: 0.1219862\ttotal: 5m 46s\tremaining: 4m 21s\n",
      "171:\tlearn: 0.1218175\ttotal: 5m 48s\tremaining: 4m 19s\n",
      "172:\tlearn: 0.1216377\ttotal: 5m 50s\tremaining: 4m 17s\n",
      "173:\tlearn: 0.1213841\ttotal: 5m 52s\tremaining: 4m 15s\n",
      "174:\tlearn: 0.1212959\ttotal: 5m 54s\tremaining: 4m 13s\n",
      "175:\tlearn: 0.1210187\ttotal: 5m 56s\tremaining: 4m 11s\n",
      "176:\tlearn: 0.1209163\ttotal: 5m 58s\tremaining: 4m 9s\n",
      "177:\tlearn: 0.1206701\ttotal: 6m\tremaining: 4m 7s\n",
      "178:\tlearn: 0.1205254\ttotal: 6m 2s\tremaining: 4m 5s\n",
      "179:\tlearn: 0.1202167\ttotal: 6m 4s\tremaining: 4m 3s\n",
      "180:\tlearn: 0.1201291\ttotal: 6m 6s\tremaining: 4m 1s\n",
      "181:\tlearn: 0.1200338\ttotal: 6m 8s\tremaining: 3m 58s\n",
      "182:\tlearn: 0.1199350\ttotal: 6m 10s\tremaining: 3m 56s\n",
      "183:\tlearn: 0.1198473\ttotal: 6m 12s\tremaining: 3m 54s\n",
      "184:\tlearn: 0.1197626\ttotal: 6m 14s\tremaining: 3m 52s\n",
      "185:\tlearn: 0.1195896\ttotal: 6m 16s\tremaining: 3m 50s\n",
      "186:\tlearn: 0.1194340\ttotal: 6m 18s\tremaining: 3m 48s\n",
      "187:\tlearn: 0.1193552\ttotal: 6m 20s\tremaining: 3m 46s\n",
      "188:\tlearn: 0.1191759\ttotal: 6m 22s\tremaining: 3m 44s\n",
      "189:\tlearn: 0.1190923\ttotal: 6m 24s\tremaining: 3m 42s\n",
      "190:\tlearn: 0.1190048\ttotal: 6m 26s\tremaining: 3m 40s\n",
      "191:\tlearn: 0.1189269\ttotal: 6m 28s\tremaining: 3m 38s\n",
      "192:\tlearn: 0.1187191\ttotal: 6m 30s\tremaining: 3m 36s\n",
      "193:\tlearn: 0.1186412\ttotal: 6m 32s\tremaining: 3m 34s\n",
      "194:\tlearn: 0.1185495\ttotal: 6m 34s\tremaining: 3m 32s\n",
      "195:\tlearn: 0.1183775\ttotal: 6m 36s\tremaining: 3m 30s\n",
      "196:\tlearn: 0.1182821\ttotal: 6m 38s\tremaining: 3m 28s\n",
      "197:\tlearn: 0.1182025\ttotal: 6m 40s\tremaining: 3m 26s\n",
      "198:\tlearn: 0.1181212\ttotal: 6m 42s\tremaining: 3m 24s\n",
      "199:\tlearn: 0.1180517\ttotal: 6m 44s\tremaining: 3m 22s\n",
      "200:\tlearn: 0.1178835\ttotal: 6m 46s\tremaining: 3m 20s\n",
      "201:\tlearn: 0.1176740\ttotal: 6m 48s\tremaining: 3m 18s\n",
      "202:\tlearn: 0.1175975\ttotal: 6m 50s\tremaining: 3m 16s\n",
      "203:\tlearn: 0.1175261\ttotal: 6m 52s\tremaining: 3m 14s\n",
      "204:\tlearn: 0.1174528\ttotal: 6m 54s\tremaining: 3m 12s\n",
      "205:\tlearn: 0.1173788\ttotal: 6m 56s\tremaining: 3m 10s\n",
      "206:\tlearn: 0.1171420\ttotal: 6m 58s\tremaining: 3m 8s\n",
      "207:\tlearn: 0.1170775\ttotal: 7m\tremaining: 3m 5s\n",
      "208:\tlearn: 0.1170030\ttotal: 7m 2s\tremaining: 3m 3s\n",
      "209:\tlearn: 0.1169248\ttotal: 7m 4s\tremaining: 3m 1s\n",
      "210:\tlearn: 0.1167294\ttotal: 7m 6s\tremaining: 2m 59s\n",
      "211:\tlearn: 0.1164868\ttotal: 7m 8s\tremaining: 2m 57s\n",
      "212:\tlearn: 0.1164204\ttotal: 7m 10s\tremaining: 2m 55s\n",
      "213:\tlearn: 0.1162252\ttotal: 7m 12s\tremaining: 2m 53s\n",
      "214:\tlearn: 0.1161416\ttotal: 7m 14s\tremaining: 2m 51s\n",
      "215:\tlearn: 0.1160753\ttotal: 7m 16s\tremaining: 2m 49s\n",
      "216:\tlearn: 0.1160033\ttotal: 7m 17s\tremaining: 2m 47s\n",
      "217:\tlearn: 0.1159353\ttotal: 7m 19s\tremaining: 2m 45s\n",
      "218:\tlearn: 0.1158307\ttotal: 7m 21s\tremaining: 2m 43s\n",
      "219:\tlearn: 0.1157617\ttotal: 7m 23s\tremaining: 2m 41s\n",
      "220:\tlearn: 0.1156968\ttotal: 7m 25s\tremaining: 2m 39s\n",
      "221:\tlearn: 0.1154415\ttotal: 7m 27s\tremaining: 2m 37s\n",
      "222:\tlearn: 0.1153752\ttotal: 7m 29s\tremaining: 2m 35s\n",
      "223:\tlearn: 0.1153123\ttotal: 7m 31s\tremaining: 2m 33s\n",
      "224:\tlearn: 0.1152466\ttotal: 7m 33s\tremaining: 2m 31s\n",
      "225:\tlearn: 0.1151846\ttotal: 7m 35s\tremaining: 2m 29s\n",
      "226:\tlearn: 0.1151162\ttotal: 7m 37s\tremaining: 2m 27s\n",
      "227:\tlearn: 0.1148783\ttotal: 7m 39s\tremaining: 2m 25s\n",
      "228:\tlearn: 0.1146937\ttotal: 7m 41s\tremaining: 2m 23s\n",
      "229:\tlearn: 0.1146262\ttotal: 7m 43s\tremaining: 2m 20s\n",
      "230:\tlearn: 0.1144582\ttotal: 7m 45s\tremaining: 2m 18s\n",
      "231:\tlearn: 0.1142582\ttotal: 7m 47s\tremaining: 2m 16s\n",
      "232:\tlearn: 0.1141983\ttotal: 7m 49s\tremaining: 2m 14s\n",
      "233:\tlearn: 0.1140389\ttotal: 7m 51s\tremaining: 2m 12s\n",
      "234:\tlearn: 0.1138844\ttotal: 7m 53s\tremaining: 2m 10s\n",
      "235:\tlearn: 0.1138090\ttotal: 7m 55s\tremaining: 2m 8s\n",
      "236:\tlearn: 0.1136783\ttotal: 7m 57s\tremaining: 2m 6s\n",
      "237:\tlearn: 0.1134892\ttotal: 7m 59s\tremaining: 2m 4s\n",
      "238:\tlearn: 0.1134259\ttotal: 8m 1s\tremaining: 2m 2s\n",
      "239:\tlearn: 0.1133650\ttotal: 8m 2s\tremaining: 2m\n",
      "240:\tlearn: 0.1131278\ttotal: 8m 4s\tremaining: 1m 58s\n",
      "241:\tlearn: 0.1130759\ttotal: 8m 6s\tremaining: 1m 56s\n",
      "242:\tlearn: 0.1130199\ttotal: 8m 8s\tremaining: 1m 54s\n",
      "243:\tlearn: 0.1129412\ttotal: 8m 10s\tremaining: 1m 52s\n",
      "244:\tlearn: 0.1128688\ttotal: 8m 12s\tremaining: 1m 50s\n",
      "245:\tlearn: 0.1127904\ttotal: 8m 14s\tremaining: 1m 48s\n",
      "246:\tlearn: 0.1126064\ttotal: 8m 16s\tremaining: 1m 46s\n",
      "247:\tlearn: 0.1125442\ttotal: 8m 18s\tremaining: 1m 44s\n",
      "248:\tlearn: 0.1124164\ttotal: 8m 20s\tremaining: 1m 42s\n",
      "249:\tlearn: 0.1123614\ttotal: 8m 21s\tremaining: 1m 40s\n",
      "250:\tlearn: 0.1122279\ttotal: 8m 23s\tremaining: 1m 38s\n",
      "251:\tlearn: 0.1121630\ttotal: 8m 25s\tremaining: 1m 36s\n",
      "252:\tlearn: 0.1120880\ttotal: 8m 27s\tremaining: 1m 34s\n",
      "253:\tlearn: 0.1119863\ttotal: 8m 29s\tremaining: 1m 32s\n",
      "254:\tlearn: 0.1118069\ttotal: 8m 31s\tremaining: 1m 30s\n",
      "255:\tlearn: 0.1117486\ttotal: 8m 33s\tremaining: 1m 28s\n",
      "256:\tlearn: 0.1115581\ttotal: 8m 35s\tremaining: 1m 26s\n",
      "257:\tlearn: 0.1114911\ttotal: 8m 37s\tremaining: 1m 24s\n",
      "258:\tlearn: 0.1114284\ttotal: 8m 38s\tremaining: 1m 22s\n",
      "259:\tlearn: 0.1113758\ttotal: 8m 40s\tremaining: 1m 20s\n",
      "260:\tlearn: 0.1113213\ttotal: 8m 42s\tremaining: 1m 18s\n",
      "261:\tlearn: 0.1111926\ttotal: 8m 44s\tremaining: 1m 16s\n",
      "262:\tlearn: 0.1110087\ttotal: 8m 46s\tremaining: 1m 14s\n",
      "263:\tlearn: 0.1108648\ttotal: 8m 48s\tremaining: 1m 12s\n",
      "264:\tlearn: 0.1106710\ttotal: 8m 50s\tremaining: 1m 10s\n",
      "265:\tlearn: 0.1105894\ttotal: 8m 52s\tremaining: 1m 8s\n",
      "266:\tlearn: 0.1104571\ttotal: 8m 54s\tremaining: 1m 6s\n",
      "267:\tlearn: 0.1104046\ttotal: 8m 56s\tremaining: 1m 4s\n",
      "268:\tlearn: 0.1102883\ttotal: 8m 58s\tremaining: 1m 2s\n",
      "269:\tlearn: 0.1102294\ttotal: 9m\tremaining: 1m\n",
      "270:\tlearn: 0.1101728\ttotal: 9m 1s\tremaining: 58s\n",
      "271:\tlearn: 0.1101176\ttotal: 9m 3s\tremaining: 56s\n",
      "272:\tlearn: 0.1099707\ttotal: 9m 5s\tremaining: 54s\n",
      "273:\tlearn: 0.1099204\ttotal: 9m 7s\tremaining: 52s\n",
      "274:\tlearn: 0.1097466\ttotal: 9m 9s\tremaining: 50s\n",
      "275:\tlearn: 0.1096738\ttotal: 9m 11s\tremaining: 48s\n",
      "276:\tlearn: 0.1094459\ttotal: 9m 13s\tremaining: 46s\n",
      "277:\tlearn: 0.1093344\ttotal: 9m 15s\tremaining: 44s\n",
      "278:\tlearn: 0.1092822\ttotal: 9m 17s\tremaining: 42s\n",
      "279:\tlearn: 0.1092289\ttotal: 9m 19s\tremaining: 39.9s\n",
      "280:\tlearn: 0.1091148\ttotal: 9m 21s\tremaining: 38s\n",
      "281:\tlearn: 0.1089453\ttotal: 9m 23s\tremaining: 36s\n",
      "282:\tlearn: 0.1088863\ttotal: 9m 25s\tremaining: 34s\n",
      "283:\tlearn: 0.1088286\ttotal: 9m 27s\tremaining: 31.9s\n",
      "284:\tlearn: 0.1087182\ttotal: 9m 29s\tremaining: 30s\n",
      "285:\tlearn: 0.1086701\ttotal: 9m 30s\tremaining: 27.9s\n",
      "286:\tlearn: 0.1085429\ttotal: 9m 32s\tremaining: 25.9s\n",
      "287:\tlearn: 0.1084247\ttotal: 9m 34s\tremaining: 23.9s\n",
      "288:\tlearn: 0.1083763\ttotal: 9m 36s\tremaining: 21.9s\n",
      "289:\tlearn: 0.1082330\ttotal: 9m 38s\tremaining: 20s\n",
      "290:\tlearn: 0.1080764\ttotal: 9m 40s\tremaining: 18s\n",
      "291:\tlearn: 0.1080236\ttotal: 9m 42s\tremaining: 16s\n",
      "292:\tlearn: 0.1079410\ttotal: 9m 44s\tremaining: 14s\n",
      "293:\tlearn: 0.1078906\ttotal: 9m 46s\tremaining: 12s\n",
      "294:\tlearn: 0.1078392\ttotal: 9m 48s\tremaining: 9.97s\n",
      "295:\tlearn: 0.1077919\ttotal: 9m 50s\tremaining: 7.97s\n",
      "296:\tlearn: 0.1077422\ttotal: 9m 52s\tremaining: 5.98s\n",
      "297:\tlearn: 0.1076243\ttotal: 9m 54s\tremaining: 3.99s\n",
      "298:\tlearn: 0.1075648\ttotal: 9m 55s\tremaining: 1.99s\n",
      "299:\tlearn: 0.1074535\ttotal: 9m 57s\tremaining: 0us\n",
      "Лучшее значение метрики F1: 0.7407596737191003\n",
      "Гиперпараметы: {'max_depth': 6, 'n_estimators': 300}\n",
      "CPU times: user 2h 28min 15s, sys: 1min 37s, total: 2h 29min 52s\n",
      "Wall time: 2h 30min 45s\n"
     ]
    }
   ],
   "source": [
    "%%time\n",
    "\n",
    "#Объявим модель со встроенным методом кодирования категориальных признаков\n",
    "model_cb = CatBoostClassifier(verbose=True, random_state=12345)\n",
    "\n",
    "# словарь с гиперпараметрами и значениями, которые хотим перебрать. С параметром max_depth 8 и более падает ядро.\n",
    "param_grid_cb = {'n_estimators': [100, 200, 300], 'max_depth': [4, 6]}\n",
    "\n",
    "gs_cb = GridSearchCV(\n",
    "    model_cb, \n",
    "    param_grid=param_grid_cb, \n",
    "    scoring='f1', \n",
    "    n_jobs=-1\n",
    ")\n",
    "\n",
    "gs_cb.fit(X_train, y_train)\n",
    "\n",
    "# лучшее значение F1 на кросс-валидации\n",
    "print(f'Лучшее значение метрики F1: {gs_cb.best_score_ }')\n",
    "\n",
    "# лучшие гиперпараметры\n",
    "print(f'Гиперпараметы: {gs_cb.best_params_}')"
   ]
  },
  {
   "cell_type": "markdown",
   "metadata": {},
   "source": [
    "Метрика F1 модели не удовляетворяет условиям задачи"
   ]
  },
  {
   "cell_type": "markdown",
   "metadata": {},
   "source": [
    "По условиям задачи необходимое качество метрики F1 > 0.75 показала модель **Логистическая регрессия**. Проверим модель на тестовй выборке: "
   ]
  },
  {
   "cell_type": "code",
   "execution_count": 38,
   "metadata": {
    "scrolled": false
   },
   "outputs": [
    {
     "name": "stdout",
     "output_type": "stream",
     "text": [
      "F1-мера модели на тестовой выборке: 0.7534763393338364\n"
     ]
    }
   ],
   "source": [
    "print('F1-мера модели на тестовой выборке:', f1_score(y_test, model_lr.predict(X_test)))"
   ]
  },
  {
   "cell_type": "markdown",
   "metadata": {},
   "source": [
    "Результат модели **Логистическая регрессия** на тестовой выборке удовляетворяет условиям задачи."
   ]
  },
  {
   "cell_type": "markdown",
   "metadata": {},
   "source": [
    "## Выводы"
   ]
  },
  {
   "cell_type": "markdown",
   "metadata": {},
   "source": [
    "По условиям задачи необходимо было разработать модель, которая будет определять, токсичен текст комментария или нет. Значение метрики F1 на тестовой выборке должно составлть не менее 0.75.<br><br>\n",
    "В ходе работы тексты комментариев были подготовлены: очищены с помощью регулярных выражений и лемматизированы. Для корпусов текстов были найдены значения TF-IDF, которые применялись для обучения моделей.<br><br>\n",
    "С помощью кросс-валидации были проверены следующие модели с разными гиперпараметрами:\n",
    "- LogisticRegression\n",
    "- RandomForestlassifier\n",
    "- CatBoostRegressor\n",
    "<br><br>\n",
    "\n",
    "Максимальное значение метрики F1 равное 0.755 показала модель **Логистическая регрессия** (LogisticRegression). На тестовой выборке модель также показала удовлетворительное значение метрики F1, равное 0.753."
   ]
  },
  {
   "cell_type": "code",
   "execution_count": null,
   "metadata": {},
   "outputs": [],
   "source": []
  }
 ],
 "metadata": {
  "ExecuteTimeLog": [
   {
    "duration": 428,
    "start_time": "2023-04-18T08:39:00.268Z"
   },
   {
    "duration": 61,
    "start_time": "2023-04-18T08:39:25.714Z"
   },
   {
    "duration": 46,
    "start_time": "2023-04-18T08:39:32.962Z"
   },
   {
    "duration": 12,
    "start_time": "2023-04-18T08:39:45.512Z"
   },
   {
    "duration": 3285,
    "start_time": "2023-04-18T08:39:57.805Z"
   },
   {
    "duration": 16,
    "start_time": "2023-04-18T08:40:08.153Z"
   },
   {
    "duration": 32,
    "start_time": "2023-04-18T08:40:39.474Z"
   },
   {
    "duration": 10,
    "start_time": "2023-04-18T08:40:51.508Z"
   },
   {
    "duration": 8,
    "start_time": "2023-04-18T08:41:09.384Z"
   },
   {
    "duration": 4,
    "start_time": "2023-04-18T08:41:15.031Z"
   },
   {
    "duration": 11,
    "start_time": "2023-04-18T08:41:32.085Z"
   },
   {
    "duration": 234,
    "start_time": "2023-04-18T09:21:50.430Z"
   },
   {
    "duration": 2342,
    "start_time": "2023-04-18T09:23:08.614Z"
   },
   {
    "duration": 4,
    "start_time": "2023-04-18T09:23:19.618Z"
   },
   {
    "duration": 18,
    "start_time": "2023-04-18T09:24:26.768Z"
   },
   {
    "duration": 2,
    "start_time": "2023-04-18T09:26:46.127Z"
   },
   {
    "duration": 4,
    "start_time": "2023-04-18T09:27:18.716Z"
   },
   {
    "duration": 4,
    "start_time": "2023-04-18T09:27:25.922Z"
   },
   {
    "duration": 4,
    "start_time": "2023-04-18T09:27:47.921Z"
   },
   {
    "duration": 1668656,
    "start_time": "2023-04-18T09:28:29.720Z"
   },
   {
    "duration": 3,
    "start_time": "2023-04-18T09:58:23.849Z"
   },
   {
    "duration": 3,
    "start_time": "2023-04-18T09:58:59.808Z"
   },
   {
    "duration": 4,
    "start_time": "2023-04-18T09:59:09.330Z"
   },
   {
    "duration": 5,
    "start_time": "2023-04-18T09:59:32.038Z"
   },
   {
    "duration": 818,
    "start_time": "2023-04-18T10:00:20.157Z"
   },
   {
    "duration": 4,
    "start_time": "2023-04-18T10:00:38.644Z"
   },
   {
    "duration": 905,
    "start_time": "2023-04-18T10:00:40.640Z"
   },
   {
    "duration": 3,
    "start_time": "2023-04-18T10:02:00.931Z"
   },
   {
    "duration": 5,
    "start_time": "2023-04-18T10:02:03.848Z"
   },
   {
    "duration": 796,
    "start_time": "2023-04-18T10:02:08.346Z"
   },
   {
    "duration": 3,
    "start_time": "2023-04-18T10:02:21.675Z"
   },
   {
    "duration": 4,
    "start_time": "2023-04-18T10:02:23.827Z"
   },
   {
    "duration": 4,
    "start_time": "2023-04-18T10:02:24.361Z"
   },
   {
    "duration": 773,
    "start_time": "2023-04-18T10:02:25.318Z"
   },
   {
    "duration": 4,
    "start_time": "2023-04-18T10:02:38.530Z"
   },
   {
    "duration": 5,
    "start_time": "2023-04-18T10:02:41.465Z"
   },
   {
    "duration": 808,
    "start_time": "2023-04-18T10:02:47.055Z"
   },
   {
    "duration": 4,
    "start_time": "2023-04-18T10:03:20.529Z"
   },
   {
    "duration": 781,
    "start_time": "2023-04-18T10:03:22.379Z"
   },
   {
    "duration": 4,
    "start_time": "2023-04-18T10:03:39.467Z"
   },
   {
    "duration": 3,
    "start_time": "2023-04-18T10:03:41.159Z"
   },
   {
    "duration": 775,
    "start_time": "2023-04-18T10:03:46.875Z"
   },
   {
    "duration": 4973,
    "start_time": "2023-04-18T10:04:59.378Z"
   },
   {
    "duration": 4,
    "start_time": "2023-04-18T10:05:24.810Z"
   },
   {
    "duration": 3191,
    "start_time": "2023-04-18T10:05:31.414Z"
   },
   {
    "duration": 1112166,
    "start_time": "2023-04-18T10:05:51.126Z"
   },
   {
    "duration": 873,
    "start_time": "2023-04-18T10:25:16.866Z"
   },
   {
    "duration": 46,
    "start_time": "2023-04-18T10:30:55.927Z"
   },
   {
    "duration": 3,
    "start_time": "2023-04-18T10:31:48.180Z"
   },
   {
    "duration": 4,
    "start_time": "2023-04-18T10:32:19.252Z"
   },
   {
    "duration": 3,
    "start_time": "2023-04-18T10:32:22.575Z"
   },
   {
    "duration": 785,
    "start_time": "2023-04-18T10:32:30.914Z"
   },
   {
    "duration": 4,
    "start_time": "2023-04-18T10:36:20.615Z"
   },
   {
    "duration": 4,
    "start_time": "2023-04-18T10:36:27.838Z"
   },
   {
    "duration": 856,
    "start_time": "2023-04-18T10:36:29.035Z"
   },
   {
    "duration": 4,
    "start_time": "2023-04-18T10:36:45.262Z"
   },
   {
    "duration": 3,
    "start_time": "2023-04-18T10:36:49.065Z"
   },
   {
    "duration": 854,
    "start_time": "2023-04-18T10:36:50.938Z"
   },
   {
    "duration": 871,
    "start_time": "2023-04-18T10:37:13.815Z"
   },
   {
    "duration": 1277,
    "start_time": "2023-04-18T10:38:16.360Z"
   },
   {
    "duration": 3,
    "start_time": "2023-04-18T10:39:01.916Z"
   },
   {
    "duration": 1267,
    "start_time": "2023-04-18T10:39:35.822Z"
   },
   {
    "duration": 4,
    "start_time": "2023-04-18T10:39:45.626Z"
   },
   {
    "duration": 6,
    "start_time": "2023-04-18T10:39:58.642Z"
   },
   {
    "duration": 4,
    "start_time": "2023-04-18T10:40:11.850Z"
   },
   {
    "duration": 4,
    "start_time": "2023-04-18T10:40:27.345Z"
   },
   {
    "duration": 5,
    "start_time": "2023-04-18T10:40:29.747Z"
   },
   {
    "duration": 5,
    "start_time": "2023-04-18T10:40:46.662Z"
   },
   {
    "duration": 5,
    "start_time": "2023-04-18T10:40:49.341Z"
   },
   {
    "duration": 5,
    "start_time": "2023-04-18T10:41:16.726Z"
   },
   {
    "duration": 5,
    "start_time": "2023-04-18T10:41:19.222Z"
   },
   {
    "duration": 5,
    "start_time": "2023-04-18T10:41:28.617Z"
   },
   {
    "duration": 5,
    "start_time": "2023-04-18T10:42:05.125Z"
   },
   {
    "duration": 5,
    "start_time": "2023-04-18T10:42:18.473Z"
   },
   {
    "duration": 5,
    "start_time": "2023-04-18T10:42:25.144Z"
   },
   {
    "duration": 1758,
    "start_time": "2023-04-18T10:43:05.628Z"
   },
   {
    "duration": 3295,
    "start_time": "2023-04-18T10:43:09.438Z"
   },
   {
    "duration": 20,
    "start_time": "2023-04-18T10:43:12.735Z"
   },
   {
    "duration": 333,
    "start_time": "2023-04-18T10:47:52.817Z"
   },
   {
    "duration": 2015,
    "start_time": "2023-04-18T10:47:53.975Z"
   },
   {
    "duration": 8,
    "start_time": "2023-04-18T10:47:55.993Z"
   },
   {
    "duration": 7,
    "start_time": "2023-04-18T10:48:03.826Z"
   },
   {
    "duration": 185,
    "start_time": "2023-04-18T10:48:11.482Z"
   },
   {
    "duration": 14,
    "start_time": "2023-04-18T10:48:42.962Z"
   },
   {
    "duration": 1118,
    "start_time": "2023-04-18T10:48:49.677Z"
   },
   {
    "duration": 7,
    "start_time": "2023-04-18T10:50:44.728Z"
   },
   {
    "duration": 16,
    "start_time": "2023-04-18T10:50:54.569Z"
   },
   {
    "duration": 4,
    "start_time": "2023-04-18T10:51:06.823Z"
   },
   {
    "duration": 6,
    "start_time": "2023-04-18T10:51:09.521Z"
   },
   {
    "duration": 5,
    "start_time": "2023-04-18T10:51:11.965Z"
   },
   {
    "duration": 976,
    "start_time": "2023-04-18T10:51:15.524Z"
   },
   {
    "duration": 5,
    "start_time": "2023-04-18T10:51:33.665Z"
   },
   {
    "duration": 5,
    "start_time": "2023-04-18T10:51:37.624Z"
   },
   {
    "duration": 1208,
    "start_time": "2023-04-18T10:51:43.414Z"
   },
   {
    "duration": 17,
    "start_time": "2023-04-18T10:52:18.019Z"
   },
   {
    "duration": 3,
    "start_time": "2023-04-18T10:52:23.324Z"
   },
   {
    "duration": 1759,
    "start_time": "2023-04-18T10:52:25.408Z"
   },
   {
    "duration": 5,
    "start_time": "2023-04-18T10:52:44.419Z"
   },
   {
    "duration": 4,
    "start_time": "2023-04-18T10:55:18.943Z"
   },
   {
    "duration": 5,
    "start_time": "2023-04-18T10:55:23.414Z"
   },
   {
    "duration": 4,
    "start_time": "2023-04-18T10:55:26.649Z"
   },
   {
    "duration": 2,
    "start_time": "2023-04-18T10:56:49.519Z"
   },
   {
    "duration": 3,
    "start_time": "2023-04-18T10:58:25.709Z"
   },
   {
    "duration": 417,
    "start_time": "2023-04-18T10:58:35.268Z"
   },
   {
    "duration": 2104,
    "start_time": "2023-04-18T10:58:36.717Z"
   },
   {
    "duration": 17,
    "start_time": "2023-04-18T10:58:39.709Z"
   },
   {
    "duration": 321,
    "start_time": "2023-04-18T10:58:41.976Z"
   },
   {
    "duration": 1938,
    "start_time": "2023-04-18T10:58:45.122Z"
   },
   {
    "duration": 4,
    "start_time": "2023-04-18T10:58:48.917Z"
   },
   {
    "duration": 4,
    "start_time": "2023-04-18T10:58:51.480Z"
   },
   {
    "duration": 3,
    "start_time": "2023-04-18T10:58:53.730Z"
   },
   {
    "duration": 8022,
    "start_time": "2023-04-18T11:00:51.821Z"
   },
   {
    "duration": 9,
    "start_time": "2023-04-18T11:01:11.951Z"
   },
   {
    "duration": 5,
    "start_time": "2023-04-18T11:01:24.542Z"
   },
   {
    "duration": 3,
    "start_time": "2023-04-18T11:01:36.419Z"
   },
   {
    "duration": 4,
    "start_time": "2023-04-18T11:01:42.717Z"
   },
   {
    "duration": 65,
    "start_time": "2023-04-18T11:01:51.450Z"
   },
   {
    "duration": 3,
    "start_time": "2023-04-18T11:02:04.908Z"
   },
   {
    "duration": 4,
    "start_time": "2023-04-18T11:02:07.958Z"
   },
   {
    "duration": 4,
    "start_time": "2023-04-18T11:02:13.832Z"
   },
   {
    "duration": 4,
    "start_time": "2023-04-18T11:02:18.742Z"
   },
   {
    "duration": 125106,
    "start_time": "2023-04-18T11:02:53.014Z"
   },
   {
    "duration": 4,
    "start_time": "2023-04-18T11:06:38.314Z"
   },
   {
    "duration": 1321585,
    "start_time": "2023-04-18T11:07:12.302Z"
   },
   {
    "duration": 4,
    "start_time": "2023-04-18T11:30:14.931Z"
   },
   {
    "duration": 1265,
    "start_time": "2023-04-18T11:31:53.630Z"
   },
   {
    "duration": 6,
    "start_time": "2023-04-18T11:32:20.173Z"
   },
   {
    "duration": 3,
    "start_time": "2023-04-18T11:32:47.225Z"
   },
   {
    "duration": 1424,
    "start_time": "2023-04-18T11:33:10.385Z"
   },
   {
    "duration": 5,
    "start_time": "2023-04-18T11:33:27.475Z"
   },
   {
    "duration": 4,
    "start_time": "2023-04-18T11:33:46.326Z"
   },
   {
    "duration": 6,
    "start_time": "2023-04-18T11:34:20.317Z"
   },
   {
    "duration": 13,
    "start_time": "2023-04-18T11:35:30.055Z"
   },
   {
    "duration": 3,
    "start_time": "2023-04-18T11:36:22.347Z"
   },
   {
    "duration": 5,
    "start_time": "2023-04-18T11:36:31.452Z"
   },
   {
    "duration": 3,
    "start_time": "2023-04-18T11:36:35.463Z"
   },
   {
    "duration": 4,
    "start_time": "2023-04-18T11:36:39.569Z"
   },
   {
    "duration": 4,
    "start_time": "2023-04-18T11:38:11.624Z"
   },
   {
    "duration": 4,
    "start_time": "2023-04-18T11:38:32.727Z"
   },
   {
    "duration": 4,
    "start_time": "2023-04-18T11:39:12.824Z"
   },
   {
    "duration": 4,
    "start_time": "2023-04-18T11:39:38.281Z"
   },
   {
    "duration": 4,
    "start_time": "2023-04-18T11:39:51.368Z"
   },
   {
    "duration": 5,
    "start_time": "2023-04-18T11:39:58.677Z"
   },
   {
    "duration": 4,
    "start_time": "2023-04-18T11:40:13.468Z"
   },
   {
    "duration": 4,
    "start_time": "2023-04-18T11:40:19.043Z"
   },
   {
    "duration": 4,
    "start_time": "2023-04-18T11:40:33.842Z"
   },
   {
    "duration": 3,
    "start_time": "2023-04-18T11:40:46.943Z"
   },
   {
    "duration": 4,
    "start_time": "2023-04-18T11:40:57.775Z"
   },
   {
    "duration": 3,
    "start_time": "2023-04-18T11:41:04.639Z"
   },
   {
    "duration": 3,
    "start_time": "2023-04-18T11:41:14.775Z"
   },
   {
    "duration": 6,
    "start_time": "2023-04-18T11:41:25.561Z"
   },
   {
    "duration": 4,
    "start_time": "2023-04-18T11:41:32.078Z"
   },
   {
    "duration": 76,
    "start_time": "2023-04-18T11:42:55.627Z"
   },
   {
    "duration": 4,
    "start_time": "2023-04-18T11:43:01.228Z"
   },
   {
    "duration": 3,
    "start_time": "2023-04-18T11:43:19.881Z"
   },
   {
    "duration": 3,
    "start_time": "2023-04-18T11:43:44.529Z"
   },
   {
    "duration": 3,
    "start_time": "2023-04-18T11:43:58.336Z"
   },
   {
    "duration": 4,
    "start_time": "2023-04-18T11:44:00.045Z"
   },
   {
    "duration": 7,
    "start_time": "2023-04-18T11:44:06.253Z"
   },
   {
    "duration": 45,
    "start_time": "2023-04-18T11:44:27.721Z"
   },
   {
    "duration": 367,
    "start_time": "2023-04-18T11:44:34.829Z"
   },
   {
    "duration": 21093,
    "start_time": "2023-04-18T11:45:06.130Z"
   },
   {
    "duration": 36838,
    "start_time": "2023-04-18T11:45:42.336Z"
   },
   {
    "duration": 4,
    "start_time": "2023-04-18T11:47:02.517Z"
   },
   {
    "duration": 8,
    "start_time": "2023-04-18T11:47:07.062Z"
   },
   {
    "duration": 4,
    "start_time": "2023-04-18T11:47:12.118Z"
   },
   {
    "duration": 4,
    "start_time": "2023-04-18T11:47:24.733Z"
   },
   {
    "duration": 6,
    "start_time": "2023-04-18T11:47:54.837Z"
   },
   {
    "duration": 30,
    "start_time": "2023-04-18T11:48:38.491Z"
   },
   {
    "duration": 24,
    "start_time": "2023-04-18T11:48:44.252Z"
   },
   {
    "duration": 15,
    "start_time": "2023-04-18T11:52:44.872Z"
   },
   {
    "duration": 5,
    "start_time": "2023-04-18T11:52:58.436Z"
   },
   {
    "duration": 5,
    "start_time": "2023-04-18T11:53:29.430Z"
   },
   {
    "duration": 4,
    "start_time": "2023-04-18T11:54:28.087Z"
   },
   {
    "duration": 8,
    "start_time": "2023-04-18T11:54:44.503Z"
   },
   {
    "duration": 5,
    "start_time": "2023-04-18T11:54:53.991Z"
   },
   {
    "duration": 4,
    "start_time": "2023-04-18T11:55:05.636Z"
   },
   {
    "duration": 7,
    "start_time": "2023-04-18T11:55:07.426Z"
   },
   {
    "duration": 20,
    "start_time": "2023-04-18T11:55:40.948Z"
   },
   {
    "duration": 5,
    "start_time": "2023-04-18T11:56:01.630Z"
   },
   {
    "duration": 3,
    "start_time": "2023-04-18T11:56:06.181Z"
   },
   {
    "duration": 6,
    "start_time": "2023-04-18T11:58:05.703Z"
   },
   {
    "duration": 4,
    "start_time": "2023-04-18T11:58:43.465Z"
   },
   {
    "duration": 3,
    "start_time": "2023-04-18T12:00:07.485Z"
   },
   {
    "duration": 1967,
    "start_time": "2023-04-18T12:01:35.937Z"
   },
   {
    "duration": 4131,
    "start_time": "2023-04-18T12:01:40.163Z"
   },
   {
    "duration": 38,
    "start_time": "2023-04-18T12:01:45.141Z"
   },
   {
    "duration": 248,
    "start_time": "2023-04-18T12:01:47.321Z"
   },
   {
    "duration": 1900,
    "start_time": "2023-04-18T12:01:49.442Z"
   },
   {
    "duration": 3,
    "start_time": "2023-04-18T12:01:51.974Z"
   },
   {
    "duration": 1246,
    "start_time": "2023-04-18T12:01:53.542Z"
   },
   {
    "duration": 3,
    "start_time": "2023-04-18T12:01:56.931Z"
   },
   {
    "duration": 39360,
    "start_time": "2023-04-18T12:01:58.076Z"
   },
   {
    "duration": 32,
    "start_time": "2023-04-18T12:02:53.630Z"
   },
   {
    "duration": 24,
    "start_time": "2023-04-18T12:02:55.435Z"
   },
   {
    "duration": 4,
    "start_time": "2023-04-18T12:02:58.435Z"
   },
   {
    "duration": 203,
    "start_time": "2023-04-18T12:02:59.950Z"
   },
   {
    "duration": 8215,
    "start_time": "2023-04-18T12:03:01.538Z"
   },
   {
    "duration": 4,
    "start_time": "2023-04-18T12:03:18.938Z"
   },
   {
    "duration": 86,
    "start_time": "2023-04-18T12:03:28.381Z"
   },
   {
    "duration": 5,
    "start_time": "2023-04-18T12:03:56.933Z"
   },
   {
    "duration": 1620,
    "start_time": "2023-04-18T12:04:36.691Z"
   },
   {
    "duration": 3732,
    "start_time": "2023-04-18T12:04:39.390Z"
   },
   {
    "duration": 25,
    "start_time": "2023-04-18T12:04:43.754Z"
   },
   {
    "duration": 267,
    "start_time": "2023-04-18T12:04:45.850Z"
   },
   {
    "duration": 1926,
    "start_time": "2023-04-18T12:04:47.278Z"
   },
   {
    "duration": 4,
    "start_time": "2023-04-18T12:04:49.775Z"
   },
   {
    "duration": 1261,
    "start_time": "2023-04-18T12:04:50.833Z"
   },
   {
    "duration": 3,
    "start_time": "2023-04-18T12:04:53.231Z"
   },
   {
    "duration": 38541,
    "start_time": "2023-04-18T12:04:54.065Z"
   },
   {
    "duration": 32,
    "start_time": "2023-04-18T12:05:34.744Z"
   },
   {
    "duration": 19,
    "start_time": "2023-04-18T12:05:35.579Z"
   },
   {
    "duration": 3,
    "start_time": "2023-04-18T12:05:38.234Z"
   },
   {
    "duration": 166,
    "start_time": "2023-04-18T12:05:39.876Z"
   },
   {
    "duration": 8270,
    "start_time": "2023-04-18T12:05:40.674Z"
   },
   {
    "duration": 5,
    "start_time": "2023-04-18T12:05:49.836Z"
   },
   {
    "duration": 1764,
    "start_time": "2023-04-18T12:06:09.080Z"
   },
   {
    "duration": 3742,
    "start_time": "2023-04-18T12:06:10.846Z"
   },
   {
    "duration": 21,
    "start_time": "2023-04-18T12:06:14.590Z"
   },
   {
    "duration": 235,
    "start_time": "2023-04-18T12:06:14.613Z"
   },
   {
    "duration": 1889,
    "start_time": "2023-04-18T12:06:14.850Z"
   },
   {
    "duration": 12,
    "start_time": "2023-04-18T12:06:16.740Z"
   },
   {
    "duration": 1277,
    "start_time": "2023-04-18T12:06:16.756Z"
   },
   {
    "duration": 4,
    "start_time": "2023-04-18T12:06:18.034Z"
   },
   {
    "duration": 37705,
    "start_time": "2023-04-18T12:06:18.039Z"
   },
   {
    "duration": 37,
    "start_time": "2023-04-18T12:06:55.747Z"
   },
   {
    "duration": 17,
    "start_time": "2023-04-18T12:06:55.786Z"
   },
   {
    "duration": 7,
    "start_time": "2023-04-18T12:06:55.804Z"
   },
   {
    "duration": 184,
    "start_time": "2023-04-18T12:06:55.813Z"
   },
   {
    "duration": 8268,
    "start_time": "2023-04-18T12:06:55.999Z"
   },
   {
    "duration": 8,
    "start_time": "2023-04-18T12:07:04.271Z"
   },
   {
    "duration": 16,
    "start_time": "2023-04-18T12:07:04.281Z"
   },
   {
    "duration": 10,
    "start_time": "2023-04-18T12:07:04.299Z"
   },
   {
    "duration": 5,
    "start_time": "2023-04-18T12:07:04.311Z"
   },
   {
    "duration": 5,
    "start_time": "2023-04-18T12:07:19.026Z"
   },
   {
    "duration": 218,
    "start_time": "2023-04-18T12:07:46.055Z"
   },
   {
    "duration": 4,
    "start_time": "2023-04-18T12:08:38.194Z"
   },
   {
    "duration": 8,
    "start_time": "2023-04-18T12:08:45.618Z"
   },
   {
    "duration": 132,
    "start_time": "2023-04-18T12:09:11.875Z"
   },
   {
    "duration": 4,
    "start_time": "2023-04-18T12:09:34.629Z"
   },
   {
    "duration": 12,
    "start_time": "2023-04-18T12:09:35.726Z"
   },
   {
    "duration": 3,
    "start_time": "2023-04-18T12:10:57.922Z"
   },
   {
    "duration": 7316,
    "start_time": "2023-04-18T12:11:11.749Z"
   },
   {
    "duration": 1529,
    "start_time": "2023-04-18T12:28:34.268Z"
   },
   {
    "duration": 854,
    "start_time": "2023-04-18T12:28:35.799Z"
   },
   {
    "duration": 18,
    "start_time": "2023-04-18T12:28:36.655Z"
   },
   {
    "duration": 244,
    "start_time": "2023-04-18T12:28:36.675Z"
   },
   {
    "duration": 1819,
    "start_time": "2023-04-18T12:28:36.921Z"
   },
   {
    "duration": 18,
    "start_time": "2023-04-18T12:28:38.742Z"
   },
   {
    "duration": 1149,
    "start_time": "2023-04-18T12:28:38.762Z"
   },
   {
    "duration": 3,
    "start_time": "2023-04-18T12:28:39.913Z"
   },
   {
    "duration": 32923,
    "start_time": "2023-04-18T12:28:39.918Z"
   },
   {
    "duration": 28,
    "start_time": "2023-04-18T12:29:12.843Z"
   },
   {
    "duration": 15,
    "start_time": "2023-04-18T12:29:12.872Z"
   },
   {
    "duration": 6,
    "start_time": "2023-04-18T12:29:12.889Z"
   },
   {
    "duration": 6,
    "start_time": "2023-04-18T12:29:12.896Z"
   },
   {
    "duration": 8,
    "start_time": "2023-04-18T12:29:12.903Z"
   },
   {
    "duration": 5,
    "start_time": "2023-04-18T12:29:12.913Z"
   },
   {
    "duration": 4,
    "start_time": "2023-04-18T12:29:12.919Z"
   },
   {
    "duration": 2,
    "start_time": "2023-04-18T12:29:12.925Z"
   },
   {
    "duration": 7,
    "start_time": "2023-04-18T12:29:12.929Z"
   },
   {
    "duration": 2,
    "start_time": "2023-04-18T12:29:12.956Z"
   },
   {
    "duration": 7,
    "start_time": "2023-04-18T12:30:56.225Z"
   },
   {
    "duration": 7,
    "start_time": "2023-04-18T12:31:08.930Z"
   },
   {
    "duration": 4,
    "start_time": "2023-04-18T12:35:00.727Z"
   },
   {
    "duration": 1500,
    "start_time": "2023-04-18T12:39:53.685Z"
   },
   {
    "duration": 826,
    "start_time": "2023-04-18T12:39:57.737Z"
   },
   {
    "duration": 23,
    "start_time": "2023-04-18T12:39:59.427Z"
   },
   {
    "duration": 248,
    "start_time": "2023-04-18T12:40:01.330Z"
   },
   {
    "duration": 1865,
    "start_time": "2023-04-18T12:40:02.252Z"
   },
   {
    "duration": 3,
    "start_time": "2023-04-18T12:40:05.779Z"
   },
   {
    "duration": 3,
    "start_time": "2023-04-18T12:40:06.884Z"
   },
   {
    "duration": 35525,
    "start_time": "2023-04-18T12:40:07.659Z"
   },
   {
    "duration": 22,
    "start_time": "2023-04-18T12:40:55.645Z"
   },
   {
    "duration": 13,
    "start_time": "2023-04-18T12:40:58.281Z"
   },
   {
    "duration": 3,
    "start_time": "2023-04-18T12:41:07.727Z"
   },
   {
    "duration": 35,
    "start_time": "2023-04-18T12:42:08.835Z"
   },
   {
    "duration": 6,
    "start_time": "2023-04-18T12:42:22.362Z"
   },
   {
    "duration": 4,
    "start_time": "2023-04-18T12:43:21.363Z"
   },
   {
    "duration": 3,
    "start_time": "2023-04-18T12:43:39.831Z"
   },
   {
    "duration": 4,
    "start_time": "2023-04-18T12:44:01.836Z"
   },
   {
    "duration": 4,
    "start_time": "2023-04-18T12:44:29.033Z"
   },
   {
    "duration": 3,
    "start_time": "2023-04-18T12:44:44.123Z"
   },
   {
    "duration": 5317,
    "start_time": "2023-04-18T12:45:06.324Z"
   },
   {
    "duration": 38,
    "start_time": "2023-04-18T12:45:31.452Z"
   },
   {
    "duration": 3,
    "start_time": "2023-04-18T12:49:04.567Z"
   },
   {
    "duration": 1596,
    "start_time": "2023-04-18T12:51:09.923Z"
   },
   {
    "duration": 3186,
    "start_time": "2023-04-18T12:51:11.521Z"
   },
   {
    "duration": 18,
    "start_time": "2023-04-18T12:51:14.708Z"
   },
   {
    "duration": 245,
    "start_time": "2023-04-18T12:51:14.728Z"
   },
   {
    "duration": 1804,
    "start_time": "2023-04-18T12:51:14.975Z"
   },
   {
    "duration": 13,
    "start_time": "2023-04-18T12:51:16.781Z"
   },
   {
    "duration": 11,
    "start_time": "2023-04-18T12:51:16.795Z"
   },
   {
    "duration": 33955,
    "start_time": "2023-04-18T12:51:16.808Z"
   },
   {
    "duration": 23,
    "start_time": "2023-04-18T12:51:50.765Z"
   },
   {
    "duration": 24,
    "start_time": "2023-04-18T12:51:50.789Z"
   },
   {
    "duration": 5,
    "start_time": "2023-04-18T12:51:50.815Z"
   },
   {
    "duration": 47,
    "start_time": "2023-04-18T12:51:50.821Z"
   },
   {
    "duration": 1514,
    "start_time": "2023-04-18T12:52:32.969Z"
   },
   {
    "duration": 3216,
    "start_time": "2023-04-18T12:52:34.485Z"
   },
   {
    "duration": 17,
    "start_time": "2023-04-18T12:52:37.703Z"
   },
   {
    "duration": 243,
    "start_time": "2023-04-18T12:52:37.722Z"
   },
   {
    "duration": 1814,
    "start_time": "2023-04-18T12:52:37.968Z"
   },
   {
    "duration": 14,
    "start_time": "2023-04-18T12:52:39.784Z"
   },
   {
    "duration": 7,
    "start_time": "2023-04-18T12:52:39.799Z"
   },
   {
    "duration": 35540,
    "start_time": "2023-04-18T12:52:39.808Z"
   },
   {
    "duration": 28,
    "start_time": "2023-04-18T12:53:15.350Z"
   },
   {
    "duration": 13,
    "start_time": "2023-04-18T12:53:15.381Z"
   },
   {
    "duration": 4,
    "start_time": "2023-04-18T12:53:15.396Z"
   },
   {
    "duration": 59,
    "start_time": "2023-04-18T12:53:15.401Z"
   },
   {
    "duration": 1632,
    "start_time": "2023-04-18T12:54:21.321Z"
   },
   {
    "duration": 3221,
    "start_time": "2023-04-18T12:54:22.955Z"
   },
   {
    "duration": 16,
    "start_time": "2023-04-18T12:54:26.178Z"
   },
   {
    "duration": 232,
    "start_time": "2023-04-18T12:54:26.196Z"
   },
   {
    "duration": 1812,
    "start_time": "2023-04-18T12:54:26.430Z"
   },
   {
    "duration": 24,
    "start_time": "2023-04-18T12:54:28.244Z"
   },
   {
    "duration": 16,
    "start_time": "2023-04-18T12:54:28.270Z"
   },
   {
    "duration": 33992,
    "start_time": "2023-04-18T12:54:28.288Z"
   },
   {
    "duration": 23,
    "start_time": "2023-04-18T12:55:02.282Z"
   },
   {
    "duration": 57,
    "start_time": "2023-04-18T12:55:02.306Z"
   },
   {
    "duration": 32,
    "start_time": "2023-04-18T12:55:02.365Z"
   },
   {
    "duration": 44,
    "start_time": "2023-04-18T12:55:02.398Z"
   },
   {
    "duration": 3,
    "start_time": "2023-04-18T12:55:02.444Z"
   },
   {
    "duration": 30,
    "start_time": "2023-04-18T12:55:02.449Z"
   },
   {
    "duration": 53,
    "start_time": "2023-04-18T12:55:02.481Z"
   },
   {
    "duration": 5075,
    "start_time": "2023-04-18T12:55:02.536Z"
   },
   {
    "duration": 3,
    "start_time": "2023-04-18T12:55:07.613Z"
   },
   {
    "duration": 14,
    "start_time": "2023-04-18T12:55:07.618Z"
   },
   {
    "duration": 135,
    "start_time": "2023-04-18T12:55:07.634Z"
   },
   {
    "duration": 1636,
    "start_time": "2023-04-18T12:55:36.523Z"
   },
   {
    "duration": 2,
    "start_time": "2023-04-18T12:55:51.922Z"
   },
   {
    "duration": 79,
    "start_time": "2023-04-18T12:57:59.531Z"
   },
   {
    "duration": 5,
    "start_time": "2023-04-18T12:58:07.973Z"
   },
   {
    "duration": 3,
    "start_time": "2023-04-18T12:58:18.915Z"
   },
   {
    "duration": 37707,
    "start_time": "2023-04-18T13:03:53.861Z"
   },
   {
    "duration": 80,
    "start_time": "2023-04-18T13:04:49.451Z"
   },
   {
    "duration": 5,
    "start_time": "2023-04-18T13:05:26.920Z"
   },
   {
    "duration": 59,
    "start_time": "2023-04-18T13:07:13.417Z"
   },
   {
    "duration": 5,
    "start_time": "2023-04-18T13:07:19.744Z"
   },
   {
    "duration": 1523,
    "start_time": "2023-04-18T13:07:32.274Z"
   },
   {
    "duration": 3252,
    "start_time": "2023-04-18T13:07:33.799Z"
   },
   {
    "duration": 17,
    "start_time": "2023-04-18T13:07:37.053Z"
   },
   {
    "duration": 256,
    "start_time": "2023-04-18T13:07:37.072Z"
   },
   {
    "duration": 1883,
    "start_time": "2023-04-18T13:07:37.330Z"
   },
   {
    "duration": 5,
    "start_time": "2023-04-18T13:07:39.215Z"
   },
   {
    "duration": 4,
    "start_time": "2023-04-18T13:07:39.222Z"
   },
   {
    "duration": 34535,
    "start_time": "2023-04-18T13:07:39.228Z"
   },
   {
    "duration": 27,
    "start_time": "2023-04-18T13:08:13.764Z"
   },
   {
    "duration": 18,
    "start_time": "2023-04-18T13:08:13.794Z"
   },
   {
    "duration": 7,
    "start_time": "2023-04-18T13:08:13.814Z"
   },
   {
    "duration": 58,
    "start_time": "2023-04-18T13:08:13.823Z"
   },
   {
    "duration": 3,
    "start_time": "2023-04-18T13:08:13.883Z"
   },
   {
    "duration": 9,
    "start_time": "2023-04-18T13:08:13.888Z"
   },
   {
    "duration": 4,
    "start_time": "2023-04-18T13:08:13.898Z"
   },
   {
    "duration": 5094,
    "start_time": "2023-04-18T13:08:13.904Z"
   },
   {
    "duration": 3,
    "start_time": "2023-04-18T13:08:19.000Z"
   },
   {
    "duration": 13,
    "start_time": "2023-04-18T13:08:19.005Z"
   },
   {
    "duration": 1577,
    "start_time": "2023-04-18T13:08:19.020Z"
   },
   {
    "duration": 3,
    "start_time": "2023-04-18T13:08:20.599Z"
   },
   {
    "duration": 17,
    "start_time": "2023-04-18T13:08:20.604Z"
   },
   {
    "duration": 35733,
    "start_time": "2023-04-18T13:08:20.623Z"
   },
   {
    "duration": 1639,
    "start_time": "2023-04-18T13:10:09.613Z"
   },
   {
    "duration": 3262,
    "start_time": "2023-04-18T13:10:11.254Z"
   },
   {
    "duration": 22,
    "start_time": "2023-04-18T13:10:14.518Z"
   },
   {
    "duration": 249,
    "start_time": "2023-04-18T13:10:14.543Z"
   },
   {
    "duration": 1972,
    "start_time": "2023-04-18T13:10:14.793Z"
   },
   {
    "duration": 22,
    "start_time": "2023-04-18T13:10:16.767Z"
   },
   {
    "duration": 27,
    "start_time": "2023-04-18T13:10:16.791Z"
   },
   {
    "duration": 34573,
    "start_time": "2023-04-18T13:10:16.820Z"
   },
   {
    "duration": 27,
    "start_time": "2023-04-18T13:10:51.395Z"
   },
   {
    "duration": 30,
    "start_time": "2023-04-18T13:10:51.424Z"
   },
   {
    "duration": 12,
    "start_time": "2023-04-18T13:10:51.456Z"
   },
   {
    "duration": 48,
    "start_time": "2023-04-18T13:10:51.470Z"
   },
   {
    "duration": 4,
    "start_time": "2023-04-18T13:10:51.520Z"
   },
   {
    "duration": 10,
    "start_time": "2023-04-18T13:10:51.525Z"
   },
   {
    "duration": 42,
    "start_time": "2023-04-18T13:10:51.536Z"
   },
   {
    "duration": 5182,
    "start_time": "2023-04-18T13:10:51.580Z"
   },
   {
    "duration": 3,
    "start_time": "2023-04-18T13:10:56.763Z"
   },
   {
    "duration": 4,
    "start_time": "2023-04-18T13:10:56.768Z"
   },
   {
    "duration": 1596,
    "start_time": "2023-04-18T13:10:56.774Z"
   },
   {
    "duration": 3,
    "start_time": "2023-04-18T13:10:58.371Z"
   },
   {
    "duration": 11,
    "start_time": "2023-04-18T13:10:58.376Z"
   },
   {
    "duration": 38177,
    "start_time": "2023-04-18T13:10:58.388Z"
   },
   {
    "duration": 98,
    "start_time": "2023-04-18T13:11:36.567Z"
   },
   {
    "duration": 7,
    "start_time": "2023-04-18T13:11:54.758Z"
   },
   {
    "duration": 5,
    "start_time": "2023-04-18T13:12:39.507Z"
   },
   {
    "duration": 117,
    "start_time": "2023-04-18T13:12:48.704Z"
   },
   {
    "duration": 8,
    "start_time": "2023-04-18T13:13:00.294Z"
   },
   {
    "duration": 4,
    "start_time": "2023-04-18T13:14:33.025Z"
   },
   {
    "duration": 43962,
    "start_time": "2023-04-18T13:14:35.394Z"
   },
   {
    "duration": 7,
    "start_time": "2023-04-18T13:15:27.467Z"
   },
   {
    "duration": 8,
    "start_time": "2023-04-18T13:15:28.362Z"
   },
   {
    "duration": 1582,
    "start_time": "2023-04-18T13:21:25.361Z"
   },
   {
    "duration": 3227,
    "start_time": "2023-04-18T13:21:26.944Z"
   },
   {
    "duration": 18,
    "start_time": "2023-04-18T13:21:30.172Z"
   },
   {
    "duration": 239,
    "start_time": "2023-04-18T13:21:30.193Z"
   },
   {
    "duration": 1889,
    "start_time": "2023-04-18T13:21:30.433Z"
   },
   {
    "duration": 8,
    "start_time": "2023-04-18T13:21:32.325Z"
   },
   {
    "duration": 17,
    "start_time": "2023-04-18T13:21:32.335Z"
   },
   {
    "duration": 35007,
    "start_time": "2023-04-18T13:21:32.354Z"
   },
   {
    "duration": 25,
    "start_time": "2023-04-18T13:22:07.363Z"
   },
   {
    "duration": 32,
    "start_time": "2023-04-18T13:22:07.391Z"
   },
   {
    "duration": 15,
    "start_time": "2023-04-18T13:22:07.425Z"
   },
   {
    "duration": 47,
    "start_time": "2023-04-18T13:22:07.442Z"
   },
   {
    "duration": 3,
    "start_time": "2023-04-18T13:22:07.491Z"
   },
   {
    "duration": 17,
    "start_time": "2023-04-18T13:22:07.497Z"
   },
   {
    "duration": 10,
    "start_time": "2023-04-18T13:22:07.516Z"
   },
   {
    "duration": 5274,
    "start_time": "2023-04-18T13:22:07.528Z"
   },
   {
    "duration": 3,
    "start_time": "2023-04-18T13:22:12.804Z"
   },
   {
    "duration": 7,
    "start_time": "2023-04-18T13:22:12.809Z"
   },
   {
    "duration": 1599,
    "start_time": "2023-04-18T13:22:12.818Z"
   },
   {
    "duration": 6,
    "start_time": "2023-04-18T13:22:14.419Z"
   },
   {
    "duration": 7,
    "start_time": "2023-04-18T13:22:14.427Z"
   },
   {
    "duration": 19,
    "start_time": "2023-04-18T13:22:14.436Z"
   },
   {
    "duration": 51607,
    "start_time": "2023-04-18T13:22:14.457Z"
   },
   {
    "duration": 1488,
    "start_time": "2023-04-18T13:24:53.504Z"
   },
   {
    "duration": 3263,
    "start_time": "2023-04-18T13:24:54.995Z"
   },
   {
    "duration": 16,
    "start_time": "2023-04-18T13:24:58.260Z"
   },
   {
    "duration": 242,
    "start_time": "2023-04-18T13:24:58.278Z"
   },
   {
    "duration": 2061,
    "start_time": "2023-04-18T13:24:58.522Z"
   },
   {
    "duration": 43,
    "start_time": "2023-04-18T13:25:00.584Z"
   },
   {
    "duration": 39,
    "start_time": "2023-04-18T13:25:00.629Z"
   },
   {
    "duration": 34461,
    "start_time": "2023-04-18T13:25:00.670Z"
   },
   {
    "duration": 26,
    "start_time": "2023-04-18T13:25:35.133Z"
   },
   {
    "duration": 22,
    "start_time": "2023-04-18T13:25:35.161Z"
   },
   {
    "duration": 14,
    "start_time": "2023-04-18T13:25:35.184Z"
   },
   {
    "duration": 49,
    "start_time": "2023-04-18T13:25:35.200Z"
   },
   {
    "duration": 3,
    "start_time": "2023-04-18T13:25:35.250Z"
   },
   {
    "duration": 19,
    "start_time": "2023-04-18T13:25:35.256Z"
   },
   {
    "duration": 19,
    "start_time": "2023-04-18T13:25:35.277Z"
   },
   {
    "duration": 5041,
    "start_time": "2023-04-18T13:25:35.299Z"
   },
   {
    "duration": 2,
    "start_time": "2023-04-18T13:25:40.342Z"
   },
   {
    "duration": 37,
    "start_time": "2023-04-18T13:25:40.345Z"
   },
   {
    "duration": 1833,
    "start_time": "2023-04-18T13:25:40.383Z"
   },
   {
    "duration": 3,
    "start_time": "2023-04-18T13:25:42.218Z"
   },
   {
    "duration": 9,
    "start_time": "2023-04-18T13:25:42.223Z"
   },
   {
    "duration": 3,
    "start_time": "2023-04-18T13:25:42.235Z"
   },
   {
    "duration": 51416,
    "start_time": "2023-04-18T13:25:42.240Z"
   },
   {
    "duration": 1655,
    "start_time": "2023-04-18T13:27:26.147Z"
   },
   {
    "duration": 3255,
    "start_time": "2023-04-18T13:27:27.805Z"
   },
   {
    "duration": 18,
    "start_time": "2023-04-18T13:27:31.062Z"
   },
   {
    "duration": 266,
    "start_time": "2023-04-18T13:27:31.082Z"
   },
   {
    "duration": 1883,
    "start_time": "2023-04-18T13:27:31.350Z"
   },
   {
    "duration": 16,
    "start_time": "2023-04-18T13:27:33.235Z"
   },
   {
    "duration": 15,
    "start_time": "2023-04-18T13:27:33.252Z"
   },
   {
    "duration": 35200,
    "start_time": "2023-04-18T13:27:33.269Z"
   },
   {
    "duration": 23,
    "start_time": "2023-04-18T13:28:08.470Z"
   },
   {
    "duration": 15,
    "start_time": "2023-04-18T13:28:08.497Z"
   },
   {
    "duration": 3,
    "start_time": "2023-04-18T13:28:08.515Z"
   },
   {
    "duration": 57,
    "start_time": "2023-04-18T13:28:08.520Z"
   },
   {
    "duration": 3,
    "start_time": "2023-04-18T13:28:08.580Z"
   },
   {
    "duration": 16,
    "start_time": "2023-04-18T13:28:08.585Z"
   },
   {
    "duration": 6,
    "start_time": "2023-04-18T13:28:08.602Z"
   },
   {
    "duration": 4986,
    "start_time": "2023-04-18T13:28:08.610Z"
   },
   {
    "duration": 2,
    "start_time": "2023-04-18T13:28:13.598Z"
   },
   {
    "duration": 21,
    "start_time": "2023-04-18T13:28:13.602Z"
   },
   {
    "duration": 1630,
    "start_time": "2023-04-18T13:28:13.625Z"
   },
   {
    "duration": 2,
    "start_time": "2023-04-18T13:28:15.258Z"
   },
   {
    "duration": 10,
    "start_time": "2023-04-18T13:28:15.262Z"
   },
   {
    "duration": 11,
    "start_time": "2023-04-18T13:28:15.274Z"
   },
   {
    "duration": 54677,
    "start_time": "2023-04-18T13:28:15.287Z"
   },
   {
    "duration": 1503,
    "start_time": "2023-04-18T13:30:10.806Z"
   },
   {
    "duration": 3292,
    "start_time": "2023-04-18T13:30:12.311Z"
   },
   {
    "duration": 18,
    "start_time": "2023-04-18T13:30:15.604Z"
   },
   {
    "duration": 248,
    "start_time": "2023-04-18T13:30:15.624Z"
   },
   {
    "duration": 1962,
    "start_time": "2023-04-18T13:30:15.874Z"
   },
   {
    "duration": 7,
    "start_time": "2023-04-18T13:30:17.838Z"
   },
   {
    "duration": 10,
    "start_time": "2023-04-18T13:30:17.847Z"
   },
   {
    "duration": 33922,
    "start_time": "2023-04-18T13:30:17.859Z"
   },
   {
    "duration": 24,
    "start_time": "2023-04-18T13:30:51.782Z"
   },
   {
    "duration": 13,
    "start_time": "2023-04-18T13:30:51.809Z"
   },
   {
    "duration": 6,
    "start_time": "2023-04-18T13:30:51.824Z"
   },
   {
    "duration": 51,
    "start_time": "2023-04-18T13:30:51.831Z"
   },
   {
    "duration": 2,
    "start_time": "2023-04-18T13:30:51.884Z"
   },
   {
    "duration": 9,
    "start_time": "2023-04-18T13:30:51.888Z"
   },
   {
    "duration": 3,
    "start_time": "2023-04-18T13:30:51.899Z"
   },
   {
    "duration": 4968,
    "start_time": "2023-04-18T13:30:51.903Z"
   },
   {
    "duration": 3,
    "start_time": "2023-04-18T13:30:56.872Z"
   },
   {
    "duration": 11,
    "start_time": "2023-04-18T13:30:56.877Z"
   },
   {
    "duration": 1521,
    "start_time": "2023-04-18T13:30:56.891Z"
   },
   {
    "duration": 3,
    "start_time": "2023-04-18T13:30:58.413Z"
   },
   {
    "duration": 10,
    "start_time": "2023-04-18T13:30:58.417Z"
   },
   {
    "duration": 3,
    "start_time": "2023-04-18T13:30:58.428Z"
   },
   {
    "duration": 54025,
    "start_time": "2023-04-18T13:30:58.433Z"
   },
   {
    "duration": 7,
    "start_time": "2023-04-18T13:31:52.460Z"
   },
   {
    "duration": 20,
    "start_time": "2023-04-18T13:31:52.468Z"
   },
   {
    "duration": 3,
    "start_time": "2023-04-18T13:34:16.133Z"
   },
   {
    "duration": 46,
    "start_time": "2023-04-18T13:34:23.886Z"
   },
   {
    "duration": 1666,
    "start_time": "2023-04-18T13:37:08.011Z"
   },
   {
    "duration": 2329,
    "start_time": "2023-04-18T13:37:09.679Z"
   },
   {
    "duration": 16,
    "start_time": "2023-04-18T13:37:12.010Z"
   },
   {
    "duration": 247,
    "start_time": "2023-04-18T13:37:12.029Z"
   },
   {
    "duration": 1969,
    "start_time": "2023-04-18T13:37:12.278Z"
   },
   {
    "duration": 12,
    "start_time": "2023-04-18T13:37:14.250Z"
   },
   {
    "duration": 14,
    "start_time": "2023-04-18T13:37:14.264Z"
   },
   {
    "duration": 37452,
    "start_time": "2023-04-18T13:37:14.280Z"
   },
   {
    "duration": 30,
    "start_time": "2023-04-18T13:37:51.733Z"
   },
   {
    "duration": 12,
    "start_time": "2023-04-18T13:37:51.767Z"
   },
   {
    "duration": 2,
    "start_time": "2023-04-18T13:37:51.781Z"
   },
   {
    "duration": 33,
    "start_time": "2023-04-18T13:37:51.785Z"
   },
   {
    "duration": 3,
    "start_time": "2023-04-18T13:37:51.820Z"
   },
   {
    "duration": 8,
    "start_time": "2023-04-18T13:37:51.824Z"
   },
   {
    "duration": 4,
    "start_time": "2023-04-18T13:37:51.855Z"
   },
   {
    "duration": 5309,
    "start_time": "2023-04-18T13:37:51.861Z"
   },
   {
    "duration": 3,
    "start_time": "2023-04-18T13:37:57.172Z"
   },
   {
    "duration": 5,
    "start_time": "2023-04-18T13:37:57.176Z"
   },
   {
    "duration": 1741,
    "start_time": "2023-04-18T13:37:57.183Z"
   },
   {
    "duration": 3,
    "start_time": "2023-04-18T13:37:58.926Z"
   },
   {
    "duration": 13,
    "start_time": "2023-04-18T13:37:58.930Z"
   },
   {
    "duration": 7,
    "start_time": "2023-04-18T13:37:58.945Z"
   },
   {
    "duration": 50806,
    "start_time": "2023-04-18T13:37:58.957Z"
   },
   {
    "duration": 84,
    "start_time": "2023-04-18T13:38:49.772Z"
   },
   {
    "duration": 20,
    "start_time": "2023-04-18T13:38:49.859Z"
   },
   {
    "duration": 1570,
    "start_time": "2023-04-18T13:39:12.172Z"
   },
   {
    "duration": 1422,
    "start_time": "2023-04-18T13:39:13.745Z"
   },
   {
    "duration": 17,
    "start_time": "2023-04-18T13:39:15.169Z"
   },
   {
    "duration": 347,
    "start_time": "2023-04-18T13:39:15.188Z"
   },
   {
    "duration": 1992,
    "start_time": "2023-04-18T13:39:15.538Z"
   },
   {
    "duration": 3,
    "start_time": "2023-04-18T13:39:17.531Z"
   },
   {
    "duration": 6,
    "start_time": "2023-04-18T13:39:17.536Z"
   },
   {
    "duration": 36282,
    "start_time": "2023-04-18T13:39:17.556Z"
   },
   {
    "duration": 26,
    "start_time": "2023-04-18T13:39:53.840Z"
   },
   {
    "duration": 24,
    "start_time": "2023-04-18T13:39:53.868Z"
   },
   {
    "duration": 10,
    "start_time": "2023-04-18T13:39:53.894Z"
   },
   {
    "duration": 42,
    "start_time": "2023-04-18T13:39:53.906Z"
   },
   {
    "duration": 24,
    "start_time": "2023-04-18T13:39:53.950Z"
   },
   {
    "duration": 20,
    "start_time": "2023-04-18T13:39:53.976Z"
   },
   {
    "duration": 14,
    "start_time": "2023-04-18T13:39:53.998Z"
   },
   {
    "duration": 5181,
    "start_time": "2023-04-18T13:39:54.014Z"
   },
   {
    "duration": 3,
    "start_time": "2023-04-18T13:39:59.197Z"
   },
   {
    "duration": 5,
    "start_time": "2023-04-18T13:39:59.202Z"
   },
   {
    "duration": 1774,
    "start_time": "2023-04-18T13:39:59.209Z"
   },
   {
    "duration": 3,
    "start_time": "2023-04-18T13:40:00.985Z"
   },
   {
    "duration": 101,
    "start_time": "2023-04-18T13:40:00.990Z"
   },
   {
    "duration": 26,
    "start_time": "2023-04-18T13:40:01.092Z"
   },
   {
    "duration": 52945,
    "start_time": "2023-04-18T13:40:01.120Z"
   },
   {
    "duration": 6,
    "start_time": "2023-04-18T13:40:54.157Z"
   },
   {
    "duration": 15,
    "start_time": "2023-04-18T13:40:54.165Z"
   },
   {
    "duration": 1660,
    "start_time": "2023-04-18T15:27:45.989Z"
   },
   {
    "duration": 4246,
    "start_time": "2023-04-18T15:27:47.651Z"
   },
   {
    "duration": 16,
    "start_time": "2023-04-18T15:27:51.899Z"
   },
   {
    "duration": 235,
    "start_time": "2023-04-18T15:27:51.917Z"
   },
   {
    "duration": 2053,
    "start_time": "2023-04-18T15:27:52.154Z"
   },
   {
    "duration": 6,
    "start_time": "2023-04-18T15:27:54.209Z"
   },
   {
    "duration": 5,
    "start_time": "2023-04-18T15:27:54.217Z"
   },
   {
    "duration": 40135,
    "start_time": "2023-04-18T15:27:54.223Z"
   },
   {
    "duration": 34,
    "start_time": "2023-04-18T15:28:34.364Z"
   },
   {
    "duration": 33,
    "start_time": "2023-04-18T15:28:34.400Z"
   },
   {
    "duration": 10,
    "start_time": "2023-04-18T15:28:34.435Z"
   },
   {
    "duration": 64,
    "start_time": "2023-04-18T15:28:34.446Z"
   },
   {
    "duration": 3,
    "start_time": "2023-04-18T15:28:34.512Z"
   },
   {
    "duration": 19,
    "start_time": "2023-04-18T15:28:34.517Z"
   },
   {
    "duration": 10,
    "start_time": "2023-04-18T15:28:34.537Z"
   },
   {
    "duration": 6159,
    "start_time": "2023-04-18T15:28:34.549Z"
   },
   {
    "duration": 2,
    "start_time": "2023-04-18T15:28:40.710Z"
   },
   {
    "duration": 18,
    "start_time": "2023-04-18T15:28:40.714Z"
   },
   {
    "duration": 1818,
    "start_time": "2023-04-18T15:28:40.734Z"
   },
   {
    "duration": 3,
    "start_time": "2023-04-18T15:28:42.554Z"
   },
   {
    "duration": 21,
    "start_time": "2023-04-18T15:28:42.567Z"
   },
   {
    "duration": 4,
    "start_time": "2023-04-18T15:28:42.589Z"
   },
   {
    "duration": 13876,
    "start_time": "2023-04-18T15:28:42.594Z"
   },
   {
    "duration": 18,
    "start_time": "2023-04-18T15:28:56.479Z"
   },
   {
    "duration": 51,
    "start_time": "2023-04-18T15:28:56.499Z"
   },
   {
    "duration": 57771,
    "start_time": "2023-04-18T15:29:23.919Z"
   },
   {
    "duration": 49,
    "start_time": "2023-04-18T15:30:41.745Z"
   },
   {
    "duration": 58476,
    "start_time": "2023-04-18T15:30:50.631Z"
   },
   {
    "duration": 4,
    "start_time": "2023-04-18T15:32:18.119Z"
   },
   {
    "duration": 6,
    "start_time": "2023-04-18T15:32:27.441Z"
   },
   {
    "duration": 4,
    "start_time": "2023-04-18T15:32:39.630Z"
   },
   {
    "duration": 57076,
    "start_time": "2023-04-18T15:33:13.713Z"
   },
   {
    "duration": 3,
    "start_time": "2023-04-18T15:38:57.914Z"
   },
   {
    "duration": 57370,
    "start_time": "2023-04-18T15:39:03.114Z"
   },
   {
    "duration": 274546,
    "start_time": "2023-04-18T15:40:14.556Z"
   },
   {
    "duration": 3,
    "start_time": "2023-04-18T15:45:02.359Z"
   },
   {
    "duration": 12180,
    "start_time": "2023-04-18T15:45:03.047Z"
   },
   {
    "duration": 55752,
    "start_time": "2023-04-18T15:45:18.963Z"
   },
   {
    "duration": 54,
    "start_time": "2023-04-18T15:51:30.160Z"
   },
   {
    "duration": 3,
    "start_time": "2023-04-18T15:51:35.527Z"
   },
   {
    "duration": 232,
    "start_time": "2023-04-18T15:56:01.110Z"
   },
   {
    "duration": 9,
    "start_time": "2023-04-18T15:56:34.366Z"
   },
   {
    "duration": 225895,
    "start_time": "2023-04-18T15:56:39.833Z"
   },
   {
    "duration": 3,
    "start_time": "2023-04-18T16:02:38.140Z"
   },
   {
    "duration": 1859,
    "start_time": "2023-04-18T16:02:54.944Z"
   },
   {
    "duration": 228,
    "start_time": "2023-04-18T16:03:47.459Z"
   },
   {
    "duration": 3,
    "start_time": "2023-04-18T16:03:59.328Z"
   },
   {
    "duration": 4409,
    "start_time": "2023-04-18T16:04:00.315Z"
   },
   {
    "duration": 425,
    "start_time": "2023-04-18T16:04:09.633Z"
   },
   {
    "duration": 7,
    "start_time": "2023-04-18T16:04:34.484Z"
   },
   {
    "duration": 17491,
    "start_time": "2023-04-18T16:04:35.379Z"
   },
   {
    "duration": 1867,
    "start_time": "2023-04-18T16:04:59.861Z"
   },
   {
    "duration": 5338,
    "start_time": "2023-04-18T16:08:25.449Z"
   },
   {
    "duration": 3,
    "start_time": "2023-04-18T16:08:56.679Z"
   },
   {
    "duration": 75231,
    "start_time": "2023-04-18T16:08:57.363Z"
   },
   {
    "duration": 7406,
    "start_time": "2023-04-18T16:10:26.429Z"
   },
   {
    "duration": 3,
    "start_time": "2023-04-18T16:11:00.983Z"
   },
   {
    "duration": 104221,
    "start_time": "2023-04-18T16:11:01.681Z"
   },
   {
    "duration": 7333,
    "start_time": "2023-04-18T16:12:51.320Z"
   },
   {
    "duration": 3,
    "start_time": "2023-04-18T16:13:19.324Z"
   },
   {
    "duration": 157896,
    "start_time": "2023-04-18T16:13:20.525Z"
   },
   {
    "duration": 5744,
    "start_time": "2023-04-18T16:16:09.709Z"
   },
   {
    "duration": 3,
    "start_time": "2023-04-18T16:16:39.777Z"
   },
   {
    "duration": 301784,
    "start_time": "2023-04-18T16:16:40.513Z"
   },
   {
    "duration": 10223,
    "start_time": "2023-04-18T16:22:04.536Z"
   },
   {
    "duration": 210,
    "start_time": "2023-04-18T16:22:23.885Z"
   },
   {
    "duration": 110,
    "start_time": "2023-04-18T16:23:46.929Z"
   },
   {
    "duration": 1836,
    "start_time": "2023-04-18T16:24:14.679Z"
   },
   {
    "duration": 3660,
    "start_time": "2023-04-18T16:24:19.217Z"
   },
   {
    "duration": 17,
    "start_time": "2023-04-18T16:24:23.825Z"
   },
   {
    "duration": 232,
    "start_time": "2023-04-18T16:24:26.012Z"
   },
   {
    "duration": 1980,
    "start_time": "2023-04-18T16:24:27.013Z"
   },
   {
    "duration": 3,
    "start_time": "2023-04-18T16:24:29.843Z"
   },
   {
    "duration": 3,
    "start_time": "2023-04-18T16:24:30.545Z"
   },
   {
    "duration": 36720,
    "start_time": "2023-04-18T16:24:31.255Z"
   },
   {
    "duration": 29,
    "start_time": "2023-04-18T16:25:16.149Z"
   },
   {
    "duration": 13,
    "start_time": "2023-04-18T16:25:16.943Z"
   },
   {
    "duration": 3,
    "start_time": "2023-04-18T16:25:19.342Z"
   },
   {
    "duration": 35,
    "start_time": "2023-04-18T16:25:19.843Z"
   },
   {
    "duration": 3,
    "start_time": "2023-04-18T16:25:20.905Z"
   },
   {
    "duration": 4,
    "start_time": "2023-04-18T16:25:21.525Z"
   },
   {
    "duration": 7,
    "start_time": "2023-04-18T16:25:22.081Z"
   },
   {
    "duration": 5482,
    "start_time": "2023-04-18T16:25:22.628Z"
   },
   {
    "duration": 3,
    "start_time": "2023-04-18T16:25:32.174Z"
   },
   {
    "duration": 2,
    "start_time": "2023-04-18T16:25:34.309Z"
   },
   {
    "duration": 1633,
    "start_time": "2023-04-18T16:25:34.840Z"
   },
   {
    "duration": 3,
    "start_time": "2023-04-18T16:25:36.475Z"
   },
   {
    "duration": 20,
    "start_time": "2023-04-18T16:25:36.480Z"
   },
   {
    "duration": 3,
    "start_time": "2023-04-18T16:25:42.509Z"
   },
   {
    "duration": 12717,
    "start_time": "2023-04-18T16:25:44.586Z"
   },
   {
    "duration": 56368,
    "start_time": "2023-04-18T16:26:26.342Z"
   },
   {
    "duration": 2250,
    "start_time": "2023-04-18T16:45:02.606Z"
   },
   {
    "duration": 4150,
    "start_time": "2023-04-18T16:45:06.402Z"
   },
   {
    "duration": 19,
    "start_time": "2023-04-18T16:45:10.554Z"
   },
   {
    "duration": 259,
    "start_time": "2023-04-18T16:45:10.574Z"
   },
   {
    "duration": 2152,
    "start_time": "2023-04-18T16:45:10.835Z"
   },
   {
    "duration": 3,
    "start_time": "2023-04-18T16:45:12.996Z"
   },
   {
    "duration": 11,
    "start_time": "2023-04-18T16:45:13.000Z"
   },
   {
    "duration": 42751,
    "start_time": "2023-04-18T16:45:16.196Z"
   },
   {
    "duration": 28,
    "start_time": "2023-04-18T16:46:12.808Z"
   },
   {
    "duration": 14,
    "start_time": "2023-04-18T16:46:13.605Z"
   },
   {
    "duration": 5,
    "start_time": "2023-04-18T16:46:15.867Z"
   },
   {
    "duration": 37,
    "start_time": "2023-04-18T16:46:16.332Z"
   },
   {
    "duration": 3,
    "start_time": "2023-04-18T16:46:17.219Z"
   },
   {
    "duration": 4,
    "start_time": "2023-04-18T16:46:18.802Z"
   },
   {
    "duration": 3,
    "start_time": "2023-04-18T16:46:19.213Z"
   },
   {
    "duration": 6194,
    "start_time": "2023-04-18T16:46:19.646Z"
   },
   {
    "duration": 3,
    "start_time": "2023-04-18T16:46:25.842Z"
   },
   {
    "duration": 2,
    "start_time": "2023-04-18T16:46:26.711Z"
   },
   {
    "duration": 1917,
    "start_time": "2023-04-18T16:46:27.701Z"
   },
   {
    "duration": 3,
    "start_time": "2023-04-18T16:46:29.619Z"
   },
   {
    "duration": 9,
    "start_time": "2023-04-18T16:46:29.623Z"
   },
   {
    "duration": 3,
    "start_time": "2023-04-18T16:46:35.509Z"
   },
   {
    "duration": 1917,
    "start_time": "2023-04-18T16:53:52.903Z"
   },
   {
    "duration": 1105,
    "start_time": "2023-04-18T16:53:57.012Z"
   },
   {
    "duration": 26,
    "start_time": "2023-04-18T16:53:59.409Z"
   },
   {
    "duration": 330,
    "start_time": "2023-04-18T16:54:00.888Z"
   },
   {
    "duration": 2234,
    "start_time": "2023-04-18T16:54:02.515Z"
   },
   {
    "duration": 3,
    "start_time": "2023-04-18T16:54:06.240Z"
   },
   {
    "duration": 4,
    "start_time": "2023-04-18T16:54:07.716Z"
   },
   {
    "duration": 45324,
    "start_time": "2023-04-18T16:54:08.610Z"
   },
   {
    "duration": 21,
    "start_time": "2023-04-18T16:54:55.925Z"
   },
   {
    "duration": 35,
    "start_time": "2023-04-18T16:54:56.761Z"
   },
   {
    "duration": 3,
    "start_time": "2023-04-18T16:54:59.902Z"
   },
   {
    "duration": 59,
    "start_time": "2023-04-18T16:55:00.943Z"
   },
   {
    "duration": 2,
    "start_time": "2023-04-18T16:55:02.632Z"
   },
   {
    "duration": 3,
    "start_time": "2023-04-18T16:55:04.815Z"
   },
   {
    "duration": 2,
    "start_time": "2023-04-18T16:55:05.534Z"
   },
   {
    "duration": 6193,
    "start_time": "2023-04-18T16:55:06.225Z"
   },
   {
    "duration": 2,
    "start_time": "2023-04-18T16:55:12.420Z"
   },
   {
    "duration": 3,
    "start_time": "2023-04-18T16:55:18.412Z"
   },
   {
    "duration": 1816,
    "start_time": "2023-04-18T16:55:19.106Z"
   },
   {
    "duration": 3,
    "start_time": "2023-04-18T16:55:21.610Z"
   },
   {
    "duration": 6,
    "start_time": "2023-04-18T16:55:22.606Z"
   },
   {
    "duration": 245,
    "start_time": "2023-04-18T16:55:44.114Z"
   },
   {
    "duration": 2058,
    "start_time": "2023-04-18T16:56:44.132Z"
   },
   {
    "duration": 4983,
    "start_time": "2023-04-18T16:56:47.966Z"
   },
   {
    "duration": 16,
    "start_time": "2023-04-18T16:56:53.925Z"
   },
   {
    "duration": 288,
    "start_time": "2023-04-18T16:56:56.061Z"
   },
   {
    "duration": 2206,
    "start_time": "2023-04-18T16:56:58.481Z"
   },
   {
    "duration": 3,
    "start_time": "2023-04-18T16:57:02.812Z"
   },
   {
    "duration": 3,
    "start_time": "2023-04-18T16:57:03.426Z"
   },
   {
    "duration": 43577,
    "start_time": "2023-04-18T16:57:04.044Z"
   },
   {
    "duration": 32,
    "start_time": "2023-04-18T16:57:48.612Z"
   },
   {
    "duration": 12,
    "start_time": "2023-04-18T16:57:50.450Z"
   },
   {
    "duration": 6,
    "start_time": "2023-04-18T16:57:53.374Z"
   },
   {
    "duration": 36,
    "start_time": "2023-04-18T16:57:54.333Z"
   },
   {
    "duration": 2,
    "start_time": "2023-04-18T16:57:55.807Z"
   },
   {
    "duration": 4,
    "start_time": "2023-04-18T16:58:14.830Z"
   },
   {
    "duration": 3,
    "start_time": "2023-04-18T16:58:15.502Z"
   },
   {
    "duration": 5870,
    "start_time": "2023-04-18T16:58:16.042Z"
   },
   {
    "duration": 2,
    "start_time": "2023-04-18T16:58:21.914Z"
   },
   {
    "duration": 3,
    "start_time": "2023-04-18T16:58:23.419Z"
   },
   {
    "duration": 1803,
    "start_time": "2023-04-18T16:58:24.002Z"
   },
   {
    "duration": 2,
    "start_time": "2023-04-18T16:58:25.807Z"
   },
   {
    "duration": 8,
    "start_time": "2023-04-18T16:58:25.810Z"
   },
   {
    "duration": 3,
    "start_time": "2023-04-18T16:58:58.501Z"
   },
   {
    "duration": 2069,
    "start_time": "2023-04-18T16:59:26.641Z"
   },
   {
    "duration": 4097,
    "start_time": "2023-04-18T16:59:29.736Z"
   },
   {
    "duration": 27,
    "start_time": "2023-04-18T16:59:34.544Z"
   },
   {
    "duration": 256,
    "start_time": "2023-04-18T16:59:36.394Z"
   },
   {
    "duration": 2117,
    "start_time": "2023-04-18T16:59:38.774Z"
   },
   {
    "duration": 2,
    "start_time": "2023-04-18T17:00:00.607Z"
   },
   {
    "duration": 3,
    "start_time": "2023-04-18T17:00:01.102Z"
   },
   {
    "duration": 41159,
    "start_time": "2023-04-18T17:00:02.038Z"
   },
   {
    "duration": 23,
    "start_time": "2023-04-18T17:01:49.406Z"
   },
   {
    "duration": 13,
    "start_time": "2023-04-18T17:01:50.106Z"
   },
   {
    "duration": 3,
    "start_time": "2023-04-18T17:01:52.207Z"
   },
   {
    "duration": 33,
    "start_time": "2023-04-18T17:01:52.716Z"
   },
   {
    "duration": 3,
    "start_time": "2023-04-18T17:01:53.610Z"
   },
   {
    "duration": 4,
    "start_time": "2023-04-18T17:01:54.106Z"
   },
   {
    "duration": 2,
    "start_time": "2023-04-18T17:01:54.515Z"
   },
   {
    "duration": 5761,
    "start_time": "2023-04-18T17:01:55.914Z"
   },
   {
    "duration": 7,
    "start_time": "2023-04-18T17:02:01.680Z"
   },
   {
    "duration": 2,
    "start_time": "2023-04-18T17:02:09.548Z"
   },
   {
    "duration": 1876,
    "start_time": "2023-04-18T17:02:10.103Z"
   },
   {
    "duration": 3,
    "start_time": "2023-04-18T17:02:11.990Z"
   },
   {
    "duration": 26,
    "start_time": "2023-04-18T17:02:11.994Z"
   },
   {
    "duration": 3,
    "start_time": "2023-04-18T17:02:19.921Z"
   },
   {
    "duration": 12872,
    "start_time": "2023-04-18T17:02:20.813Z"
   },
   {
    "duration": 58057,
    "start_time": "2023-04-18T17:02:36.046Z"
   },
   {
    "duration": 13170,
    "start_time": "2023-04-18T17:03:50.716Z"
   },
   {
    "duration": 7287,
    "start_time": "2023-04-18T17:04:11.506Z"
   },
   {
    "duration": 46,
    "start_time": "2023-04-18T17:04:21.713Z"
   },
   {
    "duration": 3,
    "start_time": "2023-04-18T17:04:28.607Z"
   },
   {
    "duration": 6956,
    "start_time": "2023-04-18T17:04:38.010Z"
   },
   {
    "duration": 54,
    "start_time": "2023-04-18T17:04:58.019Z"
   },
   {
    "duration": 214,
    "start_time": "2023-04-18T17:05:17.627Z"
   },
   {
    "duration": 18,
    "start_time": "2023-04-18T17:05:31.430Z"
   },
   {
    "duration": 3,
    "start_time": "2023-04-18T17:05:40.028Z"
   },
   {
    "duration": 13562,
    "start_time": "2023-04-18T17:05:57.404Z"
   },
   {
    "duration": 32,
    "start_time": "2023-04-18T17:06:13.450Z"
   },
   {
    "duration": 3,
    "start_time": "2023-04-18T17:06:19.790Z"
   },
   {
    "duration": 11726,
    "start_time": "2023-04-18T17:06:22.710Z"
   },
   {
    "duration": 13482,
    "start_time": "2023-04-18T17:06:37.336Z"
   },
   {
    "duration": 28,
    "start_time": "2023-04-18T17:06:53.715Z"
   },
   {
    "duration": 2,
    "start_time": "2023-04-18T17:06:58.718Z"
   },
   {
    "duration": 13409,
    "start_time": "2023-04-18T17:07:02.180Z"
   },
   {
    "duration": 19,
    "start_time": "2023-04-18T17:07:18.136Z"
   },
   {
    "duration": 2,
    "start_time": "2023-04-18T17:09:50.839Z"
   },
   {
    "duration": 9166,
    "start_time": "2023-04-18T17:09:53.707Z"
   },
   {
    "duration": 36,
    "start_time": "2023-04-18T17:10:07.253Z"
   },
   {
    "duration": 8,
    "start_time": "2023-04-18T17:12:17.380Z"
   },
   {
    "duration": 169,
    "start_time": "2023-04-18T17:12:18.236Z"
   },
   {
    "duration": 178,
    "start_time": "2023-04-18T17:12:20.993Z"
   },
   {
    "duration": 3,
    "start_time": "2023-04-18T17:12:28.243Z"
   },
   {
    "duration": 5,
    "start_time": "2023-04-18T17:12:41.978Z"
   },
   {
    "duration": 254,
    "start_time": "2023-04-18T17:12:42.746Z"
   },
   {
    "duration": 73,
    "start_time": "2023-04-18T17:12:43.823Z"
   },
   {
    "duration": 3,
    "start_time": "2023-04-18T17:12:53.207Z"
   },
   {
    "duration": 379,
    "start_time": "2023-04-18T17:12:53.819Z"
   },
   {
    "duration": 110,
    "start_time": "2023-04-18T17:12:55.188Z"
   },
   {
    "duration": 5,
    "start_time": "2023-04-18T17:12:59.478Z"
   },
   {
    "duration": 574,
    "start_time": "2023-04-18T17:13:00.106Z"
   },
   {
    "duration": 97,
    "start_time": "2023-04-18T17:13:01.919Z"
   },
   {
    "duration": 3,
    "start_time": "2023-04-18T17:13:08.219Z"
   },
   {
    "duration": 1113,
    "start_time": "2023-04-18T17:13:12.255Z"
   },
   {
    "duration": 106,
    "start_time": "2023-04-18T17:13:14.391Z"
   },
   {
    "duration": 3,
    "start_time": "2023-04-18T17:13:19.822Z"
   },
   {
    "duration": 2158,
    "start_time": "2023-04-18T17:13:20.554Z"
   },
   {
    "duration": 193,
    "start_time": "2023-04-18T17:13:23.626Z"
   },
   {
    "duration": 4,
    "start_time": "2023-04-18T17:13:27.310Z"
   },
   {
    "duration": 3573,
    "start_time": "2023-04-18T17:13:27.931Z"
   },
   {
    "duration": 282,
    "start_time": "2023-04-18T17:13:32.459Z"
   },
   {
    "duration": 11,
    "start_time": "2023-04-18T17:13:36.692Z"
   },
   {
    "duration": 7765,
    "start_time": "2023-04-18T17:13:37.510Z"
   },
   {
    "duration": 398,
    "start_time": "2023-04-18T17:13:46.296Z"
   },
   {
    "duration": 3,
    "start_time": "2023-04-18T17:13:51.319Z"
   },
   {
    "duration": 11237,
    "start_time": "2023-04-18T17:13:51.988Z"
   },
   {
    "duration": 495,
    "start_time": "2023-04-18T17:14:04.553Z"
   },
   {
    "duration": 3,
    "start_time": "2023-04-18T17:14:10.737Z"
   },
   {
    "duration": 28078,
    "start_time": "2023-04-18T17:14:11.524Z"
   },
   {
    "duration": 708,
    "start_time": "2023-04-18T17:14:41.395Z"
   },
   {
    "duration": 3,
    "start_time": "2023-04-18T17:14:47.714Z"
   },
   {
    "duration": 55105,
    "start_time": "2023-04-18T17:14:48.277Z"
   },
   {
    "duration": 1294,
    "start_time": "2023-04-18T17:15:45.735Z"
   },
   {
    "duration": 10,
    "start_time": "2023-04-18T17:15:53.495Z"
   },
   {
    "duration": 144703,
    "start_time": "2023-04-18T17:15:54.206Z"
   },
   {
    "duration": 1818,
    "start_time": "2023-04-18T17:18:41.426Z"
   },
   {
    "duration": 4,
    "start_time": "2023-04-18T17:18:55.591Z"
   },
   {
    "duration": 323099,
    "start_time": "2023-04-18T17:18:56.214Z"
   },
   {
    "duration": 4033,
    "start_time": "2023-04-18T17:24:48.019Z"
   },
   {
    "duration": 153,
    "start_time": "2023-04-18T17:25:10.988Z"
   },
   {
    "duration": 2186,
    "start_time": "2023-04-18T17:25:19.943Z"
   },
   {
    "duration": 4736,
    "start_time": "2023-04-18T17:25:22.131Z"
   },
   {
    "duration": 26,
    "start_time": "2023-04-18T17:25:26.874Z"
   },
   {
    "duration": 281,
    "start_time": "2023-04-18T17:25:26.902Z"
   },
   {
    "duration": 2348,
    "start_time": "2023-04-18T17:25:27.186Z"
   },
   {
    "duration": 7,
    "start_time": "2023-04-18T17:25:29.536Z"
   },
   {
    "duration": 9,
    "start_time": "2023-04-18T17:25:29.544Z"
   },
   {
    "duration": 46588,
    "start_time": "2023-04-18T17:25:29.555Z"
   },
   {
    "duration": 37,
    "start_time": "2023-04-18T17:26:16.145Z"
   },
   {
    "duration": 18,
    "start_time": "2023-04-18T17:26:16.186Z"
   },
   {
    "duration": 3,
    "start_time": "2023-04-18T17:26:16.207Z"
   },
   {
    "duration": 33,
    "start_time": "2023-04-18T17:26:16.211Z"
   },
   {
    "duration": 22,
    "start_time": "2023-04-18T17:26:16.246Z"
   },
   {
    "duration": 5,
    "start_time": "2023-04-18T17:26:16.273Z"
   },
   {
    "duration": 12,
    "start_time": "2023-04-18T17:26:16.283Z"
   },
   {
    "duration": 7042,
    "start_time": "2023-04-18T17:26:16.298Z"
   },
   {
    "duration": 2,
    "start_time": "2023-04-18T17:26:23.343Z"
   },
   {
    "duration": 6,
    "start_time": "2023-04-18T17:26:23.347Z"
   },
   {
    "duration": 2336,
    "start_time": "2023-04-18T17:26:23.354Z"
   },
   {
    "duration": 3,
    "start_time": "2023-04-18T17:26:25.693Z"
   },
   {
    "duration": 23,
    "start_time": "2023-04-18T17:26:25.698Z"
   },
   {
    "duration": 6,
    "start_time": "2023-04-18T17:26:25.723Z"
   },
   {
    "duration": 56396,
    "start_time": "2023-04-18T17:26:25.730Z"
   },
   {
    "duration": 12991,
    "start_time": "2023-04-18T17:27:22.129Z"
   },
   {
    "duration": 19,
    "start_time": "2023-04-18T17:27:35.121Z"
   },
   {
    "duration": 257449,
    "start_time": "2023-04-18T17:27:35.142Z"
   },
   {
    "duration": 5,
    "start_time": "2023-04-18T17:31:52.594Z"
   },
   {
    "duration": 82670,
    "start_time": "2023-04-18T17:31:52.601Z"
   },
   {
    "duration": 20,
    "start_time": "2023-04-18T17:33:15.273Z"
   },
   {
    "duration": 0,
    "start_time": "2023-04-18T17:33:15.295Z"
   },
   {
    "duration": 0,
    "start_time": "2023-04-18T17:33:15.296Z"
   },
   {
    "duration": 1,
    "start_time": "2023-04-18T17:33:15.297Z"
   },
   {
    "duration": 0,
    "start_time": "2023-04-18T17:33:15.299Z"
   },
   {
    "duration": 0,
    "start_time": "2023-04-18T17:33:15.300Z"
   },
   {
    "duration": 0,
    "start_time": "2023-04-18T17:33:15.301Z"
   },
   {
    "duration": 0,
    "start_time": "2023-04-18T17:33:15.303Z"
   },
   {
    "duration": 0,
    "start_time": "2023-04-18T17:33:15.304Z"
   },
   {
    "duration": 16561,
    "start_time": "2023-04-18T17:33:24.437Z"
   },
   {
    "duration": 254793,
    "start_time": "2023-04-18T17:33:52.924Z"
   },
   {
    "duration": 3,
    "start_time": "2023-04-18T17:38:16.624Z"
   },
   {
    "duration": 2236,
    "start_time": "2023-04-18T17:38:20.291Z"
   },
   {
    "duration": 210,
    "start_time": "2023-04-18T17:38:25.027Z"
   },
   {
    "duration": 9,
    "start_time": "2023-04-18T17:41:14.595Z"
   },
   {
    "duration": 127,
    "start_time": "2023-04-18T17:42:34.990Z"
   },
   {
    "duration": 1784110,
    "start_time": "2023-04-18T17:42:40.838Z"
   },
   {
    "duration": 3,
    "start_time": "2023-04-18T18:13:04.512Z"
   },
   {
    "duration": 25071,
    "start_time": "2023-04-18T18:13:20.645Z"
   },
   {
    "duration": 20,
    "start_time": "2023-04-18T18:13:51.509Z"
   },
   {
    "duration": 3,
    "start_time": "2023-04-18T18:14:21.710Z"
   },
   {
    "duration": 51008,
    "start_time": "2023-04-18T18:14:22.278Z"
   },
   {
    "duration": 31,
    "start_time": "2023-04-18T18:15:49.748Z"
   },
   {
    "duration": 3,
    "start_time": "2023-04-18T18:15:59.434Z"
   },
   {
    "duration": 20879,
    "start_time": "2023-04-18T18:16:00.015Z"
   },
   {
    "duration": 19,
    "start_time": "2023-04-18T18:16:25.112Z"
   },
   {
    "duration": 3,
    "start_time": "2023-04-18T18:16:33.414Z"
   },
   {
    "duration": 11360,
    "start_time": "2023-04-18T18:16:34.913Z"
   },
   {
    "duration": 19,
    "start_time": "2023-04-18T18:16:50.220Z"
   },
   {
    "duration": 3,
    "start_time": "2023-04-18T18:16:56.111Z"
   },
   {
    "duration": 8140,
    "start_time": "2023-04-18T18:16:56.725Z"
   },
   {
    "duration": 20,
    "start_time": "2023-04-18T18:17:07.312Z"
   },
   {
    "duration": 3,
    "start_time": "2023-04-18T18:17:13.131Z"
   },
   {
    "duration": 3158,
    "start_time": "2023-04-18T18:17:13.716Z"
   },
   {
    "duration": 23,
    "start_time": "2023-04-18T18:17:20.779Z"
   },
   {
    "duration": 3,
    "start_time": "2023-04-18T18:17:32.937Z"
   },
   {
    "duration": 67885,
    "start_time": "2023-04-18T18:17:34.285Z"
   },
   {
    "duration": 19,
    "start_time": "2023-04-18T18:19:08.123Z"
   },
   {
    "duration": 4,
    "start_time": "2023-04-18T18:19:13.436Z"
   },
   {
    "duration": 215800,
    "start_time": "2023-04-18T18:19:14.084Z"
   },
   {
    "duration": 20,
    "start_time": "2023-04-18T18:23:02.321Z"
   },
   {
    "duration": 3,
    "start_time": "2023-04-18T18:23:08.533Z"
   },
   {
    "duration": 1687,
    "start_time": "2023-04-18T18:23:09.083Z"
   },
   {
    "duration": 24,
    "start_time": "2023-04-18T18:23:13.090Z"
   },
   {
    "duration": 3,
    "start_time": "2023-04-18T18:23:18.025Z"
   },
   {
    "duration": 1460,
    "start_time": "2023-04-18T18:23:18.623Z"
   },
   {
    "duration": 26,
    "start_time": "2023-04-18T18:23:21.192Z"
   },
   {
    "duration": 2,
    "start_time": "2023-04-18T18:23:34.321Z"
   },
   {
    "duration": 52817,
    "start_time": "2023-04-18T18:23:36.085Z"
   },
   {
    "duration": 12884,
    "start_time": "2023-04-18T18:24:45.012Z"
   },
   {
    "duration": 21,
    "start_time": "2023-04-18T18:25:00.629Z"
   },
   {
    "duration": 5,
    "start_time": "2023-04-18T18:25:04.684Z"
   },
   {
    "duration": 12750,
    "start_time": "2023-04-18T18:25:06.429Z"
   },
   {
    "duration": 19,
    "start_time": "2023-04-18T18:25:31.326Z"
   },
   {
    "duration": 2,
    "start_time": "2023-04-18T18:25:55.128Z"
   },
   {
    "duration": 1697,
    "start_time": "2023-04-18T18:25:56.316Z"
   },
   {
    "duration": 166,
    "start_time": "2023-04-18T18:25:59.398Z"
   },
   {
    "duration": 2,
    "start_time": "2023-04-18T18:26:05.725Z"
   },
   {
    "duration": 3,
    "start_time": "2023-04-18T18:26:14.333Z"
   },
   {
    "duration": 31957,
    "start_time": "2023-04-18T18:26:15.293Z"
   },
   {
    "duration": 2521,
    "start_time": "2023-04-18T18:26:58.822Z"
   },
   {
    "duration": 5,
    "start_time": "2023-04-18T18:27:06.590Z"
   },
   {
    "duration": 159953,
    "start_time": "2023-04-18T18:27:07.191Z"
   },
   {
    "duration": 3973,
    "start_time": "2023-04-18T18:29:52.020Z"
   },
   {
    "duration": 2271,
    "start_time": "2023-04-19T05:24:42.699Z"
   },
   {
    "duration": 8,
    "start_time": "2023-04-19T05:24:58.523Z"
   },
   {
    "duration": 3764,
    "start_time": "2023-04-19T05:25:00.844Z"
   },
   {
    "duration": 30,
    "start_time": "2023-04-19T05:25:05.839Z"
   },
   {
    "duration": 381,
    "start_time": "2023-04-19T05:25:28.045Z"
   },
   {
    "duration": 4696,
    "start_time": "2023-04-19T05:25:32.569Z"
   },
   {
    "duration": 3,
    "start_time": "2023-04-19T05:25:39.159Z"
   },
   {
    "duration": 5,
    "start_time": "2023-04-19T05:25:40.751Z"
   },
   {
    "duration": 54895,
    "start_time": "2023-04-19T05:25:44.010Z"
   },
   {
    "duration": 38,
    "start_time": "2023-04-19T05:26:57.495Z"
   },
   {
    "duration": 21,
    "start_time": "2023-04-19T05:27:00.143Z"
   },
   {
    "duration": 4,
    "start_time": "2023-04-19T05:27:05.167Z"
   },
   {
    "duration": 61,
    "start_time": "2023-04-19T05:27:17.777Z"
   },
   {
    "duration": 3,
    "start_time": "2023-04-19T05:27:20.058Z"
   },
   {
    "duration": 5,
    "start_time": "2023-04-19T05:27:20.912Z"
   },
   {
    "duration": 3,
    "start_time": "2023-04-19T05:27:22.432Z"
   },
   {
    "duration": 9721,
    "start_time": "2023-04-19T05:27:24.737Z"
   },
   {
    "duration": 3,
    "start_time": "2023-04-19T05:27:35.931Z"
   },
   {
    "duration": 3,
    "start_time": "2023-04-19T05:27:37.935Z"
   },
   {
    "duration": 2244,
    "start_time": "2023-04-19T05:27:38.680Z"
   },
   {
    "duration": 6,
    "start_time": "2023-04-19T05:27:41.682Z"
   },
   {
    "duration": 9,
    "start_time": "2023-04-19T05:27:43.296Z"
   },
   {
    "duration": 4,
    "start_time": "2023-04-19T05:27:53.443Z"
   },
   {
    "duration": 69427,
    "start_time": "2023-04-19T05:27:55.594Z"
   },
   {
    "duration": 15400,
    "start_time": "2023-04-19T05:29:17.941Z"
   },
   {
    "duration": 34,
    "start_time": "2023-04-19T05:29:35.478Z"
   },
   {
    "duration": 4,
    "start_time": "2023-04-19T05:29:54.299Z"
   },
   {
    "duration": 55,
    "start_time": "2023-04-19T05:29:54.995Z"
   },
   {
    "duration": 29,
    "start_time": "2023-04-19T05:29:56.884Z"
   },
   {
    "duration": 4,
    "start_time": "2023-04-19T05:29:57.611Z"
   },
   {
    "duration": 25,
    "start_time": "2023-04-19T05:29:58.659Z"
   },
   {
    "duration": 4934,
    "start_time": "2023-04-19T05:29:59.330Z"
   },
   {
    "duration": 4,
    "start_time": "2023-04-19T05:30:06.451Z"
   },
   {
    "duration": 5,
    "start_time": "2023-04-19T05:30:07.723Z"
   },
   {
    "duration": 6231,
    "start_time": "2023-04-19T05:30:09.123Z"
   },
   {
    "duration": 4,
    "start_time": "2023-04-19T05:30:19.403Z"
   },
   {
    "duration": 8,
    "start_time": "2023-04-19T05:30:20.387Z"
   },
   {
    "duration": 4,
    "start_time": "2023-04-19T05:30:41.828Z"
   },
   {
    "duration": 8620,
    "start_time": "2023-04-19T05:30:44.091Z"
   },
   {
    "duration": 53,
    "start_time": "2023-04-19T05:30:53.845Z"
   },
   {
    "duration": 4,
    "start_time": "2023-04-19T05:31:07.231Z"
   },
   {
    "duration": 59,
    "start_time": "2023-04-19T05:31:07.859Z"
   },
   {
    "duration": 8,
    "start_time": "2023-04-19T05:31:09.239Z"
   },
   {
    "duration": 5,
    "start_time": "2023-04-19T05:31:09.971Z"
   },
   {
    "duration": 24,
    "start_time": "2023-04-19T05:31:10.627Z"
   },
   {
    "duration": 11726,
    "start_time": "2023-04-19T05:31:11.347Z"
   },
   {
    "duration": 3,
    "start_time": "2023-04-19T05:31:23.956Z"
   },
   {
    "duration": 8,
    "start_time": "2023-04-19T05:31:25.357Z"
   },
   {
    "duration": 1212,
    "start_time": "2023-04-19T05:31:26.742Z"
   },
   {
    "duration": 3,
    "start_time": "2023-04-19T05:31:28.757Z"
   },
   {
    "duration": 8,
    "start_time": "2023-04-19T05:31:30.964Z"
   },
   {
    "duration": 6,
    "start_time": "2023-04-19T05:31:53.413Z"
   },
   {
    "duration": 228,
    "start_time": "2023-04-19T05:32:02.985Z"
   },
   {
    "duration": 6,
    "start_time": "2023-04-19T05:32:12.054Z"
   },
   {
    "duration": 6,
    "start_time": "2023-04-19T05:32:22.401Z"
   },
   {
    "duration": 6,
    "start_time": "2023-04-19T05:32:32.753Z"
   },
   {
    "duration": 4,
    "start_time": "2023-04-19T05:32:47.220Z"
   },
   {
    "duration": 1686,
    "start_time": "2023-04-19T05:42:50.545Z"
   },
   {
    "duration": 2197,
    "start_time": "2023-04-19T05:42:53.601Z"
   },
   {
    "duration": 21,
    "start_time": "2023-04-19T05:42:56.598Z"
   },
   {
    "duration": 212,
    "start_time": "2023-04-19T05:42:58.201Z"
   },
   {
    "duration": 2465,
    "start_time": "2023-04-19T05:42:59.238Z"
   },
   {
    "duration": 2,
    "start_time": "2023-04-19T05:43:02.496Z"
   },
   {
    "duration": 3,
    "start_time": "2023-04-19T05:43:03.175Z"
   },
   {
    "duration": 32426,
    "start_time": "2023-04-19T05:43:04.910Z"
   },
   {
    "duration": 21,
    "start_time": "2023-04-19T05:43:44.545Z"
   },
   {
    "duration": 12,
    "start_time": "2023-04-19T05:43:45.420Z"
   },
   {
    "duration": 3,
    "start_time": "2023-04-19T05:43:47.719Z"
   },
   {
    "duration": 27,
    "start_time": "2023-04-19T05:43:48.559Z"
   },
   {
    "duration": 2,
    "start_time": "2023-04-19T05:43:51.239Z"
   },
   {
    "duration": 5,
    "start_time": "2023-04-19T05:43:52.028Z"
   },
   {
    "duration": 2,
    "start_time": "2023-04-19T05:43:53.054Z"
   },
   {
    "duration": 4853,
    "start_time": "2023-04-19T05:43:53.779Z"
   },
   {
    "duration": 2,
    "start_time": "2023-04-19T05:44:05.105Z"
   },
   {
    "duration": 4,
    "start_time": "2023-04-19T05:44:18.193Z"
   },
   {
    "duration": 32,
    "start_time": "2023-04-19T05:44:30.471Z"
   },
   {
    "duration": 3,
    "start_time": "2023-04-19T05:45:43.921Z"
   },
   {
    "duration": 1458,
    "start_time": "2023-04-19T05:45:45.824Z"
   },
   {
    "duration": 2,
    "start_time": "2023-04-19T05:45:48.671Z"
   },
   {
    "duration": 6,
    "start_time": "2023-04-19T05:45:50.111Z"
   },
   {
    "duration": 6,
    "start_time": "2023-04-19T05:58:50.031Z"
   },
   {
    "duration": 731,
    "start_time": "2023-04-19T05:58:52.210Z"
   },
   {
    "duration": 9,
    "start_time": "2023-04-19T05:58:53.925Z"
   },
   {
    "duration": 193,
    "start_time": "2023-04-19T05:58:56.075Z"
   },
   {
    "duration": 1554,
    "start_time": "2023-04-19T05:59:27.933Z"
   },
   {
    "duration": 2209,
    "start_time": "2023-04-19T05:59:31.731Z"
   },
   {
    "duration": 16,
    "start_time": "2023-04-19T05:59:34.716Z"
   },
   {
    "duration": 220,
    "start_time": "2023-04-19T05:59:36.701Z"
   },
   {
    "duration": 1797,
    "start_time": "2023-04-19T05:59:38.118Z"
   },
   {
    "duration": 51,
    "start_time": "2023-04-19T06:00:26.743Z"
   },
   {
    "duration": 3,
    "start_time": "2023-04-19T06:00:35.448Z"
   },
   {
    "duration": 4,
    "start_time": "2023-04-19T06:00:46.582Z"
   },
   {
    "duration": 122,
    "start_time": "2023-04-19T06:01:14.893Z"
   },
   {
    "duration": 2,
    "start_time": "2023-04-19T06:01:23.830Z"
   },
   {
    "duration": 3,
    "start_time": "2023-04-19T06:01:29.368Z"
   },
   {
    "duration": 4,
    "start_time": "2023-04-19T06:01:30.636Z"
   },
   {
    "duration": 1041,
    "start_time": "2023-04-19T06:01:31.380Z"
   },
   {
    "duration": 3,
    "start_time": "2023-04-19T06:01:59.415Z"
   },
   {
    "duration": 5253,
    "start_time": "2023-04-19T06:02:17.876Z"
   },
   {
    "duration": 20,
    "start_time": "2023-04-19T06:02:34.144Z"
   },
   {
    "duration": 18,
    "start_time": "2023-04-19T06:02:36.425Z"
   },
   {
    "duration": 2,
    "start_time": "2023-04-19T06:02:49.745Z"
   },
   {
    "duration": 27,
    "start_time": "2023-04-19T06:02:50.587Z"
   },
   {
    "duration": 2,
    "start_time": "2023-04-19T06:02:52.463Z"
   },
   {
    "duration": 3,
    "start_time": "2023-04-19T06:02:53.388Z"
   },
   {
    "duration": 2,
    "start_time": "2023-04-19T06:02:54.072Z"
   },
   {
    "duration": 4590,
    "start_time": "2023-04-19T06:02:54.680Z"
   },
   {
    "duration": 3,
    "start_time": "2023-04-19T06:03:18.924Z"
   },
   {
    "duration": 2,
    "start_time": "2023-04-19T06:03:20.702Z"
   },
   {
    "duration": 1341,
    "start_time": "2023-04-19T06:03:21.318Z"
   },
   {
    "duration": 2,
    "start_time": "2023-04-19T06:03:22.661Z"
   },
   {
    "duration": 6,
    "start_time": "2023-04-19T06:03:22.837Z"
   },
   {
    "duration": 3,
    "start_time": "2023-04-19T06:03:26.311Z"
   },
   {
    "duration": 13686,
    "start_time": "2023-04-19T06:03:28.561Z"
   },
   {
    "duration": 16,
    "start_time": "2023-04-19T06:03:55.364Z"
   },
   {
    "duration": 192227,
    "start_time": "2023-04-19T06:04:18.895Z"
   },
   {
    "duration": 3,
    "start_time": "2023-04-19T06:07:43.610Z"
   },
   {
    "duration": 115715,
    "start_time": "2023-04-19T06:07:44.773Z"
   },
   {
    "duration": 3280,
    "start_time": "2023-04-19T06:09:47.036Z"
   },
   {
    "duration": 3,
    "start_time": "2023-04-19T06:09:56.068Z"
   },
   {
    "duration": 1784,
    "start_time": "2023-04-19T06:21:14.329Z"
   },
   {
    "duration": 975,
    "start_time": "2023-04-19T06:21:18.041Z"
   },
   {
    "duration": 22,
    "start_time": "2023-04-19T06:21:20.029Z"
   },
   {
    "duration": 250,
    "start_time": "2023-04-19T06:21:21.841Z"
   },
   {
    "duration": 2121,
    "start_time": "2023-04-19T06:21:22.921Z"
   },
   {
    "duration": 3,
    "start_time": "2023-04-19T06:21:26.125Z"
   },
   {
    "duration": 4,
    "start_time": "2023-04-19T06:21:29.786Z"
   },
   {
    "duration": 5,
    "start_time": "2023-04-19T06:21:31.669Z"
   },
   {
    "duration": 4,
    "start_time": "2023-04-19T06:21:40.549Z"
   },
   {
    "duration": 4876,
    "start_time": "2023-04-19T06:21:44.341Z"
   },
   {
    "duration": 35,
    "start_time": "2023-04-19T06:21:52.462Z"
   },
   {
    "duration": 14,
    "start_time": "2023-04-19T06:21:53.672Z"
   },
   {
    "duration": 3,
    "start_time": "2023-04-19T06:22:00.155Z"
   },
   {
    "duration": 38,
    "start_time": "2023-04-19T06:22:01.569Z"
   },
   {
    "duration": 3,
    "start_time": "2023-04-19T06:22:03.237Z"
   },
   {
    "duration": 7,
    "start_time": "2023-04-19T06:22:03.861Z"
   },
   {
    "duration": 4,
    "start_time": "2023-04-19T06:22:04.578Z"
   },
   {
    "duration": 5921,
    "start_time": "2023-04-19T06:22:05.585Z"
   },
   {
    "duration": 2,
    "start_time": "2023-04-19T06:22:12.183Z"
   },
   {
    "duration": 4,
    "start_time": "2023-04-19T06:22:13.460Z"
   },
   {
    "duration": 1697,
    "start_time": "2023-04-19T06:22:14.950Z"
   },
   {
    "duration": 3,
    "start_time": "2023-04-19T06:22:17.357Z"
   },
   {
    "duration": 6,
    "start_time": "2023-04-19T06:22:18.657Z"
   },
   {
    "duration": 3,
    "start_time": "2023-04-19T06:22:21.391Z"
   },
   {
    "duration": 14515,
    "start_time": "2023-04-19T06:22:24.746Z"
   },
   {
    "duration": 28,
    "start_time": "2023-04-19T06:22:40.953Z"
   },
   {
    "duration": 57231,
    "start_time": "2023-04-19T06:22:48.830Z"
   },
   {
    "duration": 4,
    "start_time": "2023-04-19T06:24:08.233Z"
   },
   {
    "duration": 142500,
    "start_time": "2023-04-19T06:24:11.933Z"
   },
   {
    "duration": 3130,
    "start_time": "2023-04-19T06:26:48.710Z"
   },
   {
    "duration": 707,
    "start_time": "2023-04-19T06:27:23.330Z"
   },
   {
    "duration": 10,
    "start_time": "2023-04-19T06:27:24.837Z"
   },
   {
    "duration": 204,
    "start_time": "2023-04-19T06:27:26.363Z"
   },
   {
    "duration": 1918,
    "start_time": "2023-04-19T06:31:38.067Z"
   },
   {
    "duration": 2509,
    "start_time": "2023-04-19T06:31:42.054Z"
   },
   {
    "duration": 19,
    "start_time": "2023-04-19T06:31:45.263Z"
   },
   {
    "duration": 241,
    "start_time": "2023-04-19T06:31:47.057Z"
   },
   {
    "duration": 2106,
    "start_time": "2023-04-19T06:31:48.462Z"
   },
   {
    "duration": 3,
    "start_time": "2023-04-19T06:31:51.227Z"
   },
   {
    "duration": 4,
    "start_time": "2023-04-19T06:31:59.474Z"
   },
   {
    "duration": 4,
    "start_time": "2023-04-19T06:32:01.142Z"
   },
   {
    "duration": 5,
    "start_time": "2023-04-19T06:32:02.730Z"
   },
   {
    "duration": 7473,
    "start_time": "2023-04-19T06:32:05.838Z"
   },
   {
    "duration": 23,
    "start_time": "2023-04-19T06:32:15.819Z"
   },
   {
    "duration": 14,
    "start_time": "2023-04-19T06:32:16.642Z"
   },
   {
    "duration": 3,
    "start_time": "2023-04-19T06:32:20.430Z"
   },
   {
    "duration": 30,
    "start_time": "2023-04-19T06:32:21.052Z"
   },
   {
    "duration": 3,
    "start_time": "2023-04-19T06:32:23.122Z"
   },
   {
    "duration": 4,
    "start_time": "2023-04-19T06:32:23.838Z"
   },
   {
    "duration": 3,
    "start_time": "2023-04-19T06:32:24.634Z"
   },
   {
    "duration": 5386,
    "start_time": "2023-04-19T06:32:27.162Z"
   },
   {
    "duration": 3,
    "start_time": "2023-04-19T06:32:33.550Z"
   },
   {
    "duration": 3,
    "start_time": "2023-04-19T06:32:34.850Z"
   },
   {
    "duration": 1746,
    "start_time": "2023-04-19T06:32:35.681Z"
   },
   {
    "duration": 3,
    "start_time": "2023-04-19T06:32:39.660Z"
   },
   {
    "duration": 6,
    "start_time": "2023-04-19T06:32:40.762Z"
   },
   {
    "duration": 2,
    "start_time": "2023-04-19T06:32:51.980Z"
   },
   {
    "duration": 62098,
    "start_time": "2023-04-19T06:32:56.038Z"
   },
   {
    "duration": 20,
    "start_time": "2023-04-19T06:34:13.138Z"
   },
   {
    "duration": 231404,
    "start_time": "2023-04-19T06:34:22.730Z"
   },
   {
    "duration": 54986,
    "start_time": "2023-04-19T06:38:34.149Z"
   },
   {
    "duration": 18,
    "start_time": "2023-04-19T06:39:52.918Z"
   },
   {
    "duration": 12969,
    "start_time": "2023-04-19T06:40:01.304Z"
   },
   {
    "duration": 2022294,
    "start_time": "2023-04-19T06:40:28.413Z"
   },
   {
    "duration": 4,
    "start_time": "2023-04-19T07:14:49.718Z"
   },
   {
    "duration": 22937,
    "start_time": "2023-04-19T07:14:50.927Z"
   },
   {
    "duration": 1084,
    "start_time": "2023-04-19T07:15:17.971Z"
   },
   {
    "duration": 3,
    "start_time": "2023-04-19T07:15:27.366Z"
   },
   {
    "duration": 123110,
    "start_time": "2023-04-19T07:15:28.736Z"
   },
   {
    "duration": 5437,
    "start_time": "2023-04-19T07:18:06.552Z"
   },
   {
    "duration": 4,
    "start_time": "2023-04-19T07:18:21.872Z"
   },
   {
    "duration": 3318,
    "start_time": "2023-04-19T07:27:06.071Z"
   },
   {
    "duration": 3170,
    "start_time": "2023-04-19T07:27:09.391Z"
   },
   {
    "duration": 23,
    "start_time": "2023-04-19T07:27:12.565Z"
   },
   {
    "duration": 284,
    "start_time": "2023-04-19T07:27:12.590Z"
   },
   {
    "duration": 2209,
    "start_time": "2023-04-19T07:27:12.876Z"
   },
   {
    "duration": 10,
    "start_time": "2023-04-19T07:27:15.086Z"
   },
   {
    "duration": 11,
    "start_time": "2023-04-19T07:27:15.097Z"
   },
   {
    "duration": 7,
    "start_time": "2023-04-19T07:27:15.110Z"
   },
   {
    "duration": 14,
    "start_time": "2023-04-19T07:27:15.119Z"
   },
   {
    "duration": 9672,
    "start_time": "2023-04-19T07:27:15.135Z"
   },
   {
    "duration": 41,
    "start_time": "2023-04-19T07:27:24.809Z"
   },
   {
    "duration": 46,
    "start_time": "2023-04-19T07:27:24.853Z"
   },
   {
    "duration": 10,
    "start_time": "2023-04-19T07:27:24.901Z"
   },
   {
    "duration": 63,
    "start_time": "2023-04-19T07:27:24.916Z"
   },
   {
    "duration": 3,
    "start_time": "2023-04-19T07:27:24.982Z"
   },
   {
    "duration": 22,
    "start_time": "2023-04-19T07:27:24.988Z"
   },
   {
    "duration": 4,
    "start_time": "2023-04-19T07:27:25.013Z"
   },
   {
    "duration": 7208,
    "start_time": "2023-04-19T07:27:25.019Z"
   },
   {
    "duration": 8,
    "start_time": "2023-04-19T07:27:32.230Z"
   },
   {
    "duration": 45,
    "start_time": "2023-04-19T07:27:32.240Z"
   },
   {
    "duration": 2146,
    "start_time": "2023-04-19T07:27:32.289Z"
   },
   {
    "duration": 3,
    "start_time": "2023-04-19T07:27:34.440Z"
   },
   {
    "duration": 52,
    "start_time": "2023-04-19T07:27:34.445Z"
   },
   {
    "duration": 14,
    "start_time": "2023-04-19T07:27:34.499Z"
   },
   {
    "duration": 52580,
    "start_time": "2023-04-19T07:27:34.515Z"
   },
   {
    "duration": 13358,
    "start_time": "2023-04-19T07:28:27.097Z"
   },
   {
    "duration": 26,
    "start_time": "2023-04-19T07:28:40.457Z"
   },
   {
    "duration": 57770,
    "start_time": "2023-04-19T07:28:40.485Z"
   },
   {
    "duration": 3,
    "start_time": "2023-04-19T07:29:38.257Z"
   },
   {
    "duration": 1293,
    "start_time": "2023-04-19T07:29:38.264Z"
   },
   {
    "duration": 128,
    "start_time": "2023-04-19T07:29:39.562Z"
   },
   {
    "duration": 4,
    "start_time": "2023-04-19T07:29:52.079Z"
   },
   {
    "duration": 94,
    "start_time": "2023-04-19T07:29:52.084Z"
   },
   {
    "duration": 0,
    "start_time": "2023-04-19T07:29:52.179Z"
   },
   {
    "duration": 0,
    "start_time": "2023-04-19T07:29:52.181Z"
   },
   {
    "duration": 0,
    "start_time": "2023-04-19T07:29:52.182Z"
   },
   {
    "duration": 0,
    "start_time": "2023-04-19T07:29:52.184Z"
   },
   {
    "duration": 0,
    "start_time": "2023-04-19T07:29:52.185Z"
   },
   {
    "duration": 0,
    "start_time": "2023-04-19T07:29:52.186Z"
   },
   {
    "duration": 0,
    "start_time": "2023-04-19T07:29:52.188Z"
   },
   {
    "duration": 0,
    "start_time": "2023-04-19T07:29:52.189Z"
   },
   {
    "duration": 0,
    "start_time": "2023-04-19T07:29:52.192Z"
   },
   {
    "duration": 4,
    "start_time": "2023-04-19T07:29:54.373Z"
   },
   {
    "duration": 3445,
    "start_time": "2023-04-19T07:32:50.788Z"
   },
   {
    "duration": 3105,
    "start_time": "2023-04-19T07:32:55.571Z"
   },
   {
    "duration": 24,
    "start_time": "2023-04-19T07:32:59.355Z"
   },
   {
    "duration": 292,
    "start_time": "2023-04-19T07:33:00.902Z"
   },
   {
    "duration": 2342,
    "start_time": "2023-04-19T07:33:02.002Z"
   },
   {
    "duration": 4,
    "start_time": "2023-04-19T07:33:05.046Z"
   },
   {
    "duration": 16,
    "start_time": "2023-04-19T07:33:07.353Z"
   },
   {
    "duration": 10,
    "start_time": "2023-04-19T07:33:08.842Z"
   },
   {
    "duration": 5,
    "start_time": "2023-04-19T07:33:09.606Z"
   },
   {
    "duration": 9041,
    "start_time": "2023-04-19T07:33:10.364Z"
   },
   {
    "duration": 27,
    "start_time": "2023-04-19T07:33:19.407Z"
   },
   {
    "duration": 48,
    "start_time": "2023-04-19T07:33:19.435Z"
   },
   {
    "duration": 4,
    "start_time": "2023-04-19T07:33:22.602Z"
   },
   {
    "duration": 37,
    "start_time": "2023-04-19T07:33:23.202Z"
   },
   {
    "duration": 4,
    "start_time": "2023-04-19T07:33:25.264Z"
   },
   {
    "duration": 6,
    "start_time": "2023-04-19T07:33:25.875Z"
   },
   {
    "duration": 4,
    "start_time": "2023-04-19T07:33:26.457Z"
   },
   {
    "duration": 7215,
    "start_time": "2023-04-19T07:33:27.013Z"
   },
   {
    "duration": 7,
    "start_time": "2023-04-19T07:33:34.230Z"
   },
   {
    "duration": 2,
    "start_time": "2023-04-19T07:34:40.494Z"
   },
   {
    "duration": 2102,
    "start_time": "2023-04-19T07:34:41.589Z"
   },
   {
    "duration": 3,
    "start_time": "2023-04-19T07:34:45.764Z"
   },
   {
    "duration": 9,
    "start_time": "2023-04-19T07:34:47.018Z"
   },
   {
    "duration": 5,
    "start_time": "2023-04-19T07:35:00.248Z"
   },
   {
    "duration": 3273,
    "start_time": "2023-04-19T07:38:15.504Z"
   },
   {
    "duration": 2906,
    "start_time": "2023-04-19T07:38:20.495Z"
   },
   {
    "duration": 17,
    "start_time": "2023-04-19T07:38:24.455Z"
   },
   {
    "duration": 254,
    "start_time": "2023-04-19T07:38:26.247Z"
   },
   {
    "duration": 2119,
    "start_time": "2023-04-19T07:38:27.568Z"
   },
   {
    "duration": 2,
    "start_time": "2023-04-19T07:38:32.400Z"
   },
   {
    "duration": 7,
    "start_time": "2023-04-19T07:38:36.424Z"
   },
   {
    "duration": 3,
    "start_time": "2023-04-19T07:38:37.865Z"
   },
   {
    "duration": 6,
    "start_time": "2023-04-19T07:38:38.656Z"
   },
   {
    "duration": 8984,
    "start_time": "2023-04-19T07:38:39.882Z"
   },
   {
    "duration": 42,
    "start_time": "2023-04-19T07:38:49.959Z"
   },
   {
    "duration": 13,
    "start_time": "2023-04-19T07:38:52.986Z"
   },
   {
    "duration": 3,
    "start_time": "2023-04-19T07:38:56.527Z"
   },
   {
    "duration": 47,
    "start_time": "2023-04-19T07:38:57.566Z"
   },
   {
    "duration": 3248,
    "start_time": "2023-04-19T07:39:32.054Z"
   },
   {
    "duration": 3057,
    "start_time": "2023-04-19T07:39:35.304Z"
   },
   {
    "duration": 20,
    "start_time": "2023-04-19T07:39:38.363Z"
   },
   {
    "duration": 308,
    "start_time": "2023-04-19T07:39:38.385Z"
   },
   {
    "duration": 2349,
    "start_time": "2023-04-19T07:39:38.695Z"
   },
   {
    "duration": 17,
    "start_time": "2023-04-19T07:39:41.055Z"
   },
   {
    "duration": 6,
    "start_time": "2023-04-19T07:39:41.073Z"
   },
   {
    "duration": 6,
    "start_time": "2023-04-19T07:39:41.081Z"
   },
   {
    "duration": 24,
    "start_time": "2023-04-19T07:39:41.089Z"
   },
   {
    "duration": 9051,
    "start_time": "2023-04-19T07:39:41.116Z"
   },
   {
    "duration": 21,
    "start_time": "2023-04-19T07:39:50.169Z"
   },
   {
    "duration": 24,
    "start_time": "2023-04-19T07:39:50.192Z"
   },
   {
    "duration": 8,
    "start_time": "2023-04-19T07:39:50.217Z"
   },
   {
    "duration": 62,
    "start_time": "2023-04-19T07:39:50.227Z"
   },
   {
    "duration": 3933,
    "start_time": "2023-04-19T07:45:20.932Z"
   },
   {
    "duration": 4028,
    "start_time": "2023-04-19T07:45:24.873Z"
   },
   {
    "duration": 24,
    "start_time": "2023-04-19T07:45:28.903Z"
   },
   {
    "duration": 330,
    "start_time": "2023-04-19T07:45:28.931Z"
   },
   {
    "duration": 2511,
    "start_time": "2023-04-19T07:45:29.269Z"
   },
   {
    "duration": 8,
    "start_time": "2023-04-19T07:45:31.784Z"
   },
   {
    "duration": 9,
    "start_time": "2023-04-19T07:45:31.794Z"
   },
   {
    "duration": 12,
    "start_time": "2023-04-19T07:45:31.805Z"
   },
   {
    "duration": 59,
    "start_time": "2023-04-19T07:45:31.819Z"
   },
   {
    "duration": 10419,
    "start_time": "2023-04-19T07:45:31.882Z"
   },
   {
    "duration": 34,
    "start_time": "2023-04-19T07:45:42.303Z"
   },
   {
    "duration": 59,
    "start_time": "2023-04-19T07:45:42.339Z"
   },
   {
    "duration": 25,
    "start_time": "2023-04-19T07:45:42.400Z"
   },
   {
    "duration": 64,
    "start_time": "2023-04-19T07:45:42.426Z"
   },
   {
    "duration": 4533,
    "start_time": "2023-04-19T07:45:55.161Z"
   },
   {
    "duration": 3592,
    "start_time": "2023-04-19T07:45:59.697Z"
   },
   {
    "duration": 20,
    "start_time": "2023-04-19T07:46:03.291Z"
   },
   {
    "duration": 294,
    "start_time": "2023-04-19T07:46:03.313Z"
   },
   {
    "duration": 2352,
    "start_time": "2023-04-19T07:46:03.610Z"
   },
   {
    "duration": 11,
    "start_time": "2023-04-19T07:46:05.973Z"
   },
   {
    "duration": 14,
    "start_time": "2023-04-19T07:46:05.986Z"
   },
   {
    "duration": 8,
    "start_time": "2023-04-19T07:46:06.002Z"
   },
   {
    "duration": 35,
    "start_time": "2023-04-19T07:46:06.012Z"
   },
   {
    "duration": 9763,
    "start_time": "2023-04-19T07:46:06.049Z"
   },
   {
    "duration": 40,
    "start_time": "2023-04-19T07:46:15.815Z"
   },
   {
    "duration": 50,
    "start_time": "2023-04-19T07:46:15.857Z"
   },
   {
    "duration": 8,
    "start_time": "2023-04-19T07:46:15.909Z"
   },
   {
    "duration": 62,
    "start_time": "2023-04-19T07:46:15.922Z"
   },
   {
    "duration": 10,
    "start_time": "2023-04-19T07:46:15.987Z"
   },
   {
    "duration": 21,
    "start_time": "2023-04-19T07:46:16.000Z"
   },
   {
    "duration": 43,
    "start_time": "2023-04-19T07:46:16.024Z"
   },
   {
    "duration": 7449,
    "start_time": "2023-04-19T07:46:16.069Z"
   },
   {
    "duration": 3,
    "start_time": "2023-04-19T07:46:23.521Z"
   },
   {
    "duration": 38,
    "start_time": "2023-04-19T07:46:23.535Z"
   },
   {
    "duration": 2219,
    "start_time": "2023-04-19T07:46:23.575Z"
   },
   {
    "duration": 3,
    "start_time": "2023-04-19T07:46:25.796Z"
   },
   {
    "duration": 17,
    "start_time": "2023-04-19T07:46:25.801Z"
   },
   {
    "duration": 7,
    "start_time": "2023-04-19T07:46:25.820Z"
   },
   {
    "duration": 10828,
    "start_time": "2023-04-19T07:46:25.841Z"
   },
   {
    "duration": 0,
    "start_time": "2023-04-19T07:46:36.678Z"
   },
   {
    "duration": 0,
    "start_time": "2023-04-19T07:46:36.680Z"
   },
   {
    "duration": 0,
    "start_time": "2023-04-19T07:46:36.682Z"
   },
   {
    "duration": 0,
    "start_time": "2023-04-19T07:46:36.683Z"
   },
   {
    "duration": 0,
    "start_time": "2023-04-19T07:46:36.685Z"
   },
   {
    "duration": 0,
    "start_time": "2023-04-19T07:46:36.687Z"
   },
   {
    "duration": 0,
    "start_time": "2023-04-19T07:46:36.689Z"
   },
   {
    "duration": 0,
    "start_time": "2023-04-19T07:46:36.691Z"
   },
   {
    "duration": 0,
    "start_time": "2023-04-19T07:46:36.692Z"
   },
   {
    "duration": 0,
    "start_time": "2023-04-19T07:46:36.694Z"
   },
   {
    "duration": 0,
    "start_time": "2023-04-19T07:46:36.695Z"
   },
   {
    "duration": 0,
    "start_time": "2023-04-19T07:46:36.697Z"
   },
   {
    "duration": 0,
    "start_time": "2023-04-19T07:46:36.699Z"
   },
   {
    "duration": 0,
    "start_time": "2023-04-19T07:46:36.700Z"
   },
   {
    "duration": 0,
    "start_time": "2023-04-19T07:46:36.701Z"
   },
   {
    "duration": 0,
    "start_time": "2023-04-19T07:46:36.703Z"
   },
   {
    "duration": 0,
    "start_time": "2023-04-19T07:46:36.739Z"
   },
   {
    "duration": 0,
    "start_time": "2023-04-19T07:46:36.741Z"
   },
   {
    "duration": 13205,
    "start_time": "2023-04-19T07:46:44.573Z"
   },
   {
    "duration": 3,
    "start_time": "2023-04-19T07:46:57.780Z"
   },
   {
    "duration": 13658,
    "start_time": "2023-04-19T07:47:00.622Z"
   },
   {
    "duration": 32,
    "start_time": "2023-04-19T07:47:16.547Z"
   },
   {
    "duration": 4,
    "start_time": "2023-04-19T07:47:33.269Z"
   },
   {
    "duration": 3799,
    "start_time": "2023-04-19T08:05:25.730Z"
   },
   {
    "duration": 3568,
    "start_time": "2023-04-19T08:05:31.410Z"
   },
   {
    "duration": 26,
    "start_time": "2023-04-19T08:05:35.760Z"
   },
   {
    "duration": 300,
    "start_time": "2023-04-19T08:05:38.075Z"
   },
   {
    "duration": 2410,
    "start_time": "2023-04-19T08:05:39.376Z"
   },
   {
    "duration": 2,
    "start_time": "2023-04-19T08:05:43.757Z"
   },
   {
    "duration": 3,
    "start_time": "2023-04-19T08:05:47.468Z"
   },
   {
    "duration": 4,
    "start_time": "2023-04-19T08:05:48.383Z"
   },
   {
    "duration": 5,
    "start_time": "2023-04-19T08:05:49.226Z"
   },
   {
    "duration": 9235,
    "start_time": "2023-04-19T08:05:50.878Z"
   },
   {
    "duration": 31,
    "start_time": "2023-04-19T08:06:01.158Z"
   },
   {
    "duration": 15,
    "start_time": "2023-04-19T08:06:03.371Z"
   },
   {
    "duration": 7,
    "start_time": "2023-04-19T08:06:08.176Z"
   },
   {
    "duration": 51,
    "start_time": "2023-04-19T08:06:09.059Z"
   },
   {
    "duration": 7,
    "start_time": "2023-04-19T08:06:15.563Z"
   },
   {
    "duration": 13,
    "start_time": "2023-04-19T08:06:24.076Z"
   },
   {
    "duration": 4,
    "start_time": "2023-04-19T08:06:36.093Z"
   },
   {
    "duration": 6,
    "start_time": "2023-04-19T08:06:42.623Z"
   },
   {
    "duration": 6,
    "start_time": "2023-04-19T08:06:52.351Z"
   },
   {
    "duration": 3283,
    "start_time": "2023-04-19T08:07:55.860Z"
   },
   {
    "duration": 3129,
    "start_time": "2023-04-19T08:07:59.149Z"
   },
   {
    "duration": 19,
    "start_time": "2023-04-19T08:08:02.279Z"
   },
   {
    "duration": 298,
    "start_time": "2023-04-19T08:08:02.299Z"
   },
   {
    "duration": 2365,
    "start_time": "2023-04-19T08:08:02.600Z"
   },
   {
    "duration": 15,
    "start_time": "2023-04-19T08:08:04.967Z"
   },
   {
    "duration": 8,
    "start_time": "2023-04-19T08:08:04.983Z"
   },
   {
    "duration": 20,
    "start_time": "2023-04-19T08:08:04.992Z"
   },
   {
    "duration": 15,
    "start_time": "2023-04-19T08:08:05.014Z"
   },
   {
    "duration": 7912,
    "start_time": "2023-04-19T08:08:05.031Z"
   },
   {
    "duration": 28,
    "start_time": "2023-04-19T08:08:12.945Z"
   },
   {
    "duration": 14,
    "start_time": "2023-04-19T08:08:12.975Z"
   },
   {
    "duration": 18,
    "start_time": "2023-04-19T08:08:12.991Z"
   },
   {
    "duration": 55,
    "start_time": "2023-04-19T08:08:13.013Z"
   },
   {
    "duration": 3,
    "start_time": "2023-04-19T08:08:13.070Z"
   },
   {
    "duration": 7,
    "start_time": "2023-04-19T08:08:13.076Z"
   },
   {
    "duration": 19,
    "start_time": "2023-04-19T08:08:13.084Z"
   },
   {
    "duration": 5775,
    "start_time": "2023-04-19T08:08:13.105Z"
   },
   {
    "duration": 3,
    "start_time": "2023-04-19T08:08:18.881Z"
   },
   {
    "duration": 8,
    "start_time": "2023-04-19T08:08:18.886Z"
   },
   {
    "duration": 1747,
    "start_time": "2023-04-19T08:08:18.895Z"
   },
   {
    "duration": 3,
    "start_time": "2023-04-19T08:08:20.653Z"
   },
   {
    "duration": 13,
    "start_time": "2023-04-19T08:08:20.658Z"
   },
   {
    "duration": 3,
    "start_time": "2023-04-19T08:08:20.673Z"
   },
   {
    "duration": 18172,
    "start_time": "2023-04-19T08:08:20.678Z"
   },
   {
    "duration": 13932,
    "start_time": "2023-04-19T08:08:38.854Z"
   },
   {
    "duration": 0,
    "start_time": "2023-04-19T08:08:52.790Z"
   },
   {
    "duration": 1,
    "start_time": "2023-04-19T08:08:52.792Z"
   },
   {
    "duration": 0,
    "start_time": "2023-04-19T08:08:52.795Z"
   },
   {
    "duration": 0,
    "start_time": "2023-04-19T08:08:52.796Z"
   },
   {
    "duration": 0,
    "start_time": "2023-04-19T08:08:52.797Z"
   },
   {
    "duration": 0,
    "start_time": "2023-04-19T08:08:52.798Z"
   },
   {
    "duration": 0,
    "start_time": "2023-04-19T08:08:52.799Z"
   },
   {
    "duration": 0,
    "start_time": "2023-04-19T08:08:52.800Z"
   },
   {
    "duration": 0,
    "start_time": "2023-04-19T08:08:52.801Z"
   },
   {
    "duration": 0,
    "start_time": "2023-04-19T08:08:52.802Z"
   },
   {
    "duration": 0,
    "start_time": "2023-04-19T08:08:52.803Z"
   },
   {
    "duration": 0,
    "start_time": "2023-04-19T08:08:52.804Z"
   },
   {
    "duration": 0,
    "start_time": "2023-04-19T08:08:52.806Z"
   },
   {
    "duration": 0,
    "start_time": "2023-04-19T08:08:52.807Z"
   },
   {
    "duration": 0,
    "start_time": "2023-04-19T08:08:52.808Z"
   },
   {
    "duration": 0,
    "start_time": "2023-04-19T08:08:52.838Z"
   },
   {
    "duration": 0,
    "start_time": "2023-04-19T08:08:52.842Z"
   },
   {
    "duration": 9,
    "start_time": "2023-04-19T08:24:24.857Z"
   },
   {
    "duration": 1080,
    "start_time": "2023-04-19T08:24:26.678Z"
   },
   {
    "duration": 21,
    "start_time": "2023-04-19T08:24:28.425Z"
   },
   {
    "duration": 302,
    "start_time": "2023-04-19T08:24:30.000Z"
   },
   {
    "duration": 3659,
    "start_time": "2023-04-19T08:24:47.019Z"
   },
   {
    "duration": 3333,
    "start_time": "2023-04-19T08:24:52.761Z"
   },
   {
    "duration": 17,
    "start_time": "2023-04-19T08:24:56.899Z"
   },
   {
    "duration": 277,
    "start_time": "2023-04-19T08:24:58.606Z"
   },
   {
    "duration": 2313,
    "start_time": "2023-04-19T08:24:59.967Z"
   },
   {
    "duration": 4,
    "start_time": "2023-04-19T08:25:03.213Z"
   },
   {
    "duration": 6,
    "start_time": "2023-04-19T08:25:04.752Z"
   },
   {
    "duration": 5,
    "start_time": "2023-04-19T08:25:06.127Z"
   },
   {
    "duration": 5,
    "start_time": "2023-04-19T08:25:07.672Z"
   },
   {
    "duration": 8518,
    "start_time": "2023-04-19T08:25:09.266Z"
   },
   {
    "duration": 22,
    "start_time": "2023-04-19T08:25:19.479Z"
   },
   {
    "duration": 14,
    "start_time": "2023-04-19T08:25:20.357Z"
   },
   {
    "duration": 20,
    "start_time": "2023-04-19T08:25:23.783Z"
   },
   {
    "duration": 3348,
    "start_time": "2023-04-19T08:26:13.984Z"
   },
   {
    "duration": 2930,
    "start_time": "2023-04-19T08:26:17.335Z"
   },
   {
    "duration": 30,
    "start_time": "2023-04-19T08:26:20.268Z"
   },
   {
    "duration": 283,
    "start_time": "2023-04-19T08:26:20.301Z"
   },
   {
    "duration": 2347,
    "start_time": "2023-04-19T08:26:20.586Z"
   },
   {
    "duration": 51,
    "start_time": "2023-04-19T08:26:22.936Z"
   },
   {
    "duration": 8,
    "start_time": "2023-04-19T08:26:22.990Z"
   },
   {
    "duration": 21,
    "start_time": "2023-04-19T08:26:23.000Z"
   },
   {
    "duration": 8,
    "start_time": "2023-04-19T08:26:23.023Z"
   },
   {
    "duration": 9066,
    "start_time": "2023-04-19T08:26:23.034Z"
   },
   {
    "duration": 24,
    "start_time": "2023-04-19T08:26:32.102Z"
   },
   {
    "duration": 54,
    "start_time": "2023-04-19T08:26:32.134Z"
   },
   {
    "duration": 3596,
    "start_time": "2023-04-19T08:27:14.454Z"
   },
   {
    "duration": 3429,
    "start_time": "2023-04-19T08:27:18.053Z"
   },
   {
    "duration": 19,
    "start_time": "2023-04-19T08:27:21.484Z"
   },
   {
    "duration": 302,
    "start_time": "2023-04-19T08:27:21.505Z"
   },
   {
    "duration": 2416,
    "start_time": "2023-04-19T08:27:21.809Z"
   },
   {
    "duration": 15,
    "start_time": "2023-04-19T08:27:24.227Z"
   },
   {
    "duration": 30,
    "start_time": "2023-04-19T08:27:24.250Z"
   },
   {
    "duration": 14,
    "start_time": "2023-04-19T08:27:24.282Z"
   },
   {
    "duration": 12,
    "start_time": "2023-04-19T08:27:24.298Z"
   },
   {
    "duration": 9169,
    "start_time": "2023-04-19T08:27:24.313Z"
   },
   {
    "duration": 23,
    "start_time": "2023-04-19T08:27:33.484Z"
   },
   {
    "duration": 43,
    "start_time": "2023-04-19T08:27:33.509Z"
   },
   {
    "duration": 102,
    "start_time": "2023-04-19T08:27:33.554Z"
   },
   {
    "duration": 53,
    "start_time": "2023-04-19T08:27:33.658Z"
   },
   {
    "duration": 2,
    "start_time": "2023-04-19T08:27:33.713Z"
   },
   {
    "duration": 9,
    "start_time": "2023-04-19T08:27:33.717Z"
   },
   {
    "duration": 38,
    "start_time": "2023-04-19T08:27:33.728Z"
   },
   {
    "duration": 6311,
    "start_time": "2023-04-19T08:27:33.768Z"
   },
   {
    "duration": 0,
    "start_time": "2023-04-19T08:27:40.082Z"
   },
   {
    "duration": 0,
    "start_time": "2023-04-19T08:27:40.084Z"
   },
   {
    "duration": 0,
    "start_time": "2023-04-19T08:27:40.085Z"
   },
   {
    "duration": 0,
    "start_time": "2023-04-19T08:27:40.087Z"
   },
   {
    "duration": 0,
    "start_time": "2023-04-19T08:27:40.089Z"
   },
   {
    "duration": 0,
    "start_time": "2023-04-19T08:27:40.090Z"
   },
   {
    "duration": 0,
    "start_time": "2023-04-19T08:27:40.091Z"
   },
   {
    "duration": 0,
    "start_time": "2023-04-19T08:27:40.094Z"
   },
   {
    "duration": 0,
    "start_time": "2023-04-19T08:27:40.095Z"
   },
   {
    "duration": 0,
    "start_time": "2023-04-19T08:27:40.096Z"
   },
   {
    "duration": 0,
    "start_time": "2023-04-19T08:27:40.098Z"
   },
   {
    "duration": 0,
    "start_time": "2023-04-19T08:27:40.100Z"
   },
   {
    "duration": 0,
    "start_time": "2023-04-19T08:27:40.101Z"
   },
   {
    "duration": 0,
    "start_time": "2023-04-19T08:27:40.103Z"
   },
   {
    "duration": 0,
    "start_time": "2023-04-19T08:27:40.104Z"
   },
   {
    "duration": 0,
    "start_time": "2023-04-19T08:27:40.107Z"
   },
   {
    "duration": 0,
    "start_time": "2023-04-19T08:27:40.108Z"
   },
   {
    "duration": 0,
    "start_time": "2023-04-19T08:27:40.110Z"
   },
   {
    "duration": 0,
    "start_time": "2023-04-19T08:27:40.111Z"
   },
   {
    "duration": 0,
    "start_time": "2023-04-19T08:27:40.112Z"
   },
   {
    "duration": 0,
    "start_time": "2023-04-19T08:27:40.114Z"
   },
   {
    "duration": 0,
    "start_time": "2023-04-19T08:27:40.115Z"
   },
   {
    "duration": 0,
    "start_time": "2023-04-19T08:27:40.141Z"
   },
   {
    "duration": 0,
    "start_time": "2023-04-19T08:27:40.141Z"
   },
   {
    "duration": 0,
    "start_time": "2023-04-19T08:27:40.142Z"
   },
   {
    "duration": 4,
    "start_time": "2023-04-19T08:27:55.827Z"
   },
   {
    "duration": 5,
    "start_time": "2023-04-19T08:28:00.695Z"
   },
   {
    "duration": 2052,
    "start_time": "2023-04-19T08:28:27.628Z"
   },
   {
    "duration": 1118,
    "start_time": "2023-04-19T08:28:29.683Z"
   },
   {
    "duration": 19,
    "start_time": "2023-04-19T08:28:30.803Z"
   },
   {
    "duration": 333,
    "start_time": "2023-04-19T08:28:30.824Z"
   },
   {
    "duration": 2352,
    "start_time": "2023-04-19T08:28:31.163Z"
   },
   {
    "duration": 15,
    "start_time": "2023-04-19T08:28:33.517Z"
   },
   {
    "duration": 26,
    "start_time": "2023-04-19T08:28:33.543Z"
   },
   {
    "duration": 21,
    "start_time": "2023-04-19T08:28:33.571Z"
   },
   {
    "duration": 12,
    "start_time": "2023-04-19T08:28:33.594Z"
   },
   {
    "duration": 8908,
    "start_time": "2023-04-19T08:28:33.609Z"
   },
   {
    "duration": 41,
    "start_time": "2023-04-19T08:28:42.519Z"
   },
   {
    "duration": 29,
    "start_time": "2023-04-19T08:28:42.563Z"
   },
   {
    "duration": 10,
    "start_time": "2023-04-19T08:28:42.594Z"
   },
   {
    "duration": 7,
    "start_time": "2023-04-19T08:28:42.606Z"
   },
   {
    "duration": 73,
    "start_time": "2023-04-19T08:28:42.616Z"
   },
   {
    "duration": 3,
    "start_time": "2023-04-19T08:28:42.691Z"
   },
   {
    "duration": 6,
    "start_time": "2023-04-19T08:28:42.696Z"
   },
   {
    "duration": 10,
    "start_time": "2023-04-19T08:28:42.704Z"
   },
   {
    "duration": 7111,
    "start_time": "2023-04-19T08:28:42.717Z"
   },
   {
    "duration": 5,
    "start_time": "2023-04-19T08:28:49.831Z"
   },
   {
    "duration": 57,
    "start_time": "2023-04-19T08:28:49.838Z"
   },
   {
    "duration": 2327,
    "start_time": "2023-04-19T08:28:49.897Z"
   },
   {
    "duration": 4,
    "start_time": "2023-04-19T08:28:52.225Z"
   },
   {
    "duration": 64,
    "start_time": "2023-04-19T08:28:52.233Z"
   },
   {
    "duration": 5,
    "start_time": "2023-04-19T08:28:52.299Z"
   },
   {
    "duration": 9609,
    "start_time": "2023-04-19T08:28:52.306Z"
   },
   {
    "duration": 13556,
    "start_time": "2023-04-19T08:29:01.917Z"
   },
   {
    "duration": 0,
    "start_time": "2023-04-19T08:29:15.475Z"
   },
   {
    "duration": 0,
    "start_time": "2023-04-19T08:29:15.477Z"
   },
   {
    "duration": 0,
    "start_time": "2023-04-19T08:29:15.478Z"
   },
   {
    "duration": 0,
    "start_time": "2023-04-19T08:29:15.480Z"
   },
   {
    "duration": 0,
    "start_time": "2023-04-19T08:29:15.481Z"
   },
   {
    "duration": 0,
    "start_time": "2023-04-19T08:29:15.482Z"
   },
   {
    "duration": 0,
    "start_time": "2023-04-19T08:29:15.483Z"
   },
   {
    "duration": 0,
    "start_time": "2023-04-19T08:29:15.485Z"
   },
   {
    "duration": 0,
    "start_time": "2023-04-19T08:29:15.485Z"
   },
   {
    "duration": 0,
    "start_time": "2023-04-19T08:29:15.487Z"
   },
   {
    "duration": 0,
    "start_time": "2023-04-19T08:29:15.488Z"
   },
   {
    "duration": 0,
    "start_time": "2023-04-19T08:29:15.489Z"
   },
   {
    "duration": 0,
    "start_time": "2023-04-19T08:29:15.491Z"
   },
   {
    "duration": 0,
    "start_time": "2023-04-19T08:29:15.492Z"
   },
   {
    "duration": 0,
    "start_time": "2023-04-19T08:29:15.493Z"
   },
   {
    "duration": 0,
    "start_time": "2023-04-19T08:29:15.494Z"
   },
   {
    "duration": 0,
    "start_time": "2023-04-19T08:29:15.495Z"
   },
   {
    "duration": 85,
    "start_time": "2023-04-19T08:29:26.613Z"
   },
   {
    "duration": 3,
    "start_time": "2023-04-19T08:29:28.593Z"
   },
   {
    "duration": 84,
    "start_time": "2023-04-19T08:29:37.884Z"
   },
   {
    "duration": 4,
    "start_time": "2023-04-19T08:29:40.298Z"
   },
   {
    "duration": 81,
    "start_time": "2023-04-19T08:31:14.117Z"
   },
   {
    "duration": 3747,
    "start_time": "2023-04-19T08:31:26.657Z"
   },
   {
    "duration": 3125,
    "start_time": "2023-04-19T08:31:30.407Z"
   },
   {
    "duration": 28,
    "start_time": "2023-04-19T08:31:33.541Z"
   },
   {
    "duration": 309,
    "start_time": "2023-04-19T08:31:33.572Z"
   },
   {
    "duration": 2359,
    "start_time": "2023-04-19T08:31:33.885Z"
   },
   {
    "duration": 26,
    "start_time": "2023-04-19T08:31:36.248Z"
   },
   {
    "duration": 8,
    "start_time": "2023-04-19T08:31:36.276Z"
   },
   {
    "duration": 8,
    "start_time": "2023-04-19T08:31:36.286Z"
   },
   {
    "duration": 7,
    "start_time": "2023-04-19T08:31:36.295Z"
   },
   {
    "duration": 8864,
    "start_time": "2023-04-19T08:31:36.303Z"
   },
   {
    "duration": 24,
    "start_time": "2023-04-19T08:31:45.169Z"
   },
   {
    "duration": 16,
    "start_time": "2023-04-19T08:31:45.194Z"
   },
   {
    "duration": 5,
    "start_time": "2023-04-19T08:31:45.212Z"
   },
   {
    "duration": 60,
    "start_time": "2023-04-19T08:31:45.220Z"
   },
   {
    "duration": 3,
    "start_time": "2023-04-19T08:31:45.282Z"
   },
   {
    "duration": 9,
    "start_time": "2023-04-19T08:31:45.287Z"
   },
   {
    "duration": 12,
    "start_time": "2023-04-19T08:31:45.298Z"
   },
   {
    "duration": 6447,
    "start_time": "2023-04-19T08:31:45.312Z"
   },
   {
    "duration": 3,
    "start_time": "2023-04-19T08:31:51.761Z"
   },
   {
    "duration": 27,
    "start_time": "2023-04-19T08:31:51.766Z"
   },
   {
    "duration": 2124,
    "start_time": "2023-04-19T08:31:51.795Z"
   },
   {
    "duration": 3,
    "start_time": "2023-04-19T08:31:53.921Z"
   },
   {
    "duration": 10,
    "start_time": "2023-04-19T08:31:53.935Z"
   },
   {
    "duration": 3,
    "start_time": "2023-04-19T08:32:32.873Z"
   },
   {
    "duration": 13006,
    "start_time": "2023-04-19T08:32:37.267Z"
   },
   {
    "duration": 44,
    "start_time": "2023-04-19T08:32:53.632Z"
   },
   {
    "duration": 3,
    "start_time": "2023-04-19T08:33:26.224Z"
   },
   {
    "duration": 21809,
    "start_time": "2023-04-19T08:33:28.807Z"
   },
   {
    "duration": 20,
    "start_time": "2023-04-19T08:33:53.575Z"
   },
   {
    "duration": 4,
    "start_time": "2023-04-19T08:34:00.453Z"
   },
   {
    "duration": 51845,
    "start_time": "2023-04-19T08:34:05.315Z"
   },
   {
    "duration": 20,
    "start_time": "2023-04-19T08:36:02.561Z"
   },
   {
    "duration": 4,
    "start_time": "2023-04-19T08:36:29.066Z"
   },
   {
    "duration": 2690,
    "start_time": "2023-04-19T08:36:31.562Z"
   },
   {
    "duration": 26,
    "start_time": "2023-04-19T08:36:42.058Z"
   },
   {
    "duration": 3,
    "start_time": "2023-04-19T08:36:56.057Z"
   },
   {
    "duration": 13248,
    "start_time": "2023-04-19T08:36:59.923Z"
   },
   {
    "duration": 26,
    "start_time": "2023-04-19T08:43:09.535Z"
   },
   {
    "duration": 2028,
    "start_time": "2023-04-19T09:15:07.662Z"
   },
   {
    "duration": 980,
    "start_time": "2023-04-19T09:15:09.692Z"
   },
   {
    "duration": 24,
    "start_time": "2023-04-19T09:15:10.674Z"
   },
   {
    "duration": 283,
    "start_time": "2023-04-19T09:15:10.700Z"
   },
   {
    "duration": 2,
    "start_time": "2023-04-19T09:15:10.985Z"
   },
   {
    "duration": 5,
    "start_time": "2023-04-19T09:15:10.989Z"
   },
   {
    "duration": 9,
    "start_time": "2023-04-19T09:15:10.995Z"
   },
   {
    "duration": 9,
    "start_time": "2023-04-19T09:15:11.005Z"
   },
   {
    "duration": 6,
    "start_time": "2023-04-19T09:15:11.015Z"
   },
   {
    "duration": 5244,
    "start_time": "2023-04-19T09:15:11.035Z"
   },
   {
    "duration": 24,
    "start_time": "2023-04-19T09:15:16.280Z"
   },
   {
    "duration": 28,
    "start_time": "2023-04-19T09:15:16.305Z"
   },
   {
    "duration": 38,
    "start_time": "2023-04-19T09:15:16.335Z"
   },
   {
    "duration": 38,
    "start_time": "2023-04-19T09:15:16.375Z"
   },
   {
    "duration": 2,
    "start_time": "2023-04-19T09:15:16.415Z"
   },
   {
    "duration": 5,
    "start_time": "2023-04-19T09:15:16.419Z"
   },
   {
    "duration": 4,
    "start_time": "2023-04-19T09:15:16.426Z"
   },
   {
    "duration": 6785,
    "start_time": "2023-04-19T09:15:16.432Z"
   },
   {
    "duration": 4,
    "start_time": "2023-04-19T09:15:23.219Z"
   },
   {
    "duration": 9,
    "start_time": "2023-04-19T09:15:23.224Z"
   },
   {
    "duration": 1880,
    "start_time": "2023-04-19T09:15:23.235Z"
   },
   {
    "duration": 3,
    "start_time": "2023-04-19T09:15:25.117Z"
   },
   {
    "duration": 17,
    "start_time": "2023-04-19T09:15:25.122Z"
   },
   {
    "duration": 29,
    "start_time": "2023-04-19T09:15:25.141Z"
   },
   {
    "duration": 55794,
    "start_time": "2023-04-19T09:15:25.172Z"
   },
   {
    "duration": 13318,
    "start_time": "2023-04-19T09:16:20.968Z"
   },
   {
    "duration": 17,
    "start_time": "2023-04-19T09:16:34.288Z"
   },
   {
    "duration": 341502,
    "start_time": "2023-04-19T09:16:34.309Z"
   },
   {
    "duration": 3,
    "start_time": "2023-04-19T09:22:15.813Z"
   },
   {
    "duration": 1431,
    "start_time": "2023-04-19T09:22:15.818Z"
   },
   {
    "duration": 185,
    "start_time": "2023-04-19T09:22:17.254Z"
   },
   {
    "duration": 16263,
    "start_time": "2023-04-19T09:22:17.442Z"
   },
   {
    "duration": 3,
    "start_time": "2023-04-19T09:22:33.706Z"
   },
   {
    "duration": 97844,
    "start_time": "2023-04-19T09:22:33.710Z"
   },
   {
    "duration": 16,
    "start_time": "2023-04-19T09:24:11.557Z"
   },
   {
    "duration": 0,
    "start_time": "2023-04-19T09:24:11.576Z"
   },
   {
    "duration": 0,
    "start_time": "2023-04-19T09:24:11.577Z"
   },
   {
    "duration": 0,
    "start_time": "2023-04-19T09:24:11.579Z"
   },
   {
    "duration": 0,
    "start_time": "2023-04-19T09:24:11.580Z"
   },
   {
    "duration": 0,
    "start_time": "2023-04-19T09:24:11.581Z"
   },
   {
    "duration": 0,
    "start_time": "2023-04-19T09:24:11.583Z"
   },
   {
    "duration": 0,
    "start_time": "2023-04-19T09:24:11.585Z"
   },
   {
    "duration": 0,
    "start_time": "2023-04-19T09:24:11.589Z"
   },
   {
    "duration": 4,
    "start_time": "2023-04-19T09:24:24.587Z"
   },
   {
    "duration": 1043629,
    "start_time": "2023-04-19T09:24:27.006Z"
   },
   {
    "duration": 880,
    "start_time": "2023-04-19T09:46:17.568Z"
   },
   {
    "duration": 3,
    "start_time": "2023-04-19T09:46:35.322Z"
   },
   {
    "duration": 59050,
    "start_time": "2023-04-19T09:46:38.609Z"
   },
   {
    "duration": 834,
    "start_time": "2023-04-19T09:50:07.669Z"
   },
   {
    "duration": 4,
    "start_time": "2023-04-19T09:50:23.487Z"
   },
   {
    "duration": 186311,
    "start_time": "2023-04-19T09:50:26.955Z"
   },
   {
    "duration": 854,
    "start_time": "2023-04-19T09:55:23.228Z"
   },
   {
    "duration": 1198,
    "start_time": "2023-04-19T09:55:38.424Z"
   },
   {
    "duration": 6,
    "start_time": "2023-04-19T09:57:58.677Z"
   },
   {
    "duration": 1477,
    "start_time": "2023-04-19T09:58:03.821Z"
   },
   {
    "duration": 2,
    "start_time": "2023-04-19T09:58:13.859Z"
   },
   {
    "duration": 184976,
    "start_time": "2023-04-19T09:58:16.411Z"
   },
   {
    "duration": 1375,
    "start_time": "2023-04-19T10:02:35.605Z"
   },
   {
    "duration": 4,
    "start_time": "2023-04-19T10:02:49.758Z"
   },
   {
    "duration": 1970,
    "start_time": "2023-04-19T10:03:15.050Z"
   },
   {
    "duration": 1103,
    "start_time": "2023-04-19T10:03:19.094Z"
   },
   {
    "duration": 20,
    "start_time": "2023-04-19T10:03:20.887Z"
   },
   {
    "duration": 321,
    "start_time": "2023-04-19T10:03:22.810Z"
   },
   {
    "duration": 3,
    "start_time": "2023-04-19T10:03:23.997Z"
   },
   {
    "duration": 3,
    "start_time": "2023-04-19T10:03:25.920Z"
   },
   {
    "duration": 7,
    "start_time": "2023-04-19T10:03:27.556Z"
   },
   {
    "duration": 5,
    "start_time": "2023-04-19T10:03:30.296Z"
   },
   {
    "duration": 152,
    "start_time": "2023-04-19T10:03:31.692Z"
   },
   {
    "duration": 109,
    "start_time": "2023-04-19T10:03:41.870Z"
   },
   {
    "duration": 44070,
    "start_time": "2023-04-19T10:03:56.149Z"
   },
   {
    "duration": 28,
    "start_time": "2023-04-19T10:04:47.657Z"
   },
   {
    "duration": 13,
    "start_time": "2023-04-19T10:04:50.186Z"
   },
   {
    "duration": 3,
    "start_time": "2023-04-19T10:04:58.398Z"
   },
   {
    "duration": 34,
    "start_time": "2023-04-19T10:04:58.971Z"
   },
   {
    "duration": 3,
    "start_time": "2023-04-19T10:05:00.295Z"
   },
   {
    "duration": 5,
    "start_time": "2023-04-19T10:05:01.459Z"
   },
   {
    "duration": 4,
    "start_time": "2023-04-19T10:05:02.153Z"
   },
   {
    "duration": 6776,
    "start_time": "2023-04-19T10:05:02.833Z"
   },
   {
    "duration": 3,
    "start_time": "2023-04-19T10:05:09.611Z"
   },
   {
    "duration": 3,
    "start_time": "2023-04-19T10:05:12.175Z"
   },
   {
    "duration": 2139,
    "start_time": "2023-04-19T10:05:12.846Z"
   },
   {
    "duration": 2,
    "start_time": "2023-04-19T10:05:14.987Z"
   },
   {
    "duration": 6,
    "start_time": "2023-04-19T10:05:16.910Z"
   },
   {
    "duration": 3,
    "start_time": "2023-04-19T10:05:19.665Z"
   },
   {
    "duration": 58647,
    "start_time": "2023-04-19T10:05:21.206Z"
   },
   {
    "duration": 13754,
    "start_time": "2023-04-19T10:07:00.721Z"
   },
   {
    "duration": 23,
    "start_time": "2023-04-19T10:07:16.874Z"
   },
   {
    "duration": 3,
    "start_time": "2023-04-19T10:07:44.715Z"
   },
   {
    "duration": 304613,
    "start_time": "2023-04-19T10:07:46.993Z"
   },
   {
    "duration": 1480,
    "start_time": "2023-04-19T10:12:56.161Z"
   },
   {
    "duration": 3,
    "start_time": "2023-04-19T10:13:17.487Z"
   },
   {
    "duration": 41722,
    "start_time": "2023-04-19T10:13:26.788Z"
   },
   {
    "duration": 1710,
    "start_time": "2023-04-19T10:14:20.553Z"
   },
   {
    "duration": 1126,
    "start_time": "2023-04-19T10:14:24.035Z"
   },
   {
    "duration": 27,
    "start_time": "2023-04-19T10:14:25.930Z"
   },
   {
    "duration": 297,
    "start_time": "2023-04-19T10:14:27.801Z"
   },
   {
    "duration": 6,
    "start_time": "2023-04-19T10:14:28.743Z"
   },
   {
    "duration": 5,
    "start_time": "2023-04-19T10:14:29.543Z"
   },
   {
    "duration": 5,
    "start_time": "2023-04-19T10:14:31.585Z"
   },
   {
    "duration": 40541,
    "start_time": "2023-04-19T10:14:36.899Z"
   },
   {
    "duration": 26,
    "start_time": "2023-04-19T10:15:18.801Z"
   },
   {
    "duration": 13,
    "start_time": "2023-04-19T10:15:20.956Z"
   },
   {
    "duration": 3,
    "start_time": "2023-04-19T10:15:23.169Z"
   },
   {
    "duration": 42,
    "start_time": "2023-04-19T10:15:23.802Z"
   },
   {
    "duration": 3,
    "start_time": "2023-04-19T10:15:24.844Z"
   },
   {
    "duration": 5,
    "start_time": "2023-04-19T10:15:26.083Z"
   },
   {
    "duration": 3,
    "start_time": "2023-04-19T10:15:26.701Z"
   },
   {
    "duration": 6256,
    "start_time": "2023-04-19T10:15:27.419Z"
   },
   {
    "duration": 3,
    "start_time": "2023-04-19T10:15:35.746Z"
   },
   {
    "duration": 3,
    "start_time": "2023-04-19T10:15:38.157Z"
   },
   {
    "duration": 1662,
    "start_time": "2023-04-19T10:15:40.190Z"
   },
   {
    "duration": 3,
    "start_time": "2023-04-19T10:15:42.863Z"
   },
   {
    "duration": 7,
    "start_time": "2023-04-19T10:15:44.443Z"
   },
   {
    "duration": 3,
    "start_time": "2023-04-19T10:15:47.187Z"
   },
   {
    "duration": 13509,
    "start_time": "2023-04-19T10:15:50.351Z"
   },
   {
    "duration": 22,
    "start_time": "2023-04-19T10:16:05.092Z"
   },
   {
    "duration": 4,
    "start_time": "2023-04-19T10:16:15.256Z"
   },
   {
    "duration": 550356,
    "start_time": "2023-04-19T10:16:17.718Z"
   },
   {
    "duration": 1578,
    "start_time": "2023-04-19T10:25:34.651Z"
   },
   {
    "duration": 3,
    "start_time": "2023-04-19T10:25:55.798Z"
   },
   {
    "duration": 39084,
    "start_time": "2023-04-19T10:25:57.812Z"
   },
   {
    "duration": 4,
    "start_time": "2023-04-19T10:26:46.078Z"
   },
   {
    "duration": 318244,
    "start_time": "2023-04-19T10:26:53.761Z"
   },
   {
    "duration": 493,
    "start_time": "2023-04-19T10:32:15.270Z"
   },
   {
    "duration": 5,
    "start_time": "2023-04-19T10:32:26.843Z"
   },
   {
    "duration": 609553,
    "start_time": "2023-04-19T10:32:29.755Z"
   },
   {
    "duration": 584,
    "start_time": "2023-04-19T10:44:40.672Z"
   },
   {
    "duration": 3,
    "start_time": "2023-04-19T10:44:53.116Z"
   },
   {
    "duration": 237012,
    "start_time": "2023-04-19T10:44:55.261Z"
   },
   {
    "duration": 9,
    "start_time": "2023-04-19T10:48:58.064Z"
   },
   {
    "duration": 594109,
    "start_time": "2023-04-19T10:49:00.973Z"
   },
   {
    "duration": 540,
    "start_time": "2023-04-19T10:59:46.021Z"
   },
   {
    "duration": 4,
    "start_time": "2023-04-19T10:59:58.449Z"
   },
   {
    "duration": 879262,
    "start_time": "2023-04-19T10:59:59.991Z"
   },
   {
    "duration": 742,
    "start_time": "2023-04-19T11:15:35.190Z"
   },
   {
    "duration": 101,
    "start_time": "2023-04-19T12:02:24.036Z"
   },
   {
    "duration": 576,
    "start_time": "2023-04-19T12:02:50.177Z"
   },
   {
    "duration": 180,
    "start_time": "2023-04-19T12:02:54.778Z"
   },
   {
    "duration": 9,
    "start_time": "2023-04-19T12:08:33.542Z"
   },
   {
    "duration": 5,
    "start_time": "2023-04-19T12:09:13.056Z"
   },
   {
    "duration": 12,
    "start_time": "2023-04-19T12:09:17.917Z"
   },
   {
    "duration": 9,
    "start_time": "2023-04-19T12:09:48.357Z"
   },
   {
    "duration": 2598,
    "start_time": "2023-04-19T12:10:29.601Z"
   },
   {
    "duration": 1445,
    "start_time": "2023-04-19T12:10:32.202Z"
   },
   {
    "duration": 22,
    "start_time": "2023-04-19T12:10:33.650Z"
   },
   {
    "duration": 304,
    "start_time": "2023-04-19T12:10:33.674Z"
   },
   {
    "duration": 5,
    "start_time": "2023-04-19T12:10:33.981Z"
   },
   {
    "duration": 15,
    "start_time": "2023-04-19T12:10:33.989Z"
   },
   {
    "duration": 2118,
    "start_time": "2023-04-19T12:10:34.007Z"
   },
   {
    "duration": 17,
    "start_time": "2023-04-19T12:10:36.128Z"
   },
   {
    "duration": 16,
    "start_time": "2023-04-19T12:10:36.151Z"
   },
   {
    "duration": 275,
    "start_time": "2023-04-19T12:10:36.169Z"
   },
   {
    "duration": 30,
    "start_time": "2023-04-19T12:10:36.447Z"
   },
   {
    "duration": 0,
    "start_time": "2023-04-19T12:10:36.483Z"
   },
   {
    "duration": 0,
    "start_time": "2023-04-19T12:10:36.485Z"
   },
   {
    "duration": 0,
    "start_time": "2023-04-19T12:10:36.487Z"
   },
   {
    "duration": 0,
    "start_time": "2023-04-19T12:10:36.489Z"
   },
   {
    "duration": 0,
    "start_time": "2023-04-19T12:10:36.491Z"
   },
   {
    "duration": 0,
    "start_time": "2023-04-19T12:10:36.493Z"
   },
   {
    "duration": 1,
    "start_time": "2023-04-19T12:10:36.493Z"
   },
   {
    "duration": 0,
    "start_time": "2023-04-19T12:10:36.495Z"
   },
   {
    "duration": 0,
    "start_time": "2023-04-19T12:10:36.495Z"
   },
   {
    "duration": 0,
    "start_time": "2023-04-19T12:10:36.496Z"
   },
   {
    "duration": 0,
    "start_time": "2023-04-19T12:10:36.498Z"
   },
   {
    "duration": 0,
    "start_time": "2023-04-19T12:10:36.499Z"
   },
   {
    "duration": 0,
    "start_time": "2023-04-19T12:10:36.501Z"
   },
   {
    "duration": 0,
    "start_time": "2023-04-19T12:10:36.503Z"
   },
   {
    "duration": 0,
    "start_time": "2023-04-19T12:10:36.536Z"
   },
   {
    "duration": 0,
    "start_time": "2023-04-19T12:10:36.539Z"
   },
   {
    "duration": 0,
    "start_time": "2023-04-19T12:10:36.540Z"
   },
   {
    "duration": 0,
    "start_time": "2023-04-19T12:10:36.541Z"
   },
   {
    "duration": 0,
    "start_time": "2023-04-19T12:10:36.543Z"
   },
   {
    "duration": 0,
    "start_time": "2023-04-19T12:10:36.544Z"
   },
   {
    "duration": 0,
    "start_time": "2023-04-19T12:10:36.545Z"
   },
   {
    "duration": 0,
    "start_time": "2023-04-19T12:10:36.546Z"
   },
   {
    "duration": 0,
    "start_time": "2023-04-19T12:10:36.547Z"
   },
   {
    "duration": 0,
    "start_time": "2023-04-19T12:10:36.549Z"
   },
   {
    "duration": 0,
    "start_time": "2023-04-19T12:10:36.550Z"
   },
   {
    "duration": 0,
    "start_time": "2023-04-19T12:10:36.551Z"
   },
   {
    "duration": 0,
    "start_time": "2023-04-19T12:10:36.552Z"
   },
   {
    "duration": 0,
    "start_time": "2023-04-19T12:10:36.553Z"
   },
   {
    "duration": 0,
    "start_time": "2023-04-19T12:10:36.554Z"
   },
   {
    "duration": 0,
    "start_time": "2023-04-19T12:10:36.555Z"
   },
   {
    "duration": 0,
    "start_time": "2023-04-19T12:10:36.556Z"
   },
   {
    "duration": 0,
    "start_time": "2023-04-19T12:10:36.557Z"
   },
   {
    "duration": 8,
    "start_time": "2023-04-19T12:11:14.249Z"
   },
   {
    "duration": 1943,
    "start_time": "2023-04-19T12:11:27.130Z"
   },
   {
    "duration": 1096,
    "start_time": "2023-04-19T12:11:31.919Z"
   },
   {
    "duration": 30,
    "start_time": "2023-04-19T12:11:33.697Z"
   },
   {
    "duration": 380,
    "start_time": "2023-04-19T12:11:36.793Z"
   },
   {
    "duration": 4,
    "start_time": "2023-04-19T12:11:39.800Z"
   },
   {
    "duration": 5,
    "start_time": "2023-04-19T12:11:46.908Z"
   },
   {
    "duration": 2261,
    "start_time": "2023-04-19T12:11:52.793Z"
   },
   {
    "duration": 8,
    "start_time": "2023-04-19T12:12:01.213Z"
   },
   {
    "duration": 170,
    "start_time": "2023-04-19T12:12:09.706Z"
   },
   {
    "duration": 9,
    "start_time": "2023-04-19T12:12:24.812Z"
   },
   {
    "duration": 3,
    "start_time": "2023-04-19T12:14:26.703Z"
   },
   {
    "duration": 9,
    "start_time": "2023-04-19T12:14:42.495Z"
   },
   {
    "duration": 4,
    "start_time": "2023-04-19T12:14:55.811Z"
   },
   {
    "duration": 11,
    "start_time": "2023-04-19T12:15:25.221Z"
   },
   {
    "duration": 4,
    "start_time": "2023-04-19T12:16:02.561Z"
   },
   {
    "duration": 4,
    "start_time": "2023-04-19T12:16:05.399Z"
   },
   {
    "duration": 6,
    "start_time": "2023-04-19T12:16:07.073Z"
   },
   {
    "duration": 12,
    "start_time": "2023-04-19T12:16:26.352Z"
   },
   {
    "duration": 4,
    "start_time": "2023-04-19T12:16:29.271Z"
   },
   {
    "duration": 13,
    "start_time": "2023-04-19T12:16:30.907Z"
   },
   {
    "duration": 210095,
    "start_time": "2023-04-19T12:17:45.909Z"
   },
   {
    "duration": 1489,
    "start_time": "2023-04-19T12:21:40.797Z"
   },
   {
    "duration": 1983,
    "start_time": "2023-04-19T12:22:31.453Z"
   },
   {
    "duration": 1080,
    "start_time": "2023-04-19T12:22:33.438Z"
   },
   {
    "duration": 25,
    "start_time": "2023-04-19T12:22:34.520Z"
   },
   {
    "duration": 310,
    "start_time": "2023-04-19T12:22:34.552Z"
   },
   {
    "duration": 4,
    "start_time": "2023-04-19T12:22:34.865Z"
   },
   {
    "duration": 18,
    "start_time": "2023-04-19T12:22:34.872Z"
   },
   {
    "duration": 1664,
    "start_time": "2023-04-19T12:22:34.892Z"
   },
   {
    "duration": 19,
    "start_time": "2023-04-19T12:22:36.558Z"
   },
   {
    "duration": 1325741,
    "start_time": "2023-04-19T12:22:36.579Z"
   },
   {
    "duration": 47,
    "start_time": "2023-04-19T12:44:42.322Z"
   },
   {
    "duration": 16,
    "start_time": "2023-04-19T12:44:42.371Z"
   },
   {
    "duration": 7,
    "start_time": "2023-04-19T12:44:42.389Z"
   },
   {
    "duration": 78,
    "start_time": "2023-04-19T12:44:42.398Z"
   },
   {
    "duration": 3,
    "start_time": "2023-04-19T12:44:42.479Z"
   },
   {
    "duration": 26,
    "start_time": "2023-04-19T12:44:42.483Z"
   },
   {
    "duration": 11,
    "start_time": "2023-04-19T12:44:42.511Z"
   },
   {
    "duration": 6046,
    "start_time": "2023-04-19T12:44:42.523Z"
   },
   {
    "duration": 3,
    "start_time": "2023-04-19T12:44:48.571Z"
   },
   {
    "duration": 27,
    "start_time": "2023-04-19T12:44:48.576Z"
   },
   {
    "duration": 1866,
    "start_time": "2023-04-19T12:44:48.606Z"
   },
   {
    "duration": 3,
    "start_time": "2023-04-19T12:44:50.474Z"
   },
   {
    "duration": 22,
    "start_time": "2023-04-19T12:44:50.478Z"
   },
   {
    "duration": 6,
    "start_time": "2023-04-19T12:44:50.502Z"
   },
   {
    "duration": 62957,
    "start_time": "2023-04-19T12:44:50.510Z"
   },
   {
    "duration": 13998,
    "start_time": "2023-04-19T12:45:53.470Z"
   },
   {
    "duration": 19,
    "start_time": "2023-04-19T12:46:07.470Z"
   },
   {
    "duration": 39176,
    "start_time": "2023-04-19T12:46:07.491Z"
   },
   {
    "duration": 3,
    "start_time": "2023-04-19T12:46:46.669Z"
   },
   {
    "duration": 1490,
    "start_time": "2023-04-19T12:46:46.674Z"
   },
   {
    "duration": 199,
    "start_time": "2023-04-19T12:46:48.168Z"
   },
   {
    "duration": 9921,
    "start_time": "2023-04-19T12:46:48.369Z"
   },
   {
    "duration": 3,
    "start_time": "2023-04-19T12:46:58.292Z"
   },
   {
    "duration": 656817,
    "start_time": "2023-04-19T12:46:58.297Z"
   },
   {
    "duration": 60,
    "start_time": "2023-04-19T12:57:55.116Z"
   },
   {
    "duration": 0,
    "start_time": "2023-04-19T12:57:55.182Z"
   },
   {
    "duration": 0,
    "start_time": "2023-04-19T12:57:55.184Z"
   },
   {
    "duration": 0,
    "start_time": "2023-04-19T12:57:55.186Z"
   },
   {
    "duration": 0,
    "start_time": "2023-04-19T12:57:55.187Z"
   },
   {
    "duration": 0,
    "start_time": "2023-04-19T12:57:55.189Z"
   },
   {
    "duration": 0,
    "start_time": "2023-04-19T12:57:55.190Z"
   },
   {
    "duration": 0,
    "start_time": "2023-04-19T12:57:55.192Z"
   },
   {
    "duration": 0,
    "start_time": "2023-04-19T12:57:55.193Z"
   },
   {
    "duration": 3,
    "start_time": "2023-04-19T12:58:13.774Z"
   },
   {
    "duration": 682405,
    "start_time": "2023-04-19T12:58:15.100Z"
   },
   {
    "duration": 503,
    "start_time": "2023-04-19T13:09:41.575Z"
   },
   {
    "duration": 5,
    "start_time": "2023-04-19T13:10:02.351Z"
   },
   {
    "duration": 8545,
    "start_time": "2023-04-19T13:10:04.915Z"
   },
   {
    "duration": 892,
    "start_time": "2023-04-19T13:11:28.361Z"
   },
   {
    "duration": 3,
    "start_time": "2023-04-19T13:11:41.701Z"
   },
   {
    "duration": 18876,
    "start_time": "2023-04-19T13:11:42.474Z"
   },
   {
    "duration": 1288,
    "start_time": "2023-04-19T13:12:12.508Z"
   },
   {
    "duration": 5,
    "start_time": "2023-04-19T13:12:20.220Z"
   },
   {
    "duration": 39024,
    "start_time": "2023-04-19T13:12:20.872Z"
   },
   {
    "duration": 1604,
    "start_time": "2023-04-19T13:13:13.492Z"
   },
   {
    "duration": 3,
    "start_time": "2023-04-19T13:13:26.717Z"
   },
   {
    "duration": 2330,
    "start_time": "2023-04-19T16:29:47.911Z"
   },
   {
    "duration": 4372,
    "start_time": "2023-04-19T16:29:55.976Z"
   },
   {
    "duration": 19,
    "start_time": "2023-04-19T16:30:02.156Z"
   },
   {
    "duration": 248,
    "start_time": "2023-04-19T16:30:04.718Z"
   },
   {
    "duration": 10,
    "start_time": "2023-04-19T16:30:07.687Z"
   },
   {
    "duration": 5,
    "start_time": "2023-04-19T16:42:53.632Z"
   },
   {
    "duration": 6,
    "start_time": "2023-04-19T16:45:55.936Z"
   },
   {
    "duration": 2185,
    "start_time": "2023-04-19T16:46:06.505Z"
   },
   {
    "duration": 3,
    "start_time": "2023-04-19T16:46:44.871Z"
   },
   {
    "duration": 12,
    "start_time": "2023-04-19T16:46:52.086Z"
   },
   {
    "duration": 7,
    "start_time": "2023-04-19T16:47:32.433Z"
   },
   {
    "duration": 18,
    "start_time": "2023-04-19T16:47:46.777Z"
   },
   {
    "duration": 7,
    "start_time": "2023-04-19T16:47:56.581Z"
   },
   {
    "duration": 7,
    "start_time": "2023-04-19T16:54:00.582Z"
   },
   {
    "duration": 1595102,
    "start_time": "2023-04-19T16:55:55.169Z"
   },
   {
    "duration": 19,
    "start_time": "2023-04-19T17:23:10.121Z"
   },
   {
    "duration": 4,
    "start_time": "2023-04-19T17:24:36.017Z"
   },
   {
    "duration": 57,
    "start_time": "2023-04-19T17:24:37.973Z"
   },
   {
    "duration": 6,
    "start_time": "2023-04-19T17:24:40.010Z"
   },
   {
    "duration": 6,
    "start_time": "2023-04-19T17:24:40.718Z"
   },
   {
    "duration": 4,
    "start_time": "2023-04-19T17:24:41.409Z"
   },
   {
    "duration": 8962,
    "start_time": "2023-04-19T17:24:42.063Z"
   },
   {
    "duration": 4,
    "start_time": "2023-04-19T17:24:54.121Z"
   },
   {
    "duration": 8,
    "start_time": "2023-04-19T17:24:56.179Z"
   },
   {
    "duration": 2906,
    "start_time": "2023-04-19T17:24:57.963Z"
   },
   {
    "duration": 3,
    "start_time": "2023-04-19T17:25:08.174Z"
   },
   {
    "duration": 11,
    "start_time": "2023-04-19T17:25:12.114Z"
   },
   {
    "duration": 4,
    "start_time": "2023-04-19T17:25:16.774Z"
   },
   {
    "duration": 60558,
    "start_time": "2023-04-19T17:25:20.174Z"
   },
   {
    "duration": 13916,
    "start_time": "2023-04-19T17:26:38.116Z"
   },
   {
    "duration": 27,
    "start_time": "2023-04-19T17:26:54.244Z"
   },
   {
    "duration": 3,
    "start_time": "2023-04-19T17:27:08.612Z"
   },
   {
    "duration": 242980,
    "start_time": "2023-04-19T17:27:09.315Z"
   },
   {
    "duration": 45156,
    "start_time": "2023-04-19T17:31:29.805Z"
   },
   {
    "duration": 28,
    "start_time": "2023-04-19T17:32:38.826Z"
   },
   {
    "duration": 3,
    "start_time": "2023-04-19T17:33:06.141Z"
   },
   {
    "duration": 2877,
    "start_time": "2023-04-19T17:34:42.116Z"
   },
   {
    "duration": 5313,
    "start_time": "2023-04-19T17:34:44.995Z"
   },
   {
    "duration": 20,
    "start_time": "2023-04-19T17:34:50.310Z"
   },
   {
    "duration": 307,
    "start_time": "2023-04-19T17:34:50.333Z"
   },
   {
    "duration": 3,
    "start_time": "2023-04-19T17:34:50.643Z"
   },
   {
    "duration": 14,
    "start_time": "2023-04-19T17:34:50.649Z"
   },
   {
    "duration": 50,
    "start_time": "2023-04-19T17:34:50.665Z"
   },
   {
    "duration": 6,
    "start_time": "2023-04-19T17:34:50.729Z"
   },
   {
    "duration": 22,
    "start_time": "2023-04-19T17:34:50.737Z"
   },
   {
    "duration": 1494673,
    "start_time": "2023-04-19T17:34:55.274Z"
   },
   {
    "duration": 18,
    "start_time": "2023-04-19T18:00:04.431Z"
   },
   {
    "duration": 3,
    "start_time": "2023-04-19T18:00:08.116Z"
   },
   {
    "duration": 58,
    "start_time": "2023-04-19T18:00:08.770Z"
   },
   {
    "duration": 4,
    "start_time": "2023-04-19T18:00:13.818Z"
   },
   {
    "duration": 6,
    "start_time": "2023-04-19T18:00:14.512Z"
   },
   {
    "duration": 3,
    "start_time": "2023-04-19T18:00:15.169Z"
   },
   {
    "duration": 6300,
    "start_time": "2023-04-19T18:00:15.765Z"
   },
   {
    "duration": 3,
    "start_time": "2023-04-19T18:00:24.327Z"
   },
   {
    "duration": 2,
    "start_time": "2023-04-19T18:00:27.967Z"
   },
   {
    "duration": 2102,
    "start_time": "2023-04-19T18:00:29.475Z"
   },
   {
    "duration": 3,
    "start_time": "2023-04-19T18:00:39.454Z"
   },
   {
    "duration": 7,
    "start_time": "2023-04-19T18:00:40.342Z"
   },
   {
    "duration": 3,
    "start_time": "2023-04-19T18:00:42.972Z"
   },
   {
    "duration": 228304,
    "start_time": "2023-04-19T18:00:44.711Z"
   },
   {
    "duration": 41681,
    "start_time": "2023-04-19T18:04:42.110Z"
   },
   {
    "duration": 19,
    "start_time": "2023-04-19T18:05:37.419Z"
   },
   {
    "duration": 3,
    "start_time": "2023-04-19T18:05:56.530Z"
   },
   {
    "duration": 2009,
    "start_time": "2023-04-19T18:08:04.509Z"
   },
   {
    "duration": 4292,
    "start_time": "2023-04-19T18:08:08.718Z"
   },
   {
    "duration": 31,
    "start_time": "2023-04-19T18:08:13.705Z"
   },
   {
    "duration": 271,
    "start_time": "2023-04-19T18:08:15.856Z"
   },
   {
    "duration": 3,
    "start_time": "2023-04-19T18:08:17.543Z"
   },
   {
    "duration": 7,
    "start_time": "2023-04-19T18:08:22.307Z"
   },
   {
    "duration": 5,
    "start_time": "2023-04-19T18:08:24.536Z"
   },
   {
    "duration": 341,
    "start_time": "2023-04-19T18:08:33.812Z"
   },
   {
    "duration": 3,
    "start_time": "2023-04-19T18:08:46.674Z"
   },
   {
    "duration": 94125,
    "start_time": "2023-04-19T18:08:48.213Z"
   },
   {
    "duration": 1975,
    "start_time": "2023-04-19T18:12:29.609Z"
   },
   {
    "duration": 1077,
    "start_time": "2023-04-19T18:12:34.747Z"
   },
   {
    "duration": 18,
    "start_time": "2023-04-19T18:12:38.734Z"
   },
   {
    "duration": 250,
    "start_time": "2023-04-19T18:12:41.207Z"
   },
   {
    "duration": 3,
    "start_time": "2023-04-19T18:12:42.578Z"
   },
   {
    "duration": 10,
    "start_time": "2023-04-19T18:12:53.507Z"
   },
   {
    "duration": 4,
    "start_time": "2023-04-19T18:12:56.808Z"
   },
   {
    "duration": 3,
    "start_time": "2023-04-19T18:12:58.942Z"
   },
   {
    "duration": 624,
    "start_time": "2023-04-19T18:13:14.038Z"
   },
   {
    "duration": 4,
    "start_time": "2023-04-19T18:13:44.322Z"
   },
   {
    "duration": 1309074,
    "start_time": "2023-04-19T18:13:54.956Z"
   },
   {
    "duration": 14,
    "start_time": "2023-04-19T18:36:09.123Z"
   },
   {
    "duration": 3,
    "start_time": "2023-04-19T18:36:12.426Z"
   },
   {
    "duration": 42,
    "start_time": "2023-04-19T18:36:12.954Z"
   },
   {
    "duration": 3,
    "start_time": "2023-04-19T18:36:14.636Z"
   },
   {
    "duration": 4,
    "start_time": "2023-04-19T18:36:15.197Z"
   },
   {
    "duration": 3,
    "start_time": "2023-04-19T18:36:15.697Z"
   },
   {
    "duration": 5242,
    "start_time": "2023-04-19T18:36:16.289Z"
   },
   {
    "duration": 3,
    "start_time": "2023-04-19T18:36:21.533Z"
   },
   {
    "duration": 8,
    "start_time": "2023-04-19T18:36:21.537Z"
   },
   {
    "duration": 1607,
    "start_time": "2023-04-19T18:36:21.547Z"
   },
   {
    "duration": 3,
    "start_time": "2023-04-19T18:36:23.155Z"
   },
   {
    "duration": 29,
    "start_time": "2023-04-19T18:36:23.159Z"
   },
   {
    "duration": 5,
    "start_time": "2023-04-19T18:36:25.294Z"
   },
   {
    "duration": 213698,
    "start_time": "2023-04-19T18:36:27.597Z"
   },
   {
    "duration": 46314,
    "start_time": "2023-04-19T18:40:34.790Z"
   },
   {
    "duration": 17,
    "start_time": "2023-04-19T18:42:03.557Z"
   },
   {
    "duration": 4,
    "start_time": "2023-04-19T18:42:13.602Z"
   },
   {
    "duration": 2273,
    "start_time": "2023-04-20T05:25:48.202Z"
   },
   {
    "duration": 2481,
    "start_time": "2023-04-20T05:25:50.478Z"
   },
   {
    "duration": 17,
    "start_time": "2023-04-20T05:25:52.961Z"
   },
   {
    "duration": 246,
    "start_time": "2023-04-20T05:25:52.980Z"
   },
   {
    "duration": 3,
    "start_time": "2023-04-20T05:25:53.228Z"
   },
   {
    "duration": 6,
    "start_time": "2023-04-20T05:25:53.232Z"
   },
   {
    "duration": 6,
    "start_time": "2023-04-20T05:25:53.239Z"
   },
   {
    "duration": 7,
    "start_time": "2023-04-20T05:25:53.246Z"
   },
   {
    "duration": 12,
    "start_time": "2023-04-20T05:26:34.048Z"
   },
   {
    "duration": 648,
    "start_time": "2023-04-20T05:26:34.062Z"
   },
   {
    "duration": 0,
    "start_time": "2023-04-20T05:26:34.712Z"
   },
   {
    "duration": 0,
    "start_time": "2023-04-20T05:26:34.713Z"
   },
   {
    "duration": 0,
    "start_time": "2023-04-20T05:26:34.714Z"
   },
   {
    "duration": 0,
    "start_time": "2023-04-20T05:26:34.715Z"
   },
   {
    "duration": 0,
    "start_time": "2023-04-20T05:26:34.717Z"
   },
   {
    "duration": 0,
    "start_time": "2023-04-20T05:26:34.718Z"
   },
   {
    "duration": 1,
    "start_time": "2023-04-20T05:26:34.718Z"
   },
   {
    "duration": 1,
    "start_time": "2023-04-20T05:26:34.719Z"
   },
   {
    "duration": 0,
    "start_time": "2023-04-20T05:26:34.720Z"
   },
   {
    "duration": 1,
    "start_time": "2023-04-20T05:26:34.721Z"
   },
   {
    "duration": 1762,
    "start_time": "2023-04-20T05:27:11.043Z"
   },
   {
    "duration": 968,
    "start_time": "2023-04-20T05:27:12.807Z"
   },
   {
    "duration": 18,
    "start_time": "2023-04-20T05:27:13.777Z"
   },
   {
    "duration": 256,
    "start_time": "2023-04-20T05:27:13.797Z"
   },
   {
    "duration": 3,
    "start_time": "2023-04-20T05:27:14.055Z"
   },
   {
    "duration": 11,
    "start_time": "2023-04-20T05:27:14.060Z"
   },
   {
    "duration": 15,
    "start_time": "2023-04-20T05:27:14.073Z"
   },
   {
    "duration": 18,
    "start_time": "2023-04-20T05:27:14.090Z"
   },
   {
    "duration": 1228694,
    "start_time": "2023-04-20T05:27:14.110Z"
   },
   {
    "duration": 18,
    "start_time": "2023-04-20T05:47:42.807Z"
   },
   {
    "duration": 15,
    "start_time": "2023-04-20T05:47:42.827Z"
   },
   {
    "duration": 43,
    "start_time": "2023-04-20T05:47:42.844Z"
   },
   {
    "duration": 3,
    "start_time": "2023-04-20T05:47:42.889Z"
   },
   {
    "duration": 28,
    "start_time": "2023-04-20T05:47:42.893Z"
   },
   {
    "duration": 5,
    "start_time": "2023-04-20T05:47:42.923Z"
   },
   {
    "duration": 5393,
    "start_time": "2023-04-20T05:47:42.931Z"
   },
   {
    "duration": 3,
    "start_time": "2023-04-20T05:47:48.326Z"
   },
   {
    "duration": 6,
    "start_time": "2023-04-20T05:47:48.330Z"
   },
   {
    "duration": 1695,
    "start_time": "2023-04-20T05:47:48.337Z"
   },
   {
    "duration": 2,
    "start_time": "2023-04-20T05:47:50.034Z"
   },
   {
    "duration": 24,
    "start_time": "2023-04-20T05:47:50.038Z"
   },
   {
    "duration": 4,
    "start_time": "2023-04-20T05:49:12.713Z"
   },
   {
    "duration": 225597,
    "start_time": "2023-04-20T05:49:14.104Z"
   },
   {
    "duration": 3,
    "start_time": "2023-04-20T05:53:05.665Z"
   },
   {
    "duration": 156,
    "start_time": "2023-04-20T05:53:11.047Z"
   },
   {
    "duration": 10,
    "start_time": "2023-04-20T05:53:15.867Z"
   },
   {
    "duration": 42071,
    "start_time": "2023-04-20T05:53:21.920Z"
   },
   {
    "duration": 20,
    "start_time": "2023-04-20T05:54:37.510Z"
   },
   {
    "duration": 2,
    "start_time": "2023-04-20T05:54:50.074Z"
   },
   {
    "duration": 1747,
    "start_time": "2023-04-20T05:56:51.058Z"
   },
   {
    "duration": 2475,
    "start_time": "2023-04-20T05:56:52.807Z"
   },
   {
    "duration": 17,
    "start_time": "2023-04-20T05:56:55.284Z"
   },
   {
    "duration": 247,
    "start_time": "2023-04-20T05:56:55.303Z"
   },
   {
    "duration": 3,
    "start_time": "2023-04-20T05:56:55.551Z"
   },
   {
    "duration": 10,
    "start_time": "2023-04-20T05:56:55.556Z"
   },
   {
    "duration": 10,
    "start_time": "2023-04-20T05:56:55.568Z"
   },
   {
    "duration": 8,
    "start_time": "2023-04-20T05:56:55.581Z"
   },
   {
    "duration": 198,
    "start_time": "2023-04-20T05:56:55.591Z"
   },
   {
    "duration": 17,
    "start_time": "2023-04-20T05:56:55.791Z"
   },
   {
    "duration": 0,
    "start_time": "2023-04-20T05:56:55.810Z"
   },
   {
    "duration": 0,
    "start_time": "2023-04-20T05:56:55.811Z"
   },
   {
    "duration": 0,
    "start_time": "2023-04-20T05:56:55.813Z"
   },
   {
    "duration": 0,
    "start_time": "2023-04-20T05:56:55.814Z"
   },
   {
    "duration": 0,
    "start_time": "2023-04-20T05:56:55.816Z"
   },
   {
    "duration": 0,
    "start_time": "2023-04-20T05:56:55.818Z"
   },
   {
    "duration": 0,
    "start_time": "2023-04-20T05:56:55.819Z"
   },
   {
    "duration": 0,
    "start_time": "2023-04-20T05:56:55.820Z"
   },
   {
    "duration": 0,
    "start_time": "2023-04-20T05:56:55.822Z"
   },
   {
    "duration": 0,
    "start_time": "2023-04-20T05:56:55.824Z"
   },
   {
    "duration": 0,
    "start_time": "2023-04-20T05:56:55.825Z"
   },
   {
    "duration": 0,
    "start_time": "2023-04-20T05:56:55.827Z"
   },
   {
    "duration": 0,
    "start_time": "2023-04-20T05:56:55.828Z"
   },
   {
    "duration": 1344650,
    "start_time": "2023-04-20T05:58:34.090Z"
   },
   {
    "duration": 25,
    "start_time": "2023-04-20T06:22:01.295Z"
   },
   {
    "duration": 13,
    "start_time": "2023-04-20T06:22:07.679Z"
   },
   {
    "duration": 6,
    "start_time": "2023-04-20T06:22:10.301Z"
   },
   {
    "duration": 11,
    "start_time": "2023-04-20T06:22:12.271Z"
   },
   {
    "duration": 1794,
    "start_time": "2023-04-20T06:22:52.549Z"
   },
   {
    "duration": 980,
    "start_time": "2023-04-20T06:22:54.346Z"
   },
   {
    "duration": 24,
    "start_time": "2023-04-20T06:22:55.328Z"
   },
   {
    "duration": 297,
    "start_time": "2023-04-20T06:22:55.355Z"
   },
   {
    "duration": 3,
    "start_time": "2023-04-20T06:22:55.654Z"
   },
   {
    "duration": 8,
    "start_time": "2023-04-20T06:22:55.659Z"
   },
   {
    "duration": 18,
    "start_time": "2023-04-20T06:22:55.669Z"
   },
   {
    "duration": 4,
    "start_time": "2023-04-20T06:22:55.689Z"
   },
   {
    "duration": 1316588,
    "start_time": "2023-04-20T06:22:55.695Z"
   },
   {
    "duration": 31,
    "start_time": "2023-04-20T06:44:52.289Z"
   },
   {
    "duration": 13,
    "start_time": "2023-04-20T06:44:52.322Z"
   },
   {
    "duration": 3,
    "start_time": "2023-04-20T06:44:52.338Z"
   },
   {
    "duration": 66,
    "start_time": "2023-04-20T06:44:52.344Z"
   },
   {
    "duration": 3,
    "start_time": "2023-04-20T06:44:52.412Z"
   },
   {
    "duration": 13,
    "start_time": "2023-04-20T06:44:52.418Z"
   },
   {
    "duration": 6,
    "start_time": "2023-04-20T06:44:52.433Z"
   },
   {
    "duration": 6065,
    "start_time": "2023-04-20T06:44:52.442Z"
   },
   {
    "duration": 3,
    "start_time": "2023-04-20T06:44:58.509Z"
   },
   {
    "duration": 22,
    "start_time": "2023-04-20T06:44:58.514Z"
   },
   {
    "duration": 1865,
    "start_time": "2023-04-20T06:44:58.538Z"
   },
   {
    "duration": 2,
    "start_time": "2023-04-20T06:45:00.405Z"
   },
   {
    "duration": 29,
    "start_time": "2023-04-20T06:45:00.409Z"
   },
   {
    "duration": 27,
    "start_time": "2023-04-20T06:45:00.440Z"
   },
   {
    "duration": 3,
    "start_time": "2023-04-20T06:46:10.638Z"
   },
   {
    "duration": 237329,
    "start_time": "2023-04-20T06:46:15.663Z"
   },
   {
    "duration": 43689,
    "start_time": "2023-04-20T06:50:20.118Z"
   },
   {
    "duration": 33,
    "start_time": "2023-04-20T06:51:39.876Z"
   },
   {
    "duration": 3,
    "start_time": "2023-04-20T06:51:49.242Z"
   },
   {
    "duration": 1937,
    "start_time": "2023-04-20T06:54:04.990Z"
   },
   {
    "duration": 2773,
    "start_time": "2023-04-20T06:54:06.929Z"
   },
   {
    "duration": 19,
    "start_time": "2023-04-20T06:54:09.704Z"
   },
   {
    "duration": 284,
    "start_time": "2023-04-20T06:54:09.726Z"
   },
   {
    "duration": 3,
    "start_time": "2023-04-20T06:54:10.012Z"
   },
   {
    "duration": 32,
    "start_time": "2023-04-20T06:54:10.018Z"
   },
   {
    "duration": 25,
    "start_time": "2023-04-20T06:54:10.053Z"
   },
   {
    "duration": 31,
    "start_time": "2023-04-20T06:54:10.081Z"
   },
   {
    "duration": 129,
    "start_time": "2023-04-20T06:54:10.115Z"
   },
   {
    "duration": 0,
    "start_time": "2023-04-20T06:54:10.247Z"
   },
   {
    "duration": 0,
    "start_time": "2023-04-20T06:54:10.249Z"
   },
   {
    "duration": 0,
    "start_time": "2023-04-20T06:54:10.251Z"
   },
   {
    "duration": 0,
    "start_time": "2023-04-20T06:54:10.252Z"
   },
   {
    "duration": 0,
    "start_time": "2023-04-20T06:54:10.254Z"
   },
   {
    "duration": 0,
    "start_time": "2023-04-20T06:54:10.255Z"
   },
   {
    "duration": 0,
    "start_time": "2023-04-20T06:54:10.257Z"
   },
   {
    "duration": 0,
    "start_time": "2023-04-20T06:54:10.258Z"
   },
   {
    "duration": 0,
    "start_time": "2023-04-20T06:54:10.260Z"
   },
   {
    "duration": 0,
    "start_time": "2023-04-20T06:54:10.262Z"
   },
   {
    "duration": 0,
    "start_time": "2023-04-20T06:54:10.265Z"
   },
   {
    "duration": 0,
    "start_time": "2023-04-20T06:54:10.267Z"
   },
   {
    "duration": 0,
    "start_time": "2023-04-20T06:54:10.268Z"
   },
   {
    "duration": 0,
    "start_time": "2023-04-20T06:54:10.270Z"
   },
   {
    "duration": 1354515,
    "start_time": "2023-04-20T06:54:36.515Z"
   },
   {
    "duration": 153,
    "start_time": "2023-04-20T07:21:03.650Z"
   },
   {
    "duration": 4,
    "start_time": "2023-04-20T07:24:14.252Z"
   },
   {
    "duration": 1338078,
    "start_time": "2023-04-20T07:24:30.884Z"
   },
   {
    "duration": 60,
    "start_time": "2023-04-20T07:47:03.767Z"
   },
   {
    "duration": 25,
    "start_time": "2023-04-20T07:47:07.150Z"
   },
   {
    "duration": 25,
    "start_time": "2023-04-20T07:47:12.014Z"
   },
   {
    "duration": 7,
    "start_time": "2023-04-20T07:47:16.394Z"
   },
   {
    "duration": 38,
    "start_time": "2023-04-20T07:47:16.903Z"
   },
   {
    "duration": 3,
    "start_time": "2023-04-20T07:47:18.563Z"
   },
   {
    "duration": 4,
    "start_time": "2023-04-20T07:47:19.052Z"
   },
   {
    "duration": 3,
    "start_time": "2023-04-20T07:47:19.524Z"
   },
   {
    "duration": 6094,
    "start_time": "2023-04-20T07:47:19.970Z"
   },
   {
    "duration": 3,
    "start_time": "2023-04-20T07:47:26.066Z"
   },
   {
    "duration": 35,
    "start_time": "2023-04-20T07:47:26.071Z"
   },
   {
    "duration": 1964,
    "start_time": "2023-04-20T07:47:26.108Z"
   },
   {
    "duration": 3,
    "start_time": "2023-04-20T07:47:28.074Z"
   },
   {
    "duration": 28,
    "start_time": "2023-04-20T07:47:28.079Z"
   },
   {
    "duration": 12,
    "start_time": "2023-04-20T07:47:28.109Z"
   },
   {
    "duration": 15,
    "start_time": "2023-04-20T07:47:28.123Z"
   },
   {
    "duration": 225896,
    "start_time": "2023-04-20T07:47:34.608Z"
   },
   {
    "duration": 45280,
    "start_time": "2023-04-20T07:52:16.438Z"
   },
   {
    "duration": 112,
    "start_time": "2023-04-20T07:53:01.795Z"
   },
   {
    "duration": 5,
    "start_time": "2023-04-20T07:53:13.984Z"
   },
   {
    "duration": 4,
    "start_time": "2023-04-20T07:53:17.724Z"
   },
   {
    "duration": 1999,
    "start_time": "2023-04-20T08:00:29.434Z"
   },
   {
    "duration": 2518,
    "start_time": "2023-04-20T08:00:33.868Z"
   },
   {
    "duration": 30,
    "start_time": "2023-04-20T08:00:37.526Z"
   },
   {
    "duration": 251,
    "start_time": "2023-04-20T08:00:40.096Z"
   },
   {
    "duration": 3,
    "start_time": "2023-04-20T08:00:41.233Z"
   },
   {
    "duration": 4,
    "start_time": "2023-04-20T08:00:47.256Z"
   },
   {
    "duration": 3,
    "start_time": "2023-04-20T08:00:49.498Z"
   },
   {
    "duration": 3,
    "start_time": "2023-04-20T08:00:51.795Z"
   },
   {
    "duration": 1347072,
    "start_time": "2023-04-20T08:00:56.314Z"
   },
   {
    "duration": 136,
    "start_time": "2023-04-20T08:24:02.618Z"
   },
   {
    "duration": 14,
    "start_time": "2023-04-20T08:24:21.062Z"
   },
   {
    "duration": 16,
    "start_time": "2023-04-20T08:25:10.108Z"
   },
   {
    "duration": 4,
    "start_time": "2023-04-20T08:25:19.505Z"
   },
   {
    "duration": 45,
    "start_time": "2023-04-20T08:25:20.173Z"
   },
   {
    "duration": 3,
    "start_time": "2023-04-20T08:25:21.241Z"
   },
   {
    "duration": 5,
    "start_time": "2023-04-20T08:25:21.803Z"
   },
   {
    "duration": 3,
    "start_time": "2023-04-20T08:25:22.317Z"
   },
   {
    "duration": 6185,
    "start_time": "2023-04-20T08:25:22.840Z"
   },
   {
    "duration": 4,
    "start_time": "2023-04-20T08:25:29.027Z"
   },
   {
    "duration": 22,
    "start_time": "2023-04-20T08:25:29.033Z"
   },
   {
    "duration": 1980,
    "start_time": "2023-04-20T08:25:29.058Z"
   },
   {
    "duration": 3,
    "start_time": "2023-04-20T08:25:31.040Z"
   },
   {
    "duration": 110,
    "start_time": "2023-04-20T08:25:31.045Z"
   },
   {
    "duration": 128,
    "start_time": "2023-04-20T08:25:31.158Z"
   },
   {
    "duration": 10,
    "start_time": "2023-04-20T08:25:39.446Z"
   },
   {
    "duration": 3,
    "start_time": "2023-04-20T08:25:53.570Z"
   },
   {
    "duration": 1880,
    "start_time": "2023-04-20T08:32:01.922Z"
   },
   {
    "duration": 2662,
    "start_time": "2023-04-20T08:32:05.651Z"
   },
   {
    "duration": 21,
    "start_time": "2023-04-20T08:32:09.041Z"
   },
   {
    "duration": 265,
    "start_time": "2023-04-20T08:32:11.118Z"
   },
   {
    "duration": 2,
    "start_time": "2023-04-20T08:32:13.334Z"
   },
   {
    "duration": 3,
    "start_time": "2023-04-20T08:32:17.714Z"
   },
   {
    "duration": 1593,
    "start_time": "2023-04-20T08:32:28.087Z"
   },
   {
    "duration": 1311871,
    "start_time": "2023-04-20T08:32:32.533Z"
   },
   {
    "duration": 27,
    "start_time": "2023-04-20T08:54:34.907Z"
   },
   {
    "duration": 18,
    "start_time": "2023-04-20T08:54:37.475Z"
   },
   {
    "duration": 3,
    "start_time": "2023-04-20T08:54:42.760Z"
   },
   {
    "duration": 37,
    "start_time": "2023-04-20T08:54:43.536Z"
   },
   {
    "duration": 3,
    "start_time": "2023-04-20T08:54:45.314Z"
   },
   {
    "duration": 4,
    "start_time": "2023-04-20T08:54:45.727Z"
   },
   {
    "duration": 5,
    "start_time": "2023-04-20T08:54:46.184Z"
   },
   {
    "duration": 5915,
    "start_time": "2023-04-20T08:54:46.656Z"
   },
   {
    "duration": 3,
    "start_time": "2023-04-20T08:54:52.573Z"
   },
   {
    "duration": 12,
    "start_time": "2023-04-20T08:54:52.587Z"
   },
   {
    "duration": 1817,
    "start_time": "2023-04-20T08:54:52.601Z"
   },
   {
    "duration": 4,
    "start_time": "2023-04-20T08:54:54.419Z"
   },
   {
    "duration": 21,
    "start_time": "2023-04-20T08:54:54.425Z"
   },
   {
    "duration": 3,
    "start_time": "2023-04-20T08:55:11.904Z"
   },
   {
    "duration": 226773,
    "start_time": "2023-04-20T08:55:12.746Z"
   },
   {
    "duration": 3,
    "start_time": "2023-04-20T08:59:22.151Z"
   },
   {
    "duration": 1975,
    "start_time": "2023-04-20T09:48:24.906Z"
   },
   {
    "duration": 2589,
    "start_time": "2023-04-20T09:48:28.890Z"
   },
   {
    "duration": 21,
    "start_time": "2023-04-20T09:48:31.481Z"
   },
   {
    "duration": 317,
    "start_time": "2023-04-20T09:48:31.504Z"
   },
   {
    "duration": 3,
    "start_time": "2023-04-20T09:48:31.824Z"
   },
   {
    "duration": 4,
    "start_time": "2023-04-20T09:48:35.444Z"
   },
   {
    "duration": 1740,
    "start_time": "2023-04-20T09:48:36.844Z"
   },
   {
    "duration": 1297,
    "start_time": "2023-04-20T09:48:51.165Z"
   },
   {
    "duration": 1249,
    "start_time": "2023-04-20T09:50:56.942Z"
   },
   {
    "duration": 1369,
    "start_time": "2023-04-20T09:52:17.622Z"
   },
   {
    "duration": 7,
    "start_time": "2023-04-20T10:21:15.862Z"
   },
   {
    "duration": 2055,
    "start_time": "2023-04-20T11:25:10.048Z"
   },
   {
    "duration": 6447,
    "start_time": "2023-04-20T11:25:19.132Z"
   },
   {
    "duration": 979,
    "start_time": "2023-04-20T11:25:32.341Z"
   },
   {
    "duration": 15,
    "start_time": "2023-04-20T11:25:34.635Z"
   },
   {
    "duration": 263,
    "start_time": "2023-04-20T11:25:38.274Z"
   },
   {
    "duration": 3,
    "start_time": "2023-04-20T11:25:39.956Z"
   },
   {
    "duration": 3,
    "start_time": "2023-04-20T11:25:52.948Z"
   },
   {
    "duration": 142061,
    "start_time": "2023-04-20T11:26:33.186Z"
   },
   {
    "duration": 16427,
    "start_time": "2023-04-20T11:29:04.995Z"
   },
   {
    "duration": 553,
    "start_time": "2023-04-20T11:29:21.424Z"
   },
   {
    "duration": 1069,
    "start_time": "2023-04-20T11:29:29.332Z"
   },
   {
    "duration": 14,
    "start_time": "2023-04-20T11:29:31.158Z"
   },
   {
    "duration": 292,
    "start_time": "2023-04-20T11:29:32.940Z"
   },
   {
    "duration": 3,
    "start_time": "2023-04-20T11:29:33.948Z"
   },
   {
    "duration": 8,
    "start_time": "2023-04-20T11:29:37.210Z"
   },
   {
    "duration": 1219590,
    "start_time": "2023-04-20T11:29:40.189Z"
   },
   {
    "duration": 26,
    "start_time": "2023-04-20T11:50:21.436Z"
   },
   {
    "duration": 15,
    "start_time": "2023-04-20T11:50:24.239Z"
   },
   {
    "duration": 3,
    "start_time": "2023-04-20T11:50:55.326Z"
   },
   {
    "duration": 52,
    "start_time": "2023-04-20T11:50:56.184Z"
   },
   {
    "duration": 3,
    "start_time": "2023-04-20T11:50:58.065Z"
   },
   {
    "duration": 5,
    "start_time": "2023-04-20T11:50:58.768Z"
   },
   {
    "duration": 7,
    "start_time": "2023-04-20T11:50:59.420Z"
   },
   {
    "duration": 7150,
    "start_time": "2023-04-20T11:51:00.078Z"
   },
   {
    "duration": 3,
    "start_time": "2023-04-20T11:51:07.236Z"
   },
   {
    "duration": 28,
    "start_time": "2023-04-20T11:51:07.241Z"
   },
   {
    "duration": 2250,
    "start_time": "2023-04-20T11:51:07.272Z"
   },
   {
    "duration": 8,
    "start_time": "2023-04-20T11:51:09.524Z"
   },
   {
    "duration": 19,
    "start_time": "2023-04-20T11:51:09.537Z"
   },
   {
    "duration": 3,
    "start_time": "2023-04-20T11:51:15.683Z"
   },
   {
    "duration": 316779,
    "start_time": "2023-04-20T11:51:16.838Z"
   },
   {
    "duration": 73155,
    "start_time": "2023-04-20T11:57:44.235Z"
   },
   {
    "duration": 22,
    "start_time": "2023-04-20T11:59:25.105Z"
   },
   {
    "duration": 4,
    "start_time": "2023-04-20T12:00:36.380Z"
   },
   {
    "duration": 8767,
    "start_time": "2023-04-20T12:03:26.404Z"
   },
   {
    "duration": 30093,
    "start_time": "2023-04-20T12:03:38.024Z"
   },
   {
    "duration": 4073,
    "start_time": "2023-04-20T12:04:13.243Z"
   },
   {
    "duration": 2756,
    "start_time": "2023-04-20T12:04:24.081Z"
   },
   {
    "duration": 18,
    "start_time": "2023-04-20T12:04:28.916Z"
   },
   {
    "duration": 276,
    "start_time": "2023-04-20T12:04:30.729Z"
   },
   {
    "duration": 4,
    "start_time": "2023-04-20T12:04:32.962Z"
   },
   {
    "duration": 3,
    "start_time": "2023-04-20T12:04:36.135Z"
   },
   {
    "duration": 16,
    "start_time": "2023-04-20T12:04:58.202Z"
   },
   {
    "duration": 5,
    "start_time": "2023-04-20T12:05:06.650Z"
   },
   {
    "duration": 15,
    "start_time": "2023-04-20T12:05:16.060Z"
   },
   {
    "duration": 5,
    "start_time": "2023-04-20T12:06:12.284Z"
   },
   {
    "duration": 13,
    "start_time": "2023-04-20T12:06:32.139Z"
   },
   {
    "duration": 52730,
    "start_time": "2023-04-20T12:07:04.543Z"
   },
   {
    "duration": 4,
    "start_time": "2023-04-20T12:08:53.676Z"
   },
   {
    "duration": 17,
    "start_time": "2023-04-20T12:09:05.782Z"
   },
   {
    "duration": 6,
    "start_time": "2023-04-20T12:09:22.199Z"
   },
   {
    "duration": 12,
    "start_time": "2023-04-20T12:09:24.112Z"
   },
   {
    "duration": 16,
    "start_time": "2023-04-20T12:09:33.486Z"
   },
   {
    "duration": 12,
    "start_time": "2023-04-20T12:09:35.203Z"
   },
   {
    "duration": 4,
    "start_time": "2023-04-20T12:09:46.684Z"
   },
   {
    "duration": 13,
    "start_time": "2023-04-20T12:09:48.365Z"
   },
   {
    "duration": 4,
    "start_time": "2023-04-20T12:09:52.457Z"
   },
   {
    "duration": 1142770,
    "start_time": "2023-04-20T12:09:54.504Z"
   },
   {
    "duration": 14,
    "start_time": "2023-04-20T12:29:17.370Z"
   },
   {
    "duration": 3,
    "start_time": "2023-04-20T12:29:20.323Z"
   },
   {
    "duration": 41,
    "start_time": "2023-04-20T12:29:20.817Z"
   },
   {
    "duration": 5,
    "start_time": "2023-04-20T12:29:22.586Z"
   },
   {
    "duration": 6,
    "start_time": "2023-04-20T12:29:24.913Z"
   },
   {
    "duration": 3,
    "start_time": "2023-04-20T12:29:25.347Z"
   },
   {
    "duration": 6257,
    "start_time": "2023-04-20T12:29:25.768Z"
   },
   {
    "duration": 3,
    "start_time": "2023-04-20T12:29:32.027Z"
   },
   {
    "duration": 22,
    "start_time": "2023-04-20T12:29:32.031Z"
   },
   {
    "duration": 1983,
    "start_time": "2023-04-20T12:29:32.055Z"
   },
   {
    "duration": 3,
    "start_time": "2023-04-20T12:29:34.040Z"
   },
   {
    "duration": 13,
    "start_time": "2023-04-20T12:29:34.044Z"
   },
   {
    "duration": 3,
    "start_time": "2023-04-20T12:29:41.716Z"
   },
   {
    "duration": 290215,
    "start_time": "2023-04-20T12:29:42.376Z"
   },
   {
    "duration": 74109,
    "start_time": "2023-04-20T12:35:14.778Z"
   },
   {
    "duration": 20,
    "start_time": "2023-04-20T12:36:53.775Z"
   },
   {
    "duration": 3,
    "start_time": "2023-04-20T12:37:49.822Z"
   },
   {
    "duration": 97315,
    "start_time": "2023-04-20T12:37:50.961Z"
   },
   {
    "duration": 418,
    "start_time": "2023-04-20T12:39:38.884Z"
   },
   {
    "duration": 4,
    "start_time": "2023-04-20T12:39:54.235Z"
   },
   {
    "duration": 256561,
    "start_time": "2023-04-20T12:39:56.868Z"
   },
   {
    "duration": 481,
    "start_time": "2023-04-20T12:44:15.587Z"
   },
   {
    "duration": 4,
    "start_time": "2023-04-20T12:44:30.572Z"
   },
   {
    "duration": 3048,
    "start_time": "2023-04-20T15:09:44.883Z"
   },
   {
    "duration": 15474,
    "start_time": "2023-04-20T15:10:41.643Z"
   },
   {
    "duration": 3771,
    "start_time": "2023-04-20T15:11:40.411Z"
   },
   {
    "duration": 2549,
    "start_time": "2023-04-20T15:11:46.906Z"
   },
   {
    "duration": 23,
    "start_time": "2023-04-20T15:11:50.873Z"
   },
   {
    "duration": 245,
    "start_time": "2023-04-20T15:11:54.134Z"
   },
   {
    "duration": 3,
    "start_time": "2023-04-20T15:11:55.570Z"
   },
   {
    "duration": 3,
    "start_time": "2023-04-20T15:12:28.736Z"
   },
   {
    "duration": 3,
    "start_time": "2023-04-20T15:12:51.000Z"
   },
   {
    "duration": 4,
    "start_time": "2023-04-20T15:13:00.500Z"
   },
   {
    "duration": 40,
    "start_time": "2023-04-20T15:13:12.759Z"
   },
   {
    "duration": 4,
    "start_time": "2023-04-20T15:13:53.526Z"
   },
   {
    "duration": 1090083,
    "start_time": "2023-04-20T15:14:05.303Z"
   },
   {
    "duration": 14,
    "start_time": "2023-04-20T15:32:34.503Z"
   },
   {
    "duration": 4,
    "start_time": "2023-04-20T15:32:37.273Z"
   },
   {
    "duration": 47,
    "start_time": "2023-04-20T15:32:38.500Z"
   },
   {
    "duration": 3,
    "start_time": "2023-04-20T15:32:39.729Z"
   },
   {
    "duration": 7,
    "start_time": "2023-04-20T15:32:40.299Z"
   },
   {
    "duration": 4,
    "start_time": "2023-04-20T15:32:40.782Z"
   },
   {
    "duration": 5973,
    "start_time": "2023-04-20T15:32:41.249Z"
   },
   {
    "duration": 3,
    "start_time": "2023-04-20T15:32:47.224Z"
   },
   {
    "duration": 18,
    "start_time": "2023-04-20T15:32:47.229Z"
   },
   {
    "duration": 1861,
    "start_time": "2023-04-20T15:32:47.249Z"
   },
   {
    "duration": 3,
    "start_time": "2023-04-20T15:32:49.111Z"
   },
   {
    "duration": 12,
    "start_time": "2023-04-20T15:32:49.117Z"
   },
   {
    "duration": 3,
    "start_time": "2023-04-20T15:33:44.008Z"
   },
   {
    "duration": 13,
    "start_time": "2023-04-20T15:33:46.288Z"
   },
   {
    "duration": 295392,
    "start_time": "2023-04-20T15:33:47.208Z"
   },
   {
    "duration": 70244,
    "start_time": "2023-04-20T15:38:54.870Z"
   },
   {
    "duration": 27,
    "start_time": "2023-04-20T15:40:24.833Z"
   },
   {
    "duration": 371,
    "start_time": "2023-04-20T15:43:04.950Z"
   },
   {
    "duration": 3,
    "start_time": "2023-04-20T15:43:49.739Z"
   },
   {
    "duration": 103491,
    "start_time": "2023-04-20T15:43:51.869Z"
   },
   {
    "duration": 1131,
    "start_time": "2023-04-20T15:46:24.803Z"
   },
   {
    "duration": 492,
    "start_time": "2023-04-20T15:46:44.172Z"
   },
   {
    "duration": 5,
    "start_time": "2023-04-20T15:46:57.042Z"
   },
   {
    "duration": 158172,
    "start_time": "2023-04-20T15:46:58.914Z"
   },
   {
    "duration": 1203,
    "start_time": "2023-04-20T15:51:07.398Z"
   },
   {
    "duration": 498,
    "start_time": "2023-04-20T15:51:10.733Z"
   },
   {
    "duration": 4,
    "start_time": "2023-04-20T15:51:40.524Z"
   },
   {
    "duration": 257659,
    "start_time": "2023-04-20T15:51:42.932Z"
   },
   {
    "duration": 1345,
    "start_time": "2023-04-20T15:56:04.729Z"
   },
   {
    "duration": 484,
    "start_time": "2023-04-20T15:56:21.293Z"
   },
   {
    "duration": 3,
    "start_time": "2023-04-20T15:56:56.740Z"
   },
   {
    "duration": 54,
    "start_time": "2023-04-20T15:58:55.989Z"
   },
   {
    "duration": 2271,
    "start_time": "2023-04-20T16:19:27.604Z"
   },
   {
    "duration": 1796,
    "start_time": "2023-04-20T16:19:59.430Z"
   },
   {
    "duration": 16865,
    "start_time": "2023-04-20T16:20:03.901Z"
   },
   {
    "duration": 4114,
    "start_time": "2023-04-20T16:21:58.505Z"
   },
   {
    "duration": 2564,
    "start_time": "2023-04-20T16:22:05.037Z"
   },
   {
    "duration": 19,
    "start_time": "2023-04-20T16:22:51.700Z"
   },
   {
    "duration": 241,
    "start_time": "2023-04-20T16:22:53.904Z"
   },
   {
    "duration": 3,
    "start_time": "2023-04-20T16:22:55.543Z"
   },
   {
    "duration": 3,
    "start_time": "2023-04-20T16:23:01.141Z"
   },
   {
    "duration": 4,
    "start_time": "2023-04-20T16:23:02.450Z"
   },
   {
    "duration": 1052931,
    "start_time": "2023-04-20T16:23:04.026Z"
   },
   {
    "duration": 13,
    "start_time": "2023-04-20T16:41:09.986Z"
   },
   {
    "duration": 3,
    "start_time": "2023-04-20T16:41:14.847Z"
   },
   {
    "duration": 33,
    "start_time": "2023-04-20T16:41:16.311Z"
   },
   {
    "duration": 3,
    "start_time": "2023-04-20T16:41:18.396Z"
   },
   {
    "duration": 9,
    "start_time": "2023-04-20T16:41:18.886Z"
   },
   {
    "duration": 3,
    "start_time": "2023-04-20T16:41:19.305Z"
   },
   {
    "duration": 5451,
    "start_time": "2023-04-20T16:41:19.753Z"
   },
   {
    "duration": 3,
    "start_time": "2023-04-20T16:41:25.206Z"
   },
   {
    "duration": 8,
    "start_time": "2023-04-20T16:41:25.211Z"
   },
   {
    "duration": 1704,
    "start_time": "2023-04-20T16:41:25.222Z"
   },
   {
    "duration": 3,
    "start_time": "2023-04-20T16:41:26.928Z"
   },
   {
    "duration": 13,
    "start_time": "2023-04-20T16:41:26.932Z"
   },
   {
    "duration": 6336,
    "start_time": "2023-04-20T16:42:04.184Z"
   },
   {
    "duration": 2,
    "start_time": "2023-04-20T16:42:17.229Z"
   },
   {
    "duration": 1924224,
    "start_time": "2023-04-20T16:42:30.086Z"
   },
   {
    "duration": 3,
    "start_time": "2023-04-20T17:23:40.008Z"
   },
   {
    "duration": 474857,
    "start_time": "2023-04-20T17:23:41.872Z"
   },
   {
    "duration": 1384,
    "start_time": "2023-04-20T17:32:16.037Z"
   },
   {
    "duration": 506,
    "start_time": "2023-04-20T17:32:36.971Z"
   },
   {
    "duration": 3,
    "start_time": "2023-04-20T17:32:59.214Z"
   },
   {
    "duration": 3,
    "start_time": "2023-04-20T17:33:05.750Z"
   },
   {
    "duration": 3,
    "start_time": "2023-04-20T17:33:09.486Z"
   },
   {
    "duration": 3,
    "start_time": "2023-04-20T17:33:12.277Z"
   },
   {
    "duration": 268188,
    "start_time": "2023-04-20T17:33:14.357Z"
   },
   {
    "duration": 1288,
    "start_time": "2023-04-20T17:38:13.606Z"
   },
   {
    "duration": 614,
    "start_time": "2023-04-20T17:38:28.770Z"
   },
   {
    "duration": 51,
    "start_time": "2023-04-20T17:47:41.056Z"
   },
   {
    "duration": 6,
    "start_time": "2023-04-20T17:47:47.981Z"
   },
   {
    "duration": 2785,
    "start_time": "2023-04-21T05:32:28.830Z"
   },
   {
    "duration": 11403,
    "start_time": "2023-04-21T05:33:41.573Z"
   },
   {
    "duration": 3675,
    "start_time": "2023-04-21T05:33:54.606Z"
   },
   {
    "duration": 2873,
    "start_time": "2023-04-21T05:34:13.866Z"
   },
   {
    "duration": 18,
    "start_time": "2023-04-21T05:35:19.322Z"
   },
   {
    "duration": 45,
    "start_time": "2023-04-21T05:35:48.858Z"
   },
   {
    "duration": 259,
    "start_time": "2023-04-21T05:36:03.363Z"
   },
   {
    "duration": 3,
    "start_time": "2023-04-21T05:36:25.667Z"
   },
   {
    "duration": 2,
    "start_time": "2023-04-21T05:43:34.325Z"
   },
   {
    "duration": 5,
    "start_time": "2023-04-21T05:45:25.993Z"
   },
   {
    "duration": 1005398,
    "start_time": "2023-04-21T05:45:35.241Z"
   },
   {
    "duration": 38,
    "start_time": "2023-04-21T06:06:31.551Z"
   },
   {
    "duration": 4,
    "start_time": "2023-04-21T06:07:07.718Z"
   },
   {
    "duration": 36,
    "start_time": "2023-04-21T06:07:09.720Z"
   },
   {
    "duration": 6,
    "start_time": "2023-04-21T06:07:13.512Z"
   },
   {
    "duration": 8,
    "start_time": "2023-04-21T06:07:14.949Z"
   },
   {
    "duration": 3,
    "start_time": "2023-04-21T06:07:23.173Z"
   },
   {
    "duration": 6186,
    "start_time": "2023-04-21T06:07:24.651Z"
   },
   {
    "duration": 11,
    "start_time": "2023-04-21T06:07:54.406Z"
   },
   {
    "duration": 3,
    "start_time": "2023-04-21T06:08:19.704Z"
   },
   {
    "duration": 3,
    "start_time": "2023-04-21T06:08:25.302Z"
   },
   {
    "duration": 1851,
    "start_time": "2023-04-21T06:08:28.453Z"
   },
   {
    "duration": 3,
    "start_time": "2023-04-21T06:08:32.422Z"
   },
   {
    "duration": 5,
    "start_time": "2023-04-21T06:08:48.417Z"
   },
   {
    "duration": 3,
    "start_time": "2023-04-21T06:08:49.710Z"
   },
   {
    "duration": 10,
    "start_time": "2023-04-21T06:09:08.821Z"
   },
   {
    "duration": 9,
    "start_time": "2023-04-21T06:10:33.247Z"
   },
   {
    "duration": 3,
    "start_time": "2023-04-21T06:12:04.451Z"
   },
   {
    "duration": 293997,
    "start_time": "2023-04-21T06:12:14.508Z"
   },
   {
    "duration": 2199617,
    "start_time": "2023-04-21T06:19:08.564Z"
   },
   {
    "duration": 4831910,
    "start_time": "2023-04-21T07:02:02.812Z"
   },
   {
    "duration": 9045132,
    "start_time": "2023-04-21T08:59:00.342Z"
   },
   {
    "duration": 3,
    "start_time": "2023-04-21T11:36:16.352Z"
   },
   {
    "duration": 71557,
    "start_time": "2023-04-21T11:36:22.128Z"
   },
   {
    "duration": 19,
    "start_time": "2023-04-21T11:37:33.687Z"
   },
   {
    "duration": 24,
    "start_time": "2023-04-21T11:37:42.044Z"
   },
   {
    "duration": 54,
    "start_time": "2023-04-21T11:42:06.170Z"
   },
   {
    "duration": 27,
    "start_time": "2023-04-21T11:42:13.765Z"
   },
   {
    "duration": 225,
    "start_time": "2023-04-21T11:59:28.374Z"
   }
  ],
  "kernelspec": {
   "display_name": "Python 3 (ipykernel)",
   "language": "python",
   "name": "python3"
  },
  "language_info": {
   "codemirror_mode": {
    "name": "ipython",
    "version": 3
   },
   "file_extension": ".py",
   "mimetype": "text/x-python",
   "name": "python",
   "nbconvert_exporter": "python",
   "pygments_lexer": "ipython3",
   "version": "3.8.10"
  },
  "toc": {
   "base_numbering": 1,
   "nav_menu": {},
   "number_sections": true,
   "sideBar": true,
   "skip_h1_title": true,
   "title_cell": "Содержание",
   "title_sidebar": "Contents",
   "toc_cell": true,
   "toc_position": {
    "height": "calc(100% - 180px)",
    "left": "10px",
    "top": "150px",
    "width": "302.391px"
   },
   "toc_section_display": true,
   "toc_window_display": true
  }
 },
 "nbformat": 4,
 "nbformat_minor": 2
}
